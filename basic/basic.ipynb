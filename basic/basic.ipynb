{
 "cells": [
  {
   "cell_type": "markdown",
   "metadata": {
    "Collapsed": "false"
   },
   "source": [
    "# Basic example\r\n"
   ]
  },
  {
   "cell_type": "markdown",
   "metadata": {
    "Collapsed": "false"
   },
   "source": [
    "This example contains the most commonly used objects, attributes, functions and commands for a basic SHOP model, in addition to examples of how to review and plot input data and results. \r\n",
    "\r\n",
    "It is not dependent on any other data sources such as ASCII files or spreadsheets, as all input data remain intact in the notebook (or Python code) itself, and is fully dependent on the API and pyshop for interacting with SHOP.\r\n",
    "\r\n",
    "The example watercourse consist of a simple SHOP model with two reservoirs and two plants which is optimized over the span of three days. \r\n",
    "\r\n",
    "We will show how to import all necessary packages, settings and data, create a SHOP instance and add all needed objects and populate them with data, before we run SHOP with a selection of commands and review the results in the end.\r\n",
    "\r\n",
    "While the model in this example is quite simple, it can serve as a good reference when designing your own models. It illustrates an intuitive way of designing models in PyShop by incrementally initializing new objects like reservoirs, plants, generators and markets, setting their key attributes before connecting them together into the a desired topology. The model is then optimized, before the results are retrieved and presented through plots."
   ]
  },
  {
   "cell_type": "markdown",
   "metadata": {
    "Collapsed": "false"
   },
   "source": [
    "## Imports and settings"
   ]
  },
  {
   "cell_type": "markdown",
   "metadata": {
    "Collapsed": "false"
   },
   "source": [
    "The first thing we do is to import the needed packages. You can import whichever packages you like, however we use the following ones for this example:\r\n",
    "\r\n",
    "* Pandas for structuring our data into dataframes\r\n",
    "* Cufflinks and Plotly for dynamic graph plotting\r\n",
    "* Pyshop in order to create a SHOP session"
   ]
  },
  {
   "cell_type": "code",
   "execution_count": 1,
   "metadata": {
    "Collapsed": "false"
   },
   "outputs": [],
   "source": [
    "import pandas as pd\r\n",
    "import cufflinks as cf\r\n",
    "from cufflinks import tools\r\n",
    "import plotly.offline as py\r\n",
    "import plotly.graph_objs as go\r\n",
    "import plotly.express as px\r\n",
    "from plotly.subplots import make_subplots\r\n",
    "from pyshop import ShopSession"
   ]
  },
  {
   "cell_type": "markdown",
   "metadata": {
    "Collapsed": "false"
   },
   "source": [
    "Additionally, we set Cufflinks and Plotly to an offline state, only usable in this notebook/environment, without any cloud connectivity:"
   ]
  },
  {
   "cell_type": "code",
   "execution_count": 2,
   "metadata": {
    "Collapsed": "false"
   },
   "outputs": [
    {
     "data": {
      "text/html": [
       "        <script type=\"text/javascript\">\n",
       "        window.PlotlyConfig = {MathJaxConfig: 'local'};\n",
       "        if (window.MathJax) {MathJax.Hub.Config({SVG: {font: \"STIX-Web\"}});}\n",
       "        if (typeof require !== 'undefined') {\n",
       "        require.undef(\"plotly\");\n",
       "        requirejs.config({\n",
       "            paths: {\n",
       "                'plotly': ['https://cdn.plot.ly/plotly-2.4.2.min']\n",
       "            }\n",
       "        });\n",
       "        require(['plotly'], function(Plotly) {\n",
       "            window._Plotly = Plotly;\n",
       "        });\n",
       "        }\n",
       "        </script>\n",
       "        "
      ]
     },
     "metadata": {},
     "output_type": "display_data"
    }
   ],
   "source": [
    "cf.go_offline()"
   ]
  },
  {
   "cell_type": "markdown",
   "metadata": {
    "Collapsed": "false"
   },
   "source": [
    "## Instancing SHOP"
   ]
  },
  {
   "cell_type": "markdown",
   "metadata": {
    "Collapsed": "false"
   },
   "source": [
    "In order to have SHOP receive our inputs, run the model we create and give us results, we need to create an active, running SHOP session.\r\n",
    "\r\n",
    "You may create multiple SHOP sessions simultaneously if needed."
   ]
  },
  {
   "cell_type": "code",
   "execution_count": 3,
   "metadata": {
    "Collapsed": "false"
   },
   "outputs": [],
   "source": [
    "# Creating a new SHOP session to the instance 'shop'\r\n",
    "shop = ShopSession()"
   ]
  },
  {
   "cell_type": "markdown",
   "metadata": {
    "Collapsed": "false"
   },
   "source": [
    "We can also check the current versions of SHOP and its solvers."
   ]
  },
  {
   "cell_type": "code",
   "execution_count": 4,
   "metadata": {
    "Collapsed": "false"
   },
   "outputs": [
    {
     "data": {
      "text/plain": [
       "'14.1.0.0 Cplex 20.1.0 Gurobi 7.5 OSI/CBC 2.9 2021-11-03'"
      ]
     },
     "execution_count": 4,
     "metadata": {},
     "output_type": "execute_result"
    }
   ],
   "source": [
    "# Writing out the current version of SHOP and its solvers\r\n",
    "shop.shop_api.GetVersionString()"
   ]
  },
  {
   "cell_type": "markdown",
   "metadata": {
    "Collapsed": "false"
   },
   "source": [
    "## Setting time resolutions for the model"
   ]
  },
  {
   "cell_type": "markdown",
   "metadata": {
    "Collapsed": "false"
   },
   "source": [
    "We set the time resolution for the model ourselves, as we generate all input as we go. The start and end time are important, in addition to the resolution of the time steps."
   ]
  },
  {
   "cell_type": "code",
   "execution_count": 5,
   "metadata": {
    "Collapsed": "false"
   },
   "outputs": [],
   "source": [
    "# Setting the start time of the model\r\n",
    "starttime = pd.Timestamp('2018-01-23 00:00:00')\r\n",
    "\r\n",
    "# Setting the end time of the model\r\n",
    "endtime = pd.Timestamp('2018-01-26')\r\n",
    "\r\n",
    "# Setting the start and end time to the shop instance, and defining the time unit\r\n",
    "shop.set_time_resolution(starttime=starttime, endtime=endtime, timeunit=\"hour\", timeresolution=pd.Series(index=[starttime],data=[1]))"
   ]
  },
  {
   "cell_type": "markdown",
   "metadata": {
    "Collapsed": "false"
   },
   "source": [
    "## Adding topology parameters"
   ]
  },
  {
   "cell_type": "markdown",
   "metadata": {
    "Collapsed": "false"
   },
   "source": [
    "In this example we define the entire topology and generate all its parameters via Python and the API. Below are simple examples on how to define the most common topology objects needed in order to run SHOP."
   ]
  },
  {
   "cell_type": "markdown",
   "metadata": {
    "Collapsed": "false"
   },
   "source": [
    "### Reservoirs"
   ]
  },
  {
   "cell_type": "markdown",
   "metadata": {
    "Collapsed": "false"
   },
   "source": [
    "First, we start of by creating our reservoir objects. It is possible to just execute the function, or we can instance them. The latter is preferred, as the syntax for adding attributes to objects become shorter, in addition to it being handy."
   ]
  },
  {
   "cell_type": "code",
   "execution_count": 6,
   "metadata": {
    "Collapsed": "false"
   },
   "outputs": [],
   "source": [
    "# Add reservoir objects to the model and instancing them\r\n",
    "rsv1 = shop.model.reservoir.add_object('Reservoir1')\r\n",
    "rsv2 = shop.model.reservoir.add_object('Reservoir2')\r\n",
    "# Alternatively, only the right hand side can be executed, however it is often nice to refer to instances later on"
   ]
  },
  {
   "cell_type": "markdown",
   "metadata": {
    "Collapsed": "false"
   },
   "source": [
    "We can then verify that all reservoir objects are correctly added to the model instance:"
   ]
  },
  {
   "cell_type": "code",
   "execution_count": 7,
   "metadata": {
    "Collapsed": "false"
   },
   "outputs": [
    {
     "data": {
      "text/plain": [
       "['Reservoir1', 'Reservoir2']"
      ]
     },
     "execution_count": 7,
     "metadata": {},
     "output_type": "execute_result"
    }
   ],
   "source": [
    "shop.model.reservoir.get_object_names()"
   ]
  },
  {
   "cell_type": "markdown",
   "metadata": {
    "Collapsed": "false"
   },
   "source": [
    "Next, it is time to set the different parameters to the newly created objects, either via the instance, or directly through the function. Below are examples of both."
   ]
  },
  {
   "cell_type": "code",
   "execution_count": 8,
   "metadata": {
    "Collapsed": "false"
   },
   "outputs": [],
   "source": [
    "# Setting the maximum volume in Mm3 via the instance \r\n",
    "rsv1.max_vol.set(39)\r\n",
    "rsv2.max_vol.set(97.5)\r\n",
    "\r\n",
    "# Setting the LRL (Lowest Regulated Level) of the reservoir in masl via the instance \r\n",
    "rsv1.lrl.set(860)\r\n",
    "rsv2.lrl.set(650)\r\n",
    "\r\n",
    "# Setting the HRL (Highest Regulated Level) of the reservoir in masl by command\r\n",
    "shop.model.reservoir.Reservoir1.hrl.set(905)\r\n",
    "shop.model.reservoir.Reservoir2.hrl.set(679)"
   ]
  },
  {
   "cell_type": "markdown",
   "metadata": {
    "Collapsed": "false"
   },
   "source": [
    "We can then verify that these values have been stored correctly onto the object. We can either make a call to the instance, or execute the function directly."
   ]
  },
  {
   "cell_type": "code",
   "execution_count": 9,
   "metadata": {
    "Collapsed": "false"
   },
   "outputs": [
    {
     "name": "stdout",
     "output_type": "stream",
     "text": [
      "HRL of Reservoir 1:  905.0\n",
      "HRL of Reservoir 2:  679.0\n"
     ]
    }
   ],
   "source": [
    "# Using the instanced rsv1 to retrieve the HRL of the reservoir objects\r\n",
    "print(\"HRL of Reservoir 1: \",rsv1.hrl.get())\r\n",
    "print(\"HRL of Reservoir 2: \",rsv2.hrl.get())"
   ]
  },
  {
   "cell_type": "code",
   "execution_count": 10,
   "metadata": {
    "Collapsed": "false"
   },
   "outputs": [
    {
     "name": "stdout",
     "output_type": "stream",
     "text": [
      "LRL of Reservoir 1:  860.0\n",
      "LRL of Reservoir 2:  650.0\n"
     ]
    }
   ],
   "source": [
    "# Using the function directly to retrieve the LRL of Reservoir1\r\n",
    "print(\"LRL of Reservoir 1: \",shop.model.reservoir.Reservoir1.lrl.get())\r\n",
    "print(\"LRL of Reservoir 2: \",shop.model.reservoir.Reservoir2.lrl.get())"
   ]
  },
  {
   "cell_type": "markdown",
   "metadata": {
    "Collapsed": "false"
   },
   "source": [
    "We continue the process of setting all relevant attributes to the reservoir objects.\r\n",
    "!!!Ref. til I/O."
   ]
  },
  {
   "cell_type": "code",
   "execution_count": 11,
   "metadata": {
    "Collapsed": "false"
   },
   "outputs": [],
   "source": [
    "# Setting the stage storage curve, the relation between the reservoir volume (in Mm3) and the height of the reservoir (in masl)\r\n",
    "rsv1.vol_head.set(\r\n",
    "    pd.Series([860, 862, 864, 866, 870, 872, 874, 876, 878, 880, 882, 884, 886, 888, 890, 894, 896, 898, 902, 904, 905, 907], \r\n",
    "              index=[0, 0.91, 1.87, 2.88, 5.07, 6.27, 7.56, 8.91, 10.34, 11.87, 13.53, 15.27, 17.11, 19.05, 21.1, 25.65, 27.96, 30.36, 35.18, 37.68, 39, 41.66], name=0))\r\n",
    "rsv2.vol_head.set(\r\n",
    "    pd.Series([650, 651.28, 652.55, 653.83, 656.38, 657.66, 658.94, 660.21, 661.49, 662.77, 664.04, 665.32, 666.6, 667.87, 669.15, 671.70, 672.98, 674.26, 676.81, 678.09, 679, 680], \r\n",
    "              index=[0, 2.275, 4.675, 7.2, 12.675, 15.675, 18.9, 22.275, 25.85, 29.675, 33.825, 38.175, 42.775, 47.625, 52.75, 64.125, 69.9, 75.9, 87.95, 94.2, 97.5, 104.15], name=0))"
   ]
  },
  {
   "cell_type": "code",
   "execution_count": 12,
   "metadata": {
    "Collapsed": "false"
   },
   "outputs": [],
   "source": [
    "# Setting the overflow description, the (linear) relation between spillage (in m3/s) and masl.\r\n",
    "rsv1.flow_descr.set(pd.Series([0, 132], index=[906, 907], name=0))\r\n",
    "rsv2.flow_descr.set(pd.Series([0, 132], index=[679, 680], name=0))\r\n",
    "\r\n",
    "# Inflow to the reservoir is an example of an attribute that can be set as a time series,using indexes that relate values to points in time\r\n",
    "rsv2.inflow.set(pd.Series([60], [starttime]))"
   ]
  },
  {
   "cell_type": "markdown",
   "metadata": {
    "Collapsed": "false"
   },
   "source": [
    "In order to let the model know which initial conditions are set, i.e. the initial start reservoir levels, we need to define them."
   ]
  },
  {
   "cell_type": "code",
   "execution_count": 13,
   "metadata": {
    "Collapsed": "false"
   },
   "outputs": [],
   "source": [
    "# Setting the initial start reservoir height in masl\r\n",
    "rsv1.start_head.set(900)\r\n",
    "rsv2.start_head.set(670)"
   ]
  },
  {
   "cell_type": "markdown",
   "metadata": {
    "Collapsed": "false"
   },
   "source": [
    "We also define the endpoint descriptions (water values) for the reservoirs. The model needs these in order to compare the value of the water remaining in the reservoirs at the end of the period compared to the value of selling the water in the market given the market price."
   ]
  },
  {
   "cell_type": "code",
   "execution_count": 14,
   "metadata": {
    "Collapsed": "false"
   },
   "outputs": [],
   "source": [
    "# Setting the endpoint description (water value) to 'rsv1' in NOK/MWh\r\n",
    "rsv1.energy_value_input.set(30)\r\n",
    "# Setting the endpoint description (water value) to 'rsv2' in NOK/MWh\r\n",
    "rsv2.energy_value_input.set(10)"
   ]
  },
  {
   "cell_type": "markdown",
   "metadata": {
    "Collapsed": "false"
   },
   "source": [
    "Now let's review some of the input graphically. Data such as time series, XY-curves and DataFrames can be plotted with a single line of code using Cufflinks (.iplot).\r\n"
   ]
  },
  {
   "cell_type": "code",
   "execution_count": 15,
   "metadata": {
    "Collapsed": "false"
   },
   "outputs": [
    {
     "data": {
      "application/vnd.plotly.v1+json": {
       "config": {
        "linkText": "Export to plot.ly",
        "plotlyServerURL": "https://plot.ly",
        "showLink": true
       },
       "data": [
        {
         "line": {
          "color": "rgba(55, 128, 191, 1.0)",
          "dash": "solid",
          "shape": "linear",
          "width": 1.3
         },
         "mode": "lines",
         "name": "0.0",
         "text": "",
         "type": "scatter",
         "x": [
          0,
          0.91,
          1.87,
          2.88,
          5.07,
          6.27,
          7.56,
          8.91,
          10.34,
          11.87,
          13.53,
          15.27,
          17.11,
          19.05,
          21.1,
          25.65,
          27.96,
          30.36,
          35.18,
          37.68,
          39,
          41.66
         ],
         "y": [
          860,
          862,
          864,
          866,
          870,
          872,
          874,
          876,
          878,
          880,
          882,
          884,
          886,
          888,
          890,
          894,
          896,
          898,
          902,
          904,
          905,
          907
         ]
        }
       ],
       "layout": {
        "autosize": true,
        "legend": {
         "bgcolor": "#F5F6F9",
         "font": {
          "color": "#4D5663"
         }
        },
        "paper_bgcolor": "#F5F6F9",
        "plot_bgcolor": "#F5F6F9",
        "template": {
         "data": {
          "bar": [
           {
            "error_x": {
             "color": "#2a3f5f"
            },
            "error_y": {
             "color": "#2a3f5f"
            },
            "marker": {
             "line": {
              "color": "#E5ECF6",
              "width": 0.5
             },
             "pattern": {
              "fillmode": "overlay",
              "size": 10,
              "solidity": 0.2
             }
            },
            "type": "bar"
           }
          ],
          "barpolar": [
           {
            "marker": {
             "line": {
              "color": "#E5ECF6",
              "width": 0.5
             },
             "pattern": {
              "fillmode": "overlay",
              "size": 10,
              "solidity": 0.2
             }
            },
            "type": "barpolar"
           }
          ],
          "carpet": [
           {
            "aaxis": {
             "endlinecolor": "#2a3f5f",
             "gridcolor": "white",
             "linecolor": "white",
             "minorgridcolor": "white",
             "startlinecolor": "#2a3f5f"
            },
            "baxis": {
             "endlinecolor": "#2a3f5f",
             "gridcolor": "white",
             "linecolor": "white",
             "minorgridcolor": "white",
             "startlinecolor": "#2a3f5f"
            },
            "type": "carpet"
           }
          ],
          "choropleth": [
           {
            "colorbar": {
             "outlinewidth": 0,
             "ticks": ""
            },
            "type": "choropleth"
           }
          ],
          "contour": [
           {
            "colorbar": {
             "outlinewidth": 0,
             "ticks": ""
            },
            "colorscale": [
             [
              0,
              "#0d0887"
             ],
             [
              0.1111111111111111,
              "#46039f"
             ],
             [
              0.2222222222222222,
              "#7201a8"
             ],
             [
              0.3333333333333333,
              "#9c179e"
             ],
             [
              0.4444444444444444,
              "#bd3786"
             ],
             [
              0.5555555555555556,
              "#d8576b"
             ],
             [
              0.6666666666666666,
              "#ed7953"
             ],
             [
              0.7777777777777778,
              "#fb9f3a"
             ],
             [
              0.8888888888888888,
              "#fdca26"
             ],
             [
              1,
              "#f0f921"
             ]
            ],
            "type": "contour"
           }
          ],
          "contourcarpet": [
           {
            "colorbar": {
             "outlinewidth": 0,
             "ticks": ""
            },
            "type": "contourcarpet"
           }
          ],
          "heatmap": [
           {
            "colorbar": {
             "outlinewidth": 0,
             "ticks": ""
            },
            "colorscale": [
             [
              0,
              "#0d0887"
             ],
             [
              0.1111111111111111,
              "#46039f"
             ],
             [
              0.2222222222222222,
              "#7201a8"
             ],
             [
              0.3333333333333333,
              "#9c179e"
             ],
             [
              0.4444444444444444,
              "#bd3786"
             ],
             [
              0.5555555555555556,
              "#d8576b"
             ],
             [
              0.6666666666666666,
              "#ed7953"
             ],
             [
              0.7777777777777778,
              "#fb9f3a"
             ],
             [
              0.8888888888888888,
              "#fdca26"
             ],
             [
              1,
              "#f0f921"
             ]
            ],
            "type": "heatmap"
           }
          ],
          "heatmapgl": [
           {
            "colorbar": {
             "outlinewidth": 0,
             "ticks": ""
            },
            "colorscale": [
             [
              0,
              "#0d0887"
             ],
             [
              0.1111111111111111,
              "#46039f"
             ],
             [
              0.2222222222222222,
              "#7201a8"
             ],
             [
              0.3333333333333333,
              "#9c179e"
             ],
             [
              0.4444444444444444,
              "#bd3786"
             ],
             [
              0.5555555555555556,
              "#d8576b"
             ],
             [
              0.6666666666666666,
              "#ed7953"
             ],
             [
              0.7777777777777778,
              "#fb9f3a"
             ],
             [
              0.8888888888888888,
              "#fdca26"
             ],
             [
              1,
              "#f0f921"
             ]
            ],
            "type": "heatmapgl"
           }
          ],
          "histogram": [
           {
            "marker": {
             "pattern": {
              "fillmode": "overlay",
              "size": 10,
              "solidity": 0.2
             }
            },
            "type": "histogram"
           }
          ],
          "histogram2d": [
           {
            "colorbar": {
             "outlinewidth": 0,
             "ticks": ""
            },
            "colorscale": [
             [
              0,
              "#0d0887"
             ],
             [
              0.1111111111111111,
              "#46039f"
             ],
             [
              0.2222222222222222,
              "#7201a8"
             ],
             [
              0.3333333333333333,
              "#9c179e"
             ],
             [
              0.4444444444444444,
              "#bd3786"
             ],
             [
              0.5555555555555556,
              "#d8576b"
             ],
             [
              0.6666666666666666,
              "#ed7953"
             ],
             [
              0.7777777777777778,
              "#fb9f3a"
             ],
             [
              0.8888888888888888,
              "#fdca26"
             ],
             [
              1,
              "#f0f921"
             ]
            ],
            "type": "histogram2d"
           }
          ],
          "histogram2dcontour": [
           {
            "colorbar": {
             "outlinewidth": 0,
             "ticks": ""
            },
            "colorscale": [
             [
              0,
              "#0d0887"
             ],
             [
              0.1111111111111111,
              "#46039f"
             ],
             [
              0.2222222222222222,
              "#7201a8"
             ],
             [
              0.3333333333333333,
              "#9c179e"
             ],
             [
              0.4444444444444444,
              "#bd3786"
             ],
             [
              0.5555555555555556,
              "#d8576b"
             ],
             [
              0.6666666666666666,
              "#ed7953"
             ],
             [
              0.7777777777777778,
              "#fb9f3a"
             ],
             [
              0.8888888888888888,
              "#fdca26"
             ],
             [
              1,
              "#f0f921"
             ]
            ],
            "type": "histogram2dcontour"
           }
          ],
          "mesh3d": [
           {
            "colorbar": {
             "outlinewidth": 0,
             "ticks": ""
            },
            "type": "mesh3d"
           }
          ],
          "parcoords": [
           {
            "line": {
             "colorbar": {
              "outlinewidth": 0,
              "ticks": ""
             }
            },
            "type": "parcoords"
           }
          ],
          "pie": [
           {
            "automargin": true,
            "type": "pie"
           }
          ],
          "scatter": [
           {
            "marker": {
             "colorbar": {
              "outlinewidth": 0,
              "ticks": ""
             }
            },
            "type": "scatter"
           }
          ],
          "scatter3d": [
           {
            "line": {
             "colorbar": {
              "outlinewidth": 0,
              "ticks": ""
             }
            },
            "marker": {
             "colorbar": {
              "outlinewidth": 0,
              "ticks": ""
             }
            },
            "type": "scatter3d"
           }
          ],
          "scattercarpet": [
           {
            "marker": {
             "colorbar": {
              "outlinewidth": 0,
              "ticks": ""
             }
            },
            "type": "scattercarpet"
           }
          ],
          "scattergeo": [
           {
            "marker": {
             "colorbar": {
              "outlinewidth": 0,
              "ticks": ""
             }
            },
            "type": "scattergeo"
           }
          ],
          "scattergl": [
           {
            "marker": {
             "colorbar": {
              "outlinewidth": 0,
              "ticks": ""
             }
            },
            "type": "scattergl"
           }
          ],
          "scattermapbox": [
           {
            "marker": {
             "colorbar": {
              "outlinewidth": 0,
              "ticks": ""
             }
            },
            "type": "scattermapbox"
           }
          ],
          "scatterpolar": [
           {
            "marker": {
             "colorbar": {
              "outlinewidth": 0,
              "ticks": ""
             }
            },
            "type": "scatterpolar"
           }
          ],
          "scatterpolargl": [
           {
            "marker": {
             "colorbar": {
              "outlinewidth": 0,
              "ticks": ""
             }
            },
            "type": "scatterpolargl"
           }
          ],
          "scatterternary": [
           {
            "marker": {
             "colorbar": {
              "outlinewidth": 0,
              "ticks": ""
             }
            },
            "type": "scatterternary"
           }
          ],
          "surface": [
           {
            "colorbar": {
             "outlinewidth": 0,
             "ticks": ""
            },
            "colorscale": [
             [
              0,
              "#0d0887"
             ],
             [
              0.1111111111111111,
              "#46039f"
             ],
             [
              0.2222222222222222,
              "#7201a8"
             ],
             [
              0.3333333333333333,
              "#9c179e"
             ],
             [
              0.4444444444444444,
              "#bd3786"
             ],
             [
              0.5555555555555556,
              "#d8576b"
             ],
             [
              0.6666666666666666,
              "#ed7953"
             ],
             [
              0.7777777777777778,
              "#fb9f3a"
             ],
             [
              0.8888888888888888,
              "#fdca26"
             ],
             [
              1,
              "#f0f921"
             ]
            ],
            "type": "surface"
           }
          ],
          "table": [
           {
            "cells": {
             "fill": {
              "color": "#EBF0F8"
             },
             "line": {
              "color": "white"
             }
            },
            "header": {
             "fill": {
              "color": "#C8D4E3"
             },
             "line": {
              "color": "white"
             }
            },
            "type": "table"
           }
          ]
         },
         "layout": {
          "annotationdefaults": {
           "arrowcolor": "#2a3f5f",
           "arrowhead": 0,
           "arrowwidth": 1
          },
          "autotypenumbers": "strict",
          "coloraxis": {
           "colorbar": {
            "outlinewidth": 0,
            "ticks": ""
           }
          },
          "colorscale": {
           "diverging": [
            [
             0,
             "#8e0152"
            ],
            [
             0.1,
             "#c51b7d"
            ],
            [
             0.2,
             "#de77ae"
            ],
            [
             0.3,
             "#f1b6da"
            ],
            [
             0.4,
             "#fde0ef"
            ],
            [
             0.5,
             "#f7f7f7"
            ],
            [
             0.6,
             "#e6f5d0"
            ],
            [
             0.7,
             "#b8e186"
            ],
            [
             0.8,
             "#7fbc41"
            ],
            [
             0.9,
             "#4d9221"
            ],
            [
             1,
             "#276419"
            ]
           ],
           "sequential": [
            [
             0,
             "#0d0887"
            ],
            [
             0.1111111111111111,
             "#46039f"
            ],
            [
             0.2222222222222222,
             "#7201a8"
            ],
            [
             0.3333333333333333,
             "#9c179e"
            ],
            [
             0.4444444444444444,
             "#bd3786"
            ],
            [
             0.5555555555555556,
             "#d8576b"
            ],
            [
             0.6666666666666666,
             "#ed7953"
            ],
            [
             0.7777777777777778,
             "#fb9f3a"
            ],
            [
             0.8888888888888888,
             "#fdca26"
            ],
            [
             1,
             "#f0f921"
            ]
           ],
           "sequentialminus": [
            [
             0,
             "#0d0887"
            ],
            [
             0.1111111111111111,
             "#46039f"
            ],
            [
             0.2222222222222222,
             "#7201a8"
            ],
            [
             0.3333333333333333,
             "#9c179e"
            ],
            [
             0.4444444444444444,
             "#bd3786"
            ],
            [
             0.5555555555555556,
             "#d8576b"
            ],
            [
             0.6666666666666666,
             "#ed7953"
            ],
            [
             0.7777777777777778,
             "#fb9f3a"
            ],
            [
             0.8888888888888888,
             "#fdca26"
            ],
            [
             1,
             "#f0f921"
            ]
           ]
          },
          "colorway": [
           "#636efa",
           "#EF553B",
           "#00cc96",
           "#ab63fa",
           "#FFA15A",
           "#19d3f3",
           "#FF6692",
           "#B6E880",
           "#FF97FF",
           "#FECB52"
          ],
          "font": {
           "color": "#2a3f5f"
          },
          "geo": {
           "bgcolor": "white",
           "lakecolor": "white",
           "landcolor": "#E5ECF6",
           "showlakes": true,
           "showland": true,
           "subunitcolor": "white"
          },
          "hoverlabel": {
           "align": "left"
          },
          "hovermode": "closest",
          "mapbox": {
           "style": "light"
          },
          "paper_bgcolor": "white",
          "plot_bgcolor": "#E5ECF6",
          "polar": {
           "angularaxis": {
            "gridcolor": "white",
            "linecolor": "white",
            "ticks": ""
           },
           "bgcolor": "#E5ECF6",
           "radialaxis": {
            "gridcolor": "white",
            "linecolor": "white",
            "ticks": ""
           }
          },
          "scene": {
           "xaxis": {
            "backgroundcolor": "#E5ECF6",
            "gridcolor": "white",
            "gridwidth": 2,
            "linecolor": "white",
            "showbackground": true,
            "ticks": "",
            "zerolinecolor": "white"
           },
           "yaxis": {
            "backgroundcolor": "#E5ECF6",
            "gridcolor": "white",
            "gridwidth": 2,
            "linecolor": "white",
            "showbackground": true,
            "ticks": "",
            "zerolinecolor": "white"
           },
           "zaxis": {
            "backgroundcolor": "#E5ECF6",
            "gridcolor": "white",
            "gridwidth": 2,
            "linecolor": "white",
            "showbackground": true,
            "ticks": "",
            "zerolinecolor": "white"
           }
          },
          "shapedefaults": {
           "line": {
            "color": "#2a3f5f"
           }
          },
          "ternary": {
           "aaxis": {
            "gridcolor": "white",
            "linecolor": "white",
            "ticks": ""
           },
           "baxis": {
            "gridcolor": "white",
            "linecolor": "white",
            "ticks": ""
           },
           "bgcolor": "#E5ECF6",
           "caxis": {
            "gridcolor": "white",
            "linecolor": "white",
            "ticks": ""
           }
          },
          "title": {
           "x": 0.05
          },
          "xaxis": {
           "automargin": true,
           "gridcolor": "white",
           "linecolor": "white",
           "ticks": "",
           "title": {
            "standoff": 15
           },
           "zerolinecolor": "white",
           "zerolinewidth": 2
          },
          "yaxis": {
           "automargin": true,
           "gridcolor": "white",
           "linecolor": "white",
           "ticks": "",
           "title": {
            "standoff": 15
           },
           "zerolinecolor": "white",
           "zerolinewidth": 2
          }
         }
        },
        "title": {
         "font": {
          "color": "#4D5663"
         },
         "text": "Volume/head relation of Reservoir1"
        },
        "xaxis": {
         "autorange": true,
         "gridcolor": "#E1E5ED",
         "range": [
          0,
          41.66
         ],
         "showgrid": true,
         "tickfont": {
          "color": "#4D5663"
         },
         "title": {
          "font": {
           "color": "#4D5663"
          },
          "text": "Mm3"
         },
         "type": "linear",
         "zerolinecolor": "#E1E5ED"
        },
        "yaxis": {
         "autorange": true,
         "gridcolor": "#E1E5ED",
         "range": [
          857.3888888888889,
          909.6111111111111
         ],
         "showgrid": true,
         "tickfont": {
          "color": "#4D5663"
         },
         "title": {
          "font": {
           "color": "#4D5663"
          },
          "text": "masl"
         },
         "type": "linear",
         "zerolinecolor": "#E1E5ED"
        }
       }
      },
      "image/png": "[encoded data removed]",
      "text/html": [
       "<div>                            <div id=\"30a02e02-af28-4e60-9452-129a2d8fb995\" class=\"plotly-graph-div\" style=\"height:525px; width:100%;\"></div>            <script type=\"text/javascript\">                require([\"plotly\"], function(Plotly) {                    window.PLOTLYENV=window.PLOTLYENV || {};\n",
       "                    window.PLOTLYENV.BASE_URL='https://plot.ly';                                    if (document.getElementById(\"30a02e02-af28-4e60-9452-129a2d8fb995\")) {                    Plotly.newPlot(                        \"30a02e02-af28-4e60-9452-129a2d8fb995\",                        [{\"line\":{\"color\":\"rgba(55, 128, 191, 1.0)\",\"dash\":\"solid\",\"shape\":\"linear\",\"width\":1.3},\"mode\":\"lines\",\"name\":\"0.0\",\"text\":\"\",\"type\":\"scatter\",\"x\":[0.0,0.91,1.87,2.88,5.07,6.27,7.56,8.91,10.34,11.87,13.53,15.27,17.11,19.05,21.1,25.65,27.96,30.36,35.18,37.68,39.0,41.66],\"y\":[860.0,862.0,864.0,866.0,870.0,872.0,874.0,876.0,878.0,880.0,882.0,884.0,886.0,888.0,890.0,894.0,896.0,898.0,902.0,904.0,905.0,907.0]}],                        {\"legend\":{\"bgcolor\":\"#F5F6F9\",\"font\":{\"color\":\"#4D5663\"}},\"paper_bgcolor\":\"#F5F6F9\",\"plot_bgcolor\":\"#F5F6F9\",\"template\":{\"data\":{\"bar\":[{\"error_x\":{\"color\":\"#2a3f5f\"},\"error_y\":{\"color\":\"#2a3f5f\"},\"marker\":{\"line\":{\"color\":\"#E5ECF6\",\"width\":0.5},\"pattern\":{\"fillmode\":\"overlay\",\"size\":10,\"solidity\":0.2}},\"type\":\"bar\"}],\"barpolar\":[{\"marker\":{\"line\":{\"color\":\"#E5ECF6\",\"width\":0.5},\"pattern\":{\"fillmode\":\"overlay\",\"size\":10,\"solidity\":0.2}},\"type\":\"barpolar\"}],\"carpet\":[{\"aaxis\":{\"endlinecolor\":\"#2a3f5f\",\"gridcolor\":\"white\",\"linecolor\":\"white\",\"minorgridcolor\":\"white\",\"startlinecolor\":\"#2a3f5f\"},\"baxis\":{\"endlinecolor\":\"#2a3f5f\",\"gridcolor\":\"white\",\"linecolor\":\"white\",\"minorgridcolor\":\"white\",\"startlinecolor\":\"#2a3f5f\"},\"type\":\"carpet\"}],\"choropleth\":[{\"colorbar\":{\"outlinewidth\":0,\"ticks\":\"\"},\"type\":\"choropleth\"}],\"contour\":[{\"colorbar\":{\"outlinewidth\":0,\"ticks\":\"\"},\"colorscale\":[[0.0,\"#0d0887\"],[0.1111111111111111,\"#46039f\"],[0.2222222222222222,\"#7201a8\"],[0.3333333333333333,\"#9c179e\"],[0.4444444444444444,\"#bd3786\"],[0.5555555555555556,\"#d8576b\"],[0.6666666666666666,\"#ed7953\"],[0.7777777777777778,\"#fb9f3a\"],[0.8888888888888888,\"#fdca26\"],[1.0,\"#f0f921\"]],\"type\":\"contour\"}],\"contourcarpet\":[{\"colorbar\":{\"outlinewidth\":0,\"ticks\":\"\"},\"type\":\"contourcarpet\"}],\"heatmap\":[{\"colorbar\":{\"outlinewidth\":0,\"ticks\":\"\"},\"colorscale\":[[0.0,\"#0d0887\"],[0.1111111111111111,\"#46039f\"],[0.2222222222222222,\"#7201a8\"],[0.3333333333333333,\"#9c179e\"],[0.4444444444444444,\"#bd3786\"],[0.5555555555555556,\"#d8576b\"],[0.6666666666666666,\"#ed7953\"],[0.7777777777777778,\"#fb9f3a\"],[0.8888888888888888,\"#fdca26\"],[1.0,\"#f0f921\"]],\"type\":\"heatmap\"}],\"heatmapgl\":[{\"colorbar\":{\"outlinewidth\":0,\"ticks\":\"\"},\"colorscale\":[[0.0,\"#0d0887\"],[0.1111111111111111,\"#46039f\"],[0.2222222222222222,\"#7201a8\"],[0.3333333333333333,\"#9c179e\"],[0.4444444444444444,\"#bd3786\"],[0.5555555555555556,\"#d8576b\"],[0.6666666666666666,\"#ed7953\"],[0.7777777777777778,\"#fb9f3a\"],[0.8888888888888888,\"#fdca26\"],[1.0,\"#f0f921\"]],\"type\":\"heatmapgl\"}],\"histogram\":[{\"marker\":{\"pattern\":{\"fillmode\":\"overlay\",\"size\":10,\"solidity\":0.2}},\"type\":\"histogram\"}],\"histogram2d\":[{\"colorbar\":{\"outlinewidth\":0,\"ticks\":\"\"},\"colorscale\":[[0.0,\"#0d0887\"],[0.1111111111111111,\"#46039f\"],[0.2222222222222222,\"#7201a8\"],[0.3333333333333333,\"#9c179e\"],[0.4444444444444444,\"#bd3786\"],[0.5555555555555556,\"#d8576b\"],[0.6666666666666666,\"#ed7953\"],[0.7777777777777778,\"#fb9f3a\"],[0.8888888888888888,\"#fdca26\"],[1.0,\"#f0f921\"]],\"type\":\"histogram2d\"}],\"histogram2dcontour\":[{\"colorbar\":{\"outlinewidth\":0,\"ticks\":\"\"},\"colorscale\":[[0.0,\"#0d0887\"],[0.1111111111111111,\"#46039f\"],[0.2222222222222222,\"#7201a8\"],[0.3333333333333333,\"#9c179e\"],[0.4444444444444444,\"#bd3786\"],[0.5555555555555556,\"#d8576b\"],[0.6666666666666666,\"#ed7953\"],[0.7777777777777778,\"#fb9f3a\"],[0.8888888888888888,\"#fdca26\"],[1.0,\"#f0f921\"]],\"type\":\"histogram2dcontour\"}],\"mesh3d\":[{\"colorbar\":{\"outlinewidth\":0,\"ticks\":\"\"},\"type\":\"mesh3d\"}],\"parcoords\":[{\"line\":{\"colorbar\":{\"outlinewidth\":0,\"ticks\":\"\"}},\"type\":\"parcoords\"}],\"pie\":[{\"automargin\":true,\"type\":\"pie\"}],\"scatter\":[{\"marker\":{\"colorbar\":{\"outlinewidth\":0,\"ticks\":\"\"}},\"type\":\"scatter\"}],\"scatter3d\":[{\"line\":{\"colorbar\":{\"outlinewidth\":0,\"ticks\":\"\"}},\"marker\":{\"colorbar\":{\"outlinewidth\":0,\"ticks\":\"\"}},\"type\":\"scatter3d\"}],\"scattercarpet\":[{\"marker\":{\"colorbar\":{\"outlinewidth\":0,\"ticks\":\"\"}},\"type\":\"scattercarpet\"}],\"scattergeo\":[{\"marker\":{\"colorbar\":{\"outlinewidth\":0,\"ticks\":\"\"}},\"type\":\"scattergeo\"}],\"scattergl\":[{\"marker\":{\"colorbar\":{\"outlinewidth\":0,\"ticks\":\"\"}},\"type\":\"scattergl\"}],\"scattermapbox\":[{\"marker\":{\"colorbar\":{\"outlinewidth\":0,\"ticks\":\"\"}},\"type\":\"scattermapbox\"}],\"scatterpolar\":[{\"marker\":{\"colorbar\":{\"outlinewidth\":0,\"ticks\":\"\"}},\"type\":\"scatterpolar\"}],\"scatterpolargl\":[{\"marker\":{\"colorbar\":{\"outlinewidth\":0,\"ticks\":\"\"}},\"type\":\"scatterpolargl\"}],\"scatterternary\":[{\"marker\":{\"colorbar\":{\"outlinewidth\":0,\"ticks\":\"\"}},\"type\":\"scatterternary\"}],\"surface\":[{\"colorbar\":{\"outlinewidth\":0,\"ticks\":\"\"},\"colorscale\":[[0.0,\"#0d0887\"],[0.1111111111111111,\"#46039f\"],[0.2222222222222222,\"#7201a8\"],[0.3333333333333333,\"#9c179e\"],[0.4444444444444444,\"#bd3786\"],[0.5555555555555556,\"#d8576b\"],[0.6666666666666666,\"#ed7953\"],[0.7777777777777778,\"#fb9f3a\"],[0.8888888888888888,\"#fdca26\"],[1.0,\"#f0f921\"]],\"type\":\"surface\"}],\"table\":[{\"cells\":{\"fill\":{\"color\":\"#EBF0F8\"},\"line\":{\"color\":\"white\"}},\"header\":{\"fill\":{\"color\":\"#C8D4E3\"},\"line\":{\"color\":\"white\"}},\"type\":\"table\"}]},\"layout\":{\"annotationdefaults\":{\"arrowcolor\":\"#2a3f5f\",\"arrowhead\":0,\"arrowwidth\":1},\"autotypenumbers\":\"strict\",\"coloraxis\":{\"colorbar\":{\"outlinewidth\":0,\"ticks\":\"\"}},\"colorscale\":{\"diverging\":[[0,\"#8e0152\"],[0.1,\"#c51b7d\"],[0.2,\"#de77ae\"],[0.3,\"#f1b6da\"],[0.4,\"#fde0ef\"],[0.5,\"#f7f7f7\"],[0.6,\"#e6f5d0\"],[0.7,\"#b8e186\"],[0.8,\"#7fbc41\"],[0.9,\"#4d9221\"],[1,\"#276419\"]],\"sequential\":[[0.0,\"#0d0887\"],[0.1111111111111111,\"#46039f\"],[0.2222222222222222,\"#7201a8\"],[0.3333333333333333,\"#9c179e\"],[0.4444444444444444,\"#bd3786\"],[0.5555555555555556,\"#d8576b\"],[0.6666666666666666,\"#ed7953\"],[0.7777777777777778,\"#fb9f3a\"],[0.8888888888888888,\"#fdca26\"],[1.0,\"#f0f921\"]],\"sequentialminus\":[[0.0,\"#0d0887\"],[0.1111111111111111,\"#46039f\"],[0.2222222222222222,\"#7201a8\"],[0.3333333333333333,\"#9c179e\"],[0.4444444444444444,\"#bd3786\"],[0.5555555555555556,\"#d8576b\"],[0.6666666666666666,\"#ed7953\"],[0.7777777777777778,\"#fb9f3a\"],[0.8888888888888888,\"#fdca26\"],[1.0,\"#f0f921\"]]},\"colorway\":[\"#636efa\",\"#EF553B\",\"#00cc96\",\"#ab63fa\",\"#FFA15A\",\"#19d3f3\",\"#FF6692\",\"#B6E880\",\"#FF97FF\",\"#FECB52\"],\"font\":{\"color\":\"#2a3f5f\"},\"geo\":{\"bgcolor\":\"white\",\"lakecolor\":\"white\",\"landcolor\":\"#E5ECF6\",\"showlakes\":true,\"showland\":true,\"subunitcolor\":\"white\"},\"hoverlabel\":{\"align\":\"left\"},\"hovermode\":\"closest\",\"mapbox\":{\"style\":\"light\"},\"paper_bgcolor\":\"white\",\"plot_bgcolor\":\"#E5ECF6\",\"polar\":{\"angularaxis\":{\"gridcolor\":\"white\",\"linecolor\":\"white\",\"ticks\":\"\"},\"bgcolor\":\"#E5ECF6\",\"radialaxis\":{\"gridcolor\":\"white\",\"linecolor\":\"white\",\"ticks\":\"\"}},\"scene\":{\"xaxis\":{\"backgroundcolor\":\"#E5ECF6\",\"gridcolor\":\"white\",\"gridwidth\":2,\"linecolor\":\"white\",\"showbackground\":true,\"ticks\":\"\",\"zerolinecolor\":\"white\"},\"yaxis\":{\"backgroundcolor\":\"#E5ECF6\",\"gridcolor\":\"white\",\"gridwidth\":2,\"linecolor\":\"white\",\"showbackground\":true,\"ticks\":\"\",\"zerolinecolor\":\"white\"},\"zaxis\":{\"backgroundcolor\":\"#E5ECF6\",\"gridcolor\":\"white\",\"gridwidth\":2,\"linecolor\":\"white\",\"showbackground\":true,\"ticks\":\"\",\"zerolinecolor\":\"white\"}},\"shapedefaults\":{\"line\":{\"color\":\"#2a3f5f\"}},\"ternary\":{\"aaxis\":{\"gridcolor\":\"white\",\"linecolor\":\"white\",\"ticks\":\"\"},\"baxis\":{\"gridcolor\":\"white\",\"linecolor\":\"white\",\"ticks\":\"\"},\"bgcolor\":\"#E5ECF6\",\"caxis\":{\"gridcolor\":\"white\",\"linecolor\":\"white\",\"ticks\":\"\"}},\"title\":{\"x\":0.05},\"xaxis\":{\"automargin\":true,\"gridcolor\":\"white\",\"linecolor\":\"white\",\"ticks\":\"\",\"title\":{\"standoff\":15},\"zerolinecolor\":\"white\",\"zerolinewidth\":2},\"yaxis\":{\"automargin\":true,\"gridcolor\":\"white\",\"linecolor\":\"white\",\"ticks\":\"\",\"title\":{\"standoff\":15},\"zerolinecolor\":\"white\",\"zerolinewidth\":2}}},\"title\":{\"font\":{\"color\":\"#4D5663\"},\"text\":\"Volume/head relation of Reservoir1\"},\"xaxis\":{\"gridcolor\":\"#E1E5ED\",\"showgrid\":true,\"tickfont\":{\"color\":\"#4D5663\"},\"title\":{\"font\":{\"color\":\"#4D5663\"},\"text\":\"Mm3\"},\"zerolinecolor\":\"#E1E5ED\"},\"yaxis\":{\"gridcolor\":\"#E1E5ED\",\"showgrid\":true,\"tickfont\":{\"color\":\"#4D5663\"},\"title\":{\"font\":{\"color\":\"#4D5663\"},\"text\":\"masl\"},\"zerolinecolor\":\"#E1E5ED\"}},                        {\"showLink\": true, \"linkText\": \"Export to plot.ly\", \"plotlyServerURL\": \"https://plot.ly\", \"responsive\": true}                    ).then(function(){\n",
       "                            \n",
       "var gd = document.getElementById('30a02e02-af28-4e60-9452-129a2d8fb995');\n",
       "var x = new MutationObserver(function (mutations, observer) {{\n",
       "        var display = window.getComputedStyle(gd).display;\n",
       "        if (!display || display === 'none') {{\n",
       "            console.log([gd, 'removed!']);\n",
       "            Plotly.purge(gd);\n",
       "            observer.disconnect();\n",
       "        }}\n",
       "}});\n",
       "\n",
       "// Listen for the removal of the full notebook cells\n",
       "var notebookContainer = gd.closest('#notebook-container');\n",
       "if (notebookContainer) {{\n",
       "    x.observe(notebookContainer, {childList: true});\n",
       "}}\n",
       "\n",
       "// Listen for the clearing of the current output cell\n",
       "var outputEl = gd.closest('.output');\n",
       "if (outputEl) {{\n",
       "    x.observe(outputEl, {childList: true});\n",
       "}}\n",
       "\n",
       "                        })                };                });            </script>        </div>"
      ]
     },
     "metadata": {},
     "output_type": "display_data"
    }
   ],
   "source": [
    "# Plotting the volume/head relation of Reservoir1\r\n",
    "rsv1.vol_head.get().iplot(title=\"Volume/head relation of Reservoir1\", xaxis_title=\"Mm3\", yaxis_title=\"masl\", color=\"blue\")"
   ]
  },
  {
   "cell_type": "markdown",
   "metadata": {
    "Collapsed": "false"
   },
   "source": [
    "Or they can be plotted in any style and design imaginable using your favorite plotting tools and packages."
   ]
  },
  {
   "cell_type": "code",
   "execution_count": 16,
   "metadata": {
    "Collapsed": "false"
   },
   "outputs": [
    {
     "data": {
      "application/vnd.plotly.v1+json": {
       "config": {
        "plotlyServerURL": "https://plot.ly"
       },
       "data": [
        {
         "marker": {
          "color": "rgb(116,169,207)"
         },
         "name": "Reservoir volume and height",
         "type": "scatter",
         "x": [
          0,
          2.275,
          4.675,
          7.2,
          12.675,
          15.675,
          18.9,
          22.275,
          25.85,
          29.675,
          33.825,
          38.175,
          42.775,
          47.625,
          52.75,
          64.125,
          69.9,
          75.9,
          87.95,
          94.2,
          97.5,
          104.15
         ],
         "y": [
          650,
          651.28,
          652.55,
          653.83,
          656.38,
          657.66,
          658.94,
          660.21,
          661.49,
          662.77,
          664.04,
          665.32,
          666.6,
          667.87,
          669.15,
          671.7,
          672.98,
          674.26,
          676.81,
          678.09,
          679,
          680
         ]
        },
        {
         "marker": {
          "color": "rgb(5,112,176)",
          "line": {
           "color": "rgb(5,112,176)",
           "width": 4
          },
          "size": 3
         },
         "mode": "markers",
         "name": "Start point",
         "type": "scatter",
         "x": [
          56.541666666666664
         ],
         "y": [
          670
         ]
        }
       ],
       "layout": {
        "autosize": true,
        "template": {
         "data": {
          "bar": [
           {
            "error_x": {
             "color": "#2a3f5f"
            },
            "error_y": {
             "color": "#2a3f5f"
            },
            "marker": {
             "line": {
              "color": "#E5ECF6",
              "width": 0.5
             },
             "pattern": {
              "fillmode": "overlay",
              "size": 10,
              "solidity": 0.2
             }
            },
            "type": "bar"
           }
          ],
          "barpolar": [
           {
            "marker": {
             "line": {
              "color": "#E5ECF6",
              "width": 0.5
             },
             "pattern": {
              "fillmode": "overlay",
              "size": 10,
              "solidity": 0.2
             }
            },
            "type": "barpolar"
           }
          ],
          "carpet": [
           {
            "aaxis": {
             "endlinecolor": "#2a3f5f",
             "gridcolor": "white",
             "linecolor": "white",
             "minorgridcolor": "white",
             "startlinecolor": "#2a3f5f"
            },
            "baxis": {
             "endlinecolor": "#2a3f5f",
             "gridcolor": "white",
             "linecolor": "white",
             "minorgridcolor": "white",
             "startlinecolor": "#2a3f5f"
            },
            "type": "carpet"
           }
          ],
          "choropleth": [
           {
            "colorbar": {
             "outlinewidth": 0,
             "ticks": ""
            },
            "type": "choropleth"
           }
          ],
          "contour": [
           {
            "colorbar": {
             "outlinewidth": 0,
             "ticks": ""
            },
            "colorscale": [
             [
              0,
              "#0d0887"
             ],
             [
              0.1111111111111111,
              "#46039f"
             ],
             [
              0.2222222222222222,
              "#7201a8"
             ],
             [
              0.3333333333333333,
              "#9c179e"
             ],
             [
              0.4444444444444444,
              "#bd3786"
             ],
             [
              0.5555555555555556,
              "#d8576b"
             ],
             [
              0.6666666666666666,
              "#ed7953"
             ],
             [
              0.7777777777777778,
              "#fb9f3a"
             ],
             [
              0.8888888888888888,
              "#fdca26"
             ],
             [
              1,
              "#f0f921"
             ]
            ],
            "type": "contour"
           }
          ],
          "contourcarpet": [
           {
            "colorbar": {
             "outlinewidth": 0,
             "ticks": ""
            },
            "type": "contourcarpet"
           }
          ],
          "heatmap": [
           {
            "colorbar": {
             "outlinewidth": 0,
             "ticks": ""
            },
            "colorscale": [
             [
              0,
              "#0d0887"
             ],
             [
              0.1111111111111111,
              "#46039f"
             ],
             [
              0.2222222222222222,
              "#7201a8"
             ],
             [
              0.3333333333333333,
              "#9c179e"
             ],
             [
              0.4444444444444444,
              "#bd3786"
             ],
             [
              0.5555555555555556,
              "#d8576b"
             ],
             [
              0.6666666666666666,
              "#ed7953"
             ],
             [
              0.7777777777777778,
              "#fb9f3a"
             ],
             [
              0.8888888888888888,
              "#fdca26"
             ],
             [
              1,
              "#f0f921"
             ]
            ],
            "type": "heatmap"
           }
          ],
          "heatmapgl": [
           {
            "colorbar": {
             "outlinewidth": 0,
             "ticks": ""
            },
            "colorscale": [
             [
              0,
              "#0d0887"
             ],
             [
              0.1111111111111111,
              "#46039f"
             ],
             [
              0.2222222222222222,
              "#7201a8"
             ],
             [
              0.3333333333333333,
              "#9c179e"
             ],
             [
              0.4444444444444444,
              "#bd3786"
             ],
             [
              0.5555555555555556,
              "#d8576b"
             ],
             [
              0.6666666666666666,
              "#ed7953"
             ],
             [
              0.7777777777777778,
              "#fb9f3a"
             ],
             [
              0.8888888888888888,
              "#fdca26"
             ],
             [
              1,
              "#f0f921"
             ]
            ],
            "type": "heatmapgl"
           }
          ],
          "histogram": [
           {
            "marker": {
             "pattern": {
              "fillmode": "overlay",
              "size": 10,
              "solidity": 0.2
             }
            },
            "type": "histogram"
           }
          ],
          "histogram2d": [
           {
            "colorbar": {
             "outlinewidth": 0,
             "ticks": ""
            },
            "colorscale": [
             [
              0,
              "#0d0887"
             ],
             [
              0.1111111111111111,
              "#46039f"
             ],
             [
              0.2222222222222222,
              "#7201a8"
             ],
             [
              0.3333333333333333,
              "#9c179e"
             ],
             [
              0.4444444444444444,
              "#bd3786"
             ],
             [
              0.5555555555555556,
              "#d8576b"
             ],
             [
              0.6666666666666666,
              "#ed7953"
             ],
             [
              0.7777777777777778,
              "#fb9f3a"
             ],
             [
              0.8888888888888888,
              "#fdca26"
             ],
             [
              1,
              "#f0f921"
             ]
            ],
            "type": "histogram2d"
           }
          ],
          "histogram2dcontour": [
           {
            "colorbar": {
             "outlinewidth": 0,
             "ticks": ""
            },
            "colorscale": [
             [
              0,
              "#0d0887"
             ],
             [
              0.1111111111111111,
              "#46039f"
             ],
             [
              0.2222222222222222,
              "#7201a8"
             ],
             [
              0.3333333333333333,
              "#9c179e"
             ],
             [
              0.4444444444444444,
              "#bd3786"
             ],
             [
              0.5555555555555556,
              "#d8576b"
             ],
             [
              0.6666666666666666,
              "#ed7953"
             ],
             [
              0.7777777777777778,
              "#fb9f3a"
             ],
             [
              0.8888888888888888,
              "#fdca26"
             ],
             [
              1,
              "#f0f921"
             ]
            ],
            "type": "histogram2dcontour"
           }
          ],
          "mesh3d": [
           {
            "colorbar": {
             "outlinewidth": 0,
             "ticks": ""
            },
            "type": "mesh3d"
           }
          ],
          "parcoords": [
           {
            "line": {
             "colorbar": {
              "outlinewidth": 0,
              "ticks": ""
             }
            },
            "type": "parcoords"
           }
          ],
          "pie": [
           {
            "automargin": true,
            "type": "pie"
           }
          ],
          "scatter": [
           {
            "marker": {
             "colorbar": {
              "outlinewidth": 0,
              "ticks": ""
             }
            },
            "type": "scatter"
           }
          ],
          "scatter3d": [
           {
            "line": {
             "colorbar": {
              "outlinewidth": 0,
              "ticks": ""
             }
            },
            "marker": {
             "colorbar": {
              "outlinewidth": 0,
              "ticks": ""
             }
            },
            "type": "scatter3d"
           }
          ],
          "scattercarpet": [
           {
            "marker": {
             "colorbar": {
              "outlinewidth": 0,
              "ticks": ""
             }
            },
            "type": "scattercarpet"
           }
          ],
          "scattergeo": [
           {
            "marker": {
             "colorbar": {
              "outlinewidth": 0,
              "ticks": ""
             }
            },
            "type": "scattergeo"
           }
          ],
          "scattergl": [
           {
            "marker": {
             "colorbar": {
              "outlinewidth": 0,
              "ticks": ""
             }
            },
            "type": "scattergl"
           }
          ],
          "scattermapbox": [
           {
            "marker": {
             "colorbar": {
              "outlinewidth": 0,
              "ticks": ""
             }
            },
            "type": "scattermapbox"
           }
          ],
          "scatterpolar": [
           {
            "marker": {
             "colorbar": {
              "outlinewidth": 0,
              "ticks": ""
             }
            },
            "type": "scatterpolar"
           }
          ],
          "scatterpolargl": [
           {
            "marker": {
             "colorbar": {
              "outlinewidth": 0,
              "ticks": ""
             }
            },
            "type": "scatterpolargl"
           }
          ],
          "scatterternary": [
           {
            "marker": {
             "colorbar": {
              "outlinewidth": 0,
              "ticks": ""
             }
            },
            "type": "scatterternary"
           }
          ],
          "surface": [
           {
            "colorbar": {
             "outlinewidth": 0,
             "ticks": ""
            },
            "colorscale": [
             [
              0,
              "#0d0887"
             ],
             [
              0.1111111111111111,
              "#46039f"
             ],
             [
              0.2222222222222222,
              "#7201a8"
             ],
             [
              0.3333333333333333,
              "#9c179e"
             ],
             [
              0.4444444444444444,
              "#bd3786"
             ],
             [
              0.5555555555555556,
              "#d8576b"
             ],
             [
              0.6666666666666666,
              "#ed7953"
             ],
             [
              0.7777777777777778,
              "#fb9f3a"
             ],
             [
              0.8888888888888888,
              "#fdca26"
             ],
             [
              1,
              "#f0f921"
             ]
            ],
            "type": "surface"
           }
          ],
          "table": [
           {
            "cells": {
             "fill": {
              "color": "#EBF0F8"
             },
             "line": {
              "color": "white"
             }
            },
            "header": {
             "fill": {
              "color": "#C8D4E3"
             },
             "line": {
              "color": "white"
             }
            },
            "type": "table"
           }
          ]
         },
         "layout": {
          "annotationdefaults": {
           "arrowcolor": "#2a3f5f",
           "arrowhead": 0,
           "arrowwidth": 1
          },
          "autotypenumbers": "strict",
          "coloraxis": {
           "colorbar": {
            "outlinewidth": 0,
            "ticks": ""
           }
          },
          "colorscale": {
           "diverging": [
            [
             0,
             "#8e0152"
            ],
            [
             0.1,
             "#c51b7d"
            ],
            [
             0.2,
             "#de77ae"
            ],
            [
             0.3,
             "#f1b6da"
            ],
            [
             0.4,
             "#fde0ef"
            ],
            [
             0.5,
             "#f7f7f7"
            ],
            [
             0.6,
             "#e6f5d0"
            ],
            [
             0.7,
             "#b8e186"
            ],
            [
             0.8,
             "#7fbc41"
            ],
            [
             0.9,
             "#4d9221"
            ],
            [
             1,
             "#276419"
            ]
           ],
           "sequential": [
            [
             0,
             "#0d0887"
            ],
            [
             0.1111111111111111,
             "#46039f"
            ],
            [
             0.2222222222222222,
             "#7201a8"
            ],
            [
             0.3333333333333333,
             "#9c179e"
            ],
            [
             0.4444444444444444,
             "#bd3786"
            ],
            [
             0.5555555555555556,
             "#d8576b"
            ],
            [
             0.6666666666666666,
             "#ed7953"
            ],
            [
             0.7777777777777778,
             "#fb9f3a"
            ],
            [
             0.8888888888888888,
             "#fdca26"
            ],
            [
             1,
             "#f0f921"
            ]
           ],
           "sequentialminus": [
            [
             0,
             "#0d0887"
            ],
            [
             0.1111111111111111,
             "#46039f"
            ],
            [
             0.2222222222222222,
             "#7201a8"
            ],
            [
             0.3333333333333333,
             "#9c179e"
            ],
            [
             0.4444444444444444,
             "#bd3786"
            ],
            [
             0.5555555555555556,
             "#d8576b"
            ],
            [
             0.6666666666666666,
             "#ed7953"
            ],
            [
             0.7777777777777778,
             "#fb9f3a"
            ],
            [
             0.8888888888888888,
             "#fdca26"
            ],
            [
             1,
             "#f0f921"
            ]
           ]
          },
          "colorway": [
           "#636efa",
           "#EF553B",
           "#00cc96",
           "#ab63fa",
           "#FFA15A",
           "#19d3f3",
           "#FF6692",
           "#B6E880",
           "#FF97FF",
           "#FECB52"
          ],
          "font": {
           "color": "#2a3f5f"
          },
          "geo": {
           "bgcolor": "white",
           "lakecolor": "white",
           "landcolor": "#E5ECF6",
           "showlakes": true,
           "showland": true,
           "subunitcolor": "white"
          },
          "hoverlabel": {
           "align": "left"
          },
          "hovermode": "closest",
          "mapbox": {
           "style": "light"
          },
          "paper_bgcolor": "white",
          "plot_bgcolor": "#E5ECF6",
          "polar": {
           "angularaxis": {
            "gridcolor": "white",
            "linecolor": "white",
            "ticks": ""
           },
           "bgcolor": "#E5ECF6",
           "radialaxis": {
            "gridcolor": "white",
            "linecolor": "white",
            "ticks": ""
           }
          },
          "scene": {
           "xaxis": {
            "backgroundcolor": "#E5ECF6",
            "gridcolor": "white",
            "gridwidth": 2,
            "linecolor": "white",
            "showbackground": true,
            "ticks": "",
            "zerolinecolor": "white"
           },
           "yaxis": {
            "backgroundcolor": "#E5ECF6",
            "gridcolor": "white",
            "gridwidth": 2,
            "linecolor": "white",
            "showbackground": true,
            "ticks": "",
            "zerolinecolor": "white"
           },
           "zaxis": {
            "backgroundcolor": "#E5ECF6",
            "gridcolor": "white",
            "gridwidth": 2,
            "linecolor": "white",
            "showbackground": true,
            "ticks": "",
            "zerolinecolor": "white"
           }
          },
          "shapedefaults": {
           "line": {
            "color": "#2a3f5f"
           }
          },
          "ternary": {
           "aaxis": {
            "gridcolor": "white",
            "linecolor": "white",
            "ticks": ""
           },
           "baxis": {
            "gridcolor": "white",
            "linecolor": "white",
            "ticks": ""
           },
           "bgcolor": "#E5ECF6",
           "caxis": {
            "gridcolor": "white",
            "linecolor": "white",
            "ticks": ""
           }
          },
          "title": {
           "x": 0.05
          },
          "xaxis": {
           "automargin": true,
           "gridcolor": "white",
           "linecolor": "white",
           "ticks": "",
           "title": {
            "standoff": 15
           },
           "zerolinecolor": "white",
           "zerolinewidth": 2
          },
          "yaxis": {
           "automargin": true,
           "gridcolor": "white",
           "linecolor": "white",
           "ticks": "",
           "title": {
            "standoff": 15
           },
           "zerolinecolor": "white",
           "zerolinewidth": 2
          }
         }
        },
        "title": {
         "text": "<b>Reservoir volume and height in Reservoir2 </b>"
        },
        "xaxis": {
         "autorange": true,
         "range": [
          0,
          104.15
         ],
         "title": {
          "text": "<b>Volume</b> (Mm<sup>3</sup>)"
         },
         "type": "linear"
        },
        "yaxis": {
         "autorange": true,
         "range": [
          648.3333333333334,
          681.6666666666666
         ],
         "title": {
          "text": "<b>Height</b> (meter)"
         },
         "type": "linear"
        }
       }
      },
      "image/png": "[encoded data removed]",
      "text/html": [
       "<div>                            <div id=\"b62e7d42-1067-481b-9ca8-02753553ddf5\" class=\"plotly-graph-div\" style=\"height:525px; width:100%;\"></div>            <script type=\"text/javascript\">                require([\"plotly\"], function(Plotly) {                    window.PLOTLYENV=window.PLOTLYENV || {};                                    if (document.getElementById(\"b62e7d42-1067-481b-9ca8-02753553ddf5\")) {                    Plotly.newPlot(                        \"b62e7d42-1067-481b-9ca8-02753553ddf5\",                        [{\"marker\":{\"color\":\"rgb(116,169,207)\"},\"name\":\"Reservoir volume and height\",\"type\":\"scatter\",\"x\":[0.0,2.275,4.675,7.2,12.675,15.675,18.9,22.275,25.85,29.675,33.825,38.175,42.775,47.625,52.75,64.125,69.9,75.9,87.95,94.2,97.5,104.15],\"y\":[650.0,651.28,652.55,653.83,656.38,657.66,658.94,660.21,661.49,662.77,664.04,665.32,666.6,667.87,669.15,671.7,672.98,674.26,676.81,678.09,679.0,680.0]},{\"marker\":{\"color\":\"rgb(5,112,176)\",\"line\":{\"color\":\"rgb(5,112,176)\",\"width\":4},\"size\":3},\"mode\":\"markers\",\"name\":\"Start point\",\"type\":\"scatter\",\"x\":[56.541666666666664],\"y\":[670.0]}],                        {\"template\":{\"data\":{\"bar\":[{\"error_x\":{\"color\":\"#2a3f5f\"},\"error_y\":{\"color\":\"#2a3f5f\"},\"marker\":{\"line\":{\"color\":\"#E5ECF6\",\"width\":0.5},\"pattern\":{\"fillmode\":\"overlay\",\"size\":10,\"solidity\":0.2}},\"type\":\"bar\"}],\"barpolar\":[{\"marker\":{\"line\":{\"color\":\"#E5ECF6\",\"width\":0.5},\"pattern\":{\"fillmode\":\"overlay\",\"size\":10,\"solidity\":0.2}},\"type\":\"barpolar\"}],\"carpet\":[{\"aaxis\":{\"endlinecolor\":\"#2a3f5f\",\"gridcolor\":\"white\",\"linecolor\":\"white\",\"minorgridcolor\":\"white\",\"startlinecolor\":\"#2a3f5f\"},\"baxis\":{\"endlinecolor\":\"#2a3f5f\",\"gridcolor\":\"white\",\"linecolor\":\"white\",\"minorgridcolor\":\"white\",\"startlinecolor\":\"#2a3f5f\"},\"type\":\"carpet\"}],\"choropleth\":[{\"colorbar\":{\"outlinewidth\":0,\"ticks\":\"\"},\"type\":\"choropleth\"}],\"contour\":[{\"colorbar\":{\"outlinewidth\":0,\"ticks\":\"\"},\"colorscale\":[[0.0,\"#0d0887\"],[0.1111111111111111,\"#46039f\"],[0.2222222222222222,\"#7201a8\"],[0.3333333333333333,\"#9c179e\"],[0.4444444444444444,\"#bd3786\"],[0.5555555555555556,\"#d8576b\"],[0.6666666666666666,\"#ed7953\"],[0.7777777777777778,\"#fb9f3a\"],[0.8888888888888888,\"#fdca26\"],[1.0,\"#f0f921\"]],\"type\":\"contour\"}],\"contourcarpet\":[{\"colorbar\":{\"outlinewidth\":0,\"ticks\":\"\"},\"type\":\"contourcarpet\"}],\"heatmap\":[{\"colorbar\":{\"outlinewidth\":0,\"ticks\":\"\"},\"colorscale\":[[0.0,\"#0d0887\"],[0.1111111111111111,\"#46039f\"],[0.2222222222222222,\"#7201a8\"],[0.3333333333333333,\"#9c179e\"],[0.4444444444444444,\"#bd3786\"],[0.5555555555555556,\"#d8576b\"],[0.6666666666666666,\"#ed7953\"],[0.7777777777777778,\"#fb9f3a\"],[0.8888888888888888,\"#fdca26\"],[1.0,\"#f0f921\"]],\"type\":\"heatmap\"}],\"heatmapgl\":[{\"colorbar\":{\"outlinewidth\":0,\"ticks\":\"\"},\"colorscale\":[[0.0,\"#0d0887\"],[0.1111111111111111,\"#46039f\"],[0.2222222222222222,\"#7201a8\"],[0.3333333333333333,\"#9c179e\"],[0.4444444444444444,\"#bd3786\"],[0.5555555555555556,\"#d8576b\"],[0.6666666666666666,\"#ed7953\"],[0.7777777777777778,\"#fb9f3a\"],[0.8888888888888888,\"#fdca26\"],[1.0,\"#f0f921\"]],\"type\":\"heatmapgl\"}],\"histogram\":[{\"marker\":{\"pattern\":{\"fillmode\":\"overlay\",\"size\":10,\"solidity\":0.2}},\"type\":\"histogram\"}],\"histogram2d\":[{\"colorbar\":{\"outlinewidth\":0,\"ticks\":\"\"},\"colorscale\":[[0.0,\"#0d0887\"],[0.1111111111111111,\"#46039f\"],[0.2222222222222222,\"#7201a8\"],[0.3333333333333333,\"#9c179e\"],[0.4444444444444444,\"#bd3786\"],[0.5555555555555556,\"#d8576b\"],[0.6666666666666666,\"#ed7953\"],[0.7777777777777778,\"#fb9f3a\"],[0.8888888888888888,\"#fdca26\"],[1.0,\"#f0f921\"]],\"type\":\"histogram2d\"}],\"histogram2dcontour\":[{\"colorbar\":{\"outlinewidth\":0,\"ticks\":\"\"},\"colorscale\":[[0.0,\"#0d0887\"],[0.1111111111111111,\"#46039f\"],[0.2222222222222222,\"#7201a8\"],[0.3333333333333333,\"#9c179e\"],[0.4444444444444444,\"#bd3786\"],[0.5555555555555556,\"#d8576b\"],[0.6666666666666666,\"#ed7953\"],[0.7777777777777778,\"#fb9f3a\"],[0.8888888888888888,\"#fdca26\"],[1.0,\"#f0f921\"]],\"type\":\"histogram2dcontour\"}],\"mesh3d\":[{\"colorbar\":{\"outlinewidth\":0,\"ticks\":\"\"},\"type\":\"mesh3d\"}],\"parcoords\":[{\"line\":{\"colorbar\":{\"outlinewidth\":0,\"ticks\":\"\"}},\"type\":\"parcoords\"}],\"pie\":[{\"automargin\":true,\"type\":\"pie\"}],\"scatter\":[{\"marker\":{\"colorbar\":{\"outlinewidth\":0,\"ticks\":\"\"}},\"type\":\"scatter\"}],\"scatter3d\":[{\"line\":{\"colorbar\":{\"outlinewidth\":0,\"ticks\":\"\"}},\"marker\":{\"colorbar\":{\"outlinewidth\":0,\"ticks\":\"\"}},\"type\":\"scatter3d\"}],\"scattercarpet\":[{\"marker\":{\"colorbar\":{\"outlinewidth\":0,\"ticks\":\"\"}},\"type\":\"scattercarpet\"}],\"scattergeo\":[{\"marker\":{\"colorbar\":{\"outlinewidth\":0,\"ticks\":\"\"}},\"type\":\"scattergeo\"}],\"scattergl\":[{\"marker\":{\"colorbar\":{\"outlinewidth\":0,\"ticks\":\"\"}},\"type\":\"scattergl\"}],\"scattermapbox\":[{\"marker\":{\"colorbar\":{\"outlinewidth\":0,\"ticks\":\"\"}},\"type\":\"scattermapbox\"}],\"scatterpolar\":[{\"marker\":{\"colorbar\":{\"outlinewidth\":0,\"ticks\":\"\"}},\"type\":\"scatterpolar\"}],\"scatterpolargl\":[{\"marker\":{\"colorbar\":{\"outlinewidth\":0,\"ticks\":\"\"}},\"type\":\"scatterpolargl\"}],\"scatterternary\":[{\"marker\":{\"colorbar\":{\"outlinewidth\":0,\"ticks\":\"\"}},\"type\":\"scatterternary\"}],\"surface\":[{\"colorbar\":{\"outlinewidth\":0,\"ticks\":\"\"},\"colorscale\":[[0.0,\"#0d0887\"],[0.1111111111111111,\"#46039f\"],[0.2222222222222222,\"#7201a8\"],[0.3333333333333333,\"#9c179e\"],[0.4444444444444444,\"#bd3786\"],[0.5555555555555556,\"#d8576b\"],[0.6666666666666666,\"#ed7953\"],[0.7777777777777778,\"#fb9f3a\"],[0.8888888888888888,\"#fdca26\"],[1.0,\"#f0f921\"]],\"type\":\"surface\"}],\"table\":[{\"cells\":{\"fill\":{\"color\":\"#EBF0F8\"},\"line\":{\"color\":\"white\"}},\"header\":{\"fill\":{\"color\":\"#C8D4E3\"},\"line\":{\"color\":\"white\"}},\"type\":\"table\"}]},\"layout\":{\"annotationdefaults\":{\"arrowcolor\":\"#2a3f5f\",\"arrowhead\":0,\"arrowwidth\":1},\"autotypenumbers\":\"strict\",\"coloraxis\":{\"colorbar\":{\"outlinewidth\":0,\"ticks\":\"\"}},\"colorscale\":{\"diverging\":[[0,\"#8e0152\"],[0.1,\"#c51b7d\"],[0.2,\"#de77ae\"],[0.3,\"#f1b6da\"],[0.4,\"#fde0ef\"],[0.5,\"#f7f7f7\"],[0.6,\"#e6f5d0\"],[0.7,\"#b8e186\"],[0.8,\"#7fbc41\"],[0.9,\"#4d9221\"],[1,\"#276419\"]],\"sequential\":[[0.0,\"#0d0887\"],[0.1111111111111111,\"#46039f\"],[0.2222222222222222,\"#7201a8\"],[0.3333333333333333,\"#9c179e\"],[0.4444444444444444,\"#bd3786\"],[0.5555555555555556,\"#d8576b\"],[0.6666666666666666,\"#ed7953\"],[0.7777777777777778,\"#fb9f3a\"],[0.8888888888888888,\"#fdca26\"],[1.0,\"#f0f921\"]],\"sequentialminus\":[[0.0,\"#0d0887\"],[0.1111111111111111,\"#46039f\"],[0.2222222222222222,\"#7201a8\"],[0.3333333333333333,\"#9c179e\"],[0.4444444444444444,\"#bd3786\"],[0.5555555555555556,\"#d8576b\"],[0.6666666666666666,\"#ed7953\"],[0.7777777777777778,\"#fb9f3a\"],[0.8888888888888888,\"#fdca26\"],[1.0,\"#f0f921\"]]},\"colorway\":[\"#636efa\",\"#EF553B\",\"#00cc96\",\"#ab63fa\",\"#FFA15A\",\"#19d3f3\",\"#FF6692\",\"#B6E880\",\"#FF97FF\",\"#FECB52\"],\"font\":{\"color\":\"#2a3f5f\"},\"geo\":{\"bgcolor\":\"white\",\"lakecolor\":\"white\",\"landcolor\":\"#E5ECF6\",\"showlakes\":true,\"showland\":true,\"subunitcolor\":\"white\"},\"hoverlabel\":{\"align\":\"left\"},\"hovermode\":\"closest\",\"mapbox\":{\"style\":\"light\"},\"paper_bgcolor\":\"white\",\"plot_bgcolor\":\"#E5ECF6\",\"polar\":{\"angularaxis\":{\"gridcolor\":\"white\",\"linecolor\":\"white\",\"ticks\":\"\"},\"bgcolor\":\"#E5ECF6\",\"radialaxis\":{\"gridcolor\":\"white\",\"linecolor\":\"white\",\"ticks\":\"\"}},\"scene\":{\"xaxis\":{\"backgroundcolor\":\"#E5ECF6\",\"gridcolor\":\"white\",\"gridwidth\":2,\"linecolor\":\"white\",\"showbackground\":true,\"ticks\":\"\",\"zerolinecolor\":\"white\"},\"yaxis\":{\"backgroundcolor\":\"#E5ECF6\",\"gridcolor\":\"white\",\"gridwidth\":2,\"linecolor\":\"white\",\"showbackground\":true,\"ticks\":\"\",\"zerolinecolor\":\"white\"},\"zaxis\":{\"backgroundcolor\":\"#E5ECF6\",\"gridcolor\":\"white\",\"gridwidth\":2,\"linecolor\":\"white\",\"showbackground\":true,\"ticks\":\"\",\"zerolinecolor\":\"white\"}},\"shapedefaults\":{\"line\":{\"color\":\"#2a3f5f\"}},\"ternary\":{\"aaxis\":{\"gridcolor\":\"white\",\"linecolor\":\"white\",\"ticks\":\"\"},\"baxis\":{\"gridcolor\":\"white\",\"linecolor\":\"white\",\"ticks\":\"\"},\"bgcolor\":\"#E5ECF6\",\"caxis\":{\"gridcolor\":\"white\",\"linecolor\":\"white\",\"ticks\":\"\"}},\"title\":{\"x\":0.05},\"xaxis\":{\"automargin\":true,\"gridcolor\":\"white\",\"linecolor\":\"white\",\"ticks\":\"\",\"title\":{\"standoff\":15},\"zerolinecolor\":\"white\",\"zerolinewidth\":2},\"yaxis\":{\"automargin\":true,\"gridcolor\":\"white\",\"linecolor\":\"white\",\"ticks\":\"\",\"title\":{\"standoff\":15},\"zerolinecolor\":\"white\",\"zerolinewidth\":2}}},\"title\":{\"text\":\"<b>Reservoir volume and height in Reservoir2 </b>\"},\"xaxis\":{\"title\":{\"text\":\"<b>Volume</b> (Mm<sup>3</sup>)\"}},\"yaxis\":{\"title\":{\"text\":\"<b>Height</b> (meter)\"}}},                        {\"responsive\": true}                    ).then(function(){\n",
       "                            \n",
       "var gd = document.getElementById('b62e7d42-1067-481b-9ca8-02753553ddf5');\n",
       "var x = new MutationObserver(function (mutations, observer) {{\n",
       "        var display = window.getComputedStyle(gd).display;\n",
       "        if (!display || display === 'none') {{\n",
       "            console.log([gd, 'removed!']);\n",
       "            Plotly.purge(gd);\n",
       "            observer.disconnect();\n",
       "        }}\n",
       "}});\n",
       "\n",
       "// Listen for the removal of the full notebook cells\n",
       "var notebookContainer = gd.closest('#notebook-container');\n",
       "if (notebookContainer) {{\n",
       "    x.observe(notebookContainer, {childList: true});\n",
       "}}\n",
       "\n",
       "// Listen for the clearing of the current output cell\n",
       "var outputEl = gd.closest('.output');\n",
       "if (outputEl) {{\n",
       "    x.observe(outputEl, {childList: true});\n",
       "}}\n",
       "\n",
       "                        })                };                });            </script>        </div>"
      ]
     },
     "metadata": {},
     "output_type": "display_data"
    }
   ],
   "source": [
    "# Plotting the volume/head relation of Reservoir2, including the initial starting point\r\n",
    "\r\n",
    "from scipy.interpolate import interp1d\r\n",
    "\r\n",
    "vol_height=shop.model.reservoir.Reservoir2.vol_head.get()\r\n",
    "start_height=shop.model.reservoir.Reservoir2.start_head.get()\r\n",
    "\r\n",
    "interplation_function = interp1d(vol_height.values, vol_height.index)\r\n",
    "start_volume=float(interplation_function(start_height))\r\n",
    "\r\n",
    "fig = go.Figure()\r\n",
    "colorscale = px.colors.sequential.PuBu_r\r\n",
    "fig.add_trace(go.Scatter(x=vol_height.index, y=vol_height.values, name=\"Reservoir volume and height\", marker_color=colorscale[4]))\r\n",
    "fig.add_trace(go.Scatter(x=[start_volume], y=[start_height], name=\"Start point\",marker_color=colorscale[2], mode='markers', marker=dict(color='rgba(0,0,0, 0.0)', size=3, line=dict(color=colorscale[2], width=4))))\r\n",
    "fig.update_layout(title=\"<b>Reservoir volume and height in Reservoir2 </b>\", xaxis_title=\"<b>Volume</b> (Mm<sup>3</sup>)\", yaxis_title=\"<b>Height</b> (meter)\")\r\n",
    "\r\n",
    "fig.show()"
   ]
  },
  {
   "cell_type": "markdown",
   "metadata": {
    "Collapsed": "false"
   },
   "source": [
    "### Plants"
   ]
  },
  {
   "cell_type": "markdown",
   "metadata": {
    "Collapsed": "false"
   },
   "source": [
    "The next objects to add to our model are the plant objects. We instance them the same way as we instanced the reservoir objects."
   ]
  },
  {
   "cell_type": "code",
   "execution_count": 17,
   "metadata": {
    "Collapsed": "false"
   },
   "outputs": [],
   "source": [
    "# Add a plant objects to the model and instancing them\r\n",
    "plant1 = shop.model.plant.add_object('Plant1')\r\n",
    "plant2 = shop.model.plant.add_object('Plant2')\r\n",
    "# Alternatively, only the right hand side can be executed, however it is often nice to refer to instances later on"
   ]
  },
  {
   "cell_type": "markdown",
   "metadata": {
    "Collapsed": "false"
   },
   "source": [
    "Next we verify that our objects are correctly added to the shop instance."
   ]
  },
  {
   "cell_type": "code",
   "execution_count": 18,
   "metadata": {
    "Collapsed": "false"
   },
   "outputs": [
    {
     "data": {
      "text/plain": [
       "['Plant1', 'Plant2']"
      ]
     },
     "execution_count": 18,
     "metadata": {},
     "output_type": "execute_result"
    }
   ],
   "source": [
    "shop.model.plant.get_object_names()"
   ]
  },
  {
   "cell_type": "markdown",
   "metadata": {
    "Collapsed": "false"
   },
   "source": [
    "The plant objects need attributes as well."
   ]
  },
  {
   "cell_type": "code",
   "execution_count": 19,
   "metadata": {
    "Collapsed": "false"
   },
   "outputs": [],
   "source": [
    "# Setting the outlet line / tailrace height in masl\r\n",
    "plant1.outlet_line.set(672)\r\n",
    "plant2.outlet_line.set(586)\r\n",
    "\r\n",
    "# Setting the main loss in the plant\r\n",
    "plant1.main_loss.set([0])\r\n",
    "plant2.main_loss.set([0])\r\n",
    "\r\n",
    "# Setting the penstock loss in the plant. The number of penstocks are populated equal to the number of losses defined.\r\n",
    "plant1.penstock_loss.set([0.001])\r\n",
    "plant2.penstock_loss.set([0.0001,0.0002])"
   ]
  },
  {
   "cell_type": "markdown",
   "metadata": {
    "Collapsed": "false"
   },
   "source": [
    "### Generators"
   ]
  },
  {
   "cell_type": "markdown",
   "metadata": {
    "Collapsed": "false"
   },
   "source": [
    "A plant needs at least one generator. We add two generators to plant 1, and four generators to plant 2"
   ]
  },
  {
   "cell_type": "code",
   "execution_count": 20,
   "metadata": {
    "Collapsed": "false"
   },
   "outputs": [],
   "source": [
    "# Add a generator object to the model\r\n",
    "p1g1 = shop.model.generator.add_object('Plant1_Generator1')\r\n",
    "p1g2 = shop.model.generator.add_object('Plant1_Generator2')\r\n",
    "\r\n",
    "p2g1 = shop.model.generator.add_object('Plant2_Generator1')\r\n",
    "p2g2 = shop.model.generator.add_object('Plant2_Generator2')\r\n",
    "p2g3 = shop.model.generator.add_object('Plant2_Generator3')\r\n",
    "p2g4 = shop.model.generator.add_object('Plant2_Generator4')"
   ]
  },
  {
   "cell_type": "markdown",
   "metadata": {
    "Collapsed": "false"
   },
   "source": [
    "The connection between the generator and its plant must be set before defining the generator's parameters, whereas other connections in the model can be set after its objects and parameters have been set."
   ]
  },
  {
   "cell_type": "code",
   "execution_count": 21,
   "metadata": {
    "Collapsed": "false"
   },
   "outputs": [],
   "source": [
    "# Connecting the generator to the correct plant\r\n",
    "p1g1.connect_to(plant1)\r\n",
    "p1g2.connect_to(plant1)\r\n",
    "\r\n",
    "p2g1.connect_to(plant2)\r\n",
    "p2g2.connect_to(plant2)\r\n",
    "p2g3.connect_to(plant2)\r\n",
    "p2g4.connect_to(plant2)"
   ]
  },
  {
   "cell_type": "markdown",
   "metadata": {
    "Collapsed": "false"
   },
   "source": [
    "We control the generator objects in the model after adding and connecting them."
   ]
  },
  {
   "cell_type": "code",
   "execution_count": 22,
   "metadata": {
    "Collapsed": "false"
   },
   "outputs": [
    {
     "data": {
      "text/plain": [
       "['Plant1_Generator1',\n",
       " 'Plant1_Generator2',\n",
       " 'Plant2_Generator1',\n",
       " 'Plant2_Generator2',\n",
       " 'Plant2_Generator3',\n",
       " 'Plant2_Generator4']"
      ]
     },
     "execution_count": 22,
     "metadata": {},
     "output_type": "execute_result"
    }
   ],
   "source": [
    "shop.model.generator.get_object_names()"
   ]
  },
  {
   "cell_type": "markdown",
   "metadata": {
    "Collapsed": "false"
   },
   "source": [
    "Then we move on to the generator attributes. Certain generators are identical, so in order to preserve consistency, we make use of the .get()-function, so that if we change parameters on one of the duplicate generators, all of them will receive the change(s)."
   ]
  },
  {
   "cell_type": "code",
   "execution_count": 23,
   "metadata": {
    "Collapsed": "false"
   },
   "outputs": [],
   "source": [
    "# Setting the number of penstocks\r\n",
    "p1g1.penstock.set(1)\r\n",
    "p1g2.penstock.set(p1g1.penstock.get())\r\n",
    "\r\n",
    "p2g1.penstock.set(1)\r\n",
    "p2g2.penstock.set(2)\r\n",
    "p2g3.penstock.set(p2g2.penstock.get())\r\n",
    "p2g4.penstock.set(p2g2.penstock.get())\r\n",
    "\r\n",
    "# Setting the minimum production in MW\r\n",
    "p1g1.p_min.set(60)\r\n",
    "p1g2.p_min.set(p1g1.p_min.get())\r\n",
    "\r\n",
    "p2g1.p_min.set(100)\r\n",
    "p2g2.p_min.set(30)\r\n",
    "p2g3.p_min.set(p2g2.p_min.get())\r\n",
    "p2g4.p_min.set(p2g2.p_min.get())\r\n",
    "\r\n",
    "# Setting the maximum production in MW\r\n",
    "p1g1.p_max.set(120)\r\n",
    "p1g2.p_max.set(p1g1.p_max.get())\r\n",
    "\r\n",
    "p2g1.p_max.set(180)\r\n",
    "p2g2.p_max.set(55)\r\n",
    "p2g3.p_max.set(p2g2.p_max.get())\r\n",
    "p2g4.p_max.set(p2g2.p_max.get())\r\n",
    "\r\n",
    "# Setting the nominal production in MW\r\n",
    "p1g1.p_nom.set(120)\r\n",
    "p1g2.p_nom.set(p1g1.p_nom.get())\r\n",
    "\r\n",
    "p2g1.p_nom.set(180)\r\n",
    "p2g2.p_nom.set(55)\r\n",
    "p2g3.p_nom.set(p2g2.p_nom.get())\r\n",
    "p2g4.p_nom.set(p2g2.p_nom.get())\r\n",
    "\r\n",
    "# Setting the start cost in a monetary unit (i.e. $ or NOK, the model only compares costs to each other, so you just need to be sure all costs are in the same unit)\r\n",
    "p1g1.startcost.set(500)\r\n",
    "p1g2.startcost.set(p1g1.startcost.get())\r\n",
    "\r\n",
    "p2g1.startcost.set(600)\r\n",
    "p2g2.startcost.set(200)\r\n",
    "p2g3.startcost.set(p2g2.startcost.get())\r\n",
    "p2g4.startcost.set(p2g2.startcost.get())\r\n",
    "\r\n",
    "# Setting generator efficiency curves, which is the releation between the efficiency factor (%) and production (MW)\r\n",
    "p1g1.gen_eff_curve.set(pd.Series([100, 100], index=[60, 120]))\r\n",
    "p1g2.gen_eff_curve.set(p1g1.gen_eff_curve.get())\r\n",
    "\r\n",
    "p2g1.gen_eff_curve.set(pd.Series([100, 100], index=[100, 180]))\r\n",
    "p2g2.gen_eff_curve.set(pd.Series([100, 100], index=[30, 60]))\r\n",
    "p2g3.gen_eff_curve.set(p2g2.gen_eff_curve.get())\r\n",
    "p2g4.gen_eff_curve.set(p2g2.gen_eff_curve.get())\r\n",
    "\r\n",
    "# Setting  turbine efficiency curves, which is the relation between the efficiency factor (%) and release (m3/s) for different head levels (masl)\r\n",
    "p1g1.turb_eff_curves.set([pd.Series([85.8733, 87.0319, 88.0879, 89.0544, 89.9446, 90.7717, 91.5488, 92.2643, 92.8213, 93.1090, 93.2170, 93.0390, 92.6570, 92.1746],\r\n",
    "                                    index=[28.12, 30.45, 32.78, 35.11, 37.45, 39.78, 42.11, 44.44, 46.77, 49.10, 51.43, 53.76, 56.10, 58.83],\r\n",
    "                                    name=170),\r\n",
    "                          pd.Series([86.7321, 87.9022, 88.9688, 89.9450, 90.8441, 91.6794, 92.4643, 93.1870, 93.7495, 94.0401, 94.1492, 93.9694, 93.5836, 93.0964],\r\n",
    "                                    index=[28.12, 30.45, 32.78, 35.11, 37.45, 39.78, 42.11, 44.44, 46.77, 49.10, 51.43, 53.76, 56.10, 58.83],\r\n",
    "                                    name=200),\r\n",
    "                          pd.Series([87.5908, 88.7725, 89.8497, 90.8355, 91.7435, 92.5871, 93.3798, 94.1096, 94.6777, 94.9712, 95.0813, 94.8998, 94.5101, 94.0181],\r\n",
    "                                    index=[28.12, 30.45, 32.78, 35.11, 37.45, 39.78, 42.11, 44.44, 46.77, 49.10, 51.43, 53.76, 56.10, 58.83],\r\n",
    "                                    name=230)])\r\n",
    "p1g2.turb_eff_curves.set(p1g1.turb_eff_curves.get())\r\n",
    "\r\n",
    "p2g1.turb_eff_curves.set([pd.Series([92.7201, 93.2583, 93.7305, 94.1368, 94.4785, 94.7525, 94.9606, 95.1028, 95.1790, 95.1892, 95.1335, 95.0118, 94.8232, 94.5191],\r\n",
    "                                    index=[126.54, 137.03, 147.51, 158.00, 168.53, 179.01, 189.50, 199.98, 210.47, 220.95, 231.44, 241.92, 252.45, 264.74],\r\n",
    "                                    name=60)])\r\n",
    "\r\n",
    "p2g2.turb_eff_curves.set([pd.Series([83.8700, 85.1937, 86.3825, 87.4362, 88.3587, 89.1419, 89.7901, 90.3033, 90.6815, 90.9248, 91.0331, 91.0063, 90.8436, 90.4817],\r\n",
    "                                    index=[40.82, 44.20, 47.58, 50.97, 54.36, 57.75, 61.13, 64.51, 67.89, 71.27, 74.66, 78.04, 81.44, 85.40],\r\n",
    "                                    name=60)])\r\n",
    "p2g3.turb_eff_curves.set(p2g2.turb_eff_curves.get())\r\n",
    "p2g4.turb_eff_curves.set(p2g2.turb_eff_curves.get())"
   ]
  },
  {
   "cell_type": "markdown",
   "metadata": {
    "Collapsed": "false"
   },
   "source": [
    "Now we can plot some of the generator data, to ensure that we have the correct data."
   ]
  },
  {
   "cell_type": "code",
   "execution_count": 24,
   "metadata": {
    "Collapsed": "false"
   },
   "outputs": [
    {
     "data": {
      "application/vnd.plotly.v1+json": {
       "config": {
        "plotlyServerURL": "https://plot.ly"
       },
       "data": [
        {
         "line": {
          "width": 2
         },
         "marker": {
          "color": "rgb(33,102,172)"
         },
         "mode": "lines+markers",
         "name": "Net Head=170.0",
         "type": "scatter",
         "x": [
          28.12,
          30.45,
          32.78,
          35.11,
          37.45,
          39.78,
          42.11,
          44.44,
          46.77,
          49.1,
          51.43,
          53.76,
          56.1,
          58.83
         ],
         "y": [
          85.8733,
          87.0319,
          88.0879,
          89.0544,
          89.9446,
          90.7717,
          91.5488,
          92.2643,
          92.8213,
          93.109,
          93.217,
          93.039,
          92.657,
          92.1746
         ]
        },
        {
         "line": {
          "width": 2
         },
         "marker": {
          "color": "rgb(67,147,195)"
         },
         "mode": "lines+markers",
         "name": "Net Head=200.0",
         "type": "scatter",
         "x": [
          28.12,
          30.45,
          32.78,
          35.11,
          37.45,
          39.78,
          42.11,
          44.44,
          46.77,
          49.1,
          51.43,
          53.76,
          56.1,
          58.83
         ],
         "y": [
          86.7321,
          87.9022,
          88.9688,
          89.945,
          90.8441,
          91.6794,
          92.4643,
          93.187,
          93.7495,
          94.0401,
          94.1492,
          93.9694,
          93.5836,
          93.0964
         ]
        },
        {
         "line": {
          "width": 2
         },
         "marker": {
          "color": "rgb(146,197,222)"
         },
         "mode": "lines+markers",
         "name": "Net Head=230.0",
         "type": "scatter",
         "x": [
          28.12,
          30.45,
          32.78,
          35.11,
          37.45,
          39.78,
          42.11,
          44.44,
          46.77,
          49.1,
          51.43,
          53.76,
          56.1,
          58.83
         ],
         "y": [
          87.5908,
          88.7725,
          89.8497,
          90.8355,
          91.7435,
          92.5871,
          93.3798,
          94.1096,
          94.6777,
          94.9712,
          95.0813,
          94.8998,
          94.5101,
          94.0181
         ]
        }
       ],
       "layout": {
        "autosize": true,
        "template": {
         "data": {
          "bar": [
           {
            "error_x": {
             "color": "#2a3f5f"
            },
            "error_y": {
             "color": "#2a3f5f"
            },
            "marker": {
             "line": {
              "color": "#E5ECF6",
              "width": 0.5
             },
             "pattern": {
              "fillmode": "overlay",
              "size": 10,
              "solidity": 0.2
             }
            },
            "type": "bar"
           }
          ],
          "barpolar": [
           {
            "marker": {
             "line": {
              "color": "#E5ECF6",
              "width": 0.5
             },
             "pattern": {
              "fillmode": "overlay",
              "size": 10,
              "solidity": 0.2
             }
            },
            "type": "barpolar"
           }
          ],
          "carpet": [
           {
            "aaxis": {
             "endlinecolor": "#2a3f5f",
             "gridcolor": "white",
             "linecolor": "white",
             "minorgridcolor": "white",
             "startlinecolor": "#2a3f5f"
            },
            "baxis": {
             "endlinecolor": "#2a3f5f",
             "gridcolor": "white",
             "linecolor": "white",
             "minorgridcolor": "white",
             "startlinecolor": "#2a3f5f"
            },
            "type": "carpet"
           }
          ],
          "choropleth": [
           {
            "colorbar": {
             "outlinewidth": 0,
             "ticks": ""
            },
            "type": "choropleth"
           }
          ],
          "contour": [
           {
            "colorbar": {
             "outlinewidth": 0,
             "ticks": ""
            },
            "colorscale": [
             [
              0,
              "#0d0887"
             ],
             [
              0.1111111111111111,
              "#46039f"
             ],
             [
              0.2222222222222222,
              "#7201a8"
             ],
             [
              0.3333333333333333,
              "#9c179e"
             ],
             [
              0.4444444444444444,
              "#bd3786"
             ],
             [
              0.5555555555555556,
              "#d8576b"
             ],
             [
              0.6666666666666666,
              "#ed7953"
             ],
             [
              0.7777777777777778,
              "#fb9f3a"
             ],
             [
              0.8888888888888888,
              "#fdca26"
             ],
             [
              1,
              "#f0f921"
             ]
            ],
            "type": "contour"
           }
          ],
          "contourcarpet": [
           {
            "colorbar": {
             "outlinewidth": 0,
             "ticks": ""
            },
            "type": "contourcarpet"
           }
          ],
          "heatmap": [
           {
            "colorbar": {
             "outlinewidth": 0,
             "ticks": ""
            },
            "colorscale": [
             [
              0,
              "#0d0887"
             ],
             [
              0.1111111111111111,
              "#46039f"
             ],
             [
              0.2222222222222222,
              "#7201a8"
             ],
             [
              0.3333333333333333,
              "#9c179e"
             ],
             [
              0.4444444444444444,
              "#bd3786"
             ],
             [
              0.5555555555555556,
              "#d8576b"
             ],
             [
              0.6666666666666666,
              "#ed7953"
             ],
             [
              0.7777777777777778,
              "#fb9f3a"
             ],
             [
              0.8888888888888888,
              "#fdca26"
             ],
             [
              1,
              "#f0f921"
             ]
            ],
            "type": "heatmap"
           }
          ],
          "heatmapgl": [
           {
            "colorbar": {
             "outlinewidth": 0,
             "ticks": ""
            },
            "colorscale": [
             [
              0,
              "#0d0887"
             ],
             [
              0.1111111111111111,
              "#46039f"
             ],
             [
              0.2222222222222222,
              "#7201a8"
             ],
             [
              0.3333333333333333,
              "#9c179e"
             ],
             [
              0.4444444444444444,
              "#bd3786"
             ],
             [
              0.5555555555555556,
              "#d8576b"
             ],
             [
              0.6666666666666666,
              "#ed7953"
             ],
             [
              0.7777777777777778,
              "#fb9f3a"
             ],
             [
              0.8888888888888888,
              "#fdca26"
             ],
             [
              1,
              "#f0f921"
             ]
            ],
            "type": "heatmapgl"
           }
          ],
          "histogram": [
           {
            "marker": {
             "pattern": {
              "fillmode": "overlay",
              "size": 10,
              "solidity": 0.2
             }
            },
            "type": "histogram"
           }
          ],
          "histogram2d": [
           {
            "colorbar": {
             "outlinewidth": 0,
             "ticks": ""
            },
            "colorscale": [
             [
              0,
              "#0d0887"
             ],
             [
              0.1111111111111111,
              "#46039f"
             ],
             [
              0.2222222222222222,
              "#7201a8"
             ],
             [
              0.3333333333333333,
              "#9c179e"
             ],
             [
              0.4444444444444444,
              "#bd3786"
             ],
             [
              0.5555555555555556,
              "#d8576b"
             ],
             [
              0.6666666666666666,
              "#ed7953"
             ],
             [
              0.7777777777777778,
              "#fb9f3a"
             ],
             [
              0.8888888888888888,
              "#fdca26"
             ],
             [
              1,
              "#f0f921"
             ]
            ],
            "type": "histogram2d"
           }
          ],
          "histogram2dcontour": [
           {
            "colorbar": {
             "outlinewidth": 0,
             "ticks": ""
            },
            "colorscale": [
             [
              0,
              "#0d0887"
             ],
             [
              0.1111111111111111,
              "#46039f"
             ],
             [
              0.2222222222222222,
              "#7201a8"
             ],
             [
              0.3333333333333333,
              "#9c179e"
             ],
             [
              0.4444444444444444,
              "#bd3786"
             ],
             [
              0.5555555555555556,
              "#d8576b"
             ],
             [
              0.6666666666666666,
              "#ed7953"
             ],
             [
              0.7777777777777778,
              "#fb9f3a"
             ],
             [
              0.8888888888888888,
              "#fdca26"
             ],
             [
              1,
              "#f0f921"
             ]
            ],
            "type": "histogram2dcontour"
           }
          ],
          "mesh3d": [
           {
            "colorbar": {
             "outlinewidth": 0,
             "ticks": ""
            },
            "type": "mesh3d"
           }
          ],
          "parcoords": [
           {
            "line": {
             "colorbar": {
              "outlinewidth": 0,
              "ticks": ""
             }
            },
            "type": "parcoords"
           }
          ],
          "pie": [
           {
            "automargin": true,
            "type": "pie"
           }
          ],
          "scatter": [
           {
            "marker": {
             "colorbar": {
              "outlinewidth": 0,
              "ticks": ""
             }
            },
            "type": "scatter"
           }
          ],
          "scatter3d": [
           {
            "line": {
             "colorbar": {
              "outlinewidth": 0,
              "ticks": ""
             }
            },
            "marker": {
             "colorbar": {
              "outlinewidth": 0,
              "ticks": ""
             }
            },
            "type": "scatter3d"
           }
          ],
          "scattercarpet": [
           {
            "marker": {
             "colorbar": {
              "outlinewidth": 0,
              "ticks": ""
             }
            },
            "type": "scattercarpet"
           }
          ],
          "scattergeo": [
           {
            "marker": {
             "colorbar": {
              "outlinewidth": 0,
              "ticks": ""
             }
            },
            "type": "scattergeo"
           }
          ],
          "scattergl": [
           {
            "marker": {
             "colorbar": {
              "outlinewidth": 0,
              "ticks": ""
             }
            },
            "type": "scattergl"
           }
          ],
          "scattermapbox": [
           {
            "marker": {
             "colorbar": {
              "outlinewidth": 0,
              "ticks": ""
             }
            },
            "type": "scattermapbox"
           }
          ],
          "scatterpolar": [
           {
            "marker": {
             "colorbar": {
              "outlinewidth": 0,
              "ticks": ""
             }
            },
            "type": "scatterpolar"
           }
          ],
          "scatterpolargl": [
           {
            "marker": {
             "colorbar": {
              "outlinewidth": 0,
              "ticks": ""
             }
            },
            "type": "scatterpolargl"
           }
          ],
          "scatterternary": [
           {
            "marker": {
             "colorbar": {
              "outlinewidth": 0,
              "ticks": ""
             }
            },
            "type": "scatterternary"
           }
          ],
          "surface": [
           {
            "colorbar": {
             "outlinewidth": 0,
             "ticks": ""
            },
            "colorscale": [
             [
              0,
              "#0d0887"
             ],
             [
              0.1111111111111111,
              "#46039f"
             ],
             [
              0.2222222222222222,
              "#7201a8"
             ],
             [
              0.3333333333333333,
              "#9c179e"
             ],
             [
              0.4444444444444444,
              "#bd3786"
             ],
             [
              0.5555555555555556,
              "#d8576b"
             ],
             [
              0.6666666666666666,
              "#ed7953"
             ],
             [
              0.7777777777777778,
              "#fb9f3a"
             ],
             [
              0.8888888888888888,
              "#fdca26"
             ],
             [
              1,
              "#f0f921"
             ]
            ],
            "type": "surface"
           }
          ],
          "table": [
           {
            "cells": {
             "fill": {
              "color": "#EBF0F8"
             },
             "line": {
              "color": "white"
             }
            },
            "header": {
             "fill": {
              "color": "#C8D4E3"
             },
             "line": {
              "color": "white"
             }
            },
            "type": "table"
           }
          ]
         },
         "layout": {
          "annotationdefaults": {
           "arrowcolor": "#2a3f5f",
           "arrowhead": 0,
           "arrowwidth": 1
          },
          "autotypenumbers": "strict",
          "coloraxis": {
           "colorbar": {
            "outlinewidth": 0,
            "ticks": ""
           }
          },
          "colorscale": {
           "diverging": [
            [
             0,
             "#8e0152"
            ],
            [
             0.1,
             "#c51b7d"
            ],
            [
             0.2,
             "#de77ae"
            ],
            [
             0.3,
             "#f1b6da"
            ],
            [
             0.4,
             "#fde0ef"
            ],
            [
             0.5,
             "#f7f7f7"
            ],
            [
             0.6,
             "#e6f5d0"
            ],
            [
             0.7,
             "#b8e186"
            ],
            [
             0.8,
             "#7fbc41"
            ],
            [
             0.9,
             "#4d9221"
            ],
            [
             1,
             "#276419"
            ]
           ],
           "sequential": [
            [
             0,
             "#0d0887"
            ],
            [
             0.1111111111111111,
             "#46039f"
            ],
            [
             0.2222222222222222,
             "#7201a8"
            ],
            [
             0.3333333333333333,
             "#9c179e"
            ],
            [
             0.4444444444444444,
             "#bd3786"
            ],
            [
             0.5555555555555556,
             "#d8576b"
            ],
            [
             0.6666666666666666,
             "#ed7953"
            ],
            [
             0.7777777777777778,
             "#fb9f3a"
            ],
            [
             0.8888888888888888,
             "#fdca26"
            ],
            [
             1,
             "#f0f921"
            ]
           ],
           "sequentialminus": [
            [
             0,
             "#0d0887"
            ],
            [
             0.1111111111111111,
             "#46039f"
            ],
            [
             0.2222222222222222,
             "#7201a8"
            ],
            [
             0.3333333333333333,
             "#9c179e"
            ],
            [
             0.4444444444444444,
             "#bd3786"
            ],
            [
             0.5555555555555556,
             "#d8576b"
            ],
            [
             0.6666666666666666,
             "#ed7953"
            ],
            [
             0.7777777777777778,
             "#fb9f3a"
            ],
            [
             0.8888888888888888,
             "#fdca26"
            ],
            [
             1,
             "#f0f921"
            ]
           ]
          },
          "colorway": [
           "#636efa",
           "#EF553B",
           "#00cc96",
           "#ab63fa",
           "#FFA15A",
           "#19d3f3",
           "#FF6692",
           "#B6E880",
           "#FF97FF",
           "#FECB52"
          ],
          "font": {
           "color": "#2a3f5f"
          },
          "geo": {
           "bgcolor": "white",
           "lakecolor": "white",
           "landcolor": "#E5ECF6",
           "showlakes": true,
           "showland": true,
           "subunitcolor": "white"
          },
          "hoverlabel": {
           "align": "left"
          },
          "hovermode": "closest",
          "mapbox": {
           "style": "light"
          },
          "paper_bgcolor": "white",
          "plot_bgcolor": "#E5ECF6",
          "polar": {
           "angularaxis": {
            "gridcolor": "white",
            "linecolor": "white",
            "ticks": ""
           },
           "bgcolor": "#E5ECF6",
           "radialaxis": {
            "gridcolor": "white",
            "linecolor": "white",
            "ticks": ""
           }
          },
          "scene": {
           "xaxis": {
            "backgroundcolor": "#E5ECF6",
            "gridcolor": "white",
            "gridwidth": 2,
            "linecolor": "white",
            "showbackground": true,
            "ticks": "",
            "zerolinecolor": "white"
           },
           "yaxis": {
            "backgroundcolor": "#E5ECF6",
            "gridcolor": "white",
            "gridwidth": 2,
            "linecolor": "white",
            "showbackground": true,
            "ticks": "",
            "zerolinecolor": "white"
           },
           "zaxis": {
            "backgroundcolor": "#E5ECF6",
            "gridcolor": "white",
            "gridwidth": 2,
            "linecolor": "white",
            "showbackground": true,
            "ticks": "",
            "zerolinecolor": "white"
           }
          },
          "shapedefaults": {
           "line": {
            "color": "#2a3f5f"
           }
          },
          "ternary": {
           "aaxis": {
            "gridcolor": "white",
            "linecolor": "white",
            "ticks": ""
           },
           "baxis": {
            "gridcolor": "white",
            "linecolor": "white",
            "ticks": ""
           },
           "bgcolor": "#E5ECF6",
           "caxis": {
            "gridcolor": "white",
            "linecolor": "white",
            "ticks": ""
           }
          },
          "title": {
           "x": 0.05
          },
          "xaxis": {
           "automargin": true,
           "gridcolor": "white",
           "linecolor": "white",
           "ticks": "",
           "title": {
            "standoff": 15
           },
           "zerolinecolor": "white",
           "zerolinewidth": 2
          },
          "yaxis": {
           "automargin": true,
           "gridcolor": "white",
           "linecolor": "white",
           "ticks": "",
           "title": {
            "standoff": 15
           },
           "zerolinecolor": "white",
           "zerolinewidth": 2
          }
         }
        },
        "title": {
         "text": "<b>Turbine efficiency curves of G1 in Plant1</b>"
        },
        "xaxis": {
         "autorange": true,
         "range": [
          26.222449132256134,
          60.727550867743865
         ],
         "title": {
          "text": "<b>Discharge</b> (m<sup>3</sup>/s)"
         },
         "type": "linear"
        },
        "yaxis": {
         "autorange": true,
         "range": [
          85.11341650485437,
          95.84118349514563
         ],
         "title": {
          "text": "<b>Efficiency</b> (%)"
         },
         "type": "linear"
        }
       }
      },
      "image/png": "[encoded data removed]",
      "text/html": [
       "<div>                            <div id=\"243fe786-f0e2-4a39-ba23-824167a36fb5\" class=\"plotly-graph-div\" style=\"height:525px; width:100%;\"></div>            <script type=\"text/javascript\">                require([\"plotly\"], function(Plotly) {                    window.PLOTLYENV=window.PLOTLYENV || {};                                    if (document.getElementById(\"243fe786-f0e2-4a39-ba23-824167a36fb5\")) {                    Plotly.newPlot(                        \"243fe786-f0e2-4a39-ba23-824167a36fb5\",                        [{\"line\":{\"width\":2},\"marker\":{\"color\":\"rgb(33,102,172)\"},\"mode\":\"lines+markers\",\"name\":\"Net Head=170.0\",\"type\":\"scatter\",\"x\":[28.12,30.45,32.78,35.11,37.45,39.78,42.11,44.44,46.77,49.1,51.43,53.76,56.1,58.83],\"y\":[85.8733,87.0319,88.0879,89.0544,89.9446,90.7717,91.5488,92.2643,92.8213,93.109,93.217,93.039,92.657,92.1746]},{\"line\":{\"width\":2},\"marker\":{\"color\":\"rgb(67,147,195)\"},\"mode\":\"lines+markers\",\"name\":\"Net Head=200.0\",\"type\":\"scatter\",\"x\":[28.12,30.45,32.78,35.11,37.45,39.78,42.11,44.44,46.77,49.1,51.43,53.76,56.1,58.83],\"y\":[86.7321,87.9022,88.9688,89.945,90.8441,91.6794,92.4643,93.187,93.7495,94.0401,94.1492,93.9694,93.5836,93.0964]},{\"line\":{\"width\":2},\"marker\":{\"color\":\"rgb(146,197,222)\"},\"mode\":\"lines+markers\",\"name\":\"Net Head=230.0\",\"type\":\"scatter\",\"x\":[28.12,30.45,32.78,35.11,37.45,39.78,42.11,44.44,46.77,49.1,51.43,53.76,56.1,58.83],\"y\":[87.5908,88.7725,89.8497,90.8355,91.7435,92.5871,93.3798,94.1096,94.6777,94.9712,95.0813,94.8998,94.5101,94.0181]}],                        {\"template\":{\"data\":{\"bar\":[{\"error_x\":{\"color\":\"#2a3f5f\"},\"error_y\":{\"color\":\"#2a3f5f\"},\"marker\":{\"line\":{\"color\":\"#E5ECF6\",\"width\":0.5},\"pattern\":{\"fillmode\":\"overlay\",\"size\":10,\"solidity\":0.2}},\"type\":\"bar\"}],\"barpolar\":[{\"marker\":{\"line\":{\"color\":\"#E5ECF6\",\"width\":0.5},\"pattern\":{\"fillmode\":\"overlay\",\"size\":10,\"solidity\":0.2}},\"type\":\"barpolar\"}],\"carpet\":[{\"aaxis\":{\"endlinecolor\":\"#2a3f5f\",\"gridcolor\":\"white\",\"linecolor\":\"white\",\"minorgridcolor\":\"white\",\"startlinecolor\":\"#2a3f5f\"},\"baxis\":{\"endlinecolor\":\"#2a3f5f\",\"gridcolor\":\"white\",\"linecolor\":\"white\",\"minorgridcolor\":\"white\",\"startlinecolor\":\"#2a3f5f\"},\"type\":\"carpet\"}],\"choropleth\":[{\"colorbar\":{\"outlinewidth\":0,\"ticks\":\"\"},\"type\":\"choropleth\"}],\"contour\":[{\"colorbar\":{\"outlinewidth\":0,\"ticks\":\"\"},\"colorscale\":[[0.0,\"#0d0887\"],[0.1111111111111111,\"#46039f\"],[0.2222222222222222,\"#7201a8\"],[0.3333333333333333,\"#9c179e\"],[0.4444444444444444,\"#bd3786\"],[0.5555555555555556,\"#d8576b\"],[0.6666666666666666,\"#ed7953\"],[0.7777777777777778,\"#fb9f3a\"],[0.8888888888888888,\"#fdca26\"],[1.0,\"#f0f921\"]],\"type\":\"contour\"}],\"contourcarpet\":[{\"colorbar\":{\"outlinewidth\":0,\"ticks\":\"\"},\"type\":\"contourcarpet\"}],\"heatmap\":[{\"colorbar\":{\"outlinewidth\":0,\"ticks\":\"\"},\"colorscale\":[[0.0,\"#0d0887\"],[0.1111111111111111,\"#46039f\"],[0.2222222222222222,\"#7201a8\"],[0.3333333333333333,\"#9c179e\"],[0.4444444444444444,\"#bd3786\"],[0.5555555555555556,\"#d8576b\"],[0.6666666666666666,\"#ed7953\"],[0.7777777777777778,\"#fb9f3a\"],[0.8888888888888888,\"#fdca26\"],[1.0,\"#f0f921\"]],\"type\":\"heatmap\"}],\"heatmapgl\":[{\"colorbar\":{\"outlinewidth\":0,\"ticks\":\"\"},\"colorscale\":[[0.0,\"#0d0887\"],[0.1111111111111111,\"#46039f\"],[0.2222222222222222,\"#7201a8\"],[0.3333333333333333,\"#9c179e\"],[0.4444444444444444,\"#bd3786\"],[0.5555555555555556,\"#d8576b\"],[0.6666666666666666,\"#ed7953\"],[0.7777777777777778,\"#fb9f3a\"],[0.8888888888888888,\"#fdca26\"],[1.0,\"#f0f921\"]],\"type\":\"heatmapgl\"}],\"histogram\":[{\"marker\":{\"pattern\":{\"fillmode\":\"overlay\",\"size\":10,\"solidity\":0.2}},\"type\":\"histogram\"}],\"histogram2d\":[{\"colorbar\":{\"outlinewidth\":0,\"ticks\":\"\"},\"colorscale\":[[0.0,\"#0d0887\"],[0.1111111111111111,\"#46039f\"],[0.2222222222222222,\"#7201a8\"],[0.3333333333333333,\"#9c179e\"],[0.4444444444444444,\"#bd3786\"],[0.5555555555555556,\"#d8576b\"],[0.6666666666666666,\"#ed7953\"],[0.7777777777777778,\"#fb9f3a\"],[0.8888888888888888,\"#fdca26\"],[1.0,\"#f0f921\"]],\"type\":\"histogram2d\"}],\"histogram2dcontour\":[{\"colorbar\":{\"outlinewidth\":0,\"ticks\":\"\"},\"colorscale\":[[0.0,\"#0d0887\"],[0.1111111111111111,\"#46039f\"],[0.2222222222222222,\"#7201a8\"],[0.3333333333333333,\"#9c179e\"],[0.4444444444444444,\"#bd3786\"],[0.5555555555555556,\"#d8576b\"],[0.6666666666666666,\"#ed7953\"],[0.7777777777777778,\"#fb9f3a\"],[0.8888888888888888,\"#fdca26\"],[1.0,\"#f0f921\"]],\"type\":\"histogram2dcontour\"}],\"mesh3d\":[{\"colorbar\":{\"outlinewidth\":0,\"ticks\":\"\"},\"type\":\"mesh3d\"}],\"parcoords\":[{\"line\":{\"colorbar\":{\"outlinewidth\":0,\"ticks\":\"\"}},\"type\":\"parcoords\"}],\"pie\":[{\"automargin\":true,\"type\":\"pie\"}],\"scatter\":[{\"marker\":{\"colorbar\":{\"outlinewidth\":0,\"ticks\":\"\"}},\"type\":\"scatter\"}],\"scatter3d\":[{\"line\":{\"colorbar\":{\"outlinewidth\":0,\"ticks\":\"\"}},\"marker\":{\"colorbar\":{\"outlinewidth\":0,\"ticks\":\"\"}},\"type\":\"scatter3d\"}],\"scattercarpet\":[{\"marker\":{\"colorbar\":{\"outlinewidth\":0,\"ticks\":\"\"}},\"type\":\"scattercarpet\"}],\"scattergeo\":[{\"marker\":{\"colorbar\":{\"outlinewidth\":0,\"ticks\":\"\"}},\"type\":\"scattergeo\"}],\"scattergl\":[{\"marker\":{\"colorbar\":{\"outlinewidth\":0,\"ticks\":\"\"}},\"type\":\"scattergl\"}],\"scattermapbox\":[{\"marker\":{\"colorbar\":{\"outlinewidth\":0,\"ticks\":\"\"}},\"type\":\"scattermapbox\"}],\"scatterpolar\":[{\"marker\":{\"colorbar\":{\"outlinewidth\":0,\"ticks\":\"\"}},\"type\":\"scatterpolar\"}],\"scatterpolargl\":[{\"marker\":{\"colorbar\":{\"outlinewidth\":0,\"ticks\":\"\"}},\"type\":\"scatterpolargl\"}],\"scatterternary\":[{\"marker\":{\"colorbar\":{\"outlinewidth\":0,\"ticks\":\"\"}},\"type\":\"scatterternary\"}],\"surface\":[{\"colorbar\":{\"outlinewidth\":0,\"ticks\":\"\"},\"colorscale\":[[0.0,\"#0d0887\"],[0.1111111111111111,\"#46039f\"],[0.2222222222222222,\"#7201a8\"],[0.3333333333333333,\"#9c179e\"],[0.4444444444444444,\"#bd3786\"],[0.5555555555555556,\"#d8576b\"],[0.6666666666666666,\"#ed7953\"],[0.7777777777777778,\"#fb9f3a\"],[0.8888888888888888,\"#fdca26\"],[1.0,\"#f0f921\"]],\"type\":\"surface\"}],\"table\":[{\"cells\":{\"fill\":{\"color\":\"#EBF0F8\"},\"line\":{\"color\":\"white\"}},\"header\":{\"fill\":{\"color\":\"#C8D4E3\"},\"line\":{\"color\":\"white\"}},\"type\":\"table\"}]},\"layout\":{\"annotationdefaults\":{\"arrowcolor\":\"#2a3f5f\",\"arrowhead\":0,\"arrowwidth\":1},\"autotypenumbers\":\"strict\",\"coloraxis\":{\"colorbar\":{\"outlinewidth\":0,\"ticks\":\"\"}},\"colorscale\":{\"diverging\":[[0,\"#8e0152\"],[0.1,\"#c51b7d\"],[0.2,\"#de77ae\"],[0.3,\"#f1b6da\"],[0.4,\"#fde0ef\"],[0.5,\"#f7f7f7\"],[0.6,\"#e6f5d0\"],[0.7,\"#b8e186\"],[0.8,\"#7fbc41\"],[0.9,\"#4d9221\"],[1,\"#276419\"]],\"sequential\":[[0.0,\"#0d0887\"],[0.1111111111111111,\"#46039f\"],[0.2222222222222222,\"#7201a8\"],[0.3333333333333333,\"#9c179e\"],[0.4444444444444444,\"#bd3786\"],[0.5555555555555556,\"#d8576b\"],[0.6666666666666666,\"#ed7953\"],[0.7777777777777778,\"#fb9f3a\"],[0.8888888888888888,\"#fdca26\"],[1.0,\"#f0f921\"]],\"sequentialminus\":[[0.0,\"#0d0887\"],[0.1111111111111111,\"#46039f\"],[0.2222222222222222,\"#7201a8\"],[0.3333333333333333,\"#9c179e\"],[0.4444444444444444,\"#bd3786\"],[0.5555555555555556,\"#d8576b\"],[0.6666666666666666,\"#ed7953\"],[0.7777777777777778,\"#fb9f3a\"],[0.8888888888888888,\"#fdca26\"],[1.0,\"#f0f921\"]]},\"colorway\":[\"#636efa\",\"#EF553B\",\"#00cc96\",\"#ab63fa\",\"#FFA15A\",\"#19d3f3\",\"#FF6692\",\"#B6E880\",\"#FF97FF\",\"#FECB52\"],\"font\":{\"color\":\"#2a3f5f\"},\"geo\":{\"bgcolor\":\"white\",\"lakecolor\":\"white\",\"landcolor\":\"#E5ECF6\",\"showlakes\":true,\"showland\":true,\"subunitcolor\":\"white\"},\"hoverlabel\":{\"align\":\"left\"},\"hovermode\":\"closest\",\"mapbox\":{\"style\":\"light\"},\"paper_bgcolor\":\"white\",\"plot_bgcolor\":\"#E5ECF6\",\"polar\":{\"angularaxis\":{\"gridcolor\":\"white\",\"linecolor\":\"white\",\"ticks\":\"\"},\"bgcolor\":\"#E5ECF6\",\"radialaxis\":{\"gridcolor\":\"white\",\"linecolor\":\"white\",\"ticks\":\"\"}},\"scene\":{\"xaxis\":{\"backgroundcolor\":\"#E5ECF6\",\"gridcolor\":\"white\",\"gridwidth\":2,\"linecolor\":\"white\",\"showbackground\":true,\"ticks\":\"\",\"zerolinecolor\":\"white\"},\"yaxis\":{\"backgroundcolor\":\"#E5ECF6\",\"gridcolor\":\"white\",\"gridwidth\":2,\"linecolor\":\"white\",\"showbackground\":true,\"ticks\":\"\",\"zerolinecolor\":\"white\"},\"zaxis\":{\"backgroundcolor\":\"#E5ECF6\",\"gridcolor\":\"white\",\"gridwidth\":2,\"linecolor\":\"white\",\"showbackground\":true,\"ticks\":\"\",\"zerolinecolor\":\"white\"}},\"shapedefaults\":{\"line\":{\"color\":\"#2a3f5f\"}},\"ternary\":{\"aaxis\":{\"gridcolor\":\"white\",\"linecolor\":\"white\",\"ticks\":\"\"},\"baxis\":{\"gridcolor\":\"white\",\"linecolor\":\"white\",\"ticks\":\"\"},\"bgcolor\":\"#E5ECF6\",\"caxis\":{\"gridcolor\":\"white\",\"linecolor\":\"white\",\"ticks\":\"\"}},\"title\":{\"x\":0.05},\"xaxis\":{\"automargin\":true,\"gridcolor\":\"white\",\"linecolor\":\"white\",\"ticks\":\"\",\"title\":{\"standoff\":15},\"zerolinecolor\":\"white\",\"zerolinewidth\":2},\"yaxis\":{\"automargin\":true,\"gridcolor\":\"white\",\"linecolor\":\"white\",\"ticks\":\"\",\"title\":{\"standoff\":15},\"zerolinecolor\":\"white\",\"zerolinewidth\":2}}},\"title\":{\"text\":\"<b>Turbine efficiency curves of G1 in Plant1</b>\"},\"xaxis\":{\"title\":{\"text\":\"<b>Discharge</b> (m<sup>3</sup>/s)\"}},\"yaxis\":{\"title\":{\"text\":\"<b>Efficiency</b> (%)\"}}},                        {\"responsive\": true}                    ).then(function(){\n",
       "                            \n",
       "var gd = document.getElementById('243fe786-f0e2-4a39-ba23-824167a36fb5');\n",
       "var x = new MutationObserver(function (mutations, observer) {{\n",
       "        var display = window.getComputedStyle(gd).display;\n",
       "        if (!display || display === 'none') {{\n",
       "            console.log([gd, 'removed!']);\n",
       "            Plotly.purge(gd);\n",
       "            observer.disconnect();\n",
       "        }}\n",
       "}});\n",
       "\n",
       "// Listen for the removal of the full notebook cells\n",
       "var notebookContainer = gd.closest('#notebook-container');\n",
       "if (notebookContainer) {{\n",
       "    x.observe(notebookContainer, {childList: true});\n",
       "}}\n",
       "\n",
       "// Listen for the clearing of the current output cell\n",
       "var outputEl = gd.closest('.output');\n",
       "if (outputEl) {{\n",
       "    x.observe(outputEl, {childList: true});\n",
       "}}\n",
       "\n",
       "                        })                };                });            </script>        </div>"
      ]
     },
     "metadata": {},
     "output_type": "display_data"
    }
   ],
   "source": [
    "# Plotting the turbine efficiency curves of G1 (G2 is the same as G1) in Plant1 \r\n",
    "turb_eff_curves=shop.model.generator.Plant1_Generator1.turb_eff_curves.get()\r\n",
    "\r\n",
    "fig = go.Figure()\r\n",
    "colorscale = px.colors.sequential.RdBu_r\r\n",
    "color = 0\r\n",
    "for curve in turb_eff_curves:\r\n",
    "    color+=1\r\n",
    "    curve_name=\"Net Head=\"+str(curve.name)\r\n",
    "    fig.add_trace(go.Scatter(x=curve.index, y=curve.values, marker_color = colorscale[color], name=curve_name, mode=\"lines+markers\", line=dict(width=2)))\r\n",
    "\r\n",
    "fig.update_layout(title=\"<b>Turbine efficiency curves of G1 in Plant1</b>\", xaxis_title=\"<b>Discharge</b> (m<sup>3</sup>/s)\", yaxis_title=\"<b>Efficiency</b> (%)\")\r\n",
    "\r\n",
    "fig.show()"
   ]
  },
  {
   "cell_type": "code",
   "execution_count": 25,
   "metadata": {
    "Collapsed": "false"
   },
   "outputs": [
    {
     "data": {
      "application/vnd.plotly.v1+json": {
       "config": {
        "plotlyServerURL": "https://plot.ly"
       },
       "data": [
        {
         "line": {
          "width": 2
         },
         "marker": {
          "color": "rgb(209,229,240)"
         },
         "mode": "lines+markers",
         "name": "G1 Net Head=60.0",
         "type": "scatter",
         "x": [
          126.54,
          137.03,
          147.51,
          158,
          168.53,
          179.01,
          189.5,
          199.98,
          210.47,
          220.95,
          231.44,
          241.92,
          252.45,
          264.74
         ],
         "y": [
          92.7201,
          93.2583,
          93.7305,
          94.1368,
          94.4785,
          94.7525,
          94.9606,
          95.1028,
          95.179,
          95.1892,
          95.1335,
          95.0118,
          94.8232,
          94.5191
         ]
        },
        {
         "line": {
          "width": 2
         },
         "marker": {
          "color": "rgb(247,247,247)"
         },
         "mode": "lines+markers",
         "name": "G2 Net Head=60.0",
         "type": "scatter",
         "x": [
          40.82,
          44.2,
          47.58,
          50.97,
          54.36,
          57.75,
          61.13,
          64.51,
          67.89,
          71.27,
          74.66,
          78.04,
          81.44,
          85.4
         ],
         "y": [
          83.87,
          85.1937,
          86.3825,
          87.4362,
          88.3587,
          89.1419,
          89.7901,
          90.3033,
          90.6815,
          90.9248,
          91.0331,
          91.0063,
          90.8436,
          90.4817
         ]
        }
       ],
       "layout": {
        "autosize": true,
        "template": {
         "data": {
          "bar": [
           {
            "error_x": {
             "color": "#2a3f5f"
            },
            "error_y": {
             "color": "#2a3f5f"
            },
            "marker": {
             "line": {
              "color": "#E5ECF6",
              "width": 0.5
             },
             "pattern": {
              "fillmode": "overlay",
              "size": 10,
              "solidity": 0.2
             }
            },
            "type": "bar"
           }
          ],
          "barpolar": [
           {
            "marker": {
             "line": {
              "color": "#E5ECF6",
              "width": 0.5
             },
             "pattern": {
              "fillmode": "overlay",
              "size": 10,
              "solidity": 0.2
             }
            },
            "type": "barpolar"
           }
          ],
          "carpet": [
           {
            "aaxis": {
             "endlinecolor": "#2a3f5f",
             "gridcolor": "white",
             "linecolor": "white",
             "minorgridcolor": "white",
             "startlinecolor": "#2a3f5f"
            },
            "baxis": {
             "endlinecolor": "#2a3f5f",
             "gridcolor": "white",
             "linecolor": "white",
             "minorgridcolor": "white",
             "startlinecolor": "#2a3f5f"
            },
            "type": "carpet"
           }
          ],
          "choropleth": [
           {
            "colorbar": {
             "outlinewidth": 0,
             "ticks": ""
            },
            "type": "choropleth"
           }
          ],
          "contour": [
           {
            "colorbar": {
             "outlinewidth": 0,
             "ticks": ""
            },
            "colorscale": [
             [
              0,
              "#0d0887"
             ],
             [
              0.1111111111111111,
              "#46039f"
             ],
             [
              0.2222222222222222,
              "#7201a8"
             ],
             [
              0.3333333333333333,
              "#9c179e"
             ],
             [
              0.4444444444444444,
              "#bd3786"
             ],
             [
              0.5555555555555556,
              "#d8576b"
             ],
             [
              0.6666666666666666,
              "#ed7953"
             ],
             [
              0.7777777777777778,
              "#fb9f3a"
             ],
             [
              0.8888888888888888,
              "#fdca26"
             ],
             [
              1,
              "#f0f921"
             ]
            ],
            "type": "contour"
           }
          ],
          "contourcarpet": [
           {
            "colorbar": {
             "outlinewidth": 0,
             "ticks": ""
            },
            "type": "contourcarpet"
           }
          ],
          "heatmap": [
           {
            "colorbar": {
             "outlinewidth": 0,
             "ticks": ""
            },
            "colorscale": [
             [
              0,
              "#0d0887"
             ],
             [
              0.1111111111111111,
              "#46039f"
             ],
             [
              0.2222222222222222,
              "#7201a8"
             ],
             [
              0.3333333333333333,
              "#9c179e"
             ],
             [
              0.4444444444444444,
              "#bd3786"
             ],
             [
              0.5555555555555556,
              "#d8576b"
             ],
             [
              0.6666666666666666,
              "#ed7953"
             ],
             [
              0.7777777777777778,
              "#fb9f3a"
             ],
             [
              0.8888888888888888,
              "#fdca26"
             ],
             [
              1,
              "#f0f921"
             ]
            ],
            "type": "heatmap"
           }
          ],
          "heatmapgl": [
           {
            "colorbar": {
             "outlinewidth": 0,
             "ticks": ""
            },
            "colorscale": [
             [
              0,
              "#0d0887"
             ],
             [
              0.1111111111111111,
              "#46039f"
             ],
             [
              0.2222222222222222,
              "#7201a8"
             ],
             [
              0.3333333333333333,
              "#9c179e"
             ],
             [
              0.4444444444444444,
              "#bd3786"
             ],
             [
              0.5555555555555556,
              "#d8576b"
             ],
             [
              0.6666666666666666,
              "#ed7953"
             ],
             [
              0.7777777777777778,
              "#fb9f3a"
             ],
             [
              0.8888888888888888,
              "#fdca26"
             ],
             [
              1,
              "#f0f921"
             ]
            ],
            "type": "heatmapgl"
           }
          ],
          "histogram": [
           {
            "marker": {
             "pattern": {
              "fillmode": "overlay",
              "size": 10,
              "solidity": 0.2
             }
            },
            "type": "histogram"
           }
          ],
          "histogram2d": [
           {
            "colorbar": {
             "outlinewidth": 0,
             "ticks": ""
            },
            "colorscale": [
             [
              0,
              "#0d0887"
             ],
             [
              0.1111111111111111,
              "#46039f"
             ],
             [
              0.2222222222222222,
              "#7201a8"
             ],
             [
              0.3333333333333333,
              "#9c179e"
             ],
             [
              0.4444444444444444,
              "#bd3786"
             ],
             [
              0.5555555555555556,
              "#d8576b"
             ],
             [
              0.6666666666666666,
              "#ed7953"
             ],
             [
              0.7777777777777778,
              "#fb9f3a"
             ],
             [
              0.8888888888888888,
              "#fdca26"
             ],
             [
              1,
              "#f0f921"
             ]
            ],
            "type": "histogram2d"
           }
          ],
          "histogram2dcontour": [
           {
            "colorbar": {
             "outlinewidth": 0,
             "ticks": ""
            },
            "colorscale": [
             [
              0,
              "#0d0887"
             ],
             [
              0.1111111111111111,
              "#46039f"
             ],
             [
              0.2222222222222222,
              "#7201a8"
             ],
             [
              0.3333333333333333,
              "#9c179e"
             ],
             [
              0.4444444444444444,
              "#bd3786"
             ],
             [
              0.5555555555555556,
              "#d8576b"
             ],
             [
              0.6666666666666666,
              "#ed7953"
             ],
             [
              0.7777777777777778,
              "#fb9f3a"
             ],
             [
              0.8888888888888888,
              "#fdca26"
             ],
             [
              1,
              "#f0f921"
             ]
            ],
            "type": "histogram2dcontour"
           }
          ],
          "mesh3d": [
           {
            "colorbar": {
             "outlinewidth": 0,
             "ticks": ""
            },
            "type": "mesh3d"
           }
          ],
          "parcoords": [
           {
            "line": {
             "colorbar": {
              "outlinewidth": 0,
              "ticks": ""
             }
            },
            "type": "parcoords"
           }
          ],
          "pie": [
           {
            "automargin": true,
            "type": "pie"
           }
          ],
          "scatter": [
           {
            "marker": {
             "colorbar": {
              "outlinewidth": 0,
              "ticks": ""
             }
            },
            "type": "scatter"
           }
          ],
          "scatter3d": [
           {
            "line": {
             "colorbar": {
              "outlinewidth": 0,
              "ticks": ""
             }
            },
            "marker": {
             "colorbar": {
              "outlinewidth": 0,
              "ticks": ""
             }
            },
            "type": "scatter3d"
           }
          ],
          "scattercarpet": [
           {
            "marker": {
             "colorbar": {
              "outlinewidth": 0,
              "ticks": ""
             }
            },
            "type": "scattercarpet"
           }
          ],
          "scattergeo": [
           {
            "marker": {
             "colorbar": {
              "outlinewidth": 0,
              "ticks": ""
             }
            },
            "type": "scattergeo"
           }
          ],
          "scattergl": [
           {
            "marker": {
             "colorbar": {
              "outlinewidth": 0,
              "ticks": ""
             }
            },
            "type": "scattergl"
           }
          ],
          "scattermapbox": [
           {
            "marker": {
             "colorbar": {
              "outlinewidth": 0,
              "ticks": ""
             }
            },
            "type": "scattermapbox"
           }
          ],
          "scatterpolar": [
           {
            "marker": {
             "colorbar": {
              "outlinewidth": 0,
              "ticks": ""
             }
            },
            "type": "scatterpolar"
           }
          ],
          "scatterpolargl": [
           {
            "marker": {
             "colorbar": {
              "outlinewidth": 0,
              "ticks": ""
             }
            },
            "type": "scatterpolargl"
           }
          ],
          "scatterternary": [
           {
            "marker": {
             "colorbar": {
              "outlinewidth": 0,
              "ticks": ""
             }
            },
            "type": "scatterternary"
           }
          ],
          "surface": [
           {
            "colorbar": {
             "outlinewidth": 0,
             "ticks": ""
            },
            "colorscale": [
             [
              0,
              "#0d0887"
             ],
             [
              0.1111111111111111,
              "#46039f"
             ],
             [
              0.2222222222222222,
              "#7201a8"
             ],
             [
              0.3333333333333333,
              "#9c179e"
             ],
             [
              0.4444444444444444,
              "#bd3786"
             ],
             [
              0.5555555555555556,
              "#d8576b"
             ],
             [
              0.6666666666666666,
              "#ed7953"
             ],
             [
              0.7777777777777778,
              "#fb9f3a"
             ],
             [
              0.8888888888888888,
              "#fdca26"
             ],
             [
              1,
              "#f0f921"
             ]
            ],
            "type": "surface"
           }
          ],
          "table": [
           {
            "cells": {
             "fill": {
              "color": "#EBF0F8"
             },
             "line": {
              "color": "white"
             }
            },
            "header": {
             "fill": {
              "color": "#C8D4E3"
             },
             "line": {
              "color": "white"
             }
            },
            "type": "table"
           }
          ]
         },
         "layout": {
          "annotationdefaults": {
           "arrowcolor": "#2a3f5f",
           "arrowhead": 0,
           "arrowwidth": 1
          },
          "autotypenumbers": "strict",
          "coloraxis": {
           "colorbar": {
            "outlinewidth": 0,
            "ticks": ""
           }
          },
          "colorscale": {
           "diverging": [
            [
             0,
             "#8e0152"
            ],
            [
             0.1,
             "#c51b7d"
            ],
            [
             0.2,
             "#de77ae"
            ],
            [
             0.3,
             "#f1b6da"
            ],
            [
             0.4,
             "#fde0ef"
            ],
            [
             0.5,
             "#f7f7f7"
            ],
            [
             0.6,
             "#e6f5d0"
            ],
            [
             0.7,
             "#b8e186"
            ],
            [
             0.8,
             "#7fbc41"
            ],
            [
             0.9,
             "#4d9221"
            ],
            [
             1,
             "#276419"
            ]
           ],
           "sequential": [
            [
             0,
             "#0d0887"
            ],
            [
             0.1111111111111111,
             "#46039f"
            ],
            [
             0.2222222222222222,
             "#7201a8"
            ],
            [
             0.3333333333333333,
             "#9c179e"
            ],
            [
             0.4444444444444444,
             "#bd3786"
            ],
            [
             0.5555555555555556,
             "#d8576b"
            ],
            [
             0.6666666666666666,
             "#ed7953"
            ],
            [
             0.7777777777777778,
             "#fb9f3a"
            ],
            [
             0.8888888888888888,
             "#fdca26"
            ],
            [
             1,
             "#f0f921"
            ]
           ],
           "sequentialminus": [
            [
             0,
             "#0d0887"
            ],
            [
             0.1111111111111111,
             "#46039f"
            ],
            [
             0.2222222222222222,
             "#7201a8"
            ],
            [
             0.3333333333333333,
             "#9c179e"
            ],
            [
             0.4444444444444444,
             "#bd3786"
            ],
            [
             0.5555555555555556,
             "#d8576b"
            ],
            [
             0.6666666666666666,
             "#ed7953"
            ],
            [
             0.7777777777777778,
             "#fb9f3a"
            ],
            [
             0.8888888888888888,
             "#fdca26"
            ],
            [
             1,
             "#f0f921"
            ]
           ]
          },
          "colorway": [
           "#636efa",
           "#EF553B",
           "#00cc96",
           "#ab63fa",
           "#FFA15A",
           "#19d3f3",
           "#FF6692",
           "#B6E880",
           "#FF97FF",
           "#FECB52"
          ],
          "font": {
           "color": "#2a3f5f"
          },
          "geo": {
           "bgcolor": "white",
           "lakecolor": "white",
           "landcolor": "#E5ECF6",
           "showlakes": true,
           "showland": true,
           "subunitcolor": "white"
          },
          "hoverlabel": {
           "align": "left"
          },
          "hovermode": "closest",
          "mapbox": {
           "style": "light"
          },
          "paper_bgcolor": "white",
          "plot_bgcolor": "#E5ECF6",
          "polar": {
           "angularaxis": {
            "gridcolor": "white",
            "linecolor": "white",
            "ticks": ""
           },
           "bgcolor": "#E5ECF6",
           "radialaxis": {
            "gridcolor": "white",
            "linecolor": "white",
            "ticks": ""
           }
          },
          "scene": {
           "xaxis": {
            "backgroundcolor": "#E5ECF6",
            "gridcolor": "white",
            "gridwidth": 2,
            "linecolor": "white",
            "showbackground": true,
            "ticks": "",
            "zerolinecolor": "white"
           },
           "yaxis": {
            "backgroundcolor": "#E5ECF6",
            "gridcolor": "white",
            "gridwidth": 2,
            "linecolor": "white",
            "showbackground": true,
            "ticks": "",
            "zerolinecolor": "white"
           },
           "zaxis": {
            "backgroundcolor": "#E5ECF6",
            "gridcolor": "white",
            "gridwidth": 2,
            "linecolor": "white",
            "showbackground": true,
            "ticks": "",
            "zerolinecolor": "white"
           }
          },
          "shapedefaults": {
           "line": {
            "color": "#2a3f5f"
           }
          },
          "ternary": {
           "aaxis": {
            "gridcolor": "white",
            "linecolor": "white",
            "ticks": ""
           },
           "baxis": {
            "gridcolor": "white",
            "linecolor": "white",
            "ticks": ""
           },
           "bgcolor": "#E5ECF6",
           "caxis": {
            "gridcolor": "white",
            "linecolor": "white",
            "ticks": ""
           }
          },
          "title": {
           "x": 0.05
          },
          "xaxis": {
           "automargin": true,
           "gridcolor": "white",
           "linecolor": "white",
           "ticks": "",
           "title": {
            "standoff": 15
           },
           "zerolinecolor": "white",
           "zerolinewidth": 2
          },
          "yaxis": {
           "automargin": true,
           "gridcolor": "white",
           "linecolor": "white",
           "ticks": "",
           "title": {
            "standoff": 15
           },
           "zerolinecolor": "white",
           "zerolinewidth": 2
          }
         }
        },
        "title": {
         "text": "<b>Turbine efficiency curves of G1 and G2 in Plant2</b>"
        },
        "xaxis": {
         "autorange": true,
         "range": [
          26.959259936043857,
          278.60074006395615
         ],
         "title": {
          "text": "<b>Discharge</b> (m<sup>3</sup>/s)"
         },
         "type": "linear"
        },
        "yaxis": {
         "autorange": true,
         "range": [
          82.93589126213593,
          96.12330873786408
         ],
         "title": {
          "text": "<b>Efficiency</b> (%)"
         },
         "type": "linear"
        }
       }
      },
      "image/png": "[encoded data removed]",
      "text/html": [
       "<div>                            <div id=\"7980f32c-855c-4d3b-888c-c7ea98168cda\" class=\"plotly-graph-div\" style=\"height:525px; width:100%;\"></div>            <script type=\"text/javascript\">                require([\"plotly\"], function(Plotly) {                    window.PLOTLYENV=window.PLOTLYENV || {};                                    if (document.getElementById(\"7980f32c-855c-4d3b-888c-c7ea98168cda\")) {                    Plotly.newPlot(                        \"7980f32c-855c-4d3b-888c-c7ea98168cda\",                        [{\"line\":{\"width\":2},\"marker\":{\"color\":\"rgb(209,229,240)\"},\"mode\":\"lines+markers\",\"name\":\"G1 Net Head=60.0\",\"type\":\"scatter\",\"x\":[126.54,137.03,147.51,158.0,168.53,179.01,189.5,199.98,210.47,220.95,231.44,241.92,252.45,264.74],\"y\":[92.7201,93.2583,93.7305,94.1368,94.4785,94.7525,94.9606,95.1028,95.179,95.1892,95.1335,95.0118,94.8232,94.5191]},{\"line\":{\"width\":2},\"marker\":{\"color\":\"rgb(247,247,247)\"},\"mode\":\"lines+markers\",\"name\":\"G2 Net Head=60.0\",\"type\":\"scatter\",\"x\":[40.82,44.2,47.58,50.97,54.36,57.75,61.13,64.51,67.89,71.27,74.66,78.04,81.44,85.4],\"y\":[83.87,85.1937,86.3825,87.4362,88.3587,89.1419,89.7901,90.3033,90.6815,90.9248,91.0331,91.0063,90.8436,90.4817]}],                        {\"template\":{\"data\":{\"bar\":[{\"error_x\":{\"color\":\"#2a3f5f\"},\"error_y\":{\"color\":\"#2a3f5f\"},\"marker\":{\"line\":{\"color\":\"#E5ECF6\",\"width\":0.5},\"pattern\":{\"fillmode\":\"overlay\",\"size\":10,\"solidity\":0.2}},\"type\":\"bar\"}],\"barpolar\":[{\"marker\":{\"line\":{\"color\":\"#E5ECF6\",\"width\":0.5},\"pattern\":{\"fillmode\":\"overlay\",\"size\":10,\"solidity\":0.2}},\"type\":\"barpolar\"}],\"carpet\":[{\"aaxis\":{\"endlinecolor\":\"#2a3f5f\",\"gridcolor\":\"white\",\"linecolor\":\"white\",\"minorgridcolor\":\"white\",\"startlinecolor\":\"#2a3f5f\"},\"baxis\":{\"endlinecolor\":\"#2a3f5f\",\"gridcolor\":\"white\",\"linecolor\":\"white\",\"minorgridcolor\":\"white\",\"startlinecolor\":\"#2a3f5f\"},\"type\":\"carpet\"}],\"choropleth\":[{\"colorbar\":{\"outlinewidth\":0,\"ticks\":\"\"},\"type\":\"choropleth\"}],\"contour\":[{\"colorbar\":{\"outlinewidth\":0,\"ticks\":\"\"},\"colorscale\":[[0.0,\"#0d0887\"],[0.1111111111111111,\"#46039f\"],[0.2222222222222222,\"#7201a8\"],[0.3333333333333333,\"#9c179e\"],[0.4444444444444444,\"#bd3786\"],[0.5555555555555556,\"#d8576b\"],[0.6666666666666666,\"#ed7953\"],[0.7777777777777778,\"#fb9f3a\"],[0.8888888888888888,\"#fdca26\"],[1.0,\"#f0f921\"]],\"type\":\"contour\"}],\"contourcarpet\":[{\"colorbar\":{\"outlinewidth\":0,\"ticks\":\"\"},\"type\":\"contourcarpet\"}],\"heatmap\":[{\"colorbar\":{\"outlinewidth\":0,\"ticks\":\"\"},\"colorscale\":[[0.0,\"#0d0887\"],[0.1111111111111111,\"#46039f\"],[0.2222222222222222,\"#7201a8\"],[0.3333333333333333,\"#9c179e\"],[0.4444444444444444,\"#bd3786\"],[0.5555555555555556,\"#d8576b\"],[0.6666666666666666,\"#ed7953\"],[0.7777777777777778,\"#fb9f3a\"],[0.8888888888888888,\"#fdca26\"],[1.0,\"#f0f921\"]],\"type\":\"heatmap\"}],\"heatmapgl\":[{\"colorbar\":{\"outlinewidth\":0,\"ticks\":\"\"},\"colorscale\":[[0.0,\"#0d0887\"],[0.1111111111111111,\"#46039f\"],[0.2222222222222222,\"#7201a8\"],[0.3333333333333333,\"#9c179e\"],[0.4444444444444444,\"#bd3786\"],[0.5555555555555556,\"#d8576b\"],[0.6666666666666666,\"#ed7953\"],[0.7777777777777778,\"#fb9f3a\"],[0.8888888888888888,\"#fdca26\"],[1.0,\"#f0f921\"]],\"type\":\"heatmapgl\"}],\"histogram\":[{\"marker\":{\"pattern\":{\"fillmode\":\"overlay\",\"size\":10,\"solidity\":0.2}},\"type\":\"histogram\"}],\"histogram2d\":[{\"colorbar\":{\"outlinewidth\":0,\"ticks\":\"\"},\"colorscale\":[[0.0,\"#0d0887\"],[0.1111111111111111,\"#46039f\"],[0.2222222222222222,\"#7201a8\"],[0.3333333333333333,\"#9c179e\"],[0.4444444444444444,\"#bd3786\"],[0.5555555555555556,\"#d8576b\"],[0.6666666666666666,\"#ed7953\"],[0.7777777777777778,\"#fb9f3a\"],[0.8888888888888888,\"#fdca26\"],[1.0,\"#f0f921\"]],\"type\":\"histogram2d\"}],\"histogram2dcontour\":[{\"colorbar\":{\"outlinewidth\":0,\"ticks\":\"\"},\"colorscale\":[[0.0,\"#0d0887\"],[0.1111111111111111,\"#46039f\"],[0.2222222222222222,\"#7201a8\"],[0.3333333333333333,\"#9c179e\"],[0.4444444444444444,\"#bd3786\"],[0.5555555555555556,\"#d8576b\"],[0.6666666666666666,\"#ed7953\"],[0.7777777777777778,\"#fb9f3a\"],[0.8888888888888888,\"#fdca26\"],[1.0,\"#f0f921\"]],\"type\":\"histogram2dcontour\"}],\"mesh3d\":[{\"colorbar\":{\"outlinewidth\":0,\"ticks\":\"\"},\"type\":\"mesh3d\"}],\"parcoords\":[{\"line\":{\"colorbar\":{\"outlinewidth\":0,\"ticks\":\"\"}},\"type\":\"parcoords\"}],\"pie\":[{\"automargin\":true,\"type\":\"pie\"}],\"scatter\":[{\"marker\":{\"colorbar\":{\"outlinewidth\":0,\"ticks\":\"\"}},\"type\":\"scatter\"}],\"scatter3d\":[{\"line\":{\"colorbar\":{\"outlinewidth\":0,\"ticks\":\"\"}},\"marker\":{\"colorbar\":{\"outlinewidth\":0,\"ticks\":\"\"}},\"type\":\"scatter3d\"}],\"scattercarpet\":[{\"marker\":{\"colorbar\":{\"outlinewidth\":0,\"ticks\":\"\"}},\"type\":\"scattercarpet\"}],\"scattergeo\":[{\"marker\":{\"colorbar\":{\"outlinewidth\":0,\"ticks\":\"\"}},\"type\":\"scattergeo\"}],\"scattergl\":[{\"marker\":{\"colorbar\":{\"outlinewidth\":0,\"ticks\":\"\"}},\"type\":\"scattergl\"}],\"scattermapbox\":[{\"marker\":{\"colorbar\":{\"outlinewidth\":0,\"ticks\":\"\"}},\"type\":\"scattermapbox\"}],\"scatterpolar\":[{\"marker\":{\"colorbar\":{\"outlinewidth\":0,\"ticks\":\"\"}},\"type\":\"scatterpolar\"}],\"scatterpolargl\":[{\"marker\":{\"colorbar\":{\"outlinewidth\":0,\"ticks\":\"\"}},\"type\":\"scatterpolargl\"}],\"scatterternary\":[{\"marker\":{\"colorbar\":{\"outlinewidth\":0,\"ticks\":\"\"}},\"type\":\"scatterternary\"}],\"surface\":[{\"colorbar\":{\"outlinewidth\":0,\"ticks\":\"\"},\"colorscale\":[[0.0,\"#0d0887\"],[0.1111111111111111,\"#46039f\"],[0.2222222222222222,\"#7201a8\"],[0.3333333333333333,\"#9c179e\"],[0.4444444444444444,\"#bd3786\"],[0.5555555555555556,\"#d8576b\"],[0.6666666666666666,\"#ed7953\"],[0.7777777777777778,\"#fb9f3a\"],[0.8888888888888888,\"#fdca26\"],[1.0,\"#f0f921\"]],\"type\":\"surface\"}],\"table\":[{\"cells\":{\"fill\":{\"color\":\"#EBF0F8\"},\"line\":{\"color\":\"white\"}},\"header\":{\"fill\":{\"color\":\"#C8D4E3\"},\"line\":{\"color\":\"white\"}},\"type\":\"table\"}]},\"layout\":{\"annotationdefaults\":{\"arrowcolor\":\"#2a3f5f\",\"arrowhead\":0,\"arrowwidth\":1},\"autotypenumbers\":\"strict\",\"coloraxis\":{\"colorbar\":{\"outlinewidth\":0,\"ticks\":\"\"}},\"colorscale\":{\"diverging\":[[0,\"#8e0152\"],[0.1,\"#c51b7d\"],[0.2,\"#de77ae\"],[0.3,\"#f1b6da\"],[0.4,\"#fde0ef\"],[0.5,\"#f7f7f7\"],[0.6,\"#e6f5d0\"],[0.7,\"#b8e186\"],[0.8,\"#7fbc41\"],[0.9,\"#4d9221\"],[1,\"#276419\"]],\"sequential\":[[0.0,\"#0d0887\"],[0.1111111111111111,\"#46039f\"],[0.2222222222222222,\"#7201a8\"],[0.3333333333333333,\"#9c179e\"],[0.4444444444444444,\"#bd3786\"],[0.5555555555555556,\"#d8576b\"],[0.6666666666666666,\"#ed7953\"],[0.7777777777777778,\"#fb9f3a\"],[0.8888888888888888,\"#fdca26\"],[1.0,\"#f0f921\"]],\"sequentialminus\":[[0.0,\"#0d0887\"],[0.1111111111111111,\"#46039f\"],[0.2222222222222222,\"#7201a8\"],[0.3333333333333333,\"#9c179e\"],[0.4444444444444444,\"#bd3786\"],[0.5555555555555556,\"#d8576b\"],[0.6666666666666666,\"#ed7953\"],[0.7777777777777778,\"#fb9f3a\"],[0.8888888888888888,\"#fdca26\"],[1.0,\"#f0f921\"]]},\"colorway\":[\"#636efa\",\"#EF553B\",\"#00cc96\",\"#ab63fa\",\"#FFA15A\",\"#19d3f3\",\"#FF6692\",\"#B6E880\",\"#FF97FF\",\"#FECB52\"],\"font\":{\"color\":\"#2a3f5f\"},\"geo\":{\"bgcolor\":\"white\",\"lakecolor\":\"white\",\"landcolor\":\"#E5ECF6\",\"showlakes\":true,\"showland\":true,\"subunitcolor\":\"white\"},\"hoverlabel\":{\"align\":\"left\"},\"hovermode\":\"closest\",\"mapbox\":{\"style\":\"light\"},\"paper_bgcolor\":\"white\",\"plot_bgcolor\":\"#E5ECF6\",\"polar\":{\"angularaxis\":{\"gridcolor\":\"white\",\"linecolor\":\"white\",\"ticks\":\"\"},\"bgcolor\":\"#E5ECF6\",\"radialaxis\":{\"gridcolor\":\"white\",\"linecolor\":\"white\",\"ticks\":\"\"}},\"scene\":{\"xaxis\":{\"backgroundcolor\":\"#E5ECF6\",\"gridcolor\":\"white\",\"gridwidth\":2,\"linecolor\":\"white\",\"showbackground\":true,\"ticks\":\"\",\"zerolinecolor\":\"white\"},\"yaxis\":{\"backgroundcolor\":\"#E5ECF6\",\"gridcolor\":\"white\",\"gridwidth\":2,\"linecolor\":\"white\",\"showbackground\":true,\"ticks\":\"\",\"zerolinecolor\":\"white\"},\"zaxis\":{\"backgroundcolor\":\"#E5ECF6\",\"gridcolor\":\"white\",\"gridwidth\":2,\"linecolor\":\"white\",\"showbackground\":true,\"ticks\":\"\",\"zerolinecolor\":\"white\"}},\"shapedefaults\":{\"line\":{\"color\":\"#2a3f5f\"}},\"ternary\":{\"aaxis\":{\"gridcolor\":\"white\",\"linecolor\":\"white\",\"ticks\":\"\"},\"baxis\":{\"gridcolor\":\"white\",\"linecolor\":\"white\",\"ticks\":\"\"},\"bgcolor\":\"#E5ECF6\",\"caxis\":{\"gridcolor\":\"white\",\"linecolor\":\"white\",\"ticks\":\"\"}},\"title\":{\"x\":0.05},\"xaxis\":{\"automargin\":true,\"gridcolor\":\"white\",\"linecolor\":\"white\",\"ticks\":\"\",\"title\":{\"standoff\":15},\"zerolinecolor\":\"white\",\"zerolinewidth\":2},\"yaxis\":{\"automargin\":true,\"gridcolor\":\"white\",\"linecolor\":\"white\",\"ticks\":\"\",\"title\":{\"standoff\":15},\"zerolinecolor\":\"white\",\"zerolinewidth\":2}}},\"title\":{\"text\":\"<b>Turbine efficiency curves of G1 and G2 in Plant2</b>\"},\"xaxis\":{\"title\":{\"text\":\"<b>Discharge</b> (m<sup>3</sup>/s)\"}},\"yaxis\":{\"title\":{\"text\":\"<b>Efficiency</b> (%)\"}}},                        {\"responsive\": true}                    ).then(function(){\n",
       "                            \n",
       "var gd = document.getElementById('7980f32c-855c-4d3b-888c-c7ea98168cda');\n",
       "var x = new MutationObserver(function (mutations, observer) {{\n",
       "        var display = window.getComputedStyle(gd).display;\n",
       "        if (!display || display === 'none') {{\n",
       "            console.log([gd, 'removed!']);\n",
       "            Plotly.purge(gd);\n",
       "            observer.disconnect();\n",
       "        }}\n",
       "}});\n",
       "\n",
       "// Listen for the removal of the full notebook cells\n",
       "var notebookContainer = gd.closest('#notebook-container');\n",
       "if (notebookContainer) {{\n",
       "    x.observe(notebookContainer, {childList: true});\n",
       "}}\n",
       "\n",
       "// Listen for the clearing of the current output cell\n",
       "var outputEl = gd.closest('.output');\n",
       "if (outputEl) {{\n",
       "    x.observe(outputEl, {childList: true});\n",
       "}}\n",
       "\n",
       "                        })                };                });            </script>        </div>"
      ]
     },
     "metadata": {},
     "output_type": "display_data"
    }
   ],
   "source": [
    "# Plot the turbine efficiency curves of G1 and G2 (G3, G4 are the same as G2) in Plant2 \r\n",
    "turb_eff_curves_G1=shop.model.generator.Plant2_Generator1.turb_eff_curves.get()\r\n",
    "turb_eff_curves_G2=shop.model.generator.Plant2_Generator2.turb_eff_curves.get()\r\n",
    "\r\n",
    "fig = go.Figure()\r\n",
    "\r\n",
    "for curve in turb_eff_curves_G1:\r\n",
    "    color+=1\r\n",
    "    curve_name=\"G1 Net Head=\"+str(curve.name)\r\n",
    "    fig.add_trace(go.Scatter(x=curve.index, y=curve.values, marker_color = colorscale[color], name=curve_name, mode=\"lines+markers\", line=dict(width=2)))\r\n",
    "\r\n",
    "for curve in turb_eff_curves_G2:\r\n",
    "    color+=1\r\n",
    "    curve_name=\"G2 Net Head=\"+str(curve.name)\r\n",
    "    fig.add_trace(go.Scatter(x=curve.index, y=curve.values, marker_color = colorscale[color], name=curve_name, mode=\"lines+markers\", line=dict(width=2)))\r\n",
    "    \r\n",
    "fig.update_layout(title=\"<b>Turbine efficiency curves of G1 and G2 in Plant2</b>\", xaxis_title=\"<b>Discharge</b> (m<sup>3</sup>/s)\", yaxis_title=\"<b>Efficiency</b> (%)\")\r\n",
    "\r\n",
    "fig.show()"
   ]
  },
  {
   "cell_type": "markdown",
   "metadata": {
    "Collapsed": "false"
   },
   "source": [
    "### Gates"
   ]
  },
  {
   "cell_type": "markdown",
   "metadata": {
    "Collapsed": "false"
   },
   "source": [
    "Water routes such as spillways, bypasses and gates between objects, can be defined and applied with certain attributes as well."
   ]
  },
  {
   "cell_type": "code",
   "execution_count": 26,
   "metadata": {
    "Collapsed": "false"
   },
   "outputs": [],
   "source": [
    "# Adding a spillway between Reservoir 1 and Reservoir 2\r\n",
    "s_rsv1_rsv2 = shop.model.gate.add_object('s_Reservoir1_Reservoir2')\r\n",
    "\r\n",
    "# Adding a bypass between Reservoir 1 and Reservoir 2\r\n",
    "b_rsv1_rsv2 = shop.model.gate.add_object('b_Reservoir1_Reservoir2')\r\n",
    "\r\n",
    "# Adding a spillway between Reservoir 1 and Reservoir 2\r\n",
    "s_rsv2_ocean = shop.model.gate.add_object('s_Reservoir2_Ocean')\r\n",
    "\r\n",
    "# Adding a bypass between Reservoir 1 and Reservoir 2\r\n",
    "b_rsv2_ocean = shop.model.gate.add_object('b_Reservoir2_Ocean')"
   ]
  },
  {
   "cell_type": "markdown",
   "metadata": {
    "Collapsed": "false"
   },
   "source": [
    "And we do a quick control of the content on gate objects afterwards."
   ]
  },
  {
   "cell_type": "code",
   "execution_count": 27,
   "metadata": {
    "Collapsed": "false"
   },
   "outputs": [
    {
     "data": {
      "text/plain": [
       "['s_Reservoir1_Reservoir2',\n",
       " 'b_Reservoir1_Reservoir2',\n",
       " 's_Reservoir2_Ocean',\n",
       " 'b_Reservoir2_Ocean']"
      ]
     },
     "execution_count": 27,
     "metadata": {},
     "output_type": "execute_result"
    }
   ],
   "source": [
    "shop.model.gate.get_object_names()"
   ]
  },
  {
   "cell_type": "markdown",
   "metadata": {
    "Collapsed": "false"
   },
   "source": [
    "## Connecting the topology objects"
   ]
  },
  {
   "cell_type": "markdown",
   "metadata": {
    "Collapsed": "false"
   },
   "source": [
    "After adding the objects and defining parameters to them, we need to connect them together in order for the model to know which parts that can interact with each other. This means for instance that we need to connect a certain reservoir to a certain plant. In this example, *Reservoir1* should connect to *Plant1*, Plant1 should then further be connected to *Reservoir2*, whereas Reservoir2 again connects to *Plant2*. Additionally, we need to correcrtly connect the gates, spillways and bypasses. We always connect objects from the top to the bottom, starting with the uppermost object relative to elevation. Note that it is necessary to specify the keyword argument \"connection_type\" when connecting a bypass or spill gate to the upper reservoir, but it is not needed when the bypass or spill gate is connected to the downstream reservoir. "
   ]
  },
  {
   "cell_type": "code",
   "execution_count": 28,
   "metadata": {
    "Collapsed": "false"
   },
   "outputs": [],
   "source": [
    "# Connecting Reservoir 1 to Plant1\r\n",
    "rsv1.connect_to(plant1)\r\n",
    "\r\n",
    "# Connecting Reservoir 1 to the bypass between Reservoir1 and Reservoir2\r\n",
    "rsv1.connect_to(b_rsv1_rsv2,connection_type=\"bypass\")\r\n",
    "\r\n",
    "# Connecting Reservoir 1 to the spillway between Reservoir1 and Reservoir2\r\n",
    "rsv1.connect_to(s_rsv1_rsv2,connection_type=\"spill\")\r\n",
    "\r\n",
    "# Connecting Plant1 to Reservoir2\r\n",
    "plant1.connect_to(rsv2)\r\n",
    "\r\n",
    "# Connecting the bypass between Reservoir1 and Reservoir2 to Reservoir2\r\n",
    "b_rsv1_rsv2.connect_to(rsv2)\r\n",
    "\r\n",
    "# Connecting the spillway between Reservoir1 and Reservoir2 to Reservoir2\r\n",
    "s_rsv1_rsv2.connect_to(rsv2)\r\n",
    "\r\n",
    "# Connecting Reservoir2 to Plant 2\r\n",
    "rsv2.connect_to(plant2)\r\n",
    "\r\n",
    "# Connecting Reservoir2 to the bypass between Reservoir2 and Ocean\r\n",
    "rsv2.connect_to(b_rsv2_ocean,connection_type=\"bypass\")\r\n",
    "\r\n",
    "# Connecting Reservoir2 to the spillway between Reservoir2 and Ocean\r\n",
    "rsv2.connect_to(s_rsv2_ocean,connection_type=\"spill\")"
   ]
  },
  {
   "cell_type": "markdown",
   "metadata": {
    "Collapsed": "false"
   },
   "source": [
    "We can then verify if the topology is correctly set up, by graphing out the topology tree."
   ]
  },
  {
   "cell_type": "code",
   "execution_count": 29,
   "metadata": {
    "Collapsed": "false"
   },
   "outputs": [
    {
     "data": {
      "image/svg+xml": [
       "<?xml version=\"1.0\" encoding=\"UTF-8\" standalone=\"no\"?>\n",
       "<!DOCTYPE svg PUBLIC \"-//W3C//DTD SVG 1.1//EN\"\n",
       " \"http://www.w3.org/Graphics/SVG/1.1/DTD/svg11.dtd\">\n",
       "<!-- Generated by graphviz version 2.43.0 (0)\n",
       " -->\n",
       "<!-- Title: %3 Pages: 1 -->\n",
       "<svg width=\"613pt\" height=\"280pt\"\n",
       " viewBox=\"0.00 0.00 613.24 280.00\" xmlns=\"http://www.w3.org/2000/svg\" xmlns:xlink=\"http://www.w3.org/1999/xlink\">\n",
       "<g id=\"graph0\" class=\"graph\" transform=\"scale(1 1) rotate(0) translate(4 276)\">\n",
       "<title>%3</title>\n",
       "<polygon fill=\"white\" stroke=\"transparent\" points=\"-4,4 -4,-276 609.24,-276 609.24,4 -4,4\"/>\n",
       "<!-- reservoir_Reservoir1 -->\n",
       "<g id=\"node1\" class=\"node\">\n",
       "<title>reservoir_Reservoir1</title>\n",
       "<polygon fill=\"skyblue\" stroke=\"black\" points=\"207.5,-226 330.98,-260.5 84.02,-260.5 207.5,-226\"/>\n",
       "<text text-anchor=\"middle\" x=\"207.5\" y=\"-245.3\" font-family=\"Times,serif\" font-size=\"14.00\">Reservoir1</text>\n",
       "</g>\n",
       "<!-- plant_Plant1 -->\n",
       "<g id=\"node3\" class=\"node\">\n",
       "<title>plant_Plant1</title>\n",
       "<polygon fill=\"#ffc1c1\" stroke=\"black\" points=\"63,-190 0,-190 0,-154 63,-154 63,-190\"/>\n",
       "<text text-anchor=\"middle\" x=\"31.5\" y=\"-168.3\" font-family=\"Times,serif\" font-size=\"14.00\">Plant1</text>\n",
       "</g>\n",
       "<!-- reservoir_Reservoir1&#45;&gt;plant_Plant1 -->\n",
       "<g id=\"edge1\" class=\"edge\">\n",
       "<title>reservoir_Reservoir1&#45;&gt;plant_Plant1</title>\n",
       "<path fill=\"none\" stroke=\"black\" d=\"M176.03,-234.59C144.2,-221.02 95.24,-200.16 63.29,-186.55\"/>\n",
       "</g>\n",
       "<!-- gate_s_Reservoir1_Reservoir2 -->\n",
       "<g id=\"node5\" class=\"node\">\n",
       "<title>gate_s_Reservoir1_Reservoir2</title>\n",
       "<ellipse fill=\"transparent\" stroke=\"black\" cx=\"207.5\" cy=\"-172\" rx=\"126.18\" ry=\"18\"/>\n",
       "<text text-anchor=\"middle\" x=\"207.5\" y=\"-168.3\" font-family=\"Times,serif\" font-size=\"14.00\">s_Reservoir1_Reservoir2</text>\n",
       "</g>\n",
       "<!-- reservoir_Reservoir1&#45;&gt;gate_s_Reservoir1_Reservoir2 -->\n",
       "<g id=\"edge2\" class=\"edge\">\n",
       "<title>reservoir_Reservoir1&#45;&gt;gate_s_Reservoir1_Reservoir2</title>\n",
       "<path fill=\"none\" stroke=\"black\" stroke-dasharray=\"5,2\" d=\"M207.5,-225.9C207.5,-214.5 207.5,-200.79 207.5,-190.18\"/>\n",
       "</g>\n",
       "<!-- gate_b_Reservoir1_Reservoir2 -->\n",
       "<g id=\"node6\" class=\"node\">\n",
       "<title>gate_b_Reservoir1_Reservoir2</title>\n",
       "<ellipse fill=\"transparent\" stroke=\"black\" cx=\"478.5\" cy=\"-172\" rx=\"126.98\" ry=\"18\"/>\n",
       "<text text-anchor=\"middle\" x=\"478.5\" y=\"-168.3\" font-family=\"Times,serif\" font-size=\"14.00\">b_Reservoir1_Reservoir2</text>\n",
       "</g>\n",
       "<!-- reservoir_Reservoir1&#45;&gt;gate_b_Reservoir1_Reservoir2 -->\n",
       "<g id=\"edge3\" class=\"edge\">\n",
       "<title>reservoir_Reservoir1&#45;&gt;gate_b_Reservoir1_Reservoir2</title>\n",
       "<path fill=\"none\" stroke=\"black\" stroke-dasharray=\"5,2\" d=\"M247.2,-237.01C293.65,-224.16 370.87,-202.79 423.19,-188.31\"/>\n",
       "</g>\n",
       "<!-- reservoir_Reservoir2 -->\n",
       "<g id=\"node2\" class=\"node\">\n",
       "<title>reservoir_Reservoir2</title>\n",
       "<polygon fill=\"skyblue\" stroke=\"black\" points=\"207.5,-72 330.98,-106.5 84.02,-106.5 207.5,-72\"/>\n",
       "<text text-anchor=\"middle\" x=\"207.5\" y=\"-91.3\" font-family=\"Times,serif\" font-size=\"14.00\">Reservoir2</text>\n",
       "</g>\n",
       "<!-- plant_Plant2 -->\n",
       "<g id=\"node4\" class=\"node\">\n",
       "<title>plant_Plant2</title>\n",
       "<polygon fill=\"#ffc1c1\" stroke=\"black\" points=\"86,-36 23,-36 23,0 86,0 86,-36\"/>\n",
       "<text text-anchor=\"middle\" x=\"54.5\" y=\"-14.3\" font-family=\"Times,serif\" font-size=\"14.00\">Plant2</text>\n",
       "</g>\n",
       "<!-- reservoir_Reservoir2&#45;&gt;plant_Plant2 -->\n",
       "<g id=\"edge4\" class=\"edge\">\n",
       "<title>reservoir_Reservoir2&#45;&gt;plant_Plant2</title>\n",
       "<path fill=\"none\" stroke=\"black\" d=\"M178.72,-79.89C152.32,-66.95 113.29,-47.82 86.05,-34.47\"/>\n",
       "</g>\n",
       "<!-- gate_s_Reservoir2_Ocean -->\n",
       "<g id=\"node7\" class=\"node\">\n",
       "<title>gate_s_Reservoir2_Ocean</title>\n",
       "<ellipse fill=\"transparent\" stroke=\"black\" cx=\"207.5\" cy=\"-18\" rx=\"103.98\" ry=\"18\"/>\n",
       "<text text-anchor=\"middle\" x=\"207.5\" y=\"-14.3\" font-family=\"Times,serif\" font-size=\"14.00\">s_Reservoir2_Ocean</text>\n",
       "</g>\n",
       "<!-- reservoir_Reservoir2&#45;&gt;gate_s_Reservoir2_Ocean -->\n",
       "<g id=\"edge5\" class=\"edge\">\n",
       "<title>reservoir_Reservoir2&#45;&gt;gate_s_Reservoir2_Ocean</title>\n",
       "<path fill=\"none\" stroke=\"black\" stroke-dasharray=\"5,2\" d=\"M207.5,-71.9C207.5,-60.5 207.5,-46.79 207.5,-36.18\"/>\n",
       "</g>\n",
       "<!-- gate_b_Reservoir2_Ocean -->\n",
       "<g id=\"node8\" class=\"node\">\n",
       "<title>gate_b_Reservoir2_Ocean</title>\n",
       "<ellipse fill=\"transparent\" stroke=\"black\" cx=\"434.5\" cy=\"-18\" rx=\"104.78\" ry=\"18\"/>\n",
       "<text text-anchor=\"middle\" x=\"434.5\" y=\"-14.3\" font-family=\"Times,serif\" font-size=\"14.00\">b_Reservoir2_Ocean</text>\n",
       "</g>\n",
       "<!-- reservoir_Reservoir2&#45;&gt;gate_b_Reservoir2_Ocean -->\n",
       "<g id=\"edge6\" class=\"edge\">\n",
       "<title>reservoir_Reservoir2&#45;&gt;gate_b_Reservoir2_Ocean</title>\n",
       "<path fill=\"none\" stroke=\"black\" stroke-dasharray=\"5,2\" d=\"M243.72,-82.03C282.9,-69.09 345.47,-48.41 388.2,-34.3\"/>\n",
       "</g>\n",
       "<!-- plant_Plant1&#45;&gt;reservoir_Reservoir2 -->\n",
       "<g id=\"edge7\" class=\"edge\">\n",
       "<title>plant_Plant1&#45;&gt;reservoir_Reservoir2</title>\n",
       "<path fill=\"none\" stroke=\"black\" d=\"M63.37,-157.42C97.65,-142.81 151.42,-119.9 182.68,-106.58\"/>\n",
       "</g>\n",
       "<!-- gate_s_Reservoir1_Reservoir2&#45;&gt;reservoir_Reservoir2 -->\n",
       "<g id=\"edge8\" class=\"edge\">\n",
       "<title>gate_s_Reservoir1_Reservoir2&#45;&gt;reservoir_Reservoir2</title>\n",
       "<path fill=\"none\" stroke=\"black\" d=\"M207.5,-153.98C207.5,-139.46 207.5,-119.03 207.5,-106.7\"/>\n",
       "</g>\n",
       "<!-- gate_b_Reservoir1_Reservoir2&#45;&gt;reservoir_Reservoir2 -->\n",
       "<g id=\"edge9\" class=\"edge\">\n",
       "<title>gate_b_Reservoir1_Reservoir2&#45;&gt;reservoir_Reservoir2</title>\n",
       "<path fill=\"none\" stroke=\"black\" d=\"M423.33,-155.73C370.41,-141.08 291.88,-119.35 245.58,-106.54\"/>\n",
       "</g>\n",
       "</g>\n",
       "</svg>\n"
      ],
      "text/plain": [
       "<graphviz.dot.Digraph at 0x7fe6d158fed0>"
      ]
     },
     "metadata": {},
     "output_type": "display_data"
    }
   ],
   "source": [
    "# Print out the topology\r\n",
    "dot = shop.model.build_connection_tree()\r\n",
    "display(dot)"
   ]
  },
  {
   "cell_type": "markdown",
   "metadata": {
    "Collapsed": "false"
   },
   "source": [
    "## Adding a market and a load"
   ]
  },
  {
   "cell_type": "markdown",
   "metadata": {
    "Collapsed": "false"
   },
   "source": [
    "Lastly, we need to add a market and/or a load for the model to optimize against, with certain parameters. This gives SHOP the solution space it needs to make its decisions on where and when to produce or not, while maximizing profit and fulfilling load requirements."
   ]
  },
  {
   "cell_type": "code",
   "execution_count": 30,
   "metadata": {
    "Collapsed": "false"
   },
   "outputs": [],
   "source": [
    "# Adding a market named \"Day_ahead\"\r\n",
    "shop.model.market.add_object('Day_ahead')\r\n",
    "\r\n",
    "# Instancing the market Day_ahead to 'da'\r\n",
    "da = shop.model.market.Day_ahead\r\n",
    "\r\n",
    "# Setting a sale price to the market, which is the income value (in monetary units) per produced MW\r\n",
    "da.sale_price.set(pd.DataFrame([32.992,31.122,29.312,28.072,30.012,33.362,42.682,74.822,77.732,62.332,55.892,46.962,42.582,40.942,39.212,39.142,41.672,46.922,37.102,32.992,31.272,29.752,28.782,28.082,27.242,26.622,25.732,25.392,25.992,27.402,28.942,32.182,33.082,32.342,30.912,30.162,30.062,29.562,29.462,29.512,29.672,30.072,29.552,28.862,28.412,28.072,27.162,25.502,26.192,25.222,24.052,23.892,23.682,26.092,28.202,30.902,31.572,31.462,31.172,30.912,30.572,30.602,30.632,31.062,32.082,36.262,34.472,32.182,31.492,30.732,29.712,28.982], \r\n",
    "                               index=[starttime + pd.Timedelta(hours=i) for i in range(0,72)]))\r\n",
    "\r\n",
    "# Setting a buy price to the market, which is the cost to buy production in the market (in monetary units) in stead of producing it yourself per MW. This is normally used when you have a load to cover or if you have pumps\r\n",
    "da.buy_price.set(da.sale_price.get()+0.002)\r\n",
    "\r\n",
    "# Setting the amount of volume able to buy in the market in MW\r\n",
    "da.max_buy.set(pd.Series([9999], [starttime]))\r\n",
    "\r\n",
    "# Setting the amount of volume able to sell (produce) in the market in MW\r\n",
    "da.max_sale.set(pd.Series([9999], [starttime]))\r\n",
    "\r\n",
    "# Setting the load that needs to be fullfilled, either by power production or by buying from the market, depending on the above parameters\r\n",
    "da.load.set(pd.Series([0], [starttime]))"
   ]
  },
  {
   "cell_type": "markdown",
   "metadata": {
    "Collapsed": "false"
   },
   "source": [
    "Now we can compare the market price to the (constant) evalutation value of the water in the reservoirs. Endpoint descriptions are usually more complex, depending on reservoir levels and/or other reservoirs. "
   ]
  },
  {
   "cell_type": "code",
   "execution_count": 31,
   "metadata": {
    "Collapsed": "false"
   },
   "outputs": [
    {
     "data": {
      "application/vnd.plotly.v1+json": {
       "config": {
        "plotlyServerURL": "https://plot.ly"
       },
       "data": [
        {
         "marker": {
          "color": "rgb(33,102,172)"
         },
         "name": "Market price",
         "type": "scatter",
         "x": [
          "2018-01-23T00:00:00",
          "2018-01-23T01:00:00",
          "2018-01-23T02:00:00",
          "2018-01-23T03:00:00",
          "2018-01-23T04:00:00",
          "2018-01-23T05:00:00",
          "2018-01-23T06:00:00",
          "2018-01-23T07:00:00",
          "2018-01-23T08:00:00",
          "2018-01-23T09:00:00",
          "2018-01-23T10:00:00",
          "2018-01-23T11:00:00",
          "2018-01-23T12:00:00",
          "2018-01-23T13:00:00",
          "2018-01-23T14:00:00",
          "2018-01-23T15:00:00",
          "2018-01-23T16:00:00",
          "2018-01-23T17:00:00",
          "2018-01-23T18:00:00",
          "2018-01-23T19:00:00",
          "2018-01-23T20:00:00",
          "2018-01-23T21:00:00",
          "2018-01-23T22:00:00",
          "2018-01-23T23:00:00",
          "2018-01-24T00:00:00",
          "2018-01-24T01:00:00",
          "2018-01-24T02:00:00",
          "2018-01-24T03:00:00",
          "2018-01-24T04:00:00",
          "2018-01-24T05:00:00",
          "2018-01-24T06:00:00",
          "2018-01-24T07:00:00",
          "2018-01-24T08:00:00",
          "2018-01-24T09:00:00",
          "2018-01-24T10:00:00",
          "2018-01-24T11:00:00",
          "2018-01-24T12:00:00",
          "2018-01-24T13:00:00",
          "2018-01-24T14:00:00",
          "2018-01-24T15:00:00",
          "2018-01-24T16:00:00",
          "2018-01-24T17:00:00",
          "2018-01-24T18:00:00",
          "2018-01-24T19:00:00",
          "2018-01-24T20:00:00",
          "2018-01-24T21:00:00",
          "2018-01-24T22:00:00",
          "2018-01-24T23:00:00",
          "2018-01-25T00:00:00",
          "2018-01-25T01:00:00",
          "2018-01-25T02:00:00",
          "2018-01-25T03:00:00",
          "2018-01-25T04:00:00",
          "2018-01-25T05:00:00",
          "2018-01-25T06:00:00",
          "2018-01-25T07:00:00",
          "2018-01-25T08:00:00",
          "2018-01-25T09:00:00",
          "2018-01-25T10:00:00",
          "2018-01-25T11:00:00",
          "2018-01-25T12:00:00",
          "2018-01-25T13:00:00",
          "2018-01-25T14:00:00",
          "2018-01-25T15:00:00",
          "2018-01-25T16:00:00",
          "2018-01-25T17:00:00",
          "2018-01-25T18:00:00",
          "2018-01-25T19:00:00",
          "2018-01-25T20:00:00",
          "2018-01-25T21:00:00",
          "2018-01-25T22:00:00",
          "2018-01-25T23:00:00"
         ],
         "y": [
          32.992,
          31.122000000000007,
          29.312000000000012,
          28.072000000000013,
          30.012000000000018,
          33.36200000000002,
          42.68200000000002,
          74.82200000000002,
          77.73200000000003,
          62.33200000000002,
          55.89200000000002,
          46.96200000000001,
          42.58200000000001,
          40.942,
          39.211999999999996,
          39.141999999999996,
          41.67199999999999,
          46.922,
          37.102000000000004,
          32.992,
          31.272,
          29.752000000000002,
          28.782000000000007,
          28.082000000000004,
          27.242000000000004,
          26.622000000000003,
          25.732,
          25.391999999999996,
          25.992,
          27.402000000000005,
          28.942000000000007,
          32.18200000000001,
          33.08200000000001,
          32.342000000000006,
          30.912000000000006,
          30.162000000000006,
          30.062000000000005,
          29.56200000000001,
          29.462000000000007,
          29.512000000000004,
          29.672000000000004,
          30.072,
          29.551999999999996,
          28.861999999999995,
          28.411999999999995,
          28.071999999999996,
          27.161999999999995,
          25.501999999999995,
          26.191999999999997,
          25.222,
          24.052,
          23.892000000000003,
          23.682,
          26.092000000000002,
          28.202000000000005,
          30.902000000000005,
          31.572000000000003,
          31.462000000000007,
          31.172000000000008,
          30.912000000000003,
          30.572000000000003,
          30.602000000000007,
          30.63200000000001,
          31.06200000000001,
          32.08200000000001,
          36.26200000000001,
          34.47200000000001,
          32.18200000000001,
          31.492000000000004,
          30.732000000000003,
          29.712000000000003,
          28.982000000000003
         ]
        },
        {
         "line": {
          "dash": "dot"
         },
         "marker": {
          "color": "rgb(67,147,195)"
         },
         "name": "Water value of Reservoir1",
         "type": "scatter",
         "x": [
          "2018-01-23T00:00:00",
          "2018-01-23T01:00:00",
          "2018-01-23T02:00:00",
          "2018-01-23T03:00:00",
          "2018-01-23T04:00:00",
          "2018-01-23T05:00:00",
          "2018-01-23T06:00:00",
          "2018-01-23T07:00:00",
          "2018-01-23T08:00:00",
          "2018-01-23T09:00:00",
          "2018-01-23T10:00:00",
          "2018-01-23T11:00:00",
          "2018-01-23T12:00:00",
          "2018-01-23T13:00:00",
          "2018-01-23T14:00:00",
          "2018-01-23T15:00:00",
          "2018-01-23T16:00:00",
          "2018-01-23T17:00:00",
          "2018-01-23T18:00:00",
          "2018-01-23T19:00:00",
          "2018-01-23T20:00:00",
          "2018-01-23T21:00:00",
          "2018-01-23T22:00:00",
          "2018-01-23T23:00:00",
          "2018-01-24T00:00:00",
          "2018-01-24T01:00:00",
          "2018-01-24T02:00:00",
          "2018-01-24T03:00:00",
          "2018-01-24T04:00:00",
          "2018-01-24T05:00:00",
          "2018-01-24T06:00:00",
          "2018-01-24T07:00:00",
          "2018-01-24T08:00:00",
          "2018-01-24T09:00:00",
          "2018-01-24T10:00:00",
          "2018-01-24T11:00:00",
          "2018-01-24T12:00:00",
          "2018-01-24T13:00:00",
          "2018-01-24T14:00:00",
          "2018-01-24T15:00:00",
          "2018-01-24T16:00:00",
          "2018-01-24T17:00:00",
          "2018-01-24T18:00:00",
          "2018-01-24T19:00:00",
          "2018-01-24T20:00:00",
          "2018-01-24T21:00:00",
          "2018-01-24T22:00:00",
          "2018-01-24T23:00:00",
          "2018-01-25T00:00:00",
          "2018-01-25T01:00:00",
          "2018-01-25T02:00:00",
          "2018-01-25T03:00:00",
          "2018-01-25T04:00:00",
          "2018-01-25T05:00:00",
          "2018-01-25T06:00:00",
          "2018-01-25T07:00:00",
          "2018-01-25T08:00:00",
          "2018-01-25T09:00:00",
          "2018-01-25T10:00:00",
          "2018-01-25T11:00:00",
          "2018-01-25T12:00:00",
          "2018-01-25T13:00:00",
          "2018-01-25T14:00:00",
          "2018-01-25T15:00:00",
          "2018-01-25T16:00:00",
          "2018-01-25T17:00:00",
          "2018-01-25T18:00:00",
          "2018-01-25T19:00:00",
          "2018-01-25T20:00:00",
          "2018-01-25T21:00:00",
          "2018-01-25T22:00:00",
          "2018-01-25T23:00:00"
         ],
         "y": [
          30,
          30,
          30,
          30,
          30,
          30,
          30,
          30,
          30,
          30,
          30,
          30,
          30,
          30,
          30,
          30,
          30,
          30,
          30,
          30,
          30,
          30,
          30,
          30,
          30,
          30,
          30,
          30,
          30,
          30,
          30,
          30,
          30,
          30,
          30,
          30,
          30,
          30,
          30,
          30,
          30,
          30,
          30,
          30,
          30,
          30,
          30,
          30,
          30,
          30,
          30,
          30,
          30,
          30,
          30,
          30,
          30,
          30,
          30,
          30,
          30,
          30,
          30,
          30,
          30,
          30,
          30,
          30,
          30,
          30,
          30,
          30
         ]
        },
        {
         "line": {
          "dash": "dot"
         },
         "marker": {
          "color": "rgb(146,197,222)"
         },
         "name": "Water value of Reservoir2",
         "type": "scatter",
         "x": [
          "2018-01-23T00:00:00",
          "2018-01-23T01:00:00",
          "2018-01-23T02:00:00",
          "2018-01-23T03:00:00",
          "2018-01-23T04:00:00",
          "2018-01-23T05:00:00",
          "2018-01-23T06:00:00",
          "2018-01-23T07:00:00",
          "2018-01-23T08:00:00",
          "2018-01-23T09:00:00",
          "2018-01-23T10:00:00",
          "2018-01-23T11:00:00",
          "2018-01-23T12:00:00",
          "2018-01-23T13:00:00",
          "2018-01-23T14:00:00",
          "2018-01-23T15:00:00",
          "2018-01-23T16:00:00",
          "2018-01-23T17:00:00",
          "2018-01-23T18:00:00",
          "2018-01-23T19:00:00",
          "2018-01-23T20:00:00",
          "2018-01-23T21:00:00",
          "2018-01-23T22:00:00",
          "2018-01-23T23:00:00",
          "2018-01-24T00:00:00",
          "2018-01-24T01:00:00",
          "2018-01-24T02:00:00",
          "2018-01-24T03:00:00",
          "2018-01-24T04:00:00",
          "2018-01-24T05:00:00",
          "2018-01-24T06:00:00",
          "2018-01-24T07:00:00",
          "2018-01-24T08:00:00",
          "2018-01-24T09:00:00",
          "2018-01-24T10:00:00",
          "2018-01-24T11:00:00",
          "2018-01-24T12:00:00",
          "2018-01-24T13:00:00",
          "2018-01-24T14:00:00",
          "2018-01-24T15:00:00",
          "2018-01-24T16:00:00",
          "2018-01-24T17:00:00",
          "2018-01-24T18:00:00",
          "2018-01-24T19:00:00",
          "2018-01-24T20:00:00",
          "2018-01-24T21:00:00",
          "2018-01-24T22:00:00",
          "2018-01-24T23:00:00",
          "2018-01-25T00:00:00",
          "2018-01-25T01:00:00",
          "2018-01-25T02:00:00",
          "2018-01-25T03:00:00",
          "2018-01-25T04:00:00",
          "2018-01-25T05:00:00",
          "2018-01-25T06:00:00",
          "2018-01-25T07:00:00",
          "2018-01-25T08:00:00",
          "2018-01-25T09:00:00",
          "2018-01-25T10:00:00",
          "2018-01-25T11:00:00",
          "2018-01-25T12:00:00",
          "2018-01-25T13:00:00",
          "2018-01-25T14:00:00",
          "2018-01-25T15:00:00",
          "2018-01-25T16:00:00",
          "2018-01-25T17:00:00",
          "2018-01-25T18:00:00",
          "2018-01-25T19:00:00",
          "2018-01-25T20:00:00",
          "2018-01-25T21:00:00",
          "2018-01-25T22:00:00",
          "2018-01-25T23:00:00"
         ],
         "y": [
          10,
          10,
          10,
          10,
          10,
          10,
          10,
          10,
          10,
          10,
          10,
          10,
          10,
          10,
          10,
          10,
          10,
          10,
          10,
          10,
          10,
          10,
          10,
          10,
          10,
          10,
          10,
          10,
          10,
          10,
          10,
          10,
          10,
          10,
          10,
          10,
          10,
          10,
          10,
          10,
          10,
          10,
          10,
          10,
          10,
          10,
          10,
          10,
          10,
          10,
          10,
          10,
          10,
          10,
          10,
          10,
          10,
          10,
          10,
          10,
          10,
          10,
          10,
          10,
          10,
          10,
          10,
          10,
          10,
          10,
          10,
          10
         ]
        }
       ],
       "layout": {
        "autosize": true,
        "template": {
         "data": {
          "bar": [
           {
            "error_x": {
             "color": "#2a3f5f"
            },
            "error_y": {
             "color": "#2a3f5f"
            },
            "marker": {
             "line": {
              "color": "#E5ECF6",
              "width": 0.5
             },
             "pattern": {
              "fillmode": "overlay",
              "size": 10,
              "solidity": 0.2
             }
            },
            "type": "bar"
           }
          ],
          "barpolar": [
           {
            "marker": {
             "line": {
              "color": "#E5ECF6",
              "width": 0.5
             },
             "pattern": {
              "fillmode": "overlay",
              "size": 10,
              "solidity": 0.2
             }
            },
            "type": "barpolar"
           }
          ],
          "carpet": [
           {
            "aaxis": {
             "endlinecolor": "#2a3f5f",
             "gridcolor": "white",
             "linecolor": "white",
             "minorgridcolor": "white",
             "startlinecolor": "#2a3f5f"
            },
            "baxis": {
             "endlinecolor": "#2a3f5f",
             "gridcolor": "white",
             "linecolor": "white",
             "minorgridcolor": "white",
             "startlinecolor": "#2a3f5f"
            },
            "type": "carpet"
           }
          ],
          "choropleth": [
           {
            "colorbar": {
             "outlinewidth": 0,
             "ticks": ""
            },
            "type": "choropleth"
           }
          ],
          "contour": [
           {
            "colorbar": {
             "outlinewidth": 0,
             "ticks": ""
            },
            "colorscale": [
             [
              0,
              "#0d0887"
             ],
             [
              0.1111111111111111,
              "#46039f"
             ],
             [
              0.2222222222222222,
              "#7201a8"
             ],
             [
              0.3333333333333333,
              "#9c179e"
             ],
             [
              0.4444444444444444,
              "#bd3786"
             ],
             [
              0.5555555555555556,
              "#d8576b"
             ],
             [
              0.6666666666666666,
              "#ed7953"
             ],
             [
              0.7777777777777778,
              "#fb9f3a"
             ],
             [
              0.8888888888888888,
              "#fdca26"
             ],
             [
              1,
              "#f0f921"
             ]
            ],
            "type": "contour"
           }
          ],
          "contourcarpet": [
           {
            "colorbar": {
             "outlinewidth": 0,
             "ticks": ""
            },
            "type": "contourcarpet"
           }
          ],
          "heatmap": [
           {
            "colorbar": {
             "outlinewidth": 0,
             "ticks": ""
            },
            "colorscale": [
             [
              0,
              "#0d0887"
             ],
             [
              0.1111111111111111,
              "#46039f"
             ],
             [
              0.2222222222222222,
              "#7201a8"
             ],
             [
              0.3333333333333333,
              "#9c179e"
             ],
             [
              0.4444444444444444,
              "#bd3786"
             ],
             [
              0.5555555555555556,
              "#d8576b"
             ],
             [
              0.6666666666666666,
              "#ed7953"
             ],
             [
              0.7777777777777778,
              "#fb9f3a"
             ],
             [
              0.8888888888888888,
              "#fdca26"
             ],
             [
              1,
              "#f0f921"
             ]
            ],
            "type": "heatmap"
           }
          ],
          "heatmapgl": [
           {
            "colorbar": {
             "outlinewidth": 0,
             "ticks": ""
            },
            "colorscale": [
             [
              0,
              "#0d0887"
             ],
             [
              0.1111111111111111,
              "#46039f"
             ],
             [
              0.2222222222222222,
              "#7201a8"
             ],
             [
              0.3333333333333333,
              "#9c179e"
             ],
             [
              0.4444444444444444,
              "#bd3786"
             ],
             [
              0.5555555555555556,
              "#d8576b"
             ],
             [
              0.6666666666666666,
              "#ed7953"
             ],
             [
              0.7777777777777778,
              "#fb9f3a"
             ],
             [
              0.8888888888888888,
              "#fdca26"
             ],
             [
              1,
              "#f0f921"
             ]
            ],
            "type": "heatmapgl"
           }
          ],
          "histogram": [
           {
            "marker": {
             "pattern": {
              "fillmode": "overlay",
              "size": 10,
              "solidity": 0.2
             }
            },
            "type": "histogram"
           }
          ],
          "histogram2d": [
           {
            "colorbar": {
             "outlinewidth": 0,
             "ticks": ""
            },
            "colorscale": [
             [
              0,
              "#0d0887"
             ],
             [
              0.1111111111111111,
              "#46039f"
             ],
             [
              0.2222222222222222,
              "#7201a8"
             ],
             [
              0.3333333333333333,
              "#9c179e"
             ],
             [
              0.4444444444444444,
              "#bd3786"
             ],
             [
              0.5555555555555556,
              "#d8576b"
             ],
             [
              0.6666666666666666,
              "#ed7953"
             ],
             [
              0.7777777777777778,
              "#fb9f3a"
             ],
             [
              0.8888888888888888,
              "#fdca26"
             ],
             [
              1,
              "#f0f921"
             ]
            ],
            "type": "histogram2d"
           }
          ],
          "histogram2dcontour": [
           {
            "colorbar": {
             "outlinewidth": 0,
             "ticks": ""
            },
            "colorscale": [
             [
              0,
              "#0d0887"
             ],
             [
              0.1111111111111111,
              "#46039f"
             ],
             [
              0.2222222222222222,
              "#7201a8"
             ],
             [
              0.3333333333333333,
              "#9c179e"
             ],
             [
              0.4444444444444444,
              "#bd3786"
             ],
             [
              0.5555555555555556,
              "#d8576b"
             ],
             [
              0.6666666666666666,
              "#ed7953"
             ],
             [
              0.7777777777777778,
              "#fb9f3a"
             ],
             [
              0.8888888888888888,
              "#fdca26"
             ],
             [
              1,
              "#f0f921"
             ]
            ],
            "type": "histogram2dcontour"
           }
          ],
          "mesh3d": [
           {
            "colorbar": {
             "outlinewidth": 0,
             "ticks": ""
            },
            "type": "mesh3d"
           }
          ],
          "parcoords": [
           {
            "line": {
             "colorbar": {
              "outlinewidth": 0,
              "ticks": ""
             }
            },
            "type": "parcoords"
           }
          ],
          "pie": [
           {
            "automargin": true,
            "type": "pie"
           }
          ],
          "scatter": [
           {
            "marker": {
             "colorbar": {
              "outlinewidth": 0,
              "ticks": ""
             }
            },
            "type": "scatter"
           }
          ],
          "scatter3d": [
           {
            "line": {
             "colorbar": {
              "outlinewidth": 0,
              "ticks": ""
             }
            },
            "marker": {
             "colorbar": {
              "outlinewidth": 0,
              "ticks": ""
             }
            },
            "type": "scatter3d"
           }
          ],
          "scattercarpet": [
           {
            "marker": {
             "colorbar": {
              "outlinewidth": 0,
              "ticks": ""
             }
            },
            "type": "scattercarpet"
           }
          ],
          "scattergeo": [
           {
            "marker": {
             "colorbar": {
              "outlinewidth": 0,
              "ticks": ""
             }
            },
            "type": "scattergeo"
           }
          ],
          "scattergl": [
           {
            "marker": {
             "colorbar": {
              "outlinewidth": 0,
              "ticks": ""
             }
            },
            "type": "scattergl"
           }
          ],
          "scattermapbox": [
           {
            "marker": {
             "colorbar": {
              "outlinewidth": 0,
              "ticks": ""
             }
            },
            "type": "scattermapbox"
           }
          ],
          "scatterpolar": [
           {
            "marker": {
             "colorbar": {
              "outlinewidth": 0,
              "ticks": ""
             }
            },
            "type": "scatterpolar"
           }
          ],
          "scatterpolargl": [
           {
            "marker": {
             "colorbar": {
              "outlinewidth": 0,
              "ticks": ""
             }
            },
            "type": "scatterpolargl"
           }
          ],
          "scatterternary": [
           {
            "marker": {
             "colorbar": {
              "outlinewidth": 0,
              "ticks": ""
             }
            },
            "type": "scatterternary"
           }
          ],
          "surface": [
           {
            "colorbar": {
             "outlinewidth": 0,
             "ticks": ""
            },
            "colorscale": [
             [
              0,
              "#0d0887"
             ],
             [
              0.1111111111111111,
              "#46039f"
             ],
             [
              0.2222222222222222,
              "#7201a8"
             ],
             [
              0.3333333333333333,
              "#9c179e"
             ],
             [
              0.4444444444444444,
              "#bd3786"
             ],
             [
              0.5555555555555556,
              "#d8576b"
             ],
             [
              0.6666666666666666,
              "#ed7953"
             ],
             [
              0.7777777777777778,
              "#fb9f3a"
             ],
             [
              0.8888888888888888,
              "#fdca26"
             ],
             [
              1,
              "#f0f921"
             ]
            ],
            "type": "surface"
           }
          ],
          "table": [
           {
            "cells": {
             "fill": {
              "color": "#EBF0F8"
             },
             "line": {
              "color": "white"
             }
            },
            "header": {
             "fill": {
              "color": "#C8D4E3"
             },
             "line": {
              "color": "white"
             }
            },
            "type": "table"
           }
          ]
         },
         "layout": {
          "annotationdefaults": {
           "arrowcolor": "#2a3f5f",
           "arrowhead": 0,
           "arrowwidth": 1
          },
          "autotypenumbers": "strict",
          "coloraxis": {
           "colorbar": {
            "outlinewidth": 0,
            "ticks": ""
           }
          },
          "colorscale": {
           "diverging": [
            [
             0,
             "#8e0152"
            ],
            [
             0.1,
             "#c51b7d"
            ],
            [
             0.2,
             "#de77ae"
            ],
            [
             0.3,
             "#f1b6da"
            ],
            [
             0.4,
             "#fde0ef"
            ],
            [
             0.5,
             "#f7f7f7"
            ],
            [
             0.6,
             "#e6f5d0"
            ],
            [
             0.7,
             "#b8e186"
            ],
            [
             0.8,
             "#7fbc41"
            ],
            [
             0.9,
             "#4d9221"
            ],
            [
             1,
             "#276419"
            ]
           ],
           "sequential": [
            [
             0,
             "#0d0887"
            ],
            [
             0.1111111111111111,
             "#46039f"
            ],
            [
             0.2222222222222222,
             "#7201a8"
            ],
            [
             0.3333333333333333,
             "#9c179e"
            ],
            [
             0.4444444444444444,
             "#bd3786"
            ],
            [
             0.5555555555555556,
             "#d8576b"
            ],
            [
             0.6666666666666666,
             "#ed7953"
            ],
            [
             0.7777777777777778,
             "#fb9f3a"
            ],
            [
             0.8888888888888888,
             "#fdca26"
            ],
            [
             1,
             "#f0f921"
            ]
           ],
           "sequentialminus": [
            [
             0,
             "#0d0887"
            ],
            [
             0.1111111111111111,
             "#46039f"
            ],
            [
             0.2222222222222222,
             "#7201a8"
            ],
            [
             0.3333333333333333,
             "#9c179e"
            ],
            [
             0.4444444444444444,
             "#bd3786"
            ],
            [
             0.5555555555555556,
             "#d8576b"
            ],
            [
             0.6666666666666666,
             "#ed7953"
            ],
            [
             0.7777777777777778,
             "#fb9f3a"
            ],
            [
             0.8888888888888888,
             "#fdca26"
            ],
            [
             1,
             "#f0f921"
            ]
           ]
          },
          "colorway": [
           "#636efa",
           "#EF553B",
           "#00cc96",
           "#ab63fa",
           "#FFA15A",
           "#19d3f3",
           "#FF6692",
           "#B6E880",
           "#FF97FF",
           "#FECB52"
          ],
          "font": {
           "color": "#2a3f5f"
          },
          "geo": {
           "bgcolor": "white",
           "lakecolor": "white",
           "landcolor": "#E5ECF6",
           "showlakes": true,
           "showland": true,
           "subunitcolor": "white"
          },
          "hoverlabel": {
           "align": "left"
          },
          "hovermode": "closest",
          "mapbox": {
           "style": "light"
          },
          "paper_bgcolor": "white",
          "plot_bgcolor": "#E5ECF6",
          "polar": {
           "angularaxis": {
            "gridcolor": "white",
            "linecolor": "white",
            "ticks": ""
           },
           "bgcolor": "#E5ECF6",
           "radialaxis": {
            "gridcolor": "white",
            "linecolor": "white",
            "ticks": ""
           }
          },
          "scene": {
           "xaxis": {
            "backgroundcolor": "#E5ECF6",
            "gridcolor": "white",
            "gridwidth": 2,
            "linecolor": "white",
            "showbackground": true,
            "ticks": "",
            "zerolinecolor": "white"
           },
           "yaxis": {
            "backgroundcolor": "#E5ECF6",
            "gridcolor": "white",
            "gridwidth": 2,
            "linecolor": "white",
            "showbackground": true,
            "ticks": "",
            "zerolinecolor": "white"
           },
           "zaxis": {
            "backgroundcolor": "#E5ECF6",
            "gridcolor": "white",
            "gridwidth": 2,
            "linecolor": "white",
            "showbackground": true,
            "ticks": "",
            "zerolinecolor": "white"
           }
          },
          "shapedefaults": {
           "line": {
            "color": "#2a3f5f"
           }
          },
          "ternary": {
           "aaxis": {
            "gridcolor": "white",
            "linecolor": "white",
            "ticks": ""
           },
           "baxis": {
            "gridcolor": "white",
            "linecolor": "white",
            "ticks": ""
           },
           "bgcolor": "#E5ECF6",
           "caxis": {
            "gridcolor": "white",
            "linecolor": "white",
            "ticks": ""
           }
          },
          "title": {
           "x": 0.05
          },
          "xaxis": {
           "automargin": true,
           "gridcolor": "white",
           "linecolor": "white",
           "ticks": "",
           "title": {
            "standoff": 15
           },
           "zerolinecolor": "white",
           "zerolinewidth": 2
          },
          "yaxis": {
           "automargin": true,
           "gridcolor": "white",
           "linecolor": "white",
           "ticks": "",
           "title": {
            "standoff": 15
           },
           "zerolinecolor": "white",
           "zerolinewidth": 2
          }
         }
        },
        "title": {
         "text": "<b>Market price and water value of reservoirs</b>"
        },
        "xaxis": {
         "autorange": true,
         "range": [
          "2018-01-23",
          "2018-01-25 23:00"
         ],
         "title": {
          "text": "<b>Time</b> (Hour)"
         },
         "type": "date"
        },
        "yaxis": {
         "autorange": true,
         "range": [
          6.237111111111109,
          81.49488888888892
         ],
         "title": {
          "text": "<b>Price</b> (€/MWh)"
         },
         "type": "linear"
        }
       }
      },
      "image/png": "[encoded data removed]",
      "text/html": [
       "<div>                            <div id=\"445e521a-05dd-4ca0-a21b-598b8292e920\" class=\"plotly-graph-div\" style=\"height:525px; width:100%;\"></div>            <script type=\"text/javascript\">                require([\"plotly\"], function(Plotly) {                    window.PLOTLYENV=window.PLOTLYENV || {};                                    if (document.getElementById(\"445e521a-05dd-4ca0-a21b-598b8292e920\")) {                    Plotly.newPlot(                        \"445e521a-05dd-4ca0-a21b-598b8292e920\",                        [{\"marker\":{\"color\":\"rgb(33,102,172)\"},\"name\":\"Market price\",\"type\":\"scatter\",\"x\":[\"2018-01-23T00:00:00\",\"2018-01-23T01:00:00\",\"2018-01-23T02:00:00\",\"2018-01-23T03:00:00\",\"2018-01-23T04:00:00\",\"2018-01-23T05:00:00\",\"2018-01-23T06:00:00\",\"2018-01-23T07:00:00\",\"2018-01-23T08:00:00\",\"2018-01-23T09:00:00\",\"2018-01-23T10:00:00\",\"2018-01-23T11:00:00\",\"2018-01-23T12:00:00\",\"2018-01-23T13:00:00\",\"2018-01-23T14:00:00\",\"2018-01-23T15:00:00\",\"2018-01-23T16:00:00\",\"2018-01-23T17:00:00\",\"2018-01-23T18:00:00\",\"2018-01-23T19:00:00\",\"2018-01-23T20:00:00\",\"2018-01-23T21:00:00\",\"2018-01-23T22:00:00\",\"2018-01-23T23:00:00\",\"2018-01-24T00:00:00\",\"2018-01-24T01:00:00\",\"2018-01-24T02:00:00\",\"2018-01-24T03:00:00\",\"2018-01-24T04:00:00\",\"2018-01-24T05:00:00\",\"2018-01-24T06:00:00\",\"2018-01-24T07:00:00\",\"2018-01-24T08:00:00\",\"2018-01-24T09:00:00\",\"2018-01-24T10:00:00\",\"2018-01-24T11:00:00\",\"2018-01-24T12:00:00\",\"2018-01-24T13:00:00\",\"2018-01-24T14:00:00\",\"2018-01-24T15:00:00\",\"2018-01-24T16:00:00\",\"2018-01-24T17:00:00\",\"2018-01-24T18:00:00\",\"2018-01-24T19:00:00\",\"2018-01-24T20:00:00\",\"2018-01-24T21:00:00\",\"2018-01-24T22:00:00\",\"2018-01-24T23:00:00\",\"2018-01-25T00:00:00\",\"2018-01-25T01:00:00\",\"2018-01-25T02:00:00\",\"2018-01-25T03:00:00\",\"2018-01-25T04:00:00\",\"2018-01-25T05:00:00\",\"2018-01-25T06:00:00\",\"2018-01-25T07:00:00\",\"2018-01-25T08:00:00\",\"2018-01-25T09:00:00\",\"2018-01-25T10:00:00\",\"2018-01-25T11:00:00\",\"2018-01-25T12:00:00\",\"2018-01-25T13:00:00\",\"2018-01-25T14:00:00\",\"2018-01-25T15:00:00\",\"2018-01-25T16:00:00\",\"2018-01-25T17:00:00\",\"2018-01-25T18:00:00\",\"2018-01-25T19:00:00\",\"2018-01-25T20:00:00\",\"2018-01-25T21:00:00\",\"2018-01-25T22:00:00\",\"2018-01-25T23:00:00\"],\"y\":[32.992,31.122000000000007,29.312000000000012,28.072000000000013,30.012000000000018,33.36200000000002,42.68200000000002,74.82200000000002,77.73200000000003,62.33200000000002,55.89200000000002,46.96200000000001,42.58200000000001,40.942,39.211999999999996,39.141999999999996,41.67199999999999,46.922,37.102000000000004,32.992,31.272,29.752000000000002,28.782000000000007,28.082000000000004,27.242000000000004,26.622000000000003,25.732,25.391999999999996,25.992,27.402000000000005,28.942000000000007,32.18200000000001,33.08200000000001,32.342000000000006,30.912000000000006,30.162000000000006,30.062000000000005,29.56200000000001,29.462000000000007,29.512000000000004,29.672000000000004,30.072,29.551999999999996,28.861999999999995,28.411999999999995,28.071999999999996,27.161999999999995,25.501999999999995,26.191999999999997,25.222,24.052,23.892000000000003,23.682,26.092000000000002,28.202000000000005,30.902000000000005,31.572000000000003,31.462000000000007,31.172000000000008,30.912000000000003,30.572000000000003,30.602000000000007,30.63200000000001,31.06200000000001,32.08200000000001,36.26200000000001,34.47200000000001,32.18200000000001,31.492000000000004,30.732000000000003,29.712000000000003,28.982000000000003]},{\"line\":{\"dash\":\"dot\"},\"marker\":{\"color\":\"rgb(67,147,195)\"},\"name\":\"Water value of Reservoir1\",\"type\":\"scatter\",\"x\":[\"2018-01-23T00:00:00\",\"2018-01-23T01:00:00\",\"2018-01-23T02:00:00\",\"2018-01-23T03:00:00\",\"2018-01-23T04:00:00\",\"2018-01-23T05:00:00\",\"2018-01-23T06:00:00\",\"2018-01-23T07:00:00\",\"2018-01-23T08:00:00\",\"2018-01-23T09:00:00\",\"2018-01-23T10:00:00\",\"2018-01-23T11:00:00\",\"2018-01-23T12:00:00\",\"2018-01-23T13:00:00\",\"2018-01-23T14:00:00\",\"2018-01-23T15:00:00\",\"2018-01-23T16:00:00\",\"2018-01-23T17:00:00\",\"2018-01-23T18:00:00\",\"2018-01-23T19:00:00\",\"2018-01-23T20:00:00\",\"2018-01-23T21:00:00\",\"2018-01-23T22:00:00\",\"2018-01-23T23:00:00\",\"2018-01-24T00:00:00\",\"2018-01-24T01:00:00\",\"2018-01-24T02:00:00\",\"2018-01-24T03:00:00\",\"2018-01-24T04:00:00\",\"2018-01-24T05:00:00\",\"2018-01-24T06:00:00\",\"2018-01-24T07:00:00\",\"2018-01-24T08:00:00\",\"2018-01-24T09:00:00\",\"2018-01-24T10:00:00\",\"2018-01-24T11:00:00\",\"2018-01-24T12:00:00\",\"2018-01-24T13:00:00\",\"2018-01-24T14:00:00\",\"2018-01-24T15:00:00\",\"2018-01-24T16:00:00\",\"2018-01-24T17:00:00\",\"2018-01-24T18:00:00\",\"2018-01-24T19:00:00\",\"2018-01-24T20:00:00\",\"2018-01-24T21:00:00\",\"2018-01-24T22:00:00\",\"2018-01-24T23:00:00\",\"2018-01-25T00:00:00\",\"2018-01-25T01:00:00\",\"2018-01-25T02:00:00\",\"2018-01-25T03:00:00\",\"2018-01-25T04:00:00\",\"2018-01-25T05:00:00\",\"2018-01-25T06:00:00\",\"2018-01-25T07:00:00\",\"2018-01-25T08:00:00\",\"2018-01-25T09:00:00\",\"2018-01-25T10:00:00\",\"2018-01-25T11:00:00\",\"2018-01-25T12:00:00\",\"2018-01-25T13:00:00\",\"2018-01-25T14:00:00\",\"2018-01-25T15:00:00\",\"2018-01-25T16:00:00\",\"2018-01-25T17:00:00\",\"2018-01-25T18:00:00\",\"2018-01-25T19:00:00\",\"2018-01-25T20:00:00\",\"2018-01-25T21:00:00\",\"2018-01-25T22:00:00\",\"2018-01-25T23:00:00\"],\"y\":[30.0,30.0,30.0,30.0,30.0,30.0,30.0,30.0,30.0,30.0,30.0,30.0,30.0,30.0,30.0,30.0,30.0,30.0,30.0,30.0,30.0,30.0,30.0,30.0,30.0,30.0,30.0,30.0,30.0,30.0,30.0,30.0,30.0,30.0,30.0,30.0,30.0,30.0,30.0,30.0,30.0,30.0,30.0,30.0,30.0,30.0,30.0,30.0,30.0,30.0,30.0,30.0,30.0,30.0,30.0,30.0,30.0,30.0,30.0,30.0,30.0,30.0,30.0,30.0,30.0,30.0,30.0,30.0,30.0,30.0,30.0,30.0]},{\"line\":{\"dash\":\"dot\"},\"marker\":{\"color\":\"rgb(146,197,222)\"},\"name\":\"Water value of Reservoir2\",\"type\":\"scatter\",\"x\":[\"2018-01-23T00:00:00\",\"2018-01-23T01:00:00\",\"2018-01-23T02:00:00\",\"2018-01-23T03:00:00\",\"2018-01-23T04:00:00\",\"2018-01-23T05:00:00\",\"2018-01-23T06:00:00\",\"2018-01-23T07:00:00\",\"2018-01-23T08:00:00\",\"2018-01-23T09:00:00\",\"2018-01-23T10:00:00\",\"2018-01-23T11:00:00\",\"2018-01-23T12:00:00\",\"2018-01-23T13:00:00\",\"2018-01-23T14:00:00\",\"2018-01-23T15:00:00\",\"2018-01-23T16:00:00\",\"2018-01-23T17:00:00\",\"2018-01-23T18:00:00\",\"2018-01-23T19:00:00\",\"2018-01-23T20:00:00\",\"2018-01-23T21:00:00\",\"2018-01-23T22:00:00\",\"2018-01-23T23:00:00\",\"2018-01-24T00:00:00\",\"2018-01-24T01:00:00\",\"2018-01-24T02:00:00\",\"2018-01-24T03:00:00\",\"2018-01-24T04:00:00\",\"2018-01-24T05:00:00\",\"2018-01-24T06:00:00\",\"2018-01-24T07:00:00\",\"2018-01-24T08:00:00\",\"2018-01-24T09:00:00\",\"2018-01-24T10:00:00\",\"2018-01-24T11:00:00\",\"2018-01-24T12:00:00\",\"2018-01-24T13:00:00\",\"2018-01-24T14:00:00\",\"2018-01-24T15:00:00\",\"2018-01-24T16:00:00\",\"2018-01-24T17:00:00\",\"2018-01-24T18:00:00\",\"2018-01-24T19:00:00\",\"2018-01-24T20:00:00\",\"2018-01-24T21:00:00\",\"2018-01-24T22:00:00\",\"2018-01-24T23:00:00\",\"2018-01-25T00:00:00\",\"2018-01-25T01:00:00\",\"2018-01-25T02:00:00\",\"2018-01-25T03:00:00\",\"2018-01-25T04:00:00\",\"2018-01-25T05:00:00\",\"2018-01-25T06:00:00\",\"2018-01-25T07:00:00\",\"2018-01-25T08:00:00\",\"2018-01-25T09:00:00\",\"2018-01-25T10:00:00\",\"2018-01-25T11:00:00\",\"2018-01-25T12:00:00\",\"2018-01-25T13:00:00\",\"2018-01-25T14:00:00\",\"2018-01-25T15:00:00\",\"2018-01-25T16:00:00\",\"2018-01-25T17:00:00\",\"2018-01-25T18:00:00\",\"2018-01-25T19:00:00\",\"2018-01-25T20:00:00\",\"2018-01-25T21:00:00\",\"2018-01-25T22:00:00\",\"2018-01-25T23:00:00\"],\"y\":[10.0,10.0,10.0,10.0,10.0,10.0,10.0,10.0,10.0,10.0,10.0,10.0,10.0,10.0,10.0,10.0,10.0,10.0,10.0,10.0,10.0,10.0,10.0,10.0,10.0,10.0,10.0,10.0,10.0,10.0,10.0,10.0,10.0,10.0,10.0,10.0,10.0,10.0,10.0,10.0,10.0,10.0,10.0,10.0,10.0,10.0,10.0,10.0,10.0,10.0,10.0,10.0,10.0,10.0,10.0,10.0,10.0,10.0,10.0,10.0,10.0,10.0,10.0,10.0,10.0,10.0,10.0,10.0,10.0,10.0,10.0,10.0]}],                        {\"template\":{\"data\":{\"bar\":[{\"error_x\":{\"color\":\"#2a3f5f\"},\"error_y\":{\"color\":\"#2a3f5f\"},\"marker\":{\"line\":{\"color\":\"#E5ECF6\",\"width\":0.5},\"pattern\":{\"fillmode\":\"overlay\",\"size\":10,\"solidity\":0.2}},\"type\":\"bar\"}],\"barpolar\":[{\"marker\":{\"line\":{\"color\":\"#E5ECF6\",\"width\":0.5},\"pattern\":{\"fillmode\":\"overlay\",\"size\":10,\"solidity\":0.2}},\"type\":\"barpolar\"}],\"carpet\":[{\"aaxis\":{\"endlinecolor\":\"#2a3f5f\",\"gridcolor\":\"white\",\"linecolor\":\"white\",\"minorgridcolor\":\"white\",\"startlinecolor\":\"#2a3f5f\"},\"baxis\":{\"endlinecolor\":\"#2a3f5f\",\"gridcolor\":\"white\",\"linecolor\":\"white\",\"minorgridcolor\":\"white\",\"startlinecolor\":\"#2a3f5f\"},\"type\":\"carpet\"}],\"choropleth\":[{\"colorbar\":{\"outlinewidth\":0,\"ticks\":\"\"},\"type\":\"choropleth\"}],\"contour\":[{\"colorbar\":{\"outlinewidth\":0,\"ticks\":\"\"},\"colorscale\":[[0.0,\"#0d0887\"],[0.1111111111111111,\"#46039f\"],[0.2222222222222222,\"#7201a8\"],[0.3333333333333333,\"#9c179e\"],[0.4444444444444444,\"#bd3786\"],[0.5555555555555556,\"#d8576b\"],[0.6666666666666666,\"#ed7953\"],[0.7777777777777778,\"#fb9f3a\"],[0.8888888888888888,\"#fdca26\"],[1.0,\"#f0f921\"]],\"type\":\"contour\"}],\"contourcarpet\":[{\"colorbar\":{\"outlinewidth\":0,\"ticks\":\"\"},\"type\":\"contourcarpet\"}],\"heatmap\":[{\"colorbar\":{\"outlinewidth\":0,\"ticks\":\"\"},\"colorscale\":[[0.0,\"#0d0887\"],[0.1111111111111111,\"#46039f\"],[0.2222222222222222,\"#7201a8\"],[0.3333333333333333,\"#9c179e\"],[0.4444444444444444,\"#bd3786\"],[0.5555555555555556,\"#d8576b\"],[0.6666666666666666,\"#ed7953\"],[0.7777777777777778,\"#fb9f3a\"],[0.8888888888888888,\"#fdca26\"],[1.0,\"#f0f921\"]],\"type\":\"heatmap\"}],\"heatmapgl\":[{\"colorbar\":{\"outlinewidth\":0,\"ticks\":\"\"},\"colorscale\":[[0.0,\"#0d0887\"],[0.1111111111111111,\"#46039f\"],[0.2222222222222222,\"#7201a8\"],[0.3333333333333333,\"#9c179e\"],[0.4444444444444444,\"#bd3786\"],[0.5555555555555556,\"#d8576b\"],[0.6666666666666666,\"#ed7953\"],[0.7777777777777778,\"#fb9f3a\"],[0.8888888888888888,\"#fdca26\"],[1.0,\"#f0f921\"]],\"type\":\"heatmapgl\"}],\"histogram\":[{\"marker\":{\"pattern\":{\"fillmode\":\"overlay\",\"size\":10,\"solidity\":0.2}},\"type\":\"histogram\"}],\"histogram2d\":[{\"colorbar\":{\"outlinewidth\":0,\"ticks\":\"\"},\"colorscale\":[[0.0,\"#0d0887\"],[0.1111111111111111,\"#46039f\"],[0.2222222222222222,\"#7201a8\"],[0.3333333333333333,\"#9c179e\"],[0.4444444444444444,\"#bd3786\"],[0.5555555555555556,\"#d8576b\"],[0.6666666666666666,\"#ed7953\"],[0.7777777777777778,\"#fb9f3a\"],[0.8888888888888888,\"#fdca26\"],[1.0,\"#f0f921\"]],\"type\":\"histogram2d\"}],\"histogram2dcontour\":[{\"colorbar\":{\"outlinewidth\":0,\"ticks\":\"\"},\"colorscale\":[[0.0,\"#0d0887\"],[0.1111111111111111,\"#46039f\"],[0.2222222222222222,\"#7201a8\"],[0.3333333333333333,\"#9c179e\"],[0.4444444444444444,\"#bd3786\"],[0.5555555555555556,\"#d8576b\"],[0.6666666666666666,\"#ed7953\"],[0.7777777777777778,\"#fb9f3a\"],[0.8888888888888888,\"#fdca26\"],[1.0,\"#f0f921\"]],\"type\":\"histogram2dcontour\"}],\"mesh3d\":[{\"colorbar\":{\"outlinewidth\":0,\"ticks\":\"\"},\"type\":\"mesh3d\"}],\"parcoords\":[{\"line\":{\"colorbar\":{\"outlinewidth\":0,\"ticks\":\"\"}},\"type\":\"parcoords\"}],\"pie\":[{\"automargin\":true,\"type\":\"pie\"}],\"scatter\":[{\"marker\":{\"colorbar\":{\"outlinewidth\":0,\"ticks\":\"\"}},\"type\":\"scatter\"}],\"scatter3d\":[{\"line\":{\"colorbar\":{\"outlinewidth\":0,\"ticks\":\"\"}},\"marker\":{\"colorbar\":{\"outlinewidth\":0,\"ticks\":\"\"}},\"type\":\"scatter3d\"}],\"scattercarpet\":[{\"marker\":{\"colorbar\":{\"outlinewidth\":0,\"ticks\":\"\"}},\"type\":\"scattercarpet\"}],\"scattergeo\":[{\"marker\":{\"colorbar\":{\"outlinewidth\":0,\"ticks\":\"\"}},\"type\":\"scattergeo\"}],\"scattergl\":[{\"marker\":{\"colorbar\":{\"outlinewidth\":0,\"ticks\":\"\"}},\"type\":\"scattergl\"}],\"scattermapbox\":[{\"marker\":{\"colorbar\":{\"outlinewidth\":0,\"ticks\":\"\"}},\"type\":\"scattermapbox\"}],\"scatterpolar\":[{\"marker\":{\"colorbar\":{\"outlinewidth\":0,\"ticks\":\"\"}},\"type\":\"scatterpolar\"}],\"scatterpolargl\":[{\"marker\":{\"colorbar\":{\"outlinewidth\":0,\"ticks\":\"\"}},\"type\":\"scatterpolargl\"}],\"scatterternary\":[{\"marker\":{\"colorbar\":{\"outlinewidth\":0,\"ticks\":\"\"}},\"type\":\"scatterternary\"}],\"surface\":[{\"colorbar\":{\"outlinewidth\":0,\"ticks\":\"\"},\"colorscale\":[[0.0,\"#0d0887\"],[0.1111111111111111,\"#46039f\"],[0.2222222222222222,\"#7201a8\"],[0.3333333333333333,\"#9c179e\"],[0.4444444444444444,\"#bd3786\"],[0.5555555555555556,\"#d8576b\"],[0.6666666666666666,\"#ed7953\"],[0.7777777777777778,\"#fb9f3a\"],[0.8888888888888888,\"#fdca26\"],[1.0,\"#f0f921\"]],\"type\":\"surface\"}],\"table\":[{\"cells\":{\"fill\":{\"color\":\"#EBF0F8\"},\"line\":{\"color\":\"white\"}},\"header\":{\"fill\":{\"color\":\"#C8D4E3\"},\"line\":{\"color\":\"white\"}},\"type\":\"table\"}]},\"layout\":{\"annotationdefaults\":{\"arrowcolor\":\"#2a3f5f\",\"arrowhead\":0,\"arrowwidth\":1},\"autotypenumbers\":\"strict\",\"coloraxis\":{\"colorbar\":{\"outlinewidth\":0,\"ticks\":\"\"}},\"colorscale\":{\"diverging\":[[0,\"#8e0152\"],[0.1,\"#c51b7d\"],[0.2,\"#de77ae\"],[0.3,\"#f1b6da\"],[0.4,\"#fde0ef\"],[0.5,\"#f7f7f7\"],[0.6,\"#e6f5d0\"],[0.7,\"#b8e186\"],[0.8,\"#7fbc41\"],[0.9,\"#4d9221\"],[1,\"#276419\"]],\"sequential\":[[0.0,\"#0d0887\"],[0.1111111111111111,\"#46039f\"],[0.2222222222222222,\"#7201a8\"],[0.3333333333333333,\"#9c179e\"],[0.4444444444444444,\"#bd3786\"],[0.5555555555555556,\"#d8576b\"],[0.6666666666666666,\"#ed7953\"],[0.7777777777777778,\"#fb9f3a\"],[0.8888888888888888,\"#fdca26\"],[1.0,\"#f0f921\"]],\"sequentialminus\":[[0.0,\"#0d0887\"],[0.1111111111111111,\"#46039f\"],[0.2222222222222222,\"#7201a8\"],[0.3333333333333333,\"#9c179e\"],[0.4444444444444444,\"#bd3786\"],[0.5555555555555556,\"#d8576b\"],[0.6666666666666666,\"#ed7953\"],[0.7777777777777778,\"#fb9f3a\"],[0.8888888888888888,\"#fdca26\"],[1.0,\"#f0f921\"]]},\"colorway\":[\"#636efa\",\"#EF553B\",\"#00cc96\",\"#ab63fa\",\"#FFA15A\",\"#19d3f3\",\"#FF6692\",\"#B6E880\",\"#FF97FF\",\"#FECB52\"],\"font\":{\"color\":\"#2a3f5f\"},\"geo\":{\"bgcolor\":\"white\",\"lakecolor\":\"white\",\"landcolor\":\"#E5ECF6\",\"showlakes\":true,\"showland\":true,\"subunitcolor\":\"white\"},\"hoverlabel\":{\"align\":\"left\"},\"hovermode\":\"closest\",\"mapbox\":{\"style\":\"light\"},\"paper_bgcolor\":\"white\",\"plot_bgcolor\":\"#E5ECF6\",\"polar\":{\"angularaxis\":{\"gridcolor\":\"white\",\"linecolor\":\"white\",\"ticks\":\"\"},\"bgcolor\":\"#E5ECF6\",\"radialaxis\":{\"gridcolor\":\"white\",\"linecolor\":\"white\",\"ticks\":\"\"}},\"scene\":{\"xaxis\":{\"backgroundcolor\":\"#E5ECF6\",\"gridcolor\":\"white\",\"gridwidth\":2,\"linecolor\":\"white\",\"showbackground\":true,\"ticks\":\"\",\"zerolinecolor\":\"white\"},\"yaxis\":{\"backgroundcolor\":\"#E5ECF6\",\"gridcolor\":\"white\",\"gridwidth\":2,\"linecolor\":\"white\",\"showbackground\":true,\"ticks\":\"\",\"zerolinecolor\":\"white\"},\"zaxis\":{\"backgroundcolor\":\"#E5ECF6\",\"gridcolor\":\"white\",\"gridwidth\":2,\"linecolor\":\"white\",\"showbackground\":true,\"ticks\":\"\",\"zerolinecolor\":\"white\"}},\"shapedefaults\":{\"line\":{\"color\":\"#2a3f5f\"}},\"ternary\":{\"aaxis\":{\"gridcolor\":\"white\",\"linecolor\":\"white\",\"ticks\":\"\"},\"baxis\":{\"gridcolor\":\"white\",\"linecolor\":\"white\",\"ticks\":\"\"},\"bgcolor\":\"#E5ECF6\",\"caxis\":{\"gridcolor\":\"white\",\"linecolor\":\"white\",\"ticks\":\"\"}},\"title\":{\"x\":0.05},\"xaxis\":{\"automargin\":true,\"gridcolor\":\"white\",\"linecolor\":\"white\",\"ticks\":\"\",\"title\":{\"standoff\":15},\"zerolinecolor\":\"white\",\"zerolinewidth\":2},\"yaxis\":{\"automargin\":true,\"gridcolor\":\"white\",\"linecolor\":\"white\",\"ticks\":\"\",\"title\":{\"standoff\":15},\"zerolinecolor\":\"white\",\"zerolinewidth\":2}}},\"title\":{\"text\":\"<b>Market price and water value of reservoirs</b>\"},\"xaxis\":{\"title\":{\"text\":\"<b>Time</b> (Hour)\"}},\"yaxis\":{\"title\":{\"text\":\"<b>Price</b> (\\u20ac/MWh)\"}}},                        {\"responsive\": true}                    ).then(function(){\n",
       "                            \n",
       "var gd = document.getElementById('445e521a-05dd-4ca0-a21b-598b8292e920');\n",
       "var x = new MutationObserver(function (mutations, observer) {{\n",
       "        var display = window.getComputedStyle(gd).display;\n",
       "        if (!display || display === 'none') {{\n",
       "            console.log([gd, 'removed!']);\n",
       "            Plotly.purge(gd);\n",
       "            observer.disconnect();\n",
       "        }}\n",
       "}});\n",
       "\n",
       "// Listen for the removal of the full notebook cells\n",
       "var notebookContainer = gd.closest('#notebook-container');\n",
       "if (notebookContainer) {{\n",
       "    x.observe(notebookContainer, {childList: true});\n",
       "}}\n",
       "\n",
       "// Listen for the clearing of the current output cell\n",
       "var outputEl = gd.closest('.output');\n",
       "if (outputEl) {{\n",
       "    x.observe(outputEl, {childList: true});\n",
       "}}\n",
       "\n",
       "                        })                };                });            </script>        </div>"
      ]
     },
     "metadata": {},
     "output_type": "display_data"
    }
   ],
   "source": [
    "# Plot market price and water value of reservoirs\r\n",
    "spot_price=shop.model.market.Day_ahead.sale_price.get()\r\n",
    "end_water_value=shop.model.reservoir.Reservoir1.energy_value_input.get()\r\n",
    "water_value=pd.Series(dtype=object,index=spot_price.index)\r\n",
    "water_value=water_value.fillna(end_water_value)\r\n",
    "\r\n",
    "\r\n",
    "fig = go.Figure()\r\n",
    "colorscale = px.colors.sequential.RdBu_r\r\n",
    "color = 1\r\n",
    "fig.add_trace(go.Scatter(x=spot_price.index, marker_color = colorscale[color], y=spot_price.values, name=\"Market price\"))\r\n",
    "\r\n",
    "for rsv in shop.model.reservoir:\r\n",
    "    color+=1\r\n",
    "    end_water_value=rsv.energy_value_input.get()\r\n",
    "    water_value=pd.Series(dtype=object,index=spot_price.index)\r\n",
    "    water_value=water_value.fillna(end_water_value)\r\n",
    "    curve_name=\"Water value of \"+rsv.get_name()\r\n",
    "    fig.add_trace(go.Scatter(x=water_value.index, y=water_value.values, marker_color = colorscale[color], name=curve_name, line=dict(dash=\"dot\")))\r\n",
    "    \r\n",
    "fig.update_layout(title=\"<b>Market price and water value of reservoirs</b>\", xaxis_title=\"<b>Time</b> (Hour)\", yaxis_title=\"<b>Price</b> (€/MWh)\")\r\n",
    "\r\n",
    "fig.show()"
   ]
  },
  {
   "cell_type": "markdown",
   "metadata": {
    "Collapsed": "false"
   },
   "source": [
    "## Running SHOP"
   ]
  },
  {
   "cell_type": "markdown",
   "metadata": {
    "Collapsed": "false"
   },
   "source": [
    "Once the model is fully defined, we can prepare for a call to the optimizer. It is possible to define certain criteria depending on the solver used, if not, default values will be effective. \r\n",
    "\r\n",
    "In order to find an optimal solution, it is normal to run SHOP with multiple iterations, both full and incremental."
   ]
  },
  {
   "cell_type": "code",
   "execution_count": 32,
   "metadata": {
    "Collapsed": "false"
   },
   "outputs": [
    {
     "data": {
      "text/plain": [
       "True"
      ]
     },
     "execution_count": 32,
     "metadata": {},
     "output_type": "execute_result"
    }
   ],
   "source": [
    "# Setting a full flag, telling SHOP the upcomming iterations should be full\r\n",
    "shop.set_code(['full'], [])\r\n",
    "\r\n",
    "# Starting SHOP and running five (full) iterations\r\n",
    "shop.start_sim([], ['5'])\r\n",
    "\r\n",
    "# Setting an incremental flag, telling SHOP the next iterations should be incremental\r\n",
    "shop.set_code(['incremental'], [])\r\n",
    "\r\n",
    "# Running three more (incremental) iterations\r\n",
    "shop.start_sim([], ['3'])"
   ]
  },
  {
   "cell_type": "markdown",
   "metadata": {
    "Collapsed": "false"
   },
   "source": [
    "## Results"
   ]
  },
  {
   "cell_type": "markdown",
   "metadata": {
    "Collapsed": "false"
   },
   "source": [
    "After the optimization has completed, we can review the result from SHOP by plotting the graphs we want. "
   ]
  },
  {
   "cell_type": "code",
   "execution_count": 33,
   "metadata": {
    "Collapsed": "false"
   },
   "outputs": [
    {
     "data": {
      "application/vnd.plotly.v1+json": {
       "config": {
        "plotlyServerURL": "https://plot.ly"
       },
       "data": [
        {
         "marker": {
          "color": "rgb(33,102,172)"
         },
         "name": "P1",
         "type": "bar",
         "x": [
          "2018-01-23T00:00:00",
          "2018-01-23T01:00:00",
          "2018-01-23T02:00:00",
          "2018-01-23T03:00:00",
          "2018-01-23T04:00:00",
          "2018-01-23T05:00:00",
          "2018-01-23T06:00:00",
          "2018-01-23T07:00:00",
          "2018-01-23T08:00:00",
          "2018-01-23T09:00:00",
          "2018-01-23T10:00:00",
          "2018-01-23T11:00:00",
          "2018-01-23T12:00:00",
          "2018-01-23T13:00:00",
          "2018-01-23T14:00:00",
          "2018-01-23T15:00:00",
          "2018-01-23T16:00:00",
          "2018-01-23T17:00:00",
          "2018-01-23T18:00:00",
          "2018-01-23T19:00:00",
          "2018-01-23T20:00:00",
          "2018-01-23T21:00:00",
          "2018-01-23T22:00:00",
          "2018-01-23T23:00:00",
          "2018-01-24T00:00:00",
          "2018-01-24T01:00:00",
          "2018-01-24T02:00:00",
          "2018-01-24T03:00:00",
          "2018-01-24T04:00:00",
          "2018-01-24T05:00:00",
          "2018-01-24T06:00:00",
          "2018-01-24T07:00:00",
          "2018-01-24T08:00:00",
          "2018-01-24T09:00:00",
          "2018-01-24T10:00:00",
          "2018-01-24T11:00:00",
          "2018-01-24T12:00:00",
          "2018-01-24T13:00:00",
          "2018-01-24T14:00:00",
          "2018-01-24T15:00:00",
          "2018-01-24T16:00:00",
          "2018-01-24T17:00:00",
          "2018-01-24T18:00:00",
          "2018-01-24T19:00:00",
          "2018-01-24T20:00:00",
          "2018-01-24T21:00:00",
          "2018-01-24T22:00:00",
          "2018-01-24T23:00:00",
          "2018-01-25T00:00:00",
          "2018-01-25T01:00:00",
          "2018-01-25T02:00:00",
          "2018-01-25T03:00:00",
          "2018-01-25T04:00:00",
          "2018-01-25T05:00:00",
          "2018-01-25T06:00:00",
          "2018-01-25T07:00:00",
          "2018-01-25T08:00:00",
          "2018-01-25T09:00:00",
          "2018-01-25T10:00:00",
          "2018-01-25T11:00:00",
          "2018-01-25T12:00:00",
          "2018-01-25T13:00:00",
          "2018-01-25T14:00:00",
          "2018-01-25T15:00:00",
          "2018-01-25T16:00:00",
          "2018-01-25T17:00:00",
          "2018-01-25T18:00:00",
          "2018-01-25T19:00:00",
          "2018-01-25T20:00:00",
          "2018-01-25T21:00:00",
          "2018-01-25T22:00:00",
          "2018-01-25T23:00:00"
         ],
         "y": [
          216.12403832592966,
          207.41068565930502,
          207.09621187805328,
          107.45981625081005,
          206.6246122289296,
          214.62959742781578,
          229.21270149218523,
          228.806647236796,
          228.39933285572502,
          227.99210684292888,
          227.58496919840792,
          227.17791992216178,
          226.77095901419074,
          226.35558528866693,
          225.93295609033785,
          225.5104222802633,
          225.08798385844298,
          224.66564082487702,
          217.1164794623228,
          201.21448478124492,
          200.8825898753049,
          108.9588837377697,
          104.24177090554437,
          104.15843002560204,
          0,
          0,
          0,
          0,
          0,
          0,
          104.07509745166146,
          199.87935033139433,
          199.547722810989,
          199.21616173859803,
          198.8846671142213,
          107.90952899360296,
          107.81831311724905,
          103.15100300286973,
          103.06777089768934,
          102.98454709851082,
          102.90133160533408,
          102.81812441815906,
          102.726249559936,
          102.63392977899366,
          102.54162022737916,
          0,
          0,
          0,
          0,
          0,
          0,
          0,
          0,
          0,
          0,
          106.99346387329328,
          106.8923434490018,
          106.7912347732558,
          106.69013784605526,
          102.06252762450961,
          101.97028141132357,
          101.87804542746531,
          101.78545478249963,
          101.68801089117056,
          106.09560685922912,
          194.89714243379967,
          194.50942837964237,
          105.58155147361106,
          100.9968846087778,
          100.89953319104454,
          0,
          0
         ]
        },
        {
         "marker": {
          "color": "rgb(67,147,195)"
         },
         "name": "P2",
         "type": "bar",
         "x": [
          "2018-01-23T00:00:00",
          "2018-01-23T01:00:00",
          "2018-01-23T02:00:00",
          "2018-01-23T03:00:00",
          "2018-01-23T04:00:00",
          "2018-01-23T05:00:00",
          "2018-01-23T06:00:00",
          "2018-01-23T07:00:00",
          "2018-01-23T08:00:00",
          "2018-01-23T09:00:00",
          "2018-01-23T10:00:00",
          "2018-01-23T11:00:00",
          "2018-01-23T12:00:00",
          "2018-01-23T13:00:00",
          "2018-01-23T14:00:00",
          "2018-01-23T15:00:00",
          "2018-01-23T16:00:00",
          "2018-01-23T17:00:00",
          "2018-01-23T18:00:00",
          "2018-01-23T19:00:00",
          "2018-01-23T20:00:00",
          "2018-01-23T21:00:00",
          "2018-01-23T22:00:00",
          "2018-01-23T23:00:00",
          "2018-01-24T00:00:00",
          "2018-01-24T01:00:00",
          "2018-01-24T02:00:00",
          "2018-01-24T03:00:00",
          "2018-01-24T04:00:00",
          "2018-01-24T05:00:00",
          "2018-01-24T06:00:00",
          "2018-01-24T07:00:00",
          "2018-01-24T08:00:00",
          "2018-01-24T09:00:00",
          "2018-01-24T10:00:00",
          "2018-01-24T11:00:00",
          "2018-01-24T12:00:00",
          "2018-01-24T13:00:00",
          "2018-01-24T14:00:00",
          "2018-01-24T15:00:00",
          "2018-01-24T16:00:00",
          "2018-01-24T17:00:00",
          "2018-01-24T18:00:00",
          "2018-01-24T19:00:00",
          "2018-01-24T20:00:00",
          "2018-01-24T21:00:00",
          "2018-01-24T22:00:00",
          "2018-01-24T23:00:00",
          "2018-01-25T00:00:00",
          "2018-01-25T01:00:00",
          "2018-01-25T02:00:00",
          "2018-01-25T03:00:00",
          "2018-01-25T04:00:00",
          "2018-01-25T05:00:00",
          "2018-01-25T06:00:00",
          "2018-01-25T07:00:00",
          "2018-01-25T08:00:00",
          "2018-01-25T09:00:00",
          "2018-01-25T10:00:00",
          "2018-01-25T11:00:00",
          "2018-01-25T12:00:00",
          "2018-01-25T13:00:00",
          "2018-01-25T14:00:00",
          "2018-01-25T15:00:00",
          "2018-01-25T16:00:00",
          "2018-01-25T17:00:00",
          "2018-01-25T18:00:00",
          "2018-01-25T19:00:00",
          "2018-01-25T20:00:00",
          "2018-01-25T21:00:00",
          "2018-01-25T22:00:00",
          "2018-01-25T23:00:00"
         ],
         "y": [
          218.23953105526158,
          218.02729015331596,
          198.19526654459293,
          176.95786241490438,
          197.9326330452678,
          223.40956260837075,
          289.9982604679672,
          339.4054737937787,
          338.74955076314114,
          289.99770285619746,
          289.9975394661675,
          289.9973539285003,
          289.9991779350764,
          289.99907656482776,
          289.9989551441061,
          289.9988109969698,
          289.9986426551807,
          289.99838588209934,
          289.9981442726028,
          227.21692873992953,
          219.03949238256394,
          210.10475427063082,
          209.72196557771315,
          209.33366775934445,
          192.09640725708405,
          190.84597229939953,
          170.6566386491762,
          170.3883422326184,
          188.16786679225922,
          190.60506920031338,
          206.30970468332185,
          222.0459599807299,
          221.61591925736346,
          221.1853398915732,
          213.00370658677315,
          212.63161099295888,
          212.14051745200422,
          211.6487919708633,
          211.1190929772992,
          210.57334557967295,
          210.02678089312587,
          209.4793915588378,
          208.93116992741759,
          208.36175109551596,
          199.836721484494,
          199.32207843925593,
          198.66979409468578,
          180.4812344693361,
          182.0402081488234,
          179.27949185161765,
          162.64798079735294,
          162.28843563471048,
          161.9173084731645,
          179.05523905415362,
          192.52589211612636,
          206.05409467774956,
          205.04766042049204,
          203.9970617723472,
          202.94646312420267,
          201.8958644760578,
          200.77112484726857,
          199.6115182689993,
          198.45191169072973,
          197.29230511246044,
          246.48999895247505,
          244.34852283505418,
          242.46607853680268,
          240.4900896547947,
          238.15715767832737,
          235.70545650868607,
          230.45215905267403,
          183.5493887872987
         ]
        },
        {
         "line": {
          "color": "black"
         },
         "name": "Price",
         "type": "scatter",
         "x": [
          "2018-01-23T00:00:00",
          "2018-01-23T01:00:00",
          "2018-01-23T02:00:00",
          "2018-01-23T03:00:00",
          "2018-01-23T04:00:00",
          "2018-01-23T05:00:00",
          "2018-01-23T06:00:00",
          "2018-01-23T07:00:00",
          "2018-01-23T08:00:00",
          "2018-01-23T09:00:00",
          "2018-01-23T10:00:00",
          "2018-01-23T11:00:00",
          "2018-01-23T12:00:00",
          "2018-01-23T13:00:00",
          "2018-01-23T14:00:00",
          "2018-01-23T15:00:00",
          "2018-01-23T16:00:00",
          "2018-01-23T17:00:00",
          "2018-01-23T18:00:00",
          "2018-01-23T19:00:00",
          "2018-01-23T20:00:00",
          "2018-01-23T21:00:00",
          "2018-01-23T22:00:00",
          "2018-01-23T23:00:00",
          "2018-01-24T00:00:00",
          "2018-01-24T01:00:00",
          "2018-01-24T02:00:00",
          "2018-01-24T03:00:00",
          "2018-01-24T04:00:00",
          "2018-01-24T05:00:00",
          "2018-01-24T06:00:00",
          "2018-01-24T07:00:00",
          "2018-01-24T08:00:00",
          "2018-01-24T09:00:00",
          "2018-01-24T10:00:00",
          "2018-01-24T11:00:00",
          "2018-01-24T12:00:00",
          "2018-01-24T13:00:00",
          "2018-01-24T14:00:00",
          "2018-01-24T15:00:00",
          "2018-01-24T16:00:00",
          "2018-01-24T17:00:00",
          "2018-01-24T18:00:00",
          "2018-01-24T19:00:00",
          "2018-01-24T20:00:00",
          "2018-01-24T21:00:00",
          "2018-01-24T22:00:00",
          "2018-01-24T23:00:00",
          "2018-01-25T00:00:00",
          "2018-01-25T01:00:00",
          "2018-01-25T02:00:00",
          "2018-01-25T03:00:00",
          "2018-01-25T04:00:00",
          "2018-01-25T05:00:00",
          "2018-01-25T06:00:00",
          "2018-01-25T07:00:00",
          "2018-01-25T08:00:00",
          "2018-01-25T09:00:00",
          "2018-01-25T10:00:00",
          "2018-01-25T11:00:00",
          "2018-01-25T12:00:00",
          "2018-01-25T13:00:00",
          "2018-01-25T14:00:00",
          "2018-01-25T15:00:00",
          "2018-01-25T16:00:00",
          "2018-01-25T17:00:00",
          "2018-01-25T18:00:00",
          "2018-01-25T19:00:00",
          "2018-01-25T20:00:00",
          "2018-01-25T21:00:00",
          "2018-01-25T22:00:00",
          "2018-01-25T23:00:00"
         ],
         "xaxis": "x",
         "y": [
          32.992,
          31.122000000000007,
          29.312000000000012,
          28.072000000000013,
          30.012000000000018,
          33.36200000000002,
          42.68200000000002,
          74.82200000000002,
          77.73200000000003,
          62.33200000000002,
          55.89200000000002,
          46.96200000000001,
          42.58200000000001,
          40.942,
          39.211999999999996,
          39.141999999999996,
          41.67199999999999,
          46.922,
          37.102000000000004,
          32.992,
          31.272,
          29.752000000000002,
          28.782000000000007,
          28.082000000000004,
          27.242000000000004,
          26.622000000000003,
          25.732,
          25.391999999999996,
          25.992,
          27.402000000000005,
          28.942000000000007,
          32.18200000000001,
          33.08200000000001,
          32.342000000000006,
          30.912000000000006,
          30.162000000000006,
          30.062000000000005,
          29.56200000000001,
          29.462000000000007,
          29.512000000000004,
          29.672000000000004,
          30.072,
          29.551999999999996,
          28.861999999999995,
          28.411999999999995,
          28.071999999999996,
          27.161999999999995,
          25.501999999999995,
          26.191999999999997,
          25.222,
          24.052,
          23.892000000000003,
          23.682,
          26.092000000000002,
          28.202000000000005,
          30.902000000000005,
          31.572000000000003,
          31.462000000000007,
          31.172000000000008,
          30.912000000000003,
          30.572000000000003,
          30.602000000000007,
          30.63200000000001,
          31.06200000000001,
          32.08200000000001,
          36.26200000000001,
          34.47200000000001,
          32.18200000000001,
          31.492000000000004,
          30.732000000000003,
          29.712000000000003,
          28.982000000000003
         ],
         "yaxis": "y2"
        }
       ],
       "layout": {
        "autosize": true,
        "barmode": "stack",
        "template": {
         "data": {
          "bar": [
           {
            "error_x": {
             "color": "#2a3f5f"
            },
            "error_y": {
             "color": "#2a3f5f"
            },
            "marker": {
             "line": {
              "color": "#E5ECF6",
              "width": 0.5
             },
             "pattern": {
              "fillmode": "overlay",
              "size": 10,
              "solidity": 0.2
             }
            },
            "type": "bar"
           }
          ],
          "barpolar": [
           {
            "marker": {
             "line": {
              "color": "#E5ECF6",
              "width": 0.5
             },
             "pattern": {
              "fillmode": "overlay",
              "size": 10,
              "solidity": 0.2
             }
            },
            "type": "barpolar"
           }
          ],
          "carpet": [
           {
            "aaxis": {
             "endlinecolor": "#2a3f5f",
             "gridcolor": "white",
             "linecolor": "white",
             "minorgridcolor": "white",
             "startlinecolor": "#2a3f5f"
            },
            "baxis": {
             "endlinecolor": "#2a3f5f",
             "gridcolor": "white",
             "linecolor": "white",
             "minorgridcolor": "white",
             "startlinecolor": "#2a3f5f"
            },
            "type": "carpet"
           }
          ],
          "choropleth": [
           {
            "colorbar": {
             "outlinewidth": 0,
             "ticks": ""
            },
            "type": "choropleth"
           }
          ],
          "contour": [
           {
            "colorbar": {
             "outlinewidth": 0,
             "ticks": ""
            },
            "colorscale": [
             [
              0,
              "#0d0887"
             ],
             [
              0.1111111111111111,
              "#46039f"
             ],
             [
              0.2222222222222222,
              "#7201a8"
             ],
             [
              0.3333333333333333,
              "#9c179e"
             ],
             [
              0.4444444444444444,
              "#bd3786"
             ],
             [
              0.5555555555555556,
              "#d8576b"
             ],
             [
              0.6666666666666666,
              "#ed7953"
             ],
             [
              0.7777777777777778,
              "#fb9f3a"
             ],
             [
              0.8888888888888888,
              "#fdca26"
             ],
             [
              1,
              "#f0f921"
             ]
            ],
            "type": "contour"
           }
          ],
          "contourcarpet": [
           {
            "colorbar": {
             "outlinewidth": 0,
             "ticks": ""
            },
            "type": "contourcarpet"
           }
          ],
          "heatmap": [
           {
            "colorbar": {
             "outlinewidth": 0,
             "ticks": ""
            },
            "colorscale": [
             [
              0,
              "#0d0887"
             ],
             [
              0.1111111111111111,
              "#46039f"
             ],
             [
              0.2222222222222222,
              "#7201a8"
             ],
             [
              0.3333333333333333,
              "#9c179e"
             ],
             [
              0.4444444444444444,
              "#bd3786"
             ],
             [
              0.5555555555555556,
              "#d8576b"
             ],
             [
              0.6666666666666666,
              "#ed7953"
             ],
             [
              0.7777777777777778,
              "#fb9f3a"
             ],
             [
              0.8888888888888888,
              "#fdca26"
             ],
             [
              1,
              "#f0f921"
             ]
            ],
            "type": "heatmap"
           }
          ],
          "heatmapgl": [
           {
            "colorbar": {
             "outlinewidth": 0,
             "ticks": ""
            },
            "colorscale": [
             [
              0,
              "#0d0887"
             ],
             [
              0.1111111111111111,
              "#46039f"
             ],
             [
              0.2222222222222222,
              "#7201a8"
             ],
             [
              0.3333333333333333,
              "#9c179e"
             ],
             [
              0.4444444444444444,
              "#bd3786"
             ],
             [
              0.5555555555555556,
              "#d8576b"
             ],
             [
              0.6666666666666666,
              "#ed7953"
             ],
             [
              0.7777777777777778,
              "#fb9f3a"
             ],
             [
              0.8888888888888888,
              "#fdca26"
             ],
             [
              1,
              "#f0f921"
             ]
            ],
            "type": "heatmapgl"
           }
          ],
          "histogram": [
           {
            "marker": {
             "pattern": {
              "fillmode": "overlay",
              "size": 10,
              "solidity": 0.2
             }
            },
            "type": "histogram"
           }
          ],
          "histogram2d": [
           {
            "colorbar": {
             "outlinewidth": 0,
             "ticks": ""
            },
            "colorscale": [
             [
              0,
              "#0d0887"
             ],
             [
              0.1111111111111111,
              "#46039f"
             ],
             [
              0.2222222222222222,
              "#7201a8"
             ],
             [
              0.3333333333333333,
              "#9c179e"
             ],
             [
              0.4444444444444444,
              "#bd3786"
             ],
             [
              0.5555555555555556,
              "#d8576b"
             ],
             [
              0.6666666666666666,
              "#ed7953"
             ],
             [
              0.7777777777777778,
              "#fb9f3a"
             ],
             [
              0.8888888888888888,
              "#fdca26"
             ],
             [
              1,
              "#f0f921"
             ]
            ],
            "type": "histogram2d"
           }
          ],
          "histogram2dcontour": [
           {
            "colorbar": {
             "outlinewidth": 0,
             "ticks": ""
            },
            "colorscale": [
             [
              0,
              "#0d0887"
             ],
             [
              0.1111111111111111,
              "#46039f"
             ],
             [
              0.2222222222222222,
              "#7201a8"
             ],
             [
              0.3333333333333333,
              "#9c179e"
             ],
             [
              0.4444444444444444,
              "#bd3786"
             ],
             [
              0.5555555555555556,
              "#d8576b"
             ],
             [
              0.6666666666666666,
              "#ed7953"
             ],
             [
              0.7777777777777778,
              "#fb9f3a"
             ],
             [
              0.8888888888888888,
              "#fdca26"
             ],
             [
              1,
              "#f0f921"
             ]
            ],
            "type": "histogram2dcontour"
           }
          ],
          "mesh3d": [
           {
            "colorbar": {
             "outlinewidth": 0,
             "ticks": ""
            },
            "type": "mesh3d"
           }
          ],
          "parcoords": [
           {
            "line": {
             "colorbar": {
              "outlinewidth": 0,
              "ticks": ""
             }
            },
            "type": "parcoords"
           }
          ],
          "pie": [
           {
            "automargin": true,
            "type": "pie"
           }
          ],
          "scatter": [
           {
            "marker": {
             "colorbar": {
              "outlinewidth": 0,
              "ticks": ""
             }
            },
            "type": "scatter"
           }
          ],
          "scatter3d": [
           {
            "line": {
             "colorbar": {
              "outlinewidth": 0,
              "ticks": ""
             }
            },
            "marker": {
             "colorbar": {
              "outlinewidth": 0,
              "ticks": ""
             }
            },
            "type": "scatter3d"
           }
          ],
          "scattercarpet": [
           {
            "marker": {
             "colorbar": {
              "outlinewidth": 0,
              "ticks": ""
             }
            },
            "type": "scattercarpet"
           }
          ],
          "scattergeo": [
           {
            "marker": {
             "colorbar": {
              "outlinewidth": 0,
              "ticks": ""
             }
            },
            "type": "scattergeo"
           }
          ],
          "scattergl": [
           {
            "marker": {
             "colorbar": {
              "outlinewidth": 0,
              "ticks": ""
             }
            },
            "type": "scattergl"
           }
          ],
          "scattermapbox": [
           {
            "marker": {
             "colorbar": {
              "outlinewidth": 0,
              "ticks": ""
             }
            },
            "type": "scattermapbox"
           }
          ],
          "scatterpolar": [
           {
            "marker": {
             "colorbar": {
              "outlinewidth": 0,
              "ticks": ""
             }
            },
            "type": "scatterpolar"
           }
          ],
          "scatterpolargl": [
           {
            "marker": {
             "colorbar": {
              "outlinewidth": 0,
              "ticks": ""
             }
            },
            "type": "scatterpolargl"
           }
          ],
          "scatterternary": [
           {
            "marker": {
             "colorbar": {
              "outlinewidth": 0,
              "ticks": ""
             }
            },
            "type": "scatterternary"
           }
          ],
          "surface": [
           {
            "colorbar": {
             "outlinewidth": 0,
             "ticks": ""
            },
            "colorscale": [
             [
              0,
              "#0d0887"
             ],
             [
              0.1111111111111111,
              "#46039f"
             ],
             [
              0.2222222222222222,
              "#7201a8"
             ],
             [
              0.3333333333333333,
              "#9c179e"
             ],
             [
              0.4444444444444444,
              "#bd3786"
             ],
             [
              0.5555555555555556,
              "#d8576b"
             ],
             [
              0.6666666666666666,
              "#ed7953"
             ],
             [
              0.7777777777777778,
              "#fb9f3a"
             ],
             [
              0.8888888888888888,
              "#fdca26"
             ],
             [
              1,
              "#f0f921"
             ]
            ],
            "type": "surface"
           }
          ],
          "table": [
           {
            "cells": {
             "fill": {
              "color": "#EBF0F8"
             },
             "line": {
              "color": "white"
             }
            },
            "header": {
             "fill": {
              "color": "#C8D4E3"
             },
             "line": {
              "color": "white"
             }
            },
            "type": "table"
           }
          ]
         },
         "layout": {
          "annotationdefaults": {
           "arrowcolor": "#2a3f5f",
           "arrowhead": 0,
           "arrowwidth": 1
          },
          "autotypenumbers": "strict",
          "coloraxis": {
           "colorbar": {
            "outlinewidth": 0,
            "ticks": ""
           }
          },
          "colorscale": {
           "diverging": [
            [
             0,
             "#8e0152"
            ],
            [
             0.1,
             "#c51b7d"
            ],
            [
             0.2,
             "#de77ae"
            ],
            [
             0.3,
             "#f1b6da"
            ],
            [
             0.4,
             "#fde0ef"
            ],
            [
             0.5,
             "#f7f7f7"
            ],
            [
             0.6,
             "#e6f5d0"
            ],
            [
             0.7,
             "#b8e186"
            ],
            [
             0.8,
             "#7fbc41"
            ],
            [
             0.9,
             "#4d9221"
            ],
            [
             1,
             "#276419"
            ]
           ],
           "sequential": [
            [
             0,
             "#0d0887"
            ],
            [
             0.1111111111111111,
             "#46039f"
            ],
            [
             0.2222222222222222,
             "#7201a8"
            ],
            [
             0.3333333333333333,
             "#9c179e"
            ],
            [
             0.4444444444444444,
             "#bd3786"
            ],
            [
             0.5555555555555556,
             "#d8576b"
            ],
            [
             0.6666666666666666,
             "#ed7953"
            ],
            [
             0.7777777777777778,
             "#fb9f3a"
            ],
            [
             0.8888888888888888,
             "#fdca26"
            ],
            [
             1,
             "#f0f921"
            ]
           ],
           "sequentialminus": [
            [
             0,
             "#0d0887"
            ],
            [
             0.1111111111111111,
             "#46039f"
            ],
            [
             0.2222222222222222,
             "#7201a8"
            ],
            [
             0.3333333333333333,
             "#9c179e"
            ],
            [
             0.4444444444444444,
             "#bd3786"
            ],
            [
             0.5555555555555556,
             "#d8576b"
            ],
            [
             0.6666666666666666,
             "#ed7953"
            ],
            [
             0.7777777777777778,
             "#fb9f3a"
            ],
            [
             0.8888888888888888,
             "#fdca26"
            ],
            [
             1,
             "#f0f921"
            ]
           ]
          },
          "colorway": [
           "#636efa",
           "#EF553B",
           "#00cc96",
           "#ab63fa",
           "#FFA15A",
           "#19d3f3",
           "#FF6692",
           "#B6E880",
           "#FF97FF",
           "#FECB52"
          ],
          "font": {
           "color": "#2a3f5f"
          },
          "geo": {
           "bgcolor": "white",
           "lakecolor": "white",
           "landcolor": "#E5ECF6",
           "showlakes": true,
           "showland": true,
           "subunitcolor": "white"
          },
          "hoverlabel": {
           "align": "left"
          },
          "hovermode": "closest",
          "mapbox": {
           "style": "light"
          },
          "paper_bgcolor": "white",
          "plot_bgcolor": "#E5ECF6",
          "polar": {
           "angularaxis": {
            "gridcolor": "white",
            "linecolor": "white",
            "ticks": ""
           },
           "bgcolor": "#E5ECF6",
           "radialaxis": {
            "gridcolor": "white",
            "linecolor": "white",
            "ticks": ""
           }
          },
          "scene": {
           "xaxis": {
            "backgroundcolor": "#E5ECF6",
            "gridcolor": "white",
            "gridwidth": 2,
            "linecolor": "white",
            "showbackground": true,
            "ticks": "",
            "zerolinecolor": "white"
           },
           "yaxis": {
            "backgroundcolor": "#E5ECF6",
            "gridcolor": "white",
            "gridwidth": 2,
            "linecolor": "white",
            "showbackground": true,
            "ticks": "",
            "zerolinecolor": "white"
           },
           "zaxis": {
            "backgroundcolor": "#E5ECF6",
            "gridcolor": "white",
            "gridwidth": 2,
            "linecolor": "white",
            "showbackground": true,
            "ticks": "",
            "zerolinecolor": "white"
           }
          },
          "shapedefaults": {
           "line": {
            "color": "#2a3f5f"
           }
          },
          "ternary": {
           "aaxis": {
            "gridcolor": "white",
            "linecolor": "white",
            "ticks": ""
           },
           "baxis": {
            "gridcolor": "white",
            "linecolor": "white",
            "ticks": ""
           },
           "bgcolor": "#E5ECF6",
           "caxis": {
            "gridcolor": "white",
            "linecolor": "white",
            "ticks": ""
           }
          },
          "title": {
           "x": 0.05
          },
          "xaxis": {
           "automargin": true,
           "gridcolor": "white",
           "linecolor": "white",
           "ticks": "",
           "title": {
            "standoff": 15
           },
           "zerolinecolor": "white",
           "zerolinewidth": 2
          },
          "yaxis": {
           "automargin": true,
           "gridcolor": "white",
           "linecolor": "white",
           "ticks": "",
           "title": {
            "standoff": 15
           },
           "zerolinecolor": "white",
           "zerolinewidth": 2
          }
         }
        },
        "title": {
         "text": "Price vs. production"
        },
        "xaxis": {
         "anchor": "y",
         "autorange": true,
         "domain": [
          0,
          0.94
         ],
         "range": [
          "2018-01-22 23:30",
          "2018-01-25 23:30"
         ],
         "title": {
          "text": "<b>Time</b> [Hours]"
         },
         "type": "date"
        },
        "yaxis": {
         "anchor": "x",
         "autorange": true,
         "domain": [
          0,
          1
         ],
         "range": [
          0,
          598.118022137447
         ],
         "title": {
          "text": "<b>Production</b> [MWh]"
         },
         "type": "linear"
        },
        "yaxis2": {
         "anchor": "x",
         "autorange": true,
         "overlaying": "y",
         "range": [
          20.67922222222222,
          80.73477777777781
         ],
         "side": "right",
         "title": {
          "text": "<b>Price</b> [EUR/MWh]"
         },
         "type": "linear"
        }
       }
      },
      "image/png": "[encoded data removed]",
      "text/html": [
       "<div>                            <div id=\"a88d08b4-fb90-4abb-8b4c-3b8675da9e04\" class=\"plotly-graph-div\" style=\"height:525px; width:100%;\"></div>            <script type=\"text/javascript\">                require([\"plotly\"], function(Plotly) {                    window.PLOTLYENV=window.PLOTLYENV || {};                                    if (document.getElementById(\"a88d08b4-fb90-4abb-8b4c-3b8675da9e04\")) {                    Plotly.newPlot(                        \"a88d08b4-fb90-4abb-8b4c-3b8675da9e04\",                        [{\"marker\":{\"color\":\"rgb(33,102,172)\"},\"name\":\"P1\",\"type\":\"bar\",\"x\":[\"2018-01-23T00:00:00\",\"2018-01-23T01:00:00\",\"2018-01-23T02:00:00\",\"2018-01-23T03:00:00\",\"2018-01-23T04:00:00\",\"2018-01-23T05:00:00\",\"2018-01-23T06:00:00\",\"2018-01-23T07:00:00\",\"2018-01-23T08:00:00\",\"2018-01-23T09:00:00\",\"2018-01-23T10:00:00\",\"2018-01-23T11:00:00\",\"2018-01-23T12:00:00\",\"2018-01-23T13:00:00\",\"2018-01-23T14:00:00\",\"2018-01-23T15:00:00\",\"2018-01-23T16:00:00\",\"2018-01-23T17:00:00\",\"2018-01-23T18:00:00\",\"2018-01-23T19:00:00\",\"2018-01-23T20:00:00\",\"2018-01-23T21:00:00\",\"2018-01-23T22:00:00\",\"2018-01-23T23:00:00\",\"2018-01-24T00:00:00\",\"2018-01-24T01:00:00\",\"2018-01-24T02:00:00\",\"2018-01-24T03:00:00\",\"2018-01-24T04:00:00\",\"2018-01-24T05:00:00\",\"2018-01-24T06:00:00\",\"2018-01-24T07:00:00\",\"2018-01-24T08:00:00\",\"2018-01-24T09:00:00\",\"2018-01-24T10:00:00\",\"2018-01-24T11:00:00\",\"2018-01-24T12:00:00\",\"2018-01-24T13:00:00\",\"2018-01-24T14:00:00\",\"2018-01-24T15:00:00\",\"2018-01-24T16:00:00\",\"2018-01-24T17:00:00\",\"2018-01-24T18:00:00\",\"2018-01-24T19:00:00\",\"2018-01-24T20:00:00\",\"2018-01-24T21:00:00\",\"2018-01-24T22:00:00\",\"2018-01-24T23:00:00\",\"2018-01-25T00:00:00\",\"2018-01-25T01:00:00\",\"2018-01-25T02:00:00\",\"2018-01-25T03:00:00\",\"2018-01-25T04:00:00\",\"2018-01-25T05:00:00\",\"2018-01-25T06:00:00\",\"2018-01-25T07:00:00\",\"2018-01-25T08:00:00\",\"2018-01-25T09:00:00\",\"2018-01-25T10:00:00\",\"2018-01-25T11:00:00\",\"2018-01-25T12:00:00\",\"2018-01-25T13:00:00\",\"2018-01-25T14:00:00\",\"2018-01-25T15:00:00\",\"2018-01-25T16:00:00\",\"2018-01-25T17:00:00\",\"2018-01-25T18:00:00\",\"2018-01-25T19:00:00\",\"2018-01-25T20:00:00\",\"2018-01-25T21:00:00\",\"2018-01-25T22:00:00\",\"2018-01-25T23:00:00\"],\"y\":[216.12403832592966,207.41068565930502,207.09621187805328,107.45981625081005,206.6246122289296,214.62959742781578,229.21270149218523,228.806647236796,228.39933285572502,227.99210684292888,227.58496919840792,227.17791992216178,226.77095901419074,226.35558528866693,225.93295609033785,225.5104222802633,225.08798385844298,224.66564082487702,217.1164794623228,201.21448478124492,200.8825898753049,108.9588837377697,104.24177090554437,104.15843002560204,0.0,0.0,0.0,0.0,0.0,0.0,104.07509745166146,199.87935033139433,199.547722810989,199.21616173859803,198.8846671142213,107.90952899360296,107.81831311724905,103.15100300286973,103.06777089768934,102.98454709851082,102.90133160533408,102.81812441815906,102.726249559936,102.63392977899366,102.54162022737916,0.0,0.0,0.0,0.0,0.0,0.0,0.0,0.0,0.0,0.0,106.99346387329328,106.8923434490018,106.7912347732558,106.69013784605526,102.06252762450961,101.97028141132357,101.87804542746531,101.78545478249963,101.68801089117056,106.09560685922912,194.89714243379967,194.50942837964237,105.58155147361106,100.9968846087778,100.89953319104454,0.0,0.0]},{\"marker\":{\"color\":\"rgb(67,147,195)\"},\"name\":\"P2\",\"type\":\"bar\",\"x\":[\"2018-01-23T00:00:00\",\"2018-01-23T01:00:00\",\"2018-01-23T02:00:00\",\"2018-01-23T03:00:00\",\"2018-01-23T04:00:00\",\"2018-01-23T05:00:00\",\"2018-01-23T06:00:00\",\"2018-01-23T07:00:00\",\"2018-01-23T08:00:00\",\"2018-01-23T09:00:00\",\"2018-01-23T10:00:00\",\"2018-01-23T11:00:00\",\"2018-01-23T12:00:00\",\"2018-01-23T13:00:00\",\"2018-01-23T14:00:00\",\"2018-01-23T15:00:00\",\"2018-01-23T16:00:00\",\"2018-01-23T17:00:00\",\"2018-01-23T18:00:00\",\"2018-01-23T19:00:00\",\"2018-01-23T20:00:00\",\"2018-01-23T21:00:00\",\"2018-01-23T22:00:00\",\"2018-01-23T23:00:00\",\"2018-01-24T00:00:00\",\"2018-01-24T01:00:00\",\"2018-01-24T02:00:00\",\"2018-01-24T03:00:00\",\"2018-01-24T04:00:00\",\"2018-01-24T05:00:00\",\"2018-01-24T06:00:00\",\"2018-01-24T07:00:00\",\"2018-01-24T08:00:00\",\"2018-01-24T09:00:00\",\"2018-01-24T10:00:00\",\"2018-01-24T11:00:00\",\"2018-01-24T12:00:00\",\"2018-01-24T13:00:00\",\"2018-01-24T14:00:00\",\"2018-01-24T15:00:00\",\"2018-01-24T16:00:00\",\"2018-01-24T17:00:00\",\"2018-01-24T18:00:00\",\"2018-01-24T19:00:00\",\"2018-01-24T20:00:00\",\"2018-01-24T21:00:00\",\"2018-01-24T22:00:00\",\"2018-01-24T23:00:00\",\"2018-01-25T00:00:00\",\"2018-01-25T01:00:00\",\"2018-01-25T02:00:00\",\"2018-01-25T03:00:00\",\"2018-01-25T04:00:00\",\"2018-01-25T05:00:00\",\"2018-01-25T06:00:00\",\"2018-01-25T07:00:00\",\"2018-01-25T08:00:00\",\"2018-01-25T09:00:00\",\"2018-01-25T10:00:00\",\"2018-01-25T11:00:00\",\"2018-01-25T12:00:00\",\"2018-01-25T13:00:00\",\"2018-01-25T14:00:00\",\"2018-01-25T15:00:00\",\"2018-01-25T16:00:00\",\"2018-01-25T17:00:00\",\"2018-01-25T18:00:00\",\"2018-01-25T19:00:00\",\"2018-01-25T20:00:00\",\"2018-01-25T21:00:00\",\"2018-01-25T22:00:00\",\"2018-01-25T23:00:00\"],\"y\":[218.23953105526158,218.02729015331596,198.19526654459293,176.95786241490438,197.9326330452678,223.40956260837075,289.9982604679672,339.4054737937787,338.74955076314114,289.99770285619746,289.9975394661675,289.9973539285003,289.9991779350764,289.99907656482776,289.9989551441061,289.9988109969698,289.9986426551807,289.99838588209934,289.9981442726028,227.21692873992953,219.03949238256394,210.10475427063082,209.72196557771315,209.33366775934445,192.09640725708405,190.84597229939953,170.6566386491762,170.3883422326184,188.16786679225922,190.60506920031338,206.30970468332185,222.0459599807299,221.61591925736346,221.1853398915732,213.00370658677315,212.63161099295888,212.14051745200422,211.6487919708633,211.1190929772992,210.57334557967295,210.02678089312587,209.4793915588378,208.93116992741759,208.36175109551596,199.836721484494,199.32207843925593,198.66979409468578,180.4812344693361,182.0402081488234,179.27949185161765,162.64798079735294,162.28843563471048,161.9173084731645,179.05523905415362,192.52589211612636,206.05409467774956,205.04766042049204,203.9970617723472,202.94646312420267,201.8958644760578,200.77112484726857,199.6115182689993,198.45191169072973,197.29230511246044,246.48999895247505,244.34852283505418,242.46607853680268,240.4900896547947,238.15715767832737,235.70545650868607,230.45215905267403,183.5493887872987]},{\"line\":{\"color\":\"black\"},\"name\":\"Price\",\"type\":\"scatter\",\"x\":[\"2018-01-23T00:00:00\",\"2018-01-23T01:00:00\",\"2018-01-23T02:00:00\",\"2018-01-23T03:00:00\",\"2018-01-23T04:00:00\",\"2018-01-23T05:00:00\",\"2018-01-23T06:00:00\",\"2018-01-23T07:00:00\",\"2018-01-23T08:00:00\",\"2018-01-23T09:00:00\",\"2018-01-23T10:00:00\",\"2018-01-23T11:00:00\",\"2018-01-23T12:00:00\",\"2018-01-23T13:00:00\",\"2018-01-23T14:00:00\",\"2018-01-23T15:00:00\",\"2018-01-23T16:00:00\",\"2018-01-23T17:00:00\",\"2018-01-23T18:00:00\",\"2018-01-23T19:00:00\",\"2018-01-23T20:00:00\",\"2018-01-23T21:00:00\",\"2018-01-23T22:00:00\",\"2018-01-23T23:00:00\",\"2018-01-24T00:00:00\",\"2018-01-24T01:00:00\",\"2018-01-24T02:00:00\",\"2018-01-24T03:00:00\",\"2018-01-24T04:00:00\",\"2018-01-24T05:00:00\",\"2018-01-24T06:00:00\",\"2018-01-24T07:00:00\",\"2018-01-24T08:00:00\",\"2018-01-24T09:00:00\",\"2018-01-24T10:00:00\",\"2018-01-24T11:00:00\",\"2018-01-24T12:00:00\",\"2018-01-24T13:00:00\",\"2018-01-24T14:00:00\",\"2018-01-24T15:00:00\",\"2018-01-24T16:00:00\",\"2018-01-24T17:00:00\",\"2018-01-24T18:00:00\",\"2018-01-24T19:00:00\",\"2018-01-24T20:00:00\",\"2018-01-24T21:00:00\",\"2018-01-24T22:00:00\",\"2018-01-24T23:00:00\",\"2018-01-25T00:00:00\",\"2018-01-25T01:00:00\",\"2018-01-25T02:00:00\",\"2018-01-25T03:00:00\",\"2018-01-25T04:00:00\",\"2018-01-25T05:00:00\",\"2018-01-25T06:00:00\",\"2018-01-25T07:00:00\",\"2018-01-25T08:00:00\",\"2018-01-25T09:00:00\",\"2018-01-25T10:00:00\",\"2018-01-25T11:00:00\",\"2018-01-25T12:00:00\",\"2018-01-25T13:00:00\",\"2018-01-25T14:00:00\",\"2018-01-25T15:00:00\",\"2018-01-25T16:00:00\",\"2018-01-25T17:00:00\",\"2018-01-25T18:00:00\",\"2018-01-25T19:00:00\",\"2018-01-25T20:00:00\",\"2018-01-25T21:00:00\",\"2018-01-25T22:00:00\",\"2018-01-25T23:00:00\"],\"xaxis\":\"x\",\"y\":[32.992,31.122000000000007,29.312000000000012,28.072000000000013,30.012000000000018,33.36200000000002,42.68200000000002,74.82200000000002,77.73200000000003,62.33200000000002,55.89200000000002,46.96200000000001,42.58200000000001,40.942,39.211999999999996,39.141999999999996,41.67199999999999,46.922,37.102000000000004,32.992,31.272,29.752000000000002,28.782000000000007,28.082000000000004,27.242000000000004,26.622000000000003,25.732,25.391999999999996,25.992,27.402000000000005,28.942000000000007,32.18200000000001,33.08200000000001,32.342000000000006,30.912000000000006,30.162000000000006,30.062000000000005,29.56200000000001,29.462000000000007,29.512000000000004,29.672000000000004,30.072,29.551999999999996,28.861999999999995,28.411999999999995,28.071999999999996,27.161999999999995,25.501999999999995,26.191999999999997,25.222,24.052,23.892000000000003,23.682,26.092000000000002,28.202000000000005,30.902000000000005,31.572000000000003,31.462000000000007,31.172000000000008,30.912000000000003,30.572000000000003,30.602000000000007,30.63200000000001,31.06200000000001,32.08200000000001,36.26200000000001,34.47200000000001,32.18200000000001,31.492000000000004,30.732000000000003,29.712000000000003,28.982000000000003],\"yaxis\":\"y2\"}],                        {\"barmode\":\"stack\",\"template\":{\"data\":{\"bar\":[{\"error_x\":{\"color\":\"#2a3f5f\"},\"error_y\":{\"color\":\"#2a3f5f\"},\"marker\":{\"line\":{\"color\":\"#E5ECF6\",\"width\":0.5},\"pattern\":{\"fillmode\":\"overlay\",\"size\":10,\"solidity\":0.2}},\"type\":\"bar\"}],\"barpolar\":[{\"marker\":{\"line\":{\"color\":\"#E5ECF6\",\"width\":0.5},\"pattern\":{\"fillmode\":\"overlay\",\"size\":10,\"solidity\":0.2}},\"type\":\"barpolar\"}],\"carpet\":[{\"aaxis\":{\"endlinecolor\":\"#2a3f5f\",\"gridcolor\":\"white\",\"linecolor\":\"white\",\"minorgridcolor\":\"white\",\"startlinecolor\":\"#2a3f5f\"},\"baxis\":{\"endlinecolor\":\"#2a3f5f\",\"gridcolor\":\"white\",\"linecolor\":\"white\",\"minorgridcolor\":\"white\",\"startlinecolor\":\"#2a3f5f\"},\"type\":\"carpet\"}],\"choropleth\":[{\"colorbar\":{\"outlinewidth\":0,\"ticks\":\"\"},\"type\":\"choropleth\"}],\"contour\":[{\"colorbar\":{\"outlinewidth\":0,\"ticks\":\"\"},\"colorscale\":[[0.0,\"#0d0887\"],[0.1111111111111111,\"#46039f\"],[0.2222222222222222,\"#7201a8\"],[0.3333333333333333,\"#9c179e\"],[0.4444444444444444,\"#bd3786\"],[0.5555555555555556,\"#d8576b\"],[0.6666666666666666,\"#ed7953\"],[0.7777777777777778,\"#fb9f3a\"],[0.8888888888888888,\"#fdca26\"],[1.0,\"#f0f921\"]],\"type\":\"contour\"}],\"contourcarpet\":[{\"colorbar\":{\"outlinewidth\":0,\"ticks\":\"\"},\"type\":\"contourcarpet\"}],\"heatmap\":[{\"colorbar\":{\"outlinewidth\":0,\"ticks\":\"\"},\"colorscale\":[[0.0,\"#0d0887\"],[0.1111111111111111,\"#46039f\"],[0.2222222222222222,\"#7201a8\"],[0.3333333333333333,\"#9c179e\"],[0.4444444444444444,\"#bd3786\"],[0.5555555555555556,\"#d8576b\"],[0.6666666666666666,\"#ed7953\"],[0.7777777777777778,\"#fb9f3a\"],[0.8888888888888888,\"#fdca26\"],[1.0,\"#f0f921\"]],\"type\":\"heatmap\"}],\"heatmapgl\":[{\"colorbar\":{\"outlinewidth\":0,\"ticks\":\"\"},\"colorscale\":[[0.0,\"#0d0887\"],[0.1111111111111111,\"#46039f\"],[0.2222222222222222,\"#7201a8\"],[0.3333333333333333,\"#9c179e\"],[0.4444444444444444,\"#bd3786\"],[0.5555555555555556,\"#d8576b\"],[0.6666666666666666,\"#ed7953\"],[0.7777777777777778,\"#fb9f3a\"],[0.8888888888888888,\"#fdca26\"],[1.0,\"#f0f921\"]],\"type\":\"heatmapgl\"}],\"histogram\":[{\"marker\":{\"pattern\":{\"fillmode\":\"overlay\",\"size\":10,\"solidity\":0.2}},\"type\":\"histogram\"}],\"histogram2d\":[{\"colorbar\":{\"outlinewidth\":0,\"ticks\":\"\"},\"colorscale\":[[0.0,\"#0d0887\"],[0.1111111111111111,\"#46039f\"],[0.2222222222222222,\"#7201a8\"],[0.3333333333333333,\"#9c179e\"],[0.4444444444444444,\"#bd3786\"],[0.5555555555555556,\"#d8576b\"],[0.6666666666666666,\"#ed7953\"],[0.7777777777777778,\"#fb9f3a\"],[0.8888888888888888,\"#fdca26\"],[1.0,\"#f0f921\"]],\"type\":\"histogram2d\"}],\"histogram2dcontour\":[{\"colorbar\":{\"outlinewidth\":0,\"ticks\":\"\"},\"colorscale\":[[0.0,\"#0d0887\"],[0.1111111111111111,\"#46039f\"],[0.2222222222222222,\"#7201a8\"],[0.3333333333333333,\"#9c179e\"],[0.4444444444444444,\"#bd3786\"],[0.5555555555555556,\"#d8576b\"],[0.6666666666666666,\"#ed7953\"],[0.7777777777777778,\"#fb9f3a\"],[0.8888888888888888,\"#fdca26\"],[1.0,\"#f0f921\"]],\"type\":\"histogram2dcontour\"}],\"mesh3d\":[{\"colorbar\":{\"outlinewidth\":0,\"ticks\":\"\"},\"type\":\"mesh3d\"}],\"parcoords\":[{\"line\":{\"colorbar\":{\"outlinewidth\":0,\"ticks\":\"\"}},\"type\":\"parcoords\"}],\"pie\":[{\"automargin\":true,\"type\":\"pie\"}],\"scatter\":[{\"marker\":{\"colorbar\":{\"outlinewidth\":0,\"ticks\":\"\"}},\"type\":\"scatter\"}],\"scatter3d\":[{\"line\":{\"colorbar\":{\"outlinewidth\":0,\"ticks\":\"\"}},\"marker\":{\"colorbar\":{\"outlinewidth\":0,\"ticks\":\"\"}},\"type\":\"scatter3d\"}],\"scattercarpet\":[{\"marker\":{\"colorbar\":{\"outlinewidth\":0,\"ticks\":\"\"}},\"type\":\"scattercarpet\"}],\"scattergeo\":[{\"marker\":{\"colorbar\":{\"outlinewidth\":0,\"ticks\":\"\"}},\"type\":\"scattergeo\"}],\"scattergl\":[{\"marker\":{\"colorbar\":{\"outlinewidth\":0,\"ticks\":\"\"}},\"type\":\"scattergl\"}],\"scattermapbox\":[{\"marker\":{\"colorbar\":{\"outlinewidth\":0,\"ticks\":\"\"}},\"type\":\"scattermapbox\"}],\"scatterpolar\":[{\"marker\":{\"colorbar\":{\"outlinewidth\":0,\"ticks\":\"\"}},\"type\":\"scatterpolar\"}],\"scatterpolargl\":[{\"marker\":{\"colorbar\":{\"outlinewidth\":0,\"ticks\":\"\"}},\"type\":\"scatterpolargl\"}],\"scatterternary\":[{\"marker\":{\"colorbar\":{\"outlinewidth\":0,\"ticks\":\"\"}},\"type\":\"scatterternary\"}],\"surface\":[{\"colorbar\":{\"outlinewidth\":0,\"ticks\":\"\"},\"colorscale\":[[0.0,\"#0d0887\"],[0.1111111111111111,\"#46039f\"],[0.2222222222222222,\"#7201a8\"],[0.3333333333333333,\"#9c179e\"],[0.4444444444444444,\"#bd3786\"],[0.5555555555555556,\"#d8576b\"],[0.6666666666666666,\"#ed7953\"],[0.7777777777777778,\"#fb9f3a\"],[0.8888888888888888,\"#fdca26\"],[1.0,\"#f0f921\"]],\"type\":\"surface\"}],\"table\":[{\"cells\":{\"fill\":{\"color\":\"#EBF0F8\"},\"line\":{\"color\":\"white\"}},\"header\":{\"fill\":{\"color\":\"#C8D4E3\"},\"line\":{\"color\":\"white\"}},\"type\":\"table\"}]},\"layout\":{\"annotationdefaults\":{\"arrowcolor\":\"#2a3f5f\",\"arrowhead\":0,\"arrowwidth\":1},\"autotypenumbers\":\"strict\",\"coloraxis\":{\"colorbar\":{\"outlinewidth\":0,\"ticks\":\"\"}},\"colorscale\":{\"diverging\":[[0,\"#8e0152\"],[0.1,\"#c51b7d\"],[0.2,\"#de77ae\"],[0.3,\"#f1b6da\"],[0.4,\"#fde0ef\"],[0.5,\"#f7f7f7\"],[0.6,\"#e6f5d0\"],[0.7,\"#b8e186\"],[0.8,\"#7fbc41\"],[0.9,\"#4d9221\"],[1,\"#276419\"]],\"sequential\":[[0.0,\"#0d0887\"],[0.1111111111111111,\"#46039f\"],[0.2222222222222222,\"#7201a8\"],[0.3333333333333333,\"#9c179e\"],[0.4444444444444444,\"#bd3786\"],[0.5555555555555556,\"#d8576b\"],[0.6666666666666666,\"#ed7953\"],[0.7777777777777778,\"#fb9f3a\"],[0.8888888888888888,\"#fdca26\"],[1.0,\"#f0f921\"]],\"sequentialminus\":[[0.0,\"#0d0887\"],[0.1111111111111111,\"#46039f\"],[0.2222222222222222,\"#7201a8\"],[0.3333333333333333,\"#9c179e\"],[0.4444444444444444,\"#bd3786\"],[0.5555555555555556,\"#d8576b\"],[0.6666666666666666,\"#ed7953\"],[0.7777777777777778,\"#fb9f3a\"],[0.8888888888888888,\"#fdca26\"],[1.0,\"#f0f921\"]]},\"colorway\":[\"#636efa\",\"#EF553B\",\"#00cc96\",\"#ab63fa\",\"#FFA15A\",\"#19d3f3\",\"#FF6692\",\"#B6E880\",\"#FF97FF\",\"#FECB52\"],\"font\":{\"color\":\"#2a3f5f\"},\"geo\":{\"bgcolor\":\"white\",\"lakecolor\":\"white\",\"landcolor\":\"#E5ECF6\",\"showlakes\":true,\"showland\":true,\"subunitcolor\":\"white\"},\"hoverlabel\":{\"align\":\"left\"},\"hovermode\":\"closest\",\"mapbox\":{\"style\":\"light\"},\"paper_bgcolor\":\"white\",\"plot_bgcolor\":\"#E5ECF6\",\"polar\":{\"angularaxis\":{\"gridcolor\":\"white\",\"linecolor\":\"white\",\"ticks\":\"\"},\"bgcolor\":\"#E5ECF6\",\"radialaxis\":{\"gridcolor\":\"white\",\"linecolor\":\"white\",\"ticks\":\"\"}},\"scene\":{\"xaxis\":{\"backgroundcolor\":\"#E5ECF6\",\"gridcolor\":\"white\",\"gridwidth\":2,\"linecolor\":\"white\",\"showbackground\":true,\"ticks\":\"\",\"zerolinecolor\":\"white\"},\"yaxis\":{\"backgroundcolor\":\"#E5ECF6\",\"gridcolor\":\"white\",\"gridwidth\":2,\"linecolor\":\"white\",\"showbackground\":true,\"ticks\":\"\",\"zerolinecolor\":\"white\"},\"zaxis\":{\"backgroundcolor\":\"#E5ECF6\",\"gridcolor\":\"white\",\"gridwidth\":2,\"linecolor\":\"white\",\"showbackground\":true,\"ticks\":\"\",\"zerolinecolor\":\"white\"}},\"shapedefaults\":{\"line\":{\"color\":\"#2a3f5f\"}},\"ternary\":{\"aaxis\":{\"gridcolor\":\"white\",\"linecolor\":\"white\",\"ticks\":\"\"},\"baxis\":{\"gridcolor\":\"white\",\"linecolor\":\"white\",\"ticks\":\"\"},\"bgcolor\":\"#E5ECF6\",\"caxis\":{\"gridcolor\":\"white\",\"linecolor\":\"white\",\"ticks\":\"\"}},\"title\":{\"x\":0.05},\"xaxis\":{\"automargin\":true,\"gridcolor\":\"white\",\"linecolor\":\"white\",\"ticks\":\"\",\"title\":{\"standoff\":15},\"zerolinecolor\":\"white\",\"zerolinewidth\":2},\"yaxis\":{\"automargin\":true,\"gridcolor\":\"white\",\"linecolor\":\"white\",\"ticks\":\"\",\"title\":{\"standoff\":15},\"zerolinecolor\":\"white\",\"zerolinewidth\":2}}},\"title\":{\"text\":\"Price vs. production\"},\"xaxis\":{\"anchor\":\"y\",\"domain\":[0.0,0.94],\"title\":{\"text\":\"<b>Time</b> [Hours]\"}},\"yaxis\":{\"anchor\":\"x\",\"domain\":[0.0,1.0],\"title\":{\"text\":\"<b>Production</b> [MWh]\"}},\"yaxis2\":{\"anchor\":\"x\",\"overlaying\":\"y\",\"side\":\"right\",\"title\":{\"text\":\"<b>Price</b> [EUR/MWh]\"}}},                        {\"responsive\": true}                    ).then(function(){\n",
       "                            \n",
       "var gd = document.getElementById('a88d08b4-fb90-4abb-8b4c-3b8675da9e04');\n",
       "var x = new MutationObserver(function (mutations, observer) {{\n",
       "        var display = window.getComputedStyle(gd).display;\n",
       "        if (!display || display === 'none') {{\n",
       "            console.log([gd, 'removed!']);\n",
       "            Plotly.purge(gd);\n",
       "            observer.disconnect();\n",
       "        }}\n",
       "}});\n",
       "\n",
       "// Listen for the removal of the full notebook cells\n",
       "var notebookContainer = gd.closest('#notebook-container');\n",
       "if (notebookContainer) {{\n",
       "    x.observe(notebookContainer, {childList: true});\n",
       "}}\n",
       "\n",
       "// Listen for the clearing of the current output cell\n",
       "var outputEl = gd.closest('.output');\n",
       "if (outputEl) {{\n",
       "    x.observe(outputEl, {childList: true});\n",
       "}}\n",
       "\n",
       "                        })                };                });            </script>        </div>"
      ]
     },
     "metadata": {},
     "output_type": "display_data"
    }
   ],
   "source": [
    "# Plotting price vs. production\r\n",
    "\r\n",
    "# Defining a plot instance\r\n",
    "fig = go.Figure()\r\n",
    "colorscale = px.colors.sequential.RdBu_r\r\n",
    "# Preparing for secondary y axis by calling make_subplots function\r\n",
    "fig = make_subplots(specs=[[{\"secondary_y\": True}]])\r\n",
    "# Adding plant production as traces of bar type\r\n",
    "fig.add_trace(go.Bar(x=shop.model.plant.Plant1.production.get().index, y=shop.model.plant.Plant1.production.get().values, name=\"P1\", marker_color=colorscale[1]))\r\n",
    "fig.add_trace(go.Bar(x=shop.model.plant.Plant2.production.get().index, y=shop.model.plant.Plant2.production.get().values, name=\"P2\", marker_color=colorscale[2]))\r\n",
    "# Stacking bars\r\n",
    "fig.update_layout(barmode='stack')\r\n",
    "# Adding price as trace of scatter type\r\n",
    "fig.add_trace(go.Scatter(x=shop.model.market.Day_ahead.sale_price.get().index, y=shop.model.market.Day_ahead.sale_price.get().values, name=\"Price\", line_color='black'),secondary_y=True)\r\n",
    "# Updating titles\r\n",
    "fig.update_layout(title_text=\"Price vs. production\")\r\n",
    "fig.update_yaxes(title_text=\"<b>Production</b> [MWh]\", secondary_y=False)\r\n",
    "fig.update_yaxes(title_text=\"<b>Price</b> [EUR/MWh]\", secondary_y=True)\r\n",
    "fig.update_xaxes(title_text=\"<b>Time</b> [Hours]\")\r\n",
    "# Show plot\r\n",
    "fig.show()"
   ]
  },
  {
   "cell_type": "code",
   "execution_count": 34,
   "metadata": {
    "Collapsed": "false"
   },
   "outputs": [
    {
     "data": {
      "application/vnd.plotly.v1+json": {
       "config": {
        "plotlyServerURL": "https://plot.ly"
       },
       "data": [
        {
         "marker": {
          "color": "rgb(33,102,172)"
         },
         "name": "G1 Discharge",
         "type": "bar",
         "x": [
          "2018-01-23T00:00:00",
          "2018-01-23T01:00:00",
          "2018-01-23T02:00:00",
          "2018-01-23T03:00:00",
          "2018-01-23T04:00:00",
          "2018-01-23T05:00:00",
          "2018-01-23T06:00:00",
          "2018-01-23T07:00:00",
          "2018-01-23T08:00:00",
          "2018-01-23T09:00:00",
          "2018-01-23T10:00:00",
          "2018-01-23T11:00:00",
          "2018-01-23T12:00:00",
          "2018-01-23T13:00:00",
          "2018-01-23T14:00:00",
          "2018-01-23T15:00:00",
          "2018-01-23T16:00:00",
          "2018-01-23T17:00:00",
          "2018-01-23T18:00:00",
          "2018-01-23T19:00:00",
          "2018-01-23T20:00:00",
          "2018-01-23T21:00:00",
          "2018-01-23T22:00:00",
          "2018-01-23T23:00:00",
          "2018-01-24T00:00:00",
          "2018-01-24T01:00:00",
          "2018-01-24T02:00:00",
          "2018-01-24T03:00:00",
          "2018-01-24T04:00:00",
          "2018-01-24T05:00:00",
          "2018-01-24T06:00:00",
          "2018-01-24T07:00:00",
          "2018-01-24T08:00:00",
          "2018-01-24T09:00:00",
          "2018-01-24T10:00:00",
          "2018-01-24T11:00:00",
          "2018-01-24T12:00:00",
          "2018-01-24T13:00:00",
          "2018-01-24T14:00:00",
          "2018-01-24T15:00:00",
          "2018-01-24T16:00:00",
          "2018-01-24T17:00:00",
          "2018-01-24T18:00:00",
          "2018-01-24T19:00:00",
          "2018-01-24T20:00:00",
          "2018-01-24T21:00:00",
          "2018-01-24T22:00:00",
          "2018-01-24T23:00:00",
          "2018-01-25T00:00:00",
          "2018-01-25T01:00:00",
          "2018-01-25T02:00:00",
          "2018-01-25T03:00:00",
          "2018-01-25T04:00:00",
          "2018-01-25T05:00:00",
          "2018-01-25T06:00:00",
          "2018-01-25T07:00:00",
          "2018-01-25T08:00:00",
          "2018-01-25T09:00:00",
          "2018-01-25T10:00:00",
          "2018-01-25T11:00:00",
          "2018-01-25T12:00:00",
          "2018-01-25T13:00:00",
          "2018-01-25T14:00:00",
          "2018-01-25T15:00:00",
          "2018-01-25T16:00:00",
          "2018-01-25T17:00:00",
          "2018-01-25T18:00:00",
          "2018-01-25T19:00:00",
          "2018-01-25T20:00:00",
          "2018-01-25T21:00:00",
          "2018-01-25T22:00:00",
          "2018-01-25T23:00:00"
         ],
         "xaxis": "x",
         "y": [
          53.89666666666665,
          51.42999999999999,
          51.42999999999999,
          51.42999999999999,
          51.42999999999999,
          53.89666666666665,
          58.82999999999999,
          58.83,
          58.830000000000005,
          58.82999999999999,
          58.830000000000005,
          58.82999999999999,
          58.83,
          58.830000000000005,
          58.83,
          58.83,
          58.830000000000005,
          58.82999999999999,
          56.36333333333332,
          51.42999999999999,
          51.42999999999999,
          53.89666666666665,
          51.42999999999999,
          51.42999999999999,
          0,
          0,
          0,
          0,
          0,
          0,
          51.42999999999999,
          51.42999999999999,
          51.42999999999999,
          51.42999999999999,
          51.42999999999999,
          53.89666666666666,
          53.89666666666665,
          51.42999999999999,
          51.42999999999999,
          51.42999999999999,
          51.42999999999999,
          51.42999999999999,
          51.42999999999999,
          51.42999999999999,
          51.42999999999999,
          0,
          0,
          0,
          0,
          0,
          0,
          0,
          0,
          0,
          0,
          53.89666666666665,
          53.89666666666666,
          53.89666666666665,
          53.89666666666665,
          51.42999999999999,
          51.42999999999999,
          51.42999999999999,
          51.42999999999999,
          51.42999999999999,
          53.89666666666665,
          51.42999999999999,
          51.42999999999999,
          53.89666666666665,
          51.42999999999999,
          51.42999999999999,
          0,
          0
         ],
         "yaxis": "y"
        },
        {
         "marker": {
          "color": "rgb(67,147,195)"
         },
         "name": "G2 Discharge",
         "type": "bar",
         "x": [
          "2018-01-23T00:00:00",
          "2018-01-23T01:00:00",
          "2018-01-23T02:00:00",
          "2018-01-23T03:00:00",
          "2018-01-23T04:00:00",
          "2018-01-23T05:00:00",
          "2018-01-23T06:00:00",
          "2018-01-23T07:00:00",
          "2018-01-23T08:00:00",
          "2018-01-23T09:00:00",
          "2018-01-23T10:00:00",
          "2018-01-23T11:00:00",
          "2018-01-23T12:00:00",
          "2018-01-23T13:00:00",
          "2018-01-23T14:00:00",
          "2018-01-23T15:00:00",
          "2018-01-23T16:00:00",
          "2018-01-23T17:00:00",
          "2018-01-23T18:00:00",
          "2018-01-23T19:00:00",
          "2018-01-23T20:00:00",
          "2018-01-23T21:00:00",
          "2018-01-23T22:00:00",
          "2018-01-23T23:00:00",
          "2018-01-24T00:00:00",
          "2018-01-24T01:00:00",
          "2018-01-24T02:00:00",
          "2018-01-24T03:00:00",
          "2018-01-24T04:00:00",
          "2018-01-24T05:00:00",
          "2018-01-24T06:00:00",
          "2018-01-24T07:00:00",
          "2018-01-24T08:00:00",
          "2018-01-24T09:00:00",
          "2018-01-24T10:00:00",
          "2018-01-24T11:00:00",
          "2018-01-24T12:00:00",
          "2018-01-24T13:00:00",
          "2018-01-24T14:00:00",
          "2018-01-24T15:00:00",
          "2018-01-24T16:00:00",
          "2018-01-24T17:00:00",
          "2018-01-24T18:00:00",
          "2018-01-24T19:00:00",
          "2018-01-24T20:00:00",
          "2018-01-24T21:00:00",
          "2018-01-24T22:00:00",
          "2018-01-24T23:00:00",
          "2018-01-25T00:00:00",
          "2018-01-25T01:00:00",
          "2018-01-25T02:00:00",
          "2018-01-25T03:00:00",
          "2018-01-25T04:00:00",
          "2018-01-25T05:00:00",
          "2018-01-25T06:00:00",
          "2018-01-25T07:00:00",
          "2018-01-25T08:00:00",
          "2018-01-25T09:00:00",
          "2018-01-25T10:00:00",
          "2018-01-25T11:00:00",
          "2018-01-25T12:00:00",
          "2018-01-25T13:00:00",
          "2018-01-25T14:00:00",
          "2018-01-25T15:00:00",
          "2018-01-25T16:00:00",
          "2018-01-25T17:00:00",
          "2018-01-25T18:00:00",
          "2018-01-25T19:00:00",
          "2018-01-25T20:00:00",
          "2018-01-25T21:00:00",
          "2018-01-25T22:00:00",
          "2018-01-25T23:00:00"
         ],
         "xaxis": "x",
         "y": [
          53.89666666666665,
          51.42999999999999,
          51.42999999999999,
          0,
          51.42999999999999,
          53.89666666666665,
          58.82999999999999,
          58.83,
          58.830000000000005,
          58.82999999999999,
          58.830000000000005,
          58.83,
          58.82999999999999,
          58.830000000000005,
          58.83,
          58.83,
          58.830000000000005,
          58.83,
          56.36333333333332,
          51.42999999999999,
          51.42999999999999,
          0,
          0,
          0,
          0,
          0,
          0,
          0,
          0,
          0,
          0,
          51.42999999999999,
          51.42999999999999,
          51.42999999999999,
          51.42999999999999,
          0,
          0,
          0,
          0,
          0,
          0,
          0,
          0,
          0,
          0,
          0,
          0,
          0,
          0,
          0,
          0,
          0,
          0,
          0,
          0,
          0,
          0,
          0,
          0,
          0,
          0,
          0,
          0,
          0,
          0,
          51.42999999999999,
          51.42999999999999,
          0,
          0,
          0,
          0,
          0
         ],
         "yaxis": "y"
        },
        {
         "marker": {
          "color": "rgb(146,197,222)"
         },
         "name": "G1 production",
         "type": "scatter",
         "x": [
          "2018-01-23T00:00:00",
          "2018-01-23T01:00:00",
          "2018-01-23T02:00:00",
          "2018-01-23T03:00:00",
          "2018-01-23T04:00:00",
          "2018-01-23T05:00:00",
          "2018-01-23T06:00:00",
          "2018-01-23T07:00:00",
          "2018-01-23T08:00:00",
          "2018-01-23T09:00:00",
          "2018-01-23T10:00:00",
          "2018-01-23T11:00:00",
          "2018-01-23T12:00:00",
          "2018-01-23T13:00:00",
          "2018-01-23T14:00:00",
          "2018-01-23T15:00:00",
          "2018-01-23T16:00:00",
          "2018-01-23T17:00:00",
          "2018-01-23T18:00:00",
          "2018-01-23T19:00:00",
          "2018-01-23T20:00:00",
          "2018-01-23T21:00:00",
          "2018-01-23T22:00:00",
          "2018-01-23T23:00:00",
          "2018-01-24T00:00:00",
          "2018-01-24T01:00:00",
          "2018-01-24T02:00:00",
          "2018-01-24T03:00:00",
          "2018-01-24T04:00:00",
          "2018-01-24T05:00:00",
          "2018-01-24T06:00:00",
          "2018-01-24T07:00:00",
          "2018-01-24T08:00:00",
          "2018-01-24T09:00:00",
          "2018-01-24T10:00:00",
          "2018-01-24T11:00:00",
          "2018-01-24T12:00:00",
          "2018-01-24T13:00:00",
          "2018-01-24T14:00:00",
          "2018-01-24T15:00:00",
          "2018-01-24T16:00:00",
          "2018-01-24T17:00:00",
          "2018-01-24T18:00:00",
          "2018-01-24T19:00:00",
          "2018-01-24T20:00:00",
          "2018-01-24T21:00:00",
          "2018-01-24T22:00:00",
          "2018-01-24T23:00:00",
          "2018-01-25T00:00:00",
          "2018-01-25T01:00:00",
          "2018-01-25T02:00:00",
          "2018-01-25T03:00:00",
          "2018-01-25T04:00:00",
          "2018-01-25T05:00:00",
          "2018-01-25T06:00:00",
          "2018-01-25T07:00:00",
          "2018-01-25T08:00:00",
          "2018-01-25T09:00:00",
          "2018-01-25T10:00:00",
          "2018-01-25T11:00:00",
          "2018-01-25T12:00:00",
          "2018-01-25T13:00:00",
          "2018-01-25T14:00:00",
          "2018-01-25T15:00:00",
          "2018-01-25T16:00:00",
          "2018-01-25T17:00:00",
          "2018-01-25T18:00:00",
          "2018-01-25T19:00:00",
          "2018-01-25T20:00:00",
          "2018-01-25T21:00:00",
          "2018-01-25T22:00:00",
          "2018-01-25T23:00:00"
         ],
         "xaxis": "x",
         "y": [
          108.06201916296483,
          103.70534282965251,
          103.54810593902664,
          107.45981625081005,
          103.3123061144648,
          107.31479871390789,
          114.60635074609262,
          114.403323618398,
          114.19966642786251,
          113.99605342146444,
          113.79248459920396,
          113.58895996108089,
          113.38547950709538,
          113.17779264433346,
          112.96647804516893,
          112.75521114013165,
          112.54399192922149,
          112.33282041243851,
          108.5582397311614,
          100.60724239062246,
          100.44129493765244,
          108.9588837377697,
          104.24177090554437,
          104.15843002560204,
          0,
          0,
          0,
          0,
          0,
          0,
          104.07509745166146,
          99.93967516569717,
          99.7738614054945,
          99.60808086929902,
          99.44233355711064,
          107.90952899360296,
          107.81831311724905,
          103.15100300286973,
          103.06777089768934,
          102.98454709851082,
          102.90133160533408,
          102.81812441815906,
          102.726249559936,
          102.63392977899366,
          102.54162022737916,
          0,
          0,
          0,
          0,
          0,
          0,
          0,
          0,
          0,
          0,
          106.99346387329328,
          106.8923434490018,
          106.7912347732558,
          106.69013784605526,
          102.06252762450961,
          101.97028141132357,
          101.87804542746531,
          101.78545478249963,
          101.68801089117056,
          106.09560685922912,
          97.44857121689984,
          97.25471418982119,
          105.58155147361106,
          100.9968846087778,
          100.89953319104454,
          0,
          0
         ],
         "yaxis": "y2"
        },
        {
         "marker": {
          "color": "rgb(209,229,240)"
         },
         "name": "G2 production",
         "type": "scatter",
         "x": [
          "2018-01-23T00:00:00",
          "2018-01-23T01:00:00",
          "2018-01-23T02:00:00",
          "2018-01-23T03:00:00",
          "2018-01-23T04:00:00",
          "2018-01-23T05:00:00",
          "2018-01-23T06:00:00",
          "2018-01-23T07:00:00",
          "2018-01-23T08:00:00",
          "2018-01-23T09:00:00",
          "2018-01-23T10:00:00",
          "2018-01-23T11:00:00",
          "2018-01-23T12:00:00",
          "2018-01-23T13:00:00",
          "2018-01-23T14:00:00",
          "2018-01-23T15:00:00",
          "2018-01-23T16:00:00",
          "2018-01-23T17:00:00",
          "2018-01-23T18:00:00",
          "2018-01-23T19:00:00",
          "2018-01-23T20:00:00",
          "2018-01-23T21:00:00",
          "2018-01-23T22:00:00",
          "2018-01-23T23:00:00",
          "2018-01-24T00:00:00",
          "2018-01-24T01:00:00",
          "2018-01-24T02:00:00",
          "2018-01-24T03:00:00",
          "2018-01-24T04:00:00",
          "2018-01-24T05:00:00",
          "2018-01-24T06:00:00",
          "2018-01-24T07:00:00",
          "2018-01-24T08:00:00",
          "2018-01-24T09:00:00",
          "2018-01-24T10:00:00",
          "2018-01-24T11:00:00",
          "2018-01-24T12:00:00",
          "2018-01-24T13:00:00",
          "2018-01-24T14:00:00",
          "2018-01-24T15:00:00",
          "2018-01-24T16:00:00",
          "2018-01-24T17:00:00",
          "2018-01-24T18:00:00",
          "2018-01-24T19:00:00",
          "2018-01-24T20:00:00",
          "2018-01-24T21:00:00",
          "2018-01-24T22:00:00",
          "2018-01-24T23:00:00",
          "2018-01-25T00:00:00",
          "2018-01-25T01:00:00",
          "2018-01-25T02:00:00",
          "2018-01-25T03:00:00",
          "2018-01-25T04:00:00",
          "2018-01-25T05:00:00",
          "2018-01-25T06:00:00",
          "2018-01-25T07:00:00",
          "2018-01-25T08:00:00",
          "2018-01-25T09:00:00",
          "2018-01-25T10:00:00",
          "2018-01-25T11:00:00",
          "2018-01-25T12:00:00",
          "2018-01-25T13:00:00",
          "2018-01-25T14:00:00",
          "2018-01-25T15:00:00",
          "2018-01-25T16:00:00",
          "2018-01-25T17:00:00",
          "2018-01-25T18:00:00",
          "2018-01-25T19:00:00",
          "2018-01-25T20:00:00",
          "2018-01-25T21:00:00",
          "2018-01-25T22:00:00",
          "2018-01-25T23:00:00"
         ],
         "xaxis": "x",
         "y": [
          108.06201916296483,
          103.70534282965251,
          103.54810593902664,
          0,
          103.3123061144648,
          107.31479871390789,
          114.60635074609262,
          114.403323618398,
          114.19966642786251,
          113.99605342146444,
          113.79248459920396,
          113.5889599610809,
          113.38547950709537,
          113.17779264433346,
          112.96647804516893,
          112.75521114013165,
          112.54399192922149,
          112.33282041243852,
          108.5582397311614,
          100.60724239062246,
          100.44129493765244,
          0,
          0,
          0,
          0,
          0,
          0,
          0,
          0,
          0,
          0,
          99.93967516569717,
          99.7738614054945,
          99.60808086929902,
          99.44233355711064,
          0,
          0,
          0,
          0,
          0,
          0,
          0,
          0,
          0,
          0,
          0,
          0,
          0,
          0,
          0,
          0,
          0,
          0,
          0,
          0,
          0,
          0,
          0,
          0,
          0,
          0,
          0,
          0,
          0,
          0,
          97.44857121689984,
          97.25471418982119,
          0,
          0,
          0,
          0,
          0
         ],
         "yaxis": "y2"
        }
       ],
       "layout": {
        "autosize": true,
        "barmode": "stack",
        "template": {
         "data": {
          "bar": [
           {
            "error_x": {
             "color": "#2a3f5f"
            },
            "error_y": {
             "color": "#2a3f5f"
            },
            "marker": {
             "line": {
              "color": "#E5ECF6",
              "width": 0.5
             },
             "pattern": {
              "fillmode": "overlay",
              "size": 10,
              "solidity": 0.2
             }
            },
            "type": "bar"
           }
          ],
          "barpolar": [
           {
            "marker": {
             "line": {
              "color": "#E5ECF6",
              "width": 0.5
             },
             "pattern": {
              "fillmode": "overlay",
              "size": 10,
              "solidity": 0.2
             }
            },
            "type": "barpolar"
           }
          ],
          "carpet": [
           {
            "aaxis": {
             "endlinecolor": "#2a3f5f",
             "gridcolor": "white",
             "linecolor": "white",
             "minorgridcolor": "white",
             "startlinecolor": "#2a3f5f"
            },
            "baxis": {
             "endlinecolor": "#2a3f5f",
             "gridcolor": "white",
             "linecolor": "white",
             "minorgridcolor": "white",
             "startlinecolor": "#2a3f5f"
            },
            "type": "carpet"
           }
          ],
          "choropleth": [
           {
            "colorbar": {
             "outlinewidth": 0,
             "ticks": ""
            },
            "type": "choropleth"
           }
          ],
          "contour": [
           {
            "colorbar": {
             "outlinewidth": 0,
             "ticks": ""
            },
            "colorscale": [
             [
              0,
              "#0d0887"
             ],
             [
              0.1111111111111111,
              "#46039f"
             ],
             [
              0.2222222222222222,
              "#7201a8"
             ],
             [
              0.3333333333333333,
              "#9c179e"
             ],
             [
              0.4444444444444444,
              "#bd3786"
             ],
             [
              0.5555555555555556,
              "#d8576b"
             ],
             [
              0.6666666666666666,
              "#ed7953"
             ],
             [
              0.7777777777777778,
              "#fb9f3a"
             ],
             [
              0.8888888888888888,
              "#fdca26"
             ],
             [
              1,
              "#f0f921"
             ]
            ],
            "type": "contour"
           }
          ],
          "contourcarpet": [
           {
            "colorbar": {
             "outlinewidth": 0,
             "ticks": ""
            },
            "type": "contourcarpet"
           }
          ],
          "heatmap": [
           {
            "colorbar": {
             "outlinewidth": 0,
             "ticks": ""
            },
            "colorscale": [
             [
              0,
              "#0d0887"
             ],
             [
              0.1111111111111111,
              "#46039f"
             ],
             [
              0.2222222222222222,
              "#7201a8"
             ],
             [
              0.3333333333333333,
              "#9c179e"
             ],
             [
              0.4444444444444444,
              "#bd3786"
             ],
             [
              0.5555555555555556,
              "#d8576b"
             ],
             [
              0.6666666666666666,
              "#ed7953"
             ],
             [
              0.7777777777777778,
              "#fb9f3a"
             ],
             [
              0.8888888888888888,
              "#fdca26"
             ],
             [
              1,
              "#f0f921"
             ]
            ],
            "type": "heatmap"
           }
          ],
          "heatmapgl": [
           {
            "colorbar": {
             "outlinewidth": 0,
             "ticks": ""
            },
            "colorscale": [
             [
              0,
              "#0d0887"
             ],
             [
              0.1111111111111111,
              "#46039f"
             ],
             [
              0.2222222222222222,
              "#7201a8"
             ],
             [
              0.3333333333333333,
              "#9c179e"
             ],
             [
              0.4444444444444444,
              "#bd3786"
             ],
             [
              0.5555555555555556,
              "#d8576b"
             ],
             [
              0.6666666666666666,
              "#ed7953"
             ],
             [
              0.7777777777777778,
              "#fb9f3a"
             ],
             [
              0.8888888888888888,
              "#fdca26"
             ],
             [
              1,
              "#f0f921"
             ]
            ],
            "type": "heatmapgl"
           }
          ],
          "histogram": [
           {
            "marker": {
             "pattern": {
              "fillmode": "overlay",
              "size": 10,
              "solidity": 0.2
             }
            },
            "type": "histogram"
           }
          ],
          "histogram2d": [
           {
            "colorbar": {
             "outlinewidth": 0,
             "ticks": ""
            },
            "colorscale": [
             [
              0,
              "#0d0887"
             ],
             [
              0.1111111111111111,
              "#46039f"
             ],
             [
              0.2222222222222222,
              "#7201a8"
             ],
             [
              0.3333333333333333,
              "#9c179e"
             ],
             [
              0.4444444444444444,
              "#bd3786"
             ],
             [
              0.5555555555555556,
              "#d8576b"
             ],
             [
              0.6666666666666666,
              "#ed7953"
             ],
             [
              0.7777777777777778,
              "#fb9f3a"
             ],
             [
              0.8888888888888888,
              "#fdca26"
             ],
             [
              1,
              "#f0f921"
             ]
            ],
            "type": "histogram2d"
           }
          ],
          "histogram2dcontour": [
           {
            "colorbar": {
             "outlinewidth": 0,
             "ticks": ""
            },
            "colorscale": [
             [
              0,
              "#0d0887"
             ],
             [
              0.1111111111111111,
              "#46039f"
             ],
             [
              0.2222222222222222,
              "#7201a8"
             ],
             [
              0.3333333333333333,
              "#9c179e"
             ],
             [
              0.4444444444444444,
              "#bd3786"
             ],
             [
              0.5555555555555556,
              "#d8576b"
             ],
             [
              0.6666666666666666,
              "#ed7953"
             ],
             [
              0.7777777777777778,
              "#fb9f3a"
             ],
             [
              0.8888888888888888,
              "#fdca26"
             ],
             [
              1,
              "#f0f921"
             ]
            ],
            "type": "histogram2dcontour"
           }
          ],
          "mesh3d": [
           {
            "colorbar": {
             "outlinewidth": 0,
             "ticks": ""
            },
            "type": "mesh3d"
           }
          ],
          "parcoords": [
           {
            "line": {
             "colorbar": {
              "outlinewidth": 0,
              "ticks": ""
             }
            },
            "type": "parcoords"
           }
          ],
          "pie": [
           {
            "automargin": true,
            "type": "pie"
           }
          ],
          "scatter": [
           {
            "marker": {
             "colorbar": {
              "outlinewidth": 0,
              "ticks": ""
             }
            },
            "type": "scatter"
           }
          ],
          "scatter3d": [
           {
            "line": {
             "colorbar": {
              "outlinewidth": 0,
              "ticks": ""
             }
            },
            "marker": {
             "colorbar": {
              "outlinewidth": 0,
              "ticks": ""
             }
            },
            "type": "scatter3d"
           }
          ],
          "scattercarpet": [
           {
            "marker": {
             "colorbar": {
              "outlinewidth": 0,
              "ticks": ""
             }
            },
            "type": "scattercarpet"
           }
          ],
          "scattergeo": [
           {
            "marker": {
             "colorbar": {
              "outlinewidth": 0,
              "ticks": ""
             }
            },
            "type": "scattergeo"
           }
          ],
          "scattergl": [
           {
            "marker": {
             "colorbar": {
              "outlinewidth": 0,
              "ticks": ""
             }
            },
            "type": "scattergl"
           }
          ],
          "scattermapbox": [
           {
            "marker": {
             "colorbar": {
              "outlinewidth": 0,
              "ticks": ""
             }
            },
            "type": "scattermapbox"
           }
          ],
          "scatterpolar": [
           {
            "marker": {
             "colorbar": {
              "outlinewidth": 0,
              "ticks": ""
             }
            },
            "type": "scatterpolar"
           }
          ],
          "scatterpolargl": [
           {
            "marker": {
             "colorbar": {
              "outlinewidth": 0,
              "ticks": ""
             }
            },
            "type": "scatterpolargl"
           }
          ],
          "scatterternary": [
           {
            "marker": {
             "colorbar": {
              "outlinewidth": 0,
              "ticks": ""
             }
            },
            "type": "scatterternary"
           }
          ],
          "surface": [
           {
            "colorbar": {
             "outlinewidth": 0,
             "ticks": ""
            },
            "colorscale": [
             [
              0,
              "#0d0887"
             ],
             [
              0.1111111111111111,
              "#46039f"
             ],
             [
              0.2222222222222222,
              "#7201a8"
             ],
             [
              0.3333333333333333,
              "#9c179e"
             ],
             [
              0.4444444444444444,
              "#bd3786"
             ],
             [
              0.5555555555555556,
              "#d8576b"
             ],
             [
              0.6666666666666666,
              "#ed7953"
             ],
             [
              0.7777777777777778,
              "#fb9f3a"
             ],
             [
              0.8888888888888888,
              "#fdca26"
             ],
             [
              1,
              "#f0f921"
             ]
            ],
            "type": "surface"
           }
          ],
          "table": [
           {
            "cells": {
             "fill": {
              "color": "#EBF0F8"
             },
             "line": {
              "color": "white"
             }
            },
            "header": {
             "fill": {
              "color": "#C8D4E3"
             },
             "line": {
              "color": "white"
             }
            },
            "type": "table"
           }
          ]
         },
         "layout": {
          "annotationdefaults": {
           "arrowcolor": "#2a3f5f",
           "arrowhead": 0,
           "arrowwidth": 1
          },
          "autotypenumbers": "strict",
          "coloraxis": {
           "colorbar": {
            "outlinewidth": 0,
            "ticks": ""
           }
          },
          "colorscale": {
           "diverging": [
            [
             0,
             "#8e0152"
            ],
            [
             0.1,
             "#c51b7d"
            ],
            [
             0.2,
             "#de77ae"
            ],
            [
             0.3,
             "#f1b6da"
            ],
            [
             0.4,
             "#fde0ef"
            ],
            [
             0.5,
             "#f7f7f7"
            ],
            [
             0.6,
             "#e6f5d0"
            ],
            [
             0.7,
             "#b8e186"
            ],
            [
             0.8,
             "#7fbc41"
            ],
            [
             0.9,
             "#4d9221"
            ],
            [
             1,
             "#276419"
            ]
           ],
           "sequential": [
            [
             0,
             "#0d0887"
            ],
            [
             0.1111111111111111,
             "#46039f"
            ],
            [
             0.2222222222222222,
             "#7201a8"
            ],
            [
             0.3333333333333333,
             "#9c179e"
            ],
            [
             0.4444444444444444,
             "#bd3786"
            ],
            [
             0.5555555555555556,
             "#d8576b"
            ],
            [
             0.6666666666666666,
             "#ed7953"
            ],
            [
             0.7777777777777778,
             "#fb9f3a"
            ],
            [
             0.8888888888888888,
             "#fdca26"
            ],
            [
             1,
             "#f0f921"
            ]
           ],
           "sequentialminus": [
            [
             0,
             "#0d0887"
            ],
            [
             0.1111111111111111,
             "#46039f"
            ],
            [
             0.2222222222222222,
             "#7201a8"
            ],
            [
             0.3333333333333333,
             "#9c179e"
            ],
            [
             0.4444444444444444,
             "#bd3786"
            ],
            [
             0.5555555555555556,
             "#d8576b"
            ],
            [
             0.6666666666666666,
             "#ed7953"
            ],
            [
             0.7777777777777778,
             "#fb9f3a"
            ],
            [
             0.8888888888888888,
             "#fdca26"
            ],
            [
             1,
             "#f0f921"
            ]
           ]
          },
          "colorway": [
           "#636efa",
           "#EF553B",
           "#00cc96",
           "#ab63fa",
           "#FFA15A",
           "#19d3f3",
           "#FF6692",
           "#B6E880",
           "#FF97FF",
           "#FECB52"
          ],
          "font": {
           "color": "#2a3f5f"
          },
          "geo": {
           "bgcolor": "white",
           "lakecolor": "white",
           "landcolor": "#E5ECF6",
           "showlakes": true,
           "showland": true,
           "subunitcolor": "white"
          },
          "hoverlabel": {
           "align": "left"
          },
          "hovermode": "closest",
          "mapbox": {
           "style": "light"
          },
          "paper_bgcolor": "white",
          "plot_bgcolor": "#E5ECF6",
          "polar": {
           "angularaxis": {
            "gridcolor": "white",
            "linecolor": "white",
            "ticks": ""
           },
           "bgcolor": "#E5ECF6",
           "radialaxis": {
            "gridcolor": "white",
            "linecolor": "white",
            "ticks": ""
           }
          },
          "scene": {
           "xaxis": {
            "backgroundcolor": "#E5ECF6",
            "gridcolor": "white",
            "gridwidth": 2,
            "linecolor": "white",
            "showbackground": true,
            "ticks": "",
            "zerolinecolor": "white"
           },
           "yaxis": {
            "backgroundcolor": "#E5ECF6",
            "gridcolor": "white",
            "gridwidth": 2,
            "linecolor": "white",
            "showbackground": true,
            "ticks": "",
            "zerolinecolor": "white"
           },
           "zaxis": {
            "backgroundcolor": "#E5ECF6",
            "gridcolor": "white",
            "gridwidth": 2,
            "linecolor": "white",
            "showbackground": true,
            "ticks": "",
            "zerolinecolor": "white"
           }
          },
          "shapedefaults": {
           "line": {
            "color": "#2a3f5f"
           }
          },
          "ternary": {
           "aaxis": {
            "gridcolor": "white",
            "linecolor": "white",
            "ticks": ""
           },
           "baxis": {
            "gridcolor": "white",
            "linecolor": "white",
            "ticks": ""
           },
           "bgcolor": "#E5ECF6",
           "caxis": {
            "gridcolor": "white",
            "linecolor": "white",
            "ticks": ""
           }
          },
          "title": {
           "x": 0.05
          },
          "xaxis": {
           "automargin": true,
           "gridcolor": "white",
           "linecolor": "white",
           "ticks": "",
           "title": {
            "standoff": 15
           },
           "zerolinecolor": "white",
           "zerolinewidth": 2
          },
          "yaxis": {
           "automargin": true,
           "gridcolor": "white",
           "linecolor": "white",
           "ticks": "",
           "title": {
            "standoff": 15
           },
           "zerolinecolor": "white",
           "zerolinewidth": 2
          }
         }
        },
        "title": {
         "text": "<b>Unit discharge and production in Plant1</b>"
        },
        "xaxis": {
         "anchor": "y",
         "autorange": true,
         "domain": [
          0,
          0.94
         ],
         "range": [
          "2018-01-22 23:30",
          "2018-01-25 23:30"
         ],
         "title": {
          "text": "<b>Time</b> (Hour)"
         },
         "type": "date"
        },
        "yaxis": {
         "anchor": "x",
         "domain": [
          0,
          1
         ],
         "dtick": 20,
         "range": [
          0,
          120
         ],
         "tick0": 20,
         "title": {
          "text": "<b>Discharge</b> (m<sup>3</sup>/s)"
         },
         "type": "linear"
        },
        "yaxis2": {
         "anchor": "x",
         "dtick": 40,
         "overlaying": "y",
         "range": [
          0,
          240
         ],
         "side": "right",
         "tick0": 40,
         "title": {
          "text": "<b>Production</b> (MW)"
         },
         "type": "linear"
        }
       }
      },
      "image/png": "[encoded data removed]",
      "text/html": [
       "<div>                            <div id=\"15ab3cc7-09c9-41be-a885-26e7be576a30\" class=\"plotly-graph-div\" style=\"height:525px; width:100%;\"></div>            <script type=\"text/javascript\">                require([\"plotly\"], function(Plotly) {                    window.PLOTLYENV=window.PLOTLYENV || {};                                    if (document.getElementById(\"15ab3cc7-09c9-41be-a885-26e7be576a30\")) {                    Plotly.newPlot(                        \"15ab3cc7-09c9-41be-a885-26e7be576a30\",                        [{\"marker\":{\"color\":\"rgb(33,102,172)\"},\"name\":\"G1 Discharge\",\"type\":\"bar\",\"x\":[\"2018-01-23T00:00:00\",\"2018-01-23T01:00:00\",\"2018-01-23T02:00:00\",\"2018-01-23T03:00:00\",\"2018-01-23T04:00:00\",\"2018-01-23T05:00:00\",\"2018-01-23T06:00:00\",\"2018-01-23T07:00:00\",\"2018-01-23T08:00:00\",\"2018-01-23T09:00:00\",\"2018-01-23T10:00:00\",\"2018-01-23T11:00:00\",\"2018-01-23T12:00:00\",\"2018-01-23T13:00:00\",\"2018-01-23T14:00:00\",\"2018-01-23T15:00:00\",\"2018-01-23T16:00:00\",\"2018-01-23T17:00:00\",\"2018-01-23T18:00:00\",\"2018-01-23T19:00:00\",\"2018-01-23T20:00:00\",\"2018-01-23T21:00:00\",\"2018-01-23T22:00:00\",\"2018-01-23T23:00:00\",\"2018-01-24T00:00:00\",\"2018-01-24T01:00:00\",\"2018-01-24T02:00:00\",\"2018-01-24T03:00:00\",\"2018-01-24T04:00:00\",\"2018-01-24T05:00:00\",\"2018-01-24T06:00:00\",\"2018-01-24T07:00:00\",\"2018-01-24T08:00:00\",\"2018-01-24T09:00:00\",\"2018-01-24T10:00:00\",\"2018-01-24T11:00:00\",\"2018-01-24T12:00:00\",\"2018-01-24T13:00:00\",\"2018-01-24T14:00:00\",\"2018-01-24T15:00:00\",\"2018-01-24T16:00:00\",\"2018-01-24T17:00:00\",\"2018-01-24T18:00:00\",\"2018-01-24T19:00:00\",\"2018-01-24T20:00:00\",\"2018-01-24T21:00:00\",\"2018-01-24T22:00:00\",\"2018-01-24T23:00:00\",\"2018-01-25T00:00:00\",\"2018-01-25T01:00:00\",\"2018-01-25T02:00:00\",\"2018-01-25T03:00:00\",\"2018-01-25T04:00:00\",\"2018-01-25T05:00:00\",\"2018-01-25T06:00:00\",\"2018-01-25T07:00:00\",\"2018-01-25T08:00:00\",\"2018-01-25T09:00:00\",\"2018-01-25T10:00:00\",\"2018-01-25T11:00:00\",\"2018-01-25T12:00:00\",\"2018-01-25T13:00:00\",\"2018-01-25T14:00:00\",\"2018-01-25T15:00:00\",\"2018-01-25T16:00:00\",\"2018-01-25T17:00:00\",\"2018-01-25T18:00:00\",\"2018-01-25T19:00:00\",\"2018-01-25T20:00:00\",\"2018-01-25T21:00:00\",\"2018-01-25T22:00:00\",\"2018-01-25T23:00:00\"],\"xaxis\":\"x\",\"y\":[53.89666666666665,51.42999999999999,51.42999999999999,51.42999999999999,51.42999999999999,53.89666666666665,58.82999999999999,58.83,58.830000000000005,58.82999999999999,58.830000000000005,58.82999999999999,58.83,58.830000000000005,58.83,58.83,58.830000000000005,58.82999999999999,56.36333333333332,51.42999999999999,51.42999999999999,53.89666666666665,51.42999999999999,51.42999999999999,0.0,0.0,0.0,0.0,0.0,0.0,51.42999999999999,51.42999999999999,51.42999999999999,51.42999999999999,51.42999999999999,53.89666666666666,53.89666666666665,51.42999999999999,51.42999999999999,51.42999999999999,51.42999999999999,51.42999999999999,51.42999999999999,51.42999999999999,51.42999999999999,0.0,0.0,0.0,0.0,0.0,0.0,0.0,0.0,0.0,0.0,53.89666666666665,53.89666666666666,53.89666666666665,53.89666666666665,51.42999999999999,51.42999999999999,51.42999999999999,51.42999999999999,51.42999999999999,53.89666666666665,51.42999999999999,51.42999999999999,53.89666666666665,51.42999999999999,51.42999999999999,0.0,0.0],\"yaxis\":\"y\"},{\"marker\":{\"color\":\"rgb(67,147,195)\"},\"name\":\"G2 Discharge\",\"type\":\"bar\",\"x\":[\"2018-01-23T00:00:00\",\"2018-01-23T01:00:00\",\"2018-01-23T02:00:00\",\"2018-01-23T03:00:00\",\"2018-01-23T04:00:00\",\"2018-01-23T05:00:00\",\"2018-01-23T06:00:00\",\"2018-01-23T07:00:00\",\"2018-01-23T08:00:00\",\"2018-01-23T09:00:00\",\"2018-01-23T10:00:00\",\"2018-01-23T11:00:00\",\"2018-01-23T12:00:00\",\"2018-01-23T13:00:00\",\"2018-01-23T14:00:00\",\"2018-01-23T15:00:00\",\"2018-01-23T16:00:00\",\"2018-01-23T17:00:00\",\"2018-01-23T18:00:00\",\"2018-01-23T19:00:00\",\"2018-01-23T20:00:00\",\"2018-01-23T21:00:00\",\"2018-01-23T22:00:00\",\"2018-01-23T23:00:00\",\"2018-01-24T00:00:00\",\"2018-01-24T01:00:00\",\"2018-01-24T02:00:00\",\"2018-01-24T03:00:00\",\"2018-01-24T04:00:00\",\"2018-01-24T05:00:00\",\"2018-01-24T06:00:00\",\"2018-01-24T07:00:00\",\"2018-01-24T08:00:00\",\"2018-01-24T09:00:00\",\"2018-01-24T10:00:00\",\"2018-01-24T11:00:00\",\"2018-01-24T12:00:00\",\"2018-01-24T13:00:00\",\"2018-01-24T14:00:00\",\"2018-01-24T15:00:00\",\"2018-01-24T16:00:00\",\"2018-01-24T17:00:00\",\"2018-01-24T18:00:00\",\"2018-01-24T19:00:00\",\"2018-01-24T20:00:00\",\"2018-01-24T21:00:00\",\"2018-01-24T22:00:00\",\"2018-01-24T23:00:00\",\"2018-01-25T00:00:00\",\"2018-01-25T01:00:00\",\"2018-01-25T02:00:00\",\"2018-01-25T03:00:00\",\"2018-01-25T04:00:00\",\"2018-01-25T05:00:00\",\"2018-01-25T06:00:00\",\"2018-01-25T07:00:00\",\"2018-01-25T08:00:00\",\"2018-01-25T09:00:00\",\"2018-01-25T10:00:00\",\"2018-01-25T11:00:00\",\"2018-01-25T12:00:00\",\"2018-01-25T13:00:00\",\"2018-01-25T14:00:00\",\"2018-01-25T15:00:00\",\"2018-01-25T16:00:00\",\"2018-01-25T17:00:00\",\"2018-01-25T18:00:00\",\"2018-01-25T19:00:00\",\"2018-01-25T20:00:00\",\"2018-01-25T21:00:00\",\"2018-01-25T22:00:00\",\"2018-01-25T23:00:00\"],\"xaxis\":\"x\",\"y\":[53.89666666666665,51.42999999999999,51.42999999999999,0.0,51.42999999999999,53.89666666666665,58.82999999999999,58.83,58.830000000000005,58.82999999999999,58.830000000000005,58.83,58.82999999999999,58.830000000000005,58.83,58.83,58.830000000000005,58.83,56.36333333333332,51.42999999999999,51.42999999999999,0.0,0.0,0.0,0.0,0.0,0.0,0.0,0.0,0.0,0.0,51.42999999999999,51.42999999999999,51.42999999999999,51.42999999999999,0.0,0.0,0.0,0.0,0.0,0.0,0.0,0.0,0.0,0.0,0.0,0.0,0.0,0.0,0.0,0.0,0.0,0.0,0.0,0.0,0.0,0.0,0.0,0.0,0.0,0.0,0.0,0.0,0.0,0.0,51.42999999999999,51.42999999999999,0.0,0.0,0.0,0.0,0.0],\"yaxis\":\"y\"},{\"marker\":{\"color\":\"rgb(146,197,222)\"},\"name\":\"G1 production\",\"type\":\"scatter\",\"x\":[\"2018-01-23T00:00:00\",\"2018-01-23T01:00:00\",\"2018-01-23T02:00:00\",\"2018-01-23T03:00:00\",\"2018-01-23T04:00:00\",\"2018-01-23T05:00:00\",\"2018-01-23T06:00:00\",\"2018-01-23T07:00:00\",\"2018-01-23T08:00:00\",\"2018-01-23T09:00:00\",\"2018-01-23T10:00:00\",\"2018-01-23T11:00:00\",\"2018-01-23T12:00:00\",\"2018-01-23T13:00:00\",\"2018-01-23T14:00:00\",\"2018-01-23T15:00:00\",\"2018-01-23T16:00:00\",\"2018-01-23T17:00:00\",\"2018-01-23T18:00:00\",\"2018-01-23T19:00:00\",\"2018-01-23T20:00:00\",\"2018-01-23T21:00:00\",\"2018-01-23T22:00:00\",\"2018-01-23T23:00:00\",\"2018-01-24T00:00:00\",\"2018-01-24T01:00:00\",\"2018-01-24T02:00:00\",\"2018-01-24T03:00:00\",\"2018-01-24T04:00:00\",\"2018-01-24T05:00:00\",\"2018-01-24T06:00:00\",\"2018-01-24T07:00:00\",\"2018-01-24T08:00:00\",\"2018-01-24T09:00:00\",\"2018-01-24T10:00:00\",\"2018-01-24T11:00:00\",\"2018-01-24T12:00:00\",\"2018-01-24T13:00:00\",\"2018-01-24T14:00:00\",\"2018-01-24T15:00:00\",\"2018-01-24T16:00:00\",\"2018-01-24T17:00:00\",\"2018-01-24T18:00:00\",\"2018-01-24T19:00:00\",\"2018-01-24T20:00:00\",\"2018-01-24T21:00:00\",\"2018-01-24T22:00:00\",\"2018-01-24T23:00:00\",\"2018-01-25T00:00:00\",\"2018-01-25T01:00:00\",\"2018-01-25T02:00:00\",\"2018-01-25T03:00:00\",\"2018-01-25T04:00:00\",\"2018-01-25T05:00:00\",\"2018-01-25T06:00:00\",\"2018-01-25T07:00:00\",\"2018-01-25T08:00:00\",\"2018-01-25T09:00:00\",\"2018-01-25T10:00:00\",\"2018-01-25T11:00:00\",\"2018-01-25T12:00:00\",\"2018-01-25T13:00:00\",\"2018-01-25T14:00:00\",\"2018-01-25T15:00:00\",\"2018-01-25T16:00:00\",\"2018-01-25T17:00:00\",\"2018-01-25T18:00:00\",\"2018-01-25T19:00:00\",\"2018-01-25T20:00:00\",\"2018-01-25T21:00:00\",\"2018-01-25T22:00:00\",\"2018-01-25T23:00:00\"],\"xaxis\":\"x\",\"y\":[108.06201916296483,103.70534282965251,103.54810593902664,107.45981625081005,103.3123061144648,107.31479871390789,114.60635074609262,114.403323618398,114.19966642786251,113.99605342146444,113.79248459920396,113.58895996108089,113.38547950709538,113.17779264433346,112.96647804516893,112.75521114013165,112.54399192922149,112.33282041243851,108.5582397311614,100.60724239062246,100.44129493765244,108.9588837377697,104.24177090554437,104.15843002560204,0.0,0.0,0.0,0.0,0.0,0.0,104.07509745166146,99.93967516569717,99.7738614054945,99.60808086929902,99.44233355711064,107.90952899360296,107.81831311724905,103.15100300286973,103.06777089768934,102.98454709851082,102.90133160533408,102.81812441815906,102.726249559936,102.63392977899366,102.54162022737916,0.0,0.0,0.0,0.0,0.0,0.0,0.0,0.0,0.0,0.0,106.99346387329328,106.8923434490018,106.7912347732558,106.69013784605526,102.06252762450961,101.97028141132357,101.87804542746531,101.78545478249963,101.68801089117056,106.09560685922912,97.44857121689984,97.25471418982119,105.58155147361106,100.9968846087778,100.89953319104454,0.0,0.0],\"yaxis\":\"y2\"},{\"marker\":{\"color\":\"rgb(209,229,240)\"},\"name\":\"G2 production\",\"type\":\"scatter\",\"x\":[\"2018-01-23T00:00:00\",\"2018-01-23T01:00:00\",\"2018-01-23T02:00:00\",\"2018-01-23T03:00:00\",\"2018-01-23T04:00:00\",\"2018-01-23T05:00:00\",\"2018-01-23T06:00:00\",\"2018-01-23T07:00:00\",\"2018-01-23T08:00:00\",\"2018-01-23T09:00:00\",\"2018-01-23T10:00:00\",\"2018-01-23T11:00:00\",\"2018-01-23T12:00:00\",\"2018-01-23T13:00:00\",\"2018-01-23T14:00:00\",\"2018-01-23T15:00:00\",\"2018-01-23T16:00:00\",\"2018-01-23T17:00:00\",\"2018-01-23T18:00:00\",\"2018-01-23T19:00:00\",\"2018-01-23T20:00:00\",\"2018-01-23T21:00:00\",\"2018-01-23T22:00:00\",\"2018-01-23T23:00:00\",\"2018-01-24T00:00:00\",\"2018-01-24T01:00:00\",\"2018-01-24T02:00:00\",\"2018-01-24T03:00:00\",\"2018-01-24T04:00:00\",\"2018-01-24T05:00:00\",\"2018-01-24T06:00:00\",\"2018-01-24T07:00:00\",\"2018-01-24T08:00:00\",\"2018-01-24T09:00:00\",\"2018-01-24T10:00:00\",\"2018-01-24T11:00:00\",\"2018-01-24T12:00:00\",\"2018-01-24T13:00:00\",\"2018-01-24T14:00:00\",\"2018-01-24T15:00:00\",\"2018-01-24T16:00:00\",\"2018-01-24T17:00:00\",\"2018-01-24T18:00:00\",\"2018-01-24T19:00:00\",\"2018-01-24T20:00:00\",\"2018-01-24T21:00:00\",\"2018-01-24T22:00:00\",\"2018-01-24T23:00:00\",\"2018-01-25T00:00:00\",\"2018-01-25T01:00:00\",\"2018-01-25T02:00:00\",\"2018-01-25T03:00:00\",\"2018-01-25T04:00:00\",\"2018-01-25T05:00:00\",\"2018-01-25T06:00:00\",\"2018-01-25T07:00:00\",\"2018-01-25T08:00:00\",\"2018-01-25T09:00:00\",\"2018-01-25T10:00:00\",\"2018-01-25T11:00:00\",\"2018-01-25T12:00:00\",\"2018-01-25T13:00:00\",\"2018-01-25T14:00:00\",\"2018-01-25T15:00:00\",\"2018-01-25T16:00:00\",\"2018-01-25T17:00:00\",\"2018-01-25T18:00:00\",\"2018-01-25T19:00:00\",\"2018-01-25T20:00:00\",\"2018-01-25T21:00:00\",\"2018-01-25T22:00:00\",\"2018-01-25T23:00:00\"],\"xaxis\":\"x\",\"y\":[108.06201916296483,103.70534282965251,103.54810593902664,0.0,103.3123061144648,107.31479871390789,114.60635074609262,114.403323618398,114.19966642786251,113.99605342146444,113.79248459920396,113.5889599610809,113.38547950709537,113.17779264433346,112.96647804516893,112.75521114013165,112.54399192922149,112.33282041243852,108.5582397311614,100.60724239062246,100.44129493765244,0.0,0.0,0.0,0.0,0.0,0.0,0.0,0.0,0.0,0.0,99.93967516569717,99.7738614054945,99.60808086929902,99.44233355711064,0.0,0.0,0.0,0.0,0.0,0.0,0.0,0.0,0.0,0.0,0.0,0.0,0.0,0.0,0.0,0.0,0.0,0.0,0.0,0.0,0.0,0.0,0.0,0.0,0.0,0.0,0.0,0.0,0.0,0.0,97.44857121689984,97.25471418982119,0.0,0.0,0.0,0.0,0.0],\"yaxis\":\"y2\"}],                        {\"barmode\":\"stack\",\"template\":{\"data\":{\"bar\":[{\"error_x\":{\"color\":\"#2a3f5f\"},\"error_y\":{\"color\":\"#2a3f5f\"},\"marker\":{\"line\":{\"color\":\"#E5ECF6\",\"width\":0.5},\"pattern\":{\"fillmode\":\"overlay\",\"size\":10,\"solidity\":0.2}},\"type\":\"bar\"}],\"barpolar\":[{\"marker\":{\"line\":{\"color\":\"#E5ECF6\",\"width\":0.5},\"pattern\":{\"fillmode\":\"overlay\",\"size\":10,\"solidity\":0.2}},\"type\":\"barpolar\"}],\"carpet\":[{\"aaxis\":{\"endlinecolor\":\"#2a3f5f\",\"gridcolor\":\"white\",\"linecolor\":\"white\",\"minorgridcolor\":\"white\",\"startlinecolor\":\"#2a3f5f\"},\"baxis\":{\"endlinecolor\":\"#2a3f5f\",\"gridcolor\":\"white\",\"linecolor\":\"white\",\"minorgridcolor\":\"white\",\"startlinecolor\":\"#2a3f5f\"},\"type\":\"carpet\"}],\"choropleth\":[{\"colorbar\":{\"outlinewidth\":0,\"ticks\":\"\"},\"type\":\"choropleth\"}],\"contour\":[{\"colorbar\":{\"outlinewidth\":0,\"ticks\":\"\"},\"colorscale\":[[0.0,\"#0d0887\"],[0.1111111111111111,\"#46039f\"],[0.2222222222222222,\"#7201a8\"],[0.3333333333333333,\"#9c179e\"],[0.4444444444444444,\"#bd3786\"],[0.5555555555555556,\"#d8576b\"],[0.6666666666666666,\"#ed7953\"],[0.7777777777777778,\"#fb9f3a\"],[0.8888888888888888,\"#fdca26\"],[1.0,\"#f0f921\"]],\"type\":\"contour\"}],\"contourcarpet\":[{\"colorbar\":{\"outlinewidth\":0,\"ticks\":\"\"},\"type\":\"contourcarpet\"}],\"heatmap\":[{\"colorbar\":{\"outlinewidth\":0,\"ticks\":\"\"},\"colorscale\":[[0.0,\"#0d0887\"],[0.1111111111111111,\"#46039f\"],[0.2222222222222222,\"#7201a8\"],[0.3333333333333333,\"#9c179e\"],[0.4444444444444444,\"#bd3786\"],[0.5555555555555556,\"#d8576b\"],[0.6666666666666666,\"#ed7953\"],[0.7777777777777778,\"#fb9f3a\"],[0.8888888888888888,\"#fdca26\"],[1.0,\"#f0f921\"]],\"type\":\"heatmap\"}],\"heatmapgl\":[{\"colorbar\":{\"outlinewidth\":0,\"ticks\":\"\"},\"colorscale\":[[0.0,\"#0d0887\"],[0.1111111111111111,\"#46039f\"],[0.2222222222222222,\"#7201a8\"],[0.3333333333333333,\"#9c179e\"],[0.4444444444444444,\"#bd3786\"],[0.5555555555555556,\"#d8576b\"],[0.6666666666666666,\"#ed7953\"],[0.7777777777777778,\"#fb9f3a\"],[0.8888888888888888,\"#fdca26\"],[1.0,\"#f0f921\"]],\"type\":\"heatmapgl\"}],\"histogram\":[{\"marker\":{\"pattern\":{\"fillmode\":\"overlay\",\"size\":10,\"solidity\":0.2}},\"type\":\"histogram\"}],\"histogram2d\":[{\"colorbar\":{\"outlinewidth\":0,\"ticks\":\"\"},\"colorscale\":[[0.0,\"#0d0887\"],[0.1111111111111111,\"#46039f\"],[0.2222222222222222,\"#7201a8\"],[0.3333333333333333,\"#9c179e\"],[0.4444444444444444,\"#bd3786\"],[0.5555555555555556,\"#d8576b\"],[0.6666666666666666,\"#ed7953\"],[0.7777777777777778,\"#fb9f3a\"],[0.8888888888888888,\"#fdca26\"],[1.0,\"#f0f921\"]],\"type\":\"histogram2d\"}],\"histogram2dcontour\":[{\"colorbar\":{\"outlinewidth\":0,\"ticks\":\"\"},\"colorscale\":[[0.0,\"#0d0887\"],[0.1111111111111111,\"#46039f\"],[0.2222222222222222,\"#7201a8\"],[0.3333333333333333,\"#9c179e\"],[0.4444444444444444,\"#bd3786\"],[0.5555555555555556,\"#d8576b\"],[0.6666666666666666,\"#ed7953\"],[0.7777777777777778,\"#fb9f3a\"],[0.8888888888888888,\"#fdca26\"],[1.0,\"#f0f921\"]],\"type\":\"histogram2dcontour\"}],\"mesh3d\":[{\"colorbar\":{\"outlinewidth\":0,\"ticks\":\"\"},\"type\":\"mesh3d\"}],\"parcoords\":[{\"line\":{\"colorbar\":{\"outlinewidth\":0,\"ticks\":\"\"}},\"type\":\"parcoords\"}],\"pie\":[{\"automargin\":true,\"type\":\"pie\"}],\"scatter\":[{\"marker\":{\"colorbar\":{\"outlinewidth\":0,\"ticks\":\"\"}},\"type\":\"scatter\"}],\"scatter3d\":[{\"line\":{\"colorbar\":{\"outlinewidth\":0,\"ticks\":\"\"}},\"marker\":{\"colorbar\":{\"outlinewidth\":0,\"ticks\":\"\"}},\"type\":\"scatter3d\"}],\"scattercarpet\":[{\"marker\":{\"colorbar\":{\"outlinewidth\":0,\"ticks\":\"\"}},\"type\":\"scattercarpet\"}],\"scattergeo\":[{\"marker\":{\"colorbar\":{\"outlinewidth\":0,\"ticks\":\"\"}},\"type\":\"scattergeo\"}],\"scattergl\":[{\"marker\":{\"colorbar\":{\"outlinewidth\":0,\"ticks\":\"\"}},\"type\":\"scattergl\"}],\"scattermapbox\":[{\"marker\":{\"colorbar\":{\"outlinewidth\":0,\"ticks\":\"\"}},\"type\":\"scattermapbox\"}],\"scatterpolar\":[{\"marker\":{\"colorbar\":{\"outlinewidth\":0,\"ticks\":\"\"}},\"type\":\"scatterpolar\"}],\"scatterpolargl\":[{\"marker\":{\"colorbar\":{\"outlinewidth\":0,\"ticks\":\"\"}},\"type\":\"scatterpolargl\"}],\"scatterternary\":[{\"marker\":{\"colorbar\":{\"outlinewidth\":0,\"ticks\":\"\"}},\"type\":\"scatterternary\"}],\"surface\":[{\"colorbar\":{\"outlinewidth\":0,\"ticks\":\"\"},\"colorscale\":[[0.0,\"#0d0887\"],[0.1111111111111111,\"#46039f\"],[0.2222222222222222,\"#7201a8\"],[0.3333333333333333,\"#9c179e\"],[0.4444444444444444,\"#bd3786\"],[0.5555555555555556,\"#d8576b\"],[0.6666666666666666,\"#ed7953\"],[0.7777777777777778,\"#fb9f3a\"],[0.8888888888888888,\"#fdca26\"],[1.0,\"#f0f921\"]],\"type\":\"surface\"}],\"table\":[{\"cells\":{\"fill\":{\"color\":\"#EBF0F8\"},\"line\":{\"color\":\"white\"}},\"header\":{\"fill\":{\"color\":\"#C8D4E3\"},\"line\":{\"color\":\"white\"}},\"type\":\"table\"}]},\"layout\":{\"annotationdefaults\":{\"arrowcolor\":\"#2a3f5f\",\"arrowhead\":0,\"arrowwidth\":1},\"autotypenumbers\":\"strict\",\"coloraxis\":{\"colorbar\":{\"outlinewidth\":0,\"ticks\":\"\"}},\"colorscale\":{\"diverging\":[[0,\"#8e0152\"],[0.1,\"#c51b7d\"],[0.2,\"#de77ae\"],[0.3,\"#f1b6da\"],[0.4,\"#fde0ef\"],[0.5,\"#f7f7f7\"],[0.6,\"#e6f5d0\"],[0.7,\"#b8e186\"],[0.8,\"#7fbc41\"],[0.9,\"#4d9221\"],[1,\"#276419\"]],\"sequential\":[[0.0,\"#0d0887\"],[0.1111111111111111,\"#46039f\"],[0.2222222222222222,\"#7201a8\"],[0.3333333333333333,\"#9c179e\"],[0.4444444444444444,\"#bd3786\"],[0.5555555555555556,\"#d8576b\"],[0.6666666666666666,\"#ed7953\"],[0.7777777777777778,\"#fb9f3a\"],[0.8888888888888888,\"#fdca26\"],[1.0,\"#f0f921\"]],\"sequentialminus\":[[0.0,\"#0d0887\"],[0.1111111111111111,\"#46039f\"],[0.2222222222222222,\"#7201a8\"],[0.3333333333333333,\"#9c179e\"],[0.4444444444444444,\"#bd3786\"],[0.5555555555555556,\"#d8576b\"],[0.6666666666666666,\"#ed7953\"],[0.7777777777777778,\"#fb9f3a\"],[0.8888888888888888,\"#fdca26\"],[1.0,\"#f0f921\"]]},\"colorway\":[\"#636efa\",\"#EF553B\",\"#00cc96\",\"#ab63fa\",\"#FFA15A\",\"#19d3f3\",\"#FF6692\",\"#B6E880\",\"#FF97FF\",\"#FECB52\"],\"font\":{\"color\":\"#2a3f5f\"},\"geo\":{\"bgcolor\":\"white\",\"lakecolor\":\"white\",\"landcolor\":\"#E5ECF6\",\"showlakes\":true,\"showland\":true,\"subunitcolor\":\"white\"},\"hoverlabel\":{\"align\":\"left\"},\"hovermode\":\"closest\",\"mapbox\":{\"style\":\"light\"},\"paper_bgcolor\":\"white\",\"plot_bgcolor\":\"#E5ECF6\",\"polar\":{\"angularaxis\":{\"gridcolor\":\"white\",\"linecolor\":\"white\",\"ticks\":\"\"},\"bgcolor\":\"#E5ECF6\",\"radialaxis\":{\"gridcolor\":\"white\",\"linecolor\":\"white\",\"ticks\":\"\"}},\"scene\":{\"xaxis\":{\"backgroundcolor\":\"#E5ECF6\",\"gridcolor\":\"white\",\"gridwidth\":2,\"linecolor\":\"white\",\"showbackground\":true,\"ticks\":\"\",\"zerolinecolor\":\"white\"},\"yaxis\":{\"backgroundcolor\":\"#E5ECF6\",\"gridcolor\":\"white\",\"gridwidth\":2,\"linecolor\":\"white\",\"showbackground\":true,\"ticks\":\"\",\"zerolinecolor\":\"white\"},\"zaxis\":{\"backgroundcolor\":\"#E5ECF6\",\"gridcolor\":\"white\",\"gridwidth\":2,\"linecolor\":\"white\",\"showbackground\":true,\"ticks\":\"\",\"zerolinecolor\":\"white\"}},\"shapedefaults\":{\"line\":{\"color\":\"#2a3f5f\"}},\"ternary\":{\"aaxis\":{\"gridcolor\":\"white\",\"linecolor\":\"white\",\"ticks\":\"\"},\"baxis\":{\"gridcolor\":\"white\",\"linecolor\":\"white\",\"ticks\":\"\"},\"bgcolor\":\"#E5ECF6\",\"caxis\":{\"gridcolor\":\"white\",\"linecolor\":\"white\",\"ticks\":\"\"}},\"title\":{\"x\":0.05},\"xaxis\":{\"automargin\":true,\"gridcolor\":\"white\",\"linecolor\":\"white\",\"ticks\":\"\",\"title\":{\"standoff\":15},\"zerolinecolor\":\"white\",\"zerolinewidth\":2},\"yaxis\":{\"automargin\":true,\"gridcolor\":\"white\",\"linecolor\":\"white\",\"ticks\":\"\",\"title\":{\"standoff\":15},\"zerolinecolor\":\"white\",\"zerolinewidth\":2}}},\"title\":{\"text\":\"<b>Unit discharge and production in Plant1</b>\"},\"xaxis\":{\"anchor\":\"y\",\"domain\":[0.0,0.94],\"title\":{\"text\":\"<b>Time</b> (Hour)\"}},\"yaxis\":{\"anchor\":\"x\",\"domain\":[0.0,1.0],\"dtick\":20,\"range\":[0,120],\"tick0\":20,\"title\":{\"text\":\"<b>Discharge</b> (m<sup>3</sup>/s)\"}},\"yaxis2\":{\"anchor\":\"x\",\"dtick\":40,\"overlaying\":\"y\",\"range\":[0,240],\"side\":\"right\",\"tick0\":40,\"title\":{\"text\":\"<b>Production</b> (MW)\"}}},                        {\"responsive\": true}                    ).then(function(){\n",
       "                            \n",
       "var gd = document.getElementById('15ab3cc7-09c9-41be-a885-26e7be576a30');\n",
       "var x = new MutationObserver(function (mutations, observer) {{\n",
       "        var display = window.getComputedStyle(gd).display;\n",
       "        if (!display || display === 'none') {{\n",
       "            console.log([gd, 'removed!']);\n",
       "            Plotly.purge(gd);\n",
       "            observer.disconnect();\n",
       "        }}\n",
       "}});\n",
       "\n",
       "// Listen for the removal of the full notebook cells\n",
       "var notebookContainer = gd.closest('#notebook-container');\n",
       "if (notebookContainer) {{\n",
       "    x.observe(notebookContainer, {childList: true});\n",
       "}}\n",
       "\n",
       "// Listen for the clearing of the current output cell\n",
       "var outputEl = gd.closest('.output');\n",
       "if (outputEl) {{\n",
       "    x.observe(outputEl, {childList: true});\n",
       "}}\n",
       "\n",
       "                        })                };                });            </script>        </div>"
      ]
     },
     "metadata": {},
     "output_type": "display_data"
    }
   ],
   "source": [
    "# Plotting discharge and production results from Plant 1\r\n",
    "\r\n",
    "# Retrieving discharge results on generators\r\n",
    "G1_discharge=shop.model.generator.Plant1_Generator1.discharge.get()\r\n",
    "G2_discharge=shop.model.generator.Plant1_Generator2.discharge.get()\r\n",
    "\r\n",
    "# Retrieving production results on generators\r\n",
    "G1_production=shop.model.generator.Plant1_Generator1.production.get()\r\n",
    "G2_production=shop.model.generator.Plant1_Generator2.production.get()\r\n",
    "\r\n",
    "# Preparing for secondary y axis by calling make_subplots function\r\n",
    "coloraxis = px.colors.sequential.RdBu_r\r\n",
    "#coloraxis=[\"rgb(0, 200, 30)\",\"rgb(0, 200, 60)\",\"rgb(0, 200, 90)\",\"rgb(0, 200, 120)\",\"rgb(0, 200, 150)\",\"rgb(0, 200, 180)\",\"rgb(0, 200, 210)\",\"rgb(0, 200, 255)\"]\r\n",
    "#print(coloraxis)\r\n",
    "fig = make_subplots(specs=[[{\"secondary_y\": True}]])\r\n",
    "fig.add_trace(go.Bar(x=G1_discharge.index, y=G1_discharge.values, name=\"G1 Discharge\", marker_color=coloraxis[1]), secondary_y=False)\r\n",
    "fig.add_trace(go.Bar(x=G2_discharge.index, y=G2_discharge.values, name=\"G2 Discharge\", marker_color=coloraxis[2]), secondary_y=False)\r\n",
    "fig.add_trace(go.Scatter(x=G1_production.index, y=G1_production.values, name=\"G1 production\", marker_color=coloraxis[3]), secondary_y=True)\r\n",
    "fig.add_trace(go.Scatter(x=G2_production.index, y=G2_production.values, name=\"G2 production\", marker_color=coloraxis[4]), secondary_y=True)\r\n",
    "fig.update_layout(title_text=\"<b>Unit discharge and production in Plant1</b>\", barmode=\"stack\")\r\n",
    "fig.update_xaxes(title_text=\"<b>Time</b> (Hour)\")\r\n",
    "fig.update_yaxes(title_text=\"<b>Discharge</b> (m<sup>3</sup>/s)\", secondary_y=False, range=[0, 120], tick0=20, dtick=20)\r\n",
    "fig.update_yaxes(title_text=\"<b>Production</b> (MW)\", secondary_y=True, range=[0, 240], tick0=40, dtick=40)\r\n",
    "\r\n",
    "fig.show()"
   ]
  },
  {
   "cell_type": "code",
   "execution_count": 35,
   "metadata": {
    "Collapsed": "false"
   },
   "outputs": [
    {
     "data": {
      "application/vnd.plotly.v1+json": {
       "config": {
        "plotlyServerURL": "https://plot.ly"
       },
       "data": [
        {
         "marker": {
          "color": "rgb(33,102,172)"
         },
         "name": "G1 Discharge",
         "type": "bar",
         "x": [
          "2018-01-23T00:00:00",
          "2018-01-23T01:00:00",
          "2018-01-23T02:00:00",
          "2018-01-23T03:00:00",
          "2018-01-23T04:00:00",
          "2018-01-23T05:00:00",
          "2018-01-23T06:00:00",
          "2018-01-23T07:00:00",
          "2018-01-23T08:00:00",
          "2018-01-23T09:00:00",
          "2018-01-23T10:00:00",
          "2018-01-23T11:00:00",
          "2018-01-23T12:00:00",
          "2018-01-23T13:00:00",
          "2018-01-23T14:00:00",
          "2018-01-23T15:00:00",
          "2018-01-23T16:00:00",
          "2018-01-23T17:00:00",
          "2018-01-23T18:00:00",
          "2018-01-23T19:00:00",
          "2018-01-23T20:00:00",
          "2018-01-23T21:00:00",
          "2018-01-23T22:00:00",
          "2018-01-23T23:00:00",
          "2018-01-24T00:00:00",
          "2018-01-24T01:00:00",
          "2018-01-24T02:00:00",
          "2018-01-24T03:00:00",
          "2018-01-24T04:00:00",
          "2018-01-24T05:00:00",
          "2018-01-24T06:00:00",
          "2018-01-24T07:00:00",
          "2018-01-24T08:00:00",
          "2018-01-24T09:00:00",
          "2018-01-24T10:00:00",
          "2018-01-24T11:00:00",
          "2018-01-24T12:00:00",
          "2018-01-24T13:00:00",
          "2018-01-24T14:00:00",
          "2018-01-24T15:00:00",
          "2018-01-24T16:00:00",
          "2018-01-24T17:00:00",
          "2018-01-24T18:00:00",
          "2018-01-24T19:00:00",
          "2018-01-24T20:00:00",
          "2018-01-24T21:00:00",
          "2018-01-24T22:00:00",
          "2018-01-24T23:00:00",
          "2018-01-25T00:00:00",
          "2018-01-25T01:00:00",
          "2018-01-25T02:00:00",
          "2018-01-25T03:00:00",
          "2018-01-25T04:00:00",
          "2018-01-25T05:00:00",
          "2018-01-25T06:00:00",
          "2018-01-25T07:00:00",
          "2018-01-25T08:00:00",
          "2018-01-25T09:00:00",
          "2018-01-25T10:00:00",
          "2018-01-25T11:00:00",
          "2018-01-25T12:00:00",
          "2018-01-25T13:00:00",
          "2018-01-25T14:00:00",
          "2018-01-25T15:00:00",
          "2018-01-25T16:00:00",
          "2018-01-25T17:00:00",
          "2018-01-25T18:00:00",
          "2018-01-25T19:00:00",
          "2018-01-25T20:00:00",
          "2018-01-25T21:00:00",
          "2018-01-25T22:00:00",
          "2018-01-25T23:00:00"
         ],
         "xaxis": "x",
         "y": [
          220.95,
          220.95,
          191.81489460152576,
          162.76786629670656,
          191.91261076108532,
          230.76082045930576,
          250.83916559116946,
          251.60760085416442,
          252.82092535044728,
          254.11228580951635,
          255.04036018074342,
          255.9833843808695,
          256.9456343702176,
          257.9391765225254,
          258.9787380280532,
          260.03688837619103,
          261.114246956083,
          262.21146434983336,
          263.3293584030962,
          249.55965693218786,
          235.54666666666665,
          220.95,
          220.95,
          220.95,
          194.22015074319046,
          194.34883294293982,
          168.01732224217835,
          168.25114069766167,
          194.47348204765785,
          194.854686920444,
          220.95,
          250.1433333333333,
          250.1433333333333,
          250.1433333333333,
          235.54666666666665,
          235.54666666666665,
          235.54666666666665,
          235.54666666666665,
          235.54666666666665,
          235.54666666666665,
          235.54666666666665,
          235.54666666666665,
          235.54666666666665,
          235.54666666666665,
          220.95,
          220.95,
          220.95,
          197.63462853580634,
          197.84034420394718,
          198.05166262709042,
          175.57330268961798,
          175.94584335882263,
          176.33346465107053,
          198.84230484550508,
          220.95,
          250.1433333333333,
          250.1433333333333,
          250.1433333333333,
          250.1433333333333,
          250.1433333333333,
          250.1433333333333,
          250.1433333333333,
          250.14333333333335,
          250.1433333333333,
          264.73999999999995,
          264.73999999999995,
          264.73999999999984,
          264.73999999999995,
          264.73999999999995,
          264.74000000000007,
          257.353308813225,
          250.1433333333333
         ],
         "yaxis": "y"
        },
        {
         "marker": {
          "color": "rgb(67,147,195)"
         },
         "name": "G2 Discharge",
         "type": "bar",
         "x": [
          "2018-01-23T00:00:00",
          "2018-01-23T01:00:00",
          "2018-01-23T02:00:00",
          "2018-01-23T03:00:00",
          "2018-01-23T04:00:00",
          "2018-01-23T05:00:00",
          "2018-01-23T06:00:00",
          "2018-01-23T07:00:00",
          "2018-01-23T08:00:00",
          "2018-01-23T09:00:00",
          "2018-01-23T10:00:00",
          "2018-01-23T11:00:00",
          "2018-01-23T12:00:00",
          "2018-01-23T13:00:00",
          "2018-01-23T14:00:00",
          "2018-01-23T15:00:00",
          "2018-01-23T16:00:00",
          "2018-01-23T17:00:00",
          "2018-01-23T18:00:00",
          "2018-01-23T19:00:00",
          "2018-01-23T20:00:00",
          "2018-01-23T21:00:00",
          "2018-01-23T22:00:00",
          "2018-01-23T23:00:00",
          "2018-01-24T00:00:00",
          "2018-01-24T01:00:00",
          "2018-01-24T02:00:00",
          "2018-01-24T03:00:00",
          "2018-01-24T04:00:00",
          "2018-01-24T05:00:00",
          "2018-01-24T06:00:00",
          "2018-01-24T07:00:00",
          "2018-01-24T08:00:00",
          "2018-01-24T09:00:00",
          "2018-01-24T10:00:00",
          "2018-01-24T11:00:00",
          "2018-01-24T12:00:00",
          "2018-01-24T13:00:00",
          "2018-01-24T14:00:00",
          "2018-01-24T15:00:00",
          "2018-01-24T16:00:00",
          "2018-01-24T17:00:00",
          "2018-01-24T18:00:00",
          "2018-01-24T19:00:00",
          "2018-01-24T20:00:00",
          "2018-01-24T21:00:00",
          "2018-01-24T22:00:00",
          "2018-01-24T23:00:00",
          "2018-01-25T00:00:00",
          "2018-01-25T01:00:00",
          "2018-01-25T02:00:00",
          "2018-01-25T03:00:00",
          "2018-01-25T04:00:00",
          "2018-01-25T05:00:00",
          "2018-01-25T06:00:00",
          "2018-01-25T07:00:00",
          "2018-01-25T08:00:00",
          "2018-01-25T09:00:00",
          "2018-01-25T10:00:00",
          "2018-01-25T11:00:00",
          "2018-01-25T12:00:00",
          "2018-01-25T13:00:00",
          "2018-01-25T14:00:00",
          "2018-01-25T15:00:00",
          "2018-01-25T16:00:00",
          "2018-01-25T17:00:00",
          "2018-01-25T18:00:00",
          "2018-01-25T19:00:00",
          "2018-01-25T20:00:00",
          "2018-01-25T21:00:00",
          "2018-01-25T22:00:00",
          "2018-01-25T23:00:00"
         ],
         "xaxis": "x",
         "y": [
          74.3040437611387,
          74.39641136973495,
          74.49267460048854,
          74.456959017969,
          74.65985368401812,
          74.73828623239127,
          78.52054073437895,
          85.4,
          85.4,
          79.46154310417882,
          79.72437664580721,
          79.99101774622204,
          80.26156657352514,
          80.54146765498729,
          80.83380066735204,
          81.13079394891513,
          81.43258403982237,
          81.75436524807472,
          82.08215590557035,
          77.82116867240185,
          77.98985022371544,
          78.14888728030937,
          78.34760150589373,
          78.55026503157002,
          78.75425564895342,
          77.54599753536529,
          74.66,
          74.66,
          75.70468710196711,
          79.91257148077376,
          80.16815694607527,
          80.39641521423337,
          80.6064820751319,
          80.81797837638003,
          81.03091985528681,
          81.2266813715186,
          81.48864435083681,
          81.7623037886741,
          82.05934335292176,
          82.36776054358657,
          82.67913327529807,
          82.9935111025213,
          83.31094449716284,
          83.64344420367604,
          83.99000442984563,
          84.31557753068061,
          84.7321535335711,
          78.15823951054489,
          81.82,
          78.24,
          74.66,
          74.66,
          74.66,
          81.82,
          85.4,
          85.4,
          85.4,
          85.4,
          85.4,
          85.4,
          85.4,
          85.4,
          85.4,
          85.4,
          85.4,
          85.4,
          85.4,
          85.4,
          85.4,
          85.4,
          85.4,
          85.4
         ],
         "yaxis": "y"
        },
        {
         "marker": {
          "color": "rgb(146,197,222)"
         },
         "name": "G3 Discharge",
         "type": "bar",
         "x": [
          "2018-01-23T00:00:00",
          "2018-01-23T01:00:00",
          "2018-01-23T02:00:00",
          "2018-01-23T03:00:00",
          "2018-01-23T04:00:00",
          "2018-01-23T05:00:00",
          "2018-01-23T06:00:00",
          "2018-01-23T07:00:00",
          "2018-01-23T08:00:00",
          "2018-01-23T09:00:00",
          "2018-01-23T10:00:00",
          "2018-01-23T11:00:00",
          "2018-01-23T12:00:00",
          "2018-01-23T13:00:00",
          "2018-01-23T14:00:00",
          "2018-01-23T15:00:00",
          "2018-01-23T16:00:00",
          "2018-01-23T17:00:00",
          "2018-01-23T18:00:00",
          "2018-01-23T19:00:00",
          "2018-01-23T20:00:00",
          "2018-01-23T21:00:00",
          "2018-01-23T22:00:00",
          "2018-01-23T23:00:00",
          "2018-01-24T00:00:00",
          "2018-01-24T01:00:00",
          "2018-01-24T02:00:00",
          "2018-01-24T03:00:00",
          "2018-01-24T04:00:00",
          "2018-01-24T05:00:00",
          "2018-01-24T06:00:00",
          "2018-01-24T07:00:00",
          "2018-01-24T08:00:00",
          "2018-01-24T09:00:00",
          "2018-01-24T10:00:00",
          "2018-01-24T11:00:00",
          "2018-01-24T12:00:00",
          "2018-01-24T13:00:00",
          "2018-01-24T14:00:00",
          "2018-01-24T15:00:00",
          "2018-01-24T16:00:00",
          "2018-01-24T17:00:00",
          "2018-01-24T18:00:00",
          "2018-01-24T19:00:00",
          "2018-01-24T20:00:00",
          "2018-01-24T21:00:00",
          "2018-01-24T22:00:00",
          "2018-01-24T23:00:00",
          "2018-01-25T00:00:00",
          "2018-01-25T01:00:00",
          "2018-01-25T02:00:00",
          "2018-01-25T03:00:00",
          "2018-01-25T04:00:00",
          "2018-01-25T05:00:00",
          "2018-01-25T06:00:00",
          "2018-01-25T07:00:00",
          "2018-01-25T08:00:00",
          "2018-01-25T09:00:00",
          "2018-01-25T10:00:00",
          "2018-01-25T11:00:00",
          "2018-01-25T12:00:00",
          "2018-01-25T13:00:00",
          "2018-01-25T14:00:00",
          "2018-01-25T15:00:00",
          "2018-01-25T16:00:00",
          "2018-01-25T17:00:00",
          "2018-01-25T18:00:00",
          "2018-01-25T19:00:00",
          "2018-01-25T20:00:00",
          "2018-01-25T21:00:00",
          "2018-01-25T22:00:00",
          "2018-01-25T23:00:00"
         ],
         "xaxis": "x",
         "y": [
          0,
          0,
          0,
          0,
          0,
          0,
          78.52054073437895,
          85.4,
          85.4,
          79.46154310417882,
          79.72437664580721,
          79.99101774622204,
          80.26156657352514,
          80.54146765498729,
          80.83380066735204,
          81.13079394891513,
          81.43258403982237,
          81.75436524807472,
          82.08215590557035,
          0,
          0,
          0,
          0,
          0,
          0,
          0,
          0,
          0,
          0,
          0,
          0,
          0,
          0,
          0,
          0,
          0,
          0,
          0,
          0,
          0,
          0,
          0,
          0,
          0,
          0,
          0,
          0,
          0,
          0,
          0,
          0,
          0,
          0,
          0,
          0,
          0,
          0,
          0,
          0,
          0,
          0,
          0,
          0,
          0,
          85.4,
          85.4,
          85.4,
          85.4,
          85.4,
          85.4,
          85.4,
          0
         ],
         "yaxis": "y"
        },
        {
         "marker": {
          "color": "rgb(209,229,240)"
         },
         "name": "G4 Discharge",
         "type": "bar",
         "x": [
          "2018-01-23T00:00:00",
          "2018-01-23T01:00:00",
          "2018-01-23T02:00:00",
          "2018-01-23T03:00:00",
          "2018-01-23T04:00:00",
          "2018-01-23T05:00:00",
          "2018-01-23T06:00:00",
          "2018-01-23T07:00:00",
          "2018-01-23T08:00:00",
          "2018-01-23T09:00:00",
          "2018-01-23T10:00:00",
          "2018-01-23T11:00:00",
          "2018-01-23T12:00:00",
          "2018-01-23T13:00:00",
          "2018-01-23T14:00:00",
          "2018-01-23T15:00:00",
          "2018-01-23T16:00:00",
          "2018-01-23T17:00:00",
          "2018-01-23T18:00:00",
          "2018-01-23T19:00:00",
          "2018-01-23T20:00:00",
          "2018-01-23T21:00:00",
          "2018-01-23T22:00:00",
          "2018-01-23T23:00:00",
          "2018-01-24T00:00:00",
          "2018-01-24T01:00:00",
          "2018-01-24T02:00:00",
          "2018-01-24T03:00:00",
          "2018-01-24T04:00:00",
          "2018-01-24T05:00:00",
          "2018-01-24T06:00:00",
          "2018-01-24T07:00:00",
          "2018-01-24T08:00:00",
          "2018-01-24T09:00:00",
          "2018-01-24T10:00:00",
          "2018-01-24T11:00:00",
          "2018-01-24T12:00:00",
          "2018-01-24T13:00:00",
          "2018-01-24T14:00:00",
          "2018-01-24T15:00:00",
          "2018-01-24T16:00:00",
          "2018-01-24T17:00:00",
          "2018-01-24T18:00:00",
          "2018-01-24T19:00:00",
          "2018-01-24T20:00:00",
          "2018-01-24T21:00:00",
          "2018-01-24T22:00:00",
          "2018-01-24T23:00:00",
          "2018-01-25T00:00:00",
          "2018-01-25T01:00:00",
          "2018-01-25T02:00:00",
          "2018-01-25T03:00:00",
          "2018-01-25T04:00:00",
          "2018-01-25T05:00:00",
          "2018-01-25T06:00:00",
          "2018-01-25T07:00:00",
          "2018-01-25T08:00:00",
          "2018-01-25T09:00:00",
          "2018-01-25T10:00:00",
          "2018-01-25T11:00:00",
          "2018-01-25T12:00:00",
          "2018-01-25T13:00:00",
          "2018-01-25T14:00:00",
          "2018-01-25T15:00:00",
          "2018-01-25T16:00:00",
          "2018-01-25T17:00:00",
          "2018-01-25T18:00:00",
          "2018-01-25T19:00:00",
          "2018-01-25T20:00:00",
          "2018-01-25T21:00:00",
          "2018-01-25T22:00:00",
          "2018-01-25T23:00:00"
         ],
         "xaxis": "x",
         "y": [
          0,
          0,
          0,
          0,
          0,
          0,
          0,
          85.4,
          85.4,
          0,
          0,
          0,
          0,
          0,
          0,
          0,
          0,
          0,
          0,
          0,
          0,
          0,
          0,
          0,
          0,
          0,
          0,
          0,
          0,
          0,
          0,
          0,
          0,
          0,
          0,
          0,
          0,
          0,
          0,
          0,
          0,
          0,
          0,
          0,
          0,
          0,
          0,
          0,
          0,
          0,
          0,
          0,
          0,
          0,
          0,
          0,
          0,
          0,
          0,
          0,
          0,
          0,
          0,
          0,
          0,
          0,
          0,
          0,
          0,
          0,
          0,
          0
         ],
         "yaxis": "y"
        },
        {
         "marker": {
          "color": "rgb(247,247,247)"
         },
         "name": "G1 production",
         "type": "scatter",
         "x": [
          "2018-01-23T00:00:00",
          "2018-01-23T01:00:00",
          "2018-01-23T02:00:00",
          "2018-01-23T03:00:00",
          "2018-01-23T04:00:00",
          "2018-01-23T05:00:00",
          "2018-01-23T06:00:00",
          "2018-01-23T07:00:00",
          "2018-01-23T08:00:00",
          "2018-01-23T09:00:00",
          "2018-01-23T10:00:00",
          "2018-01-23T11:00:00",
          "2018-01-23T12:00:00",
          "2018-01-23T13:00:00",
          "2018-01-23T14:00:00",
          "2018-01-23T15:00:00",
          "2018-01-23T16:00:00",
          "2018-01-23T17:00:00",
          "2018-01-23T18:00:00",
          "2018-01-23T19:00:00",
          "2018-01-23T20:00:00",
          "2018-01-23T21:00:00",
          "2018-01-23T22:00:00",
          "2018-01-23T23:00:00",
          "2018-01-24T00:00:00",
          "2018-01-24T01:00:00",
          "2018-01-24T02:00:00",
          "2018-01-24T03:00:00",
          "2018-01-24T04:00:00",
          "2018-01-24T05:00:00",
          "2018-01-24T06:00:00",
          "2018-01-24T07:00:00",
          "2018-01-24T08:00:00",
          "2018-01-24T09:00:00",
          "2018-01-24T10:00:00",
          "2018-01-24T11:00:00",
          "2018-01-24T12:00:00",
          "2018-01-24T13:00:00",
          "2018-01-24T14:00:00",
          "2018-01-24T15:00:00",
          "2018-01-24T16:00:00",
          "2018-01-24T17:00:00",
          "2018-01-24T18:00:00",
          "2018-01-24T19:00:00",
          "2018-01-24T20:00:00",
          "2018-01-24T21:00:00",
          "2018-01-24T22:00:00",
          "2018-01-24T23:00:00",
          "2018-01-25T00:00:00",
          "2018-01-25T01:00:00",
          "2018-01-25T02:00:00",
          "2018-01-25T03:00:00",
          "2018-01-25T04:00:00",
          "2018-01-25T05:00:00",
          "2018-01-25T06:00:00",
          "2018-01-25T07:00:00",
          "2018-01-25T08:00:00",
          "2018-01-25T09:00:00",
          "2018-01-25T10:00:00",
          "2018-01-25T11:00:00",
          "2018-01-25T12:00:00",
          "2018-01-25T13:00:00",
          "2018-01-25T14:00:00",
          "2018-01-25T15:00:00",
          "2018-01-25T16:00:00",
          "2018-01-25T17:00:00",
          "2018-01-25T18:00:00",
          "2018-01-25T19:00:00",
          "2018-01-25T20:00:00",
          "2018-01-25T21:00:00",
          "2018-01-25T22:00:00",
          "2018-01-25T23:00:00"
         ],
         "xaxis": "x",
         "y": [
          163.24000256839028,
          163.0277669354516,
          143.19574887274845,
          122.04020380586086,
          142.9331250624857,
          168.41007647981453,
          179.99846133536005,
          179.99837870350362,
          179.9981521846156,
          179.99795452330562,
          179.99780887730944,
          179.99764578439712,
          179.99949756708594,
          179.99943185726724,
          179.99935270814905,
          179.99925912214636,
          179.99914976560723,
          179.99902297286607,
          179.99887539760553,
          172.21709084593832,
          164.0396602601884,
          155.1049298894779,
          154.7221478795136,
          154.33385697310172,
          137.09660358942023,
          136.79038566628515,
          118.69081374712621,
          118.55153945115187,
          135.76273641606878,
          135.60484929965602,
          151.30949694076742,
          167.04575101544992,
          166.61571932061827,
          166.18514888804992,
          158.0035249924125,
          157.63143896049854,
          157.1403593056108,
          156.6486455478354,
          156.1189407651598,
          155.5732069728334,
          155.02665682130444,
          154.47928248745814,
          153.9310760170127,
          153.36166252061594,
          144.83665098292184,
          144.3220263889924,
          143.66976193055578,
          129.56372905485458,
          129.14798278995704,
          128.7247001579718,
          114.50948963464114,
          114.3217651061747,
          114.12795184314464,
          127.17405406015153,
          138.89952628874985,
          152.69455165682746,
          151.93534025777936,
          151.1428131118239,
          150.3502859658687,
          149.55775881991323,
          148.7093028567142,
          147.8345447428239,
          146.95978662893333,
          146.085028515043,
          151.27928245690657,
          149.95542489180517,
          148.79170043798138,
          147.57014685224584,
          146.1279315406724,
          144.61229327863722,
          140.29505873023137,
          135.71795420791582
         ],
         "yaxis": "y2"
        },
        {
         "marker": {
          "color": "rgb(253,219,199)"
         },
         "name": "G2 production",
         "type": "scatter",
         "x": [
          "2018-01-23T00:00:00",
          "2018-01-23T01:00:00",
          "2018-01-23T02:00:00",
          "2018-01-23T03:00:00",
          "2018-01-23T04:00:00",
          "2018-01-23T05:00:00",
          "2018-01-23T06:00:00",
          "2018-01-23T07:00:00",
          "2018-01-23T08:00:00",
          "2018-01-23T09:00:00",
          "2018-01-23T10:00:00",
          "2018-01-23T11:00:00",
          "2018-01-23T12:00:00",
          "2018-01-23T13:00:00",
          "2018-01-23T14:00:00",
          "2018-01-23T15:00:00",
          "2018-01-23T16:00:00",
          "2018-01-23T17:00:00",
          "2018-01-23T18:00:00",
          "2018-01-23T19:00:00",
          "2018-01-23T20:00:00",
          "2018-01-23T21:00:00",
          "2018-01-23T22:00:00",
          "2018-01-23T23:00:00",
          "2018-01-24T00:00:00",
          "2018-01-24T01:00:00",
          "2018-01-24T02:00:00",
          "2018-01-24T03:00:00",
          "2018-01-24T04:00:00",
          "2018-01-24T05:00:00",
          "2018-01-24T06:00:00",
          "2018-01-24T07:00:00",
          "2018-01-24T08:00:00",
          "2018-01-24T09:00:00",
          "2018-01-24T10:00:00",
          "2018-01-24T11:00:00",
          "2018-01-24T12:00:00",
          "2018-01-24T13:00:00",
          "2018-01-24T14:00:00",
          "2018-01-24T15:00:00",
          "2018-01-24T16:00:00",
          "2018-01-24T17:00:00",
          "2018-01-24T18:00:00",
          "2018-01-24T19:00:00",
          "2018-01-24T20:00:00",
          "2018-01-24T21:00:00",
          "2018-01-24T22:00:00",
          "2018-01-24T23:00:00",
          "2018-01-25T00:00:00",
          "2018-01-25T01:00:00",
          "2018-01-25T02:00:00",
          "2018-01-25T03:00:00",
          "2018-01-25T04:00:00",
          "2018-01-25T05:00:00",
          "2018-01-25T06:00:00",
          "2018-01-25T07:00:00",
          "2018-01-25T08:00:00",
          "2018-01-25T09:00:00",
          "2018-01-25T10:00:00",
          "2018-01-25T11:00:00",
          "2018-01-25T12:00:00",
          "2018-01-25T13:00:00",
          "2018-01-25T14:00:00",
          "2018-01-25T15:00:00",
          "2018-01-25T16:00:00",
          "2018-01-25T17:00:00",
          "2018-01-25T18:00:00",
          "2018-01-25T19:00:00",
          "2018-01-25T20:00:00",
          "2018-01-25T21:00:00",
          "2018-01-25T22:00:00",
          "2018-01-25T23:00:00"
         ],
         "xaxis": "x",
         "y": [
          54.99952848687131,
          54.99952321786436,
          54.99951767184447,
          54.917658609043535,
          54.99950798278213,
          54.999486128556214,
          54.99989956630358,
          53.13569836342501,
          52.91713285950852,
          54.999874166445906,
          54.999865294429036,
          54.99985407205157,
          54.99984018399523,
          54.99982235378026,
          54.99980121797852,
          54.999775937411705,
          54.99974644478672,
          54.99968145461665,
          54.99963443749864,
          54.99983789399122,
          54.99983212237551,
          54.99982438115293,
          54.99981769819955,
          54.99981078624272,
          54.99980366766382,
          54.055586633114395,
          51.965824902049974,
          51.83680278146653,
          52.40513037619045,
          55.000219900657356,
          55.00020774255442,
          55.00020896527996,
          55.0001999367452,
          55.00019100352327,
          55.00018159436065,
          55.00017203246033,
          55.00015814639344,
          55.0001464230279,
          55.00015221213939,
          55.00013860683955,
          55.00012407182143,
          55.00010907137965,
          55.000093910404864,
          55.000088574900005,
          55.00007050157216,
          55.00005205026351,
          55.00003216413,
          50.91750541448153,
          52.89222535886637,
          50.554791693645846,
          48.13849116271181,
          47.966670528535786,
          47.78935663001987,
          51.88118499400209,
          53.62636582737651,
          53.3595430209221,
          53.11232016271269,
          52.85424866052329,
          52.59617715833397,
          52.33810565614457,
          52.06182199055436,
          51.77697352617541,
          51.492125061796386,
          51.20727659741744,
          47.60535824778425,
          47.19654897162451,
          46.837189049410654,
          46.45997140127444,
          46.014613068827494,
          45.54658161502442,
          45.07855016122134,
          47.8314345793829
         ],
         "yaxis": "y2"
        },
        {
         "marker": {
          "color": "rgb(244,165,130)"
         },
         "name": "G3 production",
         "type": "scatter",
         "x": [
          "2018-01-23T00:00:00",
          "2018-01-23T01:00:00",
          "2018-01-23T02:00:00",
          "2018-01-23T03:00:00",
          "2018-01-23T04:00:00",
          "2018-01-23T05:00:00",
          "2018-01-23T06:00:00",
          "2018-01-23T07:00:00",
          "2018-01-23T08:00:00",
          "2018-01-23T09:00:00",
          "2018-01-23T10:00:00",
          "2018-01-23T11:00:00",
          "2018-01-23T12:00:00",
          "2018-01-23T13:00:00",
          "2018-01-23T14:00:00",
          "2018-01-23T15:00:00",
          "2018-01-23T16:00:00",
          "2018-01-23T17:00:00",
          "2018-01-23T18:00:00",
          "2018-01-23T19:00:00",
          "2018-01-23T20:00:00",
          "2018-01-23T21:00:00",
          "2018-01-23T22:00:00",
          "2018-01-23T23:00:00",
          "2018-01-24T00:00:00",
          "2018-01-24T01:00:00",
          "2018-01-24T02:00:00",
          "2018-01-24T03:00:00",
          "2018-01-24T04:00:00",
          "2018-01-24T05:00:00",
          "2018-01-24T06:00:00",
          "2018-01-24T07:00:00",
          "2018-01-24T08:00:00",
          "2018-01-24T09:00:00",
          "2018-01-24T10:00:00",
          "2018-01-24T11:00:00",
          "2018-01-24T12:00:00",
          "2018-01-24T13:00:00",
          "2018-01-24T14:00:00",
          "2018-01-24T15:00:00",
          "2018-01-24T16:00:00",
          "2018-01-24T17:00:00",
          "2018-01-24T18:00:00",
          "2018-01-24T19:00:00",
          "2018-01-24T20:00:00",
          "2018-01-24T21:00:00",
          "2018-01-24T22:00:00",
          "2018-01-24T23:00:00",
          "2018-01-25T00:00:00",
          "2018-01-25T01:00:00",
          "2018-01-25T02:00:00",
          "2018-01-25T03:00:00",
          "2018-01-25T04:00:00",
          "2018-01-25T05:00:00",
          "2018-01-25T06:00:00",
          "2018-01-25T07:00:00",
          "2018-01-25T08:00:00",
          "2018-01-25T09:00:00",
          "2018-01-25T10:00:00",
          "2018-01-25T11:00:00",
          "2018-01-25T12:00:00",
          "2018-01-25T13:00:00",
          "2018-01-25T14:00:00",
          "2018-01-25T15:00:00",
          "2018-01-25T16:00:00",
          "2018-01-25T17:00:00",
          "2018-01-25T18:00:00",
          "2018-01-25T19:00:00",
          "2018-01-25T20:00:00",
          "2018-01-25T21:00:00",
          "2018-01-25T22:00:00",
          "2018-01-25T23:00:00"
         ],
         "xaxis": "x",
         "y": [
          0,
          0,
          0,
          0,
          0,
          0,
          54.99989956630358,
          53.13569836342501,
          52.91713285950852,
          54.999874166445906,
          54.999865294429036,
          54.99985407205157,
          54.99984018399523,
          54.99982235378026,
          54.99980121797852,
          54.999775937411705,
          54.99974644478672,
          54.99968145461665,
          54.99963443749864,
          0,
          0,
          0,
          0,
          0,
          0,
          0,
          0,
          0,
          0,
          0,
          0,
          0,
          0,
          0,
          0,
          0,
          0,
          0,
          0,
          0,
          0,
          0,
          0,
          0,
          0,
          0,
          0,
          0,
          0,
          0,
          0,
          0,
          0,
          0,
          0,
          0,
          0,
          0,
          0,
          0,
          0,
          0,
          0,
          0,
          47.60535824778425,
          47.19654897162451,
          46.837189049410654,
          46.45997140127444,
          46.014613068827494,
          45.54658161502442,
          45.07855016122134,
          0
         ],
         "yaxis": "y2"
        },
        {
         "marker": {
          "color": "rgb(214,96,77)"
         },
         "name": "G4 production",
         "type": "scatter",
         "x": [
          "2018-01-23T00:00:00",
          "2018-01-23T01:00:00",
          "2018-01-23T02:00:00",
          "2018-01-23T03:00:00",
          "2018-01-23T04:00:00",
          "2018-01-23T05:00:00",
          "2018-01-23T06:00:00",
          "2018-01-23T07:00:00",
          "2018-01-23T08:00:00",
          "2018-01-23T09:00:00",
          "2018-01-23T10:00:00",
          "2018-01-23T11:00:00",
          "2018-01-23T12:00:00",
          "2018-01-23T13:00:00",
          "2018-01-23T14:00:00",
          "2018-01-23T15:00:00",
          "2018-01-23T16:00:00",
          "2018-01-23T17:00:00",
          "2018-01-23T18:00:00",
          "2018-01-23T19:00:00",
          "2018-01-23T20:00:00",
          "2018-01-23T21:00:00",
          "2018-01-23T22:00:00",
          "2018-01-23T23:00:00",
          "2018-01-24T00:00:00",
          "2018-01-24T01:00:00",
          "2018-01-24T02:00:00",
          "2018-01-24T03:00:00",
          "2018-01-24T04:00:00",
          "2018-01-24T05:00:00",
          "2018-01-24T06:00:00",
          "2018-01-24T07:00:00",
          "2018-01-24T08:00:00",
          "2018-01-24T09:00:00",
          "2018-01-24T10:00:00",
          "2018-01-24T11:00:00",
          "2018-01-24T12:00:00",
          "2018-01-24T13:00:00",
          "2018-01-24T14:00:00",
          "2018-01-24T15:00:00",
          "2018-01-24T16:00:00",
          "2018-01-24T17:00:00",
          "2018-01-24T18:00:00",
          "2018-01-24T19:00:00",
          "2018-01-24T20:00:00",
          "2018-01-24T21:00:00",
          "2018-01-24T22:00:00",
          "2018-01-24T23:00:00",
          "2018-01-25T00:00:00",
          "2018-01-25T01:00:00",
          "2018-01-25T02:00:00",
          "2018-01-25T03:00:00",
          "2018-01-25T04:00:00",
          "2018-01-25T05:00:00",
          "2018-01-25T06:00:00",
          "2018-01-25T07:00:00",
          "2018-01-25T08:00:00",
          "2018-01-25T09:00:00",
          "2018-01-25T10:00:00",
          "2018-01-25T11:00:00",
          "2018-01-25T12:00:00",
          "2018-01-25T13:00:00",
          "2018-01-25T14:00:00",
          "2018-01-25T15:00:00",
          "2018-01-25T16:00:00",
          "2018-01-25T17:00:00",
          "2018-01-25T18:00:00",
          "2018-01-25T19:00:00",
          "2018-01-25T20:00:00",
          "2018-01-25T21:00:00",
          "2018-01-25T22:00:00",
          "2018-01-25T23:00:00"
         ],
         "xaxis": "x",
         "y": [
          0,
          0,
          0,
          0,
          0,
          0,
          0,
          53.13569836342501,
          52.91713285950852,
          0,
          0,
          0,
          0,
          0,
          0,
          0,
          0,
          0,
          0,
          0,
          0,
          0,
          0,
          0,
          0,
          0,
          0,
          0,
          0,
          0,
          0,
          0,
          0,
          0,
          0,
          0,
          0,
          0,
          0,
          0,
          0,
          0,
          0,
          0,
          0,
          0,
          0,
          0,
          0,
          0,
          0,
          0,
          0,
          0,
          0,
          0,
          0,
          0,
          0,
          0,
          0,
          0,
          0,
          0,
          0,
          0,
          0,
          0,
          0,
          0,
          0,
          0
         ],
         "yaxis": "y2"
        }
       ],
       "layout": {
        "autosize": true,
        "barmode": "stack",
        "template": {
         "data": {
          "bar": [
           {
            "error_x": {
             "color": "#2a3f5f"
            },
            "error_y": {
             "color": "#2a3f5f"
            },
            "marker": {
             "line": {
              "color": "#E5ECF6",
              "width": 0.5
             },
             "pattern": {
              "fillmode": "overlay",
              "size": 10,
              "solidity": 0.2
             }
            },
            "type": "bar"
           }
          ],
          "barpolar": [
           {
            "marker": {
             "line": {
              "color": "#E5ECF6",
              "width": 0.5
             },
             "pattern": {
              "fillmode": "overlay",
              "size": 10,
              "solidity": 0.2
             }
            },
            "type": "barpolar"
           }
          ],
          "carpet": [
           {
            "aaxis": {
             "endlinecolor": "#2a3f5f",
             "gridcolor": "white",
             "linecolor": "white",
             "minorgridcolor": "white",
             "startlinecolor": "#2a3f5f"
            },
            "baxis": {
             "endlinecolor": "#2a3f5f",
             "gridcolor": "white",
             "linecolor": "white",
             "minorgridcolor": "white",
             "startlinecolor": "#2a3f5f"
            },
            "type": "carpet"
           }
          ],
          "choropleth": [
           {
            "colorbar": {
             "outlinewidth": 0,
             "ticks": ""
            },
            "type": "choropleth"
           }
          ],
          "contour": [
           {
            "colorbar": {
             "outlinewidth": 0,
             "ticks": ""
            },
            "colorscale": [
             [
              0,
              "#0d0887"
             ],
             [
              0.1111111111111111,
              "#46039f"
             ],
             [
              0.2222222222222222,
              "#7201a8"
             ],
             [
              0.3333333333333333,
              "#9c179e"
             ],
             [
              0.4444444444444444,
              "#bd3786"
             ],
             [
              0.5555555555555556,
              "#d8576b"
             ],
             [
              0.6666666666666666,
              "#ed7953"
             ],
             [
              0.7777777777777778,
              "#fb9f3a"
             ],
             [
              0.8888888888888888,
              "#fdca26"
             ],
             [
              1,
              "#f0f921"
             ]
            ],
            "type": "contour"
           }
          ],
          "contourcarpet": [
           {
            "colorbar": {
             "outlinewidth": 0,
             "ticks": ""
            },
            "type": "contourcarpet"
           }
          ],
          "heatmap": [
           {
            "colorbar": {
             "outlinewidth": 0,
             "ticks": ""
            },
            "colorscale": [
             [
              0,
              "#0d0887"
             ],
             [
              0.1111111111111111,
              "#46039f"
             ],
             [
              0.2222222222222222,
              "#7201a8"
             ],
             [
              0.3333333333333333,
              "#9c179e"
             ],
             [
              0.4444444444444444,
              "#bd3786"
             ],
             [
              0.5555555555555556,
              "#d8576b"
             ],
             [
              0.6666666666666666,
              "#ed7953"
             ],
             [
              0.7777777777777778,
              "#fb9f3a"
             ],
             [
              0.8888888888888888,
              "#fdca26"
             ],
             [
              1,
              "#f0f921"
             ]
            ],
            "type": "heatmap"
           }
          ],
          "heatmapgl": [
           {
            "colorbar": {
             "outlinewidth": 0,
             "ticks": ""
            },
            "colorscale": [
             [
              0,
              "#0d0887"
             ],
             [
              0.1111111111111111,
              "#46039f"
             ],
             [
              0.2222222222222222,
              "#7201a8"
             ],
             [
              0.3333333333333333,
              "#9c179e"
             ],
             [
              0.4444444444444444,
              "#bd3786"
             ],
             [
              0.5555555555555556,
              "#d8576b"
             ],
             [
              0.6666666666666666,
              "#ed7953"
             ],
             [
              0.7777777777777778,
              "#fb9f3a"
             ],
             [
              0.8888888888888888,
              "#fdca26"
             ],
             [
              1,
              "#f0f921"
             ]
            ],
            "type": "heatmapgl"
           }
          ],
          "histogram": [
           {
            "marker": {
             "pattern": {
              "fillmode": "overlay",
              "size": 10,
              "solidity": 0.2
             }
            },
            "type": "histogram"
           }
          ],
          "histogram2d": [
           {
            "colorbar": {
             "outlinewidth": 0,
             "ticks": ""
            },
            "colorscale": [
             [
              0,
              "#0d0887"
             ],
             [
              0.1111111111111111,
              "#46039f"
             ],
             [
              0.2222222222222222,
              "#7201a8"
             ],
             [
              0.3333333333333333,
              "#9c179e"
             ],
             [
              0.4444444444444444,
              "#bd3786"
             ],
             [
              0.5555555555555556,
              "#d8576b"
             ],
             [
              0.6666666666666666,
              "#ed7953"
             ],
             [
              0.7777777777777778,
              "#fb9f3a"
             ],
             [
              0.8888888888888888,
              "#fdca26"
             ],
             [
              1,
              "#f0f921"
             ]
            ],
            "type": "histogram2d"
           }
          ],
          "histogram2dcontour": [
           {
            "colorbar": {
             "outlinewidth": 0,
             "ticks": ""
            },
            "colorscale": [
             [
              0,
              "#0d0887"
             ],
             [
              0.1111111111111111,
              "#46039f"
             ],
             [
              0.2222222222222222,
              "#7201a8"
             ],
             [
              0.3333333333333333,
              "#9c179e"
             ],
             [
              0.4444444444444444,
              "#bd3786"
             ],
             [
              0.5555555555555556,
              "#d8576b"
             ],
             [
              0.6666666666666666,
              "#ed7953"
             ],
             [
              0.7777777777777778,
              "#fb9f3a"
             ],
             [
              0.8888888888888888,
              "#fdca26"
             ],
             [
              1,
              "#f0f921"
             ]
            ],
            "type": "histogram2dcontour"
           }
          ],
          "mesh3d": [
           {
            "colorbar": {
             "outlinewidth": 0,
             "ticks": ""
            },
            "type": "mesh3d"
           }
          ],
          "parcoords": [
           {
            "line": {
             "colorbar": {
              "outlinewidth": 0,
              "ticks": ""
             }
            },
            "type": "parcoords"
           }
          ],
          "pie": [
           {
            "automargin": true,
            "type": "pie"
           }
          ],
          "scatter": [
           {
            "marker": {
             "colorbar": {
              "outlinewidth": 0,
              "ticks": ""
             }
            },
            "type": "scatter"
           }
          ],
          "scatter3d": [
           {
            "line": {
             "colorbar": {
              "outlinewidth": 0,
              "ticks": ""
             }
            },
            "marker": {
             "colorbar": {
              "outlinewidth": 0,
              "ticks": ""
             }
            },
            "type": "scatter3d"
           }
          ],
          "scattercarpet": [
           {
            "marker": {
             "colorbar": {
              "outlinewidth": 0,
              "ticks": ""
             }
            },
            "type": "scattercarpet"
           }
          ],
          "scattergeo": [
           {
            "marker": {
             "colorbar": {
              "outlinewidth": 0,
              "ticks": ""
             }
            },
            "type": "scattergeo"
           }
          ],
          "scattergl": [
           {
            "marker": {
             "colorbar": {
              "outlinewidth": 0,
              "ticks": ""
             }
            },
            "type": "scattergl"
           }
          ],
          "scattermapbox": [
           {
            "marker": {
             "colorbar": {
              "outlinewidth": 0,
              "ticks": ""
             }
            },
            "type": "scattermapbox"
           }
          ],
          "scatterpolar": [
           {
            "marker": {
             "colorbar": {
              "outlinewidth": 0,
              "ticks": ""
             }
            },
            "type": "scatterpolar"
           }
          ],
          "scatterpolargl": [
           {
            "marker": {
             "colorbar": {
              "outlinewidth": 0,
              "ticks": ""
             }
            },
            "type": "scatterpolargl"
           }
          ],
          "scatterternary": [
           {
            "marker": {
             "colorbar": {
              "outlinewidth": 0,
              "ticks": ""
             }
            },
            "type": "scatterternary"
           }
          ],
          "surface": [
           {
            "colorbar": {
             "outlinewidth": 0,
             "ticks": ""
            },
            "colorscale": [
             [
              0,
              "#0d0887"
             ],
             [
              0.1111111111111111,
              "#46039f"
             ],
             [
              0.2222222222222222,
              "#7201a8"
             ],
             [
              0.3333333333333333,
              "#9c179e"
             ],
             [
              0.4444444444444444,
              "#bd3786"
             ],
             [
              0.5555555555555556,
              "#d8576b"
             ],
             [
              0.6666666666666666,
              "#ed7953"
             ],
             [
              0.7777777777777778,
              "#fb9f3a"
             ],
             [
              0.8888888888888888,
              "#fdca26"
             ],
             [
              1,
              "#f0f921"
             ]
            ],
            "type": "surface"
           }
          ],
          "table": [
           {
            "cells": {
             "fill": {
              "color": "#EBF0F8"
             },
             "line": {
              "color": "white"
             }
            },
            "header": {
             "fill": {
              "color": "#C8D4E3"
             },
             "line": {
              "color": "white"
             }
            },
            "type": "table"
           }
          ]
         },
         "layout": {
          "annotationdefaults": {
           "arrowcolor": "#2a3f5f",
           "arrowhead": 0,
           "arrowwidth": 1
          },
          "autotypenumbers": "strict",
          "coloraxis": {
           "colorbar": {
            "outlinewidth": 0,
            "ticks": ""
           }
          },
          "colorscale": {
           "diverging": [
            [
             0,
             "#8e0152"
            ],
            [
             0.1,
             "#c51b7d"
            ],
            [
             0.2,
             "#de77ae"
            ],
            [
             0.3,
             "#f1b6da"
            ],
            [
             0.4,
             "#fde0ef"
            ],
            [
             0.5,
             "#f7f7f7"
            ],
            [
             0.6,
             "#e6f5d0"
            ],
            [
             0.7,
             "#b8e186"
            ],
            [
             0.8,
             "#7fbc41"
            ],
            [
             0.9,
             "#4d9221"
            ],
            [
             1,
             "#276419"
            ]
           ],
           "sequential": [
            [
             0,
             "#0d0887"
            ],
            [
             0.1111111111111111,
             "#46039f"
            ],
            [
             0.2222222222222222,
             "#7201a8"
            ],
            [
             0.3333333333333333,
             "#9c179e"
            ],
            [
             0.4444444444444444,
             "#bd3786"
            ],
            [
             0.5555555555555556,
             "#d8576b"
            ],
            [
             0.6666666666666666,
             "#ed7953"
            ],
            [
             0.7777777777777778,
             "#fb9f3a"
            ],
            [
             0.8888888888888888,
             "#fdca26"
            ],
            [
             1,
             "#f0f921"
            ]
           ],
           "sequentialminus": [
            [
             0,
             "#0d0887"
            ],
            [
             0.1111111111111111,
             "#46039f"
            ],
            [
             0.2222222222222222,
             "#7201a8"
            ],
            [
             0.3333333333333333,
             "#9c179e"
            ],
            [
             0.4444444444444444,
             "#bd3786"
            ],
            [
             0.5555555555555556,
             "#d8576b"
            ],
            [
             0.6666666666666666,
             "#ed7953"
            ],
            [
             0.7777777777777778,
             "#fb9f3a"
            ],
            [
             0.8888888888888888,
             "#fdca26"
            ],
            [
             1,
             "#f0f921"
            ]
           ]
          },
          "colorway": [
           "#636efa",
           "#EF553B",
           "#00cc96",
           "#ab63fa",
           "#FFA15A",
           "#19d3f3",
           "#FF6692",
           "#B6E880",
           "#FF97FF",
           "#FECB52"
          ],
          "font": {
           "color": "#2a3f5f"
          },
          "geo": {
           "bgcolor": "white",
           "lakecolor": "white",
           "landcolor": "#E5ECF6",
           "showlakes": true,
           "showland": true,
           "subunitcolor": "white"
          },
          "hoverlabel": {
           "align": "left"
          },
          "hovermode": "closest",
          "mapbox": {
           "style": "light"
          },
          "paper_bgcolor": "white",
          "plot_bgcolor": "#E5ECF6",
          "polar": {
           "angularaxis": {
            "gridcolor": "white",
            "linecolor": "white",
            "ticks": ""
           },
           "bgcolor": "#E5ECF6",
           "radialaxis": {
            "gridcolor": "white",
            "linecolor": "white",
            "ticks": ""
           }
          },
          "scene": {
           "xaxis": {
            "backgroundcolor": "#E5ECF6",
            "gridcolor": "white",
            "gridwidth": 2,
            "linecolor": "white",
            "showbackground": true,
            "ticks": "",
            "zerolinecolor": "white"
           },
           "yaxis": {
            "backgroundcolor": "#E5ECF6",
            "gridcolor": "white",
            "gridwidth": 2,
            "linecolor": "white",
            "showbackground": true,
            "ticks": "",
            "zerolinecolor": "white"
           },
           "zaxis": {
            "backgroundcolor": "#E5ECF6",
            "gridcolor": "white",
            "gridwidth": 2,
            "linecolor": "white",
            "showbackground": true,
            "ticks": "",
            "zerolinecolor": "white"
           }
          },
          "shapedefaults": {
           "line": {
            "color": "#2a3f5f"
           }
          },
          "ternary": {
           "aaxis": {
            "gridcolor": "white",
            "linecolor": "white",
            "ticks": ""
           },
           "baxis": {
            "gridcolor": "white",
            "linecolor": "white",
            "ticks": ""
           },
           "bgcolor": "#E5ECF6",
           "caxis": {
            "gridcolor": "white",
            "linecolor": "white",
            "ticks": ""
           }
          },
          "title": {
           "x": 0.05
          },
          "xaxis": {
           "automargin": true,
           "gridcolor": "white",
           "linecolor": "white",
           "ticks": "",
           "title": {
            "standoff": 15
           },
           "zerolinecolor": "white",
           "zerolinewidth": 2
          },
          "yaxis": {
           "automargin": true,
           "gridcolor": "white",
           "linecolor": "white",
           "ticks": "",
           "title": {
            "standoff": 15
           },
           "zerolinecolor": "white",
           "zerolinewidth": 2
          }
         }
        },
        "title": {
         "text": "<b>Unit discharge and production in Plant2</b>"
        },
        "xaxis": {
         "anchor": "y",
         "autorange": true,
         "domain": [
          0,
          0.94
         ],
         "range": [
          "2018-01-22 23:30",
          "2018-01-25 23:30"
         ],
         "title": {
          "text": "<b>Time</b> (Hour)"
         },
         "type": "date"
        },
        "yaxis": {
         "anchor": "x",
         "domain": [
          0,
          1
         ],
         "dtick": 60,
         "range": [
          0,
          540
         ],
         "tick0": 60,
         "title": {
          "text": "<b>Discharge</b> (m<sup>3</sup>/s)"
         },
         "type": "linear"
        },
        "yaxis2": {
         "anchor": "x",
         "dtick": 40,
         "overlaying": "y",
         "range": [
          0,
          360
         ],
         "side": "right",
         "tick0": 40,
         "title": {
          "text": "<b>Production</b> (MW)"
         },
         "type": "linear"
        }
       }
      },
      "image/png": "[encoded data removed]",
      "text/html": [
       "<div>                            <div id=\"eedf8ffa-0423-42e5-a9df-c15c950b95cf\" class=\"plotly-graph-div\" style=\"height:525px; width:100%;\"></div>            <script type=\"text/javascript\">                require([\"plotly\"], function(Plotly) {                    window.PLOTLYENV=window.PLOTLYENV || {};                                    if (document.getElementById(\"eedf8ffa-0423-42e5-a9df-c15c950b95cf\")) {                    Plotly.newPlot(                        \"eedf8ffa-0423-42e5-a9df-c15c950b95cf\",                        [{\"marker\":{\"color\":\"rgb(33,102,172)\"},\"name\":\"G1 Discharge\",\"type\":\"bar\",\"x\":[\"2018-01-23T00:00:00\",\"2018-01-23T01:00:00\",\"2018-01-23T02:00:00\",\"2018-01-23T03:00:00\",\"2018-01-23T04:00:00\",\"2018-01-23T05:00:00\",\"2018-01-23T06:00:00\",\"2018-01-23T07:00:00\",\"2018-01-23T08:00:00\",\"2018-01-23T09:00:00\",\"2018-01-23T10:00:00\",\"2018-01-23T11:00:00\",\"2018-01-23T12:00:00\",\"2018-01-23T13:00:00\",\"2018-01-23T14:00:00\",\"2018-01-23T15:00:00\",\"2018-01-23T16:00:00\",\"2018-01-23T17:00:00\",\"2018-01-23T18:00:00\",\"2018-01-23T19:00:00\",\"2018-01-23T20:00:00\",\"2018-01-23T21:00:00\",\"2018-01-23T22:00:00\",\"2018-01-23T23:00:00\",\"2018-01-24T00:00:00\",\"2018-01-24T01:00:00\",\"2018-01-24T02:00:00\",\"2018-01-24T03:00:00\",\"2018-01-24T04:00:00\",\"2018-01-24T05:00:00\",\"2018-01-24T06:00:00\",\"2018-01-24T07:00:00\",\"2018-01-24T08:00:00\",\"2018-01-24T09:00:00\",\"2018-01-24T10:00:00\",\"2018-01-24T11:00:00\",\"2018-01-24T12:00:00\",\"2018-01-24T13:00:00\",\"2018-01-24T14:00:00\",\"2018-01-24T15:00:00\",\"2018-01-24T16:00:00\",\"2018-01-24T17:00:00\",\"2018-01-24T18:00:00\",\"2018-01-24T19:00:00\",\"2018-01-24T20:00:00\",\"2018-01-24T21:00:00\",\"2018-01-24T22:00:00\",\"2018-01-24T23:00:00\",\"2018-01-25T00:00:00\",\"2018-01-25T01:00:00\",\"2018-01-25T02:00:00\",\"2018-01-25T03:00:00\",\"2018-01-25T04:00:00\",\"2018-01-25T05:00:00\",\"2018-01-25T06:00:00\",\"2018-01-25T07:00:00\",\"2018-01-25T08:00:00\",\"2018-01-25T09:00:00\",\"2018-01-25T10:00:00\",\"2018-01-25T11:00:00\",\"2018-01-25T12:00:00\",\"2018-01-25T13:00:00\",\"2018-01-25T14:00:00\",\"2018-01-25T15:00:00\",\"2018-01-25T16:00:00\",\"2018-01-25T17:00:00\",\"2018-01-25T18:00:00\",\"2018-01-25T19:00:00\",\"2018-01-25T20:00:00\",\"2018-01-25T21:00:00\",\"2018-01-25T22:00:00\",\"2018-01-25T23:00:00\"],\"xaxis\":\"x\",\"y\":[220.95,220.95,191.81489460152576,162.76786629670656,191.91261076108532,230.76082045930576,250.83916559116946,251.60760085416442,252.82092535044728,254.11228580951635,255.04036018074342,255.9833843808695,256.9456343702176,257.9391765225254,258.9787380280532,260.03688837619103,261.114246956083,262.21146434983336,263.3293584030962,249.55965693218786,235.54666666666665,220.95,220.95,220.95,194.22015074319046,194.34883294293982,168.01732224217835,168.25114069766167,194.47348204765785,194.854686920444,220.95,250.1433333333333,250.1433333333333,250.1433333333333,235.54666666666665,235.54666666666665,235.54666666666665,235.54666666666665,235.54666666666665,235.54666666666665,235.54666666666665,235.54666666666665,235.54666666666665,235.54666666666665,220.95,220.95,220.95,197.63462853580634,197.84034420394718,198.05166262709042,175.57330268961798,175.94584335882263,176.33346465107053,198.84230484550508,220.95,250.1433333333333,250.1433333333333,250.1433333333333,250.1433333333333,250.1433333333333,250.1433333333333,250.1433333333333,250.14333333333335,250.1433333333333,264.73999999999995,264.73999999999995,264.73999999999984,264.73999999999995,264.73999999999995,264.74000000000007,257.353308813225,250.1433333333333],\"yaxis\":\"y\"},{\"marker\":{\"color\":\"rgb(67,147,195)\"},\"name\":\"G2 Discharge\",\"type\":\"bar\",\"x\":[\"2018-01-23T00:00:00\",\"2018-01-23T01:00:00\",\"2018-01-23T02:00:00\",\"2018-01-23T03:00:00\",\"2018-01-23T04:00:00\",\"2018-01-23T05:00:00\",\"2018-01-23T06:00:00\",\"2018-01-23T07:00:00\",\"2018-01-23T08:00:00\",\"2018-01-23T09:00:00\",\"2018-01-23T10:00:00\",\"2018-01-23T11:00:00\",\"2018-01-23T12:00:00\",\"2018-01-23T13:00:00\",\"2018-01-23T14:00:00\",\"2018-01-23T15:00:00\",\"2018-01-23T16:00:00\",\"2018-01-23T17:00:00\",\"2018-01-23T18:00:00\",\"2018-01-23T19:00:00\",\"2018-01-23T20:00:00\",\"2018-01-23T21:00:00\",\"2018-01-23T22:00:00\",\"2018-01-23T23:00:00\",\"2018-01-24T00:00:00\",\"2018-01-24T01:00:00\",\"2018-01-24T02:00:00\",\"2018-01-24T03:00:00\",\"2018-01-24T04:00:00\",\"2018-01-24T05:00:00\",\"2018-01-24T06:00:00\",\"2018-01-24T07:00:00\",\"2018-01-24T08:00:00\",\"2018-01-24T09:00:00\",\"2018-01-24T10:00:00\",\"2018-01-24T11:00:00\",\"2018-01-24T12:00:00\",\"2018-01-24T13:00:00\",\"2018-01-24T14:00:00\",\"2018-01-24T15:00:00\",\"2018-01-24T16:00:00\",\"2018-01-24T17:00:00\",\"2018-01-24T18:00:00\",\"2018-01-24T19:00:00\",\"2018-01-24T20:00:00\",\"2018-01-24T21:00:00\",\"2018-01-24T22:00:00\",\"2018-01-24T23:00:00\",\"2018-01-25T00:00:00\",\"2018-01-25T01:00:00\",\"2018-01-25T02:00:00\",\"2018-01-25T03:00:00\",\"2018-01-25T04:00:00\",\"2018-01-25T05:00:00\",\"2018-01-25T06:00:00\",\"2018-01-25T07:00:00\",\"2018-01-25T08:00:00\",\"2018-01-25T09:00:00\",\"2018-01-25T10:00:00\",\"2018-01-25T11:00:00\",\"2018-01-25T12:00:00\",\"2018-01-25T13:00:00\",\"2018-01-25T14:00:00\",\"2018-01-25T15:00:00\",\"2018-01-25T16:00:00\",\"2018-01-25T17:00:00\",\"2018-01-25T18:00:00\",\"2018-01-25T19:00:00\",\"2018-01-25T20:00:00\",\"2018-01-25T21:00:00\",\"2018-01-25T22:00:00\",\"2018-01-25T23:00:00\"],\"xaxis\":\"x\",\"y\":[74.3040437611387,74.39641136973495,74.49267460048854,74.456959017969,74.65985368401812,74.73828623239127,78.52054073437895,85.4,85.4,79.46154310417882,79.72437664580721,79.99101774622204,80.26156657352514,80.54146765498729,80.83380066735204,81.13079394891513,81.43258403982237,81.75436524807472,82.08215590557035,77.82116867240185,77.98985022371544,78.14888728030937,78.34760150589373,78.55026503157002,78.75425564895342,77.54599753536529,74.66,74.66,75.70468710196711,79.91257148077376,80.16815694607527,80.39641521423337,80.6064820751319,80.81797837638003,81.03091985528681,81.2266813715186,81.48864435083681,81.7623037886741,82.05934335292176,82.36776054358657,82.67913327529807,82.9935111025213,83.31094449716284,83.64344420367604,83.99000442984563,84.31557753068061,84.7321535335711,78.15823951054489,81.82,78.24,74.66,74.66,74.66,81.82,85.4,85.4,85.4,85.4,85.4,85.4,85.4,85.4,85.4,85.4,85.4,85.4,85.4,85.4,85.4,85.4,85.4,85.4],\"yaxis\":\"y\"},{\"marker\":{\"color\":\"rgb(146,197,222)\"},\"name\":\"G3 Discharge\",\"type\":\"bar\",\"x\":[\"2018-01-23T00:00:00\",\"2018-01-23T01:00:00\",\"2018-01-23T02:00:00\",\"2018-01-23T03:00:00\",\"2018-01-23T04:00:00\",\"2018-01-23T05:00:00\",\"2018-01-23T06:00:00\",\"2018-01-23T07:00:00\",\"2018-01-23T08:00:00\",\"2018-01-23T09:00:00\",\"2018-01-23T10:00:00\",\"2018-01-23T11:00:00\",\"2018-01-23T12:00:00\",\"2018-01-23T13:00:00\",\"2018-01-23T14:00:00\",\"2018-01-23T15:00:00\",\"2018-01-23T16:00:00\",\"2018-01-23T17:00:00\",\"2018-01-23T18:00:00\",\"2018-01-23T19:00:00\",\"2018-01-23T20:00:00\",\"2018-01-23T21:00:00\",\"2018-01-23T22:00:00\",\"2018-01-23T23:00:00\",\"2018-01-24T00:00:00\",\"2018-01-24T01:00:00\",\"2018-01-24T02:00:00\",\"2018-01-24T03:00:00\",\"2018-01-24T04:00:00\",\"2018-01-24T05:00:00\",\"2018-01-24T06:00:00\",\"2018-01-24T07:00:00\",\"2018-01-24T08:00:00\",\"2018-01-24T09:00:00\",\"2018-01-24T10:00:00\",\"2018-01-24T11:00:00\",\"2018-01-24T12:00:00\",\"2018-01-24T13:00:00\",\"2018-01-24T14:00:00\",\"2018-01-24T15:00:00\",\"2018-01-24T16:00:00\",\"2018-01-24T17:00:00\",\"2018-01-24T18:00:00\",\"2018-01-24T19:00:00\",\"2018-01-24T20:00:00\",\"2018-01-24T21:00:00\",\"2018-01-24T22:00:00\",\"2018-01-24T23:00:00\",\"2018-01-25T00:00:00\",\"2018-01-25T01:00:00\",\"2018-01-25T02:00:00\",\"2018-01-25T03:00:00\",\"2018-01-25T04:00:00\",\"2018-01-25T05:00:00\",\"2018-01-25T06:00:00\",\"2018-01-25T07:00:00\",\"2018-01-25T08:00:00\",\"2018-01-25T09:00:00\",\"2018-01-25T10:00:00\",\"2018-01-25T11:00:00\",\"2018-01-25T12:00:00\",\"2018-01-25T13:00:00\",\"2018-01-25T14:00:00\",\"2018-01-25T15:00:00\",\"2018-01-25T16:00:00\",\"2018-01-25T17:00:00\",\"2018-01-25T18:00:00\",\"2018-01-25T19:00:00\",\"2018-01-25T20:00:00\",\"2018-01-25T21:00:00\",\"2018-01-25T22:00:00\",\"2018-01-25T23:00:00\"],\"xaxis\":\"x\",\"y\":[0.0,0.0,0.0,0.0,0.0,0.0,78.52054073437895,85.4,85.4,79.46154310417882,79.72437664580721,79.99101774622204,80.26156657352514,80.54146765498729,80.83380066735204,81.13079394891513,81.43258403982237,81.75436524807472,82.08215590557035,0.0,0.0,0.0,0.0,0.0,0.0,0.0,0.0,0.0,0.0,0.0,0.0,0.0,0.0,0.0,0.0,0.0,0.0,0.0,0.0,0.0,0.0,0.0,0.0,0.0,0.0,0.0,0.0,0.0,0.0,0.0,0.0,0.0,0.0,0.0,0.0,0.0,0.0,0.0,0.0,0.0,0.0,0.0,0.0,0.0,85.4,85.4,85.4,85.4,85.4,85.4,85.4,0.0],\"yaxis\":\"y\"},{\"marker\":{\"color\":\"rgb(209,229,240)\"},\"name\":\"G4 Discharge\",\"type\":\"bar\",\"x\":[\"2018-01-23T00:00:00\",\"2018-01-23T01:00:00\",\"2018-01-23T02:00:00\",\"2018-01-23T03:00:00\",\"2018-01-23T04:00:00\",\"2018-01-23T05:00:00\",\"2018-01-23T06:00:00\",\"2018-01-23T07:00:00\",\"2018-01-23T08:00:00\",\"2018-01-23T09:00:00\",\"2018-01-23T10:00:00\",\"2018-01-23T11:00:00\",\"2018-01-23T12:00:00\",\"2018-01-23T13:00:00\",\"2018-01-23T14:00:00\",\"2018-01-23T15:00:00\",\"2018-01-23T16:00:00\",\"2018-01-23T17:00:00\",\"2018-01-23T18:00:00\",\"2018-01-23T19:00:00\",\"2018-01-23T20:00:00\",\"2018-01-23T21:00:00\",\"2018-01-23T22:00:00\",\"2018-01-23T23:00:00\",\"2018-01-24T00:00:00\",\"2018-01-24T01:00:00\",\"2018-01-24T02:00:00\",\"2018-01-24T03:00:00\",\"2018-01-24T04:00:00\",\"2018-01-24T05:00:00\",\"2018-01-24T06:00:00\",\"2018-01-24T07:00:00\",\"2018-01-24T08:00:00\",\"2018-01-24T09:00:00\",\"2018-01-24T10:00:00\",\"2018-01-24T11:00:00\",\"2018-01-24T12:00:00\",\"2018-01-24T13:00:00\",\"2018-01-24T14:00:00\",\"2018-01-24T15:00:00\",\"2018-01-24T16:00:00\",\"2018-01-24T17:00:00\",\"2018-01-24T18:00:00\",\"2018-01-24T19:00:00\",\"2018-01-24T20:00:00\",\"2018-01-24T21:00:00\",\"2018-01-24T22:00:00\",\"2018-01-24T23:00:00\",\"2018-01-25T00:00:00\",\"2018-01-25T01:00:00\",\"2018-01-25T02:00:00\",\"2018-01-25T03:00:00\",\"2018-01-25T04:00:00\",\"2018-01-25T05:00:00\",\"2018-01-25T06:00:00\",\"2018-01-25T07:00:00\",\"2018-01-25T08:00:00\",\"2018-01-25T09:00:00\",\"2018-01-25T10:00:00\",\"2018-01-25T11:00:00\",\"2018-01-25T12:00:00\",\"2018-01-25T13:00:00\",\"2018-01-25T14:00:00\",\"2018-01-25T15:00:00\",\"2018-01-25T16:00:00\",\"2018-01-25T17:00:00\",\"2018-01-25T18:00:00\",\"2018-01-25T19:00:00\",\"2018-01-25T20:00:00\",\"2018-01-25T21:00:00\",\"2018-01-25T22:00:00\",\"2018-01-25T23:00:00\"],\"xaxis\":\"x\",\"y\":[0.0,0.0,0.0,0.0,0.0,0.0,0.0,85.4,85.4,0.0,0.0,0.0,0.0,0.0,0.0,0.0,0.0,0.0,0.0,0.0,0.0,0.0,0.0,0.0,0.0,0.0,0.0,0.0,0.0,0.0,0.0,0.0,0.0,0.0,0.0,0.0,0.0,0.0,0.0,0.0,0.0,0.0,0.0,0.0,0.0,0.0,0.0,0.0,0.0,0.0,0.0,0.0,0.0,0.0,0.0,0.0,0.0,0.0,0.0,0.0,0.0,0.0,0.0,0.0,0.0,0.0,0.0,0.0,0.0,0.0,0.0,0.0],\"yaxis\":\"y\"},{\"marker\":{\"color\":\"rgb(247,247,247)\"},\"name\":\"G1 production\",\"type\":\"scatter\",\"x\":[\"2018-01-23T00:00:00\",\"2018-01-23T01:00:00\",\"2018-01-23T02:00:00\",\"2018-01-23T03:00:00\",\"2018-01-23T04:00:00\",\"2018-01-23T05:00:00\",\"2018-01-23T06:00:00\",\"2018-01-23T07:00:00\",\"2018-01-23T08:00:00\",\"2018-01-23T09:00:00\",\"2018-01-23T10:00:00\",\"2018-01-23T11:00:00\",\"2018-01-23T12:00:00\",\"2018-01-23T13:00:00\",\"2018-01-23T14:00:00\",\"2018-01-23T15:00:00\",\"2018-01-23T16:00:00\",\"2018-01-23T17:00:00\",\"2018-01-23T18:00:00\",\"2018-01-23T19:00:00\",\"2018-01-23T20:00:00\",\"2018-01-23T21:00:00\",\"2018-01-23T22:00:00\",\"2018-01-23T23:00:00\",\"2018-01-24T00:00:00\",\"2018-01-24T01:00:00\",\"2018-01-24T02:00:00\",\"2018-01-24T03:00:00\",\"2018-01-24T04:00:00\",\"2018-01-24T05:00:00\",\"2018-01-24T06:00:00\",\"2018-01-24T07:00:00\",\"2018-01-24T08:00:00\",\"2018-01-24T09:00:00\",\"2018-01-24T10:00:00\",\"2018-01-24T11:00:00\",\"2018-01-24T12:00:00\",\"2018-01-24T13:00:00\",\"2018-01-24T14:00:00\",\"2018-01-24T15:00:00\",\"2018-01-24T16:00:00\",\"2018-01-24T17:00:00\",\"2018-01-24T18:00:00\",\"2018-01-24T19:00:00\",\"2018-01-24T20:00:00\",\"2018-01-24T21:00:00\",\"2018-01-24T22:00:00\",\"2018-01-24T23:00:00\",\"2018-01-25T00:00:00\",\"2018-01-25T01:00:00\",\"2018-01-25T02:00:00\",\"2018-01-25T03:00:00\",\"2018-01-25T04:00:00\",\"2018-01-25T05:00:00\",\"2018-01-25T06:00:00\",\"2018-01-25T07:00:00\",\"2018-01-25T08:00:00\",\"2018-01-25T09:00:00\",\"2018-01-25T10:00:00\",\"2018-01-25T11:00:00\",\"2018-01-25T12:00:00\",\"2018-01-25T13:00:00\",\"2018-01-25T14:00:00\",\"2018-01-25T15:00:00\",\"2018-01-25T16:00:00\",\"2018-01-25T17:00:00\",\"2018-01-25T18:00:00\",\"2018-01-25T19:00:00\",\"2018-01-25T20:00:00\",\"2018-01-25T21:00:00\",\"2018-01-25T22:00:00\",\"2018-01-25T23:00:00\"],\"xaxis\":\"x\",\"y\":[163.24000256839028,163.0277669354516,143.19574887274845,122.04020380586086,142.9331250624857,168.41007647981453,179.99846133536005,179.99837870350362,179.9981521846156,179.99795452330562,179.99780887730944,179.99764578439712,179.99949756708594,179.99943185726724,179.99935270814905,179.99925912214636,179.99914976560723,179.99902297286607,179.99887539760553,172.21709084593832,164.0396602601884,155.1049298894779,154.7221478795136,154.33385697310172,137.09660358942023,136.79038566628515,118.69081374712621,118.55153945115187,135.76273641606878,135.60484929965602,151.30949694076742,167.04575101544992,166.61571932061827,166.18514888804992,158.0035249924125,157.63143896049854,157.1403593056108,156.6486455478354,156.1189407651598,155.5732069728334,155.02665682130444,154.47928248745814,153.9310760170127,153.36166252061594,144.83665098292184,144.3220263889924,143.66976193055578,129.56372905485458,129.14798278995704,128.7247001579718,114.50948963464114,114.3217651061747,114.12795184314464,127.17405406015153,138.89952628874985,152.69455165682746,151.93534025777936,151.1428131118239,150.3502859658687,149.55775881991323,148.7093028567142,147.8345447428239,146.95978662893333,146.085028515043,151.27928245690657,149.95542489180517,148.79170043798138,147.57014685224584,146.1279315406724,144.61229327863722,140.29505873023137,135.71795420791582],\"yaxis\":\"y2\"},{\"marker\":{\"color\":\"rgb(253,219,199)\"},\"name\":\"G2 production\",\"type\":\"scatter\",\"x\":[\"2018-01-23T00:00:00\",\"2018-01-23T01:00:00\",\"2018-01-23T02:00:00\",\"2018-01-23T03:00:00\",\"2018-01-23T04:00:00\",\"2018-01-23T05:00:00\",\"2018-01-23T06:00:00\",\"2018-01-23T07:00:00\",\"2018-01-23T08:00:00\",\"2018-01-23T09:00:00\",\"2018-01-23T10:00:00\",\"2018-01-23T11:00:00\",\"2018-01-23T12:00:00\",\"2018-01-23T13:00:00\",\"2018-01-23T14:00:00\",\"2018-01-23T15:00:00\",\"2018-01-23T16:00:00\",\"2018-01-23T17:00:00\",\"2018-01-23T18:00:00\",\"2018-01-23T19:00:00\",\"2018-01-23T20:00:00\",\"2018-01-23T21:00:00\",\"2018-01-23T22:00:00\",\"2018-01-23T23:00:00\",\"2018-01-24T00:00:00\",\"2018-01-24T01:00:00\",\"2018-01-24T02:00:00\",\"2018-01-24T03:00:00\",\"2018-01-24T04:00:00\",\"2018-01-24T05:00:00\",\"2018-01-24T06:00:00\",\"2018-01-24T07:00:00\",\"2018-01-24T08:00:00\",\"2018-01-24T09:00:00\",\"2018-01-24T10:00:00\",\"2018-01-24T11:00:00\",\"2018-01-24T12:00:00\",\"2018-01-24T13:00:00\",\"2018-01-24T14:00:00\",\"2018-01-24T15:00:00\",\"2018-01-24T16:00:00\",\"2018-01-24T17:00:00\",\"2018-01-24T18:00:00\",\"2018-01-24T19:00:00\",\"2018-01-24T20:00:00\",\"2018-01-24T21:00:00\",\"2018-01-24T22:00:00\",\"2018-01-24T23:00:00\",\"2018-01-25T00:00:00\",\"2018-01-25T01:00:00\",\"2018-01-25T02:00:00\",\"2018-01-25T03:00:00\",\"2018-01-25T04:00:00\",\"2018-01-25T05:00:00\",\"2018-01-25T06:00:00\",\"2018-01-25T07:00:00\",\"2018-01-25T08:00:00\",\"2018-01-25T09:00:00\",\"2018-01-25T10:00:00\",\"2018-01-25T11:00:00\",\"2018-01-25T12:00:00\",\"2018-01-25T13:00:00\",\"2018-01-25T14:00:00\",\"2018-01-25T15:00:00\",\"2018-01-25T16:00:00\",\"2018-01-25T17:00:00\",\"2018-01-25T18:00:00\",\"2018-01-25T19:00:00\",\"2018-01-25T20:00:00\",\"2018-01-25T21:00:00\",\"2018-01-25T22:00:00\",\"2018-01-25T23:00:00\"],\"xaxis\":\"x\",\"y\":[54.99952848687131,54.99952321786436,54.99951767184447,54.917658609043535,54.99950798278213,54.999486128556214,54.99989956630358,53.13569836342501,52.91713285950852,54.999874166445906,54.999865294429036,54.99985407205157,54.99984018399523,54.99982235378026,54.99980121797852,54.999775937411705,54.99974644478672,54.99968145461665,54.99963443749864,54.99983789399122,54.99983212237551,54.99982438115293,54.99981769819955,54.99981078624272,54.99980366766382,54.055586633114395,51.965824902049974,51.83680278146653,52.40513037619045,55.000219900657356,55.00020774255442,55.00020896527996,55.0001999367452,55.00019100352327,55.00018159436065,55.00017203246033,55.00015814639344,55.0001464230279,55.00015221213939,55.00013860683955,55.00012407182143,55.00010907137965,55.000093910404864,55.000088574900005,55.00007050157216,55.00005205026351,55.00003216413,50.91750541448153,52.89222535886637,50.554791693645846,48.13849116271181,47.966670528535786,47.78935663001987,51.88118499400209,53.62636582737651,53.3595430209221,53.11232016271269,52.85424866052329,52.59617715833397,52.33810565614457,52.06182199055436,51.77697352617541,51.492125061796386,51.20727659741744,47.60535824778425,47.19654897162451,46.837189049410654,46.45997140127444,46.014613068827494,45.54658161502442,45.07855016122134,47.8314345793829],\"yaxis\":\"y2\"},{\"marker\":{\"color\":\"rgb(244,165,130)\"},\"name\":\"G3 production\",\"type\":\"scatter\",\"x\":[\"2018-01-23T00:00:00\",\"2018-01-23T01:00:00\",\"2018-01-23T02:00:00\",\"2018-01-23T03:00:00\",\"2018-01-23T04:00:00\",\"2018-01-23T05:00:00\",\"2018-01-23T06:00:00\",\"2018-01-23T07:00:00\",\"2018-01-23T08:00:00\",\"2018-01-23T09:00:00\",\"2018-01-23T10:00:00\",\"2018-01-23T11:00:00\",\"2018-01-23T12:00:00\",\"2018-01-23T13:00:00\",\"2018-01-23T14:00:00\",\"2018-01-23T15:00:00\",\"2018-01-23T16:00:00\",\"2018-01-23T17:00:00\",\"2018-01-23T18:00:00\",\"2018-01-23T19:00:00\",\"2018-01-23T20:00:00\",\"2018-01-23T21:00:00\",\"2018-01-23T22:00:00\",\"2018-01-23T23:00:00\",\"2018-01-24T00:00:00\",\"2018-01-24T01:00:00\",\"2018-01-24T02:00:00\",\"2018-01-24T03:00:00\",\"2018-01-24T04:00:00\",\"2018-01-24T05:00:00\",\"2018-01-24T06:00:00\",\"2018-01-24T07:00:00\",\"2018-01-24T08:00:00\",\"2018-01-24T09:00:00\",\"2018-01-24T10:00:00\",\"2018-01-24T11:00:00\",\"2018-01-24T12:00:00\",\"2018-01-24T13:00:00\",\"2018-01-24T14:00:00\",\"2018-01-24T15:00:00\",\"2018-01-24T16:00:00\",\"2018-01-24T17:00:00\",\"2018-01-24T18:00:00\",\"2018-01-24T19:00:00\",\"2018-01-24T20:00:00\",\"2018-01-24T21:00:00\",\"2018-01-24T22:00:00\",\"2018-01-24T23:00:00\",\"2018-01-25T00:00:00\",\"2018-01-25T01:00:00\",\"2018-01-25T02:00:00\",\"2018-01-25T03:00:00\",\"2018-01-25T04:00:00\",\"2018-01-25T05:00:00\",\"2018-01-25T06:00:00\",\"2018-01-25T07:00:00\",\"2018-01-25T08:00:00\",\"2018-01-25T09:00:00\",\"2018-01-25T10:00:00\",\"2018-01-25T11:00:00\",\"2018-01-25T12:00:00\",\"2018-01-25T13:00:00\",\"2018-01-25T14:00:00\",\"2018-01-25T15:00:00\",\"2018-01-25T16:00:00\",\"2018-01-25T17:00:00\",\"2018-01-25T18:00:00\",\"2018-01-25T19:00:00\",\"2018-01-25T20:00:00\",\"2018-01-25T21:00:00\",\"2018-01-25T22:00:00\",\"2018-01-25T23:00:00\"],\"xaxis\":\"x\",\"y\":[0.0,0.0,0.0,0.0,0.0,0.0,54.99989956630358,53.13569836342501,52.91713285950852,54.999874166445906,54.999865294429036,54.99985407205157,54.99984018399523,54.99982235378026,54.99980121797852,54.999775937411705,54.99974644478672,54.99968145461665,54.99963443749864,0.0,0.0,0.0,0.0,0.0,0.0,0.0,0.0,0.0,0.0,0.0,0.0,0.0,0.0,0.0,0.0,0.0,0.0,0.0,0.0,0.0,0.0,0.0,0.0,0.0,0.0,0.0,0.0,0.0,0.0,0.0,0.0,0.0,0.0,0.0,0.0,0.0,0.0,0.0,0.0,0.0,0.0,0.0,0.0,0.0,47.60535824778425,47.19654897162451,46.837189049410654,46.45997140127444,46.014613068827494,45.54658161502442,45.07855016122134,0.0],\"yaxis\":\"y2\"},{\"marker\":{\"color\":\"rgb(214,96,77)\"},\"name\":\"G4 production\",\"type\":\"scatter\",\"x\":[\"2018-01-23T00:00:00\",\"2018-01-23T01:00:00\",\"2018-01-23T02:00:00\",\"2018-01-23T03:00:00\",\"2018-01-23T04:00:00\",\"2018-01-23T05:00:00\",\"2018-01-23T06:00:00\",\"2018-01-23T07:00:00\",\"2018-01-23T08:00:00\",\"2018-01-23T09:00:00\",\"2018-01-23T10:00:00\",\"2018-01-23T11:00:00\",\"2018-01-23T12:00:00\",\"2018-01-23T13:00:00\",\"2018-01-23T14:00:00\",\"2018-01-23T15:00:00\",\"2018-01-23T16:00:00\",\"2018-01-23T17:00:00\",\"2018-01-23T18:00:00\",\"2018-01-23T19:00:00\",\"2018-01-23T20:00:00\",\"2018-01-23T21:00:00\",\"2018-01-23T22:00:00\",\"2018-01-23T23:00:00\",\"2018-01-24T00:00:00\",\"2018-01-24T01:00:00\",\"2018-01-24T02:00:00\",\"2018-01-24T03:00:00\",\"2018-01-24T04:00:00\",\"2018-01-24T05:00:00\",\"2018-01-24T06:00:00\",\"2018-01-24T07:00:00\",\"2018-01-24T08:00:00\",\"2018-01-24T09:00:00\",\"2018-01-24T10:00:00\",\"2018-01-24T11:00:00\",\"2018-01-24T12:00:00\",\"2018-01-24T13:00:00\",\"2018-01-24T14:00:00\",\"2018-01-24T15:00:00\",\"2018-01-24T16:00:00\",\"2018-01-24T17:00:00\",\"2018-01-24T18:00:00\",\"2018-01-24T19:00:00\",\"2018-01-24T20:00:00\",\"2018-01-24T21:00:00\",\"2018-01-24T22:00:00\",\"2018-01-24T23:00:00\",\"2018-01-25T00:00:00\",\"2018-01-25T01:00:00\",\"2018-01-25T02:00:00\",\"2018-01-25T03:00:00\",\"2018-01-25T04:00:00\",\"2018-01-25T05:00:00\",\"2018-01-25T06:00:00\",\"2018-01-25T07:00:00\",\"2018-01-25T08:00:00\",\"2018-01-25T09:00:00\",\"2018-01-25T10:00:00\",\"2018-01-25T11:00:00\",\"2018-01-25T12:00:00\",\"2018-01-25T13:00:00\",\"2018-01-25T14:00:00\",\"2018-01-25T15:00:00\",\"2018-01-25T16:00:00\",\"2018-01-25T17:00:00\",\"2018-01-25T18:00:00\",\"2018-01-25T19:00:00\",\"2018-01-25T20:00:00\",\"2018-01-25T21:00:00\",\"2018-01-25T22:00:00\",\"2018-01-25T23:00:00\"],\"xaxis\":\"x\",\"y\":[0.0,0.0,0.0,0.0,0.0,0.0,0.0,53.13569836342501,52.91713285950852,0.0,0.0,0.0,0.0,0.0,0.0,0.0,0.0,0.0,0.0,0.0,0.0,0.0,0.0,0.0,0.0,0.0,0.0,0.0,0.0,0.0,0.0,0.0,0.0,0.0,0.0,0.0,0.0,0.0,0.0,0.0,0.0,0.0,0.0,0.0,0.0,0.0,0.0,0.0,0.0,0.0,0.0,0.0,0.0,0.0,0.0,0.0,0.0,0.0,0.0,0.0,0.0,0.0,0.0,0.0,0.0,0.0,0.0,0.0,0.0,0.0,0.0,0.0],\"yaxis\":\"y2\"}],                        {\"barmode\":\"stack\",\"template\":{\"data\":{\"bar\":[{\"error_x\":{\"color\":\"#2a3f5f\"},\"error_y\":{\"color\":\"#2a3f5f\"},\"marker\":{\"line\":{\"color\":\"#E5ECF6\",\"width\":0.5},\"pattern\":{\"fillmode\":\"overlay\",\"size\":10,\"solidity\":0.2}},\"type\":\"bar\"}],\"barpolar\":[{\"marker\":{\"line\":{\"color\":\"#E5ECF6\",\"width\":0.5},\"pattern\":{\"fillmode\":\"overlay\",\"size\":10,\"solidity\":0.2}},\"type\":\"barpolar\"}],\"carpet\":[{\"aaxis\":{\"endlinecolor\":\"#2a3f5f\",\"gridcolor\":\"white\",\"linecolor\":\"white\",\"minorgridcolor\":\"white\",\"startlinecolor\":\"#2a3f5f\"},\"baxis\":{\"endlinecolor\":\"#2a3f5f\",\"gridcolor\":\"white\",\"linecolor\":\"white\",\"minorgridcolor\":\"white\",\"startlinecolor\":\"#2a3f5f\"},\"type\":\"carpet\"}],\"choropleth\":[{\"colorbar\":{\"outlinewidth\":0,\"ticks\":\"\"},\"type\":\"choropleth\"}],\"contour\":[{\"colorbar\":{\"outlinewidth\":0,\"ticks\":\"\"},\"colorscale\":[[0.0,\"#0d0887\"],[0.1111111111111111,\"#46039f\"],[0.2222222222222222,\"#7201a8\"],[0.3333333333333333,\"#9c179e\"],[0.4444444444444444,\"#bd3786\"],[0.5555555555555556,\"#d8576b\"],[0.6666666666666666,\"#ed7953\"],[0.7777777777777778,\"#fb9f3a\"],[0.8888888888888888,\"#fdca26\"],[1.0,\"#f0f921\"]],\"type\":\"contour\"}],\"contourcarpet\":[{\"colorbar\":{\"outlinewidth\":0,\"ticks\":\"\"},\"type\":\"contourcarpet\"}],\"heatmap\":[{\"colorbar\":{\"outlinewidth\":0,\"ticks\":\"\"},\"colorscale\":[[0.0,\"#0d0887\"],[0.1111111111111111,\"#46039f\"],[0.2222222222222222,\"#7201a8\"],[0.3333333333333333,\"#9c179e\"],[0.4444444444444444,\"#bd3786\"],[0.5555555555555556,\"#d8576b\"],[0.6666666666666666,\"#ed7953\"],[0.7777777777777778,\"#fb9f3a\"],[0.8888888888888888,\"#fdca26\"],[1.0,\"#f0f921\"]],\"type\":\"heatmap\"}],\"heatmapgl\":[{\"colorbar\":{\"outlinewidth\":0,\"ticks\":\"\"},\"colorscale\":[[0.0,\"#0d0887\"],[0.1111111111111111,\"#46039f\"],[0.2222222222222222,\"#7201a8\"],[0.3333333333333333,\"#9c179e\"],[0.4444444444444444,\"#bd3786\"],[0.5555555555555556,\"#d8576b\"],[0.6666666666666666,\"#ed7953\"],[0.7777777777777778,\"#fb9f3a\"],[0.8888888888888888,\"#fdca26\"],[1.0,\"#f0f921\"]],\"type\":\"heatmapgl\"}],\"histogram\":[{\"marker\":{\"pattern\":{\"fillmode\":\"overlay\",\"size\":10,\"solidity\":0.2}},\"type\":\"histogram\"}],\"histogram2d\":[{\"colorbar\":{\"outlinewidth\":0,\"ticks\":\"\"},\"colorscale\":[[0.0,\"#0d0887\"],[0.1111111111111111,\"#46039f\"],[0.2222222222222222,\"#7201a8\"],[0.3333333333333333,\"#9c179e\"],[0.4444444444444444,\"#bd3786\"],[0.5555555555555556,\"#d8576b\"],[0.6666666666666666,\"#ed7953\"],[0.7777777777777778,\"#fb9f3a\"],[0.8888888888888888,\"#fdca26\"],[1.0,\"#f0f921\"]],\"type\":\"histogram2d\"}],\"histogram2dcontour\":[{\"colorbar\":{\"outlinewidth\":0,\"ticks\":\"\"},\"colorscale\":[[0.0,\"#0d0887\"],[0.1111111111111111,\"#46039f\"],[0.2222222222222222,\"#7201a8\"],[0.3333333333333333,\"#9c179e\"],[0.4444444444444444,\"#bd3786\"],[0.5555555555555556,\"#d8576b\"],[0.6666666666666666,\"#ed7953\"],[0.7777777777777778,\"#fb9f3a\"],[0.8888888888888888,\"#fdca26\"],[1.0,\"#f0f921\"]],\"type\":\"histogram2dcontour\"}],\"mesh3d\":[{\"colorbar\":{\"outlinewidth\":0,\"ticks\":\"\"},\"type\":\"mesh3d\"}],\"parcoords\":[{\"line\":{\"colorbar\":{\"outlinewidth\":0,\"ticks\":\"\"}},\"type\":\"parcoords\"}],\"pie\":[{\"automargin\":true,\"type\":\"pie\"}],\"scatter\":[{\"marker\":{\"colorbar\":{\"outlinewidth\":0,\"ticks\":\"\"}},\"type\":\"scatter\"}],\"scatter3d\":[{\"line\":{\"colorbar\":{\"outlinewidth\":0,\"ticks\":\"\"}},\"marker\":{\"colorbar\":{\"outlinewidth\":0,\"ticks\":\"\"}},\"type\":\"scatter3d\"}],\"scattercarpet\":[{\"marker\":{\"colorbar\":{\"outlinewidth\":0,\"ticks\":\"\"}},\"type\":\"scattercarpet\"}],\"scattergeo\":[{\"marker\":{\"colorbar\":{\"outlinewidth\":0,\"ticks\":\"\"}},\"type\":\"scattergeo\"}],\"scattergl\":[{\"marker\":{\"colorbar\":{\"outlinewidth\":0,\"ticks\":\"\"}},\"type\":\"scattergl\"}],\"scattermapbox\":[{\"marker\":{\"colorbar\":{\"outlinewidth\":0,\"ticks\":\"\"}},\"type\":\"scattermapbox\"}],\"scatterpolar\":[{\"marker\":{\"colorbar\":{\"outlinewidth\":0,\"ticks\":\"\"}},\"type\":\"scatterpolar\"}],\"scatterpolargl\":[{\"marker\":{\"colorbar\":{\"outlinewidth\":0,\"ticks\":\"\"}},\"type\":\"scatterpolargl\"}],\"scatterternary\":[{\"marker\":{\"colorbar\":{\"outlinewidth\":0,\"ticks\":\"\"}},\"type\":\"scatterternary\"}],\"surface\":[{\"colorbar\":{\"outlinewidth\":0,\"ticks\":\"\"},\"colorscale\":[[0.0,\"#0d0887\"],[0.1111111111111111,\"#46039f\"],[0.2222222222222222,\"#7201a8\"],[0.3333333333333333,\"#9c179e\"],[0.4444444444444444,\"#bd3786\"],[0.5555555555555556,\"#d8576b\"],[0.6666666666666666,\"#ed7953\"],[0.7777777777777778,\"#fb9f3a\"],[0.8888888888888888,\"#fdca26\"],[1.0,\"#f0f921\"]],\"type\":\"surface\"}],\"table\":[{\"cells\":{\"fill\":{\"color\":\"#EBF0F8\"},\"line\":{\"color\":\"white\"}},\"header\":{\"fill\":{\"color\":\"#C8D4E3\"},\"line\":{\"color\":\"white\"}},\"type\":\"table\"}]},\"layout\":{\"annotationdefaults\":{\"arrowcolor\":\"#2a3f5f\",\"arrowhead\":0,\"arrowwidth\":1},\"autotypenumbers\":\"strict\",\"coloraxis\":{\"colorbar\":{\"outlinewidth\":0,\"ticks\":\"\"}},\"colorscale\":{\"diverging\":[[0,\"#8e0152\"],[0.1,\"#c51b7d\"],[0.2,\"#de77ae\"],[0.3,\"#f1b6da\"],[0.4,\"#fde0ef\"],[0.5,\"#f7f7f7\"],[0.6,\"#e6f5d0\"],[0.7,\"#b8e186\"],[0.8,\"#7fbc41\"],[0.9,\"#4d9221\"],[1,\"#276419\"]],\"sequential\":[[0.0,\"#0d0887\"],[0.1111111111111111,\"#46039f\"],[0.2222222222222222,\"#7201a8\"],[0.3333333333333333,\"#9c179e\"],[0.4444444444444444,\"#bd3786\"],[0.5555555555555556,\"#d8576b\"],[0.6666666666666666,\"#ed7953\"],[0.7777777777777778,\"#fb9f3a\"],[0.8888888888888888,\"#fdca26\"],[1.0,\"#f0f921\"]],\"sequentialminus\":[[0.0,\"#0d0887\"],[0.1111111111111111,\"#46039f\"],[0.2222222222222222,\"#7201a8\"],[0.3333333333333333,\"#9c179e\"],[0.4444444444444444,\"#bd3786\"],[0.5555555555555556,\"#d8576b\"],[0.6666666666666666,\"#ed7953\"],[0.7777777777777778,\"#fb9f3a\"],[0.8888888888888888,\"#fdca26\"],[1.0,\"#f0f921\"]]},\"colorway\":[\"#636efa\",\"#EF553B\",\"#00cc96\",\"#ab63fa\",\"#FFA15A\",\"#19d3f3\",\"#FF6692\",\"#B6E880\",\"#FF97FF\",\"#FECB52\"],\"font\":{\"color\":\"#2a3f5f\"},\"geo\":{\"bgcolor\":\"white\",\"lakecolor\":\"white\",\"landcolor\":\"#E5ECF6\",\"showlakes\":true,\"showland\":true,\"subunitcolor\":\"white\"},\"hoverlabel\":{\"align\":\"left\"},\"hovermode\":\"closest\",\"mapbox\":{\"style\":\"light\"},\"paper_bgcolor\":\"white\",\"plot_bgcolor\":\"#E5ECF6\",\"polar\":{\"angularaxis\":{\"gridcolor\":\"white\",\"linecolor\":\"white\",\"ticks\":\"\"},\"bgcolor\":\"#E5ECF6\",\"radialaxis\":{\"gridcolor\":\"white\",\"linecolor\":\"white\",\"ticks\":\"\"}},\"scene\":{\"xaxis\":{\"backgroundcolor\":\"#E5ECF6\",\"gridcolor\":\"white\",\"gridwidth\":2,\"linecolor\":\"white\",\"showbackground\":true,\"ticks\":\"\",\"zerolinecolor\":\"white\"},\"yaxis\":{\"backgroundcolor\":\"#E5ECF6\",\"gridcolor\":\"white\",\"gridwidth\":2,\"linecolor\":\"white\",\"showbackground\":true,\"ticks\":\"\",\"zerolinecolor\":\"white\"},\"zaxis\":{\"backgroundcolor\":\"#E5ECF6\",\"gridcolor\":\"white\",\"gridwidth\":2,\"linecolor\":\"white\",\"showbackground\":true,\"ticks\":\"\",\"zerolinecolor\":\"white\"}},\"shapedefaults\":{\"line\":{\"color\":\"#2a3f5f\"}},\"ternary\":{\"aaxis\":{\"gridcolor\":\"white\",\"linecolor\":\"white\",\"ticks\":\"\"},\"baxis\":{\"gridcolor\":\"white\",\"linecolor\":\"white\",\"ticks\":\"\"},\"bgcolor\":\"#E5ECF6\",\"caxis\":{\"gridcolor\":\"white\",\"linecolor\":\"white\",\"ticks\":\"\"}},\"title\":{\"x\":0.05},\"xaxis\":{\"automargin\":true,\"gridcolor\":\"white\",\"linecolor\":\"white\",\"ticks\":\"\",\"title\":{\"standoff\":15},\"zerolinecolor\":\"white\",\"zerolinewidth\":2},\"yaxis\":{\"automargin\":true,\"gridcolor\":\"white\",\"linecolor\":\"white\",\"ticks\":\"\",\"title\":{\"standoff\":15},\"zerolinecolor\":\"white\",\"zerolinewidth\":2}}},\"title\":{\"text\":\"<b>Unit discharge and production in Plant2</b>\"},\"xaxis\":{\"anchor\":\"y\",\"domain\":[0.0,0.94],\"title\":{\"text\":\"<b>Time</b> (Hour)\"}},\"yaxis\":{\"anchor\":\"x\",\"domain\":[0.0,1.0],\"dtick\":60,\"range\":[0,540],\"tick0\":60,\"title\":{\"text\":\"<b>Discharge</b> (m<sup>3</sup>/s)\"}},\"yaxis2\":{\"anchor\":\"x\",\"dtick\":40,\"overlaying\":\"y\",\"range\":[0,360],\"side\":\"right\",\"tick0\":40,\"title\":{\"text\":\"<b>Production</b> (MW)\"}}},                        {\"responsive\": true}                    ).then(function(){\n",
       "                            \n",
       "var gd = document.getElementById('eedf8ffa-0423-42e5-a9df-c15c950b95cf');\n",
       "var x = new MutationObserver(function (mutations, observer) {{\n",
       "        var display = window.getComputedStyle(gd).display;\n",
       "        if (!display || display === 'none') {{\n",
       "            console.log([gd, 'removed!']);\n",
       "            Plotly.purge(gd);\n",
       "            observer.disconnect();\n",
       "        }}\n",
       "}});\n",
       "\n",
       "// Listen for the removal of the full notebook cells\n",
       "var notebookContainer = gd.closest('#notebook-container');\n",
       "if (notebookContainer) {{\n",
       "    x.observe(notebookContainer, {childList: true});\n",
       "}}\n",
       "\n",
       "// Listen for the clearing of the current output cell\n",
       "var outputEl = gd.closest('.output');\n",
       "if (outputEl) {{\n",
       "    x.observe(outputEl, {childList: true});\n",
       "}}\n",
       "\n",
       "                        })                };                });            </script>        </div>"
      ]
     },
     "metadata": {},
     "output_type": "display_data"
    }
   ],
   "source": [
    "# Plotting discharge and production results from Plant 2\r\n",
    "\r\n",
    "# Retrieving discharge results on generators\r\n",
    "G1_discharge=shop.model.generator.Plant2_Generator1.discharge.get()\r\n",
    "G2_discharge=shop.model.generator.Plant2_Generator2.discharge.get()\r\n",
    "G3_discharge=shop.model.generator.Plant2_Generator3.discharge.get()\r\n",
    "G4_discharge=shop.model.generator.Plant2_Generator4.discharge.get()\r\n",
    "\r\n",
    "# Retrieving discharge results on generators\r\n",
    "G1_production=shop.model.generator.Plant2_Generator1.production.get()\r\n",
    "G2_production=shop.model.generator.Plant2_Generator2.production.get()\r\n",
    "G3_production=shop.model.generator.Plant2_Generator3.production.get()\r\n",
    "G4_production=shop.model.generator.Plant2_Generator4.production.get()\r\n",
    "\r\n",
    "from plotly.subplots import make_subplots\r\n",
    "fig = make_subplots(specs=[[{\"secondary_y\": True}]])\r\n",
    "colorscale = px.colors.sequential.RdBu_r\r\n",
    "fig.add_trace(go.Bar(x=G1_discharge.index, y=G1_discharge.values, name=\"G1 Discharge\", marker_color=colorscale[1]), secondary_y=False)\r\n",
    "fig.add_trace(go.Bar(x=G2_discharge.index, y=G2_discharge.values, name=\"G2 Discharge\", marker_color=colorscale[2]), secondary_y=False)\r\n",
    "fig.add_trace(go.Bar(x=G3_discharge.index, y=G3_discharge.values, name=\"G3 Discharge\", marker_color=colorscale[3]), secondary_y=False)\r\n",
    "fig.add_trace(go.Bar(x=G4_discharge.index, y=G4_discharge.values, name=\"G4 Discharge\", marker_color=colorscale[4]), secondary_y=False)\r\n",
    "fig.add_trace(go.Scatter(x=G1_production.index, y=G1_production.values, name=\"G1 production\", marker_color=colorscale[5]), secondary_y=True)\r\n",
    "fig.add_trace(go.Scatter(x=G2_production.index, y=G2_production.values, name=\"G2 production\", marker_color=colorscale[6]), secondary_y=True)\r\n",
    "fig.add_trace(go.Scatter(x=G3_production.index, y=G3_production.values, name=\"G3 production\", marker_color=colorscale[7]), secondary_y=True)\r\n",
    "fig.add_trace(go.Scatter(x=G4_production.index, y=G4_production.values, name=\"G4 production\", marker_color=colorscale[8]), secondary_y=True)\r\n",
    "fig.update_layout(title_text=\"<b>Unit discharge and production in Plant2</b>\", barmode=\"stack\")\r\n",
    "fig.update_xaxes(title_text=\"<b>Time</b> (Hour)\")\r\n",
    "fig.update_yaxes(title_text=\"<b>Discharge</b> (m<sup>3</sup>/s)\", secondary_y=False, range=[0, 540], tick0=60, dtick=60)\r\n",
    "fig.update_yaxes(title_text=\"<b>Production</b> (MW)\", secondary_y=True, range=[0, 360], tick0=40, dtick=40)\r\n",
    "fig.show()"
   ]
  },
  {
   "cell_type": "code",
   "execution_count": 36,
   "metadata": {
    "Collapsed": "false"
   },
   "outputs": [
    {
     "data": {
      "application/vnd.plotly.v1+json": {
       "config": {
        "plotlyServerURL": "https://plot.ly"
       },
       "data": [
        {
         "marker": {
          "color": "rgb(33,102,172)"
         },
         "name": "Reservoir1 storage",
         "type": "scatter",
         "x": [
          "2018-01-23T00:00:00",
          "2018-01-23T01:00:00",
          "2018-01-23T02:00:00",
          "2018-01-23T03:00:00",
          "2018-01-23T04:00:00",
          "2018-01-23T05:00:00",
          "2018-01-23T06:00:00",
          "2018-01-23T07:00:00",
          "2018-01-23T08:00:00",
          "2018-01-23T09:00:00",
          "2018-01-23T10:00:00",
          "2018-01-23T11:00:00",
          "2018-01-23T12:00:00",
          "2018-01-23T13:00:00",
          "2018-01-23T14:00:00",
          "2018-01-23T15:00:00",
          "2018-01-23T16:00:00",
          "2018-01-23T17:00:00",
          "2018-01-23T18:00:00",
          "2018-01-23T19:00:00",
          "2018-01-23T20:00:00",
          "2018-01-23T21:00:00",
          "2018-01-23T22:00:00",
          "2018-01-23T23:00:00",
          "2018-01-24T00:00:00",
          "2018-01-24T01:00:00",
          "2018-01-24T02:00:00",
          "2018-01-24T03:00:00",
          "2018-01-24T04:00:00",
          "2018-01-24T05:00:00",
          "2018-01-24T06:00:00",
          "2018-01-24T07:00:00",
          "2018-01-24T08:00:00",
          "2018-01-24T09:00:00",
          "2018-01-24T10:00:00",
          "2018-01-24T11:00:00",
          "2018-01-24T12:00:00",
          "2018-01-24T13:00:00",
          "2018-01-24T14:00:00",
          "2018-01-24T15:00:00",
          "2018-01-24T16:00:00",
          "2018-01-24T17:00:00",
          "2018-01-24T18:00:00",
          "2018-01-24T19:00:00",
          "2018-01-24T20:00:00",
          "2018-01-24T21:00:00",
          "2018-01-24T22:00:00",
          "2018-01-24T23:00:00",
          "2018-01-25T00:00:00",
          "2018-01-25T01:00:00",
          "2018-01-25T02:00:00",
          "2018-01-25T03:00:00",
          "2018-01-25T04:00:00",
          "2018-01-25T05:00:00",
          "2018-01-25T06:00:00",
          "2018-01-25T07:00:00",
          "2018-01-25T08:00:00",
          "2018-01-25T09:00:00",
          "2018-01-25T10:00:00",
          "2018-01-25T11:00:00",
          "2018-01-25T12:00:00",
          "2018-01-25T13:00:00",
          "2018-01-25T14:00:00",
          "2018-01-25T15:00:00",
          "2018-01-25T16:00:00",
          "2018-01-25T17:00:00",
          "2018-01-25T18:00:00",
          "2018-01-25T19:00:00",
          "2018-01-25T20:00:00",
          "2018-01-25T21:00:00",
          "2018-01-25T22:00:00",
          "2018-01-25T23:00:00",
          "2018-01-26T00:00:00"
         ],
         "y": [
          32.769999999999996,
          32.381944000000004,
          32.011648,
          31.641352,
          31.456204,
          31.085908,
          30.697852,
          30.274276,
          29.8507,
          29.427124,
          29.003548,
          28.579971999999998,
          28.156395999999997,
          27.732819999999997,
          27.309243999999996,
          26.885667999999995,
          26.462091999999995,
          26.038515999999994,
          25.614939999999994,
          25.209123999999992,
          24.838827999999992,
          24.468531999999993,
          24.274503999999993,
          24.08935599999999,
          23.90420799999999,
          23.90420799999999,
          23.90420799999999,
          23.90420799999999,
          23.90420799999999,
          23.90420799999999,
          23.90420799999999,
          23.71905999999999,
          23.34876399999999,
          22.97846799999999,
          22.60817199999999,
          22.23787599999999,
          22.04384799999999,
          21.84981999999999,
          21.66467199999999,
          21.479523999999987,
          21.294375999999986,
          21.109227999999984,
          20.924079999999982,
          20.73893199999998,
          20.55378399999998,
          20.368635999999977,
          20.368635999999977,
          20.368635999999977,
          20.368635999999977,
          20.368635999999977,
          20.368635999999977,
          20.368635999999977,
          20.368635999999977,
          20.368635999999977,
          20.368635999999977,
          20.368635999999977,
          20.174607999999978,
          19.98057999999998,
          19.78655199999998,
          19.59252399999998,
          19.407375999999978,
          19.222227999999976,
          19.037079999999975,
          18.851931999999973,
          18.66678399999997,
          18.472755999999972,
          18.102459999999972,
          17.732163999999973,
          17.538135999999973,
          17.35298799999997,
          17.16783999999997,
          17.16783999999997,
          17.16783999999997
         ]
        },
        {
         "marker": {
          "color": "rgb(67,147,195)"
         },
         "name": "Reservoir2 storage",
         "type": "scatter",
         "x": [
          "2018-01-23T00:00:00",
          "2018-01-23T01:00:00",
          "2018-01-23T02:00:00",
          "2018-01-23T03:00:00",
          "2018-01-23T04:00:00",
          "2018-01-23T05:00:00",
          "2018-01-23T06:00:00",
          "2018-01-23T07:00:00",
          "2018-01-23T08:00:00",
          "2018-01-23T09:00:00",
          "2018-01-23T10:00:00",
          "2018-01-23T11:00:00",
          "2018-01-23T12:00:00",
          "2018-01-23T13:00:00",
          "2018-01-23T14:00:00",
          "2018-01-23T15:00:00",
          "2018-01-23T16:00:00",
          "2018-01-23T17:00:00",
          "2018-01-23T18:00:00",
          "2018-01-23T19:00:00",
          "2018-01-23T20:00:00",
          "2018-01-23T21:00:00",
          "2018-01-23T22:00:00",
          "2018-01-23T23:00:00",
          "2018-01-24T00:00:00",
          "2018-01-24T01:00:00",
          "2018-01-24T02:00:00",
          "2018-01-24T03:00:00",
          "2018-01-24T04:00:00",
          "2018-01-24T05:00:00",
          "2018-01-24T06:00:00",
          "2018-01-24T07:00:00",
          "2018-01-24T08:00:00",
          "2018-01-24T09:00:00",
          "2018-01-24T10:00:00",
          "2018-01-24T11:00:00",
          "2018-01-24T12:00:00",
          "2018-01-24T13:00:00",
          "2018-01-24T14:00:00",
          "2018-01-24T15:00:00",
          "2018-01-24T16:00:00",
          "2018-01-24T17:00:00",
          "2018-01-24T18:00:00",
          "2018-01-24T19:00:00",
          "2018-01-24T20:00:00",
          "2018-01-24T21:00:00",
          "2018-01-24T22:00:00",
          "2018-01-24T23:00:00",
          "2018-01-25T00:00:00",
          "2018-01-25T01:00:00",
          "2018-01-25T02:00:00",
          "2018-01-25T03:00:00",
          "2018-01-25T04:00:00",
          "2018-01-25T05:00:00",
          "2018-01-25T06:00:00",
          "2018-01-25T07:00:00",
          "2018-01-25T08:00:00",
          "2018-01-25T09:00:00",
          "2018-01-25T10:00:00",
          "2018-01-25T11:00:00",
          "2018-01-25T12:00:00",
          "2018-01-25T13:00:00",
          "2018-01-25T14:00:00",
          "2018-01-25T15:00:00",
          "2018-01-25T16:00:00",
          "2018-01-25T17:00:00",
          "2018-01-25T18:00:00",
          "2018-01-25T19:00:00",
          "2018-01-25T20:00:00",
          "2018-01-25T21:00:00",
          "2018-01-25T22:00:00",
          "2018-01-25T23:00:00",
          "2018-01-26T00:00:00"
         ],
         "y": [
          56.541666666666664,
          56.082808109126574,
          55.60585702819553,
          55.233445779068276,
          54.78058440793544,
          54.40721953593307,
          53.911478751842964,
          53.082685862427226,
          51.89415449935223,
          50.701255168090626,
          49.853903828826276,
          49.00131902032579,
          48.14341950878186,
          47.2801079457197,
          46.4112043431227,
          45.536453521416774,
          44.6557550068303,
          43.76900511270168,
          42.87598841125614,
          41.95882719848488,
          41.36655222630836,
          40.82411676550298,
          40.15738877129387,
          39.48106540587265,
          38.80401245175899,
          38.037304588747276,
          37.274483199025376,
          36.61684483895353,
          35.95836473244195,
          35.2017233235033,
          34.42856119325892,
          33.74568382825305,
          33.14203673348181,
          32.53763339801134,
          31.932468675856367,
          31.37908536437733,
          30.648729311439865,
          29.91743019177685,
          29.176265898137625,
          28.43403226206711,
          27.690688324110198,
          26.946223444319124,
          26.200626804350048,
          25.453887404160263,
          24.70595100502703,
          24.009314989079584,
          23.12635890996913,
          22.241903157248274,
          21.465048832281408,
          20.674271593147196,
          19.89562160768967,
          19.210781718007045,
          18.524600681915285,
          17.83702420917143,
          17.042639911727612,
          16.155779911727613,
          15.357851911727614,
          14.559923911727614,
          13.761995911727613,
          12.964067911727613,
          12.157259911727612,
          11.350451911727612,
          10.543643911727612,
          9.736835911727612,
          8.930027911727612,
          7.772111911727611,
          6.7904639117276115,
          5.808815911727612,
          4.6508999117276115,
          3.484103911727611,
          2.3173079117276103,
          0.9919559999999998,
          0
         ]
        }
       ],
       "layout": {
        "autosize": true,
        "template": {
         "data": {
          "bar": [
           {
            "error_x": {
             "color": "#2a3f5f"
            },
            "error_y": {
             "color": "#2a3f5f"
            },
            "marker": {
             "line": {
              "color": "#E5ECF6",
              "width": 0.5
             },
             "pattern": {
              "fillmode": "overlay",
              "size": 10,
              "solidity": 0.2
             }
            },
            "type": "bar"
           }
          ],
          "barpolar": [
           {
            "marker": {
             "line": {
              "color": "#E5ECF6",
              "width": 0.5
             },
             "pattern": {
              "fillmode": "overlay",
              "size": 10,
              "solidity": 0.2
             }
            },
            "type": "barpolar"
           }
          ],
          "carpet": [
           {
            "aaxis": {
             "endlinecolor": "#2a3f5f",
             "gridcolor": "white",
             "linecolor": "white",
             "minorgridcolor": "white",
             "startlinecolor": "#2a3f5f"
            },
            "baxis": {
             "endlinecolor": "#2a3f5f",
             "gridcolor": "white",
             "linecolor": "white",
             "minorgridcolor": "white",
             "startlinecolor": "#2a3f5f"
            },
            "type": "carpet"
           }
          ],
          "choropleth": [
           {
            "colorbar": {
             "outlinewidth": 0,
             "ticks": ""
            },
            "type": "choropleth"
           }
          ],
          "contour": [
           {
            "colorbar": {
             "outlinewidth": 0,
             "ticks": ""
            },
            "colorscale": [
             [
              0,
              "#0d0887"
             ],
             [
              0.1111111111111111,
              "#46039f"
             ],
             [
              0.2222222222222222,
              "#7201a8"
             ],
             [
              0.3333333333333333,
              "#9c179e"
             ],
             [
              0.4444444444444444,
              "#bd3786"
             ],
             [
              0.5555555555555556,
              "#d8576b"
             ],
             [
              0.6666666666666666,
              "#ed7953"
             ],
             [
              0.7777777777777778,
              "#fb9f3a"
             ],
             [
              0.8888888888888888,
              "#fdca26"
             ],
             [
              1,
              "#f0f921"
             ]
            ],
            "type": "contour"
           }
          ],
          "contourcarpet": [
           {
            "colorbar": {
             "outlinewidth": 0,
             "ticks": ""
            },
            "type": "contourcarpet"
           }
          ],
          "heatmap": [
           {
            "colorbar": {
             "outlinewidth": 0,
             "ticks": ""
            },
            "colorscale": [
             [
              0,
              "#0d0887"
             ],
             [
              0.1111111111111111,
              "#46039f"
             ],
             [
              0.2222222222222222,
              "#7201a8"
             ],
             [
              0.3333333333333333,
              "#9c179e"
             ],
             [
              0.4444444444444444,
              "#bd3786"
             ],
             [
              0.5555555555555556,
              "#d8576b"
             ],
             [
              0.6666666666666666,
              "#ed7953"
             ],
             [
              0.7777777777777778,
              "#fb9f3a"
             ],
             [
              0.8888888888888888,
              "#fdca26"
             ],
             [
              1,
              "#f0f921"
             ]
            ],
            "type": "heatmap"
           }
          ],
          "heatmapgl": [
           {
            "colorbar": {
             "outlinewidth": 0,
             "ticks": ""
            },
            "colorscale": [
             [
              0,
              "#0d0887"
             ],
             [
              0.1111111111111111,
              "#46039f"
             ],
             [
              0.2222222222222222,
              "#7201a8"
             ],
             [
              0.3333333333333333,
              "#9c179e"
             ],
             [
              0.4444444444444444,
              "#bd3786"
             ],
             [
              0.5555555555555556,
              "#d8576b"
             ],
             [
              0.6666666666666666,
              "#ed7953"
             ],
             [
              0.7777777777777778,
              "#fb9f3a"
             ],
             [
              0.8888888888888888,
              "#fdca26"
             ],
             [
              1,
              "#f0f921"
             ]
            ],
            "type": "heatmapgl"
           }
          ],
          "histogram": [
           {
            "marker": {
             "pattern": {
              "fillmode": "overlay",
              "size": 10,
              "solidity": 0.2
             }
            },
            "type": "histogram"
           }
          ],
          "histogram2d": [
           {
            "colorbar": {
             "outlinewidth": 0,
             "ticks": ""
            },
            "colorscale": [
             [
              0,
              "#0d0887"
             ],
             [
              0.1111111111111111,
              "#46039f"
             ],
             [
              0.2222222222222222,
              "#7201a8"
             ],
             [
              0.3333333333333333,
              "#9c179e"
             ],
             [
              0.4444444444444444,
              "#bd3786"
             ],
             [
              0.5555555555555556,
              "#d8576b"
             ],
             [
              0.6666666666666666,
              "#ed7953"
             ],
             [
              0.7777777777777778,
              "#fb9f3a"
             ],
             [
              0.8888888888888888,
              "#fdca26"
             ],
             [
              1,
              "#f0f921"
             ]
            ],
            "type": "histogram2d"
           }
          ],
          "histogram2dcontour": [
           {
            "colorbar": {
             "outlinewidth": 0,
             "ticks": ""
            },
            "colorscale": [
             [
              0,
              "#0d0887"
             ],
             [
              0.1111111111111111,
              "#46039f"
             ],
             [
              0.2222222222222222,
              "#7201a8"
             ],
             [
              0.3333333333333333,
              "#9c179e"
             ],
             [
              0.4444444444444444,
              "#bd3786"
             ],
             [
              0.5555555555555556,
              "#d8576b"
             ],
             [
              0.6666666666666666,
              "#ed7953"
             ],
             [
              0.7777777777777778,
              "#fb9f3a"
             ],
             [
              0.8888888888888888,
              "#fdca26"
             ],
             [
              1,
              "#f0f921"
             ]
            ],
            "type": "histogram2dcontour"
           }
          ],
          "mesh3d": [
           {
            "colorbar": {
             "outlinewidth": 0,
             "ticks": ""
            },
            "type": "mesh3d"
           }
          ],
          "parcoords": [
           {
            "line": {
             "colorbar": {
              "outlinewidth": 0,
              "ticks": ""
             }
            },
            "type": "parcoords"
           }
          ],
          "pie": [
           {
            "automargin": true,
            "type": "pie"
           }
          ],
          "scatter": [
           {
            "marker": {
             "colorbar": {
              "outlinewidth": 0,
              "ticks": ""
             }
            },
            "type": "scatter"
           }
          ],
          "scatter3d": [
           {
            "line": {
             "colorbar": {
              "outlinewidth": 0,
              "ticks": ""
             }
            },
            "marker": {
             "colorbar": {
              "outlinewidth": 0,
              "ticks": ""
             }
            },
            "type": "scatter3d"
           }
          ],
          "scattercarpet": [
           {
            "marker": {
             "colorbar": {
              "outlinewidth": 0,
              "ticks": ""
             }
            },
            "type": "scattercarpet"
           }
          ],
          "scattergeo": [
           {
            "marker": {
             "colorbar": {
              "outlinewidth": 0,
              "ticks": ""
             }
            },
            "type": "scattergeo"
           }
          ],
          "scattergl": [
           {
            "marker": {
             "colorbar": {
              "outlinewidth": 0,
              "ticks": ""
             }
            },
            "type": "scattergl"
           }
          ],
          "scattermapbox": [
           {
            "marker": {
             "colorbar": {
              "outlinewidth": 0,
              "ticks": ""
             }
            },
            "type": "scattermapbox"
           }
          ],
          "scatterpolar": [
           {
            "marker": {
             "colorbar": {
              "outlinewidth": 0,
              "ticks": ""
             }
            },
            "type": "scatterpolar"
           }
          ],
          "scatterpolargl": [
           {
            "marker": {
             "colorbar": {
              "outlinewidth": 0,
              "ticks": ""
             }
            },
            "type": "scatterpolargl"
           }
          ],
          "scatterternary": [
           {
            "marker": {
             "colorbar": {
              "outlinewidth": 0,
              "ticks": ""
             }
            },
            "type": "scatterternary"
           }
          ],
          "surface": [
           {
            "colorbar": {
             "outlinewidth": 0,
             "ticks": ""
            },
            "colorscale": [
             [
              0,
              "#0d0887"
             ],
             [
              0.1111111111111111,
              "#46039f"
             ],
             [
              0.2222222222222222,
              "#7201a8"
             ],
             [
              0.3333333333333333,
              "#9c179e"
             ],
             [
              0.4444444444444444,
              "#bd3786"
             ],
             [
              0.5555555555555556,
              "#d8576b"
             ],
             [
              0.6666666666666666,
              "#ed7953"
             ],
             [
              0.7777777777777778,
              "#fb9f3a"
             ],
             [
              0.8888888888888888,
              "#fdca26"
             ],
             [
              1,
              "#f0f921"
             ]
            ],
            "type": "surface"
           }
          ],
          "table": [
           {
            "cells": {
             "fill": {
              "color": "#EBF0F8"
             },
             "line": {
              "color": "white"
             }
            },
            "header": {
             "fill": {
              "color": "#C8D4E3"
             },
             "line": {
              "color": "white"
             }
            },
            "type": "table"
           }
          ]
         },
         "layout": {
          "annotationdefaults": {
           "arrowcolor": "#2a3f5f",
           "arrowhead": 0,
           "arrowwidth": 1
          },
          "autotypenumbers": "strict",
          "coloraxis": {
           "colorbar": {
            "outlinewidth": 0,
            "ticks": ""
           }
          },
          "colorscale": {
           "diverging": [
            [
             0,
             "#8e0152"
            ],
            [
             0.1,
             "#c51b7d"
            ],
            [
             0.2,
             "#de77ae"
            ],
            [
             0.3,
             "#f1b6da"
            ],
            [
             0.4,
             "#fde0ef"
            ],
            [
             0.5,
             "#f7f7f7"
            ],
            [
             0.6,
             "#e6f5d0"
            ],
            [
             0.7,
             "#b8e186"
            ],
            [
             0.8,
             "#7fbc41"
            ],
            [
             0.9,
             "#4d9221"
            ],
            [
             1,
             "#276419"
            ]
           ],
           "sequential": [
            [
             0,
             "#0d0887"
            ],
            [
             0.1111111111111111,
             "#46039f"
            ],
            [
             0.2222222222222222,
             "#7201a8"
            ],
            [
             0.3333333333333333,
             "#9c179e"
            ],
            [
             0.4444444444444444,
             "#bd3786"
            ],
            [
             0.5555555555555556,
             "#d8576b"
            ],
            [
             0.6666666666666666,
             "#ed7953"
            ],
            [
             0.7777777777777778,
             "#fb9f3a"
            ],
            [
             0.8888888888888888,
             "#fdca26"
            ],
            [
             1,
             "#f0f921"
            ]
           ],
           "sequentialminus": [
            [
             0,
             "#0d0887"
            ],
            [
             0.1111111111111111,
             "#46039f"
            ],
            [
             0.2222222222222222,
             "#7201a8"
            ],
            [
             0.3333333333333333,
             "#9c179e"
            ],
            [
             0.4444444444444444,
             "#bd3786"
            ],
            [
             0.5555555555555556,
             "#d8576b"
            ],
            [
             0.6666666666666666,
             "#ed7953"
            ],
            [
             0.7777777777777778,
             "#fb9f3a"
            ],
            [
             0.8888888888888888,
             "#fdca26"
            ],
            [
             1,
             "#f0f921"
            ]
           ]
          },
          "colorway": [
           "#636efa",
           "#EF553B",
           "#00cc96",
           "#ab63fa",
           "#FFA15A",
           "#19d3f3",
           "#FF6692",
           "#B6E880",
           "#FF97FF",
           "#FECB52"
          ],
          "font": {
           "color": "#2a3f5f"
          },
          "geo": {
           "bgcolor": "white",
           "lakecolor": "white",
           "landcolor": "#E5ECF6",
           "showlakes": true,
           "showland": true,
           "subunitcolor": "white"
          },
          "hoverlabel": {
           "align": "left"
          },
          "hovermode": "closest",
          "mapbox": {
           "style": "light"
          },
          "paper_bgcolor": "white",
          "plot_bgcolor": "#E5ECF6",
          "polar": {
           "angularaxis": {
            "gridcolor": "white",
            "linecolor": "white",
            "ticks": ""
           },
           "bgcolor": "#E5ECF6",
           "radialaxis": {
            "gridcolor": "white",
            "linecolor": "white",
            "ticks": ""
           }
          },
          "scene": {
           "xaxis": {
            "backgroundcolor": "#E5ECF6",
            "gridcolor": "white",
            "gridwidth": 2,
            "linecolor": "white",
            "showbackground": true,
            "ticks": "",
            "zerolinecolor": "white"
           },
           "yaxis": {
            "backgroundcolor": "#E5ECF6",
            "gridcolor": "white",
            "gridwidth": 2,
            "linecolor": "white",
            "showbackground": true,
            "ticks": "",
            "zerolinecolor": "white"
           },
           "zaxis": {
            "backgroundcolor": "#E5ECF6",
            "gridcolor": "white",
            "gridwidth": 2,
            "linecolor": "white",
            "showbackground": true,
            "ticks": "",
            "zerolinecolor": "white"
           }
          },
          "shapedefaults": {
           "line": {
            "color": "#2a3f5f"
           }
          },
          "ternary": {
           "aaxis": {
            "gridcolor": "white",
            "linecolor": "white",
            "ticks": ""
           },
           "baxis": {
            "gridcolor": "white",
            "linecolor": "white",
            "ticks": ""
           },
           "bgcolor": "#E5ECF6",
           "caxis": {
            "gridcolor": "white",
            "linecolor": "white",
            "ticks": ""
           }
          },
          "title": {
           "x": 0.05
          },
          "xaxis": {
           "automargin": true,
           "gridcolor": "white",
           "linecolor": "white",
           "ticks": "",
           "title": {
            "standoff": 15
           },
           "zerolinecolor": "white",
           "zerolinewidth": 2
          },
          "yaxis": {
           "automargin": true,
           "gridcolor": "white",
           "linecolor": "white",
           "ticks": "",
           "title": {
            "standoff": 15
           },
           "zerolinecolor": "white",
           "zerolinewidth": 2
          }
         }
        },
        "title": {
         "text": "<b>Reservoir trajectories </b>"
        },
        "xaxis": {
         "autorange": true,
         "range": [
          "2018-01-23",
          "2018-01-26"
         ],
         "title": {
          "text": "<b>Time</b> (Hour)"
         },
         "type": "date"
        },
        "yaxis": {
         "autorange": true,
         "range": [
          -3.1412037037037033,
          59.68287037037037
         ],
         "title": {
          "text": "<b>Volume</b> (Mm<sup>3</sup>)"
         },
         "type": "linear"
        }
       }
      },
      "image/png": "[encoded data removed]",
      "text/html": [
       "<div>                            <div id=\"7fc325f3-de85-47f7-ac52-7ef5e016cefb\" class=\"plotly-graph-div\" style=\"height:525px; width:100%;\"></div>            <script type=\"text/javascript\">                require([\"plotly\"], function(Plotly) {                    window.PLOTLYENV=window.PLOTLYENV || {};                                    if (document.getElementById(\"7fc325f3-de85-47f7-ac52-7ef5e016cefb\")) {                    Plotly.newPlot(                        \"7fc325f3-de85-47f7-ac52-7ef5e016cefb\",                        [{\"marker\":{\"color\":\"rgb(33,102,172)\"},\"name\":\"Reservoir1 storage\",\"type\":\"scatter\",\"x\":[\"2018-01-23T00:00:00\",\"2018-01-23T01:00:00\",\"2018-01-23T02:00:00\",\"2018-01-23T03:00:00\",\"2018-01-23T04:00:00\",\"2018-01-23T05:00:00\",\"2018-01-23T06:00:00\",\"2018-01-23T07:00:00\",\"2018-01-23T08:00:00\",\"2018-01-23T09:00:00\",\"2018-01-23T10:00:00\",\"2018-01-23T11:00:00\",\"2018-01-23T12:00:00\",\"2018-01-23T13:00:00\",\"2018-01-23T14:00:00\",\"2018-01-23T15:00:00\",\"2018-01-23T16:00:00\",\"2018-01-23T17:00:00\",\"2018-01-23T18:00:00\",\"2018-01-23T19:00:00\",\"2018-01-23T20:00:00\",\"2018-01-23T21:00:00\",\"2018-01-23T22:00:00\",\"2018-01-23T23:00:00\",\"2018-01-24T00:00:00\",\"2018-01-24T01:00:00\",\"2018-01-24T02:00:00\",\"2018-01-24T03:00:00\",\"2018-01-24T04:00:00\",\"2018-01-24T05:00:00\",\"2018-01-24T06:00:00\",\"2018-01-24T07:00:00\",\"2018-01-24T08:00:00\",\"2018-01-24T09:00:00\",\"2018-01-24T10:00:00\",\"2018-01-24T11:00:00\",\"2018-01-24T12:00:00\",\"2018-01-24T13:00:00\",\"2018-01-24T14:00:00\",\"2018-01-24T15:00:00\",\"2018-01-24T16:00:00\",\"2018-01-24T17:00:00\",\"2018-01-24T18:00:00\",\"2018-01-24T19:00:00\",\"2018-01-24T20:00:00\",\"2018-01-24T21:00:00\",\"2018-01-24T22:00:00\",\"2018-01-24T23:00:00\",\"2018-01-25T00:00:00\",\"2018-01-25T01:00:00\",\"2018-01-25T02:00:00\",\"2018-01-25T03:00:00\",\"2018-01-25T04:00:00\",\"2018-01-25T05:00:00\",\"2018-01-25T06:00:00\",\"2018-01-25T07:00:00\",\"2018-01-25T08:00:00\",\"2018-01-25T09:00:00\",\"2018-01-25T10:00:00\",\"2018-01-25T11:00:00\",\"2018-01-25T12:00:00\",\"2018-01-25T13:00:00\",\"2018-01-25T14:00:00\",\"2018-01-25T15:00:00\",\"2018-01-25T16:00:00\",\"2018-01-25T17:00:00\",\"2018-01-25T18:00:00\",\"2018-01-25T19:00:00\",\"2018-01-25T20:00:00\",\"2018-01-25T21:00:00\",\"2018-01-25T22:00:00\",\"2018-01-25T23:00:00\",\"2018-01-26T00:00:00\"],\"y\":[32.769999999999996,32.381944000000004,32.011648,31.641352,31.456204,31.085908,30.697852,30.274276,29.8507,29.427124,29.003548,28.579971999999998,28.156395999999997,27.732819999999997,27.309243999999996,26.885667999999995,26.462091999999995,26.038515999999994,25.614939999999994,25.209123999999992,24.838827999999992,24.468531999999993,24.274503999999993,24.08935599999999,23.90420799999999,23.90420799999999,23.90420799999999,23.90420799999999,23.90420799999999,23.90420799999999,23.90420799999999,23.71905999999999,23.34876399999999,22.97846799999999,22.60817199999999,22.23787599999999,22.04384799999999,21.84981999999999,21.66467199999999,21.479523999999987,21.294375999999986,21.109227999999984,20.924079999999982,20.73893199999998,20.55378399999998,20.368635999999977,20.368635999999977,20.368635999999977,20.368635999999977,20.368635999999977,20.368635999999977,20.368635999999977,20.368635999999977,20.368635999999977,20.368635999999977,20.368635999999977,20.174607999999978,19.98057999999998,19.78655199999998,19.59252399999998,19.407375999999978,19.222227999999976,19.037079999999975,18.851931999999973,18.66678399999997,18.472755999999972,18.102459999999972,17.732163999999973,17.538135999999973,17.35298799999997,17.16783999999997,17.16783999999997,17.16783999999997]},{\"marker\":{\"color\":\"rgb(67,147,195)\"},\"name\":\"Reservoir2 storage\",\"type\":\"scatter\",\"x\":[\"2018-01-23T00:00:00\",\"2018-01-23T01:00:00\",\"2018-01-23T02:00:00\",\"2018-01-23T03:00:00\",\"2018-01-23T04:00:00\",\"2018-01-23T05:00:00\",\"2018-01-23T06:00:00\",\"2018-01-23T07:00:00\",\"2018-01-23T08:00:00\",\"2018-01-23T09:00:00\",\"2018-01-23T10:00:00\",\"2018-01-23T11:00:00\",\"2018-01-23T12:00:00\",\"2018-01-23T13:00:00\",\"2018-01-23T14:00:00\",\"2018-01-23T15:00:00\",\"2018-01-23T16:00:00\",\"2018-01-23T17:00:00\",\"2018-01-23T18:00:00\",\"2018-01-23T19:00:00\",\"2018-01-23T20:00:00\",\"2018-01-23T21:00:00\",\"2018-01-23T22:00:00\",\"2018-01-23T23:00:00\",\"2018-01-24T00:00:00\",\"2018-01-24T01:00:00\",\"2018-01-24T02:00:00\",\"2018-01-24T03:00:00\",\"2018-01-24T04:00:00\",\"2018-01-24T05:00:00\",\"2018-01-24T06:00:00\",\"2018-01-24T07:00:00\",\"2018-01-24T08:00:00\",\"2018-01-24T09:00:00\",\"2018-01-24T10:00:00\",\"2018-01-24T11:00:00\",\"2018-01-24T12:00:00\",\"2018-01-24T13:00:00\",\"2018-01-24T14:00:00\",\"2018-01-24T15:00:00\",\"2018-01-24T16:00:00\",\"2018-01-24T17:00:00\",\"2018-01-24T18:00:00\",\"2018-01-24T19:00:00\",\"2018-01-24T20:00:00\",\"2018-01-24T21:00:00\",\"2018-01-24T22:00:00\",\"2018-01-24T23:00:00\",\"2018-01-25T00:00:00\",\"2018-01-25T01:00:00\",\"2018-01-25T02:00:00\",\"2018-01-25T03:00:00\",\"2018-01-25T04:00:00\",\"2018-01-25T05:00:00\",\"2018-01-25T06:00:00\",\"2018-01-25T07:00:00\",\"2018-01-25T08:00:00\",\"2018-01-25T09:00:00\",\"2018-01-25T10:00:00\",\"2018-01-25T11:00:00\",\"2018-01-25T12:00:00\",\"2018-01-25T13:00:00\",\"2018-01-25T14:00:00\",\"2018-01-25T15:00:00\",\"2018-01-25T16:00:00\",\"2018-01-25T17:00:00\",\"2018-01-25T18:00:00\",\"2018-01-25T19:00:00\",\"2018-01-25T20:00:00\",\"2018-01-25T21:00:00\",\"2018-01-25T22:00:00\",\"2018-01-25T23:00:00\",\"2018-01-26T00:00:00\"],\"y\":[56.541666666666664,56.082808109126574,55.60585702819553,55.233445779068276,54.78058440793544,54.40721953593307,53.911478751842964,53.082685862427226,51.89415449935223,50.701255168090626,49.853903828826276,49.00131902032579,48.14341950878186,47.2801079457197,46.4112043431227,45.536453521416774,44.6557550068303,43.76900511270168,42.87598841125614,41.95882719848488,41.36655222630836,40.82411676550298,40.15738877129387,39.48106540587265,38.80401245175899,38.037304588747276,37.274483199025376,36.61684483895353,35.95836473244195,35.2017233235033,34.42856119325892,33.74568382825305,33.14203673348181,32.53763339801134,31.932468675856367,31.37908536437733,30.648729311439865,29.91743019177685,29.176265898137625,28.43403226206711,27.690688324110198,26.946223444319124,26.200626804350048,25.453887404160263,24.70595100502703,24.009314989079584,23.12635890996913,22.241903157248274,21.465048832281408,20.674271593147196,19.89562160768967,19.210781718007045,18.524600681915285,17.83702420917143,17.042639911727612,16.155779911727613,15.357851911727614,14.559923911727614,13.761995911727613,12.964067911727613,12.157259911727612,11.350451911727612,10.543643911727612,9.736835911727612,8.930027911727612,7.772111911727611,6.7904639117276115,5.808815911727612,4.6508999117276115,3.484103911727611,2.3173079117276103,0.9919559999999998,0.0]}],                        {\"template\":{\"data\":{\"bar\":[{\"error_x\":{\"color\":\"#2a3f5f\"},\"error_y\":{\"color\":\"#2a3f5f\"},\"marker\":{\"line\":{\"color\":\"#E5ECF6\",\"width\":0.5},\"pattern\":{\"fillmode\":\"overlay\",\"size\":10,\"solidity\":0.2}},\"type\":\"bar\"}],\"barpolar\":[{\"marker\":{\"line\":{\"color\":\"#E5ECF6\",\"width\":0.5},\"pattern\":{\"fillmode\":\"overlay\",\"size\":10,\"solidity\":0.2}},\"type\":\"barpolar\"}],\"carpet\":[{\"aaxis\":{\"endlinecolor\":\"#2a3f5f\",\"gridcolor\":\"white\",\"linecolor\":\"white\",\"minorgridcolor\":\"white\",\"startlinecolor\":\"#2a3f5f\"},\"baxis\":{\"endlinecolor\":\"#2a3f5f\",\"gridcolor\":\"white\",\"linecolor\":\"white\",\"minorgridcolor\":\"white\",\"startlinecolor\":\"#2a3f5f\"},\"type\":\"carpet\"}],\"choropleth\":[{\"colorbar\":{\"outlinewidth\":0,\"ticks\":\"\"},\"type\":\"choropleth\"}],\"contour\":[{\"colorbar\":{\"outlinewidth\":0,\"ticks\":\"\"},\"colorscale\":[[0.0,\"#0d0887\"],[0.1111111111111111,\"#46039f\"],[0.2222222222222222,\"#7201a8\"],[0.3333333333333333,\"#9c179e\"],[0.4444444444444444,\"#bd3786\"],[0.5555555555555556,\"#d8576b\"],[0.6666666666666666,\"#ed7953\"],[0.7777777777777778,\"#fb9f3a\"],[0.8888888888888888,\"#fdca26\"],[1.0,\"#f0f921\"]],\"type\":\"contour\"}],\"contourcarpet\":[{\"colorbar\":{\"outlinewidth\":0,\"ticks\":\"\"},\"type\":\"contourcarpet\"}],\"heatmap\":[{\"colorbar\":{\"outlinewidth\":0,\"ticks\":\"\"},\"colorscale\":[[0.0,\"#0d0887\"],[0.1111111111111111,\"#46039f\"],[0.2222222222222222,\"#7201a8\"],[0.3333333333333333,\"#9c179e\"],[0.4444444444444444,\"#bd3786\"],[0.5555555555555556,\"#d8576b\"],[0.6666666666666666,\"#ed7953\"],[0.7777777777777778,\"#fb9f3a\"],[0.8888888888888888,\"#fdca26\"],[1.0,\"#f0f921\"]],\"type\":\"heatmap\"}],\"heatmapgl\":[{\"colorbar\":{\"outlinewidth\":0,\"ticks\":\"\"},\"colorscale\":[[0.0,\"#0d0887\"],[0.1111111111111111,\"#46039f\"],[0.2222222222222222,\"#7201a8\"],[0.3333333333333333,\"#9c179e\"],[0.4444444444444444,\"#bd3786\"],[0.5555555555555556,\"#d8576b\"],[0.6666666666666666,\"#ed7953\"],[0.7777777777777778,\"#fb9f3a\"],[0.8888888888888888,\"#fdca26\"],[1.0,\"#f0f921\"]],\"type\":\"heatmapgl\"}],\"histogram\":[{\"marker\":{\"pattern\":{\"fillmode\":\"overlay\",\"size\":10,\"solidity\":0.2}},\"type\":\"histogram\"}],\"histogram2d\":[{\"colorbar\":{\"outlinewidth\":0,\"ticks\":\"\"},\"colorscale\":[[0.0,\"#0d0887\"],[0.1111111111111111,\"#46039f\"],[0.2222222222222222,\"#7201a8\"],[0.3333333333333333,\"#9c179e\"],[0.4444444444444444,\"#bd3786\"],[0.5555555555555556,\"#d8576b\"],[0.6666666666666666,\"#ed7953\"],[0.7777777777777778,\"#fb9f3a\"],[0.8888888888888888,\"#fdca26\"],[1.0,\"#f0f921\"]],\"type\":\"histogram2d\"}],\"histogram2dcontour\":[{\"colorbar\":{\"outlinewidth\":0,\"ticks\":\"\"},\"colorscale\":[[0.0,\"#0d0887\"],[0.1111111111111111,\"#46039f\"],[0.2222222222222222,\"#7201a8\"],[0.3333333333333333,\"#9c179e\"],[0.4444444444444444,\"#bd3786\"],[0.5555555555555556,\"#d8576b\"],[0.6666666666666666,\"#ed7953\"],[0.7777777777777778,\"#fb9f3a\"],[0.8888888888888888,\"#fdca26\"],[1.0,\"#f0f921\"]],\"type\":\"histogram2dcontour\"}],\"mesh3d\":[{\"colorbar\":{\"outlinewidth\":0,\"ticks\":\"\"},\"type\":\"mesh3d\"}],\"parcoords\":[{\"line\":{\"colorbar\":{\"outlinewidth\":0,\"ticks\":\"\"}},\"type\":\"parcoords\"}],\"pie\":[{\"automargin\":true,\"type\":\"pie\"}],\"scatter\":[{\"marker\":{\"colorbar\":{\"outlinewidth\":0,\"ticks\":\"\"}},\"type\":\"scatter\"}],\"scatter3d\":[{\"line\":{\"colorbar\":{\"outlinewidth\":0,\"ticks\":\"\"}},\"marker\":{\"colorbar\":{\"outlinewidth\":0,\"ticks\":\"\"}},\"type\":\"scatter3d\"}],\"scattercarpet\":[{\"marker\":{\"colorbar\":{\"outlinewidth\":0,\"ticks\":\"\"}},\"type\":\"scattercarpet\"}],\"scattergeo\":[{\"marker\":{\"colorbar\":{\"outlinewidth\":0,\"ticks\":\"\"}},\"type\":\"scattergeo\"}],\"scattergl\":[{\"marker\":{\"colorbar\":{\"outlinewidth\":0,\"ticks\":\"\"}},\"type\":\"scattergl\"}],\"scattermapbox\":[{\"marker\":{\"colorbar\":{\"outlinewidth\":0,\"ticks\":\"\"}},\"type\":\"scattermapbox\"}],\"scatterpolar\":[{\"marker\":{\"colorbar\":{\"outlinewidth\":0,\"ticks\":\"\"}},\"type\":\"scatterpolar\"}],\"scatterpolargl\":[{\"marker\":{\"colorbar\":{\"outlinewidth\":0,\"ticks\":\"\"}},\"type\":\"scatterpolargl\"}],\"scatterternary\":[{\"marker\":{\"colorbar\":{\"outlinewidth\":0,\"ticks\":\"\"}},\"type\":\"scatterternary\"}],\"surface\":[{\"colorbar\":{\"outlinewidth\":0,\"ticks\":\"\"},\"colorscale\":[[0.0,\"#0d0887\"],[0.1111111111111111,\"#46039f\"],[0.2222222222222222,\"#7201a8\"],[0.3333333333333333,\"#9c179e\"],[0.4444444444444444,\"#bd3786\"],[0.5555555555555556,\"#d8576b\"],[0.6666666666666666,\"#ed7953\"],[0.7777777777777778,\"#fb9f3a\"],[0.8888888888888888,\"#fdca26\"],[1.0,\"#f0f921\"]],\"type\":\"surface\"}],\"table\":[{\"cells\":{\"fill\":{\"color\":\"#EBF0F8\"},\"line\":{\"color\":\"white\"}},\"header\":{\"fill\":{\"color\":\"#C8D4E3\"},\"line\":{\"color\":\"white\"}},\"type\":\"table\"}]},\"layout\":{\"annotationdefaults\":{\"arrowcolor\":\"#2a3f5f\",\"arrowhead\":0,\"arrowwidth\":1},\"autotypenumbers\":\"strict\",\"coloraxis\":{\"colorbar\":{\"outlinewidth\":0,\"ticks\":\"\"}},\"colorscale\":{\"diverging\":[[0,\"#8e0152\"],[0.1,\"#c51b7d\"],[0.2,\"#de77ae\"],[0.3,\"#f1b6da\"],[0.4,\"#fde0ef\"],[0.5,\"#f7f7f7\"],[0.6,\"#e6f5d0\"],[0.7,\"#b8e186\"],[0.8,\"#7fbc41\"],[0.9,\"#4d9221\"],[1,\"#276419\"]],\"sequential\":[[0.0,\"#0d0887\"],[0.1111111111111111,\"#46039f\"],[0.2222222222222222,\"#7201a8\"],[0.3333333333333333,\"#9c179e\"],[0.4444444444444444,\"#bd3786\"],[0.5555555555555556,\"#d8576b\"],[0.6666666666666666,\"#ed7953\"],[0.7777777777777778,\"#fb9f3a\"],[0.8888888888888888,\"#fdca26\"],[1.0,\"#f0f921\"]],\"sequentialminus\":[[0.0,\"#0d0887\"],[0.1111111111111111,\"#46039f\"],[0.2222222222222222,\"#7201a8\"],[0.3333333333333333,\"#9c179e\"],[0.4444444444444444,\"#bd3786\"],[0.5555555555555556,\"#d8576b\"],[0.6666666666666666,\"#ed7953\"],[0.7777777777777778,\"#fb9f3a\"],[0.8888888888888888,\"#fdca26\"],[1.0,\"#f0f921\"]]},\"colorway\":[\"#636efa\",\"#EF553B\",\"#00cc96\",\"#ab63fa\",\"#FFA15A\",\"#19d3f3\",\"#FF6692\",\"#B6E880\",\"#FF97FF\",\"#FECB52\"],\"font\":{\"color\":\"#2a3f5f\"},\"geo\":{\"bgcolor\":\"white\",\"lakecolor\":\"white\",\"landcolor\":\"#E5ECF6\",\"showlakes\":true,\"showland\":true,\"subunitcolor\":\"white\"},\"hoverlabel\":{\"align\":\"left\"},\"hovermode\":\"closest\",\"mapbox\":{\"style\":\"light\"},\"paper_bgcolor\":\"white\",\"plot_bgcolor\":\"#E5ECF6\",\"polar\":{\"angularaxis\":{\"gridcolor\":\"white\",\"linecolor\":\"white\",\"ticks\":\"\"},\"bgcolor\":\"#E5ECF6\",\"radialaxis\":{\"gridcolor\":\"white\",\"linecolor\":\"white\",\"ticks\":\"\"}},\"scene\":{\"xaxis\":{\"backgroundcolor\":\"#E5ECF6\",\"gridcolor\":\"white\",\"gridwidth\":2,\"linecolor\":\"white\",\"showbackground\":true,\"ticks\":\"\",\"zerolinecolor\":\"white\"},\"yaxis\":{\"backgroundcolor\":\"#E5ECF6\",\"gridcolor\":\"white\",\"gridwidth\":2,\"linecolor\":\"white\",\"showbackground\":true,\"ticks\":\"\",\"zerolinecolor\":\"white\"},\"zaxis\":{\"backgroundcolor\":\"#E5ECF6\",\"gridcolor\":\"white\",\"gridwidth\":2,\"linecolor\":\"white\",\"showbackground\":true,\"ticks\":\"\",\"zerolinecolor\":\"white\"}},\"shapedefaults\":{\"line\":{\"color\":\"#2a3f5f\"}},\"ternary\":{\"aaxis\":{\"gridcolor\":\"white\",\"linecolor\":\"white\",\"ticks\":\"\"},\"baxis\":{\"gridcolor\":\"white\",\"linecolor\":\"white\",\"ticks\":\"\"},\"bgcolor\":\"#E5ECF6\",\"caxis\":{\"gridcolor\":\"white\",\"linecolor\":\"white\",\"ticks\":\"\"}},\"title\":{\"x\":0.05},\"xaxis\":{\"automargin\":true,\"gridcolor\":\"white\",\"linecolor\":\"white\",\"ticks\":\"\",\"title\":{\"standoff\":15},\"zerolinecolor\":\"white\",\"zerolinewidth\":2},\"yaxis\":{\"automargin\":true,\"gridcolor\":\"white\",\"linecolor\":\"white\",\"ticks\":\"\",\"title\":{\"standoff\":15},\"zerolinecolor\":\"white\",\"zerolinewidth\":2}}},\"title\":{\"text\":\"<b>Reservoir trajectories </b>\"},\"xaxis\":{\"title\":{\"text\":\"<b>Time</b> (Hour)\"}},\"yaxis\":{\"title\":{\"text\":\"<b>Volume</b> (Mm<sup>3</sup>)\"}}},                        {\"responsive\": true}                    ).then(function(){\n",
       "                            \n",
       "var gd = document.getElementById('7fc325f3-de85-47f7-ac52-7ef5e016cefb');\n",
       "var x = new MutationObserver(function (mutations, observer) {{\n",
       "        var display = window.getComputedStyle(gd).display;\n",
       "        if (!display || display === 'none') {{\n",
       "            console.log([gd, 'removed!']);\n",
       "            Plotly.purge(gd);\n",
       "            observer.disconnect();\n",
       "        }}\n",
       "}});\n",
       "\n",
       "// Listen for the removal of the full notebook cells\n",
       "var notebookContainer = gd.closest('#notebook-container');\n",
       "if (notebookContainer) {{\n",
       "    x.observe(notebookContainer, {childList: true});\n",
       "}}\n",
       "\n",
       "// Listen for the clearing of the current output cell\n",
       "var outputEl = gd.closest('.output');\n",
       "if (outputEl) {{\n",
       "    x.observe(outputEl, {childList: true});\n",
       "}}\n",
       "\n",
       "                        })                };                });            </script>        </div>"
      ]
     },
     "metadata": {},
     "output_type": "display_data"
    }
   ],
   "source": [
    "# Plotting reservoir trajectories\r\n",
    "water_storage_rsv1=shop.model.reservoir.Reservoir1.storage.get()\r\n",
    "water_storage_rsv2=shop.model.reservoir.Reservoir2.storage.get()\r\n",
    "fig = go.Figure()\r\n",
    "colorscale = px.colors.sequential.RdBu_r\r\n",
    "fig.add_trace(go.Scatter(x=water_storage_rsv1.index, y=water_storage_rsv1.values, name=\"Reservoir1 storage\", marker_color=colorscale[1]))\r\n",
    "fig.add_trace(go.Scatter(x=water_storage_rsv2.index, y=water_storage_rsv2.values, name=\"Reservoir2 storage\", marker_color=colorscale[2]))\r\n",
    "fig.update_layout(title=\"<b>Reservoir trajectories </b>\", xaxis_title=\"<b>Time</b> (Hour)\", yaxis_title=\"<b>Volume</b> (Mm<sup>3</sup>)\")\r\n",
    "fig.show()"
   ]
  },
  {
   "cell_type": "markdown",
   "metadata": {
    "Collapsed": "false"
   },
   "source": [
    "Lastly, we can inspect individual values describing our model run."
   ]
  },
  {
   "cell_type": "code",
   "execution_count": 37,
   "metadata": {
    "Collapsed": "false"
   },
   "outputs": [
    {
     "name": "stdout",
     "output_type": "stream",
     "text": [
      "Income from fixed load: -0.0\n",
      "Sum of selling vs. buying in the market: -874097.1583152513\n",
      "End reservoir value: -335498.5310546689\n",
      "Sum of startup costs: 3100.0\n",
      "Sum of load penalties: 0.0\n",
      "Total objective value: -1206495.6893699202\n",
      "Grand total objective value (excluding major penalties): -1206495.6893699202\n"
     ]
    }
   ],
   "source": [
    "print(\"Income from fixed load:\",shop.model.objective.scen_1.load_value.get())\r\n",
    "print(\"Sum of selling vs. buying in the market:\", shop.model.objective.scen_1.market_sale_buy.get())\r\n",
    "print(\"End reservoir value:\", shop.model.objective.scen_1.rsv_end_value.get())\r\n",
    "print(\"Sum of startup costs:\", shop.model.objective.scen_1.startup_costs.get())\r\n",
    "print(\"Sum of load penalties:\", shop.model.objective.scen_1.load_penalty.get())\r\n",
    "print(\"Total objective value:\", shop.model.objective.scen_1.total.get())\r\n",
    "print(\"Grand total objective value (excluding major penalties):\", shop.model.objective.scen_1.grand_total.get())"
   ]
  }
 ],
 "metadata": {
  "interpreter": {
   "hash": "4223153fc3680f012c12488c2bfc79714a2d6819fdc0439337abb73470cb9161"
  },
  "kernelspec": {
   "display_name": "Python 3",
   "language": "python",
   "name": "python3"
  },
  "language_info": {
   "codemirror_mode": {
    "name": "ipython",
    "version": 3
   },
   "file_extension": ".py",
   "mimetype": "text/x-python",
   "name": "python",
   "nbconvert_exporter": "python",
   "pygments_lexer": "ipython3",
   "version": "3.7.6"
  },
  "widgets": {
   "application/vnd.jupyter.widget-state+json": {
    "state": {},
    "version_major": 2,
    "version_minor": 0
   }
  }
 },
 "nbformat": 4,
 "nbformat_minor": 4
}
