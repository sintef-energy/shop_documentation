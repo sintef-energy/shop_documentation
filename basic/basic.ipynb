{
 "cells": [
  {
   "cell_type": "markdown",
   "metadata": {
    "Collapsed": "false"
   },
   "source": [
    "# Basic example\r\n"
   ]
  },
  {
   "cell_type": "markdown",
   "metadata": {
    "Collapsed": "false"
   },
   "source": [
    "This example contains the most commonly used objects, attributes, functions and commands for a basic SHOP model, in addition to examples of how to review and plot input data and results. \r\n",
    "\r\n",
    "It is not dependent on any other data sources such as ASCII files or spreadsheets, as all input data remain intact in the notebook (or Python code) itself, and is fully dependent on the API and pyshop for interacting with SHOP.\r\n",
    "\r\n",
    "The example watercourse consist of a simple SHOP model with two reservoirs and two plants which is optimized over the span of three days. \r\n",
    "\r\n",
    "We will show how to import all necessary packages, settings and data, create a SHOP instance and add all needed objects and populate them with data, before we run SHOP with a selection of commands and review the results in the end.\r\n",
    "\r\n",
    "While the model in this example is quite simple, it can serve as a good reference when designing your own models. It illustrates an intuitive way of designing models in PyShop by incrementally initializing new objects like reservoirs, plants, generators and markets, setting their key attributes before connecting them together into the a desired topology. The model is then optimized, before the results are retrieved and presented through plots."
   ]
  },
  {
   "cell_type": "markdown",
   "metadata": {
    "Collapsed": "false"
   },
   "source": [
    "## Imports and settings"
   ]
  },
  {
   "cell_type": "markdown",
   "metadata": {
    "Collapsed": "false"
   },
   "source": [
    "The first thing we do is to import the needed packages. You can import whichever packages you like, however we use the following ones for this example:\r\n",
    "\r\n",
    "* Pandas for structuring our data into dataframes\r\n",
    "* Cufflinks and Plotly for dynamic graph plotting\r\n",
    "* Pyshop in order to create a SHOP session"
   ]
  },
  {
   "cell_type": "code",
   "execution_count": 1,
   "metadata": {
    "Collapsed": "false"
   },
   "outputs": [],
   "source": [
    "import pandas as pd\r\n",
    "import cufflinks as cf\r\n",
    "from cufflinks import tools\r\n",
    "import plotly.offline as py\r\n",
    "import plotly.graph_objs as go\r\n",
    "import plotly.express as px\r\n",
    "from plotly.subplots import make_subplots\r\n",
    "from pyshop import ShopSession"
   ]
  },
  {
   "cell_type": "markdown",
   "metadata": {
    "Collapsed": "false"
   },
   "source": [
    "Additionally, we set Cufflinks and Plotly to an offline state, only usable in this notebook/environment, without any cloud connectivity:"
   ]
  },
  {
   "cell_type": "code",
   "execution_count": 2,
   "metadata": {
    "Collapsed": "false"
   },
   "outputs": [
    {
     "data": {
      "text/html": [
       "        <script type=\"text/javascript\">\n",
       "        window.PlotlyConfig = {MathJaxConfig: 'local'};\n",
       "        if (window.MathJax) {MathJax.Hub.Config({SVG: {font: \"STIX-Web\"}});}\n",
       "        if (typeof require !== 'undefined') {\n",
       "        require.undef(\"plotly\");\n",
       "        requirejs.config({\n",
       "            paths: {\n",
       "                'plotly': ['https://cdn.plot.ly/plotly-latest.min']\n",
       "            }\n",
       "        });\n",
       "        require(['plotly'], function(Plotly) {\n",
       "            window._Plotly = Plotly;\n",
       "        });\n",
       "        }\n",
       "        </script>\n",
       "        "
      ]
     },
     "metadata": {},
     "output_type": "display_data"
    }
   ],
   "source": [
    "cf.go_offline()"
   ]
  },
  {
   "cell_type": "markdown",
   "metadata": {
    "Collapsed": "false"
   },
   "source": [
    "## Instancing SHOP"
   ]
  },
  {
   "cell_type": "markdown",
   "metadata": {
    "Collapsed": "false"
   },
   "source": [
    "In order to have SHOP receive our inputs, run the model we create and give us results, we need to create an active, running SHOP session.\r\n",
    "\r\n",
    "You may create multiple SHOP sessions simultaneously if needed."
   ]
  },
  {
   "cell_type": "code",
   "execution_count": 3,
   "metadata": {
    "Collapsed": "false"
   },
   "outputs": [],
   "source": [
    "# Creating a new SHOP session to the instance 'shop'\r\n",
    "shop = ShopSession()"
   ]
  },
  {
   "cell_type": "markdown",
   "metadata": {
    "Collapsed": "false"
   },
   "source": [
    "We can also check the current versions of SHOP and its solvers."
   ]
  },
  {
   "cell_type": "code",
   "execution_count": 4,
   "metadata": {
    "Collapsed": "false"
   },
   "outputs": [
    {
     "data": {
      "text/plain": [
       "'14.0.2.0 Cplex 20.1.0 Gurobi 7.5 OSI/CBC 2.9 2021-09-28'"
      ]
     },
     "execution_count": 4,
     "metadata": {},
     "output_type": "execute_result"
    }
   ],
   "source": [
    "# Writing out the current version of SHOP and its solvers\r\n",
    "shop.shop_api.GetVersionString()"
   ]
  },
  {
   "cell_type": "markdown",
   "metadata": {
    "Collapsed": "false"
   },
   "source": [
    "## Setting time resolutions for the model"
   ]
  },
  {
   "cell_type": "markdown",
   "metadata": {
    "Collapsed": "false"
   },
   "source": [
    "We set the time resolution for the model ourselves, as we generate all input as we go. The start and end time are important, in addition to the resolution of the time steps."
   ]
  },
  {
   "cell_type": "code",
   "execution_count": 5,
   "metadata": {
    "Collapsed": "false"
   },
   "outputs": [],
   "source": [
    "# Setting the start time of the model\r\n",
    "starttime = pd.Timestamp('2018-01-23 00:00:00')\r\n",
    "\r\n",
    "# Setting the end time of the model\r\n",
    "endtime = pd.Timestamp('2018-01-26')\r\n",
    "\r\n",
    "# Setting the start and end time to the shop instance, and defining the time unit\r\n",
    "shop.set_time_resolution(starttime=starttime, endtime=endtime, timeunit=\"hour\", timeresolution=pd.Series(index=[starttime],data=[1]))"
   ]
  },
  {
   "cell_type": "markdown",
   "metadata": {
    "Collapsed": "false"
   },
   "source": [
    "## Adding topology parameters"
   ]
  },
  {
   "cell_type": "markdown",
   "metadata": {
    "Collapsed": "false"
   },
   "source": [
    "In this example we define the entire topology and generate all its parameters via Python and the API. Below are simple examples on how to define the most common topology objects needed in order to run SHOP."
   ]
  },
  {
   "cell_type": "markdown",
   "metadata": {
    "Collapsed": "false"
   },
   "source": [
    "### Reservoirs"
   ]
  },
  {
   "cell_type": "markdown",
   "metadata": {
    "Collapsed": "false"
   },
   "source": [
    "First, we start of by creating our reservoir objects. It is possible to just execute the function, or we can instance them. The latter is preferred, as the syntax for adding attributes to objects become shorter, in addition to it being handy."
   ]
  },
  {
   "cell_type": "code",
   "execution_count": 6,
   "metadata": {
    "Collapsed": "false"
   },
   "outputs": [],
   "source": [
    "# Add reservoir objects to the model and instancing them\r\n",
    "rsv1 = shop.model.reservoir.add_object('Reservoir1')\r\n",
    "rsv2 = shop.model.reservoir.add_object('Reservoir2')\r\n",
    "# Alternatively, only the right hand side can be executed, however it is often nice to refer to instances later on"
   ]
  },
  {
   "cell_type": "markdown",
   "metadata": {
    "Collapsed": "false"
   },
   "source": [
    "We can then verify that all reservoir objects are correctly added to the model instance:"
   ]
  },
  {
   "cell_type": "code",
   "execution_count": 7,
   "metadata": {
    "Collapsed": "false"
   },
   "outputs": [
    {
     "data": {
      "text/plain": [
       "['Reservoir1', 'Reservoir2']"
      ]
     },
     "execution_count": 7,
     "metadata": {},
     "output_type": "execute_result"
    }
   ],
   "source": [
    "shop.model.reservoir.get_object_names()"
   ]
  },
  {
   "cell_type": "markdown",
   "metadata": {
    "Collapsed": "false"
   },
   "source": [
    "Next, it is time to set the different parameters to the newly created objects, either via the instance, or directly through the function. Below are examples of both."
   ]
  },
  {
   "cell_type": "code",
   "execution_count": 8,
   "metadata": {
    "Collapsed": "false"
   },
   "outputs": [],
   "source": [
    "# Setting the maximum volume in Mm3 via the instance \r\n",
    "rsv1.max_vol.set(39)\r\n",
    "rsv2.max_vol.set(97.5)\r\n",
    "\r\n",
    "# Setting the LRL (Lowest Regulated Level) of the reservoir in masl via the instance \r\n",
    "rsv1.lrl.set(860)\r\n",
    "rsv2.lrl.set(650)\r\n",
    "\r\n",
    "# Setting the HRL (Highest Regulated Level) of the reservoir in masl by command\r\n",
    "shop.model.reservoir.Reservoir1.hrl.set(905)\r\n",
    "shop.model.reservoir.Reservoir2.hrl.set(679)"
   ]
  },
  {
   "cell_type": "markdown",
   "metadata": {
    "Collapsed": "false"
   },
   "source": [
    "We can then verify that these values have been stored correctly onto the object. We can either make a call to the instance, or execute the function directly."
   ]
  },
  {
   "cell_type": "code",
   "execution_count": 9,
   "metadata": {
    "Collapsed": "false"
   },
   "outputs": [
    {
     "name": "stdout",
     "output_type": "stream",
     "text": [
      "HRL of Reservoir 1:  905.0\n",
      "HRL of Reservoir 2:  679.0\n"
     ]
    }
   ],
   "source": [
    "# Using the instanced rsv1 to retrieve the HRL of the reservoir objects\r\n",
    "print(\"HRL of Reservoir 1: \",rsv1.hrl.get())\r\n",
    "print(\"HRL of Reservoir 2: \",rsv2.hrl.get())"
   ]
  },
  {
   "cell_type": "code",
   "execution_count": 10,
   "metadata": {
    "Collapsed": "false"
   },
   "outputs": [
    {
     "name": "stdout",
     "output_type": "stream",
     "text": [
      "LRL of Reservoir 1:  860.0\n",
      "LRL of Reservoir 2:  650.0\n"
     ]
    }
   ],
   "source": [
    "# Using the function directly to retrieve the LRL of Reservoir1\r\n",
    "print(\"LRL of Reservoir 1: \",shop.model.reservoir.Reservoir1.lrl.get())\r\n",
    "print(\"LRL of Reservoir 2: \",shop.model.reservoir.Reservoir2.lrl.get())"
   ]
  },
  {
   "cell_type": "markdown",
   "metadata": {
    "Collapsed": "false"
   },
   "source": [
    "We continue the process of setting all relevant attributes to the reservoir objects.\r\n",
    "!!!Ref. til I/O."
   ]
  },
  {
   "cell_type": "code",
   "execution_count": 11,
   "metadata": {
    "Collapsed": "false"
   },
   "outputs": [],
   "source": [
    "# Setting the stage storage curve, the relation between the reservoir volume (in Mm3) and the height of the reservoir (in masl)\r\n",
    "rsv1.vol_head.set(\r\n",
    "    pd.Series([860, 862, 864, 866, 870, 872, 874, 876, 878, 880, 882, 884, 886, 888, 890, 894, 896, 898, 902, 904, 905, 907], \r\n",
    "              index=[0, 0.91, 1.87, 2.88, 5.07, 6.27, 7.56, 8.91, 10.34, 11.87, 13.53, 15.27, 17.11, 19.05, 21.1, 25.65, 27.96, 30.36, 35.18, 37.68, 39, 41.66], name=0))\r\n",
    "rsv2.vol_head.set(\r\n",
    "    pd.Series([650, 651.28, 652.55, 653.83, 656.38, 657.66, 658.94, 660.21, 661.49, 662.77, 664.04, 665.32, 666.6, 667.87, 669.15, 671.70, 672.98, 674.26, 676.81, 678.09, 679, 680], \r\n",
    "              index=[0, 2.275, 4.675, 7.2, 12.675, 15.675, 18.9, 22.275, 25.85, 29.675, 33.825, 38.175, 42.775, 47.625, 52.75, 64.125, 69.9, 75.9, 87.95, 94.2, 97.5, 104.15], name=0))"
   ]
  },
  {
   "cell_type": "code",
   "execution_count": 12,
   "metadata": {
    "Collapsed": "false"
   },
   "outputs": [],
   "source": [
    "# Setting the overflow description, the (linear) relation between spillage (in m3/s) and masl.\r\n",
    "rsv1.flow_descr.set(pd.Series([0, 132], index=[906, 907], name=0))\r\n",
    "rsv2.flow_descr.set(pd.Series([0, 132], index=[679, 680], name=0))\r\n",
    "\r\n",
    "# Inflow to the reservoir is an example of an attribute that can be set as a time series,using indexes that relate values to points in time\r\n",
    "rsv2.inflow.set(pd.Series([60], [starttime]))"
   ]
  },
  {
   "cell_type": "markdown",
   "metadata": {
    "Collapsed": "false"
   },
   "source": [
    "In order to let the model know which initial conditions are set, i.e. the initial start reservoir levels, we need to define them."
   ]
  },
  {
   "cell_type": "code",
   "execution_count": 13,
   "metadata": {
    "Collapsed": "false"
   },
   "outputs": [],
   "source": [
    "# Setting the initial start reservoir height in masl\r\n",
    "rsv1.start_head.set(900)\r\n",
    "rsv2.start_head.set(670)"
   ]
  },
  {
   "cell_type": "markdown",
   "metadata": {
    "Collapsed": "false"
   },
   "source": [
    "We also define the endpoint descriptions (water values) for the reservoirs. The model needs these in order to compare the value of the water remaining in the reservoirs at the end of the period compared to the value of selling the water in the market given the market price."
   ]
  },
  {
   "cell_type": "code",
   "execution_count": 14,
   "metadata": {
    "Collapsed": "false"
   },
   "outputs": [],
   "source": [
    "# Setting the endpoint description (water value) to 'rsv1' in NOK/MWh\r\n",
    "rsv1.energy_value_input.set(30)\r\n",
    "# Setting the endpoint description (water value) to 'rsv2' in NOK/MWh\r\n",
    "rsv2.energy_value_input.set(10)"
   ]
  },
  {
   "cell_type": "markdown",
   "metadata": {
    "Collapsed": "false"
   },
   "source": [
    "Now let's review some of the input graphically. Data such as time series, XY-curves and DataFrames can be plotted with a single line of code using Cufflinks (.iplot).\r\n"
   ]
  },
  {
   "cell_type": "code",
   "execution_count": 15,
   "metadata": {
    "Collapsed": "false"
   },
   "outputs": [
    {
     "data": {
      "application/vnd.plotly.v1+json": {
       "config": {
        "linkText": "Export to plot.ly",
        "plotlyServerURL": "https://plot.ly",
        "showLink": true
       },
       "data": [
        {
         "line": {
          "color": "rgba(55, 128, 191, 1.0)",
          "dash": "solid",
          "shape": "linear",
          "width": 1.3
         },
         "mode": "lines",
         "name": "0.0",
         "text": "",
         "type": "scatter",
         "x": [
          0,
          0.91,
          1.87,
          2.88,
          5.07,
          6.27,
          7.56,
          8.91,
          10.34,
          11.87,
          13.53,
          15.27,
          17.11,
          19.05,
          21.1,
          25.65,
          27.96,
          30.36,
          35.18,
          37.68,
          39,
          41.66
         ],
         "y": [
          860,
          862,
          864,
          866,
          870,
          872,
          874,
          876,
          878,
          880,
          882,
          884,
          886,
          888,
          890,
          894,
          896,
          898,
          902,
          904,
          905,
          907
         ]
        }
       ],
       "layout": {
        "autosize": true,
        "legend": {
         "bgcolor": "#F5F6F9",
         "font": {
          "color": "#4D5663"
         }
        },
        "paper_bgcolor": "#F5F6F9",
        "plot_bgcolor": "#F5F6F9",
        "template": {
         "data": {
          "bar": [
           {
            "error_x": {
             "color": "#2a3f5f"
            },
            "error_y": {
             "color": "#2a3f5f"
            },
            "marker": {
             "line": {
              "color": "#E5ECF6",
              "width": 0.5
             }
            },
            "type": "bar"
           }
          ],
          "barpolar": [
           {
            "marker": {
             "line": {
              "color": "#E5ECF6",
              "width": 0.5
             }
            },
            "type": "barpolar"
           }
          ],
          "carpet": [
           {
            "aaxis": {
             "endlinecolor": "#2a3f5f",
             "gridcolor": "white",
             "linecolor": "white",
             "minorgridcolor": "white",
             "startlinecolor": "#2a3f5f"
            },
            "baxis": {
             "endlinecolor": "#2a3f5f",
             "gridcolor": "white",
             "linecolor": "white",
             "minorgridcolor": "white",
             "startlinecolor": "#2a3f5f"
            },
            "type": "carpet"
           }
          ],
          "choropleth": [
           {
            "colorbar": {
             "outlinewidth": 0,
             "ticks": ""
            },
            "type": "choropleth"
           }
          ],
          "contour": [
           {
            "colorbar": {
             "outlinewidth": 0,
             "ticks": ""
            },
            "colorscale": [
             [
              0,
              "#0d0887"
             ],
             [
              0.1111111111111111,
              "#46039f"
             ],
             [
              0.2222222222222222,
              "#7201a8"
             ],
             [
              0.3333333333333333,
              "#9c179e"
             ],
             [
              0.4444444444444444,
              "#bd3786"
             ],
             [
              0.5555555555555556,
              "#d8576b"
             ],
             [
              0.6666666666666666,
              "#ed7953"
             ],
             [
              0.7777777777777778,
              "#fb9f3a"
             ],
             [
              0.8888888888888888,
              "#fdca26"
             ],
             [
              1,
              "#f0f921"
             ]
            ],
            "type": "contour"
           }
          ],
          "contourcarpet": [
           {
            "colorbar": {
             "outlinewidth": 0,
             "ticks": ""
            },
            "type": "contourcarpet"
           }
          ],
          "heatmap": [
           {
            "colorbar": {
             "outlinewidth": 0,
             "ticks": ""
            },
            "colorscale": [
             [
              0,
              "#0d0887"
             ],
             [
              0.1111111111111111,
              "#46039f"
             ],
             [
              0.2222222222222222,
              "#7201a8"
             ],
             [
              0.3333333333333333,
              "#9c179e"
             ],
             [
              0.4444444444444444,
              "#bd3786"
             ],
             [
              0.5555555555555556,
              "#d8576b"
             ],
             [
              0.6666666666666666,
              "#ed7953"
             ],
             [
              0.7777777777777778,
              "#fb9f3a"
             ],
             [
              0.8888888888888888,
              "#fdca26"
             ],
             [
              1,
              "#f0f921"
             ]
            ],
            "type": "heatmap"
           }
          ],
          "heatmapgl": [
           {
            "colorbar": {
             "outlinewidth": 0,
             "ticks": ""
            },
            "colorscale": [
             [
              0,
              "#0d0887"
             ],
             [
              0.1111111111111111,
              "#46039f"
             ],
             [
              0.2222222222222222,
              "#7201a8"
             ],
             [
              0.3333333333333333,
              "#9c179e"
             ],
             [
              0.4444444444444444,
              "#bd3786"
             ],
             [
              0.5555555555555556,
              "#d8576b"
             ],
             [
              0.6666666666666666,
              "#ed7953"
             ],
             [
              0.7777777777777778,
              "#fb9f3a"
             ],
             [
              0.8888888888888888,
              "#fdca26"
             ],
             [
              1,
              "#f0f921"
             ]
            ],
            "type": "heatmapgl"
           }
          ],
          "histogram": [
           {
            "marker": {
             "colorbar": {
              "outlinewidth": 0,
              "ticks": ""
             }
            },
            "type": "histogram"
           }
          ],
          "histogram2d": [
           {
            "colorbar": {
             "outlinewidth": 0,
             "ticks": ""
            },
            "colorscale": [
             [
              0,
              "#0d0887"
             ],
             [
              0.1111111111111111,
              "#46039f"
             ],
             [
              0.2222222222222222,
              "#7201a8"
             ],
             [
              0.3333333333333333,
              "#9c179e"
             ],
             [
              0.4444444444444444,
              "#bd3786"
             ],
             [
              0.5555555555555556,
              "#d8576b"
             ],
             [
              0.6666666666666666,
              "#ed7953"
             ],
             [
              0.7777777777777778,
              "#fb9f3a"
             ],
             [
              0.8888888888888888,
              "#fdca26"
             ],
             [
              1,
              "#f0f921"
             ]
            ],
            "type": "histogram2d"
           }
          ],
          "histogram2dcontour": [
           {
            "colorbar": {
             "outlinewidth": 0,
             "ticks": ""
            },
            "colorscale": [
             [
              0,
              "#0d0887"
             ],
             [
              0.1111111111111111,
              "#46039f"
             ],
             [
              0.2222222222222222,
              "#7201a8"
             ],
             [
              0.3333333333333333,
              "#9c179e"
             ],
             [
              0.4444444444444444,
              "#bd3786"
             ],
             [
              0.5555555555555556,
              "#d8576b"
             ],
             [
              0.6666666666666666,
              "#ed7953"
             ],
             [
              0.7777777777777778,
              "#fb9f3a"
             ],
             [
              0.8888888888888888,
              "#fdca26"
             ],
             [
              1,
              "#f0f921"
             ]
            ],
            "type": "histogram2dcontour"
           }
          ],
          "mesh3d": [
           {
            "colorbar": {
             "outlinewidth": 0,
             "ticks": ""
            },
            "type": "mesh3d"
           }
          ],
          "parcoords": [
           {
            "line": {
             "colorbar": {
              "outlinewidth": 0,
              "ticks": ""
             }
            },
            "type": "parcoords"
           }
          ],
          "pie": [
           {
            "automargin": true,
            "type": "pie"
           }
          ],
          "scatter": [
           {
            "marker": {
             "colorbar": {
              "outlinewidth": 0,
              "ticks": ""
             }
            },
            "type": "scatter"
           }
          ],
          "scatter3d": [
           {
            "line": {
             "colorbar": {
              "outlinewidth": 0,
              "ticks": ""
             }
            },
            "marker": {
             "colorbar": {
              "outlinewidth": 0,
              "ticks": ""
             }
            },
            "type": "scatter3d"
           }
          ],
          "scattercarpet": [
           {
            "marker": {
             "colorbar": {
              "outlinewidth": 0,
              "ticks": ""
             }
            },
            "type": "scattercarpet"
           }
          ],
          "scattergeo": [
           {
            "marker": {
             "colorbar": {
              "outlinewidth": 0,
              "ticks": ""
             }
            },
            "type": "scattergeo"
           }
          ],
          "scattergl": [
           {
            "marker": {
             "colorbar": {
              "outlinewidth": 0,
              "ticks": ""
             }
            },
            "type": "scattergl"
           }
          ],
          "scattermapbox": [
           {
            "marker": {
             "colorbar": {
              "outlinewidth": 0,
              "ticks": ""
             }
            },
            "type": "scattermapbox"
           }
          ],
          "scatterpolar": [
           {
            "marker": {
             "colorbar": {
              "outlinewidth": 0,
              "ticks": ""
             }
            },
            "type": "scatterpolar"
           }
          ],
          "scatterpolargl": [
           {
            "marker": {
             "colorbar": {
              "outlinewidth": 0,
              "ticks": ""
             }
            },
            "type": "scatterpolargl"
           }
          ],
          "scatterternary": [
           {
            "marker": {
             "colorbar": {
              "outlinewidth": 0,
              "ticks": ""
             }
            },
            "type": "scatterternary"
           }
          ],
          "surface": [
           {
            "colorbar": {
             "outlinewidth": 0,
             "ticks": ""
            },
            "colorscale": [
             [
              0,
              "#0d0887"
             ],
             [
              0.1111111111111111,
              "#46039f"
             ],
             [
              0.2222222222222222,
              "#7201a8"
             ],
             [
              0.3333333333333333,
              "#9c179e"
             ],
             [
              0.4444444444444444,
              "#bd3786"
             ],
             [
              0.5555555555555556,
              "#d8576b"
             ],
             [
              0.6666666666666666,
              "#ed7953"
             ],
             [
              0.7777777777777778,
              "#fb9f3a"
             ],
             [
              0.8888888888888888,
              "#fdca26"
             ],
             [
              1,
              "#f0f921"
             ]
            ],
            "type": "surface"
           }
          ],
          "table": [
           {
            "cells": {
             "fill": {
              "color": "#EBF0F8"
             },
             "line": {
              "color": "white"
             }
            },
            "header": {
             "fill": {
              "color": "#C8D4E3"
             },
             "line": {
              "color": "white"
             }
            },
            "type": "table"
           }
          ]
         },
         "layout": {
          "annotationdefaults": {
           "arrowcolor": "#2a3f5f",
           "arrowhead": 0,
           "arrowwidth": 1
          },
          "autotypenumbers": "strict",
          "coloraxis": {
           "colorbar": {
            "outlinewidth": 0,
            "ticks": ""
           }
          },
          "colorscale": {
           "diverging": [
            [
             0,
             "#8e0152"
            ],
            [
             0.1,
             "#c51b7d"
            ],
            [
             0.2,
             "#de77ae"
            ],
            [
             0.3,
             "#f1b6da"
            ],
            [
             0.4,
             "#fde0ef"
            ],
            [
             0.5,
             "#f7f7f7"
            ],
            [
             0.6,
             "#e6f5d0"
            ],
            [
             0.7,
             "#b8e186"
            ],
            [
             0.8,
             "#7fbc41"
            ],
            [
             0.9,
             "#4d9221"
            ],
            [
             1,
             "#276419"
            ]
           ],
           "sequential": [
            [
             0,
             "#0d0887"
            ],
            [
             0.1111111111111111,
             "#46039f"
            ],
            [
             0.2222222222222222,
             "#7201a8"
            ],
            [
             0.3333333333333333,
             "#9c179e"
            ],
            [
             0.4444444444444444,
             "#bd3786"
            ],
            [
             0.5555555555555556,
             "#d8576b"
            ],
            [
             0.6666666666666666,
             "#ed7953"
            ],
            [
             0.7777777777777778,
             "#fb9f3a"
            ],
            [
             0.8888888888888888,
             "#fdca26"
            ],
            [
             1,
             "#f0f921"
            ]
           ],
           "sequentialminus": [
            [
             0,
             "#0d0887"
            ],
            [
             0.1111111111111111,
             "#46039f"
            ],
            [
             0.2222222222222222,
             "#7201a8"
            ],
            [
             0.3333333333333333,
             "#9c179e"
            ],
            [
             0.4444444444444444,
             "#bd3786"
            ],
            [
             0.5555555555555556,
             "#d8576b"
            ],
            [
             0.6666666666666666,
             "#ed7953"
            ],
            [
             0.7777777777777778,
             "#fb9f3a"
            ],
            [
             0.8888888888888888,
             "#fdca26"
            ],
            [
             1,
             "#f0f921"
            ]
           ]
          },
          "colorway": [
           "#636efa",
           "#EF553B",
           "#00cc96",
           "#ab63fa",
           "#FFA15A",
           "#19d3f3",
           "#FF6692",
           "#B6E880",
           "#FF97FF",
           "#FECB52"
          ],
          "font": {
           "color": "#2a3f5f"
          },
          "geo": {
           "bgcolor": "white",
           "lakecolor": "white",
           "landcolor": "#E5ECF6",
           "showlakes": true,
           "showland": true,
           "subunitcolor": "white"
          },
          "hoverlabel": {
           "align": "left"
          },
          "hovermode": "closest",
          "mapbox": {
           "style": "light"
          },
          "paper_bgcolor": "white",
          "plot_bgcolor": "#E5ECF6",
          "polar": {
           "angularaxis": {
            "gridcolor": "white",
            "linecolor": "white",
            "ticks": ""
           },
           "bgcolor": "#E5ECF6",
           "radialaxis": {
            "gridcolor": "white",
            "linecolor": "white",
            "ticks": ""
           }
          },
          "scene": {
           "xaxis": {
            "backgroundcolor": "#E5ECF6",
            "gridcolor": "white",
            "gridwidth": 2,
            "linecolor": "white",
            "showbackground": true,
            "ticks": "",
            "zerolinecolor": "white"
           },
           "yaxis": {
            "backgroundcolor": "#E5ECF6",
            "gridcolor": "white",
            "gridwidth": 2,
            "linecolor": "white",
            "showbackground": true,
            "ticks": "",
            "zerolinecolor": "white"
           },
           "zaxis": {
            "backgroundcolor": "#E5ECF6",
            "gridcolor": "white",
            "gridwidth": 2,
            "linecolor": "white",
            "showbackground": true,
            "ticks": "",
            "zerolinecolor": "white"
           }
          },
          "shapedefaults": {
           "line": {
            "color": "#2a3f5f"
           }
          },
          "ternary": {
           "aaxis": {
            "gridcolor": "white",
            "linecolor": "white",
            "ticks": ""
           },
           "baxis": {
            "gridcolor": "white",
            "linecolor": "white",
            "ticks": ""
           },
           "bgcolor": "#E5ECF6",
           "caxis": {
            "gridcolor": "white",
            "linecolor": "white",
            "ticks": ""
           }
          },
          "title": {
           "x": 0.05
          },
          "xaxis": {
           "automargin": true,
           "gridcolor": "white",
           "linecolor": "white",
           "ticks": "",
           "title": {
            "standoff": 15
           },
           "zerolinecolor": "white",
           "zerolinewidth": 2
          },
          "yaxis": {
           "automargin": true,
           "gridcolor": "white",
           "linecolor": "white",
           "ticks": "",
           "title": {
            "standoff": 15
           },
           "zerolinecolor": "white",
           "zerolinewidth": 2
          }
         }
        },
        "title": {
         "font": {
          "color": "#4D5663"
         },
         "text": "Volume/head relation of Reservoir1"
        },
        "xaxis": {
         "autorange": true,
         "gridcolor": "#E1E5ED",
         "range": [
          0,
          41.66
         ],
         "showgrid": true,
         "tickfont": {
          "color": "#4D5663"
         },
         "title": {
          "font": {
           "color": "#4D5663"
          },
          "text": "Mm3"
         },
         "type": "linear",
         "zerolinecolor": "#E1E5ED"
        },
        "yaxis": {
         "autorange": true,
         "gridcolor": "#E1E5ED",
         "range": [
          857.3888888888889,
          909.6111111111111
         ],
         "showgrid": true,
         "tickfont": {
          "color": "#4D5663"
         },
         "title": {
          "font": {
           "color": "#4D5663"
          },
          "text": "masl"
         },
         "type": "linear",
         "zerolinecolor": "#E1E5ED"
        }
       }
      },
      "text/html": [
       "<div>                            <div id=\"514d3cb6-5d51-4c4c-949f-105493247f6d\" class=\"plotly-graph-div\" style=\"height:525px; width:100%;\"></div>            <script type=\"text/javascript\">                require([\"plotly\"], function(Plotly) {                    window.PLOTLYENV=window.PLOTLYENV || {};\n",
       "                    window.PLOTLYENV.BASE_URL='https://plot.ly';                                    if (document.getElementById(\"514d3cb6-5d51-4c4c-949f-105493247f6d\")) {                    Plotly.newPlot(                        \"514d3cb6-5d51-4c4c-949f-105493247f6d\",                        [{\"line\": {\"color\": \"rgba(55, 128, 191, 1.0)\", \"dash\": \"solid\", \"shape\": \"linear\", \"width\": 1.3}, \"mode\": \"lines\", \"name\": \"0.0\", \"text\": \"\", \"type\": \"scatter\", \"x\": [0.0, 0.91, 1.87, 2.88, 5.07, 6.27, 7.56, 8.91, 10.34, 11.87, 13.53, 15.27, 17.11, 19.05, 21.1, 25.65, 27.96, 30.36, 35.18, 37.68, 39.0, 41.66], \"y\": [860.0, 862.0, 864.0, 866.0, 870.0, 872.0, 874.0, 876.0, 878.0, 880.0, 882.0, 884.0, 886.0, 888.0, 890.0, 894.0, 896.0, 898.0, 902.0, 904.0, 905.0, 907.0]}],                        {\"legend\": {\"bgcolor\": \"#F5F6F9\", \"font\": {\"color\": \"#4D5663\"}}, \"paper_bgcolor\": \"#F5F6F9\", \"plot_bgcolor\": \"#F5F6F9\", \"template\": {\"data\": {\"bar\": [{\"error_x\": {\"color\": \"#2a3f5f\"}, \"error_y\": {\"color\": \"#2a3f5f\"}, \"marker\": {\"line\": {\"color\": \"#E5ECF6\", \"width\": 0.5}}, \"type\": \"bar\"}], \"barpolar\": [{\"marker\": {\"line\": {\"color\": \"#E5ECF6\", \"width\": 0.5}}, \"type\": \"barpolar\"}], \"carpet\": [{\"aaxis\": {\"endlinecolor\": \"#2a3f5f\", \"gridcolor\": \"white\", \"linecolor\": \"white\", \"minorgridcolor\": \"white\", \"startlinecolor\": \"#2a3f5f\"}, \"baxis\": {\"endlinecolor\": \"#2a3f5f\", \"gridcolor\": \"white\", \"linecolor\": \"white\", \"minorgridcolor\": \"white\", \"startlinecolor\": \"#2a3f5f\"}, \"type\": \"carpet\"}], \"choropleth\": [{\"colorbar\": {\"outlinewidth\": 0, \"ticks\": \"\"}, \"type\": \"choropleth\"}], \"contour\": [{\"colorbar\": {\"outlinewidth\": 0, \"ticks\": \"\"}, \"colorscale\": [[0.0, \"#0d0887\"], [0.1111111111111111, \"#46039f\"], [0.2222222222222222, \"#7201a8\"], [0.3333333333333333, \"#9c179e\"], [0.4444444444444444, \"#bd3786\"], [0.5555555555555556, \"#d8576b\"], [0.6666666666666666, \"#ed7953\"], [0.7777777777777778, \"#fb9f3a\"], [0.8888888888888888, \"#fdca26\"], [1.0, \"#f0f921\"]], \"type\": \"contour\"}], \"contourcarpet\": [{\"colorbar\": {\"outlinewidth\": 0, \"ticks\": \"\"}, \"type\": \"contourcarpet\"}], \"heatmap\": [{\"colorbar\": {\"outlinewidth\": 0, \"ticks\": \"\"}, \"colorscale\": [[0.0, \"#0d0887\"], [0.1111111111111111, \"#46039f\"], [0.2222222222222222, \"#7201a8\"], [0.3333333333333333, \"#9c179e\"], [0.4444444444444444, \"#bd3786\"], [0.5555555555555556, \"#d8576b\"], [0.6666666666666666, \"#ed7953\"], [0.7777777777777778, \"#fb9f3a\"], [0.8888888888888888, \"#fdca26\"], [1.0, \"#f0f921\"]], \"type\": \"heatmap\"}], \"heatmapgl\": [{\"colorbar\": {\"outlinewidth\": 0, \"ticks\": \"\"}, \"colorscale\": [[0.0, \"#0d0887\"], [0.1111111111111111, \"#46039f\"], [0.2222222222222222, \"#7201a8\"], [0.3333333333333333, \"#9c179e\"], [0.4444444444444444, \"#bd3786\"], [0.5555555555555556, \"#d8576b\"], [0.6666666666666666, \"#ed7953\"], [0.7777777777777778, \"#fb9f3a\"], [0.8888888888888888, \"#fdca26\"], [1.0, \"#f0f921\"]], \"type\": \"heatmapgl\"}], \"histogram\": [{\"marker\": {\"colorbar\": {\"outlinewidth\": 0, \"ticks\": \"\"}}, \"type\": \"histogram\"}], \"histogram2d\": [{\"colorbar\": {\"outlinewidth\": 0, \"ticks\": \"\"}, \"colorscale\": [[0.0, \"#0d0887\"], [0.1111111111111111, \"#46039f\"], [0.2222222222222222, \"#7201a8\"], [0.3333333333333333, \"#9c179e\"], [0.4444444444444444, \"#bd3786\"], [0.5555555555555556, \"#d8576b\"], [0.6666666666666666, \"#ed7953\"], [0.7777777777777778, \"#fb9f3a\"], [0.8888888888888888, \"#fdca26\"], [1.0, \"#f0f921\"]], \"type\": \"histogram2d\"}], \"histogram2dcontour\": [{\"colorbar\": {\"outlinewidth\": 0, \"ticks\": \"\"}, \"colorscale\": [[0.0, \"#0d0887\"], [0.1111111111111111, \"#46039f\"], [0.2222222222222222, \"#7201a8\"], [0.3333333333333333, \"#9c179e\"], [0.4444444444444444, \"#bd3786\"], [0.5555555555555556, \"#d8576b\"], [0.6666666666666666, \"#ed7953\"], [0.7777777777777778, \"#fb9f3a\"], [0.8888888888888888, \"#fdca26\"], [1.0, \"#f0f921\"]], \"type\": \"histogram2dcontour\"}], \"mesh3d\": [{\"colorbar\": {\"outlinewidth\": 0, \"ticks\": \"\"}, \"type\": \"mesh3d\"}], \"parcoords\": [{\"line\": {\"colorbar\": {\"outlinewidth\": 0, \"ticks\": \"\"}}, \"type\": \"parcoords\"}], \"pie\": [{\"automargin\": true, \"type\": \"pie\"}], \"scatter\": [{\"marker\": {\"colorbar\": {\"outlinewidth\": 0, \"ticks\": \"\"}}, \"type\": \"scatter\"}], \"scatter3d\": [{\"line\": {\"colorbar\": {\"outlinewidth\": 0, \"ticks\": \"\"}}, \"marker\": {\"colorbar\": {\"outlinewidth\": 0, \"ticks\": \"\"}}, \"type\": \"scatter3d\"}], \"scattercarpet\": [{\"marker\": {\"colorbar\": {\"outlinewidth\": 0, \"ticks\": \"\"}}, \"type\": \"scattercarpet\"}], \"scattergeo\": [{\"marker\": {\"colorbar\": {\"outlinewidth\": 0, \"ticks\": \"\"}}, \"type\": \"scattergeo\"}], \"scattergl\": [{\"marker\": {\"colorbar\": {\"outlinewidth\": 0, \"ticks\": \"\"}}, \"type\": \"scattergl\"}], \"scattermapbox\": [{\"marker\": {\"colorbar\": {\"outlinewidth\": 0, \"ticks\": \"\"}}, \"type\": \"scattermapbox\"}], \"scatterpolar\": [{\"marker\": {\"colorbar\": {\"outlinewidth\": 0, \"ticks\": \"\"}}, \"type\": \"scatterpolar\"}], \"scatterpolargl\": [{\"marker\": {\"colorbar\": {\"outlinewidth\": 0, \"ticks\": \"\"}}, \"type\": \"scatterpolargl\"}], \"scatterternary\": [{\"marker\": {\"colorbar\": {\"outlinewidth\": 0, \"ticks\": \"\"}}, \"type\": \"scatterternary\"}], \"surface\": [{\"colorbar\": {\"outlinewidth\": 0, \"ticks\": \"\"}, \"colorscale\": [[0.0, \"#0d0887\"], [0.1111111111111111, \"#46039f\"], [0.2222222222222222, \"#7201a8\"], [0.3333333333333333, \"#9c179e\"], [0.4444444444444444, \"#bd3786\"], [0.5555555555555556, \"#d8576b\"], [0.6666666666666666, \"#ed7953\"], [0.7777777777777778, \"#fb9f3a\"], [0.8888888888888888, \"#fdca26\"], [1.0, \"#f0f921\"]], \"type\": \"surface\"}], \"table\": [{\"cells\": {\"fill\": {\"color\": \"#EBF0F8\"}, \"line\": {\"color\": \"white\"}}, \"header\": {\"fill\": {\"color\": \"#C8D4E3\"}, \"line\": {\"color\": \"white\"}}, \"type\": \"table\"}]}, \"layout\": {\"annotationdefaults\": {\"arrowcolor\": \"#2a3f5f\", \"arrowhead\": 0, \"arrowwidth\": 1}, \"autotypenumbers\": \"strict\", \"coloraxis\": {\"colorbar\": {\"outlinewidth\": 0, \"ticks\": \"\"}}, \"colorscale\": {\"diverging\": [[0, \"#8e0152\"], [0.1, \"#c51b7d\"], [0.2, \"#de77ae\"], [0.3, \"#f1b6da\"], [0.4, \"#fde0ef\"], [0.5, \"#f7f7f7\"], [0.6, \"#e6f5d0\"], [0.7, \"#b8e186\"], [0.8, \"#7fbc41\"], [0.9, \"#4d9221\"], [1, \"#276419\"]], \"sequential\": [[0.0, \"#0d0887\"], [0.1111111111111111, \"#46039f\"], [0.2222222222222222, \"#7201a8\"], [0.3333333333333333, \"#9c179e\"], [0.4444444444444444, \"#bd3786\"], [0.5555555555555556, \"#d8576b\"], [0.6666666666666666, \"#ed7953\"], [0.7777777777777778, \"#fb9f3a\"], [0.8888888888888888, \"#fdca26\"], [1.0, \"#f0f921\"]], \"sequentialminus\": [[0.0, \"#0d0887\"], [0.1111111111111111, \"#46039f\"], [0.2222222222222222, \"#7201a8\"], [0.3333333333333333, \"#9c179e\"], [0.4444444444444444, \"#bd3786\"], [0.5555555555555556, \"#d8576b\"], [0.6666666666666666, \"#ed7953\"], [0.7777777777777778, \"#fb9f3a\"], [0.8888888888888888, \"#fdca26\"], [1.0, \"#f0f921\"]]}, \"colorway\": [\"#636efa\", \"#EF553B\", \"#00cc96\", \"#ab63fa\", \"#FFA15A\", \"#19d3f3\", \"#FF6692\", \"#B6E880\", \"#FF97FF\", \"#FECB52\"], \"font\": {\"color\": \"#2a3f5f\"}, \"geo\": {\"bgcolor\": \"white\", \"lakecolor\": \"white\", \"landcolor\": \"#E5ECF6\", \"showlakes\": true, \"showland\": true, \"subunitcolor\": \"white\"}, \"hoverlabel\": {\"align\": \"left\"}, \"hovermode\": \"closest\", \"mapbox\": {\"style\": \"light\"}, \"paper_bgcolor\": \"white\", \"plot_bgcolor\": \"#E5ECF6\", \"polar\": {\"angularaxis\": {\"gridcolor\": \"white\", \"linecolor\": \"white\", \"ticks\": \"\"}, \"bgcolor\": \"#E5ECF6\", \"radialaxis\": {\"gridcolor\": \"white\", \"linecolor\": \"white\", \"ticks\": \"\"}}, \"scene\": {\"xaxis\": {\"backgroundcolor\": \"#E5ECF6\", \"gridcolor\": \"white\", \"gridwidth\": 2, \"linecolor\": \"white\", \"showbackground\": true, \"ticks\": \"\", \"zerolinecolor\": \"white\"}, \"yaxis\": {\"backgroundcolor\": \"#E5ECF6\", \"gridcolor\": \"white\", \"gridwidth\": 2, \"linecolor\": \"white\", \"showbackground\": true, \"ticks\": \"\", \"zerolinecolor\": \"white\"}, \"zaxis\": {\"backgroundcolor\": \"#E5ECF6\", \"gridcolor\": \"white\", \"gridwidth\": 2, \"linecolor\": \"white\", \"showbackground\": true, \"ticks\": \"\", \"zerolinecolor\": \"white\"}}, \"shapedefaults\": {\"line\": {\"color\": \"#2a3f5f\"}}, \"ternary\": {\"aaxis\": {\"gridcolor\": \"white\", \"linecolor\": \"white\", \"ticks\": \"\"}, \"baxis\": {\"gridcolor\": \"white\", \"linecolor\": \"white\", \"ticks\": \"\"}, \"bgcolor\": \"#E5ECF6\", \"caxis\": {\"gridcolor\": \"white\", \"linecolor\": \"white\", \"ticks\": \"\"}}, \"title\": {\"x\": 0.05}, \"xaxis\": {\"automargin\": true, \"gridcolor\": \"white\", \"linecolor\": \"white\", \"ticks\": \"\", \"title\": {\"standoff\": 15}, \"zerolinecolor\": \"white\", \"zerolinewidth\": 2}, \"yaxis\": {\"automargin\": true, \"gridcolor\": \"white\", \"linecolor\": \"white\", \"ticks\": \"\", \"title\": {\"standoff\": 15}, \"zerolinecolor\": \"white\", \"zerolinewidth\": 2}}}, \"title\": {\"font\": {\"color\": \"#4D5663\"}, \"text\": \"Volume/head relation of Reservoir1\"}, \"xaxis\": {\"gridcolor\": \"#E1E5ED\", \"showgrid\": true, \"tickfont\": {\"color\": \"#4D5663\"}, \"title\": {\"font\": {\"color\": \"#4D5663\"}, \"text\": \"Mm3\"}, \"zerolinecolor\": \"#E1E5ED\"}, \"yaxis\": {\"gridcolor\": \"#E1E5ED\", \"showgrid\": true, \"tickfont\": {\"color\": \"#4D5663\"}, \"title\": {\"font\": {\"color\": \"#4D5663\"}, \"text\": \"masl\"}, \"zerolinecolor\": \"#E1E5ED\"}},                        {\"showLink\": true, \"linkText\": \"Export to plot.ly\", \"plotlyServerURL\": \"https://plot.ly\", \"responsive\": true}                    ).then(function(){\n",
       "                            \n",
       "var gd = document.getElementById('514d3cb6-5d51-4c4c-949f-105493247f6d');\n",
       "var x = new MutationObserver(function (mutations, observer) {{\n",
       "        var display = window.getComputedStyle(gd).display;\n",
       "        if (!display || display === 'none') {{\n",
       "            console.log([gd, 'removed!']);\n",
       "            Plotly.purge(gd);\n",
       "            observer.disconnect();\n",
       "        }}\n",
       "}});\n",
       "\n",
       "// Listen for the removal of the full notebook cells\n",
       "var notebookContainer = gd.closest('#notebook-container');\n",
       "if (notebookContainer) {{\n",
       "    x.observe(notebookContainer, {childList: true});\n",
       "}}\n",
       "\n",
       "// Listen for the clearing of the current output cell\n",
       "var outputEl = gd.closest('.output');\n",
       "if (outputEl) {{\n",
       "    x.observe(outputEl, {childList: true});\n",
       "}}\n",
       "\n",
       "                        })                };                });            </script>        </div>"
      ]
     },
     "metadata": {},
     "output_type": "display_data"
    }
   ],
   "source": [
    "# Plotting the volume/head relation of Reservoir1\r\n",
    "rsv1.vol_head.get().iplot(title=\"Volume/head relation of Reservoir1\", xaxis_title=\"Mm3\", yaxis_title=\"masl\", color=\"blue\")"
   ]
  },
  {
   "cell_type": "markdown",
   "metadata": {
    "Collapsed": "false"
   },
   "source": [
    "Or they can be plotted in any style and design imaginable using your favorite plotting tools and packages."
   ]
  },
  {
   "cell_type": "code",
   "execution_count": 16,
   "metadata": {
    "Collapsed": "false"
   },
   "outputs": [
    {
     "data": {
      "application/vnd.plotly.v1+json": {
       "config": {
        "plotlyServerURL": "https://plot.ly"
       },
       "data": [
        {
         "marker": {
          "color": "rgb(116,169,207)"
         },
         "name": "Reservoir volume and height",
         "type": "scatter",
         "x": [
          0,
          2.275,
          4.675,
          7.2,
          12.675,
          15.675,
          18.9,
          22.275,
          25.85,
          29.675,
          33.825,
          38.175,
          42.775,
          47.625,
          52.75,
          64.125,
          69.9,
          75.9,
          87.95,
          94.2,
          97.5,
          104.15
         ],
         "y": [
          650,
          651.28,
          652.55,
          653.83,
          656.38,
          657.66,
          658.94,
          660.21,
          661.49,
          662.77,
          664.04,
          665.32,
          666.6,
          667.87,
          669.15,
          671.7,
          672.98,
          674.26,
          676.81,
          678.09,
          679,
          680
         ]
        },
        {
         "marker": {
          "color": "rgb(5,112,176)",
          "line": {
           "color": "rgb(5,112,176)",
           "width": 4
          },
          "size": 3
         },
         "mode": "markers",
         "name": "Start point",
         "type": "scatter",
         "x": [
          56.541666666666664
         ],
         "y": [
          670
         ]
        }
       ],
       "layout": {
        "autosize": true,
        "template": {
         "data": {
          "bar": [
           {
            "error_x": {
             "color": "#2a3f5f"
            },
            "error_y": {
             "color": "#2a3f5f"
            },
            "marker": {
             "line": {
              "color": "#E5ECF6",
              "width": 0.5
             }
            },
            "type": "bar"
           }
          ],
          "barpolar": [
           {
            "marker": {
             "line": {
              "color": "#E5ECF6",
              "width": 0.5
             }
            },
            "type": "barpolar"
           }
          ],
          "carpet": [
           {
            "aaxis": {
             "endlinecolor": "#2a3f5f",
             "gridcolor": "white",
             "linecolor": "white",
             "minorgridcolor": "white",
             "startlinecolor": "#2a3f5f"
            },
            "baxis": {
             "endlinecolor": "#2a3f5f",
             "gridcolor": "white",
             "linecolor": "white",
             "minorgridcolor": "white",
             "startlinecolor": "#2a3f5f"
            },
            "type": "carpet"
           }
          ],
          "choropleth": [
           {
            "colorbar": {
             "outlinewidth": 0,
             "ticks": ""
            },
            "type": "choropleth"
           }
          ],
          "contour": [
           {
            "colorbar": {
             "outlinewidth": 0,
             "ticks": ""
            },
            "colorscale": [
             [
              0,
              "#0d0887"
             ],
             [
              0.1111111111111111,
              "#46039f"
             ],
             [
              0.2222222222222222,
              "#7201a8"
             ],
             [
              0.3333333333333333,
              "#9c179e"
             ],
             [
              0.4444444444444444,
              "#bd3786"
             ],
             [
              0.5555555555555556,
              "#d8576b"
             ],
             [
              0.6666666666666666,
              "#ed7953"
             ],
             [
              0.7777777777777778,
              "#fb9f3a"
             ],
             [
              0.8888888888888888,
              "#fdca26"
             ],
             [
              1,
              "#f0f921"
             ]
            ],
            "type": "contour"
           }
          ],
          "contourcarpet": [
           {
            "colorbar": {
             "outlinewidth": 0,
             "ticks": ""
            },
            "type": "contourcarpet"
           }
          ],
          "heatmap": [
           {
            "colorbar": {
             "outlinewidth": 0,
             "ticks": ""
            },
            "colorscale": [
             [
              0,
              "#0d0887"
             ],
             [
              0.1111111111111111,
              "#46039f"
             ],
             [
              0.2222222222222222,
              "#7201a8"
             ],
             [
              0.3333333333333333,
              "#9c179e"
             ],
             [
              0.4444444444444444,
              "#bd3786"
             ],
             [
              0.5555555555555556,
              "#d8576b"
             ],
             [
              0.6666666666666666,
              "#ed7953"
             ],
             [
              0.7777777777777778,
              "#fb9f3a"
             ],
             [
              0.8888888888888888,
              "#fdca26"
             ],
             [
              1,
              "#f0f921"
             ]
            ],
            "type": "heatmap"
           }
          ],
          "heatmapgl": [
           {
            "colorbar": {
             "outlinewidth": 0,
             "ticks": ""
            },
            "colorscale": [
             [
              0,
              "#0d0887"
             ],
             [
              0.1111111111111111,
              "#46039f"
             ],
             [
              0.2222222222222222,
              "#7201a8"
             ],
             [
              0.3333333333333333,
              "#9c179e"
             ],
             [
              0.4444444444444444,
              "#bd3786"
             ],
             [
              0.5555555555555556,
              "#d8576b"
             ],
             [
              0.6666666666666666,
              "#ed7953"
             ],
             [
              0.7777777777777778,
              "#fb9f3a"
             ],
             [
              0.8888888888888888,
              "#fdca26"
             ],
             [
              1,
              "#f0f921"
             ]
            ],
            "type": "heatmapgl"
           }
          ],
          "histogram": [
           {
            "marker": {
             "colorbar": {
              "outlinewidth": 0,
              "ticks": ""
             }
            },
            "type": "histogram"
           }
          ],
          "histogram2d": [
           {
            "colorbar": {
             "outlinewidth": 0,
             "ticks": ""
            },
            "colorscale": [
             [
              0,
              "#0d0887"
             ],
             [
              0.1111111111111111,
              "#46039f"
             ],
             [
              0.2222222222222222,
              "#7201a8"
             ],
             [
              0.3333333333333333,
              "#9c179e"
             ],
             [
              0.4444444444444444,
              "#bd3786"
             ],
             [
              0.5555555555555556,
              "#d8576b"
             ],
             [
              0.6666666666666666,
              "#ed7953"
             ],
             [
              0.7777777777777778,
              "#fb9f3a"
             ],
             [
              0.8888888888888888,
              "#fdca26"
             ],
             [
              1,
              "#f0f921"
             ]
            ],
            "type": "histogram2d"
           }
          ],
          "histogram2dcontour": [
           {
            "colorbar": {
             "outlinewidth": 0,
             "ticks": ""
            },
            "colorscale": [
             [
              0,
              "#0d0887"
             ],
             [
              0.1111111111111111,
              "#46039f"
             ],
             [
              0.2222222222222222,
              "#7201a8"
             ],
             [
              0.3333333333333333,
              "#9c179e"
             ],
             [
              0.4444444444444444,
              "#bd3786"
             ],
             [
              0.5555555555555556,
              "#d8576b"
             ],
             [
              0.6666666666666666,
              "#ed7953"
             ],
             [
              0.7777777777777778,
              "#fb9f3a"
             ],
             [
              0.8888888888888888,
              "#fdca26"
             ],
             [
              1,
              "#f0f921"
             ]
            ],
            "type": "histogram2dcontour"
           }
          ],
          "mesh3d": [
           {
            "colorbar": {
             "outlinewidth": 0,
             "ticks": ""
            },
            "type": "mesh3d"
           }
          ],
          "parcoords": [
           {
            "line": {
             "colorbar": {
              "outlinewidth": 0,
              "ticks": ""
             }
            },
            "type": "parcoords"
           }
          ],
          "pie": [
           {
            "automargin": true,
            "type": "pie"
           }
          ],
          "scatter": [
           {
            "marker": {
             "colorbar": {
              "outlinewidth": 0,
              "ticks": ""
             }
            },
            "type": "scatter"
           }
          ],
          "scatter3d": [
           {
            "line": {
             "colorbar": {
              "outlinewidth": 0,
              "ticks": ""
             }
            },
            "marker": {
             "colorbar": {
              "outlinewidth": 0,
              "ticks": ""
             }
            },
            "type": "scatter3d"
           }
          ],
          "scattercarpet": [
           {
            "marker": {
             "colorbar": {
              "outlinewidth": 0,
              "ticks": ""
             }
            },
            "type": "scattercarpet"
           }
          ],
          "scattergeo": [
           {
            "marker": {
             "colorbar": {
              "outlinewidth": 0,
              "ticks": ""
             }
            },
            "type": "scattergeo"
           }
          ],
          "scattergl": [
           {
            "marker": {
             "colorbar": {
              "outlinewidth": 0,
              "ticks": ""
             }
            },
            "type": "scattergl"
           }
          ],
          "scattermapbox": [
           {
            "marker": {
             "colorbar": {
              "outlinewidth": 0,
              "ticks": ""
             }
            },
            "type": "scattermapbox"
           }
          ],
          "scatterpolar": [
           {
            "marker": {
             "colorbar": {
              "outlinewidth": 0,
              "ticks": ""
             }
            },
            "type": "scatterpolar"
           }
          ],
          "scatterpolargl": [
           {
            "marker": {
             "colorbar": {
              "outlinewidth": 0,
              "ticks": ""
             }
            },
            "type": "scatterpolargl"
           }
          ],
          "scatterternary": [
           {
            "marker": {
             "colorbar": {
              "outlinewidth": 0,
              "ticks": ""
             }
            },
            "type": "scatterternary"
           }
          ],
          "surface": [
           {
            "colorbar": {
             "outlinewidth": 0,
             "ticks": ""
            },
            "colorscale": [
             [
              0,
              "#0d0887"
             ],
             [
              0.1111111111111111,
              "#46039f"
             ],
             [
              0.2222222222222222,
              "#7201a8"
             ],
             [
              0.3333333333333333,
              "#9c179e"
             ],
             [
              0.4444444444444444,
              "#bd3786"
             ],
             [
              0.5555555555555556,
              "#d8576b"
             ],
             [
              0.6666666666666666,
              "#ed7953"
             ],
             [
              0.7777777777777778,
              "#fb9f3a"
             ],
             [
              0.8888888888888888,
              "#fdca26"
             ],
             [
              1,
              "#f0f921"
             ]
            ],
            "type": "surface"
           }
          ],
          "table": [
           {
            "cells": {
             "fill": {
              "color": "#EBF0F8"
             },
             "line": {
              "color": "white"
             }
            },
            "header": {
             "fill": {
              "color": "#C8D4E3"
             },
             "line": {
              "color": "white"
             }
            },
            "type": "table"
           }
          ]
         },
         "layout": {
          "annotationdefaults": {
           "arrowcolor": "#2a3f5f",
           "arrowhead": 0,
           "arrowwidth": 1
          },
          "autotypenumbers": "strict",
          "coloraxis": {
           "colorbar": {
            "outlinewidth": 0,
            "ticks": ""
           }
          },
          "colorscale": {
           "diverging": [
            [
             0,
             "#8e0152"
            ],
            [
             0.1,
             "#c51b7d"
            ],
            [
             0.2,
             "#de77ae"
            ],
            [
             0.3,
             "#f1b6da"
            ],
            [
             0.4,
             "#fde0ef"
            ],
            [
             0.5,
             "#f7f7f7"
            ],
            [
             0.6,
             "#e6f5d0"
            ],
            [
             0.7,
             "#b8e186"
            ],
            [
             0.8,
             "#7fbc41"
            ],
            [
             0.9,
             "#4d9221"
            ],
            [
             1,
             "#276419"
            ]
           ],
           "sequential": [
            [
             0,
             "#0d0887"
            ],
            [
             0.1111111111111111,
             "#46039f"
            ],
            [
             0.2222222222222222,
             "#7201a8"
            ],
            [
             0.3333333333333333,
             "#9c179e"
            ],
            [
             0.4444444444444444,
             "#bd3786"
            ],
            [
             0.5555555555555556,
             "#d8576b"
            ],
            [
             0.6666666666666666,
             "#ed7953"
            ],
            [
             0.7777777777777778,
             "#fb9f3a"
            ],
            [
             0.8888888888888888,
             "#fdca26"
            ],
            [
             1,
             "#f0f921"
            ]
           ],
           "sequentialminus": [
            [
             0,
             "#0d0887"
            ],
            [
             0.1111111111111111,
             "#46039f"
            ],
            [
             0.2222222222222222,
             "#7201a8"
            ],
            [
             0.3333333333333333,
             "#9c179e"
            ],
            [
             0.4444444444444444,
             "#bd3786"
            ],
            [
             0.5555555555555556,
             "#d8576b"
            ],
            [
             0.6666666666666666,
             "#ed7953"
            ],
            [
             0.7777777777777778,
             "#fb9f3a"
            ],
            [
             0.8888888888888888,
             "#fdca26"
            ],
            [
             1,
             "#f0f921"
            ]
           ]
          },
          "colorway": [
           "#636efa",
           "#EF553B",
           "#00cc96",
           "#ab63fa",
           "#FFA15A",
           "#19d3f3",
           "#FF6692",
           "#B6E880",
           "#FF97FF",
           "#FECB52"
          ],
          "font": {
           "color": "#2a3f5f"
          },
          "geo": {
           "bgcolor": "white",
           "lakecolor": "white",
           "landcolor": "#E5ECF6",
           "showlakes": true,
           "showland": true,
           "subunitcolor": "white"
          },
          "hoverlabel": {
           "align": "left"
          },
          "hovermode": "closest",
          "mapbox": {
           "style": "light"
          },
          "paper_bgcolor": "white",
          "plot_bgcolor": "#E5ECF6",
          "polar": {
           "angularaxis": {
            "gridcolor": "white",
            "linecolor": "white",
            "ticks": ""
           },
           "bgcolor": "#E5ECF6",
           "radialaxis": {
            "gridcolor": "white",
            "linecolor": "white",
            "ticks": ""
           }
          },
          "scene": {
           "xaxis": {
            "backgroundcolor": "#E5ECF6",
            "gridcolor": "white",
            "gridwidth": 2,
            "linecolor": "white",
            "showbackground": true,
            "ticks": "",
            "zerolinecolor": "white"
           },
           "yaxis": {
            "backgroundcolor": "#E5ECF6",
            "gridcolor": "white",
            "gridwidth": 2,
            "linecolor": "white",
            "showbackground": true,
            "ticks": "",
            "zerolinecolor": "white"
           },
           "zaxis": {
            "backgroundcolor": "#E5ECF6",
            "gridcolor": "white",
            "gridwidth": 2,
            "linecolor": "white",
            "showbackground": true,
            "ticks": "",
            "zerolinecolor": "white"
           }
          },
          "shapedefaults": {
           "line": {
            "color": "#2a3f5f"
           }
          },
          "ternary": {
           "aaxis": {
            "gridcolor": "white",
            "linecolor": "white",
            "ticks": ""
           },
           "baxis": {
            "gridcolor": "white",
            "linecolor": "white",
            "ticks": ""
           },
           "bgcolor": "#E5ECF6",
           "caxis": {
            "gridcolor": "white",
            "linecolor": "white",
            "ticks": ""
           }
          },
          "title": {
           "x": 0.05
          },
          "xaxis": {
           "automargin": true,
           "gridcolor": "white",
           "linecolor": "white",
           "ticks": "",
           "title": {
            "standoff": 15
           },
           "zerolinecolor": "white",
           "zerolinewidth": 2
          },
          "yaxis": {
           "automargin": true,
           "gridcolor": "white",
           "linecolor": "white",
           "ticks": "",
           "title": {
            "standoff": 15
           },
           "zerolinecolor": "white",
           "zerolinewidth": 2
          }
         }
        },
        "title": {
         "text": "<b>Reservoir volume and height in Reservoir2 </b>"
        },
        "xaxis": {
         "autorange": true,
         "range": [
          0,
          104.15
         ],
         "title": {
          "text": "<b>Volume</b> (Mm<sup>3</sup>)"
         },
         "type": "linear"
        },
        "yaxis": {
         "autorange": true,
         "range": [
          648.3333333333334,
          681.6666666666666
         ],
         "title": {
          "text": "<b>Height</b> (meter)"
         },
         "type": "linear"
        }
       }
      },
      "text/html": [
       "<div>                            <div id=\"e699b8fa-1e0d-4ba9-b53b-63e0c3b8486d\" class=\"plotly-graph-div\" style=\"height:525px; width:100%;\"></div>            <script type=\"text/javascript\">                require([\"plotly\"], function(Plotly) {                    window.PLOTLYENV=window.PLOTLYENV || {};                                    if (document.getElementById(\"e699b8fa-1e0d-4ba9-b53b-63e0c3b8486d\")) {                    Plotly.newPlot(                        \"e699b8fa-1e0d-4ba9-b53b-63e0c3b8486d\",                        [{\"marker\": {\"color\": \"rgb(116,169,207)\"}, \"name\": \"Reservoir volume and height\", \"type\": \"scatter\", \"x\": [0.0, 2.275, 4.675, 7.2, 12.675, 15.675, 18.9, 22.275, 25.85, 29.675, 33.825, 38.175, 42.775, 47.625, 52.75, 64.125, 69.9, 75.9, 87.95, 94.2, 97.5, 104.15], \"y\": [650.0, 651.28, 652.55, 653.83, 656.38, 657.66, 658.94, 660.21, 661.49, 662.77, 664.04, 665.32, 666.6, 667.87, 669.15, 671.7, 672.98, 674.26, 676.81, 678.09, 679.0, 680.0]}, {\"marker\": {\"color\": \"rgb(5,112,176)\", \"line\": {\"color\": \"rgb(5,112,176)\", \"width\": 4}, \"size\": 3}, \"mode\": \"markers\", \"name\": \"Start point\", \"type\": \"scatter\", \"x\": [56.541666666666664], \"y\": [670.0]}],                        {\"template\": {\"data\": {\"bar\": [{\"error_x\": {\"color\": \"#2a3f5f\"}, \"error_y\": {\"color\": \"#2a3f5f\"}, \"marker\": {\"line\": {\"color\": \"#E5ECF6\", \"width\": 0.5}}, \"type\": \"bar\"}], \"barpolar\": [{\"marker\": {\"line\": {\"color\": \"#E5ECF6\", \"width\": 0.5}}, \"type\": \"barpolar\"}], \"carpet\": [{\"aaxis\": {\"endlinecolor\": \"#2a3f5f\", \"gridcolor\": \"white\", \"linecolor\": \"white\", \"minorgridcolor\": \"white\", \"startlinecolor\": \"#2a3f5f\"}, \"baxis\": {\"endlinecolor\": \"#2a3f5f\", \"gridcolor\": \"white\", \"linecolor\": \"white\", \"minorgridcolor\": \"white\", \"startlinecolor\": \"#2a3f5f\"}, \"type\": \"carpet\"}], \"choropleth\": [{\"colorbar\": {\"outlinewidth\": 0, \"ticks\": \"\"}, \"type\": \"choropleth\"}], \"contour\": [{\"colorbar\": {\"outlinewidth\": 0, \"ticks\": \"\"}, \"colorscale\": [[0.0, \"#0d0887\"], [0.1111111111111111, \"#46039f\"], [0.2222222222222222, \"#7201a8\"], [0.3333333333333333, \"#9c179e\"], [0.4444444444444444, \"#bd3786\"], [0.5555555555555556, \"#d8576b\"], [0.6666666666666666, \"#ed7953\"], [0.7777777777777778, \"#fb9f3a\"], [0.8888888888888888, \"#fdca26\"], [1.0, \"#f0f921\"]], \"type\": \"contour\"}], \"contourcarpet\": [{\"colorbar\": {\"outlinewidth\": 0, \"ticks\": \"\"}, \"type\": \"contourcarpet\"}], \"heatmap\": [{\"colorbar\": {\"outlinewidth\": 0, \"ticks\": \"\"}, \"colorscale\": [[0.0, \"#0d0887\"], [0.1111111111111111, \"#46039f\"], [0.2222222222222222, \"#7201a8\"], [0.3333333333333333, \"#9c179e\"], [0.4444444444444444, \"#bd3786\"], [0.5555555555555556, \"#d8576b\"], [0.6666666666666666, \"#ed7953\"], [0.7777777777777778, \"#fb9f3a\"], [0.8888888888888888, \"#fdca26\"], [1.0, \"#f0f921\"]], \"type\": \"heatmap\"}], \"heatmapgl\": [{\"colorbar\": {\"outlinewidth\": 0, \"ticks\": \"\"}, \"colorscale\": [[0.0, \"#0d0887\"], [0.1111111111111111, \"#46039f\"], [0.2222222222222222, \"#7201a8\"], [0.3333333333333333, \"#9c179e\"], [0.4444444444444444, \"#bd3786\"], [0.5555555555555556, \"#d8576b\"], [0.6666666666666666, \"#ed7953\"], [0.7777777777777778, \"#fb9f3a\"], [0.8888888888888888, \"#fdca26\"], [1.0, \"#f0f921\"]], \"type\": \"heatmapgl\"}], \"histogram\": [{\"marker\": {\"colorbar\": {\"outlinewidth\": 0, \"ticks\": \"\"}}, \"type\": \"histogram\"}], \"histogram2d\": [{\"colorbar\": {\"outlinewidth\": 0, \"ticks\": \"\"}, \"colorscale\": [[0.0, \"#0d0887\"], [0.1111111111111111, \"#46039f\"], [0.2222222222222222, \"#7201a8\"], [0.3333333333333333, \"#9c179e\"], [0.4444444444444444, \"#bd3786\"], [0.5555555555555556, \"#d8576b\"], [0.6666666666666666, \"#ed7953\"], [0.7777777777777778, \"#fb9f3a\"], [0.8888888888888888, \"#fdca26\"], [1.0, \"#f0f921\"]], \"type\": \"histogram2d\"}], \"histogram2dcontour\": [{\"colorbar\": {\"outlinewidth\": 0, \"ticks\": \"\"}, \"colorscale\": [[0.0, \"#0d0887\"], [0.1111111111111111, \"#46039f\"], [0.2222222222222222, \"#7201a8\"], [0.3333333333333333, \"#9c179e\"], [0.4444444444444444, \"#bd3786\"], [0.5555555555555556, \"#d8576b\"], [0.6666666666666666, \"#ed7953\"], [0.7777777777777778, \"#fb9f3a\"], [0.8888888888888888, \"#fdca26\"], [1.0, \"#f0f921\"]], \"type\": \"histogram2dcontour\"}], \"mesh3d\": [{\"colorbar\": {\"outlinewidth\": 0, \"ticks\": \"\"}, \"type\": \"mesh3d\"}], \"parcoords\": [{\"line\": {\"colorbar\": {\"outlinewidth\": 0, \"ticks\": \"\"}}, \"type\": \"parcoords\"}], \"pie\": [{\"automargin\": true, \"type\": \"pie\"}], \"scatter\": [{\"marker\": {\"colorbar\": {\"outlinewidth\": 0, \"ticks\": \"\"}}, \"type\": \"scatter\"}], \"scatter3d\": [{\"line\": {\"colorbar\": {\"outlinewidth\": 0, \"ticks\": \"\"}}, \"marker\": {\"colorbar\": {\"outlinewidth\": 0, \"ticks\": \"\"}}, \"type\": \"scatter3d\"}], \"scattercarpet\": [{\"marker\": {\"colorbar\": {\"outlinewidth\": 0, \"ticks\": \"\"}}, \"type\": \"scattercarpet\"}], \"scattergeo\": [{\"marker\": {\"colorbar\": {\"outlinewidth\": 0, \"ticks\": \"\"}}, \"type\": \"scattergeo\"}], \"scattergl\": [{\"marker\": {\"colorbar\": {\"outlinewidth\": 0, \"ticks\": \"\"}}, \"type\": \"scattergl\"}], \"scattermapbox\": [{\"marker\": {\"colorbar\": {\"outlinewidth\": 0, \"ticks\": \"\"}}, \"type\": \"scattermapbox\"}], \"scatterpolar\": [{\"marker\": {\"colorbar\": {\"outlinewidth\": 0, \"ticks\": \"\"}}, \"type\": \"scatterpolar\"}], \"scatterpolargl\": [{\"marker\": {\"colorbar\": {\"outlinewidth\": 0, \"ticks\": \"\"}}, \"type\": \"scatterpolargl\"}], \"scatterternary\": [{\"marker\": {\"colorbar\": {\"outlinewidth\": 0, \"ticks\": \"\"}}, \"type\": \"scatterternary\"}], \"surface\": [{\"colorbar\": {\"outlinewidth\": 0, \"ticks\": \"\"}, \"colorscale\": [[0.0, \"#0d0887\"], [0.1111111111111111, \"#46039f\"], [0.2222222222222222, \"#7201a8\"], [0.3333333333333333, \"#9c179e\"], [0.4444444444444444, \"#bd3786\"], [0.5555555555555556, \"#d8576b\"], [0.6666666666666666, \"#ed7953\"], [0.7777777777777778, \"#fb9f3a\"], [0.8888888888888888, \"#fdca26\"], [1.0, \"#f0f921\"]], \"type\": \"surface\"}], \"table\": [{\"cells\": {\"fill\": {\"color\": \"#EBF0F8\"}, \"line\": {\"color\": \"white\"}}, \"header\": {\"fill\": {\"color\": \"#C8D4E3\"}, \"line\": {\"color\": \"white\"}}, \"type\": \"table\"}]}, \"layout\": {\"annotationdefaults\": {\"arrowcolor\": \"#2a3f5f\", \"arrowhead\": 0, \"arrowwidth\": 1}, \"autotypenumbers\": \"strict\", \"coloraxis\": {\"colorbar\": {\"outlinewidth\": 0, \"ticks\": \"\"}}, \"colorscale\": {\"diverging\": [[0, \"#8e0152\"], [0.1, \"#c51b7d\"], [0.2, \"#de77ae\"], [0.3, \"#f1b6da\"], [0.4, \"#fde0ef\"], [0.5, \"#f7f7f7\"], [0.6, \"#e6f5d0\"], [0.7, \"#b8e186\"], [0.8, \"#7fbc41\"], [0.9, \"#4d9221\"], [1, \"#276419\"]], \"sequential\": [[0.0, \"#0d0887\"], [0.1111111111111111, \"#46039f\"], [0.2222222222222222, \"#7201a8\"], [0.3333333333333333, \"#9c179e\"], [0.4444444444444444, \"#bd3786\"], [0.5555555555555556, \"#d8576b\"], [0.6666666666666666, \"#ed7953\"], [0.7777777777777778, \"#fb9f3a\"], [0.8888888888888888, \"#fdca26\"], [1.0, \"#f0f921\"]], \"sequentialminus\": [[0.0, \"#0d0887\"], [0.1111111111111111, \"#46039f\"], [0.2222222222222222, \"#7201a8\"], [0.3333333333333333, \"#9c179e\"], [0.4444444444444444, \"#bd3786\"], [0.5555555555555556, \"#d8576b\"], [0.6666666666666666, \"#ed7953\"], [0.7777777777777778, \"#fb9f3a\"], [0.8888888888888888, \"#fdca26\"], [1.0, \"#f0f921\"]]}, \"colorway\": [\"#636efa\", \"#EF553B\", \"#00cc96\", \"#ab63fa\", \"#FFA15A\", \"#19d3f3\", \"#FF6692\", \"#B6E880\", \"#FF97FF\", \"#FECB52\"], \"font\": {\"color\": \"#2a3f5f\"}, \"geo\": {\"bgcolor\": \"white\", \"lakecolor\": \"white\", \"landcolor\": \"#E5ECF6\", \"showlakes\": true, \"showland\": true, \"subunitcolor\": \"white\"}, \"hoverlabel\": {\"align\": \"left\"}, \"hovermode\": \"closest\", \"mapbox\": {\"style\": \"light\"}, \"paper_bgcolor\": \"white\", \"plot_bgcolor\": \"#E5ECF6\", \"polar\": {\"angularaxis\": {\"gridcolor\": \"white\", \"linecolor\": \"white\", \"ticks\": \"\"}, \"bgcolor\": \"#E5ECF6\", \"radialaxis\": {\"gridcolor\": \"white\", \"linecolor\": \"white\", \"ticks\": \"\"}}, \"scene\": {\"xaxis\": {\"backgroundcolor\": \"#E5ECF6\", \"gridcolor\": \"white\", \"gridwidth\": 2, \"linecolor\": \"white\", \"showbackground\": true, \"ticks\": \"\", \"zerolinecolor\": \"white\"}, \"yaxis\": {\"backgroundcolor\": \"#E5ECF6\", \"gridcolor\": \"white\", \"gridwidth\": 2, \"linecolor\": \"white\", \"showbackground\": true, \"ticks\": \"\", \"zerolinecolor\": \"white\"}, \"zaxis\": {\"backgroundcolor\": \"#E5ECF6\", \"gridcolor\": \"white\", \"gridwidth\": 2, \"linecolor\": \"white\", \"showbackground\": true, \"ticks\": \"\", \"zerolinecolor\": \"white\"}}, \"shapedefaults\": {\"line\": {\"color\": \"#2a3f5f\"}}, \"ternary\": {\"aaxis\": {\"gridcolor\": \"white\", \"linecolor\": \"white\", \"ticks\": \"\"}, \"baxis\": {\"gridcolor\": \"white\", \"linecolor\": \"white\", \"ticks\": \"\"}, \"bgcolor\": \"#E5ECF6\", \"caxis\": {\"gridcolor\": \"white\", \"linecolor\": \"white\", \"ticks\": \"\"}}, \"title\": {\"x\": 0.05}, \"xaxis\": {\"automargin\": true, \"gridcolor\": \"white\", \"linecolor\": \"white\", \"ticks\": \"\", \"title\": {\"standoff\": 15}, \"zerolinecolor\": \"white\", \"zerolinewidth\": 2}, \"yaxis\": {\"automargin\": true, \"gridcolor\": \"white\", \"linecolor\": \"white\", \"ticks\": \"\", \"title\": {\"standoff\": 15}, \"zerolinecolor\": \"white\", \"zerolinewidth\": 2}}}, \"title\": {\"text\": \"<b>Reservoir volume and height in Reservoir2 </b>\"}, \"xaxis\": {\"title\": {\"text\": \"<b>Volume</b> (Mm<sup>3</sup>)\"}}, \"yaxis\": {\"title\": {\"text\": \"<b>Height</b> (meter)\"}}},                        {\"responsive\": true}                    ).then(function(){\n",
       "                            \n",
       "var gd = document.getElementById('e699b8fa-1e0d-4ba9-b53b-63e0c3b8486d');\n",
       "var x = new MutationObserver(function (mutations, observer) {{\n",
       "        var display = window.getComputedStyle(gd).display;\n",
       "        if (!display || display === 'none') {{\n",
       "            console.log([gd, 'removed!']);\n",
       "            Plotly.purge(gd);\n",
       "            observer.disconnect();\n",
       "        }}\n",
       "}});\n",
       "\n",
       "// Listen for the removal of the full notebook cells\n",
       "var notebookContainer = gd.closest('#notebook-container');\n",
       "if (notebookContainer) {{\n",
       "    x.observe(notebookContainer, {childList: true});\n",
       "}}\n",
       "\n",
       "// Listen for the clearing of the current output cell\n",
       "var outputEl = gd.closest('.output');\n",
       "if (outputEl) {{\n",
       "    x.observe(outputEl, {childList: true});\n",
       "}}\n",
       "\n",
       "                        })                };                });            </script>        </div>"
      ]
     },
     "metadata": {},
     "output_type": "display_data"
    }
   ],
   "source": [
    "# Plotting the volume/head relation of Reservoir2, including the initial starting point\r\n",
    "\r\n",
    "from scipy.interpolate import interp1d\r\n",
    "\r\n",
    "vol_height=shop.model.reservoir.Reservoir2.vol_head.get()\r\n",
    "start_height=shop.model.reservoir.Reservoir2.start_head.get()\r\n",
    "\r\n",
    "interplation_function = interp1d(vol_height.values, vol_height.index)\r\n",
    "start_volume=float(interplation_function(start_height))\r\n",
    "\r\n",
    "fig = go.Figure()\r\n",
    "colorscale = px.colors.sequential.PuBu_r\r\n",
    "fig.add_trace(go.Scatter(x=vol_height.index, y=vol_height.values, name=\"Reservoir volume and height\", marker_color=colorscale[4]))\r\n",
    "fig.add_trace(go.Scatter(x=[start_volume], y=[start_height], name=\"Start point\",marker_color=colorscale[2], mode='markers', marker=dict(color='rgba(0,0,0, 0.0)', size=3, line=dict(color=colorscale[2], width=4))))\r\n",
    "fig.update_layout(title=\"<b>Reservoir volume and height in Reservoir2 </b>\", xaxis_title=\"<b>Volume</b> (Mm<sup>3</sup>)\", yaxis_title=\"<b>Height</b> (meter)\")\r\n",
    "\r\n",
    "fig.show()"
   ]
  },
  {
   "cell_type": "markdown",
   "metadata": {
    "Collapsed": "false"
   },
   "source": [
    "### Plants"
   ]
  },
  {
   "cell_type": "markdown",
   "metadata": {
    "Collapsed": "false"
   },
   "source": [
    "The next objects to add to our model are the plant objects. We instance them the same way as we instanced the reservoir objects."
   ]
  },
  {
   "cell_type": "code",
   "execution_count": 17,
   "metadata": {
    "Collapsed": "false"
   },
   "outputs": [],
   "source": [
    "# Add a plant objects to the model and instancing them\r\n",
    "plant1 = shop.model.plant.add_object('Plant1')\r\n",
    "plant2 = shop.model.plant.add_object('Plant2')\r\n",
    "# Alternatively, only the right hand side can be executed, however it is often nice to refer to instances later on"
   ]
  },
  {
   "cell_type": "markdown",
   "metadata": {
    "Collapsed": "false"
   },
   "source": [
    "Next we verify that our objects are correctly added to the shop instance."
   ]
  },
  {
   "cell_type": "code",
   "execution_count": 18,
   "metadata": {
    "Collapsed": "false"
   },
   "outputs": [
    {
     "data": {
      "text/plain": [
       "['Plant1', 'Plant2']"
      ]
     },
     "execution_count": 18,
     "metadata": {},
     "output_type": "execute_result"
    }
   ],
   "source": [
    "shop.model.plant.get_object_names()"
   ]
  },
  {
   "cell_type": "markdown",
   "metadata": {
    "Collapsed": "false"
   },
   "source": [
    "The plant objects need attributes as well."
   ]
  },
  {
   "cell_type": "code",
   "execution_count": 19,
   "metadata": {
    "Collapsed": "false"
   },
   "outputs": [],
   "source": [
    "# Setting the outlet line / tailrace height in masl\r\n",
    "plant1.outlet_line.set(672)\r\n",
    "plant2.outlet_line.set(586)\r\n",
    "\r\n",
    "# Setting the main loss in the plant\r\n",
    "plant1.main_loss.set([0])\r\n",
    "plant2.main_loss.set([0])\r\n",
    "\r\n",
    "# Setting the penstock loss in the plant. The number of penstocks are populated equal to the number of losses defined.\r\n",
    "plant1.penstock_loss.set([0.001])\r\n",
    "plant2.penstock_loss.set([0.0001,0.0002])"
   ]
  },
  {
   "cell_type": "markdown",
   "metadata": {
    "Collapsed": "false"
   },
   "source": [
    "### Generators"
   ]
  },
  {
   "cell_type": "markdown",
   "metadata": {
    "Collapsed": "false"
   },
   "source": [
    "A plant needs at least one generator. We add two generators to plant 1, and four generators to plant 2"
   ]
  },
  {
   "cell_type": "code",
   "execution_count": 20,
   "metadata": {
    "Collapsed": "false"
   },
   "outputs": [],
   "source": [
    "# Add a generator object to the model\r\n",
    "p1g1 = shop.model.generator.add_object('Plant1_Generator1')\r\n",
    "p1g2 = shop.model.generator.add_object('Plant1_Generator2')\r\n",
    "\r\n",
    "p2g1 = shop.model.generator.add_object('Plant2_Generator1')\r\n",
    "p2g2 = shop.model.generator.add_object('Plant2_Generator2')\r\n",
    "p2g3 = shop.model.generator.add_object('Plant2_Generator3')\r\n",
    "p2g4 = shop.model.generator.add_object('Plant2_Generator4')"
   ]
  },
  {
   "cell_type": "markdown",
   "metadata": {
    "Collapsed": "false"
   },
   "source": [
    "The connection between the generator and its plant must be set before defining the generator's parameters, whereas other connections in the model can be set after its objects and parameters have been set."
   ]
  },
  {
   "cell_type": "code",
   "execution_count": 21,
   "metadata": {
    "Collapsed": "false"
   },
   "outputs": [],
   "source": [
    "# Connecting the generator to the correct plant\r\n",
    "p1g1.connect_to(plant1)\r\n",
    "p1g2.connect_to(plant1)\r\n",
    "\r\n",
    "p2g1.connect_to(plant2)\r\n",
    "p2g2.connect_to(plant2)\r\n",
    "p2g3.connect_to(plant2)\r\n",
    "p2g4.connect_to(plant2)"
   ]
  },
  {
   "cell_type": "markdown",
   "metadata": {
    "Collapsed": "false"
   },
   "source": [
    "We control the generator objects in the model after adding and connecting them."
   ]
  },
  {
   "cell_type": "code",
   "execution_count": 22,
   "metadata": {
    "Collapsed": "false"
   },
   "outputs": [
    {
     "data": {
      "text/plain": [
       "['Plant1_Generator1',\n",
       " 'Plant1_Generator2',\n",
       " 'Plant2_Generator1',\n",
       " 'Plant2_Generator2',\n",
       " 'Plant2_Generator3',\n",
       " 'Plant2_Generator4']"
      ]
     },
     "execution_count": 22,
     "metadata": {},
     "output_type": "execute_result"
    }
   ],
   "source": [
    "shop.model.generator.get_object_names()"
   ]
  },
  {
   "cell_type": "markdown",
   "metadata": {
    "Collapsed": "false"
   },
   "source": [
    "Then we move on to the generator attributes. Certain generators are identical, so in order to preserve consistency, we make use of the .get()-function, so that if we change parameters on one of the duplicate generators, all of them will receive the change(s)."
   ]
  },
  {
   "cell_type": "code",
   "execution_count": 23,
   "metadata": {
    "Collapsed": "false"
   },
   "outputs": [],
   "source": [
    "# Setting the number of penstocks\r\n",
    "p1g1.penstock.set(1)\r\n",
    "p1g2.penstock.set(p1g1.penstock.get())\r\n",
    "\r\n",
    "p2g1.penstock.set(1)\r\n",
    "p2g2.penstock.set(2)\r\n",
    "p2g3.penstock.set(p2g2.penstock.get())\r\n",
    "p2g4.penstock.set(p2g2.penstock.get())\r\n",
    "\r\n",
    "# Setting the minimum production in MW\r\n",
    "p1g1.p_min.set(60)\r\n",
    "p1g2.p_min.set(p1g1.p_min.get())\r\n",
    "\r\n",
    "p2g1.p_min.set(100)\r\n",
    "p2g2.p_min.set(30)\r\n",
    "p2g3.p_min.set(p2g2.p_min.get())\r\n",
    "p2g4.p_min.set(p2g2.p_min.get())\r\n",
    "\r\n",
    "# Setting the maximum production in MW\r\n",
    "p1g1.p_max.set(120)\r\n",
    "p1g2.p_max.set(p1g1.p_max.get())\r\n",
    "\r\n",
    "p2g1.p_max.set(180)\r\n",
    "p2g2.p_max.set(55)\r\n",
    "p2g3.p_max.set(p2g2.p_max.get())\r\n",
    "p2g4.p_max.set(p2g2.p_max.get())\r\n",
    "\r\n",
    "# Setting the nominal production in MW\r\n",
    "p1g1.p_nom.set(120)\r\n",
    "p1g2.p_nom.set(p1g1.p_nom.get())\r\n",
    "\r\n",
    "p2g1.p_nom.set(180)\r\n",
    "p2g2.p_nom.set(55)\r\n",
    "p2g3.p_nom.set(p2g2.p_nom.get())\r\n",
    "p2g4.p_nom.set(p2g2.p_nom.get())\r\n",
    "\r\n",
    "# Setting the start cost in a monetary unit (i.e. $ or NOK, the model only compares costs to each other, so you just need to be sure all costs are in the same unit)\r\n",
    "p1g1.startcost.set(500)\r\n",
    "p1g2.startcost.set(p1g1.startcost.get())\r\n",
    "\r\n",
    "p2g1.startcost.set(600)\r\n",
    "p2g2.startcost.set(200)\r\n",
    "p2g3.startcost.set(p2g2.startcost.get())\r\n",
    "p2g4.startcost.set(p2g2.startcost.get())\r\n",
    "\r\n",
    "# Setting generator efficiency curves, which is the releation between the efficiency factor (%) and production (MW)\r\n",
    "p1g1.gen_eff_curve.set(pd.Series([100, 100], index=[60, 120]))\r\n",
    "p1g2.gen_eff_curve.set(p1g1.gen_eff_curve.get())\r\n",
    "\r\n",
    "p2g1.gen_eff_curve.set(pd.Series([100, 100], index=[100, 180]))\r\n",
    "p2g2.gen_eff_curve.set(pd.Series([100, 100], index=[30, 60]))\r\n",
    "p2g3.gen_eff_curve.set(p2g2.gen_eff_curve.get())\r\n",
    "p2g4.gen_eff_curve.set(p2g2.gen_eff_curve.get())\r\n",
    "\r\n",
    "# Setting  turbine efficiency curves, which is the relation between the efficiency factor (%) and release (m3/s) for different head levels (masl)\r\n",
    "p1g1.turb_eff_curves.set([pd.Series([85.8733, 87.0319, 88.0879, 89.0544, 89.9446, 90.7717, 91.5488, 92.2643, 92.8213, 93.1090, 93.2170, 93.0390, 92.6570, 92.1746],\r\n",
    "                                    index=[28.12, 30.45, 32.78, 35.11, 37.45, 39.78, 42.11, 44.44, 46.77, 49.10, 51.43, 53.76, 56.10, 58.83],\r\n",
    "                                    name=170),\r\n",
    "                          pd.Series([86.7321, 87.9022, 88.9688, 89.9450, 90.8441, 91.6794, 92.4643, 93.1870, 93.7495, 94.0401, 94.1492, 93.9694, 93.5836, 93.0964],\r\n",
    "                                    index=[28.12, 30.45, 32.78, 35.11, 37.45, 39.78, 42.11, 44.44, 46.77, 49.10, 51.43, 53.76, 56.10, 58.83],\r\n",
    "                                    name=200),\r\n",
    "                          pd.Series([87.5908, 88.7725, 89.8497, 90.8355, 91.7435, 92.5871, 93.3798, 94.1096, 94.6777, 94.9712, 95.0813, 94.8998, 94.5101, 94.0181],\r\n",
    "                                    index=[28.12, 30.45, 32.78, 35.11, 37.45, 39.78, 42.11, 44.44, 46.77, 49.10, 51.43, 53.76, 56.10, 58.83],\r\n",
    "                                    name=230)])\r\n",
    "p1g2.turb_eff_curves.set(p1g1.turb_eff_curves.get())\r\n",
    "\r\n",
    "p2g1.turb_eff_curves.set([pd.Series([92.7201, 93.2583, 93.7305, 94.1368, 94.4785, 94.7525, 94.9606, 95.1028, 95.1790, 95.1892, 95.1335, 95.0118, 94.8232, 94.5191],\r\n",
    "                                    index=[126.54, 137.03, 147.51, 158.00, 168.53, 179.01, 189.50, 199.98, 210.47, 220.95, 231.44, 241.92, 252.45, 264.74],\r\n",
    "                                    name=60)])\r\n",
    "\r\n",
    "p2g2.turb_eff_curves.set([pd.Series([83.8700, 85.1937, 86.3825, 87.4362, 88.3587, 89.1419, 89.7901, 90.3033, 90.6815, 90.9248, 91.0331, 91.0063, 90.8436, 90.4817],\r\n",
    "                                    index=[40.82, 44.20, 47.58, 50.97, 54.36, 57.75, 61.13, 64.51, 67.89, 71.27, 74.66, 78.04, 81.44, 85.40],\r\n",
    "                                    name=60)])\r\n",
    "p2g3.turb_eff_curves.set(p2g2.turb_eff_curves.get())\r\n",
    "p2g4.turb_eff_curves.set(p2g2.turb_eff_curves.get())"
   ]
  },
  {
   "cell_type": "markdown",
   "metadata": {
    "Collapsed": "false"
   },
   "source": [
    "Now we can plot some of the generator data, to ensure that we have the correct data."
   ]
  },
  {
   "cell_type": "code",
   "execution_count": 24,
   "metadata": {
    "Collapsed": "false"
   },
   "outputs": [
    {
     "data": {
      "application/vnd.plotly.v1+json": {
       "config": {
        "plotlyServerURL": "https://plot.ly"
       },
       "data": [
        {
         "line": {
          "width": 2
         },
         "marker": {
          "color": "rgb(33,102,172)"
         },
         "mode": "lines+markers",
         "name": "Net Head=170.0",
         "type": "scatter",
         "x": [
          28.12,
          30.45,
          32.78,
          35.11,
          37.45,
          39.78,
          42.11,
          44.44,
          46.77,
          49.1,
          51.43,
          53.76,
          56.1,
          58.83
         ],
         "y": [
          85.8733,
          87.0319,
          88.0879,
          89.0544,
          89.9446,
          90.7717,
          91.5488,
          92.2643,
          92.8213,
          93.109,
          93.217,
          93.039,
          92.657,
          92.1746
         ]
        },
        {
         "line": {
          "width": 2
         },
         "marker": {
          "color": "rgb(67,147,195)"
         },
         "mode": "lines+markers",
         "name": "Net Head=200.0",
         "type": "scatter",
         "x": [
          28.12,
          30.45,
          32.78,
          35.11,
          37.45,
          39.78,
          42.11,
          44.44,
          46.77,
          49.1,
          51.43,
          53.76,
          56.1,
          58.83
         ],
         "y": [
          86.7321,
          87.9022,
          88.9688,
          89.945,
          90.8441,
          91.6794,
          92.4643,
          93.187,
          93.7495,
          94.0401,
          94.1492,
          93.9694,
          93.5836,
          93.0964
         ]
        },
        {
         "line": {
          "width": 2
         },
         "marker": {
          "color": "rgb(146,197,222)"
         },
         "mode": "lines+markers",
         "name": "Net Head=230.0",
         "type": "scatter",
         "x": [
          28.12,
          30.45,
          32.78,
          35.11,
          37.45,
          39.78,
          42.11,
          44.44,
          46.77,
          49.1,
          51.43,
          53.76,
          56.1,
          58.83
         ],
         "y": [
          87.5908,
          88.7725,
          89.8497,
          90.8355,
          91.7435,
          92.5871,
          93.3798,
          94.1096,
          94.6777,
          94.9712,
          95.0813,
          94.8998,
          94.5101,
          94.0181
         ]
        }
       ],
       "layout": {
        "autosize": true,
        "template": {
         "data": {
          "bar": [
           {
            "error_x": {
             "color": "#2a3f5f"
            },
            "error_y": {
             "color": "#2a3f5f"
            },
            "marker": {
             "line": {
              "color": "#E5ECF6",
              "width": 0.5
             }
            },
            "type": "bar"
           }
          ],
          "barpolar": [
           {
            "marker": {
             "line": {
              "color": "#E5ECF6",
              "width": 0.5
             }
            },
            "type": "barpolar"
           }
          ],
          "carpet": [
           {
            "aaxis": {
             "endlinecolor": "#2a3f5f",
             "gridcolor": "white",
             "linecolor": "white",
             "minorgridcolor": "white",
             "startlinecolor": "#2a3f5f"
            },
            "baxis": {
             "endlinecolor": "#2a3f5f",
             "gridcolor": "white",
             "linecolor": "white",
             "minorgridcolor": "white",
             "startlinecolor": "#2a3f5f"
            },
            "type": "carpet"
           }
          ],
          "choropleth": [
           {
            "colorbar": {
             "outlinewidth": 0,
             "ticks": ""
            },
            "type": "choropleth"
           }
          ],
          "contour": [
           {
            "colorbar": {
             "outlinewidth": 0,
             "ticks": ""
            },
            "colorscale": [
             [
              0,
              "#0d0887"
             ],
             [
              0.1111111111111111,
              "#46039f"
             ],
             [
              0.2222222222222222,
              "#7201a8"
             ],
             [
              0.3333333333333333,
              "#9c179e"
             ],
             [
              0.4444444444444444,
              "#bd3786"
             ],
             [
              0.5555555555555556,
              "#d8576b"
             ],
             [
              0.6666666666666666,
              "#ed7953"
             ],
             [
              0.7777777777777778,
              "#fb9f3a"
             ],
             [
              0.8888888888888888,
              "#fdca26"
             ],
             [
              1,
              "#f0f921"
             ]
            ],
            "type": "contour"
           }
          ],
          "contourcarpet": [
           {
            "colorbar": {
             "outlinewidth": 0,
             "ticks": ""
            },
            "type": "contourcarpet"
           }
          ],
          "heatmap": [
           {
            "colorbar": {
             "outlinewidth": 0,
             "ticks": ""
            },
            "colorscale": [
             [
              0,
              "#0d0887"
             ],
             [
              0.1111111111111111,
              "#46039f"
             ],
             [
              0.2222222222222222,
              "#7201a8"
             ],
             [
              0.3333333333333333,
              "#9c179e"
             ],
             [
              0.4444444444444444,
              "#bd3786"
             ],
             [
              0.5555555555555556,
              "#d8576b"
             ],
             [
              0.6666666666666666,
              "#ed7953"
             ],
             [
              0.7777777777777778,
              "#fb9f3a"
             ],
             [
              0.8888888888888888,
              "#fdca26"
             ],
             [
              1,
              "#f0f921"
             ]
            ],
            "type": "heatmap"
           }
          ],
          "heatmapgl": [
           {
            "colorbar": {
             "outlinewidth": 0,
             "ticks": ""
            },
            "colorscale": [
             [
              0,
              "#0d0887"
             ],
             [
              0.1111111111111111,
              "#46039f"
             ],
             [
              0.2222222222222222,
              "#7201a8"
             ],
             [
              0.3333333333333333,
              "#9c179e"
             ],
             [
              0.4444444444444444,
              "#bd3786"
             ],
             [
              0.5555555555555556,
              "#d8576b"
             ],
             [
              0.6666666666666666,
              "#ed7953"
             ],
             [
              0.7777777777777778,
              "#fb9f3a"
             ],
             [
              0.8888888888888888,
              "#fdca26"
             ],
             [
              1,
              "#f0f921"
             ]
            ],
            "type": "heatmapgl"
           }
          ],
          "histogram": [
           {
            "marker": {
             "colorbar": {
              "outlinewidth": 0,
              "ticks": ""
             }
            },
            "type": "histogram"
           }
          ],
          "histogram2d": [
           {
            "colorbar": {
             "outlinewidth": 0,
             "ticks": ""
            },
            "colorscale": [
             [
              0,
              "#0d0887"
             ],
             [
              0.1111111111111111,
              "#46039f"
             ],
             [
              0.2222222222222222,
              "#7201a8"
             ],
             [
              0.3333333333333333,
              "#9c179e"
             ],
             [
              0.4444444444444444,
              "#bd3786"
             ],
             [
              0.5555555555555556,
              "#d8576b"
             ],
             [
              0.6666666666666666,
              "#ed7953"
             ],
             [
              0.7777777777777778,
              "#fb9f3a"
             ],
             [
              0.8888888888888888,
              "#fdca26"
             ],
             [
              1,
              "#f0f921"
             ]
            ],
            "type": "histogram2d"
           }
          ],
          "histogram2dcontour": [
           {
            "colorbar": {
             "outlinewidth": 0,
             "ticks": ""
            },
            "colorscale": [
             [
              0,
              "#0d0887"
             ],
             [
              0.1111111111111111,
              "#46039f"
             ],
             [
              0.2222222222222222,
              "#7201a8"
             ],
             [
              0.3333333333333333,
              "#9c179e"
             ],
             [
              0.4444444444444444,
              "#bd3786"
             ],
             [
              0.5555555555555556,
              "#d8576b"
             ],
             [
              0.6666666666666666,
              "#ed7953"
             ],
             [
              0.7777777777777778,
              "#fb9f3a"
             ],
             [
              0.8888888888888888,
              "#fdca26"
             ],
             [
              1,
              "#f0f921"
             ]
            ],
            "type": "histogram2dcontour"
           }
          ],
          "mesh3d": [
           {
            "colorbar": {
             "outlinewidth": 0,
             "ticks": ""
            },
            "type": "mesh3d"
           }
          ],
          "parcoords": [
           {
            "line": {
             "colorbar": {
              "outlinewidth": 0,
              "ticks": ""
             }
            },
            "type": "parcoords"
           }
          ],
          "pie": [
           {
            "automargin": true,
            "type": "pie"
           }
          ],
          "scatter": [
           {
            "marker": {
             "colorbar": {
              "outlinewidth": 0,
              "ticks": ""
             }
            },
            "type": "scatter"
           }
          ],
          "scatter3d": [
           {
            "line": {
             "colorbar": {
              "outlinewidth": 0,
              "ticks": ""
             }
            },
            "marker": {
             "colorbar": {
              "outlinewidth": 0,
              "ticks": ""
             }
            },
            "type": "scatter3d"
           }
          ],
          "scattercarpet": [
           {
            "marker": {
             "colorbar": {
              "outlinewidth": 0,
              "ticks": ""
             }
            },
            "type": "scattercarpet"
           }
          ],
          "scattergeo": [
           {
            "marker": {
             "colorbar": {
              "outlinewidth": 0,
              "ticks": ""
             }
            },
            "type": "scattergeo"
           }
          ],
          "scattergl": [
           {
            "marker": {
             "colorbar": {
              "outlinewidth": 0,
              "ticks": ""
             }
            },
            "type": "scattergl"
           }
          ],
          "scattermapbox": [
           {
            "marker": {
             "colorbar": {
              "outlinewidth": 0,
              "ticks": ""
             }
            },
            "type": "scattermapbox"
           }
          ],
          "scatterpolar": [
           {
            "marker": {
             "colorbar": {
              "outlinewidth": 0,
              "ticks": ""
             }
            },
            "type": "scatterpolar"
           }
          ],
          "scatterpolargl": [
           {
            "marker": {
             "colorbar": {
              "outlinewidth": 0,
              "ticks": ""
             }
            },
            "type": "scatterpolargl"
           }
          ],
          "scatterternary": [
           {
            "marker": {
             "colorbar": {
              "outlinewidth": 0,
              "ticks": ""
             }
            },
            "type": "scatterternary"
           }
          ],
          "surface": [
           {
            "colorbar": {
             "outlinewidth": 0,
             "ticks": ""
            },
            "colorscale": [
             [
              0,
              "#0d0887"
             ],
             [
              0.1111111111111111,
              "#46039f"
             ],
             [
              0.2222222222222222,
              "#7201a8"
             ],
             [
              0.3333333333333333,
              "#9c179e"
             ],
             [
              0.4444444444444444,
              "#bd3786"
             ],
             [
              0.5555555555555556,
              "#d8576b"
             ],
             [
              0.6666666666666666,
              "#ed7953"
             ],
             [
              0.7777777777777778,
              "#fb9f3a"
             ],
             [
              0.8888888888888888,
              "#fdca26"
             ],
             [
              1,
              "#f0f921"
             ]
            ],
            "type": "surface"
           }
          ],
          "table": [
           {
            "cells": {
             "fill": {
              "color": "#EBF0F8"
             },
             "line": {
              "color": "white"
             }
            },
            "header": {
             "fill": {
              "color": "#C8D4E3"
             },
             "line": {
              "color": "white"
             }
            },
            "type": "table"
           }
          ]
         },
         "layout": {
          "annotationdefaults": {
           "arrowcolor": "#2a3f5f",
           "arrowhead": 0,
           "arrowwidth": 1
          },
          "autotypenumbers": "strict",
          "coloraxis": {
           "colorbar": {
            "outlinewidth": 0,
            "ticks": ""
           }
          },
          "colorscale": {
           "diverging": [
            [
             0,
             "#8e0152"
            ],
            [
             0.1,
             "#c51b7d"
            ],
            [
             0.2,
             "#de77ae"
            ],
            [
             0.3,
             "#f1b6da"
            ],
            [
             0.4,
             "#fde0ef"
            ],
            [
             0.5,
             "#f7f7f7"
            ],
            [
             0.6,
             "#e6f5d0"
            ],
            [
             0.7,
             "#b8e186"
            ],
            [
             0.8,
             "#7fbc41"
            ],
            [
             0.9,
             "#4d9221"
            ],
            [
             1,
             "#276419"
            ]
           ],
           "sequential": [
            [
             0,
             "#0d0887"
            ],
            [
             0.1111111111111111,
             "#46039f"
            ],
            [
             0.2222222222222222,
             "#7201a8"
            ],
            [
             0.3333333333333333,
             "#9c179e"
            ],
            [
             0.4444444444444444,
             "#bd3786"
            ],
            [
             0.5555555555555556,
             "#d8576b"
            ],
            [
             0.6666666666666666,
             "#ed7953"
            ],
            [
             0.7777777777777778,
             "#fb9f3a"
            ],
            [
             0.8888888888888888,
             "#fdca26"
            ],
            [
             1,
             "#f0f921"
            ]
           ],
           "sequentialminus": [
            [
             0,
             "#0d0887"
            ],
            [
             0.1111111111111111,
             "#46039f"
            ],
            [
             0.2222222222222222,
             "#7201a8"
            ],
            [
             0.3333333333333333,
             "#9c179e"
            ],
            [
             0.4444444444444444,
             "#bd3786"
            ],
            [
             0.5555555555555556,
             "#d8576b"
            ],
            [
             0.6666666666666666,
             "#ed7953"
            ],
            [
             0.7777777777777778,
             "#fb9f3a"
            ],
            [
             0.8888888888888888,
             "#fdca26"
            ],
            [
             1,
             "#f0f921"
            ]
           ]
          },
          "colorway": [
           "#636efa",
           "#EF553B",
           "#00cc96",
           "#ab63fa",
           "#FFA15A",
           "#19d3f3",
           "#FF6692",
           "#B6E880",
           "#FF97FF",
           "#FECB52"
          ],
          "font": {
           "color": "#2a3f5f"
          },
          "geo": {
           "bgcolor": "white",
           "lakecolor": "white",
           "landcolor": "#E5ECF6",
           "showlakes": true,
           "showland": true,
           "subunitcolor": "white"
          },
          "hoverlabel": {
           "align": "left"
          },
          "hovermode": "closest",
          "mapbox": {
           "style": "light"
          },
          "paper_bgcolor": "white",
          "plot_bgcolor": "#E5ECF6",
          "polar": {
           "angularaxis": {
            "gridcolor": "white",
            "linecolor": "white",
            "ticks": ""
           },
           "bgcolor": "#E5ECF6",
           "radialaxis": {
            "gridcolor": "white",
            "linecolor": "white",
            "ticks": ""
           }
          },
          "scene": {
           "xaxis": {
            "backgroundcolor": "#E5ECF6",
            "gridcolor": "white",
            "gridwidth": 2,
            "linecolor": "white",
            "showbackground": true,
            "ticks": "",
            "zerolinecolor": "white"
           },
           "yaxis": {
            "backgroundcolor": "#E5ECF6",
            "gridcolor": "white",
            "gridwidth": 2,
            "linecolor": "white",
            "showbackground": true,
            "ticks": "",
            "zerolinecolor": "white"
           },
           "zaxis": {
            "backgroundcolor": "#E5ECF6",
            "gridcolor": "white",
            "gridwidth": 2,
            "linecolor": "white",
            "showbackground": true,
            "ticks": "",
            "zerolinecolor": "white"
           }
          },
          "shapedefaults": {
           "line": {
            "color": "#2a3f5f"
           }
          },
          "ternary": {
           "aaxis": {
            "gridcolor": "white",
            "linecolor": "white",
            "ticks": ""
           },
           "baxis": {
            "gridcolor": "white",
            "linecolor": "white",
            "ticks": ""
           },
           "bgcolor": "#E5ECF6",
           "caxis": {
            "gridcolor": "white",
            "linecolor": "white",
            "ticks": ""
           }
          },
          "title": {
           "x": 0.05
          },
          "xaxis": {
           "automargin": true,
           "gridcolor": "white",
           "linecolor": "white",
           "ticks": "",
           "title": {
            "standoff": 15
           },
           "zerolinecolor": "white",
           "zerolinewidth": 2
          },
          "yaxis": {
           "automargin": true,
           "gridcolor": "white",
           "linecolor": "white",
           "ticks": "",
           "title": {
            "standoff": 15
           },
           "zerolinecolor": "white",
           "zerolinewidth": 2
          }
         }
        },
        "title": {
         "text": "<b>Turbine efficiency curves of G1 in Plant1</b>"
        },
        "xaxis": {
         "autorange": true,
         "range": [
          26.34931238960384,
          60.600687610396164
         ],
         "title": {
          "text": "<b>Discharge</b> (m<sup>3</sup>/s)"
         },
         "type": "linear"
        },
        "yaxis": {
         "autorange": true,
         "range": [
          85.19882866242038,
          95.75577133757962
         ],
         "title": {
          "text": "<b>Efficiency</b> (%)"
         },
         "type": "linear"
        }
       }
      },
      "text/html": [
       "<div>                            <div id=\"cf4cce6c-6e81-42ee-a47b-a2bd0aa4665c\" class=\"plotly-graph-div\" style=\"height:525px; width:100%;\"></div>            <script type=\"text/javascript\">                require([\"plotly\"], function(Plotly) {                    window.PLOTLYENV=window.PLOTLYENV || {};                                    if (document.getElementById(\"cf4cce6c-6e81-42ee-a47b-a2bd0aa4665c\")) {                    Plotly.newPlot(                        \"cf4cce6c-6e81-42ee-a47b-a2bd0aa4665c\",                        [{\"line\": {\"width\": 2}, \"marker\": {\"color\": \"rgb(33,102,172)\"}, \"mode\": \"lines+markers\", \"name\": \"Net Head=170.0\", \"type\": \"scatter\", \"x\": [28.12, 30.45, 32.78, 35.11, 37.45, 39.78, 42.11, 44.44, 46.77, 49.1, 51.43, 53.76, 56.1, 58.83], \"y\": [85.8733, 87.0319, 88.0879, 89.0544, 89.9446, 90.7717, 91.5488, 92.2643, 92.8213, 93.109, 93.217, 93.039, 92.657, 92.1746]}, {\"line\": {\"width\": 2}, \"marker\": {\"color\": \"rgb(67,147,195)\"}, \"mode\": \"lines+markers\", \"name\": \"Net Head=200.0\", \"type\": \"scatter\", \"x\": [28.12, 30.45, 32.78, 35.11, 37.45, 39.78, 42.11, 44.44, 46.77, 49.1, 51.43, 53.76, 56.1, 58.83], \"y\": [86.7321, 87.9022, 88.9688, 89.945, 90.8441, 91.6794, 92.4643, 93.187, 93.7495, 94.0401, 94.1492, 93.9694, 93.5836, 93.0964]}, {\"line\": {\"width\": 2}, \"marker\": {\"color\": \"rgb(146,197,222)\"}, \"mode\": \"lines+markers\", \"name\": \"Net Head=230.0\", \"type\": \"scatter\", \"x\": [28.12, 30.45, 32.78, 35.11, 37.45, 39.78, 42.11, 44.44, 46.77, 49.1, 51.43, 53.76, 56.1, 58.83], \"y\": [87.5908, 88.7725, 89.8497, 90.8355, 91.7435, 92.5871, 93.3798, 94.1096, 94.6777, 94.9712, 95.0813, 94.8998, 94.5101, 94.0181]}],                        {\"template\": {\"data\": {\"bar\": [{\"error_x\": {\"color\": \"#2a3f5f\"}, \"error_y\": {\"color\": \"#2a3f5f\"}, \"marker\": {\"line\": {\"color\": \"#E5ECF6\", \"width\": 0.5}}, \"type\": \"bar\"}], \"barpolar\": [{\"marker\": {\"line\": {\"color\": \"#E5ECF6\", \"width\": 0.5}}, \"type\": \"barpolar\"}], \"carpet\": [{\"aaxis\": {\"endlinecolor\": \"#2a3f5f\", \"gridcolor\": \"white\", \"linecolor\": \"white\", \"minorgridcolor\": \"white\", \"startlinecolor\": \"#2a3f5f\"}, \"baxis\": {\"endlinecolor\": \"#2a3f5f\", \"gridcolor\": \"white\", \"linecolor\": \"white\", \"minorgridcolor\": \"white\", \"startlinecolor\": \"#2a3f5f\"}, \"type\": \"carpet\"}], \"choropleth\": [{\"colorbar\": {\"outlinewidth\": 0, \"ticks\": \"\"}, \"type\": \"choropleth\"}], \"contour\": [{\"colorbar\": {\"outlinewidth\": 0, \"ticks\": \"\"}, \"colorscale\": [[0.0, \"#0d0887\"], [0.1111111111111111, \"#46039f\"], [0.2222222222222222, \"#7201a8\"], [0.3333333333333333, \"#9c179e\"], [0.4444444444444444, \"#bd3786\"], [0.5555555555555556, \"#d8576b\"], [0.6666666666666666, \"#ed7953\"], [0.7777777777777778, \"#fb9f3a\"], [0.8888888888888888, \"#fdca26\"], [1.0, \"#f0f921\"]], \"type\": \"contour\"}], \"contourcarpet\": [{\"colorbar\": {\"outlinewidth\": 0, \"ticks\": \"\"}, \"type\": \"contourcarpet\"}], \"heatmap\": [{\"colorbar\": {\"outlinewidth\": 0, \"ticks\": \"\"}, \"colorscale\": [[0.0, \"#0d0887\"], [0.1111111111111111, \"#46039f\"], [0.2222222222222222, \"#7201a8\"], [0.3333333333333333, \"#9c179e\"], [0.4444444444444444, \"#bd3786\"], [0.5555555555555556, \"#d8576b\"], [0.6666666666666666, \"#ed7953\"], [0.7777777777777778, \"#fb9f3a\"], [0.8888888888888888, \"#fdca26\"], [1.0, \"#f0f921\"]], \"type\": \"heatmap\"}], \"heatmapgl\": [{\"colorbar\": {\"outlinewidth\": 0, \"ticks\": \"\"}, \"colorscale\": [[0.0, \"#0d0887\"], [0.1111111111111111, \"#46039f\"], [0.2222222222222222, \"#7201a8\"], [0.3333333333333333, \"#9c179e\"], [0.4444444444444444, \"#bd3786\"], [0.5555555555555556, \"#d8576b\"], [0.6666666666666666, \"#ed7953\"], [0.7777777777777778, \"#fb9f3a\"], [0.8888888888888888, \"#fdca26\"], [1.0, \"#f0f921\"]], \"type\": \"heatmapgl\"}], \"histogram\": [{\"marker\": {\"colorbar\": {\"outlinewidth\": 0, \"ticks\": \"\"}}, \"type\": \"histogram\"}], \"histogram2d\": [{\"colorbar\": {\"outlinewidth\": 0, \"ticks\": \"\"}, \"colorscale\": [[0.0, \"#0d0887\"], [0.1111111111111111, \"#46039f\"], [0.2222222222222222, \"#7201a8\"], [0.3333333333333333, \"#9c179e\"], [0.4444444444444444, \"#bd3786\"], [0.5555555555555556, \"#d8576b\"], [0.6666666666666666, \"#ed7953\"], [0.7777777777777778, \"#fb9f3a\"], [0.8888888888888888, \"#fdca26\"], [1.0, \"#f0f921\"]], \"type\": \"histogram2d\"}], \"histogram2dcontour\": [{\"colorbar\": {\"outlinewidth\": 0, \"ticks\": \"\"}, \"colorscale\": [[0.0, \"#0d0887\"], [0.1111111111111111, \"#46039f\"], [0.2222222222222222, \"#7201a8\"], [0.3333333333333333, \"#9c179e\"], [0.4444444444444444, \"#bd3786\"], [0.5555555555555556, \"#d8576b\"], [0.6666666666666666, \"#ed7953\"], [0.7777777777777778, \"#fb9f3a\"], [0.8888888888888888, \"#fdca26\"], [1.0, \"#f0f921\"]], \"type\": \"histogram2dcontour\"}], \"mesh3d\": [{\"colorbar\": {\"outlinewidth\": 0, \"ticks\": \"\"}, \"type\": \"mesh3d\"}], \"parcoords\": [{\"line\": {\"colorbar\": {\"outlinewidth\": 0, \"ticks\": \"\"}}, \"type\": \"parcoords\"}], \"pie\": [{\"automargin\": true, \"type\": \"pie\"}], \"scatter\": [{\"marker\": {\"colorbar\": {\"outlinewidth\": 0, \"ticks\": \"\"}}, \"type\": \"scatter\"}], \"scatter3d\": [{\"line\": {\"colorbar\": {\"outlinewidth\": 0, \"ticks\": \"\"}}, \"marker\": {\"colorbar\": {\"outlinewidth\": 0, \"ticks\": \"\"}}, \"type\": \"scatter3d\"}], \"scattercarpet\": [{\"marker\": {\"colorbar\": {\"outlinewidth\": 0, \"ticks\": \"\"}}, \"type\": \"scattercarpet\"}], \"scattergeo\": [{\"marker\": {\"colorbar\": {\"outlinewidth\": 0, \"ticks\": \"\"}}, \"type\": \"scattergeo\"}], \"scattergl\": [{\"marker\": {\"colorbar\": {\"outlinewidth\": 0, \"ticks\": \"\"}}, \"type\": \"scattergl\"}], \"scattermapbox\": [{\"marker\": {\"colorbar\": {\"outlinewidth\": 0, \"ticks\": \"\"}}, \"type\": \"scattermapbox\"}], \"scatterpolar\": [{\"marker\": {\"colorbar\": {\"outlinewidth\": 0, \"ticks\": \"\"}}, \"type\": \"scatterpolar\"}], \"scatterpolargl\": [{\"marker\": {\"colorbar\": {\"outlinewidth\": 0, \"ticks\": \"\"}}, \"type\": \"scatterpolargl\"}], \"scatterternary\": [{\"marker\": {\"colorbar\": {\"outlinewidth\": 0, \"ticks\": \"\"}}, \"type\": \"scatterternary\"}], \"surface\": [{\"colorbar\": {\"outlinewidth\": 0, \"ticks\": \"\"}, \"colorscale\": [[0.0, \"#0d0887\"], [0.1111111111111111, \"#46039f\"], [0.2222222222222222, \"#7201a8\"], [0.3333333333333333, \"#9c179e\"], [0.4444444444444444, \"#bd3786\"], [0.5555555555555556, \"#d8576b\"], [0.6666666666666666, \"#ed7953\"], [0.7777777777777778, \"#fb9f3a\"], [0.8888888888888888, \"#fdca26\"], [1.0, \"#f0f921\"]], \"type\": \"surface\"}], \"table\": [{\"cells\": {\"fill\": {\"color\": \"#EBF0F8\"}, \"line\": {\"color\": \"white\"}}, \"header\": {\"fill\": {\"color\": \"#C8D4E3\"}, \"line\": {\"color\": \"white\"}}, \"type\": \"table\"}]}, \"layout\": {\"annotationdefaults\": {\"arrowcolor\": \"#2a3f5f\", \"arrowhead\": 0, \"arrowwidth\": 1}, \"autotypenumbers\": \"strict\", \"coloraxis\": {\"colorbar\": {\"outlinewidth\": 0, \"ticks\": \"\"}}, \"colorscale\": {\"diverging\": [[0, \"#8e0152\"], [0.1, \"#c51b7d\"], [0.2, \"#de77ae\"], [0.3, \"#f1b6da\"], [0.4, \"#fde0ef\"], [0.5, \"#f7f7f7\"], [0.6, \"#e6f5d0\"], [0.7, \"#b8e186\"], [0.8, \"#7fbc41\"], [0.9, \"#4d9221\"], [1, \"#276419\"]], \"sequential\": [[0.0, \"#0d0887\"], [0.1111111111111111, \"#46039f\"], [0.2222222222222222, \"#7201a8\"], [0.3333333333333333, \"#9c179e\"], [0.4444444444444444, \"#bd3786\"], [0.5555555555555556, \"#d8576b\"], [0.6666666666666666, \"#ed7953\"], [0.7777777777777778, \"#fb9f3a\"], [0.8888888888888888, \"#fdca26\"], [1.0, \"#f0f921\"]], \"sequentialminus\": [[0.0, \"#0d0887\"], [0.1111111111111111, \"#46039f\"], [0.2222222222222222, \"#7201a8\"], [0.3333333333333333, \"#9c179e\"], [0.4444444444444444, \"#bd3786\"], [0.5555555555555556, \"#d8576b\"], [0.6666666666666666, \"#ed7953\"], [0.7777777777777778, \"#fb9f3a\"], [0.8888888888888888, \"#fdca26\"], [1.0, \"#f0f921\"]]}, \"colorway\": [\"#636efa\", \"#EF553B\", \"#00cc96\", \"#ab63fa\", \"#FFA15A\", \"#19d3f3\", \"#FF6692\", \"#B6E880\", \"#FF97FF\", \"#FECB52\"], \"font\": {\"color\": \"#2a3f5f\"}, \"geo\": {\"bgcolor\": \"white\", \"lakecolor\": \"white\", \"landcolor\": \"#E5ECF6\", \"showlakes\": true, \"showland\": true, \"subunitcolor\": \"white\"}, \"hoverlabel\": {\"align\": \"left\"}, \"hovermode\": \"closest\", \"mapbox\": {\"style\": \"light\"}, \"paper_bgcolor\": \"white\", \"plot_bgcolor\": \"#E5ECF6\", \"polar\": {\"angularaxis\": {\"gridcolor\": \"white\", \"linecolor\": \"white\", \"ticks\": \"\"}, \"bgcolor\": \"#E5ECF6\", \"radialaxis\": {\"gridcolor\": \"white\", \"linecolor\": \"white\", \"ticks\": \"\"}}, \"scene\": {\"xaxis\": {\"backgroundcolor\": \"#E5ECF6\", \"gridcolor\": \"white\", \"gridwidth\": 2, \"linecolor\": \"white\", \"showbackground\": true, \"ticks\": \"\", \"zerolinecolor\": \"white\"}, \"yaxis\": {\"backgroundcolor\": \"#E5ECF6\", \"gridcolor\": \"white\", \"gridwidth\": 2, \"linecolor\": \"white\", \"showbackground\": true, \"ticks\": \"\", \"zerolinecolor\": \"white\"}, \"zaxis\": {\"backgroundcolor\": \"#E5ECF6\", \"gridcolor\": \"white\", \"gridwidth\": 2, \"linecolor\": \"white\", \"showbackground\": true, \"ticks\": \"\", \"zerolinecolor\": \"white\"}}, \"shapedefaults\": {\"line\": {\"color\": \"#2a3f5f\"}}, \"ternary\": {\"aaxis\": {\"gridcolor\": \"white\", \"linecolor\": \"white\", \"ticks\": \"\"}, \"baxis\": {\"gridcolor\": \"white\", \"linecolor\": \"white\", \"ticks\": \"\"}, \"bgcolor\": \"#E5ECF6\", \"caxis\": {\"gridcolor\": \"white\", \"linecolor\": \"white\", \"ticks\": \"\"}}, \"title\": {\"x\": 0.05}, \"xaxis\": {\"automargin\": true, \"gridcolor\": \"white\", \"linecolor\": \"white\", \"ticks\": \"\", \"title\": {\"standoff\": 15}, \"zerolinecolor\": \"white\", \"zerolinewidth\": 2}, \"yaxis\": {\"automargin\": true, \"gridcolor\": \"white\", \"linecolor\": \"white\", \"ticks\": \"\", \"title\": {\"standoff\": 15}, \"zerolinecolor\": \"white\", \"zerolinewidth\": 2}}}, \"title\": {\"text\": \"<b>Turbine efficiency curves of G1 in Plant1</b>\"}, \"xaxis\": {\"title\": {\"text\": \"<b>Discharge</b> (m<sup>3</sup>/s)\"}}, \"yaxis\": {\"title\": {\"text\": \"<b>Efficiency</b> (%)\"}}},                        {\"responsive\": true}                    ).then(function(){\n",
       "                            \n",
       "var gd = document.getElementById('cf4cce6c-6e81-42ee-a47b-a2bd0aa4665c');\n",
       "var x = new MutationObserver(function (mutations, observer) {{\n",
       "        var display = window.getComputedStyle(gd).display;\n",
       "        if (!display || display === 'none') {{\n",
       "            console.log([gd, 'removed!']);\n",
       "            Plotly.purge(gd);\n",
       "            observer.disconnect();\n",
       "        }}\n",
       "}});\n",
       "\n",
       "// Listen for the removal of the full notebook cells\n",
       "var notebookContainer = gd.closest('#notebook-container');\n",
       "if (notebookContainer) {{\n",
       "    x.observe(notebookContainer, {childList: true});\n",
       "}}\n",
       "\n",
       "// Listen for the clearing of the current output cell\n",
       "var outputEl = gd.closest('.output');\n",
       "if (outputEl) {{\n",
       "    x.observe(outputEl, {childList: true});\n",
       "}}\n",
       "\n",
       "                        })                };                });            </script>        </div>"
      ]
     },
     "metadata": {},
     "output_type": "display_data"
    }
   ],
   "source": [
    "# Plotting the turbine efficiency curves of G1 (G2 is the same as G1) in Plant1 \r\n",
    "turb_eff_curves=shop.model.generator.Plant1_Generator1.turb_eff_curves.get()\r\n",
    "\r\n",
    "fig = go.Figure()\r\n",
    "colorscale = px.colors.sequential.RdBu_r\r\n",
    "color = 0\r\n",
    "for curve in turb_eff_curves:\r\n",
    "    color+=1\r\n",
    "    curve_name=\"Net Head=\"+str(curve.name)\r\n",
    "    fig.add_trace(go.Scatter(x=curve.index, y=curve.values, marker_color = colorscale[color], name=curve_name, mode=\"lines+markers\", line=dict(width=2)))\r\n",
    "\r\n",
    "fig.update_layout(title=\"<b>Turbine efficiency curves of G1 in Plant1</b>\", xaxis_title=\"<b>Discharge</b> (m<sup>3</sup>/s)\", yaxis_title=\"<b>Efficiency</b> (%)\")\r\n",
    "\r\n",
    "fig.show()"
   ]
  },
  {
   "cell_type": "code",
   "execution_count": 25,
   "metadata": {
    "Collapsed": "false"
   },
   "outputs": [
    {
     "data": {
      "application/vnd.plotly.v1+json": {
       "config": {
        "plotlyServerURL": "https://plot.ly"
       },
       "data": [
        {
         "line": {
          "width": 2
         },
         "marker": {
          "color": "rgb(209,229,240)"
         },
         "mode": "lines+markers",
         "name": "G1 Net Head=60.0",
         "type": "scatter",
         "x": [
          126.54,
          137.03,
          147.51,
          158,
          168.53,
          179.01,
          189.5,
          199.98,
          210.47,
          220.95,
          231.44,
          241.92,
          252.45,
          264.74
         ],
         "y": [
          92.7201,
          93.2583,
          93.7305,
          94.1368,
          94.4785,
          94.7525,
          94.9606,
          95.1028,
          95.179,
          95.1892,
          95.1335,
          95.0118,
          94.8232,
          94.5191
         ]
        },
        {
         "line": {
          "width": 2
         },
         "marker": {
          "color": "rgb(247,247,247)"
         },
         "mode": "lines+markers",
         "name": "G2 Net Head=60.0",
         "type": "scatter",
         "x": [
          40.82,
          44.2,
          47.58,
          50.97,
          54.36,
          57.75,
          61.13,
          64.51,
          67.89,
          71.27,
          74.66,
          78.04,
          81.44,
          85.4
         ],
         "y": [
          83.87,
          85.1937,
          86.3825,
          87.4362,
          88.3587,
          89.1419,
          89.7901,
          90.3033,
          90.6815,
          90.9248,
          91.0331,
          91.0063,
          90.8436,
          90.4817
         ]
        }
       ],
       "layout": {
        "autosize": true,
        "template": {
         "data": {
          "bar": [
           {
            "error_x": {
             "color": "#2a3f5f"
            },
            "error_y": {
             "color": "#2a3f5f"
            },
            "marker": {
             "line": {
              "color": "#E5ECF6",
              "width": 0.5
             }
            },
            "type": "bar"
           }
          ],
          "barpolar": [
           {
            "marker": {
             "line": {
              "color": "#E5ECF6",
              "width": 0.5
             }
            },
            "type": "barpolar"
           }
          ],
          "carpet": [
           {
            "aaxis": {
             "endlinecolor": "#2a3f5f",
             "gridcolor": "white",
             "linecolor": "white",
             "minorgridcolor": "white",
             "startlinecolor": "#2a3f5f"
            },
            "baxis": {
             "endlinecolor": "#2a3f5f",
             "gridcolor": "white",
             "linecolor": "white",
             "minorgridcolor": "white",
             "startlinecolor": "#2a3f5f"
            },
            "type": "carpet"
           }
          ],
          "choropleth": [
           {
            "colorbar": {
             "outlinewidth": 0,
             "ticks": ""
            },
            "type": "choropleth"
           }
          ],
          "contour": [
           {
            "colorbar": {
             "outlinewidth": 0,
             "ticks": ""
            },
            "colorscale": [
             [
              0,
              "#0d0887"
             ],
             [
              0.1111111111111111,
              "#46039f"
             ],
             [
              0.2222222222222222,
              "#7201a8"
             ],
             [
              0.3333333333333333,
              "#9c179e"
             ],
             [
              0.4444444444444444,
              "#bd3786"
             ],
             [
              0.5555555555555556,
              "#d8576b"
             ],
             [
              0.6666666666666666,
              "#ed7953"
             ],
             [
              0.7777777777777778,
              "#fb9f3a"
             ],
             [
              0.8888888888888888,
              "#fdca26"
             ],
             [
              1,
              "#f0f921"
             ]
            ],
            "type": "contour"
           }
          ],
          "contourcarpet": [
           {
            "colorbar": {
             "outlinewidth": 0,
             "ticks": ""
            },
            "type": "contourcarpet"
           }
          ],
          "heatmap": [
           {
            "colorbar": {
             "outlinewidth": 0,
             "ticks": ""
            },
            "colorscale": [
             [
              0,
              "#0d0887"
             ],
             [
              0.1111111111111111,
              "#46039f"
             ],
             [
              0.2222222222222222,
              "#7201a8"
             ],
             [
              0.3333333333333333,
              "#9c179e"
             ],
             [
              0.4444444444444444,
              "#bd3786"
             ],
             [
              0.5555555555555556,
              "#d8576b"
             ],
             [
              0.6666666666666666,
              "#ed7953"
             ],
             [
              0.7777777777777778,
              "#fb9f3a"
             ],
             [
              0.8888888888888888,
              "#fdca26"
             ],
             [
              1,
              "#f0f921"
             ]
            ],
            "type": "heatmap"
           }
          ],
          "heatmapgl": [
           {
            "colorbar": {
             "outlinewidth": 0,
             "ticks": ""
            },
            "colorscale": [
             [
              0,
              "#0d0887"
             ],
             [
              0.1111111111111111,
              "#46039f"
             ],
             [
              0.2222222222222222,
              "#7201a8"
             ],
             [
              0.3333333333333333,
              "#9c179e"
             ],
             [
              0.4444444444444444,
              "#bd3786"
             ],
             [
              0.5555555555555556,
              "#d8576b"
             ],
             [
              0.6666666666666666,
              "#ed7953"
             ],
             [
              0.7777777777777778,
              "#fb9f3a"
             ],
             [
              0.8888888888888888,
              "#fdca26"
             ],
             [
              1,
              "#f0f921"
             ]
            ],
            "type": "heatmapgl"
           }
          ],
          "histogram": [
           {
            "marker": {
             "colorbar": {
              "outlinewidth": 0,
              "ticks": ""
             }
            },
            "type": "histogram"
           }
          ],
          "histogram2d": [
           {
            "colorbar": {
             "outlinewidth": 0,
             "ticks": ""
            },
            "colorscale": [
             [
              0,
              "#0d0887"
             ],
             [
              0.1111111111111111,
              "#46039f"
             ],
             [
              0.2222222222222222,
              "#7201a8"
             ],
             [
              0.3333333333333333,
              "#9c179e"
             ],
             [
              0.4444444444444444,
              "#bd3786"
             ],
             [
              0.5555555555555556,
              "#d8576b"
             ],
             [
              0.6666666666666666,
              "#ed7953"
             ],
             [
              0.7777777777777778,
              "#fb9f3a"
             ],
             [
              0.8888888888888888,
              "#fdca26"
             ],
             [
              1,
              "#f0f921"
             ]
            ],
            "type": "histogram2d"
           }
          ],
          "histogram2dcontour": [
           {
            "colorbar": {
             "outlinewidth": 0,
             "ticks": ""
            },
            "colorscale": [
             [
              0,
              "#0d0887"
             ],
             [
              0.1111111111111111,
              "#46039f"
             ],
             [
              0.2222222222222222,
              "#7201a8"
             ],
             [
              0.3333333333333333,
              "#9c179e"
             ],
             [
              0.4444444444444444,
              "#bd3786"
             ],
             [
              0.5555555555555556,
              "#d8576b"
             ],
             [
              0.6666666666666666,
              "#ed7953"
             ],
             [
              0.7777777777777778,
              "#fb9f3a"
             ],
             [
              0.8888888888888888,
              "#fdca26"
             ],
             [
              1,
              "#f0f921"
             ]
            ],
            "type": "histogram2dcontour"
           }
          ],
          "mesh3d": [
           {
            "colorbar": {
             "outlinewidth": 0,
             "ticks": ""
            },
            "type": "mesh3d"
           }
          ],
          "parcoords": [
           {
            "line": {
             "colorbar": {
              "outlinewidth": 0,
              "ticks": ""
             }
            },
            "type": "parcoords"
           }
          ],
          "pie": [
           {
            "automargin": true,
            "type": "pie"
           }
          ],
          "scatter": [
           {
            "marker": {
             "colorbar": {
              "outlinewidth": 0,
              "ticks": ""
             }
            },
            "type": "scatter"
           }
          ],
          "scatter3d": [
           {
            "line": {
             "colorbar": {
              "outlinewidth": 0,
              "ticks": ""
             }
            },
            "marker": {
             "colorbar": {
              "outlinewidth": 0,
              "ticks": ""
             }
            },
            "type": "scatter3d"
           }
          ],
          "scattercarpet": [
           {
            "marker": {
             "colorbar": {
              "outlinewidth": 0,
              "ticks": ""
             }
            },
            "type": "scattercarpet"
           }
          ],
          "scattergeo": [
           {
            "marker": {
             "colorbar": {
              "outlinewidth": 0,
              "ticks": ""
             }
            },
            "type": "scattergeo"
           }
          ],
          "scattergl": [
           {
            "marker": {
             "colorbar": {
              "outlinewidth": 0,
              "ticks": ""
             }
            },
            "type": "scattergl"
           }
          ],
          "scattermapbox": [
           {
            "marker": {
             "colorbar": {
              "outlinewidth": 0,
              "ticks": ""
             }
            },
            "type": "scattermapbox"
           }
          ],
          "scatterpolar": [
           {
            "marker": {
             "colorbar": {
              "outlinewidth": 0,
              "ticks": ""
             }
            },
            "type": "scatterpolar"
           }
          ],
          "scatterpolargl": [
           {
            "marker": {
             "colorbar": {
              "outlinewidth": 0,
              "ticks": ""
             }
            },
            "type": "scatterpolargl"
           }
          ],
          "scatterternary": [
           {
            "marker": {
             "colorbar": {
              "outlinewidth": 0,
              "ticks": ""
             }
            },
            "type": "scatterternary"
           }
          ],
          "surface": [
           {
            "colorbar": {
             "outlinewidth": 0,
             "ticks": ""
            },
            "colorscale": [
             [
              0,
              "#0d0887"
             ],
             [
              0.1111111111111111,
              "#46039f"
             ],
             [
              0.2222222222222222,
              "#7201a8"
             ],
             [
              0.3333333333333333,
              "#9c179e"
             ],
             [
              0.4444444444444444,
              "#bd3786"
             ],
             [
              0.5555555555555556,
              "#d8576b"
             ],
             [
              0.6666666666666666,
              "#ed7953"
             ],
             [
              0.7777777777777778,
              "#fb9f3a"
             ],
             [
              0.8888888888888888,
              "#fdca26"
             ],
             [
              1,
              "#f0f921"
             ]
            ],
            "type": "surface"
           }
          ],
          "table": [
           {
            "cells": {
             "fill": {
              "color": "#EBF0F8"
             },
             "line": {
              "color": "white"
             }
            },
            "header": {
             "fill": {
              "color": "#C8D4E3"
             },
             "line": {
              "color": "white"
             }
            },
            "type": "table"
           }
          ]
         },
         "layout": {
          "annotationdefaults": {
           "arrowcolor": "#2a3f5f",
           "arrowhead": 0,
           "arrowwidth": 1
          },
          "autotypenumbers": "strict",
          "coloraxis": {
           "colorbar": {
            "outlinewidth": 0,
            "ticks": ""
           }
          },
          "colorscale": {
           "diverging": [
            [
             0,
             "#8e0152"
            ],
            [
             0.1,
             "#c51b7d"
            ],
            [
             0.2,
             "#de77ae"
            ],
            [
             0.3,
             "#f1b6da"
            ],
            [
             0.4,
             "#fde0ef"
            ],
            [
             0.5,
             "#f7f7f7"
            ],
            [
             0.6,
             "#e6f5d0"
            ],
            [
             0.7,
             "#b8e186"
            ],
            [
             0.8,
             "#7fbc41"
            ],
            [
             0.9,
             "#4d9221"
            ],
            [
             1,
             "#276419"
            ]
           ],
           "sequential": [
            [
             0,
             "#0d0887"
            ],
            [
             0.1111111111111111,
             "#46039f"
            ],
            [
             0.2222222222222222,
             "#7201a8"
            ],
            [
             0.3333333333333333,
             "#9c179e"
            ],
            [
             0.4444444444444444,
             "#bd3786"
            ],
            [
             0.5555555555555556,
             "#d8576b"
            ],
            [
             0.6666666666666666,
             "#ed7953"
            ],
            [
             0.7777777777777778,
             "#fb9f3a"
            ],
            [
             0.8888888888888888,
             "#fdca26"
            ],
            [
             1,
             "#f0f921"
            ]
           ],
           "sequentialminus": [
            [
             0,
             "#0d0887"
            ],
            [
             0.1111111111111111,
             "#46039f"
            ],
            [
             0.2222222222222222,
             "#7201a8"
            ],
            [
             0.3333333333333333,
             "#9c179e"
            ],
            [
             0.4444444444444444,
             "#bd3786"
            ],
            [
             0.5555555555555556,
             "#d8576b"
            ],
            [
             0.6666666666666666,
             "#ed7953"
            ],
            [
             0.7777777777777778,
             "#fb9f3a"
            ],
            [
             0.8888888888888888,
             "#fdca26"
            ],
            [
             1,
             "#f0f921"
            ]
           ]
          },
          "colorway": [
           "#636efa",
           "#EF553B",
           "#00cc96",
           "#ab63fa",
           "#FFA15A",
           "#19d3f3",
           "#FF6692",
           "#B6E880",
           "#FF97FF",
           "#FECB52"
          ],
          "font": {
           "color": "#2a3f5f"
          },
          "geo": {
           "bgcolor": "white",
           "lakecolor": "white",
           "landcolor": "#E5ECF6",
           "showlakes": true,
           "showland": true,
           "subunitcolor": "white"
          },
          "hoverlabel": {
           "align": "left"
          },
          "hovermode": "closest",
          "mapbox": {
           "style": "light"
          },
          "paper_bgcolor": "white",
          "plot_bgcolor": "#E5ECF6",
          "polar": {
           "angularaxis": {
            "gridcolor": "white",
            "linecolor": "white",
            "ticks": ""
           },
           "bgcolor": "#E5ECF6",
           "radialaxis": {
            "gridcolor": "white",
            "linecolor": "white",
            "ticks": ""
           }
          },
          "scene": {
           "xaxis": {
            "backgroundcolor": "#E5ECF6",
            "gridcolor": "white",
            "gridwidth": 2,
            "linecolor": "white",
            "showbackground": true,
            "ticks": "",
            "zerolinecolor": "white"
           },
           "yaxis": {
            "backgroundcolor": "#E5ECF6",
            "gridcolor": "white",
            "gridwidth": 2,
            "linecolor": "white",
            "showbackground": true,
            "ticks": "",
            "zerolinecolor": "white"
           },
           "zaxis": {
            "backgroundcolor": "#E5ECF6",
            "gridcolor": "white",
            "gridwidth": 2,
            "linecolor": "white",
            "showbackground": true,
            "ticks": "",
            "zerolinecolor": "white"
           }
          },
          "shapedefaults": {
           "line": {
            "color": "#2a3f5f"
           }
          },
          "ternary": {
           "aaxis": {
            "gridcolor": "white",
            "linecolor": "white",
            "ticks": ""
           },
           "baxis": {
            "gridcolor": "white",
            "linecolor": "white",
            "ticks": ""
           },
           "bgcolor": "#E5ECF6",
           "caxis": {
            "gridcolor": "white",
            "linecolor": "white",
            "ticks": ""
           }
          },
          "title": {
           "x": 0.05
          },
          "xaxis": {
           "automargin": true,
           "gridcolor": "white",
           "linecolor": "white",
           "ticks": "",
           "title": {
            "standoff": 15
           },
           "zerolinecolor": "white",
           "zerolinewidth": 2
          },
          "yaxis": {
           "automargin": true,
           "gridcolor": "white",
           "linecolor": "white",
           "ticks": "",
           "title": {
            "standoff": 15
           },
           "zerolinecolor": "white",
           "zerolinewidth": 2
          }
         }
        },
        "title": {
         "text": "<b>Turbine efficiency curves of G1 and G2 in Plant2</b>"
        },
        "xaxis": {
         "autorange": true,
         "range": [
          27.90613134237391,
          277.6538686576261
         ],
         "title": {
          "text": "<b>Discharge</b> (m<sup>3</sup>/s)"
         },
         "type": "linear"
        },
        "yaxis": {
         "autorange": true,
         "range": [
          83.04088662420382,
          96.01831337579618
         ],
         "title": {
          "text": "<b>Efficiency</b> (%)"
         },
         "type": "linear"
        }
       }
      },
      "text/html": [
       "<div>                            <div id=\"1cb4940d-1da0-4a6f-a071-8ddd26f3083e\" class=\"plotly-graph-div\" style=\"height:525px; width:100%;\"></div>            <script type=\"text/javascript\">                require([\"plotly\"], function(Plotly) {                    window.PLOTLYENV=window.PLOTLYENV || {};                                    if (document.getElementById(\"1cb4940d-1da0-4a6f-a071-8ddd26f3083e\")) {                    Plotly.newPlot(                        \"1cb4940d-1da0-4a6f-a071-8ddd26f3083e\",                        [{\"line\": {\"width\": 2}, \"marker\": {\"color\": \"rgb(209,229,240)\"}, \"mode\": \"lines+markers\", \"name\": \"G1 Net Head=60.0\", \"type\": \"scatter\", \"x\": [126.54, 137.03, 147.51, 158.0, 168.53, 179.01, 189.5, 199.98, 210.47, 220.95, 231.44, 241.92, 252.45, 264.74], \"y\": [92.7201, 93.2583, 93.7305, 94.1368, 94.4785, 94.7525, 94.9606, 95.1028, 95.179, 95.1892, 95.1335, 95.0118, 94.8232, 94.5191]}, {\"line\": {\"width\": 2}, \"marker\": {\"color\": \"rgb(247,247,247)\"}, \"mode\": \"lines+markers\", \"name\": \"G2 Net Head=60.0\", \"type\": \"scatter\", \"x\": [40.82, 44.2, 47.58, 50.97, 54.36, 57.75, 61.13, 64.51, 67.89, 71.27, 74.66, 78.04, 81.44, 85.4], \"y\": [83.87, 85.1937, 86.3825, 87.4362, 88.3587, 89.1419, 89.7901, 90.3033, 90.6815, 90.9248, 91.0331, 91.0063, 90.8436, 90.4817]}],                        {\"template\": {\"data\": {\"bar\": [{\"error_x\": {\"color\": \"#2a3f5f\"}, \"error_y\": {\"color\": \"#2a3f5f\"}, \"marker\": {\"line\": {\"color\": \"#E5ECF6\", \"width\": 0.5}}, \"type\": \"bar\"}], \"barpolar\": [{\"marker\": {\"line\": {\"color\": \"#E5ECF6\", \"width\": 0.5}}, \"type\": \"barpolar\"}], \"carpet\": [{\"aaxis\": {\"endlinecolor\": \"#2a3f5f\", \"gridcolor\": \"white\", \"linecolor\": \"white\", \"minorgridcolor\": \"white\", \"startlinecolor\": \"#2a3f5f\"}, \"baxis\": {\"endlinecolor\": \"#2a3f5f\", \"gridcolor\": \"white\", \"linecolor\": \"white\", \"minorgridcolor\": \"white\", \"startlinecolor\": \"#2a3f5f\"}, \"type\": \"carpet\"}], \"choropleth\": [{\"colorbar\": {\"outlinewidth\": 0, \"ticks\": \"\"}, \"type\": \"choropleth\"}], \"contour\": [{\"colorbar\": {\"outlinewidth\": 0, \"ticks\": \"\"}, \"colorscale\": [[0.0, \"#0d0887\"], [0.1111111111111111, \"#46039f\"], [0.2222222222222222, \"#7201a8\"], [0.3333333333333333, \"#9c179e\"], [0.4444444444444444, \"#bd3786\"], [0.5555555555555556, \"#d8576b\"], [0.6666666666666666, \"#ed7953\"], [0.7777777777777778, \"#fb9f3a\"], [0.8888888888888888, \"#fdca26\"], [1.0, \"#f0f921\"]], \"type\": \"contour\"}], \"contourcarpet\": [{\"colorbar\": {\"outlinewidth\": 0, \"ticks\": \"\"}, \"type\": \"contourcarpet\"}], \"heatmap\": [{\"colorbar\": {\"outlinewidth\": 0, \"ticks\": \"\"}, \"colorscale\": [[0.0, \"#0d0887\"], [0.1111111111111111, \"#46039f\"], [0.2222222222222222, \"#7201a8\"], [0.3333333333333333, \"#9c179e\"], [0.4444444444444444, \"#bd3786\"], [0.5555555555555556, \"#d8576b\"], [0.6666666666666666, \"#ed7953\"], [0.7777777777777778, \"#fb9f3a\"], [0.8888888888888888, \"#fdca26\"], [1.0, \"#f0f921\"]], \"type\": \"heatmap\"}], \"heatmapgl\": [{\"colorbar\": {\"outlinewidth\": 0, \"ticks\": \"\"}, \"colorscale\": [[0.0, \"#0d0887\"], [0.1111111111111111, \"#46039f\"], [0.2222222222222222, \"#7201a8\"], [0.3333333333333333, \"#9c179e\"], [0.4444444444444444, \"#bd3786\"], [0.5555555555555556, \"#d8576b\"], [0.6666666666666666, \"#ed7953\"], [0.7777777777777778, \"#fb9f3a\"], [0.8888888888888888, \"#fdca26\"], [1.0, \"#f0f921\"]], \"type\": \"heatmapgl\"}], \"histogram\": [{\"marker\": {\"colorbar\": {\"outlinewidth\": 0, \"ticks\": \"\"}}, \"type\": \"histogram\"}], \"histogram2d\": [{\"colorbar\": {\"outlinewidth\": 0, \"ticks\": \"\"}, \"colorscale\": [[0.0, \"#0d0887\"], [0.1111111111111111, \"#46039f\"], [0.2222222222222222, \"#7201a8\"], [0.3333333333333333, \"#9c179e\"], [0.4444444444444444, \"#bd3786\"], [0.5555555555555556, \"#d8576b\"], [0.6666666666666666, \"#ed7953\"], [0.7777777777777778, \"#fb9f3a\"], [0.8888888888888888, \"#fdca26\"], [1.0, \"#f0f921\"]], \"type\": \"histogram2d\"}], \"histogram2dcontour\": [{\"colorbar\": {\"outlinewidth\": 0, \"ticks\": \"\"}, \"colorscale\": [[0.0, \"#0d0887\"], [0.1111111111111111, \"#46039f\"], [0.2222222222222222, \"#7201a8\"], [0.3333333333333333, \"#9c179e\"], [0.4444444444444444, \"#bd3786\"], [0.5555555555555556, \"#d8576b\"], [0.6666666666666666, \"#ed7953\"], [0.7777777777777778, \"#fb9f3a\"], [0.8888888888888888, \"#fdca26\"], [1.0, \"#f0f921\"]], \"type\": \"histogram2dcontour\"}], \"mesh3d\": [{\"colorbar\": {\"outlinewidth\": 0, \"ticks\": \"\"}, \"type\": \"mesh3d\"}], \"parcoords\": [{\"line\": {\"colorbar\": {\"outlinewidth\": 0, \"ticks\": \"\"}}, \"type\": \"parcoords\"}], \"pie\": [{\"automargin\": true, \"type\": \"pie\"}], \"scatter\": [{\"marker\": {\"colorbar\": {\"outlinewidth\": 0, \"ticks\": \"\"}}, \"type\": \"scatter\"}], \"scatter3d\": [{\"line\": {\"colorbar\": {\"outlinewidth\": 0, \"ticks\": \"\"}}, \"marker\": {\"colorbar\": {\"outlinewidth\": 0, \"ticks\": \"\"}}, \"type\": \"scatter3d\"}], \"scattercarpet\": [{\"marker\": {\"colorbar\": {\"outlinewidth\": 0, \"ticks\": \"\"}}, \"type\": \"scattercarpet\"}], \"scattergeo\": [{\"marker\": {\"colorbar\": {\"outlinewidth\": 0, \"ticks\": \"\"}}, \"type\": \"scattergeo\"}], \"scattergl\": [{\"marker\": {\"colorbar\": {\"outlinewidth\": 0, \"ticks\": \"\"}}, \"type\": \"scattergl\"}], \"scattermapbox\": [{\"marker\": {\"colorbar\": {\"outlinewidth\": 0, \"ticks\": \"\"}}, \"type\": \"scattermapbox\"}], \"scatterpolar\": [{\"marker\": {\"colorbar\": {\"outlinewidth\": 0, \"ticks\": \"\"}}, \"type\": \"scatterpolar\"}], \"scatterpolargl\": [{\"marker\": {\"colorbar\": {\"outlinewidth\": 0, \"ticks\": \"\"}}, \"type\": \"scatterpolargl\"}], \"scatterternary\": [{\"marker\": {\"colorbar\": {\"outlinewidth\": 0, \"ticks\": \"\"}}, \"type\": \"scatterternary\"}], \"surface\": [{\"colorbar\": {\"outlinewidth\": 0, \"ticks\": \"\"}, \"colorscale\": [[0.0, \"#0d0887\"], [0.1111111111111111, \"#46039f\"], [0.2222222222222222, \"#7201a8\"], [0.3333333333333333, \"#9c179e\"], [0.4444444444444444, \"#bd3786\"], [0.5555555555555556, \"#d8576b\"], [0.6666666666666666, \"#ed7953\"], [0.7777777777777778, \"#fb9f3a\"], [0.8888888888888888, \"#fdca26\"], [1.0, \"#f0f921\"]], \"type\": \"surface\"}], \"table\": [{\"cells\": {\"fill\": {\"color\": \"#EBF0F8\"}, \"line\": {\"color\": \"white\"}}, \"header\": {\"fill\": {\"color\": \"#C8D4E3\"}, \"line\": {\"color\": \"white\"}}, \"type\": \"table\"}]}, \"layout\": {\"annotationdefaults\": {\"arrowcolor\": \"#2a3f5f\", \"arrowhead\": 0, \"arrowwidth\": 1}, \"autotypenumbers\": \"strict\", \"coloraxis\": {\"colorbar\": {\"outlinewidth\": 0, \"ticks\": \"\"}}, \"colorscale\": {\"diverging\": [[0, \"#8e0152\"], [0.1, \"#c51b7d\"], [0.2, \"#de77ae\"], [0.3, \"#f1b6da\"], [0.4, \"#fde0ef\"], [0.5, \"#f7f7f7\"], [0.6, \"#e6f5d0\"], [0.7, \"#b8e186\"], [0.8, \"#7fbc41\"], [0.9, \"#4d9221\"], [1, \"#276419\"]], \"sequential\": [[0.0, \"#0d0887\"], [0.1111111111111111, \"#46039f\"], [0.2222222222222222, \"#7201a8\"], [0.3333333333333333, \"#9c179e\"], [0.4444444444444444, \"#bd3786\"], [0.5555555555555556, \"#d8576b\"], [0.6666666666666666, \"#ed7953\"], [0.7777777777777778, \"#fb9f3a\"], [0.8888888888888888, \"#fdca26\"], [1.0, \"#f0f921\"]], \"sequentialminus\": [[0.0, \"#0d0887\"], [0.1111111111111111, \"#46039f\"], [0.2222222222222222, \"#7201a8\"], [0.3333333333333333, \"#9c179e\"], [0.4444444444444444, \"#bd3786\"], [0.5555555555555556, \"#d8576b\"], [0.6666666666666666, \"#ed7953\"], [0.7777777777777778, \"#fb9f3a\"], [0.8888888888888888, \"#fdca26\"], [1.0, \"#f0f921\"]]}, \"colorway\": [\"#636efa\", \"#EF553B\", \"#00cc96\", \"#ab63fa\", \"#FFA15A\", \"#19d3f3\", \"#FF6692\", \"#B6E880\", \"#FF97FF\", \"#FECB52\"], \"font\": {\"color\": \"#2a3f5f\"}, \"geo\": {\"bgcolor\": \"white\", \"lakecolor\": \"white\", \"landcolor\": \"#E5ECF6\", \"showlakes\": true, \"showland\": true, \"subunitcolor\": \"white\"}, \"hoverlabel\": {\"align\": \"left\"}, \"hovermode\": \"closest\", \"mapbox\": {\"style\": \"light\"}, \"paper_bgcolor\": \"white\", \"plot_bgcolor\": \"#E5ECF6\", \"polar\": {\"angularaxis\": {\"gridcolor\": \"white\", \"linecolor\": \"white\", \"ticks\": \"\"}, \"bgcolor\": \"#E5ECF6\", \"radialaxis\": {\"gridcolor\": \"white\", \"linecolor\": \"white\", \"ticks\": \"\"}}, \"scene\": {\"xaxis\": {\"backgroundcolor\": \"#E5ECF6\", \"gridcolor\": \"white\", \"gridwidth\": 2, \"linecolor\": \"white\", \"showbackground\": true, \"ticks\": \"\", \"zerolinecolor\": \"white\"}, \"yaxis\": {\"backgroundcolor\": \"#E5ECF6\", \"gridcolor\": \"white\", \"gridwidth\": 2, \"linecolor\": \"white\", \"showbackground\": true, \"ticks\": \"\", \"zerolinecolor\": \"white\"}, \"zaxis\": {\"backgroundcolor\": \"#E5ECF6\", \"gridcolor\": \"white\", \"gridwidth\": 2, \"linecolor\": \"white\", \"showbackground\": true, \"ticks\": \"\", \"zerolinecolor\": \"white\"}}, \"shapedefaults\": {\"line\": {\"color\": \"#2a3f5f\"}}, \"ternary\": {\"aaxis\": {\"gridcolor\": \"white\", \"linecolor\": \"white\", \"ticks\": \"\"}, \"baxis\": {\"gridcolor\": \"white\", \"linecolor\": \"white\", \"ticks\": \"\"}, \"bgcolor\": \"#E5ECF6\", \"caxis\": {\"gridcolor\": \"white\", \"linecolor\": \"white\", \"ticks\": \"\"}}, \"title\": {\"x\": 0.05}, \"xaxis\": {\"automargin\": true, \"gridcolor\": \"white\", \"linecolor\": \"white\", \"ticks\": \"\", \"title\": {\"standoff\": 15}, \"zerolinecolor\": \"white\", \"zerolinewidth\": 2}, \"yaxis\": {\"automargin\": true, \"gridcolor\": \"white\", \"linecolor\": \"white\", \"ticks\": \"\", \"title\": {\"standoff\": 15}, \"zerolinecolor\": \"white\", \"zerolinewidth\": 2}}}, \"title\": {\"text\": \"<b>Turbine efficiency curves of G1 and G2 in Plant2</b>\"}, \"xaxis\": {\"title\": {\"text\": \"<b>Discharge</b> (m<sup>3</sup>/s)\"}}, \"yaxis\": {\"title\": {\"text\": \"<b>Efficiency</b> (%)\"}}},                        {\"responsive\": true}                    ).then(function(){\n",
       "                            \n",
       "var gd = document.getElementById('1cb4940d-1da0-4a6f-a071-8ddd26f3083e');\n",
       "var x = new MutationObserver(function (mutations, observer) {{\n",
       "        var display = window.getComputedStyle(gd).display;\n",
       "        if (!display || display === 'none') {{\n",
       "            console.log([gd, 'removed!']);\n",
       "            Plotly.purge(gd);\n",
       "            observer.disconnect();\n",
       "        }}\n",
       "}});\n",
       "\n",
       "// Listen for the removal of the full notebook cells\n",
       "var notebookContainer = gd.closest('#notebook-container');\n",
       "if (notebookContainer) {{\n",
       "    x.observe(notebookContainer, {childList: true});\n",
       "}}\n",
       "\n",
       "// Listen for the clearing of the current output cell\n",
       "var outputEl = gd.closest('.output');\n",
       "if (outputEl) {{\n",
       "    x.observe(outputEl, {childList: true});\n",
       "}}\n",
       "\n",
       "                        })                };                });            </script>        </div>"
      ]
     },
     "metadata": {},
     "output_type": "display_data"
    }
   ],
   "source": [
    "# Plot the turbine efficiency curves of G1 and G2 (G3, G4 are the same as G2) in Plant2 \r\n",
    "turb_eff_curves_G1=shop.model.generator.Plant2_Generator1.turb_eff_curves.get()\r\n",
    "turb_eff_curves_G2=shop.model.generator.Plant2_Generator2.turb_eff_curves.get()\r\n",
    "\r\n",
    "fig = go.Figure()\r\n",
    "\r\n",
    "for curve in turb_eff_curves_G1:\r\n",
    "    color+=1\r\n",
    "    curve_name=\"G1 Net Head=\"+str(curve.name)\r\n",
    "    fig.add_trace(go.Scatter(x=curve.index, y=curve.values, marker_color = colorscale[color], name=curve_name, mode=\"lines+markers\", line=dict(width=2)))\r\n",
    "\r\n",
    "for curve in turb_eff_curves_G2:\r\n",
    "    color+=1\r\n",
    "    curve_name=\"G2 Net Head=\"+str(curve.name)\r\n",
    "    fig.add_trace(go.Scatter(x=curve.index, y=curve.values, marker_color = colorscale[color], name=curve_name, mode=\"lines+markers\", line=dict(width=2)))\r\n",
    "    \r\n",
    "fig.update_layout(title=\"<b>Turbine efficiency curves of G1 and G2 in Plant2</b>\", xaxis_title=\"<b>Discharge</b> (m<sup>3</sup>/s)\", yaxis_title=\"<b>Efficiency</b> (%)\")\r\n",
    "\r\n",
    "fig.show()"
   ]
  },
  {
   "cell_type": "markdown",
   "metadata": {
    "Collapsed": "false"
   },
   "source": [
    "### Gates"
   ]
  },
  {
   "cell_type": "markdown",
   "metadata": {
    "Collapsed": "false"
   },
   "source": [
    "Water routes such as spillways, bypasses and gates between objects, can be defined and applied with certain attributes as well."
   ]
  },
  {
   "cell_type": "code",
   "execution_count": 26,
   "metadata": {
    "Collapsed": "false"
   },
   "outputs": [],
   "source": [
    "# Adding a spillway between Reservoir 1 and Reservoir 2\r\n",
    "s_rsv1_rsv2 = shop.model.gate.add_object('s_Reservoir1_Reservoir2')\r\n",
    "\r\n",
    "# Adding a bypass between Reservoir 1 and Reservoir 2\r\n",
    "b_rsv1_rsv2 = shop.model.gate.add_object('b_Reservoir1_Reservoir2')\r\n",
    "\r\n",
    "# Adding a spillway between Reservoir 1 and Reservoir 2\r\n",
    "s_rsv2_ocean = shop.model.gate.add_object('s_Reservoir2_Ocean')\r\n",
    "\r\n",
    "# Adding a bypass between Reservoir 1 and Reservoir 2\r\n",
    "b_rsv2_ocean = shop.model.gate.add_object('b_Reservoir2_Ocean')"
   ]
  },
  {
   "cell_type": "markdown",
   "metadata": {
    "Collapsed": "false"
   },
   "source": [
    "And we do a quick control of the content on gate objects afterwards."
   ]
  },
  {
   "cell_type": "code",
   "execution_count": 27,
   "metadata": {
    "Collapsed": "false"
   },
   "outputs": [
    {
     "data": {
      "text/plain": [
       "['s_Reservoir1_Reservoir2',\n",
       " 'b_Reservoir1_Reservoir2',\n",
       " 's_Reservoir2_Ocean',\n",
       " 'b_Reservoir2_Ocean']"
      ]
     },
     "execution_count": 27,
     "metadata": {},
     "output_type": "execute_result"
    }
   ],
   "source": [
    "shop.model.gate.get_object_names()"
   ]
  },
  {
   "cell_type": "markdown",
   "metadata": {
    "Collapsed": "false"
   },
   "source": [
    "## Connecting the topology objects"
   ]
  },
  {
   "cell_type": "markdown",
   "metadata": {
    "Collapsed": "false"
   },
   "source": [
    "After adding the objects and defining parameters to them, we need to connect them together in order for the model to know which parts that can interact with each other. This means for instance that we need to connect a certain reservoir to a certain plant. In this example, *Reservoir1* should connect to *Plant1*, Plant1 should then further be connected to *Reservoir2*, whereas Reservoir2 again connects to *Plant2*. Additionally, we need to correcrtly connect the gates, spillways and bypasses. We always connect objects from the top to the bottom, starting with the uppermost object relative to elevation. Note that it is necessary to specify the keyword argument \"connection_type\" when connecting a bypass or spill gate to the upper reservoir, but it is not needed when the bypass or spill gate is connected to the downstream reservoir. "
   ]
  },
  {
   "cell_type": "code",
   "execution_count": 28,
   "metadata": {
    "Collapsed": "false"
   },
   "outputs": [],
   "source": [
    "# Connecting Reservoir 1 to Plant1\r\n",
    "rsv1.connect_to(plant1)\r\n",
    "\r\n",
    "# Connecting Reservoir 1 to the bypass between Reservoir1 and Reservoir2\r\n",
    "rsv1.connect_to(b_rsv1_rsv2,connection_type=\"bypass\")\r\n",
    "\r\n",
    "# Connecting Reservoir 1 to the spillway between Reservoir1 and Reservoir2\r\n",
    "rsv1.connect_to(s_rsv1_rsv2,connection_type=\"spill\")\r\n",
    "\r\n",
    "# Connecting Plant1 to Reservoir2\r\n",
    "plant1.connect_to(rsv2)\r\n",
    "\r\n",
    "# Connecting the bypass between Reservoir1 and Reservoir2 to Reservoir2\r\n",
    "b_rsv1_rsv2.connect_to(rsv2)\r\n",
    "\r\n",
    "# Connecting the spillway between Reservoir1 and Reservoir2 to Reservoir2\r\n",
    "s_rsv1_rsv2.connect_to(rsv2)\r\n",
    "\r\n",
    "# Connecting Reservoir2 to Plant 2\r\n",
    "rsv2.connect_to(plant2)\r\n",
    "\r\n",
    "# Connecting Reservoir2 to the bypass between Reservoir2 and Ocean\r\n",
    "rsv2.connect_to(b_rsv2_ocean,connection_type=\"bypass\")\r\n",
    "\r\n",
    "# Connecting Reservoir2 to the spillway between Reservoir2 and Ocean\r\n",
    "rsv2.connect_to(s_rsv2_ocean,connection_type=\"spill\")"
   ]
  },
  {
   "cell_type": "markdown",
   "metadata": {
    "Collapsed": "false"
   },
   "source": [
    "We can then verify if the topology is correctly set up, by graphing out the topology tree."
   ]
  },
  {
   "cell_type": "code",
   "execution_count": 29,
   "metadata": {
    "Collapsed": "false"
   },
   "outputs": [
    {
     "data": {
      "image/svg+xml": [
       "<?xml version=\"1.0\" encoding=\"UTF-8\" standalone=\"no\"?>\r\n",
       "<!DOCTYPE svg PUBLIC \"-//W3C//DTD SVG 1.1//EN\"\r\n",
       " \"http://www.w3.org/Graphics/SVG/1.1/DTD/svg11.dtd\">\r\n",
       "<!-- Generated by graphviz version 2.44.1 (20200629.0846)\r\n",
       " -->\r\n",
       "<!-- Pages: 1 -->\r\n",
       "<svg width=\"514pt\" height=\"280pt\"\r\n",
       " viewBox=\"0.00 0.00 513.64 280.00\" xmlns=\"http://www.w3.org/2000/svg\" xmlns:xlink=\"http://www.w3.org/1999/xlink\">\r\n",
       "<g id=\"graph0\" class=\"graph\" transform=\"scale(1 1) rotate(0) translate(4 276)\">\r\n",
       "<polygon fill=\"white\" stroke=\"transparent\" points=\"-4,4 -4,-276 509.64,-276 509.64,4 -4,4\"/>\r\n",
       "<!-- reservoir_Reservoir1 -->\r\n",
       "<g id=\"node1\" class=\"node\">\r\n",
       "<title>reservoir_Reservoir1</title>\r\n",
       "<polygon fill=\"skyblue\" stroke=\"black\" points=\"175,-226 275.18,-260.5 74.82,-260.5 175,-226\"/>\r\n",
       "<text text-anchor=\"middle\" x=\"175\" y=\"-245.3\" font-family=\"Times New Roman,serif\" font-size=\"14.00\">Reservoir1</text>\r\n",
       "</g>\r\n",
       "<!-- plant_Plant1 -->\r\n",
       "<g id=\"node3\" class=\"node\">\r\n",
       "<title>plant_Plant1</title>\r\n",
       "<polygon fill=\"#ffc1c1\" stroke=\"black\" points=\"54,-190 0,-190 0,-154 54,-154 54,-190\"/>\r\n",
       "<text text-anchor=\"middle\" x=\"27\" y=\"-168.3\" font-family=\"Times New Roman,serif\" font-size=\"14.00\">Plant1</text>\r\n",
       "</g>\r\n",
       "<!-- reservoir_Reservoir1&#45;&gt;plant_Plant1 -->\r\n",
       "<g id=\"edge1\" class=\"edge\">\r\n",
       "<title>reservoir_Reservoir1&#45;&gt;plant_Plant1</title>\r\n",
       "<path fill=\"none\" stroke=\"black\" d=\"M148.88,-234.76C122.24,-221.27 81.1,-200.42 54.11,-186.74\"/>\r\n",
       "</g>\r\n",
       "<!-- gate_s_Reservoir1_Reservoir2 -->\r\n",
       "<g id=\"node5\" class=\"node\">\r\n",
       "<title>gate_s_Reservoir1_Reservoir2</title>\r\n",
       "<ellipse fill=\"transparent\" stroke=\"black\" cx=\"175\" cy=\"-172\" rx=\"103.18\" ry=\"18\"/>\r\n",
       "<text text-anchor=\"middle\" x=\"175\" y=\"-168.3\" font-family=\"Times New Roman,serif\" font-size=\"14.00\">s_Reservoir1_Reservoir2</text>\r\n",
       "</g>\r\n",
       "<!-- reservoir_Reservoir1&#45;&gt;gate_s_Reservoir1_Reservoir2 -->\r\n",
       "<g id=\"edge2\" class=\"edge\">\r\n",
       "<title>reservoir_Reservoir1&#45;&gt;gate_s_Reservoir1_Reservoir2</title>\r\n",
       "<path fill=\"none\" stroke=\"black\" stroke-dasharray=\"5,2\" d=\"M175,-225.9C175,-214.5 175,-200.79 175,-190.18\"/>\r\n",
       "</g>\r\n",
       "<!-- gate_b_Reservoir1_Reservoir2 -->\r\n",
       "<g id=\"node6\" class=\"node\">\r\n",
       "<title>gate_b_Reservoir1_Reservoir2</title>\r\n",
       "<ellipse fill=\"transparent\" stroke=\"black\" cx=\"401\" cy=\"-172\" rx=\"104.78\" ry=\"18\"/>\r\n",
       "<text text-anchor=\"middle\" x=\"401\" y=\"-168.3\" font-family=\"Times New Roman,serif\" font-size=\"14.00\">b_Reservoir1_Reservoir2</text>\r\n",
       "</g>\r\n",
       "<!-- reservoir_Reservoir1&#45;&gt;gate_b_Reservoir1_Reservoir2 -->\r\n",
       "<g id=\"edge3\" class=\"edge\">\r\n",
       "<title>reservoir_Reservoir1&#45;&gt;gate_b_Reservoir1_Reservoir2</title>\r\n",
       "<path fill=\"none\" stroke=\"black\" stroke-dasharray=\"5,2\" d=\"M207.86,-237.09C246.67,-224.22 311.46,-202.71 355.18,-188.21\"/>\r\n",
       "</g>\r\n",
       "<!-- reservoir_Reservoir2 -->\r\n",
       "<g id=\"node2\" class=\"node\">\r\n",
       "<title>reservoir_Reservoir2</title>\r\n",
       "<polygon fill=\"skyblue\" stroke=\"black\" points=\"175,-72 275.18,-106.5 74.82,-106.5 175,-72\"/>\r\n",
       "<text text-anchor=\"middle\" x=\"175\" y=\"-91.3\" font-family=\"Times New Roman,serif\" font-size=\"14.00\">Reservoir2</text>\r\n",
       "</g>\r\n",
       "<!-- plant_Plant2 -->\r\n",
       "<g id=\"node4\" class=\"node\">\r\n",
       "<title>plant_Plant2</title>\r\n",
       "<polygon fill=\"#ffc1c1\" stroke=\"black\" points=\"70,-36 16,-36 16,0 70,0 70,-36\"/>\r\n",
       "<text text-anchor=\"middle\" x=\"43\" y=\"-14.3\" font-family=\"Times New Roman,serif\" font-size=\"14.00\">Plant2</text>\r\n",
       "</g>\r\n",
       "<!-- reservoir_Reservoir2&#45;&gt;plant_Plant2 -->\r\n",
       "<g id=\"edge4\" class=\"edge\">\r\n",
       "<title>reservoir_Reservoir2&#45;&gt;plant_Plant2</title>\r\n",
       "<path fill=\"none\" stroke=\"black\" d=\"M150.79,-80.24C128.01,-67.3 93.96,-47.96 70.25,-34.48\"/>\r\n",
       "</g>\r\n",
       "<!-- gate_s_Reservoir2_Ocean -->\r\n",
       "<g id=\"node7\" class=\"node\">\r\n",
       "<title>gate_s_Reservoir2_Ocean</title>\r\n",
       "<ellipse fill=\"transparent\" stroke=\"black\" cx=\"175\" cy=\"-18\" rx=\"87.18\" ry=\"18\"/>\r\n",
       "<text text-anchor=\"middle\" x=\"175\" y=\"-14.3\" font-family=\"Times New Roman,serif\" font-size=\"14.00\">s_Reservoir2_Ocean</text>\r\n",
       "</g>\r\n",
       "<!-- reservoir_Reservoir2&#45;&gt;gate_s_Reservoir2_Ocean -->\r\n",
       "<g id=\"edge5\" class=\"edge\">\r\n",
       "<title>reservoir_Reservoir2&#45;&gt;gate_s_Reservoir2_Ocean</title>\r\n",
       "<path fill=\"none\" stroke=\"black\" stroke-dasharray=\"5,2\" d=\"M175,-71.9C175,-60.5 175,-46.79 175,-36.18\"/>\r\n",
       "</g>\r\n",
       "<!-- gate_b_Reservoir2_Ocean -->\r\n",
       "<g id=\"node8\" class=\"node\">\r\n",
       "<title>gate_b_Reservoir2_Ocean</title>\r\n",
       "<ellipse fill=\"transparent\" stroke=\"black\" cx=\"368\" cy=\"-18\" rx=\"88.28\" ry=\"18\"/>\r\n",
       "<text text-anchor=\"middle\" x=\"368\" y=\"-14.3\" font-family=\"Times New Roman,serif\" font-size=\"14.00\">b_Reservoir2_Ocean</text>\r\n",
       "</g>\r\n",
       "<!-- reservoir_Reservoir2&#45;&gt;gate_b_Reservoir2_Ocean -->\r\n",
       "<g id=\"edge6\" class=\"edge\">\r\n",
       "<title>reservoir_Reservoir2&#45;&gt;gate_b_Reservoir2_Ocean</title>\r\n",
       "<path fill=\"none\" stroke=\"black\" stroke-dasharray=\"5,2\" d=\"M205.16,-82.28C238.45,-69.34 292.15,-48.47 328.71,-34.27\"/>\r\n",
       "</g>\r\n",
       "<!-- plant_Plant1&#45;&gt;reservoir_Reservoir2 -->\r\n",
       "<g id=\"edge7\" class=\"edge\">\r\n",
       "<title>plant_Plant1&#45;&gt;reservoir_Reservoir2</title>\r\n",
       "<path fill=\"none\" stroke=\"black\" d=\"M54.15,-157.24C83.02,-142.61 128.06,-119.79 154.23,-106.52\"/>\r\n",
       "</g>\r\n",
       "<!-- gate_s_Reservoir1_Reservoir2&#45;&gt;reservoir_Reservoir2 -->\r\n",
       "<g id=\"edge8\" class=\"edge\">\r\n",
       "<title>gate_s_Reservoir1_Reservoir2&#45;&gt;reservoir_Reservoir2</title>\r\n",
       "<path fill=\"none\" stroke=\"black\" d=\"M175,-153.98C175,-139.46 175,-119.03 175,-106.7\"/>\r\n",
       "</g>\r\n",
       "<!-- gate_b_Reservoir1_Reservoir2&#45;&gt;reservoir_Reservoir2 -->\r\n",
       "<g id=\"edge9\" class=\"edge\">\r\n",
       "<title>gate_b_Reservoir1_Reservoir2&#45;&gt;reservoir_Reservoir2</title>\r\n",
       "<path fill=\"none\" stroke=\"black\" d=\"M354.99,-155.73C310.85,-141.08 245.37,-119.35 206.75,-106.54\"/>\r\n",
       "</g>\r\n",
       "</g>\r\n",
       "</svg>\r\n"
      ],
      "text/plain": [
       "<graphviz.dot.Digraph at 0x12f0710d148>"
      ]
     },
     "metadata": {},
     "output_type": "display_data"
    }
   ],
   "source": [
    "# Print out the topology\r\n",
    "dot = shop.model.build_connection_tree()\r\n",
    "display(dot)"
   ]
  },
  {
   "cell_type": "markdown",
   "metadata": {
    "Collapsed": "false"
   },
   "source": [
    "## Adding a market and a load"
   ]
  },
  {
   "cell_type": "markdown",
   "metadata": {
    "Collapsed": "false"
   },
   "source": [
    "Lastly, we need to add a market and/or a load for the model to optimize against, with certain parameters. This gives SHOP the solution space it needs to make its decisions on where and when to produce or not, while maximizing profit and fulfilling load requirements."
   ]
  },
  {
   "cell_type": "code",
   "execution_count": 30,
   "metadata": {
    "Collapsed": "false"
   },
   "outputs": [],
   "source": [
    "# Adding a market named \"Day_ahead\"\r\n",
    "shop.model.market.add_object('Day_ahead')\r\n",
    "\r\n",
    "# Instancing the market Day_ahead to 'da'\r\n",
    "da = shop.model.market.Day_ahead\r\n",
    "\r\n",
    "# Setting a sale price to the market, which is the income value (in monetary units) per produced MW\r\n",
    "da.sale_price.set(pd.DataFrame([32.992,31.122,29.312,28.072,30.012,33.362,42.682,74.822,77.732,62.332,55.892,46.962,42.582,40.942,39.212,39.142,41.672,46.922,37.102,32.992,31.272,29.752,28.782,28.082,27.242,26.622,25.732,25.392,25.992,27.402,28.942,32.182,33.082,32.342,30.912,30.162,30.062,29.562,29.462,29.512,29.672,30.072,29.552,28.862,28.412,28.072,27.162,25.502,26.192,25.222,24.052,23.892,23.682,26.092,28.202,30.902,31.572,31.462,31.172,30.912,30.572,30.602,30.632,31.062,32.082,36.262,34.472,32.182,31.492,30.732,29.712,28.982], \r\n",
    "                               index=[starttime + pd.Timedelta(hours=i) for i in range(0,72)]))\r\n",
    "\r\n",
    "# Setting a buy price to the market, which is the cost to buy production in the market (in monetary units) in stead of producing it yourself per MW. This is normally used when you have a load to cover or if you have pumps\r\n",
    "da.buy_price.set(da.sale_price.get()+0.002)\r\n",
    "\r\n",
    "# Setting the amount of volume able to buy in the market in MW\r\n",
    "da.max_buy.set(pd.Series([9999], [starttime]))\r\n",
    "\r\n",
    "# Setting the amount of volume able to sell (produce) in the market in MW\r\n",
    "da.max_sale.set(pd.Series([9999], [starttime]))\r\n",
    "\r\n",
    "# Setting the load that needs to be fullfilled, either by power production or by buying from the market, depending on the above parameters\r\n",
    "da.load.set(pd.Series([0], [starttime]))"
   ]
  },
  {
   "cell_type": "markdown",
   "metadata": {
    "Collapsed": "false"
   },
   "source": [
    "Now we can compare the market price to the (constant) evalutation value of the water in the reservoirs. Endpoint descriptions are usually more complex, depending on reservoir levels and/or other reservoirs. "
   ]
  },
  {
   "cell_type": "code",
   "execution_count": 31,
   "metadata": {
    "Collapsed": "false"
   },
   "outputs": [
    {
     "data": {
      "application/vnd.plotly.v1+json": {
       "config": {
        "plotlyServerURL": "https://plot.ly"
       },
       "data": [
        {
         "marker": {
          "color": "rgb(33,102,172)"
         },
         "name": "Market price",
         "type": "scatter",
         "x": [
          "2018-01-23T00:00:00",
          "2018-01-23T01:00:00",
          "2018-01-23T02:00:00",
          "2018-01-23T03:00:00",
          "2018-01-23T04:00:00",
          "2018-01-23T05:00:00",
          "2018-01-23T06:00:00",
          "2018-01-23T07:00:00",
          "2018-01-23T08:00:00",
          "2018-01-23T09:00:00",
          "2018-01-23T10:00:00",
          "2018-01-23T11:00:00",
          "2018-01-23T12:00:00",
          "2018-01-23T13:00:00",
          "2018-01-23T14:00:00",
          "2018-01-23T15:00:00",
          "2018-01-23T16:00:00",
          "2018-01-23T17:00:00",
          "2018-01-23T18:00:00",
          "2018-01-23T19:00:00",
          "2018-01-23T20:00:00",
          "2018-01-23T21:00:00",
          "2018-01-23T22:00:00",
          "2018-01-23T23:00:00",
          "2018-01-24T00:00:00",
          "2018-01-24T01:00:00",
          "2018-01-24T02:00:00",
          "2018-01-24T03:00:00",
          "2018-01-24T04:00:00",
          "2018-01-24T05:00:00",
          "2018-01-24T06:00:00",
          "2018-01-24T07:00:00",
          "2018-01-24T08:00:00",
          "2018-01-24T09:00:00",
          "2018-01-24T10:00:00",
          "2018-01-24T11:00:00",
          "2018-01-24T12:00:00",
          "2018-01-24T13:00:00",
          "2018-01-24T14:00:00",
          "2018-01-24T15:00:00",
          "2018-01-24T16:00:00",
          "2018-01-24T17:00:00",
          "2018-01-24T18:00:00",
          "2018-01-24T19:00:00",
          "2018-01-24T20:00:00",
          "2018-01-24T21:00:00",
          "2018-01-24T22:00:00",
          "2018-01-24T23:00:00",
          "2018-01-25T00:00:00",
          "2018-01-25T01:00:00",
          "2018-01-25T02:00:00",
          "2018-01-25T03:00:00",
          "2018-01-25T04:00:00",
          "2018-01-25T05:00:00",
          "2018-01-25T06:00:00",
          "2018-01-25T07:00:00",
          "2018-01-25T08:00:00",
          "2018-01-25T09:00:00",
          "2018-01-25T10:00:00",
          "2018-01-25T11:00:00",
          "2018-01-25T12:00:00",
          "2018-01-25T13:00:00",
          "2018-01-25T14:00:00",
          "2018-01-25T15:00:00",
          "2018-01-25T16:00:00",
          "2018-01-25T17:00:00",
          "2018-01-25T18:00:00",
          "2018-01-25T19:00:00",
          "2018-01-25T20:00:00",
          "2018-01-25T21:00:00",
          "2018-01-25T22:00:00",
          "2018-01-25T23:00:00"
         ],
         "y": [
          32.992,
          31.122,
          29.312,
          28.072,
          30.012,
          33.362,
          42.682,
          74.822,
          77.732,
          62.332,
          55.892,
          46.962,
          42.582,
          40.942,
          39.212,
          39.142,
          41.672,
          46.922,
          37.102,
          32.992,
          31.272,
          29.752,
          28.782,
          28.082,
          27.242,
          26.622,
          25.732,
          25.392,
          25.992,
          27.402,
          28.942,
          32.182,
          33.082,
          32.342,
          30.912,
          30.162,
          30.062,
          29.562,
          29.462,
          29.512,
          29.672,
          30.072,
          29.552,
          28.862,
          28.412,
          28.072,
          27.162,
          25.502,
          26.192,
          25.222,
          24.052,
          23.892,
          23.682,
          26.092,
          28.202,
          30.902,
          31.572,
          31.462,
          31.172,
          30.912,
          30.572,
          30.602,
          30.632,
          31.062,
          32.082,
          36.262,
          34.472,
          32.182,
          31.492,
          30.732,
          29.712,
          28.982
         ]
        },
        {
         "line": {
          "dash": "dot"
         },
         "marker": {
          "color": "rgb(67,147,195)"
         },
         "name": "Water value of Reservoir1",
         "type": "scatter",
         "x": [
          "2018-01-23T00:00:00",
          "2018-01-23T01:00:00",
          "2018-01-23T02:00:00",
          "2018-01-23T03:00:00",
          "2018-01-23T04:00:00",
          "2018-01-23T05:00:00",
          "2018-01-23T06:00:00",
          "2018-01-23T07:00:00",
          "2018-01-23T08:00:00",
          "2018-01-23T09:00:00",
          "2018-01-23T10:00:00",
          "2018-01-23T11:00:00",
          "2018-01-23T12:00:00",
          "2018-01-23T13:00:00",
          "2018-01-23T14:00:00",
          "2018-01-23T15:00:00",
          "2018-01-23T16:00:00",
          "2018-01-23T17:00:00",
          "2018-01-23T18:00:00",
          "2018-01-23T19:00:00",
          "2018-01-23T20:00:00",
          "2018-01-23T21:00:00",
          "2018-01-23T22:00:00",
          "2018-01-23T23:00:00",
          "2018-01-24T00:00:00",
          "2018-01-24T01:00:00",
          "2018-01-24T02:00:00",
          "2018-01-24T03:00:00",
          "2018-01-24T04:00:00",
          "2018-01-24T05:00:00",
          "2018-01-24T06:00:00",
          "2018-01-24T07:00:00",
          "2018-01-24T08:00:00",
          "2018-01-24T09:00:00",
          "2018-01-24T10:00:00",
          "2018-01-24T11:00:00",
          "2018-01-24T12:00:00",
          "2018-01-24T13:00:00",
          "2018-01-24T14:00:00",
          "2018-01-24T15:00:00",
          "2018-01-24T16:00:00",
          "2018-01-24T17:00:00",
          "2018-01-24T18:00:00",
          "2018-01-24T19:00:00",
          "2018-01-24T20:00:00",
          "2018-01-24T21:00:00",
          "2018-01-24T22:00:00",
          "2018-01-24T23:00:00",
          "2018-01-25T00:00:00",
          "2018-01-25T01:00:00",
          "2018-01-25T02:00:00",
          "2018-01-25T03:00:00",
          "2018-01-25T04:00:00",
          "2018-01-25T05:00:00",
          "2018-01-25T06:00:00",
          "2018-01-25T07:00:00",
          "2018-01-25T08:00:00",
          "2018-01-25T09:00:00",
          "2018-01-25T10:00:00",
          "2018-01-25T11:00:00",
          "2018-01-25T12:00:00",
          "2018-01-25T13:00:00",
          "2018-01-25T14:00:00",
          "2018-01-25T15:00:00",
          "2018-01-25T16:00:00",
          "2018-01-25T17:00:00",
          "2018-01-25T18:00:00",
          "2018-01-25T19:00:00",
          "2018-01-25T20:00:00",
          "2018-01-25T21:00:00",
          "2018-01-25T22:00:00",
          "2018-01-25T23:00:00"
         ],
         "y": [
          30,
          30,
          30,
          30,
          30,
          30,
          30,
          30,
          30,
          30,
          30,
          30,
          30,
          30,
          30,
          30,
          30,
          30,
          30,
          30,
          30,
          30,
          30,
          30,
          30,
          30,
          30,
          30,
          30,
          30,
          30,
          30,
          30,
          30,
          30,
          30,
          30,
          30,
          30,
          30,
          30,
          30,
          30,
          30,
          30,
          30,
          30,
          30,
          30,
          30,
          30,
          30,
          30,
          30,
          30,
          30,
          30,
          30,
          30,
          30,
          30,
          30,
          30,
          30,
          30,
          30,
          30,
          30,
          30,
          30,
          30,
          30
         ]
        },
        {
         "line": {
          "dash": "dot"
         },
         "marker": {
          "color": "rgb(146,197,222)"
         },
         "name": "Water value of Reservoir2",
         "type": "scatter",
         "x": [
          "2018-01-23T00:00:00",
          "2018-01-23T01:00:00",
          "2018-01-23T02:00:00",
          "2018-01-23T03:00:00",
          "2018-01-23T04:00:00",
          "2018-01-23T05:00:00",
          "2018-01-23T06:00:00",
          "2018-01-23T07:00:00",
          "2018-01-23T08:00:00",
          "2018-01-23T09:00:00",
          "2018-01-23T10:00:00",
          "2018-01-23T11:00:00",
          "2018-01-23T12:00:00",
          "2018-01-23T13:00:00",
          "2018-01-23T14:00:00",
          "2018-01-23T15:00:00",
          "2018-01-23T16:00:00",
          "2018-01-23T17:00:00",
          "2018-01-23T18:00:00",
          "2018-01-23T19:00:00",
          "2018-01-23T20:00:00",
          "2018-01-23T21:00:00",
          "2018-01-23T22:00:00",
          "2018-01-23T23:00:00",
          "2018-01-24T00:00:00",
          "2018-01-24T01:00:00",
          "2018-01-24T02:00:00",
          "2018-01-24T03:00:00",
          "2018-01-24T04:00:00",
          "2018-01-24T05:00:00",
          "2018-01-24T06:00:00",
          "2018-01-24T07:00:00",
          "2018-01-24T08:00:00",
          "2018-01-24T09:00:00",
          "2018-01-24T10:00:00",
          "2018-01-24T11:00:00",
          "2018-01-24T12:00:00",
          "2018-01-24T13:00:00",
          "2018-01-24T14:00:00",
          "2018-01-24T15:00:00",
          "2018-01-24T16:00:00",
          "2018-01-24T17:00:00",
          "2018-01-24T18:00:00",
          "2018-01-24T19:00:00",
          "2018-01-24T20:00:00",
          "2018-01-24T21:00:00",
          "2018-01-24T22:00:00",
          "2018-01-24T23:00:00",
          "2018-01-25T00:00:00",
          "2018-01-25T01:00:00",
          "2018-01-25T02:00:00",
          "2018-01-25T03:00:00",
          "2018-01-25T04:00:00",
          "2018-01-25T05:00:00",
          "2018-01-25T06:00:00",
          "2018-01-25T07:00:00",
          "2018-01-25T08:00:00",
          "2018-01-25T09:00:00",
          "2018-01-25T10:00:00",
          "2018-01-25T11:00:00",
          "2018-01-25T12:00:00",
          "2018-01-25T13:00:00",
          "2018-01-25T14:00:00",
          "2018-01-25T15:00:00",
          "2018-01-25T16:00:00",
          "2018-01-25T17:00:00",
          "2018-01-25T18:00:00",
          "2018-01-25T19:00:00",
          "2018-01-25T20:00:00",
          "2018-01-25T21:00:00",
          "2018-01-25T22:00:00",
          "2018-01-25T23:00:00"
         ],
         "y": [
          10,
          10,
          10,
          10,
          10,
          10,
          10,
          10,
          10,
          10,
          10,
          10,
          10,
          10,
          10,
          10,
          10,
          10,
          10,
          10,
          10,
          10,
          10,
          10,
          10,
          10,
          10,
          10,
          10,
          10,
          10,
          10,
          10,
          10,
          10,
          10,
          10,
          10,
          10,
          10,
          10,
          10,
          10,
          10,
          10,
          10,
          10,
          10,
          10,
          10,
          10,
          10,
          10,
          10,
          10,
          10,
          10,
          10,
          10,
          10,
          10,
          10,
          10,
          10,
          10,
          10,
          10,
          10,
          10,
          10,
          10,
          10
         ]
        }
       ],
       "layout": {
        "autosize": true,
        "template": {
         "data": {
          "bar": [
           {
            "error_x": {
             "color": "#2a3f5f"
            },
            "error_y": {
             "color": "#2a3f5f"
            },
            "marker": {
             "line": {
              "color": "#E5ECF6",
              "width": 0.5
             }
            },
            "type": "bar"
           }
          ],
          "barpolar": [
           {
            "marker": {
             "line": {
              "color": "#E5ECF6",
              "width": 0.5
             }
            },
            "type": "barpolar"
           }
          ],
          "carpet": [
           {
            "aaxis": {
             "endlinecolor": "#2a3f5f",
             "gridcolor": "white",
             "linecolor": "white",
             "minorgridcolor": "white",
             "startlinecolor": "#2a3f5f"
            },
            "baxis": {
             "endlinecolor": "#2a3f5f",
             "gridcolor": "white",
             "linecolor": "white",
             "minorgridcolor": "white",
             "startlinecolor": "#2a3f5f"
            },
            "type": "carpet"
           }
          ],
          "choropleth": [
           {
            "colorbar": {
             "outlinewidth": 0,
             "ticks": ""
            },
            "type": "choropleth"
           }
          ],
          "contour": [
           {
            "colorbar": {
             "outlinewidth": 0,
             "ticks": ""
            },
            "colorscale": [
             [
              0,
              "#0d0887"
             ],
             [
              0.1111111111111111,
              "#46039f"
             ],
             [
              0.2222222222222222,
              "#7201a8"
             ],
             [
              0.3333333333333333,
              "#9c179e"
             ],
             [
              0.4444444444444444,
              "#bd3786"
             ],
             [
              0.5555555555555556,
              "#d8576b"
             ],
             [
              0.6666666666666666,
              "#ed7953"
             ],
             [
              0.7777777777777778,
              "#fb9f3a"
             ],
             [
              0.8888888888888888,
              "#fdca26"
             ],
             [
              1,
              "#f0f921"
             ]
            ],
            "type": "contour"
           }
          ],
          "contourcarpet": [
           {
            "colorbar": {
             "outlinewidth": 0,
             "ticks": ""
            },
            "type": "contourcarpet"
           }
          ],
          "heatmap": [
           {
            "colorbar": {
             "outlinewidth": 0,
             "ticks": ""
            },
            "colorscale": [
             [
              0,
              "#0d0887"
             ],
             [
              0.1111111111111111,
              "#46039f"
             ],
             [
              0.2222222222222222,
              "#7201a8"
             ],
             [
              0.3333333333333333,
              "#9c179e"
             ],
             [
              0.4444444444444444,
              "#bd3786"
             ],
             [
              0.5555555555555556,
              "#d8576b"
             ],
             [
              0.6666666666666666,
              "#ed7953"
             ],
             [
              0.7777777777777778,
              "#fb9f3a"
             ],
             [
              0.8888888888888888,
              "#fdca26"
             ],
             [
              1,
              "#f0f921"
             ]
            ],
            "type": "heatmap"
           }
          ],
          "heatmapgl": [
           {
            "colorbar": {
             "outlinewidth": 0,
             "ticks": ""
            },
            "colorscale": [
             [
              0,
              "#0d0887"
             ],
             [
              0.1111111111111111,
              "#46039f"
             ],
             [
              0.2222222222222222,
              "#7201a8"
             ],
             [
              0.3333333333333333,
              "#9c179e"
             ],
             [
              0.4444444444444444,
              "#bd3786"
             ],
             [
              0.5555555555555556,
              "#d8576b"
             ],
             [
              0.6666666666666666,
              "#ed7953"
             ],
             [
              0.7777777777777778,
              "#fb9f3a"
             ],
             [
              0.8888888888888888,
              "#fdca26"
             ],
             [
              1,
              "#f0f921"
             ]
            ],
            "type": "heatmapgl"
           }
          ],
          "histogram": [
           {
            "marker": {
             "colorbar": {
              "outlinewidth": 0,
              "ticks": ""
             }
            },
            "type": "histogram"
           }
          ],
          "histogram2d": [
           {
            "colorbar": {
             "outlinewidth": 0,
             "ticks": ""
            },
            "colorscale": [
             [
              0,
              "#0d0887"
             ],
             [
              0.1111111111111111,
              "#46039f"
             ],
             [
              0.2222222222222222,
              "#7201a8"
             ],
             [
              0.3333333333333333,
              "#9c179e"
             ],
             [
              0.4444444444444444,
              "#bd3786"
             ],
             [
              0.5555555555555556,
              "#d8576b"
             ],
             [
              0.6666666666666666,
              "#ed7953"
             ],
             [
              0.7777777777777778,
              "#fb9f3a"
             ],
             [
              0.8888888888888888,
              "#fdca26"
             ],
             [
              1,
              "#f0f921"
             ]
            ],
            "type": "histogram2d"
           }
          ],
          "histogram2dcontour": [
           {
            "colorbar": {
             "outlinewidth": 0,
             "ticks": ""
            },
            "colorscale": [
             [
              0,
              "#0d0887"
             ],
             [
              0.1111111111111111,
              "#46039f"
             ],
             [
              0.2222222222222222,
              "#7201a8"
             ],
             [
              0.3333333333333333,
              "#9c179e"
             ],
             [
              0.4444444444444444,
              "#bd3786"
             ],
             [
              0.5555555555555556,
              "#d8576b"
             ],
             [
              0.6666666666666666,
              "#ed7953"
             ],
             [
              0.7777777777777778,
              "#fb9f3a"
             ],
             [
              0.8888888888888888,
              "#fdca26"
             ],
             [
              1,
              "#f0f921"
             ]
            ],
            "type": "histogram2dcontour"
           }
          ],
          "mesh3d": [
           {
            "colorbar": {
             "outlinewidth": 0,
             "ticks": ""
            },
            "type": "mesh3d"
           }
          ],
          "parcoords": [
           {
            "line": {
             "colorbar": {
              "outlinewidth": 0,
              "ticks": ""
             }
            },
            "type": "parcoords"
           }
          ],
          "pie": [
           {
            "automargin": true,
            "type": "pie"
           }
          ],
          "scatter": [
           {
            "marker": {
             "colorbar": {
              "outlinewidth": 0,
              "ticks": ""
             }
            },
            "type": "scatter"
           }
          ],
          "scatter3d": [
           {
            "line": {
             "colorbar": {
              "outlinewidth": 0,
              "ticks": ""
             }
            },
            "marker": {
             "colorbar": {
              "outlinewidth": 0,
              "ticks": ""
             }
            },
            "type": "scatter3d"
           }
          ],
          "scattercarpet": [
           {
            "marker": {
             "colorbar": {
              "outlinewidth": 0,
              "ticks": ""
             }
            },
            "type": "scattercarpet"
           }
          ],
          "scattergeo": [
           {
            "marker": {
             "colorbar": {
              "outlinewidth": 0,
              "ticks": ""
             }
            },
            "type": "scattergeo"
           }
          ],
          "scattergl": [
           {
            "marker": {
             "colorbar": {
              "outlinewidth": 0,
              "ticks": ""
             }
            },
            "type": "scattergl"
           }
          ],
          "scattermapbox": [
           {
            "marker": {
             "colorbar": {
              "outlinewidth": 0,
              "ticks": ""
             }
            },
            "type": "scattermapbox"
           }
          ],
          "scatterpolar": [
           {
            "marker": {
             "colorbar": {
              "outlinewidth": 0,
              "ticks": ""
             }
            },
            "type": "scatterpolar"
           }
          ],
          "scatterpolargl": [
           {
            "marker": {
             "colorbar": {
              "outlinewidth": 0,
              "ticks": ""
             }
            },
            "type": "scatterpolargl"
           }
          ],
          "scatterternary": [
           {
            "marker": {
             "colorbar": {
              "outlinewidth": 0,
              "ticks": ""
             }
            },
            "type": "scatterternary"
           }
          ],
          "surface": [
           {
            "colorbar": {
             "outlinewidth": 0,
             "ticks": ""
            },
            "colorscale": [
             [
              0,
              "#0d0887"
             ],
             [
              0.1111111111111111,
              "#46039f"
             ],
             [
              0.2222222222222222,
              "#7201a8"
             ],
             [
              0.3333333333333333,
              "#9c179e"
             ],
             [
              0.4444444444444444,
              "#bd3786"
             ],
             [
              0.5555555555555556,
              "#d8576b"
             ],
             [
              0.6666666666666666,
              "#ed7953"
             ],
             [
              0.7777777777777778,
              "#fb9f3a"
             ],
             [
              0.8888888888888888,
              "#fdca26"
             ],
             [
              1,
              "#f0f921"
             ]
            ],
            "type": "surface"
           }
          ],
          "table": [
           {
            "cells": {
             "fill": {
              "color": "#EBF0F8"
             },
             "line": {
              "color": "white"
             }
            },
            "header": {
             "fill": {
              "color": "#C8D4E3"
             },
             "line": {
              "color": "white"
             }
            },
            "type": "table"
           }
          ]
         },
         "layout": {
          "annotationdefaults": {
           "arrowcolor": "#2a3f5f",
           "arrowhead": 0,
           "arrowwidth": 1
          },
          "autotypenumbers": "strict",
          "coloraxis": {
           "colorbar": {
            "outlinewidth": 0,
            "ticks": ""
           }
          },
          "colorscale": {
           "diverging": [
            [
             0,
             "#8e0152"
            ],
            [
             0.1,
             "#c51b7d"
            ],
            [
             0.2,
             "#de77ae"
            ],
            [
             0.3,
             "#f1b6da"
            ],
            [
             0.4,
             "#fde0ef"
            ],
            [
             0.5,
             "#f7f7f7"
            ],
            [
             0.6,
             "#e6f5d0"
            ],
            [
             0.7,
             "#b8e186"
            ],
            [
             0.8,
             "#7fbc41"
            ],
            [
             0.9,
             "#4d9221"
            ],
            [
             1,
             "#276419"
            ]
           ],
           "sequential": [
            [
             0,
             "#0d0887"
            ],
            [
             0.1111111111111111,
             "#46039f"
            ],
            [
             0.2222222222222222,
             "#7201a8"
            ],
            [
             0.3333333333333333,
             "#9c179e"
            ],
            [
             0.4444444444444444,
             "#bd3786"
            ],
            [
             0.5555555555555556,
             "#d8576b"
            ],
            [
             0.6666666666666666,
             "#ed7953"
            ],
            [
             0.7777777777777778,
             "#fb9f3a"
            ],
            [
             0.8888888888888888,
             "#fdca26"
            ],
            [
             1,
             "#f0f921"
            ]
           ],
           "sequentialminus": [
            [
             0,
             "#0d0887"
            ],
            [
             0.1111111111111111,
             "#46039f"
            ],
            [
             0.2222222222222222,
             "#7201a8"
            ],
            [
             0.3333333333333333,
             "#9c179e"
            ],
            [
             0.4444444444444444,
             "#bd3786"
            ],
            [
             0.5555555555555556,
             "#d8576b"
            ],
            [
             0.6666666666666666,
             "#ed7953"
            ],
            [
             0.7777777777777778,
             "#fb9f3a"
            ],
            [
             0.8888888888888888,
             "#fdca26"
            ],
            [
             1,
             "#f0f921"
            ]
           ]
          },
          "colorway": [
           "#636efa",
           "#EF553B",
           "#00cc96",
           "#ab63fa",
           "#FFA15A",
           "#19d3f3",
           "#FF6692",
           "#B6E880",
           "#FF97FF",
           "#FECB52"
          ],
          "font": {
           "color": "#2a3f5f"
          },
          "geo": {
           "bgcolor": "white",
           "lakecolor": "white",
           "landcolor": "#E5ECF6",
           "showlakes": true,
           "showland": true,
           "subunitcolor": "white"
          },
          "hoverlabel": {
           "align": "left"
          },
          "hovermode": "closest",
          "mapbox": {
           "style": "light"
          },
          "paper_bgcolor": "white",
          "plot_bgcolor": "#E5ECF6",
          "polar": {
           "angularaxis": {
            "gridcolor": "white",
            "linecolor": "white",
            "ticks": ""
           },
           "bgcolor": "#E5ECF6",
           "radialaxis": {
            "gridcolor": "white",
            "linecolor": "white",
            "ticks": ""
           }
          },
          "scene": {
           "xaxis": {
            "backgroundcolor": "#E5ECF6",
            "gridcolor": "white",
            "gridwidth": 2,
            "linecolor": "white",
            "showbackground": true,
            "ticks": "",
            "zerolinecolor": "white"
           },
           "yaxis": {
            "backgroundcolor": "#E5ECF6",
            "gridcolor": "white",
            "gridwidth": 2,
            "linecolor": "white",
            "showbackground": true,
            "ticks": "",
            "zerolinecolor": "white"
           },
           "zaxis": {
            "backgroundcolor": "#E5ECF6",
            "gridcolor": "white",
            "gridwidth": 2,
            "linecolor": "white",
            "showbackground": true,
            "ticks": "",
            "zerolinecolor": "white"
           }
          },
          "shapedefaults": {
           "line": {
            "color": "#2a3f5f"
           }
          },
          "ternary": {
           "aaxis": {
            "gridcolor": "white",
            "linecolor": "white",
            "ticks": ""
           },
           "baxis": {
            "gridcolor": "white",
            "linecolor": "white",
            "ticks": ""
           },
           "bgcolor": "#E5ECF6",
           "caxis": {
            "gridcolor": "white",
            "linecolor": "white",
            "ticks": ""
           }
          },
          "title": {
           "x": 0.05
          },
          "xaxis": {
           "automargin": true,
           "gridcolor": "white",
           "linecolor": "white",
           "ticks": "",
           "title": {
            "standoff": 15
           },
           "zerolinecolor": "white",
           "zerolinewidth": 2
          },
          "yaxis": {
           "automargin": true,
           "gridcolor": "white",
           "linecolor": "white",
           "ticks": "",
           "title": {
            "standoff": 15
           },
           "zerolinecolor": "white",
           "zerolinewidth": 2
          }
         }
        },
        "title": {
         "text": "<b>Market price and water value of reservoirs</b>"
        },
        "xaxis": {
         "autorange": true,
         "range": [
          "2018-01-23",
          "2018-01-25 23:00"
         ],
         "title": {
          "text": "<b>Time</b> (Hour)"
         },
         "type": "date"
        },
        "yaxis": {
         "autorange": true,
         "range": [
          6.237111111111111,
          81.4948888888889
         ],
         "title": {
          "text": "<b>Price</b> (€/MWh)"
         },
         "type": "linear"
        }
       }
      },
      "text/html": [
       "<div>                            <div id=\"0063744e-c316-4e8b-aff9-947d6cbb391c\" class=\"plotly-graph-div\" style=\"height:525px; width:100%;\"></div>            <script type=\"text/javascript\">                require([\"plotly\"], function(Plotly) {                    window.PLOTLYENV=window.PLOTLYENV || {};                                    if (document.getElementById(\"0063744e-c316-4e8b-aff9-947d6cbb391c\")) {                    Plotly.newPlot(                        \"0063744e-c316-4e8b-aff9-947d6cbb391c\",                        [{\"marker\": {\"color\": \"rgb(33,102,172)\"}, \"name\": \"Market price\", \"type\": \"scatter\", \"x\": [\"2018-01-23T00:00:00\", \"2018-01-23T01:00:00\", \"2018-01-23T02:00:00\", \"2018-01-23T03:00:00\", \"2018-01-23T04:00:00\", \"2018-01-23T05:00:00\", \"2018-01-23T06:00:00\", \"2018-01-23T07:00:00\", \"2018-01-23T08:00:00\", \"2018-01-23T09:00:00\", \"2018-01-23T10:00:00\", \"2018-01-23T11:00:00\", \"2018-01-23T12:00:00\", \"2018-01-23T13:00:00\", \"2018-01-23T14:00:00\", \"2018-01-23T15:00:00\", \"2018-01-23T16:00:00\", \"2018-01-23T17:00:00\", \"2018-01-23T18:00:00\", \"2018-01-23T19:00:00\", \"2018-01-23T20:00:00\", \"2018-01-23T21:00:00\", \"2018-01-23T22:00:00\", \"2018-01-23T23:00:00\", \"2018-01-24T00:00:00\", \"2018-01-24T01:00:00\", \"2018-01-24T02:00:00\", \"2018-01-24T03:00:00\", \"2018-01-24T04:00:00\", \"2018-01-24T05:00:00\", \"2018-01-24T06:00:00\", \"2018-01-24T07:00:00\", \"2018-01-24T08:00:00\", \"2018-01-24T09:00:00\", \"2018-01-24T10:00:00\", \"2018-01-24T11:00:00\", \"2018-01-24T12:00:00\", \"2018-01-24T13:00:00\", \"2018-01-24T14:00:00\", \"2018-01-24T15:00:00\", \"2018-01-24T16:00:00\", \"2018-01-24T17:00:00\", \"2018-01-24T18:00:00\", \"2018-01-24T19:00:00\", \"2018-01-24T20:00:00\", \"2018-01-24T21:00:00\", \"2018-01-24T22:00:00\", \"2018-01-24T23:00:00\", \"2018-01-25T00:00:00\", \"2018-01-25T01:00:00\", \"2018-01-25T02:00:00\", \"2018-01-25T03:00:00\", \"2018-01-25T04:00:00\", \"2018-01-25T05:00:00\", \"2018-01-25T06:00:00\", \"2018-01-25T07:00:00\", \"2018-01-25T08:00:00\", \"2018-01-25T09:00:00\", \"2018-01-25T10:00:00\", \"2018-01-25T11:00:00\", \"2018-01-25T12:00:00\", \"2018-01-25T13:00:00\", \"2018-01-25T14:00:00\", \"2018-01-25T15:00:00\", \"2018-01-25T16:00:00\", \"2018-01-25T17:00:00\", \"2018-01-25T18:00:00\", \"2018-01-25T19:00:00\", \"2018-01-25T20:00:00\", \"2018-01-25T21:00:00\", \"2018-01-25T22:00:00\", \"2018-01-25T23:00:00\"], \"y\": [32.992, 31.122, 29.312, 28.072, 30.012, 33.362, 42.682, 74.822, 77.732, 62.332, 55.892, 46.962, 42.582, 40.942, 39.212, 39.142, 41.672, 46.922, 37.102, 32.992, 31.272, 29.752, 28.782, 28.082, 27.242, 26.622, 25.732, 25.392, 25.992, 27.402, 28.942, 32.182, 33.082, 32.342, 30.912, 30.162, 30.062, 29.562, 29.462, 29.512, 29.672, 30.072, 29.552, 28.862, 28.412, 28.072, 27.162, 25.502, 26.192, 25.222, 24.052, 23.892, 23.682, 26.092, 28.202, 30.902, 31.572, 31.462, 31.172, 30.912, 30.572, 30.602, 30.632, 31.062, 32.082, 36.262, 34.472, 32.182, 31.492, 30.732, 29.712, 28.982]}, {\"line\": {\"dash\": \"dot\"}, \"marker\": {\"color\": \"rgb(67,147,195)\"}, \"name\": \"Water value of Reservoir1\", \"type\": \"scatter\", \"x\": [\"2018-01-23T00:00:00\", \"2018-01-23T01:00:00\", \"2018-01-23T02:00:00\", \"2018-01-23T03:00:00\", \"2018-01-23T04:00:00\", \"2018-01-23T05:00:00\", \"2018-01-23T06:00:00\", \"2018-01-23T07:00:00\", \"2018-01-23T08:00:00\", \"2018-01-23T09:00:00\", \"2018-01-23T10:00:00\", \"2018-01-23T11:00:00\", \"2018-01-23T12:00:00\", \"2018-01-23T13:00:00\", \"2018-01-23T14:00:00\", \"2018-01-23T15:00:00\", \"2018-01-23T16:00:00\", \"2018-01-23T17:00:00\", \"2018-01-23T18:00:00\", \"2018-01-23T19:00:00\", \"2018-01-23T20:00:00\", \"2018-01-23T21:00:00\", \"2018-01-23T22:00:00\", \"2018-01-23T23:00:00\", \"2018-01-24T00:00:00\", \"2018-01-24T01:00:00\", \"2018-01-24T02:00:00\", \"2018-01-24T03:00:00\", \"2018-01-24T04:00:00\", \"2018-01-24T05:00:00\", \"2018-01-24T06:00:00\", \"2018-01-24T07:00:00\", \"2018-01-24T08:00:00\", \"2018-01-24T09:00:00\", \"2018-01-24T10:00:00\", \"2018-01-24T11:00:00\", \"2018-01-24T12:00:00\", \"2018-01-24T13:00:00\", \"2018-01-24T14:00:00\", \"2018-01-24T15:00:00\", \"2018-01-24T16:00:00\", \"2018-01-24T17:00:00\", \"2018-01-24T18:00:00\", \"2018-01-24T19:00:00\", \"2018-01-24T20:00:00\", \"2018-01-24T21:00:00\", \"2018-01-24T22:00:00\", \"2018-01-24T23:00:00\", \"2018-01-25T00:00:00\", \"2018-01-25T01:00:00\", \"2018-01-25T02:00:00\", \"2018-01-25T03:00:00\", \"2018-01-25T04:00:00\", \"2018-01-25T05:00:00\", \"2018-01-25T06:00:00\", \"2018-01-25T07:00:00\", \"2018-01-25T08:00:00\", \"2018-01-25T09:00:00\", \"2018-01-25T10:00:00\", \"2018-01-25T11:00:00\", \"2018-01-25T12:00:00\", \"2018-01-25T13:00:00\", \"2018-01-25T14:00:00\", \"2018-01-25T15:00:00\", \"2018-01-25T16:00:00\", \"2018-01-25T17:00:00\", \"2018-01-25T18:00:00\", \"2018-01-25T19:00:00\", \"2018-01-25T20:00:00\", \"2018-01-25T21:00:00\", \"2018-01-25T22:00:00\", \"2018-01-25T23:00:00\"], \"y\": [30.0, 30.0, 30.0, 30.0, 30.0, 30.0, 30.0, 30.0, 30.0, 30.0, 30.0, 30.0, 30.0, 30.0, 30.0, 30.0, 30.0, 30.0, 30.0, 30.0, 30.0, 30.0, 30.0, 30.0, 30.0, 30.0, 30.0, 30.0, 30.0, 30.0, 30.0, 30.0, 30.0, 30.0, 30.0, 30.0, 30.0, 30.0, 30.0, 30.0, 30.0, 30.0, 30.0, 30.0, 30.0, 30.0, 30.0, 30.0, 30.0, 30.0, 30.0, 30.0, 30.0, 30.0, 30.0, 30.0, 30.0, 30.0, 30.0, 30.0, 30.0, 30.0, 30.0, 30.0, 30.0, 30.0, 30.0, 30.0, 30.0, 30.0, 30.0, 30.0]}, {\"line\": {\"dash\": \"dot\"}, \"marker\": {\"color\": \"rgb(146,197,222)\"}, \"name\": \"Water value of Reservoir2\", \"type\": \"scatter\", \"x\": [\"2018-01-23T00:00:00\", \"2018-01-23T01:00:00\", \"2018-01-23T02:00:00\", \"2018-01-23T03:00:00\", \"2018-01-23T04:00:00\", \"2018-01-23T05:00:00\", \"2018-01-23T06:00:00\", \"2018-01-23T07:00:00\", \"2018-01-23T08:00:00\", \"2018-01-23T09:00:00\", \"2018-01-23T10:00:00\", \"2018-01-23T11:00:00\", \"2018-01-23T12:00:00\", \"2018-01-23T13:00:00\", \"2018-01-23T14:00:00\", \"2018-01-23T15:00:00\", \"2018-01-23T16:00:00\", \"2018-01-23T17:00:00\", \"2018-01-23T18:00:00\", \"2018-01-23T19:00:00\", \"2018-01-23T20:00:00\", \"2018-01-23T21:00:00\", \"2018-01-23T22:00:00\", \"2018-01-23T23:00:00\", \"2018-01-24T00:00:00\", \"2018-01-24T01:00:00\", \"2018-01-24T02:00:00\", \"2018-01-24T03:00:00\", \"2018-01-24T04:00:00\", \"2018-01-24T05:00:00\", \"2018-01-24T06:00:00\", \"2018-01-24T07:00:00\", \"2018-01-24T08:00:00\", \"2018-01-24T09:00:00\", \"2018-01-24T10:00:00\", \"2018-01-24T11:00:00\", \"2018-01-24T12:00:00\", \"2018-01-24T13:00:00\", \"2018-01-24T14:00:00\", \"2018-01-24T15:00:00\", \"2018-01-24T16:00:00\", \"2018-01-24T17:00:00\", \"2018-01-24T18:00:00\", \"2018-01-24T19:00:00\", \"2018-01-24T20:00:00\", \"2018-01-24T21:00:00\", \"2018-01-24T22:00:00\", \"2018-01-24T23:00:00\", \"2018-01-25T00:00:00\", \"2018-01-25T01:00:00\", \"2018-01-25T02:00:00\", \"2018-01-25T03:00:00\", \"2018-01-25T04:00:00\", \"2018-01-25T05:00:00\", \"2018-01-25T06:00:00\", \"2018-01-25T07:00:00\", \"2018-01-25T08:00:00\", \"2018-01-25T09:00:00\", \"2018-01-25T10:00:00\", \"2018-01-25T11:00:00\", \"2018-01-25T12:00:00\", \"2018-01-25T13:00:00\", \"2018-01-25T14:00:00\", \"2018-01-25T15:00:00\", \"2018-01-25T16:00:00\", \"2018-01-25T17:00:00\", \"2018-01-25T18:00:00\", \"2018-01-25T19:00:00\", \"2018-01-25T20:00:00\", \"2018-01-25T21:00:00\", \"2018-01-25T22:00:00\", \"2018-01-25T23:00:00\"], \"y\": [10.0, 10.0, 10.0, 10.0, 10.0, 10.0, 10.0, 10.0, 10.0, 10.0, 10.0, 10.0, 10.0, 10.0, 10.0, 10.0, 10.0, 10.0, 10.0, 10.0, 10.0, 10.0, 10.0, 10.0, 10.0, 10.0, 10.0, 10.0, 10.0, 10.0, 10.0, 10.0, 10.0, 10.0, 10.0, 10.0, 10.0, 10.0, 10.0, 10.0, 10.0, 10.0, 10.0, 10.0, 10.0, 10.0, 10.0, 10.0, 10.0, 10.0, 10.0, 10.0, 10.0, 10.0, 10.0, 10.0, 10.0, 10.0, 10.0, 10.0, 10.0, 10.0, 10.0, 10.0, 10.0, 10.0, 10.0, 10.0, 10.0, 10.0, 10.0, 10.0]}],                        {\"template\": {\"data\": {\"bar\": [{\"error_x\": {\"color\": \"#2a3f5f\"}, \"error_y\": {\"color\": \"#2a3f5f\"}, \"marker\": {\"line\": {\"color\": \"#E5ECF6\", \"width\": 0.5}}, \"type\": \"bar\"}], \"barpolar\": [{\"marker\": {\"line\": {\"color\": \"#E5ECF6\", \"width\": 0.5}}, \"type\": \"barpolar\"}], \"carpet\": [{\"aaxis\": {\"endlinecolor\": \"#2a3f5f\", \"gridcolor\": \"white\", \"linecolor\": \"white\", \"minorgridcolor\": \"white\", \"startlinecolor\": \"#2a3f5f\"}, \"baxis\": {\"endlinecolor\": \"#2a3f5f\", \"gridcolor\": \"white\", \"linecolor\": \"white\", \"minorgridcolor\": \"white\", \"startlinecolor\": \"#2a3f5f\"}, \"type\": \"carpet\"}], \"choropleth\": [{\"colorbar\": {\"outlinewidth\": 0, \"ticks\": \"\"}, \"type\": \"choropleth\"}], \"contour\": [{\"colorbar\": {\"outlinewidth\": 0, \"ticks\": \"\"}, \"colorscale\": [[0.0, \"#0d0887\"], [0.1111111111111111, \"#46039f\"], [0.2222222222222222, \"#7201a8\"], [0.3333333333333333, \"#9c179e\"], [0.4444444444444444, \"#bd3786\"], [0.5555555555555556, \"#d8576b\"], [0.6666666666666666, \"#ed7953\"], [0.7777777777777778, \"#fb9f3a\"], [0.8888888888888888, \"#fdca26\"], [1.0, \"#f0f921\"]], \"type\": \"contour\"}], \"contourcarpet\": [{\"colorbar\": {\"outlinewidth\": 0, \"ticks\": \"\"}, \"type\": \"contourcarpet\"}], \"heatmap\": [{\"colorbar\": {\"outlinewidth\": 0, \"ticks\": \"\"}, \"colorscale\": [[0.0, \"#0d0887\"], [0.1111111111111111, \"#46039f\"], [0.2222222222222222, \"#7201a8\"], [0.3333333333333333, \"#9c179e\"], [0.4444444444444444, \"#bd3786\"], [0.5555555555555556, \"#d8576b\"], [0.6666666666666666, \"#ed7953\"], [0.7777777777777778, \"#fb9f3a\"], [0.8888888888888888, \"#fdca26\"], [1.0, \"#f0f921\"]], \"type\": \"heatmap\"}], \"heatmapgl\": [{\"colorbar\": {\"outlinewidth\": 0, \"ticks\": \"\"}, \"colorscale\": [[0.0, \"#0d0887\"], [0.1111111111111111, \"#46039f\"], [0.2222222222222222, \"#7201a8\"], [0.3333333333333333, \"#9c179e\"], [0.4444444444444444, \"#bd3786\"], [0.5555555555555556, \"#d8576b\"], [0.6666666666666666, \"#ed7953\"], [0.7777777777777778, \"#fb9f3a\"], [0.8888888888888888, \"#fdca26\"], [1.0, \"#f0f921\"]], \"type\": \"heatmapgl\"}], \"histogram\": [{\"marker\": {\"colorbar\": {\"outlinewidth\": 0, \"ticks\": \"\"}}, \"type\": \"histogram\"}], \"histogram2d\": [{\"colorbar\": {\"outlinewidth\": 0, \"ticks\": \"\"}, \"colorscale\": [[0.0, \"#0d0887\"], [0.1111111111111111, \"#46039f\"], [0.2222222222222222, \"#7201a8\"], [0.3333333333333333, \"#9c179e\"], [0.4444444444444444, \"#bd3786\"], [0.5555555555555556, \"#d8576b\"], [0.6666666666666666, \"#ed7953\"], [0.7777777777777778, \"#fb9f3a\"], [0.8888888888888888, \"#fdca26\"], [1.0, \"#f0f921\"]], \"type\": \"histogram2d\"}], \"histogram2dcontour\": [{\"colorbar\": {\"outlinewidth\": 0, \"ticks\": \"\"}, \"colorscale\": [[0.0, \"#0d0887\"], [0.1111111111111111, \"#46039f\"], [0.2222222222222222, \"#7201a8\"], [0.3333333333333333, \"#9c179e\"], [0.4444444444444444, \"#bd3786\"], [0.5555555555555556, \"#d8576b\"], [0.6666666666666666, \"#ed7953\"], [0.7777777777777778, \"#fb9f3a\"], [0.8888888888888888, \"#fdca26\"], [1.0, \"#f0f921\"]], \"type\": \"histogram2dcontour\"}], \"mesh3d\": [{\"colorbar\": {\"outlinewidth\": 0, \"ticks\": \"\"}, \"type\": \"mesh3d\"}], \"parcoords\": [{\"line\": {\"colorbar\": {\"outlinewidth\": 0, \"ticks\": \"\"}}, \"type\": \"parcoords\"}], \"pie\": [{\"automargin\": true, \"type\": \"pie\"}], \"scatter\": [{\"marker\": {\"colorbar\": {\"outlinewidth\": 0, \"ticks\": \"\"}}, \"type\": \"scatter\"}], \"scatter3d\": [{\"line\": {\"colorbar\": {\"outlinewidth\": 0, \"ticks\": \"\"}}, \"marker\": {\"colorbar\": {\"outlinewidth\": 0, \"ticks\": \"\"}}, \"type\": \"scatter3d\"}], \"scattercarpet\": [{\"marker\": {\"colorbar\": {\"outlinewidth\": 0, \"ticks\": \"\"}}, \"type\": \"scattercarpet\"}], \"scattergeo\": [{\"marker\": {\"colorbar\": {\"outlinewidth\": 0, \"ticks\": \"\"}}, \"type\": \"scattergeo\"}], \"scattergl\": [{\"marker\": {\"colorbar\": {\"outlinewidth\": 0, \"ticks\": \"\"}}, \"type\": \"scattergl\"}], \"scattermapbox\": [{\"marker\": {\"colorbar\": {\"outlinewidth\": 0, \"ticks\": \"\"}}, \"type\": \"scattermapbox\"}], \"scatterpolar\": [{\"marker\": {\"colorbar\": {\"outlinewidth\": 0, \"ticks\": \"\"}}, \"type\": \"scatterpolar\"}], \"scatterpolargl\": [{\"marker\": {\"colorbar\": {\"outlinewidth\": 0, \"ticks\": \"\"}}, \"type\": \"scatterpolargl\"}], \"scatterternary\": [{\"marker\": {\"colorbar\": {\"outlinewidth\": 0, \"ticks\": \"\"}}, \"type\": \"scatterternary\"}], \"surface\": [{\"colorbar\": {\"outlinewidth\": 0, \"ticks\": \"\"}, \"colorscale\": [[0.0, \"#0d0887\"], [0.1111111111111111, \"#46039f\"], [0.2222222222222222, \"#7201a8\"], [0.3333333333333333, \"#9c179e\"], [0.4444444444444444, \"#bd3786\"], [0.5555555555555556, \"#d8576b\"], [0.6666666666666666, \"#ed7953\"], [0.7777777777777778, \"#fb9f3a\"], [0.8888888888888888, \"#fdca26\"], [1.0, \"#f0f921\"]], \"type\": \"surface\"}], \"table\": [{\"cells\": {\"fill\": {\"color\": \"#EBF0F8\"}, \"line\": {\"color\": \"white\"}}, \"header\": {\"fill\": {\"color\": \"#C8D4E3\"}, \"line\": {\"color\": \"white\"}}, \"type\": \"table\"}]}, \"layout\": {\"annotationdefaults\": {\"arrowcolor\": \"#2a3f5f\", \"arrowhead\": 0, \"arrowwidth\": 1}, \"autotypenumbers\": \"strict\", \"coloraxis\": {\"colorbar\": {\"outlinewidth\": 0, \"ticks\": \"\"}}, \"colorscale\": {\"diverging\": [[0, \"#8e0152\"], [0.1, \"#c51b7d\"], [0.2, \"#de77ae\"], [0.3, \"#f1b6da\"], [0.4, \"#fde0ef\"], [0.5, \"#f7f7f7\"], [0.6, \"#e6f5d0\"], [0.7, \"#b8e186\"], [0.8, \"#7fbc41\"], [0.9, \"#4d9221\"], [1, \"#276419\"]], \"sequential\": [[0.0, \"#0d0887\"], [0.1111111111111111, \"#46039f\"], [0.2222222222222222, \"#7201a8\"], [0.3333333333333333, \"#9c179e\"], [0.4444444444444444, \"#bd3786\"], [0.5555555555555556, \"#d8576b\"], [0.6666666666666666, \"#ed7953\"], [0.7777777777777778, \"#fb9f3a\"], [0.8888888888888888, \"#fdca26\"], [1.0, \"#f0f921\"]], \"sequentialminus\": [[0.0, \"#0d0887\"], [0.1111111111111111, \"#46039f\"], [0.2222222222222222, \"#7201a8\"], [0.3333333333333333, \"#9c179e\"], [0.4444444444444444, \"#bd3786\"], [0.5555555555555556, \"#d8576b\"], [0.6666666666666666, \"#ed7953\"], [0.7777777777777778, \"#fb9f3a\"], [0.8888888888888888, \"#fdca26\"], [1.0, \"#f0f921\"]]}, \"colorway\": [\"#636efa\", \"#EF553B\", \"#00cc96\", \"#ab63fa\", \"#FFA15A\", \"#19d3f3\", \"#FF6692\", \"#B6E880\", \"#FF97FF\", \"#FECB52\"], \"font\": {\"color\": \"#2a3f5f\"}, \"geo\": {\"bgcolor\": \"white\", \"lakecolor\": \"white\", \"landcolor\": \"#E5ECF6\", \"showlakes\": true, \"showland\": true, \"subunitcolor\": \"white\"}, \"hoverlabel\": {\"align\": \"left\"}, \"hovermode\": \"closest\", \"mapbox\": {\"style\": \"light\"}, \"paper_bgcolor\": \"white\", \"plot_bgcolor\": \"#E5ECF6\", \"polar\": {\"angularaxis\": {\"gridcolor\": \"white\", \"linecolor\": \"white\", \"ticks\": \"\"}, \"bgcolor\": \"#E5ECF6\", \"radialaxis\": {\"gridcolor\": \"white\", \"linecolor\": \"white\", \"ticks\": \"\"}}, \"scene\": {\"xaxis\": {\"backgroundcolor\": \"#E5ECF6\", \"gridcolor\": \"white\", \"gridwidth\": 2, \"linecolor\": \"white\", \"showbackground\": true, \"ticks\": \"\", \"zerolinecolor\": \"white\"}, \"yaxis\": {\"backgroundcolor\": \"#E5ECF6\", \"gridcolor\": \"white\", \"gridwidth\": 2, \"linecolor\": \"white\", \"showbackground\": true, \"ticks\": \"\", \"zerolinecolor\": \"white\"}, \"zaxis\": {\"backgroundcolor\": \"#E5ECF6\", \"gridcolor\": \"white\", \"gridwidth\": 2, \"linecolor\": \"white\", \"showbackground\": true, \"ticks\": \"\", \"zerolinecolor\": \"white\"}}, \"shapedefaults\": {\"line\": {\"color\": \"#2a3f5f\"}}, \"ternary\": {\"aaxis\": {\"gridcolor\": \"white\", \"linecolor\": \"white\", \"ticks\": \"\"}, \"baxis\": {\"gridcolor\": \"white\", \"linecolor\": \"white\", \"ticks\": \"\"}, \"bgcolor\": \"#E5ECF6\", \"caxis\": {\"gridcolor\": \"white\", \"linecolor\": \"white\", \"ticks\": \"\"}}, \"title\": {\"x\": 0.05}, \"xaxis\": {\"automargin\": true, \"gridcolor\": \"white\", \"linecolor\": \"white\", \"ticks\": \"\", \"title\": {\"standoff\": 15}, \"zerolinecolor\": \"white\", \"zerolinewidth\": 2}, \"yaxis\": {\"automargin\": true, \"gridcolor\": \"white\", \"linecolor\": \"white\", \"ticks\": \"\", \"title\": {\"standoff\": 15}, \"zerolinecolor\": \"white\", \"zerolinewidth\": 2}}}, \"title\": {\"text\": \"<b>Market price and water value of reservoirs</b>\"}, \"xaxis\": {\"title\": {\"text\": \"<b>Time</b> (Hour)\"}}, \"yaxis\": {\"title\": {\"text\": \"<b>Price</b> (\\u20ac/MWh)\"}}},                        {\"responsive\": true}                    ).then(function(){\n",
       "                            \n",
       "var gd = document.getElementById('0063744e-c316-4e8b-aff9-947d6cbb391c');\n",
       "var x = new MutationObserver(function (mutations, observer) {{\n",
       "        var display = window.getComputedStyle(gd).display;\n",
       "        if (!display || display === 'none') {{\n",
       "            console.log([gd, 'removed!']);\n",
       "            Plotly.purge(gd);\n",
       "            observer.disconnect();\n",
       "        }}\n",
       "}});\n",
       "\n",
       "// Listen for the removal of the full notebook cells\n",
       "var notebookContainer = gd.closest('#notebook-container');\n",
       "if (notebookContainer) {{\n",
       "    x.observe(notebookContainer, {childList: true});\n",
       "}}\n",
       "\n",
       "// Listen for the clearing of the current output cell\n",
       "var outputEl = gd.closest('.output');\n",
       "if (outputEl) {{\n",
       "    x.observe(outputEl, {childList: true});\n",
       "}}\n",
       "\n",
       "                        })                };                });            </script>        </div>"
      ]
     },
     "metadata": {},
     "output_type": "display_data"
    }
   ],
   "source": [
    "# Plot market price and water value of reservoirs\r\n",
    "spot_price=shop.model.market.Day_ahead.sale_price.get()\r\n",
    "end_water_value=shop.model.reservoir.Reservoir1.energy_value_input.get()\r\n",
    "water_value=pd.Series(dtype=object,index=spot_price.index)\r\n",
    "water_value=water_value.fillna(end_water_value)\r\n",
    "\r\n",
    "\r\n",
    "fig = go.Figure()\r\n",
    "colorscale = px.colors.sequential.RdBu_r\r\n",
    "color = 1\r\n",
    "fig.add_trace(go.Scatter(x=spot_price.index, marker_color = colorscale[color], y=spot_price.values, name=\"Market price\"))\r\n",
    "\r\n",
    "for rsv in shop.model.reservoir:\r\n",
    "    color+=1\r\n",
    "    end_water_value=rsv.energy_value_input.get()\r\n",
    "    water_value=pd.Series(dtype=object,index=spot_price.index)\r\n",
    "    water_value=water_value.fillna(end_water_value)\r\n",
    "    curve_name=\"Water value of \"+rsv.get_name()\r\n",
    "    fig.add_trace(go.Scatter(x=water_value.index, y=water_value.values, marker_color = colorscale[color], name=curve_name, line=dict(dash=\"dot\")))\r\n",
    "    \r\n",
    "fig.update_layout(title=\"<b>Market price and water value of reservoirs</b>\", xaxis_title=\"<b>Time</b> (Hour)\", yaxis_title=\"<b>Price</b> (€/MWh)\")\r\n",
    "\r\n",
    "fig.show()"
   ]
  },
  {
   "cell_type": "markdown",
   "metadata": {
    "Collapsed": "false"
   },
   "source": [
    "## Running SHOP"
   ]
  },
  {
   "cell_type": "markdown",
   "metadata": {
    "Collapsed": "false"
   },
   "source": [
    "Once the model is fully defined, we can prepare for a call to the optimizer. It is possible to define certain criteria depending on the solver used, if not, default values will be effective. \r\n",
    "\r\n",
    "In order to find an optimal solution, it is normal to run SHOP with multiple iterations, both full and incremental."
   ]
  },
  {
   "cell_type": "code",
   "execution_count": 32,
   "metadata": {
    "Collapsed": "false"
   },
   "outputs": [
    {
     "data": {
      "text/plain": [
       "True"
      ]
     },
     "execution_count": 32,
     "metadata": {},
     "output_type": "execute_result"
    }
   ],
   "source": [
    "# Setting a full flag, telling SHOP the upcomming iterations should be full\r\n",
    "shop.set_code(['full'], [])\r\n",
    "\r\n",
    "# Starting SHOP and running five (full) iterations\r\n",
    "shop.start_sim([], ['5'])\r\n",
    "\r\n",
    "# Setting an incremental flag, telling SHOP the next iterations should be incremental\r\n",
    "shop.set_code(['incremental'], [])\r\n",
    "\r\n",
    "# Running three more (incremental) iterations\r\n",
    "shop.start_sim([], ['3'])"
   ]
  },
  {
   "cell_type": "markdown",
   "metadata": {
    "Collapsed": "false"
   },
   "source": [
    "## Results"
   ]
  },
  {
   "cell_type": "markdown",
   "metadata": {
    "Collapsed": "false"
   },
   "source": [
    "After the optimization has completed, we can review the result from SHOP by plotting the graphs we want. "
   ]
  },
  {
   "cell_type": "code",
   "execution_count": 33,
   "metadata": {
    "Collapsed": "false"
   },
   "outputs": [
    {
     "data": {
      "application/vnd.plotly.v1+json": {
       "config": {
        "plotlyServerURL": "https://plot.ly"
       },
       "data": [
        {
         "marker": {
          "color": "rgb(33,102,172)"
         },
         "name": "P1",
         "type": "bar",
         "x": [
          "2018-01-23T00:00:00",
          "2018-01-23T01:00:00",
          "2018-01-23T02:00:00",
          "2018-01-23T03:00:00",
          "2018-01-23T04:00:00",
          "2018-01-23T05:00:00",
          "2018-01-23T06:00:00",
          "2018-01-23T07:00:00",
          "2018-01-23T08:00:00",
          "2018-01-23T09:00:00",
          "2018-01-23T10:00:00",
          "2018-01-23T11:00:00",
          "2018-01-23T12:00:00",
          "2018-01-23T13:00:00",
          "2018-01-23T14:00:00",
          "2018-01-23T15:00:00",
          "2018-01-23T16:00:00",
          "2018-01-23T17:00:00",
          "2018-01-23T18:00:00",
          "2018-01-23T19:00:00",
          "2018-01-23T20:00:00",
          "2018-01-23T21:00:00",
          "2018-01-23T22:00:00",
          "2018-01-23T23:00:00",
          "2018-01-24T00:00:00",
          "2018-01-24T01:00:00",
          "2018-01-24T02:00:00",
          "2018-01-24T03:00:00",
          "2018-01-24T04:00:00",
          "2018-01-24T05:00:00",
          "2018-01-24T06:00:00",
          "2018-01-24T07:00:00",
          "2018-01-24T08:00:00",
          "2018-01-24T09:00:00",
          "2018-01-24T10:00:00",
          "2018-01-24T11:00:00",
          "2018-01-24T12:00:00",
          "2018-01-24T13:00:00",
          "2018-01-24T14:00:00",
          "2018-01-24T15:00:00",
          "2018-01-24T16:00:00",
          "2018-01-24T17:00:00",
          "2018-01-24T18:00:00",
          "2018-01-24T19:00:00",
          "2018-01-24T20:00:00",
          "2018-01-24T21:00:00",
          "2018-01-24T22:00:00",
          "2018-01-24T23:00:00",
          "2018-01-25T00:00:00",
          "2018-01-25T01:00:00",
          "2018-01-25T02:00:00",
          "2018-01-25T03:00:00",
          "2018-01-25T04:00:00",
          "2018-01-25T05:00:00",
          "2018-01-25T06:00:00",
          "2018-01-25T07:00:00",
          "2018-01-25T08:00:00",
          "2018-01-25T09:00:00",
          "2018-01-25T10:00:00",
          "2018-01-25T11:00:00",
          "2018-01-25T12:00:00",
          "2018-01-25T13:00:00",
          "2018-01-25T14:00:00",
          "2018-01-25T15:00:00",
          "2018-01-25T16:00:00",
          "2018-01-25T17:00:00",
          "2018-01-25T18:00:00",
          "2018-01-25T19:00:00",
          "2018-01-25T20:00:00",
          "2018-01-25T21:00:00",
          "2018-01-25T22:00:00",
          "2018-01-25T23:00:00"
         ],
         "y": [
          216.12403832592966,
          207.41068565930502,
          207.09621187805328,
          107.45981625081005,
          206.6246122289296,
          214.62959742781578,
          229.21270149218526,
          228.80664723679587,
          228.39933285572482,
          227.99210684292882,
          227.58496919840775,
          227.17791992216166,
          226.77095901419077,
          226.3555852886669,
          225.93295609033785,
          225.5104222802633,
          225.08798385844298,
          224.66564082487704,
          217.1164794623228,
          201.21448478124492,
          200.8825898753049,
          108.9588837377697,
          104.24177090554437,
          104.15843002560204,
          0,
          0,
          0,
          0,
          0,
          0,
          104.07509745166146,
          199.87935033139433,
          199.547722810989,
          199.21616173859803,
          198.8846671142213,
          107.90952899360296,
          107.81831311724905,
          103.15100300286973,
          103.06777089768934,
          102.98454709851082,
          102.90133160533408,
          102.81812441815906,
          102.726249559936,
          102.63392977899359,
          102.54162022737916,
          0,
          0,
          0,
          0,
          0,
          0,
          0,
          0,
          0,
          0,
          106.99346387329328,
          106.8923434490018,
          106.79123477325571,
          106.69013784605526,
          102.06252762450961,
          101.97028141132357,
          101.87804542746531,
          101.78545478249963,
          101.68801089117056,
          106.0956068592291,
          194.89714243379967,
          194.50942837964237,
          105.58155147361106,
          100.9968846087778,
          100.89953319104454,
          0,
          0
         ]
        },
        {
         "marker": {
          "color": "rgb(67,147,195)"
         },
         "name": "P2",
         "type": "bar",
         "x": [
          "2018-01-23T00:00:00",
          "2018-01-23T01:00:00",
          "2018-01-23T02:00:00",
          "2018-01-23T03:00:00",
          "2018-01-23T04:00:00",
          "2018-01-23T05:00:00",
          "2018-01-23T06:00:00",
          "2018-01-23T07:00:00",
          "2018-01-23T08:00:00",
          "2018-01-23T09:00:00",
          "2018-01-23T10:00:00",
          "2018-01-23T11:00:00",
          "2018-01-23T12:00:00",
          "2018-01-23T13:00:00",
          "2018-01-23T14:00:00",
          "2018-01-23T15:00:00",
          "2018-01-23T16:00:00",
          "2018-01-23T17:00:00",
          "2018-01-23T18:00:00",
          "2018-01-23T19:00:00",
          "2018-01-23T20:00:00",
          "2018-01-23T21:00:00",
          "2018-01-23T22:00:00",
          "2018-01-23T23:00:00",
          "2018-01-24T00:00:00",
          "2018-01-24T01:00:00",
          "2018-01-24T02:00:00",
          "2018-01-24T03:00:00",
          "2018-01-24T04:00:00",
          "2018-01-24T05:00:00",
          "2018-01-24T06:00:00",
          "2018-01-24T07:00:00",
          "2018-01-24T08:00:00",
          "2018-01-24T09:00:00",
          "2018-01-24T10:00:00",
          "2018-01-24T11:00:00",
          "2018-01-24T12:00:00",
          "2018-01-24T13:00:00",
          "2018-01-24T14:00:00",
          "2018-01-24T15:00:00",
          "2018-01-24T16:00:00",
          "2018-01-24T17:00:00",
          "2018-01-24T18:00:00",
          "2018-01-24T19:00:00",
          "2018-01-24T20:00:00",
          "2018-01-24T21:00:00",
          "2018-01-24T22:00:00",
          "2018-01-24T23:00:00",
          "2018-01-25T00:00:00",
          "2018-01-25T01:00:00",
          "2018-01-25T02:00:00",
          "2018-01-25T03:00:00",
          "2018-01-25T04:00:00",
          "2018-01-25T05:00:00",
          "2018-01-25T06:00:00",
          "2018-01-25T07:00:00",
          "2018-01-25T08:00:00",
          "2018-01-25T09:00:00",
          "2018-01-25T10:00:00",
          "2018-01-25T11:00:00",
          "2018-01-25T12:00:00",
          "2018-01-25T13:00:00",
          "2018-01-25T14:00:00",
          "2018-01-25T15:00:00",
          "2018-01-25T16:00:00",
          "2018-01-25T17:00:00",
          "2018-01-25T18:00:00",
          "2018-01-25T19:00:00",
          "2018-01-25T20:00:00",
          "2018-01-25T21:00:00",
          "2018-01-25T22:00:00",
          "2018-01-25T23:00:00"
         ],
         "y": [
          218.23953105526158,
          218.02729015331596,
          198.19526654459293,
          176.95786241490438,
          197.9326330452678,
          223.40956260837075,
          289.9979673262227,
          339.4054747131907,
          338.749551787511,
          289.9973568858975,
          289.99717716680993,
          289.99697471381944,
          289.99878086509324,
          289.9986602437279,
          289.9985178810369,
          289.99835153519206,
          289.99815964205715,
          289.99849848905797,
          289.9982678008021,
          227.2169430304254,
          219.03950591879027,
          210.1047669995727,
          209.72197832431513,
          209.3336805237239,
          192.0964160829114,
          190.8459829818471,
          170.6566477900225,
          170.38835139278194,
          188.16806535752784,
          190.6050778973064,
          206.3097175278881,
          222.04597509532138,
          221.61593439662474,
          221.18535505567058,
          213.00372091558503,
          212.63162534585175,
          212.14053182935908,
          211.6488063733593,
          211.1191087546128,
          210.57336138795984,
          210.02679673269316,
          209.4794074299952,
          208.93118583046527,
          208.36176814512976,
          199.836737524959,
          199.32209451564526,
          198.669810207309,
          180.4812496921108,
          182.04022590608747,
          179.27950937944428,
          162.64799230555303,
          162.28844718120928,
          161.9173206927763,
          179.0552579722111,
          192.52591694157945,
          206.05412183188184,
          205.04768961118396,
          203.99709096303945,
          202.94649231489458,
          201.8958936667497,
          200.77115671210805,
          199.61155013383842,
          198.4519435555692,
          197.29233697729958,
          246.49003995470122,
          244.34856383728072,
          242.46612316403653,
          240.49013428202855,
          238.15720426308712,
          235.7055030934458,
          230.45457849047273,
          183.5493887872987
         ]
        },
        {
         "line": {
          "color": "black"
         },
         "name": "Price",
         "type": "scatter",
         "x": [
          "2018-01-23T00:00:00",
          "2018-01-23T01:00:00",
          "2018-01-23T02:00:00",
          "2018-01-23T03:00:00",
          "2018-01-23T04:00:00",
          "2018-01-23T05:00:00",
          "2018-01-23T06:00:00",
          "2018-01-23T07:00:00",
          "2018-01-23T08:00:00",
          "2018-01-23T09:00:00",
          "2018-01-23T10:00:00",
          "2018-01-23T11:00:00",
          "2018-01-23T12:00:00",
          "2018-01-23T13:00:00",
          "2018-01-23T14:00:00",
          "2018-01-23T15:00:00",
          "2018-01-23T16:00:00",
          "2018-01-23T17:00:00",
          "2018-01-23T18:00:00",
          "2018-01-23T19:00:00",
          "2018-01-23T20:00:00",
          "2018-01-23T21:00:00",
          "2018-01-23T22:00:00",
          "2018-01-23T23:00:00",
          "2018-01-24T00:00:00",
          "2018-01-24T01:00:00",
          "2018-01-24T02:00:00",
          "2018-01-24T03:00:00",
          "2018-01-24T04:00:00",
          "2018-01-24T05:00:00",
          "2018-01-24T06:00:00",
          "2018-01-24T07:00:00",
          "2018-01-24T08:00:00",
          "2018-01-24T09:00:00",
          "2018-01-24T10:00:00",
          "2018-01-24T11:00:00",
          "2018-01-24T12:00:00",
          "2018-01-24T13:00:00",
          "2018-01-24T14:00:00",
          "2018-01-24T15:00:00",
          "2018-01-24T16:00:00",
          "2018-01-24T17:00:00",
          "2018-01-24T18:00:00",
          "2018-01-24T19:00:00",
          "2018-01-24T20:00:00",
          "2018-01-24T21:00:00",
          "2018-01-24T22:00:00",
          "2018-01-24T23:00:00",
          "2018-01-25T00:00:00",
          "2018-01-25T01:00:00",
          "2018-01-25T02:00:00",
          "2018-01-25T03:00:00",
          "2018-01-25T04:00:00",
          "2018-01-25T05:00:00",
          "2018-01-25T06:00:00",
          "2018-01-25T07:00:00",
          "2018-01-25T08:00:00",
          "2018-01-25T09:00:00",
          "2018-01-25T10:00:00",
          "2018-01-25T11:00:00",
          "2018-01-25T12:00:00",
          "2018-01-25T13:00:00",
          "2018-01-25T14:00:00",
          "2018-01-25T15:00:00",
          "2018-01-25T16:00:00",
          "2018-01-25T17:00:00",
          "2018-01-25T18:00:00",
          "2018-01-25T19:00:00",
          "2018-01-25T20:00:00",
          "2018-01-25T21:00:00",
          "2018-01-25T22:00:00",
          "2018-01-25T23:00:00"
         ],
         "xaxis": "x",
         "y": [
          32.992,
          31.122,
          29.312,
          28.072,
          30.012,
          33.362,
          42.682,
          74.822,
          77.732,
          62.332,
          55.892,
          46.962,
          42.582,
          40.942,
          39.212,
          39.142,
          41.672,
          46.922,
          37.102,
          32.992,
          31.272,
          29.752,
          28.782,
          28.082,
          27.242,
          26.622,
          25.732,
          25.392,
          25.992,
          27.402,
          28.942,
          32.182,
          33.082,
          32.342,
          30.912,
          30.162,
          30.062,
          29.562,
          29.462,
          29.512,
          29.672,
          30.072,
          29.552,
          28.862,
          28.412,
          28.072,
          27.162,
          25.502,
          26.192,
          25.222,
          24.052,
          23.892,
          23.682,
          26.092,
          28.202,
          30.902,
          31.572,
          31.462,
          31.172,
          30.912,
          30.572,
          30.602,
          30.632,
          31.062,
          32.082,
          36.262,
          34.472,
          32.182,
          31.492,
          30.732,
          29.712,
          28.982
         ],
         "yaxis": "y2"
        }
       ],
       "layout": {
        "autosize": true,
        "barmode": "stack",
        "template": {
         "data": {
          "bar": [
           {
            "error_x": {
             "color": "#2a3f5f"
            },
            "error_y": {
             "color": "#2a3f5f"
            },
            "marker": {
             "line": {
              "color": "#E5ECF6",
              "width": 0.5
             }
            },
            "type": "bar"
           }
          ],
          "barpolar": [
           {
            "marker": {
             "line": {
              "color": "#E5ECF6",
              "width": 0.5
             }
            },
            "type": "barpolar"
           }
          ],
          "carpet": [
           {
            "aaxis": {
             "endlinecolor": "#2a3f5f",
             "gridcolor": "white",
             "linecolor": "white",
             "minorgridcolor": "white",
             "startlinecolor": "#2a3f5f"
            },
            "baxis": {
             "endlinecolor": "#2a3f5f",
             "gridcolor": "white",
             "linecolor": "white",
             "minorgridcolor": "white",
             "startlinecolor": "#2a3f5f"
            },
            "type": "carpet"
           }
          ],
          "choropleth": [
           {
            "colorbar": {
             "outlinewidth": 0,
             "ticks": ""
            },
            "type": "choropleth"
           }
          ],
          "contour": [
           {
            "colorbar": {
             "outlinewidth": 0,
             "ticks": ""
            },
            "colorscale": [
             [
              0,
              "#0d0887"
             ],
             [
              0.1111111111111111,
              "#46039f"
             ],
             [
              0.2222222222222222,
              "#7201a8"
             ],
             [
              0.3333333333333333,
              "#9c179e"
             ],
             [
              0.4444444444444444,
              "#bd3786"
             ],
             [
              0.5555555555555556,
              "#d8576b"
             ],
             [
              0.6666666666666666,
              "#ed7953"
             ],
             [
              0.7777777777777778,
              "#fb9f3a"
             ],
             [
              0.8888888888888888,
              "#fdca26"
             ],
             [
              1,
              "#f0f921"
             ]
            ],
            "type": "contour"
           }
          ],
          "contourcarpet": [
           {
            "colorbar": {
             "outlinewidth": 0,
             "ticks": ""
            },
            "type": "contourcarpet"
           }
          ],
          "heatmap": [
           {
            "colorbar": {
             "outlinewidth": 0,
             "ticks": ""
            },
            "colorscale": [
             [
              0,
              "#0d0887"
             ],
             [
              0.1111111111111111,
              "#46039f"
             ],
             [
              0.2222222222222222,
              "#7201a8"
             ],
             [
              0.3333333333333333,
              "#9c179e"
             ],
             [
              0.4444444444444444,
              "#bd3786"
             ],
             [
              0.5555555555555556,
              "#d8576b"
             ],
             [
              0.6666666666666666,
              "#ed7953"
             ],
             [
              0.7777777777777778,
              "#fb9f3a"
             ],
             [
              0.8888888888888888,
              "#fdca26"
             ],
             [
              1,
              "#f0f921"
             ]
            ],
            "type": "heatmap"
           }
          ],
          "heatmapgl": [
           {
            "colorbar": {
             "outlinewidth": 0,
             "ticks": ""
            },
            "colorscale": [
             [
              0,
              "#0d0887"
             ],
             [
              0.1111111111111111,
              "#46039f"
             ],
             [
              0.2222222222222222,
              "#7201a8"
             ],
             [
              0.3333333333333333,
              "#9c179e"
             ],
             [
              0.4444444444444444,
              "#bd3786"
             ],
             [
              0.5555555555555556,
              "#d8576b"
             ],
             [
              0.6666666666666666,
              "#ed7953"
             ],
             [
              0.7777777777777778,
              "#fb9f3a"
             ],
             [
              0.8888888888888888,
              "#fdca26"
             ],
             [
              1,
              "#f0f921"
             ]
            ],
            "type": "heatmapgl"
           }
          ],
          "histogram": [
           {
            "marker": {
             "colorbar": {
              "outlinewidth": 0,
              "ticks": ""
             }
            },
            "type": "histogram"
           }
          ],
          "histogram2d": [
           {
            "colorbar": {
             "outlinewidth": 0,
             "ticks": ""
            },
            "colorscale": [
             [
              0,
              "#0d0887"
             ],
             [
              0.1111111111111111,
              "#46039f"
             ],
             [
              0.2222222222222222,
              "#7201a8"
             ],
             [
              0.3333333333333333,
              "#9c179e"
             ],
             [
              0.4444444444444444,
              "#bd3786"
             ],
             [
              0.5555555555555556,
              "#d8576b"
             ],
             [
              0.6666666666666666,
              "#ed7953"
             ],
             [
              0.7777777777777778,
              "#fb9f3a"
             ],
             [
              0.8888888888888888,
              "#fdca26"
             ],
             [
              1,
              "#f0f921"
             ]
            ],
            "type": "histogram2d"
           }
          ],
          "histogram2dcontour": [
           {
            "colorbar": {
             "outlinewidth": 0,
             "ticks": ""
            },
            "colorscale": [
             [
              0,
              "#0d0887"
             ],
             [
              0.1111111111111111,
              "#46039f"
             ],
             [
              0.2222222222222222,
              "#7201a8"
             ],
             [
              0.3333333333333333,
              "#9c179e"
             ],
             [
              0.4444444444444444,
              "#bd3786"
             ],
             [
              0.5555555555555556,
              "#d8576b"
             ],
             [
              0.6666666666666666,
              "#ed7953"
             ],
             [
              0.7777777777777778,
              "#fb9f3a"
             ],
             [
              0.8888888888888888,
              "#fdca26"
             ],
             [
              1,
              "#f0f921"
             ]
            ],
            "type": "histogram2dcontour"
           }
          ],
          "mesh3d": [
           {
            "colorbar": {
             "outlinewidth": 0,
             "ticks": ""
            },
            "type": "mesh3d"
           }
          ],
          "parcoords": [
           {
            "line": {
             "colorbar": {
              "outlinewidth": 0,
              "ticks": ""
             }
            },
            "type": "parcoords"
           }
          ],
          "pie": [
           {
            "automargin": true,
            "type": "pie"
           }
          ],
          "scatter": [
           {
            "marker": {
             "colorbar": {
              "outlinewidth": 0,
              "ticks": ""
             }
            },
            "type": "scatter"
           }
          ],
          "scatter3d": [
           {
            "line": {
             "colorbar": {
              "outlinewidth": 0,
              "ticks": ""
             }
            },
            "marker": {
             "colorbar": {
              "outlinewidth": 0,
              "ticks": ""
             }
            },
            "type": "scatter3d"
           }
          ],
          "scattercarpet": [
           {
            "marker": {
             "colorbar": {
              "outlinewidth": 0,
              "ticks": ""
             }
            },
            "type": "scattercarpet"
           }
          ],
          "scattergeo": [
           {
            "marker": {
             "colorbar": {
              "outlinewidth": 0,
              "ticks": ""
             }
            },
            "type": "scattergeo"
           }
          ],
          "scattergl": [
           {
            "marker": {
             "colorbar": {
              "outlinewidth": 0,
              "ticks": ""
             }
            },
            "type": "scattergl"
           }
          ],
          "scattermapbox": [
           {
            "marker": {
             "colorbar": {
              "outlinewidth": 0,
              "ticks": ""
             }
            },
            "type": "scattermapbox"
           }
          ],
          "scatterpolar": [
           {
            "marker": {
             "colorbar": {
              "outlinewidth": 0,
              "ticks": ""
             }
            },
            "type": "scatterpolar"
           }
          ],
          "scatterpolargl": [
           {
            "marker": {
             "colorbar": {
              "outlinewidth": 0,
              "ticks": ""
             }
            },
            "type": "scatterpolargl"
           }
          ],
          "scatterternary": [
           {
            "marker": {
             "colorbar": {
              "outlinewidth": 0,
              "ticks": ""
             }
            },
            "type": "scatterternary"
           }
          ],
          "surface": [
           {
            "colorbar": {
             "outlinewidth": 0,
             "ticks": ""
            },
            "colorscale": [
             [
              0,
              "#0d0887"
             ],
             [
              0.1111111111111111,
              "#46039f"
             ],
             [
              0.2222222222222222,
              "#7201a8"
             ],
             [
              0.3333333333333333,
              "#9c179e"
             ],
             [
              0.4444444444444444,
              "#bd3786"
             ],
             [
              0.5555555555555556,
              "#d8576b"
             ],
             [
              0.6666666666666666,
              "#ed7953"
             ],
             [
              0.7777777777777778,
              "#fb9f3a"
             ],
             [
              0.8888888888888888,
              "#fdca26"
             ],
             [
              1,
              "#f0f921"
             ]
            ],
            "type": "surface"
           }
          ],
          "table": [
           {
            "cells": {
             "fill": {
              "color": "#EBF0F8"
             },
             "line": {
              "color": "white"
             }
            },
            "header": {
             "fill": {
              "color": "#C8D4E3"
             },
             "line": {
              "color": "white"
             }
            },
            "type": "table"
           }
          ]
         },
         "layout": {
          "annotationdefaults": {
           "arrowcolor": "#2a3f5f",
           "arrowhead": 0,
           "arrowwidth": 1
          },
          "autotypenumbers": "strict",
          "coloraxis": {
           "colorbar": {
            "outlinewidth": 0,
            "ticks": ""
           }
          },
          "colorscale": {
           "diverging": [
            [
             0,
             "#8e0152"
            ],
            [
             0.1,
             "#c51b7d"
            ],
            [
             0.2,
             "#de77ae"
            ],
            [
             0.3,
             "#f1b6da"
            ],
            [
             0.4,
             "#fde0ef"
            ],
            [
             0.5,
             "#f7f7f7"
            ],
            [
             0.6,
             "#e6f5d0"
            ],
            [
             0.7,
             "#b8e186"
            ],
            [
             0.8,
             "#7fbc41"
            ],
            [
             0.9,
             "#4d9221"
            ],
            [
             1,
             "#276419"
            ]
           ],
           "sequential": [
            [
             0,
             "#0d0887"
            ],
            [
             0.1111111111111111,
             "#46039f"
            ],
            [
             0.2222222222222222,
             "#7201a8"
            ],
            [
             0.3333333333333333,
             "#9c179e"
            ],
            [
             0.4444444444444444,
             "#bd3786"
            ],
            [
             0.5555555555555556,
             "#d8576b"
            ],
            [
             0.6666666666666666,
             "#ed7953"
            ],
            [
             0.7777777777777778,
             "#fb9f3a"
            ],
            [
             0.8888888888888888,
             "#fdca26"
            ],
            [
             1,
             "#f0f921"
            ]
           ],
           "sequentialminus": [
            [
             0,
             "#0d0887"
            ],
            [
             0.1111111111111111,
             "#46039f"
            ],
            [
             0.2222222222222222,
             "#7201a8"
            ],
            [
             0.3333333333333333,
             "#9c179e"
            ],
            [
             0.4444444444444444,
             "#bd3786"
            ],
            [
             0.5555555555555556,
             "#d8576b"
            ],
            [
             0.6666666666666666,
             "#ed7953"
            ],
            [
             0.7777777777777778,
             "#fb9f3a"
            ],
            [
             0.8888888888888888,
             "#fdca26"
            ],
            [
             1,
             "#f0f921"
            ]
           ]
          },
          "colorway": [
           "#636efa",
           "#EF553B",
           "#00cc96",
           "#ab63fa",
           "#FFA15A",
           "#19d3f3",
           "#FF6692",
           "#B6E880",
           "#FF97FF",
           "#FECB52"
          ],
          "font": {
           "color": "#2a3f5f"
          },
          "geo": {
           "bgcolor": "white",
           "lakecolor": "white",
           "landcolor": "#E5ECF6",
           "showlakes": true,
           "showland": true,
           "subunitcolor": "white"
          },
          "hoverlabel": {
           "align": "left"
          },
          "hovermode": "closest",
          "mapbox": {
           "style": "light"
          },
          "paper_bgcolor": "white",
          "plot_bgcolor": "#E5ECF6",
          "polar": {
           "angularaxis": {
            "gridcolor": "white",
            "linecolor": "white",
            "ticks": ""
           },
           "bgcolor": "#E5ECF6",
           "radialaxis": {
            "gridcolor": "white",
            "linecolor": "white",
            "ticks": ""
           }
          },
          "scene": {
           "xaxis": {
            "backgroundcolor": "#E5ECF6",
            "gridcolor": "white",
            "gridwidth": 2,
            "linecolor": "white",
            "showbackground": true,
            "ticks": "",
            "zerolinecolor": "white"
           },
           "yaxis": {
            "backgroundcolor": "#E5ECF6",
            "gridcolor": "white",
            "gridwidth": 2,
            "linecolor": "white",
            "showbackground": true,
            "ticks": "",
            "zerolinecolor": "white"
           },
           "zaxis": {
            "backgroundcolor": "#E5ECF6",
            "gridcolor": "white",
            "gridwidth": 2,
            "linecolor": "white",
            "showbackground": true,
            "ticks": "",
            "zerolinecolor": "white"
           }
          },
          "shapedefaults": {
           "line": {
            "color": "#2a3f5f"
           }
          },
          "ternary": {
           "aaxis": {
            "gridcolor": "white",
            "linecolor": "white",
            "ticks": ""
           },
           "baxis": {
            "gridcolor": "white",
            "linecolor": "white",
            "ticks": ""
           },
           "bgcolor": "#E5ECF6",
           "caxis": {
            "gridcolor": "white",
            "linecolor": "white",
            "ticks": ""
           }
          },
          "title": {
           "x": 0.05
          },
          "xaxis": {
           "automargin": true,
           "gridcolor": "white",
           "linecolor": "white",
           "ticks": "",
           "title": {
            "standoff": 15
           },
           "zerolinecolor": "white",
           "zerolinewidth": 2
          },
          "yaxis": {
           "automargin": true,
           "gridcolor": "white",
           "linecolor": "white",
           "ticks": "",
           "title": {
            "standoff": 15
           },
           "zerolinecolor": "white",
           "zerolinewidth": 2
          }
         }
        },
        "title": {
         "text": "Price vs. production"
        },
        "xaxis": {
         "anchor": "y",
         "autorange": true,
         "domain": [
          0,
          0.94
         ],
         "range": [
          "2018-01-22 23:30",
          "2018-01-25 23:30"
         ],
         "title": {
          "text": "<b>Time</b> [Hours]"
         },
         "type": "date"
        },
        "yaxis": {
         "anchor": "x",
         "autorange": true,
         "domain": [
          0,
          1
         ],
         "range": [
          0,
          598.118023105249
         ],
         "title": {
          "text": "<b>Production</b> [MWh]"
         },
         "type": "linear"
        },
        "yaxis2": {
         "anchor": "x",
         "autorange": true,
         "overlaying": "y",
         "range": [
          20.679222222222222,
          80.73477777777778
         ],
         "side": "right",
         "title": {
          "text": "<b>Price</b> [EUR/MWh]"
         },
         "type": "linear"
        }
       }
      },
      "text/html": [
       "<div>                            <div id=\"9a8d201f-d47d-47f0-b517-0d396d5d41c7\" class=\"plotly-graph-div\" style=\"height:525px; width:100%;\"></div>            <script type=\"text/javascript\">                require([\"plotly\"], function(Plotly) {                    window.PLOTLYENV=window.PLOTLYENV || {};                                    if (document.getElementById(\"9a8d201f-d47d-47f0-b517-0d396d5d41c7\")) {                    Plotly.newPlot(                        \"9a8d201f-d47d-47f0-b517-0d396d5d41c7\",                        [{\"marker\": {\"color\": \"rgb(33,102,172)\"}, \"name\": \"P1\", \"type\": \"bar\", \"x\": [\"2018-01-23T00:00:00\", \"2018-01-23T01:00:00\", \"2018-01-23T02:00:00\", \"2018-01-23T03:00:00\", \"2018-01-23T04:00:00\", \"2018-01-23T05:00:00\", \"2018-01-23T06:00:00\", \"2018-01-23T07:00:00\", \"2018-01-23T08:00:00\", \"2018-01-23T09:00:00\", \"2018-01-23T10:00:00\", \"2018-01-23T11:00:00\", \"2018-01-23T12:00:00\", \"2018-01-23T13:00:00\", \"2018-01-23T14:00:00\", \"2018-01-23T15:00:00\", \"2018-01-23T16:00:00\", \"2018-01-23T17:00:00\", \"2018-01-23T18:00:00\", \"2018-01-23T19:00:00\", \"2018-01-23T20:00:00\", \"2018-01-23T21:00:00\", \"2018-01-23T22:00:00\", \"2018-01-23T23:00:00\", \"2018-01-24T00:00:00\", \"2018-01-24T01:00:00\", \"2018-01-24T02:00:00\", \"2018-01-24T03:00:00\", \"2018-01-24T04:00:00\", \"2018-01-24T05:00:00\", \"2018-01-24T06:00:00\", \"2018-01-24T07:00:00\", \"2018-01-24T08:00:00\", \"2018-01-24T09:00:00\", \"2018-01-24T10:00:00\", \"2018-01-24T11:00:00\", \"2018-01-24T12:00:00\", \"2018-01-24T13:00:00\", \"2018-01-24T14:00:00\", \"2018-01-24T15:00:00\", \"2018-01-24T16:00:00\", \"2018-01-24T17:00:00\", \"2018-01-24T18:00:00\", \"2018-01-24T19:00:00\", \"2018-01-24T20:00:00\", \"2018-01-24T21:00:00\", \"2018-01-24T22:00:00\", \"2018-01-24T23:00:00\", \"2018-01-25T00:00:00\", \"2018-01-25T01:00:00\", \"2018-01-25T02:00:00\", \"2018-01-25T03:00:00\", \"2018-01-25T04:00:00\", \"2018-01-25T05:00:00\", \"2018-01-25T06:00:00\", \"2018-01-25T07:00:00\", \"2018-01-25T08:00:00\", \"2018-01-25T09:00:00\", \"2018-01-25T10:00:00\", \"2018-01-25T11:00:00\", \"2018-01-25T12:00:00\", \"2018-01-25T13:00:00\", \"2018-01-25T14:00:00\", \"2018-01-25T15:00:00\", \"2018-01-25T16:00:00\", \"2018-01-25T17:00:00\", \"2018-01-25T18:00:00\", \"2018-01-25T19:00:00\", \"2018-01-25T20:00:00\", \"2018-01-25T21:00:00\", \"2018-01-25T22:00:00\", \"2018-01-25T23:00:00\"], \"y\": [216.12403832592966, 207.41068565930502, 207.09621187805328, 107.45981625081005, 206.6246122289296, 214.62959742781578, 229.21270149218526, 228.80664723679587, 228.39933285572482, 227.99210684292882, 227.58496919840775, 227.17791992216166, 226.77095901419077, 226.3555852886669, 225.93295609033785, 225.5104222802633, 225.08798385844298, 224.66564082487704, 217.1164794623228, 201.21448478124492, 200.8825898753049, 108.9588837377697, 104.24177090554437, 104.15843002560204, 0.0, 0.0, 0.0, 0.0, 0.0, 0.0, 104.07509745166146, 199.87935033139433, 199.547722810989, 199.21616173859803, 198.8846671142213, 107.90952899360296, 107.81831311724905, 103.15100300286973, 103.06777089768934, 102.98454709851082, 102.90133160533408, 102.81812441815906, 102.726249559936, 102.63392977899359, 102.54162022737916, 0.0, 0.0, 0.0, 0.0, 0.0, 0.0, 0.0, 0.0, 0.0, 0.0, 106.99346387329328, 106.8923434490018, 106.79123477325571, 106.69013784605526, 102.06252762450961, 101.97028141132357, 101.87804542746531, 101.78545478249963, 101.68801089117056, 106.0956068592291, 194.89714243379967, 194.50942837964237, 105.58155147361106, 100.9968846087778, 100.89953319104454, 0.0, 0.0]}, {\"marker\": {\"color\": \"rgb(67,147,195)\"}, \"name\": \"P2\", \"type\": \"bar\", \"x\": [\"2018-01-23T00:00:00\", \"2018-01-23T01:00:00\", \"2018-01-23T02:00:00\", \"2018-01-23T03:00:00\", \"2018-01-23T04:00:00\", \"2018-01-23T05:00:00\", \"2018-01-23T06:00:00\", \"2018-01-23T07:00:00\", \"2018-01-23T08:00:00\", \"2018-01-23T09:00:00\", \"2018-01-23T10:00:00\", \"2018-01-23T11:00:00\", \"2018-01-23T12:00:00\", \"2018-01-23T13:00:00\", \"2018-01-23T14:00:00\", \"2018-01-23T15:00:00\", \"2018-01-23T16:00:00\", \"2018-01-23T17:00:00\", \"2018-01-23T18:00:00\", \"2018-01-23T19:00:00\", \"2018-01-23T20:00:00\", \"2018-01-23T21:00:00\", \"2018-01-23T22:00:00\", \"2018-01-23T23:00:00\", \"2018-01-24T00:00:00\", \"2018-01-24T01:00:00\", \"2018-01-24T02:00:00\", \"2018-01-24T03:00:00\", \"2018-01-24T04:00:00\", \"2018-01-24T05:00:00\", \"2018-01-24T06:00:00\", \"2018-01-24T07:00:00\", \"2018-01-24T08:00:00\", \"2018-01-24T09:00:00\", \"2018-01-24T10:00:00\", \"2018-01-24T11:00:00\", \"2018-01-24T12:00:00\", \"2018-01-24T13:00:00\", \"2018-01-24T14:00:00\", \"2018-01-24T15:00:00\", \"2018-01-24T16:00:00\", \"2018-01-24T17:00:00\", \"2018-01-24T18:00:00\", \"2018-01-24T19:00:00\", \"2018-01-24T20:00:00\", \"2018-01-24T21:00:00\", \"2018-01-24T22:00:00\", \"2018-01-24T23:00:00\", \"2018-01-25T00:00:00\", \"2018-01-25T01:00:00\", \"2018-01-25T02:00:00\", \"2018-01-25T03:00:00\", \"2018-01-25T04:00:00\", \"2018-01-25T05:00:00\", \"2018-01-25T06:00:00\", \"2018-01-25T07:00:00\", \"2018-01-25T08:00:00\", \"2018-01-25T09:00:00\", \"2018-01-25T10:00:00\", \"2018-01-25T11:00:00\", \"2018-01-25T12:00:00\", \"2018-01-25T13:00:00\", \"2018-01-25T14:00:00\", \"2018-01-25T15:00:00\", \"2018-01-25T16:00:00\", \"2018-01-25T17:00:00\", \"2018-01-25T18:00:00\", \"2018-01-25T19:00:00\", \"2018-01-25T20:00:00\", \"2018-01-25T21:00:00\", \"2018-01-25T22:00:00\", \"2018-01-25T23:00:00\"], \"y\": [218.23953105526158, 218.02729015331596, 198.19526654459293, 176.95786241490438, 197.9326330452678, 223.40956260837075, 289.9979673262227, 339.4054747131907, 338.749551787511, 289.9973568858975, 289.99717716680993, 289.99697471381944, 289.99878086509324, 289.9986602437279, 289.9985178810369, 289.99835153519206, 289.99815964205715, 289.99849848905797, 289.9982678008021, 227.2169430304254, 219.03950591879027, 210.1047669995727, 209.72197832431513, 209.3336805237239, 192.0964160829114, 190.8459829818471, 170.6566477900225, 170.38835139278194, 188.16806535752784, 190.6050778973064, 206.3097175278881, 222.04597509532138, 221.61593439662474, 221.18535505567058, 213.00372091558503, 212.63162534585175, 212.14053182935908, 211.6488063733593, 211.1191087546128, 210.57336138795984, 210.02679673269316, 209.4794074299952, 208.93118583046527, 208.36176814512976, 199.836737524959, 199.32209451564526, 198.669810207309, 180.4812496921108, 182.04022590608747, 179.27950937944428, 162.64799230555303, 162.28844718120928, 161.9173206927763, 179.0552579722111, 192.52591694157945, 206.05412183188184, 205.04768961118396, 203.99709096303945, 202.94649231489458, 201.8958936667497, 200.77115671210805, 199.61155013383842, 198.4519435555692, 197.29233697729958, 246.49003995470122, 244.34856383728072, 242.46612316403653, 240.49013428202855, 238.15720426308712, 235.7055030934458, 230.45457849047273, 183.5493887872987]}, {\"line\": {\"color\": \"black\"}, \"name\": \"Price\", \"type\": \"scatter\", \"x\": [\"2018-01-23T00:00:00\", \"2018-01-23T01:00:00\", \"2018-01-23T02:00:00\", \"2018-01-23T03:00:00\", \"2018-01-23T04:00:00\", \"2018-01-23T05:00:00\", \"2018-01-23T06:00:00\", \"2018-01-23T07:00:00\", \"2018-01-23T08:00:00\", \"2018-01-23T09:00:00\", \"2018-01-23T10:00:00\", \"2018-01-23T11:00:00\", \"2018-01-23T12:00:00\", \"2018-01-23T13:00:00\", \"2018-01-23T14:00:00\", \"2018-01-23T15:00:00\", \"2018-01-23T16:00:00\", \"2018-01-23T17:00:00\", \"2018-01-23T18:00:00\", \"2018-01-23T19:00:00\", \"2018-01-23T20:00:00\", \"2018-01-23T21:00:00\", \"2018-01-23T22:00:00\", \"2018-01-23T23:00:00\", \"2018-01-24T00:00:00\", \"2018-01-24T01:00:00\", \"2018-01-24T02:00:00\", \"2018-01-24T03:00:00\", \"2018-01-24T04:00:00\", \"2018-01-24T05:00:00\", \"2018-01-24T06:00:00\", \"2018-01-24T07:00:00\", \"2018-01-24T08:00:00\", \"2018-01-24T09:00:00\", \"2018-01-24T10:00:00\", \"2018-01-24T11:00:00\", \"2018-01-24T12:00:00\", \"2018-01-24T13:00:00\", \"2018-01-24T14:00:00\", \"2018-01-24T15:00:00\", \"2018-01-24T16:00:00\", \"2018-01-24T17:00:00\", \"2018-01-24T18:00:00\", \"2018-01-24T19:00:00\", \"2018-01-24T20:00:00\", \"2018-01-24T21:00:00\", \"2018-01-24T22:00:00\", \"2018-01-24T23:00:00\", \"2018-01-25T00:00:00\", \"2018-01-25T01:00:00\", \"2018-01-25T02:00:00\", \"2018-01-25T03:00:00\", \"2018-01-25T04:00:00\", \"2018-01-25T05:00:00\", \"2018-01-25T06:00:00\", \"2018-01-25T07:00:00\", \"2018-01-25T08:00:00\", \"2018-01-25T09:00:00\", \"2018-01-25T10:00:00\", \"2018-01-25T11:00:00\", \"2018-01-25T12:00:00\", \"2018-01-25T13:00:00\", \"2018-01-25T14:00:00\", \"2018-01-25T15:00:00\", \"2018-01-25T16:00:00\", \"2018-01-25T17:00:00\", \"2018-01-25T18:00:00\", \"2018-01-25T19:00:00\", \"2018-01-25T20:00:00\", \"2018-01-25T21:00:00\", \"2018-01-25T22:00:00\", \"2018-01-25T23:00:00\"], \"xaxis\": \"x\", \"y\": [32.992, 31.122, 29.312, 28.072, 30.012, 33.362, 42.682, 74.822, 77.732, 62.332, 55.892, 46.962, 42.582, 40.942, 39.212, 39.142, 41.672, 46.922, 37.102, 32.992, 31.272, 29.752, 28.782, 28.082, 27.242, 26.622, 25.732, 25.392, 25.992, 27.402, 28.942, 32.182, 33.082, 32.342, 30.912, 30.162, 30.062, 29.562, 29.462, 29.512, 29.672, 30.072, 29.552, 28.862, 28.412, 28.072, 27.162, 25.502, 26.192, 25.222, 24.052, 23.892, 23.682, 26.092, 28.202, 30.902, 31.572, 31.462, 31.172, 30.912, 30.572, 30.602, 30.632, 31.062, 32.082, 36.262, 34.472, 32.182, 31.492, 30.732, 29.712, 28.982], \"yaxis\": \"y2\"}],                        {\"barmode\": \"stack\", \"template\": {\"data\": {\"bar\": [{\"error_x\": {\"color\": \"#2a3f5f\"}, \"error_y\": {\"color\": \"#2a3f5f\"}, \"marker\": {\"line\": {\"color\": \"#E5ECF6\", \"width\": 0.5}}, \"type\": \"bar\"}], \"barpolar\": [{\"marker\": {\"line\": {\"color\": \"#E5ECF6\", \"width\": 0.5}}, \"type\": \"barpolar\"}], \"carpet\": [{\"aaxis\": {\"endlinecolor\": \"#2a3f5f\", \"gridcolor\": \"white\", \"linecolor\": \"white\", \"minorgridcolor\": \"white\", \"startlinecolor\": \"#2a3f5f\"}, \"baxis\": {\"endlinecolor\": \"#2a3f5f\", \"gridcolor\": \"white\", \"linecolor\": \"white\", \"minorgridcolor\": \"white\", \"startlinecolor\": \"#2a3f5f\"}, \"type\": \"carpet\"}], \"choropleth\": [{\"colorbar\": {\"outlinewidth\": 0, \"ticks\": \"\"}, \"type\": \"choropleth\"}], \"contour\": [{\"colorbar\": {\"outlinewidth\": 0, \"ticks\": \"\"}, \"colorscale\": [[0.0, \"#0d0887\"], [0.1111111111111111, \"#46039f\"], [0.2222222222222222, \"#7201a8\"], [0.3333333333333333, \"#9c179e\"], [0.4444444444444444, \"#bd3786\"], [0.5555555555555556, \"#d8576b\"], [0.6666666666666666, \"#ed7953\"], [0.7777777777777778, \"#fb9f3a\"], [0.8888888888888888, \"#fdca26\"], [1.0, \"#f0f921\"]], \"type\": \"contour\"}], \"contourcarpet\": [{\"colorbar\": {\"outlinewidth\": 0, \"ticks\": \"\"}, \"type\": \"contourcarpet\"}], \"heatmap\": [{\"colorbar\": {\"outlinewidth\": 0, \"ticks\": \"\"}, \"colorscale\": [[0.0, \"#0d0887\"], [0.1111111111111111, \"#46039f\"], [0.2222222222222222, \"#7201a8\"], [0.3333333333333333, \"#9c179e\"], [0.4444444444444444, \"#bd3786\"], [0.5555555555555556, \"#d8576b\"], [0.6666666666666666, \"#ed7953\"], [0.7777777777777778, \"#fb9f3a\"], [0.8888888888888888, \"#fdca26\"], [1.0, \"#f0f921\"]], \"type\": \"heatmap\"}], \"heatmapgl\": [{\"colorbar\": {\"outlinewidth\": 0, \"ticks\": \"\"}, \"colorscale\": [[0.0, \"#0d0887\"], [0.1111111111111111, \"#46039f\"], [0.2222222222222222, \"#7201a8\"], [0.3333333333333333, \"#9c179e\"], [0.4444444444444444, \"#bd3786\"], [0.5555555555555556, \"#d8576b\"], [0.6666666666666666, \"#ed7953\"], [0.7777777777777778, \"#fb9f3a\"], [0.8888888888888888, \"#fdca26\"], [1.0, \"#f0f921\"]], \"type\": \"heatmapgl\"}], \"histogram\": [{\"marker\": {\"colorbar\": {\"outlinewidth\": 0, \"ticks\": \"\"}}, \"type\": \"histogram\"}], \"histogram2d\": [{\"colorbar\": {\"outlinewidth\": 0, \"ticks\": \"\"}, \"colorscale\": [[0.0, \"#0d0887\"], [0.1111111111111111, \"#46039f\"], [0.2222222222222222, \"#7201a8\"], [0.3333333333333333, \"#9c179e\"], [0.4444444444444444, \"#bd3786\"], [0.5555555555555556, \"#d8576b\"], [0.6666666666666666, \"#ed7953\"], [0.7777777777777778, \"#fb9f3a\"], [0.8888888888888888, \"#fdca26\"], [1.0, \"#f0f921\"]], \"type\": \"histogram2d\"}], \"histogram2dcontour\": [{\"colorbar\": {\"outlinewidth\": 0, \"ticks\": \"\"}, \"colorscale\": [[0.0, \"#0d0887\"], [0.1111111111111111, \"#46039f\"], [0.2222222222222222, \"#7201a8\"], [0.3333333333333333, \"#9c179e\"], [0.4444444444444444, \"#bd3786\"], [0.5555555555555556, \"#d8576b\"], [0.6666666666666666, \"#ed7953\"], [0.7777777777777778, \"#fb9f3a\"], [0.8888888888888888, \"#fdca26\"], [1.0, \"#f0f921\"]], \"type\": \"histogram2dcontour\"}], \"mesh3d\": [{\"colorbar\": {\"outlinewidth\": 0, \"ticks\": \"\"}, \"type\": \"mesh3d\"}], \"parcoords\": [{\"line\": {\"colorbar\": {\"outlinewidth\": 0, \"ticks\": \"\"}}, \"type\": \"parcoords\"}], \"pie\": [{\"automargin\": true, \"type\": \"pie\"}], \"scatter\": [{\"marker\": {\"colorbar\": {\"outlinewidth\": 0, \"ticks\": \"\"}}, \"type\": \"scatter\"}], \"scatter3d\": [{\"line\": {\"colorbar\": {\"outlinewidth\": 0, \"ticks\": \"\"}}, \"marker\": {\"colorbar\": {\"outlinewidth\": 0, \"ticks\": \"\"}}, \"type\": \"scatter3d\"}], \"scattercarpet\": [{\"marker\": {\"colorbar\": {\"outlinewidth\": 0, \"ticks\": \"\"}}, \"type\": \"scattercarpet\"}], \"scattergeo\": [{\"marker\": {\"colorbar\": {\"outlinewidth\": 0, \"ticks\": \"\"}}, \"type\": \"scattergeo\"}], \"scattergl\": [{\"marker\": {\"colorbar\": {\"outlinewidth\": 0, \"ticks\": \"\"}}, \"type\": \"scattergl\"}], \"scattermapbox\": [{\"marker\": {\"colorbar\": {\"outlinewidth\": 0, \"ticks\": \"\"}}, \"type\": \"scattermapbox\"}], \"scatterpolar\": [{\"marker\": {\"colorbar\": {\"outlinewidth\": 0, \"ticks\": \"\"}}, \"type\": \"scatterpolar\"}], \"scatterpolargl\": [{\"marker\": {\"colorbar\": {\"outlinewidth\": 0, \"ticks\": \"\"}}, \"type\": \"scatterpolargl\"}], \"scatterternary\": [{\"marker\": {\"colorbar\": {\"outlinewidth\": 0, \"ticks\": \"\"}}, \"type\": \"scatterternary\"}], \"surface\": [{\"colorbar\": {\"outlinewidth\": 0, \"ticks\": \"\"}, \"colorscale\": [[0.0, \"#0d0887\"], [0.1111111111111111, \"#46039f\"], [0.2222222222222222, \"#7201a8\"], [0.3333333333333333, \"#9c179e\"], [0.4444444444444444, \"#bd3786\"], [0.5555555555555556, \"#d8576b\"], [0.6666666666666666, \"#ed7953\"], [0.7777777777777778, \"#fb9f3a\"], [0.8888888888888888, \"#fdca26\"], [1.0, \"#f0f921\"]], \"type\": \"surface\"}], \"table\": [{\"cells\": {\"fill\": {\"color\": \"#EBF0F8\"}, \"line\": {\"color\": \"white\"}}, \"header\": {\"fill\": {\"color\": \"#C8D4E3\"}, \"line\": {\"color\": \"white\"}}, \"type\": \"table\"}]}, \"layout\": {\"annotationdefaults\": {\"arrowcolor\": \"#2a3f5f\", \"arrowhead\": 0, \"arrowwidth\": 1}, \"autotypenumbers\": \"strict\", \"coloraxis\": {\"colorbar\": {\"outlinewidth\": 0, \"ticks\": \"\"}}, \"colorscale\": {\"diverging\": [[0, \"#8e0152\"], [0.1, \"#c51b7d\"], [0.2, \"#de77ae\"], [0.3, \"#f1b6da\"], [0.4, \"#fde0ef\"], [0.5, \"#f7f7f7\"], [0.6, \"#e6f5d0\"], [0.7, \"#b8e186\"], [0.8, \"#7fbc41\"], [0.9, \"#4d9221\"], [1, \"#276419\"]], \"sequential\": [[0.0, \"#0d0887\"], [0.1111111111111111, \"#46039f\"], [0.2222222222222222, \"#7201a8\"], [0.3333333333333333, \"#9c179e\"], [0.4444444444444444, \"#bd3786\"], [0.5555555555555556, \"#d8576b\"], [0.6666666666666666, \"#ed7953\"], [0.7777777777777778, \"#fb9f3a\"], [0.8888888888888888, \"#fdca26\"], [1.0, \"#f0f921\"]], \"sequentialminus\": [[0.0, \"#0d0887\"], [0.1111111111111111, \"#46039f\"], [0.2222222222222222, \"#7201a8\"], [0.3333333333333333, \"#9c179e\"], [0.4444444444444444, \"#bd3786\"], [0.5555555555555556, \"#d8576b\"], [0.6666666666666666, \"#ed7953\"], [0.7777777777777778, \"#fb9f3a\"], [0.8888888888888888, \"#fdca26\"], [1.0, \"#f0f921\"]]}, \"colorway\": [\"#636efa\", \"#EF553B\", \"#00cc96\", \"#ab63fa\", \"#FFA15A\", \"#19d3f3\", \"#FF6692\", \"#B6E880\", \"#FF97FF\", \"#FECB52\"], \"font\": {\"color\": \"#2a3f5f\"}, \"geo\": {\"bgcolor\": \"white\", \"lakecolor\": \"white\", \"landcolor\": \"#E5ECF6\", \"showlakes\": true, \"showland\": true, \"subunitcolor\": \"white\"}, \"hoverlabel\": {\"align\": \"left\"}, \"hovermode\": \"closest\", \"mapbox\": {\"style\": \"light\"}, \"paper_bgcolor\": \"white\", \"plot_bgcolor\": \"#E5ECF6\", \"polar\": {\"angularaxis\": {\"gridcolor\": \"white\", \"linecolor\": \"white\", \"ticks\": \"\"}, \"bgcolor\": \"#E5ECF6\", \"radialaxis\": {\"gridcolor\": \"white\", \"linecolor\": \"white\", \"ticks\": \"\"}}, \"scene\": {\"xaxis\": {\"backgroundcolor\": \"#E5ECF6\", \"gridcolor\": \"white\", \"gridwidth\": 2, \"linecolor\": \"white\", \"showbackground\": true, \"ticks\": \"\", \"zerolinecolor\": \"white\"}, \"yaxis\": {\"backgroundcolor\": \"#E5ECF6\", \"gridcolor\": \"white\", \"gridwidth\": 2, \"linecolor\": \"white\", \"showbackground\": true, \"ticks\": \"\", \"zerolinecolor\": \"white\"}, \"zaxis\": {\"backgroundcolor\": \"#E5ECF6\", \"gridcolor\": \"white\", \"gridwidth\": 2, \"linecolor\": \"white\", \"showbackground\": true, \"ticks\": \"\", \"zerolinecolor\": \"white\"}}, \"shapedefaults\": {\"line\": {\"color\": \"#2a3f5f\"}}, \"ternary\": {\"aaxis\": {\"gridcolor\": \"white\", \"linecolor\": \"white\", \"ticks\": \"\"}, \"baxis\": {\"gridcolor\": \"white\", \"linecolor\": \"white\", \"ticks\": \"\"}, \"bgcolor\": \"#E5ECF6\", \"caxis\": {\"gridcolor\": \"white\", \"linecolor\": \"white\", \"ticks\": \"\"}}, \"title\": {\"x\": 0.05}, \"xaxis\": {\"automargin\": true, \"gridcolor\": \"white\", \"linecolor\": \"white\", \"ticks\": \"\", \"title\": {\"standoff\": 15}, \"zerolinecolor\": \"white\", \"zerolinewidth\": 2}, \"yaxis\": {\"automargin\": true, \"gridcolor\": \"white\", \"linecolor\": \"white\", \"ticks\": \"\", \"title\": {\"standoff\": 15}, \"zerolinecolor\": \"white\", \"zerolinewidth\": 2}}}, \"title\": {\"text\": \"Price vs. production\"}, \"xaxis\": {\"anchor\": \"y\", \"domain\": [0.0, 0.94], \"title\": {\"text\": \"<b>Time</b> [Hours]\"}}, \"yaxis\": {\"anchor\": \"x\", \"domain\": [0.0, 1.0], \"title\": {\"text\": \"<b>Production</b> [MWh]\"}}, \"yaxis2\": {\"anchor\": \"x\", \"overlaying\": \"y\", \"side\": \"right\", \"title\": {\"text\": \"<b>Price</b> [EUR/MWh]\"}}},                        {\"responsive\": true}                    ).then(function(){\n",
       "                            \n",
       "var gd = document.getElementById('9a8d201f-d47d-47f0-b517-0d396d5d41c7');\n",
       "var x = new MutationObserver(function (mutations, observer) {{\n",
       "        var display = window.getComputedStyle(gd).display;\n",
       "        if (!display || display === 'none') {{\n",
       "            console.log([gd, 'removed!']);\n",
       "            Plotly.purge(gd);\n",
       "            observer.disconnect();\n",
       "        }}\n",
       "}});\n",
       "\n",
       "// Listen for the removal of the full notebook cells\n",
       "var notebookContainer = gd.closest('#notebook-container');\n",
       "if (notebookContainer) {{\n",
       "    x.observe(notebookContainer, {childList: true});\n",
       "}}\n",
       "\n",
       "// Listen for the clearing of the current output cell\n",
       "var outputEl = gd.closest('.output');\n",
       "if (outputEl) {{\n",
       "    x.observe(outputEl, {childList: true});\n",
       "}}\n",
       "\n",
       "                        })                };                });            </script>        </div>"
      ]
     },
     "metadata": {},
     "output_type": "display_data"
    }
   ],
   "source": [
    "# Plotting price vs. production\r\n",
    "\r\n",
    "# Defining a plot instance\r\n",
    "fig = go.Figure()\r\n",
    "colorscale = px.colors.sequential.RdBu_r\r\n",
    "# Preparing for secondary y axis by calling make_subplots function\r\n",
    "fig = make_subplots(specs=[[{\"secondary_y\": True}]])\r\n",
    "# Adding plant production as traces of bar type\r\n",
    "fig.add_trace(go.Bar(x=shop.model.plant.Plant1.production.get().index, y=shop.model.plant.Plant1.production.get().values, name=\"P1\", marker_color=colorscale[1]))\r\n",
    "fig.add_trace(go.Bar(x=shop.model.plant.Plant2.production.get().index, y=shop.model.plant.Plant2.production.get().values, name=\"P2\", marker_color=colorscale[2]))\r\n",
    "# Stacking bars\r\n",
    "fig.update_layout(barmode='stack')\r\n",
    "# Adding price as trace of scatter type\r\n",
    "fig.add_trace(go.Scatter(x=shop.model.market.Day_ahead.sale_price.get().index, y=shop.model.market.Day_ahead.sale_price.get().values, name=\"Price\", line_color='black'),secondary_y=True)\r\n",
    "# Updating titles\r\n",
    "fig.update_layout(title_text=\"Price vs. production\")\r\n",
    "fig.update_yaxes(title_text=\"<b>Production</b> [MWh]\", secondary_y=False)\r\n",
    "fig.update_yaxes(title_text=\"<b>Price</b> [EUR/MWh]\", secondary_y=True)\r\n",
    "fig.update_xaxes(title_text=\"<b>Time</b> [Hours]\")\r\n",
    "# Show plot\r\n",
    "fig.show()"
   ]
  },
  {
   "cell_type": "code",
   "execution_count": 34,
   "metadata": {
    "Collapsed": "false"
   },
   "outputs": [
    {
     "data": {
      "application/vnd.plotly.v1+json": {
       "config": {
        "plotlyServerURL": "https://plot.ly"
       },
       "data": [
        {
         "marker": {
          "color": "rgb(33,102,172)"
         },
         "name": "G1 Discharge",
         "type": "bar",
         "x": [
          "2018-01-23T00:00:00",
          "2018-01-23T01:00:00",
          "2018-01-23T02:00:00",
          "2018-01-23T03:00:00",
          "2018-01-23T04:00:00",
          "2018-01-23T05:00:00",
          "2018-01-23T06:00:00",
          "2018-01-23T07:00:00",
          "2018-01-23T08:00:00",
          "2018-01-23T09:00:00",
          "2018-01-23T10:00:00",
          "2018-01-23T11:00:00",
          "2018-01-23T12:00:00",
          "2018-01-23T13:00:00",
          "2018-01-23T14:00:00",
          "2018-01-23T15:00:00",
          "2018-01-23T16:00:00",
          "2018-01-23T17:00:00",
          "2018-01-23T18:00:00",
          "2018-01-23T19:00:00",
          "2018-01-23T20:00:00",
          "2018-01-23T21:00:00",
          "2018-01-23T22:00:00",
          "2018-01-23T23:00:00",
          "2018-01-24T00:00:00",
          "2018-01-24T01:00:00",
          "2018-01-24T02:00:00",
          "2018-01-24T03:00:00",
          "2018-01-24T04:00:00",
          "2018-01-24T05:00:00",
          "2018-01-24T06:00:00",
          "2018-01-24T07:00:00",
          "2018-01-24T08:00:00",
          "2018-01-24T09:00:00",
          "2018-01-24T10:00:00",
          "2018-01-24T11:00:00",
          "2018-01-24T12:00:00",
          "2018-01-24T13:00:00",
          "2018-01-24T14:00:00",
          "2018-01-24T15:00:00",
          "2018-01-24T16:00:00",
          "2018-01-24T17:00:00",
          "2018-01-24T18:00:00",
          "2018-01-24T19:00:00",
          "2018-01-24T20:00:00",
          "2018-01-24T21:00:00",
          "2018-01-24T22:00:00",
          "2018-01-24T23:00:00",
          "2018-01-25T00:00:00",
          "2018-01-25T01:00:00",
          "2018-01-25T02:00:00",
          "2018-01-25T03:00:00",
          "2018-01-25T04:00:00",
          "2018-01-25T05:00:00",
          "2018-01-25T06:00:00",
          "2018-01-25T07:00:00",
          "2018-01-25T08:00:00",
          "2018-01-25T09:00:00",
          "2018-01-25T10:00:00",
          "2018-01-25T11:00:00",
          "2018-01-25T12:00:00",
          "2018-01-25T13:00:00",
          "2018-01-25T14:00:00",
          "2018-01-25T15:00:00",
          "2018-01-25T16:00:00",
          "2018-01-25T17:00:00",
          "2018-01-25T18:00:00",
          "2018-01-25T19:00:00",
          "2018-01-25T20:00:00",
          "2018-01-25T21:00:00",
          "2018-01-25T22:00:00",
          "2018-01-25T23:00:00"
         ],
         "xaxis": "x",
         "y": [
          53.89666666666665,
          51.42999999999999,
          51.42999999999999,
          51.42999999999999,
          51.42999999999999,
          53.89666666666665,
          58.82999999999999,
          58.82999999999999,
          58.83,
          58.830000000000005,
          58.82999999999999,
          58.83,
          58.83,
          58.830000000000005,
          58.83,
          58.83,
          58.830000000000005,
          58.82999999999999,
          56.36333333333332,
          51.42999999999999,
          51.42999999999999,
          53.89666666666665,
          51.42999999999999,
          51.42999999999999,
          0,
          0,
          0,
          0,
          0,
          0,
          51.42999999999999,
          51.42999999999999,
          51.42999999999999,
          51.42999999999999,
          51.42999999999999,
          53.89666666666666,
          53.89666666666665,
          51.42999999999999,
          51.42999999999999,
          51.42999999999999,
          51.42999999999999,
          51.42999999999999,
          51.42999999999999,
          51.42999999999999,
          51.42999999999999,
          0,
          0,
          0,
          0,
          0,
          0,
          0,
          0,
          0,
          0,
          53.89666666666665,
          53.89666666666666,
          53.89666666666665,
          53.89666666666665,
          51.42999999999999,
          51.42999999999999,
          51.42999999999999,
          51.42999999999999,
          51.42999999999999,
          53.89666666666666,
          51.42999999999999,
          51.42999999999999,
          53.89666666666665,
          51.42999999999999,
          51.42999999999999,
          0,
          0
         ],
         "yaxis": "y"
        },
        {
         "marker": {
          "color": "rgb(67,147,195)"
         },
         "name": "G2 Discharge",
         "type": "bar",
         "x": [
          "2018-01-23T00:00:00",
          "2018-01-23T01:00:00",
          "2018-01-23T02:00:00",
          "2018-01-23T03:00:00",
          "2018-01-23T04:00:00",
          "2018-01-23T05:00:00",
          "2018-01-23T06:00:00",
          "2018-01-23T07:00:00",
          "2018-01-23T08:00:00",
          "2018-01-23T09:00:00",
          "2018-01-23T10:00:00",
          "2018-01-23T11:00:00",
          "2018-01-23T12:00:00",
          "2018-01-23T13:00:00",
          "2018-01-23T14:00:00",
          "2018-01-23T15:00:00",
          "2018-01-23T16:00:00",
          "2018-01-23T17:00:00",
          "2018-01-23T18:00:00",
          "2018-01-23T19:00:00",
          "2018-01-23T20:00:00",
          "2018-01-23T21:00:00",
          "2018-01-23T22:00:00",
          "2018-01-23T23:00:00",
          "2018-01-24T00:00:00",
          "2018-01-24T01:00:00",
          "2018-01-24T02:00:00",
          "2018-01-24T03:00:00",
          "2018-01-24T04:00:00",
          "2018-01-24T05:00:00",
          "2018-01-24T06:00:00",
          "2018-01-24T07:00:00",
          "2018-01-24T08:00:00",
          "2018-01-24T09:00:00",
          "2018-01-24T10:00:00",
          "2018-01-24T11:00:00",
          "2018-01-24T12:00:00",
          "2018-01-24T13:00:00",
          "2018-01-24T14:00:00",
          "2018-01-24T15:00:00",
          "2018-01-24T16:00:00",
          "2018-01-24T17:00:00",
          "2018-01-24T18:00:00",
          "2018-01-24T19:00:00",
          "2018-01-24T20:00:00",
          "2018-01-24T21:00:00",
          "2018-01-24T22:00:00",
          "2018-01-24T23:00:00",
          "2018-01-25T00:00:00",
          "2018-01-25T01:00:00",
          "2018-01-25T02:00:00",
          "2018-01-25T03:00:00",
          "2018-01-25T04:00:00",
          "2018-01-25T05:00:00",
          "2018-01-25T06:00:00",
          "2018-01-25T07:00:00",
          "2018-01-25T08:00:00",
          "2018-01-25T09:00:00",
          "2018-01-25T10:00:00",
          "2018-01-25T11:00:00",
          "2018-01-25T12:00:00",
          "2018-01-25T13:00:00",
          "2018-01-25T14:00:00",
          "2018-01-25T15:00:00",
          "2018-01-25T16:00:00",
          "2018-01-25T17:00:00",
          "2018-01-25T18:00:00",
          "2018-01-25T19:00:00",
          "2018-01-25T20:00:00",
          "2018-01-25T21:00:00",
          "2018-01-25T22:00:00",
          "2018-01-25T23:00:00"
         ],
         "xaxis": "x",
         "y": [
          53.89666666666665,
          51.42999999999999,
          51.42999999999999,
          0,
          51.42999999999999,
          53.89666666666665,
          58.830000000000005,
          58.82999999999999,
          58.82999999999999,
          58.83,
          58.82999999999999,
          58.82999999999999,
          58.83,
          58.82999999999999,
          58.83,
          58.83,
          58.830000000000005,
          58.830000000000005,
          56.36333333333332,
          51.42999999999999,
          51.42999999999999,
          0,
          0,
          0,
          0,
          0,
          0,
          0,
          0,
          0,
          0,
          51.42999999999999,
          51.42999999999999,
          51.42999999999999,
          51.42999999999999,
          0,
          0,
          0,
          0,
          0,
          0,
          0,
          0,
          0,
          0,
          0,
          0,
          0,
          0,
          0,
          0,
          0,
          0,
          0,
          0,
          0,
          0,
          0,
          0,
          0,
          0,
          0,
          0,
          0,
          0,
          51.42999999999999,
          51.42999999999999,
          0,
          0,
          0,
          0,
          0
         ],
         "yaxis": "y"
        },
        {
         "marker": {
          "color": "rgb(146,197,222)"
         },
         "name": "G1 production",
         "type": "scatter",
         "x": [
          "2018-01-23T00:00:00",
          "2018-01-23T01:00:00",
          "2018-01-23T02:00:00",
          "2018-01-23T03:00:00",
          "2018-01-23T04:00:00",
          "2018-01-23T05:00:00",
          "2018-01-23T06:00:00",
          "2018-01-23T07:00:00",
          "2018-01-23T08:00:00",
          "2018-01-23T09:00:00",
          "2018-01-23T10:00:00",
          "2018-01-23T11:00:00",
          "2018-01-23T12:00:00",
          "2018-01-23T13:00:00",
          "2018-01-23T14:00:00",
          "2018-01-23T15:00:00",
          "2018-01-23T16:00:00",
          "2018-01-23T17:00:00",
          "2018-01-23T18:00:00",
          "2018-01-23T19:00:00",
          "2018-01-23T20:00:00",
          "2018-01-23T21:00:00",
          "2018-01-23T22:00:00",
          "2018-01-23T23:00:00",
          "2018-01-24T00:00:00",
          "2018-01-24T01:00:00",
          "2018-01-24T02:00:00",
          "2018-01-24T03:00:00",
          "2018-01-24T04:00:00",
          "2018-01-24T05:00:00",
          "2018-01-24T06:00:00",
          "2018-01-24T07:00:00",
          "2018-01-24T08:00:00",
          "2018-01-24T09:00:00",
          "2018-01-24T10:00:00",
          "2018-01-24T11:00:00",
          "2018-01-24T12:00:00",
          "2018-01-24T13:00:00",
          "2018-01-24T14:00:00",
          "2018-01-24T15:00:00",
          "2018-01-24T16:00:00",
          "2018-01-24T17:00:00",
          "2018-01-24T18:00:00",
          "2018-01-24T19:00:00",
          "2018-01-24T20:00:00",
          "2018-01-24T21:00:00",
          "2018-01-24T22:00:00",
          "2018-01-24T23:00:00",
          "2018-01-25T00:00:00",
          "2018-01-25T01:00:00",
          "2018-01-25T02:00:00",
          "2018-01-25T03:00:00",
          "2018-01-25T04:00:00",
          "2018-01-25T05:00:00",
          "2018-01-25T06:00:00",
          "2018-01-25T07:00:00",
          "2018-01-25T08:00:00",
          "2018-01-25T09:00:00",
          "2018-01-25T10:00:00",
          "2018-01-25T11:00:00",
          "2018-01-25T12:00:00",
          "2018-01-25T13:00:00",
          "2018-01-25T14:00:00",
          "2018-01-25T15:00:00",
          "2018-01-25T16:00:00",
          "2018-01-25T17:00:00",
          "2018-01-25T18:00:00",
          "2018-01-25T19:00:00",
          "2018-01-25T20:00:00",
          "2018-01-25T21:00:00",
          "2018-01-25T22:00:00",
          "2018-01-25T23:00:00"
         ],
         "xaxis": "x",
         "y": [
          108.06201916296483,
          103.70534282965251,
          103.54810593902664,
          107.45981625081005,
          103.3123061144648,
          107.31479871390789,
          114.60635074609262,
          114.40332361839793,
          114.19966642786243,
          113.99605342146442,
          113.79248459920387,
          113.58895996108085,
          113.38547950709538,
          113.17779264433346,
          112.96647804516893,
          112.75521114013165,
          112.54399192922149,
          112.33282041243851,
          108.5582397311614,
          100.60724239062246,
          100.44129493765244,
          108.9588837377697,
          104.24177090554437,
          104.15843002560204,
          0,
          0,
          0,
          0,
          0,
          0,
          104.07509745166146,
          99.93967516569717,
          99.7738614054945,
          99.60808086929902,
          99.44233355711064,
          107.90952899360296,
          107.81831311724905,
          103.15100300286973,
          103.06777089768934,
          102.98454709851082,
          102.90133160533408,
          102.81812441815906,
          102.726249559936,
          102.63392977899359,
          102.54162022737916,
          0,
          0,
          0,
          0,
          0,
          0,
          0,
          0,
          0,
          0,
          106.99346387329328,
          106.8923434490018,
          106.79123477325571,
          106.69013784605526,
          102.06252762450961,
          101.97028141132357,
          101.87804542746531,
          101.78545478249963,
          101.68801089117056,
          106.0956068592291,
          97.44857121689984,
          97.25471418982119,
          105.58155147361106,
          100.9968846087778,
          100.89953319104454,
          0,
          0
         ],
         "yaxis": "y2"
        },
        {
         "marker": {
          "color": "rgb(209,229,240)"
         },
         "name": "G2 production",
         "type": "scatter",
         "x": [
          "2018-01-23T00:00:00",
          "2018-01-23T01:00:00",
          "2018-01-23T02:00:00",
          "2018-01-23T03:00:00",
          "2018-01-23T04:00:00",
          "2018-01-23T05:00:00",
          "2018-01-23T06:00:00",
          "2018-01-23T07:00:00",
          "2018-01-23T08:00:00",
          "2018-01-23T09:00:00",
          "2018-01-23T10:00:00",
          "2018-01-23T11:00:00",
          "2018-01-23T12:00:00",
          "2018-01-23T13:00:00",
          "2018-01-23T14:00:00",
          "2018-01-23T15:00:00",
          "2018-01-23T16:00:00",
          "2018-01-23T17:00:00",
          "2018-01-23T18:00:00",
          "2018-01-23T19:00:00",
          "2018-01-23T20:00:00",
          "2018-01-23T21:00:00",
          "2018-01-23T22:00:00",
          "2018-01-23T23:00:00",
          "2018-01-24T00:00:00",
          "2018-01-24T01:00:00",
          "2018-01-24T02:00:00",
          "2018-01-24T03:00:00",
          "2018-01-24T04:00:00",
          "2018-01-24T05:00:00",
          "2018-01-24T06:00:00",
          "2018-01-24T07:00:00",
          "2018-01-24T08:00:00",
          "2018-01-24T09:00:00",
          "2018-01-24T10:00:00",
          "2018-01-24T11:00:00",
          "2018-01-24T12:00:00",
          "2018-01-24T13:00:00",
          "2018-01-24T14:00:00",
          "2018-01-24T15:00:00",
          "2018-01-24T16:00:00",
          "2018-01-24T17:00:00",
          "2018-01-24T18:00:00",
          "2018-01-24T19:00:00",
          "2018-01-24T20:00:00",
          "2018-01-24T21:00:00",
          "2018-01-24T22:00:00",
          "2018-01-24T23:00:00",
          "2018-01-25T00:00:00",
          "2018-01-25T01:00:00",
          "2018-01-25T02:00:00",
          "2018-01-25T03:00:00",
          "2018-01-25T04:00:00",
          "2018-01-25T05:00:00",
          "2018-01-25T06:00:00",
          "2018-01-25T07:00:00",
          "2018-01-25T08:00:00",
          "2018-01-25T09:00:00",
          "2018-01-25T10:00:00",
          "2018-01-25T11:00:00",
          "2018-01-25T12:00:00",
          "2018-01-25T13:00:00",
          "2018-01-25T14:00:00",
          "2018-01-25T15:00:00",
          "2018-01-25T16:00:00",
          "2018-01-25T17:00:00",
          "2018-01-25T18:00:00",
          "2018-01-25T19:00:00",
          "2018-01-25T20:00:00",
          "2018-01-25T21:00:00",
          "2018-01-25T22:00:00",
          "2018-01-25T23:00:00"
         ],
         "xaxis": "x",
         "y": [
          108.06201916296483,
          103.70534282965251,
          103.54810593902664,
          0,
          103.3123061144648,
          107.31479871390789,
          114.60635074609264,
          114.40332361839793,
          114.19966642786241,
          113.99605342146441,
          113.79248459920387,
          113.58895996108083,
          113.38547950709538,
          113.17779264433344,
          112.96647804516893,
          112.75521114013165,
          112.54399192922149,
          112.33282041243854,
          108.5582397311614,
          100.60724239062246,
          100.44129493765244,
          0,
          0,
          0,
          0,
          0,
          0,
          0,
          0,
          0,
          0,
          99.93967516569717,
          99.7738614054945,
          99.60808086929902,
          99.44233355711064,
          0,
          0,
          0,
          0,
          0,
          0,
          0,
          0,
          0,
          0,
          0,
          0,
          0,
          0,
          0,
          0,
          0,
          0,
          0,
          0,
          0,
          0,
          0,
          0,
          0,
          0,
          0,
          0,
          0,
          0,
          97.44857121689984,
          97.25471418982119,
          0,
          0,
          0,
          0,
          0
         ],
         "yaxis": "y2"
        }
       ],
       "layout": {
        "autosize": true,
        "barmode": "stack",
        "template": {
         "data": {
          "bar": [
           {
            "error_x": {
             "color": "#2a3f5f"
            },
            "error_y": {
             "color": "#2a3f5f"
            },
            "marker": {
             "line": {
              "color": "#E5ECF6",
              "width": 0.5
             }
            },
            "type": "bar"
           }
          ],
          "barpolar": [
           {
            "marker": {
             "line": {
              "color": "#E5ECF6",
              "width": 0.5
             }
            },
            "type": "barpolar"
           }
          ],
          "carpet": [
           {
            "aaxis": {
             "endlinecolor": "#2a3f5f",
             "gridcolor": "white",
             "linecolor": "white",
             "minorgridcolor": "white",
             "startlinecolor": "#2a3f5f"
            },
            "baxis": {
             "endlinecolor": "#2a3f5f",
             "gridcolor": "white",
             "linecolor": "white",
             "minorgridcolor": "white",
             "startlinecolor": "#2a3f5f"
            },
            "type": "carpet"
           }
          ],
          "choropleth": [
           {
            "colorbar": {
             "outlinewidth": 0,
             "ticks": ""
            },
            "type": "choropleth"
           }
          ],
          "contour": [
           {
            "colorbar": {
             "outlinewidth": 0,
             "ticks": ""
            },
            "colorscale": [
             [
              0,
              "#0d0887"
             ],
             [
              0.1111111111111111,
              "#46039f"
             ],
             [
              0.2222222222222222,
              "#7201a8"
             ],
             [
              0.3333333333333333,
              "#9c179e"
             ],
             [
              0.4444444444444444,
              "#bd3786"
             ],
             [
              0.5555555555555556,
              "#d8576b"
             ],
             [
              0.6666666666666666,
              "#ed7953"
             ],
             [
              0.7777777777777778,
              "#fb9f3a"
             ],
             [
              0.8888888888888888,
              "#fdca26"
             ],
             [
              1,
              "#f0f921"
             ]
            ],
            "type": "contour"
           }
          ],
          "contourcarpet": [
           {
            "colorbar": {
             "outlinewidth": 0,
             "ticks": ""
            },
            "type": "contourcarpet"
           }
          ],
          "heatmap": [
           {
            "colorbar": {
             "outlinewidth": 0,
             "ticks": ""
            },
            "colorscale": [
             [
              0,
              "#0d0887"
             ],
             [
              0.1111111111111111,
              "#46039f"
             ],
             [
              0.2222222222222222,
              "#7201a8"
             ],
             [
              0.3333333333333333,
              "#9c179e"
             ],
             [
              0.4444444444444444,
              "#bd3786"
             ],
             [
              0.5555555555555556,
              "#d8576b"
             ],
             [
              0.6666666666666666,
              "#ed7953"
             ],
             [
              0.7777777777777778,
              "#fb9f3a"
             ],
             [
              0.8888888888888888,
              "#fdca26"
             ],
             [
              1,
              "#f0f921"
             ]
            ],
            "type": "heatmap"
           }
          ],
          "heatmapgl": [
           {
            "colorbar": {
             "outlinewidth": 0,
             "ticks": ""
            },
            "colorscale": [
             [
              0,
              "#0d0887"
             ],
             [
              0.1111111111111111,
              "#46039f"
             ],
             [
              0.2222222222222222,
              "#7201a8"
             ],
             [
              0.3333333333333333,
              "#9c179e"
             ],
             [
              0.4444444444444444,
              "#bd3786"
             ],
             [
              0.5555555555555556,
              "#d8576b"
             ],
             [
              0.6666666666666666,
              "#ed7953"
             ],
             [
              0.7777777777777778,
              "#fb9f3a"
             ],
             [
              0.8888888888888888,
              "#fdca26"
             ],
             [
              1,
              "#f0f921"
             ]
            ],
            "type": "heatmapgl"
           }
          ],
          "histogram": [
           {
            "marker": {
             "colorbar": {
              "outlinewidth": 0,
              "ticks": ""
             }
            },
            "type": "histogram"
           }
          ],
          "histogram2d": [
           {
            "colorbar": {
             "outlinewidth": 0,
             "ticks": ""
            },
            "colorscale": [
             [
              0,
              "#0d0887"
             ],
             [
              0.1111111111111111,
              "#46039f"
             ],
             [
              0.2222222222222222,
              "#7201a8"
             ],
             [
              0.3333333333333333,
              "#9c179e"
             ],
             [
              0.4444444444444444,
              "#bd3786"
             ],
             [
              0.5555555555555556,
              "#d8576b"
             ],
             [
              0.6666666666666666,
              "#ed7953"
             ],
             [
              0.7777777777777778,
              "#fb9f3a"
             ],
             [
              0.8888888888888888,
              "#fdca26"
             ],
             [
              1,
              "#f0f921"
             ]
            ],
            "type": "histogram2d"
           }
          ],
          "histogram2dcontour": [
           {
            "colorbar": {
             "outlinewidth": 0,
             "ticks": ""
            },
            "colorscale": [
             [
              0,
              "#0d0887"
             ],
             [
              0.1111111111111111,
              "#46039f"
             ],
             [
              0.2222222222222222,
              "#7201a8"
             ],
             [
              0.3333333333333333,
              "#9c179e"
             ],
             [
              0.4444444444444444,
              "#bd3786"
             ],
             [
              0.5555555555555556,
              "#d8576b"
             ],
             [
              0.6666666666666666,
              "#ed7953"
             ],
             [
              0.7777777777777778,
              "#fb9f3a"
             ],
             [
              0.8888888888888888,
              "#fdca26"
             ],
             [
              1,
              "#f0f921"
             ]
            ],
            "type": "histogram2dcontour"
           }
          ],
          "mesh3d": [
           {
            "colorbar": {
             "outlinewidth": 0,
             "ticks": ""
            },
            "type": "mesh3d"
           }
          ],
          "parcoords": [
           {
            "line": {
             "colorbar": {
              "outlinewidth": 0,
              "ticks": ""
             }
            },
            "type": "parcoords"
           }
          ],
          "pie": [
           {
            "automargin": true,
            "type": "pie"
           }
          ],
          "scatter": [
           {
            "marker": {
             "colorbar": {
              "outlinewidth": 0,
              "ticks": ""
             }
            },
            "type": "scatter"
           }
          ],
          "scatter3d": [
           {
            "line": {
             "colorbar": {
              "outlinewidth": 0,
              "ticks": ""
             }
            },
            "marker": {
             "colorbar": {
              "outlinewidth": 0,
              "ticks": ""
             }
            },
            "type": "scatter3d"
           }
          ],
          "scattercarpet": [
           {
            "marker": {
             "colorbar": {
              "outlinewidth": 0,
              "ticks": ""
             }
            },
            "type": "scattercarpet"
           }
          ],
          "scattergeo": [
           {
            "marker": {
             "colorbar": {
              "outlinewidth": 0,
              "ticks": ""
             }
            },
            "type": "scattergeo"
           }
          ],
          "scattergl": [
           {
            "marker": {
             "colorbar": {
              "outlinewidth": 0,
              "ticks": ""
             }
            },
            "type": "scattergl"
           }
          ],
          "scattermapbox": [
           {
            "marker": {
             "colorbar": {
              "outlinewidth": 0,
              "ticks": ""
             }
            },
            "type": "scattermapbox"
           }
          ],
          "scatterpolar": [
           {
            "marker": {
             "colorbar": {
              "outlinewidth": 0,
              "ticks": ""
             }
            },
            "type": "scatterpolar"
           }
          ],
          "scatterpolargl": [
           {
            "marker": {
             "colorbar": {
              "outlinewidth": 0,
              "ticks": ""
             }
            },
            "type": "scatterpolargl"
           }
          ],
          "scatterternary": [
           {
            "marker": {
             "colorbar": {
              "outlinewidth": 0,
              "ticks": ""
             }
            },
            "type": "scatterternary"
           }
          ],
          "surface": [
           {
            "colorbar": {
             "outlinewidth": 0,
             "ticks": ""
            },
            "colorscale": [
             [
              0,
              "#0d0887"
             ],
             [
              0.1111111111111111,
              "#46039f"
             ],
             [
              0.2222222222222222,
              "#7201a8"
             ],
             [
              0.3333333333333333,
              "#9c179e"
             ],
             [
              0.4444444444444444,
              "#bd3786"
             ],
             [
              0.5555555555555556,
              "#d8576b"
             ],
             [
              0.6666666666666666,
              "#ed7953"
             ],
             [
              0.7777777777777778,
              "#fb9f3a"
             ],
             [
              0.8888888888888888,
              "#fdca26"
             ],
             [
              1,
              "#f0f921"
             ]
            ],
            "type": "surface"
           }
          ],
          "table": [
           {
            "cells": {
             "fill": {
              "color": "#EBF0F8"
             },
             "line": {
              "color": "white"
             }
            },
            "header": {
             "fill": {
              "color": "#C8D4E3"
             },
             "line": {
              "color": "white"
             }
            },
            "type": "table"
           }
          ]
         },
         "layout": {
          "annotationdefaults": {
           "arrowcolor": "#2a3f5f",
           "arrowhead": 0,
           "arrowwidth": 1
          },
          "autotypenumbers": "strict",
          "coloraxis": {
           "colorbar": {
            "outlinewidth": 0,
            "ticks": ""
           }
          },
          "colorscale": {
           "diverging": [
            [
             0,
             "#8e0152"
            ],
            [
             0.1,
             "#c51b7d"
            ],
            [
             0.2,
             "#de77ae"
            ],
            [
             0.3,
             "#f1b6da"
            ],
            [
             0.4,
             "#fde0ef"
            ],
            [
             0.5,
             "#f7f7f7"
            ],
            [
             0.6,
             "#e6f5d0"
            ],
            [
             0.7,
             "#b8e186"
            ],
            [
             0.8,
             "#7fbc41"
            ],
            [
             0.9,
             "#4d9221"
            ],
            [
             1,
             "#276419"
            ]
           ],
           "sequential": [
            [
             0,
             "#0d0887"
            ],
            [
             0.1111111111111111,
             "#46039f"
            ],
            [
             0.2222222222222222,
             "#7201a8"
            ],
            [
             0.3333333333333333,
             "#9c179e"
            ],
            [
             0.4444444444444444,
             "#bd3786"
            ],
            [
             0.5555555555555556,
             "#d8576b"
            ],
            [
             0.6666666666666666,
             "#ed7953"
            ],
            [
             0.7777777777777778,
             "#fb9f3a"
            ],
            [
             0.8888888888888888,
             "#fdca26"
            ],
            [
             1,
             "#f0f921"
            ]
           ],
           "sequentialminus": [
            [
             0,
             "#0d0887"
            ],
            [
             0.1111111111111111,
             "#46039f"
            ],
            [
             0.2222222222222222,
             "#7201a8"
            ],
            [
             0.3333333333333333,
             "#9c179e"
            ],
            [
             0.4444444444444444,
             "#bd3786"
            ],
            [
             0.5555555555555556,
             "#d8576b"
            ],
            [
             0.6666666666666666,
             "#ed7953"
            ],
            [
             0.7777777777777778,
             "#fb9f3a"
            ],
            [
             0.8888888888888888,
             "#fdca26"
            ],
            [
             1,
             "#f0f921"
            ]
           ]
          },
          "colorway": [
           "#636efa",
           "#EF553B",
           "#00cc96",
           "#ab63fa",
           "#FFA15A",
           "#19d3f3",
           "#FF6692",
           "#B6E880",
           "#FF97FF",
           "#FECB52"
          ],
          "font": {
           "color": "#2a3f5f"
          },
          "geo": {
           "bgcolor": "white",
           "lakecolor": "white",
           "landcolor": "#E5ECF6",
           "showlakes": true,
           "showland": true,
           "subunitcolor": "white"
          },
          "hoverlabel": {
           "align": "left"
          },
          "hovermode": "closest",
          "mapbox": {
           "style": "light"
          },
          "paper_bgcolor": "white",
          "plot_bgcolor": "#E5ECF6",
          "polar": {
           "angularaxis": {
            "gridcolor": "white",
            "linecolor": "white",
            "ticks": ""
           },
           "bgcolor": "#E5ECF6",
           "radialaxis": {
            "gridcolor": "white",
            "linecolor": "white",
            "ticks": ""
           }
          },
          "scene": {
           "xaxis": {
            "backgroundcolor": "#E5ECF6",
            "gridcolor": "white",
            "gridwidth": 2,
            "linecolor": "white",
            "showbackground": true,
            "ticks": "",
            "zerolinecolor": "white"
           },
           "yaxis": {
            "backgroundcolor": "#E5ECF6",
            "gridcolor": "white",
            "gridwidth": 2,
            "linecolor": "white",
            "showbackground": true,
            "ticks": "",
            "zerolinecolor": "white"
           },
           "zaxis": {
            "backgroundcolor": "#E5ECF6",
            "gridcolor": "white",
            "gridwidth": 2,
            "linecolor": "white",
            "showbackground": true,
            "ticks": "",
            "zerolinecolor": "white"
           }
          },
          "shapedefaults": {
           "line": {
            "color": "#2a3f5f"
           }
          },
          "ternary": {
           "aaxis": {
            "gridcolor": "white",
            "linecolor": "white",
            "ticks": ""
           },
           "baxis": {
            "gridcolor": "white",
            "linecolor": "white",
            "ticks": ""
           },
           "bgcolor": "#E5ECF6",
           "caxis": {
            "gridcolor": "white",
            "linecolor": "white",
            "ticks": ""
           }
          },
          "title": {
           "x": 0.05
          },
          "xaxis": {
           "automargin": true,
           "gridcolor": "white",
           "linecolor": "white",
           "ticks": "",
           "title": {
            "standoff": 15
           },
           "zerolinecolor": "white",
           "zerolinewidth": 2
          },
          "yaxis": {
           "automargin": true,
           "gridcolor": "white",
           "linecolor": "white",
           "ticks": "",
           "title": {
            "standoff": 15
           },
           "zerolinecolor": "white",
           "zerolinewidth": 2
          }
         }
        },
        "title": {
         "text": "<b>Unit discharge and production in Plant1</b>"
        },
        "xaxis": {
         "anchor": "y",
         "autorange": true,
         "domain": [
          0,
          0.94
         ],
         "range": [
          "2018-01-22 23:30",
          "2018-01-25 23:30"
         ],
         "title": {
          "text": "<b>Time</b> (Hour)"
         },
         "type": "date"
        },
        "yaxis": {
         "anchor": "x",
         "domain": [
          0,
          1
         ],
         "dtick": 20,
         "range": [
          0,
          120
         ],
         "tick0": 20,
         "title": {
          "text": "<b>Discharge</b> (m<sup>3</sup>/s)"
         },
         "type": "linear"
        },
        "yaxis2": {
         "anchor": "x",
         "dtick": 40,
         "overlaying": "y",
         "range": [
          0,
          240
         ],
         "side": "right",
         "tick0": 40,
         "title": {
          "text": "<b>Production</b> (MW)"
         },
         "type": "linear"
        }
       }
      },
      "text/html": [
       "<div>                            <div id=\"e0ebf8e5-ad37-453e-a9b7-bdb52187a061\" class=\"plotly-graph-div\" style=\"height:525px; width:100%;\"></div>            <script type=\"text/javascript\">                require([\"plotly\"], function(Plotly) {                    window.PLOTLYENV=window.PLOTLYENV || {};                                    if (document.getElementById(\"e0ebf8e5-ad37-453e-a9b7-bdb52187a061\")) {                    Plotly.newPlot(                        \"e0ebf8e5-ad37-453e-a9b7-bdb52187a061\",                        [{\"marker\": {\"color\": \"rgb(33,102,172)\"}, \"name\": \"G1 Discharge\", \"type\": \"bar\", \"x\": [\"2018-01-23T00:00:00\", \"2018-01-23T01:00:00\", \"2018-01-23T02:00:00\", \"2018-01-23T03:00:00\", \"2018-01-23T04:00:00\", \"2018-01-23T05:00:00\", \"2018-01-23T06:00:00\", \"2018-01-23T07:00:00\", \"2018-01-23T08:00:00\", \"2018-01-23T09:00:00\", \"2018-01-23T10:00:00\", \"2018-01-23T11:00:00\", \"2018-01-23T12:00:00\", \"2018-01-23T13:00:00\", \"2018-01-23T14:00:00\", \"2018-01-23T15:00:00\", \"2018-01-23T16:00:00\", \"2018-01-23T17:00:00\", \"2018-01-23T18:00:00\", \"2018-01-23T19:00:00\", \"2018-01-23T20:00:00\", \"2018-01-23T21:00:00\", \"2018-01-23T22:00:00\", \"2018-01-23T23:00:00\", \"2018-01-24T00:00:00\", \"2018-01-24T01:00:00\", \"2018-01-24T02:00:00\", \"2018-01-24T03:00:00\", \"2018-01-24T04:00:00\", \"2018-01-24T05:00:00\", \"2018-01-24T06:00:00\", \"2018-01-24T07:00:00\", \"2018-01-24T08:00:00\", \"2018-01-24T09:00:00\", \"2018-01-24T10:00:00\", \"2018-01-24T11:00:00\", \"2018-01-24T12:00:00\", \"2018-01-24T13:00:00\", \"2018-01-24T14:00:00\", \"2018-01-24T15:00:00\", \"2018-01-24T16:00:00\", \"2018-01-24T17:00:00\", \"2018-01-24T18:00:00\", \"2018-01-24T19:00:00\", \"2018-01-24T20:00:00\", \"2018-01-24T21:00:00\", \"2018-01-24T22:00:00\", \"2018-01-24T23:00:00\", \"2018-01-25T00:00:00\", \"2018-01-25T01:00:00\", \"2018-01-25T02:00:00\", \"2018-01-25T03:00:00\", \"2018-01-25T04:00:00\", \"2018-01-25T05:00:00\", \"2018-01-25T06:00:00\", \"2018-01-25T07:00:00\", \"2018-01-25T08:00:00\", \"2018-01-25T09:00:00\", \"2018-01-25T10:00:00\", \"2018-01-25T11:00:00\", \"2018-01-25T12:00:00\", \"2018-01-25T13:00:00\", \"2018-01-25T14:00:00\", \"2018-01-25T15:00:00\", \"2018-01-25T16:00:00\", \"2018-01-25T17:00:00\", \"2018-01-25T18:00:00\", \"2018-01-25T19:00:00\", \"2018-01-25T20:00:00\", \"2018-01-25T21:00:00\", \"2018-01-25T22:00:00\", \"2018-01-25T23:00:00\"], \"xaxis\": \"x\", \"y\": [53.89666666666665, 51.42999999999999, 51.42999999999999, 51.42999999999999, 51.42999999999999, 53.89666666666665, 58.82999999999999, 58.82999999999999, 58.83, 58.830000000000005, 58.82999999999999, 58.83, 58.83, 58.830000000000005, 58.83, 58.83, 58.830000000000005, 58.82999999999999, 56.36333333333332, 51.42999999999999, 51.42999999999999, 53.89666666666665, 51.42999999999999, 51.42999999999999, 0.0, 0.0, 0.0, 0.0, 0.0, 0.0, 51.42999999999999, 51.42999999999999, 51.42999999999999, 51.42999999999999, 51.42999999999999, 53.89666666666666, 53.89666666666665, 51.42999999999999, 51.42999999999999, 51.42999999999999, 51.42999999999999, 51.42999999999999, 51.42999999999999, 51.42999999999999, 51.42999999999999, 0.0, 0.0, 0.0, 0.0, 0.0, 0.0, 0.0, 0.0, 0.0, 0.0, 53.89666666666665, 53.89666666666666, 53.89666666666665, 53.89666666666665, 51.42999999999999, 51.42999999999999, 51.42999999999999, 51.42999999999999, 51.42999999999999, 53.89666666666666, 51.42999999999999, 51.42999999999999, 53.89666666666665, 51.42999999999999, 51.42999999999999, 0.0, 0.0], \"yaxis\": \"y\"}, {\"marker\": {\"color\": \"rgb(67,147,195)\"}, \"name\": \"G2 Discharge\", \"type\": \"bar\", \"x\": [\"2018-01-23T00:00:00\", \"2018-01-23T01:00:00\", \"2018-01-23T02:00:00\", \"2018-01-23T03:00:00\", \"2018-01-23T04:00:00\", \"2018-01-23T05:00:00\", \"2018-01-23T06:00:00\", \"2018-01-23T07:00:00\", \"2018-01-23T08:00:00\", \"2018-01-23T09:00:00\", \"2018-01-23T10:00:00\", \"2018-01-23T11:00:00\", \"2018-01-23T12:00:00\", \"2018-01-23T13:00:00\", \"2018-01-23T14:00:00\", \"2018-01-23T15:00:00\", \"2018-01-23T16:00:00\", \"2018-01-23T17:00:00\", \"2018-01-23T18:00:00\", \"2018-01-23T19:00:00\", \"2018-01-23T20:00:00\", \"2018-01-23T21:00:00\", \"2018-01-23T22:00:00\", \"2018-01-23T23:00:00\", \"2018-01-24T00:00:00\", \"2018-01-24T01:00:00\", \"2018-01-24T02:00:00\", \"2018-01-24T03:00:00\", \"2018-01-24T04:00:00\", \"2018-01-24T05:00:00\", \"2018-01-24T06:00:00\", \"2018-01-24T07:00:00\", \"2018-01-24T08:00:00\", \"2018-01-24T09:00:00\", \"2018-01-24T10:00:00\", \"2018-01-24T11:00:00\", \"2018-01-24T12:00:00\", \"2018-01-24T13:00:00\", \"2018-01-24T14:00:00\", \"2018-01-24T15:00:00\", \"2018-01-24T16:00:00\", \"2018-01-24T17:00:00\", \"2018-01-24T18:00:00\", \"2018-01-24T19:00:00\", \"2018-01-24T20:00:00\", \"2018-01-24T21:00:00\", \"2018-01-24T22:00:00\", \"2018-01-24T23:00:00\", \"2018-01-25T00:00:00\", \"2018-01-25T01:00:00\", \"2018-01-25T02:00:00\", \"2018-01-25T03:00:00\", \"2018-01-25T04:00:00\", \"2018-01-25T05:00:00\", \"2018-01-25T06:00:00\", \"2018-01-25T07:00:00\", \"2018-01-25T08:00:00\", \"2018-01-25T09:00:00\", \"2018-01-25T10:00:00\", \"2018-01-25T11:00:00\", \"2018-01-25T12:00:00\", \"2018-01-25T13:00:00\", \"2018-01-25T14:00:00\", \"2018-01-25T15:00:00\", \"2018-01-25T16:00:00\", \"2018-01-25T17:00:00\", \"2018-01-25T18:00:00\", \"2018-01-25T19:00:00\", \"2018-01-25T20:00:00\", \"2018-01-25T21:00:00\", \"2018-01-25T22:00:00\", \"2018-01-25T23:00:00\"], \"xaxis\": \"x\", \"y\": [53.89666666666665, 51.42999999999999, 51.42999999999999, 0.0, 51.42999999999999, 53.89666666666665, 58.830000000000005, 58.82999999999999, 58.82999999999999, 58.83, 58.82999999999999, 58.82999999999999, 58.83, 58.82999999999999, 58.83, 58.83, 58.830000000000005, 58.830000000000005, 56.36333333333332, 51.42999999999999, 51.42999999999999, 0.0, 0.0, 0.0, 0.0, 0.0, 0.0, 0.0, 0.0, 0.0, 0.0, 51.42999999999999, 51.42999999999999, 51.42999999999999, 51.42999999999999, 0.0, 0.0, 0.0, 0.0, 0.0, 0.0, 0.0, 0.0, 0.0, 0.0, 0.0, 0.0, 0.0, 0.0, 0.0, 0.0, 0.0, 0.0, 0.0, 0.0, 0.0, 0.0, 0.0, 0.0, 0.0, 0.0, 0.0, 0.0, 0.0, 0.0, 51.42999999999999, 51.42999999999999, 0.0, 0.0, 0.0, 0.0, 0.0], \"yaxis\": \"y\"}, {\"marker\": {\"color\": \"rgb(146,197,222)\"}, \"name\": \"G1 production\", \"type\": \"scatter\", \"x\": [\"2018-01-23T00:00:00\", \"2018-01-23T01:00:00\", \"2018-01-23T02:00:00\", \"2018-01-23T03:00:00\", \"2018-01-23T04:00:00\", \"2018-01-23T05:00:00\", \"2018-01-23T06:00:00\", \"2018-01-23T07:00:00\", \"2018-01-23T08:00:00\", \"2018-01-23T09:00:00\", \"2018-01-23T10:00:00\", \"2018-01-23T11:00:00\", \"2018-01-23T12:00:00\", \"2018-01-23T13:00:00\", \"2018-01-23T14:00:00\", \"2018-01-23T15:00:00\", \"2018-01-23T16:00:00\", \"2018-01-23T17:00:00\", \"2018-01-23T18:00:00\", \"2018-01-23T19:00:00\", \"2018-01-23T20:00:00\", \"2018-01-23T21:00:00\", \"2018-01-23T22:00:00\", \"2018-01-23T23:00:00\", \"2018-01-24T00:00:00\", \"2018-01-24T01:00:00\", \"2018-01-24T02:00:00\", \"2018-01-24T03:00:00\", \"2018-01-24T04:00:00\", \"2018-01-24T05:00:00\", \"2018-01-24T06:00:00\", \"2018-01-24T07:00:00\", \"2018-01-24T08:00:00\", \"2018-01-24T09:00:00\", \"2018-01-24T10:00:00\", \"2018-01-24T11:00:00\", \"2018-01-24T12:00:00\", \"2018-01-24T13:00:00\", \"2018-01-24T14:00:00\", \"2018-01-24T15:00:00\", \"2018-01-24T16:00:00\", \"2018-01-24T17:00:00\", \"2018-01-24T18:00:00\", \"2018-01-24T19:00:00\", \"2018-01-24T20:00:00\", \"2018-01-24T21:00:00\", \"2018-01-24T22:00:00\", \"2018-01-24T23:00:00\", \"2018-01-25T00:00:00\", \"2018-01-25T01:00:00\", \"2018-01-25T02:00:00\", \"2018-01-25T03:00:00\", \"2018-01-25T04:00:00\", \"2018-01-25T05:00:00\", \"2018-01-25T06:00:00\", \"2018-01-25T07:00:00\", \"2018-01-25T08:00:00\", \"2018-01-25T09:00:00\", \"2018-01-25T10:00:00\", \"2018-01-25T11:00:00\", \"2018-01-25T12:00:00\", \"2018-01-25T13:00:00\", \"2018-01-25T14:00:00\", \"2018-01-25T15:00:00\", \"2018-01-25T16:00:00\", \"2018-01-25T17:00:00\", \"2018-01-25T18:00:00\", \"2018-01-25T19:00:00\", \"2018-01-25T20:00:00\", \"2018-01-25T21:00:00\", \"2018-01-25T22:00:00\", \"2018-01-25T23:00:00\"], \"xaxis\": \"x\", \"y\": [108.06201916296483, 103.70534282965251, 103.54810593902664, 107.45981625081005, 103.3123061144648, 107.31479871390789, 114.60635074609262, 114.40332361839793, 114.19966642786243, 113.99605342146442, 113.79248459920387, 113.58895996108085, 113.38547950709538, 113.17779264433346, 112.96647804516893, 112.75521114013165, 112.54399192922149, 112.33282041243851, 108.5582397311614, 100.60724239062246, 100.44129493765244, 108.9588837377697, 104.24177090554437, 104.15843002560204, 0.0, 0.0, 0.0, 0.0, 0.0, 0.0, 104.07509745166146, 99.93967516569717, 99.7738614054945, 99.60808086929902, 99.44233355711064, 107.90952899360296, 107.81831311724905, 103.15100300286973, 103.06777089768934, 102.98454709851082, 102.90133160533408, 102.81812441815906, 102.726249559936, 102.63392977899359, 102.54162022737916, 0.0, 0.0, 0.0, 0.0, 0.0, 0.0, 0.0, 0.0, 0.0, 0.0, 106.99346387329328, 106.8923434490018, 106.79123477325571, 106.69013784605526, 102.06252762450961, 101.97028141132357, 101.87804542746531, 101.78545478249963, 101.68801089117056, 106.0956068592291, 97.44857121689984, 97.25471418982119, 105.58155147361106, 100.9968846087778, 100.89953319104454, 0.0, 0.0], \"yaxis\": \"y2\"}, {\"marker\": {\"color\": \"rgb(209,229,240)\"}, \"name\": \"G2 production\", \"type\": \"scatter\", \"x\": [\"2018-01-23T00:00:00\", \"2018-01-23T01:00:00\", \"2018-01-23T02:00:00\", \"2018-01-23T03:00:00\", \"2018-01-23T04:00:00\", \"2018-01-23T05:00:00\", \"2018-01-23T06:00:00\", \"2018-01-23T07:00:00\", \"2018-01-23T08:00:00\", \"2018-01-23T09:00:00\", \"2018-01-23T10:00:00\", \"2018-01-23T11:00:00\", \"2018-01-23T12:00:00\", \"2018-01-23T13:00:00\", \"2018-01-23T14:00:00\", \"2018-01-23T15:00:00\", \"2018-01-23T16:00:00\", \"2018-01-23T17:00:00\", \"2018-01-23T18:00:00\", \"2018-01-23T19:00:00\", \"2018-01-23T20:00:00\", \"2018-01-23T21:00:00\", \"2018-01-23T22:00:00\", \"2018-01-23T23:00:00\", \"2018-01-24T00:00:00\", \"2018-01-24T01:00:00\", \"2018-01-24T02:00:00\", \"2018-01-24T03:00:00\", \"2018-01-24T04:00:00\", \"2018-01-24T05:00:00\", \"2018-01-24T06:00:00\", \"2018-01-24T07:00:00\", \"2018-01-24T08:00:00\", \"2018-01-24T09:00:00\", \"2018-01-24T10:00:00\", \"2018-01-24T11:00:00\", \"2018-01-24T12:00:00\", \"2018-01-24T13:00:00\", \"2018-01-24T14:00:00\", \"2018-01-24T15:00:00\", \"2018-01-24T16:00:00\", \"2018-01-24T17:00:00\", \"2018-01-24T18:00:00\", \"2018-01-24T19:00:00\", \"2018-01-24T20:00:00\", \"2018-01-24T21:00:00\", \"2018-01-24T22:00:00\", \"2018-01-24T23:00:00\", \"2018-01-25T00:00:00\", \"2018-01-25T01:00:00\", \"2018-01-25T02:00:00\", \"2018-01-25T03:00:00\", \"2018-01-25T04:00:00\", \"2018-01-25T05:00:00\", \"2018-01-25T06:00:00\", \"2018-01-25T07:00:00\", \"2018-01-25T08:00:00\", \"2018-01-25T09:00:00\", \"2018-01-25T10:00:00\", \"2018-01-25T11:00:00\", \"2018-01-25T12:00:00\", \"2018-01-25T13:00:00\", \"2018-01-25T14:00:00\", \"2018-01-25T15:00:00\", \"2018-01-25T16:00:00\", \"2018-01-25T17:00:00\", \"2018-01-25T18:00:00\", \"2018-01-25T19:00:00\", \"2018-01-25T20:00:00\", \"2018-01-25T21:00:00\", \"2018-01-25T22:00:00\", \"2018-01-25T23:00:00\"], \"xaxis\": \"x\", \"y\": [108.06201916296483, 103.70534282965251, 103.54810593902664, 0.0, 103.3123061144648, 107.31479871390789, 114.60635074609264, 114.40332361839793, 114.19966642786241, 113.99605342146441, 113.79248459920387, 113.58895996108083, 113.38547950709538, 113.17779264433344, 112.96647804516893, 112.75521114013165, 112.54399192922149, 112.33282041243854, 108.5582397311614, 100.60724239062246, 100.44129493765244, 0.0, 0.0, 0.0, 0.0, 0.0, 0.0, 0.0, 0.0, 0.0, 0.0, 99.93967516569717, 99.7738614054945, 99.60808086929902, 99.44233355711064, 0.0, 0.0, 0.0, 0.0, 0.0, 0.0, 0.0, 0.0, 0.0, 0.0, 0.0, 0.0, 0.0, 0.0, 0.0, 0.0, 0.0, 0.0, 0.0, 0.0, 0.0, 0.0, 0.0, 0.0, 0.0, 0.0, 0.0, 0.0, 0.0, 0.0, 97.44857121689984, 97.25471418982119, 0.0, 0.0, 0.0, 0.0, 0.0], \"yaxis\": \"y2\"}],                        {\"barmode\": \"stack\", \"template\": {\"data\": {\"bar\": [{\"error_x\": {\"color\": \"#2a3f5f\"}, \"error_y\": {\"color\": \"#2a3f5f\"}, \"marker\": {\"line\": {\"color\": \"#E5ECF6\", \"width\": 0.5}}, \"type\": \"bar\"}], \"barpolar\": [{\"marker\": {\"line\": {\"color\": \"#E5ECF6\", \"width\": 0.5}}, \"type\": \"barpolar\"}], \"carpet\": [{\"aaxis\": {\"endlinecolor\": \"#2a3f5f\", \"gridcolor\": \"white\", \"linecolor\": \"white\", \"minorgridcolor\": \"white\", \"startlinecolor\": \"#2a3f5f\"}, \"baxis\": {\"endlinecolor\": \"#2a3f5f\", \"gridcolor\": \"white\", \"linecolor\": \"white\", \"minorgridcolor\": \"white\", \"startlinecolor\": \"#2a3f5f\"}, \"type\": \"carpet\"}], \"choropleth\": [{\"colorbar\": {\"outlinewidth\": 0, \"ticks\": \"\"}, \"type\": \"choropleth\"}], \"contour\": [{\"colorbar\": {\"outlinewidth\": 0, \"ticks\": \"\"}, \"colorscale\": [[0.0, \"#0d0887\"], [0.1111111111111111, \"#46039f\"], [0.2222222222222222, \"#7201a8\"], [0.3333333333333333, \"#9c179e\"], [0.4444444444444444, \"#bd3786\"], [0.5555555555555556, \"#d8576b\"], [0.6666666666666666, \"#ed7953\"], [0.7777777777777778, \"#fb9f3a\"], [0.8888888888888888, \"#fdca26\"], [1.0, \"#f0f921\"]], \"type\": \"contour\"}], \"contourcarpet\": [{\"colorbar\": {\"outlinewidth\": 0, \"ticks\": \"\"}, \"type\": \"contourcarpet\"}], \"heatmap\": [{\"colorbar\": {\"outlinewidth\": 0, \"ticks\": \"\"}, \"colorscale\": [[0.0, \"#0d0887\"], [0.1111111111111111, \"#46039f\"], [0.2222222222222222, \"#7201a8\"], [0.3333333333333333, \"#9c179e\"], [0.4444444444444444, \"#bd3786\"], [0.5555555555555556, \"#d8576b\"], [0.6666666666666666, \"#ed7953\"], [0.7777777777777778, \"#fb9f3a\"], [0.8888888888888888, \"#fdca26\"], [1.0, \"#f0f921\"]], \"type\": \"heatmap\"}], \"heatmapgl\": [{\"colorbar\": {\"outlinewidth\": 0, \"ticks\": \"\"}, \"colorscale\": [[0.0, \"#0d0887\"], [0.1111111111111111, \"#46039f\"], [0.2222222222222222, \"#7201a8\"], [0.3333333333333333, \"#9c179e\"], [0.4444444444444444, \"#bd3786\"], [0.5555555555555556, \"#d8576b\"], [0.6666666666666666, \"#ed7953\"], [0.7777777777777778, \"#fb9f3a\"], [0.8888888888888888, \"#fdca26\"], [1.0, \"#f0f921\"]], \"type\": \"heatmapgl\"}], \"histogram\": [{\"marker\": {\"colorbar\": {\"outlinewidth\": 0, \"ticks\": \"\"}}, \"type\": \"histogram\"}], \"histogram2d\": [{\"colorbar\": {\"outlinewidth\": 0, \"ticks\": \"\"}, \"colorscale\": [[0.0, \"#0d0887\"], [0.1111111111111111, \"#46039f\"], [0.2222222222222222, \"#7201a8\"], [0.3333333333333333, \"#9c179e\"], [0.4444444444444444, \"#bd3786\"], [0.5555555555555556, \"#d8576b\"], [0.6666666666666666, \"#ed7953\"], [0.7777777777777778, \"#fb9f3a\"], [0.8888888888888888, \"#fdca26\"], [1.0, \"#f0f921\"]], \"type\": \"histogram2d\"}], \"histogram2dcontour\": [{\"colorbar\": {\"outlinewidth\": 0, \"ticks\": \"\"}, \"colorscale\": [[0.0, \"#0d0887\"], [0.1111111111111111, \"#46039f\"], [0.2222222222222222, \"#7201a8\"], [0.3333333333333333, \"#9c179e\"], [0.4444444444444444, \"#bd3786\"], [0.5555555555555556, \"#d8576b\"], [0.6666666666666666, \"#ed7953\"], [0.7777777777777778, \"#fb9f3a\"], [0.8888888888888888, \"#fdca26\"], [1.0, \"#f0f921\"]], \"type\": \"histogram2dcontour\"}], \"mesh3d\": [{\"colorbar\": {\"outlinewidth\": 0, \"ticks\": \"\"}, \"type\": \"mesh3d\"}], \"parcoords\": [{\"line\": {\"colorbar\": {\"outlinewidth\": 0, \"ticks\": \"\"}}, \"type\": \"parcoords\"}], \"pie\": [{\"automargin\": true, \"type\": \"pie\"}], \"scatter\": [{\"marker\": {\"colorbar\": {\"outlinewidth\": 0, \"ticks\": \"\"}}, \"type\": \"scatter\"}], \"scatter3d\": [{\"line\": {\"colorbar\": {\"outlinewidth\": 0, \"ticks\": \"\"}}, \"marker\": {\"colorbar\": {\"outlinewidth\": 0, \"ticks\": \"\"}}, \"type\": \"scatter3d\"}], \"scattercarpet\": [{\"marker\": {\"colorbar\": {\"outlinewidth\": 0, \"ticks\": \"\"}}, \"type\": \"scattercarpet\"}], \"scattergeo\": [{\"marker\": {\"colorbar\": {\"outlinewidth\": 0, \"ticks\": \"\"}}, \"type\": \"scattergeo\"}], \"scattergl\": [{\"marker\": {\"colorbar\": {\"outlinewidth\": 0, \"ticks\": \"\"}}, \"type\": \"scattergl\"}], \"scattermapbox\": [{\"marker\": {\"colorbar\": {\"outlinewidth\": 0, \"ticks\": \"\"}}, \"type\": \"scattermapbox\"}], \"scatterpolar\": [{\"marker\": {\"colorbar\": {\"outlinewidth\": 0, \"ticks\": \"\"}}, \"type\": \"scatterpolar\"}], \"scatterpolargl\": [{\"marker\": {\"colorbar\": {\"outlinewidth\": 0, \"ticks\": \"\"}}, \"type\": \"scatterpolargl\"}], \"scatterternary\": [{\"marker\": {\"colorbar\": {\"outlinewidth\": 0, \"ticks\": \"\"}}, \"type\": \"scatterternary\"}], \"surface\": [{\"colorbar\": {\"outlinewidth\": 0, \"ticks\": \"\"}, \"colorscale\": [[0.0, \"#0d0887\"], [0.1111111111111111, \"#46039f\"], [0.2222222222222222, \"#7201a8\"], [0.3333333333333333, \"#9c179e\"], [0.4444444444444444, \"#bd3786\"], [0.5555555555555556, \"#d8576b\"], [0.6666666666666666, \"#ed7953\"], [0.7777777777777778, \"#fb9f3a\"], [0.8888888888888888, \"#fdca26\"], [1.0, \"#f0f921\"]], \"type\": \"surface\"}], \"table\": [{\"cells\": {\"fill\": {\"color\": \"#EBF0F8\"}, \"line\": {\"color\": \"white\"}}, \"header\": {\"fill\": {\"color\": \"#C8D4E3\"}, \"line\": {\"color\": \"white\"}}, \"type\": \"table\"}]}, \"layout\": {\"annotationdefaults\": {\"arrowcolor\": \"#2a3f5f\", \"arrowhead\": 0, \"arrowwidth\": 1}, \"autotypenumbers\": \"strict\", \"coloraxis\": {\"colorbar\": {\"outlinewidth\": 0, \"ticks\": \"\"}}, \"colorscale\": {\"diverging\": [[0, \"#8e0152\"], [0.1, \"#c51b7d\"], [0.2, \"#de77ae\"], [0.3, \"#f1b6da\"], [0.4, \"#fde0ef\"], [0.5, \"#f7f7f7\"], [0.6, \"#e6f5d0\"], [0.7, \"#b8e186\"], [0.8, \"#7fbc41\"], [0.9, \"#4d9221\"], [1, \"#276419\"]], \"sequential\": [[0.0, \"#0d0887\"], [0.1111111111111111, \"#46039f\"], [0.2222222222222222, \"#7201a8\"], [0.3333333333333333, \"#9c179e\"], [0.4444444444444444, \"#bd3786\"], [0.5555555555555556, \"#d8576b\"], [0.6666666666666666, \"#ed7953\"], [0.7777777777777778, \"#fb9f3a\"], [0.8888888888888888, \"#fdca26\"], [1.0, \"#f0f921\"]], \"sequentialminus\": [[0.0, \"#0d0887\"], [0.1111111111111111, \"#46039f\"], [0.2222222222222222, \"#7201a8\"], [0.3333333333333333, \"#9c179e\"], [0.4444444444444444, \"#bd3786\"], [0.5555555555555556, \"#d8576b\"], [0.6666666666666666, \"#ed7953\"], [0.7777777777777778, \"#fb9f3a\"], [0.8888888888888888, \"#fdca26\"], [1.0, \"#f0f921\"]]}, \"colorway\": [\"#636efa\", \"#EF553B\", \"#00cc96\", \"#ab63fa\", \"#FFA15A\", \"#19d3f3\", \"#FF6692\", \"#B6E880\", \"#FF97FF\", \"#FECB52\"], \"font\": {\"color\": \"#2a3f5f\"}, \"geo\": {\"bgcolor\": \"white\", \"lakecolor\": \"white\", \"landcolor\": \"#E5ECF6\", \"showlakes\": true, \"showland\": true, \"subunitcolor\": \"white\"}, \"hoverlabel\": {\"align\": \"left\"}, \"hovermode\": \"closest\", \"mapbox\": {\"style\": \"light\"}, \"paper_bgcolor\": \"white\", \"plot_bgcolor\": \"#E5ECF6\", \"polar\": {\"angularaxis\": {\"gridcolor\": \"white\", \"linecolor\": \"white\", \"ticks\": \"\"}, \"bgcolor\": \"#E5ECF6\", \"radialaxis\": {\"gridcolor\": \"white\", \"linecolor\": \"white\", \"ticks\": \"\"}}, \"scene\": {\"xaxis\": {\"backgroundcolor\": \"#E5ECF6\", \"gridcolor\": \"white\", \"gridwidth\": 2, \"linecolor\": \"white\", \"showbackground\": true, \"ticks\": \"\", \"zerolinecolor\": \"white\"}, \"yaxis\": {\"backgroundcolor\": \"#E5ECF6\", \"gridcolor\": \"white\", \"gridwidth\": 2, \"linecolor\": \"white\", \"showbackground\": true, \"ticks\": \"\", \"zerolinecolor\": \"white\"}, \"zaxis\": {\"backgroundcolor\": \"#E5ECF6\", \"gridcolor\": \"white\", \"gridwidth\": 2, \"linecolor\": \"white\", \"showbackground\": true, \"ticks\": \"\", \"zerolinecolor\": \"white\"}}, \"shapedefaults\": {\"line\": {\"color\": \"#2a3f5f\"}}, \"ternary\": {\"aaxis\": {\"gridcolor\": \"white\", \"linecolor\": \"white\", \"ticks\": \"\"}, \"baxis\": {\"gridcolor\": \"white\", \"linecolor\": \"white\", \"ticks\": \"\"}, \"bgcolor\": \"#E5ECF6\", \"caxis\": {\"gridcolor\": \"white\", \"linecolor\": \"white\", \"ticks\": \"\"}}, \"title\": {\"x\": 0.05}, \"xaxis\": {\"automargin\": true, \"gridcolor\": \"white\", \"linecolor\": \"white\", \"ticks\": \"\", \"title\": {\"standoff\": 15}, \"zerolinecolor\": \"white\", \"zerolinewidth\": 2}, \"yaxis\": {\"automargin\": true, \"gridcolor\": \"white\", \"linecolor\": \"white\", \"ticks\": \"\", \"title\": {\"standoff\": 15}, \"zerolinecolor\": \"white\", \"zerolinewidth\": 2}}}, \"title\": {\"text\": \"<b>Unit discharge and production in Plant1</b>\"}, \"xaxis\": {\"anchor\": \"y\", \"domain\": [0.0, 0.94], \"title\": {\"text\": \"<b>Time</b> (Hour)\"}}, \"yaxis\": {\"anchor\": \"x\", \"domain\": [0.0, 1.0], \"dtick\": 20, \"range\": [0, 120], \"tick0\": 20, \"title\": {\"text\": \"<b>Discharge</b> (m<sup>3</sup>/s)\"}}, \"yaxis2\": {\"anchor\": \"x\", \"dtick\": 40, \"overlaying\": \"y\", \"range\": [0, 240], \"side\": \"right\", \"tick0\": 40, \"title\": {\"text\": \"<b>Production</b> (MW)\"}}},                        {\"responsive\": true}                    ).then(function(){\n",
       "                            \n",
       "var gd = document.getElementById('e0ebf8e5-ad37-453e-a9b7-bdb52187a061');\n",
       "var x = new MutationObserver(function (mutations, observer) {{\n",
       "        var display = window.getComputedStyle(gd).display;\n",
       "        if (!display || display === 'none') {{\n",
       "            console.log([gd, 'removed!']);\n",
       "            Plotly.purge(gd);\n",
       "            observer.disconnect();\n",
       "        }}\n",
       "}});\n",
       "\n",
       "// Listen for the removal of the full notebook cells\n",
       "var notebookContainer = gd.closest('#notebook-container');\n",
       "if (notebookContainer) {{\n",
       "    x.observe(notebookContainer, {childList: true});\n",
       "}}\n",
       "\n",
       "// Listen for the clearing of the current output cell\n",
       "var outputEl = gd.closest('.output');\n",
       "if (outputEl) {{\n",
       "    x.observe(outputEl, {childList: true});\n",
       "}}\n",
       "\n",
       "                        })                };                });            </script>        </div>"
      ]
     },
     "metadata": {},
     "output_type": "display_data"
    }
   ],
   "source": [
    "# Plotting discharge and production results from Plant 1\r\n",
    "\r\n",
    "# Retrieving discharge results on generators\r\n",
    "G1_discharge=shop.model.generator.Plant1_Generator1.discharge.get()\r\n",
    "G2_discharge=shop.model.generator.Plant1_Generator2.discharge.get()\r\n",
    "\r\n",
    "# Retrieving production results on generators\r\n",
    "G1_production=shop.model.generator.Plant1_Generator1.production.get()\r\n",
    "G2_production=shop.model.generator.Plant1_Generator2.production.get()\r\n",
    "\r\n",
    "# Preparing for secondary y axis by calling make_subplots function\r\n",
    "coloraxis = px.colors.sequential.RdBu_r\r\n",
    "#coloraxis=[\"rgb(0, 200, 30)\",\"rgb(0, 200, 60)\",\"rgb(0, 200, 90)\",\"rgb(0, 200, 120)\",\"rgb(0, 200, 150)\",\"rgb(0, 200, 180)\",\"rgb(0, 200, 210)\",\"rgb(0, 200, 255)\"]\r\n",
    "#print(coloraxis)\r\n",
    "fig = make_subplots(specs=[[{\"secondary_y\": True}]])\r\n",
    "fig.add_trace(go.Bar(x=G1_discharge.index, y=G1_discharge.values, name=\"G1 Discharge\", marker_color=coloraxis[1]), secondary_y=False)\r\n",
    "fig.add_trace(go.Bar(x=G2_discharge.index, y=G2_discharge.values, name=\"G2 Discharge\", marker_color=coloraxis[2]), secondary_y=False)\r\n",
    "fig.add_trace(go.Scatter(x=G1_production.index, y=G1_production.values, name=\"G1 production\", marker_color=coloraxis[3]), secondary_y=True)\r\n",
    "fig.add_trace(go.Scatter(x=G2_production.index, y=G2_production.values, name=\"G2 production\", marker_color=coloraxis[4]), secondary_y=True)\r\n",
    "fig.update_layout(title_text=\"<b>Unit discharge and production in Plant1</b>\", barmode=\"stack\")\r\n",
    "fig.update_xaxes(title_text=\"<b>Time</b> (Hour)\")\r\n",
    "fig.update_yaxes(title_text=\"<b>Discharge</b> (m<sup>3</sup>/s)\", secondary_y=False, range=[0, 120], tick0=20, dtick=20)\r\n",
    "fig.update_yaxes(title_text=\"<b>Production</b> (MW)\", secondary_y=True, range=[0, 240], tick0=40, dtick=40)\r\n",
    "\r\n",
    "fig.show()"
   ]
  },
  {
   "cell_type": "code",
   "execution_count": 35,
   "metadata": {
    "Collapsed": "false"
   },
   "outputs": [
    {
     "data": {
      "application/vnd.plotly.v1+json": {
       "config": {
        "plotlyServerURL": "https://plot.ly"
       },
       "data": [
        {
         "marker": {
          "color": "rgb(33,102,172)"
         },
         "name": "G1 Discharge",
         "type": "bar",
         "x": [
          "2018-01-23T00:00:00",
          "2018-01-23T01:00:00",
          "2018-01-23T02:00:00",
          "2018-01-23T03:00:00",
          "2018-01-23T04:00:00",
          "2018-01-23T05:00:00",
          "2018-01-23T06:00:00",
          "2018-01-23T07:00:00",
          "2018-01-23T08:00:00",
          "2018-01-23T09:00:00",
          "2018-01-23T10:00:00",
          "2018-01-23T11:00:00",
          "2018-01-23T12:00:00",
          "2018-01-23T13:00:00",
          "2018-01-23T14:00:00",
          "2018-01-23T15:00:00",
          "2018-01-23T16:00:00",
          "2018-01-23T17:00:00",
          "2018-01-23T18:00:00",
          "2018-01-23T19:00:00",
          "2018-01-23T20:00:00",
          "2018-01-23T21:00:00",
          "2018-01-23T22:00:00",
          "2018-01-23T23:00:00",
          "2018-01-24T00:00:00",
          "2018-01-24T01:00:00",
          "2018-01-24T02:00:00",
          "2018-01-24T03:00:00",
          "2018-01-24T04:00:00",
          "2018-01-24T05:00:00",
          "2018-01-24T06:00:00",
          "2018-01-24T07:00:00",
          "2018-01-24T08:00:00",
          "2018-01-24T09:00:00",
          "2018-01-24T10:00:00",
          "2018-01-24T11:00:00",
          "2018-01-24T12:00:00",
          "2018-01-24T13:00:00",
          "2018-01-24T14:00:00",
          "2018-01-24T15:00:00",
          "2018-01-24T16:00:00",
          "2018-01-24T17:00:00",
          "2018-01-24T18:00:00",
          "2018-01-24T19:00:00",
          "2018-01-24T20:00:00",
          "2018-01-24T21:00:00",
          "2018-01-24T22:00:00",
          "2018-01-24T23:00:00",
          "2018-01-25T00:00:00",
          "2018-01-25T01:00:00",
          "2018-01-25T02:00:00",
          "2018-01-25T03:00:00",
          "2018-01-25T04:00:00",
          "2018-01-25T05:00:00",
          "2018-01-25T06:00:00",
          "2018-01-25T07:00:00",
          "2018-01-25T08:00:00",
          "2018-01-25T09:00:00",
          "2018-01-25T10:00:00",
          "2018-01-25T11:00:00",
          "2018-01-25T12:00:00",
          "2018-01-25T13:00:00",
          "2018-01-25T14:00:00",
          "2018-01-25T15:00:00",
          "2018-01-25T16:00:00",
          "2018-01-25T17:00:00",
          "2018-01-25T18:00:00",
          "2018-01-25T19:00:00",
          "2018-01-25T20:00:00",
          "2018-01-25T21:00:00",
          "2018-01-25T22:00:00",
          "2018-01-25T23:00:00"
         ],
         "xaxis": "x",
         "y": [
          220.95,
          220.95,
          191.81489460152576,
          162.76786629670656,
          191.91261076108532,
          230.76082045930576,
          250.83916559116946,
          251.60759916546922,
          252.8209233870679,
          254.11228380377565,
          255.04035568348652,
          255.98337721130738,
          256.94562433269243,
          257.93916277288446,
          258.97872080142935,
          260.0368674039755,
          261.11422194441076,
          262.2114349790269,
          263.3293296115387,
          249.55965693218786,
          235.54666666666665,
          220.95,
          220.95,
          220.95,
          194.2201470885361,
          194.34882905456524,
          168.01731441591647,
          168.25113282824702,
          194.47348204765785,
          194.85468293906612,
          220.95,
          250.1433333333333,
          250.1433333333333,
          250.1433333333333,
          235.54666666666665,
          235.54666666666665,
          235.54666666666665,
          235.54666666666665,
          235.54666666666665,
          235.54666666666665,
          235.54666666666665,
          235.54666666666665,
          235.54666666666665,
          235.54666666666665,
          220.95,
          220.95,
          220.95,
          197.63462269779052,
          197.84033831235013,
          198.0516566804717,
          175.57329068633567,
          175.94583125583517,
          176.33345177544885,
          198.84229835040065,
          220.95,
          250.1433333333333,
          250.1433333333333,
          250.1433333333333,
          250.1433333333333,
          250.1433333333333,
          250.1433333333333,
          250.1433333333333,
          250.1433333333333,
          250.1433333333333,
          264.74,
          264.73999999999995,
          264.73999999999995,
          264.73999999999995,
          264.73999999999995,
          264.73999999999995,
          257.35946722547726,
          250.1433333333333
         ],
         "yaxis": "y"
        },
        {
         "marker": {
          "color": "rgb(67,147,195)"
         },
         "name": "G2 Discharge",
         "type": "bar",
         "x": [
          "2018-01-23T00:00:00",
          "2018-01-23T01:00:00",
          "2018-01-23T02:00:00",
          "2018-01-23T03:00:00",
          "2018-01-23T04:00:00",
          "2018-01-23T05:00:00",
          "2018-01-23T06:00:00",
          "2018-01-23T07:00:00",
          "2018-01-23T08:00:00",
          "2018-01-23T09:00:00",
          "2018-01-23T10:00:00",
          "2018-01-23T11:00:00",
          "2018-01-23T12:00:00",
          "2018-01-23T13:00:00",
          "2018-01-23T14:00:00",
          "2018-01-23T15:00:00",
          "2018-01-23T16:00:00",
          "2018-01-23T17:00:00",
          "2018-01-23T18:00:00",
          "2018-01-23T19:00:00",
          "2018-01-23T20:00:00",
          "2018-01-23T21:00:00",
          "2018-01-23T22:00:00",
          "2018-01-23T23:00:00",
          "2018-01-24T00:00:00",
          "2018-01-24T01:00:00",
          "2018-01-24T02:00:00",
          "2018-01-24T03:00:00",
          "2018-01-24T04:00:00",
          "2018-01-24T05:00:00",
          "2018-01-24T06:00:00",
          "2018-01-24T07:00:00",
          "2018-01-24T08:00:00",
          "2018-01-24T09:00:00",
          "2018-01-24T10:00:00",
          "2018-01-24T11:00:00",
          "2018-01-24T12:00:00",
          "2018-01-24T13:00:00",
          "2018-01-24T14:00:00",
          "2018-01-24T15:00:00",
          "2018-01-24T16:00:00",
          "2018-01-24T17:00:00",
          "2018-01-24T18:00:00",
          "2018-01-24T19:00:00",
          "2018-01-24T20:00:00",
          "2018-01-24T21:00:00",
          "2018-01-24T22:00:00",
          "2018-01-24T23:00:00",
          "2018-01-25T00:00:00",
          "2018-01-25T01:00:00",
          "2018-01-25T02:00:00",
          "2018-01-25T03:00:00",
          "2018-01-25T04:00:00",
          "2018-01-25T05:00:00",
          "2018-01-25T06:00:00",
          "2018-01-25T07:00:00",
          "2018-01-25T08:00:00",
          "2018-01-25T09:00:00",
          "2018-01-25T10:00:00",
          "2018-01-25T11:00:00",
          "2018-01-25T12:00:00",
          "2018-01-25T13:00:00",
          "2018-01-25T14:00:00",
          "2018-01-25T15:00:00",
          "2018-01-25T16:00:00",
          "2018-01-25T17:00:00",
          "2018-01-25T18:00:00",
          "2018-01-25T19:00:00",
          "2018-01-25T20:00:00",
          "2018-01-25T21:00:00",
          "2018-01-25T22:00:00",
          "2018-01-25T23:00:00"
         ],
         "xaxis": "x",
         "y": [
          74.3040437611387,
          74.39641136973495,
          74.49267460048854,
          74.456959017969,
          74.65985368401812,
          74.73828623239127,
          78.52054073437895,
          85.4,
          85.4,
          79.46154253570018,
          79.72437537317455,
          79.99101572066596,
          80.2615637432532,
          80.54146378486564,
          80.83379582764799,
          81.13078806830909,
          81.4325770405618,
          81.75435662951789,
          82.08214746957395,
          77.82116240680998,
          77.98984392889048,
          78.14888072452489,
          78.3475949141772,
          78.55025840309445,
          78.75424898335197,
          77.54599280577646,
          74.66,
          74.66,
          75.70496019422998,
          79.91256420666645,
          80.16814962121623,
          80.39640754940922,
          80.60647436681471,
          80.81797062411881,
          81.03091205862597,
          81.22667353380241,
          81.48863610997249,
          81.76229548683736,
          82.05933420276183,
          82.36775131817444,
          82.67912397351785,
          82.9935017232285,
          83.31093503916284,
          83.64343399567821,
          83.98999412890473,
          84.31556714179176,
          84.7321430319866,
          78.15823579121879,
          81.82,
          78.23999999999998,
          74.66,
          74.66,
          74.66,
          81.82,
          85.4,
          85.4,
          85.4,
          85.4,
          85.4,
          85.4,
          85.4,
          85.4,
          85.4,
          85.4,
          85.4,
          85.4,
          85.4,
          85.4,
          85.4,
          85.4,
          85.4,
          85.4
         ],
         "yaxis": "y"
        },
        {
         "marker": {
          "color": "rgb(146,197,222)"
         },
         "name": "G3 Discharge",
         "type": "bar",
         "x": [
          "2018-01-23T00:00:00",
          "2018-01-23T01:00:00",
          "2018-01-23T02:00:00",
          "2018-01-23T03:00:00",
          "2018-01-23T04:00:00",
          "2018-01-23T05:00:00",
          "2018-01-23T06:00:00",
          "2018-01-23T07:00:00",
          "2018-01-23T08:00:00",
          "2018-01-23T09:00:00",
          "2018-01-23T10:00:00",
          "2018-01-23T11:00:00",
          "2018-01-23T12:00:00",
          "2018-01-23T13:00:00",
          "2018-01-23T14:00:00",
          "2018-01-23T15:00:00",
          "2018-01-23T16:00:00",
          "2018-01-23T17:00:00",
          "2018-01-23T18:00:00",
          "2018-01-23T19:00:00",
          "2018-01-23T20:00:00",
          "2018-01-23T21:00:00",
          "2018-01-23T22:00:00",
          "2018-01-23T23:00:00",
          "2018-01-24T00:00:00",
          "2018-01-24T01:00:00",
          "2018-01-24T02:00:00",
          "2018-01-24T03:00:00",
          "2018-01-24T04:00:00",
          "2018-01-24T05:00:00",
          "2018-01-24T06:00:00",
          "2018-01-24T07:00:00",
          "2018-01-24T08:00:00",
          "2018-01-24T09:00:00",
          "2018-01-24T10:00:00",
          "2018-01-24T11:00:00",
          "2018-01-24T12:00:00",
          "2018-01-24T13:00:00",
          "2018-01-24T14:00:00",
          "2018-01-24T15:00:00",
          "2018-01-24T16:00:00",
          "2018-01-24T17:00:00",
          "2018-01-24T18:00:00",
          "2018-01-24T19:00:00",
          "2018-01-24T20:00:00",
          "2018-01-24T21:00:00",
          "2018-01-24T22:00:00",
          "2018-01-24T23:00:00",
          "2018-01-25T00:00:00",
          "2018-01-25T01:00:00",
          "2018-01-25T02:00:00",
          "2018-01-25T03:00:00",
          "2018-01-25T04:00:00",
          "2018-01-25T05:00:00",
          "2018-01-25T06:00:00",
          "2018-01-25T07:00:00",
          "2018-01-25T08:00:00",
          "2018-01-25T09:00:00",
          "2018-01-25T10:00:00",
          "2018-01-25T11:00:00",
          "2018-01-25T12:00:00",
          "2018-01-25T13:00:00",
          "2018-01-25T14:00:00",
          "2018-01-25T15:00:00",
          "2018-01-25T16:00:00",
          "2018-01-25T17:00:00",
          "2018-01-25T18:00:00",
          "2018-01-25T19:00:00",
          "2018-01-25T20:00:00",
          "2018-01-25T21:00:00",
          "2018-01-25T22:00:00",
          "2018-01-25T23:00:00"
         ],
         "xaxis": "x",
         "y": [
          0,
          0,
          0,
          0,
          0,
          0,
          78.52003833032748,
          85.4,
          85.4,
          79.46093887296843,
          79.72374013625534,
          79.99034750764146,
          80.26086049928554,
          80.54072254014234,
          80.8330129435742,
          81.12996073594645,
          81.43170222039328,
          81.7545726809761,
          82.08238576239806,
          0,
          0,
          0,
          0,
          0,
          0,
          0,
          0,
          0,
          0,
          0,
          0,
          0,
          0,
          0,
          0,
          0,
          0,
          0,
          0,
          0,
          0,
          0,
          0,
          0,
          0,
          0,
          0,
          0,
          0,
          0,
          0,
          0,
          0,
          0,
          0,
          0,
          0,
          0,
          0,
          0,
          0,
          0,
          0,
          0,
          85.4,
          85.4,
          85.4,
          85.39999999999996,
          85.4,
          85.4,
          85.4,
          0
         ],
         "yaxis": "y"
        },
        {
         "marker": {
          "color": "rgb(209,229,240)"
         },
         "name": "G4 Discharge",
         "type": "bar",
         "x": [
          "2018-01-23T00:00:00",
          "2018-01-23T01:00:00",
          "2018-01-23T02:00:00",
          "2018-01-23T03:00:00",
          "2018-01-23T04:00:00",
          "2018-01-23T05:00:00",
          "2018-01-23T06:00:00",
          "2018-01-23T07:00:00",
          "2018-01-23T08:00:00",
          "2018-01-23T09:00:00",
          "2018-01-23T10:00:00",
          "2018-01-23T11:00:00",
          "2018-01-23T12:00:00",
          "2018-01-23T13:00:00",
          "2018-01-23T14:00:00",
          "2018-01-23T15:00:00",
          "2018-01-23T16:00:00",
          "2018-01-23T17:00:00",
          "2018-01-23T18:00:00",
          "2018-01-23T19:00:00",
          "2018-01-23T20:00:00",
          "2018-01-23T21:00:00",
          "2018-01-23T22:00:00",
          "2018-01-23T23:00:00",
          "2018-01-24T00:00:00",
          "2018-01-24T01:00:00",
          "2018-01-24T02:00:00",
          "2018-01-24T03:00:00",
          "2018-01-24T04:00:00",
          "2018-01-24T05:00:00",
          "2018-01-24T06:00:00",
          "2018-01-24T07:00:00",
          "2018-01-24T08:00:00",
          "2018-01-24T09:00:00",
          "2018-01-24T10:00:00",
          "2018-01-24T11:00:00",
          "2018-01-24T12:00:00",
          "2018-01-24T13:00:00",
          "2018-01-24T14:00:00",
          "2018-01-24T15:00:00",
          "2018-01-24T16:00:00",
          "2018-01-24T17:00:00",
          "2018-01-24T18:00:00",
          "2018-01-24T19:00:00",
          "2018-01-24T20:00:00",
          "2018-01-24T21:00:00",
          "2018-01-24T22:00:00",
          "2018-01-24T23:00:00",
          "2018-01-25T00:00:00",
          "2018-01-25T01:00:00",
          "2018-01-25T02:00:00",
          "2018-01-25T03:00:00",
          "2018-01-25T04:00:00",
          "2018-01-25T05:00:00",
          "2018-01-25T06:00:00",
          "2018-01-25T07:00:00",
          "2018-01-25T08:00:00",
          "2018-01-25T09:00:00",
          "2018-01-25T10:00:00",
          "2018-01-25T11:00:00",
          "2018-01-25T12:00:00",
          "2018-01-25T13:00:00",
          "2018-01-25T14:00:00",
          "2018-01-25T15:00:00",
          "2018-01-25T16:00:00",
          "2018-01-25T17:00:00",
          "2018-01-25T18:00:00",
          "2018-01-25T19:00:00",
          "2018-01-25T20:00:00",
          "2018-01-25T21:00:00",
          "2018-01-25T22:00:00",
          "2018-01-25T23:00:00"
         ],
         "xaxis": "x",
         "y": [
          0,
          0,
          0,
          0,
          0,
          0,
          0,
          85.4,
          85.4,
          0,
          0,
          0,
          0,
          0,
          0,
          0,
          0,
          0,
          0,
          0,
          0,
          0,
          0,
          0,
          0,
          0,
          0,
          0,
          0,
          0,
          0,
          0,
          0,
          0,
          0,
          0,
          0,
          0,
          0,
          0,
          0,
          0,
          0,
          0,
          0,
          0,
          0,
          0,
          0,
          0,
          0,
          0,
          0,
          0,
          0,
          0,
          0,
          0,
          0,
          0,
          0,
          0,
          0,
          0,
          0,
          0,
          0,
          0,
          0,
          0,
          0,
          0
         ],
         "yaxis": "y"
        },
        {
         "marker": {
          "color": "rgb(247,247,247)"
         },
         "name": "G1 production",
         "type": "scatter",
         "x": [
          "2018-01-23T00:00:00",
          "2018-01-23T01:00:00",
          "2018-01-23T02:00:00",
          "2018-01-23T03:00:00",
          "2018-01-23T04:00:00",
          "2018-01-23T05:00:00",
          "2018-01-23T06:00:00",
          "2018-01-23T07:00:00",
          "2018-01-23T08:00:00",
          "2018-01-23T09:00:00",
          "2018-01-23T10:00:00",
          "2018-01-23T11:00:00",
          "2018-01-23T12:00:00",
          "2018-01-23T13:00:00",
          "2018-01-23T14:00:00",
          "2018-01-23T15:00:00",
          "2018-01-23T16:00:00",
          "2018-01-23T17:00:00",
          "2018-01-23T18:00:00",
          "2018-01-23T19:00:00",
          "2018-01-23T20:00:00",
          "2018-01-23T21:00:00",
          "2018-01-23T22:00:00",
          "2018-01-23T23:00:00",
          "2018-01-24T00:00:00",
          "2018-01-24T01:00:00",
          "2018-01-24T02:00:00",
          "2018-01-24T03:00:00",
          "2018-01-24T04:00:00",
          "2018-01-24T05:00:00",
          "2018-01-24T06:00:00",
          "2018-01-24T07:00:00",
          "2018-01-24T08:00:00",
          "2018-01-24T09:00:00",
          "2018-01-24T10:00:00",
          "2018-01-24T11:00:00",
          "2018-01-24T12:00:00",
          "2018-01-24T13:00:00",
          "2018-01-24T14:00:00",
          "2018-01-24T15:00:00",
          "2018-01-24T16:00:00",
          "2018-01-24T17:00:00",
          "2018-01-24T18:00:00",
          "2018-01-24T19:00:00",
          "2018-01-24T20:00:00",
          "2018-01-24T21:00:00",
          "2018-01-24T22:00:00",
          "2018-01-24T23:00:00",
          "2018-01-25T00:00:00",
          "2018-01-25T01:00:00",
          "2018-01-25T02:00:00",
          "2018-01-25T03:00:00",
          "2018-01-25T04:00:00",
          "2018-01-25T05:00:00",
          "2018-01-25T06:00:00",
          "2018-01-25T07:00:00",
          "2018-01-25T08:00:00",
          "2018-01-25T09:00:00",
          "2018-01-25T10:00:00",
          "2018-01-25T11:00:00",
          "2018-01-25T12:00:00",
          "2018-01-25T13:00:00",
          "2018-01-25T14:00:00",
          "2018-01-25T15:00:00",
          "2018-01-25T16:00:00",
          "2018-01-25T17:00:00",
          "2018-01-25T18:00:00",
          "2018-01-25T19:00:00",
          "2018-01-25T20:00:00",
          "2018-01-25T21:00:00",
          "2018-01-25T22:00:00",
          "2018-01-25T23:00:00"
         ],
         "xaxis": "x",
         "y": [
          163.24000256839028,
          163.0277669354516,
          143.19574887274845,
          122.04020380586086,
          142.9331250624857,
          168.41007647981453,
          179.99846133536005,
          179.99837870086822,
          179.99815217827194,
          179.9979545127348,
          179.9978088307915,
          179.99764570759947,
          179.99949746474897,
          179.99943173108537,
          179.99935256996787,
          179.99925898039245,
          179.99914962830212,
          179.99902284863566,
          179.9988753534701,
          172.21710512721347,
          164.03967378330344,
          155.104942601378,
          154.72216060496356,
          154.3338697121756,
          137.09661238574475,
          136.79039498897794,
          118.69081851668072,
          118.551544234496,
          135.76274833218744,
          135.60485814828343,
          151.30950992988085,
          167.04576627565615,
          166.61573460048166,
          166.18516418768212,
          158.00353945163496,
          157.63145343859347,
          157.14037380267737,
          156.6486600648496,
          156.1189566616399,
          155.57322289353323,
          155.02667276642356,
          154.47929845719864,
          153.93109201157915,
          153.3616796604689,
          144.83666710525893,
          144.3220425387242,
          143.66977810791562,
          129.56374076035743,
          129.1479945210774,
          128.724711905831,
          114.50949561977009,
          114.32177111876092,
          114.12795821432165,
          127.17406657127879,
          138.89954444399854,
          152.69457214075535,
          151.93536227800163,
          151.14283513204643,
          150.35030798609097,
          149.5577808401355,
          148.70932689420022,
          147.8345687803096,
          146.95981066641932,
          146.08505255252874,
          151.2793078044259,
          149.95545023932473,
          148.79172802647545,
          147.5701744407399,
          146.12796033930624,
          144.61232207727105,
          140.29746038190416,
          135.71795420791582
         ],
         "yaxis": "y2"
        },
        {
         "marker": {
          "color": "rgb(253,219,199)"
         },
         "name": "G2 production",
         "type": "scatter",
         "x": [
          "2018-01-23T00:00:00",
          "2018-01-23T01:00:00",
          "2018-01-23T02:00:00",
          "2018-01-23T03:00:00",
          "2018-01-23T04:00:00",
          "2018-01-23T05:00:00",
          "2018-01-23T06:00:00",
          "2018-01-23T07:00:00",
          "2018-01-23T08:00:00",
          "2018-01-23T09:00:00",
          "2018-01-23T10:00:00",
          "2018-01-23T11:00:00",
          "2018-01-23T12:00:00",
          "2018-01-23T13:00:00",
          "2018-01-23T14:00:00",
          "2018-01-23T15:00:00",
          "2018-01-23T16:00:00",
          "2018-01-23T17:00:00",
          "2018-01-23T18:00:00",
          "2018-01-23T19:00:00",
          "2018-01-23T20:00:00",
          "2018-01-23T21:00:00",
          "2018-01-23T22:00:00",
          "2018-01-23T23:00:00",
          "2018-01-24T00:00:00",
          "2018-01-24T01:00:00",
          "2018-01-24T02:00:00",
          "2018-01-24T03:00:00",
          "2018-01-24T04:00:00",
          "2018-01-24T05:00:00",
          "2018-01-24T06:00:00",
          "2018-01-24T07:00:00",
          "2018-01-24T08:00:00",
          "2018-01-24T09:00:00",
          "2018-01-24T10:00:00",
          "2018-01-24T11:00:00",
          "2018-01-24T12:00:00",
          "2018-01-24T13:00:00",
          "2018-01-24T14:00:00",
          "2018-01-24T15:00:00",
          "2018-01-24T16:00:00",
          "2018-01-24T17:00:00",
          "2018-01-24T18:00:00",
          "2018-01-24T19:00:00",
          "2018-01-24T20:00:00",
          "2018-01-24T21:00:00",
          "2018-01-24T22:00:00",
          "2018-01-24T23:00:00",
          "2018-01-25T00:00:00",
          "2018-01-25T01:00:00",
          "2018-01-25T02:00:00",
          "2018-01-25T03:00:00",
          "2018-01-25T04:00:00",
          "2018-01-25T05:00:00",
          "2018-01-25T06:00:00",
          "2018-01-25T07:00:00",
          "2018-01-25T08:00:00",
          "2018-01-25T09:00:00",
          "2018-01-25T10:00:00",
          "2018-01-25T11:00:00",
          "2018-01-25T12:00:00",
          "2018-01-25T13:00:00",
          "2018-01-25T14:00:00",
          "2018-01-25T15:00:00",
          "2018-01-25T16:00:00",
          "2018-01-25T17:00:00",
          "2018-01-25T18:00:00",
          "2018-01-25T19:00:00",
          "2018-01-25T20:00:00",
          "2018-01-25T21:00:00",
          "2018-01-25T22:00:00",
          "2018-01-25T23:00:00"
         ],
         "xaxis": "x",
         "y": [
          54.99952848687131,
          54.99952321786436,
          54.99951767184447,
          54.917658609043535,
          54.99950798278213,
          54.999486128556214,
          54.99992168399036,
          53.135698670774154,
          52.917133203079686,
          54.99990136597778,
          54.99989409159493,
          54.99988455443673,
          54.99987247119788,
          54.99985661311983,
          54.99983765817264,
          54.999814725514135,
          54.99978776249126,
          54.99967112560741,
          54.9996229855385,
          54.99983790321192,
          54.99983213548682,
          54.999824398194676,
          54.99981771935156,
          54.999810811548286,
          54.99980369716665,
          54.05558799286915,
          51.965829273341775,
          51.836807158285936,
          52.40531702534038,
          55.000219749022975,
          55.00020759800726,
          55.000208819665225,
          55.000199796143086,
          55.000190867988465,
          55.00018146395007,
          55.00017190725827,
          55.00015802668169,
          55.000146308509706,
          55.00015209297287,
          55.0001384944266,
          55.000123966269605,
          55.00010897279657,
          55.00009381888611,
          55.00008848466086,
          55.00007041970009,
          55.000051976921064,
          55.00003209939338,
          50.917508931753346,
          52.89223138501007,
          50.554797473613306,
          48.138496685782926,
          47.96667606244836,
          47.78936247845462,
          51.88119140093233,
          53.6263724975809,
          53.35954969112648,
          53.11232733318233,
          52.85425583099301,
          52.59618432880361,
          52.33811282661421,
          52.061829817907835,
          51.77698135352881,
          51.49213288914987,
          51.20728442477085,
          47.60536607513765,
          47.196556798977994,
          46.83719756878054,
          46.45997992064433,
          46.01462196189044,
          45.54659050808737,
          45.07855905428429,
          47.8314345793829
         ],
         "yaxis": "y2"
        },
        {
         "marker": {
          "color": "rgb(244,165,130)"
         },
         "name": "G3 production",
         "type": "scatter",
         "x": [
          "2018-01-23T00:00:00",
          "2018-01-23T01:00:00",
          "2018-01-23T02:00:00",
          "2018-01-23T03:00:00",
          "2018-01-23T04:00:00",
          "2018-01-23T05:00:00",
          "2018-01-23T06:00:00",
          "2018-01-23T07:00:00",
          "2018-01-23T08:00:00",
          "2018-01-23T09:00:00",
          "2018-01-23T10:00:00",
          "2018-01-23T11:00:00",
          "2018-01-23T12:00:00",
          "2018-01-23T13:00:00",
          "2018-01-23T14:00:00",
          "2018-01-23T15:00:00",
          "2018-01-23T16:00:00",
          "2018-01-23T17:00:00",
          "2018-01-23T18:00:00",
          "2018-01-23T19:00:00",
          "2018-01-23T20:00:00",
          "2018-01-23T21:00:00",
          "2018-01-23T22:00:00",
          "2018-01-23T23:00:00",
          "2018-01-24T00:00:00",
          "2018-01-24T01:00:00",
          "2018-01-24T02:00:00",
          "2018-01-24T03:00:00",
          "2018-01-24T04:00:00",
          "2018-01-24T05:00:00",
          "2018-01-24T06:00:00",
          "2018-01-24T07:00:00",
          "2018-01-24T08:00:00",
          "2018-01-24T09:00:00",
          "2018-01-24T10:00:00",
          "2018-01-24T11:00:00",
          "2018-01-24T12:00:00",
          "2018-01-24T13:00:00",
          "2018-01-24T14:00:00",
          "2018-01-24T15:00:00",
          "2018-01-24T16:00:00",
          "2018-01-24T17:00:00",
          "2018-01-24T18:00:00",
          "2018-01-24T19:00:00",
          "2018-01-24T20:00:00",
          "2018-01-24T21:00:00",
          "2018-01-24T22:00:00",
          "2018-01-24T23:00:00",
          "2018-01-25T00:00:00",
          "2018-01-25T01:00:00",
          "2018-01-25T02:00:00",
          "2018-01-25T03:00:00",
          "2018-01-25T04:00:00",
          "2018-01-25T05:00:00",
          "2018-01-25T06:00:00",
          "2018-01-25T07:00:00",
          "2018-01-25T08:00:00",
          "2018-01-25T09:00:00",
          "2018-01-25T10:00:00",
          "2018-01-25T11:00:00",
          "2018-01-25T12:00:00",
          "2018-01-25T13:00:00",
          "2018-01-25T14:00:00",
          "2018-01-25T15:00:00",
          "2018-01-25T16:00:00",
          "2018-01-25T17:00:00",
          "2018-01-25T18:00:00",
          "2018-01-25T19:00:00",
          "2018-01-25T20:00:00",
          "2018-01-25T21:00:00",
          "2018-01-25T22:00:00",
          "2018-01-25T23:00:00"
         ],
         "xaxis": "x",
         "y": [
          0,
          0,
          0,
          0,
          0,
          0,
          54.999584306872265,
          53.135698670774154,
          52.917133203079686,
          54.99950100718491,
          54.99947424442347,
          54.999444451783226,
          54.999410929146414,
          54.99937189952271,
          54.9993276528964,
          54.99927782928546,
          54.99922225126376,
          54.99980451481488,
          54.999769461793484,
          0,
          0,
          0,
          0,
          0,
          0,
          0,
          0,
          0,
          0,
          0,
          0,
          0,
          0,
          0,
          0,
          0,
          0,
          0,
          0,
          0,
          0,
          0,
          0,
          0,
          0,
          0,
          0,
          0,
          0,
          0,
          0,
          0,
          0,
          0,
          0,
          0,
          0,
          0,
          0,
          0,
          0,
          0,
          0,
          0,
          47.60536607513765,
          47.196556798977994,
          46.83719756878054,
          46.45997992064431,
          46.01462196189044,
          45.54659050808737,
          45.07855905428429,
          0
         ],
         "yaxis": "y2"
        },
        {
         "marker": {
          "color": "rgb(214,96,77)"
         },
         "name": "G4 production",
         "type": "scatter",
         "x": [
          "2018-01-23T00:00:00",
          "2018-01-23T01:00:00",
          "2018-01-23T02:00:00",
          "2018-01-23T03:00:00",
          "2018-01-23T04:00:00",
          "2018-01-23T05:00:00",
          "2018-01-23T06:00:00",
          "2018-01-23T07:00:00",
          "2018-01-23T08:00:00",
          "2018-01-23T09:00:00",
          "2018-01-23T10:00:00",
          "2018-01-23T11:00:00",
          "2018-01-23T12:00:00",
          "2018-01-23T13:00:00",
          "2018-01-23T14:00:00",
          "2018-01-23T15:00:00",
          "2018-01-23T16:00:00",
          "2018-01-23T17:00:00",
          "2018-01-23T18:00:00",
          "2018-01-23T19:00:00",
          "2018-01-23T20:00:00",
          "2018-01-23T21:00:00",
          "2018-01-23T22:00:00",
          "2018-01-23T23:00:00",
          "2018-01-24T00:00:00",
          "2018-01-24T01:00:00",
          "2018-01-24T02:00:00",
          "2018-01-24T03:00:00",
          "2018-01-24T04:00:00",
          "2018-01-24T05:00:00",
          "2018-01-24T06:00:00",
          "2018-01-24T07:00:00",
          "2018-01-24T08:00:00",
          "2018-01-24T09:00:00",
          "2018-01-24T10:00:00",
          "2018-01-24T11:00:00",
          "2018-01-24T12:00:00",
          "2018-01-24T13:00:00",
          "2018-01-24T14:00:00",
          "2018-01-24T15:00:00",
          "2018-01-24T16:00:00",
          "2018-01-24T17:00:00",
          "2018-01-24T18:00:00",
          "2018-01-24T19:00:00",
          "2018-01-24T20:00:00",
          "2018-01-24T21:00:00",
          "2018-01-24T22:00:00",
          "2018-01-24T23:00:00",
          "2018-01-25T00:00:00",
          "2018-01-25T01:00:00",
          "2018-01-25T02:00:00",
          "2018-01-25T03:00:00",
          "2018-01-25T04:00:00",
          "2018-01-25T05:00:00",
          "2018-01-25T06:00:00",
          "2018-01-25T07:00:00",
          "2018-01-25T08:00:00",
          "2018-01-25T09:00:00",
          "2018-01-25T10:00:00",
          "2018-01-25T11:00:00",
          "2018-01-25T12:00:00",
          "2018-01-25T13:00:00",
          "2018-01-25T14:00:00",
          "2018-01-25T15:00:00",
          "2018-01-25T16:00:00",
          "2018-01-25T17:00:00",
          "2018-01-25T18:00:00",
          "2018-01-25T19:00:00",
          "2018-01-25T20:00:00",
          "2018-01-25T21:00:00",
          "2018-01-25T22:00:00",
          "2018-01-25T23:00:00"
         ],
         "xaxis": "x",
         "y": [
          0,
          0,
          0,
          0,
          0,
          0,
          0,
          53.135698670774154,
          52.917133203079686,
          0,
          0,
          0,
          0,
          0,
          0,
          0,
          0,
          0,
          0,
          0,
          0,
          0,
          0,
          0,
          0,
          0,
          0,
          0,
          0,
          0,
          0,
          0,
          0,
          0,
          0,
          0,
          0,
          0,
          0,
          0,
          0,
          0,
          0,
          0,
          0,
          0,
          0,
          0,
          0,
          0,
          0,
          0,
          0,
          0,
          0,
          0,
          0,
          0,
          0,
          0,
          0,
          0,
          0,
          0,
          0,
          0,
          0,
          0,
          0,
          0,
          0,
          0
         ],
         "yaxis": "y2"
        }
       ],
       "layout": {
        "autosize": true,
        "barmode": "stack",
        "template": {
         "data": {
          "bar": [
           {
            "error_x": {
             "color": "#2a3f5f"
            },
            "error_y": {
             "color": "#2a3f5f"
            },
            "marker": {
             "line": {
              "color": "#E5ECF6",
              "width": 0.5
             }
            },
            "type": "bar"
           }
          ],
          "barpolar": [
           {
            "marker": {
             "line": {
              "color": "#E5ECF6",
              "width": 0.5
             }
            },
            "type": "barpolar"
           }
          ],
          "carpet": [
           {
            "aaxis": {
             "endlinecolor": "#2a3f5f",
             "gridcolor": "white",
             "linecolor": "white",
             "minorgridcolor": "white",
             "startlinecolor": "#2a3f5f"
            },
            "baxis": {
             "endlinecolor": "#2a3f5f",
             "gridcolor": "white",
             "linecolor": "white",
             "minorgridcolor": "white",
             "startlinecolor": "#2a3f5f"
            },
            "type": "carpet"
           }
          ],
          "choropleth": [
           {
            "colorbar": {
             "outlinewidth": 0,
             "ticks": ""
            },
            "type": "choropleth"
           }
          ],
          "contour": [
           {
            "colorbar": {
             "outlinewidth": 0,
             "ticks": ""
            },
            "colorscale": [
             [
              0,
              "#0d0887"
             ],
             [
              0.1111111111111111,
              "#46039f"
             ],
             [
              0.2222222222222222,
              "#7201a8"
             ],
             [
              0.3333333333333333,
              "#9c179e"
             ],
             [
              0.4444444444444444,
              "#bd3786"
             ],
             [
              0.5555555555555556,
              "#d8576b"
             ],
             [
              0.6666666666666666,
              "#ed7953"
             ],
             [
              0.7777777777777778,
              "#fb9f3a"
             ],
             [
              0.8888888888888888,
              "#fdca26"
             ],
             [
              1,
              "#f0f921"
             ]
            ],
            "type": "contour"
           }
          ],
          "contourcarpet": [
           {
            "colorbar": {
             "outlinewidth": 0,
             "ticks": ""
            },
            "type": "contourcarpet"
           }
          ],
          "heatmap": [
           {
            "colorbar": {
             "outlinewidth": 0,
             "ticks": ""
            },
            "colorscale": [
             [
              0,
              "#0d0887"
             ],
             [
              0.1111111111111111,
              "#46039f"
             ],
             [
              0.2222222222222222,
              "#7201a8"
             ],
             [
              0.3333333333333333,
              "#9c179e"
             ],
             [
              0.4444444444444444,
              "#bd3786"
             ],
             [
              0.5555555555555556,
              "#d8576b"
             ],
             [
              0.6666666666666666,
              "#ed7953"
             ],
             [
              0.7777777777777778,
              "#fb9f3a"
             ],
             [
              0.8888888888888888,
              "#fdca26"
             ],
             [
              1,
              "#f0f921"
             ]
            ],
            "type": "heatmap"
           }
          ],
          "heatmapgl": [
           {
            "colorbar": {
             "outlinewidth": 0,
             "ticks": ""
            },
            "colorscale": [
             [
              0,
              "#0d0887"
             ],
             [
              0.1111111111111111,
              "#46039f"
             ],
             [
              0.2222222222222222,
              "#7201a8"
             ],
             [
              0.3333333333333333,
              "#9c179e"
             ],
             [
              0.4444444444444444,
              "#bd3786"
             ],
             [
              0.5555555555555556,
              "#d8576b"
             ],
             [
              0.6666666666666666,
              "#ed7953"
             ],
             [
              0.7777777777777778,
              "#fb9f3a"
             ],
             [
              0.8888888888888888,
              "#fdca26"
             ],
             [
              1,
              "#f0f921"
             ]
            ],
            "type": "heatmapgl"
           }
          ],
          "histogram": [
           {
            "marker": {
             "colorbar": {
              "outlinewidth": 0,
              "ticks": ""
             }
            },
            "type": "histogram"
           }
          ],
          "histogram2d": [
           {
            "colorbar": {
             "outlinewidth": 0,
             "ticks": ""
            },
            "colorscale": [
             [
              0,
              "#0d0887"
             ],
             [
              0.1111111111111111,
              "#46039f"
             ],
             [
              0.2222222222222222,
              "#7201a8"
             ],
             [
              0.3333333333333333,
              "#9c179e"
             ],
             [
              0.4444444444444444,
              "#bd3786"
             ],
             [
              0.5555555555555556,
              "#d8576b"
             ],
             [
              0.6666666666666666,
              "#ed7953"
             ],
             [
              0.7777777777777778,
              "#fb9f3a"
             ],
             [
              0.8888888888888888,
              "#fdca26"
             ],
             [
              1,
              "#f0f921"
             ]
            ],
            "type": "histogram2d"
           }
          ],
          "histogram2dcontour": [
           {
            "colorbar": {
             "outlinewidth": 0,
             "ticks": ""
            },
            "colorscale": [
             [
              0,
              "#0d0887"
             ],
             [
              0.1111111111111111,
              "#46039f"
             ],
             [
              0.2222222222222222,
              "#7201a8"
             ],
             [
              0.3333333333333333,
              "#9c179e"
             ],
             [
              0.4444444444444444,
              "#bd3786"
             ],
             [
              0.5555555555555556,
              "#d8576b"
             ],
             [
              0.6666666666666666,
              "#ed7953"
             ],
             [
              0.7777777777777778,
              "#fb9f3a"
             ],
             [
              0.8888888888888888,
              "#fdca26"
             ],
             [
              1,
              "#f0f921"
             ]
            ],
            "type": "histogram2dcontour"
           }
          ],
          "mesh3d": [
           {
            "colorbar": {
             "outlinewidth": 0,
             "ticks": ""
            },
            "type": "mesh3d"
           }
          ],
          "parcoords": [
           {
            "line": {
             "colorbar": {
              "outlinewidth": 0,
              "ticks": ""
             }
            },
            "type": "parcoords"
           }
          ],
          "pie": [
           {
            "automargin": true,
            "type": "pie"
           }
          ],
          "scatter": [
           {
            "marker": {
             "colorbar": {
              "outlinewidth": 0,
              "ticks": ""
             }
            },
            "type": "scatter"
           }
          ],
          "scatter3d": [
           {
            "line": {
             "colorbar": {
              "outlinewidth": 0,
              "ticks": ""
             }
            },
            "marker": {
             "colorbar": {
              "outlinewidth": 0,
              "ticks": ""
             }
            },
            "type": "scatter3d"
           }
          ],
          "scattercarpet": [
           {
            "marker": {
             "colorbar": {
              "outlinewidth": 0,
              "ticks": ""
             }
            },
            "type": "scattercarpet"
           }
          ],
          "scattergeo": [
           {
            "marker": {
             "colorbar": {
              "outlinewidth": 0,
              "ticks": ""
             }
            },
            "type": "scattergeo"
           }
          ],
          "scattergl": [
           {
            "marker": {
             "colorbar": {
              "outlinewidth": 0,
              "ticks": ""
             }
            },
            "type": "scattergl"
           }
          ],
          "scattermapbox": [
           {
            "marker": {
             "colorbar": {
              "outlinewidth": 0,
              "ticks": ""
             }
            },
            "type": "scattermapbox"
           }
          ],
          "scatterpolar": [
           {
            "marker": {
             "colorbar": {
              "outlinewidth": 0,
              "ticks": ""
             }
            },
            "type": "scatterpolar"
           }
          ],
          "scatterpolargl": [
           {
            "marker": {
             "colorbar": {
              "outlinewidth": 0,
              "ticks": ""
             }
            },
            "type": "scatterpolargl"
           }
          ],
          "scatterternary": [
           {
            "marker": {
             "colorbar": {
              "outlinewidth": 0,
              "ticks": ""
             }
            },
            "type": "scatterternary"
           }
          ],
          "surface": [
           {
            "colorbar": {
             "outlinewidth": 0,
             "ticks": ""
            },
            "colorscale": [
             [
              0,
              "#0d0887"
             ],
             [
              0.1111111111111111,
              "#46039f"
             ],
             [
              0.2222222222222222,
              "#7201a8"
             ],
             [
              0.3333333333333333,
              "#9c179e"
             ],
             [
              0.4444444444444444,
              "#bd3786"
             ],
             [
              0.5555555555555556,
              "#d8576b"
             ],
             [
              0.6666666666666666,
              "#ed7953"
             ],
             [
              0.7777777777777778,
              "#fb9f3a"
             ],
             [
              0.8888888888888888,
              "#fdca26"
             ],
             [
              1,
              "#f0f921"
             ]
            ],
            "type": "surface"
           }
          ],
          "table": [
           {
            "cells": {
             "fill": {
              "color": "#EBF0F8"
             },
             "line": {
              "color": "white"
             }
            },
            "header": {
             "fill": {
              "color": "#C8D4E3"
             },
             "line": {
              "color": "white"
             }
            },
            "type": "table"
           }
          ]
         },
         "layout": {
          "annotationdefaults": {
           "arrowcolor": "#2a3f5f",
           "arrowhead": 0,
           "arrowwidth": 1
          },
          "autotypenumbers": "strict",
          "coloraxis": {
           "colorbar": {
            "outlinewidth": 0,
            "ticks": ""
           }
          },
          "colorscale": {
           "diverging": [
            [
             0,
             "#8e0152"
            ],
            [
             0.1,
             "#c51b7d"
            ],
            [
             0.2,
             "#de77ae"
            ],
            [
             0.3,
             "#f1b6da"
            ],
            [
             0.4,
             "#fde0ef"
            ],
            [
             0.5,
             "#f7f7f7"
            ],
            [
             0.6,
             "#e6f5d0"
            ],
            [
             0.7,
             "#b8e186"
            ],
            [
             0.8,
             "#7fbc41"
            ],
            [
             0.9,
             "#4d9221"
            ],
            [
             1,
             "#276419"
            ]
           ],
           "sequential": [
            [
             0,
             "#0d0887"
            ],
            [
             0.1111111111111111,
             "#46039f"
            ],
            [
             0.2222222222222222,
             "#7201a8"
            ],
            [
             0.3333333333333333,
             "#9c179e"
            ],
            [
             0.4444444444444444,
             "#bd3786"
            ],
            [
             0.5555555555555556,
             "#d8576b"
            ],
            [
             0.6666666666666666,
             "#ed7953"
            ],
            [
             0.7777777777777778,
             "#fb9f3a"
            ],
            [
             0.8888888888888888,
             "#fdca26"
            ],
            [
             1,
             "#f0f921"
            ]
           ],
           "sequentialminus": [
            [
             0,
             "#0d0887"
            ],
            [
             0.1111111111111111,
             "#46039f"
            ],
            [
             0.2222222222222222,
             "#7201a8"
            ],
            [
             0.3333333333333333,
             "#9c179e"
            ],
            [
             0.4444444444444444,
             "#bd3786"
            ],
            [
             0.5555555555555556,
             "#d8576b"
            ],
            [
             0.6666666666666666,
             "#ed7953"
            ],
            [
             0.7777777777777778,
             "#fb9f3a"
            ],
            [
             0.8888888888888888,
             "#fdca26"
            ],
            [
             1,
             "#f0f921"
            ]
           ]
          },
          "colorway": [
           "#636efa",
           "#EF553B",
           "#00cc96",
           "#ab63fa",
           "#FFA15A",
           "#19d3f3",
           "#FF6692",
           "#B6E880",
           "#FF97FF",
           "#FECB52"
          ],
          "font": {
           "color": "#2a3f5f"
          },
          "geo": {
           "bgcolor": "white",
           "lakecolor": "white",
           "landcolor": "#E5ECF6",
           "showlakes": true,
           "showland": true,
           "subunitcolor": "white"
          },
          "hoverlabel": {
           "align": "left"
          },
          "hovermode": "closest",
          "mapbox": {
           "style": "light"
          },
          "paper_bgcolor": "white",
          "plot_bgcolor": "#E5ECF6",
          "polar": {
           "angularaxis": {
            "gridcolor": "white",
            "linecolor": "white",
            "ticks": ""
           },
           "bgcolor": "#E5ECF6",
           "radialaxis": {
            "gridcolor": "white",
            "linecolor": "white",
            "ticks": ""
           }
          },
          "scene": {
           "xaxis": {
            "backgroundcolor": "#E5ECF6",
            "gridcolor": "white",
            "gridwidth": 2,
            "linecolor": "white",
            "showbackground": true,
            "ticks": "",
            "zerolinecolor": "white"
           },
           "yaxis": {
            "backgroundcolor": "#E5ECF6",
            "gridcolor": "white",
            "gridwidth": 2,
            "linecolor": "white",
            "showbackground": true,
            "ticks": "",
            "zerolinecolor": "white"
           },
           "zaxis": {
            "backgroundcolor": "#E5ECF6",
            "gridcolor": "white",
            "gridwidth": 2,
            "linecolor": "white",
            "showbackground": true,
            "ticks": "",
            "zerolinecolor": "white"
           }
          },
          "shapedefaults": {
           "line": {
            "color": "#2a3f5f"
           }
          },
          "ternary": {
           "aaxis": {
            "gridcolor": "white",
            "linecolor": "white",
            "ticks": ""
           },
           "baxis": {
            "gridcolor": "white",
            "linecolor": "white",
            "ticks": ""
           },
           "bgcolor": "#E5ECF6",
           "caxis": {
            "gridcolor": "white",
            "linecolor": "white",
            "ticks": ""
           }
          },
          "title": {
           "x": 0.05
          },
          "xaxis": {
           "automargin": true,
           "gridcolor": "white",
           "linecolor": "white",
           "ticks": "",
           "title": {
            "standoff": 15
           },
           "zerolinecolor": "white",
           "zerolinewidth": 2
          },
          "yaxis": {
           "automargin": true,
           "gridcolor": "white",
           "linecolor": "white",
           "ticks": "",
           "title": {
            "standoff": 15
           },
           "zerolinecolor": "white",
           "zerolinewidth": 2
          }
         }
        },
        "title": {
         "text": "<b>Unit discharge and production in Plant2</b>"
        },
        "xaxis": {
         "anchor": "y",
         "autorange": true,
         "domain": [
          0,
          0.94
         ],
         "range": [
          "2018-01-22 23:30",
          "2018-01-25 23:30"
         ],
         "title": {
          "text": "<b>Time</b> (Hour)"
         },
         "type": "date"
        },
        "yaxis": {
         "anchor": "x",
         "domain": [
          0,
          1
         ],
         "dtick": 60,
         "range": [
          0,
          540
         ],
         "tick0": 60,
         "title": {
          "text": "<b>Discharge</b> (m<sup>3</sup>/s)"
         },
         "type": "linear"
        },
        "yaxis2": {
         "anchor": "x",
         "dtick": 40,
         "overlaying": "y",
         "range": [
          0,
          360
         ],
         "side": "right",
         "tick0": 40,
         "title": {
          "text": "<b>Production</b> (MW)"
         },
         "type": "linear"
        }
       }
      },
      "text/html": [
       "<div>                            <div id=\"af01cb64-117c-4c1c-a4e4-bfb852eec775\" class=\"plotly-graph-div\" style=\"height:525px; width:100%;\"></div>            <script type=\"text/javascript\">                require([\"plotly\"], function(Plotly) {                    window.PLOTLYENV=window.PLOTLYENV || {};                                    if (document.getElementById(\"af01cb64-117c-4c1c-a4e4-bfb852eec775\")) {                    Plotly.newPlot(                        \"af01cb64-117c-4c1c-a4e4-bfb852eec775\",                        [{\"marker\": {\"color\": \"rgb(33,102,172)\"}, \"name\": \"G1 Discharge\", \"type\": \"bar\", \"x\": [\"2018-01-23T00:00:00\", \"2018-01-23T01:00:00\", \"2018-01-23T02:00:00\", \"2018-01-23T03:00:00\", \"2018-01-23T04:00:00\", \"2018-01-23T05:00:00\", \"2018-01-23T06:00:00\", \"2018-01-23T07:00:00\", \"2018-01-23T08:00:00\", \"2018-01-23T09:00:00\", \"2018-01-23T10:00:00\", \"2018-01-23T11:00:00\", \"2018-01-23T12:00:00\", \"2018-01-23T13:00:00\", \"2018-01-23T14:00:00\", \"2018-01-23T15:00:00\", \"2018-01-23T16:00:00\", \"2018-01-23T17:00:00\", \"2018-01-23T18:00:00\", \"2018-01-23T19:00:00\", \"2018-01-23T20:00:00\", \"2018-01-23T21:00:00\", \"2018-01-23T22:00:00\", \"2018-01-23T23:00:00\", \"2018-01-24T00:00:00\", \"2018-01-24T01:00:00\", \"2018-01-24T02:00:00\", \"2018-01-24T03:00:00\", \"2018-01-24T04:00:00\", \"2018-01-24T05:00:00\", \"2018-01-24T06:00:00\", \"2018-01-24T07:00:00\", \"2018-01-24T08:00:00\", \"2018-01-24T09:00:00\", \"2018-01-24T10:00:00\", \"2018-01-24T11:00:00\", \"2018-01-24T12:00:00\", \"2018-01-24T13:00:00\", \"2018-01-24T14:00:00\", \"2018-01-24T15:00:00\", \"2018-01-24T16:00:00\", \"2018-01-24T17:00:00\", \"2018-01-24T18:00:00\", \"2018-01-24T19:00:00\", \"2018-01-24T20:00:00\", \"2018-01-24T21:00:00\", \"2018-01-24T22:00:00\", \"2018-01-24T23:00:00\", \"2018-01-25T00:00:00\", \"2018-01-25T01:00:00\", \"2018-01-25T02:00:00\", \"2018-01-25T03:00:00\", \"2018-01-25T04:00:00\", \"2018-01-25T05:00:00\", \"2018-01-25T06:00:00\", \"2018-01-25T07:00:00\", \"2018-01-25T08:00:00\", \"2018-01-25T09:00:00\", \"2018-01-25T10:00:00\", \"2018-01-25T11:00:00\", \"2018-01-25T12:00:00\", \"2018-01-25T13:00:00\", \"2018-01-25T14:00:00\", \"2018-01-25T15:00:00\", \"2018-01-25T16:00:00\", \"2018-01-25T17:00:00\", \"2018-01-25T18:00:00\", \"2018-01-25T19:00:00\", \"2018-01-25T20:00:00\", \"2018-01-25T21:00:00\", \"2018-01-25T22:00:00\", \"2018-01-25T23:00:00\"], \"xaxis\": \"x\", \"y\": [220.95, 220.95, 191.81489460152576, 162.76786629670656, 191.91261076108532, 230.76082045930576, 250.83916559116946, 251.60759916546922, 252.8209233870679, 254.11228380377565, 255.04035568348652, 255.98337721130738, 256.94562433269243, 257.93916277288446, 258.97872080142935, 260.0368674039755, 261.11422194441076, 262.2114349790269, 263.3293296115387, 249.55965693218786, 235.54666666666665, 220.95, 220.95, 220.95, 194.2201470885361, 194.34882905456524, 168.01731441591647, 168.25113282824702, 194.47348204765785, 194.85468293906612, 220.95, 250.1433333333333, 250.1433333333333, 250.1433333333333, 235.54666666666665, 235.54666666666665, 235.54666666666665, 235.54666666666665, 235.54666666666665, 235.54666666666665, 235.54666666666665, 235.54666666666665, 235.54666666666665, 235.54666666666665, 220.95, 220.95, 220.95, 197.63462269779052, 197.84033831235013, 198.0516566804717, 175.57329068633567, 175.94583125583517, 176.33345177544885, 198.84229835040065, 220.95, 250.1433333333333, 250.1433333333333, 250.1433333333333, 250.1433333333333, 250.1433333333333, 250.1433333333333, 250.1433333333333, 250.1433333333333, 250.1433333333333, 264.74, 264.73999999999995, 264.73999999999995, 264.73999999999995, 264.73999999999995, 264.73999999999995, 257.35946722547726, 250.1433333333333], \"yaxis\": \"y\"}, {\"marker\": {\"color\": \"rgb(67,147,195)\"}, \"name\": \"G2 Discharge\", \"type\": \"bar\", \"x\": [\"2018-01-23T00:00:00\", \"2018-01-23T01:00:00\", \"2018-01-23T02:00:00\", \"2018-01-23T03:00:00\", \"2018-01-23T04:00:00\", \"2018-01-23T05:00:00\", \"2018-01-23T06:00:00\", \"2018-01-23T07:00:00\", \"2018-01-23T08:00:00\", \"2018-01-23T09:00:00\", \"2018-01-23T10:00:00\", \"2018-01-23T11:00:00\", \"2018-01-23T12:00:00\", \"2018-01-23T13:00:00\", \"2018-01-23T14:00:00\", \"2018-01-23T15:00:00\", \"2018-01-23T16:00:00\", \"2018-01-23T17:00:00\", \"2018-01-23T18:00:00\", \"2018-01-23T19:00:00\", \"2018-01-23T20:00:00\", \"2018-01-23T21:00:00\", \"2018-01-23T22:00:00\", \"2018-01-23T23:00:00\", \"2018-01-24T00:00:00\", \"2018-01-24T01:00:00\", \"2018-01-24T02:00:00\", \"2018-01-24T03:00:00\", \"2018-01-24T04:00:00\", \"2018-01-24T05:00:00\", \"2018-01-24T06:00:00\", \"2018-01-24T07:00:00\", \"2018-01-24T08:00:00\", \"2018-01-24T09:00:00\", \"2018-01-24T10:00:00\", \"2018-01-24T11:00:00\", \"2018-01-24T12:00:00\", \"2018-01-24T13:00:00\", \"2018-01-24T14:00:00\", \"2018-01-24T15:00:00\", \"2018-01-24T16:00:00\", \"2018-01-24T17:00:00\", \"2018-01-24T18:00:00\", \"2018-01-24T19:00:00\", \"2018-01-24T20:00:00\", \"2018-01-24T21:00:00\", \"2018-01-24T22:00:00\", \"2018-01-24T23:00:00\", \"2018-01-25T00:00:00\", \"2018-01-25T01:00:00\", \"2018-01-25T02:00:00\", \"2018-01-25T03:00:00\", \"2018-01-25T04:00:00\", \"2018-01-25T05:00:00\", \"2018-01-25T06:00:00\", \"2018-01-25T07:00:00\", \"2018-01-25T08:00:00\", \"2018-01-25T09:00:00\", \"2018-01-25T10:00:00\", \"2018-01-25T11:00:00\", \"2018-01-25T12:00:00\", \"2018-01-25T13:00:00\", \"2018-01-25T14:00:00\", \"2018-01-25T15:00:00\", \"2018-01-25T16:00:00\", \"2018-01-25T17:00:00\", \"2018-01-25T18:00:00\", \"2018-01-25T19:00:00\", \"2018-01-25T20:00:00\", \"2018-01-25T21:00:00\", \"2018-01-25T22:00:00\", \"2018-01-25T23:00:00\"], \"xaxis\": \"x\", \"y\": [74.3040437611387, 74.39641136973495, 74.49267460048854, 74.456959017969, 74.65985368401812, 74.73828623239127, 78.52054073437895, 85.4, 85.4, 79.46154253570018, 79.72437537317455, 79.99101572066596, 80.2615637432532, 80.54146378486564, 80.83379582764799, 81.13078806830909, 81.4325770405618, 81.75435662951789, 82.08214746957395, 77.82116240680998, 77.98984392889048, 78.14888072452489, 78.3475949141772, 78.55025840309445, 78.75424898335197, 77.54599280577646, 74.66, 74.66, 75.70496019422998, 79.91256420666645, 80.16814962121623, 80.39640754940922, 80.60647436681471, 80.81797062411881, 81.03091205862597, 81.22667353380241, 81.48863610997249, 81.76229548683736, 82.05933420276183, 82.36775131817444, 82.67912397351785, 82.9935017232285, 83.31093503916284, 83.64343399567821, 83.98999412890473, 84.31556714179176, 84.7321430319866, 78.15823579121879, 81.82, 78.23999999999998, 74.66, 74.66, 74.66, 81.82, 85.4, 85.4, 85.4, 85.4, 85.4, 85.4, 85.4, 85.4, 85.4, 85.4, 85.4, 85.4, 85.4, 85.4, 85.4, 85.4, 85.4, 85.4], \"yaxis\": \"y\"}, {\"marker\": {\"color\": \"rgb(146,197,222)\"}, \"name\": \"G3 Discharge\", \"type\": \"bar\", \"x\": [\"2018-01-23T00:00:00\", \"2018-01-23T01:00:00\", \"2018-01-23T02:00:00\", \"2018-01-23T03:00:00\", \"2018-01-23T04:00:00\", \"2018-01-23T05:00:00\", \"2018-01-23T06:00:00\", \"2018-01-23T07:00:00\", \"2018-01-23T08:00:00\", \"2018-01-23T09:00:00\", \"2018-01-23T10:00:00\", \"2018-01-23T11:00:00\", \"2018-01-23T12:00:00\", \"2018-01-23T13:00:00\", \"2018-01-23T14:00:00\", \"2018-01-23T15:00:00\", \"2018-01-23T16:00:00\", \"2018-01-23T17:00:00\", \"2018-01-23T18:00:00\", \"2018-01-23T19:00:00\", \"2018-01-23T20:00:00\", \"2018-01-23T21:00:00\", \"2018-01-23T22:00:00\", \"2018-01-23T23:00:00\", \"2018-01-24T00:00:00\", \"2018-01-24T01:00:00\", \"2018-01-24T02:00:00\", \"2018-01-24T03:00:00\", \"2018-01-24T04:00:00\", \"2018-01-24T05:00:00\", \"2018-01-24T06:00:00\", \"2018-01-24T07:00:00\", \"2018-01-24T08:00:00\", \"2018-01-24T09:00:00\", \"2018-01-24T10:00:00\", \"2018-01-24T11:00:00\", \"2018-01-24T12:00:00\", \"2018-01-24T13:00:00\", \"2018-01-24T14:00:00\", \"2018-01-24T15:00:00\", \"2018-01-24T16:00:00\", \"2018-01-24T17:00:00\", \"2018-01-24T18:00:00\", \"2018-01-24T19:00:00\", \"2018-01-24T20:00:00\", \"2018-01-24T21:00:00\", \"2018-01-24T22:00:00\", \"2018-01-24T23:00:00\", \"2018-01-25T00:00:00\", \"2018-01-25T01:00:00\", \"2018-01-25T02:00:00\", \"2018-01-25T03:00:00\", \"2018-01-25T04:00:00\", \"2018-01-25T05:00:00\", \"2018-01-25T06:00:00\", \"2018-01-25T07:00:00\", \"2018-01-25T08:00:00\", \"2018-01-25T09:00:00\", \"2018-01-25T10:00:00\", \"2018-01-25T11:00:00\", \"2018-01-25T12:00:00\", \"2018-01-25T13:00:00\", \"2018-01-25T14:00:00\", \"2018-01-25T15:00:00\", \"2018-01-25T16:00:00\", \"2018-01-25T17:00:00\", \"2018-01-25T18:00:00\", \"2018-01-25T19:00:00\", \"2018-01-25T20:00:00\", \"2018-01-25T21:00:00\", \"2018-01-25T22:00:00\", \"2018-01-25T23:00:00\"], \"xaxis\": \"x\", \"y\": [0.0, 0.0, 0.0, 0.0, 0.0, 0.0, 78.52003833032748, 85.4, 85.4, 79.46093887296843, 79.72374013625534, 79.99034750764146, 80.26086049928554, 80.54072254014234, 80.8330129435742, 81.12996073594645, 81.43170222039328, 81.7545726809761, 82.08238576239806, 0.0, 0.0, 0.0, 0.0, 0.0, 0.0, 0.0, 0.0, 0.0, 0.0, 0.0, 0.0, 0.0, 0.0, 0.0, 0.0, 0.0, 0.0, 0.0, 0.0, 0.0, 0.0, 0.0, 0.0, 0.0, 0.0, 0.0, 0.0, 0.0, 0.0, 0.0, 0.0, 0.0, 0.0, 0.0, 0.0, 0.0, 0.0, 0.0, 0.0, 0.0, 0.0, 0.0, 0.0, 0.0, 85.4, 85.4, 85.4, 85.39999999999996, 85.4, 85.4, 85.4, 0.0], \"yaxis\": \"y\"}, {\"marker\": {\"color\": \"rgb(209,229,240)\"}, \"name\": \"G4 Discharge\", \"type\": \"bar\", \"x\": [\"2018-01-23T00:00:00\", \"2018-01-23T01:00:00\", \"2018-01-23T02:00:00\", \"2018-01-23T03:00:00\", \"2018-01-23T04:00:00\", \"2018-01-23T05:00:00\", \"2018-01-23T06:00:00\", \"2018-01-23T07:00:00\", \"2018-01-23T08:00:00\", \"2018-01-23T09:00:00\", \"2018-01-23T10:00:00\", \"2018-01-23T11:00:00\", \"2018-01-23T12:00:00\", \"2018-01-23T13:00:00\", \"2018-01-23T14:00:00\", \"2018-01-23T15:00:00\", \"2018-01-23T16:00:00\", \"2018-01-23T17:00:00\", \"2018-01-23T18:00:00\", \"2018-01-23T19:00:00\", \"2018-01-23T20:00:00\", \"2018-01-23T21:00:00\", \"2018-01-23T22:00:00\", \"2018-01-23T23:00:00\", \"2018-01-24T00:00:00\", \"2018-01-24T01:00:00\", \"2018-01-24T02:00:00\", \"2018-01-24T03:00:00\", \"2018-01-24T04:00:00\", \"2018-01-24T05:00:00\", \"2018-01-24T06:00:00\", \"2018-01-24T07:00:00\", \"2018-01-24T08:00:00\", \"2018-01-24T09:00:00\", \"2018-01-24T10:00:00\", \"2018-01-24T11:00:00\", \"2018-01-24T12:00:00\", \"2018-01-24T13:00:00\", \"2018-01-24T14:00:00\", \"2018-01-24T15:00:00\", \"2018-01-24T16:00:00\", \"2018-01-24T17:00:00\", \"2018-01-24T18:00:00\", \"2018-01-24T19:00:00\", \"2018-01-24T20:00:00\", \"2018-01-24T21:00:00\", \"2018-01-24T22:00:00\", \"2018-01-24T23:00:00\", \"2018-01-25T00:00:00\", \"2018-01-25T01:00:00\", \"2018-01-25T02:00:00\", \"2018-01-25T03:00:00\", \"2018-01-25T04:00:00\", \"2018-01-25T05:00:00\", \"2018-01-25T06:00:00\", \"2018-01-25T07:00:00\", \"2018-01-25T08:00:00\", \"2018-01-25T09:00:00\", \"2018-01-25T10:00:00\", \"2018-01-25T11:00:00\", \"2018-01-25T12:00:00\", \"2018-01-25T13:00:00\", \"2018-01-25T14:00:00\", \"2018-01-25T15:00:00\", \"2018-01-25T16:00:00\", \"2018-01-25T17:00:00\", \"2018-01-25T18:00:00\", \"2018-01-25T19:00:00\", \"2018-01-25T20:00:00\", \"2018-01-25T21:00:00\", \"2018-01-25T22:00:00\", \"2018-01-25T23:00:00\"], \"xaxis\": \"x\", \"y\": [0.0, 0.0, 0.0, 0.0, 0.0, 0.0, 0.0, 85.4, 85.4, 0.0, 0.0, 0.0, 0.0, 0.0, 0.0, 0.0, 0.0, 0.0, 0.0, 0.0, 0.0, 0.0, 0.0, 0.0, 0.0, 0.0, 0.0, 0.0, 0.0, 0.0, 0.0, 0.0, 0.0, 0.0, 0.0, 0.0, 0.0, 0.0, 0.0, 0.0, 0.0, 0.0, 0.0, 0.0, 0.0, 0.0, 0.0, 0.0, 0.0, 0.0, 0.0, 0.0, 0.0, 0.0, 0.0, 0.0, 0.0, 0.0, 0.0, 0.0, 0.0, 0.0, 0.0, 0.0, 0.0, 0.0, 0.0, 0.0, 0.0, 0.0, 0.0, 0.0], \"yaxis\": \"y\"}, {\"marker\": {\"color\": \"rgb(247,247,247)\"}, \"name\": \"G1 production\", \"type\": \"scatter\", \"x\": [\"2018-01-23T00:00:00\", \"2018-01-23T01:00:00\", \"2018-01-23T02:00:00\", \"2018-01-23T03:00:00\", \"2018-01-23T04:00:00\", \"2018-01-23T05:00:00\", \"2018-01-23T06:00:00\", \"2018-01-23T07:00:00\", \"2018-01-23T08:00:00\", \"2018-01-23T09:00:00\", \"2018-01-23T10:00:00\", \"2018-01-23T11:00:00\", \"2018-01-23T12:00:00\", \"2018-01-23T13:00:00\", \"2018-01-23T14:00:00\", \"2018-01-23T15:00:00\", \"2018-01-23T16:00:00\", \"2018-01-23T17:00:00\", \"2018-01-23T18:00:00\", \"2018-01-23T19:00:00\", \"2018-01-23T20:00:00\", \"2018-01-23T21:00:00\", \"2018-01-23T22:00:00\", \"2018-01-23T23:00:00\", \"2018-01-24T00:00:00\", \"2018-01-24T01:00:00\", \"2018-01-24T02:00:00\", \"2018-01-24T03:00:00\", \"2018-01-24T04:00:00\", \"2018-01-24T05:00:00\", \"2018-01-24T06:00:00\", \"2018-01-24T07:00:00\", \"2018-01-24T08:00:00\", \"2018-01-24T09:00:00\", \"2018-01-24T10:00:00\", \"2018-01-24T11:00:00\", \"2018-01-24T12:00:00\", \"2018-01-24T13:00:00\", \"2018-01-24T14:00:00\", \"2018-01-24T15:00:00\", \"2018-01-24T16:00:00\", \"2018-01-24T17:00:00\", \"2018-01-24T18:00:00\", \"2018-01-24T19:00:00\", \"2018-01-24T20:00:00\", \"2018-01-24T21:00:00\", \"2018-01-24T22:00:00\", \"2018-01-24T23:00:00\", \"2018-01-25T00:00:00\", \"2018-01-25T01:00:00\", \"2018-01-25T02:00:00\", \"2018-01-25T03:00:00\", \"2018-01-25T04:00:00\", \"2018-01-25T05:00:00\", \"2018-01-25T06:00:00\", \"2018-01-25T07:00:00\", \"2018-01-25T08:00:00\", \"2018-01-25T09:00:00\", \"2018-01-25T10:00:00\", \"2018-01-25T11:00:00\", \"2018-01-25T12:00:00\", \"2018-01-25T13:00:00\", \"2018-01-25T14:00:00\", \"2018-01-25T15:00:00\", \"2018-01-25T16:00:00\", \"2018-01-25T17:00:00\", \"2018-01-25T18:00:00\", \"2018-01-25T19:00:00\", \"2018-01-25T20:00:00\", \"2018-01-25T21:00:00\", \"2018-01-25T22:00:00\", \"2018-01-25T23:00:00\"], \"xaxis\": \"x\", \"y\": [163.24000256839028, 163.0277669354516, 143.19574887274845, 122.04020380586086, 142.9331250624857, 168.41007647981453, 179.99846133536005, 179.99837870086822, 179.99815217827194, 179.9979545127348, 179.9978088307915, 179.99764570759947, 179.99949746474897, 179.99943173108537, 179.99935256996787, 179.99925898039245, 179.99914962830212, 179.99902284863566, 179.9988753534701, 172.21710512721347, 164.03967378330344, 155.104942601378, 154.72216060496356, 154.3338697121756, 137.09661238574475, 136.79039498897794, 118.69081851668072, 118.551544234496, 135.76274833218744, 135.60485814828343, 151.30950992988085, 167.04576627565615, 166.61573460048166, 166.18516418768212, 158.00353945163496, 157.63145343859347, 157.14037380267737, 156.6486600648496, 156.1189566616399, 155.57322289353323, 155.02667276642356, 154.47929845719864, 153.93109201157915, 153.3616796604689, 144.83666710525893, 144.3220425387242, 143.66977810791562, 129.56374076035743, 129.1479945210774, 128.724711905831, 114.50949561977009, 114.32177111876092, 114.12795821432165, 127.17406657127879, 138.89954444399854, 152.69457214075535, 151.93536227800163, 151.14283513204643, 150.35030798609097, 149.5577808401355, 148.70932689420022, 147.8345687803096, 146.95981066641932, 146.08505255252874, 151.2793078044259, 149.95545023932473, 148.79172802647545, 147.5701744407399, 146.12796033930624, 144.61232207727105, 140.29746038190416, 135.71795420791582], \"yaxis\": \"y2\"}, {\"marker\": {\"color\": \"rgb(253,219,199)\"}, \"name\": \"G2 production\", \"type\": \"scatter\", \"x\": [\"2018-01-23T00:00:00\", \"2018-01-23T01:00:00\", \"2018-01-23T02:00:00\", \"2018-01-23T03:00:00\", \"2018-01-23T04:00:00\", \"2018-01-23T05:00:00\", \"2018-01-23T06:00:00\", \"2018-01-23T07:00:00\", \"2018-01-23T08:00:00\", \"2018-01-23T09:00:00\", \"2018-01-23T10:00:00\", \"2018-01-23T11:00:00\", \"2018-01-23T12:00:00\", \"2018-01-23T13:00:00\", \"2018-01-23T14:00:00\", \"2018-01-23T15:00:00\", \"2018-01-23T16:00:00\", \"2018-01-23T17:00:00\", \"2018-01-23T18:00:00\", \"2018-01-23T19:00:00\", \"2018-01-23T20:00:00\", \"2018-01-23T21:00:00\", \"2018-01-23T22:00:00\", \"2018-01-23T23:00:00\", \"2018-01-24T00:00:00\", \"2018-01-24T01:00:00\", \"2018-01-24T02:00:00\", \"2018-01-24T03:00:00\", \"2018-01-24T04:00:00\", \"2018-01-24T05:00:00\", \"2018-01-24T06:00:00\", \"2018-01-24T07:00:00\", \"2018-01-24T08:00:00\", \"2018-01-24T09:00:00\", \"2018-01-24T10:00:00\", \"2018-01-24T11:00:00\", \"2018-01-24T12:00:00\", \"2018-01-24T13:00:00\", \"2018-01-24T14:00:00\", \"2018-01-24T15:00:00\", \"2018-01-24T16:00:00\", \"2018-01-24T17:00:00\", \"2018-01-24T18:00:00\", \"2018-01-24T19:00:00\", \"2018-01-24T20:00:00\", \"2018-01-24T21:00:00\", \"2018-01-24T22:00:00\", \"2018-01-24T23:00:00\", \"2018-01-25T00:00:00\", \"2018-01-25T01:00:00\", \"2018-01-25T02:00:00\", \"2018-01-25T03:00:00\", \"2018-01-25T04:00:00\", \"2018-01-25T05:00:00\", \"2018-01-25T06:00:00\", \"2018-01-25T07:00:00\", \"2018-01-25T08:00:00\", \"2018-01-25T09:00:00\", \"2018-01-25T10:00:00\", \"2018-01-25T11:00:00\", \"2018-01-25T12:00:00\", \"2018-01-25T13:00:00\", \"2018-01-25T14:00:00\", \"2018-01-25T15:00:00\", \"2018-01-25T16:00:00\", \"2018-01-25T17:00:00\", \"2018-01-25T18:00:00\", \"2018-01-25T19:00:00\", \"2018-01-25T20:00:00\", \"2018-01-25T21:00:00\", \"2018-01-25T22:00:00\", \"2018-01-25T23:00:00\"], \"xaxis\": \"x\", \"y\": [54.99952848687131, 54.99952321786436, 54.99951767184447, 54.917658609043535, 54.99950798278213, 54.999486128556214, 54.99992168399036, 53.135698670774154, 52.917133203079686, 54.99990136597778, 54.99989409159493, 54.99988455443673, 54.99987247119788, 54.99985661311983, 54.99983765817264, 54.999814725514135, 54.99978776249126, 54.99967112560741, 54.9996229855385, 54.99983790321192, 54.99983213548682, 54.999824398194676, 54.99981771935156, 54.999810811548286, 54.99980369716665, 54.05558799286915, 51.965829273341775, 51.836807158285936, 52.40531702534038, 55.000219749022975, 55.00020759800726, 55.000208819665225, 55.000199796143086, 55.000190867988465, 55.00018146395007, 55.00017190725827, 55.00015802668169, 55.000146308509706, 55.00015209297287, 55.0001384944266, 55.000123966269605, 55.00010897279657, 55.00009381888611, 55.00008848466086, 55.00007041970009, 55.000051976921064, 55.00003209939338, 50.917508931753346, 52.89223138501007, 50.554797473613306, 48.138496685782926, 47.96667606244836, 47.78936247845462, 51.88119140093233, 53.6263724975809, 53.35954969112648, 53.11232733318233, 52.85425583099301, 52.59618432880361, 52.33811282661421, 52.061829817907835, 51.77698135352881, 51.49213288914987, 51.20728442477085, 47.60536607513765, 47.196556798977994, 46.83719756878054, 46.45997992064433, 46.01462196189044, 45.54659050808737, 45.07855905428429, 47.8314345793829], \"yaxis\": \"y2\"}, {\"marker\": {\"color\": \"rgb(244,165,130)\"}, \"name\": \"G3 production\", \"type\": \"scatter\", \"x\": [\"2018-01-23T00:00:00\", \"2018-01-23T01:00:00\", \"2018-01-23T02:00:00\", \"2018-01-23T03:00:00\", \"2018-01-23T04:00:00\", \"2018-01-23T05:00:00\", \"2018-01-23T06:00:00\", \"2018-01-23T07:00:00\", \"2018-01-23T08:00:00\", \"2018-01-23T09:00:00\", \"2018-01-23T10:00:00\", \"2018-01-23T11:00:00\", \"2018-01-23T12:00:00\", \"2018-01-23T13:00:00\", \"2018-01-23T14:00:00\", \"2018-01-23T15:00:00\", \"2018-01-23T16:00:00\", \"2018-01-23T17:00:00\", \"2018-01-23T18:00:00\", \"2018-01-23T19:00:00\", \"2018-01-23T20:00:00\", \"2018-01-23T21:00:00\", \"2018-01-23T22:00:00\", \"2018-01-23T23:00:00\", \"2018-01-24T00:00:00\", \"2018-01-24T01:00:00\", \"2018-01-24T02:00:00\", \"2018-01-24T03:00:00\", \"2018-01-24T04:00:00\", \"2018-01-24T05:00:00\", \"2018-01-24T06:00:00\", \"2018-01-24T07:00:00\", \"2018-01-24T08:00:00\", \"2018-01-24T09:00:00\", \"2018-01-24T10:00:00\", \"2018-01-24T11:00:00\", \"2018-01-24T12:00:00\", \"2018-01-24T13:00:00\", \"2018-01-24T14:00:00\", \"2018-01-24T15:00:00\", \"2018-01-24T16:00:00\", \"2018-01-24T17:00:00\", \"2018-01-24T18:00:00\", \"2018-01-24T19:00:00\", \"2018-01-24T20:00:00\", \"2018-01-24T21:00:00\", \"2018-01-24T22:00:00\", \"2018-01-24T23:00:00\", \"2018-01-25T00:00:00\", \"2018-01-25T01:00:00\", \"2018-01-25T02:00:00\", \"2018-01-25T03:00:00\", \"2018-01-25T04:00:00\", \"2018-01-25T05:00:00\", \"2018-01-25T06:00:00\", \"2018-01-25T07:00:00\", \"2018-01-25T08:00:00\", \"2018-01-25T09:00:00\", \"2018-01-25T10:00:00\", \"2018-01-25T11:00:00\", \"2018-01-25T12:00:00\", \"2018-01-25T13:00:00\", \"2018-01-25T14:00:00\", \"2018-01-25T15:00:00\", \"2018-01-25T16:00:00\", \"2018-01-25T17:00:00\", \"2018-01-25T18:00:00\", \"2018-01-25T19:00:00\", \"2018-01-25T20:00:00\", \"2018-01-25T21:00:00\", \"2018-01-25T22:00:00\", \"2018-01-25T23:00:00\"], \"xaxis\": \"x\", \"y\": [0.0, 0.0, 0.0, 0.0, 0.0, 0.0, 54.999584306872265, 53.135698670774154, 52.917133203079686, 54.99950100718491, 54.99947424442347, 54.999444451783226, 54.999410929146414, 54.99937189952271, 54.9993276528964, 54.99927782928546, 54.99922225126376, 54.99980451481488, 54.999769461793484, 0.0, 0.0, 0.0, 0.0, 0.0, 0.0, 0.0, 0.0, 0.0, 0.0, 0.0, 0.0, 0.0, 0.0, 0.0, 0.0, 0.0, 0.0, 0.0, 0.0, 0.0, 0.0, 0.0, 0.0, 0.0, 0.0, 0.0, 0.0, 0.0, 0.0, 0.0, 0.0, 0.0, 0.0, 0.0, 0.0, 0.0, 0.0, 0.0, 0.0, 0.0, 0.0, 0.0, 0.0, 0.0, 47.60536607513765, 47.196556798977994, 46.83719756878054, 46.45997992064431, 46.01462196189044, 45.54659050808737, 45.07855905428429, 0.0], \"yaxis\": \"y2\"}, {\"marker\": {\"color\": \"rgb(214,96,77)\"}, \"name\": \"G4 production\", \"type\": \"scatter\", \"x\": [\"2018-01-23T00:00:00\", \"2018-01-23T01:00:00\", \"2018-01-23T02:00:00\", \"2018-01-23T03:00:00\", \"2018-01-23T04:00:00\", \"2018-01-23T05:00:00\", \"2018-01-23T06:00:00\", \"2018-01-23T07:00:00\", \"2018-01-23T08:00:00\", \"2018-01-23T09:00:00\", \"2018-01-23T10:00:00\", \"2018-01-23T11:00:00\", \"2018-01-23T12:00:00\", \"2018-01-23T13:00:00\", \"2018-01-23T14:00:00\", \"2018-01-23T15:00:00\", \"2018-01-23T16:00:00\", \"2018-01-23T17:00:00\", \"2018-01-23T18:00:00\", \"2018-01-23T19:00:00\", \"2018-01-23T20:00:00\", \"2018-01-23T21:00:00\", \"2018-01-23T22:00:00\", \"2018-01-23T23:00:00\", \"2018-01-24T00:00:00\", \"2018-01-24T01:00:00\", \"2018-01-24T02:00:00\", \"2018-01-24T03:00:00\", \"2018-01-24T04:00:00\", \"2018-01-24T05:00:00\", \"2018-01-24T06:00:00\", \"2018-01-24T07:00:00\", \"2018-01-24T08:00:00\", \"2018-01-24T09:00:00\", \"2018-01-24T10:00:00\", \"2018-01-24T11:00:00\", \"2018-01-24T12:00:00\", \"2018-01-24T13:00:00\", \"2018-01-24T14:00:00\", \"2018-01-24T15:00:00\", \"2018-01-24T16:00:00\", \"2018-01-24T17:00:00\", \"2018-01-24T18:00:00\", \"2018-01-24T19:00:00\", \"2018-01-24T20:00:00\", \"2018-01-24T21:00:00\", \"2018-01-24T22:00:00\", \"2018-01-24T23:00:00\", \"2018-01-25T00:00:00\", \"2018-01-25T01:00:00\", \"2018-01-25T02:00:00\", \"2018-01-25T03:00:00\", \"2018-01-25T04:00:00\", \"2018-01-25T05:00:00\", \"2018-01-25T06:00:00\", \"2018-01-25T07:00:00\", \"2018-01-25T08:00:00\", \"2018-01-25T09:00:00\", \"2018-01-25T10:00:00\", \"2018-01-25T11:00:00\", \"2018-01-25T12:00:00\", \"2018-01-25T13:00:00\", \"2018-01-25T14:00:00\", \"2018-01-25T15:00:00\", \"2018-01-25T16:00:00\", \"2018-01-25T17:00:00\", \"2018-01-25T18:00:00\", \"2018-01-25T19:00:00\", \"2018-01-25T20:00:00\", \"2018-01-25T21:00:00\", \"2018-01-25T22:00:00\", \"2018-01-25T23:00:00\"], \"xaxis\": \"x\", \"y\": [0.0, 0.0, 0.0, 0.0, 0.0, 0.0, 0.0, 53.135698670774154, 52.917133203079686, 0.0, 0.0, 0.0, 0.0, 0.0, 0.0, 0.0, 0.0, 0.0, 0.0, 0.0, 0.0, 0.0, 0.0, 0.0, 0.0, 0.0, 0.0, 0.0, 0.0, 0.0, 0.0, 0.0, 0.0, 0.0, 0.0, 0.0, 0.0, 0.0, 0.0, 0.0, 0.0, 0.0, 0.0, 0.0, 0.0, 0.0, 0.0, 0.0, 0.0, 0.0, 0.0, 0.0, 0.0, 0.0, 0.0, 0.0, 0.0, 0.0, 0.0, 0.0, 0.0, 0.0, 0.0, 0.0, 0.0, 0.0, 0.0, 0.0, 0.0, 0.0, 0.0, 0.0], \"yaxis\": \"y2\"}],                        {\"barmode\": \"stack\", \"template\": {\"data\": {\"bar\": [{\"error_x\": {\"color\": \"#2a3f5f\"}, \"error_y\": {\"color\": \"#2a3f5f\"}, \"marker\": {\"line\": {\"color\": \"#E5ECF6\", \"width\": 0.5}}, \"type\": \"bar\"}], \"barpolar\": [{\"marker\": {\"line\": {\"color\": \"#E5ECF6\", \"width\": 0.5}}, \"type\": \"barpolar\"}], \"carpet\": [{\"aaxis\": {\"endlinecolor\": \"#2a3f5f\", \"gridcolor\": \"white\", \"linecolor\": \"white\", \"minorgridcolor\": \"white\", \"startlinecolor\": \"#2a3f5f\"}, \"baxis\": {\"endlinecolor\": \"#2a3f5f\", \"gridcolor\": \"white\", \"linecolor\": \"white\", \"minorgridcolor\": \"white\", \"startlinecolor\": \"#2a3f5f\"}, \"type\": \"carpet\"}], \"choropleth\": [{\"colorbar\": {\"outlinewidth\": 0, \"ticks\": \"\"}, \"type\": \"choropleth\"}], \"contour\": [{\"colorbar\": {\"outlinewidth\": 0, \"ticks\": \"\"}, \"colorscale\": [[0.0, \"#0d0887\"], [0.1111111111111111, \"#46039f\"], [0.2222222222222222, \"#7201a8\"], [0.3333333333333333, \"#9c179e\"], [0.4444444444444444, \"#bd3786\"], [0.5555555555555556, \"#d8576b\"], [0.6666666666666666, \"#ed7953\"], [0.7777777777777778, \"#fb9f3a\"], [0.8888888888888888, \"#fdca26\"], [1.0, \"#f0f921\"]], \"type\": \"contour\"}], \"contourcarpet\": [{\"colorbar\": {\"outlinewidth\": 0, \"ticks\": \"\"}, \"type\": \"contourcarpet\"}], \"heatmap\": [{\"colorbar\": {\"outlinewidth\": 0, \"ticks\": \"\"}, \"colorscale\": [[0.0, \"#0d0887\"], [0.1111111111111111, \"#46039f\"], [0.2222222222222222, \"#7201a8\"], [0.3333333333333333, \"#9c179e\"], [0.4444444444444444, \"#bd3786\"], [0.5555555555555556, \"#d8576b\"], [0.6666666666666666, \"#ed7953\"], [0.7777777777777778, \"#fb9f3a\"], [0.8888888888888888, \"#fdca26\"], [1.0, \"#f0f921\"]], \"type\": \"heatmap\"}], \"heatmapgl\": [{\"colorbar\": {\"outlinewidth\": 0, \"ticks\": \"\"}, \"colorscale\": [[0.0, \"#0d0887\"], [0.1111111111111111, \"#46039f\"], [0.2222222222222222, \"#7201a8\"], [0.3333333333333333, \"#9c179e\"], [0.4444444444444444, \"#bd3786\"], [0.5555555555555556, \"#d8576b\"], [0.6666666666666666, \"#ed7953\"], [0.7777777777777778, \"#fb9f3a\"], [0.8888888888888888, \"#fdca26\"], [1.0, \"#f0f921\"]], \"type\": \"heatmapgl\"}], \"histogram\": [{\"marker\": {\"colorbar\": {\"outlinewidth\": 0, \"ticks\": \"\"}}, \"type\": \"histogram\"}], \"histogram2d\": [{\"colorbar\": {\"outlinewidth\": 0, \"ticks\": \"\"}, \"colorscale\": [[0.0, \"#0d0887\"], [0.1111111111111111, \"#46039f\"], [0.2222222222222222, \"#7201a8\"], [0.3333333333333333, \"#9c179e\"], [0.4444444444444444, \"#bd3786\"], [0.5555555555555556, \"#d8576b\"], [0.6666666666666666, \"#ed7953\"], [0.7777777777777778, \"#fb9f3a\"], [0.8888888888888888, \"#fdca26\"], [1.0, \"#f0f921\"]], \"type\": \"histogram2d\"}], \"histogram2dcontour\": [{\"colorbar\": {\"outlinewidth\": 0, \"ticks\": \"\"}, \"colorscale\": [[0.0, \"#0d0887\"], [0.1111111111111111, \"#46039f\"], [0.2222222222222222, \"#7201a8\"], [0.3333333333333333, \"#9c179e\"], [0.4444444444444444, \"#bd3786\"], [0.5555555555555556, \"#d8576b\"], [0.6666666666666666, \"#ed7953\"], [0.7777777777777778, \"#fb9f3a\"], [0.8888888888888888, \"#fdca26\"], [1.0, \"#f0f921\"]], \"type\": \"histogram2dcontour\"}], \"mesh3d\": [{\"colorbar\": {\"outlinewidth\": 0, \"ticks\": \"\"}, \"type\": \"mesh3d\"}], \"parcoords\": [{\"line\": {\"colorbar\": {\"outlinewidth\": 0, \"ticks\": \"\"}}, \"type\": \"parcoords\"}], \"pie\": [{\"automargin\": true, \"type\": \"pie\"}], \"scatter\": [{\"marker\": {\"colorbar\": {\"outlinewidth\": 0, \"ticks\": \"\"}}, \"type\": \"scatter\"}], \"scatter3d\": [{\"line\": {\"colorbar\": {\"outlinewidth\": 0, \"ticks\": \"\"}}, \"marker\": {\"colorbar\": {\"outlinewidth\": 0, \"ticks\": \"\"}}, \"type\": \"scatter3d\"}], \"scattercarpet\": [{\"marker\": {\"colorbar\": {\"outlinewidth\": 0, \"ticks\": \"\"}}, \"type\": \"scattercarpet\"}], \"scattergeo\": [{\"marker\": {\"colorbar\": {\"outlinewidth\": 0, \"ticks\": \"\"}}, \"type\": \"scattergeo\"}], \"scattergl\": [{\"marker\": {\"colorbar\": {\"outlinewidth\": 0, \"ticks\": \"\"}}, \"type\": \"scattergl\"}], \"scattermapbox\": [{\"marker\": {\"colorbar\": {\"outlinewidth\": 0, \"ticks\": \"\"}}, \"type\": \"scattermapbox\"}], \"scatterpolar\": [{\"marker\": {\"colorbar\": {\"outlinewidth\": 0, \"ticks\": \"\"}}, \"type\": \"scatterpolar\"}], \"scatterpolargl\": [{\"marker\": {\"colorbar\": {\"outlinewidth\": 0, \"ticks\": \"\"}}, \"type\": \"scatterpolargl\"}], \"scatterternary\": [{\"marker\": {\"colorbar\": {\"outlinewidth\": 0, \"ticks\": \"\"}}, \"type\": \"scatterternary\"}], \"surface\": [{\"colorbar\": {\"outlinewidth\": 0, \"ticks\": \"\"}, \"colorscale\": [[0.0, \"#0d0887\"], [0.1111111111111111, \"#46039f\"], [0.2222222222222222, \"#7201a8\"], [0.3333333333333333, \"#9c179e\"], [0.4444444444444444, \"#bd3786\"], [0.5555555555555556, \"#d8576b\"], [0.6666666666666666, \"#ed7953\"], [0.7777777777777778, \"#fb9f3a\"], [0.8888888888888888, \"#fdca26\"], [1.0, \"#f0f921\"]], \"type\": \"surface\"}], \"table\": [{\"cells\": {\"fill\": {\"color\": \"#EBF0F8\"}, \"line\": {\"color\": \"white\"}}, \"header\": {\"fill\": {\"color\": \"#C8D4E3\"}, \"line\": {\"color\": \"white\"}}, \"type\": \"table\"}]}, \"layout\": {\"annotationdefaults\": {\"arrowcolor\": \"#2a3f5f\", \"arrowhead\": 0, \"arrowwidth\": 1}, \"autotypenumbers\": \"strict\", \"coloraxis\": {\"colorbar\": {\"outlinewidth\": 0, \"ticks\": \"\"}}, \"colorscale\": {\"diverging\": [[0, \"#8e0152\"], [0.1, \"#c51b7d\"], [0.2, \"#de77ae\"], [0.3, \"#f1b6da\"], [0.4, \"#fde0ef\"], [0.5, \"#f7f7f7\"], [0.6, \"#e6f5d0\"], [0.7, \"#b8e186\"], [0.8, \"#7fbc41\"], [0.9, \"#4d9221\"], [1, \"#276419\"]], \"sequential\": [[0.0, \"#0d0887\"], [0.1111111111111111, \"#46039f\"], [0.2222222222222222, \"#7201a8\"], [0.3333333333333333, \"#9c179e\"], [0.4444444444444444, \"#bd3786\"], [0.5555555555555556, \"#d8576b\"], [0.6666666666666666, \"#ed7953\"], [0.7777777777777778, \"#fb9f3a\"], [0.8888888888888888, \"#fdca26\"], [1.0, \"#f0f921\"]], \"sequentialminus\": [[0.0, \"#0d0887\"], [0.1111111111111111, \"#46039f\"], [0.2222222222222222, \"#7201a8\"], [0.3333333333333333, \"#9c179e\"], [0.4444444444444444, \"#bd3786\"], [0.5555555555555556, \"#d8576b\"], [0.6666666666666666, \"#ed7953\"], [0.7777777777777778, \"#fb9f3a\"], [0.8888888888888888, \"#fdca26\"], [1.0, \"#f0f921\"]]}, \"colorway\": [\"#636efa\", \"#EF553B\", \"#00cc96\", \"#ab63fa\", \"#FFA15A\", \"#19d3f3\", \"#FF6692\", \"#B6E880\", \"#FF97FF\", \"#FECB52\"], \"font\": {\"color\": \"#2a3f5f\"}, \"geo\": {\"bgcolor\": \"white\", \"lakecolor\": \"white\", \"landcolor\": \"#E5ECF6\", \"showlakes\": true, \"showland\": true, \"subunitcolor\": \"white\"}, \"hoverlabel\": {\"align\": \"left\"}, \"hovermode\": \"closest\", \"mapbox\": {\"style\": \"light\"}, \"paper_bgcolor\": \"white\", \"plot_bgcolor\": \"#E5ECF6\", \"polar\": {\"angularaxis\": {\"gridcolor\": \"white\", \"linecolor\": \"white\", \"ticks\": \"\"}, \"bgcolor\": \"#E5ECF6\", \"radialaxis\": {\"gridcolor\": \"white\", \"linecolor\": \"white\", \"ticks\": \"\"}}, \"scene\": {\"xaxis\": {\"backgroundcolor\": \"#E5ECF6\", \"gridcolor\": \"white\", \"gridwidth\": 2, \"linecolor\": \"white\", \"showbackground\": true, \"ticks\": \"\", \"zerolinecolor\": \"white\"}, \"yaxis\": {\"backgroundcolor\": \"#E5ECF6\", \"gridcolor\": \"white\", \"gridwidth\": 2, \"linecolor\": \"white\", \"showbackground\": true, \"ticks\": \"\", \"zerolinecolor\": \"white\"}, \"zaxis\": {\"backgroundcolor\": \"#E5ECF6\", \"gridcolor\": \"white\", \"gridwidth\": 2, \"linecolor\": \"white\", \"showbackground\": true, \"ticks\": \"\", \"zerolinecolor\": \"white\"}}, \"shapedefaults\": {\"line\": {\"color\": \"#2a3f5f\"}}, \"ternary\": {\"aaxis\": {\"gridcolor\": \"white\", \"linecolor\": \"white\", \"ticks\": \"\"}, \"baxis\": {\"gridcolor\": \"white\", \"linecolor\": \"white\", \"ticks\": \"\"}, \"bgcolor\": \"#E5ECF6\", \"caxis\": {\"gridcolor\": \"white\", \"linecolor\": \"white\", \"ticks\": \"\"}}, \"title\": {\"x\": 0.05}, \"xaxis\": {\"automargin\": true, \"gridcolor\": \"white\", \"linecolor\": \"white\", \"ticks\": \"\", \"title\": {\"standoff\": 15}, \"zerolinecolor\": \"white\", \"zerolinewidth\": 2}, \"yaxis\": {\"automargin\": true, \"gridcolor\": \"white\", \"linecolor\": \"white\", \"ticks\": \"\", \"title\": {\"standoff\": 15}, \"zerolinecolor\": \"white\", \"zerolinewidth\": 2}}}, \"title\": {\"text\": \"<b>Unit discharge and production in Plant2</b>\"}, \"xaxis\": {\"anchor\": \"y\", \"domain\": [0.0, 0.94], \"title\": {\"text\": \"<b>Time</b> (Hour)\"}}, \"yaxis\": {\"anchor\": \"x\", \"domain\": [0.0, 1.0], \"dtick\": 60, \"range\": [0, 540], \"tick0\": 60, \"title\": {\"text\": \"<b>Discharge</b> (m<sup>3</sup>/s)\"}}, \"yaxis2\": {\"anchor\": \"x\", \"dtick\": 40, \"overlaying\": \"y\", \"range\": [0, 360], \"side\": \"right\", \"tick0\": 40, \"title\": {\"text\": \"<b>Production</b> (MW)\"}}},                        {\"responsive\": true}                    ).then(function(){\n",
       "                            \n",
       "var gd = document.getElementById('af01cb64-117c-4c1c-a4e4-bfb852eec775');\n",
       "var x = new MutationObserver(function (mutations, observer) {{\n",
       "        var display = window.getComputedStyle(gd).display;\n",
       "        if (!display || display === 'none') {{\n",
       "            console.log([gd, 'removed!']);\n",
       "            Plotly.purge(gd);\n",
       "            observer.disconnect();\n",
       "        }}\n",
       "}});\n",
       "\n",
       "// Listen for the removal of the full notebook cells\n",
       "var notebookContainer = gd.closest('#notebook-container');\n",
       "if (notebookContainer) {{\n",
       "    x.observe(notebookContainer, {childList: true});\n",
       "}}\n",
       "\n",
       "// Listen for the clearing of the current output cell\n",
       "var outputEl = gd.closest('.output');\n",
       "if (outputEl) {{\n",
       "    x.observe(outputEl, {childList: true});\n",
       "}}\n",
       "\n",
       "                        })                };                });            </script>        </div>"
      ]
     },
     "metadata": {},
     "output_type": "display_data"
    }
   ],
   "source": [
    "# Plotting discharge and production results from Plant 2\r\n",
    "\r\n",
    "# Retrieving discharge results on generators\r\n",
    "G1_discharge=shop.model.generator.Plant2_Generator1.discharge.get()\r\n",
    "G2_discharge=shop.model.generator.Plant2_Generator2.discharge.get()\r\n",
    "G3_discharge=shop.model.generator.Plant2_Generator3.discharge.get()\r\n",
    "G4_discharge=shop.model.generator.Plant2_Generator4.discharge.get()\r\n",
    "\r\n",
    "# Retrieving discharge results on generators\r\n",
    "G1_production=shop.model.generator.Plant2_Generator1.production.get()\r\n",
    "G2_production=shop.model.generator.Plant2_Generator2.production.get()\r\n",
    "G3_production=shop.model.generator.Plant2_Generator3.production.get()\r\n",
    "G4_production=shop.model.generator.Plant2_Generator4.production.get()\r\n",
    "\r\n",
    "from plotly.subplots import make_subplots\r\n",
    "fig = make_subplots(specs=[[{\"secondary_y\": True}]])\r\n",
    "colorscale = px.colors.sequential.RdBu_r\r\n",
    "fig.add_trace(go.Bar(x=G1_discharge.index, y=G1_discharge.values, name=\"G1 Discharge\", marker_color=colorscale[1]), secondary_y=False)\r\n",
    "fig.add_trace(go.Bar(x=G2_discharge.index, y=G2_discharge.values, name=\"G2 Discharge\", marker_color=colorscale[2]), secondary_y=False)\r\n",
    "fig.add_trace(go.Bar(x=G3_discharge.index, y=G3_discharge.values, name=\"G3 Discharge\", marker_color=colorscale[3]), secondary_y=False)\r\n",
    "fig.add_trace(go.Bar(x=G4_discharge.index, y=G4_discharge.values, name=\"G4 Discharge\", marker_color=colorscale[4]), secondary_y=False)\r\n",
    "fig.add_trace(go.Scatter(x=G1_production.index, y=G1_production.values, name=\"G1 production\", marker_color=colorscale[5]), secondary_y=True)\r\n",
    "fig.add_trace(go.Scatter(x=G2_production.index, y=G2_production.values, name=\"G2 production\", marker_color=colorscale[6]), secondary_y=True)\r\n",
    "fig.add_trace(go.Scatter(x=G3_production.index, y=G3_production.values, name=\"G3 production\", marker_color=colorscale[7]), secondary_y=True)\r\n",
    "fig.add_trace(go.Scatter(x=G4_production.index, y=G4_production.values, name=\"G4 production\", marker_color=colorscale[8]), secondary_y=True)\r\n",
    "fig.update_layout(title_text=\"<b>Unit discharge and production in Plant2</b>\", barmode=\"stack\")\r\n",
    "fig.update_xaxes(title_text=\"<b>Time</b> (Hour)\")\r\n",
    "fig.update_yaxes(title_text=\"<b>Discharge</b> (m<sup>3</sup>/s)\", secondary_y=False, range=[0, 540], tick0=60, dtick=60)\r\n",
    "fig.update_yaxes(title_text=\"<b>Production</b> (MW)\", secondary_y=True, range=[0, 360], tick0=40, dtick=40)\r\n",
    "fig.show()"
   ]
  },
  {
   "cell_type": "code",
   "execution_count": 36,
   "metadata": {
    "Collapsed": "false"
   },
   "outputs": [
    {
     "data": {
      "application/vnd.plotly.v1+json": {
       "config": {
        "plotlyServerURL": "https://plot.ly"
       },
       "data": [
        {
         "marker": {
          "color": "rgb(33,102,172)"
         },
         "name": "Reservoir1 storage",
         "type": "scatter",
         "x": [
          "2018-01-23T00:00:00",
          "2018-01-23T01:00:00",
          "2018-01-23T02:00:00",
          "2018-01-23T03:00:00",
          "2018-01-23T04:00:00",
          "2018-01-23T05:00:00",
          "2018-01-23T06:00:00",
          "2018-01-23T07:00:00",
          "2018-01-23T08:00:00",
          "2018-01-23T09:00:00",
          "2018-01-23T10:00:00",
          "2018-01-23T11:00:00",
          "2018-01-23T12:00:00",
          "2018-01-23T13:00:00",
          "2018-01-23T14:00:00",
          "2018-01-23T15:00:00",
          "2018-01-23T16:00:00",
          "2018-01-23T17:00:00",
          "2018-01-23T18:00:00",
          "2018-01-23T19:00:00",
          "2018-01-23T20:00:00",
          "2018-01-23T21:00:00",
          "2018-01-23T22:00:00",
          "2018-01-23T23:00:00",
          "2018-01-24T00:00:00",
          "2018-01-24T01:00:00",
          "2018-01-24T02:00:00",
          "2018-01-24T03:00:00",
          "2018-01-24T04:00:00",
          "2018-01-24T05:00:00",
          "2018-01-24T06:00:00",
          "2018-01-24T07:00:00",
          "2018-01-24T08:00:00",
          "2018-01-24T09:00:00",
          "2018-01-24T10:00:00",
          "2018-01-24T11:00:00",
          "2018-01-24T12:00:00",
          "2018-01-24T13:00:00",
          "2018-01-24T14:00:00",
          "2018-01-24T15:00:00",
          "2018-01-24T16:00:00",
          "2018-01-24T17:00:00",
          "2018-01-24T18:00:00",
          "2018-01-24T19:00:00",
          "2018-01-24T20:00:00",
          "2018-01-24T21:00:00",
          "2018-01-24T22:00:00",
          "2018-01-24T23:00:00",
          "2018-01-25T00:00:00",
          "2018-01-25T01:00:00",
          "2018-01-25T02:00:00",
          "2018-01-25T03:00:00",
          "2018-01-25T04:00:00",
          "2018-01-25T05:00:00",
          "2018-01-25T06:00:00",
          "2018-01-25T07:00:00",
          "2018-01-25T08:00:00",
          "2018-01-25T09:00:00",
          "2018-01-25T10:00:00",
          "2018-01-25T11:00:00",
          "2018-01-25T12:00:00",
          "2018-01-25T13:00:00",
          "2018-01-25T14:00:00",
          "2018-01-25T15:00:00",
          "2018-01-25T16:00:00",
          "2018-01-25T17:00:00",
          "2018-01-25T18:00:00",
          "2018-01-25T19:00:00",
          "2018-01-25T20:00:00",
          "2018-01-25T21:00:00",
          "2018-01-25T22:00:00",
          "2018-01-25T23:00:00",
          "2018-01-26T00:00:00"
         ],
         "y": [
          32.769999999999996,
          32.38194399999999,
          32.01164799999999,
          31.641351999999987,
          31.456203999999985,
          31.085907999999986,
          30.697851999999987,
          30.274275999999986,
          29.850699999999986,
          29.427123999999985,
          29.003547999999984,
          28.579971999999984,
          28.156395999999983,
          27.732819999999982,
          27.309243999999982,
          26.88566799999998,
          26.46209199999998,
          26.03851599999998,
          25.61493999999998,
          25.209123999999978,
          24.838827999999978,
          24.46853199999998,
          24.27450399999998,
          24.089355999999977,
          23.904207999999976,
          23.904207999999976,
          23.904207999999976,
          23.904207999999976,
          23.904207999999976,
          23.904207999999976,
          23.904207999999976,
          23.719059999999974,
          23.348763999999974,
          22.978467999999975,
          22.608171999999975,
          22.237875999999975,
          22.043847999999976,
          21.849819999999976,
          21.664671999999975,
          21.479523999999973,
          21.29437599999997,
          21.10922799999997,
          20.924079999999968,
          20.738931999999966,
          20.553783999999965,
          20.368635999999963,
          20.368635999999963,
          20.368635999999963,
          20.368635999999963,
          20.368635999999963,
          20.368635999999963,
          20.368635999999963,
          20.368635999999963,
          20.368635999999963,
          20.368635999999963,
          20.368635999999963,
          20.174607999999964,
          19.980579999999964,
          19.786551999999965,
          19.592523999999965,
          19.407375999999964,
          19.222227999999962,
          19.03707999999996,
          18.85193199999996,
          18.666783999999957,
          18.472755999999958,
          18.102459999999958,
          17.73216399999996,
          17.53813599999996,
          17.352987999999957,
          17.167839999999956,
          17.167839999999956,
          17.167839999999956
         ]
        },
        {
         "marker": {
          "color": "rgb(67,147,195)"
         },
         "name": "Reservoir2 storage",
         "type": "scatter",
         "x": [
          "2018-01-23T00:00:00",
          "2018-01-23T01:00:00",
          "2018-01-23T02:00:00",
          "2018-01-23T03:00:00",
          "2018-01-23T04:00:00",
          "2018-01-23T05:00:00",
          "2018-01-23T06:00:00",
          "2018-01-23T07:00:00",
          "2018-01-23T08:00:00",
          "2018-01-23T09:00:00",
          "2018-01-23T10:00:00",
          "2018-01-23T11:00:00",
          "2018-01-23T12:00:00",
          "2018-01-23T13:00:00",
          "2018-01-23T14:00:00",
          "2018-01-23T15:00:00",
          "2018-01-23T16:00:00",
          "2018-01-23T17:00:00",
          "2018-01-23T18:00:00",
          "2018-01-23T19:00:00",
          "2018-01-23T20:00:00",
          "2018-01-23T21:00:00",
          "2018-01-23T22:00:00",
          "2018-01-23T23:00:00",
          "2018-01-24T00:00:00",
          "2018-01-24T01:00:00",
          "2018-01-24T02:00:00",
          "2018-01-24T03:00:00",
          "2018-01-24T04:00:00",
          "2018-01-24T05:00:00",
          "2018-01-24T06:00:00",
          "2018-01-24T07:00:00",
          "2018-01-24T08:00:00",
          "2018-01-24T09:00:00",
          "2018-01-24T10:00:00",
          "2018-01-24T11:00:00",
          "2018-01-24T12:00:00",
          "2018-01-24T13:00:00",
          "2018-01-24T14:00:00",
          "2018-01-24T15:00:00",
          "2018-01-24T16:00:00",
          "2018-01-24T17:00:00",
          "2018-01-24T18:00:00",
          "2018-01-24T19:00:00",
          "2018-01-24T20:00:00",
          "2018-01-24T21:00:00",
          "2018-01-24T22:00:00",
          "2018-01-24T23:00:00",
          "2018-01-25T00:00:00",
          "2018-01-25T01:00:00",
          "2018-01-25T02:00:00",
          "2018-01-25T03:00:00",
          "2018-01-25T04:00:00",
          "2018-01-25T05:00:00",
          "2018-01-25T06:00:00",
          "2018-01-25T07:00:00",
          "2018-01-25T08:00:00",
          "2018-01-25T09:00:00",
          "2018-01-25T10:00:00",
          "2018-01-25T11:00:00",
          "2018-01-25T12:00:00",
          "2018-01-25T13:00:00",
          "2018-01-25T14:00:00",
          "2018-01-25T15:00:00",
          "2018-01-25T16:00:00",
          "2018-01-25T17:00:00",
          "2018-01-25T18:00:00",
          "2018-01-25T19:00:00",
          "2018-01-25T20:00:00",
          "2018-01-25T21:00:00",
          "2018-01-25T22:00:00",
          "2018-01-25T23:00:00",
          "2018-01-26T00:00:00"
         ],
         "y": [
          56.541666666666664,
          56.08280810912659,
          55.605857028195544,
          55.23344577906829,
          54.78058440793546,
          54.40721953593309,
          53.91147875184298,
          53.08268767108182,
          51.89415631408613,
          50.701256989892684,
          49.853907835127885,
          49.00132533883338,
          48.14342827325077,
          47.28011929837994,
          46.411218441627526,
          45.53647053516598,
          44.65577511681635,
          43.769028512477036,
          42.87601120103476,
          41.95884929479812,
          41.36657434517773,
          40.82413890703373,
          40.157410936425435,
          39.4810875947344,
          38.804034664483254,
          38.03732683862446,
          37.27450547992723,
          36.616867148029925,
          35.958387069848236,
          35.20174467777744,
          34.4285825880528,
          33.745705249416424,
          33.14205818223855,
          32.53765487451802,
          31.93249018027119,
          31.379106896860137,
          30.64875087213845,
          29.91745178214255,
          29.176287518389934,
          28.43405391525999,
          27.69071001051456,
          26.9462451642099,
          26.200648558006275,
          25.453909191865286,
          24.705972829480846,
          24.009336850616787,
          23.126380808906337,
          22.241925093991185,
          21.465070803430752,
          20.67429358550629,
          19.895643621456593,
          19.210803774985784,
          18.52462278246478,
          17.837046356073163,
          17.04266208201172,
          16.15580208201172,
          15.357874082011723,
          14.559946082011722,
          13.762018082011721,
          12.96409008201172,
          12.15728208201172,
          11.35047408201172,
          10.54366608201172,
          9.73685808201172,
          8.93005008201172,
          7.7721340820117195,
          6.79048608201172,
          5.80883808201172,
          4.65092208201172,
          3.484126082011719,
          2.3173300820117184,
          0.9919559999999998,
          0
         ]
        }
       ],
       "layout": {
        "autosize": true,
        "template": {
         "data": {
          "bar": [
           {
            "error_x": {
             "color": "#2a3f5f"
            },
            "error_y": {
             "color": "#2a3f5f"
            },
            "marker": {
             "line": {
              "color": "#E5ECF6",
              "width": 0.5
             }
            },
            "type": "bar"
           }
          ],
          "barpolar": [
           {
            "marker": {
             "line": {
              "color": "#E5ECF6",
              "width": 0.5
             }
            },
            "type": "barpolar"
           }
          ],
          "carpet": [
           {
            "aaxis": {
             "endlinecolor": "#2a3f5f",
             "gridcolor": "white",
             "linecolor": "white",
             "minorgridcolor": "white",
             "startlinecolor": "#2a3f5f"
            },
            "baxis": {
             "endlinecolor": "#2a3f5f",
             "gridcolor": "white",
             "linecolor": "white",
             "minorgridcolor": "white",
             "startlinecolor": "#2a3f5f"
            },
            "type": "carpet"
           }
          ],
          "choropleth": [
           {
            "colorbar": {
             "outlinewidth": 0,
             "ticks": ""
            },
            "type": "choropleth"
           }
          ],
          "contour": [
           {
            "colorbar": {
             "outlinewidth": 0,
             "ticks": ""
            },
            "colorscale": [
             [
              0,
              "#0d0887"
             ],
             [
              0.1111111111111111,
              "#46039f"
             ],
             [
              0.2222222222222222,
              "#7201a8"
             ],
             [
              0.3333333333333333,
              "#9c179e"
             ],
             [
              0.4444444444444444,
              "#bd3786"
             ],
             [
              0.5555555555555556,
              "#d8576b"
             ],
             [
              0.6666666666666666,
              "#ed7953"
             ],
             [
              0.7777777777777778,
              "#fb9f3a"
             ],
             [
              0.8888888888888888,
              "#fdca26"
             ],
             [
              1,
              "#f0f921"
             ]
            ],
            "type": "contour"
           }
          ],
          "contourcarpet": [
           {
            "colorbar": {
             "outlinewidth": 0,
             "ticks": ""
            },
            "type": "contourcarpet"
           }
          ],
          "heatmap": [
           {
            "colorbar": {
             "outlinewidth": 0,
             "ticks": ""
            },
            "colorscale": [
             [
              0,
              "#0d0887"
             ],
             [
              0.1111111111111111,
              "#46039f"
             ],
             [
              0.2222222222222222,
              "#7201a8"
             ],
             [
              0.3333333333333333,
              "#9c179e"
             ],
             [
              0.4444444444444444,
              "#bd3786"
             ],
             [
              0.5555555555555556,
              "#d8576b"
             ],
             [
              0.6666666666666666,
              "#ed7953"
             ],
             [
              0.7777777777777778,
              "#fb9f3a"
             ],
             [
              0.8888888888888888,
              "#fdca26"
             ],
             [
              1,
              "#f0f921"
             ]
            ],
            "type": "heatmap"
           }
          ],
          "heatmapgl": [
           {
            "colorbar": {
             "outlinewidth": 0,
             "ticks": ""
            },
            "colorscale": [
             [
              0,
              "#0d0887"
             ],
             [
              0.1111111111111111,
              "#46039f"
             ],
             [
              0.2222222222222222,
              "#7201a8"
             ],
             [
              0.3333333333333333,
              "#9c179e"
             ],
             [
              0.4444444444444444,
              "#bd3786"
             ],
             [
              0.5555555555555556,
              "#d8576b"
             ],
             [
              0.6666666666666666,
              "#ed7953"
             ],
             [
              0.7777777777777778,
              "#fb9f3a"
             ],
             [
              0.8888888888888888,
              "#fdca26"
             ],
             [
              1,
              "#f0f921"
             ]
            ],
            "type": "heatmapgl"
           }
          ],
          "histogram": [
           {
            "marker": {
             "colorbar": {
              "outlinewidth": 0,
              "ticks": ""
             }
            },
            "type": "histogram"
           }
          ],
          "histogram2d": [
           {
            "colorbar": {
             "outlinewidth": 0,
             "ticks": ""
            },
            "colorscale": [
             [
              0,
              "#0d0887"
             ],
             [
              0.1111111111111111,
              "#46039f"
             ],
             [
              0.2222222222222222,
              "#7201a8"
             ],
             [
              0.3333333333333333,
              "#9c179e"
             ],
             [
              0.4444444444444444,
              "#bd3786"
             ],
             [
              0.5555555555555556,
              "#d8576b"
             ],
             [
              0.6666666666666666,
              "#ed7953"
             ],
             [
              0.7777777777777778,
              "#fb9f3a"
             ],
             [
              0.8888888888888888,
              "#fdca26"
             ],
             [
              1,
              "#f0f921"
             ]
            ],
            "type": "histogram2d"
           }
          ],
          "histogram2dcontour": [
           {
            "colorbar": {
             "outlinewidth": 0,
             "ticks": ""
            },
            "colorscale": [
             [
              0,
              "#0d0887"
             ],
             [
              0.1111111111111111,
              "#46039f"
             ],
             [
              0.2222222222222222,
              "#7201a8"
             ],
             [
              0.3333333333333333,
              "#9c179e"
             ],
             [
              0.4444444444444444,
              "#bd3786"
             ],
             [
              0.5555555555555556,
              "#d8576b"
             ],
             [
              0.6666666666666666,
              "#ed7953"
             ],
             [
              0.7777777777777778,
              "#fb9f3a"
             ],
             [
              0.8888888888888888,
              "#fdca26"
             ],
             [
              1,
              "#f0f921"
             ]
            ],
            "type": "histogram2dcontour"
           }
          ],
          "mesh3d": [
           {
            "colorbar": {
             "outlinewidth": 0,
             "ticks": ""
            },
            "type": "mesh3d"
           }
          ],
          "parcoords": [
           {
            "line": {
             "colorbar": {
              "outlinewidth": 0,
              "ticks": ""
             }
            },
            "type": "parcoords"
           }
          ],
          "pie": [
           {
            "automargin": true,
            "type": "pie"
           }
          ],
          "scatter": [
           {
            "marker": {
             "colorbar": {
              "outlinewidth": 0,
              "ticks": ""
             }
            },
            "type": "scatter"
           }
          ],
          "scatter3d": [
           {
            "line": {
             "colorbar": {
              "outlinewidth": 0,
              "ticks": ""
             }
            },
            "marker": {
             "colorbar": {
              "outlinewidth": 0,
              "ticks": ""
             }
            },
            "type": "scatter3d"
           }
          ],
          "scattercarpet": [
           {
            "marker": {
             "colorbar": {
              "outlinewidth": 0,
              "ticks": ""
             }
            },
            "type": "scattercarpet"
           }
          ],
          "scattergeo": [
           {
            "marker": {
             "colorbar": {
              "outlinewidth": 0,
              "ticks": ""
             }
            },
            "type": "scattergeo"
           }
          ],
          "scattergl": [
           {
            "marker": {
             "colorbar": {
              "outlinewidth": 0,
              "ticks": ""
             }
            },
            "type": "scattergl"
           }
          ],
          "scattermapbox": [
           {
            "marker": {
             "colorbar": {
              "outlinewidth": 0,
              "ticks": ""
             }
            },
            "type": "scattermapbox"
           }
          ],
          "scatterpolar": [
           {
            "marker": {
             "colorbar": {
              "outlinewidth": 0,
              "ticks": ""
             }
            },
            "type": "scatterpolar"
           }
          ],
          "scatterpolargl": [
           {
            "marker": {
             "colorbar": {
              "outlinewidth": 0,
              "ticks": ""
             }
            },
            "type": "scatterpolargl"
           }
          ],
          "scatterternary": [
           {
            "marker": {
             "colorbar": {
              "outlinewidth": 0,
              "ticks": ""
             }
            },
            "type": "scatterternary"
           }
          ],
          "surface": [
           {
            "colorbar": {
             "outlinewidth": 0,
             "ticks": ""
            },
            "colorscale": [
             [
              0,
              "#0d0887"
             ],
             [
              0.1111111111111111,
              "#46039f"
             ],
             [
              0.2222222222222222,
              "#7201a8"
             ],
             [
              0.3333333333333333,
              "#9c179e"
             ],
             [
              0.4444444444444444,
              "#bd3786"
             ],
             [
              0.5555555555555556,
              "#d8576b"
             ],
             [
              0.6666666666666666,
              "#ed7953"
             ],
             [
              0.7777777777777778,
              "#fb9f3a"
             ],
             [
              0.8888888888888888,
              "#fdca26"
             ],
             [
              1,
              "#f0f921"
             ]
            ],
            "type": "surface"
           }
          ],
          "table": [
           {
            "cells": {
             "fill": {
              "color": "#EBF0F8"
             },
             "line": {
              "color": "white"
             }
            },
            "header": {
             "fill": {
              "color": "#C8D4E3"
             },
             "line": {
              "color": "white"
             }
            },
            "type": "table"
           }
          ]
         },
         "layout": {
          "annotationdefaults": {
           "arrowcolor": "#2a3f5f",
           "arrowhead": 0,
           "arrowwidth": 1
          },
          "autotypenumbers": "strict",
          "coloraxis": {
           "colorbar": {
            "outlinewidth": 0,
            "ticks": ""
           }
          },
          "colorscale": {
           "diverging": [
            [
             0,
             "#8e0152"
            ],
            [
             0.1,
             "#c51b7d"
            ],
            [
             0.2,
             "#de77ae"
            ],
            [
             0.3,
             "#f1b6da"
            ],
            [
             0.4,
             "#fde0ef"
            ],
            [
             0.5,
             "#f7f7f7"
            ],
            [
             0.6,
             "#e6f5d0"
            ],
            [
             0.7,
             "#b8e186"
            ],
            [
             0.8,
             "#7fbc41"
            ],
            [
             0.9,
             "#4d9221"
            ],
            [
             1,
             "#276419"
            ]
           ],
           "sequential": [
            [
             0,
             "#0d0887"
            ],
            [
             0.1111111111111111,
             "#46039f"
            ],
            [
             0.2222222222222222,
             "#7201a8"
            ],
            [
             0.3333333333333333,
             "#9c179e"
            ],
            [
             0.4444444444444444,
             "#bd3786"
            ],
            [
             0.5555555555555556,
             "#d8576b"
            ],
            [
             0.6666666666666666,
             "#ed7953"
            ],
            [
             0.7777777777777778,
             "#fb9f3a"
            ],
            [
             0.8888888888888888,
             "#fdca26"
            ],
            [
             1,
             "#f0f921"
            ]
           ],
           "sequentialminus": [
            [
             0,
             "#0d0887"
            ],
            [
             0.1111111111111111,
             "#46039f"
            ],
            [
             0.2222222222222222,
             "#7201a8"
            ],
            [
             0.3333333333333333,
             "#9c179e"
            ],
            [
             0.4444444444444444,
             "#bd3786"
            ],
            [
             0.5555555555555556,
             "#d8576b"
            ],
            [
             0.6666666666666666,
             "#ed7953"
            ],
            [
             0.7777777777777778,
             "#fb9f3a"
            ],
            [
             0.8888888888888888,
             "#fdca26"
            ],
            [
             1,
             "#f0f921"
            ]
           ]
          },
          "colorway": [
           "#636efa",
           "#EF553B",
           "#00cc96",
           "#ab63fa",
           "#FFA15A",
           "#19d3f3",
           "#FF6692",
           "#B6E880",
           "#FF97FF",
           "#FECB52"
          ],
          "font": {
           "color": "#2a3f5f"
          },
          "geo": {
           "bgcolor": "white",
           "lakecolor": "white",
           "landcolor": "#E5ECF6",
           "showlakes": true,
           "showland": true,
           "subunitcolor": "white"
          },
          "hoverlabel": {
           "align": "left"
          },
          "hovermode": "closest",
          "mapbox": {
           "style": "light"
          },
          "paper_bgcolor": "white",
          "plot_bgcolor": "#E5ECF6",
          "polar": {
           "angularaxis": {
            "gridcolor": "white",
            "linecolor": "white",
            "ticks": ""
           },
           "bgcolor": "#E5ECF6",
           "radialaxis": {
            "gridcolor": "white",
            "linecolor": "white",
            "ticks": ""
           }
          },
          "scene": {
           "xaxis": {
            "backgroundcolor": "#E5ECF6",
            "gridcolor": "white",
            "gridwidth": 2,
            "linecolor": "white",
            "showbackground": true,
            "ticks": "",
            "zerolinecolor": "white"
           },
           "yaxis": {
            "backgroundcolor": "#E5ECF6",
            "gridcolor": "white",
            "gridwidth": 2,
            "linecolor": "white",
            "showbackground": true,
            "ticks": "",
            "zerolinecolor": "white"
           },
           "zaxis": {
            "backgroundcolor": "#E5ECF6",
            "gridcolor": "white",
            "gridwidth": 2,
            "linecolor": "white",
            "showbackground": true,
            "ticks": "",
            "zerolinecolor": "white"
           }
          },
          "shapedefaults": {
           "line": {
            "color": "#2a3f5f"
           }
          },
          "ternary": {
           "aaxis": {
            "gridcolor": "white",
            "linecolor": "white",
            "ticks": ""
           },
           "baxis": {
            "gridcolor": "white",
            "linecolor": "white",
            "ticks": ""
           },
           "bgcolor": "#E5ECF6",
           "caxis": {
            "gridcolor": "white",
            "linecolor": "white",
            "ticks": ""
           }
          },
          "title": {
           "x": 0.05
          },
          "xaxis": {
           "automargin": true,
           "gridcolor": "white",
           "linecolor": "white",
           "ticks": "",
           "title": {
            "standoff": 15
           },
           "zerolinecolor": "white",
           "zerolinewidth": 2
          },
          "yaxis": {
           "automargin": true,
           "gridcolor": "white",
           "linecolor": "white",
           "ticks": "",
           "title": {
            "standoff": 15
           },
           "zerolinecolor": "white",
           "zerolinewidth": 2
          }
         }
        },
        "title": {
         "text": "<b>Reservoir trajectories </b>"
        },
        "xaxis": {
         "autorange": true,
         "range": [
          "2018-01-23",
          "2018-01-26"
         ],
         "title": {
          "text": "<b>Time</b> (Hour)"
         },
         "type": "date"
        },
        "yaxis": {
         "autorange": true,
         "range": [
          -3.1412037037037037,
          59.68287037037037
         ],
         "title": {
          "text": "<b>Volume</b> (Mm<sup>3</sup>)"
         },
         "type": "linear"
        }
       }
      },
      "text/html": [
       "<div>                            <div id=\"c956a487-0ba2-4006-b9b1-be86d5272b56\" class=\"plotly-graph-div\" style=\"height:525px; width:100%;\"></div>            <script type=\"text/javascript\">                require([\"plotly\"], function(Plotly) {                    window.PLOTLYENV=window.PLOTLYENV || {};                                    if (document.getElementById(\"c956a487-0ba2-4006-b9b1-be86d5272b56\")) {                    Plotly.newPlot(                        \"c956a487-0ba2-4006-b9b1-be86d5272b56\",                        [{\"marker\": {\"color\": \"rgb(33,102,172)\"}, \"name\": \"Reservoir1 storage\", \"type\": \"scatter\", \"x\": [\"2018-01-23T00:00:00\", \"2018-01-23T01:00:00\", \"2018-01-23T02:00:00\", \"2018-01-23T03:00:00\", \"2018-01-23T04:00:00\", \"2018-01-23T05:00:00\", \"2018-01-23T06:00:00\", \"2018-01-23T07:00:00\", \"2018-01-23T08:00:00\", \"2018-01-23T09:00:00\", \"2018-01-23T10:00:00\", \"2018-01-23T11:00:00\", \"2018-01-23T12:00:00\", \"2018-01-23T13:00:00\", \"2018-01-23T14:00:00\", \"2018-01-23T15:00:00\", \"2018-01-23T16:00:00\", \"2018-01-23T17:00:00\", \"2018-01-23T18:00:00\", \"2018-01-23T19:00:00\", \"2018-01-23T20:00:00\", \"2018-01-23T21:00:00\", \"2018-01-23T22:00:00\", \"2018-01-23T23:00:00\", \"2018-01-24T00:00:00\", \"2018-01-24T01:00:00\", \"2018-01-24T02:00:00\", \"2018-01-24T03:00:00\", \"2018-01-24T04:00:00\", \"2018-01-24T05:00:00\", \"2018-01-24T06:00:00\", \"2018-01-24T07:00:00\", \"2018-01-24T08:00:00\", \"2018-01-24T09:00:00\", \"2018-01-24T10:00:00\", \"2018-01-24T11:00:00\", \"2018-01-24T12:00:00\", \"2018-01-24T13:00:00\", \"2018-01-24T14:00:00\", \"2018-01-24T15:00:00\", \"2018-01-24T16:00:00\", \"2018-01-24T17:00:00\", \"2018-01-24T18:00:00\", \"2018-01-24T19:00:00\", \"2018-01-24T20:00:00\", \"2018-01-24T21:00:00\", \"2018-01-24T22:00:00\", \"2018-01-24T23:00:00\", \"2018-01-25T00:00:00\", \"2018-01-25T01:00:00\", \"2018-01-25T02:00:00\", \"2018-01-25T03:00:00\", \"2018-01-25T04:00:00\", \"2018-01-25T05:00:00\", \"2018-01-25T06:00:00\", \"2018-01-25T07:00:00\", \"2018-01-25T08:00:00\", \"2018-01-25T09:00:00\", \"2018-01-25T10:00:00\", \"2018-01-25T11:00:00\", \"2018-01-25T12:00:00\", \"2018-01-25T13:00:00\", \"2018-01-25T14:00:00\", \"2018-01-25T15:00:00\", \"2018-01-25T16:00:00\", \"2018-01-25T17:00:00\", \"2018-01-25T18:00:00\", \"2018-01-25T19:00:00\", \"2018-01-25T20:00:00\", \"2018-01-25T21:00:00\", \"2018-01-25T22:00:00\", \"2018-01-25T23:00:00\", \"2018-01-26T00:00:00\"], \"y\": [32.769999999999996, 32.38194399999999, 32.01164799999999, 31.641351999999987, 31.456203999999985, 31.085907999999986, 30.697851999999987, 30.274275999999986, 29.850699999999986, 29.427123999999985, 29.003547999999984, 28.579971999999984, 28.156395999999983, 27.732819999999982, 27.309243999999982, 26.88566799999998, 26.46209199999998, 26.03851599999998, 25.61493999999998, 25.209123999999978, 24.838827999999978, 24.46853199999998, 24.27450399999998, 24.089355999999977, 23.904207999999976, 23.904207999999976, 23.904207999999976, 23.904207999999976, 23.904207999999976, 23.904207999999976, 23.904207999999976, 23.719059999999974, 23.348763999999974, 22.978467999999975, 22.608171999999975, 22.237875999999975, 22.043847999999976, 21.849819999999976, 21.664671999999975, 21.479523999999973, 21.29437599999997, 21.10922799999997, 20.924079999999968, 20.738931999999966, 20.553783999999965, 20.368635999999963, 20.368635999999963, 20.368635999999963, 20.368635999999963, 20.368635999999963, 20.368635999999963, 20.368635999999963, 20.368635999999963, 20.368635999999963, 20.368635999999963, 20.368635999999963, 20.174607999999964, 19.980579999999964, 19.786551999999965, 19.592523999999965, 19.407375999999964, 19.222227999999962, 19.03707999999996, 18.85193199999996, 18.666783999999957, 18.472755999999958, 18.102459999999958, 17.73216399999996, 17.53813599999996, 17.352987999999957, 17.167839999999956, 17.167839999999956, 17.167839999999956]}, {\"marker\": {\"color\": \"rgb(67,147,195)\"}, \"name\": \"Reservoir2 storage\", \"type\": \"scatter\", \"x\": [\"2018-01-23T00:00:00\", \"2018-01-23T01:00:00\", \"2018-01-23T02:00:00\", \"2018-01-23T03:00:00\", \"2018-01-23T04:00:00\", \"2018-01-23T05:00:00\", \"2018-01-23T06:00:00\", \"2018-01-23T07:00:00\", \"2018-01-23T08:00:00\", \"2018-01-23T09:00:00\", \"2018-01-23T10:00:00\", \"2018-01-23T11:00:00\", \"2018-01-23T12:00:00\", \"2018-01-23T13:00:00\", \"2018-01-23T14:00:00\", \"2018-01-23T15:00:00\", \"2018-01-23T16:00:00\", \"2018-01-23T17:00:00\", \"2018-01-23T18:00:00\", \"2018-01-23T19:00:00\", \"2018-01-23T20:00:00\", \"2018-01-23T21:00:00\", \"2018-01-23T22:00:00\", \"2018-01-23T23:00:00\", \"2018-01-24T00:00:00\", \"2018-01-24T01:00:00\", \"2018-01-24T02:00:00\", \"2018-01-24T03:00:00\", \"2018-01-24T04:00:00\", \"2018-01-24T05:00:00\", \"2018-01-24T06:00:00\", \"2018-01-24T07:00:00\", \"2018-01-24T08:00:00\", \"2018-01-24T09:00:00\", \"2018-01-24T10:00:00\", \"2018-01-24T11:00:00\", \"2018-01-24T12:00:00\", \"2018-01-24T13:00:00\", \"2018-01-24T14:00:00\", \"2018-01-24T15:00:00\", \"2018-01-24T16:00:00\", \"2018-01-24T17:00:00\", \"2018-01-24T18:00:00\", \"2018-01-24T19:00:00\", \"2018-01-24T20:00:00\", \"2018-01-24T21:00:00\", \"2018-01-24T22:00:00\", \"2018-01-24T23:00:00\", \"2018-01-25T00:00:00\", \"2018-01-25T01:00:00\", \"2018-01-25T02:00:00\", \"2018-01-25T03:00:00\", \"2018-01-25T04:00:00\", \"2018-01-25T05:00:00\", \"2018-01-25T06:00:00\", \"2018-01-25T07:00:00\", \"2018-01-25T08:00:00\", \"2018-01-25T09:00:00\", \"2018-01-25T10:00:00\", \"2018-01-25T11:00:00\", \"2018-01-25T12:00:00\", \"2018-01-25T13:00:00\", \"2018-01-25T14:00:00\", \"2018-01-25T15:00:00\", \"2018-01-25T16:00:00\", \"2018-01-25T17:00:00\", \"2018-01-25T18:00:00\", \"2018-01-25T19:00:00\", \"2018-01-25T20:00:00\", \"2018-01-25T21:00:00\", \"2018-01-25T22:00:00\", \"2018-01-25T23:00:00\", \"2018-01-26T00:00:00\"], \"y\": [56.541666666666664, 56.08280810912659, 55.605857028195544, 55.23344577906829, 54.78058440793546, 54.40721953593309, 53.91147875184298, 53.08268767108182, 51.89415631408613, 50.701256989892684, 49.853907835127885, 49.00132533883338, 48.14342827325077, 47.28011929837994, 46.411218441627526, 45.53647053516598, 44.65577511681635, 43.769028512477036, 42.87601120103476, 41.95884929479812, 41.36657434517773, 40.82413890703373, 40.157410936425435, 39.4810875947344, 38.804034664483254, 38.03732683862446, 37.27450547992723, 36.616867148029925, 35.958387069848236, 35.20174467777744, 34.4285825880528, 33.745705249416424, 33.14205818223855, 32.53765487451802, 31.93249018027119, 31.379106896860137, 30.64875087213845, 29.91745178214255, 29.176287518389934, 28.43405391525999, 27.69071001051456, 26.9462451642099, 26.200648558006275, 25.453909191865286, 24.705972829480846, 24.009336850616787, 23.126380808906337, 22.241925093991185, 21.465070803430752, 20.67429358550629, 19.895643621456593, 19.210803774985784, 18.52462278246478, 17.837046356073163, 17.04266208201172, 16.15580208201172, 15.357874082011723, 14.559946082011722, 13.762018082011721, 12.96409008201172, 12.15728208201172, 11.35047408201172, 10.54366608201172, 9.73685808201172, 8.93005008201172, 7.7721340820117195, 6.79048608201172, 5.80883808201172, 4.65092208201172, 3.484126082011719, 2.3173300820117184, 0.9919559999999998, 0.0]}],                        {\"template\": {\"data\": {\"bar\": [{\"error_x\": {\"color\": \"#2a3f5f\"}, \"error_y\": {\"color\": \"#2a3f5f\"}, \"marker\": {\"line\": {\"color\": \"#E5ECF6\", \"width\": 0.5}}, \"type\": \"bar\"}], \"barpolar\": [{\"marker\": {\"line\": {\"color\": \"#E5ECF6\", \"width\": 0.5}}, \"type\": \"barpolar\"}], \"carpet\": [{\"aaxis\": {\"endlinecolor\": \"#2a3f5f\", \"gridcolor\": \"white\", \"linecolor\": \"white\", \"minorgridcolor\": \"white\", \"startlinecolor\": \"#2a3f5f\"}, \"baxis\": {\"endlinecolor\": \"#2a3f5f\", \"gridcolor\": \"white\", \"linecolor\": \"white\", \"minorgridcolor\": \"white\", \"startlinecolor\": \"#2a3f5f\"}, \"type\": \"carpet\"}], \"choropleth\": [{\"colorbar\": {\"outlinewidth\": 0, \"ticks\": \"\"}, \"type\": \"choropleth\"}], \"contour\": [{\"colorbar\": {\"outlinewidth\": 0, \"ticks\": \"\"}, \"colorscale\": [[0.0, \"#0d0887\"], [0.1111111111111111, \"#46039f\"], [0.2222222222222222, \"#7201a8\"], [0.3333333333333333, \"#9c179e\"], [0.4444444444444444, \"#bd3786\"], [0.5555555555555556, \"#d8576b\"], [0.6666666666666666, \"#ed7953\"], [0.7777777777777778, \"#fb9f3a\"], [0.8888888888888888, \"#fdca26\"], [1.0, \"#f0f921\"]], \"type\": \"contour\"}], \"contourcarpet\": [{\"colorbar\": {\"outlinewidth\": 0, \"ticks\": \"\"}, \"type\": \"contourcarpet\"}], \"heatmap\": [{\"colorbar\": {\"outlinewidth\": 0, \"ticks\": \"\"}, \"colorscale\": [[0.0, \"#0d0887\"], [0.1111111111111111, \"#46039f\"], [0.2222222222222222, \"#7201a8\"], [0.3333333333333333, \"#9c179e\"], [0.4444444444444444, \"#bd3786\"], [0.5555555555555556, \"#d8576b\"], [0.6666666666666666, \"#ed7953\"], [0.7777777777777778, \"#fb9f3a\"], [0.8888888888888888, \"#fdca26\"], [1.0, \"#f0f921\"]], \"type\": \"heatmap\"}], \"heatmapgl\": [{\"colorbar\": {\"outlinewidth\": 0, \"ticks\": \"\"}, \"colorscale\": [[0.0, \"#0d0887\"], [0.1111111111111111, \"#46039f\"], [0.2222222222222222, \"#7201a8\"], [0.3333333333333333, \"#9c179e\"], [0.4444444444444444, \"#bd3786\"], [0.5555555555555556, \"#d8576b\"], [0.6666666666666666, \"#ed7953\"], [0.7777777777777778, \"#fb9f3a\"], [0.8888888888888888, \"#fdca26\"], [1.0, \"#f0f921\"]], \"type\": \"heatmapgl\"}], \"histogram\": [{\"marker\": {\"colorbar\": {\"outlinewidth\": 0, \"ticks\": \"\"}}, \"type\": \"histogram\"}], \"histogram2d\": [{\"colorbar\": {\"outlinewidth\": 0, \"ticks\": \"\"}, \"colorscale\": [[0.0, \"#0d0887\"], [0.1111111111111111, \"#46039f\"], [0.2222222222222222, \"#7201a8\"], [0.3333333333333333, \"#9c179e\"], [0.4444444444444444, \"#bd3786\"], [0.5555555555555556, \"#d8576b\"], [0.6666666666666666, \"#ed7953\"], [0.7777777777777778, \"#fb9f3a\"], [0.8888888888888888, \"#fdca26\"], [1.0, \"#f0f921\"]], \"type\": \"histogram2d\"}], \"histogram2dcontour\": [{\"colorbar\": {\"outlinewidth\": 0, \"ticks\": \"\"}, \"colorscale\": [[0.0, \"#0d0887\"], [0.1111111111111111, \"#46039f\"], [0.2222222222222222, \"#7201a8\"], [0.3333333333333333, \"#9c179e\"], [0.4444444444444444, \"#bd3786\"], [0.5555555555555556, \"#d8576b\"], [0.6666666666666666, \"#ed7953\"], [0.7777777777777778, \"#fb9f3a\"], [0.8888888888888888, \"#fdca26\"], [1.0, \"#f0f921\"]], \"type\": \"histogram2dcontour\"}], \"mesh3d\": [{\"colorbar\": {\"outlinewidth\": 0, \"ticks\": \"\"}, \"type\": \"mesh3d\"}], \"parcoords\": [{\"line\": {\"colorbar\": {\"outlinewidth\": 0, \"ticks\": \"\"}}, \"type\": \"parcoords\"}], \"pie\": [{\"automargin\": true, \"type\": \"pie\"}], \"scatter\": [{\"marker\": {\"colorbar\": {\"outlinewidth\": 0, \"ticks\": \"\"}}, \"type\": \"scatter\"}], \"scatter3d\": [{\"line\": {\"colorbar\": {\"outlinewidth\": 0, \"ticks\": \"\"}}, \"marker\": {\"colorbar\": {\"outlinewidth\": 0, \"ticks\": \"\"}}, \"type\": \"scatter3d\"}], \"scattercarpet\": [{\"marker\": {\"colorbar\": {\"outlinewidth\": 0, \"ticks\": \"\"}}, \"type\": \"scattercarpet\"}], \"scattergeo\": [{\"marker\": {\"colorbar\": {\"outlinewidth\": 0, \"ticks\": \"\"}}, \"type\": \"scattergeo\"}], \"scattergl\": [{\"marker\": {\"colorbar\": {\"outlinewidth\": 0, \"ticks\": \"\"}}, \"type\": \"scattergl\"}], \"scattermapbox\": [{\"marker\": {\"colorbar\": {\"outlinewidth\": 0, \"ticks\": \"\"}}, \"type\": \"scattermapbox\"}], \"scatterpolar\": [{\"marker\": {\"colorbar\": {\"outlinewidth\": 0, \"ticks\": \"\"}}, \"type\": \"scatterpolar\"}], \"scatterpolargl\": [{\"marker\": {\"colorbar\": {\"outlinewidth\": 0, \"ticks\": \"\"}}, \"type\": \"scatterpolargl\"}], \"scatterternary\": [{\"marker\": {\"colorbar\": {\"outlinewidth\": 0, \"ticks\": \"\"}}, \"type\": \"scatterternary\"}], \"surface\": [{\"colorbar\": {\"outlinewidth\": 0, \"ticks\": \"\"}, \"colorscale\": [[0.0, \"#0d0887\"], [0.1111111111111111, \"#46039f\"], [0.2222222222222222, \"#7201a8\"], [0.3333333333333333, \"#9c179e\"], [0.4444444444444444, \"#bd3786\"], [0.5555555555555556, \"#d8576b\"], [0.6666666666666666, \"#ed7953\"], [0.7777777777777778, \"#fb9f3a\"], [0.8888888888888888, \"#fdca26\"], [1.0, \"#f0f921\"]], \"type\": \"surface\"}], \"table\": [{\"cells\": {\"fill\": {\"color\": \"#EBF0F8\"}, \"line\": {\"color\": \"white\"}}, \"header\": {\"fill\": {\"color\": \"#C8D4E3\"}, \"line\": {\"color\": \"white\"}}, \"type\": \"table\"}]}, \"layout\": {\"annotationdefaults\": {\"arrowcolor\": \"#2a3f5f\", \"arrowhead\": 0, \"arrowwidth\": 1}, \"autotypenumbers\": \"strict\", \"coloraxis\": {\"colorbar\": {\"outlinewidth\": 0, \"ticks\": \"\"}}, \"colorscale\": {\"diverging\": [[0, \"#8e0152\"], [0.1, \"#c51b7d\"], [0.2, \"#de77ae\"], [0.3, \"#f1b6da\"], [0.4, \"#fde0ef\"], [0.5, \"#f7f7f7\"], [0.6, \"#e6f5d0\"], [0.7, \"#b8e186\"], [0.8, \"#7fbc41\"], [0.9, \"#4d9221\"], [1, \"#276419\"]], \"sequential\": [[0.0, \"#0d0887\"], [0.1111111111111111, \"#46039f\"], [0.2222222222222222, \"#7201a8\"], [0.3333333333333333, \"#9c179e\"], [0.4444444444444444, \"#bd3786\"], [0.5555555555555556, \"#d8576b\"], [0.6666666666666666, \"#ed7953\"], [0.7777777777777778, \"#fb9f3a\"], [0.8888888888888888, \"#fdca26\"], [1.0, \"#f0f921\"]], \"sequentialminus\": [[0.0, \"#0d0887\"], [0.1111111111111111, \"#46039f\"], [0.2222222222222222, \"#7201a8\"], [0.3333333333333333, \"#9c179e\"], [0.4444444444444444, \"#bd3786\"], [0.5555555555555556, \"#d8576b\"], [0.6666666666666666, \"#ed7953\"], [0.7777777777777778, \"#fb9f3a\"], [0.8888888888888888, \"#fdca26\"], [1.0, \"#f0f921\"]]}, \"colorway\": [\"#636efa\", \"#EF553B\", \"#00cc96\", \"#ab63fa\", \"#FFA15A\", \"#19d3f3\", \"#FF6692\", \"#B6E880\", \"#FF97FF\", \"#FECB52\"], \"font\": {\"color\": \"#2a3f5f\"}, \"geo\": {\"bgcolor\": \"white\", \"lakecolor\": \"white\", \"landcolor\": \"#E5ECF6\", \"showlakes\": true, \"showland\": true, \"subunitcolor\": \"white\"}, \"hoverlabel\": {\"align\": \"left\"}, \"hovermode\": \"closest\", \"mapbox\": {\"style\": \"light\"}, \"paper_bgcolor\": \"white\", \"plot_bgcolor\": \"#E5ECF6\", \"polar\": {\"angularaxis\": {\"gridcolor\": \"white\", \"linecolor\": \"white\", \"ticks\": \"\"}, \"bgcolor\": \"#E5ECF6\", \"radialaxis\": {\"gridcolor\": \"white\", \"linecolor\": \"white\", \"ticks\": \"\"}}, \"scene\": {\"xaxis\": {\"backgroundcolor\": \"#E5ECF6\", \"gridcolor\": \"white\", \"gridwidth\": 2, \"linecolor\": \"white\", \"showbackground\": true, \"ticks\": \"\", \"zerolinecolor\": \"white\"}, \"yaxis\": {\"backgroundcolor\": \"#E5ECF6\", \"gridcolor\": \"white\", \"gridwidth\": 2, \"linecolor\": \"white\", \"showbackground\": true, \"ticks\": \"\", \"zerolinecolor\": \"white\"}, \"zaxis\": {\"backgroundcolor\": \"#E5ECF6\", \"gridcolor\": \"white\", \"gridwidth\": 2, \"linecolor\": \"white\", \"showbackground\": true, \"ticks\": \"\", \"zerolinecolor\": \"white\"}}, \"shapedefaults\": {\"line\": {\"color\": \"#2a3f5f\"}}, \"ternary\": {\"aaxis\": {\"gridcolor\": \"white\", \"linecolor\": \"white\", \"ticks\": \"\"}, \"baxis\": {\"gridcolor\": \"white\", \"linecolor\": \"white\", \"ticks\": \"\"}, \"bgcolor\": \"#E5ECF6\", \"caxis\": {\"gridcolor\": \"white\", \"linecolor\": \"white\", \"ticks\": \"\"}}, \"title\": {\"x\": 0.05}, \"xaxis\": {\"automargin\": true, \"gridcolor\": \"white\", \"linecolor\": \"white\", \"ticks\": \"\", \"title\": {\"standoff\": 15}, \"zerolinecolor\": \"white\", \"zerolinewidth\": 2}, \"yaxis\": {\"automargin\": true, \"gridcolor\": \"white\", \"linecolor\": \"white\", \"ticks\": \"\", \"title\": {\"standoff\": 15}, \"zerolinecolor\": \"white\", \"zerolinewidth\": 2}}}, \"title\": {\"text\": \"<b>Reservoir trajectories </b>\"}, \"xaxis\": {\"title\": {\"text\": \"<b>Time</b> (Hour)\"}}, \"yaxis\": {\"title\": {\"text\": \"<b>Volume</b> (Mm<sup>3</sup>)\"}}},                        {\"responsive\": true}                    ).then(function(){\n",
       "                            \n",
       "var gd = document.getElementById('c956a487-0ba2-4006-b9b1-be86d5272b56');\n",
       "var x = new MutationObserver(function (mutations, observer) {{\n",
       "        var display = window.getComputedStyle(gd).display;\n",
       "        if (!display || display === 'none') {{\n",
       "            console.log([gd, 'removed!']);\n",
       "            Plotly.purge(gd);\n",
       "            observer.disconnect();\n",
       "        }}\n",
       "}});\n",
       "\n",
       "// Listen for the removal of the full notebook cells\n",
       "var notebookContainer = gd.closest('#notebook-container');\n",
       "if (notebookContainer) {{\n",
       "    x.observe(notebookContainer, {childList: true});\n",
       "}}\n",
       "\n",
       "// Listen for the clearing of the current output cell\n",
       "var outputEl = gd.closest('.output');\n",
       "if (outputEl) {{\n",
       "    x.observe(outputEl, {childList: true});\n",
       "}}\n",
       "\n",
       "                        })                };                });            </script>        </div>"
      ]
     },
     "metadata": {},
     "output_type": "display_data"
    }
   ],
   "source": [
    "# Plotting reservoir trajectories\r\n",
    "water_storage_rsv1=shop.model.reservoir.Reservoir1.storage.get()\r\n",
    "water_storage_rsv2=shop.model.reservoir.Reservoir2.storage.get()\r\n",
    "fig = go.Figure()\r\n",
    "colorscale = px.colors.sequential.RdBu_r\r\n",
    "fig.add_trace(go.Scatter(x=water_storage_rsv1.index, y=water_storage_rsv1.values, name=\"Reservoir1 storage\", marker_color=colorscale[1]))\r\n",
    "fig.add_trace(go.Scatter(x=water_storage_rsv2.index, y=water_storage_rsv2.values, name=\"Reservoir2 storage\", marker_color=colorscale[2]))\r\n",
    "fig.update_layout(title=\"<b>Reservoir trajectories </b>\", xaxis_title=\"<b>Time</b> (Hour)\", yaxis_title=\"<b>Volume</b> (Mm<sup>3</sup>)\")\r\n",
    "fig.show()"
   ]
  },
  {
   "cell_type": "markdown",
   "metadata": {
    "Collapsed": "false"
   },
   "source": [
    "Lastly, we can inspect individual values describing our model run."
   ]
  },
  {
   "cell_type": "code",
   "execution_count": 37,
   "metadata": {
    "Collapsed": "false"
   },
   "outputs": [
    {
     "name": "stdout",
     "output_type": "stream",
     "text": [
      "Income from fixed load: -0.0\n",
      "Sum of selling vs. buying in the market: -874097.1155875268\n",
      "End reservoir value: -335498.5310546686\n",
      "Sum of startup costs: 3100.0\n",
      "Sum of load penalties: 0.0\n",
      "Total objective value: -1206495.6466421955\n",
      "Grand total objective value (excluding major penalties): -1206495.6466421955\n"
     ]
    }
   ],
   "source": [
    "print(\"Income from fixed load:\",shop.model.objective.scen_1.load_value.get())\r\n",
    "print(\"Sum of selling vs. buying in the market:\", shop.model.objective.scen_1.market_sale_buy.get())\r\n",
    "print(\"End reservoir value:\", shop.model.objective.scen_1.rsv_end_value.get())\r\n",
    "print(\"Sum of startup costs:\", shop.model.objective.scen_1.startup_costs.get())\r\n",
    "print(\"Sum of load penalties:\", shop.model.objective.scen_1.load_penalty.get())\r\n",
    "print(\"Total objective value:\", shop.model.objective.scen_1.total.get())\r\n",
    "print(\"Grand total objective value (excluding major penalties):\", shop.model.objective.scen_1.grand_total.get())"
   ]
  }
 ],
 "metadata": {
  "interpreter": {
   "hash": "4223153fc3680f012c12488c2bfc79714a2d6819fdc0439337abb73470cb9161"
  },
  "kernelspec": {
   "display_name": "Python 3",
   "language": "python",
   "name": "python3"
  },
  "language_info": {
   "codemirror_mode": {
    "name": "ipython",
    "version": 3
   },
   "file_extension": ".py",
   "mimetype": "text/x-python",
   "name": "python",
   "nbconvert_exporter": "python",
   "pygments_lexer": "ipython3",
   "version": "3.7.6"
  },
  "widgets": {
   "application/vnd.jupyter.widget-state+json": {
    "state": {},
    "version_major": 2,
    "version_minor": 0
   }
  }
 },
 "nbformat": 4,
 "nbformat_minor": 4
}
