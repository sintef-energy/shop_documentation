{
 "cells": [
  {
   "cell_type": "markdown",
   "source": [
    "# Discretization of droop results\r\n",
    "\r\n",
    "The model setup for the iterative discretization of droop results presented below is available in the following formats:\r\n",
    "\r\n",
    "- pyshop\r\n",
    "    - [discrete_droop.py](#discrete_droop.py)\r\n",
    "- YAML\r\n",
    "    - [model.yaml](#model.yaml)\r\n",
    "    - [reserve_obligation.yaml](#reserve_obligation.yaml)\r\n",
    "    - [discrete_droop_input.yaml](#discrete_droop_input.yaml)\r\n",
    "- ASCII\r\n",
    "    - [model.ascii](#model.ascii)\r\n",
    "    - [reserve_obligation.ascii](#reserve_obligation.ascii)    \r\n",
    "    - [discrete_droop_input.ascii](#discrete_droop_input.ascii)"
   ],
   "metadata": {}
  },
  {
   "cell_type": "markdown",
   "source": [
    "## Iterative droop discretization\n",
    "A simple system with 6 generators located on two separate plants will be used to illustrate the basic features of the droop discretization heuristic in SHOP. The droop variable is a continuous variable in SHOP, but there is usually a set of discrete droop values that can be implemented in the real world. The discrete droop functionality in SHOP enables the user to specify a set of discrete legal values that the droop variable in SHOP will be rounded and fixed to in the next iteration(s). This is a heuristic approach to the problem, since the droop variables are not formulated as discrete variables in the optimization problem. This would require the use of extra binary variables that will impact the tractability and calculation time of SHOP. Note that the droop discretization functionality requires the **SHOP_DISCRETE_DROOP** license.\n",
    "\n",
    "First, we create and run the basic model without any droop discretization:"
   ],
   "metadata": {}
  },
  {
   "cell_type": "code",
   "execution_count": 1,
   "source": [
    "#Necessary imports used in all examples\r\n",
    "import pandas as pd\r\n",
    "import cufflinks as cf\r\n",
    "import plotly.offline as py\r\n",
    "import plotly.graph_objs as go\r\n",
    "cf.go_offline()\r\n",
    "py.offline.init_notebook_mode(connected=True)\r\n",
    "from pyshop import ShopSession\r\n",
    "\r\n",
    "#Functions used in this example for building and solving a simple model with cuts\r\n",
    "from discrete_droop import build_model, run_model, get_gen_droop"
   ],
   "outputs": [
    {
     "output_type": "display_data",
     "data": {
      "text/html": [
       "        <script type=\"text/javascript\">\n",
       "        window.PlotlyConfig = {MathJaxConfig: 'local'};\n",
       "        if (window.MathJax) {MathJax.Hub.Config({SVG: {font: \"STIX-Web\"}});}\n",
       "        if (typeof require !== 'undefined') {\n",
       "        require.undef(\"plotly\");\n",
       "        requirejs.config({\n",
       "            paths: {\n",
       "                'plotly': ['https://cdn.plot.ly/plotly-latest.min']\n",
       "            }\n",
       "        });\n",
       "        require(['plotly'], function(Plotly) {\n",
       "            window._Plotly = Plotly;\n",
       "        });\n",
       "        }\n",
       "        </script>\n",
       "        "
      ]
     },
     "metadata": {}
    },
    {
     "output_type": "display_data",
     "data": {
      "text/html": [
       "        <script type=\"text/javascript\">\n",
       "        window.PlotlyConfig = {MathJaxConfig: 'local'};\n",
       "        if (window.MathJax) {MathJax.Hub.Config({SVG: {font: \"STIX-Web\"}});}\n",
       "        if (typeof require !== 'undefined') {\n",
       "        require.undef(\"plotly\");\n",
       "        requirejs.config({\n",
       "            paths: {\n",
       "                'plotly': ['https://cdn.plot.ly/plotly-latest.min']\n",
       "            }\n",
       "        });\n",
       "        require(['plotly'], function(Plotly) {\n",
       "            window._Plotly = Plotly;\n",
       "        });\n",
       "        }\n",
       "        </script>\n",
       "        "
      ]
     },
     "metadata": {}
    }
   ],
   "metadata": {}
  },
  {
   "cell_type": "code",
   "execution_count": 2,
   "source": [
    "#Create a standard ShopSession\r\n",
    "shop=ShopSession()\r\n",
    "#Build a simple model with two reservoirs, two plants, and 6 generators.\r\n",
    "build_model(shop)\r\n",
    "#Display topology to the screen\r\n",
    "display(shop.model.build_connection_tree())\r\n",
    "\r\n",
    "#Add FCR_N obligation in both directions where all generators can participate\r\n",
    "fcr_group = shop.model.reserve_group.add_object(\"fcr_group\")\r\n",
    "fcr_group.fcr_n_up_obligation.set(20)\r\n",
    "fcr_group.fcr_n_down_obligation.set(20)    \r\n",
    "\r\n",
    "for gen in shop.model.generator:\r\n",
    "    fcr_group.connect_to(gen) \r\n",
    "\r\n",
    "#Run an optimization without any droop discretization\r\n",
    "run_model(shop)"
   ],
   "outputs": [
    {
     "output_type": "display_data",
     "data": {
      "image/svg+xml": "<?xml version=\"1.0\" encoding=\"UTF-8\" standalone=\"no\"?>\r\n<!DOCTYPE svg PUBLIC \"-//W3C//DTD SVG 1.1//EN\"\r\n \"http://www.w3.org/Graphics/SVG/1.1/DTD/svg11.dtd\">\r\n<!-- Generated by graphviz version 2.44.1 (20200629.0846)\r\n -->\r\n<!-- Pages: 1 -->\r\n<svg width=\"208pt\" height=\"280pt\"\r\n viewBox=\"0.00 0.00 208.18 280.00\" xmlns=\"http://www.w3.org/2000/svg\" xmlns:xlink=\"http://www.w3.org/1999/xlink\">\r\n<g id=\"graph0\" class=\"graph\" transform=\"scale(1 1) rotate(0) translate(4 276)\">\r\n<polygon fill=\"white\" stroke=\"transparent\" points=\"-4,4 -4,-276 204.18,-276 204.18,4 -4,4\"/>\r\n<!-- reservoir_Reservoir1 -->\r\n<g id=\"node1\" class=\"node\">\r\n<title>reservoir_Reservoir1</title>\r\n<polygon fill=\"skyblue\" stroke=\"black\" points=\"100.09,-226 200.27,-260.5 -0.09,-260.5 100.09,-226\"/>\r\n<text text-anchor=\"middle\" x=\"100.09\" y=\"-245.3\" font-family=\"Times New Roman,serif\" font-size=\"14.00\">Reservoir1</text>\r\n</g>\r\n<!-- plant_Plant1 -->\r\n<g id=\"node3\" class=\"node\">\r\n<title>plant_Plant1</title>\r\n<polygon fill=\"#ffc1c1\" stroke=\"black\" points=\"127.09,-190 73.09,-190 73.09,-154 127.09,-154 127.09,-190\"/>\r\n<text text-anchor=\"middle\" x=\"100.09\" y=\"-168.3\" font-family=\"Times New Roman,serif\" font-size=\"14.00\">Plant1</text>\r\n</g>\r\n<!-- reservoir_Reservoir1&#45;&gt;plant_Plant1 -->\r\n<g id=\"edge1\" class=\"edge\">\r\n<title>reservoir_Reservoir1&#45;&gt;plant_Plant1</title>\r\n<path fill=\"none\" stroke=\"black\" d=\"M100.09,-225.9C100.09,-214.5 100.09,-200.79 100.09,-190.18\"/>\r\n</g>\r\n<!-- reservoir_Reservoir2 -->\r\n<g id=\"node2\" class=\"node\">\r\n<title>reservoir_Reservoir2</title>\r\n<polygon fill=\"skyblue\" stroke=\"black\" points=\"100.09,-72 200.27,-106.5 -0.09,-106.5 100.09,-72\"/>\r\n<text text-anchor=\"middle\" x=\"100.09\" y=\"-91.3\" font-family=\"Times New Roman,serif\" font-size=\"14.00\">Reservoir2</text>\r\n</g>\r\n<!-- plant_Plant2 -->\r\n<g id=\"node4\" class=\"node\">\r\n<title>plant_Plant2</title>\r\n<polygon fill=\"#ffc1c1\" stroke=\"black\" points=\"127.09,-36 73.09,-36 73.09,0 127.09,0 127.09,-36\"/>\r\n<text text-anchor=\"middle\" x=\"100.09\" y=\"-14.3\" font-family=\"Times New Roman,serif\" font-size=\"14.00\">Plant2</text>\r\n</g>\r\n<!-- reservoir_Reservoir2&#45;&gt;plant_Plant2 -->\r\n<g id=\"edge2\" class=\"edge\">\r\n<title>reservoir_Reservoir2&#45;&gt;plant_Plant2</title>\r\n<path fill=\"none\" stroke=\"black\" d=\"M100.09,-71.9C100.09,-60.5 100.09,-46.79 100.09,-36.18\"/>\r\n</g>\r\n<!-- plant_Plant1&#45;&gt;reservoir_Reservoir2 -->\r\n<g id=\"edge3\" class=\"edge\">\r\n<title>plant_Plant1&#45;&gt;reservoir_Reservoir2</title>\r\n<path fill=\"none\" stroke=\"black\" d=\"M100.09,-153.98C100.09,-139.46 100.09,-119.03 100.09,-106.7\"/>\r\n</g>\r\n</g>\r\n</svg>\r\n",
      "text/plain": [
       "<graphviz.dot.Digraph at 0x2332a37f788>"
      ]
     },
     "metadata": {}
    }
   ],
   "metadata": {}
  },
  {
   "cell_type": "markdown",
   "source": [
    "The resulting droop values can now be plotted. Note that the plotting below removes the time information form the droop values and plots them for the same x value:"
   ],
   "metadata": {}
  },
  {
   "cell_type": "code",
   "execution_count": 3,
   "source": [
    "#Display the resulting droop values from the optimization\r\n",
    "\r\n",
    "#Retrieve the generator droop results\r\n",
    "gen_droop = get_gen_droop(shop)\r\n",
    "\r\n",
    "gen_names = [gen.get_name() for gen in shop.model.generator]\r\n",
    "\r\n",
    "fig = go.Figure(layout={'title':\"Droop values\",'xaxis_title':\"Generator\",'yaxis_title':\"Droop [%]\"})\r\n",
    "\r\n",
    "#Add dashed lines to show the integer values between 1 and 12\r\n",
    "for i in range(1,13):\r\n",
    "    fig.add_trace(go.Scatter(showlegend=False,x=gen_names,y=[i]*len(gen_names),mode='lines', line={'color': \"black\", 'width': 0.5,'dash':\"dash\"})) \r\n",
    "           \r\n",
    "for gen_name, droop in gen_droop.items():\r\n",
    "    fig.add_trace(go.Scatter(showlegend=False,x=[gen_name]*len(droop),y=droop,mode='markers')) \r\n",
    "\r\n",
    "fig.show()"
   ],
   "outputs": [
    {
     "output_type": "display_data",
     "data": {
      "application/vnd.plotly.v1+json": {
       "config": {
        "plotlyServerURL": "https://plot.ly"
       },
       "data": [
        {
         "line": {
          "color": "black",
          "dash": "dash",
          "width": 0.5
         },
         "mode": "lines",
         "showlegend": false,
         "type": "scatter",
         "x": [
          "Plant1_G1",
          "Plant1_G2",
          "Plant2_G1",
          "Plant2_G2",
          "Plant2_G3",
          "Plant2_G4"
         ],
         "y": [
          1,
          1,
          1,
          1,
          1,
          1
         ]
        },
        {
         "line": {
          "color": "black",
          "dash": "dash",
          "width": 0.5
         },
         "mode": "lines",
         "showlegend": false,
         "type": "scatter",
         "x": [
          "Plant1_G1",
          "Plant1_G2",
          "Plant2_G1",
          "Plant2_G2",
          "Plant2_G3",
          "Plant2_G4"
         ],
         "y": [
          2,
          2,
          2,
          2,
          2,
          2
         ]
        },
        {
         "line": {
          "color": "black",
          "dash": "dash",
          "width": 0.5
         },
         "mode": "lines",
         "showlegend": false,
         "type": "scatter",
         "x": [
          "Plant1_G1",
          "Plant1_G2",
          "Plant2_G1",
          "Plant2_G2",
          "Plant2_G3",
          "Plant2_G4"
         ],
         "y": [
          3,
          3,
          3,
          3,
          3,
          3
         ]
        },
        {
         "line": {
          "color": "black",
          "dash": "dash",
          "width": 0.5
         },
         "mode": "lines",
         "showlegend": false,
         "type": "scatter",
         "x": [
          "Plant1_G1",
          "Plant1_G2",
          "Plant2_G1",
          "Plant2_G2",
          "Plant2_G3",
          "Plant2_G4"
         ],
         "y": [
          4,
          4,
          4,
          4,
          4,
          4
         ]
        },
        {
         "line": {
          "color": "black",
          "dash": "dash",
          "width": 0.5
         },
         "mode": "lines",
         "showlegend": false,
         "type": "scatter",
         "x": [
          "Plant1_G1",
          "Plant1_G2",
          "Plant2_G1",
          "Plant2_G2",
          "Plant2_G3",
          "Plant2_G4"
         ],
         "y": [
          5,
          5,
          5,
          5,
          5,
          5
         ]
        },
        {
         "line": {
          "color": "black",
          "dash": "dash",
          "width": 0.5
         },
         "mode": "lines",
         "showlegend": false,
         "type": "scatter",
         "x": [
          "Plant1_G1",
          "Plant1_G2",
          "Plant2_G1",
          "Plant2_G2",
          "Plant2_G3",
          "Plant2_G4"
         ],
         "y": [
          6,
          6,
          6,
          6,
          6,
          6
         ]
        },
        {
         "line": {
          "color": "black",
          "dash": "dash",
          "width": 0.5
         },
         "mode": "lines",
         "showlegend": false,
         "type": "scatter",
         "x": [
          "Plant1_G1",
          "Plant1_G2",
          "Plant2_G1",
          "Plant2_G2",
          "Plant2_G3",
          "Plant2_G4"
         ],
         "y": [
          7,
          7,
          7,
          7,
          7,
          7
         ]
        },
        {
         "line": {
          "color": "black",
          "dash": "dash",
          "width": 0.5
         },
         "mode": "lines",
         "showlegend": false,
         "type": "scatter",
         "x": [
          "Plant1_G1",
          "Plant1_G2",
          "Plant2_G1",
          "Plant2_G2",
          "Plant2_G3",
          "Plant2_G4"
         ],
         "y": [
          8,
          8,
          8,
          8,
          8,
          8
         ]
        },
        {
         "line": {
          "color": "black",
          "dash": "dash",
          "width": 0.5
         },
         "mode": "lines",
         "showlegend": false,
         "type": "scatter",
         "x": [
          "Plant1_G1",
          "Plant1_G2",
          "Plant2_G1",
          "Plant2_G2",
          "Plant2_G3",
          "Plant2_G4"
         ],
         "y": [
          9,
          9,
          9,
          9,
          9,
          9
         ]
        },
        {
         "line": {
          "color": "black",
          "dash": "dash",
          "width": 0.5
         },
         "mode": "lines",
         "showlegend": false,
         "type": "scatter",
         "x": [
          "Plant1_G1",
          "Plant1_G2",
          "Plant2_G1",
          "Plant2_G2",
          "Plant2_G3",
          "Plant2_G4"
         ],
         "y": [
          10,
          10,
          10,
          10,
          10,
          10
         ]
        },
        {
         "line": {
          "color": "black",
          "dash": "dash",
          "width": 0.5
         },
         "mode": "lines",
         "showlegend": false,
         "type": "scatter",
         "x": [
          "Plant1_G1",
          "Plant1_G2",
          "Plant2_G1",
          "Plant2_G2",
          "Plant2_G3",
          "Plant2_G4"
         ],
         "y": [
          11,
          11,
          11,
          11,
          11,
          11
         ]
        },
        {
         "line": {
          "color": "black",
          "dash": "dash",
          "width": 0.5
         },
         "mode": "lines",
         "showlegend": false,
         "type": "scatter",
         "x": [
          "Plant1_G1",
          "Plant1_G2",
          "Plant2_G1",
          "Plant2_G2",
          "Plant2_G3",
          "Plant2_G4"
         ],
         "y": [
          12,
          12,
          12,
          12,
          12,
          12
         ]
        },
        {
         "mode": "markers",
         "showlegend": false,
         "type": "scatter",
         "x": [
          "Plant1_G1",
          "Plant1_G1",
          "Plant1_G1",
          "Plant1_G1",
          "Plant1_G1",
          "Plant1_G1",
          "Plant1_G1",
          "Plant1_G1",
          "Plant1_G1",
          "Plant1_G1",
          "Plant1_G1",
          "Plant1_G1",
          "Plant1_G1",
          "Plant1_G1",
          "Plant1_G1",
          "Plant1_G1",
          "Plant1_G1",
          "Plant1_G1",
          "Plant1_G1",
          "Plant1_G1",
          "Plant1_G1",
          "Plant1_G1",
          "Plant1_G1",
          "Plant1_G1",
          "Plant1_G1",
          "Plant1_G1",
          "Plant1_G1",
          "Plant1_G1",
          "Plant1_G1",
          "Plant1_G1",
          "Plant1_G1",
          "Plant1_G1",
          "Plant1_G1",
          "Plant1_G1",
          "Plant1_G1",
          "Plant1_G1",
          "Plant1_G1",
          "Plant1_G1",
          "Plant1_G1",
          "Plant1_G1",
          "Plant1_G1",
          "Plant1_G1",
          "Plant1_G1",
          "Plant1_G1",
          "Plant1_G1",
          "Plant1_G1",
          "Plant1_G1",
          "Plant1_G1",
          "Plant1_G1",
          "Plant1_G1",
          "Plant1_G1",
          "Plant1_G1",
          "Plant1_G1",
          "Plant1_G1",
          "Plant1_G1",
          "Plant1_G1",
          "Plant1_G1",
          "Plant1_G1",
          "Plant1_G1",
          "Plant1_G1",
          "Plant1_G1",
          "Plant1_G1",
          "Plant1_G1",
          "Plant1_G1",
          "Plant1_G1",
          "Plant1_G1",
          "Plant1_G1",
          "Plant1_G1",
          "Plant1_G1",
          "Plant1_G1",
          "Plant1_G1",
          "Plant1_G1"
         ],
         "y": [
          12,
          12,
          12,
          12,
          12,
          12,
          11.999995515294799,
          7.4365801258599005,
          7.420612373792367,
          7.552535531401446,
          6.649599476627443,
          6.80889857330797,
          6.687025211253145,
          6.705827994213402,
          3.445839950872741,
          3.4357800517449215,
          6.057470909901852,
          5.909996779152984,
          3.335965392571947,
          12,
          12,
          12,
          12,
          12,
          12,
          12,
          12,
          12,
          12,
          12,
          12,
          2.6190723743685247,
          2.609365860602761,
          2.5997310275781196,
          11.316925534789263,
          6.193219795578942,
          6.071950939190743,
          5.955339985077852,
          5.843123626948183,
          5.735058037371691,
          5.630917099230532,
          5.530490826420224,
          5.433583950587479,
          11.104133301186716,
          12,
          12,
          12,
          12,
          12,
          12,
          12,
          12,
          12,
          12,
          10.87682581293011,
          2.0002780112359217,
          1.9934538221411715,
          1.9866760378152355,
          1.9799441865304737,
          1.9732578029314454,
          1.9666164279276792,
          1.960019608588598,
          1.9534668980405483,
          1.9469578553658982,
          1.8227846956025715,
          2.5515300360225064,
          2.543854665145973,
          1.810529219985171,
          1.9174833773201239,
          1.9111599359768592,
          1.9048769169230018,
          12
         ]
        },
        {
         "mode": "markers",
         "showlegend": false,
         "type": "scatter",
         "x": [
          "Plant1_G2",
          "Plant1_G2",
          "Plant1_G2",
          "Plant1_G2",
          "Plant1_G2",
          "Plant1_G2",
          "Plant1_G2",
          "Plant1_G2",
          "Plant1_G2",
          "Plant1_G2",
          "Plant1_G2",
          "Plant1_G2",
          "Plant1_G2",
          "Plant1_G2",
          "Plant1_G2",
          "Plant1_G2",
          "Plant1_G2",
          "Plant1_G2",
          "Plant1_G2",
          "Plant1_G2",
          "Plant1_G2",
          "Plant1_G2",
          "Plant1_G2",
          "Plant1_G2",
          "Plant1_G2",
          "Plant1_G2",
          "Plant1_G2",
          "Plant1_G2",
          "Plant1_G2",
          "Plant1_G2",
          "Plant1_G2",
          "Plant1_G2",
          "Plant1_G2",
          "Plant1_G2",
          "Plant1_G2",
          "Plant1_G2",
          "Plant1_G2",
          "Plant1_G2",
          "Plant1_G2",
          "Plant1_G2",
          "Plant1_G2",
          "Plant1_G2",
          "Plant1_G2",
          "Plant1_G2",
          "Plant1_G2",
          "Plant1_G2",
          "Plant1_G2",
          "Plant1_G2",
          "Plant1_G2",
          "Plant1_G2",
          "Plant1_G2",
          "Plant1_G2",
          "Plant1_G2",
          "Plant1_G2",
          "Plant1_G2",
          "Plant1_G2",
          "Plant1_G2",
          "Plant1_G2",
          "Plant1_G2",
          "Plant1_G2",
          "Plant1_G2",
          "Plant1_G2",
          "Plant1_G2",
          "Plant1_G2",
          "Plant1_G2",
          "Plant1_G2",
          "Plant1_G2",
          "Plant1_G2",
          "Plant1_G2",
          "Plant1_G2",
          "Plant1_G2",
          "Plant1_G2"
         ],
         "y": [
          12,
          12,
          12,
          12,
          12,
          12,
          12,
          7.503163995045646,
          7.505674277623949,
          7.293958884843242,
          7.002595419246688,
          6.668205911321983,
          6.687025427815868,
          6.7058285001367395,
          3.2944041434560964,
          3.3032397612714717,
          6.6594450470769395,
          6.677192101649545,
          3.330743762671211,
          3.0418998565582345,
          12,
          12,
          12,
          12,
          12,
          12,
          12,
          12,
          12,
          12,
          12,
          12,
          12,
          12,
          12,
          12,
          12,
          12,
          12,
          12,
          12,
          12,
          12,
          12,
          12,
          12,
          12,
          12,
          12,
          12,
          12,
          12,
          12,
          12,
          12,
          12,
          12,
          12,
          12,
          12,
          12,
          12,
          12,
          12,
          12,
          2.2654591179030374,
          2.271544444014401,
          12,
          12,
          12,
          12,
          12
         ]
        },
        {
         "mode": "markers",
         "showlegend": false,
         "type": "scatter",
         "x": [
          "Plant2_G1",
          "Plant2_G1",
          "Plant2_G1",
          "Plant2_G1",
          "Plant2_G1",
          "Plant2_G1",
          "Plant2_G1",
          "Plant2_G1",
          "Plant2_G1",
          "Plant2_G1",
          "Plant2_G1",
          "Plant2_G1",
          "Plant2_G1",
          "Plant2_G1",
          "Plant2_G1",
          "Plant2_G1",
          "Plant2_G1",
          "Plant2_G1",
          "Plant2_G1",
          "Plant2_G1",
          "Plant2_G1",
          "Plant2_G1",
          "Plant2_G1",
          "Plant2_G1",
          "Plant2_G1",
          "Plant2_G1",
          "Plant2_G1",
          "Plant2_G1",
          "Plant2_G1",
          "Plant2_G1",
          "Plant2_G1",
          "Plant2_G1",
          "Plant2_G1",
          "Plant2_G1",
          "Plant2_G1",
          "Plant2_G1",
          "Plant2_G1",
          "Plant2_G1",
          "Plant2_G1",
          "Plant2_G1",
          "Plant2_G1",
          "Plant2_G1",
          "Plant2_G1",
          "Plant2_G1",
          "Plant2_G1",
          "Plant2_G1",
          "Plant2_G1",
          "Plant2_G1",
          "Plant2_G1",
          "Plant2_G1",
          "Plant2_G1",
          "Plant2_G1",
          "Plant2_G1",
          "Plant2_G1",
          "Plant2_G1",
          "Plant2_G1",
          "Plant2_G1",
          "Plant2_G1",
          "Plant2_G1",
          "Plant2_G1",
          "Plant2_G1",
          "Plant2_G1",
          "Plant2_G1",
          "Plant2_G1",
          "Plant2_G1",
          "Plant2_G1",
          "Plant2_G1",
          "Plant2_G1",
          "Plant2_G1",
          "Plant2_G1",
          "Plant2_G1",
          "Plant2_G1"
         ],
         "y": [
          2.541176470588236,
          2.25,
          2.3867403314917133,
          2.3867403314917133,
          2.2628756206135057,
          2.541176470588236,
          12,
          12,
          12,
          12,
          12,
          12,
          12,
          12,
          12,
          12,
          12,
          12,
          12,
          4.891175479693863,
          2.541176470588236,
          2.541176470588236,
          2.2268041237113407,
          2.107317073170732,
          2.107317073170732,
          1.88646288209607,
          1.88646288209607,
          1.88646288209607,
          1.88646288209607,
          2.107317073170732,
          2.2268041237113407,
          5.140568182093599,
          5.165711978508671,
          5.191102953046439,
          2.563016504870993,
          2.5189866745111815,
          2.5327025436359087,
          2.546568596178287,
          2.5605873123919967,
          2.574761227447656,
          2.589092932961241,
          2.6035850785737678,
          2.6182403735844404,
          2.2492536234217106,
          2.2268041237113407,
          2.2268041237113407,
          1.88646288209607,
          1.88646288209607,
          1.88646288209607,
          1.88646288209607,
          1.88646288209607,
          1.88646288209607,
          1.88646288209607,
          1.88646288209607,
          2.255619230986296,
          5.836259364161478,
          5.87538252941008,
          5.915033756103724,
          5.955223808077956,
          5.995963743711749,
          6.037264926071797,
          6.079139033478987,
          6.121598070517682,
          6.164654379509576,
          12.000003309002754,
          12,
          12,
          12,
          6.371387203628825,
          6.418430357186458,
          6.466182177918885,
          2.0858457299260054
         ]
        },
        {
         "mode": "markers",
         "showlegend": false,
         "type": "scatter",
         "x": [
          "Plant2_G2",
          "Plant2_G2",
          "Plant2_G2",
          "Plant2_G2",
          "Plant2_G2",
          "Plant2_G2",
          "Plant2_G2",
          "Plant2_G2",
          "Plant2_G2",
          "Plant2_G2",
          "Plant2_G2",
          "Plant2_G2",
          "Plant2_G2",
          "Plant2_G2",
          "Plant2_G2",
          "Plant2_G2",
          "Plant2_G2",
          "Plant2_G2",
          "Plant2_G2",
          "Plant2_G2",
          "Plant2_G2",
          "Plant2_G2",
          "Plant2_G2",
          "Plant2_G2",
          "Plant2_G2",
          "Plant2_G2",
          "Plant2_G2",
          "Plant2_G2",
          "Plant2_G2",
          "Plant2_G2",
          "Plant2_G2",
          "Plant2_G2",
          "Plant2_G2",
          "Plant2_G2",
          "Plant2_G2",
          "Plant2_G2",
          "Plant2_G2",
          "Plant2_G2",
          "Plant2_G2",
          "Plant2_G2",
          "Plant2_G2",
          "Plant2_G2",
          "Plant2_G2",
          "Plant2_G2",
          "Plant2_G2",
          "Plant2_G2",
          "Plant2_G2",
          "Plant2_G2",
          "Plant2_G2",
          "Plant2_G2",
          "Plant2_G2",
          "Plant2_G2",
          "Plant2_G2",
          "Plant2_G2",
          "Plant2_G2",
          "Plant2_G2",
          "Plant2_G2",
          "Plant2_G2",
          "Plant2_G2",
          "Plant2_G2",
          "Plant2_G2",
          "Plant2_G2",
          "Plant2_G2",
          "Plant2_G2",
          "Plant2_G2",
          "Plant2_G2",
          "Plant2_G2",
          "Plant2_G2",
          "Plant2_G2",
          "Plant2_G2",
          "Plant2_G2",
          "Plant2_G2"
         ],
         "y": [
          12,
          12,
          12,
          12,
          12,
          12,
          2.5099903758557156,
          2.5004801355156316,
          2.5120857056589267,
          2.528702941943377,
          2.5456106975489936,
          2.5628945829969765,
          2.580497216046366,
          2.59842379847293,
          12,
          12,
          2.653994027598427,
          2.6731894665686036,
          12,
          12,
          12,
          12,
          12,
          12,
          12,
          12,
          12,
          12,
          12,
          12,
          12,
          12,
          12,
          12,
          12,
          12,
          12,
          12,
          12,
          12,
          12,
          12,
          12,
          12,
          12,
          12,
          12,
          12,
          12,
          12,
          12,
          12,
          12,
          12,
          12,
          12,
          12,
          12,
          12,
          12,
          12,
          12,
          12,
          12,
          12,
          12,
          12,
          12,
          12,
          12,
          12,
          8.026797874738012
         ]
        },
        {
         "mode": "markers",
         "showlegend": false,
         "type": "scatter",
         "x": [
          "Plant2_G3",
          "Plant2_G3",
          "Plant2_G3",
          "Plant2_G3",
          "Plant2_G3",
          "Plant2_G3",
          "Plant2_G3",
          "Plant2_G3",
          "Plant2_G3",
          "Plant2_G3",
          "Plant2_G3",
          "Plant2_G3",
          "Plant2_G3",
          "Plant2_G3",
          "Plant2_G3",
          "Plant2_G3",
          "Plant2_G3",
          "Plant2_G3",
          "Plant2_G3",
          "Plant2_G3",
          "Plant2_G3",
          "Plant2_G3",
          "Plant2_G3",
          "Plant2_G3",
          "Plant2_G3",
          "Plant2_G3",
          "Plant2_G3",
          "Plant2_G3",
          "Plant2_G3",
          "Plant2_G3",
          "Plant2_G3",
          "Plant2_G3",
          "Plant2_G3",
          "Plant2_G3",
          "Plant2_G3",
          "Plant2_G3",
          "Plant2_G3",
          "Plant2_G3",
          "Plant2_G3",
          "Plant2_G3",
          "Plant2_G3",
          "Plant2_G3",
          "Plant2_G3",
          "Plant2_G3",
          "Plant2_G3",
          "Plant2_G3",
          "Plant2_G3",
          "Plant2_G3",
          "Plant2_G3",
          "Plant2_G3",
          "Plant2_G3",
          "Plant2_G3",
          "Plant2_G3",
          "Plant2_G3",
          "Plant2_G3",
          "Plant2_G3",
          "Plant2_G3",
          "Plant2_G3",
          "Plant2_G3",
          "Plant2_G3",
          "Plant2_G3",
          "Plant2_G3",
          "Plant2_G3",
          "Plant2_G3",
          "Plant2_G3",
          "Plant2_G3",
          "Plant2_G3",
          "Plant2_G3",
          "Plant2_G3",
          "Plant2_G3",
          "Plant2_G3",
          "Plant2_G3"
         ],
         "y": [
          12,
          12,
          12,
          12,
          12,
          12,
          2.509983822605226,
          2.5004735133858107,
          2.5120924207830093,
          2.528710075285762,
          2.545625910647592,
          2.562911091968283,
          2.5805149073750964,
          2.598442338975799,
          12,
          12,
          2.654015426716186,
          2.6732119881833474,
          12,
          12,
          12,
          12,
          12,
          12,
          12,
          12,
          12,
          12,
          12,
          12,
          12,
          12,
          12,
          12,
          12,
          12,
          12,
          12,
          12,
          12,
          12,
          12,
          12,
          12,
          12,
          12,
          12,
          12,
          12,
          12,
          12,
          12,
          12,
          12,
          12,
          12,
          12,
          12,
          12,
          12,
          12,
          12,
          12,
          12,
          12,
          12,
          12,
          12,
          12,
          12,
          12,
          8.02682869873577
         ]
        },
        {
         "mode": "markers",
         "showlegend": false,
         "type": "scatter",
         "x": [
          "Plant2_G4",
          "Plant2_G4",
          "Plant2_G4",
          "Plant2_G4",
          "Plant2_G4",
          "Plant2_G4",
          "Plant2_G4",
          "Plant2_G4",
          "Plant2_G4",
          "Plant2_G4",
          "Plant2_G4",
          "Plant2_G4",
          "Plant2_G4",
          "Plant2_G4",
          "Plant2_G4",
          "Plant2_G4",
          "Plant2_G4",
          "Plant2_G4",
          "Plant2_G4",
          "Plant2_G4",
          "Plant2_G4",
          "Plant2_G4",
          "Plant2_G4",
          "Plant2_G4",
          "Plant2_G4",
          "Plant2_G4",
          "Plant2_G4",
          "Plant2_G4",
          "Plant2_G4",
          "Plant2_G4",
          "Plant2_G4",
          "Plant2_G4",
          "Plant2_G4",
          "Plant2_G4",
          "Plant2_G4",
          "Plant2_G4",
          "Plant2_G4",
          "Plant2_G4",
          "Plant2_G4",
          "Plant2_G4",
          "Plant2_G4",
          "Plant2_G4",
          "Plant2_G4",
          "Plant2_G4",
          "Plant2_G4",
          "Plant2_G4",
          "Plant2_G4",
          "Plant2_G4",
          "Plant2_G4",
          "Plant2_G4",
          "Plant2_G4",
          "Plant2_G4",
          "Plant2_G4",
          "Plant2_G4",
          "Plant2_G4",
          "Plant2_G4",
          "Plant2_G4",
          "Plant2_G4",
          "Plant2_G4",
          "Plant2_G4",
          "Plant2_G4",
          "Plant2_G4",
          "Plant2_G4",
          "Plant2_G4",
          "Plant2_G4",
          "Plant2_G4",
          "Plant2_G4",
          "Plant2_G4",
          "Plant2_G4",
          "Plant2_G4",
          "Plant2_G4",
          "Plant2_G4"
         ],
         "y": [
          12,
          12,
          12,
          12,
          12,
          12,
          2.510031532088786,
          2.5004665996362014,
          2.5120873758487354,
          2.5287052842055977,
          2.5456137906251577,
          2.5628985206265007,
          2.5805018665383272,
          2.974952613080396,
          12,
          12,
          2.654000320343464,
          2.673196266838829,
          12,
          12,
          12,
          12,
          12,
          12,
          12,
          12,
          12,
          12,
          12,
          12,
          12,
          12,
          12,
          12,
          12,
          12,
          12,
          12,
          12,
          12,
          12,
          12,
          12,
          12,
          12,
          12,
          12,
          12,
          12,
          12,
          12,
          12,
          12,
          12,
          12,
          12,
          12,
          12,
          12,
          12,
          12,
          12,
          12,
          12,
          12,
          12,
          12,
          12,
          12,
          12,
          12,
          12
         ]
        }
       ],
       "layout": {
        "template": {
         "data": {
          "bar": [
           {
            "error_x": {
             "color": "#2a3f5f"
            },
            "error_y": {
             "color": "#2a3f5f"
            },
            "marker": {
             "line": {
              "color": "#E5ECF6",
              "width": 0.5
             }
            },
            "type": "bar"
           }
          ],
          "barpolar": [
           {
            "marker": {
             "line": {
              "color": "#E5ECF6",
              "width": 0.5
             }
            },
            "type": "barpolar"
           }
          ],
          "carpet": [
           {
            "aaxis": {
             "endlinecolor": "#2a3f5f",
             "gridcolor": "white",
             "linecolor": "white",
             "minorgridcolor": "white",
             "startlinecolor": "#2a3f5f"
            },
            "baxis": {
             "endlinecolor": "#2a3f5f",
             "gridcolor": "white",
             "linecolor": "white",
             "minorgridcolor": "white",
             "startlinecolor": "#2a3f5f"
            },
            "type": "carpet"
           }
          ],
          "choropleth": [
           {
            "colorbar": {
             "outlinewidth": 0,
             "ticks": ""
            },
            "type": "choropleth"
           }
          ],
          "contour": [
           {
            "colorbar": {
             "outlinewidth": 0,
             "ticks": ""
            },
            "colorscale": [
             [
              0,
              "#0d0887"
             ],
             [
              0.1111111111111111,
              "#46039f"
             ],
             [
              0.2222222222222222,
              "#7201a8"
             ],
             [
              0.3333333333333333,
              "#9c179e"
             ],
             [
              0.4444444444444444,
              "#bd3786"
             ],
             [
              0.5555555555555556,
              "#d8576b"
             ],
             [
              0.6666666666666666,
              "#ed7953"
             ],
             [
              0.7777777777777778,
              "#fb9f3a"
             ],
             [
              0.8888888888888888,
              "#fdca26"
             ],
             [
              1,
              "#f0f921"
             ]
            ],
            "type": "contour"
           }
          ],
          "contourcarpet": [
           {
            "colorbar": {
             "outlinewidth": 0,
             "ticks": ""
            },
            "type": "contourcarpet"
           }
          ],
          "heatmap": [
           {
            "colorbar": {
             "outlinewidth": 0,
             "ticks": ""
            },
            "colorscale": [
             [
              0,
              "#0d0887"
             ],
             [
              0.1111111111111111,
              "#46039f"
             ],
             [
              0.2222222222222222,
              "#7201a8"
             ],
             [
              0.3333333333333333,
              "#9c179e"
             ],
             [
              0.4444444444444444,
              "#bd3786"
             ],
             [
              0.5555555555555556,
              "#d8576b"
             ],
             [
              0.6666666666666666,
              "#ed7953"
             ],
             [
              0.7777777777777778,
              "#fb9f3a"
             ],
             [
              0.8888888888888888,
              "#fdca26"
             ],
             [
              1,
              "#f0f921"
             ]
            ],
            "type": "heatmap"
           }
          ],
          "heatmapgl": [
           {
            "colorbar": {
             "outlinewidth": 0,
             "ticks": ""
            },
            "colorscale": [
             [
              0,
              "#0d0887"
             ],
             [
              0.1111111111111111,
              "#46039f"
             ],
             [
              0.2222222222222222,
              "#7201a8"
             ],
             [
              0.3333333333333333,
              "#9c179e"
             ],
             [
              0.4444444444444444,
              "#bd3786"
             ],
             [
              0.5555555555555556,
              "#d8576b"
             ],
             [
              0.6666666666666666,
              "#ed7953"
             ],
             [
              0.7777777777777778,
              "#fb9f3a"
             ],
             [
              0.8888888888888888,
              "#fdca26"
             ],
             [
              1,
              "#f0f921"
             ]
            ],
            "type": "heatmapgl"
           }
          ],
          "histogram": [
           {
            "marker": {
             "colorbar": {
              "outlinewidth": 0,
              "ticks": ""
             }
            },
            "type": "histogram"
           }
          ],
          "histogram2d": [
           {
            "colorbar": {
             "outlinewidth": 0,
             "ticks": ""
            },
            "colorscale": [
             [
              0,
              "#0d0887"
             ],
             [
              0.1111111111111111,
              "#46039f"
             ],
             [
              0.2222222222222222,
              "#7201a8"
             ],
             [
              0.3333333333333333,
              "#9c179e"
             ],
             [
              0.4444444444444444,
              "#bd3786"
             ],
             [
              0.5555555555555556,
              "#d8576b"
             ],
             [
              0.6666666666666666,
              "#ed7953"
             ],
             [
              0.7777777777777778,
              "#fb9f3a"
             ],
             [
              0.8888888888888888,
              "#fdca26"
             ],
             [
              1,
              "#f0f921"
             ]
            ],
            "type": "histogram2d"
           }
          ],
          "histogram2dcontour": [
           {
            "colorbar": {
             "outlinewidth": 0,
             "ticks": ""
            },
            "colorscale": [
             [
              0,
              "#0d0887"
             ],
             [
              0.1111111111111111,
              "#46039f"
             ],
             [
              0.2222222222222222,
              "#7201a8"
             ],
             [
              0.3333333333333333,
              "#9c179e"
             ],
             [
              0.4444444444444444,
              "#bd3786"
             ],
             [
              0.5555555555555556,
              "#d8576b"
             ],
             [
              0.6666666666666666,
              "#ed7953"
             ],
             [
              0.7777777777777778,
              "#fb9f3a"
             ],
             [
              0.8888888888888888,
              "#fdca26"
             ],
             [
              1,
              "#f0f921"
             ]
            ],
            "type": "histogram2dcontour"
           }
          ],
          "mesh3d": [
           {
            "colorbar": {
             "outlinewidth": 0,
             "ticks": ""
            },
            "type": "mesh3d"
           }
          ],
          "parcoords": [
           {
            "line": {
             "colorbar": {
              "outlinewidth": 0,
              "ticks": ""
             }
            },
            "type": "parcoords"
           }
          ],
          "pie": [
           {
            "automargin": true,
            "type": "pie"
           }
          ],
          "scatter": [
           {
            "marker": {
             "colorbar": {
              "outlinewidth": 0,
              "ticks": ""
             }
            },
            "type": "scatter"
           }
          ],
          "scatter3d": [
           {
            "line": {
             "colorbar": {
              "outlinewidth": 0,
              "ticks": ""
             }
            },
            "marker": {
             "colorbar": {
              "outlinewidth": 0,
              "ticks": ""
             }
            },
            "type": "scatter3d"
           }
          ],
          "scattercarpet": [
           {
            "marker": {
             "colorbar": {
              "outlinewidth": 0,
              "ticks": ""
             }
            },
            "type": "scattercarpet"
           }
          ],
          "scattergeo": [
           {
            "marker": {
             "colorbar": {
              "outlinewidth": 0,
              "ticks": ""
             }
            },
            "type": "scattergeo"
           }
          ],
          "scattergl": [
           {
            "marker": {
             "colorbar": {
              "outlinewidth": 0,
              "ticks": ""
             }
            },
            "type": "scattergl"
           }
          ],
          "scattermapbox": [
           {
            "marker": {
             "colorbar": {
              "outlinewidth": 0,
              "ticks": ""
             }
            },
            "type": "scattermapbox"
           }
          ],
          "scatterpolar": [
           {
            "marker": {
             "colorbar": {
              "outlinewidth": 0,
              "ticks": ""
             }
            },
            "type": "scatterpolar"
           }
          ],
          "scatterpolargl": [
           {
            "marker": {
             "colorbar": {
              "outlinewidth": 0,
              "ticks": ""
             }
            },
            "type": "scatterpolargl"
           }
          ],
          "scatterternary": [
           {
            "marker": {
             "colorbar": {
              "outlinewidth": 0,
              "ticks": ""
             }
            },
            "type": "scatterternary"
           }
          ],
          "surface": [
           {
            "colorbar": {
             "outlinewidth": 0,
             "ticks": ""
            },
            "colorscale": [
             [
              0,
              "#0d0887"
             ],
             [
              0.1111111111111111,
              "#46039f"
             ],
             [
              0.2222222222222222,
              "#7201a8"
             ],
             [
              0.3333333333333333,
              "#9c179e"
             ],
             [
              0.4444444444444444,
              "#bd3786"
             ],
             [
              0.5555555555555556,
              "#d8576b"
             ],
             [
              0.6666666666666666,
              "#ed7953"
             ],
             [
              0.7777777777777778,
              "#fb9f3a"
             ],
             [
              0.8888888888888888,
              "#fdca26"
             ],
             [
              1,
              "#f0f921"
             ]
            ],
            "type": "surface"
           }
          ],
          "table": [
           {
            "cells": {
             "fill": {
              "color": "#EBF0F8"
             },
             "line": {
              "color": "white"
             }
            },
            "header": {
             "fill": {
              "color": "#C8D4E3"
             },
             "line": {
              "color": "white"
             }
            },
            "type": "table"
           }
          ]
         },
         "layout": {
          "annotationdefaults": {
           "arrowcolor": "#2a3f5f",
           "arrowhead": 0,
           "arrowwidth": 1
          },
          "autotypenumbers": "strict",
          "coloraxis": {
           "colorbar": {
            "outlinewidth": 0,
            "ticks": ""
           }
          },
          "colorscale": {
           "diverging": [
            [
             0,
             "#8e0152"
            ],
            [
             0.1,
             "#c51b7d"
            ],
            [
             0.2,
             "#de77ae"
            ],
            [
             0.3,
             "#f1b6da"
            ],
            [
             0.4,
             "#fde0ef"
            ],
            [
             0.5,
             "#f7f7f7"
            ],
            [
             0.6,
             "#e6f5d0"
            ],
            [
             0.7,
             "#b8e186"
            ],
            [
             0.8,
             "#7fbc41"
            ],
            [
             0.9,
             "#4d9221"
            ],
            [
             1,
             "#276419"
            ]
           ],
           "sequential": [
            [
             0,
             "#0d0887"
            ],
            [
             0.1111111111111111,
             "#46039f"
            ],
            [
             0.2222222222222222,
             "#7201a8"
            ],
            [
             0.3333333333333333,
             "#9c179e"
            ],
            [
             0.4444444444444444,
             "#bd3786"
            ],
            [
             0.5555555555555556,
             "#d8576b"
            ],
            [
             0.6666666666666666,
             "#ed7953"
            ],
            [
             0.7777777777777778,
             "#fb9f3a"
            ],
            [
             0.8888888888888888,
             "#fdca26"
            ],
            [
             1,
             "#f0f921"
            ]
           ],
           "sequentialminus": [
            [
             0,
             "#0d0887"
            ],
            [
             0.1111111111111111,
             "#46039f"
            ],
            [
             0.2222222222222222,
             "#7201a8"
            ],
            [
             0.3333333333333333,
             "#9c179e"
            ],
            [
             0.4444444444444444,
             "#bd3786"
            ],
            [
             0.5555555555555556,
             "#d8576b"
            ],
            [
             0.6666666666666666,
             "#ed7953"
            ],
            [
             0.7777777777777778,
             "#fb9f3a"
            ],
            [
             0.8888888888888888,
             "#fdca26"
            ],
            [
             1,
             "#f0f921"
            ]
           ]
          },
          "colorway": [
           "#636efa",
           "#EF553B",
           "#00cc96",
           "#ab63fa",
           "#FFA15A",
           "#19d3f3",
           "#FF6692",
           "#B6E880",
           "#FF97FF",
           "#FECB52"
          ],
          "font": {
           "color": "#2a3f5f"
          },
          "geo": {
           "bgcolor": "white",
           "lakecolor": "white",
           "landcolor": "#E5ECF6",
           "showlakes": true,
           "showland": true,
           "subunitcolor": "white"
          },
          "hoverlabel": {
           "align": "left"
          },
          "hovermode": "closest",
          "mapbox": {
           "style": "light"
          },
          "paper_bgcolor": "white",
          "plot_bgcolor": "#E5ECF6",
          "polar": {
           "angularaxis": {
            "gridcolor": "white",
            "linecolor": "white",
            "ticks": ""
           },
           "bgcolor": "#E5ECF6",
           "radialaxis": {
            "gridcolor": "white",
            "linecolor": "white",
            "ticks": ""
           }
          },
          "scene": {
           "xaxis": {
            "backgroundcolor": "#E5ECF6",
            "gridcolor": "white",
            "gridwidth": 2,
            "linecolor": "white",
            "showbackground": true,
            "ticks": "",
            "zerolinecolor": "white"
           },
           "yaxis": {
            "backgroundcolor": "#E5ECF6",
            "gridcolor": "white",
            "gridwidth": 2,
            "linecolor": "white",
            "showbackground": true,
            "ticks": "",
            "zerolinecolor": "white"
           },
           "zaxis": {
            "backgroundcolor": "#E5ECF6",
            "gridcolor": "white",
            "gridwidth": 2,
            "linecolor": "white",
            "showbackground": true,
            "ticks": "",
            "zerolinecolor": "white"
           }
          },
          "shapedefaults": {
           "line": {
            "color": "#2a3f5f"
           }
          },
          "ternary": {
           "aaxis": {
            "gridcolor": "white",
            "linecolor": "white",
            "ticks": ""
           },
           "baxis": {
            "gridcolor": "white",
            "linecolor": "white",
            "ticks": ""
           },
           "bgcolor": "#E5ECF6",
           "caxis": {
            "gridcolor": "white",
            "linecolor": "white",
            "ticks": ""
           }
          },
          "title": {
           "x": 0.05
          },
          "xaxis": {
           "automargin": true,
           "gridcolor": "white",
           "linecolor": "white",
           "ticks": "",
           "title": {
            "standoff": 15
           },
           "zerolinecolor": "white",
           "zerolinewidth": 2
          },
          "yaxis": {
           "automargin": true,
           "gridcolor": "white",
           "linecolor": "white",
           "ticks": "",
           "title": {
            "standoff": 15
           },
           "zerolinecolor": "white",
           "zerolinewidth": 2
          }
         }
        },
        "title": {
         "text": "Droop values"
        },
        "xaxis": {
         "title": {
          "text": "Generator"
         }
        },
        "yaxis": {
         "title": {
          "text": "Droop [%]"
         }
        }
       }
      },
      "text/html": [
       "<div>                            <div id=\"4e5ee79e-48c9-438d-b645-07734694ec7a\" class=\"plotly-graph-div\" style=\"height:525px; width:100%;\"></div>            <script type=\"text/javascript\">                require([\"plotly\"], function(Plotly) {                    window.PLOTLYENV=window.PLOTLYENV || {};                                    if (document.getElementById(\"4e5ee79e-48c9-438d-b645-07734694ec7a\")) {                    Plotly.newPlot(                        \"4e5ee79e-48c9-438d-b645-07734694ec7a\",                        [{\"line\": {\"color\": \"black\", \"dash\": \"dash\", \"width\": 0.5}, \"mode\": \"lines\", \"showlegend\": false, \"type\": \"scatter\", \"x\": [\"Plant1_G1\", \"Plant1_G2\", \"Plant2_G1\", \"Plant2_G2\", \"Plant2_G3\", \"Plant2_G4\"], \"y\": [1, 1, 1, 1, 1, 1]}, {\"line\": {\"color\": \"black\", \"dash\": \"dash\", \"width\": 0.5}, \"mode\": \"lines\", \"showlegend\": false, \"type\": \"scatter\", \"x\": [\"Plant1_G1\", \"Plant1_G2\", \"Plant2_G1\", \"Plant2_G2\", \"Plant2_G3\", \"Plant2_G4\"], \"y\": [2, 2, 2, 2, 2, 2]}, {\"line\": {\"color\": \"black\", \"dash\": \"dash\", \"width\": 0.5}, \"mode\": \"lines\", \"showlegend\": false, \"type\": \"scatter\", \"x\": [\"Plant1_G1\", \"Plant1_G2\", \"Plant2_G1\", \"Plant2_G2\", \"Plant2_G3\", \"Plant2_G4\"], \"y\": [3, 3, 3, 3, 3, 3]}, {\"line\": {\"color\": \"black\", \"dash\": \"dash\", \"width\": 0.5}, \"mode\": \"lines\", \"showlegend\": false, \"type\": \"scatter\", \"x\": [\"Plant1_G1\", \"Plant1_G2\", \"Plant2_G1\", \"Plant2_G2\", \"Plant2_G3\", \"Plant2_G4\"], \"y\": [4, 4, 4, 4, 4, 4]}, {\"line\": {\"color\": \"black\", \"dash\": \"dash\", \"width\": 0.5}, \"mode\": \"lines\", \"showlegend\": false, \"type\": \"scatter\", \"x\": [\"Plant1_G1\", \"Plant1_G2\", \"Plant2_G1\", \"Plant2_G2\", \"Plant2_G3\", \"Plant2_G4\"], \"y\": [5, 5, 5, 5, 5, 5]}, {\"line\": {\"color\": \"black\", \"dash\": \"dash\", \"width\": 0.5}, \"mode\": \"lines\", \"showlegend\": false, \"type\": \"scatter\", \"x\": [\"Plant1_G1\", \"Plant1_G2\", \"Plant2_G1\", \"Plant2_G2\", \"Plant2_G3\", \"Plant2_G4\"], \"y\": [6, 6, 6, 6, 6, 6]}, {\"line\": {\"color\": \"black\", \"dash\": \"dash\", \"width\": 0.5}, \"mode\": \"lines\", \"showlegend\": false, \"type\": \"scatter\", \"x\": [\"Plant1_G1\", \"Plant1_G2\", \"Plant2_G1\", \"Plant2_G2\", \"Plant2_G3\", \"Plant2_G4\"], \"y\": [7, 7, 7, 7, 7, 7]}, {\"line\": {\"color\": \"black\", \"dash\": \"dash\", \"width\": 0.5}, \"mode\": \"lines\", \"showlegend\": false, \"type\": \"scatter\", \"x\": [\"Plant1_G1\", \"Plant1_G2\", \"Plant2_G1\", \"Plant2_G2\", \"Plant2_G3\", \"Plant2_G4\"], \"y\": [8, 8, 8, 8, 8, 8]}, {\"line\": {\"color\": \"black\", \"dash\": \"dash\", \"width\": 0.5}, \"mode\": \"lines\", \"showlegend\": false, \"type\": \"scatter\", \"x\": [\"Plant1_G1\", \"Plant1_G2\", \"Plant2_G1\", \"Plant2_G2\", \"Plant2_G3\", \"Plant2_G4\"], \"y\": [9, 9, 9, 9, 9, 9]}, {\"line\": {\"color\": \"black\", \"dash\": \"dash\", \"width\": 0.5}, \"mode\": \"lines\", \"showlegend\": false, \"type\": \"scatter\", \"x\": [\"Plant1_G1\", \"Plant1_G2\", \"Plant2_G1\", \"Plant2_G2\", \"Plant2_G3\", \"Plant2_G4\"], \"y\": [10, 10, 10, 10, 10, 10]}, {\"line\": {\"color\": \"black\", \"dash\": \"dash\", \"width\": 0.5}, \"mode\": \"lines\", \"showlegend\": false, \"type\": \"scatter\", \"x\": [\"Plant1_G1\", \"Plant1_G2\", \"Plant2_G1\", \"Plant2_G2\", \"Plant2_G3\", \"Plant2_G4\"], \"y\": [11, 11, 11, 11, 11, 11]}, {\"line\": {\"color\": \"black\", \"dash\": \"dash\", \"width\": 0.5}, \"mode\": \"lines\", \"showlegend\": false, \"type\": \"scatter\", \"x\": [\"Plant1_G1\", \"Plant1_G2\", \"Plant2_G1\", \"Plant2_G2\", \"Plant2_G3\", \"Plant2_G4\"], \"y\": [12, 12, 12, 12, 12, 12]}, {\"mode\": \"markers\", \"showlegend\": false, \"type\": \"scatter\", \"x\": [\"Plant1_G1\", \"Plant1_G1\", \"Plant1_G1\", \"Plant1_G1\", \"Plant1_G1\", \"Plant1_G1\", \"Plant1_G1\", \"Plant1_G1\", \"Plant1_G1\", \"Plant1_G1\", \"Plant1_G1\", \"Plant1_G1\", \"Plant1_G1\", \"Plant1_G1\", \"Plant1_G1\", \"Plant1_G1\", \"Plant1_G1\", \"Plant1_G1\", \"Plant1_G1\", \"Plant1_G1\", \"Plant1_G1\", \"Plant1_G1\", \"Plant1_G1\", \"Plant1_G1\", \"Plant1_G1\", \"Plant1_G1\", \"Plant1_G1\", \"Plant1_G1\", \"Plant1_G1\", \"Plant1_G1\", \"Plant1_G1\", \"Plant1_G1\", \"Plant1_G1\", \"Plant1_G1\", \"Plant1_G1\", \"Plant1_G1\", \"Plant1_G1\", \"Plant1_G1\", \"Plant1_G1\", \"Plant1_G1\", \"Plant1_G1\", \"Plant1_G1\", \"Plant1_G1\", \"Plant1_G1\", \"Plant1_G1\", \"Plant1_G1\", \"Plant1_G1\", \"Plant1_G1\", \"Plant1_G1\", \"Plant1_G1\", \"Plant1_G1\", \"Plant1_G1\", \"Plant1_G1\", \"Plant1_G1\", \"Plant1_G1\", \"Plant1_G1\", \"Plant1_G1\", \"Plant1_G1\", \"Plant1_G1\", \"Plant1_G1\", \"Plant1_G1\", \"Plant1_G1\", \"Plant1_G1\", \"Plant1_G1\", \"Plant1_G1\", \"Plant1_G1\", \"Plant1_G1\", \"Plant1_G1\", \"Plant1_G1\", \"Plant1_G1\", \"Plant1_G1\", \"Plant1_G1\"], \"y\": [12.0, 12.0, 12.0, 12.0, 12.0, 12.0, 11.999995515294799, 7.4365801258599005, 7.420612373792367, 7.552535531401446, 6.649599476627443, 6.80889857330797, 6.687025211253145, 6.705827994213402, 3.445839950872741, 3.4357800517449215, 6.057470909901852, 5.909996779152984, 3.335965392571947, 12.0, 12.0, 12.0, 12.0, 12.0, 12.0, 12.0, 12.0, 12.0, 12.0, 12.0, 12.0, 2.6190723743685247, 2.609365860602761, 2.5997310275781196, 11.316925534789263, 6.193219795578942, 6.071950939190743, 5.955339985077852, 5.843123626948183, 5.735058037371691, 5.630917099230532, 5.530490826420224, 5.433583950587479, 11.104133301186716, 12.0, 12.0, 12.0, 12.0, 12.0, 12.0, 12.0, 12.0, 12.0, 12.0, 10.87682581293011, 2.0002780112359217, 1.9934538221411715, 1.9866760378152355, 1.9799441865304737, 1.9732578029314454, 1.9666164279276792, 1.960019608588598, 1.9534668980405483, 1.9469578553658982, 1.8227846956025715, 2.5515300360225064, 2.543854665145973, 1.810529219985171, 1.9174833773201239, 1.9111599359768592, 1.9048769169230018, 12.0]}, {\"mode\": \"markers\", \"showlegend\": false, \"type\": \"scatter\", \"x\": [\"Plant1_G2\", \"Plant1_G2\", \"Plant1_G2\", \"Plant1_G2\", \"Plant1_G2\", \"Plant1_G2\", \"Plant1_G2\", \"Plant1_G2\", \"Plant1_G2\", \"Plant1_G2\", \"Plant1_G2\", \"Plant1_G2\", \"Plant1_G2\", \"Plant1_G2\", \"Plant1_G2\", \"Plant1_G2\", \"Plant1_G2\", \"Plant1_G2\", \"Plant1_G2\", \"Plant1_G2\", \"Plant1_G2\", \"Plant1_G2\", \"Plant1_G2\", \"Plant1_G2\", \"Plant1_G2\", \"Plant1_G2\", \"Plant1_G2\", \"Plant1_G2\", \"Plant1_G2\", \"Plant1_G2\", \"Plant1_G2\", \"Plant1_G2\", \"Plant1_G2\", \"Plant1_G2\", \"Plant1_G2\", \"Plant1_G2\", \"Plant1_G2\", \"Plant1_G2\", \"Plant1_G2\", \"Plant1_G2\", \"Plant1_G2\", \"Plant1_G2\", \"Plant1_G2\", \"Plant1_G2\", \"Plant1_G2\", \"Plant1_G2\", \"Plant1_G2\", \"Plant1_G2\", \"Plant1_G2\", \"Plant1_G2\", \"Plant1_G2\", \"Plant1_G2\", \"Plant1_G2\", \"Plant1_G2\", \"Plant1_G2\", \"Plant1_G2\", \"Plant1_G2\", \"Plant1_G2\", \"Plant1_G2\", \"Plant1_G2\", \"Plant1_G2\", \"Plant1_G2\", \"Plant1_G2\", \"Plant1_G2\", \"Plant1_G2\", \"Plant1_G2\", \"Plant1_G2\", \"Plant1_G2\", \"Plant1_G2\", \"Plant1_G2\", \"Plant1_G2\", \"Plant1_G2\"], \"y\": [12.0, 12.0, 12.0, 12.0, 12.0, 12.0, 12.0, 7.503163995045646, 7.505674277623949, 7.293958884843242, 7.002595419246688, 6.668205911321983, 6.687025427815868, 6.7058285001367395, 3.2944041434560964, 3.3032397612714717, 6.6594450470769395, 6.677192101649545, 3.330743762671211, 3.0418998565582345, 12.0, 12.0, 12.0, 12.0, 12.0, 12.0, 12.0, 12.0, 12.0, 12.0, 12.0, 12.0, 12.0, 12.0, 12.0, 12.0, 12.0, 12.0, 12.0, 12.0, 12.0, 12.0, 12.0, 12.0, 12.0, 12.0, 12.0, 12.0, 12.0, 12.0, 12.0, 12.0, 12.0, 12.0, 12.0, 12.0, 12.0, 12.0, 12.0, 12.0, 12.0, 12.0, 12.0, 12.0, 12.0, 2.2654591179030374, 2.271544444014401, 12.0, 12.0, 12.0, 12.0, 12.0]}, {\"mode\": \"markers\", \"showlegend\": false, \"type\": \"scatter\", \"x\": [\"Plant2_G1\", \"Plant2_G1\", \"Plant2_G1\", \"Plant2_G1\", \"Plant2_G1\", \"Plant2_G1\", \"Plant2_G1\", \"Plant2_G1\", \"Plant2_G1\", \"Plant2_G1\", \"Plant2_G1\", \"Plant2_G1\", \"Plant2_G1\", \"Plant2_G1\", \"Plant2_G1\", \"Plant2_G1\", \"Plant2_G1\", \"Plant2_G1\", \"Plant2_G1\", \"Plant2_G1\", \"Plant2_G1\", \"Plant2_G1\", \"Plant2_G1\", \"Plant2_G1\", \"Plant2_G1\", \"Plant2_G1\", \"Plant2_G1\", \"Plant2_G1\", \"Plant2_G1\", \"Plant2_G1\", \"Plant2_G1\", \"Plant2_G1\", \"Plant2_G1\", \"Plant2_G1\", \"Plant2_G1\", \"Plant2_G1\", \"Plant2_G1\", \"Plant2_G1\", \"Plant2_G1\", \"Plant2_G1\", \"Plant2_G1\", \"Plant2_G1\", \"Plant2_G1\", \"Plant2_G1\", \"Plant2_G1\", \"Plant2_G1\", \"Plant2_G1\", \"Plant2_G1\", \"Plant2_G1\", \"Plant2_G1\", \"Plant2_G1\", \"Plant2_G1\", \"Plant2_G1\", \"Plant2_G1\", \"Plant2_G1\", \"Plant2_G1\", \"Plant2_G1\", \"Plant2_G1\", \"Plant2_G1\", \"Plant2_G1\", \"Plant2_G1\", \"Plant2_G1\", \"Plant2_G1\", \"Plant2_G1\", \"Plant2_G1\", \"Plant2_G1\", \"Plant2_G1\", \"Plant2_G1\", \"Plant2_G1\", \"Plant2_G1\", \"Plant2_G1\", \"Plant2_G1\"], \"y\": [2.541176470588236, 2.25, 2.3867403314917133, 2.3867403314917133, 2.2628756206135057, 2.541176470588236, 12.0, 12.0, 12.0, 12.0, 12.0, 12.0, 12.0, 12.0, 12.0, 12.0, 12.0, 12.0, 12.0, 4.891175479693863, 2.541176470588236, 2.541176470588236, 2.2268041237113407, 2.107317073170732, 2.107317073170732, 1.88646288209607, 1.88646288209607, 1.88646288209607, 1.88646288209607, 2.107317073170732, 2.2268041237113407, 5.140568182093599, 5.165711978508671, 5.191102953046439, 2.563016504870993, 2.5189866745111815, 2.5327025436359087, 2.546568596178287, 2.5605873123919967, 2.574761227447656, 2.589092932961241, 2.6035850785737678, 2.6182403735844404, 2.2492536234217106, 2.2268041237113407, 2.2268041237113407, 1.88646288209607, 1.88646288209607, 1.88646288209607, 1.88646288209607, 1.88646288209607, 1.88646288209607, 1.88646288209607, 1.88646288209607, 2.255619230986296, 5.836259364161478, 5.87538252941008, 5.915033756103724, 5.955223808077956, 5.995963743711749, 6.037264926071797, 6.079139033478987, 6.121598070517682, 6.164654379509576, 12.000003309002754, 12.0, 12.0, 12.0, 6.371387203628825, 6.418430357186458, 6.466182177918885, 2.0858457299260054]}, {\"mode\": \"markers\", \"showlegend\": false, \"type\": \"scatter\", \"x\": [\"Plant2_G2\", \"Plant2_G2\", \"Plant2_G2\", \"Plant2_G2\", \"Plant2_G2\", \"Plant2_G2\", \"Plant2_G2\", \"Plant2_G2\", \"Plant2_G2\", \"Plant2_G2\", \"Plant2_G2\", \"Plant2_G2\", \"Plant2_G2\", \"Plant2_G2\", \"Plant2_G2\", \"Plant2_G2\", \"Plant2_G2\", \"Plant2_G2\", \"Plant2_G2\", \"Plant2_G2\", \"Plant2_G2\", \"Plant2_G2\", \"Plant2_G2\", \"Plant2_G2\", \"Plant2_G2\", \"Plant2_G2\", \"Plant2_G2\", \"Plant2_G2\", \"Plant2_G2\", \"Plant2_G2\", \"Plant2_G2\", \"Plant2_G2\", \"Plant2_G2\", \"Plant2_G2\", \"Plant2_G2\", \"Plant2_G2\", \"Plant2_G2\", \"Plant2_G2\", \"Plant2_G2\", \"Plant2_G2\", \"Plant2_G2\", \"Plant2_G2\", \"Plant2_G2\", \"Plant2_G2\", \"Plant2_G2\", \"Plant2_G2\", \"Plant2_G2\", \"Plant2_G2\", \"Plant2_G2\", \"Plant2_G2\", \"Plant2_G2\", \"Plant2_G2\", \"Plant2_G2\", \"Plant2_G2\", \"Plant2_G2\", \"Plant2_G2\", \"Plant2_G2\", \"Plant2_G2\", \"Plant2_G2\", \"Plant2_G2\", \"Plant2_G2\", \"Plant2_G2\", \"Plant2_G2\", \"Plant2_G2\", \"Plant2_G2\", \"Plant2_G2\", \"Plant2_G2\", \"Plant2_G2\", \"Plant2_G2\", \"Plant2_G2\", \"Plant2_G2\", \"Plant2_G2\"], \"y\": [12.0, 12.0, 12.0, 12.0, 12.0, 12.0, 2.5099903758557156, 2.5004801355156316, 2.5120857056589267, 2.528702941943377, 2.5456106975489936, 2.5628945829969765, 2.580497216046366, 2.59842379847293, 12.0, 12.0, 2.653994027598427, 2.6731894665686036, 12.0, 12.0, 12.0, 12.0, 12.0, 12.0, 12.0, 12.0, 12.0, 12.0, 12.0, 12.0, 12.0, 12.0, 12.0, 12.0, 12.0, 12.0, 12.0, 12.0, 12.0, 12.0, 12.0, 12.0, 12.0, 12.0, 12.0, 12.0, 12.0, 12.0, 12.0, 12.0, 12.0, 12.0, 12.0, 12.0, 12.0, 12.0, 12.0, 12.0, 12.0, 12.0, 12.0, 12.0, 12.0, 12.0, 12.0, 12.0, 12.0, 12.0, 12.0, 12.0, 12.0, 8.026797874738012]}, {\"mode\": \"markers\", \"showlegend\": false, \"type\": \"scatter\", \"x\": [\"Plant2_G3\", \"Plant2_G3\", \"Plant2_G3\", \"Plant2_G3\", \"Plant2_G3\", \"Plant2_G3\", \"Plant2_G3\", \"Plant2_G3\", \"Plant2_G3\", \"Plant2_G3\", \"Plant2_G3\", \"Plant2_G3\", \"Plant2_G3\", \"Plant2_G3\", \"Plant2_G3\", \"Plant2_G3\", \"Plant2_G3\", \"Plant2_G3\", \"Plant2_G3\", \"Plant2_G3\", \"Plant2_G3\", \"Plant2_G3\", \"Plant2_G3\", \"Plant2_G3\", \"Plant2_G3\", \"Plant2_G3\", \"Plant2_G3\", \"Plant2_G3\", \"Plant2_G3\", \"Plant2_G3\", \"Plant2_G3\", \"Plant2_G3\", \"Plant2_G3\", \"Plant2_G3\", \"Plant2_G3\", \"Plant2_G3\", \"Plant2_G3\", \"Plant2_G3\", \"Plant2_G3\", \"Plant2_G3\", \"Plant2_G3\", \"Plant2_G3\", \"Plant2_G3\", \"Plant2_G3\", \"Plant2_G3\", \"Plant2_G3\", \"Plant2_G3\", \"Plant2_G3\", \"Plant2_G3\", \"Plant2_G3\", \"Plant2_G3\", \"Plant2_G3\", \"Plant2_G3\", \"Plant2_G3\", \"Plant2_G3\", \"Plant2_G3\", \"Plant2_G3\", \"Plant2_G3\", \"Plant2_G3\", \"Plant2_G3\", \"Plant2_G3\", \"Plant2_G3\", \"Plant2_G3\", \"Plant2_G3\", \"Plant2_G3\", \"Plant2_G3\", \"Plant2_G3\", \"Plant2_G3\", \"Plant2_G3\", \"Plant2_G3\", \"Plant2_G3\", \"Plant2_G3\"], \"y\": [12.0, 12.0, 12.0, 12.0, 12.0, 12.0, 2.509983822605226, 2.5004735133858107, 2.5120924207830093, 2.528710075285762, 2.545625910647592, 2.562911091968283, 2.5805149073750964, 2.598442338975799, 12.0, 12.0, 2.654015426716186, 2.6732119881833474, 12.0, 12.0, 12.0, 12.0, 12.0, 12.0, 12.0, 12.0, 12.0, 12.0, 12.0, 12.0, 12.0, 12.0, 12.0, 12.0, 12.0, 12.0, 12.0, 12.0, 12.0, 12.0, 12.0, 12.0, 12.0, 12.0, 12.0, 12.0, 12.0, 12.0, 12.0, 12.0, 12.0, 12.0, 12.0, 12.0, 12.0, 12.0, 12.0, 12.0, 12.0, 12.0, 12.0, 12.0, 12.0, 12.0, 12.0, 12.0, 12.0, 12.0, 12.0, 12.0, 12.0, 8.02682869873577]}, {\"mode\": \"markers\", \"showlegend\": false, \"type\": \"scatter\", \"x\": [\"Plant2_G4\", \"Plant2_G4\", \"Plant2_G4\", \"Plant2_G4\", \"Plant2_G4\", \"Plant2_G4\", \"Plant2_G4\", \"Plant2_G4\", \"Plant2_G4\", \"Plant2_G4\", \"Plant2_G4\", \"Plant2_G4\", \"Plant2_G4\", \"Plant2_G4\", \"Plant2_G4\", \"Plant2_G4\", \"Plant2_G4\", \"Plant2_G4\", \"Plant2_G4\", \"Plant2_G4\", \"Plant2_G4\", \"Plant2_G4\", \"Plant2_G4\", \"Plant2_G4\", \"Plant2_G4\", \"Plant2_G4\", \"Plant2_G4\", \"Plant2_G4\", \"Plant2_G4\", \"Plant2_G4\", \"Plant2_G4\", \"Plant2_G4\", \"Plant2_G4\", \"Plant2_G4\", \"Plant2_G4\", \"Plant2_G4\", \"Plant2_G4\", \"Plant2_G4\", \"Plant2_G4\", \"Plant2_G4\", \"Plant2_G4\", \"Plant2_G4\", \"Plant2_G4\", \"Plant2_G4\", \"Plant2_G4\", \"Plant2_G4\", \"Plant2_G4\", \"Plant2_G4\", \"Plant2_G4\", \"Plant2_G4\", \"Plant2_G4\", \"Plant2_G4\", \"Plant2_G4\", \"Plant2_G4\", \"Plant2_G4\", \"Plant2_G4\", \"Plant2_G4\", \"Plant2_G4\", \"Plant2_G4\", \"Plant2_G4\", \"Plant2_G4\", \"Plant2_G4\", \"Plant2_G4\", \"Plant2_G4\", \"Plant2_G4\", \"Plant2_G4\", \"Plant2_G4\", \"Plant2_G4\", \"Plant2_G4\", \"Plant2_G4\", \"Plant2_G4\", \"Plant2_G4\"], \"y\": [12.0, 12.0, 12.0, 12.0, 12.0, 12.0, 2.510031532088786, 2.5004665996362014, 2.5120873758487354, 2.5287052842055977, 2.5456137906251577, 2.5628985206265007, 2.5805018665383272, 2.974952613080396, 12.0, 12.0, 2.654000320343464, 2.673196266838829, 12.0, 12.0, 12.0, 12.0, 12.0, 12.0, 12.0, 12.0, 12.0, 12.0, 12.0, 12.0, 12.0, 12.0, 12.0, 12.0, 12.0, 12.0, 12.0, 12.0, 12.0, 12.0, 12.0, 12.0, 12.0, 12.0, 12.0, 12.0, 12.0, 12.0, 12.0, 12.0, 12.0, 12.0, 12.0, 12.0, 12.0, 12.0, 12.0, 12.0, 12.0, 12.0, 12.0, 12.0, 12.0, 12.0, 12.0, 12.0, 12.0, 12.0, 12.0, 12.0, 12.0, 12.0]}],                        {\"template\": {\"data\": {\"bar\": [{\"error_x\": {\"color\": \"#2a3f5f\"}, \"error_y\": {\"color\": \"#2a3f5f\"}, \"marker\": {\"line\": {\"color\": \"#E5ECF6\", \"width\": 0.5}}, \"type\": \"bar\"}], \"barpolar\": [{\"marker\": {\"line\": {\"color\": \"#E5ECF6\", \"width\": 0.5}}, \"type\": \"barpolar\"}], \"carpet\": [{\"aaxis\": {\"endlinecolor\": \"#2a3f5f\", \"gridcolor\": \"white\", \"linecolor\": \"white\", \"minorgridcolor\": \"white\", \"startlinecolor\": \"#2a3f5f\"}, \"baxis\": {\"endlinecolor\": \"#2a3f5f\", \"gridcolor\": \"white\", \"linecolor\": \"white\", \"minorgridcolor\": \"white\", \"startlinecolor\": \"#2a3f5f\"}, \"type\": \"carpet\"}], \"choropleth\": [{\"colorbar\": {\"outlinewidth\": 0, \"ticks\": \"\"}, \"type\": \"choropleth\"}], \"contour\": [{\"colorbar\": {\"outlinewidth\": 0, \"ticks\": \"\"}, \"colorscale\": [[0.0, \"#0d0887\"], [0.1111111111111111, \"#46039f\"], [0.2222222222222222, \"#7201a8\"], [0.3333333333333333, \"#9c179e\"], [0.4444444444444444, \"#bd3786\"], [0.5555555555555556, \"#d8576b\"], [0.6666666666666666, \"#ed7953\"], [0.7777777777777778, \"#fb9f3a\"], [0.8888888888888888, \"#fdca26\"], [1.0, \"#f0f921\"]], \"type\": \"contour\"}], \"contourcarpet\": [{\"colorbar\": {\"outlinewidth\": 0, \"ticks\": \"\"}, \"type\": \"contourcarpet\"}], \"heatmap\": [{\"colorbar\": {\"outlinewidth\": 0, \"ticks\": \"\"}, \"colorscale\": [[0.0, \"#0d0887\"], [0.1111111111111111, \"#46039f\"], [0.2222222222222222, \"#7201a8\"], [0.3333333333333333, \"#9c179e\"], [0.4444444444444444, \"#bd3786\"], [0.5555555555555556, \"#d8576b\"], [0.6666666666666666, \"#ed7953\"], [0.7777777777777778, \"#fb9f3a\"], [0.8888888888888888, \"#fdca26\"], [1.0, \"#f0f921\"]], \"type\": \"heatmap\"}], \"heatmapgl\": [{\"colorbar\": {\"outlinewidth\": 0, \"ticks\": \"\"}, \"colorscale\": [[0.0, \"#0d0887\"], [0.1111111111111111, \"#46039f\"], [0.2222222222222222, \"#7201a8\"], [0.3333333333333333, \"#9c179e\"], [0.4444444444444444, \"#bd3786\"], [0.5555555555555556, \"#d8576b\"], [0.6666666666666666, \"#ed7953\"], [0.7777777777777778, \"#fb9f3a\"], [0.8888888888888888, \"#fdca26\"], [1.0, \"#f0f921\"]], \"type\": \"heatmapgl\"}], \"histogram\": [{\"marker\": {\"colorbar\": {\"outlinewidth\": 0, \"ticks\": \"\"}}, \"type\": \"histogram\"}], \"histogram2d\": [{\"colorbar\": {\"outlinewidth\": 0, \"ticks\": \"\"}, \"colorscale\": [[0.0, \"#0d0887\"], [0.1111111111111111, \"#46039f\"], [0.2222222222222222, \"#7201a8\"], [0.3333333333333333, \"#9c179e\"], [0.4444444444444444, \"#bd3786\"], [0.5555555555555556, \"#d8576b\"], [0.6666666666666666, \"#ed7953\"], [0.7777777777777778, \"#fb9f3a\"], [0.8888888888888888, \"#fdca26\"], [1.0, \"#f0f921\"]], \"type\": \"histogram2d\"}], \"histogram2dcontour\": [{\"colorbar\": {\"outlinewidth\": 0, \"ticks\": \"\"}, \"colorscale\": [[0.0, \"#0d0887\"], [0.1111111111111111, \"#46039f\"], [0.2222222222222222, \"#7201a8\"], [0.3333333333333333, \"#9c179e\"], [0.4444444444444444, \"#bd3786\"], [0.5555555555555556, \"#d8576b\"], [0.6666666666666666, \"#ed7953\"], [0.7777777777777778, \"#fb9f3a\"], [0.8888888888888888, \"#fdca26\"], [1.0, \"#f0f921\"]], \"type\": \"histogram2dcontour\"}], \"mesh3d\": [{\"colorbar\": {\"outlinewidth\": 0, \"ticks\": \"\"}, \"type\": \"mesh3d\"}], \"parcoords\": [{\"line\": {\"colorbar\": {\"outlinewidth\": 0, \"ticks\": \"\"}}, \"type\": \"parcoords\"}], \"pie\": [{\"automargin\": true, \"type\": \"pie\"}], \"scatter\": [{\"marker\": {\"colorbar\": {\"outlinewidth\": 0, \"ticks\": \"\"}}, \"type\": \"scatter\"}], \"scatter3d\": [{\"line\": {\"colorbar\": {\"outlinewidth\": 0, \"ticks\": \"\"}}, \"marker\": {\"colorbar\": {\"outlinewidth\": 0, \"ticks\": \"\"}}, \"type\": \"scatter3d\"}], \"scattercarpet\": [{\"marker\": {\"colorbar\": {\"outlinewidth\": 0, \"ticks\": \"\"}}, \"type\": \"scattercarpet\"}], \"scattergeo\": [{\"marker\": {\"colorbar\": {\"outlinewidth\": 0, \"ticks\": \"\"}}, \"type\": \"scattergeo\"}], \"scattergl\": [{\"marker\": {\"colorbar\": {\"outlinewidth\": 0, \"ticks\": \"\"}}, \"type\": \"scattergl\"}], \"scattermapbox\": [{\"marker\": {\"colorbar\": {\"outlinewidth\": 0, \"ticks\": \"\"}}, \"type\": \"scattermapbox\"}], \"scatterpolar\": [{\"marker\": {\"colorbar\": {\"outlinewidth\": 0, \"ticks\": \"\"}}, \"type\": \"scatterpolar\"}], \"scatterpolargl\": [{\"marker\": {\"colorbar\": {\"outlinewidth\": 0, \"ticks\": \"\"}}, \"type\": \"scatterpolargl\"}], \"scatterternary\": [{\"marker\": {\"colorbar\": {\"outlinewidth\": 0, \"ticks\": \"\"}}, \"type\": \"scatterternary\"}], \"surface\": [{\"colorbar\": {\"outlinewidth\": 0, \"ticks\": \"\"}, \"colorscale\": [[0.0, \"#0d0887\"], [0.1111111111111111, \"#46039f\"], [0.2222222222222222, \"#7201a8\"], [0.3333333333333333, \"#9c179e\"], [0.4444444444444444, \"#bd3786\"], [0.5555555555555556, \"#d8576b\"], [0.6666666666666666, \"#ed7953\"], [0.7777777777777778, \"#fb9f3a\"], [0.8888888888888888, \"#fdca26\"], [1.0, \"#f0f921\"]], \"type\": \"surface\"}], \"table\": [{\"cells\": {\"fill\": {\"color\": \"#EBF0F8\"}, \"line\": {\"color\": \"white\"}}, \"header\": {\"fill\": {\"color\": \"#C8D4E3\"}, \"line\": {\"color\": \"white\"}}, \"type\": \"table\"}]}, \"layout\": {\"annotationdefaults\": {\"arrowcolor\": \"#2a3f5f\", \"arrowhead\": 0, \"arrowwidth\": 1}, \"autotypenumbers\": \"strict\", \"coloraxis\": {\"colorbar\": {\"outlinewidth\": 0, \"ticks\": \"\"}}, \"colorscale\": {\"diverging\": [[0, \"#8e0152\"], [0.1, \"#c51b7d\"], [0.2, \"#de77ae\"], [0.3, \"#f1b6da\"], [0.4, \"#fde0ef\"], [0.5, \"#f7f7f7\"], [0.6, \"#e6f5d0\"], [0.7, \"#b8e186\"], [0.8, \"#7fbc41\"], [0.9, \"#4d9221\"], [1, \"#276419\"]], \"sequential\": [[0.0, \"#0d0887\"], [0.1111111111111111, \"#46039f\"], [0.2222222222222222, \"#7201a8\"], [0.3333333333333333, \"#9c179e\"], [0.4444444444444444, \"#bd3786\"], [0.5555555555555556, \"#d8576b\"], [0.6666666666666666, \"#ed7953\"], [0.7777777777777778, \"#fb9f3a\"], [0.8888888888888888, \"#fdca26\"], [1.0, \"#f0f921\"]], \"sequentialminus\": [[0.0, \"#0d0887\"], [0.1111111111111111, \"#46039f\"], [0.2222222222222222, \"#7201a8\"], [0.3333333333333333, \"#9c179e\"], [0.4444444444444444, \"#bd3786\"], [0.5555555555555556, \"#d8576b\"], [0.6666666666666666, \"#ed7953\"], [0.7777777777777778, \"#fb9f3a\"], [0.8888888888888888, \"#fdca26\"], [1.0, \"#f0f921\"]]}, \"colorway\": [\"#636efa\", \"#EF553B\", \"#00cc96\", \"#ab63fa\", \"#FFA15A\", \"#19d3f3\", \"#FF6692\", \"#B6E880\", \"#FF97FF\", \"#FECB52\"], \"font\": {\"color\": \"#2a3f5f\"}, \"geo\": {\"bgcolor\": \"white\", \"lakecolor\": \"white\", \"landcolor\": \"#E5ECF6\", \"showlakes\": true, \"showland\": true, \"subunitcolor\": \"white\"}, \"hoverlabel\": {\"align\": \"left\"}, \"hovermode\": \"closest\", \"mapbox\": {\"style\": \"light\"}, \"paper_bgcolor\": \"white\", \"plot_bgcolor\": \"#E5ECF6\", \"polar\": {\"angularaxis\": {\"gridcolor\": \"white\", \"linecolor\": \"white\", \"ticks\": \"\"}, \"bgcolor\": \"#E5ECF6\", \"radialaxis\": {\"gridcolor\": \"white\", \"linecolor\": \"white\", \"ticks\": \"\"}}, \"scene\": {\"xaxis\": {\"backgroundcolor\": \"#E5ECF6\", \"gridcolor\": \"white\", \"gridwidth\": 2, \"linecolor\": \"white\", \"showbackground\": true, \"ticks\": \"\", \"zerolinecolor\": \"white\"}, \"yaxis\": {\"backgroundcolor\": \"#E5ECF6\", \"gridcolor\": \"white\", \"gridwidth\": 2, \"linecolor\": \"white\", \"showbackground\": true, \"ticks\": \"\", \"zerolinecolor\": \"white\"}, \"zaxis\": {\"backgroundcolor\": \"#E5ECF6\", \"gridcolor\": \"white\", \"gridwidth\": 2, \"linecolor\": \"white\", \"showbackground\": true, \"ticks\": \"\", \"zerolinecolor\": \"white\"}}, \"shapedefaults\": {\"line\": {\"color\": \"#2a3f5f\"}}, \"ternary\": {\"aaxis\": {\"gridcolor\": \"white\", \"linecolor\": \"white\", \"ticks\": \"\"}, \"baxis\": {\"gridcolor\": \"white\", \"linecolor\": \"white\", \"ticks\": \"\"}, \"bgcolor\": \"#E5ECF6\", \"caxis\": {\"gridcolor\": \"white\", \"linecolor\": \"white\", \"ticks\": \"\"}}, \"title\": {\"x\": 0.05}, \"xaxis\": {\"automargin\": true, \"gridcolor\": \"white\", \"linecolor\": \"white\", \"ticks\": \"\", \"title\": {\"standoff\": 15}, \"zerolinecolor\": \"white\", \"zerolinewidth\": 2}, \"yaxis\": {\"automargin\": true, \"gridcolor\": \"white\", \"linecolor\": \"white\", \"ticks\": \"\", \"title\": {\"standoff\": 15}, \"zerolinecolor\": \"white\", \"zerolinewidth\": 2}}}, \"title\": {\"text\": \"Droop values\"}, \"xaxis\": {\"title\": {\"text\": \"Generator\"}}, \"yaxis\": {\"title\": {\"text\": \"Droop [%]\"}}},                        {\"responsive\": true}                    ).then(function(){\n",
       "                            \n",
       "var gd = document.getElementById('4e5ee79e-48c9-438d-b645-07734694ec7a');\n",
       "var x = new MutationObserver(function (mutations, observer) {{\n",
       "        var display = window.getComputedStyle(gd).display;\n",
       "        if (!display || display === 'none') {{\n",
       "            console.log([gd, 'removed!']);\n",
       "            Plotly.purge(gd);\n",
       "            observer.disconnect();\n",
       "        }}\n",
       "}});\n",
       "\n",
       "// Listen for the removal of the full notebook cells\n",
       "var notebookContainer = gd.closest('#notebook-container');\n",
       "if (notebookContainer) {{\n",
       "    x.observe(notebookContainer, {childList: true});\n",
       "}}\n",
       "\n",
       "// Listen for the clearing of the current output cell\n",
       "var outputEl = gd.closest('.output');\n",
       "if (outputEl) {{\n",
       "    x.observe(outputEl, {childList: true});\n",
       "}}\n",
       "\n",
       "                        })                };                });            </script>        </div>"
      ]
     },
     "metadata": {}
    }
   ],
   "metadata": {}
  },
  {
   "cell_type": "markdown",
   "source": [
    "The optimized droop values shown above are not necessarily legal or practical to implement in the real world. It is possible to round down and fix the droop values to the closest legal discrete value in SHOP. Each unit can have its own list of legal droop values specified by the double_array attribute **discrete_droop_values**. If no list is defined, the integers are assumed to be the legal values for the unit. The command `set droop_discretization_limit <value>`, or the equivalent double attribute **droop_discretization_limit** on the global_setting object, is used to tell SHOP to round *down* all droop values *below* the specified limit to their closest legal value, and fix the droop varaible to this value in the next iteration. Since the values are always rounded down, the generators are forced to deliver more (or equal) frequency response compared to the optimal solution. This can lead to a more costly solution, but will not cause infeasibility issues. If a unit has no legal discrete values below the given droop_discretization_limit, the droop will not be fixed. The droop variables will also never be fixed to a value outside its upper and lower bounds. These bounds have default values of 1 and 12, respectively, and can be changed by specifying the **droop_min** and **droop_max** TXY unit attributes. If the rounded droop value is outside the defined limits, it is fixed to the boundary instead.\n",
    "\n",
    "Now we create an identical SHOP model but add specified legal discrete droop values for the generators in Plant2. By gradually increasing the droop_discretization_limit between the incremental iterations, the droop values are iteratively fixed to legal values."
   ],
   "metadata": {}
  },
  {
   "cell_type": "code",
   "execution_count": 4,
   "source": [
    "#Create a standard ShopSession\r\n",
    "shop=ShopSession()\r\n",
    "#Build a simple model with two reservoirs, two plants, and 6 generators.\r\n",
    "build_model(shop)\r\n",
    "\r\n",
    "#Add FCR_N obligation in both directions where all generators can participate\r\n",
    "fcr_group = shop.model.reserve_group.add_object(\"fcr_group\")\r\n",
    "fcr_group.fcr_n_up_obligation.set(20)\r\n",
    "fcr_group.fcr_n_down_obligation.set(20)    \r\n",
    "\r\n",
    "for gen in shop.model.generator:\r\n",
    "    fcr_group.connect_to(gen) \r\n",
    "\r\n",
    "#Set specific legal discrete droop values for generators in Plant2 (1,1.5,2,2.5,...,12)\r\n",
    "plant2 = shop.model.plant.Plant2\r\n",
    "for gen in plant2.generators:\r\n",
    "    gen.discrete_droop_values.set([1+0.5*i for i in range(23)])\r\n",
    "    \r\n",
    "#Run the full iterations and the first incremental iteration without any fixing and discretization\r\n",
    "shop.start_sim([], ['3'])\r\n",
    "shop.set_code(['incremental'], [])\r\n",
    "shop.start_sim([], ['1'])\r\n",
    "\r\n",
    "#Save the droop results before any fixing and discretization\r\n",
    "gen_droop = get_gen_droop(shop)\r\n",
    "droop_results = [gen_droop]\r\n",
    "\r\n",
    "#Gradually fix droop values for each following iteration\r\n",
    "for d in [3,6,9,12]:\r\n",
    "    shop.set_droop_discretization_limit([],[d])\r\n",
    "    shop.start_sim([], ['1'])\r\n",
    "    \r\n",
    "    #Save the droop results for each generator after each iteration\r\n",
    "    gen_droop = get_gen_droop(shop)        \r\n",
    "    droop_results.append(gen_droop)"
   ],
   "outputs": [],
   "metadata": {}
  },
  {
   "cell_type": "markdown",
   "source": [
    "Now we can plot the evolution of the droop results for each generator for the four final incremental iterations:"
   ],
   "metadata": {}
  },
  {
   "cell_type": "code",
   "execution_count": 5,
   "source": [
    "for desc,gen_droop in zip([\"before fixing\",\"fixed below 3\",\"fixed below 6\",\"fixed below 9\",\"fixed below 12\"], droop_results):\r\n",
    "\r\n",
    "    fig = go.Figure(layout={'title':f\"Droop values {desc}\",'xaxis_title':\"Generator\",'yaxis_title':\"Droop [%]\"})\r\n",
    "\r\n",
    "    for i in range(1,13):\r\n",
    "        fig.add_trace(go.Scatter(showlegend=False,x=gen_names,y=[i]*len(gen_names),mode='lines', line={'color': \"black\", 'width': 0.5,'dash':\"dash\"})) \r\n",
    "\r\n",
    "    for i in range(11):\r\n",
    "        fig.add_trace(go.Scatter(showlegend=False,x=[\"Plant2_G1\",\"Plant2_G4\"],y=[1.5+i,1.5+i],mode='lines', line={'color': \"red\", 'width': 0.5,'dash':\"dash\"})) \r\n",
    "\r\n",
    "        \r\n",
    "    for gen_name,droop_values in gen_droop.items():\r\n",
    "        fig.add_trace(go.Scatter(showlegend=False,x=[gen_name]*len(droop_values),y=droop_values,mode='markers')) \r\n",
    "\r\n",
    "    fig.show()"
   ],
   "outputs": [
    {
     "output_type": "display_data",
     "data": {
      "application/vnd.plotly.v1+json": {
       "config": {
        "plotlyServerURL": "https://plot.ly"
       },
       "data": [
        {
         "line": {
          "color": "black",
          "dash": "dash",
          "width": 0.5
         },
         "mode": "lines",
         "showlegend": false,
         "type": "scatter",
         "x": [
          "Plant1_G1",
          "Plant1_G2",
          "Plant2_G1",
          "Plant2_G2",
          "Plant2_G3",
          "Plant2_G4"
         ],
         "y": [
          1,
          1,
          1,
          1,
          1,
          1
         ]
        },
        {
         "line": {
          "color": "black",
          "dash": "dash",
          "width": 0.5
         },
         "mode": "lines",
         "showlegend": false,
         "type": "scatter",
         "x": [
          "Plant1_G1",
          "Plant1_G2",
          "Plant2_G1",
          "Plant2_G2",
          "Plant2_G3",
          "Plant2_G4"
         ],
         "y": [
          2,
          2,
          2,
          2,
          2,
          2
         ]
        },
        {
         "line": {
          "color": "black",
          "dash": "dash",
          "width": 0.5
         },
         "mode": "lines",
         "showlegend": false,
         "type": "scatter",
         "x": [
          "Plant1_G1",
          "Plant1_G2",
          "Plant2_G1",
          "Plant2_G2",
          "Plant2_G3",
          "Plant2_G4"
         ],
         "y": [
          3,
          3,
          3,
          3,
          3,
          3
         ]
        },
        {
         "line": {
          "color": "black",
          "dash": "dash",
          "width": 0.5
         },
         "mode": "lines",
         "showlegend": false,
         "type": "scatter",
         "x": [
          "Plant1_G1",
          "Plant1_G2",
          "Plant2_G1",
          "Plant2_G2",
          "Plant2_G3",
          "Plant2_G4"
         ],
         "y": [
          4,
          4,
          4,
          4,
          4,
          4
         ]
        },
        {
         "line": {
          "color": "black",
          "dash": "dash",
          "width": 0.5
         },
         "mode": "lines",
         "showlegend": false,
         "type": "scatter",
         "x": [
          "Plant1_G1",
          "Plant1_G2",
          "Plant2_G1",
          "Plant2_G2",
          "Plant2_G3",
          "Plant2_G4"
         ],
         "y": [
          5,
          5,
          5,
          5,
          5,
          5
         ]
        },
        {
         "line": {
          "color": "black",
          "dash": "dash",
          "width": 0.5
         },
         "mode": "lines",
         "showlegend": false,
         "type": "scatter",
         "x": [
          "Plant1_G1",
          "Plant1_G2",
          "Plant2_G1",
          "Plant2_G2",
          "Plant2_G3",
          "Plant2_G4"
         ],
         "y": [
          6,
          6,
          6,
          6,
          6,
          6
         ]
        },
        {
         "line": {
          "color": "black",
          "dash": "dash",
          "width": 0.5
         },
         "mode": "lines",
         "showlegend": false,
         "type": "scatter",
         "x": [
          "Plant1_G1",
          "Plant1_G2",
          "Plant2_G1",
          "Plant2_G2",
          "Plant2_G3",
          "Plant2_G4"
         ],
         "y": [
          7,
          7,
          7,
          7,
          7,
          7
         ]
        },
        {
         "line": {
          "color": "black",
          "dash": "dash",
          "width": 0.5
         },
         "mode": "lines",
         "showlegend": false,
         "type": "scatter",
         "x": [
          "Plant1_G1",
          "Plant1_G2",
          "Plant2_G1",
          "Plant2_G2",
          "Plant2_G3",
          "Plant2_G4"
         ],
         "y": [
          8,
          8,
          8,
          8,
          8,
          8
         ]
        },
        {
         "line": {
          "color": "black",
          "dash": "dash",
          "width": 0.5
         },
         "mode": "lines",
         "showlegend": false,
         "type": "scatter",
         "x": [
          "Plant1_G1",
          "Plant1_G2",
          "Plant2_G1",
          "Plant2_G2",
          "Plant2_G3",
          "Plant2_G4"
         ],
         "y": [
          9,
          9,
          9,
          9,
          9,
          9
         ]
        },
        {
         "line": {
          "color": "black",
          "dash": "dash",
          "width": 0.5
         },
         "mode": "lines",
         "showlegend": false,
         "type": "scatter",
         "x": [
          "Plant1_G1",
          "Plant1_G2",
          "Plant2_G1",
          "Plant2_G2",
          "Plant2_G3",
          "Plant2_G4"
         ],
         "y": [
          10,
          10,
          10,
          10,
          10,
          10
         ]
        },
        {
         "line": {
          "color": "black",
          "dash": "dash",
          "width": 0.5
         },
         "mode": "lines",
         "showlegend": false,
         "type": "scatter",
         "x": [
          "Plant1_G1",
          "Plant1_G2",
          "Plant2_G1",
          "Plant2_G2",
          "Plant2_G3",
          "Plant2_G4"
         ],
         "y": [
          11,
          11,
          11,
          11,
          11,
          11
         ]
        },
        {
         "line": {
          "color": "black",
          "dash": "dash",
          "width": 0.5
         },
         "mode": "lines",
         "showlegend": false,
         "type": "scatter",
         "x": [
          "Plant1_G1",
          "Plant1_G2",
          "Plant2_G1",
          "Plant2_G2",
          "Plant2_G3",
          "Plant2_G4"
         ],
         "y": [
          12,
          12,
          12,
          12,
          12,
          12
         ]
        },
        {
         "line": {
          "color": "red",
          "dash": "dash",
          "width": 0.5
         },
         "mode": "lines",
         "showlegend": false,
         "type": "scatter",
         "x": [
          "Plant2_G1",
          "Plant2_G4"
         ],
         "y": [
          1.5,
          1.5
         ]
        },
        {
         "line": {
          "color": "red",
          "dash": "dash",
          "width": 0.5
         },
         "mode": "lines",
         "showlegend": false,
         "type": "scatter",
         "x": [
          "Plant2_G1",
          "Plant2_G4"
         ],
         "y": [
          2.5,
          2.5
         ]
        },
        {
         "line": {
          "color": "red",
          "dash": "dash",
          "width": 0.5
         },
         "mode": "lines",
         "showlegend": false,
         "type": "scatter",
         "x": [
          "Plant2_G1",
          "Plant2_G4"
         ],
         "y": [
          3.5,
          3.5
         ]
        },
        {
         "line": {
          "color": "red",
          "dash": "dash",
          "width": 0.5
         },
         "mode": "lines",
         "showlegend": false,
         "type": "scatter",
         "x": [
          "Plant2_G1",
          "Plant2_G4"
         ],
         "y": [
          4.5,
          4.5
         ]
        },
        {
         "line": {
          "color": "red",
          "dash": "dash",
          "width": 0.5
         },
         "mode": "lines",
         "showlegend": false,
         "type": "scatter",
         "x": [
          "Plant2_G1",
          "Plant2_G4"
         ],
         "y": [
          5.5,
          5.5
         ]
        },
        {
         "line": {
          "color": "red",
          "dash": "dash",
          "width": 0.5
         },
         "mode": "lines",
         "showlegend": false,
         "type": "scatter",
         "x": [
          "Plant2_G1",
          "Plant2_G4"
         ],
         "y": [
          6.5,
          6.5
         ]
        },
        {
         "line": {
          "color": "red",
          "dash": "dash",
          "width": 0.5
         },
         "mode": "lines",
         "showlegend": false,
         "type": "scatter",
         "x": [
          "Plant2_G1",
          "Plant2_G4"
         ],
         "y": [
          7.5,
          7.5
         ]
        },
        {
         "line": {
          "color": "red",
          "dash": "dash",
          "width": 0.5
         },
         "mode": "lines",
         "showlegend": false,
         "type": "scatter",
         "x": [
          "Plant2_G1",
          "Plant2_G4"
         ],
         "y": [
          8.5,
          8.5
         ]
        },
        {
         "line": {
          "color": "red",
          "dash": "dash",
          "width": 0.5
         },
         "mode": "lines",
         "showlegend": false,
         "type": "scatter",
         "x": [
          "Plant2_G1",
          "Plant2_G4"
         ],
         "y": [
          9.5,
          9.5
         ]
        },
        {
         "line": {
          "color": "red",
          "dash": "dash",
          "width": 0.5
         },
         "mode": "lines",
         "showlegend": false,
         "type": "scatter",
         "x": [
          "Plant2_G1",
          "Plant2_G4"
         ],
         "y": [
          10.5,
          10.5
         ]
        },
        {
         "line": {
          "color": "red",
          "dash": "dash",
          "width": 0.5
         },
         "mode": "lines",
         "showlegend": false,
         "type": "scatter",
         "x": [
          "Plant2_G1",
          "Plant2_G4"
         ],
         "y": [
          11.5,
          11.5
         ]
        },
        {
         "mode": "markers",
         "showlegend": false,
         "type": "scatter",
         "x": [
          "Plant1_G1",
          "Plant1_G1",
          "Plant1_G1",
          "Plant1_G1",
          "Plant1_G1",
          "Plant1_G1",
          "Plant1_G1",
          "Plant1_G1",
          "Plant1_G1",
          "Plant1_G1",
          "Plant1_G1",
          "Plant1_G1",
          "Plant1_G1",
          "Plant1_G1",
          "Plant1_G1",
          "Plant1_G1",
          "Plant1_G1",
          "Plant1_G1",
          "Plant1_G1",
          "Plant1_G1",
          "Plant1_G1",
          "Plant1_G1",
          "Plant1_G1",
          "Plant1_G1",
          "Plant1_G1",
          "Plant1_G1",
          "Plant1_G1",
          "Plant1_G1",
          "Plant1_G1",
          "Plant1_G1",
          "Plant1_G1",
          "Plant1_G1",
          "Plant1_G1",
          "Plant1_G1",
          "Plant1_G1",
          "Plant1_G1",
          "Plant1_G1",
          "Plant1_G1",
          "Plant1_G1",
          "Plant1_G1",
          "Plant1_G1",
          "Plant1_G1",
          "Plant1_G1",
          "Plant1_G1",
          "Plant1_G1",
          "Plant1_G1",
          "Plant1_G1",
          "Plant1_G1",
          "Plant1_G1",
          "Plant1_G1",
          "Plant1_G1",
          "Plant1_G1",
          "Plant1_G1",
          "Plant1_G1",
          "Plant1_G1",
          "Plant1_G1",
          "Plant1_G1",
          "Plant1_G1",
          "Plant1_G1",
          "Plant1_G1",
          "Plant1_G1",
          "Plant1_G1",
          "Plant1_G1",
          "Plant1_G1",
          "Plant1_G1",
          "Plant1_G1",
          "Plant1_G1",
          "Plant1_G1",
          "Plant1_G1",
          "Plant1_G1",
          "Plant1_G1",
          "Plant1_G1"
         ],
         "y": [
          12,
          12,
          12,
          12,
          12,
          12,
          6.590182265239478,
          6.60994693220833,
          6.629955724000196,
          6.650077216921929,
          6.670386323984494,
          6.910971051994189,
          6.728919150619807,
          6.555113787911158,
          3.308400184487082,
          3.3186404415879003,
          6.074355200576031,
          5.927176877933216,
          3.349970602828396,
          3.058412154968677,
          12,
          12,
          12,
          12,
          12,
          12,
          12,
          12,
          12,
          12,
          12,
          2.6339018954976576,
          2.6248716225604958,
          2.6154112936178784,
          12,
          6.373990123259097,
          6.2380646643667585,
          6.108053757685224,
          5.9889352119713095,
          5.8740380571243715,
          5.763139415145475,
          5.6560317532617175,
          5.547323954488671,
          12,
          12,
          12,
          12,
          12,
          12,
          12,
          12,
          12,
          12,
          12,
          12,
          2.010296640689689,
          2.0031300980529974,
          1.9957126619169347,
          1.9882658207919777,
          1.9811694271942824,
          1.9740941020076148,
          1.96703948163837,
          1.9600056351558193,
          1.9529917617642611,
          1.8227848101265824,
          2.290889406956768,
          2.51082194901056,
          12,
          1.921077533729543,
          1.9138626763949766,
          1.9066683691514061,
          12
         ]
        },
        {
         "mode": "markers",
         "showlegend": false,
         "type": "scatter",
         "x": [
          "Plant1_G2",
          "Plant1_G2",
          "Plant1_G2",
          "Plant1_G2",
          "Plant1_G2",
          "Plant1_G2",
          "Plant1_G2",
          "Plant1_G2",
          "Plant1_G2",
          "Plant1_G2",
          "Plant1_G2",
          "Plant1_G2",
          "Plant1_G2",
          "Plant1_G2",
          "Plant1_G2",
          "Plant1_G2",
          "Plant1_G2",
          "Plant1_G2",
          "Plant1_G2",
          "Plant1_G2",
          "Plant1_G2",
          "Plant1_G2",
          "Plant1_G2",
          "Plant1_G2",
          "Plant1_G2",
          "Plant1_G2",
          "Plant1_G2",
          "Plant1_G2",
          "Plant1_G2",
          "Plant1_G2",
          "Plant1_G2",
          "Plant1_G2",
          "Plant1_G2",
          "Plant1_G2",
          "Plant1_G2",
          "Plant1_G2",
          "Plant1_G2",
          "Plant1_G2",
          "Plant1_G2",
          "Plant1_G2",
          "Plant1_G2",
          "Plant1_G2",
          "Plant1_G2",
          "Plant1_G2",
          "Plant1_G2",
          "Plant1_G2",
          "Plant1_G2",
          "Plant1_G2",
          "Plant1_G2",
          "Plant1_G2",
          "Plant1_G2",
          "Plant1_G2",
          "Plant1_G2",
          "Plant1_G2",
          "Plant1_G2",
          "Plant1_G2",
          "Plant1_G2",
          "Plant1_G2",
          "Plant1_G2",
          "Plant1_G2",
          "Plant1_G2",
          "Plant1_G2",
          "Plant1_G2",
          "Plant1_G2",
          "Plant1_G2",
          "Plant1_G2",
          "Plant1_G2",
          "Plant1_G2",
          "Plant1_G2",
          "Plant1_G2",
          "Plant1_G2",
          "Plant1_G2"
         ],
         "y": [
          12,
          12,
          12,
          12,
          12,
          12,
          7.423948940005294,
          7.50684111921876,
          7.511352456341206,
          7.301163703387114,
          7.101325267741275,
          6.69088626932229,
          6.711580246056264,
          6.73245475764045,
          3.3084000559181597,
          3.318640297904472,
          6.7958698492910194,
          6.817363258352602,
          3.349970455628269,
          12,
          12,
          12,
          12,
          12,
          12,
          12,
          12,
          12,
          12,
          12,
          12,
          12,
          12,
          12,
          12,
          12,
          12,
          12,
          12,
          12,
          12,
          12,
          12,
          12,
          12,
          12,
          12,
          12,
          12,
          12,
          12,
          12,
          12,
          12,
          12,
          12,
          12,
          12,
          12,
          12,
          12,
          12,
          12,
          12,
          12,
          2.520023818012075,
          2.298547366472576,
          1.8227848101265824,
          12,
          12,
          12,
          12
         ]
        },
        {
         "mode": "markers",
         "showlegend": false,
         "type": "scatter",
         "x": [
          "Plant2_G1",
          "Plant2_G1",
          "Plant2_G1",
          "Plant2_G1",
          "Plant2_G1",
          "Plant2_G1",
          "Plant2_G1",
          "Plant2_G1",
          "Plant2_G1",
          "Plant2_G1",
          "Plant2_G1",
          "Plant2_G1",
          "Plant2_G1",
          "Plant2_G1",
          "Plant2_G1",
          "Plant2_G1",
          "Plant2_G1",
          "Plant2_G1",
          "Plant2_G1",
          "Plant2_G1",
          "Plant2_G1",
          "Plant2_G1",
          "Plant2_G1",
          "Plant2_G1",
          "Plant2_G1",
          "Plant2_G1",
          "Plant2_G1",
          "Plant2_G1",
          "Plant2_G1",
          "Plant2_G1",
          "Plant2_G1",
          "Plant2_G1",
          "Plant2_G1",
          "Plant2_G1",
          "Plant2_G1",
          "Plant2_G1",
          "Plant2_G1",
          "Plant2_G1",
          "Plant2_G1",
          "Plant2_G1",
          "Plant2_G1",
          "Plant2_G1",
          "Plant2_G1",
          "Plant2_G1",
          "Plant2_G1",
          "Plant2_G1",
          "Plant2_G1",
          "Plant2_G1",
          "Plant2_G1",
          "Plant2_G1",
          "Plant2_G1",
          "Plant2_G1",
          "Plant2_G1",
          "Plant2_G1",
          "Plant2_G1",
          "Plant2_G1",
          "Plant2_G1",
          "Plant2_G1",
          "Plant2_G1",
          "Plant2_G1",
          "Plant2_G1",
          "Plant2_G1",
          "Plant2_G1",
          "Plant2_G1",
          "Plant2_G1",
          "Plant2_G1",
          "Plant2_G1",
          "Plant2_G1",
          "Plant2_G1",
          "Plant2_G1",
          "Plant2_G1",
          "Plant2_G1"
         ],
         "y": [
          2.541176470588236,
          2.25,
          2.3867403314917133,
          2.3867403314917133,
          2.293281925874791,
          2.541176470588236,
          12,
          12,
          12,
          12,
          12,
          12,
          12,
          12,
          12,
          12,
          12,
          12,
          12,
          4.863030845099581,
          2.541176470588236,
          2.541176470588236,
          2.2268041237113407,
          2.107317073170732,
          2.107317073170732,
          1.88646288209607,
          1.88646288209607,
          1.88646288209607,
          1.88646288209607,
          2.107317073170732,
          2.2268041237113407,
          5.102973775526535,
          5.1257500515053644,
          5.150001164089271,
          2.541176470588236,
          2.4997631621793825,
          2.5140859406049714,
          2.5285465594545444,
          2.542502787285889,
          2.5566563390382235,
          2.5710117458066697,
          2.5855736877595734,
          2.601107904612233,
          2.2268041237113407,
          2.2268041237113407,
          2.2268041237113407,
          1.88646288209607,
          1.88646288209607,
          1.88646288209607,
          1.88646288209607,
          1.88646288209607,
          1.88646288209607,
          1.88646288209607,
          1.88646288209607,
          2.2268041237113407,
          5.780226095500339,
          5.820140293394464,
          5.86234493426441,
          5.905660924413728,
          5.947847933525269,
          5.99082254805497,
          6.034608725534321,
          6.079228649296106,
          6.124711011422005,
          12,
          12,
          12,
          12,
          6.3450905168390275,
          6.39820054023728,
          6.452462455836346,
          2.0862992516770866
         ]
        },
        {
         "mode": "markers",
         "showlegend": false,
         "type": "scatter",
         "x": [
          "Plant2_G2",
          "Plant2_G2",
          "Plant2_G2",
          "Plant2_G2",
          "Plant2_G2",
          "Plant2_G2",
          "Plant2_G2",
          "Plant2_G2",
          "Plant2_G2",
          "Plant2_G2",
          "Plant2_G2",
          "Plant2_G2",
          "Plant2_G2",
          "Plant2_G2",
          "Plant2_G2",
          "Plant2_G2",
          "Plant2_G2",
          "Plant2_G2",
          "Plant2_G2",
          "Plant2_G2",
          "Plant2_G2",
          "Plant2_G2",
          "Plant2_G2",
          "Plant2_G2",
          "Plant2_G2",
          "Plant2_G2",
          "Plant2_G2",
          "Plant2_G2",
          "Plant2_G2",
          "Plant2_G2",
          "Plant2_G2",
          "Plant2_G2",
          "Plant2_G2",
          "Plant2_G2",
          "Plant2_G2",
          "Plant2_G2",
          "Plant2_G2",
          "Plant2_G2",
          "Plant2_G2",
          "Plant2_G2",
          "Plant2_G2",
          "Plant2_G2",
          "Plant2_G2",
          "Plant2_G2",
          "Plant2_G2",
          "Plant2_G2",
          "Plant2_G2",
          "Plant2_G2",
          "Plant2_G2",
          "Plant2_G2",
          "Plant2_G2",
          "Plant2_G2",
          "Plant2_G2",
          "Plant2_G2",
          "Plant2_G2",
          "Plant2_G2",
          "Plant2_G2",
          "Plant2_G2",
          "Plant2_G2",
          "Plant2_G2",
          "Plant2_G2",
          "Plant2_G2",
          "Plant2_G2",
          "Plant2_G2",
          "Plant2_G2",
          "Plant2_G2",
          "Plant2_G2",
          "Plant2_G2",
          "Plant2_G2",
          "Plant2_G2",
          "Plant2_G2",
          "Plant2_G2"
         ],
         "y": [
          12,
          12,
          12,
          12,
          12,
          12,
          2.5142317881849094,
          2.5053308721244,
          2.502861824383408,
          2.5183360153362813,
          2.5341025380182742,
          2.5501731052765915,
          2.5666163513592726,
          2.5833881373469683,
          12,
          12,
          2.6363275341138936,
          2.654773788491034,
          12,
          12,
          12,
          12,
          12,
          12,
          12,
          12,
          12,
          12,
          12,
          12,
          12,
          12,
          12,
          12,
          12,
          12,
          12,
          12,
          12,
          12,
          12,
          12,
          12,
          12,
          12,
          12,
          12,
          12,
          12,
          12,
          12,
          12,
          12,
          12,
          12,
          12,
          12,
          12,
          12,
          12,
          12,
          12,
          12,
          12,
          12,
          12,
          12,
          12,
          12,
          12,
          12,
          8.015823664666343
         ]
        },
        {
         "mode": "markers",
         "showlegend": false,
         "type": "scatter",
         "x": [
          "Plant2_G3",
          "Plant2_G3",
          "Plant2_G3",
          "Plant2_G3",
          "Plant2_G3",
          "Plant2_G3",
          "Plant2_G3",
          "Plant2_G3",
          "Plant2_G3",
          "Plant2_G3",
          "Plant2_G3",
          "Plant2_G3",
          "Plant2_G3",
          "Plant2_G3",
          "Plant2_G3",
          "Plant2_G3",
          "Plant2_G3",
          "Plant2_G3",
          "Plant2_G3",
          "Plant2_G3",
          "Plant2_G3",
          "Plant2_G3",
          "Plant2_G3",
          "Plant2_G3",
          "Plant2_G3",
          "Plant2_G3",
          "Plant2_G3",
          "Plant2_G3",
          "Plant2_G3",
          "Plant2_G3",
          "Plant2_G3",
          "Plant2_G3",
          "Plant2_G3",
          "Plant2_G3",
          "Plant2_G3",
          "Plant2_G3",
          "Plant2_G3",
          "Plant2_G3",
          "Plant2_G3",
          "Plant2_G3",
          "Plant2_G3",
          "Plant2_G3",
          "Plant2_G3",
          "Plant2_G3",
          "Plant2_G3",
          "Plant2_G3",
          "Plant2_G3",
          "Plant2_G3",
          "Plant2_G3",
          "Plant2_G3",
          "Plant2_G3",
          "Plant2_G3",
          "Plant2_G3",
          "Plant2_G3",
          "Plant2_G3",
          "Plant2_G3",
          "Plant2_G3",
          "Plant2_G3",
          "Plant2_G3",
          "Plant2_G3",
          "Plant2_G3",
          "Plant2_G3",
          "Plant2_G3",
          "Plant2_G3",
          "Plant2_G3",
          "Plant2_G3",
          "Plant2_G3",
          "Plant2_G3",
          "Plant2_G3",
          "Plant2_G3",
          "Plant2_G3",
          "Plant2_G3"
         ],
         "y": [
          12,
          12,
          12,
          12,
          12,
          12,
          2.51424573613741,
          2.5053423766943914,
          2.5028714894323127,
          2.5183460133128577,
          2.534104181682983,
          2.550174593174161,
          2.566612662013257,
          2.5833895403732208,
          12,
          12,
          2.636327123934086,
          2.6547726029944285,
          12,
          12,
          12,
          12,
          12,
          12,
          12,
          12,
          12,
          12,
          12,
          12,
          12,
          12,
          12,
          12,
          12,
          12,
          12,
          12,
          12,
          12,
          12,
          12,
          12,
          12,
          12,
          12,
          12,
          12,
          12,
          12,
          12,
          12,
          12,
          12,
          12,
          12,
          12,
          12,
          12,
          12,
          12,
          12,
          12,
          12,
          12,
          12,
          12,
          12,
          12,
          12,
          12,
          8.01585761575495
         ]
        },
        {
         "mode": "markers",
         "showlegend": false,
         "type": "scatter",
         "x": [
          "Plant2_G4",
          "Plant2_G4",
          "Plant2_G4",
          "Plant2_G4",
          "Plant2_G4",
          "Plant2_G4",
          "Plant2_G4",
          "Plant2_G4",
          "Plant2_G4",
          "Plant2_G4",
          "Plant2_G4",
          "Plant2_G4",
          "Plant2_G4",
          "Plant2_G4",
          "Plant2_G4",
          "Plant2_G4",
          "Plant2_G4",
          "Plant2_G4",
          "Plant2_G4",
          "Plant2_G4",
          "Plant2_G4",
          "Plant2_G4",
          "Plant2_G4",
          "Plant2_G4",
          "Plant2_G4",
          "Plant2_G4",
          "Plant2_G4",
          "Plant2_G4",
          "Plant2_G4",
          "Plant2_G4",
          "Plant2_G4",
          "Plant2_G4",
          "Plant2_G4",
          "Plant2_G4",
          "Plant2_G4",
          "Plant2_G4",
          "Plant2_G4",
          "Plant2_G4",
          "Plant2_G4",
          "Plant2_G4",
          "Plant2_G4",
          "Plant2_G4",
          "Plant2_G4",
          "Plant2_G4",
          "Plant2_G4",
          "Plant2_G4",
          "Plant2_G4",
          "Plant2_G4",
          "Plant2_G4",
          "Plant2_G4",
          "Plant2_G4",
          "Plant2_G4",
          "Plant2_G4",
          "Plant2_G4",
          "Plant2_G4",
          "Plant2_G4",
          "Plant2_G4",
          "Plant2_G4",
          "Plant2_G4",
          "Plant2_G4",
          "Plant2_G4",
          "Plant2_G4",
          "Plant2_G4",
          "Plant2_G4",
          "Plant2_G4",
          "Plant2_G4",
          "Plant2_G4",
          "Plant2_G4",
          "Plant2_G4",
          "Plant2_G4",
          "Plant2_G4",
          "Plant2_G4"
         ],
         "y": [
          12,
          12,
          12,
          12,
          12,
          12,
          2.514127782021858,
          2.5052555470144795,
          2.5028545099034942,
          2.518336751479013,
          2.5341038853722266,
          2.5501751471334337,
          2.566619162986636,
          2.583391473419969,
          12,
          12,
          2.6363318508647104,
          2.6547785036586378,
          12,
          12,
          12,
          12,
          12,
          12,
          12,
          12,
          12,
          12,
          12,
          12,
          12,
          12,
          12,
          12,
          12,
          12,
          12,
          12,
          12,
          12,
          12,
          12,
          12,
          12,
          12,
          12,
          12,
          12,
          12,
          12,
          12,
          12,
          12,
          12,
          12,
          12,
          12,
          12,
          12,
          12,
          12,
          12,
          12,
          12,
          12,
          12,
          12,
          12,
          12,
          12,
          12,
          12
         ]
        }
       ],
       "layout": {
        "template": {
         "data": {
          "bar": [
           {
            "error_x": {
             "color": "#2a3f5f"
            },
            "error_y": {
             "color": "#2a3f5f"
            },
            "marker": {
             "line": {
              "color": "#E5ECF6",
              "width": 0.5
             }
            },
            "type": "bar"
           }
          ],
          "barpolar": [
           {
            "marker": {
             "line": {
              "color": "#E5ECF6",
              "width": 0.5
             }
            },
            "type": "barpolar"
           }
          ],
          "carpet": [
           {
            "aaxis": {
             "endlinecolor": "#2a3f5f",
             "gridcolor": "white",
             "linecolor": "white",
             "minorgridcolor": "white",
             "startlinecolor": "#2a3f5f"
            },
            "baxis": {
             "endlinecolor": "#2a3f5f",
             "gridcolor": "white",
             "linecolor": "white",
             "minorgridcolor": "white",
             "startlinecolor": "#2a3f5f"
            },
            "type": "carpet"
           }
          ],
          "choropleth": [
           {
            "colorbar": {
             "outlinewidth": 0,
             "ticks": ""
            },
            "type": "choropleth"
           }
          ],
          "contour": [
           {
            "colorbar": {
             "outlinewidth": 0,
             "ticks": ""
            },
            "colorscale": [
             [
              0,
              "#0d0887"
             ],
             [
              0.1111111111111111,
              "#46039f"
             ],
             [
              0.2222222222222222,
              "#7201a8"
             ],
             [
              0.3333333333333333,
              "#9c179e"
             ],
             [
              0.4444444444444444,
              "#bd3786"
             ],
             [
              0.5555555555555556,
              "#d8576b"
             ],
             [
              0.6666666666666666,
              "#ed7953"
             ],
             [
              0.7777777777777778,
              "#fb9f3a"
             ],
             [
              0.8888888888888888,
              "#fdca26"
             ],
             [
              1,
              "#f0f921"
             ]
            ],
            "type": "contour"
           }
          ],
          "contourcarpet": [
           {
            "colorbar": {
             "outlinewidth": 0,
             "ticks": ""
            },
            "type": "contourcarpet"
           }
          ],
          "heatmap": [
           {
            "colorbar": {
             "outlinewidth": 0,
             "ticks": ""
            },
            "colorscale": [
             [
              0,
              "#0d0887"
             ],
             [
              0.1111111111111111,
              "#46039f"
             ],
             [
              0.2222222222222222,
              "#7201a8"
             ],
             [
              0.3333333333333333,
              "#9c179e"
             ],
             [
              0.4444444444444444,
              "#bd3786"
             ],
             [
              0.5555555555555556,
              "#d8576b"
             ],
             [
              0.6666666666666666,
              "#ed7953"
             ],
             [
              0.7777777777777778,
              "#fb9f3a"
             ],
             [
              0.8888888888888888,
              "#fdca26"
             ],
             [
              1,
              "#f0f921"
             ]
            ],
            "type": "heatmap"
           }
          ],
          "heatmapgl": [
           {
            "colorbar": {
             "outlinewidth": 0,
             "ticks": ""
            },
            "colorscale": [
             [
              0,
              "#0d0887"
             ],
             [
              0.1111111111111111,
              "#46039f"
             ],
             [
              0.2222222222222222,
              "#7201a8"
             ],
             [
              0.3333333333333333,
              "#9c179e"
             ],
             [
              0.4444444444444444,
              "#bd3786"
             ],
             [
              0.5555555555555556,
              "#d8576b"
             ],
             [
              0.6666666666666666,
              "#ed7953"
             ],
             [
              0.7777777777777778,
              "#fb9f3a"
             ],
             [
              0.8888888888888888,
              "#fdca26"
             ],
             [
              1,
              "#f0f921"
             ]
            ],
            "type": "heatmapgl"
           }
          ],
          "histogram": [
           {
            "marker": {
             "colorbar": {
              "outlinewidth": 0,
              "ticks": ""
             }
            },
            "type": "histogram"
           }
          ],
          "histogram2d": [
           {
            "colorbar": {
             "outlinewidth": 0,
             "ticks": ""
            },
            "colorscale": [
             [
              0,
              "#0d0887"
             ],
             [
              0.1111111111111111,
              "#46039f"
             ],
             [
              0.2222222222222222,
              "#7201a8"
             ],
             [
              0.3333333333333333,
              "#9c179e"
             ],
             [
              0.4444444444444444,
              "#bd3786"
             ],
             [
              0.5555555555555556,
              "#d8576b"
             ],
             [
              0.6666666666666666,
              "#ed7953"
             ],
             [
              0.7777777777777778,
              "#fb9f3a"
             ],
             [
              0.8888888888888888,
              "#fdca26"
             ],
             [
              1,
              "#f0f921"
             ]
            ],
            "type": "histogram2d"
           }
          ],
          "histogram2dcontour": [
           {
            "colorbar": {
             "outlinewidth": 0,
             "ticks": ""
            },
            "colorscale": [
             [
              0,
              "#0d0887"
             ],
             [
              0.1111111111111111,
              "#46039f"
             ],
             [
              0.2222222222222222,
              "#7201a8"
             ],
             [
              0.3333333333333333,
              "#9c179e"
             ],
             [
              0.4444444444444444,
              "#bd3786"
             ],
             [
              0.5555555555555556,
              "#d8576b"
             ],
             [
              0.6666666666666666,
              "#ed7953"
             ],
             [
              0.7777777777777778,
              "#fb9f3a"
             ],
             [
              0.8888888888888888,
              "#fdca26"
             ],
             [
              1,
              "#f0f921"
             ]
            ],
            "type": "histogram2dcontour"
           }
          ],
          "mesh3d": [
           {
            "colorbar": {
             "outlinewidth": 0,
             "ticks": ""
            },
            "type": "mesh3d"
           }
          ],
          "parcoords": [
           {
            "line": {
             "colorbar": {
              "outlinewidth": 0,
              "ticks": ""
             }
            },
            "type": "parcoords"
           }
          ],
          "pie": [
           {
            "automargin": true,
            "type": "pie"
           }
          ],
          "scatter": [
           {
            "marker": {
             "colorbar": {
              "outlinewidth": 0,
              "ticks": ""
             }
            },
            "type": "scatter"
           }
          ],
          "scatter3d": [
           {
            "line": {
             "colorbar": {
              "outlinewidth": 0,
              "ticks": ""
             }
            },
            "marker": {
             "colorbar": {
              "outlinewidth": 0,
              "ticks": ""
             }
            },
            "type": "scatter3d"
           }
          ],
          "scattercarpet": [
           {
            "marker": {
             "colorbar": {
              "outlinewidth": 0,
              "ticks": ""
             }
            },
            "type": "scattercarpet"
           }
          ],
          "scattergeo": [
           {
            "marker": {
             "colorbar": {
              "outlinewidth": 0,
              "ticks": ""
             }
            },
            "type": "scattergeo"
           }
          ],
          "scattergl": [
           {
            "marker": {
             "colorbar": {
              "outlinewidth": 0,
              "ticks": ""
             }
            },
            "type": "scattergl"
           }
          ],
          "scattermapbox": [
           {
            "marker": {
             "colorbar": {
              "outlinewidth": 0,
              "ticks": ""
             }
            },
            "type": "scattermapbox"
           }
          ],
          "scatterpolar": [
           {
            "marker": {
             "colorbar": {
              "outlinewidth": 0,
              "ticks": ""
             }
            },
            "type": "scatterpolar"
           }
          ],
          "scatterpolargl": [
           {
            "marker": {
             "colorbar": {
              "outlinewidth": 0,
              "ticks": ""
             }
            },
            "type": "scatterpolargl"
           }
          ],
          "scatterternary": [
           {
            "marker": {
             "colorbar": {
              "outlinewidth": 0,
              "ticks": ""
             }
            },
            "type": "scatterternary"
           }
          ],
          "surface": [
           {
            "colorbar": {
             "outlinewidth": 0,
             "ticks": ""
            },
            "colorscale": [
             [
              0,
              "#0d0887"
             ],
             [
              0.1111111111111111,
              "#46039f"
             ],
             [
              0.2222222222222222,
              "#7201a8"
             ],
             [
              0.3333333333333333,
              "#9c179e"
             ],
             [
              0.4444444444444444,
              "#bd3786"
             ],
             [
              0.5555555555555556,
              "#d8576b"
             ],
             [
              0.6666666666666666,
              "#ed7953"
             ],
             [
              0.7777777777777778,
              "#fb9f3a"
             ],
             [
              0.8888888888888888,
              "#fdca26"
             ],
             [
              1,
              "#f0f921"
             ]
            ],
            "type": "surface"
           }
          ],
          "table": [
           {
            "cells": {
             "fill": {
              "color": "#EBF0F8"
             },
             "line": {
              "color": "white"
             }
            },
            "header": {
             "fill": {
              "color": "#C8D4E3"
             },
             "line": {
              "color": "white"
             }
            },
            "type": "table"
           }
          ]
         },
         "layout": {
          "annotationdefaults": {
           "arrowcolor": "#2a3f5f",
           "arrowhead": 0,
           "arrowwidth": 1
          },
          "autotypenumbers": "strict",
          "coloraxis": {
           "colorbar": {
            "outlinewidth": 0,
            "ticks": ""
           }
          },
          "colorscale": {
           "diverging": [
            [
             0,
             "#8e0152"
            ],
            [
             0.1,
             "#c51b7d"
            ],
            [
             0.2,
             "#de77ae"
            ],
            [
             0.3,
             "#f1b6da"
            ],
            [
             0.4,
             "#fde0ef"
            ],
            [
             0.5,
             "#f7f7f7"
            ],
            [
             0.6,
             "#e6f5d0"
            ],
            [
             0.7,
             "#b8e186"
            ],
            [
             0.8,
             "#7fbc41"
            ],
            [
             0.9,
             "#4d9221"
            ],
            [
             1,
             "#276419"
            ]
           ],
           "sequential": [
            [
             0,
             "#0d0887"
            ],
            [
             0.1111111111111111,
             "#46039f"
            ],
            [
             0.2222222222222222,
             "#7201a8"
            ],
            [
             0.3333333333333333,
             "#9c179e"
            ],
            [
             0.4444444444444444,
             "#bd3786"
            ],
            [
             0.5555555555555556,
             "#d8576b"
            ],
            [
             0.6666666666666666,
             "#ed7953"
            ],
            [
             0.7777777777777778,
             "#fb9f3a"
            ],
            [
             0.8888888888888888,
             "#fdca26"
            ],
            [
             1,
             "#f0f921"
            ]
           ],
           "sequentialminus": [
            [
             0,
             "#0d0887"
            ],
            [
             0.1111111111111111,
             "#46039f"
            ],
            [
             0.2222222222222222,
             "#7201a8"
            ],
            [
             0.3333333333333333,
             "#9c179e"
            ],
            [
             0.4444444444444444,
             "#bd3786"
            ],
            [
             0.5555555555555556,
             "#d8576b"
            ],
            [
             0.6666666666666666,
             "#ed7953"
            ],
            [
             0.7777777777777778,
             "#fb9f3a"
            ],
            [
             0.8888888888888888,
             "#fdca26"
            ],
            [
             1,
             "#f0f921"
            ]
           ]
          },
          "colorway": [
           "#636efa",
           "#EF553B",
           "#00cc96",
           "#ab63fa",
           "#FFA15A",
           "#19d3f3",
           "#FF6692",
           "#B6E880",
           "#FF97FF",
           "#FECB52"
          ],
          "font": {
           "color": "#2a3f5f"
          },
          "geo": {
           "bgcolor": "white",
           "lakecolor": "white",
           "landcolor": "#E5ECF6",
           "showlakes": true,
           "showland": true,
           "subunitcolor": "white"
          },
          "hoverlabel": {
           "align": "left"
          },
          "hovermode": "closest",
          "mapbox": {
           "style": "light"
          },
          "paper_bgcolor": "white",
          "plot_bgcolor": "#E5ECF6",
          "polar": {
           "angularaxis": {
            "gridcolor": "white",
            "linecolor": "white",
            "ticks": ""
           },
           "bgcolor": "#E5ECF6",
           "radialaxis": {
            "gridcolor": "white",
            "linecolor": "white",
            "ticks": ""
           }
          },
          "scene": {
           "xaxis": {
            "backgroundcolor": "#E5ECF6",
            "gridcolor": "white",
            "gridwidth": 2,
            "linecolor": "white",
            "showbackground": true,
            "ticks": "",
            "zerolinecolor": "white"
           },
           "yaxis": {
            "backgroundcolor": "#E5ECF6",
            "gridcolor": "white",
            "gridwidth": 2,
            "linecolor": "white",
            "showbackground": true,
            "ticks": "",
            "zerolinecolor": "white"
           },
           "zaxis": {
            "backgroundcolor": "#E5ECF6",
            "gridcolor": "white",
            "gridwidth": 2,
            "linecolor": "white",
            "showbackground": true,
            "ticks": "",
            "zerolinecolor": "white"
           }
          },
          "shapedefaults": {
           "line": {
            "color": "#2a3f5f"
           }
          },
          "ternary": {
           "aaxis": {
            "gridcolor": "white",
            "linecolor": "white",
            "ticks": ""
           },
           "baxis": {
            "gridcolor": "white",
            "linecolor": "white",
            "ticks": ""
           },
           "bgcolor": "#E5ECF6",
           "caxis": {
            "gridcolor": "white",
            "linecolor": "white",
            "ticks": ""
           }
          },
          "title": {
           "x": 0.05
          },
          "xaxis": {
           "automargin": true,
           "gridcolor": "white",
           "linecolor": "white",
           "ticks": "",
           "title": {
            "standoff": 15
           },
           "zerolinecolor": "white",
           "zerolinewidth": 2
          },
          "yaxis": {
           "automargin": true,
           "gridcolor": "white",
           "linecolor": "white",
           "ticks": "",
           "title": {
            "standoff": 15
           },
           "zerolinecolor": "white",
           "zerolinewidth": 2
          }
         }
        },
        "title": {
         "text": "Droop values before fixing"
        },
        "xaxis": {
         "title": {
          "text": "Generator"
         }
        },
        "yaxis": {
         "title": {
          "text": "Droop [%]"
         }
        }
       }
      },
      "text/html": [
       "<div>                            <div id=\"a13ab9fb-6a89-413e-9feb-5eedc7ec5098\" class=\"plotly-graph-div\" style=\"height:525px; width:100%;\"></div>            <script type=\"text/javascript\">                require([\"plotly\"], function(Plotly) {                    window.PLOTLYENV=window.PLOTLYENV || {};                                    if (document.getElementById(\"a13ab9fb-6a89-413e-9feb-5eedc7ec5098\")) {                    Plotly.newPlot(                        \"a13ab9fb-6a89-413e-9feb-5eedc7ec5098\",                        [{\"line\": {\"color\": \"black\", \"dash\": \"dash\", \"width\": 0.5}, \"mode\": \"lines\", \"showlegend\": false, \"type\": \"scatter\", \"x\": [\"Plant1_G1\", \"Plant1_G2\", \"Plant2_G1\", \"Plant2_G2\", \"Plant2_G3\", \"Plant2_G4\"], \"y\": [1, 1, 1, 1, 1, 1]}, {\"line\": {\"color\": \"black\", \"dash\": \"dash\", \"width\": 0.5}, \"mode\": \"lines\", \"showlegend\": false, \"type\": \"scatter\", \"x\": [\"Plant1_G1\", \"Plant1_G2\", \"Plant2_G1\", \"Plant2_G2\", \"Plant2_G3\", \"Plant2_G4\"], \"y\": [2, 2, 2, 2, 2, 2]}, {\"line\": {\"color\": \"black\", \"dash\": \"dash\", \"width\": 0.5}, \"mode\": \"lines\", \"showlegend\": false, \"type\": \"scatter\", \"x\": [\"Plant1_G1\", \"Plant1_G2\", \"Plant2_G1\", \"Plant2_G2\", \"Plant2_G3\", \"Plant2_G4\"], \"y\": [3, 3, 3, 3, 3, 3]}, {\"line\": {\"color\": \"black\", \"dash\": \"dash\", \"width\": 0.5}, \"mode\": \"lines\", \"showlegend\": false, \"type\": \"scatter\", \"x\": [\"Plant1_G1\", \"Plant1_G2\", \"Plant2_G1\", \"Plant2_G2\", \"Plant2_G3\", \"Plant2_G4\"], \"y\": [4, 4, 4, 4, 4, 4]}, {\"line\": {\"color\": \"black\", \"dash\": \"dash\", \"width\": 0.5}, \"mode\": \"lines\", \"showlegend\": false, \"type\": \"scatter\", \"x\": [\"Plant1_G1\", \"Plant1_G2\", \"Plant2_G1\", \"Plant2_G2\", \"Plant2_G3\", \"Plant2_G4\"], \"y\": [5, 5, 5, 5, 5, 5]}, {\"line\": {\"color\": \"black\", \"dash\": \"dash\", \"width\": 0.5}, \"mode\": \"lines\", \"showlegend\": false, \"type\": \"scatter\", \"x\": [\"Plant1_G1\", \"Plant1_G2\", \"Plant2_G1\", \"Plant2_G2\", \"Plant2_G3\", \"Plant2_G4\"], \"y\": [6, 6, 6, 6, 6, 6]}, {\"line\": {\"color\": \"black\", \"dash\": \"dash\", \"width\": 0.5}, \"mode\": \"lines\", \"showlegend\": false, \"type\": \"scatter\", \"x\": [\"Plant1_G1\", \"Plant1_G2\", \"Plant2_G1\", \"Plant2_G2\", \"Plant2_G3\", \"Plant2_G4\"], \"y\": [7, 7, 7, 7, 7, 7]}, {\"line\": {\"color\": \"black\", \"dash\": \"dash\", \"width\": 0.5}, \"mode\": \"lines\", \"showlegend\": false, \"type\": \"scatter\", \"x\": [\"Plant1_G1\", \"Plant1_G2\", \"Plant2_G1\", \"Plant2_G2\", \"Plant2_G3\", \"Plant2_G4\"], \"y\": [8, 8, 8, 8, 8, 8]}, {\"line\": {\"color\": \"black\", \"dash\": \"dash\", \"width\": 0.5}, \"mode\": \"lines\", \"showlegend\": false, \"type\": \"scatter\", \"x\": [\"Plant1_G1\", \"Plant1_G2\", \"Plant2_G1\", \"Plant2_G2\", \"Plant2_G3\", \"Plant2_G4\"], \"y\": [9, 9, 9, 9, 9, 9]}, {\"line\": {\"color\": \"black\", \"dash\": \"dash\", \"width\": 0.5}, \"mode\": \"lines\", \"showlegend\": false, \"type\": \"scatter\", \"x\": [\"Plant1_G1\", \"Plant1_G2\", \"Plant2_G1\", \"Plant2_G2\", \"Plant2_G3\", \"Plant2_G4\"], \"y\": [10, 10, 10, 10, 10, 10]}, {\"line\": {\"color\": \"black\", \"dash\": \"dash\", \"width\": 0.5}, \"mode\": \"lines\", \"showlegend\": false, \"type\": \"scatter\", \"x\": [\"Plant1_G1\", \"Plant1_G2\", \"Plant2_G1\", \"Plant2_G2\", \"Plant2_G3\", \"Plant2_G4\"], \"y\": [11, 11, 11, 11, 11, 11]}, {\"line\": {\"color\": \"black\", \"dash\": \"dash\", \"width\": 0.5}, \"mode\": \"lines\", \"showlegend\": false, \"type\": \"scatter\", \"x\": [\"Plant1_G1\", \"Plant1_G2\", \"Plant2_G1\", \"Plant2_G2\", \"Plant2_G3\", \"Plant2_G4\"], \"y\": [12, 12, 12, 12, 12, 12]}, {\"line\": {\"color\": \"red\", \"dash\": \"dash\", \"width\": 0.5}, \"mode\": \"lines\", \"showlegend\": false, \"type\": \"scatter\", \"x\": [\"Plant2_G1\", \"Plant2_G4\"], \"y\": [1.5, 1.5]}, {\"line\": {\"color\": \"red\", \"dash\": \"dash\", \"width\": 0.5}, \"mode\": \"lines\", \"showlegend\": false, \"type\": \"scatter\", \"x\": [\"Plant2_G1\", \"Plant2_G4\"], \"y\": [2.5, 2.5]}, {\"line\": {\"color\": \"red\", \"dash\": \"dash\", \"width\": 0.5}, \"mode\": \"lines\", \"showlegend\": false, \"type\": \"scatter\", \"x\": [\"Plant2_G1\", \"Plant2_G4\"], \"y\": [3.5, 3.5]}, {\"line\": {\"color\": \"red\", \"dash\": \"dash\", \"width\": 0.5}, \"mode\": \"lines\", \"showlegend\": false, \"type\": \"scatter\", \"x\": [\"Plant2_G1\", \"Plant2_G4\"], \"y\": [4.5, 4.5]}, {\"line\": {\"color\": \"red\", \"dash\": \"dash\", \"width\": 0.5}, \"mode\": \"lines\", \"showlegend\": false, \"type\": \"scatter\", \"x\": [\"Plant2_G1\", \"Plant2_G4\"], \"y\": [5.5, 5.5]}, {\"line\": {\"color\": \"red\", \"dash\": \"dash\", \"width\": 0.5}, \"mode\": \"lines\", \"showlegend\": false, \"type\": \"scatter\", \"x\": [\"Plant2_G1\", \"Plant2_G4\"], \"y\": [6.5, 6.5]}, {\"line\": {\"color\": \"red\", \"dash\": \"dash\", \"width\": 0.5}, \"mode\": \"lines\", \"showlegend\": false, \"type\": \"scatter\", \"x\": [\"Plant2_G1\", \"Plant2_G4\"], \"y\": [7.5, 7.5]}, {\"line\": {\"color\": \"red\", \"dash\": \"dash\", \"width\": 0.5}, \"mode\": \"lines\", \"showlegend\": false, \"type\": \"scatter\", \"x\": [\"Plant2_G1\", \"Plant2_G4\"], \"y\": [8.5, 8.5]}, {\"line\": {\"color\": \"red\", \"dash\": \"dash\", \"width\": 0.5}, \"mode\": \"lines\", \"showlegend\": false, \"type\": \"scatter\", \"x\": [\"Plant2_G1\", \"Plant2_G4\"], \"y\": [9.5, 9.5]}, {\"line\": {\"color\": \"red\", \"dash\": \"dash\", \"width\": 0.5}, \"mode\": \"lines\", \"showlegend\": false, \"type\": \"scatter\", \"x\": [\"Plant2_G1\", \"Plant2_G4\"], \"y\": [10.5, 10.5]}, {\"line\": {\"color\": \"red\", \"dash\": \"dash\", \"width\": 0.5}, \"mode\": \"lines\", \"showlegend\": false, \"type\": \"scatter\", \"x\": [\"Plant2_G1\", \"Plant2_G4\"], \"y\": [11.5, 11.5]}, {\"mode\": \"markers\", \"showlegend\": false, \"type\": \"scatter\", \"x\": [\"Plant1_G1\", \"Plant1_G1\", \"Plant1_G1\", \"Plant1_G1\", \"Plant1_G1\", \"Plant1_G1\", \"Plant1_G1\", \"Plant1_G1\", \"Plant1_G1\", \"Plant1_G1\", \"Plant1_G1\", \"Plant1_G1\", \"Plant1_G1\", \"Plant1_G1\", \"Plant1_G1\", \"Plant1_G1\", \"Plant1_G1\", \"Plant1_G1\", \"Plant1_G1\", \"Plant1_G1\", \"Plant1_G1\", \"Plant1_G1\", \"Plant1_G1\", \"Plant1_G1\", \"Plant1_G1\", \"Plant1_G1\", \"Plant1_G1\", \"Plant1_G1\", \"Plant1_G1\", \"Plant1_G1\", \"Plant1_G1\", \"Plant1_G1\", \"Plant1_G1\", \"Plant1_G1\", \"Plant1_G1\", \"Plant1_G1\", \"Plant1_G1\", \"Plant1_G1\", \"Plant1_G1\", \"Plant1_G1\", \"Plant1_G1\", \"Plant1_G1\", \"Plant1_G1\", \"Plant1_G1\", \"Plant1_G1\", \"Plant1_G1\", \"Plant1_G1\", \"Plant1_G1\", \"Plant1_G1\", \"Plant1_G1\", \"Plant1_G1\", \"Plant1_G1\", \"Plant1_G1\", \"Plant1_G1\", \"Plant1_G1\", \"Plant1_G1\", \"Plant1_G1\", \"Plant1_G1\", \"Plant1_G1\", \"Plant1_G1\", \"Plant1_G1\", \"Plant1_G1\", \"Plant1_G1\", \"Plant1_G1\", \"Plant1_G1\", \"Plant1_G1\", \"Plant1_G1\", \"Plant1_G1\", \"Plant1_G1\", \"Plant1_G1\", \"Plant1_G1\", \"Plant1_G1\"], \"y\": [12.0, 12.0, 12.0, 12.0, 12.0, 12.0, 6.590182265239478, 6.60994693220833, 6.629955724000196, 6.650077216921929, 6.670386323984494, 6.910971051994189, 6.728919150619807, 6.555113787911158, 3.308400184487082, 3.3186404415879003, 6.074355200576031, 5.927176877933216, 3.349970602828396, 3.058412154968677, 12.0, 12.0, 12.0, 12.0, 12.0, 12.0, 12.0, 12.0, 12.0, 12.0, 12.0, 2.6339018954976576, 2.6248716225604958, 2.6154112936178784, 12.0, 6.373990123259097, 6.2380646643667585, 6.108053757685224, 5.9889352119713095, 5.8740380571243715, 5.763139415145475, 5.6560317532617175, 5.547323954488671, 12.0, 12.0, 12.0, 12.0, 12.0, 12.0, 12.0, 12.0, 12.0, 12.0, 12.0, 12.0, 2.010296640689689, 2.0031300980529974, 1.9957126619169347, 1.9882658207919777, 1.9811694271942824, 1.9740941020076148, 1.96703948163837, 1.9600056351558193, 1.9529917617642611, 1.8227848101265824, 2.290889406956768, 2.51082194901056, 12.0, 1.921077533729543, 1.9138626763949766, 1.9066683691514061, 12.0]}, {\"mode\": \"markers\", \"showlegend\": false, \"type\": \"scatter\", \"x\": [\"Plant1_G2\", \"Plant1_G2\", \"Plant1_G2\", \"Plant1_G2\", \"Plant1_G2\", \"Plant1_G2\", \"Plant1_G2\", \"Plant1_G2\", \"Plant1_G2\", \"Plant1_G2\", \"Plant1_G2\", \"Plant1_G2\", \"Plant1_G2\", \"Plant1_G2\", \"Plant1_G2\", \"Plant1_G2\", \"Plant1_G2\", \"Plant1_G2\", \"Plant1_G2\", \"Plant1_G2\", \"Plant1_G2\", \"Plant1_G2\", \"Plant1_G2\", \"Plant1_G2\", \"Plant1_G2\", \"Plant1_G2\", \"Plant1_G2\", \"Plant1_G2\", \"Plant1_G2\", \"Plant1_G2\", \"Plant1_G2\", \"Plant1_G2\", \"Plant1_G2\", \"Plant1_G2\", \"Plant1_G2\", \"Plant1_G2\", \"Plant1_G2\", \"Plant1_G2\", \"Plant1_G2\", \"Plant1_G2\", \"Plant1_G2\", \"Plant1_G2\", \"Plant1_G2\", \"Plant1_G2\", \"Plant1_G2\", \"Plant1_G2\", \"Plant1_G2\", \"Plant1_G2\", \"Plant1_G2\", \"Plant1_G2\", \"Plant1_G2\", \"Plant1_G2\", \"Plant1_G2\", \"Plant1_G2\", \"Plant1_G2\", \"Plant1_G2\", \"Plant1_G2\", \"Plant1_G2\", \"Plant1_G2\", \"Plant1_G2\", \"Plant1_G2\", \"Plant1_G2\", \"Plant1_G2\", \"Plant1_G2\", \"Plant1_G2\", \"Plant1_G2\", \"Plant1_G2\", \"Plant1_G2\", \"Plant1_G2\", \"Plant1_G2\", \"Plant1_G2\", \"Plant1_G2\"], \"y\": [12.0, 12.0, 12.0, 12.0, 12.0, 12.0, 7.423948940005294, 7.50684111921876, 7.511352456341206, 7.301163703387114, 7.101325267741275, 6.69088626932229, 6.711580246056264, 6.73245475764045, 3.3084000559181597, 3.318640297904472, 6.7958698492910194, 6.817363258352602, 3.349970455628269, 12.0, 12.0, 12.0, 12.0, 12.0, 12.0, 12.0, 12.0, 12.0, 12.0, 12.0, 12.0, 12.0, 12.0, 12.0, 12.0, 12.0, 12.0, 12.0, 12.0, 12.0, 12.0, 12.0, 12.0, 12.0, 12.0, 12.0, 12.0, 12.0, 12.0, 12.0, 12.0, 12.0, 12.0, 12.0, 12.0, 12.0, 12.0, 12.0, 12.0, 12.0, 12.0, 12.0, 12.0, 12.0, 12.0, 2.520023818012075, 2.298547366472576, 1.8227848101265824, 12.0, 12.0, 12.0, 12.0]}, {\"mode\": \"markers\", \"showlegend\": false, \"type\": \"scatter\", \"x\": [\"Plant2_G1\", \"Plant2_G1\", \"Plant2_G1\", \"Plant2_G1\", \"Plant2_G1\", \"Plant2_G1\", \"Plant2_G1\", \"Plant2_G1\", \"Plant2_G1\", \"Plant2_G1\", \"Plant2_G1\", \"Plant2_G1\", \"Plant2_G1\", \"Plant2_G1\", \"Plant2_G1\", \"Plant2_G1\", \"Plant2_G1\", \"Plant2_G1\", \"Plant2_G1\", \"Plant2_G1\", \"Plant2_G1\", \"Plant2_G1\", \"Plant2_G1\", \"Plant2_G1\", \"Plant2_G1\", \"Plant2_G1\", \"Plant2_G1\", \"Plant2_G1\", \"Plant2_G1\", \"Plant2_G1\", \"Plant2_G1\", \"Plant2_G1\", \"Plant2_G1\", \"Plant2_G1\", \"Plant2_G1\", \"Plant2_G1\", \"Plant2_G1\", \"Plant2_G1\", \"Plant2_G1\", \"Plant2_G1\", \"Plant2_G1\", \"Plant2_G1\", \"Plant2_G1\", \"Plant2_G1\", \"Plant2_G1\", \"Plant2_G1\", \"Plant2_G1\", \"Plant2_G1\", \"Plant2_G1\", \"Plant2_G1\", \"Plant2_G1\", \"Plant2_G1\", \"Plant2_G1\", \"Plant2_G1\", \"Plant2_G1\", \"Plant2_G1\", \"Plant2_G1\", \"Plant2_G1\", \"Plant2_G1\", \"Plant2_G1\", \"Plant2_G1\", \"Plant2_G1\", \"Plant2_G1\", \"Plant2_G1\", \"Plant2_G1\", \"Plant2_G1\", \"Plant2_G1\", \"Plant2_G1\", \"Plant2_G1\", \"Plant2_G1\", \"Plant2_G1\", \"Plant2_G1\"], \"y\": [2.541176470588236, 2.25, 2.3867403314917133, 2.3867403314917133, 2.293281925874791, 2.541176470588236, 12.0, 12.0, 12.0, 12.0, 12.0, 12.0, 12.0, 12.0, 12.0, 12.0, 12.0, 12.0, 12.0, 4.863030845099581, 2.541176470588236, 2.541176470588236, 2.2268041237113407, 2.107317073170732, 2.107317073170732, 1.88646288209607, 1.88646288209607, 1.88646288209607, 1.88646288209607, 2.107317073170732, 2.2268041237113407, 5.102973775526535, 5.1257500515053644, 5.150001164089271, 2.541176470588236, 2.4997631621793825, 2.5140859406049714, 2.5285465594545444, 2.542502787285889, 2.5566563390382235, 2.5710117458066697, 2.5855736877595734, 2.601107904612233, 2.2268041237113407, 2.2268041237113407, 2.2268041237113407, 1.88646288209607, 1.88646288209607, 1.88646288209607, 1.88646288209607, 1.88646288209607, 1.88646288209607, 1.88646288209607, 1.88646288209607, 2.2268041237113407, 5.780226095500339, 5.820140293394464, 5.86234493426441, 5.905660924413728, 5.947847933525269, 5.99082254805497, 6.034608725534321, 6.079228649296106, 6.124711011422005, 12.0, 12.0, 12.0, 12.0, 6.3450905168390275, 6.39820054023728, 6.452462455836346, 2.0862992516770866]}, {\"mode\": \"markers\", \"showlegend\": false, \"type\": \"scatter\", \"x\": [\"Plant2_G2\", \"Plant2_G2\", \"Plant2_G2\", \"Plant2_G2\", \"Plant2_G2\", \"Plant2_G2\", \"Plant2_G2\", \"Plant2_G2\", \"Plant2_G2\", \"Plant2_G2\", \"Plant2_G2\", \"Plant2_G2\", \"Plant2_G2\", \"Plant2_G2\", \"Plant2_G2\", \"Plant2_G2\", \"Plant2_G2\", \"Plant2_G2\", \"Plant2_G2\", \"Plant2_G2\", \"Plant2_G2\", \"Plant2_G2\", \"Plant2_G2\", \"Plant2_G2\", \"Plant2_G2\", \"Plant2_G2\", \"Plant2_G2\", \"Plant2_G2\", \"Plant2_G2\", \"Plant2_G2\", \"Plant2_G2\", \"Plant2_G2\", \"Plant2_G2\", \"Plant2_G2\", \"Plant2_G2\", \"Plant2_G2\", \"Plant2_G2\", \"Plant2_G2\", \"Plant2_G2\", \"Plant2_G2\", \"Plant2_G2\", \"Plant2_G2\", \"Plant2_G2\", \"Plant2_G2\", \"Plant2_G2\", \"Plant2_G2\", \"Plant2_G2\", \"Plant2_G2\", \"Plant2_G2\", \"Plant2_G2\", \"Plant2_G2\", \"Plant2_G2\", \"Plant2_G2\", \"Plant2_G2\", \"Plant2_G2\", \"Plant2_G2\", \"Plant2_G2\", \"Plant2_G2\", \"Plant2_G2\", \"Plant2_G2\", \"Plant2_G2\", \"Plant2_G2\", \"Plant2_G2\", \"Plant2_G2\", \"Plant2_G2\", \"Plant2_G2\", \"Plant2_G2\", \"Plant2_G2\", \"Plant2_G2\", \"Plant2_G2\", \"Plant2_G2\", \"Plant2_G2\"], \"y\": [12.0, 12.0, 12.0, 12.0, 12.0, 12.0, 2.5142317881849094, 2.5053308721244, 2.502861824383408, 2.5183360153362813, 2.5341025380182742, 2.5501731052765915, 2.5666163513592726, 2.5833881373469683, 12.0, 12.0, 2.6363275341138936, 2.654773788491034, 12.0, 12.0, 12.0, 12.0, 12.0, 12.0, 12.0, 12.0, 12.0, 12.0, 12.0, 12.0, 12.0, 12.0, 12.0, 12.0, 12.0, 12.0, 12.0, 12.0, 12.0, 12.0, 12.0, 12.0, 12.0, 12.0, 12.0, 12.0, 12.0, 12.0, 12.0, 12.0, 12.0, 12.0, 12.0, 12.0, 12.0, 12.0, 12.0, 12.0, 12.0, 12.0, 12.0, 12.0, 12.0, 12.0, 12.0, 12.0, 12.0, 12.0, 12.0, 12.0, 12.0, 8.015823664666343]}, {\"mode\": \"markers\", \"showlegend\": false, \"type\": \"scatter\", \"x\": [\"Plant2_G3\", \"Plant2_G3\", \"Plant2_G3\", \"Plant2_G3\", \"Plant2_G3\", \"Plant2_G3\", \"Plant2_G3\", \"Plant2_G3\", \"Plant2_G3\", \"Plant2_G3\", \"Plant2_G3\", \"Plant2_G3\", \"Plant2_G3\", \"Plant2_G3\", \"Plant2_G3\", \"Plant2_G3\", \"Plant2_G3\", \"Plant2_G3\", \"Plant2_G3\", \"Plant2_G3\", \"Plant2_G3\", \"Plant2_G3\", \"Plant2_G3\", \"Plant2_G3\", \"Plant2_G3\", \"Plant2_G3\", \"Plant2_G3\", \"Plant2_G3\", \"Plant2_G3\", \"Plant2_G3\", \"Plant2_G3\", \"Plant2_G3\", \"Plant2_G3\", \"Plant2_G3\", \"Plant2_G3\", \"Plant2_G3\", \"Plant2_G3\", \"Plant2_G3\", \"Plant2_G3\", \"Plant2_G3\", \"Plant2_G3\", \"Plant2_G3\", \"Plant2_G3\", \"Plant2_G3\", \"Plant2_G3\", \"Plant2_G3\", \"Plant2_G3\", \"Plant2_G3\", \"Plant2_G3\", \"Plant2_G3\", \"Plant2_G3\", \"Plant2_G3\", \"Plant2_G3\", \"Plant2_G3\", \"Plant2_G3\", \"Plant2_G3\", \"Plant2_G3\", \"Plant2_G3\", \"Plant2_G3\", \"Plant2_G3\", \"Plant2_G3\", \"Plant2_G3\", \"Plant2_G3\", \"Plant2_G3\", \"Plant2_G3\", \"Plant2_G3\", \"Plant2_G3\", \"Plant2_G3\", \"Plant2_G3\", \"Plant2_G3\", \"Plant2_G3\", \"Plant2_G3\"], \"y\": [12.0, 12.0, 12.0, 12.0, 12.0, 12.0, 2.51424573613741, 2.5053423766943914, 2.5028714894323127, 2.5183460133128577, 2.534104181682983, 2.550174593174161, 2.566612662013257, 2.5833895403732208, 12.0, 12.0, 2.636327123934086, 2.6547726029944285, 12.0, 12.0, 12.0, 12.0, 12.0, 12.0, 12.0, 12.0, 12.0, 12.0, 12.0, 12.0, 12.0, 12.0, 12.0, 12.0, 12.0, 12.0, 12.0, 12.0, 12.0, 12.0, 12.0, 12.0, 12.0, 12.0, 12.0, 12.0, 12.0, 12.0, 12.0, 12.0, 12.0, 12.0, 12.0, 12.0, 12.0, 12.0, 12.0, 12.0, 12.0, 12.0, 12.0, 12.0, 12.0, 12.0, 12.0, 12.0, 12.0, 12.0, 12.0, 12.0, 12.0, 8.01585761575495]}, {\"mode\": \"markers\", \"showlegend\": false, \"type\": \"scatter\", \"x\": [\"Plant2_G4\", \"Plant2_G4\", \"Plant2_G4\", \"Plant2_G4\", \"Plant2_G4\", \"Plant2_G4\", \"Plant2_G4\", \"Plant2_G4\", \"Plant2_G4\", \"Plant2_G4\", \"Plant2_G4\", \"Plant2_G4\", \"Plant2_G4\", \"Plant2_G4\", \"Plant2_G4\", \"Plant2_G4\", \"Plant2_G4\", \"Plant2_G4\", \"Plant2_G4\", \"Plant2_G4\", \"Plant2_G4\", \"Plant2_G4\", \"Plant2_G4\", \"Plant2_G4\", \"Plant2_G4\", \"Plant2_G4\", \"Plant2_G4\", \"Plant2_G4\", \"Plant2_G4\", \"Plant2_G4\", \"Plant2_G4\", \"Plant2_G4\", \"Plant2_G4\", \"Plant2_G4\", \"Plant2_G4\", \"Plant2_G4\", \"Plant2_G4\", \"Plant2_G4\", \"Plant2_G4\", \"Plant2_G4\", \"Plant2_G4\", \"Plant2_G4\", \"Plant2_G4\", \"Plant2_G4\", \"Plant2_G4\", \"Plant2_G4\", \"Plant2_G4\", \"Plant2_G4\", \"Plant2_G4\", \"Plant2_G4\", \"Plant2_G4\", \"Plant2_G4\", \"Plant2_G4\", \"Plant2_G4\", \"Plant2_G4\", \"Plant2_G4\", \"Plant2_G4\", \"Plant2_G4\", \"Plant2_G4\", \"Plant2_G4\", \"Plant2_G4\", \"Plant2_G4\", \"Plant2_G4\", \"Plant2_G4\", \"Plant2_G4\", \"Plant2_G4\", \"Plant2_G4\", \"Plant2_G4\", \"Plant2_G4\", \"Plant2_G4\", \"Plant2_G4\", \"Plant2_G4\"], \"y\": [12.0, 12.0, 12.0, 12.0, 12.0, 12.0, 2.514127782021858, 2.5052555470144795, 2.5028545099034942, 2.518336751479013, 2.5341038853722266, 2.5501751471334337, 2.566619162986636, 2.583391473419969, 12.0, 12.0, 2.6363318508647104, 2.6547785036586378, 12.0, 12.0, 12.0, 12.0, 12.0, 12.0, 12.0, 12.0, 12.0, 12.0, 12.0, 12.0, 12.0, 12.0, 12.0, 12.0, 12.0, 12.0, 12.0, 12.0, 12.0, 12.0, 12.0, 12.0, 12.0, 12.0, 12.0, 12.0, 12.0, 12.0, 12.0, 12.0, 12.0, 12.0, 12.0, 12.0, 12.0, 12.0, 12.0, 12.0, 12.0, 12.0, 12.0, 12.0, 12.0, 12.0, 12.0, 12.0, 12.0, 12.0, 12.0, 12.0, 12.0, 12.0]}],                        {\"template\": {\"data\": {\"bar\": [{\"error_x\": {\"color\": \"#2a3f5f\"}, \"error_y\": {\"color\": \"#2a3f5f\"}, \"marker\": {\"line\": {\"color\": \"#E5ECF6\", \"width\": 0.5}}, \"type\": \"bar\"}], \"barpolar\": [{\"marker\": {\"line\": {\"color\": \"#E5ECF6\", \"width\": 0.5}}, \"type\": \"barpolar\"}], \"carpet\": [{\"aaxis\": {\"endlinecolor\": \"#2a3f5f\", \"gridcolor\": \"white\", \"linecolor\": \"white\", \"minorgridcolor\": \"white\", \"startlinecolor\": \"#2a3f5f\"}, \"baxis\": {\"endlinecolor\": \"#2a3f5f\", \"gridcolor\": \"white\", \"linecolor\": \"white\", \"minorgridcolor\": \"white\", \"startlinecolor\": \"#2a3f5f\"}, \"type\": \"carpet\"}], \"choropleth\": [{\"colorbar\": {\"outlinewidth\": 0, \"ticks\": \"\"}, \"type\": \"choropleth\"}], \"contour\": [{\"colorbar\": {\"outlinewidth\": 0, \"ticks\": \"\"}, \"colorscale\": [[0.0, \"#0d0887\"], [0.1111111111111111, \"#46039f\"], [0.2222222222222222, \"#7201a8\"], [0.3333333333333333, \"#9c179e\"], [0.4444444444444444, \"#bd3786\"], [0.5555555555555556, \"#d8576b\"], [0.6666666666666666, \"#ed7953\"], [0.7777777777777778, \"#fb9f3a\"], [0.8888888888888888, \"#fdca26\"], [1.0, \"#f0f921\"]], \"type\": \"contour\"}], \"contourcarpet\": [{\"colorbar\": {\"outlinewidth\": 0, \"ticks\": \"\"}, \"type\": \"contourcarpet\"}], \"heatmap\": [{\"colorbar\": {\"outlinewidth\": 0, \"ticks\": \"\"}, \"colorscale\": [[0.0, \"#0d0887\"], [0.1111111111111111, \"#46039f\"], [0.2222222222222222, \"#7201a8\"], [0.3333333333333333, \"#9c179e\"], [0.4444444444444444, \"#bd3786\"], [0.5555555555555556, \"#d8576b\"], [0.6666666666666666, \"#ed7953\"], [0.7777777777777778, \"#fb9f3a\"], [0.8888888888888888, \"#fdca26\"], [1.0, \"#f0f921\"]], \"type\": \"heatmap\"}], \"heatmapgl\": [{\"colorbar\": {\"outlinewidth\": 0, \"ticks\": \"\"}, \"colorscale\": [[0.0, \"#0d0887\"], [0.1111111111111111, \"#46039f\"], [0.2222222222222222, \"#7201a8\"], [0.3333333333333333, \"#9c179e\"], [0.4444444444444444, \"#bd3786\"], [0.5555555555555556, \"#d8576b\"], [0.6666666666666666, \"#ed7953\"], [0.7777777777777778, \"#fb9f3a\"], [0.8888888888888888, \"#fdca26\"], [1.0, \"#f0f921\"]], \"type\": \"heatmapgl\"}], \"histogram\": [{\"marker\": {\"colorbar\": {\"outlinewidth\": 0, \"ticks\": \"\"}}, \"type\": \"histogram\"}], \"histogram2d\": [{\"colorbar\": {\"outlinewidth\": 0, \"ticks\": \"\"}, \"colorscale\": [[0.0, \"#0d0887\"], [0.1111111111111111, \"#46039f\"], [0.2222222222222222, \"#7201a8\"], [0.3333333333333333, \"#9c179e\"], [0.4444444444444444, \"#bd3786\"], [0.5555555555555556, \"#d8576b\"], [0.6666666666666666, \"#ed7953\"], [0.7777777777777778, \"#fb9f3a\"], [0.8888888888888888, \"#fdca26\"], [1.0, \"#f0f921\"]], \"type\": \"histogram2d\"}], \"histogram2dcontour\": [{\"colorbar\": {\"outlinewidth\": 0, \"ticks\": \"\"}, \"colorscale\": [[0.0, \"#0d0887\"], [0.1111111111111111, \"#46039f\"], [0.2222222222222222, \"#7201a8\"], [0.3333333333333333, \"#9c179e\"], [0.4444444444444444, \"#bd3786\"], [0.5555555555555556, \"#d8576b\"], [0.6666666666666666, \"#ed7953\"], [0.7777777777777778, \"#fb9f3a\"], [0.8888888888888888, \"#fdca26\"], [1.0, \"#f0f921\"]], \"type\": \"histogram2dcontour\"}], \"mesh3d\": [{\"colorbar\": {\"outlinewidth\": 0, \"ticks\": \"\"}, \"type\": \"mesh3d\"}], \"parcoords\": [{\"line\": {\"colorbar\": {\"outlinewidth\": 0, \"ticks\": \"\"}}, \"type\": \"parcoords\"}], \"pie\": [{\"automargin\": true, \"type\": \"pie\"}], \"scatter\": [{\"marker\": {\"colorbar\": {\"outlinewidth\": 0, \"ticks\": \"\"}}, \"type\": \"scatter\"}], \"scatter3d\": [{\"line\": {\"colorbar\": {\"outlinewidth\": 0, \"ticks\": \"\"}}, \"marker\": {\"colorbar\": {\"outlinewidth\": 0, \"ticks\": \"\"}}, \"type\": \"scatter3d\"}], \"scattercarpet\": [{\"marker\": {\"colorbar\": {\"outlinewidth\": 0, \"ticks\": \"\"}}, \"type\": \"scattercarpet\"}], \"scattergeo\": [{\"marker\": {\"colorbar\": {\"outlinewidth\": 0, \"ticks\": \"\"}}, \"type\": \"scattergeo\"}], \"scattergl\": [{\"marker\": {\"colorbar\": {\"outlinewidth\": 0, \"ticks\": \"\"}}, \"type\": \"scattergl\"}], \"scattermapbox\": [{\"marker\": {\"colorbar\": {\"outlinewidth\": 0, \"ticks\": \"\"}}, \"type\": \"scattermapbox\"}], \"scatterpolar\": [{\"marker\": {\"colorbar\": {\"outlinewidth\": 0, \"ticks\": \"\"}}, \"type\": \"scatterpolar\"}], \"scatterpolargl\": [{\"marker\": {\"colorbar\": {\"outlinewidth\": 0, \"ticks\": \"\"}}, \"type\": \"scatterpolargl\"}], \"scatterternary\": [{\"marker\": {\"colorbar\": {\"outlinewidth\": 0, \"ticks\": \"\"}}, \"type\": \"scatterternary\"}], \"surface\": [{\"colorbar\": {\"outlinewidth\": 0, \"ticks\": \"\"}, \"colorscale\": [[0.0, \"#0d0887\"], [0.1111111111111111, \"#46039f\"], [0.2222222222222222, \"#7201a8\"], [0.3333333333333333, \"#9c179e\"], [0.4444444444444444, \"#bd3786\"], [0.5555555555555556, \"#d8576b\"], [0.6666666666666666, \"#ed7953\"], [0.7777777777777778, \"#fb9f3a\"], [0.8888888888888888, \"#fdca26\"], [1.0, \"#f0f921\"]], \"type\": \"surface\"}], \"table\": [{\"cells\": {\"fill\": {\"color\": \"#EBF0F8\"}, \"line\": {\"color\": \"white\"}}, \"header\": {\"fill\": {\"color\": \"#C8D4E3\"}, \"line\": {\"color\": \"white\"}}, \"type\": \"table\"}]}, \"layout\": {\"annotationdefaults\": {\"arrowcolor\": \"#2a3f5f\", \"arrowhead\": 0, \"arrowwidth\": 1}, \"autotypenumbers\": \"strict\", \"coloraxis\": {\"colorbar\": {\"outlinewidth\": 0, \"ticks\": \"\"}}, \"colorscale\": {\"diverging\": [[0, \"#8e0152\"], [0.1, \"#c51b7d\"], [0.2, \"#de77ae\"], [0.3, \"#f1b6da\"], [0.4, \"#fde0ef\"], [0.5, \"#f7f7f7\"], [0.6, \"#e6f5d0\"], [0.7, \"#b8e186\"], [0.8, \"#7fbc41\"], [0.9, \"#4d9221\"], [1, \"#276419\"]], \"sequential\": [[0.0, \"#0d0887\"], [0.1111111111111111, \"#46039f\"], [0.2222222222222222, \"#7201a8\"], [0.3333333333333333, \"#9c179e\"], [0.4444444444444444, \"#bd3786\"], [0.5555555555555556, \"#d8576b\"], [0.6666666666666666, \"#ed7953\"], [0.7777777777777778, \"#fb9f3a\"], [0.8888888888888888, \"#fdca26\"], [1.0, \"#f0f921\"]], \"sequentialminus\": [[0.0, \"#0d0887\"], [0.1111111111111111, \"#46039f\"], [0.2222222222222222, \"#7201a8\"], [0.3333333333333333, \"#9c179e\"], [0.4444444444444444, \"#bd3786\"], [0.5555555555555556, \"#d8576b\"], [0.6666666666666666, \"#ed7953\"], [0.7777777777777778, \"#fb9f3a\"], [0.8888888888888888, \"#fdca26\"], [1.0, \"#f0f921\"]]}, \"colorway\": [\"#636efa\", \"#EF553B\", \"#00cc96\", \"#ab63fa\", \"#FFA15A\", \"#19d3f3\", \"#FF6692\", \"#B6E880\", \"#FF97FF\", \"#FECB52\"], \"font\": {\"color\": \"#2a3f5f\"}, \"geo\": {\"bgcolor\": \"white\", \"lakecolor\": \"white\", \"landcolor\": \"#E5ECF6\", \"showlakes\": true, \"showland\": true, \"subunitcolor\": \"white\"}, \"hoverlabel\": {\"align\": \"left\"}, \"hovermode\": \"closest\", \"mapbox\": {\"style\": \"light\"}, \"paper_bgcolor\": \"white\", \"plot_bgcolor\": \"#E5ECF6\", \"polar\": {\"angularaxis\": {\"gridcolor\": \"white\", \"linecolor\": \"white\", \"ticks\": \"\"}, \"bgcolor\": \"#E5ECF6\", \"radialaxis\": {\"gridcolor\": \"white\", \"linecolor\": \"white\", \"ticks\": \"\"}}, \"scene\": {\"xaxis\": {\"backgroundcolor\": \"#E5ECF6\", \"gridcolor\": \"white\", \"gridwidth\": 2, \"linecolor\": \"white\", \"showbackground\": true, \"ticks\": \"\", \"zerolinecolor\": \"white\"}, \"yaxis\": {\"backgroundcolor\": \"#E5ECF6\", \"gridcolor\": \"white\", \"gridwidth\": 2, \"linecolor\": \"white\", \"showbackground\": true, \"ticks\": \"\", \"zerolinecolor\": \"white\"}, \"zaxis\": {\"backgroundcolor\": \"#E5ECF6\", \"gridcolor\": \"white\", \"gridwidth\": 2, \"linecolor\": \"white\", \"showbackground\": true, \"ticks\": \"\", \"zerolinecolor\": \"white\"}}, \"shapedefaults\": {\"line\": {\"color\": \"#2a3f5f\"}}, \"ternary\": {\"aaxis\": {\"gridcolor\": \"white\", \"linecolor\": \"white\", \"ticks\": \"\"}, \"baxis\": {\"gridcolor\": \"white\", \"linecolor\": \"white\", \"ticks\": \"\"}, \"bgcolor\": \"#E5ECF6\", \"caxis\": {\"gridcolor\": \"white\", \"linecolor\": \"white\", \"ticks\": \"\"}}, \"title\": {\"x\": 0.05}, \"xaxis\": {\"automargin\": true, \"gridcolor\": \"white\", \"linecolor\": \"white\", \"ticks\": \"\", \"title\": {\"standoff\": 15}, \"zerolinecolor\": \"white\", \"zerolinewidth\": 2}, \"yaxis\": {\"automargin\": true, \"gridcolor\": \"white\", \"linecolor\": \"white\", \"ticks\": \"\", \"title\": {\"standoff\": 15}, \"zerolinecolor\": \"white\", \"zerolinewidth\": 2}}}, \"title\": {\"text\": \"Droop values before fixing\"}, \"xaxis\": {\"title\": {\"text\": \"Generator\"}}, \"yaxis\": {\"title\": {\"text\": \"Droop [%]\"}}},                        {\"responsive\": true}                    ).then(function(){\n",
       "                            \n",
       "var gd = document.getElementById('a13ab9fb-6a89-413e-9feb-5eedc7ec5098');\n",
       "var x = new MutationObserver(function (mutations, observer) {{\n",
       "        var display = window.getComputedStyle(gd).display;\n",
       "        if (!display || display === 'none') {{\n",
       "            console.log([gd, 'removed!']);\n",
       "            Plotly.purge(gd);\n",
       "            observer.disconnect();\n",
       "        }}\n",
       "}});\n",
       "\n",
       "// Listen for the removal of the full notebook cells\n",
       "var notebookContainer = gd.closest('#notebook-container');\n",
       "if (notebookContainer) {{\n",
       "    x.observe(notebookContainer, {childList: true});\n",
       "}}\n",
       "\n",
       "// Listen for the clearing of the current output cell\n",
       "var outputEl = gd.closest('.output');\n",
       "if (outputEl) {{\n",
       "    x.observe(outputEl, {childList: true});\n",
       "}}\n",
       "\n",
       "                        })                };                });            </script>        </div>"
      ]
     },
     "metadata": {}
    },
    {
     "output_type": "display_data",
     "data": {
      "application/vnd.plotly.v1+json": {
       "config": {
        "plotlyServerURL": "https://plot.ly"
       },
       "data": [
        {
         "line": {
          "color": "black",
          "dash": "dash",
          "width": 0.5
         },
         "mode": "lines",
         "showlegend": false,
         "type": "scatter",
         "x": [
          "Plant1_G1",
          "Plant1_G2",
          "Plant2_G1",
          "Plant2_G2",
          "Plant2_G3",
          "Plant2_G4"
         ],
         "y": [
          1,
          1,
          1,
          1,
          1,
          1
         ]
        },
        {
         "line": {
          "color": "black",
          "dash": "dash",
          "width": 0.5
         },
         "mode": "lines",
         "showlegend": false,
         "type": "scatter",
         "x": [
          "Plant1_G1",
          "Plant1_G2",
          "Plant2_G1",
          "Plant2_G2",
          "Plant2_G3",
          "Plant2_G4"
         ],
         "y": [
          2,
          2,
          2,
          2,
          2,
          2
         ]
        },
        {
         "line": {
          "color": "black",
          "dash": "dash",
          "width": 0.5
         },
         "mode": "lines",
         "showlegend": false,
         "type": "scatter",
         "x": [
          "Plant1_G1",
          "Plant1_G2",
          "Plant2_G1",
          "Plant2_G2",
          "Plant2_G3",
          "Plant2_G4"
         ],
         "y": [
          3,
          3,
          3,
          3,
          3,
          3
         ]
        },
        {
         "line": {
          "color": "black",
          "dash": "dash",
          "width": 0.5
         },
         "mode": "lines",
         "showlegend": false,
         "type": "scatter",
         "x": [
          "Plant1_G1",
          "Plant1_G2",
          "Plant2_G1",
          "Plant2_G2",
          "Plant2_G3",
          "Plant2_G4"
         ],
         "y": [
          4,
          4,
          4,
          4,
          4,
          4
         ]
        },
        {
         "line": {
          "color": "black",
          "dash": "dash",
          "width": 0.5
         },
         "mode": "lines",
         "showlegend": false,
         "type": "scatter",
         "x": [
          "Plant1_G1",
          "Plant1_G2",
          "Plant2_G1",
          "Plant2_G2",
          "Plant2_G3",
          "Plant2_G4"
         ],
         "y": [
          5,
          5,
          5,
          5,
          5,
          5
         ]
        },
        {
         "line": {
          "color": "black",
          "dash": "dash",
          "width": 0.5
         },
         "mode": "lines",
         "showlegend": false,
         "type": "scatter",
         "x": [
          "Plant1_G1",
          "Plant1_G2",
          "Plant2_G1",
          "Plant2_G2",
          "Plant2_G3",
          "Plant2_G4"
         ],
         "y": [
          6,
          6,
          6,
          6,
          6,
          6
         ]
        },
        {
         "line": {
          "color": "black",
          "dash": "dash",
          "width": 0.5
         },
         "mode": "lines",
         "showlegend": false,
         "type": "scatter",
         "x": [
          "Plant1_G1",
          "Plant1_G2",
          "Plant2_G1",
          "Plant2_G2",
          "Plant2_G3",
          "Plant2_G4"
         ],
         "y": [
          7,
          7,
          7,
          7,
          7,
          7
         ]
        },
        {
         "line": {
          "color": "black",
          "dash": "dash",
          "width": 0.5
         },
         "mode": "lines",
         "showlegend": false,
         "type": "scatter",
         "x": [
          "Plant1_G1",
          "Plant1_G2",
          "Plant2_G1",
          "Plant2_G2",
          "Plant2_G3",
          "Plant2_G4"
         ],
         "y": [
          8,
          8,
          8,
          8,
          8,
          8
         ]
        },
        {
         "line": {
          "color": "black",
          "dash": "dash",
          "width": 0.5
         },
         "mode": "lines",
         "showlegend": false,
         "type": "scatter",
         "x": [
          "Plant1_G1",
          "Plant1_G2",
          "Plant2_G1",
          "Plant2_G2",
          "Plant2_G3",
          "Plant2_G4"
         ],
         "y": [
          9,
          9,
          9,
          9,
          9,
          9
         ]
        },
        {
         "line": {
          "color": "black",
          "dash": "dash",
          "width": 0.5
         },
         "mode": "lines",
         "showlegend": false,
         "type": "scatter",
         "x": [
          "Plant1_G1",
          "Plant1_G2",
          "Plant2_G1",
          "Plant2_G2",
          "Plant2_G3",
          "Plant2_G4"
         ],
         "y": [
          10,
          10,
          10,
          10,
          10,
          10
         ]
        },
        {
         "line": {
          "color": "black",
          "dash": "dash",
          "width": 0.5
         },
         "mode": "lines",
         "showlegend": false,
         "type": "scatter",
         "x": [
          "Plant1_G1",
          "Plant1_G2",
          "Plant2_G1",
          "Plant2_G2",
          "Plant2_G3",
          "Plant2_G4"
         ],
         "y": [
          11,
          11,
          11,
          11,
          11,
          11
         ]
        },
        {
         "line": {
          "color": "black",
          "dash": "dash",
          "width": 0.5
         },
         "mode": "lines",
         "showlegend": false,
         "type": "scatter",
         "x": [
          "Plant1_G1",
          "Plant1_G2",
          "Plant2_G1",
          "Plant2_G2",
          "Plant2_G3",
          "Plant2_G4"
         ],
         "y": [
          12,
          12,
          12,
          12,
          12,
          12
         ]
        },
        {
         "line": {
          "color": "red",
          "dash": "dash",
          "width": 0.5
         },
         "mode": "lines",
         "showlegend": false,
         "type": "scatter",
         "x": [
          "Plant2_G1",
          "Plant2_G4"
         ],
         "y": [
          1.5,
          1.5
         ]
        },
        {
         "line": {
          "color": "red",
          "dash": "dash",
          "width": 0.5
         },
         "mode": "lines",
         "showlegend": false,
         "type": "scatter",
         "x": [
          "Plant2_G1",
          "Plant2_G4"
         ],
         "y": [
          2.5,
          2.5
         ]
        },
        {
         "line": {
          "color": "red",
          "dash": "dash",
          "width": 0.5
         },
         "mode": "lines",
         "showlegend": false,
         "type": "scatter",
         "x": [
          "Plant2_G1",
          "Plant2_G4"
         ],
         "y": [
          3.5,
          3.5
         ]
        },
        {
         "line": {
          "color": "red",
          "dash": "dash",
          "width": 0.5
         },
         "mode": "lines",
         "showlegend": false,
         "type": "scatter",
         "x": [
          "Plant2_G1",
          "Plant2_G4"
         ],
         "y": [
          4.5,
          4.5
         ]
        },
        {
         "line": {
          "color": "red",
          "dash": "dash",
          "width": 0.5
         },
         "mode": "lines",
         "showlegend": false,
         "type": "scatter",
         "x": [
          "Plant2_G1",
          "Plant2_G4"
         ],
         "y": [
          5.5,
          5.5
         ]
        },
        {
         "line": {
          "color": "red",
          "dash": "dash",
          "width": 0.5
         },
         "mode": "lines",
         "showlegend": false,
         "type": "scatter",
         "x": [
          "Plant2_G1",
          "Plant2_G4"
         ],
         "y": [
          6.5,
          6.5
         ]
        },
        {
         "line": {
          "color": "red",
          "dash": "dash",
          "width": 0.5
         },
         "mode": "lines",
         "showlegend": false,
         "type": "scatter",
         "x": [
          "Plant2_G1",
          "Plant2_G4"
         ],
         "y": [
          7.5,
          7.5
         ]
        },
        {
         "line": {
          "color": "red",
          "dash": "dash",
          "width": 0.5
         },
         "mode": "lines",
         "showlegend": false,
         "type": "scatter",
         "x": [
          "Plant2_G1",
          "Plant2_G4"
         ],
         "y": [
          8.5,
          8.5
         ]
        },
        {
         "line": {
          "color": "red",
          "dash": "dash",
          "width": 0.5
         },
         "mode": "lines",
         "showlegend": false,
         "type": "scatter",
         "x": [
          "Plant2_G1",
          "Plant2_G4"
         ],
         "y": [
          9.5,
          9.5
         ]
        },
        {
         "line": {
          "color": "red",
          "dash": "dash",
          "width": 0.5
         },
         "mode": "lines",
         "showlegend": false,
         "type": "scatter",
         "x": [
          "Plant2_G1",
          "Plant2_G4"
         ],
         "y": [
          10.5,
          10.5
         ]
        },
        {
         "line": {
          "color": "red",
          "dash": "dash",
          "width": 0.5
         },
         "mode": "lines",
         "showlegend": false,
         "type": "scatter",
         "x": [
          "Plant2_G1",
          "Plant2_G4"
         ],
         "y": [
          11.5,
          11.5
         ]
        },
        {
         "mode": "markers",
         "showlegend": false,
         "type": "scatter",
         "x": [
          "Plant1_G1",
          "Plant1_G1",
          "Plant1_G1",
          "Plant1_G1",
          "Plant1_G1",
          "Plant1_G1",
          "Plant1_G1",
          "Plant1_G1",
          "Plant1_G1",
          "Plant1_G1",
          "Plant1_G1",
          "Plant1_G1",
          "Plant1_G1",
          "Plant1_G1",
          "Plant1_G1",
          "Plant1_G1",
          "Plant1_G1",
          "Plant1_G1",
          "Plant1_G1",
          "Plant1_G1",
          "Plant1_G1",
          "Plant1_G1",
          "Plant1_G1",
          "Plant1_G1",
          "Plant1_G1",
          "Plant1_G1",
          "Plant1_G1",
          "Plant1_G1",
          "Plant1_G1",
          "Plant1_G1",
          "Plant1_G1",
          "Plant1_G1",
          "Plant1_G1",
          "Plant1_G1",
          "Plant1_G1",
          "Plant1_G1",
          "Plant1_G1",
          "Plant1_G1",
          "Plant1_G1",
          "Plant1_G1",
          "Plant1_G1",
          "Plant1_G1",
          "Plant1_G1",
          "Plant1_G1",
          "Plant1_G1",
          "Plant1_G1",
          "Plant1_G1",
          "Plant1_G1",
          "Plant1_G1",
          "Plant1_G1",
          "Plant1_G1",
          "Plant1_G1",
          "Plant1_G1",
          "Plant1_G1",
          "Plant1_G1",
          "Plant1_G1",
          "Plant1_G1",
          "Plant1_G1",
          "Plant1_G1",
          "Plant1_G1",
          "Plant1_G1",
          "Plant1_G1",
          "Plant1_G1",
          "Plant1_G1",
          "Plant1_G1",
          "Plant1_G1",
          "Plant1_G1",
          "Plant1_G1",
          "Plant1_G1",
          "Plant1_G1",
          "Plant1_G1",
          "Plant1_G1"
         ],
         "y": [
          12,
          12,
          12,
          12,
          12,
          12,
          12,
          7.419112249343129,
          7.546831432698322,
          7.907267839534729,
          8.303797575358336,
          6.890689375402829,
          7.474960585009371,
          6.705377724543751,
          3.4460940165258434,
          3.4364903103283297,
          6.056992537620256,
          5.909534533291744,
          3.3363955838976276,
          3.0422688950436765,
          12,
          12,
          12,
          12,
          12,
          12,
          12,
          12,
          12,
          12,
          12,
          2,
          2,
          2,
          12,
          12,
          6.3716814159292054,
          6.3716814159292054,
          6.3716814159292054,
          6.3716814159292054,
          6.3716814159292054,
          6.3716814159292054,
          6.371681415929205,
          12,
          12,
          12,
          12,
          12,
          12,
          12,
          12,
          12,
          12,
          12,
          12,
          2,
          2,
          1,
          1,
          1,
          1,
          1,
          1,
          1,
          1,
          2,
          2,
          12,
          1,
          1,
          1,
          12
         ]
        },
        {
         "mode": "markers",
         "showlegend": false,
         "type": "scatter",
         "x": [
          "Plant1_G2",
          "Plant1_G2",
          "Plant1_G2",
          "Plant1_G2",
          "Plant1_G2",
          "Plant1_G2",
          "Plant1_G2",
          "Plant1_G2",
          "Plant1_G2",
          "Plant1_G2",
          "Plant1_G2",
          "Plant1_G2",
          "Plant1_G2",
          "Plant1_G2",
          "Plant1_G2",
          "Plant1_G2",
          "Plant1_G2",
          "Plant1_G2",
          "Plant1_G2",
          "Plant1_G2",
          "Plant1_G2",
          "Plant1_G2",
          "Plant1_G2",
          "Plant1_G2",
          "Plant1_G2",
          "Plant1_G2",
          "Plant1_G2",
          "Plant1_G2",
          "Plant1_G2",
          "Plant1_G2",
          "Plant1_G2",
          "Plant1_G2",
          "Plant1_G2",
          "Plant1_G2",
          "Plant1_G2",
          "Plant1_G2",
          "Plant1_G2",
          "Plant1_G2",
          "Plant1_G2",
          "Plant1_G2",
          "Plant1_G2",
          "Plant1_G2",
          "Plant1_G2",
          "Plant1_G2",
          "Plant1_G2",
          "Plant1_G2",
          "Plant1_G2",
          "Plant1_G2",
          "Plant1_G2",
          "Plant1_G2",
          "Plant1_G2",
          "Plant1_G2",
          "Plant1_G2",
          "Plant1_G2",
          "Plant1_G2",
          "Plant1_G2",
          "Plant1_G2",
          "Plant1_G2",
          "Plant1_G2",
          "Plant1_G2",
          "Plant1_G2",
          "Plant1_G2",
          "Plant1_G2",
          "Plant1_G2",
          "Plant1_G2",
          "Plant1_G2",
          "Plant1_G2",
          "Plant1_G2",
          "Plant1_G2",
          "Plant1_G2",
          "Plant1_G2",
          "Plant1_G2"
         ],
         "y": [
          12,
          12,
          12,
          12,
          12,
          12,
          12,
          7.50281081467048,
          7.505269116868913,
          7.290222950976218,
          7.085655649420231,
          8.741413374567735,
          6.686576451337776,
          6.705378349918204,
          3.2941723159087735,
          3.3029960209800433,
          6.7606505864177295,
          6.681458729411183,
          3.330487630239743,
          12,
          12,
          12,
          12,
          12,
          12,
          12,
          12,
          12,
          12,
          12,
          12,
          12,
          12,
          12,
          12,
          12,
          12,
          12,
          12,
          12,
          12,
          12,
          12,
          12,
          12,
          12,
          12,
          12,
          12,
          12,
          12,
          12,
          12,
          12,
          12,
          12,
          12,
          12,
          12,
          12,
          12,
          12,
          12,
          12,
          12,
          2,
          2,
          1,
          12,
          12,
          12,
          12
         ]
        },
        {
         "mode": "markers",
         "showlegend": false,
         "type": "scatter",
         "x": [
          "Plant2_G1",
          "Plant2_G1",
          "Plant2_G1",
          "Plant2_G1",
          "Plant2_G1",
          "Plant2_G1",
          "Plant2_G1",
          "Plant2_G1",
          "Plant2_G1",
          "Plant2_G1",
          "Plant2_G1",
          "Plant2_G1",
          "Plant2_G1",
          "Plant2_G1",
          "Plant2_G1",
          "Plant2_G1",
          "Plant2_G1",
          "Plant2_G1",
          "Plant2_G1",
          "Plant2_G1",
          "Plant2_G1",
          "Plant2_G1",
          "Plant2_G1",
          "Plant2_G1",
          "Plant2_G1",
          "Plant2_G1",
          "Plant2_G1",
          "Plant2_G1",
          "Plant2_G1",
          "Plant2_G1",
          "Plant2_G1",
          "Plant2_G1",
          "Plant2_G1",
          "Plant2_G1",
          "Plant2_G1",
          "Plant2_G1",
          "Plant2_G1",
          "Plant2_G1",
          "Plant2_G1",
          "Plant2_G1",
          "Plant2_G1",
          "Plant2_G1",
          "Plant2_G1",
          "Plant2_G1",
          "Plant2_G1",
          "Plant2_G1",
          "Plant2_G1",
          "Plant2_G1",
          "Plant2_G1",
          "Plant2_G1",
          "Plant2_G1",
          "Plant2_G1",
          "Plant2_G1",
          "Plant2_G1",
          "Plant2_G1",
          "Plant2_G1",
          "Plant2_G1",
          "Plant2_G1",
          "Plant2_G1",
          "Plant2_G1",
          "Plant2_G1",
          "Plant2_G1",
          "Plant2_G1",
          "Plant2_G1",
          "Plant2_G1",
          "Plant2_G1",
          "Plant2_G1",
          "Plant2_G1",
          "Plant2_G1",
          "Plant2_G1",
          "Plant2_G1",
          "Plant2_G1"
         ],
         "y": [
          2.5,
          2,
          2,
          2,
          2,
          2.5,
          12,
          12,
          12,
          12,
          12,
          12,
          12,
          12,
          12,
          12,
          12,
          12,
          12,
          4.890539551748075,
          2.5,
          2.5,
          2,
          2,
          2,
          1.5,
          1.5,
          1.5,
          1.5,
          2,
          2,
          7.011578383290746,
          6.97289441765733,
          6.934646244875366,
          2.5,
          2,
          2.5,
          2.5,
          2.5,
          2.5,
          2.5,
          2.5,
          2.5,
          2,
          2,
          2,
          1.5,
          1.5,
          1.5,
          1.5,
          1.5,
          1.5,
          1.5,
          1.5,
          2,
          5.83783783783784,
          5.83783783783784,
          6.499442838327297,
          6.482450643310501,
          6.46554934215542,
          6.4487382079582805,
          12,
          12,
          6.3988386534208015,
          12,
          12,
          12,
          12,
          12,
          12,
          12,
          2
         ]
        },
        {
         "mode": "markers",
         "showlegend": false,
         "type": "scatter",
         "x": [
          "Plant2_G2",
          "Plant2_G2",
          "Plant2_G2",
          "Plant2_G2",
          "Plant2_G2",
          "Plant2_G2",
          "Plant2_G2",
          "Plant2_G2",
          "Plant2_G2",
          "Plant2_G2",
          "Plant2_G2",
          "Plant2_G2",
          "Plant2_G2",
          "Plant2_G2",
          "Plant2_G2",
          "Plant2_G2",
          "Plant2_G2",
          "Plant2_G2",
          "Plant2_G2",
          "Plant2_G2",
          "Plant2_G2",
          "Plant2_G2",
          "Plant2_G2",
          "Plant2_G2",
          "Plant2_G2",
          "Plant2_G2",
          "Plant2_G2",
          "Plant2_G2",
          "Plant2_G2",
          "Plant2_G2",
          "Plant2_G2",
          "Plant2_G2",
          "Plant2_G2",
          "Plant2_G2",
          "Plant2_G2",
          "Plant2_G2",
          "Plant2_G2",
          "Plant2_G2",
          "Plant2_G2",
          "Plant2_G2",
          "Plant2_G2",
          "Plant2_G2",
          "Plant2_G2",
          "Plant2_G2",
          "Plant2_G2",
          "Plant2_G2",
          "Plant2_G2",
          "Plant2_G2",
          "Plant2_G2",
          "Plant2_G2",
          "Plant2_G2",
          "Plant2_G2",
          "Plant2_G2",
          "Plant2_G2",
          "Plant2_G2",
          "Plant2_G2",
          "Plant2_G2",
          "Plant2_G2",
          "Plant2_G2",
          "Plant2_G2",
          "Plant2_G2",
          "Plant2_G2",
          "Plant2_G2",
          "Plant2_G2",
          "Plant2_G2",
          "Plant2_G2",
          "Plant2_G2",
          "Plant2_G2",
          "Plant2_G2",
          "Plant2_G2",
          "Plant2_G2",
          "Plant2_G2"
         ],
         "y": [
          12,
          12,
          12,
          12,
          12,
          12,
          2.5,
          2.5,
          2.5,
          2.5,
          2.5,
          2.5,
          2.5,
          2.5,
          12,
          12,
          2.5,
          2.5,
          12,
          12,
          12,
          12,
          12,
          12,
          12,
          12,
          12,
          12,
          12,
          12,
          12,
          12,
          12,
          12,
          12,
          12,
          12,
          12,
          12,
          12,
          12,
          12,
          12,
          12,
          12,
          12,
          12,
          12,
          12,
          12,
          12,
          12,
          12,
          12,
          12,
          12,
          12,
          12,
          12,
          12,
          12,
          12,
          12,
          12,
          12,
          12,
          12,
          12,
          12,
          12,
          12,
          12
         ]
        },
        {
         "mode": "markers",
         "showlegend": false,
         "type": "scatter",
         "x": [
          "Plant2_G3",
          "Plant2_G3",
          "Plant2_G3",
          "Plant2_G3",
          "Plant2_G3",
          "Plant2_G3",
          "Plant2_G3",
          "Plant2_G3",
          "Plant2_G3",
          "Plant2_G3",
          "Plant2_G3",
          "Plant2_G3",
          "Plant2_G3",
          "Plant2_G3",
          "Plant2_G3",
          "Plant2_G3",
          "Plant2_G3",
          "Plant2_G3",
          "Plant2_G3",
          "Plant2_G3",
          "Plant2_G3",
          "Plant2_G3",
          "Plant2_G3",
          "Plant2_G3",
          "Plant2_G3",
          "Plant2_G3",
          "Plant2_G3",
          "Plant2_G3",
          "Plant2_G3",
          "Plant2_G3",
          "Plant2_G3",
          "Plant2_G3",
          "Plant2_G3",
          "Plant2_G3",
          "Plant2_G3",
          "Plant2_G3",
          "Plant2_G3",
          "Plant2_G3",
          "Plant2_G3",
          "Plant2_G3",
          "Plant2_G3",
          "Plant2_G3",
          "Plant2_G3",
          "Plant2_G3",
          "Plant2_G3",
          "Plant2_G3",
          "Plant2_G3",
          "Plant2_G3",
          "Plant2_G3",
          "Plant2_G3",
          "Plant2_G3",
          "Plant2_G3",
          "Plant2_G3",
          "Plant2_G3",
          "Plant2_G3",
          "Plant2_G3",
          "Plant2_G3",
          "Plant2_G3",
          "Plant2_G3",
          "Plant2_G3",
          "Plant2_G3",
          "Plant2_G3",
          "Plant2_G3",
          "Plant2_G3",
          "Plant2_G3",
          "Plant2_G3",
          "Plant2_G3",
          "Plant2_G3",
          "Plant2_G3",
          "Plant2_G3",
          "Plant2_G3",
          "Plant2_G3"
         ],
         "y": [
          12,
          12,
          12,
          12,
          12,
          12,
          2.5,
          2.5,
          2.5,
          2.5,
          2.5,
          2.5,
          2.5,
          2.5,
          12,
          12,
          2.5,
          2.5,
          12,
          12,
          12,
          12,
          12,
          12,
          12,
          12,
          12,
          12,
          12,
          12,
          12,
          12,
          12,
          12,
          12,
          12,
          12,
          12,
          12,
          12,
          12,
          12,
          12,
          12,
          12,
          12,
          12,
          12,
          12,
          12,
          12,
          12,
          12,
          12,
          12,
          12,
          12,
          12,
          12,
          12,
          12,
          12,
          12,
          12,
          12,
          12,
          12,
          12,
          12,
          12,
          12,
          10.153846153846153
         ]
        },
        {
         "mode": "markers",
         "showlegend": false,
         "type": "scatter",
         "x": [
          "Plant2_G4",
          "Plant2_G4",
          "Plant2_G4",
          "Plant2_G4",
          "Plant2_G4",
          "Plant2_G4",
          "Plant2_G4",
          "Plant2_G4",
          "Plant2_G4",
          "Plant2_G4",
          "Plant2_G4",
          "Plant2_G4",
          "Plant2_G4",
          "Plant2_G4",
          "Plant2_G4",
          "Plant2_G4",
          "Plant2_G4",
          "Plant2_G4",
          "Plant2_G4",
          "Plant2_G4",
          "Plant2_G4",
          "Plant2_G4",
          "Plant2_G4",
          "Plant2_G4",
          "Plant2_G4",
          "Plant2_G4",
          "Plant2_G4",
          "Plant2_G4",
          "Plant2_G4",
          "Plant2_G4",
          "Plant2_G4",
          "Plant2_G4",
          "Plant2_G4",
          "Plant2_G4",
          "Plant2_G4",
          "Plant2_G4",
          "Plant2_G4",
          "Plant2_G4",
          "Plant2_G4",
          "Plant2_G4",
          "Plant2_G4",
          "Plant2_G4",
          "Plant2_G4",
          "Plant2_G4",
          "Plant2_G4",
          "Plant2_G4",
          "Plant2_G4",
          "Plant2_G4",
          "Plant2_G4",
          "Plant2_G4",
          "Plant2_G4",
          "Plant2_G4",
          "Plant2_G4",
          "Plant2_G4",
          "Plant2_G4",
          "Plant2_G4",
          "Plant2_G4",
          "Plant2_G4",
          "Plant2_G4",
          "Plant2_G4",
          "Plant2_G4",
          "Plant2_G4",
          "Plant2_G4",
          "Plant2_G4",
          "Plant2_G4",
          "Plant2_G4",
          "Plant2_G4",
          "Plant2_G4",
          "Plant2_G4",
          "Plant2_G4",
          "Plant2_G4",
          "Plant2_G4"
         ],
         "y": [
          12,
          12,
          12,
          12,
          12,
          12,
          2.5,
          2.5,
          2.5,
          2.5,
          2.5,
          2.5,
          2.5,
          2.5,
          12,
          12,
          2.5,
          2.5,
          12,
          12,
          12,
          12,
          12,
          12,
          12,
          12,
          12,
          12,
          12,
          12,
          12,
          12,
          12,
          12,
          12,
          12,
          12,
          12,
          12,
          12,
          12,
          12,
          12,
          12,
          12,
          12,
          12,
          12,
          12,
          12,
          12,
          12,
          12,
          12,
          12,
          12,
          12,
          12,
          12,
          12,
          12,
          12,
          12,
          12,
          12,
          12,
          12,
          12,
          12,
          12,
          12,
          12
         ]
        }
       ],
       "layout": {
        "template": {
         "data": {
          "bar": [
           {
            "error_x": {
             "color": "#2a3f5f"
            },
            "error_y": {
             "color": "#2a3f5f"
            },
            "marker": {
             "line": {
              "color": "#E5ECF6",
              "width": 0.5
             }
            },
            "type": "bar"
           }
          ],
          "barpolar": [
           {
            "marker": {
             "line": {
              "color": "#E5ECF6",
              "width": 0.5
             }
            },
            "type": "barpolar"
           }
          ],
          "carpet": [
           {
            "aaxis": {
             "endlinecolor": "#2a3f5f",
             "gridcolor": "white",
             "linecolor": "white",
             "minorgridcolor": "white",
             "startlinecolor": "#2a3f5f"
            },
            "baxis": {
             "endlinecolor": "#2a3f5f",
             "gridcolor": "white",
             "linecolor": "white",
             "minorgridcolor": "white",
             "startlinecolor": "#2a3f5f"
            },
            "type": "carpet"
           }
          ],
          "choropleth": [
           {
            "colorbar": {
             "outlinewidth": 0,
             "ticks": ""
            },
            "type": "choropleth"
           }
          ],
          "contour": [
           {
            "colorbar": {
             "outlinewidth": 0,
             "ticks": ""
            },
            "colorscale": [
             [
              0,
              "#0d0887"
             ],
             [
              0.1111111111111111,
              "#46039f"
             ],
             [
              0.2222222222222222,
              "#7201a8"
             ],
             [
              0.3333333333333333,
              "#9c179e"
             ],
             [
              0.4444444444444444,
              "#bd3786"
             ],
             [
              0.5555555555555556,
              "#d8576b"
             ],
             [
              0.6666666666666666,
              "#ed7953"
             ],
             [
              0.7777777777777778,
              "#fb9f3a"
             ],
             [
              0.8888888888888888,
              "#fdca26"
             ],
             [
              1,
              "#f0f921"
             ]
            ],
            "type": "contour"
           }
          ],
          "contourcarpet": [
           {
            "colorbar": {
             "outlinewidth": 0,
             "ticks": ""
            },
            "type": "contourcarpet"
           }
          ],
          "heatmap": [
           {
            "colorbar": {
             "outlinewidth": 0,
             "ticks": ""
            },
            "colorscale": [
             [
              0,
              "#0d0887"
             ],
             [
              0.1111111111111111,
              "#46039f"
             ],
             [
              0.2222222222222222,
              "#7201a8"
             ],
             [
              0.3333333333333333,
              "#9c179e"
             ],
             [
              0.4444444444444444,
              "#bd3786"
             ],
             [
              0.5555555555555556,
              "#d8576b"
             ],
             [
              0.6666666666666666,
              "#ed7953"
             ],
             [
              0.7777777777777778,
              "#fb9f3a"
             ],
             [
              0.8888888888888888,
              "#fdca26"
             ],
             [
              1,
              "#f0f921"
             ]
            ],
            "type": "heatmap"
           }
          ],
          "heatmapgl": [
           {
            "colorbar": {
             "outlinewidth": 0,
             "ticks": ""
            },
            "colorscale": [
             [
              0,
              "#0d0887"
             ],
             [
              0.1111111111111111,
              "#46039f"
             ],
             [
              0.2222222222222222,
              "#7201a8"
             ],
             [
              0.3333333333333333,
              "#9c179e"
             ],
             [
              0.4444444444444444,
              "#bd3786"
             ],
             [
              0.5555555555555556,
              "#d8576b"
             ],
             [
              0.6666666666666666,
              "#ed7953"
             ],
             [
              0.7777777777777778,
              "#fb9f3a"
             ],
             [
              0.8888888888888888,
              "#fdca26"
             ],
             [
              1,
              "#f0f921"
             ]
            ],
            "type": "heatmapgl"
           }
          ],
          "histogram": [
           {
            "marker": {
             "colorbar": {
              "outlinewidth": 0,
              "ticks": ""
             }
            },
            "type": "histogram"
           }
          ],
          "histogram2d": [
           {
            "colorbar": {
             "outlinewidth": 0,
             "ticks": ""
            },
            "colorscale": [
             [
              0,
              "#0d0887"
             ],
             [
              0.1111111111111111,
              "#46039f"
             ],
             [
              0.2222222222222222,
              "#7201a8"
             ],
             [
              0.3333333333333333,
              "#9c179e"
             ],
             [
              0.4444444444444444,
              "#bd3786"
             ],
             [
              0.5555555555555556,
              "#d8576b"
             ],
             [
              0.6666666666666666,
              "#ed7953"
             ],
             [
              0.7777777777777778,
              "#fb9f3a"
             ],
             [
              0.8888888888888888,
              "#fdca26"
             ],
             [
              1,
              "#f0f921"
             ]
            ],
            "type": "histogram2d"
           }
          ],
          "histogram2dcontour": [
           {
            "colorbar": {
             "outlinewidth": 0,
             "ticks": ""
            },
            "colorscale": [
             [
              0,
              "#0d0887"
             ],
             [
              0.1111111111111111,
              "#46039f"
             ],
             [
              0.2222222222222222,
              "#7201a8"
             ],
             [
              0.3333333333333333,
              "#9c179e"
             ],
             [
              0.4444444444444444,
              "#bd3786"
             ],
             [
              0.5555555555555556,
              "#d8576b"
             ],
             [
              0.6666666666666666,
              "#ed7953"
             ],
             [
              0.7777777777777778,
              "#fb9f3a"
             ],
             [
              0.8888888888888888,
              "#fdca26"
             ],
             [
              1,
              "#f0f921"
             ]
            ],
            "type": "histogram2dcontour"
           }
          ],
          "mesh3d": [
           {
            "colorbar": {
             "outlinewidth": 0,
             "ticks": ""
            },
            "type": "mesh3d"
           }
          ],
          "parcoords": [
           {
            "line": {
             "colorbar": {
              "outlinewidth": 0,
              "ticks": ""
             }
            },
            "type": "parcoords"
           }
          ],
          "pie": [
           {
            "automargin": true,
            "type": "pie"
           }
          ],
          "scatter": [
           {
            "marker": {
             "colorbar": {
              "outlinewidth": 0,
              "ticks": ""
             }
            },
            "type": "scatter"
           }
          ],
          "scatter3d": [
           {
            "line": {
             "colorbar": {
              "outlinewidth": 0,
              "ticks": ""
             }
            },
            "marker": {
             "colorbar": {
              "outlinewidth": 0,
              "ticks": ""
             }
            },
            "type": "scatter3d"
           }
          ],
          "scattercarpet": [
           {
            "marker": {
             "colorbar": {
              "outlinewidth": 0,
              "ticks": ""
             }
            },
            "type": "scattercarpet"
           }
          ],
          "scattergeo": [
           {
            "marker": {
             "colorbar": {
              "outlinewidth": 0,
              "ticks": ""
             }
            },
            "type": "scattergeo"
           }
          ],
          "scattergl": [
           {
            "marker": {
             "colorbar": {
              "outlinewidth": 0,
              "ticks": ""
             }
            },
            "type": "scattergl"
           }
          ],
          "scattermapbox": [
           {
            "marker": {
             "colorbar": {
              "outlinewidth": 0,
              "ticks": ""
             }
            },
            "type": "scattermapbox"
           }
          ],
          "scatterpolar": [
           {
            "marker": {
             "colorbar": {
              "outlinewidth": 0,
              "ticks": ""
             }
            },
            "type": "scatterpolar"
           }
          ],
          "scatterpolargl": [
           {
            "marker": {
             "colorbar": {
              "outlinewidth": 0,
              "ticks": ""
             }
            },
            "type": "scatterpolargl"
           }
          ],
          "scatterternary": [
           {
            "marker": {
             "colorbar": {
              "outlinewidth": 0,
              "ticks": ""
             }
            },
            "type": "scatterternary"
           }
          ],
          "surface": [
           {
            "colorbar": {
             "outlinewidth": 0,
             "ticks": ""
            },
            "colorscale": [
             [
              0,
              "#0d0887"
             ],
             [
              0.1111111111111111,
              "#46039f"
             ],
             [
              0.2222222222222222,
              "#7201a8"
             ],
             [
              0.3333333333333333,
              "#9c179e"
             ],
             [
              0.4444444444444444,
              "#bd3786"
             ],
             [
              0.5555555555555556,
              "#d8576b"
             ],
             [
              0.6666666666666666,
              "#ed7953"
             ],
             [
              0.7777777777777778,
              "#fb9f3a"
             ],
             [
              0.8888888888888888,
              "#fdca26"
             ],
             [
              1,
              "#f0f921"
             ]
            ],
            "type": "surface"
           }
          ],
          "table": [
           {
            "cells": {
             "fill": {
              "color": "#EBF0F8"
             },
             "line": {
              "color": "white"
             }
            },
            "header": {
             "fill": {
              "color": "#C8D4E3"
             },
             "line": {
              "color": "white"
             }
            },
            "type": "table"
           }
          ]
         },
         "layout": {
          "annotationdefaults": {
           "arrowcolor": "#2a3f5f",
           "arrowhead": 0,
           "arrowwidth": 1
          },
          "autotypenumbers": "strict",
          "coloraxis": {
           "colorbar": {
            "outlinewidth": 0,
            "ticks": ""
           }
          },
          "colorscale": {
           "diverging": [
            [
             0,
             "#8e0152"
            ],
            [
             0.1,
             "#c51b7d"
            ],
            [
             0.2,
             "#de77ae"
            ],
            [
             0.3,
             "#f1b6da"
            ],
            [
             0.4,
             "#fde0ef"
            ],
            [
             0.5,
             "#f7f7f7"
            ],
            [
             0.6,
             "#e6f5d0"
            ],
            [
             0.7,
             "#b8e186"
            ],
            [
             0.8,
             "#7fbc41"
            ],
            [
             0.9,
             "#4d9221"
            ],
            [
             1,
             "#276419"
            ]
           ],
           "sequential": [
            [
             0,
             "#0d0887"
            ],
            [
             0.1111111111111111,
             "#46039f"
            ],
            [
             0.2222222222222222,
             "#7201a8"
            ],
            [
             0.3333333333333333,
             "#9c179e"
            ],
            [
             0.4444444444444444,
             "#bd3786"
            ],
            [
             0.5555555555555556,
             "#d8576b"
            ],
            [
             0.6666666666666666,
             "#ed7953"
            ],
            [
             0.7777777777777778,
             "#fb9f3a"
            ],
            [
             0.8888888888888888,
             "#fdca26"
            ],
            [
             1,
             "#f0f921"
            ]
           ],
           "sequentialminus": [
            [
             0,
             "#0d0887"
            ],
            [
             0.1111111111111111,
             "#46039f"
            ],
            [
             0.2222222222222222,
             "#7201a8"
            ],
            [
             0.3333333333333333,
             "#9c179e"
            ],
            [
             0.4444444444444444,
             "#bd3786"
            ],
            [
             0.5555555555555556,
             "#d8576b"
            ],
            [
             0.6666666666666666,
             "#ed7953"
            ],
            [
             0.7777777777777778,
             "#fb9f3a"
            ],
            [
             0.8888888888888888,
             "#fdca26"
            ],
            [
             1,
             "#f0f921"
            ]
           ]
          },
          "colorway": [
           "#636efa",
           "#EF553B",
           "#00cc96",
           "#ab63fa",
           "#FFA15A",
           "#19d3f3",
           "#FF6692",
           "#B6E880",
           "#FF97FF",
           "#FECB52"
          ],
          "font": {
           "color": "#2a3f5f"
          },
          "geo": {
           "bgcolor": "white",
           "lakecolor": "white",
           "landcolor": "#E5ECF6",
           "showlakes": true,
           "showland": true,
           "subunitcolor": "white"
          },
          "hoverlabel": {
           "align": "left"
          },
          "hovermode": "closest",
          "mapbox": {
           "style": "light"
          },
          "paper_bgcolor": "white",
          "plot_bgcolor": "#E5ECF6",
          "polar": {
           "angularaxis": {
            "gridcolor": "white",
            "linecolor": "white",
            "ticks": ""
           },
           "bgcolor": "#E5ECF6",
           "radialaxis": {
            "gridcolor": "white",
            "linecolor": "white",
            "ticks": ""
           }
          },
          "scene": {
           "xaxis": {
            "backgroundcolor": "#E5ECF6",
            "gridcolor": "white",
            "gridwidth": 2,
            "linecolor": "white",
            "showbackground": true,
            "ticks": "",
            "zerolinecolor": "white"
           },
           "yaxis": {
            "backgroundcolor": "#E5ECF6",
            "gridcolor": "white",
            "gridwidth": 2,
            "linecolor": "white",
            "showbackground": true,
            "ticks": "",
            "zerolinecolor": "white"
           },
           "zaxis": {
            "backgroundcolor": "#E5ECF6",
            "gridcolor": "white",
            "gridwidth": 2,
            "linecolor": "white",
            "showbackground": true,
            "ticks": "",
            "zerolinecolor": "white"
           }
          },
          "shapedefaults": {
           "line": {
            "color": "#2a3f5f"
           }
          },
          "ternary": {
           "aaxis": {
            "gridcolor": "white",
            "linecolor": "white",
            "ticks": ""
           },
           "baxis": {
            "gridcolor": "white",
            "linecolor": "white",
            "ticks": ""
           },
           "bgcolor": "#E5ECF6",
           "caxis": {
            "gridcolor": "white",
            "linecolor": "white",
            "ticks": ""
           }
          },
          "title": {
           "x": 0.05
          },
          "xaxis": {
           "automargin": true,
           "gridcolor": "white",
           "linecolor": "white",
           "ticks": "",
           "title": {
            "standoff": 15
           },
           "zerolinecolor": "white",
           "zerolinewidth": 2
          },
          "yaxis": {
           "automargin": true,
           "gridcolor": "white",
           "linecolor": "white",
           "ticks": "",
           "title": {
            "standoff": 15
           },
           "zerolinecolor": "white",
           "zerolinewidth": 2
          }
         }
        },
        "title": {
         "text": "Droop values fixed below 3"
        },
        "xaxis": {
         "title": {
          "text": "Generator"
         }
        },
        "yaxis": {
         "title": {
          "text": "Droop [%]"
         }
        }
       }
      },
      "text/html": [
       "<div>                            <div id=\"3a77851a-b7f0-49f4-a738-f6115b2dd7f3\" class=\"plotly-graph-div\" style=\"height:525px; width:100%;\"></div>            <script type=\"text/javascript\">                require([\"plotly\"], function(Plotly) {                    window.PLOTLYENV=window.PLOTLYENV || {};                                    if (document.getElementById(\"3a77851a-b7f0-49f4-a738-f6115b2dd7f3\")) {                    Plotly.newPlot(                        \"3a77851a-b7f0-49f4-a738-f6115b2dd7f3\",                        [{\"line\": {\"color\": \"black\", \"dash\": \"dash\", \"width\": 0.5}, \"mode\": \"lines\", \"showlegend\": false, \"type\": \"scatter\", \"x\": [\"Plant1_G1\", \"Plant1_G2\", \"Plant2_G1\", \"Plant2_G2\", \"Plant2_G3\", \"Plant2_G4\"], \"y\": [1, 1, 1, 1, 1, 1]}, {\"line\": {\"color\": \"black\", \"dash\": \"dash\", \"width\": 0.5}, \"mode\": \"lines\", \"showlegend\": false, \"type\": \"scatter\", \"x\": [\"Plant1_G1\", \"Plant1_G2\", \"Plant2_G1\", \"Plant2_G2\", \"Plant2_G3\", \"Plant2_G4\"], \"y\": [2, 2, 2, 2, 2, 2]}, {\"line\": {\"color\": \"black\", \"dash\": \"dash\", \"width\": 0.5}, \"mode\": \"lines\", \"showlegend\": false, \"type\": \"scatter\", \"x\": [\"Plant1_G1\", \"Plant1_G2\", \"Plant2_G1\", \"Plant2_G2\", \"Plant2_G3\", \"Plant2_G4\"], \"y\": [3, 3, 3, 3, 3, 3]}, {\"line\": {\"color\": \"black\", \"dash\": \"dash\", \"width\": 0.5}, \"mode\": \"lines\", \"showlegend\": false, \"type\": \"scatter\", \"x\": [\"Plant1_G1\", \"Plant1_G2\", \"Plant2_G1\", \"Plant2_G2\", \"Plant2_G3\", \"Plant2_G4\"], \"y\": [4, 4, 4, 4, 4, 4]}, {\"line\": {\"color\": \"black\", \"dash\": \"dash\", \"width\": 0.5}, \"mode\": \"lines\", \"showlegend\": false, \"type\": \"scatter\", \"x\": [\"Plant1_G1\", \"Plant1_G2\", \"Plant2_G1\", \"Plant2_G2\", \"Plant2_G3\", \"Plant2_G4\"], \"y\": [5, 5, 5, 5, 5, 5]}, {\"line\": {\"color\": \"black\", \"dash\": \"dash\", \"width\": 0.5}, \"mode\": \"lines\", \"showlegend\": false, \"type\": \"scatter\", \"x\": [\"Plant1_G1\", \"Plant1_G2\", \"Plant2_G1\", \"Plant2_G2\", \"Plant2_G3\", \"Plant2_G4\"], \"y\": [6, 6, 6, 6, 6, 6]}, {\"line\": {\"color\": \"black\", \"dash\": \"dash\", \"width\": 0.5}, \"mode\": \"lines\", \"showlegend\": false, \"type\": \"scatter\", \"x\": [\"Plant1_G1\", \"Plant1_G2\", \"Plant2_G1\", \"Plant2_G2\", \"Plant2_G3\", \"Plant2_G4\"], \"y\": [7, 7, 7, 7, 7, 7]}, {\"line\": {\"color\": \"black\", \"dash\": \"dash\", \"width\": 0.5}, \"mode\": \"lines\", \"showlegend\": false, \"type\": \"scatter\", \"x\": [\"Plant1_G1\", \"Plant1_G2\", \"Plant2_G1\", \"Plant2_G2\", \"Plant2_G3\", \"Plant2_G4\"], \"y\": [8, 8, 8, 8, 8, 8]}, {\"line\": {\"color\": \"black\", \"dash\": \"dash\", \"width\": 0.5}, \"mode\": \"lines\", \"showlegend\": false, \"type\": \"scatter\", \"x\": [\"Plant1_G1\", \"Plant1_G2\", \"Plant2_G1\", \"Plant2_G2\", \"Plant2_G3\", \"Plant2_G4\"], \"y\": [9, 9, 9, 9, 9, 9]}, {\"line\": {\"color\": \"black\", \"dash\": \"dash\", \"width\": 0.5}, \"mode\": \"lines\", \"showlegend\": false, \"type\": \"scatter\", \"x\": [\"Plant1_G1\", \"Plant1_G2\", \"Plant2_G1\", \"Plant2_G2\", \"Plant2_G3\", \"Plant2_G4\"], \"y\": [10, 10, 10, 10, 10, 10]}, {\"line\": {\"color\": \"black\", \"dash\": \"dash\", \"width\": 0.5}, \"mode\": \"lines\", \"showlegend\": false, \"type\": \"scatter\", \"x\": [\"Plant1_G1\", \"Plant1_G2\", \"Plant2_G1\", \"Plant2_G2\", \"Plant2_G3\", \"Plant2_G4\"], \"y\": [11, 11, 11, 11, 11, 11]}, {\"line\": {\"color\": \"black\", \"dash\": \"dash\", \"width\": 0.5}, \"mode\": \"lines\", \"showlegend\": false, \"type\": \"scatter\", \"x\": [\"Plant1_G1\", \"Plant1_G2\", \"Plant2_G1\", \"Plant2_G2\", \"Plant2_G3\", \"Plant2_G4\"], \"y\": [12, 12, 12, 12, 12, 12]}, {\"line\": {\"color\": \"red\", \"dash\": \"dash\", \"width\": 0.5}, \"mode\": \"lines\", \"showlegend\": false, \"type\": \"scatter\", \"x\": [\"Plant2_G1\", \"Plant2_G4\"], \"y\": [1.5, 1.5]}, {\"line\": {\"color\": \"red\", \"dash\": \"dash\", \"width\": 0.5}, \"mode\": \"lines\", \"showlegend\": false, \"type\": \"scatter\", \"x\": [\"Plant2_G1\", \"Plant2_G4\"], \"y\": [2.5, 2.5]}, {\"line\": {\"color\": \"red\", \"dash\": \"dash\", \"width\": 0.5}, \"mode\": \"lines\", \"showlegend\": false, \"type\": \"scatter\", \"x\": [\"Plant2_G1\", \"Plant2_G4\"], \"y\": [3.5, 3.5]}, {\"line\": {\"color\": \"red\", \"dash\": \"dash\", \"width\": 0.5}, \"mode\": \"lines\", \"showlegend\": false, \"type\": \"scatter\", \"x\": [\"Plant2_G1\", \"Plant2_G4\"], \"y\": [4.5, 4.5]}, {\"line\": {\"color\": \"red\", \"dash\": \"dash\", \"width\": 0.5}, \"mode\": \"lines\", \"showlegend\": false, \"type\": \"scatter\", \"x\": [\"Plant2_G1\", \"Plant2_G4\"], \"y\": [5.5, 5.5]}, {\"line\": {\"color\": \"red\", \"dash\": \"dash\", \"width\": 0.5}, \"mode\": \"lines\", \"showlegend\": false, \"type\": \"scatter\", \"x\": [\"Plant2_G1\", \"Plant2_G4\"], \"y\": [6.5, 6.5]}, {\"line\": {\"color\": \"red\", \"dash\": \"dash\", \"width\": 0.5}, \"mode\": \"lines\", \"showlegend\": false, \"type\": \"scatter\", \"x\": [\"Plant2_G1\", \"Plant2_G4\"], \"y\": [7.5, 7.5]}, {\"line\": {\"color\": \"red\", \"dash\": \"dash\", \"width\": 0.5}, \"mode\": \"lines\", \"showlegend\": false, \"type\": \"scatter\", \"x\": [\"Plant2_G1\", \"Plant2_G4\"], \"y\": [8.5, 8.5]}, {\"line\": {\"color\": \"red\", \"dash\": \"dash\", \"width\": 0.5}, \"mode\": \"lines\", \"showlegend\": false, \"type\": \"scatter\", \"x\": [\"Plant2_G1\", \"Plant2_G4\"], \"y\": [9.5, 9.5]}, {\"line\": {\"color\": \"red\", \"dash\": \"dash\", \"width\": 0.5}, \"mode\": \"lines\", \"showlegend\": false, \"type\": \"scatter\", \"x\": [\"Plant2_G1\", \"Plant2_G4\"], \"y\": [10.5, 10.5]}, {\"line\": {\"color\": \"red\", \"dash\": \"dash\", \"width\": 0.5}, \"mode\": \"lines\", \"showlegend\": false, \"type\": \"scatter\", \"x\": [\"Plant2_G1\", \"Plant2_G4\"], \"y\": [11.5, 11.5]}, {\"mode\": \"markers\", \"showlegend\": false, \"type\": \"scatter\", \"x\": [\"Plant1_G1\", \"Plant1_G1\", \"Plant1_G1\", \"Plant1_G1\", \"Plant1_G1\", \"Plant1_G1\", \"Plant1_G1\", \"Plant1_G1\", \"Plant1_G1\", \"Plant1_G1\", \"Plant1_G1\", \"Plant1_G1\", \"Plant1_G1\", \"Plant1_G1\", \"Plant1_G1\", \"Plant1_G1\", \"Plant1_G1\", \"Plant1_G1\", \"Plant1_G1\", \"Plant1_G1\", \"Plant1_G1\", \"Plant1_G1\", \"Plant1_G1\", \"Plant1_G1\", \"Plant1_G1\", \"Plant1_G1\", \"Plant1_G1\", \"Plant1_G1\", \"Plant1_G1\", \"Plant1_G1\", \"Plant1_G1\", \"Plant1_G1\", \"Plant1_G1\", \"Plant1_G1\", \"Plant1_G1\", \"Plant1_G1\", \"Plant1_G1\", \"Plant1_G1\", \"Plant1_G1\", \"Plant1_G1\", \"Plant1_G1\", \"Plant1_G1\", \"Plant1_G1\", \"Plant1_G1\", \"Plant1_G1\", \"Plant1_G1\", \"Plant1_G1\", \"Plant1_G1\", \"Plant1_G1\", \"Plant1_G1\", \"Plant1_G1\", \"Plant1_G1\", \"Plant1_G1\", \"Plant1_G1\", \"Plant1_G1\", \"Plant1_G1\", \"Plant1_G1\", \"Plant1_G1\", \"Plant1_G1\", \"Plant1_G1\", \"Plant1_G1\", \"Plant1_G1\", \"Plant1_G1\", \"Plant1_G1\", \"Plant1_G1\", \"Plant1_G1\", \"Plant1_G1\", \"Plant1_G1\", \"Plant1_G1\", \"Plant1_G1\", \"Plant1_G1\", \"Plant1_G1\"], \"y\": [12.0, 12.0, 12.0, 12.0, 12.0, 12.0, 12.0, 7.419112249343129, 7.546831432698322, 7.907267839534729, 8.303797575358336, 6.890689375402829, 7.474960585009371, 6.705377724543751, 3.4460940165258434, 3.4364903103283297, 6.056992537620256, 5.909534533291744, 3.3363955838976276, 3.0422688950436765, 12.0, 12.0, 12.0, 12.0, 12.0, 12.0, 12.0, 12.0, 12.0, 12.0, 12.0, 2.0, 2.0, 2.0, 12.0, 12.0, 6.3716814159292054, 6.3716814159292054, 6.3716814159292054, 6.3716814159292054, 6.3716814159292054, 6.3716814159292054, 6.371681415929205, 12.0, 12.0, 12.0, 12.0, 12.0, 12.0, 12.0, 12.0, 12.0, 12.0, 12.0, 12.0, 2.0, 2.0, 1.0, 1.0, 1.0, 1.0, 1.0, 1.0, 1.0, 1.0, 2.0, 2.0, 12.0, 1.0, 1.0, 1.0, 12.0]}, {\"mode\": \"markers\", \"showlegend\": false, \"type\": \"scatter\", \"x\": [\"Plant1_G2\", \"Plant1_G2\", \"Plant1_G2\", \"Plant1_G2\", \"Plant1_G2\", \"Plant1_G2\", \"Plant1_G2\", \"Plant1_G2\", \"Plant1_G2\", \"Plant1_G2\", \"Plant1_G2\", \"Plant1_G2\", \"Plant1_G2\", \"Plant1_G2\", \"Plant1_G2\", \"Plant1_G2\", \"Plant1_G2\", \"Plant1_G2\", \"Plant1_G2\", \"Plant1_G2\", \"Plant1_G2\", \"Plant1_G2\", \"Plant1_G2\", \"Plant1_G2\", \"Plant1_G2\", \"Plant1_G2\", \"Plant1_G2\", \"Plant1_G2\", \"Plant1_G2\", \"Plant1_G2\", \"Plant1_G2\", \"Plant1_G2\", \"Plant1_G2\", \"Plant1_G2\", \"Plant1_G2\", \"Plant1_G2\", \"Plant1_G2\", \"Plant1_G2\", \"Plant1_G2\", \"Plant1_G2\", \"Plant1_G2\", \"Plant1_G2\", \"Plant1_G2\", \"Plant1_G2\", \"Plant1_G2\", \"Plant1_G2\", \"Plant1_G2\", \"Plant1_G2\", \"Plant1_G2\", \"Plant1_G2\", \"Plant1_G2\", \"Plant1_G2\", \"Plant1_G2\", \"Plant1_G2\", \"Plant1_G2\", \"Plant1_G2\", \"Plant1_G2\", \"Plant1_G2\", \"Plant1_G2\", \"Plant1_G2\", \"Plant1_G2\", \"Plant1_G2\", \"Plant1_G2\", \"Plant1_G2\", \"Plant1_G2\", \"Plant1_G2\", \"Plant1_G2\", \"Plant1_G2\", \"Plant1_G2\", \"Plant1_G2\", \"Plant1_G2\", \"Plant1_G2\"], \"y\": [12.0, 12.0, 12.0, 12.0, 12.0, 12.0, 12.0, 7.50281081467048, 7.505269116868913, 7.290222950976218, 7.085655649420231, 8.741413374567735, 6.686576451337776, 6.705378349918204, 3.2941723159087735, 3.3029960209800433, 6.7606505864177295, 6.681458729411183, 3.330487630239743, 12.0, 12.0, 12.0, 12.0, 12.0, 12.0, 12.0, 12.0, 12.0, 12.0, 12.0, 12.0, 12.0, 12.0, 12.0, 12.0, 12.0, 12.0, 12.0, 12.0, 12.0, 12.0, 12.0, 12.0, 12.0, 12.0, 12.0, 12.0, 12.0, 12.0, 12.0, 12.0, 12.0, 12.0, 12.0, 12.0, 12.0, 12.0, 12.0, 12.0, 12.0, 12.0, 12.0, 12.0, 12.0, 12.0, 2.0, 2.0, 1.0, 12.0, 12.0, 12.0, 12.0]}, {\"mode\": \"markers\", \"showlegend\": false, \"type\": \"scatter\", \"x\": [\"Plant2_G1\", \"Plant2_G1\", \"Plant2_G1\", \"Plant2_G1\", \"Plant2_G1\", \"Plant2_G1\", \"Plant2_G1\", \"Plant2_G1\", \"Plant2_G1\", \"Plant2_G1\", \"Plant2_G1\", \"Plant2_G1\", \"Plant2_G1\", \"Plant2_G1\", \"Plant2_G1\", \"Plant2_G1\", \"Plant2_G1\", \"Plant2_G1\", \"Plant2_G1\", \"Plant2_G1\", \"Plant2_G1\", \"Plant2_G1\", \"Plant2_G1\", \"Plant2_G1\", \"Plant2_G1\", \"Plant2_G1\", \"Plant2_G1\", \"Plant2_G1\", \"Plant2_G1\", \"Plant2_G1\", \"Plant2_G1\", \"Plant2_G1\", \"Plant2_G1\", \"Plant2_G1\", \"Plant2_G1\", \"Plant2_G1\", \"Plant2_G1\", \"Plant2_G1\", \"Plant2_G1\", \"Plant2_G1\", \"Plant2_G1\", \"Plant2_G1\", \"Plant2_G1\", \"Plant2_G1\", \"Plant2_G1\", \"Plant2_G1\", \"Plant2_G1\", \"Plant2_G1\", \"Plant2_G1\", \"Plant2_G1\", \"Plant2_G1\", \"Plant2_G1\", \"Plant2_G1\", \"Plant2_G1\", \"Plant2_G1\", \"Plant2_G1\", \"Plant2_G1\", \"Plant2_G1\", \"Plant2_G1\", \"Plant2_G1\", \"Plant2_G1\", \"Plant2_G1\", \"Plant2_G1\", \"Plant2_G1\", \"Plant2_G1\", \"Plant2_G1\", \"Plant2_G1\", \"Plant2_G1\", \"Plant2_G1\", \"Plant2_G1\", \"Plant2_G1\", \"Plant2_G1\"], \"y\": [2.5, 2.0, 2.0, 2.0, 2.0, 2.5, 12.0, 12.0, 12.0, 12.0, 12.0, 12.0, 12.0, 12.0, 12.0, 12.0, 12.0, 12.0, 12.0, 4.890539551748075, 2.5, 2.5, 2.0, 2.0, 2.0, 1.5, 1.5, 1.5, 1.5, 2.0, 2.0, 7.011578383290746, 6.97289441765733, 6.934646244875366, 2.5, 2.0, 2.5, 2.5, 2.5, 2.5, 2.5, 2.5, 2.5, 2.0, 2.0, 2.0, 1.5, 1.5, 1.5, 1.5, 1.5, 1.5, 1.5, 1.5, 2.0, 5.83783783783784, 5.83783783783784, 6.499442838327297, 6.482450643310501, 6.46554934215542, 6.4487382079582805, 12.0, 12.0, 6.3988386534208015, 12.0, 12.0, 12.0, 12.0, 12.0, 12.0, 12.0, 2.0]}, {\"mode\": \"markers\", \"showlegend\": false, \"type\": \"scatter\", \"x\": [\"Plant2_G2\", \"Plant2_G2\", \"Plant2_G2\", \"Plant2_G2\", \"Plant2_G2\", \"Plant2_G2\", \"Plant2_G2\", \"Plant2_G2\", \"Plant2_G2\", \"Plant2_G2\", \"Plant2_G2\", \"Plant2_G2\", \"Plant2_G2\", \"Plant2_G2\", \"Plant2_G2\", \"Plant2_G2\", \"Plant2_G2\", \"Plant2_G2\", \"Plant2_G2\", \"Plant2_G2\", \"Plant2_G2\", \"Plant2_G2\", \"Plant2_G2\", \"Plant2_G2\", \"Plant2_G2\", \"Plant2_G2\", \"Plant2_G2\", \"Plant2_G2\", \"Plant2_G2\", \"Plant2_G2\", \"Plant2_G2\", \"Plant2_G2\", \"Plant2_G2\", \"Plant2_G2\", \"Plant2_G2\", \"Plant2_G2\", \"Plant2_G2\", \"Plant2_G2\", \"Plant2_G2\", \"Plant2_G2\", \"Plant2_G2\", \"Plant2_G2\", \"Plant2_G2\", \"Plant2_G2\", \"Plant2_G2\", \"Plant2_G2\", \"Plant2_G2\", \"Plant2_G2\", \"Plant2_G2\", \"Plant2_G2\", \"Plant2_G2\", \"Plant2_G2\", \"Plant2_G2\", \"Plant2_G2\", \"Plant2_G2\", \"Plant2_G2\", \"Plant2_G2\", \"Plant2_G2\", \"Plant2_G2\", \"Plant2_G2\", \"Plant2_G2\", \"Plant2_G2\", \"Plant2_G2\", \"Plant2_G2\", \"Plant2_G2\", \"Plant2_G2\", \"Plant2_G2\", \"Plant2_G2\", \"Plant2_G2\", \"Plant2_G2\", \"Plant2_G2\", \"Plant2_G2\"], \"y\": [12.0, 12.0, 12.0, 12.0, 12.0, 12.0, 2.5, 2.5, 2.5, 2.5, 2.5, 2.5, 2.5, 2.5, 12.0, 12.0, 2.5, 2.5, 12.0, 12.0, 12.0, 12.0, 12.0, 12.0, 12.0, 12.0, 12.0, 12.0, 12.0, 12.0, 12.0, 12.0, 12.0, 12.0, 12.0, 12.0, 12.0, 12.0, 12.0, 12.0, 12.0, 12.0, 12.0, 12.0, 12.0, 12.0, 12.0, 12.0, 12.0, 12.0, 12.0, 12.0, 12.0, 12.0, 12.0, 12.0, 12.0, 12.0, 12.0, 12.0, 12.0, 12.0, 12.0, 12.0, 12.0, 12.0, 12.0, 12.0, 12.0, 12.0, 12.0, 12.0]}, {\"mode\": \"markers\", \"showlegend\": false, \"type\": \"scatter\", \"x\": [\"Plant2_G3\", \"Plant2_G3\", \"Plant2_G3\", \"Plant2_G3\", \"Plant2_G3\", \"Plant2_G3\", \"Plant2_G3\", \"Plant2_G3\", \"Plant2_G3\", \"Plant2_G3\", \"Plant2_G3\", \"Plant2_G3\", \"Plant2_G3\", \"Plant2_G3\", \"Plant2_G3\", \"Plant2_G3\", \"Plant2_G3\", \"Plant2_G3\", \"Plant2_G3\", \"Plant2_G3\", \"Plant2_G3\", \"Plant2_G3\", \"Plant2_G3\", \"Plant2_G3\", \"Plant2_G3\", \"Plant2_G3\", \"Plant2_G3\", \"Plant2_G3\", \"Plant2_G3\", \"Plant2_G3\", \"Plant2_G3\", \"Plant2_G3\", \"Plant2_G3\", \"Plant2_G3\", \"Plant2_G3\", \"Plant2_G3\", \"Plant2_G3\", \"Plant2_G3\", \"Plant2_G3\", \"Plant2_G3\", \"Plant2_G3\", \"Plant2_G3\", \"Plant2_G3\", \"Plant2_G3\", \"Plant2_G3\", \"Plant2_G3\", \"Plant2_G3\", \"Plant2_G3\", \"Plant2_G3\", \"Plant2_G3\", \"Plant2_G3\", \"Plant2_G3\", \"Plant2_G3\", \"Plant2_G3\", \"Plant2_G3\", \"Plant2_G3\", \"Plant2_G3\", \"Plant2_G3\", \"Plant2_G3\", \"Plant2_G3\", \"Plant2_G3\", \"Plant2_G3\", \"Plant2_G3\", \"Plant2_G3\", \"Plant2_G3\", \"Plant2_G3\", \"Plant2_G3\", \"Plant2_G3\", \"Plant2_G3\", \"Plant2_G3\", \"Plant2_G3\", \"Plant2_G3\"], \"y\": [12.0, 12.0, 12.0, 12.0, 12.0, 12.0, 2.5, 2.5, 2.5, 2.5, 2.5, 2.5, 2.5, 2.5, 12.0, 12.0, 2.5, 2.5, 12.0, 12.0, 12.0, 12.0, 12.0, 12.0, 12.0, 12.0, 12.0, 12.0, 12.0, 12.0, 12.0, 12.0, 12.0, 12.0, 12.0, 12.0, 12.0, 12.0, 12.0, 12.0, 12.0, 12.0, 12.0, 12.0, 12.0, 12.0, 12.0, 12.0, 12.0, 12.0, 12.0, 12.0, 12.0, 12.0, 12.0, 12.0, 12.0, 12.0, 12.0, 12.0, 12.0, 12.0, 12.0, 12.0, 12.0, 12.0, 12.0, 12.0, 12.0, 12.0, 12.0, 10.153846153846153]}, {\"mode\": \"markers\", \"showlegend\": false, \"type\": \"scatter\", \"x\": [\"Plant2_G4\", \"Plant2_G4\", \"Plant2_G4\", \"Plant2_G4\", \"Plant2_G4\", \"Plant2_G4\", \"Plant2_G4\", \"Plant2_G4\", \"Plant2_G4\", \"Plant2_G4\", \"Plant2_G4\", \"Plant2_G4\", \"Plant2_G4\", \"Plant2_G4\", \"Plant2_G4\", \"Plant2_G4\", \"Plant2_G4\", \"Plant2_G4\", \"Plant2_G4\", \"Plant2_G4\", \"Plant2_G4\", \"Plant2_G4\", \"Plant2_G4\", \"Plant2_G4\", \"Plant2_G4\", \"Plant2_G4\", \"Plant2_G4\", \"Plant2_G4\", \"Plant2_G4\", \"Plant2_G4\", \"Plant2_G4\", \"Plant2_G4\", \"Plant2_G4\", \"Plant2_G4\", \"Plant2_G4\", \"Plant2_G4\", \"Plant2_G4\", \"Plant2_G4\", \"Plant2_G4\", \"Plant2_G4\", \"Plant2_G4\", \"Plant2_G4\", \"Plant2_G4\", \"Plant2_G4\", \"Plant2_G4\", \"Plant2_G4\", \"Plant2_G4\", \"Plant2_G4\", \"Plant2_G4\", \"Plant2_G4\", \"Plant2_G4\", \"Plant2_G4\", \"Plant2_G4\", \"Plant2_G4\", \"Plant2_G4\", \"Plant2_G4\", \"Plant2_G4\", \"Plant2_G4\", \"Plant2_G4\", \"Plant2_G4\", \"Plant2_G4\", \"Plant2_G4\", \"Plant2_G4\", \"Plant2_G4\", \"Plant2_G4\", \"Plant2_G4\", \"Plant2_G4\", \"Plant2_G4\", \"Plant2_G4\", \"Plant2_G4\", \"Plant2_G4\", \"Plant2_G4\"], \"y\": [12.0, 12.0, 12.0, 12.0, 12.0, 12.0, 2.5, 2.5, 2.5, 2.5, 2.5, 2.5, 2.5, 2.5, 12.0, 12.0, 2.5, 2.5, 12.0, 12.0, 12.0, 12.0, 12.0, 12.0, 12.0, 12.0, 12.0, 12.0, 12.0, 12.0, 12.0, 12.0, 12.0, 12.0, 12.0, 12.0, 12.0, 12.0, 12.0, 12.0, 12.0, 12.0, 12.0, 12.0, 12.0, 12.0, 12.0, 12.0, 12.0, 12.0, 12.0, 12.0, 12.0, 12.0, 12.0, 12.0, 12.0, 12.0, 12.0, 12.0, 12.0, 12.0, 12.0, 12.0, 12.0, 12.0, 12.0, 12.0, 12.0, 12.0, 12.0, 12.0]}],                        {\"template\": {\"data\": {\"bar\": [{\"error_x\": {\"color\": \"#2a3f5f\"}, \"error_y\": {\"color\": \"#2a3f5f\"}, \"marker\": {\"line\": {\"color\": \"#E5ECF6\", \"width\": 0.5}}, \"type\": \"bar\"}], \"barpolar\": [{\"marker\": {\"line\": {\"color\": \"#E5ECF6\", \"width\": 0.5}}, \"type\": \"barpolar\"}], \"carpet\": [{\"aaxis\": {\"endlinecolor\": \"#2a3f5f\", \"gridcolor\": \"white\", \"linecolor\": \"white\", \"minorgridcolor\": \"white\", \"startlinecolor\": \"#2a3f5f\"}, \"baxis\": {\"endlinecolor\": \"#2a3f5f\", \"gridcolor\": \"white\", \"linecolor\": \"white\", \"minorgridcolor\": \"white\", \"startlinecolor\": \"#2a3f5f\"}, \"type\": \"carpet\"}], \"choropleth\": [{\"colorbar\": {\"outlinewidth\": 0, \"ticks\": \"\"}, \"type\": \"choropleth\"}], \"contour\": [{\"colorbar\": {\"outlinewidth\": 0, \"ticks\": \"\"}, \"colorscale\": [[0.0, \"#0d0887\"], [0.1111111111111111, \"#46039f\"], [0.2222222222222222, \"#7201a8\"], [0.3333333333333333, \"#9c179e\"], [0.4444444444444444, \"#bd3786\"], [0.5555555555555556, \"#d8576b\"], [0.6666666666666666, \"#ed7953\"], [0.7777777777777778, \"#fb9f3a\"], [0.8888888888888888, \"#fdca26\"], [1.0, \"#f0f921\"]], \"type\": \"contour\"}], \"contourcarpet\": [{\"colorbar\": {\"outlinewidth\": 0, \"ticks\": \"\"}, \"type\": \"contourcarpet\"}], \"heatmap\": [{\"colorbar\": {\"outlinewidth\": 0, \"ticks\": \"\"}, \"colorscale\": [[0.0, \"#0d0887\"], [0.1111111111111111, \"#46039f\"], [0.2222222222222222, \"#7201a8\"], [0.3333333333333333, \"#9c179e\"], [0.4444444444444444, \"#bd3786\"], [0.5555555555555556, \"#d8576b\"], [0.6666666666666666, \"#ed7953\"], [0.7777777777777778, \"#fb9f3a\"], [0.8888888888888888, \"#fdca26\"], [1.0, \"#f0f921\"]], \"type\": \"heatmap\"}], \"heatmapgl\": [{\"colorbar\": {\"outlinewidth\": 0, \"ticks\": \"\"}, \"colorscale\": [[0.0, \"#0d0887\"], [0.1111111111111111, \"#46039f\"], [0.2222222222222222, \"#7201a8\"], [0.3333333333333333, \"#9c179e\"], [0.4444444444444444, \"#bd3786\"], [0.5555555555555556, \"#d8576b\"], [0.6666666666666666, \"#ed7953\"], [0.7777777777777778, \"#fb9f3a\"], [0.8888888888888888, \"#fdca26\"], [1.0, \"#f0f921\"]], \"type\": \"heatmapgl\"}], \"histogram\": [{\"marker\": {\"colorbar\": {\"outlinewidth\": 0, \"ticks\": \"\"}}, \"type\": \"histogram\"}], \"histogram2d\": [{\"colorbar\": {\"outlinewidth\": 0, \"ticks\": \"\"}, \"colorscale\": [[0.0, \"#0d0887\"], [0.1111111111111111, \"#46039f\"], [0.2222222222222222, \"#7201a8\"], [0.3333333333333333, \"#9c179e\"], [0.4444444444444444, \"#bd3786\"], [0.5555555555555556, \"#d8576b\"], [0.6666666666666666, \"#ed7953\"], [0.7777777777777778, \"#fb9f3a\"], [0.8888888888888888, \"#fdca26\"], [1.0, \"#f0f921\"]], \"type\": \"histogram2d\"}], \"histogram2dcontour\": [{\"colorbar\": {\"outlinewidth\": 0, \"ticks\": \"\"}, \"colorscale\": [[0.0, \"#0d0887\"], [0.1111111111111111, \"#46039f\"], [0.2222222222222222, \"#7201a8\"], [0.3333333333333333, \"#9c179e\"], [0.4444444444444444, \"#bd3786\"], [0.5555555555555556, \"#d8576b\"], [0.6666666666666666, \"#ed7953\"], [0.7777777777777778, \"#fb9f3a\"], [0.8888888888888888, \"#fdca26\"], [1.0, \"#f0f921\"]], \"type\": \"histogram2dcontour\"}], \"mesh3d\": [{\"colorbar\": {\"outlinewidth\": 0, \"ticks\": \"\"}, \"type\": \"mesh3d\"}], \"parcoords\": [{\"line\": {\"colorbar\": {\"outlinewidth\": 0, \"ticks\": \"\"}}, \"type\": \"parcoords\"}], \"pie\": [{\"automargin\": true, \"type\": \"pie\"}], \"scatter\": [{\"marker\": {\"colorbar\": {\"outlinewidth\": 0, \"ticks\": \"\"}}, \"type\": \"scatter\"}], \"scatter3d\": [{\"line\": {\"colorbar\": {\"outlinewidth\": 0, \"ticks\": \"\"}}, \"marker\": {\"colorbar\": {\"outlinewidth\": 0, \"ticks\": \"\"}}, \"type\": \"scatter3d\"}], \"scattercarpet\": [{\"marker\": {\"colorbar\": {\"outlinewidth\": 0, \"ticks\": \"\"}}, \"type\": \"scattercarpet\"}], \"scattergeo\": [{\"marker\": {\"colorbar\": {\"outlinewidth\": 0, \"ticks\": \"\"}}, \"type\": \"scattergeo\"}], \"scattergl\": [{\"marker\": {\"colorbar\": {\"outlinewidth\": 0, \"ticks\": \"\"}}, \"type\": \"scattergl\"}], \"scattermapbox\": [{\"marker\": {\"colorbar\": {\"outlinewidth\": 0, \"ticks\": \"\"}}, \"type\": \"scattermapbox\"}], \"scatterpolar\": [{\"marker\": {\"colorbar\": {\"outlinewidth\": 0, \"ticks\": \"\"}}, \"type\": \"scatterpolar\"}], \"scatterpolargl\": [{\"marker\": {\"colorbar\": {\"outlinewidth\": 0, \"ticks\": \"\"}}, \"type\": \"scatterpolargl\"}], \"scatterternary\": [{\"marker\": {\"colorbar\": {\"outlinewidth\": 0, \"ticks\": \"\"}}, \"type\": \"scatterternary\"}], \"surface\": [{\"colorbar\": {\"outlinewidth\": 0, \"ticks\": \"\"}, \"colorscale\": [[0.0, \"#0d0887\"], [0.1111111111111111, \"#46039f\"], [0.2222222222222222, \"#7201a8\"], [0.3333333333333333, \"#9c179e\"], [0.4444444444444444, \"#bd3786\"], [0.5555555555555556, \"#d8576b\"], [0.6666666666666666, \"#ed7953\"], [0.7777777777777778, \"#fb9f3a\"], [0.8888888888888888, \"#fdca26\"], [1.0, \"#f0f921\"]], \"type\": \"surface\"}], \"table\": [{\"cells\": {\"fill\": {\"color\": \"#EBF0F8\"}, \"line\": {\"color\": \"white\"}}, \"header\": {\"fill\": {\"color\": \"#C8D4E3\"}, \"line\": {\"color\": \"white\"}}, \"type\": \"table\"}]}, \"layout\": {\"annotationdefaults\": {\"arrowcolor\": \"#2a3f5f\", \"arrowhead\": 0, \"arrowwidth\": 1}, \"autotypenumbers\": \"strict\", \"coloraxis\": {\"colorbar\": {\"outlinewidth\": 0, \"ticks\": \"\"}}, \"colorscale\": {\"diverging\": [[0, \"#8e0152\"], [0.1, \"#c51b7d\"], [0.2, \"#de77ae\"], [0.3, \"#f1b6da\"], [0.4, \"#fde0ef\"], [0.5, \"#f7f7f7\"], [0.6, \"#e6f5d0\"], [0.7, \"#b8e186\"], [0.8, \"#7fbc41\"], [0.9, \"#4d9221\"], [1, \"#276419\"]], \"sequential\": [[0.0, \"#0d0887\"], [0.1111111111111111, \"#46039f\"], [0.2222222222222222, \"#7201a8\"], [0.3333333333333333, \"#9c179e\"], [0.4444444444444444, \"#bd3786\"], [0.5555555555555556, \"#d8576b\"], [0.6666666666666666, \"#ed7953\"], [0.7777777777777778, \"#fb9f3a\"], [0.8888888888888888, \"#fdca26\"], [1.0, \"#f0f921\"]], \"sequentialminus\": [[0.0, \"#0d0887\"], [0.1111111111111111, \"#46039f\"], [0.2222222222222222, \"#7201a8\"], [0.3333333333333333, \"#9c179e\"], [0.4444444444444444, \"#bd3786\"], [0.5555555555555556, \"#d8576b\"], [0.6666666666666666, \"#ed7953\"], [0.7777777777777778, \"#fb9f3a\"], [0.8888888888888888, \"#fdca26\"], [1.0, \"#f0f921\"]]}, \"colorway\": [\"#636efa\", \"#EF553B\", \"#00cc96\", \"#ab63fa\", \"#FFA15A\", \"#19d3f3\", \"#FF6692\", \"#B6E880\", \"#FF97FF\", \"#FECB52\"], \"font\": {\"color\": \"#2a3f5f\"}, \"geo\": {\"bgcolor\": \"white\", \"lakecolor\": \"white\", \"landcolor\": \"#E5ECF6\", \"showlakes\": true, \"showland\": true, \"subunitcolor\": \"white\"}, \"hoverlabel\": {\"align\": \"left\"}, \"hovermode\": \"closest\", \"mapbox\": {\"style\": \"light\"}, \"paper_bgcolor\": \"white\", \"plot_bgcolor\": \"#E5ECF6\", \"polar\": {\"angularaxis\": {\"gridcolor\": \"white\", \"linecolor\": \"white\", \"ticks\": \"\"}, \"bgcolor\": \"#E5ECF6\", \"radialaxis\": {\"gridcolor\": \"white\", \"linecolor\": \"white\", \"ticks\": \"\"}}, \"scene\": {\"xaxis\": {\"backgroundcolor\": \"#E5ECF6\", \"gridcolor\": \"white\", \"gridwidth\": 2, \"linecolor\": \"white\", \"showbackground\": true, \"ticks\": \"\", \"zerolinecolor\": \"white\"}, \"yaxis\": {\"backgroundcolor\": \"#E5ECF6\", \"gridcolor\": \"white\", \"gridwidth\": 2, \"linecolor\": \"white\", \"showbackground\": true, \"ticks\": \"\", \"zerolinecolor\": \"white\"}, \"zaxis\": {\"backgroundcolor\": \"#E5ECF6\", \"gridcolor\": \"white\", \"gridwidth\": 2, \"linecolor\": \"white\", \"showbackground\": true, \"ticks\": \"\", \"zerolinecolor\": \"white\"}}, \"shapedefaults\": {\"line\": {\"color\": \"#2a3f5f\"}}, \"ternary\": {\"aaxis\": {\"gridcolor\": \"white\", \"linecolor\": \"white\", \"ticks\": \"\"}, \"baxis\": {\"gridcolor\": \"white\", \"linecolor\": \"white\", \"ticks\": \"\"}, \"bgcolor\": \"#E5ECF6\", \"caxis\": {\"gridcolor\": \"white\", \"linecolor\": \"white\", \"ticks\": \"\"}}, \"title\": {\"x\": 0.05}, \"xaxis\": {\"automargin\": true, \"gridcolor\": \"white\", \"linecolor\": \"white\", \"ticks\": \"\", \"title\": {\"standoff\": 15}, \"zerolinecolor\": \"white\", \"zerolinewidth\": 2}, \"yaxis\": {\"automargin\": true, \"gridcolor\": \"white\", \"linecolor\": \"white\", \"ticks\": \"\", \"title\": {\"standoff\": 15}, \"zerolinecolor\": \"white\", \"zerolinewidth\": 2}}}, \"title\": {\"text\": \"Droop values fixed below 3\"}, \"xaxis\": {\"title\": {\"text\": \"Generator\"}}, \"yaxis\": {\"title\": {\"text\": \"Droop [%]\"}}},                        {\"responsive\": true}                    ).then(function(){\n",
       "                            \n",
       "var gd = document.getElementById('3a77851a-b7f0-49f4-a738-f6115b2dd7f3');\n",
       "var x = new MutationObserver(function (mutations, observer) {{\n",
       "        var display = window.getComputedStyle(gd).display;\n",
       "        if (!display || display === 'none') {{\n",
       "            console.log([gd, 'removed!']);\n",
       "            Plotly.purge(gd);\n",
       "            observer.disconnect();\n",
       "        }}\n",
       "}});\n",
       "\n",
       "// Listen for the removal of the full notebook cells\n",
       "var notebookContainer = gd.closest('#notebook-container');\n",
       "if (notebookContainer) {{\n",
       "    x.observe(notebookContainer, {childList: true});\n",
       "}}\n",
       "\n",
       "// Listen for the clearing of the current output cell\n",
       "var outputEl = gd.closest('.output');\n",
       "if (outputEl) {{\n",
       "    x.observe(outputEl, {childList: true});\n",
       "}}\n",
       "\n",
       "                        })                };                });            </script>        </div>"
      ]
     },
     "metadata": {}
    },
    {
     "output_type": "display_data",
     "data": {
      "application/vnd.plotly.v1+json": {
       "config": {
        "plotlyServerURL": "https://plot.ly"
       },
       "data": [
        {
         "line": {
          "color": "black",
          "dash": "dash",
          "width": 0.5
         },
         "mode": "lines",
         "showlegend": false,
         "type": "scatter",
         "x": [
          "Plant1_G1",
          "Plant1_G2",
          "Plant2_G1",
          "Plant2_G2",
          "Plant2_G3",
          "Plant2_G4"
         ],
         "y": [
          1,
          1,
          1,
          1,
          1,
          1
         ]
        },
        {
         "line": {
          "color": "black",
          "dash": "dash",
          "width": 0.5
         },
         "mode": "lines",
         "showlegend": false,
         "type": "scatter",
         "x": [
          "Plant1_G1",
          "Plant1_G2",
          "Plant2_G1",
          "Plant2_G2",
          "Plant2_G3",
          "Plant2_G4"
         ],
         "y": [
          2,
          2,
          2,
          2,
          2,
          2
         ]
        },
        {
         "line": {
          "color": "black",
          "dash": "dash",
          "width": 0.5
         },
         "mode": "lines",
         "showlegend": false,
         "type": "scatter",
         "x": [
          "Plant1_G1",
          "Plant1_G2",
          "Plant2_G1",
          "Plant2_G2",
          "Plant2_G3",
          "Plant2_G4"
         ],
         "y": [
          3,
          3,
          3,
          3,
          3,
          3
         ]
        },
        {
         "line": {
          "color": "black",
          "dash": "dash",
          "width": 0.5
         },
         "mode": "lines",
         "showlegend": false,
         "type": "scatter",
         "x": [
          "Plant1_G1",
          "Plant1_G2",
          "Plant2_G1",
          "Plant2_G2",
          "Plant2_G3",
          "Plant2_G4"
         ],
         "y": [
          4,
          4,
          4,
          4,
          4,
          4
         ]
        },
        {
         "line": {
          "color": "black",
          "dash": "dash",
          "width": 0.5
         },
         "mode": "lines",
         "showlegend": false,
         "type": "scatter",
         "x": [
          "Plant1_G1",
          "Plant1_G2",
          "Plant2_G1",
          "Plant2_G2",
          "Plant2_G3",
          "Plant2_G4"
         ],
         "y": [
          5,
          5,
          5,
          5,
          5,
          5
         ]
        },
        {
         "line": {
          "color": "black",
          "dash": "dash",
          "width": 0.5
         },
         "mode": "lines",
         "showlegend": false,
         "type": "scatter",
         "x": [
          "Plant1_G1",
          "Plant1_G2",
          "Plant2_G1",
          "Plant2_G2",
          "Plant2_G3",
          "Plant2_G4"
         ],
         "y": [
          6,
          6,
          6,
          6,
          6,
          6
         ]
        },
        {
         "line": {
          "color": "black",
          "dash": "dash",
          "width": 0.5
         },
         "mode": "lines",
         "showlegend": false,
         "type": "scatter",
         "x": [
          "Plant1_G1",
          "Plant1_G2",
          "Plant2_G1",
          "Plant2_G2",
          "Plant2_G3",
          "Plant2_G4"
         ],
         "y": [
          7,
          7,
          7,
          7,
          7,
          7
         ]
        },
        {
         "line": {
          "color": "black",
          "dash": "dash",
          "width": 0.5
         },
         "mode": "lines",
         "showlegend": false,
         "type": "scatter",
         "x": [
          "Plant1_G1",
          "Plant1_G2",
          "Plant2_G1",
          "Plant2_G2",
          "Plant2_G3",
          "Plant2_G4"
         ],
         "y": [
          8,
          8,
          8,
          8,
          8,
          8
         ]
        },
        {
         "line": {
          "color": "black",
          "dash": "dash",
          "width": 0.5
         },
         "mode": "lines",
         "showlegend": false,
         "type": "scatter",
         "x": [
          "Plant1_G1",
          "Plant1_G2",
          "Plant2_G1",
          "Plant2_G2",
          "Plant2_G3",
          "Plant2_G4"
         ],
         "y": [
          9,
          9,
          9,
          9,
          9,
          9
         ]
        },
        {
         "line": {
          "color": "black",
          "dash": "dash",
          "width": 0.5
         },
         "mode": "lines",
         "showlegend": false,
         "type": "scatter",
         "x": [
          "Plant1_G1",
          "Plant1_G2",
          "Plant2_G1",
          "Plant2_G2",
          "Plant2_G3",
          "Plant2_G4"
         ],
         "y": [
          10,
          10,
          10,
          10,
          10,
          10
         ]
        },
        {
         "line": {
          "color": "black",
          "dash": "dash",
          "width": 0.5
         },
         "mode": "lines",
         "showlegend": false,
         "type": "scatter",
         "x": [
          "Plant1_G1",
          "Plant1_G2",
          "Plant2_G1",
          "Plant2_G2",
          "Plant2_G3",
          "Plant2_G4"
         ],
         "y": [
          11,
          11,
          11,
          11,
          11,
          11
         ]
        },
        {
         "line": {
          "color": "black",
          "dash": "dash",
          "width": 0.5
         },
         "mode": "lines",
         "showlegend": false,
         "type": "scatter",
         "x": [
          "Plant1_G1",
          "Plant1_G2",
          "Plant2_G1",
          "Plant2_G2",
          "Plant2_G3",
          "Plant2_G4"
         ],
         "y": [
          12,
          12,
          12,
          12,
          12,
          12
         ]
        },
        {
         "line": {
          "color": "red",
          "dash": "dash",
          "width": 0.5
         },
         "mode": "lines",
         "showlegend": false,
         "type": "scatter",
         "x": [
          "Plant2_G1",
          "Plant2_G4"
         ],
         "y": [
          1.5,
          1.5
         ]
        },
        {
         "line": {
          "color": "red",
          "dash": "dash",
          "width": 0.5
         },
         "mode": "lines",
         "showlegend": false,
         "type": "scatter",
         "x": [
          "Plant2_G1",
          "Plant2_G4"
         ],
         "y": [
          2.5,
          2.5
         ]
        },
        {
         "line": {
          "color": "red",
          "dash": "dash",
          "width": 0.5
         },
         "mode": "lines",
         "showlegend": false,
         "type": "scatter",
         "x": [
          "Plant2_G1",
          "Plant2_G4"
         ],
         "y": [
          3.5,
          3.5
         ]
        },
        {
         "line": {
          "color": "red",
          "dash": "dash",
          "width": 0.5
         },
         "mode": "lines",
         "showlegend": false,
         "type": "scatter",
         "x": [
          "Plant2_G1",
          "Plant2_G4"
         ],
         "y": [
          4.5,
          4.5
         ]
        },
        {
         "line": {
          "color": "red",
          "dash": "dash",
          "width": 0.5
         },
         "mode": "lines",
         "showlegend": false,
         "type": "scatter",
         "x": [
          "Plant2_G1",
          "Plant2_G4"
         ],
         "y": [
          5.5,
          5.5
         ]
        },
        {
         "line": {
          "color": "red",
          "dash": "dash",
          "width": 0.5
         },
         "mode": "lines",
         "showlegend": false,
         "type": "scatter",
         "x": [
          "Plant2_G1",
          "Plant2_G4"
         ],
         "y": [
          6.5,
          6.5
         ]
        },
        {
         "line": {
          "color": "red",
          "dash": "dash",
          "width": 0.5
         },
         "mode": "lines",
         "showlegend": false,
         "type": "scatter",
         "x": [
          "Plant2_G1",
          "Plant2_G4"
         ],
         "y": [
          7.5,
          7.5
         ]
        },
        {
         "line": {
          "color": "red",
          "dash": "dash",
          "width": 0.5
         },
         "mode": "lines",
         "showlegend": false,
         "type": "scatter",
         "x": [
          "Plant2_G1",
          "Plant2_G4"
         ],
         "y": [
          8.5,
          8.5
         ]
        },
        {
         "line": {
          "color": "red",
          "dash": "dash",
          "width": 0.5
         },
         "mode": "lines",
         "showlegend": false,
         "type": "scatter",
         "x": [
          "Plant2_G1",
          "Plant2_G4"
         ],
         "y": [
          9.5,
          9.5
         ]
        },
        {
         "line": {
          "color": "red",
          "dash": "dash",
          "width": 0.5
         },
         "mode": "lines",
         "showlegend": false,
         "type": "scatter",
         "x": [
          "Plant2_G1",
          "Plant2_G4"
         ],
         "y": [
          10.5,
          10.5
         ]
        },
        {
         "line": {
          "color": "red",
          "dash": "dash",
          "width": 0.5
         },
         "mode": "lines",
         "showlegend": false,
         "type": "scatter",
         "x": [
          "Plant2_G1",
          "Plant2_G4"
         ],
         "y": [
          11.5,
          11.5
         ]
        },
        {
         "mode": "markers",
         "showlegend": false,
         "type": "scatter",
         "x": [
          "Plant1_G1",
          "Plant1_G1",
          "Plant1_G1",
          "Plant1_G1",
          "Plant1_G1",
          "Plant1_G1",
          "Plant1_G1",
          "Plant1_G1",
          "Plant1_G1",
          "Plant1_G1",
          "Plant1_G1",
          "Plant1_G1",
          "Plant1_G1",
          "Plant1_G1",
          "Plant1_G1",
          "Plant1_G1",
          "Plant1_G1",
          "Plant1_G1",
          "Plant1_G1",
          "Plant1_G1",
          "Plant1_G1",
          "Plant1_G1",
          "Plant1_G1",
          "Plant1_G1",
          "Plant1_G1",
          "Plant1_G1",
          "Plant1_G1",
          "Plant1_G1",
          "Plant1_G1",
          "Plant1_G1",
          "Plant1_G1",
          "Plant1_G1",
          "Plant1_G1",
          "Plant1_G1",
          "Plant1_G1",
          "Plant1_G1",
          "Plant1_G1",
          "Plant1_G1",
          "Plant1_G1",
          "Plant1_G1",
          "Plant1_G1",
          "Plant1_G1",
          "Plant1_G1",
          "Plant1_G1",
          "Plant1_G1",
          "Plant1_G1",
          "Plant1_G1",
          "Plant1_G1",
          "Plant1_G1",
          "Plant1_G1",
          "Plant1_G1",
          "Plant1_G1",
          "Plant1_G1",
          "Plant1_G1",
          "Plant1_G1",
          "Plant1_G1",
          "Plant1_G1",
          "Plant1_G1",
          "Plant1_G1",
          "Plant1_G1",
          "Plant1_G1",
          "Plant1_G1",
          "Plant1_G1",
          "Plant1_G1",
          "Plant1_G1",
          "Plant1_G1",
          "Plant1_G1",
          "Plant1_G1",
          "Plant1_G1",
          "Plant1_G1",
          "Plant1_G1",
          "Plant1_G1"
         ],
         "y": [
          12,
          12,
          12,
          12,
          12,
          12,
          12,
          7.432582236713128,
          7.562121950908458,
          7.873069438343074,
          8.260802593320685,
          6.891271451560326,
          7.474132266157679,
          6.706087113439942,
          3,
          3,
          6.057707410613184,
          5,
          3,
          3,
          12,
          12,
          12,
          12,
          12,
          12,
          12,
          12,
          12,
          12,
          12,
          2,
          2,
          2,
          12,
          12,
          6.3716814159292054,
          6.3716814159292054,
          6.3716814159292054,
          6.371681415929205,
          6.371681415929205,
          6.371681415929205,
          6.371681415929205,
          12,
          12,
          12,
          12,
          12,
          12,
          12,
          12,
          12,
          12,
          12,
          12,
          2,
          2,
          1,
          1,
          1,
          1,
          1,
          1,
          1,
          1,
          2,
          2,
          12,
          1,
          1,
          1,
          12
         ]
        },
        {
         "mode": "markers",
         "showlegend": false,
         "type": "scatter",
         "x": [
          "Plant1_G2",
          "Plant1_G2",
          "Plant1_G2",
          "Plant1_G2",
          "Plant1_G2",
          "Plant1_G2",
          "Plant1_G2",
          "Plant1_G2",
          "Plant1_G2",
          "Plant1_G2",
          "Plant1_G2",
          "Plant1_G2",
          "Plant1_G2",
          "Plant1_G2",
          "Plant1_G2",
          "Plant1_G2",
          "Plant1_G2",
          "Plant1_G2",
          "Plant1_G2",
          "Plant1_G2",
          "Plant1_G2",
          "Plant1_G2",
          "Plant1_G2",
          "Plant1_G2",
          "Plant1_G2",
          "Plant1_G2",
          "Plant1_G2",
          "Plant1_G2",
          "Plant1_G2",
          "Plant1_G2",
          "Plant1_G2",
          "Plant1_G2",
          "Plant1_G2",
          "Plant1_G2",
          "Plant1_G2",
          "Plant1_G2",
          "Plant1_G2",
          "Plant1_G2",
          "Plant1_G2",
          "Plant1_G2",
          "Plant1_G2",
          "Plant1_G2",
          "Plant1_G2",
          "Plant1_G2",
          "Plant1_G2",
          "Plant1_G2",
          "Plant1_G2",
          "Plant1_G2",
          "Plant1_G2",
          "Plant1_G2",
          "Plant1_G2",
          "Plant1_G2",
          "Plant1_G2",
          "Plant1_G2",
          "Plant1_G2",
          "Plant1_G2",
          "Plant1_G2",
          "Plant1_G2",
          "Plant1_G2",
          "Plant1_G2",
          "Plant1_G2",
          "Plant1_G2",
          "Plant1_G2",
          "Plant1_G2",
          "Plant1_G2",
          "Plant1_G2",
          "Plant1_G2",
          "Plant1_G2",
          "Plant1_G2",
          "Plant1_G2",
          "Plant1_G2",
          "Plant1_G2"
         ],
         "y": [
          12,
          12,
          12,
          12,
          12,
          12,
          12,
          7.50316712377331,
          7.505677122270354,
          7.2906749910685384,
          7.086165672586233,
          8.685733041875938,
          6.687239397933579,
          6.7060876234254465,
          3,
          3,
          6.761449231027571,
          8.416857160864335,
          3,
          12,
          12,
          12,
          12,
          12,
          12,
          12,
          12,
          12,
          12,
          12,
          12,
          12,
          12,
          12,
          12,
          12,
          12,
          12,
          12,
          12,
          12,
          12,
          12,
          12,
          12,
          12,
          12,
          12,
          12,
          12,
          12,
          12,
          12,
          12,
          12,
          12,
          12,
          12,
          12,
          12,
          12,
          12,
          12,
          12,
          12,
          2,
          2,
          1,
          12,
          12,
          12,
          12
         ]
        },
        {
         "mode": "markers",
         "showlegend": false,
         "type": "scatter",
         "x": [
          "Plant2_G1",
          "Plant2_G1",
          "Plant2_G1",
          "Plant2_G1",
          "Plant2_G1",
          "Plant2_G1",
          "Plant2_G1",
          "Plant2_G1",
          "Plant2_G1",
          "Plant2_G1",
          "Plant2_G1",
          "Plant2_G1",
          "Plant2_G1",
          "Plant2_G1",
          "Plant2_G1",
          "Plant2_G1",
          "Plant2_G1",
          "Plant2_G1",
          "Plant2_G1",
          "Plant2_G1",
          "Plant2_G1",
          "Plant2_G1",
          "Plant2_G1",
          "Plant2_G1",
          "Plant2_G1",
          "Plant2_G1",
          "Plant2_G1",
          "Plant2_G1",
          "Plant2_G1",
          "Plant2_G1",
          "Plant2_G1",
          "Plant2_G1",
          "Plant2_G1",
          "Plant2_G1",
          "Plant2_G1",
          "Plant2_G1",
          "Plant2_G1",
          "Plant2_G1",
          "Plant2_G1",
          "Plant2_G1",
          "Plant2_G1",
          "Plant2_G1",
          "Plant2_G1",
          "Plant2_G1",
          "Plant2_G1",
          "Plant2_G1",
          "Plant2_G1",
          "Plant2_G1",
          "Plant2_G1",
          "Plant2_G1",
          "Plant2_G1",
          "Plant2_G1",
          "Plant2_G1",
          "Plant2_G1",
          "Plant2_G1",
          "Plant2_G1",
          "Plant2_G1",
          "Plant2_G1",
          "Plant2_G1",
          "Plant2_G1",
          "Plant2_G1",
          "Plant2_G1",
          "Plant2_G1",
          "Plant2_G1",
          "Plant2_G1",
          "Plant2_G1",
          "Plant2_G1",
          "Plant2_G1",
          "Plant2_G1",
          "Plant2_G1",
          "Plant2_G1",
          "Plant2_G1"
         ],
         "y": [
          2.5,
          2,
          2,
          2,
          2,
          2.5,
          12,
          12,
          12,
          12,
          12,
          12,
          12,
          12,
          12,
          12,
          12,
          12,
          12,
          4.5,
          2.5,
          2.5,
          2,
          2,
          2,
          1.5,
          1.5,
          1.5,
          1.5,
          2,
          2,
          7.004901374184835,
          6.966292802792123,
          6.928118755960364,
          2.5,
          2,
          2.5,
          2.5,
          2.5,
          2.5,
          2.5,
          2.5,
          2.5,
          2,
          2,
          2,
          1.5,
          1.5,
          1.5,
          1.5,
          1.5,
          1.5,
          1.5,
          1.5,
          2,
          5.5,
          5.5,
          6.487386510772619,
          6.47045883190831,
          6.453621530752221,
          6.436873885891997,
          11.572794839338597,
          11.573089410149157,
          6.387991551440991,
          12,
          12,
          12,
          12,
          12,
          12,
          12,
          2
         ]
        },
        {
         "mode": "markers",
         "showlegend": false,
         "type": "scatter",
         "x": [
          "Plant2_G2",
          "Plant2_G2",
          "Plant2_G2",
          "Plant2_G2",
          "Plant2_G2",
          "Plant2_G2",
          "Plant2_G2",
          "Plant2_G2",
          "Plant2_G2",
          "Plant2_G2",
          "Plant2_G2",
          "Plant2_G2",
          "Plant2_G2",
          "Plant2_G2",
          "Plant2_G2",
          "Plant2_G2",
          "Plant2_G2",
          "Plant2_G2",
          "Plant2_G2",
          "Plant2_G2",
          "Plant2_G2",
          "Plant2_G2",
          "Plant2_G2",
          "Plant2_G2",
          "Plant2_G2",
          "Plant2_G2",
          "Plant2_G2",
          "Plant2_G2",
          "Plant2_G2",
          "Plant2_G2",
          "Plant2_G2",
          "Plant2_G2",
          "Plant2_G2",
          "Plant2_G2",
          "Plant2_G2",
          "Plant2_G2",
          "Plant2_G2",
          "Plant2_G2",
          "Plant2_G2",
          "Plant2_G2",
          "Plant2_G2",
          "Plant2_G2",
          "Plant2_G2",
          "Plant2_G2",
          "Plant2_G2",
          "Plant2_G2",
          "Plant2_G2",
          "Plant2_G2",
          "Plant2_G2",
          "Plant2_G2",
          "Plant2_G2",
          "Plant2_G2",
          "Plant2_G2",
          "Plant2_G2",
          "Plant2_G2",
          "Plant2_G2",
          "Plant2_G2",
          "Plant2_G2",
          "Plant2_G2",
          "Plant2_G2",
          "Plant2_G2",
          "Plant2_G2",
          "Plant2_G2",
          "Plant2_G2",
          "Plant2_G2",
          "Plant2_G2",
          "Plant2_G2",
          "Plant2_G2",
          "Plant2_G2",
          "Plant2_G2",
          "Plant2_G2",
          "Plant2_G2"
         ],
         "y": [
          12,
          12,
          12,
          12,
          12,
          12,
          2.5,
          2.5,
          2.5,
          2.5,
          2.5,
          2.5,
          2.5,
          2.5,
          12,
          12,
          2.5,
          2.5,
          12,
          12,
          12,
          12,
          12,
          12,
          12,
          12,
          12,
          12,
          12,
          12,
          12,
          12,
          12,
          12,
          12,
          12,
          12,
          12,
          12,
          12,
          12,
          12,
          12,
          12,
          12,
          12,
          12,
          12,
          12,
          12,
          12,
          12,
          12,
          12,
          12,
          12,
          12,
          12,
          12,
          12,
          12,
          12,
          12,
          12,
          12,
          12,
          12,
          12,
          12,
          12,
          12,
          10.153846153846153
         ]
        },
        {
         "mode": "markers",
         "showlegend": false,
         "type": "scatter",
         "x": [
          "Plant2_G3",
          "Plant2_G3",
          "Plant2_G3",
          "Plant2_G3",
          "Plant2_G3",
          "Plant2_G3",
          "Plant2_G3",
          "Plant2_G3",
          "Plant2_G3",
          "Plant2_G3",
          "Plant2_G3",
          "Plant2_G3",
          "Plant2_G3",
          "Plant2_G3",
          "Plant2_G3",
          "Plant2_G3",
          "Plant2_G3",
          "Plant2_G3",
          "Plant2_G3",
          "Plant2_G3",
          "Plant2_G3",
          "Plant2_G3",
          "Plant2_G3",
          "Plant2_G3",
          "Plant2_G3",
          "Plant2_G3",
          "Plant2_G3",
          "Plant2_G3",
          "Plant2_G3",
          "Plant2_G3",
          "Plant2_G3",
          "Plant2_G3",
          "Plant2_G3",
          "Plant2_G3",
          "Plant2_G3",
          "Plant2_G3",
          "Plant2_G3",
          "Plant2_G3",
          "Plant2_G3",
          "Plant2_G3",
          "Plant2_G3",
          "Plant2_G3",
          "Plant2_G3",
          "Plant2_G3",
          "Plant2_G3",
          "Plant2_G3",
          "Plant2_G3",
          "Plant2_G3",
          "Plant2_G3",
          "Plant2_G3",
          "Plant2_G3",
          "Plant2_G3",
          "Plant2_G3",
          "Plant2_G3",
          "Plant2_G3",
          "Plant2_G3",
          "Plant2_G3",
          "Plant2_G3",
          "Plant2_G3",
          "Plant2_G3",
          "Plant2_G3",
          "Plant2_G3",
          "Plant2_G3",
          "Plant2_G3",
          "Plant2_G3",
          "Plant2_G3",
          "Plant2_G3",
          "Plant2_G3",
          "Plant2_G3",
          "Plant2_G3",
          "Plant2_G3",
          "Plant2_G3"
         ],
         "y": [
          12,
          12,
          12,
          12,
          12,
          12,
          2.5,
          2.5,
          2.5,
          2.5,
          2.5,
          2.5,
          2.5,
          2.5,
          12,
          12,
          2.5,
          2.5,
          12,
          12,
          12,
          12,
          12,
          12,
          12,
          12,
          12,
          12,
          12,
          12,
          12,
          12,
          12,
          12,
          12,
          12,
          12,
          12,
          12,
          12,
          12,
          12,
          12,
          12,
          12,
          12,
          12,
          12,
          12,
          12,
          12,
          12,
          12,
          12,
          12,
          12,
          12,
          12,
          12,
          12,
          12,
          12,
          12,
          12,
          12,
          12,
          12,
          12,
          12,
          12,
          12,
          12
         ]
        },
        {
         "mode": "markers",
         "showlegend": false,
         "type": "scatter",
         "x": [
          "Plant2_G4",
          "Plant2_G4",
          "Plant2_G4",
          "Plant2_G4",
          "Plant2_G4",
          "Plant2_G4",
          "Plant2_G4",
          "Plant2_G4",
          "Plant2_G4",
          "Plant2_G4",
          "Plant2_G4",
          "Plant2_G4",
          "Plant2_G4",
          "Plant2_G4",
          "Plant2_G4",
          "Plant2_G4",
          "Plant2_G4",
          "Plant2_G4",
          "Plant2_G4",
          "Plant2_G4",
          "Plant2_G4",
          "Plant2_G4",
          "Plant2_G4",
          "Plant2_G4",
          "Plant2_G4",
          "Plant2_G4",
          "Plant2_G4",
          "Plant2_G4",
          "Plant2_G4",
          "Plant2_G4",
          "Plant2_G4",
          "Plant2_G4",
          "Plant2_G4",
          "Plant2_G4",
          "Plant2_G4",
          "Plant2_G4",
          "Plant2_G4",
          "Plant2_G4",
          "Plant2_G4",
          "Plant2_G4",
          "Plant2_G4",
          "Plant2_G4",
          "Plant2_G4",
          "Plant2_G4",
          "Plant2_G4",
          "Plant2_G4",
          "Plant2_G4",
          "Plant2_G4",
          "Plant2_G4",
          "Plant2_G4",
          "Plant2_G4",
          "Plant2_G4",
          "Plant2_G4",
          "Plant2_G4",
          "Plant2_G4",
          "Plant2_G4",
          "Plant2_G4",
          "Plant2_G4",
          "Plant2_G4",
          "Plant2_G4",
          "Plant2_G4",
          "Plant2_G4",
          "Plant2_G4",
          "Plant2_G4",
          "Plant2_G4",
          "Plant2_G4",
          "Plant2_G4",
          "Plant2_G4",
          "Plant2_G4",
          "Plant2_G4",
          "Plant2_G4",
          "Plant2_G4"
         ],
         "y": [
          12,
          12,
          12,
          12,
          12,
          12,
          2.5,
          2.5,
          2.5,
          2.5,
          2.5,
          2.5,
          2.5,
          2.5,
          12,
          12,
          2.5,
          2.5,
          12,
          12,
          12,
          12,
          12,
          12,
          12,
          12,
          12,
          12,
          12,
          12,
          12,
          12,
          12,
          12,
          12,
          12,
          12,
          12,
          12,
          12,
          12,
          12,
          12,
          12,
          12,
          12,
          12,
          12,
          12,
          12,
          12,
          12,
          12,
          12,
          12,
          12,
          12,
          12,
          12,
          12,
          12,
          12,
          12,
          12,
          12,
          12,
          12,
          12,
          12,
          12,
          12,
          12
         ]
        }
       ],
       "layout": {
        "template": {
         "data": {
          "bar": [
           {
            "error_x": {
             "color": "#2a3f5f"
            },
            "error_y": {
             "color": "#2a3f5f"
            },
            "marker": {
             "line": {
              "color": "#E5ECF6",
              "width": 0.5
             }
            },
            "type": "bar"
           }
          ],
          "barpolar": [
           {
            "marker": {
             "line": {
              "color": "#E5ECF6",
              "width": 0.5
             }
            },
            "type": "barpolar"
           }
          ],
          "carpet": [
           {
            "aaxis": {
             "endlinecolor": "#2a3f5f",
             "gridcolor": "white",
             "linecolor": "white",
             "minorgridcolor": "white",
             "startlinecolor": "#2a3f5f"
            },
            "baxis": {
             "endlinecolor": "#2a3f5f",
             "gridcolor": "white",
             "linecolor": "white",
             "minorgridcolor": "white",
             "startlinecolor": "#2a3f5f"
            },
            "type": "carpet"
           }
          ],
          "choropleth": [
           {
            "colorbar": {
             "outlinewidth": 0,
             "ticks": ""
            },
            "type": "choropleth"
           }
          ],
          "contour": [
           {
            "colorbar": {
             "outlinewidth": 0,
             "ticks": ""
            },
            "colorscale": [
             [
              0,
              "#0d0887"
             ],
             [
              0.1111111111111111,
              "#46039f"
             ],
             [
              0.2222222222222222,
              "#7201a8"
             ],
             [
              0.3333333333333333,
              "#9c179e"
             ],
             [
              0.4444444444444444,
              "#bd3786"
             ],
             [
              0.5555555555555556,
              "#d8576b"
             ],
             [
              0.6666666666666666,
              "#ed7953"
             ],
             [
              0.7777777777777778,
              "#fb9f3a"
             ],
             [
              0.8888888888888888,
              "#fdca26"
             ],
             [
              1,
              "#f0f921"
             ]
            ],
            "type": "contour"
           }
          ],
          "contourcarpet": [
           {
            "colorbar": {
             "outlinewidth": 0,
             "ticks": ""
            },
            "type": "contourcarpet"
           }
          ],
          "heatmap": [
           {
            "colorbar": {
             "outlinewidth": 0,
             "ticks": ""
            },
            "colorscale": [
             [
              0,
              "#0d0887"
             ],
             [
              0.1111111111111111,
              "#46039f"
             ],
             [
              0.2222222222222222,
              "#7201a8"
             ],
             [
              0.3333333333333333,
              "#9c179e"
             ],
             [
              0.4444444444444444,
              "#bd3786"
             ],
             [
              0.5555555555555556,
              "#d8576b"
             ],
             [
              0.6666666666666666,
              "#ed7953"
             ],
             [
              0.7777777777777778,
              "#fb9f3a"
             ],
             [
              0.8888888888888888,
              "#fdca26"
             ],
             [
              1,
              "#f0f921"
             ]
            ],
            "type": "heatmap"
           }
          ],
          "heatmapgl": [
           {
            "colorbar": {
             "outlinewidth": 0,
             "ticks": ""
            },
            "colorscale": [
             [
              0,
              "#0d0887"
             ],
             [
              0.1111111111111111,
              "#46039f"
             ],
             [
              0.2222222222222222,
              "#7201a8"
             ],
             [
              0.3333333333333333,
              "#9c179e"
             ],
             [
              0.4444444444444444,
              "#bd3786"
             ],
             [
              0.5555555555555556,
              "#d8576b"
             ],
             [
              0.6666666666666666,
              "#ed7953"
             ],
             [
              0.7777777777777778,
              "#fb9f3a"
             ],
             [
              0.8888888888888888,
              "#fdca26"
             ],
             [
              1,
              "#f0f921"
             ]
            ],
            "type": "heatmapgl"
           }
          ],
          "histogram": [
           {
            "marker": {
             "colorbar": {
              "outlinewidth": 0,
              "ticks": ""
             }
            },
            "type": "histogram"
           }
          ],
          "histogram2d": [
           {
            "colorbar": {
             "outlinewidth": 0,
             "ticks": ""
            },
            "colorscale": [
             [
              0,
              "#0d0887"
             ],
             [
              0.1111111111111111,
              "#46039f"
             ],
             [
              0.2222222222222222,
              "#7201a8"
             ],
             [
              0.3333333333333333,
              "#9c179e"
             ],
             [
              0.4444444444444444,
              "#bd3786"
             ],
             [
              0.5555555555555556,
              "#d8576b"
             ],
             [
              0.6666666666666666,
              "#ed7953"
             ],
             [
              0.7777777777777778,
              "#fb9f3a"
             ],
             [
              0.8888888888888888,
              "#fdca26"
             ],
             [
              1,
              "#f0f921"
             ]
            ],
            "type": "histogram2d"
           }
          ],
          "histogram2dcontour": [
           {
            "colorbar": {
             "outlinewidth": 0,
             "ticks": ""
            },
            "colorscale": [
             [
              0,
              "#0d0887"
             ],
             [
              0.1111111111111111,
              "#46039f"
             ],
             [
              0.2222222222222222,
              "#7201a8"
             ],
             [
              0.3333333333333333,
              "#9c179e"
             ],
             [
              0.4444444444444444,
              "#bd3786"
             ],
             [
              0.5555555555555556,
              "#d8576b"
             ],
             [
              0.6666666666666666,
              "#ed7953"
             ],
             [
              0.7777777777777778,
              "#fb9f3a"
             ],
             [
              0.8888888888888888,
              "#fdca26"
             ],
             [
              1,
              "#f0f921"
             ]
            ],
            "type": "histogram2dcontour"
           }
          ],
          "mesh3d": [
           {
            "colorbar": {
             "outlinewidth": 0,
             "ticks": ""
            },
            "type": "mesh3d"
           }
          ],
          "parcoords": [
           {
            "line": {
             "colorbar": {
              "outlinewidth": 0,
              "ticks": ""
             }
            },
            "type": "parcoords"
           }
          ],
          "pie": [
           {
            "automargin": true,
            "type": "pie"
           }
          ],
          "scatter": [
           {
            "marker": {
             "colorbar": {
              "outlinewidth": 0,
              "ticks": ""
             }
            },
            "type": "scatter"
           }
          ],
          "scatter3d": [
           {
            "line": {
             "colorbar": {
              "outlinewidth": 0,
              "ticks": ""
             }
            },
            "marker": {
             "colorbar": {
              "outlinewidth": 0,
              "ticks": ""
             }
            },
            "type": "scatter3d"
           }
          ],
          "scattercarpet": [
           {
            "marker": {
             "colorbar": {
              "outlinewidth": 0,
              "ticks": ""
             }
            },
            "type": "scattercarpet"
           }
          ],
          "scattergeo": [
           {
            "marker": {
             "colorbar": {
              "outlinewidth": 0,
              "ticks": ""
             }
            },
            "type": "scattergeo"
           }
          ],
          "scattergl": [
           {
            "marker": {
             "colorbar": {
              "outlinewidth": 0,
              "ticks": ""
             }
            },
            "type": "scattergl"
           }
          ],
          "scattermapbox": [
           {
            "marker": {
             "colorbar": {
              "outlinewidth": 0,
              "ticks": ""
             }
            },
            "type": "scattermapbox"
           }
          ],
          "scatterpolar": [
           {
            "marker": {
             "colorbar": {
              "outlinewidth": 0,
              "ticks": ""
             }
            },
            "type": "scatterpolar"
           }
          ],
          "scatterpolargl": [
           {
            "marker": {
             "colorbar": {
              "outlinewidth": 0,
              "ticks": ""
             }
            },
            "type": "scatterpolargl"
           }
          ],
          "scatterternary": [
           {
            "marker": {
             "colorbar": {
              "outlinewidth": 0,
              "ticks": ""
             }
            },
            "type": "scatterternary"
           }
          ],
          "surface": [
           {
            "colorbar": {
             "outlinewidth": 0,
             "ticks": ""
            },
            "colorscale": [
             [
              0,
              "#0d0887"
             ],
             [
              0.1111111111111111,
              "#46039f"
             ],
             [
              0.2222222222222222,
              "#7201a8"
             ],
             [
              0.3333333333333333,
              "#9c179e"
             ],
             [
              0.4444444444444444,
              "#bd3786"
             ],
             [
              0.5555555555555556,
              "#d8576b"
             ],
             [
              0.6666666666666666,
              "#ed7953"
             ],
             [
              0.7777777777777778,
              "#fb9f3a"
             ],
             [
              0.8888888888888888,
              "#fdca26"
             ],
             [
              1,
              "#f0f921"
             ]
            ],
            "type": "surface"
           }
          ],
          "table": [
           {
            "cells": {
             "fill": {
              "color": "#EBF0F8"
             },
             "line": {
              "color": "white"
             }
            },
            "header": {
             "fill": {
              "color": "#C8D4E3"
             },
             "line": {
              "color": "white"
             }
            },
            "type": "table"
           }
          ]
         },
         "layout": {
          "annotationdefaults": {
           "arrowcolor": "#2a3f5f",
           "arrowhead": 0,
           "arrowwidth": 1
          },
          "autotypenumbers": "strict",
          "coloraxis": {
           "colorbar": {
            "outlinewidth": 0,
            "ticks": ""
           }
          },
          "colorscale": {
           "diverging": [
            [
             0,
             "#8e0152"
            ],
            [
             0.1,
             "#c51b7d"
            ],
            [
             0.2,
             "#de77ae"
            ],
            [
             0.3,
             "#f1b6da"
            ],
            [
             0.4,
             "#fde0ef"
            ],
            [
             0.5,
             "#f7f7f7"
            ],
            [
             0.6,
             "#e6f5d0"
            ],
            [
             0.7,
             "#b8e186"
            ],
            [
             0.8,
             "#7fbc41"
            ],
            [
             0.9,
             "#4d9221"
            ],
            [
             1,
             "#276419"
            ]
           ],
           "sequential": [
            [
             0,
             "#0d0887"
            ],
            [
             0.1111111111111111,
             "#46039f"
            ],
            [
             0.2222222222222222,
             "#7201a8"
            ],
            [
             0.3333333333333333,
             "#9c179e"
            ],
            [
             0.4444444444444444,
             "#bd3786"
            ],
            [
             0.5555555555555556,
             "#d8576b"
            ],
            [
             0.6666666666666666,
             "#ed7953"
            ],
            [
             0.7777777777777778,
             "#fb9f3a"
            ],
            [
             0.8888888888888888,
             "#fdca26"
            ],
            [
             1,
             "#f0f921"
            ]
           ],
           "sequentialminus": [
            [
             0,
             "#0d0887"
            ],
            [
             0.1111111111111111,
             "#46039f"
            ],
            [
             0.2222222222222222,
             "#7201a8"
            ],
            [
             0.3333333333333333,
             "#9c179e"
            ],
            [
             0.4444444444444444,
             "#bd3786"
            ],
            [
             0.5555555555555556,
             "#d8576b"
            ],
            [
             0.6666666666666666,
             "#ed7953"
            ],
            [
             0.7777777777777778,
             "#fb9f3a"
            ],
            [
             0.8888888888888888,
             "#fdca26"
            ],
            [
             1,
             "#f0f921"
            ]
           ]
          },
          "colorway": [
           "#636efa",
           "#EF553B",
           "#00cc96",
           "#ab63fa",
           "#FFA15A",
           "#19d3f3",
           "#FF6692",
           "#B6E880",
           "#FF97FF",
           "#FECB52"
          ],
          "font": {
           "color": "#2a3f5f"
          },
          "geo": {
           "bgcolor": "white",
           "lakecolor": "white",
           "landcolor": "#E5ECF6",
           "showlakes": true,
           "showland": true,
           "subunitcolor": "white"
          },
          "hoverlabel": {
           "align": "left"
          },
          "hovermode": "closest",
          "mapbox": {
           "style": "light"
          },
          "paper_bgcolor": "white",
          "plot_bgcolor": "#E5ECF6",
          "polar": {
           "angularaxis": {
            "gridcolor": "white",
            "linecolor": "white",
            "ticks": ""
           },
           "bgcolor": "#E5ECF6",
           "radialaxis": {
            "gridcolor": "white",
            "linecolor": "white",
            "ticks": ""
           }
          },
          "scene": {
           "xaxis": {
            "backgroundcolor": "#E5ECF6",
            "gridcolor": "white",
            "gridwidth": 2,
            "linecolor": "white",
            "showbackground": true,
            "ticks": "",
            "zerolinecolor": "white"
           },
           "yaxis": {
            "backgroundcolor": "#E5ECF6",
            "gridcolor": "white",
            "gridwidth": 2,
            "linecolor": "white",
            "showbackground": true,
            "ticks": "",
            "zerolinecolor": "white"
           },
           "zaxis": {
            "backgroundcolor": "#E5ECF6",
            "gridcolor": "white",
            "gridwidth": 2,
            "linecolor": "white",
            "showbackground": true,
            "ticks": "",
            "zerolinecolor": "white"
           }
          },
          "shapedefaults": {
           "line": {
            "color": "#2a3f5f"
           }
          },
          "ternary": {
           "aaxis": {
            "gridcolor": "white",
            "linecolor": "white",
            "ticks": ""
           },
           "baxis": {
            "gridcolor": "white",
            "linecolor": "white",
            "ticks": ""
           },
           "bgcolor": "#E5ECF6",
           "caxis": {
            "gridcolor": "white",
            "linecolor": "white",
            "ticks": ""
           }
          },
          "title": {
           "x": 0.05
          },
          "xaxis": {
           "automargin": true,
           "gridcolor": "white",
           "linecolor": "white",
           "ticks": "",
           "title": {
            "standoff": 15
           },
           "zerolinecolor": "white",
           "zerolinewidth": 2
          },
          "yaxis": {
           "automargin": true,
           "gridcolor": "white",
           "linecolor": "white",
           "ticks": "",
           "title": {
            "standoff": 15
           },
           "zerolinecolor": "white",
           "zerolinewidth": 2
          }
         }
        },
        "title": {
         "text": "Droop values fixed below 6"
        },
        "xaxis": {
         "title": {
          "text": "Generator"
         }
        },
        "yaxis": {
         "title": {
          "text": "Droop [%]"
         }
        }
       }
      },
      "text/html": [
       "<div>                            <div id=\"2e33b0d2-61e3-4e5b-bad9-fc1635095746\" class=\"plotly-graph-div\" style=\"height:525px; width:100%;\"></div>            <script type=\"text/javascript\">                require([\"plotly\"], function(Plotly) {                    window.PLOTLYENV=window.PLOTLYENV || {};                                    if (document.getElementById(\"2e33b0d2-61e3-4e5b-bad9-fc1635095746\")) {                    Plotly.newPlot(                        \"2e33b0d2-61e3-4e5b-bad9-fc1635095746\",                        [{\"line\": {\"color\": \"black\", \"dash\": \"dash\", \"width\": 0.5}, \"mode\": \"lines\", \"showlegend\": false, \"type\": \"scatter\", \"x\": [\"Plant1_G1\", \"Plant1_G2\", \"Plant2_G1\", \"Plant2_G2\", \"Plant2_G3\", \"Plant2_G4\"], \"y\": [1, 1, 1, 1, 1, 1]}, {\"line\": {\"color\": \"black\", \"dash\": \"dash\", \"width\": 0.5}, \"mode\": \"lines\", \"showlegend\": false, \"type\": \"scatter\", \"x\": [\"Plant1_G1\", \"Plant1_G2\", \"Plant2_G1\", \"Plant2_G2\", \"Plant2_G3\", \"Plant2_G4\"], \"y\": [2, 2, 2, 2, 2, 2]}, {\"line\": {\"color\": \"black\", \"dash\": \"dash\", \"width\": 0.5}, \"mode\": \"lines\", \"showlegend\": false, \"type\": \"scatter\", \"x\": [\"Plant1_G1\", \"Plant1_G2\", \"Plant2_G1\", \"Plant2_G2\", \"Plant2_G3\", \"Plant2_G4\"], \"y\": [3, 3, 3, 3, 3, 3]}, {\"line\": {\"color\": \"black\", \"dash\": \"dash\", \"width\": 0.5}, \"mode\": \"lines\", \"showlegend\": false, \"type\": \"scatter\", \"x\": [\"Plant1_G1\", \"Plant1_G2\", \"Plant2_G1\", \"Plant2_G2\", \"Plant2_G3\", \"Plant2_G4\"], \"y\": [4, 4, 4, 4, 4, 4]}, {\"line\": {\"color\": \"black\", \"dash\": \"dash\", \"width\": 0.5}, \"mode\": \"lines\", \"showlegend\": false, \"type\": \"scatter\", \"x\": [\"Plant1_G1\", \"Plant1_G2\", \"Plant2_G1\", \"Plant2_G2\", \"Plant2_G3\", \"Plant2_G4\"], \"y\": [5, 5, 5, 5, 5, 5]}, {\"line\": {\"color\": \"black\", \"dash\": \"dash\", \"width\": 0.5}, \"mode\": \"lines\", \"showlegend\": false, \"type\": \"scatter\", \"x\": [\"Plant1_G1\", \"Plant1_G2\", \"Plant2_G1\", \"Plant2_G2\", \"Plant2_G3\", \"Plant2_G4\"], \"y\": [6, 6, 6, 6, 6, 6]}, {\"line\": {\"color\": \"black\", \"dash\": \"dash\", \"width\": 0.5}, \"mode\": \"lines\", \"showlegend\": false, \"type\": \"scatter\", \"x\": [\"Plant1_G1\", \"Plant1_G2\", \"Plant2_G1\", \"Plant2_G2\", \"Plant2_G3\", \"Plant2_G4\"], \"y\": [7, 7, 7, 7, 7, 7]}, {\"line\": {\"color\": \"black\", \"dash\": \"dash\", \"width\": 0.5}, \"mode\": \"lines\", \"showlegend\": false, \"type\": \"scatter\", \"x\": [\"Plant1_G1\", \"Plant1_G2\", \"Plant2_G1\", \"Plant2_G2\", \"Plant2_G3\", \"Plant2_G4\"], \"y\": [8, 8, 8, 8, 8, 8]}, {\"line\": {\"color\": \"black\", \"dash\": \"dash\", \"width\": 0.5}, \"mode\": \"lines\", \"showlegend\": false, \"type\": \"scatter\", \"x\": [\"Plant1_G1\", \"Plant1_G2\", \"Plant2_G1\", \"Plant2_G2\", \"Plant2_G3\", \"Plant2_G4\"], \"y\": [9, 9, 9, 9, 9, 9]}, {\"line\": {\"color\": \"black\", \"dash\": \"dash\", \"width\": 0.5}, \"mode\": \"lines\", \"showlegend\": false, \"type\": \"scatter\", \"x\": [\"Plant1_G1\", \"Plant1_G2\", \"Plant2_G1\", \"Plant2_G2\", \"Plant2_G3\", \"Plant2_G4\"], \"y\": [10, 10, 10, 10, 10, 10]}, {\"line\": {\"color\": \"black\", \"dash\": \"dash\", \"width\": 0.5}, \"mode\": \"lines\", \"showlegend\": false, \"type\": \"scatter\", \"x\": [\"Plant1_G1\", \"Plant1_G2\", \"Plant2_G1\", \"Plant2_G2\", \"Plant2_G3\", \"Plant2_G4\"], \"y\": [11, 11, 11, 11, 11, 11]}, {\"line\": {\"color\": \"black\", \"dash\": \"dash\", \"width\": 0.5}, \"mode\": \"lines\", \"showlegend\": false, \"type\": \"scatter\", \"x\": [\"Plant1_G1\", \"Plant1_G2\", \"Plant2_G1\", \"Plant2_G2\", \"Plant2_G3\", \"Plant2_G4\"], \"y\": [12, 12, 12, 12, 12, 12]}, {\"line\": {\"color\": \"red\", \"dash\": \"dash\", \"width\": 0.5}, \"mode\": \"lines\", \"showlegend\": false, \"type\": \"scatter\", \"x\": [\"Plant2_G1\", \"Plant2_G4\"], \"y\": [1.5, 1.5]}, {\"line\": {\"color\": \"red\", \"dash\": \"dash\", \"width\": 0.5}, \"mode\": \"lines\", \"showlegend\": false, \"type\": \"scatter\", \"x\": [\"Plant2_G1\", \"Plant2_G4\"], \"y\": [2.5, 2.5]}, {\"line\": {\"color\": \"red\", \"dash\": \"dash\", \"width\": 0.5}, \"mode\": \"lines\", \"showlegend\": false, \"type\": \"scatter\", \"x\": [\"Plant2_G1\", \"Plant2_G4\"], \"y\": [3.5, 3.5]}, {\"line\": {\"color\": \"red\", \"dash\": \"dash\", \"width\": 0.5}, \"mode\": \"lines\", \"showlegend\": false, \"type\": \"scatter\", \"x\": [\"Plant2_G1\", \"Plant2_G4\"], \"y\": [4.5, 4.5]}, {\"line\": {\"color\": \"red\", \"dash\": \"dash\", \"width\": 0.5}, \"mode\": \"lines\", \"showlegend\": false, \"type\": \"scatter\", \"x\": [\"Plant2_G1\", \"Plant2_G4\"], \"y\": [5.5, 5.5]}, {\"line\": {\"color\": \"red\", \"dash\": \"dash\", \"width\": 0.5}, \"mode\": \"lines\", \"showlegend\": false, \"type\": \"scatter\", \"x\": [\"Plant2_G1\", \"Plant2_G4\"], \"y\": [6.5, 6.5]}, {\"line\": {\"color\": \"red\", \"dash\": \"dash\", \"width\": 0.5}, \"mode\": \"lines\", \"showlegend\": false, \"type\": \"scatter\", \"x\": [\"Plant2_G1\", \"Plant2_G4\"], \"y\": [7.5, 7.5]}, {\"line\": {\"color\": \"red\", \"dash\": \"dash\", \"width\": 0.5}, \"mode\": \"lines\", \"showlegend\": false, \"type\": \"scatter\", \"x\": [\"Plant2_G1\", \"Plant2_G4\"], \"y\": [8.5, 8.5]}, {\"line\": {\"color\": \"red\", \"dash\": \"dash\", \"width\": 0.5}, \"mode\": \"lines\", \"showlegend\": false, \"type\": \"scatter\", \"x\": [\"Plant2_G1\", \"Plant2_G4\"], \"y\": [9.5, 9.5]}, {\"line\": {\"color\": \"red\", \"dash\": \"dash\", \"width\": 0.5}, \"mode\": \"lines\", \"showlegend\": false, \"type\": \"scatter\", \"x\": [\"Plant2_G1\", \"Plant2_G4\"], \"y\": [10.5, 10.5]}, {\"line\": {\"color\": \"red\", \"dash\": \"dash\", \"width\": 0.5}, \"mode\": \"lines\", \"showlegend\": false, \"type\": \"scatter\", \"x\": [\"Plant2_G1\", \"Plant2_G4\"], \"y\": [11.5, 11.5]}, {\"mode\": \"markers\", \"showlegend\": false, \"type\": \"scatter\", \"x\": [\"Plant1_G1\", \"Plant1_G1\", \"Plant1_G1\", \"Plant1_G1\", \"Plant1_G1\", \"Plant1_G1\", \"Plant1_G1\", \"Plant1_G1\", \"Plant1_G1\", \"Plant1_G1\", \"Plant1_G1\", \"Plant1_G1\", \"Plant1_G1\", \"Plant1_G1\", \"Plant1_G1\", \"Plant1_G1\", \"Plant1_G1\", \"Plant1_G1\", \"Plant1_G1\", \"Plant1_G1\", \"Plant1_G1\", \"Plant1_G1\", \"Plant1_G1\", \"Plant1_G1\", \"Plant1_G1\", \"Plant1_G1\", \"Plant1_G1\", \"Plant1_G1\", \"Plant1_G1\", \"Plant1_G1\", \"Plant1_G1\", \"Plant1_G1\", \"Plant1_G1\", \"Plant1_G1\", \"Plant1_G1\", \"Plant1_G1\", \"Plant1_G1\", \"Plant1_G1\", \"Plant1_G1\", \"Plant1_G1\", \"Plant1_G1\", \"Plant1_G1\", \"Plant1_G1\", \"Plant1_G1\", \"Plant1_G1\", \"Plant1_G1\", \"Plant1_G1\", \"Plant1_G1\", \"Plant1_G1\", \"Plant1_G1\", \"Plant1_G1\", \"Plant1_G1\", \"Plant1_G1\", \"Plant1_G1\", \"Plant1_G1\", \"Plant1_G1\", \"Plant1_G1\", \"Plant1_G1\", \"Plant1_G1\", \"Plant1_G1\", \"Plant1_G1\", \"Plant1_G1\", \"Plant1_G1\", \"Plant1_G1\", \"Plant1_G1\", \"Plant1_G1\", \"Plant1_G1\", \"Plant1_G1\", \"Plant1_G1\", \"Plant1_G1\", \"Plant1_G1\", \"Plant1_G1\"], \"y\": [12.0, 12.0, 12.0, 12.0, 12.0, 12.0, 12.0, 7.432582236713128, 7.562121950908458, 7.873069438343074, 8.260802593320685, 6.891271451560326, 7.474132266157679, 6.706087113439942, 3.0, 3.0, 6.057707410613184, 5.0, 3.0, 3.0, 12.0, 12.0, 12.0, 12.0, 12.0, 12.0, 12.0, 12.0, 12.0, 12.0, 12.0, 2.0, 2.0, 2.0, 12.0, 12.0, 6.3716814159292054, 6.3716814159292054, 6.3716814159292054, 6.371681415929205, 6.371681415929205, 6.371681415929205, 6.371681415929205, 12.0, 12.0, 12.0, 12.0, 12.0, 12.0, 12.0, 12.0, 12.0, 12.0, 12.0, 12.0, 2.0, 2.0, 1.0, 1.0, 1.0, 1.0, 1.0, 1.0, 1.0, 1.0, 2.0, 2.0, 12.0, 1.0, 1.0, 1.0, 12.0]}, {\"mode\": \"markers\", \"showlegend\": false, \"type\": \"scatter\", \"x\": [\"Plant1_G2\", \"Plant1_G2\", \"Plant1_G2\", \"Plant1_G2\", \"Plant1_G2\", \"Plant1_G2\", \"Plant1_G2\", \"Plant1_G2\", \"Plant1_G2\", \"Plant1_G2\", \"Plant1_G2\", \"Plant1_G2\", \"Plant1_G2\", \"Plant1_G2\", \"Plant1_G2\", \"Plant1_G2\", \"Plant1_G2\", \"Plant1_G2\", \"Plant1_G2\", \"Plant1_G2\", \"Plant1_G2\", \"Plant1_G2\", \"Plant1_G2\", \"Plant1_G2\", \"Plant1_G2\", \"Plant1_G2\", \"Plant1_G2\", \"Plant1_G2\", \"Plant1_G2\", \"Plant1_G2\", \"Plant1_G2\", \"Plant1_G2\", \"Plant1_G2\", \"Plant1_G2\", \"Plant1_G2\", \"Plant1_G2\", \"Plant1_G2\", \"Plant1_G2\", \"Plant1_G2\", \"Plant1_G2\", \"Plant1_G2\", \"Plant1_G2\", \"Plant1_G2\", \"Plant1_G2\", \"Plant1_G2\", \"Plant1_G2\", \"Plant1_G2\", \"Plant1_G2\", \"Plant1_G2\", \"Plant1_G2\", \"Plant1_G2\", \"Plant1_G2\", \"Plant1_G2\", \"Plant1_G2\", \"Plant1_G2\", \"Plant1_G2\", \"Plant1_G2\", \"Plant1_G2\", \"Plant1_G2\", \"Plant1_G2\", \"Plant1_G2\", \"Plant1_G2\", \"Plant1_G2\", \"Plant1_G2\", \"Plant1_G2\", \"Plant1_G2\", \"Plant1_G2\", \"Plant1_G2\", \"Plant1_G2\", \"Plant1_G2\", \"Plant1_G2\", \"Plant1_G2\"], \"y\": [12.0, 12.0, 12.0, 12.0, 12.0, 12.0, 12.0, 7.50316712377331, 7.505677122270354, 7.2906749910685384, 7.086165672586233, 8.685733041875938, 6.687239397933579, 6.7060876234254465, 3.0, 3.0, 6.761449231027571, 8.416857160864335, 3.0, 12.0, 12.0, 12.0, 12.0, 12.0, 12.0, 12.0, 12.0, 12.0, 12.0, 12.0, 12.0, 12.0, 12.0, 12.0, 12.0, 12.0, 12.0, 12.0, 12.0, 12.0, 12.0, 12.0, 12.0, 12.0, 12.0, 12.0, 12.0, 12.0, 12.0, 12.0, 12.0, 12.0, 12.0, 12.0, 12.0, 12.0, 12.0, 12.0, 12.0, 12.0, 12.0, 12.0, 12.0, 12.0, 12.0, 2.0, 2.0, 1.0, 12.0, 12.0, 12.0, 12.0]}, {\"mode\": \"markers\", \"showlegend\": false, \"type\": \"scatter\", \"x\": [\"Plant2_G1\", \"Plant2_G1\", \"Plant2_G1\", \"Plant2_G1\", \"Plant2_G1\", \"Plant2_G1\", \"Plant2_G1\", \"Plant2_G1\", \"Plant2_G1\", \"Plant2_G1\", \"Plant2_G1\", \"Plant2_G1\", \"Plant2_G1\", \"Plant2_G1\", \"Plant2_G1\", \"Plant2_G1\", \"Plant2_G1\", \"Plant2_G1\", \"Plant2_G1\", \"Plant2_G1\", \"Plant2_G1\", \"Plant2_G1\", \"Plant2_G1\", \"Plant2_G1\", \"Plant2_G1\", \"Plant2_G1\", \"Plant2_G1\", \"Plant2_G1\", \"Plant2_G1\", \"Plant2_G1\", \"Plant2_G1\", \"Plant2_G1\", \"Plant2_G1\", \"Plant2_G1\", \"Plant2_G1\", \"Plant2_G1\", \"Plant2_G1\", \"Plant2_G1\", \"Plant2_G1\", \"Plant2_G1\", \"Plant2_G1\", \"Plant2_G1\", \"Plant2_G1\", \"Plant2_G1\", \"Plant2_G1\", \"Plant2_G1\", \"Plant2_G1\", \"Plant2_G1\", \"Plant2_G1\", \"Plant2_G1\", \"Plant2_G1\", \"Plant2_G1\", \"Plant2_G1\", \"Plant2_G1\", \"Plant2_G1\", \"Plant2_G1\", \"Plant2_G1\", \"Plant2_G1\", \"Plant2_G1\", \"Plant2_G1\", \"Plant2_G1\", \"Plant2_G1\", \"Plant2_G1\", \"Plant2_G1\", \"Plant2_G1\", \"Plant2_G1\", \"Plant2_G1\", \"Plant2_G1\", \"Plant2_G1\", \"Plant2_G1\", \"Plant2_G1\", \"Plant2_G1\"], \"y\": [2.5, 2.0, 2.0, 2.0, 2.0, 2.5, 12.0, 12.0, 12.0, 12.0, 12.0, 12.0, 12.0, 12.0, 12.0, 12.0, 12.0, 12.0, 12.0, 4.5, 2.5, 2.5, 2.0, 2.0, 2.0, 1.5, 1.5, 1.5, 1.5, 2.0, 2.0, 7.004901374184835, 6.966292802792123, 6.928118755960364, 2.5, 2.0, 2.5, 2.5, 2.5, 2.5, 2.5, 2.5, 2.5, 2.0, 2.0, 2.0, 1.5, 1.5, 1.5, 1.5, 1.5, 1.5, 1.5, 1.5, 2.0, 5.5, 5.5, 6.487386510772619, 6.47045883190831, 6.453621530752221, 6.436873885891997, 11.572794839338597, 11.573089410149157, 6.387991551440991, 12.0, 12.0, 12.0, 12.0, 12.0, 12.0, 12.0, 2.0]}, {\"mode\": \"markers\", \"showlegend\": false, \"type\": \"scatter\", \"x\": [\"Plant2_G2\", \"Plant2_G2\", \"Plant2_G2\", \"Plant2_G2\", \"Plant2_G2\", \"Plant2_G2\", \"Plant2_G2\", \"Plant2_G2\", \"Plant2_G2\", \"Plant2_G2\", \"Plant2_G2\", \"Plant2_G2\", \"Plant2_G2\", \"Plant2_G2\", \"Plant2_G2\", \"Plant2_G2\", \"Plant2_G2\", \"Plant2_G2\", \"Plant2_G2\", \"Plant2_G2\", \"Plant2_G2\", \"Plant2_G2\", \"Plant2_G2\", \"Plant2_G2\", \"Plant2_G2\", \"Plant2_G2\", \"Plant2_G2\", \"Plant2_G2\", \"Plant2_G2\", \"Plant2_G2\", \"Plant2_G2\", \"Plant2_G2\", \"Plant2_G2\", \"Plant2_G2\", \"Plant2_G2\", \"Plant2_G2\", \"Plant2_G2\", \"Plant2_G2\", \"Plant2_G2\", \"Plant2_G2\", \"Plant2_G2\", \"Plant2_G2\", \"Plant2_G2\", \"Plant2_G2\", \"Plant2_G2\", \"Plant2_G2\", \"Plant2_G2\", \"Plant2_G2\", \"Plant2_G2\", \"Plant2_G2\", \"Plant2_G2\", \"Plant2_G2\", \"Plant2_G2\", \"Plant2_G2\", \"Plant2_G2\", \"Plant2_G2\", \"Plant2_G2\", \"Plant2_G2\", \"Plant2_G2\", \"Plant2_G2\", \"Plant2_G2\", \"Plant2_G2\", \"Plant2_G2\", \"Plant2_G2\", \"Plant2_G2\", \"Plant2_G2\", \"Plant2_G2\", \"Plant2_G2\", \"Plant2_G2\", \"Plant2_G2\", \"Plant2_G2\", \"Plant2_G2\"], \"y\": [12.0, 12.0, 12.0, 12.0, 12.0, 12.0, 2.5, 2.5, 2.5, 2.5, 2.5, 2.5, 2.5, 2.5, 12.0, 12.0, 2.5, 2.5, 12.0, 12.0, 12.0, 12.0, 12.0, 12.0, 12.0, 12.0, 12.0, 12.0, 12.0, 12.0, 12.0, 12.0, 12.0, 12.0, 12.0, 12.0, 12.0, 12.0, 12.0, 12.0, 12.0, 12.0, 12.0, 12.0, 12.0, 12.0, 12.0, 12.0, 12.0, 12.0, 12.0, 12.0, 12.0, 12.0, 12.0, 12.0, 12.0, 12.0, 12.0, 12.0, 12.0, 12.0, 12.0, 12.0, 12.0, 12.0, 12.0, 12.0, 12.0, 12.0, 12.0, 10.153846153846153]}, {\"mode\": \"markers\", \"showlegend\": false, \"type\": \"scatter\", \"x\": [\"Plant2_G3\", \"Plant2_G3\", \"Plant2_G3\", \"Plant2_G3\", \"Plant2_G3\", \"Plant2_G3\", \"Plant2_G3\", \"Plant2_G3\", \"Plant2_G3\", \"Plant2_G3\", \"Plant2_G3\", \"Plant2_G3\", \"Plant2_G3\", \"Plant2_G3\", \"Plant2_G3\", \"Plant2_G3\", \"Plant2_G3\", \"Plant2_G3\", \"Plant2_G3\", \"Plant2_G3\", \"Plant2_G3\", \"Plant2_G3\", \"Plant2_G3\", \"Plant2_G3\", \"Plant2_G3\", \"Plant2_G3\", \"Plant2_G3\", \"Plant2_G3\", \"Plant2_G3\", \"Plant2_G3\", \"Plant2_G3\", \"Plant2_G3\", \"Plant2_G3\", \"Plant2_G3\", \"Plant2_G3\", \"Plant2_G3\", \"Plant2_G3\", \"Plant2_G3\", \"Plant2_G3\", \"Plant2_G3\", \"Plant2_G3\", \"Plant2_G3\", \"Plant2_G3\", \"Plant2_G3\", \"Plant2_G3\", \"Plant2_G3\", \"Plant2_G3\", \"Plant2_G3\", \"Plant2_G3\", \"Plant2_G3\", \"Plant2_G3\", \"Plant2_G3\", \"Plant2_G3\", \"Plant2_G3\", \"Plant2_G3\", \"Plant2_G3\", \"Plant2_G3\", \"Plant2_G3\", \"Plant2_G3\", \"Plant2_G3\", \"Plant2_G3\", \"Plant2_G3\", \"Plant2_G3\", \"Plant2_G3\", \"Plant2_G3\", \"Plant2_G3\", \"Plant2_G3\", \"Plant2_G3\", \"Plant2_G3\", \"Plant2_G3\", \"Plant2_G3\", \"Plant2_G3\"], \"y\": [12.0, 12.0, 12.0, 12.0, 12.0, 12.0, 2.5, 2.5, 2.5, 2.5, 2.5, 2.5, 2.5, 2.5, 12.0, 12.0, 2.5, 2.5, 12.0, 12.0, 12.0, 12.0, 12.0, 12.0, 12.0, 12.0, 12.0, 12.0, 12.0, 12.0, 12.0, 12.0, 12.0, 12.0, 12.0, 12.0, 12.0, 12.0, 12.0, 12.0, 12.0, 12.0, 12.0, 12.0, 12.0, 12.0, 12.0, 12.0, 12.0, 12.0, 12.0, 12.0, 12.0, 12.0, 12.0, 12.0, 12.0, 12.0, 12.0, 12.0, 12.0, 12.0, 12.0, 12.0, 12.0, 12.0, 12.0, 12.0, 12.0, 12.0, 12.0, 12.0]}, {\"mode\": \"markers\", \"showlegend\": false, \"type\": \"scatter\", \"x\": [\"Plant2_G4\", \"Plant2_G4\", \"Plant2_G4\", \"Plant2_G4\", \"Plant2_G4\", \"Plant2_G4\", \"Plant2_G4\", \"Plant2_G4\", \"Plant2_G4\", \"Plant2_G4\", \"Plant2_G4\", \"Plant2_G4\", \"Plant2_G4\", \"Plant2_G4\", \"Plant2_G4\", \"Plant2_G4\", \"Plant2_G4\", \"Plant2_G4\", \"Plant2_G4\", \"Plant2_G4\", \"Plant2_G4\", \"Plant2_G4\", \"Plant2_G4\", \"Plant2_G4\", \"Plant2_G4\", \"Plant2_G4\", \"Plant2_G4\", \"Plant2_G4\", \"Plant2_G4\", \"Plant2_G4\", \"Plant2_G4\", \"Plant2_G4\", \"Plant2_G4\", \"Plant2_G4\", \"Plant2_G4\", \"Plant2_G4\", \"Plant2_G4\", \"Plant2_G4\", \"Plant2_G4\", \"Plant2_G4\", \"Plant2_G4\", \"Plant2_G4\", \"Plant2_G4\", \"Plant2_G4\", \"Plant2_G4\", \"Plant2_G4\", \"Plant2_G4\", \"Plant2_G4\", \"Plant2_G4\", \"Plant2_G4\", \"Plant2_G4\", \"Plant2_G4\", \"Plant2_G4\", \"Plant2_G4\", \"Plant2_G4\", \"Plant2_G4\", \"Plant2_G4\", \"Plant2_G4\", \"Plant2_G4\", \"Plant2_G4\", \"Plant2_G4\", \"Plant2_G4\", \"Plant2_G4\", \"Plant2_G4\", \"Plant2_G4\", \"Plant2_G4\", \"Plant2_G4\", \"Plant2_G4\", \"Plant2_G4\", \"Plant2_G4\", \"Plant2_G4\", \"Plant2_G4\"], \"y\": [12.0, 12.0, 12.0, 12.0, 12.0, 12.0, 2.5, 2.5, 2.5, 2.5, 2.5, 2.5, 2.5, 2.5, 12.0, 12.0, 2.5, 2.5, 12.0, 12.0, 12.0, 12.0, 12.0, 12.0, 12.0, 12.0, 12.0, 12.0, 12.0, 12.0, 12.0, 12.0, 12.0, 12.0, 12.0, 12.0, 12.0, 12.0, 12.0, 12.0, 12.0, 12.0, 12.0, 12.0, 12.0, 12.0, 12.0, 12.0, 12.0, 12.0, 12.0, 12.0, 12.0, 12.0, 12.0, 12.0, 12.0, 12.0, 12.0, 12.0, 12.0, 12.0, 12.0, 12.0, 12.0, 12.0, 12.0, 12.0, 12.0, 12.0, 12.0, 12.0]}],                        {\"template\": {\"data\": {\"bar\": [{\"error_x\": {\"color\": \"#2a3f5f\"}, \"error_y\": {\"color\": \"#2a3f5f\"}, \"marker\": {\"line\": {\"color\": \"#E5ECF6\", \"width\": 0.5}}, \"type\": \"bar\"}], \"barpolar\": [{\"marker\": {\"line\": {\"color\": \"#E5ECF6\", \"width\": 0.5}}, \"type\": \"barpolar\"}], \"carpet\": [{\"aaxis\": {\"endlinecolor\": \"#2a3f5f\", \"gridcolor\": \"white\", \"linecolor\": \"white\", \"minorgridcolor\": \"white\", \"startlinecolor\": \"#2a3f5f\"}, \"baxis\": {\"endlinecolor\": \"#2a3f5f\", \"gridcolor\": \"white\", \"linecolor\": \"white\", \"minorgridcolor\": \"white\", \"startlinecolor\": \"#2a3f5f\"}, \"type\": \"carpet\"}], \"choropleth\": [{\"colorbar\": {\"outlinewidth\": 0, \"ticks\": \"\"}, \"type\": \"choropleth\"}], \"contour\": [{\"colorbar\": {\"outlinewidth\": 0, \"ticks\": \"\"}, \"colorscale\": [[0.0, \"#0d0887\"], [0.1111111111111111, \"#46039f\"], [0.2222222222222222, \"#7201a8\"], [0.3333333333333333, \"#9c179e\"], [0.4444444444444444, \"#bd3786\"], [0.5555555555555556, \"#d8576b\"], [0.6666666666666666, \"#ed7953\"], [0.7777777777777778, \"#fb9f3a\"], [0.8888888888888888, \"#fdca26\"], [1.0, \"#f0f921\"]], \"type\": \"contour\"}], \"contourcarpet\": [{\"colorbar\": {\"outlinewidth\": 0, \"ticks\": \"\"}, \"type\": \"contourcarpet\"}], \"heatmap\": [{\"colorbar\": {\"outlinewidth\": 0, \"ticks\": \"\"}, \"colorscale\": [[0.0, \"#0d0887\"], [0.1111111111111111, \"#46039f\"], [0.2222222222222222, \"#7201a8\"], [0.3333333333333333, \"#9c179e\"], [0.4444444444444444, \"#bd3786\"], [0.5555555555555556, \"#d8576b\"], [0.6666666666666666, \"#ed7953\"], [0.7777777777777778, \"#fb9f3a\"], [0.8888888888888888, \"#fdca26\"], [1.0, \"#f0f921\"]], \"type\": \"heatmap\"}], \"heatmapgl\": [{\"colorbar\": {\"outlinewidth\": 0, \"ticks\": \"\"}, \"colorscale\": [[0.0, \"#0d0887\"], [0.1111111111111111, \"#46039f\"], [0.2222222222222222, \"#7201a8\"], [0.3333333333333333, \"#9c179e\"], [0.4444444444444444, \"#bd3786\"], [0.5555555555555556, \"#d8576b\"], [0.6666666666666666, \"#ed7953\"], [0.7777777777777778, \"#fb9f3a\"], [0.8888888888888888, \"#fdca26\"], [1.0, \"#f0f921\"]], \"type\": \"heatmapgl\"}], \"histogram\": [{\"marker\": {\"colorbar\": {\"outlinewidth\": 0, \"ticks\": \"\"}}, \"type\": \"histogram\"}], \"histogram2d\": [{\"colorbar\": {\"outlinewidth\": 0, \"ticks\": \"\"}, \"colorscale\": [[0.0, \"#0d0887\"], [0.1111111111111111, \"#46039f\"], [0.2222222222222222, \"#7201a8\"], [0.3333333333333333, \"#9c179e\"], [0.4444444444444444, \"#bd3786\"], [0.5555555555555556, \"#d8576b\"], [0.6666666666666666, \"#ed7953\"], [0.7777777777777778, \"#fb9f3a\"], [0.8888888888888888, \"#fdca26\"], [1.0, \"#f0f921\"]], \"type\": \"histogram2d\"}], \"histogram2dcontour\": [{\"colorbar\": {\"outlinewidth\": 0, \"ticks\": \"\"}, \"colorscale\": [[0.0, \"#0d0887\"], [0.1111111111111111, \"#46039f\"], [0.2222222222222222, \"#7201a8\"], [0.3333333333333333, \"#9c179e\"], [0.4444444444444444, \"#bd3786\"], [0.5555555555555556, \"#d8576b\"], [0.6666666666666666, \"#ed7953\"], [0.7777777777777778, \"#fb9f3a\"], [0.8888888888888888, \"#fdca26\"], [1.0, \"#f0f921\"]], \"type\": \"histogram2dcontour\"}], \"mesh3d\": [{\"colorbar\": {\"outlinewidth\": 0, \"ticks\": \"\"}, \"type\": \"mesh3d\"}], \"parcoords\": [{\"line\": {\"colorbar\": {\"outlinewidth\": 0, \"ticks\": \"\"}}, \"type\": \"parcoords\"}], \"pie\": [{\"automargin\": true, \"type\": \"pie\"}], \"scatter\": [{\"marker\": {\"colorbar\": {\"outlinewidth\": 0, \"ticks\": \"\"}}, \"type\": \"scatter\"}], \"scatter3d\": [{\"line\": {\"colorbar\": {\"outlinewidth\": 0, \"ticks\": \"\"}}, \"marker\": {\"colorbar\": {\"outlinewidth\": 0, \"ticks\": \"\"}}, \"type\": \"scatter3d\"}], \"scattercarpet\": [{\"marker\": {\"colorbar\": {\"outlinewidth\": 0, \"ticks\": \"\"}}, \"type\": \"scattercarpet\"}], \"scattergeo\": [{\"marker\": {\"colorbar\": {\"outlinewidth\": 0, \"ticks\": \"\"}}, \"type\": \"scattergeo\"}], \"scattergl\": [{\"marker\": {\"colorbar\": {\"outlinewidth\": 0, \"ticks\": \"\"}}, \"type\": \"scattergl\"}], \"scattermapbox\": [{\"marker\": {\"colorbar\": {\"outlinewidth\": 0, \"ticks\": \"\"}}, \"type\": \"scattermapbox\"}], \"scatterpolar\": [{\"marker\": {\"colorbar\": {\"outlinewidth\": 0, \"ticks\": \"\"}}, \"type\": \"scatterpolar\"}], \"scatterpolargl\": [{\"marker\": {\"colorbar\": {\"outlinewidth\": 0, \"ticks\": \"\"}}, \"type\": \"scatterpolargl\"}], \"scatterternary\": [{\"marker\": {\"colorbar\": {\"outlinewidth\": 0, \"ticks\": \"\"}}, \"type\": \"scatterternary\"}], \"surface\": [{\"colorbar\": {\"outlinewidth\": 0, \"ticks\": \"\"}, \"colorscale\": [[0.0, \"#0d0887\"], [0.1111111111111111, \"#46039f\"], [0.2222222222222222, \"#7201a8\"], [0.3333333333333333, \"#9c179e\"], [0.4444444444444444, \"#bd3786\"], [0.5555555555555556, \"#d8576b\"], [0.6666666666666666, \"#ed7953\"], [0.7777777777777778, \"#fb9f3a\"], [0.8888888888888888, \"#fdca26\"], [1.0, \"#f0f921\"]], \"type\": \"surface\"}], \"table\": [{\"cells\": {\"fill\": {\"color\": \"#EBF0F8\"}, \"line\": {\"color\": \"white\"}}, \"header\": {\"fill\": {\"color\": \"#C8D4E3\"}, \"line\": {\"color\": \"white\"}}, \"type\": \"table\"}]}, \"layout\": {\"annotationdefaults\": {\"arrowcolor\": \"#2a3f5f\", \"arrowhead\": 0, \"arrowwidth\": 1}, \"autotypenumbers\": \"strict\", \"coloraxis\": {\"colorbar\": {\"outlinewidth\": 0, \"ticks\": \"\"}}, \"colorscale\": {\"diverging\": [[0, \"#8e0152\"], [0.1, \"#c51b7d\"], [0.2, \"#de77ae\"], [0.3, \"#f1b6da\"], [0.4, \"#fde0ef\"], [0.5, \"#f7f7f7\"], [0.6, \"#e6f5d0\"], [0.7, \"#b8e186\"], [0.8, \"#7fbc41\"], [0.9, \"#4d9221\"], [1, \"#276419\"]], \"sequential\": [[0.0, \"#0d0887\"], [0.1111111111111111, \"#46039f\"], [0.2222222222222222, \"#7201a8\"], [0.3333333333333333, \"#9c179e\"], [0.4444444444444444, \"#bd3786\"], [0.5555555555555556, \"#d8576b\"], [0.6666666666666666, \"#ed7953\"], [0.7777777777777778, \"#fb9f3a\"], [0.8888888888888888, \"#fdca26\"], [1.0, \"#f0f921\"]], \"sequentialminus\": [[0.0, \"#0d0887\"], [0.1111111111111111, \"#46039f\"], [0.2222222222222222, \"#7201a8\"], [0.3333333333333333, \"#9c179e\"], [0.4444444444444444, \"#bd3786\"], [0.5555555555555556, \"#d8576b\"], [0.6666666666666666, \"#ed7953\"], [0.7777777777777778, \"#fb9f3a\"], [0.8888888888888888, \"#fdca26\"], [1.0, \"#f0f921\"]]}, \"colorway\": [\"#636efa\", \"#EF553B\", \"#00cc96\", \"#ab63fa\", \"#FFA15A\", \"#19d3f3\", \"#FF6692\", \"#B6E880\", \"#FF97FF\", \"#FECB52\"], \"font\": {\"color\": \"#2a3f5f\"}, \"geo\": {\"bgcolor\": \"white\", \"lakecolor\": \"white\", \"landcolor\": \"#E5ECF6\", \"showlakes\": true, \"showland\": true, \"subunitcolor\": \"white\"}, \"hoverlabel\": {\"align\": \"left\"}, \"hovermode\": \"closest\", \"mapbox\": {\"style\": \"light\"}, \"paper_bgcolor\": \"white\", \"plot_bgcolor\": \"#E5ECF6\", \"polar\": {\"angularaxis\": {\"gridcolor\": \"white\", \"linecolor\": \"white\", \"ticks\": \"\"}, \"bgcolor\": \"#E5ECF6\", \"radialaxis\": {\"gridcolor\": \"white\", \"linecolor\": \"white\", \"ticks\": \"\"}}, \"scene\": {\"xaxis\": {\"backgroundcolor\": \"#E5ECF6\", \"gridcolor\": \"white\", \"gridwidth\": 2, \"linecolor\": \"white\", \"showbackground\": true, \"ticks\": \"\", \"zerolinecolor\": \"white\"}, \"yaxis\": {\"backgroundcolor\": \"#E5ECF6\", \"gridcolor\": \"white\", \"gridwidth\": 2, \"linecolor\": \"white\", \"showbackground\": true, \"ticks\": \"\", \"zerolinecolor\": \"white\"}, \"zaxis\": {\"backgroundcolor\": \"#E5ECF6\", \"gridcolor\": \"white\", \"gridwidth\": 2, \"linecolor\": \"white\", \"showbackground\": true, \"ticks\": \"\", \"zerolinecolor\": \"white\"}}, \"shapedefaults\": {\"line\": {\"color\": \"#2a3f5f\"}}, \"ternary\": {\"aaxis\": {\"gridcolor\": \"white\", \"linecolor\": \"white\", \"ticks\": \"\"}, \"baxis\": {\"gridcolor\": \"white\", \"linecolor\": \"white\", \"ticks\": \"\"}, \"bgcolor\": \"#E5ECF6\", \"caxis\": {\"gridcolor\": \"white\", \"linecolor\": \"white\", \"ticks\": \"\"}}, \"title\": {\"x\": 0.05}, \"xaxis\": {\"automargin\": true, \"gridcolor\": \"white\", \"linecolor\": \"white\", \"ticks\": \"\", \"title\": {\"standoff\": 15}, \"zerolinecolor\": \"white\", \"zerolinewidth\": 2}, \"yaxis\": {\"automargin\": true, \"gridcolor\": \"white\", \"linecolor\": \"white\", \"ticks\": \"\", \"title\": {\"standoff\": 15}, \"zerolinecolor\": \"white\", \"zerolinewidth\": 2}}}, \"title\": {\"text\": \"Droop values fixed below 6\"}, \"xaxis\": {\"title\": {\"text\": \"Generator\"}}, \"yaxis\": {\"title\": {\"text\": \"Droop [%]\"}}},                        {\"responsive\": true}                    ).then(function(){\n",
       "                            \n",
       "var gd = document.getElementById('2e33b0d2-61e3-4e5b-bad9-fc1635095746');\n",
       "var x = new MutationObserver(function (mutations, observer) {{\n",
       "        var display = window.getComputedStyle(gd).display;\n",
       "        if (!display || display === 'none') {{\n",
       "            console.log([gd, 'removed!']);\n",
       "            Plotly.purge(gd);\n",
       "            observer.disconnect();\n",
       "        }}\n",
       "}});\n",
       "\n",
       "// Listen for the removal of the full notebook cells\n",
       "var notebookContainer = gd.closest('#notebook-container');\n",
       "if (notebookContainer) {{\n",
       "    x.observe(notebookContainer, {childList: true});\n",
       "}}\n",
       "\n",
       "// Listen for the clearing of the current output cell\n",
       "var outputEl = gd.closest('.output');\n",
       "if (outputEl) {{\n",
       "    x.observe(outputEl, {childList: true});\n",
       "}}\n",
       "\n",
       "                        })                };                });            </script>        </div>"
      ]
     },
     "metadata": {}
    },
    {
     "output_type": "display_data",
     "data": {
      "application/vnd.plotly.v1+json": {
       "config": {
        "plotlyServerURL": "https://plot.ly"
       },
       "data": [
        {
         "line": {
          "color": "black",
          "dash": "dash",
          "width": 0.5
         },
         "mode": "lines",
         "showlegend": false,
         "type": "scatter",
         "x": [
          "Plant1_G1",
          "Plant1_G2",
          "Plant2_G1",
          "Plant2_G2",
          "Plant2_G3",
          "Plant2_G4"
         ],
         "y": [
          1,
          1,
          1,
          1,
          1,
          1
         ]
        },
        {
         "line": {
          "color": "black",
          "dash": "dash",
          "width": 0.5
         },
         "mode": "lines",
         "showlegend": false,
         "type": "scatter",
         "x": [
          "Plant1_G1",
          "Plant1_G2",
          "Plant2_G1",
          "Plant2_G2",
          "Plant2_G3",
          "Plant2_G4"
         ],
         "y": [
          2,
          2,
          2,
          2,
          2,
          2
         ]
        },
        {
         "line": {
          "color": "black",
          "dash": "dash",
          "width": 0.5
         },
         "mode": "lines",
         "showlegend": false,
         "type": "scatter",
         "x": [
          "Plant1_G1",
          "Plant1_G2",
          "Plant2_G1",
          "Plant2_G2",
          "Plant2_G3",
          "Plant2_G4"
         ],
         "y": [
          3,
          3,
          3,
          3,
          3,
          3
         ]
        },
        {
         "line": {
          "color": "black",
          "dash": "dash",
          "width": 0.5
         },
         "mode": "lines",
         "showlegend": false,
         "type": "scatter",
         "x": [
          "Plant1_G1",
          "Plant1_G2",
          "Plant2_G1",
          "Plant2_G2",
          "Plant2_G3",
          "Plant2_G4"
         ],
         "y": [
          4,
          4,
          4,
          4,
          4,
          4
         ]
        },
        {
         "line": {
          "color": "black",
          "dash": "dash",
          "width": 0.5
         },
         "mode": "lines",
         "showlegend": false,
         "type": "scatter",
         "x": [
          "Plant1_G1",
          "Plant1_G2",
          "Plant2_G1",
          "Plant2_G2",
          "Plant2_G3",
          "Plant2_G4"
         ],
         "y": [
          5,
          5,
          5,
          5,
          5,
          5
         ]
        },
        {
         "line": {
          "color": "black",
          "dash": "dash",
          "width": 0.5
         },
         "mode": "lines",
         "showlegend": false,
         "type": "scatter",
         "x": [
          "Plant1_G1",
          "Plant1_G2",
          "Plant2_G1",
          "Plant2_G2",
          "Plant2_G3",
          "Plant2_G4"
         ],
         "y": [
          6,
          6,
          6,
          6,
          6,
          6
         ]
        },
        {
         "line": {
          "color": "black",
          "dash": "dash",
          "width": 0.5
         },
         "mode": "lines",
         "showlegend": false,
         "type": "scatter",
         "x": [
          "Plant1_G1",
          "Plant1_G2",
          "Plant2_G1",
          "Plant2_G2",
          "Plant2_G3",
          "Plant2_G4"
         ],
         "y": [
          7,
          7,
          7,
          7,
          7,
          7
         ]
        },
        {
         "line": {
          "color": "black",
          "dash": "dash",
          "width": 0.5
         },
         "mode": "lines",
         "showlegend": false,
         "type": "scatter",
         "x": [
          "Plant1_G1",
          "Plant1_G2",
          "Plant2_G1",
          "Plant2_G2",
          "Plant2_G3",
          "Plant2_G4"
         ],
         "y": [
          8,
          8,
          8,
          8,
          8,
          8
         ]
        },
        {
         "line": {
          "color": "black",
          "dash": "dash",
          "width": 0.5
         },
         "mode": "lines",
         "showlegend": false,
         "type": "scatter",
         "x": [
          "Plant1_G1",
          "Plant1_G2",
          "Plant2_G1",
          "Plant2_G2",
          "Plant2_G3",
          "Plant2_G4"
         ],
         "y": [
          9,
          9,
          9,
          9,
          9,
          9
         ]
        },
        {
         "line": {
          "color": "black",
          "dash": "dash",
          "width": 0.5
         },
         "mode": "lines",
         "showlegend": false,
         "type": "scatter",
         "x": [
          "Plant1_G1",
          "Plant1_G2",
          "Plant2_G1",
          "Plant2_G2",
          "Plant2_G3",
          "Plant2_G4"
         ],
         "y": [
          10,
          10,
          10,
          10,
          10,
          10
         ]
        },
        {
         "line": {
          "color": "black",
          "dash": "dash",
          "width": 0.5
         },
         "mode": "lines",
         "showlegend": false,
         "type": "scatter",
         "x": [
          "Plant1_G1",
          "Plant1_G2",
          "Plant2_G1",
          "Plant2_G2",
          "Plant2_G3",
          "Plant2_G4"
         ],
         "y": [
          11,
          11,
          11,
          11,
          11,
          11
         ]
        },
        {
         "line": {
          "color": "black",
          "dash": "dash",
          "width": 0.5
         },
         "mode": "lines",
         "showlegend": false,
         "type": "scatter",
         "x": [
          "Plant1_G1",
          "Plant1_G2",
          "Plant2_G1",
          "Plant2_G2",
          "Plant2_G3",
          "Plant2_G4"
         ],
         "y": [
          12,
          12,
          12,
          12,
          12,
          12
         ]
        },
        {
         "line": {
          "color": "red",
          "dash": "dash",
          "width": 0.5
         },
         "mode": "lines",
         "showlegend": false,
         "type": "scatter",
         "x": [
          "Plant2_G1",
          "Plant2_G4"
         ],
         "y": [
          1.5,
          1.5
         ]
        },
        {
         "line": {
          "color": "red",
          "dash": "dash",
          "width": 0.5
         },
         "mode": "lines",
         "showlegend": false,
         "type": "scatter",
         "x": [
          "Plant2_G1",
          "Plant2_G4"
         ],
         "y": [
          2.5,
          2.5
         ]
        },
        {
         "line": {
          "color": "red",
          "dash": "dash",
          "width": 0.5
         },
         "mode": "lines",
         "showlegend": false,
         "type": "scatter",
         "x": [
          "Plant2_G1",
          "Plant2_G4"
         ],
         "y": [
          3.5,
          3.5
         ]
        },
        {
         "line": {
          "color": "red",
          "dash": "dash",
          "width": 0.5
         },
         "mode": "lines",
         "showlegend": false,
         "type": "scatter",
         "x": [
          "Plant2_G1",
          "Plant2_G4"
         ],
         "y": [
          4.5,
          4.5
         ]
        },
        {
         "line": {
          "color": "red",
          "dash": "dash",
          "width": 0.5
         },
         "mode": "lines",
         "showlegend": false,
         "type": "scatter",
         "x": [
          "Plant2_G1",
          "Plant2_G4"
         ],
         "y": [
          5.5,
          5.5
         ]
        },
        {
         "line": {
          "color": "red",
          "dash": "dash",
          "width": 0.5
         },
         "mode": "lines",
         "showlegend": false,
         "type": "scatter",
         "x": [
          "Plant2_G1",
          "Plant2_G4"
         ],
         "y": [
          6.5,
          6.5
         ]
        },
        {
         "line": {
          "color": "red",
          "dash": "dash",
          "width": 0.5
         },
         "mode": "lines",
         "showlegend": false,
         "type": "scatter",
         "x": [
          "Plant2_G1",
          "Plant2_G4"
         ],
         "y": [
          7.5,
          7.5
         ]
        },
        {
         "line": {
          "color": "red",
          "dash": "dash",
          "width": 0.5
         },
         "mode": "lines",
         "showlegend": false,
         "type": "scatter",
         "x": [
          "Plant2_G1",
          "Plant2_G4"
         ],
         "y": [
          8.5,
          8.5
         ]
        },
        {
         "line": {
          "color": "red",
          "dash": "dash",
          "width": 0.5
         },
         "mode": "lines",
         "showlegend": false,
         "type": "scatter",
         "x": [
          "Plant2_G1",
          "Plant2_G4"
         ],
         "y": [
          9.5,
          9.5
         ]
        },
        {
         "line": {
          "color": "red",
          "dash": "dash",
          "width": 0.5
         },
         "mode": "lines",
         "showlegend": false,
         "type": "scatter",
         "x": [
          "Plant2_G1",
          "Plant2_G4"
         ],
         "y": [
          10.5,
          10.5
         ]
        },
        {
         "line": {
          "color": "red",
          "dash": "dash",
          "width": 0.5
         },
         "mode": "lines",
         "showlegend": false,
         "type": "scatter",
         "x": [
          "Plant2_G1",
          "Plant2_G4"
         ],
         "y": [
          11.5,
          11.5
         ]
        },
        {
         "mode": "markers",
         "showlegend": false,
         "type": "scatter",
         "x": [
          "Plant1_G1",
          "Plant1_G1",
          "Plant1_G1",
          "Plant1_G1",
          "Plant1_G1",
          "Plant1_G1",
          "Plant1_G1",
          "Plant1_G1",
          "Plant1_G1",
          "Plant1_G1",
          "Plant1_G1",
          "Plant1_G1",
          "Plant1_G1",
          "Plant1_G1",
          "Plant1_G1",
          "Plant1_G1",
          "Plant1_G1",
          "Plant1_G1",
          "Plant1_G1",
          "Plant1_G1",
          "Plant1_G1",
          "Plant1_G1",
          "Plant1_G1",
          "Plant1_G1",
          "Plant1_G1",
          "Plant1_G1",
          "Plant1_G1",
          "Plant1_G1",
          "Plant1_G1",
          "Plant1_G1",
          "Plant1_G1",
          "Plant1_G1",
          "Plant1_G1",
          "Plant1_G1",
          "Plant1_G1",
          "Plant1_G1",
          "Plant1_G1",
          "Plant1_G1",
          "Plant1_G1",
          "Plant1_G1",
          "Plant1_G1",
          "Plant1_G1",
          "Plant1_G1",
          "Plant1_G1",
          "Plant1_G1",
          "Plant1_G1",
          "Plant1_G1",
          "Plant1_G1",
          "Plant1_G1",
          "Plant1_G1",
          "Plant1_G1",
          "Plant1_G1",
          "Plant1_G1",
          "Plant1_G1",
          "Plant1_G1",
          "Plant1_G1",
          "Plant1_G1",
          "Plant1_G1",
          "Plant1_G1",
          "Plant1_G1",
          "Plant1_G1",
          "Plant1_G1",
          "Plant1_G1",
          "Plant1_G1",
          "Plant1_G1",
          "Plant1_G1",
          "Plant1_G1",
          "Plant1_G1",
          "Plant1_G1",
          "Plant1_G1",
          "Plant1_G1",
          "Plant1_G1"
         ],
         "y": [
          12,
          12,
          12,
          12,
          12,
          12,
          11.999245080546705,
          7,
          7,
          7,
          8,
          6,
          7,
          6,
          3,
          3,
          6,
          5,
          3,
          3,
          12,
          12,
          12,
          12,
          12,
          12,
          12,
          12,
          12,
          12,
          12,
          2,
          2,
          2,
          12,
          12,
          6,
          6,
          6,
          6,
          6,
          6,
          6,
          12,
          12,
          12,
          12,
          12,
          12,
          12,
          12,
          12,
          12,
          12,
          12,
          2,
          2,
          1,
          1,
          1,
          1,
          1,
          1,
          1,
          1,
          2,
          2,
          12,
          1,
          1,
          1,
          12
         ]
        },
        {
         "mode": "markers",
         "showlegend": false,
         "type": "scatter",
         "x": [
          "Plant1_G2",
          "Plant1_G2",
          "Plant1_G2",
          "Plant1_G2",
          "Plant1_G2",
          "Plant1_G2",
          "Plant1_G2",
          "Plant1_G2",
          "Plant1_G2",
          "Plant1_G2",
          "Plant1_G2",
          "Plant1_G2",
          "Plant1_G2",
          "Plant1_G2",
          "Plant1_G2",
          "Plant1_G2",
          "Plant1_G2",
          "Plant1_G2",
          "Plant1_G2",
          "Plant1_G2",
          "Plant1_G2",
          "Plant1_G2",
          "Plant1_G2",
          "Plant1_G2",
          "Plant1_G2",
          "Plant1_G2",
          "Plant1_G2",
          "Plant1_G2",
          "Plant1_G2",
          "Plant1_G2",
          "Plant1_G2",
          "Plant1_G2",
          "Plant1_G2",
          "Plant1_G2",
          "Plant1_G2",
          "Plant1_G2",
          "Plant1_G2",
          "Plant1_G2",
          "Plant1_G2",
          "Plant1_G2",
          "Plant1_G2",
          "Plant1_G2",
          "Plant1_G2",
          "Plant1_G2",
          "Plant1_G2",
          "Plant1_G2",
          "Plant1_G2",
          "Plant1_G2",
          "Plant1_G2",
          "Plant1_G2",
          "Plant1_G2",
          "Plant1_G2",
          "Plant1_G2",
          "Plant1_G2",
          "Plant1_G2",
          "Plant1_G2",
          "Plant1_G2",
          "Plant1_G2",
          "Plant1_G2",
          "Plant1_G2",
          "Plant1_G2",
          "Plant1_G2",
          "Plant1_G2",
          "Plant1_G2",
          "Plant1_G2",
          "Plant1_G2",
          "Plant1_G2",
          "Plant1_G2",
          "Plant1_G2",
          "Plant1_G2",
          "Plant1_G2",
          "Plant1_G2"
         ],
         "y": [
          12,
          12,
          12,
          12,
          12,
          12,
          12,
          7,
          7,
          7,
          7,
          8,
          6,
          6,
          3,
          3,
          6,
          8,
          3,
          12,
          12,
          12,
          12,
          12,
          12,
          12,
          12,
          12,
          12,
          12,
          12,
          12,
          12,
          12,
          12,
          12,
          12,
          12,
          12,
          12,
          12,
          12,
          12,
          12,
          12,
          12,
          12,
          12,
          12,
          12,
          12,
          12,
          12,
          12,
          12,
          12,
          12,
          12,
          12,
          12,
          12,
          12,
          12,
          12,
          12,
          2,
          2,
          1,
          12,
          12,
          12,
          12
         ]
        },
        {
         "mode": "markers",
         "showlegend": false,
         "type": "scatter",
         "x": [
          "Plant2_G1",
          "Plant2_G1",
          "Plant2_G1",
          "Plant2_G1",
          "Plant2_G1",
          "Plant2_G1",
          "Plant2_G1",
          "Plant2_G1",
          "Plant2_G1",
          "Plant2_G1",
          "Plant2_G1",
          "Plant2_G1",
          "Plant2_G1",
          "Plant2_G1",
          "Plant2_G1",
          "Plant2_G1",
          "Plant2_G1",
          "Plant2_G1",
          "Plant2_G1",
          "Plant2_G1",
          "Plant2_G1",
          "Plant2_G1",
          "Plant2_G1",
          "Plant2_G1",
          "Plant2_G1",
          "Plant2_G1",
          "Plant2_G1",
          "Plant2_G1",
          "Plant2_G1",
          "Plant2_G1",
          "Plant2_G1",
          "Plant2_G1",
          "Plant2_G1",
          "Plant2_G1",
          "Plant2_G1",
          "Plant2_G1",
          "Plant2_G1",
          "Plant2_G1",
          "Plant2_G1",
          "Plant2_G1",
          "Plant2_G1",
          "Plant2_G1",
          "Plant2_G1",
          "Plant2_G1",
          "Plant2_G1",
          "Plant2_G1",
          "Plant2_G1",
          "Plant2_G1",
          "Plant2_G1",
          "Plant2_G1",
          "Plant2_G1",
          "Plant2_G1",
          "Plant2_G1",
          "Plant2_G1",
          "Plant2_G1",
          "Plant2_G1",
          "Plant2_G1",
          "Plant2_G1",
          "Plant2_G1",
          "Plant2_G1",
          "Plant2_G1",
          "Plant2_G1",
          "Plant2_G1",
          "Plant2_G1",
          "Plant2_G1",
          "Plant2_G1",
          "Plant2_G1",
          "Plant2_G1",
          "Plant2_G1",
          "Plant2_G1",
          "Plant2_G1",
          "Plant2_G1"
         ],
         "y": [
          2.5,
          2,
          2,
          2,
          2,
          2.5,
          12,
          12,
          12,
          12,
          12,
          12,
          12,
          12,
          12,
          12,
          12,
          12,
          12,
          4.5,
          2.5,
          2.5,
          2,
          2,
          2,
          1.5,
          1.5,
          1.5,
          1.5,
          2,
          2,
          7,
          6.5,
          6.5,
          2.5,
          2,
          2.5,
          2.5,
          2.5,
          2.5,
          2.5,
          2.5,
          2.5,
          2,
          2,
          2,
          1.5,
          1.5,
          1.5,
          1.5,
          1.5,
          1.5,
          1.5,
          1.5,
          2,
          5.5,
          5.5,
          6,
          6,
          6,
          6,
          11.573360816687078,
          11.573655976085567,
          6,
          12,
          12,
          12,
          12,
          12,
          12,
          12,
          2
         ]
        },
        {
         "mode": "markers",
         "showlegend": false,
         "type": "scatter",
         "x": [
          "Plant2_G2",
          "Plant2_G2",
          "Plant2_G2",
          "Plant2_G2",
          "Plant2_G2",
          "Plant2_G2",
          "Plant2_G2",
          "Plant2_G2",
          "Plant2_G2",
          "Plant2_G2",
          "Plant2_G2",
          "Plant2_G2",
          "Plant2_G2",
          "Plant2_G2",
          "Plant2_G2",
          "Plant2_G2",
          "Plant2_G2",
          "Plant2_G2",
          "Plant2_G2",
          "Plant2_G2",
          "Plant2_G2",
          "Plant2_G2",
          "Plant2_G2",
          "Plant2_G2",
          "Plant2_G2",
          "Plant2_G2",
          "Plant2_G2",
          "Plant2_G2",
          "Plant2_G2",
          "Plant2_G2",
          "Plant2_G2",
          "Plant2_G2",
          "Plant2_G2",
          "Plant2_G2",
          "Plant2_G2",
          "Plant2_G2",
          "Plant2_G2",
          "Plant2_G2",
          "Plant2_G2",
          "Plant2_G2",
          "Plant2_G2",
          "Plant2_G2",
          "Plant2_G2",
          "Plant2_G2",
          "Plant2_G2",
          "Plant2_G2",
          "Plant2_G2",
          "Plant2_G2",
          "Plant2_G2",
          "Plant2_G2",
          "Plant2_G2",
          "Plant2_G2",
          "Plant2_G2",
          "Plant2_G2",
          "Plant2_G2",
          "Plant2_G2",
          "Plant2_G2",
          "Plant2_G2",
          "Plant2_G2",
          "Plant2_G2",
          "Plant2_G2",
          "Plant2_G2",
          "Plant2_G2",
          "Plant2_G2",
          "Plant2_G2",
          "Plant2_G2",
          "Plant2_G2",
          "Plant2_G2",
          "Plant2_G2",
          "Plant2_G2",
          "Plant2_G2",
          "Plant2_G2"
         ],
         "y": [
          12,
          12,
          12,
          12,
          12,
          12,
          2.5,
          2.5,
          2.5,
          2.5,
          2.5,
          2.5,
          2.5,
          2.5,
          12,
          12,
          2.5,
          2.5,
          12,
          12,
          12,
          12,
          12,
          12,
          12,
          12,
          12,
          12,
          12,
          12,
          12,
          12,
          12,
          12,
          12,
          12,
          12,
          12,
          12,
          12,
          12,
          12,
          12,
          12,
          12,
          12,
          12,
          12,
          12,
          12,
          12,
          12,
          12,
          12,
          12,
          12,
          12,
          12,
          12,
          12,
          12,
          12,
          12,
          12,
          12,
          12,
          12,
          12,
          12,
          12,
          12,
          12
         ]
        },
        {
         "mode": "markers",
         "showlegend": false,
         "type": "scatter",
         "x": [
          "Plant2_G3",
          "Plant2_G3",
          "Plant2_G3",
          "Plant2_G3",
          "Plant2_G3",
          "Plant2_G3",
          "Plant2_G3",
          "Plant2_G3",
          "Plant2_G3",
          "Plant2_G3",
          "Plant2_G3",
          "Plant2_G3",
          "Plant2_G3",
          "Plant2_G3",
          "Plant2_G3",
          "Plant2_G3",
          "Plant2_G3",
          "Plant2_G3",
          "Plant2_G3",
          "Plant2_G3",
          "Plant2_G3",
          "Plant2_G3",
          "Plant2_G3",
          "Plant2_G3",
          "Plant2_G3",
          "Plant2_G3",
          "Plant2_G3",
          "Plant2_G3",
          "Plant2_G3",
          "Plant2_G3",
          "Plant2_G3",
          "Plant2_G3",
          "Plant2_G3",
          "Plant2_G3",
          "Plant2_G3",
          "Plant2_G3",
          "Plant2_G3",
          "Plant2_G3",
          "Plant2_G3",
          "Plant2_G3",
          "Plant2_G3",
          "Plant2_G3",
          "Plant2_G3",
          "Plant2_G3",
          "Plant2_G3",
          "Plant2_G3",
          "Plant2_G3",
          "Plant2_G3",
          "Plant2_G3",
          "Plant2_G3",
          "Plant2_G3",
          "Plant2_G3",
          "Plant2_G3",
          "Plant2_G3",
          "Plant2_G3",
          "Plant2_G3",
          "Plant2_G3",
          "Plant2_G3",
          "Plant2_G3",
          "Plant2_G3",
          "Plant2_G3",
          "Plant2_G3",
          "Plant2_G3",
          "Plant2_G3",
          "Plant2_G3",
          "Plant2_G3",
          "Plant2_G3",
          "Plant2_G3",
          "Plant2_G3",
          "Plant2_G3",
          "Plant2_G3",
          "Plant2_G3"
         ],
         "y": [
          12,
          12,
          12,
          12,
          12,
          12,
          2.5,
          2.5,
          2.5,
          2.5,
          2.5,
          2.5,
          2.5,
          2.5,
          12,
          12,
          2.5,
          2.5,
          12,
          12,
          12,
          12,
          12,
          12,
          12,
          12,
          12,
          12,
          12,
          12,
          12,
          12,
          12,
          12,
          12,
          12,
          12,
          12,
          12,
          12,
          12,
          12,
          12,
          12,
          12,
          12,
          12,
          12,
          12,
          12,
          12,
          12,
          12,
          12,
          12,
          12,
          12,
          12,
          12,
          12,
          12,
          12,
          12,
          12,
          12,
          12,
          12,
          12,
          12,
          12,
          12,
          10.153846153846153
         ]
        },
        {
         "mode": "markers",
         "showlegend": false,
         "type": "scatter",
         "x": [
          "Plant2_G4",
          "Plant2_G4",
          "Plant2_G4",
          "Plant2_G4",
          "Plant2_G4",
          "Plant2_G4",
          "Plant2_G4",
          "Plant2_G4",
          "Plant2_G4",
          "Plant2_G4",
          "Plant2_G4",
          "Plant2_G4",
          "Plant2_G4",
          "Plant2_G4",
          "Plant2_G4",
          "Plant2_G4",
          "Plant2_G4",
          "Plant2_G4",
          "Plant2_G4",
          "Plant2_G4",
          "Plant2_G4",
          "Plant2_G4",
          "Plant2_G4",
          "Plant2_G4",
          "Plant2_G4",
          "Plant2_G4",
          "Plant2_G4",
          "Plant2_G4",
          "Plant2_G4",
          "Plant2_G4",
          "Plant2_G4",
          "Plant2_G4",
          "Plant2_G4",
          "Plant2_G4",
          "Plant2_G4",
          "Plant2_G4",
          "Plant2_G4",
          "Plant2_G4",
          "Plant2_G4",
          "Plant2_G4",
          "Plant2_G4",
          "Plant2_G4",
          "Plant2_G4",
          "Plant2_G4",
          "Plant2_G4",
          "Plant2_G4",
          "Plant2_G4",
          "Plant2_G4",
          "Plant2_G4",
          "Plant2_G4",
          "Plant2_G4",
          "Plant2_G4",
          "Plant2_G4",
          "Plant2_G4",
          "Plant2_G4",
          "Plant2_G4",
          "Plant2_G4",
          "Plant2_G4",
          "Plant2_G4",
          "Plant2_G4",
          "Plant2_G4",
          "Plant2_G4",
          "Plant2_G4",
          "Plant2_G4",
          "Plant2_G4",
          "Plant2_G4",
          "Plant2_G4",
          "Plant2_G4",
          "Plant2_G4",
          "Plant2_G4",
          "Plant2_G4",
          "Plant2_G4"
         ],
         "y": [
          12,
          12,
          12,
          12,
          12,
          12,
          2.5,
          2.5,
          2.5,
          2.5,
          2.5,
          2.5,
          2.5,
          2.5,
          12,
          12,
          2.5,
          2.5,
          12,
          12,
          12,
          12,
          12,
          12,
          12,
          12,
          12,
          12,
          12,
          12,
          12,
          12,
          12,
          12,
          12,
          12,
          12,
          12,
          12,
          12,
          12,
          12,
          12,
          12,
          12,
          12,
          12,
          12,
          12,
          12,
          12,
          12,
          12,
          12,
          12,
          12,
          12,
          12,
          12,
          12,
          12,
          12,
          12,
          12,
          12,
          12,
          12,
          12,
          12,
          12,
          12,
          12
         ]
        }
       ],
       "layout": {
        "template": {
         "data": {
          "bar": [
           {
            "error_x": {
             "color": "#2a3f5f"
            },
            "error_y": {
             "color": "#2a3f5f"
            },
            "marker": {
             "line": {
              "color": "#E5ECF6",
              "width": 0.5
             }
            },
            "type": "bar"
           }
          ],
          "barpolar": [
           {
            "marker": {
             "line": {
              "color": "#E5ECF6",
              "width": 0.5
             }
            },
            "type": "barpolar"
           }
          ],
          "carpet": [
           {
            "aaxis": {
             "endlinecolor": "#2a3f5f",
             "gridcolor": "white",
             "linecolor": "white",
             "minorgridcolor": "white",
             "startlinecolor": "#2a3f5f"
            },
            "baxis": {
             "endlinecolor": "#2a3f5f",
             "gridcolor": "white",
             "linecolor": "white",
             "minorgridcolor": "white",
             "startlinecolor": "#2a3f5f"
            },
            "type": "carpet"
           }
          ],
          "choropleth": [
           {
            "colorbar": {
             "outlinewidth": 0,
             "ticks": ""
            },
            "type": "choropleth"
           }
          ],
          "contour": [
           {
            "colorbar": {
             "outlinewidth": 0,
             "ticks": ""
            },
            "colorscale": [
             [
              0,
              "#0d0887"
             ],
             [
              0.1111111111111111,
              "#46039f"
             ],
             [
              0.2222222222222222,
              "#7201a8"
             ],
             [
              0.3333333333333333,
              "#9c179e"
             ],
             [
              0.4444444444444444,
              "#bd3786"
             ],
             [
              0.5555555555555556,
              "#d8576b"
             ],
             [
              0.6666666666666666,
              "#ed7953"
             ],
             [
              0.7777777777777778,
              "#fb9f3a"
             ],
             [
              0.8888888888888888,
              "#fdca26"
             ],
             [
              1,
              "#f0f921"
             ]
            ],
            "type": "contour"
           }
          ],
          "contourcarpet": [
           {
            "colorbar": {
             "outlinewidth": 0,
             "ticks": ""
            },
            "type": "contourcarpet"
           }
          ],
          "heatmap": [
           {
            "colorbar": {
             "outlinewidth": 0,
             "ticks": ""
            },
            "colorscale": [
             [
              0,
              "#0d0887"
             ],
             [
              0.1111111111111111,
              "#46039f"
             ],
             [
              0.2222222222222222,
              "#7201a8"
             ],
             [
              0.3333333333333333,
              "#9c179e"
             ],
             [
              0.4444444444444444,
              "#bd3786"
             ],
             [
              0.5555555555555556,
              "#d8576b"
             ],
             [
              0.6666666666666666,
              "#ed7953"
             ],
             [
              0.7777777777777778,
              "#fb9f3a"
             ],
             [
              0.8888888888888888,
              "#fdca26"
             ],
             [
              1,
              "#f0f921"
             ]
            ],
            "type": "heatmap"
           }
          ],
          "heatmapgl": [
           {
            "colorbar": {
             "outlinewidth": 0,
             "ticks": ""
            },
            "colorscale": [
             [
              0,
              "#0d0887"
             ],
             [
              0.1111111111111111,
              "#46039f"
             ],
             [
              0.2222222222222222,
              "#7201a8"
             ],
             [
              0.3333333333333333,
              "#9c179e"
             ],
             [
              0.4444444444444444,
              "#bd3786"
             ],
             [
              0.5555555555555556,
              "#d8576b"
             ],
             [
              0.6666666666666666,
              "#ed7953"
             ],
             [
              0.7777777777777778,
              "#fb9f3a"
             ],
             [
              0.8888888888888888,
              "#fdca26"
             ],
             [
              1,
              "#f0f921"
             ]
            ],
            "type": "heatmapgl"
           }
          ],
          "histogram": [
           {
            "marker": {
             "colorbar": {
              "outlinewidth": 0,
              "ticks": ""
             }
            },
            "type": "histogram"
           }
          ],
          "histogram2d": [
           {
            "colorbar": {
             "outlinewidth": 0,
             "ticks": ""
            },
            "colorscale": [
             [
              0,
              "#0d0887"
             ],
             [
              0.1111111111111111,
              "#46039f"
             ],
             [
              0.2222222222222222,
              "#7201a8"
             ],
             [
              0.3333333333333333,
              "#9c179e"
             ],
             [
              0.4444444444444444,
              "#bd3786"
             ],
             [
              0.5555555555555556,
              "#d8576b"
             ],
             [
              0.6666666666666666,
              "#ed7953"
             ],
             [
              0.7777777777777778,
              "#fb9f3a"
             ],
             [
              0.8888888888888888,
              "#fdca26"
             ],
             [
              1,
              "#f0f921"
             ]
            ],
            "type": "histogram2d"
           }
          ],
          "histogram2dcontour": [
           {
            "colorbar": {
             "outlinewidth": 0,
             "ticks": ""
            },
            "colorscale": [
             [
              0,
              "#0d0887"
             ],
             [
              0.1111111111111111,
              "#46039f"
             ],
             [
              0.2222222222222222,
              "#7201a8"
             ],
             [
              0.3333333333333333,
              "#9c179e"
             ],
             [
              0.4444444444444444,
              "#bd3786"
             ],
             [
              0.5555555555555556,
              "#d8576b"
             ],
             [
              0.6666666666666666,
              "#ed7953"
             ],
             [
              0.7777777777777778,
              "#fb9f3a"
             ],
             [
              0.8888888888888888,
              "#fdca26"
             ],
             [
              1,
              "#f0f921"
             ]
            ],
            "type": "histogram2dcontour"
           }
          ],
          "mesh3d": [
           {
            "colorbar": {
             "outlinewidth": 0,
             "ticks": ""
            },
            "type": "mesh3d"
           }
          ],
          "parcoords": [
           {
            "line": {
             "colorbar": {
              "outlinewidth": 0,
              "ticks": ""
             }
            },
            "type": "parcoords"
           }
          ],
          "pie": [
           {
            "automargin": true,
            "type": "pie"
           }
          ],
          "scatter": [
           {
            "marker": {
             "colorbar": {
              "outlinewidth": 0,
              "ticks": ""
             }
            },
            "type": "scatter"
           }
          ],
          "scatter3d": [
           {
            "line": {
             "colorbar": {
              "outlinewidth": 0,
              "ticks": ""
             }
            },
            "marker": {
             "colorbar": {
              "outlinewidth": 0,
              "ticks": ""
             }
            },
            "type": "scatter3d"
           }
          ],
          "scattercarpet": [
           {
            "marker": {
             "colorbar": {
              "outlinewidth": 0,
              "ticks": ""
             }
            },
            "type": "scattercarpet"
           }
          ],
          "scattergeo": [
           {
            "marker": {
             "colorbar": {
              "outlinewidth": 0,
              "ticks": ""
             }
            },
            "type": "scattergeo"
           }
          ],
          "scattergl": [
           {
            "marker": {
             "colorbar": {
              "outlinewidth": 0,
              "ticks": ""
             }
            },
            "type": "scattergl"
           }
          ],
          "scattermapbox": [
           {
            "marker": {
             "colorbar": {
              "outlinewidth": 0,
              "ticks": ""
             }
            },
            "type": "scattermapbox"
           }
          ],
          "scatterpolar": [
           {
            "marker": {
             "colorbar": {
              "outlinewidth": 0,
              "ticks": ""
             }
            },
            "type": "scatterpolar"
           }
          ],
          "scatterpolargl": [
           {
            "marker": {
             "colorbar": {
              "outlinewidth": 0,
              "ticks": ""
             }
            },
            "type": "scatterpolargl"
           }
          ],
          "scatterternary": [
           {
            "marker": {
             "colorbar": {
              "outlinewidth": 0,
              "ticks": ""
             }
            },
            "type": "scatterternary"
           }
          ],
          "surface": [
           {
            "colorbar": {
             "outlinewidth": 0,
             "ticks": ""
            },
            "colorscale": [
             [
              0,
              "#0d0887"
             ],
             [
              0.1111111111111111,
              "#46039f"
             ],
             [
              0.2222222222222222,
              "#7201a8"
             ],
             [
              0.3333333333333333,
              "#9c179e"
             ],
             [
              0.4444444444444444,
              "#bd3786"
             ],
             [
              0.5555555555555556,
              "#d8576b"
             ],
             [
              0.6666666666666666,
              "#ed7953"
             ],
             [
              0.7777777777777778,
              "#fb9f3a"
             ],
             [
              0.8888888888888888,
              "#fdca26"
             ],
             [
              1,
              "#f0f921"
             ]
            ],
            "type": "surface"
           }
          ],
          "table": [
           {
            "cells": {
             "fill": {
              "color": "#EBF0F8"
             },
             "line": {
              "color": "white"
             }
            },
            "header": {
             "fill": {
              "color": "#C8D4E3"
             },
             "line": {
              "color": "white"
             }
            },
            "type": "table"
           }
          ]
         },
         "layout": {
          "annotationdefaults": {
           "arrowcolor": "#2a3f5f",
           "arrowhead": 0,
           "arrowwidth": 1
          },
          "autotypenumbers": "strict",
          "coloraxis": {
           "colorbar": {
            "outlinewidth": 0,
            "ticks": ""
           }
          },
          "colorscale": {
           "diverging": [
            [
             0,
             "#8e0152"
            ],
            [
             0.1,
             "#c51b7d"
            ],
            [
             0.2,
             "#de77ae"
            ],
            [
             0.3,
             "#f1b6da"
            ],
            [
             0.4,
             "#fde0ef"
            ],
            [
             0.5,
             "#f7f7f7"
            ],
            [
             0.6,
             "#e6f5d0"
            ],
            [
             0.7,
             "#b8e186"
            ],
            [
             0.8,
             "#7fbc41"
            ],
            [
             0.9,
             "#4d9221"
            ],
            [
             1,
             "#276419"
            ]
           ],
           "sequential": [
            [
             0,
             "#0d0887"
            ],
            [
             0.1111111111111111,
             "#46039f"
            ],
            [
             0.2222222222222222,
             "#7201a8"
            ],
            [
             0.3333333333333333,
             "#9c179e"
            ],
            [
             0.4444444444444444,
             "#bd3786"
            ],
            [
             0.5555555555555556,
             "#d8576b"
            ],
            [
             0.6666666666666666,
             "#ed7953"
            ],
            [
             0.7777777777777778,
             "#fb9f3a"
            ],
            [
             0.8888888888888888,
             "#fdca26"
            ],
            [
             1,
             "#f0f921"
            ]
           ],
           "sequentialminus": [
            [
             0,
             "#0d0887"
            ],
            [
             0.1111111111111111,
             "#46039f"
            ],
            [
             0.2222222222222222,
             "#7201a8"
            ],
            [
             0.3333333333333333,
             "#9c179e"
            ],
            [
             0.4444444444444444,
             "#bd3786"
            ],
            [
             0.5555555555555556,
             "#d8576b"
            ],
            [
             0.6666666666666666,
             "#ed7953"
            ],
            [
             0.7777777777777778,
             "#fb9f3a"
            ],
            [
             0.8888888888888888,
             "#fdca26"
            ],
            [
             1,
             "#f0f921"
            ]
           ]
          },
          "colorway": [
           "#636efa",
           "#EF553B",
           "#00cc96",
           "#ab63fa",
           "#FFA15A",
           "#19d3f3",
           "#FF6692",
           "#B6E880",
           "#FF97FF",
           "#FECB52"
          ],
          "font": {
           "color": "#2a3f5f"
          },
          "geo": {
           "bgcolor": "white",
           "lakecolor": "white",
           "landcolor": "#E5ECF6",
           "showlakes": true,
           "showland": true,
           "subunitcolor": "white"
          },
          "hoverlabel": {
           "align": "left"
          },
          "hovermode": "closest",
          "mapbox": {
           "style": "light"
          },
          "paper_bgcolor": "white",
          "plot_bgcolor": "#E5ECF6",
          "polar": {
           "angularaxis": {
            "gridcolor": "white",
            "linecolor": "white",
            "ticks": ""
           },
           "bgcolor": "#E5ECF6",
           "radialaxis": {
            "gridcolor": "white",
            "linecolor": "white",
            "ticks": ""
           }
          },
          "scene": {
           "xaxis": {
            "backgroundcolor": "#E5ECF6",
            "gridcolor": "white",
            "gridwidth": 2,
            "linecolor": "white",
            "showbackground": true,
            "ticks": "",
            "zerolinecolor": "white"
           },
           "yaxis": {
            "backgroundcolor": "#E5ECF6",
            "gridcolor": "white",
            "gridwidth": 2,
            "linecolor": "white",
            "showbackground": true,
            "ticks": "",
            "zerolinecolor": "white"
           },
           "zaxis": {
            "backgroundcolor": "#E5ECF6",
            "gridcolor": "white",
            "gridwidth": 2,
            "linecolor": "white",
            "showbackground": true,
            "ticks": "",
            "zerolinecolor": "white"
           }
          },
          "shapedefaults": {
           "line": {
            "color": "#2a3f5f"
           }
          },
          "ternary": {
           "aaxis": {
            "gridcolor": "white",
            "linecolor": "white",
            "ticks": ""
           },
           "baxis": {
            "gridcolor": "white",
            "linecolor": "white",
            "ticks": ""
           },
           "bgcolor": "#E5ECF6",
           "caxis": {
            "gridcolor": "white",
            "linecolor": "white",
            "ticks": ""
           }
          },
          "title": {
           "x": 0.05
          },
          "xaxis": {
           "automargin": true,
           "gridcolor": "white",
           "linecolor": "white",
           "ticks": "",
           "title": {
            "standoff": 15
           },
           "zerolinecolor": "white",
           "zerolinewidth": 2
          },
          "yaxis": {
           "automargin": true,
           "gridcolor": "white",
           "linecolor": "white",
           "ticks": "",
           "title": {
            "standoff": 15
           },
           "zerolinecolor": "white",
           "zerolinewidth": 2
          }
         }
        },
        "title": {
         "text": "Droop values fixed below 9"
        },
        "xaxis": {
         "title": {
          "text": "Generator"
         }
        },
        "yaxis": {
         "title": {
          "text": "Droop [%]"
         }
        }
       }
      },
      "text/html": [
       "<div>                            <div id=\"e883e1e4-b303-4850-bb87-041ec7ff281c\" class=\"plotly-graph-div\" style=\"height:525px; width:100%;\"></div>            <script type=\"text/javascript\">                require([\"plotly\"], function(Plotly) {                    window.PLOTLYENV=window.PLOTLYENV || {};                                    if (document.getElementById(\"e883e1e4-b303-4850-bb87-041ec7ff281c\")) {                    Plotly.newPlot(                        \"e883e1e4-b303-4850-bb87-041ec7ff281c\",                        [{\"line\": {\"color\": \"black\", \"dash\": \"dash\", \"width\": 0.5}, \"mode\": \"lines\", \"showlegend\": false, \"type\": \"scatter\", \"x\": [\"Plant1_G1\", \"Plant1_G2\", \"Plant2_G1\", \"Plant2_G2\", \"Plant2_G3\", \"Plant2_G4\"], \"y\": [1, 1, 1, 1, 1, 1]}, {\"line\": {\"color\": \"black\", \"dash\": \"dash\", \"width\": 0.5}, \"mode\": \"lines\", \"showlegend\": false, \"type\": \"scatter\", \"x\": [\"Plant1_G1\", \"Plant1_G2\", \"Plant2_G1\", \"Plant2_G2\", \"Plant2_G3\", \"Plant2_G4\"], \"y\": [2, 2, 2, 2, 2, 2]}, {\"line\": {\"color\": \"black\", \"dash\": \"dash\", \"width\": 0.5}, \"mode\": \"lines\", \"showlegend\": false, \"type\": \"scatter\", \"x\": [\"Plant1_G1\", \"Plant1_G2\", \"Plant2_G1\", \"Plant2_G2\", \"Plant2_G3\", \"Plant2_G4\"], \"y\": [3, 3, 3, 3, 3, 3]}, {\"line\": {\"color\": \"black\", \"dash\": \"dash\", \"width\": 0.5}, \"mode\": \"lines\", \"showlegend\": false, \"type\": \"scatter\", \"x\": [\"Plant1_G1\", \"Plant1_G2\", \"Plant2_G1\", \"Plant2_G2\", \"Plant2_G3\", \"Plant2_G4\"], \"y\": [4, 4, 4, 4, 4, 4]}, {\"line\": {\"color\": \"black\", \"dash\": \"dash\", \"width\": 0.5}, \"mode\": \"lines\", \"showlegend\": false, \"type\": \"scatter\", \"x\": [\"Plant1_G1\", \"Plant1_G2\", \"Plant2_G1\", \"Plant2_G2\", \"Plant2_G3\", \"Plant2_G4\"], \"y\": [5, 5, 5, 5, 5, 5]}, {\"line\": {\"color\": \"black\", \"dash\": \"dash\", \"width\": 0.5}, \"mode\": \"lines\", \"showlegend\": false, \"type\": \"scatter\", \"x\": [\"Plant1_G1\", \"Plant1_G2\", \"Plant2_G1\", \"Plant2_G2\", \"Plant2_G3\", \"Plant2_G4\"], \"y\": [6, 6, 6, 6, 6, 6]}, {\"line\": {\"color\": \"black\", \"dash\": \"dash\", \"width\": 0.5}, \"mode\": \"lines\", \"showlegend\": false, \"type\": \"scatter\", \"x\": [\"Plant1_G1\", \"Plant1_G2\", \"Plant2_G1\", \"Plant2_G2\", \"Plant2_G3\", \"Plant2_G4\"], \"y\": [7, 7, 7, 7, 7, 7]}, {\"line\": {\"color\": \"black\", \"dash\": \"dash\", \"width\": 0.5}, \"mode\": \"lines\", \"showlegend\": false, \"type\": \"scatter\", \"x\": [\"Plant1_G1\", \"Plant1_G2\", \"Plant2_G1\", \"Plant2_G2\", \"Plant2_G3\", \"Plant2_G4\"], \"y\": [8, 8, 8, 8, 8, 8]}, {\"line\": {\"color\": \"black\", \"dash\": \"dash\", \"width\": 0.5}, \"mode\": \"lines\", \"showlegend\": false, \"type\": \"scatter\", \"x\": [\"Plant1_G1\", \"Plant1_G2\", \"Plant2_G1\", \"Plant2_G2\", \"Plant2_G3\", \"Plant2_G4\"], \"y\": [9, 9, 9, 9, 9, 9]}, {\"line\": {\"color\": \"black\", \"dash\": \"dash\", \"width\": 0.5}, \"mode\": \"lines\", \"showlegend\": false, \"type\": \"scatter\", \"x\": [\"Plant1_G1\", \"Plant1_G2\", \"Plant2_G1\", \"Plant2_G2\", \"Plant2_G3\", \"Plant2_G4\"], \"y\": [10, 10, 10, 10, 10, 10]}, {\"line\": {\"color\": \"black\", \"dash\": \"dash\", \"width\": 0.5}, \"mode\": \"lines\", \"showlegend\": false, \"type\": \"scatter\", \"x\": [\"Plant1_G1\", \"Plant1_G2\", \"Plant2_G1\", \"Plant2_G2\", \"Plant2_G3\", \"Plant2_G4\"], \"y\": [11, 11, 11, 11, 11, 11]}, {\"line\": {\"color\": \"black\", \"dash\": \"dash\", \"width\": 0.5}, \"mode\": \"lines\", \"showlegend\": false, \"type\": \"scatter\", \"x\": [\"Plant1_G1\", \"Plant1_G2\", \"Plant2_G1\", \"Plant2_G2\", \"Plant2_G3\", \"Plant2_G4\"], \"y\": [12, 12, 12, 12, 12, 12]}, {\"line\": {\"color\": \"red\", \"dash\": \"dash\", \"width\": 0.5}, \"mode\": \"lines\", \"showlegend\": false, \"type\": \"scatter\", \"x\": [\"Plant2_G1\", \"Plant2_G4\"], \"y\": [1.5, 1.5]}, {\"line\": {\"color\": \"red\", \"dash\": \"dash\", \"width\": 0.5}, \"mode\": \"lines\", \"showlegend\": false, \"type\": \"scatter\", \"x\": [\"Plant2_G1\", \"Plant2_G4\"], \"y\": [2.5, 2.5]}, {\"line\": {\"color\": \"red\", \"dash\": \"dash\", \"width\": 0.5}, \"mode\": \"lines\", \"showlegend\": false, \"type\": \"scatter\", \"x\": [\"Plant2_G1\", \"Plant2_G4\"], \"y\": [3.5, 3.5]}, {\"line\": {\"color\": \"red\", \"dash\": \"dash\", \"width\": 0.5}, \"mode\": \"lines\", \"showlegend\": false, \"type\": \"scatter\", \"x\": [\"Plant2_G1\", \"Plant2_G4\"], \"y\": [4.5, 4.5]}, {\"line\": {\"color\": \"red\", \"dash\": \"dash\", \"width\": 0.5}, \"mode\": \"lines\", \"showlegend\": false, \"type\": \"scatter\", \"x\": [\"Plant2_G1\", \"Plant2_G4\"], \"y\": [5.5, 5.5]}, {\"line\": {\"color\": \"red\", \"dash\": \"dash\", \"width\": 0.5}, \"mode\": \"lines\", \"showlegend\": false, \"type\": \"scatter\", \"x\": [\"Plant2_G1\", \"Plant2_G4\"], \"y\": [6.5, 6.5]}, {\"line\": {\"color\": \"red\", \"dash\": \"dash\", \"width\": 0.5}, \"mode\": \"lines\", \"showlegend\": false, \"type\": \"scatter\", \"x\": [\"Plant2_G1\", \"Plant2_G4\"], \"y\": [7.5, 7.5]}, {\"line\": {\"color\": \"red\", \"dash\": \"dash\", \"width\": 0.5}, \"mode\": \"lines\", \"showlegend\": false, \"type\": \"scatter\", \"x\": [\"Plant2_G1\", \"Plant2_G4\"], \"y\": [8.5, 8.5]}, {\"line\": {\"color\": \"red\", \"dash\": \"dash\", \"width\": 0.5}, \"mode\": \"lines\", \"showlegend\": false, \"type\": \"scatter\", \"x\": [\"Plant2_G1\", \"Plant2_G4\"], \"y\": [9.5, 9.5]}, {\"line\": {\"color\": \"red\", \"dash\": \"dash\", \"width\": 0.5}, \"mode\": \"lines\", \"showlegend\": false, \"type\": \"scatter\", \"x\": [\"Plant2_G1\", \"Plant2_G4\"], \"y\": [10.5, 10.5]}, {\"line\": {\"color\": \"red\", \"dash\": \"dash\", \"width\": 0.5}, \"mode\": \"lines\", \"showlegend\": false, \"type\": \"scatter\", \"x\": [\"Plant2_G1\", \"Plant2_G4\"], \"y\": [11.5, 11.5]}, {\"mode\": \"markers\", \"showlegend\": false, \"type\": \"scatter\", \"x\": [\"Plant1_G1\", \"Plant1_G1\", \"Plant1_G1\", \"Plant1_G1\", \"Plant1_G1\", \"Plant1_G1\", \"Plant1_G1\", \"Plant1_G1\", \"Plant1_G1\", \"Plant1_G1\", \"Plant1_G1\", \"Plant1_G1\", \"Plant1_G1\", \"Plant1_G1\", \"Plant1_G1\", \"Plant1_G1\", \"Plant1_G1\", \"Plant1_G1\", \"Plant1_G1\", \"Plant1_G1\", \"Plant1_G1\", \"Plant1_G1\", \"Plant1_G1\", \"Plant1_G1\", \"Plant1_G1\", \"Plant1_G1\", \"Plant1_G1\", \"Plant1_G1\", \"Plant1_G1\", \"Plant1_G1\", \"Plant1_G1\", \"Plant1_G1\", \"Plant1_G1\", \"Plant1_G1\", \"Plant1_G1\", \"Plant1_G1\", \"Plant1_G1\", \"Plant1_G1\", \"Plant1_G1\", \"Plant1_G1\", \"Plant1_G1\", \"Plant1_G1\", \"Plant1_G1\", \"Plant1_G1\", \"Plant1_G1\", \"Plant1_G1\", \"Plant1_G1\", \"Plant1_G1\", \"Plant1_G1\", \"Plant1_G1\", \"Plant1_G1\", \"Plant1_G1\", \"Plant1_G1\", \"Plant1_G1\", \"Plant1_G1\", \"Plant1_G1\", \"Plant1_G1\", \"Plant1_G1\", \"Plant1_G1\", \"Plant1_G1\", \"Plant1_G1\", \"Plant1_G1\", \"Plant1_G1\", \"Plant1_G1\", \"Plant1_G1\", \"Plant1_G1\", \"Plant1_G1\", \"Plant1_G1\", \"Plant1_G1\", \"Plant1_G1\", \"Plant1_G1\", \"Plant1_G1\"], \"y\": [12.0, 12.0, 12.0, 12.0, 12.0, 12.0, 11.999245080546705, 7.0, 7.0, 7.0, 8.0, 6.0, 7.0, 6.0, 3.0, 3.0, 6.0, 5.0, 3.0, 3.0, 12.0, 12.0, 12.0, 12.0, 12.0, 12.0, 12.0, 12.0, 12.0, 12.0, 12.0, 2.0, 2.0, 2.0, 12.0, 12.0, 6.0, 6.0, 6.0, 6.0, 6.0, 6.0, 6.0, 12.0, 12.0, 12.0, 12.0, 12.0, 12.0, 12.0, 12.0, 12.0, 12.0, 12.0, 12.0, 2.0, 2.0, 1.0, 1.0, 1.0, 1.0, 1.0, 1.0, 1.0, 1.0, 2.0, 2.0, 12.0, 1.0, 1.0, 1.0, 12.0]}, {\"mode\": \"markers\", \"showlegend\": false, \"type\": \"scatter\", \"x\": [\"Plant1_G2\", \"Plant1_G2\", \"Plant1_G2\", \"Plant1_G2\", \"Plant1_G2\", \"Plant1_G2\", \"Plant1_G2\", \"Plant1_G2\", \"Plant1_G2\", \"Plant1_G2\", \"Plant1_G2\", \"Plant1_G2\", \"Plant1_G2\", \"Plant1_G2\", \"Plant1_G2\", \"Plant1_G2\", \"Plant1_G2\", \"Plant1_G2\", \"Plant1_G2\", \"Plant1_G2\", \"Plant1_G2\", \"Plant1_G2\", \"Plant1_G2\", \"Plant1_G2\", \"Plant1_G2\", \"Plant1_G2\", \"Plant1_G2\", \"Plant1_G2\", \"Plant1_G2\", \"Plant1_G2\", \"Plant1_G2\", \"Plant1_G2\", \"Plant1_G2\", \"Plant1_G2\", \"Plant1_G2\", \"Plant1_G2\", \"Plant1_G2\", \"Plant1_G2\", \"Plant1_G2\", \"Plant1_G2\", \"Plant1_G2\", \"Plant1_G2\", \"Plant1_G2\", \"Plant1_G2\", \"Plant1_G2\", \"Plant1_G2\", \"Plant1_G2\", \"Plant1_G2\", \"Plant1_G2\", \"Plant1_G2\", \"Plant1_G2\", \"Plant1_G2\", \"Plant1_G2\", \"Plant1_G2\", \"Plant1_G2\", \"Plant1_G2\", \"Plant1_G2\", \"Plant1_G2\", \"Plant1_G2\", \"Plant1_G2\", \"Plant1_G2\", \"Plant1_G2\", \"Plant1_G2\", \"Plant1_G2\", \"Plant1_G2\", \"Plant1_G2\", \"Plant1_G2\", \"Plant1_G2\", \"Plant1_G2\", \"Plant1_G2\", \"Plant1_G2\", \"Plant1_G2\"], \"y\": [12.0, 12.0, 12.0, 12.0, 12.0, 12.0, 12.0, 7.0, 7.0, 7.0, 7.0, 8.0, 6.0, 6.0, 3.0, 3.0, 6.0, 8.0, 3.0, 12.0, 12.0, 12.0, 12.0, 12.0, 12.0, 12.0, 12.0, 12.0, 12.0, 12.0, 12.0, 12.0, 12.0, 12.0, 12.0, 12.0, 12.0, 12.0, 12.0, 12.0, 12.0, 12.0, 12.0, 12.0, 12.0, 12.0, 12.0, 12.0, 12.0, 12.0, 12.0, 12.0, 12.0, 12.0, 12.0, 12.0, 12.0, 12.0, 12.0, 12.0, 12.0, 12.0, 12.0, 12.0, 12.0, 2.0, 2.0, 1.0, 12.0, 12.0, 12.0, 12.0]}, {\"mode\": \"markers\", \"showlegend\": false, \"type\": \"scatter\", \"x\": [\"Plant2_G1\", \"Plant2_G1\", \"Plant2_G1\", \"Plant2_G1\", \"Plant2_G1\", \"Plant2_G1\", \"Plant2_G1\", \"Plant2_G1\", \"Plant2_G1\", \"Plant2_G1\", \"Plant2_G1\", \"Plant2_G1\", \"Plant2_G1\", \"Plant2_G1\", \"Plant2_G1\", \"Plant2_G1\", \"Plant2_G1\", \"Plant2_G1\", \"Plant2_G1\", \"Plant2_G1\", \"Plant2_G1\", \"Plant2_G1\", \"Plant2_G1\", \"Plant2_G1\", \"Plant2_G1\", \"Plant2_G1\", \"Plant2_G1\", \"Plant2_G1\", \"Plant2_G1\", \"Plant2_G1\", \"Plant2_G1\", \"Plant2_G1\", \"Plant2_G1\", \"Plant2_G1\", \"Plant2_G1\", \"Plant2_G1\", \"Plant2_G1\", \"Plant2_G1\", \"Plant2_G1\", \"Plant2_G1\", \"Plant2_G1\", \"Plant2_G1\", \"Plant2_G1\", \"Plant2_G1\", \"Plant2_G1\", \"Plant2_G1\", \"Plant2_G1\", \"Plant2_G1\", \"Plant2_G1\", \"Plant2_G1\", \"Plant2_G1\", \"Plant2_G1\", \"Plant2_G1\", \"Plant2_G1\", \"Plant2_G1\", \"Plant2_G1\", \"Plant2_G1\", \"Plant2_G1\", \"Plant2_G1\", \"Plant2_G1\", \"Plant2_G1\", \"Plant2_G1\", \"Plant2_G1\", \"Plant2_G1\", \"Plant2_G1\", \"Plant2_G1\", \"Plant2_G1\", \"Plant2_G1\", \"Plant2_G1\", \"Plant2_G1\", \"Plant2_G1\", \"Plant2_G1\"], \"y\": [2.5, 2.0, 2.0, 2.0, 2.0, 2.5, 12.0, 12.0, 12.0, 12.0, 12.0, 12.0, 12.0, 12.0, 12.0, 12.0, 12.0, 12.0, 12.0, 4.5, 2.5, 2.5, 2.0, 2.0, 2.0, 1.5, 1.5, 1.5, 1.5, 2.0, 2.0, 7.0, 6.5, 6.5, 2.5, 2.0, 2.5, 2.5, 2.5, 2.5, 2.5, 2.5, 2.5, 2.0, 2.0, 2.0, 1.5, 1.5, 1.5, 1.5, 1.5, 1.5, 1.5, 1.5, 2.0, 5.5, 5.5, 6.0, 6.0, 6.0, 6.0, 11.573360816687078, 11.573655976085567, 6.0, 12.0, 12.0, 12.0, 12.0, 12.0, 12.0, 12.0, 2.0]}, {\"mode\": \"markers\", \"showlegend\": false, \"type\": \"scatter\", \"x\": [\"Plant2_G2\", \"Plant2_G2\", \"Plant2_G2\", \"Plant2_G2\", \"Plant2_G2\", \"Plant2_G2\", \"Plant2_G2\", \"Plant2_G2\", \"Plant2_G2\", \"Plant2_G2\", \"Plant2_G2\", \"Plant2_G2\", \"Plant2_G2\", \"Plant2_G2\", \"Plant2_G2\", \"Plant2_G2\", \"Plant2_G2\", \"Plant2_G2\", \"Plant2_G2\", \"Plant2_G2\", \"Plant2_G2\", \"Plant2_G2\", \"Plant2_G2\", \"Plant2_G2\", \"Plant2_G2\", \"Plant2_G2\", \"Plant2_G2\", \"Plant2_G2\", \"Plant2_G2\", \"Plant2_G2\", \"Plant2_G2\", \"Plant2_G2\", \"Plant2_G2\", \"Plant2_G2\", \"Plant2_G2\", \"Plant2_G2\", \"Plant2_G2\", \"Plant2_G2\", \"Plant2_G2\", \"Plant2_G2\", \"Plant2_G2\", \"Plant2_G2\", \"Plant2_G2\", \"Plant2_G2\", \"Plant2_G2\", \"Plant2_G2\", \"Plant2_G2\", \"Plant2_G2\", \"Plant2_G2\", \"Plant2_G2\", \"Plant2_G2\", \"Plant2_G2\", \"Plant2_G2\", \"Plant2_G2\", \"Plant2_G2\", \"Plant2_G2\", \"Plant2_G2\", \"Plant2_G2\", \"Plant2_G2\", \"Plant2_G2\", \"Plant2_G2\", \"Plant2_G2\", \"Plant2_G2\", \"Plant2_G2\", \"Plant2_G2\", \"Plant2_G2\", \"Plant2_G2\", \"Plant2_G2\", \"Plant2_G2\", \"Plant2_G2\", \"Plant2_G2\", \"Plant2_G2\"], \"y\": [12.0, 12.0, 12.0, 12.0, 12.0, 12.0, 2.5, 2.5, 2.5, 2.5, 2.5, 2.5, 2.5, 2.5, 12.0, 12.0, 2.5, 2.5, 12.0, 12.0, 12.0, 12.0, 12.0, 12.0, 12.0, 12.0, 12.0, 12.0, 12.0, 12.0, 12.0, 12.0, 12.0, 12.0, 12.0, 12.0, 12.0, 12.0, 12.0, 12.0, 12.0, 12.0, 12.0, 12.0, 12.0, 12.0, 12.0, 12.0, 12.0, 12.0, 12.0, 12.0, 12.0, 12.0, 12.0, 12.0, 12.0, 12.0, 12.0, 12.0, 12.0, 12.0, 12.0, 12.0, 12.0, 12.0, 12.0, 12.0, 12.0, 12.0, 12.0, 12.0]}, {\"mode\": \"markers\", \"showlegend\": false, \"type\": \"scatter\", \"x\": [\"Plant2_G3\", \"Plant2_G3\", \"Plant2_G3\", \"Plant2_G3\", \"Plant2_G3\", \"Plant2_G3\", \"Plant2_G3\", \"Plant2_G3\", \"Plant2_G3\", \"Plant2_G3\", \"Plant2_G3\", \"Plant2_G3\", \"Plant2_G3\", \"Plant2_G3\", \"Plant2_G3\", \"Plant2_G3\", \"Plant2_G3\", \"Plant2_G3\", \"Plant2_G3\", \"Plant2_G3\", \"Plant2_G3\", \"Plant2_G3\", \"Plant2_G3\", \"Plant2_G3\", \"Plant2_G3\", \"Plant2_G3\", \"Plant2_G3\", \"Plant2_G3\", \"Plant2_G3\", \"Plant2_G3\", \"Plant2_G3\", \"Plant2_G3\", \"Plant2_G3\", \"Plant2_G3\", \"Plant2_G3\", \"Plant2_G3\", \"Plant2_G3\", \"Plant2_G3\", \"Plant2_G3\", \"Plant2_G3\", \"Plant2_G3\", \"Plant2_G3\", \"Plant2_G3\", \"Plant2_G3\", \"Plant2_G3\", \"Plant2_G3\", \"Plant2_G3\", \"Plant2_G3\", \"Plant2_G3\", \"Plant2_G3\", \"Plant2_G3\", \"Plant2_G3\", \"Plant2_G3\", \"Plant2_G3\", \"Plant2_G3\", \"Plant2_G3\", \"Plant2_G3\", \"Plant2_G3\", \"Plant2_G3\", \"Plant2_G3\", \"Plant2_G3\", \"Plant2_G3\", \"Plant2_G3\", \"Plant2_G3\", \"Plant2_G3\", \"Plant2_G3\", \"Plant2_G3\", \"Plant2_G3\", \"Plant2_G3\", \"Plant2_G3\", \"Plant2_G3\", \"Plant2_G3\"], \"y\": [12.0, 12.0, 12.0, 12.0, 12.0, 12.0, 2.5, 2.5, 2.5, 2.5, 2.5, 2.5, 2.5, 2.5, 12.0, 12.0, 2.5, 2.5, 12.0, 12.0, 12.0, 12.0, 12.0, 12.0, 12.0, 12.0, 12.0, 12.0, 12.0, 12.0, 12.0, 12.0, 12.0, 12.0, 12.0, 12.0, 12.0, 12.0, 12.0, 12.0, 12.0, 12.0, 12.0, 12.0, 12.0, 12.0, 12.0, 12.0, 12.0, 12.0, 12.0, 12.0, 12.0, 12.0, 12.0, 12.0, 12.0, 12.0, 12.0, 12.0, 12.0, 12.0, 12.0, 12.0, 12.0, 12.0, 12.0, 12.0, 12.0, 12.0, 12.0, 10.153846153846153]}, {\"mode\": \"markers\", \"showlegend\": false, \"type\": \"scatter\", \"x\": [\"Plant2_G4\", \"Plant2_G4\", \"Plant2_G4\", \"Plant2_G4\", \"Plant2_G4\", \"Plant2_G4\", \"Plant2_G4\", \"Plant2_G4\", \"Plant2_G4\", \"Plant2_G4\", \"Plant2_G4\", \"Plant2_G4\", \"Plant2_G4\", \"Plant2_G4\", \"Plant2_G4\", \"Plant2_G4\", \"Plant2_G4\", \"Plant2_G4\", \"Plant2_G4\", \"Plant2_G4\", \"Plant2_G4\", \"Plant2_G4\", \"Plant2_G4\", \"Plant2_G4\", \"Plant2_G4\", \"Plant2_G4\", \"Plant2_G4\", \"Plant2_G4\", \"Plant2_G4\", \"Plant2_G4\", \"Plant2_G4\", \"Plant2_G4\", \"Plant2_G4\", \"Plant2_G4\", \"Plant2_G4\", \"Plant2_G4\", \"Plant2_G4\", \"Plant2_G4\", \"Plant2_G4\", \"Plant2_G4\", \"Plant2_G4\", \"Plant2_G4\", \"Plant2_G4\", \"Plant2_G4\", \"Plant2_G4\", \"Plant2_G4\", \"Plant2_G4\", \"Plant2_G4\", \"Plant2_G4\", \"Plant2_G4\", \"Plant2_G4\", \"Plant2_G4\", \"Plant2_G4\", \"Plant2_G4\", \"Plant2_G4\", \"Plant2_G4\", \"Plant2_G4\", \"Plant2_G4\", \"Plant2_G4\", \"Plant2_G4\", \"Plant2_G4\", \"Plant2_G4\", \"Plant2_G4\", \"Plant2_G4\", \"Plant2_G4\", \"Plant2_G4\", \"Plant2_G4\", \"Plant2_G4\", \"Plant2_G4\", \"Plant2_G4\", \"Plant2_G4\", \"Plant2_G4\"], \"y\": [12.0, 12.0, 12.0, 12.0, 12.0, 12.0, 2.5, 2.5, 2.5, 2.5, 2.5, 2.5, 2.5, 2.5, 12.0, 12.0, 2.5, 2.5, 12.0, 12.0, 12.0, 12.0, 12.0, 12.0, 12.0, 12.0, 12.0, 12.0, 12.0, 12.0, 12.0, 12.0, 12.0, 12.0, 12.0, 12.0, 12.0, 12.0, 12.0, 12.0, 12.0, 12.0, 12.0, 12.0, 12.0, 12.0, 12.0, 12.0, 12.0, 12.0, 12.0, 12.0, 12.0, 12.0, 12.0, 12.0, 12.0, 12.0, 12.0, 12.0, 12.0, 12.0, 12.0, 12.0, 12.0, 12.0, 12.0, 12.0, 12.0, 12.0, 12.0, 12.0]}],                        {\"template\": {\"data\": {\"bar\": [{\"error_x\": {\"color\": \"#2a3f5f\"}, \"error_y\": {\"color\": \"#2a3f5f\"}, \"marker\": {\"line\": {\"color\": \"#E5ECF6\", \"width\": 0.5}}, \"type\": \"bar\"}], \"barpolar\": [{\"marker\": {\"line\": {\"color\": \"#E5ECF6\", \"width\": 0.5}}, \"type\": \"barpolar\"}], \"carpet\": [{\"aaxis\": {\"endlinecolor\": \"#2a3f5f\", \"gridcolor\": \"white\", \"linecolor\": \"white\", \"minorgridcolor\": \"white\", \"startlinecolor\": \"#2a3f5f\"}, \"baxis\": {\"endlinecolor\": \"#2a3f5f\", \"gridcolor\": \"white\", \"linecolor\": \"white\", \"minorgridcolor\": \"white\", \"startlinecolor\": \"#2a3f5f\"}, \"type\": \"carpet\"}], \"choropleth\": [{\"colorbar\": {\"outlinewidth\": 0, \"ticks\": \"\"}, \"type\": \"choropleth\"}], \"contour\": [{\"colorbar\": {\"outlinewidth\": 0, \"ticks\": \"\"}, \"colorscale\": [[0.0, \"#0d0887\"], [0.1111111111111111, \"#46039f\"], [0.2222222222222222, \"#7201a8\"], [0.3333333333333333, \"#9c179e\"], [0.4444444444444444, \"#bd3786\"], [0.5555555555555556, \"#d8576b\"], [0.6666666666666666, \"#ed7953\"], [0.7777777777777778, \"#fb9f3a\"], [0.8888888888888888, \"#fdca26\"], [1.0, \"#f0f921\"]], \"type\": \"contour\"}], \"contourcarpet\": [{\"colorbar\": {\"outlinewidth\": 0, \"ticks\": \"\"}, \"type\": \"contourcarpet\"}], \"heatmap\": [{\"colorbar\": {\"outlinewidth\": 0, \"ticks\": \"\"}, \"colorscale\": [[0.0, \"#0d0887\"], [0.1111111111111111, \"#46039f\"], [0.2222222222222222, \"#7201a8\"], [0.3333333333333333, \"#9c179e\"], [0.4444444444444444, \"#bd3786\"], [0.5555555555555556, \"#d8576b\"], [0.6666666666666666, \"#ed7953\"], [0.7777777777777778, \"#fb9f3a\"], [0.8888888888888888, \"#fdca26\"], [1.0, \"#f0f921\"]], \"type\": \"heatmap\"}], \"heatmapgl\": [{\"colorbar\": {\"outlinewidth\": 0, \"ticks\": \"\"}, \"colorscale\": [[0.0, \"#0d0887\"], [0.1111111111111111, \"#46039f\"], [0.2222222222222222, \"#7201a8\"], [0.3333333333333333, \"#9c179e\"], [0.4444444444444444, \"#bd3786\"], [0.5555555555555556, \"#d8576b\"], [0.6666666666666666, \"#ed7953\"], [0.7777777777777778, \"#fb9f3a\"], [0.8888888888888888, \"#fdca26\"], [1.0, \"#f0f921\"]], \"type\": \"heatmapgl\"}], \"histogram\": [{\"marker\": {\"colorbar\": {\"outlinewidth\": 0, \"ticks\": \"\"}}, \"type\": \"histogram\"}], \"histogram2d\": [{\"colorbar\": {\"outlinewidth\": 0, \"ticks\": \"\"}, \"colorscale\": [[0.0, \"#0d0887\"], [0.1111111111111111, \"#46039f\"], [0.2222222222222222, \"#7201a8\"], [0.3333333333333333, \"#9c179e\"], [0.4444444444444444, \"#bd3786\"], [0.5555555555555556, \"#d8576b\"], [0.6666666666666666, \"#ed7953\"], [0.7777777777777778, \"#fb9f3a\"], [0.8888888888888888, \"#fdca26\"], [1.0, \"#f0f921\"]], \"type\": \"histogram2d\"}], \"histogram2dcontour\": [{\"colorbar\": {\"outlinewidth\": 0, \"ticks\": \"\"}, \"colorscale\": [[0.0, \"#0d0887\"], [0.1111111111111111, \"#46039f\"], [0.2222222222222222, \"#7201a8\"], [0.3333333333333333, \"#9c179e\"], [0.4444444444444444, \"#bd3786\"], [0.5555555555555556, \"#d8576b\"], [0.6666666666666666, \"#ed7953\"], [0.7777777777777778, \"#fb9f3a\"], [0.8888888888888888, \"#fdca26\"], [1.0, \"#f0f921\"]], \"type\": \"histogram2dcontour\"}], \"mesh3d\": [{\"colorbar\": {\"outlinewidth\": 0, \"ticks\": \"\"}, \"type\": \"mesh3d\"}], \"parcoords\": [{\"line\": {\"colorbar\": {\"outlinewidth\": 0, \"ticks\": \"\"}}, \"type\": \"parcoords\"}], \"pie\": [{\"automargin\": true, \"type\": \"pie\"}], \"scatter\": [{\"marker\": {\"colorbar\": {\"outlinewidth\": 0, \"ticks\": \"\"}}, \"type\": \"scatter\"}], \"scatter3d\": [{\"line\": {\"colorbar\": {\"outlinewidth\": 0, \"ticks\": \"\"}}, \"marker\": {\"colorbar\": {\"outlinewidth\": 0, \"ticks\": \"\"}}, \"type\": \"scatter3d\"}], \"scattercarpet\": [{\"marker\": {\"colorbar\": {\"outlinewidth\": 0, \"ticks\": \"\"}}, \"type\": \"scattercarpet\"}], \"scattergeo\": [{\"marker\": {\"colorbar\": {\"outlinewidth\": 0, \"ticks\": \"\"}}, \"type\": \"scattergeo\"}], \"scattergl\": [{\"marker\": {\"colorbar\": {\"outlinewidth\": 0, \"ticks\": \"\"}}, \"type\": \"scattergl\"}], \"scattermapbox\": [{\"marker\": {\"colorbar\": {\"outlinewidth\": 0, \"ticks\": \"\"}}, \"type\": \"scattermapbox\"}], \"scatterpolar\": [{\"marker\": {\"colorbar\": {\"outlinewidth\": 0, \"ticks\": \"\"}}, \"type\": \"scatterpolar\"}], \"scatterpolargl\": [{\"marker\": {\"colorbar\": {\"outlinewidth\": 0, \"ticks\": \"\"}}, \"type\": \"scatterpolargl\"}], \"scatterternary\": [{\"marker\": {\"colorbar\": {\"outlinewidth\": 0, \"ticks\": \"\"}}, \"type\": \"scatterternary\"}], \"surface\": [{\"colorbar\": {\"outlinewidth\": 0, \"ticks\": \"\"}, \"colorscale\": [[0.0, \"#0d0887\"], [0.1111111111111111, \"#46039f\"], [0.2222222222222222, \"#7201a8\"], [0.3333333333333333, \"#9c179e\"], [0.4444444444444444, \"#bd3786\"], [0.5555555555555556, \"#d8576b\"], [0.6666666666666666, \"#ed7953\"], [0.7777777777777778, \"#fb9f3a\"], [0.8888888888888888, \"#fdca26\"], [1.0, \"#f0f921\"]], \"type\": \"surface\"}], \"table\": [{\"cells\": {\"fill\": {\"color\": \"#EBF0F8\"}, \"line\": {\"color\": \"white\"}}, \"header\": {\"fill\": {\"color\": \"#C8D4E3\"}, \"line\": {\"color\": \"white\"}}, \"type\": \"table\"}]}, \"layout\": {\"annotationdefaults\": {\"arrowcolor\": \"#2a3f5f\", \"arrowhead\": 0, \"arrowwidth\": 1}, \"autotypenumbers\": \"strict\", \"coloraxis\": {\"colorbar\": {\"outlinewidth\": 0, \"ticks\": \"\"}}, \"colorscale\": {\"diverging\": [[0, \"#8e0152\"], [0.1, \"#c51b7d\"], [0.2, \"#de77ae\"], [0.3, \"#f1b6da\"], [0.4, \"#fde0ef\"], [0.5, \"#f7f7f7\"], [0.6, \"#e6f5d0\"], [0.7, \"#b8e186\"], [0.8, \"#7fbc41\"], [0.9, \"#4d9221\"], [1, \"#276419\"]], \"sequential\": [[0.0, \"#0d0887\"], [0.1111111111111111, \"#46039f\"], [0.2222222222222222, \"#7201a8\"], [0.3333333333333333, \"#9c179e\"], [0.4444444444444444, \"#bd3786\"], [0.5555555555555556, \"#d8576b\"], [0.6666666666666666, \"#ed7953\"], [0.7777777777777778, \"#fb9f3a\"], [0.8888888888888888, \"#fdca26\"], [1.0, \"#f0f921\"]], \"sequentialminus\": [[0.0, \"#0d0887\"], [0.1111111111111111, \"#46039f\"], [0.2222222222222222, \"#7201a8\"], [0.3333333333333333, \"#9c179e\"], [0.4444444444444444, \"#bd3786\"], [0.5555555555555556, \"#d8576b\"], [0.6666666666666666, \"#ed7953\"], [0.7777777777777778, \"#fb9f3a\"], [0.8888888888888888, \"#fdca26\"], [1.0, \"#f0f921\"]]}, \"colorway\": [\"#636efa\", \"#EF553B\", \"#00cc96\", \"#ab63fa\", \"#FFA15A\", \"#19d3f3\", \"#FF6692\", \"#B6E880\", \"#FF97FF\", \"#FECB52\"], \"font\": {\"color\": \"#2a3f5f\"}, \"geo\": {\"bgcolor\": \"white\", \"lakecolor\": \"white\", \"landcolor\": \"#E5ECF6\", \"showlakes\": true, \"showland\": true, \"subunitcolor\": \"white\"}, \"hoverlabel\": {\"align\": \"left\"}, \"hovermode\": \"closest\", \"mapbox\": {\"style\": \"light\"}, \"paper_bgcolor\": \"white\", \"plot_bgcolor\": \"#E5ECF6\", \"polar\": {\"angularaxis\": {\"gridcolor\": \"white\", \"linecolor\": \"white\", \"ticks\": \"\"}, \"bgcolor\": \"#E5ECF6\", \"radialaxis\": {\"gridcolor\": \"white\", \"linecolor\": \"white\", \"ticks\": \"\"}}, \"scene\": {\"xaxis\": {\"backgroundcolor\": \"#E5ECF6\", \"gridcolor\": \"white\", \"gridwidth\": 2, \"linecolor\": \"white\", \"showbackground\": true, \"ticks\": \"\", \"zerolinecolor\": \"white\"}, \"yaxis\": {\"backgroundcolor\": \"#E5ECF6\", \"gridcolor\": \"white\", \"gridwidth\": 2, \"linecolor\": \"white\", \"showbackground\": true, \"ticks\": \"\", \"zerolinecolor\": \"white\"}, \"zaxis\": {\"backgroundcolor\": \"#E5ECF6\", \"gridcolor\": \"white\", \"gridwidth\": 2, \"linecolor\": \"white\", \"showbackground\": true, \"ticks\": \"\", \"zerolinecolor\": \"white\"}}, \"shapedefaults\": {\"line\": {\"color\": \"#2a3f5f\"}}, \"ternary\": {\"aaxis\": {\"gridcolor\": \"white\", \"linecolor\": \"white\", \"ticks\": \"\"}, \"baxis\": {\"gridcolor\": \"white\", \"linecolor\": \"white\", \"ticks\": \"\"}, \"bgcolor\": \"#E5ECF6\", \"caxis\": {\"gridcolor\": \"white\", \"linecolor\": \"white\", \"ticks\": \"\"}}, \"title\": {\"x\": 0.05}, \"xaxis\": {\"automargin\": true, \"gridcolor\": \"white\", \"linecolor\": \"white\", \"ticks\": \"\", \"title\": {\"standoff\": 15}, \"zerolinecolor\": \"white\", \"zerolinewidth\": 2}, \"yaxis\": {\"automargin\": true, \"gridcolor\": \"white\", \"linecolor\": \"white\", \"ticks\": \"\", \"title\": {\"standoff\": 15}, \"zerolinecolor\": \"white\", \"zerolinewidth\": 2}}}, \"title\": {\"text\": \"Droop values fixed below 9\"}, \"xaxis\": {\"title\": {\"text\": \"Generator\"}}, \"yaxis\": {\"title\": {\"text\": \"Droop [%]\"}}},                        {\"responsive\": true}                    ).then(function(){\n",
       "                            \n",
       "var gd = document.getElementById('e883e1e4-b303-4850-bb87-041ec7ff281c');\n",
       "var x = new MutationObserver(function (mutations, observer) {{\n",
       "        var display = window.getComputedStyle(gd).display;\n",
       "        if (!display || display === 'none') {{\n",
       "            console.log([gd, 'removed!']);\n",
       "            Plotly.purge(gd);\n",
       "            observer.disconnect();\n",
       "        }}\n",
       "}});\n",
       "\n",
       "// Listen for the removal of the full notebook cells\n",
       "var notebookContainer = gd.closest('#notebook-container');\n",
       "if (notebookContainer) {{\n",
       "    x.observe(notebookContainer, {childList: true});\n",
       "}}\n",
       "\n",
       "// Listen for the clearing of the current output cell\n",
       "var outputEl = gd.closest('.output');\n",
       "if (outputEl) {{\n",
       "    x.observe(outputEl, {childList: true});\n",
       "}}\n",
       "\n",
       "                        })                };                });            </script>        </div>"
      ]
     },
     "metadata": {}
    },
    {
     "output_type": "display_data",
     "data": {
      "application/vnd.plotly.v1+json": {
       "config": {
        "plotlyServerURL": "https://plot.ly"
       },
       "data": [
        {
         "line": {
          "color": "black",
          "dash": "dash",
          "width": 0.5
         },
         "mode": "lines",
         "showlegend": false,
         "type": "scatter",
         "x": [
          "Plant1_G1",
          "Plant1_G2",
          "Plant2_G1",
          "Plant2_G2",
          "Plant2_G3",
          "Plant2_G4"
         ],
         "y": [
          1,
          1,
          1,
          1,
          1,
          1
         ]
        },
        {
         "line": {
          "color": "black",
          "dash": "dash",
          "width": 0.5
         },
         "mode": "lines",
         "showlegend": false,
         "type": "scatter",
         "x": [
          "Plant1_G1",
          "Plant1_G2",
          "Plant2_G1",
          "Plant2_G2",
          "Plant2_G3",
          "Plant2_G4"
         ],
         "y": [
          2,
          2,
          2,
          2,
          2,
          2
         ]
        },
        {
         "line": {
          "color": "black",
          "dash": "dash",
          "width": 0.5
         },
         "mode": "lines",
         "showlegend": false,
         "type": "scatter",
         "x": [
          "Plant1_G1",
          "Plant1_G2",
          "Plant2_G1",
          "Plant2_G2",
          "Plant2_G3",
          "Plant2_G4"
         ],
         "y": [
          3,
          3,
          3,
          3,
          3,
          3
         ]
        },
        {
         "line": {
          "color": "black",
          "dash": "dash",
          "width": 0.5
         },
         "mode": "lines",
         "showlegend": false,
         "type": "scatter",
         "x": [
          "Plant1_G1",
          "Plant1_G2",
          "Plant2_G1",
          "Plant2_G2",
          "Plant2_G3",
          "Plant2_G4"
         ],
         "y": [
          4,
          4,
          4,
          4,
          4,
          4
         ]
        },
        {
         "line": {
          "color": "black",
          "dash": "dash",
          "width": 0.5
         },
         "mode": "lines",
         "showlegend": false,
         "type": "scatter",
         "x": [
          "Plant1_G1",
          "Plant1_G2",
          "Plant2_G1",
          "Plant2_G2",
          "Plant2_G3",
          "Plant2_G4"
         ],
         "y": [
          5,
          5,
          5,
          5,
          5,
          5
         ]
        },
        {
         "line": {
          "color": "black",
          "dash": "dash",
          "width": 0.5
         },
         "mode": "lines",
         "showlegend": false,
         "type": "scatter",
         "x": [
          "Plant1_G1",
          "Plant1_G2",
          "Plant2_G1",
          "Plant2_G2",
          "Plant2_G3",
          "Plant2_G4"
         ],
         "y": [
          6,
          6,
          6,
          6,
          6,
          6
         ]
        },
        {
         "line": {
          "color": "black",
          "dash": "dash",
          "width": 0.5
         },
         "mode": "lines",
         "showlegend": false,
         "type": "scatter",
         "x": [
          "Plant1_G1",
          "Plant1_G2",
          "Plant2_G1",
          "Plant2_G2",
          "Plant2_G3",
          "Plant2_G4"
         ],
         "y": [
          7,
          7,
          7,
          7,
          7,
          7
         ]
        },
        {
         "line": {
          "color": "black",
          "dash": "dash",
          "width": 0.5
         },
         "mode": "lines",
         "showlegend": false,
         "type": "scatter",
         "x": [
          "Plant1_G1",
          "Plant1_G2",
          "Plant2_G1",
          "Plant2_G2",
          "Plant2_G3",
          "Plant2_G4"
         ],
         "y": [
          8,
          8,
          8,
          8,
          8,
          8
         ]
        },
        {
         "line": {
          "color": "black",
          "dash": "dash",
          "width": 0.5
         },
         "mode": "lines",
         "showlegend": false,
         "type": "scatter",
         "x": [
          "Plant1_G1",
          "Plant1_G2",
          "Plant2_G1",
          "Plant2_G2",
          "Plant2_G3",
          "Plant2_G4"
         ],
         "y": [
          9,
          9,
          9,
          9,
          9,
          9
         ]
        },
        {
         "line": {
          "color": "black",
          "dash": "dash",
          "width": 0.5
         },
         "mode": "lines",
         "showlegend": false,
         "type": "scatter",
         "x": [
          "Plant1_G1",
          "Plant1_G2",
          "Plant2_G1",
          "Plant2_G2",
          "Plant2_G3",
          "Plant2_G4"
         ],
         "y": [
          10,
          10,
          10,
          10,
          10,
          10
         ]
        },
        {
         "line": {
          "color": "black",
          "dash": "dash",
          "width": 0.5
         },
         "mode": "lines",
         "showlegend": false,
         "type": "scatter",
         "x": [
          "Plant1_G1",
          "Plant1_G2",
          "Plant2_G1",
          "Plant2_G2",
          "Plant2_G3",
          "Plant2_G4"
         ],
         "y": [
          11,
          11,
          11,
          11,
          11,
          11
         ]
        },
        {
         "line": {
          "color": "black",
          "dash": "dash",
          "width": 0.5
         },
         "mode": "lines",
         "showlegend": false,
         "type": "scatter",
         "x": [
          "Plant1_G1",
          "Plant1_G2",
          "Plant2_G1",
          "Plant2_G2",
          "Plant2_G3",
          "Plant2_G4"
         ],
         "y": [
          12,
          12,
          12,
          12,
          12,
          12
         ]
        },
        {
         "line": {
          "color": "red",
          "dash": "dash",
          "width": 0.5
         },
         "mode": "lines",
         "showlegend": false,
         "type": "scatter",
         "x": [
          "Plant2_G1",
          "Plant2_G4"
         ],
         "y": [
          1.5,
          1.5
         ]
        },
        {
         "line": {
          "color": "red",
          "dash": "dash",
          "width": 0.5
         },
         "mode": "lines",
         "showlegend": false,
         "type": "scatter",
         "x": [
          "Plant2_G1",
          "Plant2_G4"
         ],
         "y": [
          2.5,
          2.5
         ]
        },
        {
         "line": {
          "color": "red",
          "dash": "dash",
          "width": 0.5
         },
         "mode": "lines",
         "showlegend": false,
         "type": "scatter",
         "x": [
          "Plant2_G1",
          "Plant2_G4"
         ],
         "y": [
          3.5,
          3.5
         ]
        },
        {
         "line": {
          "color": "red",
          "dash": "dash",
          "width": 0.5
         },
         "mode": "lines",
         "showlegend": false,
         "type": "scatter",
         "x": [
          "Plant2_G1",
          "Plant2_G4"
         ],
         "y": [
          4.5,
          4.5
         ]
        },
        {
         "line": {
          "color": "red",
          "dash": "dash",
          "width": 0.5
         },
         "mode": "lines",
         "showlegend": false,
         "type": "scatter",
         "x": [
          "Plant2_G1",
          "Plant2_G4"
         ],
         "y": [
          5.5,
          5.5
         ]
        },
        {
         "line": {
          "color": "red",
          "dash": "dash",
          "width": 0.5
         },
         "mode": "lines",
         "showlegend": false,
         "type": "scatter",
         "x": [
          "Plant2_G1",
          "Plant2_G4"
         ],
         "y": [
          6.5,
          6.5
         ]
        },
        {
         "line": {
          "color": "red",
          "dash": "dash",
          "width": 0.5
         },
         "mode": "lines",
         "showlegend": false,
         "type": "scatter",
         "x": [
          "Plant2_G1",
          "Plant2_G4"
         ],
         "y": [
          7.5,
          7.5
         ]
        },
        {
         "line": {
          "color": "red",
          "dash": "dash",
          "width": 0.5
         },
         "mode": "lines",
         "showlegend": false,
         "type": "scatter",
         "x": [
          "Plant2_G1",
          "Plant2_G4"
         ],
         "y": [
          8.5,
          8.5
         ]
        },
        {
         "line": {
          "color": "red",
          "dash": "dash",
          "width": 0.5
         },
         "mode": "lines",
         "showlegend": false,
         "type": "scatter",
         "x": [
          "Plant2_G1",
          "Plant2_G4"
         ],
         "y": [
          9.5,
          9.5
         ]
        },
        {
         "line": {
          "color": "red",
          "dash": "dash",
          "width": 0.5
         },
         "mode": "lines",
         "showlegend": false,
         "type": "scatter",
         "x": [
          "Plant2_G1",
          "Plant2_G4"
         ],
         "y": [
          10.5,
          10.5
         ]
        },
        {
         "line": {
          "color": "red",
          "dash": "dash",
          "width": 0.5
         },
         "mode": "lines",
         "showlegend": false,
         "type": "scatter",
         "x": [
          "Plant2_G1",
          "Plant2_G4"
         ],
         "y": [
          11.5,
          11.5
         ]
        },
        {
         "mode": "markers",
         "showlegend": false,
         "type": "scatter",
         "x": [
          "Plant1_G1",
          "Plant1_G1",
          "Plant1_G1",
          "Plant1_G1",
          "Plant1_G1",
          "Plant1_G1",
          "Plant1_G1",
          "Plant1_G1",
          "Plant1_G1",
          "Plant1_G1",
          "Plant1_G1",
          "Plant1_G1",
          "Plant1_G1",
          "Plant1_G1",
          "Plant1_G1",
          "Plant1_G1",
          "Plant1_G1",
          "Plant1_G1",
          "Plant1_G1",
          "Plant1_G1",
          "Plant1_G1",
          "Plant1_G1",
          "Plant1_G1",
          "Plant1_G1",
          "Plant1_G1",
          "Plant1_G1",
          "Plant1_G1",
          "Plant1_G1",
          "Plant1_G1",
          "Plant1_G1",
          "Plant1_G1",
          "Plant1_G1",
          "Plant1_G1",
          "Plant1_G1",
          "Plant1_G1",
          "Plant1_G1",
          "Plant1_G1",
          "Plant1_G1",
          "Plant1_G1",
          "Plant1_G1",
          "Plant1_G1",
          "Plant1_G1",
          "Plant1_G1",
          "Plant1_G1",
          "Plant1_G1",
          "Plant1_G1",
          "Plant1_G1",
          "Plant1_G1",
          "Plant1_G1",
          "Plant1_G1",
          "Plant1_G1",
          "Plant1_G1",
          "Plant1_G1",
          "Plant1_G1",
          "Plant1_G1",
          "Plant1_G1",
          "Plant1_G1",
          "Plant1_G1",
          "Plant1_G1",
          "Plant1_G1",
          "Plant1_G1",
          "Plant1_G1",
          "Plant1_G1",
          "Plant1_G1",
          "Plant1_G1",
          "Plant1_G1",
          "Plant1_G1",
          "Plant1_G1",
          "Plant1_G1",
          "Plant1_G1",
          "Plant1_G1",
          "Plant1_G1"
         ],
         "y": [
          12,
          12,
          12,
          12,
          12,
          12,
          11,
          7,
          7,
          7,
          8,
          6,
          7,
          6,
          3,
          3,
          6,
          5,
          3,
          3,
          12,
          12,
          12,
          12,
          12,
          12,
          12,
          12,
          12,
          12,
          12,
          2,
          2,
          2,
          12,
          12,
          6,
          6,
          6,
          6,
          6,
          6,
          6,
          12,
          12,
          12,
          12,
          12,
          12,
          12,
          12,
          12,
          12,
          12,
          12,
          2,
          2,
          1,
          1,
          1,
          1,
          1,
          1,
          1,
          1,
          2,
          2,
          12,
          1,
          1,
          1,
          12
         ]
        },
        {
         "mode": "markers",
         "showlegend": false,
         "type": "scatter",
         "x": [
          "Plant1_G2",
          "Plant1_G2",
          "Plant1_G2",
          "Plant1_G2",
          "Plant1_G2",
          "Plant1_G2",
          "Plant1_G2",
          "Plant1_G2",
          "Plant1_G2",
          "Plant1_G2",
          "Plant1_G2",
          "Plant1_G2",
          "Plant1_G2",
          "Plant1_G2",
          "Plant1_G2",
          "Plant1_G2",
          "Plant1_G2",
          "Plant1_G2",
          "Plant1_G2",
          "Plant1_G2",
          "Plant1_G2",
          "Plant1_G2",
          "Plant1_G2",
          "Plant1_G2",
          "Plant1_G2",
          "Plant1_G2",
          "Plant1_G2",
          "Plant1_G2",
          "Plant1_G2",
          "Plant1_G2",
          "Plant1_G2",
          "Plant1_G2",
          "Plant1_G2",
          "Plant1_G2",
          "Plant1_G2",
          "Plant1_G2",
          "Plant1_G2",
          "Plant1_G2",
          "Plant1_G2",
          "Plant1_G2",
          "Plant1_G2",
          "Plant1_G2",
          "Plant1_G2",
          "Plant1_G2",
          "Plant1_G2",
          "Plant1_G2",
          "Plant1_G2",
          "Plant1_G2",
          "Plant1_G2",
          "Plant1_G2",
          "Plant1_G2",
          "Plant1_G2",
          "Plant1_G2",
          "Plant1_G2",
          "Plant1_G2",
          "Plant1_G2",
          "Plant1_G2",
          "Plant1_G2",
          "Plant1_G2",
          "Plant1_G2",
          "Plant1_G2",
          "Plant1_G2",
          "Plant1_G2",
          "Plant1_G2",
          "Plant1_G2",
          "Plant1_G2",
          "Plant1_G2",
          "Plant1_G2",
          "Plant1_G2",
          "Plant1_G2",
          "Plant1_G2",
          "Plant1_G2"
         ],
         "y": [
          12,
          12,
          12,
          12,
          12,
          12,
          12,
          7,
          7,
          7,
          7,
          8,
          6,
          6,
          3,
          3,
          6,
          8,
          3,
          12,
          12,
          12,
          12,
          12,
          12,
          12,
          12,
          12,
          12,
          12,
          12,
          12,
          12,
          12,
          12,
          12,
          12,
          12,
          12,
          12,
          12,
          12,
          12,
          12,
          12,
          12,
          12,
          12,
          12,
          12,
          12,
          12,
          12,
          12,
          12,
          12,
          12,
          12,
          12,
          12,
          12,
          12,
          12,
          12,
          12,
          2,
          2,
          1,
          12,
          12,
          12,
          12
         ]
        },
        {
         "mode": "markers",
         "showlegend": false,
         "type": "scatter",
         "x": [
          "Plant2_G1",
          "Plant2_G1",
          "Plant2_G1",
          "Plant2_G1",
          "Plant2_G1",
          "Plant2_G1",
          "Plant2_G1",
          "Plant2_G1",
          "Plant2_G1",
          "Plant2_G1",
          "Plant2_G1",
          "Plant2_G1",
          "Plant2_G1",
          "Plant2_G1",
          "Plant2_G1",
          "Plant2_G1",
          "Plant2_G1",
          "Plant2_G1",
          "Plant2_G1",
          "Plant2_G1",
          "Plant2_G1",
          "Plant2_G1",
          "Plant2_G1",
          "Plant2_G1",
          "Plant2_G1",
          "Plant2_G1",
          "Plant2_G1",
          "Plant2_G1",
          "Plant2_G1",
          "Plant2_G1",
          "Plant2_G1",
          "Plant2_G1",
          "Plant2_G1",
          "Plant2_G1",
          "Plant2_G1",
          "Plant2_G1",
          "Plant2_G1",
          "Plant2_G1",
          "Plant2_G1",
          "Plant2_G1",
          "Plant2_G1",
          "Plant2_G1",
          "Plant2_G1",
          "Plant2_G1",
          "Plant2_G1",
          "Plant2_G1",
          "Plant2_G1",
          "Plant2_G1",
          "Plant2_G1",
          "Plant2_G1",
          "Plant2_G1",
          "Plant2_G1",
          "Plant2_G1",
          "Plant2_G1",
          "Plant2_G1",
          "Plant2_G1",
          "Plant2_G1",
          "Plant2_G1",
          "Plant2_G1",
          "Plant2_G1",
          "Plant2_G1",
          "Plant2_G1",
          "Plant2_G1",
          "Plant2_G1",
          "Plant2_G1",
          "Plant2_G1",
          "Plant2_G1",
          "Plant2_G1",
          "Plant2_G1",
          "Plant2_G1",
          "Plant2_G1",
          "Plant2_G1"
         ],
         "y": [
          2.5,
          2,
          2,
          2,
          2,
          2.5,
          12,
          12,
          12,
          12,
          12,
          12,
          12,
          12,
          12,
          12,
          12,
          12,
          12,
          4.5,
          2.5,
          2.5,
          2,
          2,
          2,
          1.5,
          1.5,
          1.5,
          1.5,
          2,
          2,
          7,
          6.5,
          6.5,
          2.5,
          2,
          2.5,
          2.5,
          2.5,
          2.5,
          2.5,
          2.5,
          2.5,
          2,
          2,
          2,
          1.5,
          1.5,
          1.5,
          1.5,
          1.5,
          1.5,
          1.5,
          1.5,
          2,
          5.5,
          5.5,
          6,
          6,
          6,
          6,
          11.5,
          11.5,
          6,
          12,
          12,
          12,
          12,
          12,
          12,
          12,
          2
         ]
        },
        {
         "mode": "markers",
         "showlegend": false,
         "type": "scatter",
         "x": [
          "Plant2_G2",
          "Plant2_G2",
          "Plant2_G2",
          "Plant2_G2",
          "Plant2_G2",
          "Plant2_G2",
          "Plant2_G2",
          "Plant2_G2",
          "Plant2_G2",
          "Plant2_G2",
          "Plant2_G2",
          "Plant2_G2",
          "Plant2_G2",
          "Plant2_G2",
          "Plant2_G2",
          "Plant2_G2",
          "Plant2_G2",
          "Plant2_G2",
          "Plant2_G2",
          "Plant2_G2",
          "Plant2_G2",
          "Plant2_G2",
          "Plant2_G2",
          "Plant2_G2",
          "Plant2_G2",
          "Plant2_G2",
          "Plant2_G2",
          "Plant2_G2",
          "Plant2_G2",
          "Plant2_G2",
          "Plant2_G2",
          "Plant2_G2",
          "Plant2_G2",
          "Plant2_G2",
          "Plant2_G2",
          "Plant2_G2",
          "Plant2_G2",
          "Plant2_G2",
          "Plant2_G2",
          "Plant2_G2",
          "Plant2_G2",
          "Plant2_G2",
          "Plant2_G2",
          "Plant2_G2",
          "Plant2_G2",
          "Plant2_G2",
          "Plant2_G2",
          "Plant2_G2",
          "Plant2_G2",
          "Plant2_G2",
          "Plant2_G2",
          "Plant2_G2",
          "Plant2_G2",
          "Plant2_G2",
          "Plant2_G2",
          "Plant2_G2",
          "Plant2_G2",
          "Plant2_G2",
          "Plant2_G2",
          "Plant2_G2",
          "Plant2_G2",
          "Plant2_G2",
          "Plant2_G2",
          "Plant2_G2",
          "Plant2_G2",
          "Plant2_G2",
          "Plant2_G2",
          "Plant2_G2",
          "Plant2_G2",
          "Plant2_G2",
          "Plant2_G2",
          "Plant2_G2"
         ],
         "y": [
          12,
          12,
          12,
          12,
          12,
          12,
          2.5,
          2.5,
          2.5,
          2.5,
          2.5,
          2.5,
          2.5,
          2.5,
          12,
          12,
          2.5,
          2.5,
          12,
          12,
          12,
          12,
          12,
          12,
          12,
          12,
          12,
          12,
          12,
          12,
          12,
          12,
          12,
          12,
          12,
          12,
          12,
          12,
          12,
          12,
          12,
          12,
          12,
          12,
          12,
          12,
          12,
          12,
          12,
          12,
          12,
          12,
          12,
          12,
          12,
          12,
          12,
          12,
          12,
          12,
          12,
          12,
          12,
          12,
          12,
          12,
          12,
          12,
          12,
          12,
          12,
          12
         ]
        },
        {
         "mode": "markers",
         "showlegend": false,
         "type": "scatter",
         "x": [
          "Plant2_G3",
          "Plant2_G3",
          "Plant2_G3",
          "Plant2_G3",
          "Plant2_G3",
          "Plant2_G3",
          "Plant2_G3",
          "Plant2_G3",
          "Plant2_G3",
          "Plant2_G3",
          "Plant2_G3",
          "Plant2_G3",
          "Plant2_G3",
          "Plant2_G3",
          "Plant2_G3",
          "Plant2_G3",
          "Plant2_G3",
          "Plant2_G3",
          "Plant2_G3",
          "Plant2_G3",
          "Plant2_G3",
          "Plant2_G3",
          "Plant2_G3",
          "Plant2_G3",
          "Plant2_G3",
          "Plant2_G3",
          "Plant2_G3",
          "Plant2_G3",
          "Plant2_G3",
          "Plant2_G3",
          "Plant2_G3",
          "Plant2_G3",
          "Plant2_G3",
          "Plant2_G3",
          "Plant2_G3",
          "Plant2_G3",
          "Plant2_G3",
          "Plant2_G3",
          "Plant2_G3",
          "Plant2_G3",
          "Plant2_G3",
          "Plant2_G3",
          "Plant2_G3",
          "Plant2_G3",
          "Plant2_G3",
          "Plant2_G3",
          "Plant2_G3",
          "Plant2_G3",
          "Plant2_G3",
          "Plant2_G3",
          "Plant2_G3",
          "Plant2_G3",
          "Plant2_G3",
          "Plant2_G3",
          "Plant2_G3",
          "Plant2_G3",
          "Plant2_G3",
          "Plant2_G3",
          "Plant2_G3",
          "Plant2_G3",
          "Plant2_G3",
          "Plant2_G3",
          "Plant2_G3",
          "Plant2_G3",
          "Plant2_G3",
          "Plant2_G3",
          "Plant2_G3",
          "Plant2_G3",
          "Plant2_G3",
          "Plant2_G3",
          "Plant2_G3",
          "Plant2_G3"
         ],
         "y": [
          12,
          12,
          12,
          12,
          12,
          12,
          2.5,
          2.5,
          2.5,
          2.5,
          2.5,
          2.5,
          2.5,
          2.5,
          12,
          12,
          2.5,
          2.5,
          12,
          12,
          12,
          12,
          12,
          12,
          12,
          12,
          12,
          12,
          12,
          12,
          12,
          12,
          12,
          12,
          12,
          12,
          12,
          12,
          12,
          12,
          12,
          12,
          12,
          12,
          12,
          12,
          12,
          12,
          12,
          12,
          12,
          12,
          12,
          12,
          12,
          12,
          12,
          12,
          12,
          12,
          12,
          12,
          12,
          12,
          12,
          12,
          12,
          12,
          12,
          12,
          12,
          10
         ]
        },
        {
         "mode": "markers",
         "showlegend": false,
         "type": "scatter",
         "x": [
          "Plant2_G4",
          "Plant2_G4",
          "Plant2_G4",
          "Plant2_G4",
          "Plant2_G4",
          "Plant2_G4",
          "Plant2_G4",
          "Plant2_G4",
          "Plant2_G4",
          "Plant2_G4",
          "Plant2_G4",
          "Plant2_G4",
          "Plant2_G4",
          "Plant2_G4",
          "Plant2_G4",
          "Plant2_G4",
          "Plant2_G4",
          "Plant2_G4",
          "Plant2_G4",
          "Plant2_G4",
          "Plant2_G4",
          "Plant2_G4",
          "Plant2_G4",
          "Plant2_G4",
          "Plant2_G4",
          "Plant2_G4",
          "Plant2_G4",
          "Plant2_G4",
          "Plant2_G4",
          "Plant2_G4",
          "Plant2_G4",
          "Plant2_G4",
          "Plant2_G4",
          "Plant2_G4",
          "Plant2_G4",
          "Plant2_G4",
          "Plant2_G4",
          "Plant2_G4",
          "Plant2_G4",
          "Plant2_G4",
          "Plant2_G4",
          "Plant2_G4",
          "Plant2_G4",
          "Plant2_G4",
          "Plant2_G4",
          "Plant2_G4",
          "Plant2_G4",
          "Plant2_G4",
          "Plant2_G4",
          "Plant2_G4",
          "Plant2_G4",
          "Plant2_G4",
          "Plant2_G4",
          "Plant2_G4",
          "Plant2_G4",
          "Plant2_G4",
          "Plant2_G4",
          "Plant2_G4",
          "Plant2_G4",
          "Plant2_G4",
          "Plant2_G4",
          "Plant2_G4",
          "Plant2_G4",
          "Plant2_G4",
          "Plant2_G4",
          "Plant2_G4",
          "Plant2_G4",
          "Plant2_G4",
          "Plant2_G4",
          "Plant2_G4",
          "Plant2_G4",
          "Plant2_G4"
         ],
         "y": [
          12,
          12,
          12,
          12,
          12,
          12,
          2.5,
          2.5,
          2.5,
          2.5,
          2.5,
          2.5,
          2.5,
          2.5,
          12,
          12,
          2.5,
          2.5,
          12,
          12,
          12,
          12,
          12,
          12,
          12,
          12,
          12,
          12,
          12,
          12,
          12,
          12,
          12,
          12,
          12,
          12,
          12,
          12,
          12,
          12,
          12,
          12,
          12,
          12,
          12,
          12,
          12,
          12,
          12,
          12,
          12,
          12,
          12,
          12,
          12,
          12,
          12,
          12,
          12,
          12,
          12,
          12,
          12,
          12,
          12,
          12,
          12,
          12,
          12,
          12,
          12,
          12
         ]
        }
       ],
       "layout": {
        "template": {
         "data": {
          "bar": [
           {
            "error_x": {
             "color": "#2a3f5f"
            },
            "error_y": {
             "color": "#2a3f5f"
            },
            "marker": {
             "line": {
              "color": "#E5ECF6",
              "width": 0.5
             }
            },
            "type": "bar"
           }
          ],
          "barpolar": [
           {
            "marker": {
             "line": {
              "color": "#E5ECF6",
              "width": 0.5
             }
            },
            "type": "barpolar"
           }
          ],
          "carpet": [
           {
            "aaxis": {
             "endlinecolor": "#2a3f5f",
             "gridcolor": "white",
             "linecolor": "white",
             "minorgridcolor": "white",
             "startlinecolor": "#2a3f5f"
            },
            "baxis": {
             "endlinecolor": "#2a3f5f",
             "gridcolor": "white",
             "linecolor": "white",
             "minorgridcolor": "white",
             "startlinecolor": "#2a3f5f"
            },
            "type": "carpet"
           }
          ],
          "choropleth": [
           {
            "colorbar": {
             "outlinewidth": 0,
             "ticks": ""
            },
            "type": "choropleth"
           }
          ],
          "contour": [
           {
            "colorbar": {
             "outlinewidth": 0,
             "ticks": ""
            },
            "colorscale": [
             [
              0,
              "#0d0887"
             ],
             [
              0.1111111111111111,
              "#46039f"
             ],
             [
              0.2222222222222222,
              "#7201a8"
             ],
             [
              0.3333333333333333,
              "#9c179e"
             ],
             [
              0.4444444444444444,
              "#bd3786"
             ],
             [
              0.5555555555555556,
              "#d8576b"
             ],
             [
              0.6666666666666666,
              "#ed7953"
             ],
             [
              0.7777777777777778,
              "#fb9f3a"
             ],
             [
              0.8888888888888888,
              "#fdca26"
             ],
             [
              1,
              "#f0f921"
             ]
            ],
            "type": "contour"
           }
          ],
          "contourcarpet": [
           {
            "colorbar": {
             "outlinewidth": 0,
             "ticks": ""
            },
            "type": "contourcarpet"
           }
          ],
          "heatmap": [
           {
            "colorbar": {
             "outlinewidth": 0,
             "ticks": ""
            },
            "colorscale": [
             [
              0,
              "#0d0887"
             ],
             [
              0.1111111111111111,
              "#46039f"
             ],
             [
              0.2222222222222222,
              "#7201a8"
             ],
             [
              0.3333333333333333,
              "#9c179e"
             ],
             [
              0.4444444444444444,
              "#bd3786"
             ],
             [
              0.5555555555555556,
              "#d8576b"
             ],
             [
              0.6666666666666666,
              "#ed7953"
             ],
             [
              0.7777777777777778,
              "#fb9f3a"
             ],
             [
              0.8888888888888888,
              "#fdca26"
             ],
             [
              1,
              "#f0f921"
             ]
            ],
            "type": "heatmap"
           }
          ],
          "heatmapgl": [
           {
            "colorbar": {
             "outlinewidth": 0,
             "ticks": ""
            },
            "colorscale": [
             [
              0,
              "#0d0887"
             ],
             [
              0.1111111111111111,
              "#46039f"
             ],
             [
              0.2222222222222222,
              "#7201a8"
             ],
             [
              0.3333333333333333,
              "#9c179e"
             ],
             [
              0.4444444444444444,
              "#bd3786"
             ],
             [
              0.5555555555555556,
              "#d8576b"
             ],
             [
              0.6666666666666666,
              "#ed7953"
             ],
             [
              0.7777777777777778,
              "#fb9f3a"
             ],
             [
              0.8888888888888888,
              "#fdca26"
             ],
             [
              1,
              "#f0f921"
             ]
            ],
            "type": "heatmapgl"
           }
          ],
          "histogram": [
           {
            "marker": {
             "colorbar": {
              "outlinewidth": 0,
              "ticks": ""
             }
            },
            "type": "histogram"
           }
          ],
          "histogram2d": [
           {
            "colorbar": {
             "outlinewidth": 0,
             "ticks": ""
            },
            "colorscale": [
             [
              0,
              "#0d0887"
             ],
             [
              0.1111111111111111,
              "#46039f"
             ],
             [
              0.2222222222222222,
              "#7201a8"
             ],
             [
              0.3333333333333333,
              "#9c179e"
             ],
             [
              0.4444444444444444,
              "#bd3786"
             ],
             [
              0.5555555555555556,
              "#d8576b"
             ],
             [
              0.6666666666666666,
              "#ed7953"
             ],
             [
              0.7777777777777778,
              "#fb9f3a"
             ],
             [
              0.8888888888888888,
              "#fdca26"
             ],
             [
              1,
              "#f0f921"
             ]
            ],
            "type": "histogram2d"
           }
          ],
          "histogram2dcontour": [
           {
            "colorbar": {
             "outlinewidth": 0,
             "ticks": ""
            },
            "colorscale": [
             [
              0,
              "#0d0887"
             ],
             [
              0.1111111111111111,
              "#46039f"
             ],
             [
              0.2222222222222222,
              "#7201a8"
             ],
             [
              0.3333333333333333,
              "#9c179e"
             ],
             [
              0.4444444444444444,
              "#bd3786"
             ],
             [
              0.5555555555555556,
              "#d8576b"
             ],
             [
              0.6666666666666666,
              "#ed7953"
             ],
             [
              0.7777777777777778,
              "#fb9f3a"
             ],
             [
              0.8888888888888888,
              "#fdca26"
             ],
             [
              1,
              "#f0f921"
             ]
            ],
            "type": "histogram2dcontour"
           }
          ],
          "mesh3d": [
           {
            "colorbar": {
             "outlinewidth": 0,
             "ticks": ""
            },
            "type": "mesh3d"
           }
          ],
          "parcoords": [
           {
            "line": {
             "colorbar": {
              "outlinewidth": 0,
              "ticks": ""
             }
            },
            "type": "parcoords"
           }
          ],
          "pie": [
           {
            "automargin": true,
            "type": "pie"
           }
          ],
          "scatter": [
           {
            "marker": {
             "colorbar": {
              "outlinewidth": 0,
              "ticks": ""
             }
            },
            "type": "scatter"
           }
          ],
          "scatter3d": [
           {
            "line": {
             "colorbar": {
              "outlinewidth": 0,
              "ticks": ""
             }
            },
            "marker": {
             "colorbar": {
              "outlinewidth": 0,
              "ticks": ""
             }
            },
            "type": "scatter3d"
           }
          ],
          "scattercarpet": [
           {
            "marker": {
             "colorbar": {
              "outlinewidth": 0,
              "ticks": ""
             }
            },
            "type": "scattercarpet"
           }
          ],
          "scattergeo": [
           {
            "marker": {
             "colorbar": {
              "outlinewidth": 0,
              "ticks": ""
             }
            },
            "type": "scattergeo"
           }
          ],
          "scattergl": [
           {
            "marker": {
             "colorbar": {
              "outlinewidth": 0,
              "ticks": ""
             }
            },
            "type": "scattergl"
           }
          ],
          "scattermapbox": [
           {
            "marker": {
             "colorbar": {
              "outlinewidth": 0,
              "ticks": ""
             }
            },
            "type": "scattermapbox"
           }
          ],
          "scatterpolar": [
           {
            "marker": {
             "colorbar": {
              "outlinewidth": 0,
              "ticks": ""
             }
            },
            "type": "scatterpolar"
           }
          ],
          "scatterpolargl": [
           {
            "marker": {
             "colorbar": {
              "outlinewidth": 0,
              "ticks": ""
             }
            },
            "type": "scatterpolargl"
           }
          ],
          "scatterternary": [
           {
            "marker": {
             "colorbar": {
              "outlinewidth": 0,
              "ticks": ""
             }
            },
            "type": "scatterternary"
           }
          ],
          "surface": [
           {
            "colorbar": {
             "outlinewidth": 0,
             "ticks": ""
            },
            "colorscale": [
             [
              0,
              "#0d0887"
             ],
             [
              0.1111111111111111,
              "#46039f"
             ],
             [
              0.2222222222222222,
              "#7201a8"
             ],
             [
              0.3333333333333333,
              "#9c179e"
             ],
             [
              0.4444444444444444,
              "#bd3786"
             ],
             [
              0.5555555555555556,
              "#d8576b"
             ],
             [
              0.6666666666666666,
              "#ed7953"
             ],
             [
              0.7777777777777778,
              "#fb9f3a"
             ],
             [
              0.8888888888888888,
              "#fdca26"
             ],
             [
              1,
              "#f0f921"
             ]
            ],
            "type": "surface"
           }
          ],
          "table": [
           {
            "cells": {
             "fill": {
              "color": "#EBF0F8"
             },
             "line": {
              "color": "white"
             }
            },
            "header": {
             "fill": {
              "color": "#C8D4E3"
             },
             "line": {
              "color": "white"
             }
            },
            "type": "table"
           }
          ]
         },
         "layout": {
          "annotationdefaults": {
           "arrowcolor": "#2a3f5f",
           "arrowhead": 0,
           "arrowwidth": 1
          },
          "autotypenumbers": "strict",
          "coloraxis": {
           "colorbar": {
            "outlinewidth": 0,
            "ticks": ""
           }
          },
          "colorscale": {
           "diverging": [
            [
             0,
             "#8e0152"
            ],
            [
             0.1,
             "#c51b7d"
            ],
            [
             0.2,
             "#de77ae"
            ],
            [
             0.3,
             "#f1b6da"
            ],
            [
             0.4,
             "#fde0ef"
            ],
            [
             0.5,
             "#f7f7f7"
            ],
            [
             0.6,
             "#e6f5d0"
            ],
            [
             0.7,
             "#b8e186"
            ],
            [
             0.8,
             "#7fbc41"
            ],
            [
             0.9,
             "#4d9221"
            ],
            [
             1,
             "#276419"
            ]
           ],
           "sequential": [
            [
             0,
             "#0d0887"
            ],
            [
             0.1111111111111111,
             "#46039f"
            ],
            [
             0.2222222222222222,
             "#7201a8"
            ],
            [
             0.3333333333333333,
             "#9c179e"
            ],
            [
             0.4444444444444444,
             "#bd3786"
            ],
            [
             0.5555555555555556,
             "#d8576b"
            ],
            [
             0.6666666666666666,
             "#ed7953"
            ],
            [
             0.7777777777777778,
             "#fb9f3a"
            ],
            [
             0.8888888888888888,
             "#fdca26"
            ],
            [
             1,
             "#f0f921"
            ]
           ],
           "sequentialminus": [
            [
             0,
             "#0d0887"
            ],
            [
             0.1111111111111111,
             "#46039f"
            ],
            [
             0.2222222222222222,
             "#7201a8"
            ],
            [
             0.3333333333333333,
             "#9c179e"
            ],
            [
             0.4444444444444444,
             "#bd3786"
            ],
            [
             0.5555555555555556,
             "#d8576b"
            ],
            [
             0.6666666666666666,
             "#ed7953"
            ],
            [
             0.7777777777777778,
             "#fb9f3a"
            ],
            [
             0.8888888888888888,
             "#fdca26"
            ],
            [
             1,
             "#f0f921"
            ]
           ]
          },
          "colorway": [
           "#636efa",
           "#EF553B",
           "#00cc96",
           "#ab63fa",
           "#FFA15A",
           "#19d3f3",
           "#FF6692",
           "#B6E880",
           "#FF97FF",
           "#FECB52"
          ],
          "font": {
           "color": "#2a3f5f"
          },
          "geo": {
           "bgcolor": "white",
           "lakecolor": "white",
           "landcolor": "#E5ECF6",
           "showlakes": true,
           "showland": true,
           "subunitcolor": "white"
          },
          "hoverlabel": {
           "align": "left"
          },
          "hovermode": "closest",
          "mapbox": {
           "style": "light"
          },
          "paper_bgcolor": "white",
          "plot_bgcolor": "#E5ECF6",
          "polar": {
           "angularaxis": {
            "gridcolor": "white",
            "linecolor": "white",
            "ticks": ""
           },
           "bgcolor": "#E5ECF6",
           "radialaxis": {
            "gridcolor": "white",
            "linecolor": "white",
            "ticks": ""
           }
          },
          "scene": {
           "xaxis": {
            "backgroundcolor": "#E5ECF6",
            "gridcolor": "white",
            "gridwidth": 2,
            "linecolor": "white",
            "showbackground": true,
            "ticks": "",
            "zerolinecolor": "white"
           },
           "yaxis": {
            "backgroundcolor": "#E5ECF6",
            "gridcolor": "white",
            "gridwidth": 2,
            "linecolor": "white",
            "showbackground": true,
            "ticks": "",
            "zerolinecolor": "white"
           },
           "zaxis": {
            "backgroundcolor": "#E5ECF6",
            "gridcolor": "white",
            "gridwidth": 2,
            "linecolor": "white",
            "showbackground": true,
            "ticks": "",
            "zerolinecolor": "white"
           }
          },
          "shapedefaults": {
           "line": {
            "color": "#2a3f5f"
           }
          },
          "ternary": {
           "aaxis": {
            "gridcolor": "white",
            "linecolor": "white",
            "ticks": ""
           },
           "baxis": {
            "gridcolor": "white",
            "linecolor": "white",
            "ticks": ""
           },
           "bgcolor": "#E5ECF6",
           "caxis": {
            "gridcolor": "white",
            "linecolor": "white",
            "ticks": ""
           }
          },
          "title": {
           "x": 0.05
          },
          "xaxis": {
           "automargin": true,
           "gridcolor": "white",
           "linecolor": "white",
           "ticks": "",
           "title": {
            "standoff": 15
           },
           "zerolinecolor": "white",
           "zerolinewidth": 2
          },
          "yaxis": {
           "automargin": true,
           "gridcolor": "white",
           "linecolor": "white",
           "ticks": "",
           "title": {
            "standoff": 15
           },
           "zerolinecolor": "white",
           "zerolinewidth": 2
          }
         }
        },
        "title": {
         "text": "Droop values fixed below 12"
        },
        "xaxis": {
         "title": {
          "text": "Generator"
         }
        },
        "yaxis": {
         "title": {
          "text": "Droop [%]"
         }
        }
       }
      },
      "text/html": [
       "<div>                            <div id=\"1beacebd-7da7-466c-9465-c4b701383eeb\" class=\"plotly-graph-div\" style=\"height:525px; width:100%;\"></div>            <script type=\"text/javascript\">                require([\"plotly\"], function(Plotly) {                    window.PLOTLYENV=window.PLOTLYENV || {};                                    if (document.getElementById(\"1beacebd-7da7-466c-9465-c4b701383eeb\")) {                    Plotly.newPlot(                        \"1beacebd-7da7-466c-9465-c4b701383eeb\",                        [{\"line\": {\"color\": \"black\", \"dash\": \"dash\", \"width\": 0.5}, \"mode\": \"lines\", \"showlegend\": false, \"type\": \"scatter\", \"x\": [\"Plant1_G1\", \"Plant1_G2\", \"Plant2_G1\", \"Plant2_G2\", \"Plant2_G3\", \"Plant2_G4\"], \"y\": [1, 1, 1, 1, 1, 1]}, {\"line\": {\"color\": \"black\", \"dash\": \"dash\", \"width\": 0.5}, \"mode\": \"lines\", \"showlegend\": false, \"type\": \"scatter\", \"x\": [\"Plant1_G1\", \"Plant1_G2\", \"Plant2_G1\", \"Plant2_G2\", \"Plant2_G3\", \"Plant2_G4\"], \"y\": [2, 2, 2, 2, 2, 2]}, {\"line\": {\"color\": \"black\", \"dash\": \"dash\", \"width\": 0.5}, \"mode\": \"lines\", \"showlegend\": false, \"type\": \"scatter\", \"x\": [\"Plant1_G1\", \"Plant1_G2\", \"Plant2_G1\", \"Plant2_G2\", \"Plant2_G3\", \"Plant2_G4\"], \"y\": [3, 3, 3, 3, 3, 3]}, {\"line\": {\"color\": \"black\", \"dash\": \"dash\", \"width\": 0.5}, \"mode\": \"lines\", \"showlegend\": false, \"type\": \"scatter\", \"x\": [\"Plant1_G1\", \"Plant1_G2\", \"Plant2_G1\", \"Plant2_G2\", \"Plant2_G3\", \"Plant2_G4\"], \"y\": [4, 4, 4, 4, 4, 4]}, {\"line\": {\"color\": \"black\", \"dash\": \"dash\", \"width\": 0.5}, \"mode\": \"lines\", \"showlegend\": false, \"type\": \"scatter\", \"x\": [\"Plant1_G1\", \"Plant1_G2\", \"Plant2_G1\", \"Plant2_G2\", \"Plant2_G3\", \"Plant2_G4\"], \"y\": [5, 5, 5, 5, 5, 5]}, {\"line\": {\"color\": \"black\", \"dash\": \"dash\", \"width\": 0.5}, \"mode\": \"lines\", \"showlegend\": false, \"type\": \"scatter\", \"x\": [\"Plant1_G1\", \"Plant1_G2\", \"Plant2_G1\", \"Plant2_G2\", \"Plant2_G3\", \"Plant2_G4\"], \"y\": [6, 6, 6, 6, 6, 6]}, {\"line\": {\"color\": \"black\", \"dash\": \"dash\", \"width\": 0.5}, \"mode\": \"lines\", \"showlegend\": false, \"type\": \"scatter\", \"x\": [\"Plant1_G1\", \"Plant1_G2\", \"Plant2_G1\", \"Plant2_G2\", \"Plant2_G3\", \"Plant2_G4\"], \"y\": [7, 7, 7, 7, 7, 7]}, {\"line\": {\"color\": \"black\", \"dash\": \"dash\", \"width\": 0.5}, \"mode\": \"lines\", \"showlegend\": false, \"type\": \"scatter\", \"x\": [\"Plant1_G1\", \"Plant1_G2\", \"Plant2_G1\", \"Plant2_G2\", \"Plant2_G3\", \"Plant2_G4\"], \"y\": [8, 8, 8, 8, 8, 8]}, {\"line\": {\"color\": \"black\", \"dash\": \"dash\", \"width\": 0.5}, \"mode\": \"lines\", \"showlegend\": false, \"type\": \"scatter\", \"x\": [\"Plant1_G1\", \"Plant1_G2\", \"Plant2_G1\", \"Plant2_G2\", \"Plant2_G3\", \"Plant2_G4\"], \"y\": [9, 9, 9, 9, 9, 9]}, {\"line\": {\"color\": \"black\", \"dash\": \"dash\", \"width\": 0.5}, \"mode\": \"lines\", \"showlegend\": false, \"type\": \"scatter\", \"x\": [\"Plant1_G1\", \"Plant1_G2\", \"Plant2_G1\", \"Plant2_G2\", \"Plant2_G3\", \"Plant2_G4\"], \"y\": [10, 10, 10, 10, 10, 10]}, {\"line\": {\"color\": \"black\", \"dash\": \"dash\", \"width\": 0.5}, \"mode\": \"lines\", \"showlegend\": false, \"type\": \"scatter\", \"x\": [\"Plant1_G1\", \"Plant1_G2\", \"Plant2_G1\", \"Plant2_G2\", \"Plant2_G3\", \"Plant2_G4\"], \"y\": [11, 11, 11, 11, 11, 11]}, {\"line\": {\"color\": \"black\", \"dash\": \"dash\", \"width\": 0.5}, \"mode\": \"lines\", \"showlegend\": false, \"type\": \"scatter\", \"x\": [\"Plant1_G1\", \"Plant1_G2\", \"Plant2_G1\", \"Plant2_G2\", \"Plant2_G3\", \"Plant2_G4\"], \"y\": [12, 12, 12, 12, 12, 12]}, {\"line\": {\"color\": \"red\", \"dash\": \"dash\", \"width\": 0.5}, \"mode\": \"lines\", \"showlegend\": false, \"type\": \"scatter\", \"x\": [\"Plant2_G1\", \"Plant2_G4\"], \"y\": [1.5, 1.5]}, {\"line\": {\"color\": \"red\", \"dash\": \"dash\", \"width\": 0.5}, \"mode\": \"lines\", \"showlegend\": false, \"type\": \"scatter\", \"x\": [\"Plant2_G1\", \"Plant2_G4\"], \"y\": [2.5, 2.5]}, {\"line\": {\"color\": \"red\", \"dash\": \"dash\", \"width\": 0.5}, \"mode\": \"lines\", \"showlegend\": false, \"type\": \"scatter\", \"x\": [\"Plant2_G1\", \"Plant2_G4\"], \"y\": [3.5, 3.5]}, {\"line\": {\"color\": \"red\", \"dash\": \"dash\", \"width\": 0.5}, \"mode\": \"lines\", \"showlegend\": false, \"type\": \"scatter\", \"x\": [\"Plant2_G1\", \"Plant2_G4\"], \"y\": [4.5, 4.5]}, {\"line\": {\"color\": \"red\", \"dash\": \"dash\", \"width\": 0.5}, \"mode\": \"lines\", \"showlegend\": false, \"type\": \"scatter\", \"x\": [\"Plant2_G1\", \"Plant2_G4\"], \"y\": [5.5, 5.5]}, {\"line\": {\"color\": \"red\", \"dash\": \"dash\", \"width\": 0.5}, \"mode\": \"lines\", \"showlegend\": false, \"type\": \"scatter\", \"x\": [\"Plant2_G1\", \"Plant2_G4\"], \"y\": [6.5, 6.5]}, {\"line\": {\"color\": \"red\", \"dash\": \"dash\", \"width\": 0.5}, \"mode\": \"lines\", \"showlegend\": false, \"type\": \"scatter\", \"x\": [\"Plant2_G1\", \"Plant2_G4\"], \"y\": [7.5, 7.5]}, {\"line\": {\"color\": \"red\", \"dash\": \"dash\", \"width\": 0.5}, \"mode\": \"lines\", \"showlegend\": false, \"type\": \"scatter\", \"x\": [\"Plant2_G1\", \"Plant2_G4\"], \"y\": [8.5, 8.5]}, {\"line\": {\"color\": \"red\", \"dash\": \"dash\", \"width\": 0.5}, \"mode\": \"lines\", \"showlegend\": false, \"type\": \"scatter\", \"x\": [\"Plant2_G1\", \"Plant2_G4\"], \"y\": [9.5, 9.5]}, {\"line\": {\"color\": \"red\", \"dash\": \"dash\", \"width\": 0.5}, \"mode\": \"lines\", \"showlegend\": false, \"type\": \"scatter\", \"x\": [\"Plant2_G1\", \"Plant2_G4\"], \"y\": [10.5, 10.5]}, {\"line\": {\"color\": \"red\", \"dash\": \"dash\", \"width\": 0.5}, \"mode\": \"lines\", \"showlegend\": false, \"type\": \"scatter\", \"x\": [\"Plant2_G1\", \"Plant2_G4\"], \"y\": [11.5, 11.5]}, {\"mode\": \"markers\", \"showlegend\": false, \"type\": \"scatter\", \"x\": [\"Plant1_G1\", \"Plant1_G1\", \"Plant1_G1\", \"Plant1_G1\", \"Plant1_G1\", \"Plant1_G1\", \"Plant1_G1\", \"Plant1_G1\", \"Plant1_G1\", \"Plant1_G1\", \"Plant1_G1\", \"Plant1_G1\", \"Plant1_G1\", \"Plant1_G1\", \"Plant1_G1\", \"Plant1_G1\", \"Plant1_G1\", \"Plant1_G1\", \"Plant1_G1\", \"Plant1_G1\", \"Plant1_G1\", \"Plant1_G1\", \"Plant1_G1\", \"Plant1_G1\", \"Plant1_G1\", \"Plant1_G1\", \"Plant1_G1\", \"Plant1_G1\", \"Plant1_G1\", \"Plant1_G1\", \"Plant1_G1\", \"Plant1_G1\", \"Plant1_G1\", \"Plant1_G1\", \"Plant1_G1\", \"Plant1_G1\", \"Plant1_G1\", \"Plant1_G1\", \"Plant1_G1\", \"Plant1_G1\", \"Plant1_G1\", \"Plant1_G1\", \"Plant1_G1\", \"Plant1_G1\", \"Plant1_G1\", \"Plant1_G1\", \"Plant1_G1\", \"Plant1_G1\", \"Plant1_G1\", \"Plant1_G1\", \"Plant1_G1\", \"Plant1_G1\", \"Plant1_G1\", \"Plant1_G1\", \"Plant1_G1\", \"Plant1_G1\", \"Plant1_G1\", \"Plant1_G1\", \"Plant1_G1\", \"Plant1_G1\", \"Plant1_G1\", \"Plant1_G1\", \"Plant1_G1\", \"Plant1_G1\", \"Plant1_G1\", \"Plant1_G1\", \"Plant1_G1\", \"Plant1_G1\", \"Plant1_G1\", \"Plant1_G1\", \"Plant1_G1\", \"Plant1_G1\"], \"y\": [12.0, 12.0, 12.0, 12.0, 12.0, 12.0, 11.0, 7.0, 7.0, 7.0, 8.0, 6.0, 7.0, 6.0, 3.0, 3.0, 6.0, 5.0, 3.0, 3.0, 12.0, 12.0, 12.0, 12.0, 12.0, 12.0, 12.0, 12.0, 12.0, 12.0, 12.0, 2.0, 2.0, 2.0, 12.0, 12.0, 6.0, 6.0, 6.0, 6.0, 6.0, 6.0, 6.0, 12.0, 12.0, 12.0, 12.0, 12.0, 12.0, 12.0, 12.0, 12.0, 12.0, 12.0, 12.0, 2.0, 2.0, 1.0, 1.0, 1.0, 1.0, 1.0, 1.0, 1.0, 1.0, 2.0, 2.0, 12.0, 1.0, 1.0, 1.0, 12.0]}, {\"mode\": \"markers\", \"showlegend\": false, \"type\": \"scatter\", \"x\": [\"Plant1_G2\", \"Plant1_G2\", \"Plant1_G2\", \"Plant1_G2\", \"Plant1_G2\", \"Plant1_G2\", \"Plant1_G2\", \"Plant1_G2\", \"Plant1_G2\", \"Plant1_G2\", \"Plant1_G2\", \"Plant1_G2\", \"Plant1_G2\", \"Plant1_G2\", \"Plant1_G2\", \"Plant1_G2\", \"Plant1_G2\", \"Plant1_G2\", \"Plant1_G2\", \"Plant1_G2\", \"Plant1_G2\", \"Plant1_G2\", \"Plant1_G2\", \"Plant1_G2\", \"Plant1_G2\", \"Plant1_G2\", \"Plant1_G2\", \"Plant1_G2\", \"Plant1_G2\", \"Plant1_G2\", \"Plant1_G2\", \"Plant1_G2\", \"Plant1_G2\", \"Plant1_G2\", \"Plant1_G2\", \"Plant1_G2\", \"Plant1_G2\", \"Plant1_G2\", \"Plant1_G2\", \"Plant1_G2\", \"Plant1_G2\", \"Plant1_G2\", \"Plant1_G2\", \"Plant1_G2\", \"Plant1_G2\", \"Plant1_G2\", \"Plant1_G2\", \"Plant1_G2\", \"Plant1_G2\", \"Plant1_G2\", \"Plant1_G2\", \"Plant1_G2\", \"Plant1_G2\", \"Plant1_G2\", \"Plant1_G2\", \"Plant1_G2\", \"Plant1_G2\", \"Plant1_G2\", \"Plant1_G2\", \"Plant1_G2\", \"Plant1_G2\", \"Plant1_G2\", \"Plant1_G2\", \"Plant1_G2\", \"Plant1_G2\", \"Plant1_G2\", \"Plant1_G2\", \"Plant1_G2\", \"Plant1_G2\", \"Plant1_G2\", \"Plant1_G2\", \"Plant1_G2\"], \"y\": [12.0, 12.0, 12.0, 12.0, 12.0, 12.0, 12.0, 7.0, 7.0, 7.0, 7.0, 8.0, 6.0, 6.0, 3.0, 3.0, 6.0, 8.0, 3.0, 12.0, 12.0, 12.0, 12.0, 12.0, 12.0, 12.0, 12.0, 12.0, 12.0, 12.0, 12.0, 12.0, 12.0, 12.0, 12.0, 12.0, 12.0, 12.0, 12.0, 12.0, 12.0, 12.0, 12.0, 12.0, 12.0, 12.0, 12.0, 12.0, 12.0, 12.0, 12.0, 12.0, 12.0, 12.0, 12.0, 12.0, 12.0, 12.0, 12.0, 12.0, 12.0, 12.0, 12.0, 12.0, 12.0, 2.0, 2.0, 1.0, 12.0, 12.0, 12.0, 12.0]}, {\"mode\": \"markers\", \"showlegend\": false, \"type\": \"scatter\", \"x\": [\"Plant2_G1\", \"Plant2_G1\", \"Plant2_G1\", \"Plant2_G1\", \"Plant2_G1\", \"Plant2_G1\", \"Plant2_G1\", \"Plant2_G1\", \"Plant2_G1\", \"Plant2_G1\", \"Plant2_G1\", \"Plant2_G1\", \"Plant2_G1\", \"Plant2_G1\", \"Plant2_G1\", \"Plant2_G1\", \"Plant2_G1\", \"Plant2_G1\", \"Plant2_G1\", \"Plant2_G1\", \"Plant2_G1\", \"Plant2_G1\", \"Plant2_G1\", \"Plant2_G1\", \"Plant2_G1\", \"Plant2_G1\", \"Plant2_G1\", \"Plant2_G1\", \"Plant2_G1\", \"Plant2_G1\", \"Plant2_G1\", \"Plant2_G1\", \"Plant2_G1\", \"Plant2_G1\", \"Plant2_G1\", \"Plant2_G1\", \"Plant2_G1\", \"Plant2_G1\", \"Plant2_G1\", \"Plant2_G1\", \"Plant2_G1\", \"Plant2_G1\", \"Plant2_G1\", \"Plant2_G1\", \"Plant2_G1\", \"Plant2_G1\", \"Plant2_G1\", \"Plant2_G1\", \"Plant2_G1\", \"Plant2_G1\", \"Plant2_G1\", \"Plant2_G1\", \"Plant2_G1\", \"Plant2_G1\", \"Plant2_G1\", \"Plant2_G1\", \"Plant2_G1\", \"Plant2_G1\", \"Plant2_G1\", \"Plant2_G1\", \"Plant2_G1\", \"Plant2_G1\", \"Plant2_G1\", \"Plant2_G1\", \"Plant2_G1\", \"Plant2_G1\", \"Plant2_G1\", \"Plant2_G1\", \"Plant2_G1\", \"Plant2_G1\", \"Plant2_G1\", \"Plant2_G1\"], \"y\": [2.5, 2.0, 2.0, 2.0, 2.0, 2.5, 12.0, 12.0, 12.0, 12.0, 12.0, 12.0, 12.0, 12.0, 12.0, 12.0, 12.0, 12.0, 12.0, 4.5, 2.5, 2.5, 2.0, 2.0, 2.0, 1.5, 1.5, 1.5, 1.5, 2.0, 2.0, 7.0, 6.5, 6.5, 2.5, 2.0, 2.5, 2.5, 2.5, 2.5, 2.5, 2.5, 2.5, 2.0, 2.0, 2.0, 1.5, 1.5, 1.5, 1.5, 1.5, 1.5, 1.5, 1.5, 2.0, 5.5, 5.5, 6.0, 6.0, 6.0, 6.0, 11.5, 11.5, 6.0, 12.0, 12.0, 12.0, 12.0, 12.0, 12.0, 12.0, 2.0]}, {\"mode\": \"markers\", \"showlegend\": false, \"type\": \"scatter\", \"x\": [\"Plant2_G2\", \"Plant2_G2\", \"Plant2_G2\", \"Plant2_G2\", \"Plant2_G2\", \"Plant2_G2\", \"Plant2_G2\", \"Plant2_G2\", \"Plant2_G2\", \"Plant2_G2\", \"Plant2_G2\", \"Plant2_G2\", \"Plant2_G2\", \"Plant2_G2\", \"Plant2_G2\", \"Plant2_G2\", \"Plant2_G2\", \"Plant2_G2\", \"Plant2_G2\", \"Plant2_G2\", \"Plant2_G2\", \"Plant2_G2\", \"Plant2_G2\", \"Plant2_G2\", \"Plant2_G2\", \"Plant2_G2\", \"Plant2_G2\", \"Plant2_G2\", \"Plant2_G2\", \"Plant2_G2\", \"Plant2_G2\", \"Plant2_G2\", \"Plant2_G2\", \"Plant2_G2\", \"Plant2_G2\", \"Plant2_G2\", \"Plant2_G2\", \"Plant2_G2\", \"Plant2_G2\", \"Plant2_G2\", \"Plant2_G2\", \"Plant2_G2\", \"Plant2_G2\", \"Plant2_G2\", \"Plant2_G2\", \"Plant2_G2\", \"Plant2_G2\", \"Plant2_G2\", \"Plant2_G2\", \"Plant2_G2\", \"Plant2_G2\", \"Plant2_G2\", \"Plant2_G2\", \"Plant2_G2\", \"Plant2_G2\", \"Plant2_G2\", \"Plant2_G2\", \"Plant2_G2\", \"Plant2_G2\", \"Plant2_G2\", \"Plant2_G2\", \"Plant2_G2\", \"Plant2_G2\", \"Plant2_G2\", \"Plant2_G2\", \"Plant2_G2\", \"Plant2_G2\", \"Plant2_G2\", \"Plant2_G2\", \"Plant2_G2\", \"Plant2_G2\", \"Plant2_G2\"], \"y\": [12.0, 12.0, 12.0, 12.0, 12.0, 12.0, 2.5, 2.5, 2.5, 2.5, 2.5, 2.5, 2.5, 2.5, 12.0, 12.0, 2.5, 2.5, 12.0, 12.0, 12.0, 12.0, 12.0, 12.0, 12.0, 12.0, 12.0, 12.0, 12.0, 12.0, 12.0, 12.0, 12.0, 12.0, 12.0, 12.0, 12.0, 12.0, 12.0, 12.0, 12.0, 12.0, 12.0, 12.0, 12.0, 12.0, 12.0, 12.0, 12.0, 12.0, 12.0, 12.0, 12.0, 12.0, 12.0, 12.0, 12.0, 12.0, 12.0, 12.0, 12.0, 12.0, 12.0, 12.0, 12.0, 12.0, 12.0, 12.0, 12.0, 12.0, 12.0, 12.0]}, {\"mode\": \"markers\", \"showlegend\": false, \"type\": \"scatter\", \"x\": [\"Plant2_G3\", \"Plant2_G3\", \"Plant2_G3\", \"Plant2_G3\", \"Plant2_G3\", \"Plant2_G3\", \"Plant2_G3\", \"Plant2_G3\", \"Plant2_G3\", \"Plant2_G3\", \"Plant2_G3\", \"Plant2_G3\", \"Plant2_G3\", \"Plant2_G3\", \"Plant2_G3\", \"Plant2_G3\", \"Plant2_G3\", \"Plant2_G3\", \"Plant2_G3\", \"Plant2_G3\", \"Plant2_G3\", \"Plant2_G3\", \"Plant2_G3\", \"Plant2_G3\", \"Plant2_G3\", \"Plant2_G3\", \"Plant2_G3\", \"Plant2_G3\", \"Plant2_G3\", \"Plant2_G3\", \"Plant2_G3\", \"Plant2_G3\", \"Plant2_G3\", \"Plant2_G3\", \"Plant2_G3\", \"Plant2_G3\", \"Plant2_G3\", \"Plant2_G3\", \"Plant2_G3\", \"Plant2_G3\", \"Plant2_G3\", \"Plant2_G3\", \"Plant2_G3\", \"Plant2_G3\", \"Plant2_G3\", \"Plant2_G3\", \"Plant2_G3\", \"Plant2_G3\", \"Plant2_G3\", \"Plant2_G3\", \"Plant2_G3\", \"Plant2_G3\", \"Plant2_G3\", \"Plant2_G3\", \"Plant2_G3\", \"Plant2_G3\", \"Plant2_G3\", \"Plant2_G3\", \"Plant2_G3\", \"Plant2_G3\", \"Plant2_G3\", \"Plant2_G3\", \"Plant2_G3\", \"Plant2_G3\", \"Plant2_G3\", \"Plant2_G3\", \"Plant2_G3\", \"Plant2_G3\", \"Plant2_G3\", \"Plant2_G3\", \"Plant2_G3\", \"Plant2_G3\"], \"y\": [12.0, 12.0, 12.0, 12.0, 12.0, 12.0, 2.5, 2.5, 2.5, 2.5, 2.5, 2.5, 2.5, 2.5, 12.0, 12.0, 2.5, 2.5, 12.0, 12.0, 12.0, 12.0, 12.0, 12.0, 12.0, 12.0, 12.0, 12.0, 12.0, 12.0, 12.0, 12.0, 12.0, 12.0, 12.0, 12.0, 12.0, 12.0, 12.0, 12.0, 12.0, 12.0, 12.0, 12.0, 12.0, 12.0, 12.0, 12.0, 12.0, 12.0, 12.0, 12.0, 12.0, 12.0, 12.0, 12.0, 12.0, 12.0, 12.0, 12.0, 12.0, 12.0, 12.0, 12.0, 12.0, 12.0, 12.0, 12.0, 12.0, 12.0, 12.0, 10.0]}, {\"mode\": \"markers\", \"showlegend\": false, \"type\": \"scatter\", \"x\": [\"Plant2_G4\", \"Plant2_G4\", \"Plant2_G4\", \"Plant2_G4\", \"Plant2_G4\", \"Plant2_G4\", \"Plant2_G4\", \"Plant2_G4\", \"Plant2_G4\", \"Plant2_G4\", \"Plant2_G4\", \"Plant2_G4\", \"Plant2_G4\", \"Plant2_G4\", \"Plant2_G4\", \"Plant2_G4\", \"Plant2_G4\", \"Plant2_G4\", \"Plant2_G4\", \"Plant2_G4\", \"Plant2_G4\", \"Plant2_G4\", \"Plant2_G4\", \"Plant2_G4\", \"Plant2_G4\", \"Plant2_G4\", \"Plant2_G4\", \"Plant2_G4\", \"Plant2_G4\", \"Plant2_G4\", \"Plant2_G4\", \"Plant2_G4\", \"Plant2_G4\", \"Plant2_G4\", \"Plant2_G4\", \"Plant2_G4\", \"Plant2_G4\", \"Plant2_G4\", \"Plant2_G4\", \"Plant2_G4\", \"Plant2_G4\", \"Plant2_G4\", \"Plant2_G4\", \"Plant2_G4\", \"Plant2_G4\", \"Plant2_G4\", \"Plant2_G4\", \"Plant2_G4\", \"Plant2_G4\", \"Plant2_G4\", \"Plant2_G4\", \"Plant2_G4\", \"Plant2_G4\", \"Plant2_G4\", \"Plant2_G4\", \"Plant2_G4\", \"Plant2_G4\", \"Plant2_G4\", \"Plant2_G4\", \"Plant2_G4\", \"Plant2_G4\", \"Plant2_G4\", \"Plant2_G4\", \"Plant2_G4\", \"Plant2_G4\", \"Plant2_G4\", \"Plant2_G4\", \"Plant2_G4\", \"Plant2_G4\", \"Plant2_G4\", \"Plant2_G4\", \"Plant2_G4\"], \"y\": [12.0, 12.0, 12.0, 12.0, 12.0, 12.0, 2.5, 2.5, 2.5, 2.5, 2.5, 2.5, 2.5, 2.5, 12.0, 12.0, 2.5, 2.5, 12.0, 12.0, 12.0, 12.0, 12.0, 12.0, 12.0, 12.0, 12.0, 12.0, 12.0, 12.0, 12.0, 12.0, 12.0, 12.0, 12.0, 12.0, 12.0, 12.0, 12.0, 12.0, 12.0, 12.0, 12.0, 12.0, 12.0, 12.0, 12.0, 12.0, 12.0, 12.0, 12.0, 12.0, 12.0, 12.0, 12.0, 12.0, 12.0, 12.0, 12.0, 12.0, 12.0, 12.0, 12.0, 12.0, 12.0, 12.0, 12.0, 12.0, 12.0, 12.0, 12.0, 12.0]}],                        {\"template\": {\"data\": {\"bar\": [{\"error_x\": {\"color\": \"#2a3f5f\"}, \"error_y\": {\"color\": \"#2a3f5f\"}, \"marker\": {\"line\": {\"color\": \"#E5ECF6\", \"width\": 0.5}}, \"type\": \"bar\"}], \"barpolar\": [{\"marker\": {\"line\": {\"color\": \"#E5ECF6\", \"width\": 0.5}}, \"type\": \"barpolar\"}], \"carpet\": [{\"aaxis\": {\"endlinecolor\": \"#2a3f5f\", \"gridcolor\": \"white\", \"linecolor\": \"white\", \"minorgridcolor\": \"white\", \"startlinecolor\": \"#2a3f5f\"}, \"baxis\": {\"endlinecolor\": \"#2a3f5f\", \"gridcolor\": \"white\", \"linecolor\": \"white\", \"minorgridcolor\": \"white\", \"startlinecolor\": \"#2a3f5f\"}, \"type\": \"carpet\"}], \"choropleth\": [{\"colorbar\": {\"outlinewidth\": 0, \"ticks\": \"\"}, \"type\": \"choropleth\"}], \"contour\": [{\"colorbar\": {\"outlinewidth\": 0, \"ticks\": \"\"}, \"colorscale\": [[0.0, \"#0d0887\"], [0.1111111111111111, \"#46039f\"], [0.2222222222222222, \"#7201a8\"], [0.3333333333333333, \"#9c179e\"], [0.4444444444444444, \"#bd3786\"], [0.5555555555555556, \"#d8576b\"], [0.6666666666666666, \"#ed7953\"], [0.7777777777777778, \"#fb9f3a\"], [0.8888888888888888, \"#fdca26\"], [1.0, \"#f0f921\"]], \"type\": \"contour\"}], \"contourcarpet\": [{\"colorbar\": {\"outlinewidth\": 0, \"ticks\": \"\"}, \"type\": \"contourcarpet\"}], \"heatmap\": [{\"colorbar\": {\"outlinewidth\": 0, \"ticks\": \"\"}, \"colorscale\": [[0.0, \"#0d0887\"], [0.1111111111111111, \"#46039f\"], [0.2222222222222222, \"#7201a8\"], [0.3333333333333333, \"#9c179e\"], [0.4444444444444444, \"#bd3786\"], [0.5555555555555556, \"#d8576b\"], [0.6666666666666666, \"#ed7953\"], [0.7777777777777778, \"#fb9f3a\"], [0.8888888888888888, \"#fdca26\"], [1.0, \"#f0f921\"]], \"type\": \"heatmap\"}], \"heatmapgl\": [{\"colorbar\": {\"outlinewidth\": 0, \"ticks\": \"\"}, \"colorscale\": [[0.0, \"#0d0887\"], [0.1111111111111111, \"#46039f\"], [0.2222222222222222, \"#7201a8\"], [0.3333333333333333, \"#9c179e\"], [0.4444444444444444, \"#bd3786\"], [0.5555555555555556, \"#d8576b\"], [0.6666666666666666, \"#ed7953\"], [0.7777777777777778, \"#fb9f3a\"], [0.8888888888888888, \"#fdca26\"], [1.0, \"#f0f921\"]], \"type\": \"heatmapgl\"}], \"histogram\": [{\"marker\": {\"colorbar\": {\"outlinewidth\": 0, \"ticks\": \"\"}}, \"type\": \"histogram\"}], \"histogram2d\": [{\"colorbar\": {\"outlinewidth\": 0, \"ticks\": \"\"}, \"colorscale\": [[0.0, \"#0d0887\"], [0.1111111111111111, \"#46039f\"], [0.2222222222222222, \"#7201a8\"], [0.3333333333333333, \"#9c179e\"], [0.4444444444444444, \"#bd3786\"], [0.5555555555555556, \"#d8576b\"], [0.6666666666666666, \"#ed7953\"], [0.7777777777777778, \"#fb9f3a\"], [0.8888888888888888, \"#fdca26\"], [1.0, \"#f0f921\"]], \"type\": \"histogram2d\"}], \"histogram2dcontour\": [{\"colorbar\": {\"outlinewidth\": 0, \"ticks\": \"\"}, \"colorscale\": [[0.0, \"#0d0887\"], [0.1111111111111111, \"#46039f\"], [0.2222222222222222, \"#7201a8\"], [0.3333333333333333, \"#9c179e\"], [0.4444444444444444, \"#bd3786\"], [0.5555555555555556, \"#d8576b\"], [0.6666666666666666, \"#ed7953\"], [0.7777777777777778, \"#fb9f3a\"], [0.8888888888888888, \"#fdca26\"], [1.0, \"#f0f921\"]], \"type\": \"histogram2dcontour\"}], \"mesh3d\": [{\"colorbar\": {\"outlinewidth\": 0, \"ticks\": \"\"}, \"type\": \"mesh3d\"}], \"parcoords\": [{\"line\": {\"colorbar\": {\"outlinewidth\": 0, \"ticks\": \"\"}}, \"type\": \"parcoords\"}], \"pie\": [{\"automargin\": true, \"type\": \"pie\"}], \"scatter\": [{\"marker\": {\"colorbar\": {\"outlinewidth\": 0, \"ticks\": \"\"}}, \"type\": \"scatter\"}], \"scatter3d\": [{\"line\": {\"colorbar\": {\"outlinewidth\": 0, \"ticks\": \"\"}}, \"marker\": {\"colorbar\": {\"outlinewidth\": 0, \"ticks\": \"\"}}, \"type\": \"scatter3d\"}], \"scattercarpet\": [{\"marker\": {\"colorbar\": {\"outlinewidth\": 0, \"ticks\": \"\"}}, \"type\": \"scattercarpet\"}], \"scattergeo\": [{\"marker\": {\"colorbar\": {\"outlinewidth\": 0, \"ticks\": \"\"}}, \"type\": \"scattergeo\"}], \"scattergl\": [{\"marker\": {\"colorbar\": {\"outlinewidth\": 0, \"ticks\": \"\"}}, \"type\": \"scattergl\"}], \"scattermapbox\": [{\"marker\": {\"colorbar\": {\"outlinewidth\": 0, \"ticks\": \"\"}}, \"type\": \"scattermapbox\"}], \"scatterpolar\": [{\"marker\": {\"colorbar\": {\"outlinewidth\": 0, \"ticks\": \"\"}}, \"type\": \"scatterpolar\"}], \"scatterpolargl\": [{\"marker\": {\"colorbar\": {\"outlinewidth\": 0, \"ticks\": \"\"}}, \"type\": \"scatterpolargl\"}], \"scatterternary\": [{\"marker\": {\"colorbar\": {\"outlinewidth\": 0, \"ticks\": \"\"}}, \"type\": \"scatterternary\"}], \"surface\": [{\"colorbar\": {\"outlinewidth\": 0, \"ticks\": \"\"}, \"colorscale\": [[0.0, \"#0d0887\"], [0.1111111111111111, \"#46039f\"], [0.2222222222222222, \"#7201a8\"], [0.3333333333333333, \"#9c179e\"], [0.4444444444444444, \"#bd3786\"], [0.5555555555555556, \"#d8576b\"], [0.6666666666666666, \"#ed7953\"], [0.7777777777777778, \"#fb9f3a\"], [0.8888888888888888, \"#fdca26\"], [1.0, \"#f0f921\"]], \"type\": \"surface\"}], \"table\": [{\"cells\": {\"fill\": {\"color\": \"#EBF0F8\"}, \"line\": {\"color\": \"white\"}}, \"header\": {\"fill\": {\"color\": \"#C8D4E3\"}, \"line\": {\"color\": \"white\"}}, \"type\": \"table\"}]}, \"layout\": {\"annotationdefaults\": {\"arrowcolor\": \"#2a3f5f\", \"arrowhead\": 0, \"arrowwidth\": 1}, \"autotypenumbers\": \"strict\", \"coloraxis\": {\"colorbar\": {\"outlinewidth\": 0, \"ticks\": \"\"}}, \"colorscale\": {\"diverging\": [[0, \"#8e0152\"], [0.1, \"#c51b7d\"], [0.2, \"#de77ae\"], [0.3, \"#f1b6da\"], [0.4, \"#fde0ef\"], [0.5, \"#f7f7f7\"], [0.6, \"#e6f5d0\"], [0.7, \"#b8e186\"], [0.8, \"#7fbc41\"], [0.9, \"#4d9221\"], [1, \"#276419\"]], \"sequential\": [[0.0, \"#0d0887\"], [0.1111111111111111, \"#46039f\"], [0.2222222222222222, \"#7201a8\"], [0.3333333333333333, \"#9c179e\"], [0.4444444444444444, \"#bd3786\"], [0.5555555555555556, \"#d8576b\"], [0.6666666666666666, \"#ed7953\"], [0.7777777777777778, \"#fb9f3a\"], [0.8888888888888888, \"#fdca26\"], [1.0, \"#f0f921\"]], \"sequentialminus\": [[0.0, \"#0d0887\"], [0.1111111111111111, \"#46039f\"], [0.2222222222222222, \"#7201a8\"], [0.3333333333333333, \"#9c179e\"], [0.4444444444444444, \"#bd3786\"], [0.5555555555555556, \"#d8576b\"], [0.6666666666666666, \"#ed7953\"], [0.7777777777777778, \"#fb9f3a\"], [0.8888888888888888, \"#fdca26\"], [1.0, \"#f0f921\"]]}, \"colorway\": [\"#636efa\", \"#EF553B\", \"#00cc96\", \"#ab63fa\", \"#FFA15A\", \"#19d3f3\", \"#FF6692\", \"#B6E880\", \"#FF97FF\", \"#FECB52\"], \"font\": {\"color\": \"#2a3f5f\"}, \"geo\": {\"bgcolor\": \"white\", \"lakecolor\": \"white\", \"landcolor\": \"#E5ECF6\", \"showlakes\": true, \"showland\": true, \"subunitcolor\": \"white\"}, \"hoverlabel\": {\"align\": \"left\"}, \"hovermode\": \"closest\", \"mapbox\": {\"style\": \"light\"}, \"paper_bgcolor\": \"white\", \"plot_bgcolor\": \"#E5ECF6\", \"polar\": {\"angularaxis\": {\"gridcolor\": \"white\", \"linecolor\": \"white\", \"ticks\": \"\"}, \"bgcolor\": \"#E5ECF6\", \"radialaxis\": {\"gridcolor\": \"white\", \"linecolor\": \"white\", \"ticks\": \"\"}}, \"scene\": {\"xaxis\": {\"backgroundcolor\": \"#E5ECF6\", \"gridcolor\": \"white\", \"gridwidth\": 2, \"linecolor\": \"white\", \"showbackground\": true, \"ticks\": \"\", \"zerolinecolor\": \"white\"}, \"yaxis\": {\"backgroundcolor\": \"#E5ECF6\", \"gridcolor\": \"white\", \"gridwidth\": 2, \"linecolor\": \"white\", \"showbackground\": true, \"ticks\": \"\", \"zerolinecolor\": \"white\"}, \"zaxis\": {\"backgroundcolor\": \"#E5ECF6\", \"gridcolor\": \"white\", \"gridwidth\": 2, \"linecolor\": \"white\", \"showbackground\": true, \"ticks\": \"\", \"zerolinecolor\": \"white\"}}, \"shapedefaults\": {\"line\": {\"color\": \"#2a3f5f\"}}, \"ternary\": {\"aaxis\": {\"gridcolor\": \"white\", \"linecolor\": \"white\", \"ticks\": \"\"}, \"baxis\": {\"gridcolor\": \"white\", \"linecolor\": \"white\", \"ticks\": \"\"}, \"bgcolor\": \"#E5ECF6\", \"caxis\": {\"gridcolor\": \"white\", \"linecolor\": \"white\", \"ticks\": \"\"}}, \"title\": {\"x\": 0.05}, \"xaxis\": {\"automargin\": true, \"gridcolor\": \"white\", \"linecolor\": \"white\", \"ticks\": \"\", \"title\": {\"standoff\": 15}, \"zerolinecolor\": \"white\", \"zerolinewidth\": 2}, \"yaxis\": {\"automargin\": true, \"gridcolor\": \"white\", \"linecolor\": \"white\", \"ticks\": \"\", \"title\": {\"standoff\": 15}, \"zerolinecolor\": \"white\", \"zerolinewidth\": 2}}}, \"title\": {\"text\": \"Droop values fixed below 12\"}, \"xaxis\": {\"title\": {\"text\": \"Generator\"}}, \"yaxis\": {\"title\": {\"text\": \"Droop [%]\"}}},                        {\"responsive\": true}                    ).then(function(){\n",
       "                            \n",
       "var gd = document.getElementById('1beacebd-7da7-466c-9465-c4b701383eeb');\n",
       "var x = new MutationObserver(function (mutations, observer) {{\n",
       "        var display = window.getComputedStyle(gd).display;\n",
       "        if (!display || display === 'none') {{\n",
       "            console.log([gd, 'removed!']);\n",
       "            Plotly.purge(gd);\n",
       "            observer.disconnect();\n",
       "        }}\n",
       "}});\n",
       "\n",
       "// Listen for the removal of the full notebook cells\n",
       "var notebookContainer = gd.closest('#notebook-container');\n",
       "if (notebookContainer) {{\n",
       "    x.observe(notebookContainer, {childList: true});\n",
       "}}\n",
       "\n",
       "// Listen for the clearing of the current output cell\n",
       "var outputEl = gd.closest('.output');\n",
       "if (outputEl) {{\n",
       "    x.observe(outputEl, {childList: true});\n",
       "}}\n",
       "\n",
       "                        })                };                });            </script>        </div>"
      ]
     },
     "metadata": {}
    }
   ],
   "metadata": {}
  },
  {
   "cell_type": "markdown",
   "source": [
    "Since the default upper bound for the droop is 12 in SHOP, all droop values are rounded and fixed when the discretization limit is set to 12 before the final iteration. The droop values of the generators in Plant1 are all fixed to integer values in the end, while the generators in Plant2 are allowed to take values defined earlier with the discrete_droop_values attribute."
   ],
   "metadata": {}
  },
  {
   "cell_type": "markdown",
   "source": [
    "## discrete_droop.py <a name=\"discrete_droop.py\"></a>"
   ],
   "metadata": {}
  },
  {
   "cell_type": "code",
   "execution_count": 6,
   "source": [
    "%pycat discrete_droop.py"
   ],
   "outputs": [
    {
     "output_type": "stream",
     "name": "stdout",
     "text": [
      "\u001b[1;32mimport\u001b[0m \u001b[0mpandas\u001b[0m \u001b[1;32mas\u001b[0m \u001b[0mpd\u001b[0m\u001b[1;33m\n",
      "\u001b[0m\u001b[1;32mimport\u001b[0m \u001b[0mnumpy\u001b[0m \u001b[1;32mas\u001b[0m \u001b[0mnp\u001b[0m\u001b[1;33m\n",
      "\u001b[0m\u001b[1;33m\n",
      "\u001b[0m\u001b[1;32mdef\u001b[0m \u001b[0mbuild_model\u001b[0m\u001b[1;33m(\u001b[0m\u001b[0mshop\u001b[0m\u001b[1;33m)\u001b[0m\u001b[1;33m:\u001b[0m\u001b[1;33m\n",
      "\u001b[0m    \u001b[0mstarttime\u001b[0m \u001b[1;33m=\u001b[0m \u001b[0mpd\u001b[0m\u001b[1;33m.\u001b[0m\u001b[0mTimestamp\u001b[0m\u001b[1;33m(\u001b[0m\u001b[1;34m'2018-01-23 00:00:00'\u001b[0m\u001b[1;33m)\u001b[0m\u001b[1;33m\n",
      "\u001b[0m    \u001b[0mendtime\u001b[0m \u001b[1;33m=\u001b[0m \u001b[0mpd\u001b[0m\u001b[1;33m.\u001b[0m\u001b[0mTimestamp\u001b[0m\u001b[1;33m(\u001b[0m\u001b[1;34m'2018-01-26'\u001b[0m\u001b[1;33m)\u001b[0m\u001b[1;33m\n",
      "\u001b[0m    \u001b[0mshop\u001b[0m\u001b[1;33m.\u001b[0m\u001b[0mset_time_resolution\u001b[0m\u001b[1;33m(\u001b[0m\u001b[0mstarttime\u001b[0m\u001b[1;33m=\u001b[0m\u001b[0mstarttime\u001b[0m\u001b[1;33m,\u001b[0m \u001b[0mendtime\u001b[0m\u001b[1;33m=\u001b[0m\u001b[0mendtime\u001b[0m\u001b[1;33m,\u001b[0m \u001b[0mtimeunit\u001b[0m\u001b[1;33m=\u001b[0m\u001b[1;34m\"hour\"\u001b[0m\u001b[1;33m,\u001b[0m \u001b[0mtimeresolution\u001b[0m\u001b[1;33m=\u001b[0m\u001b[0mpd\u001b[0m\u001b[1;33m.\u001b[0m\u001b[0mSeries\u001b[0m\u001b[1;33m(\u001b[0m\u001b[0mindex\u001b[0m\u001b[1;33m=\u001b[0m\u001b[1;33m[\u001b[0m\u001b[0mstarttime\u001b[0m\u001b[1;33m]\u001b[0m\u001b[1;33m,\u001b[0m\u001b[0mdata\u001b[0m\u001b[1;33m=\u001b[0m\u001b[1;33m[\u001b[0m\u001b[1;36m1\u001b[0m\u001b[1;33m]\u001b[0m\u001b[1;33m)\u001b[0m\u001b[1;33m)\u001b[0m\u001b[1;33m\n",
      "\u001b[0m    \u001b[1;33m\n",
      "\u001b[0m    \u001b[0mrsv1\u001b[0m \u001b[1;33m=\u001b[0m \u001b[0mshop\u001b[0m\u001b[1;33m.\u001b[0m\u001b[0mmodel\u001b[0m\u001b[1;33m.\u001b[0m\u001b[0mreservoir\u001b[0m\u001b[1;33m.\u001b[0m\u001b[0madd_object\u001b[0m\u001b[1;33m(\u001b[0m\u001b[1;34m'Reservoir1'\u001b[0m\u001b[1;33m)\u001b[0m\u001b[1;33m\n",
      "\u001b[0m    \u001b[0mrsv1\u001b[0m\u001b[1;33m.\u001b[0m\u001b[0mmax_vol\u001b[0m\u001b[1;33m.\u001b[0m\u001b[0mset\u001b[0m\u001b[1;33m(\u001b[0m\u001b[1;36m39\u001b[0m\u001b[1;33m)\u001b[0m\u001b[1;33m\n",
      "\u001b[0m    \u001b[0mrsv1\u001b[0m\u001b[1;33m.\u001b[0m\u001b[0mlrl\u001b[0m\u001b[1;33m.\u001b[0m\u001b[0mset\u001b[0m\u001b[1;33m(\u001b[0m\u001b[1;36m860\u001b[0m\u001b[1;33m)\u001b[0m\u001b[1;33m\n",
      "\u001b[0m    \u001b[0mrsv1\u001b[0m\u001b[1;33m.\u001b[0m\u001b[0mhrl\u001b[0m\u001b[1;33m.\u001b[0m\u001b[0mset\u001b[0m\u001b[1;33m(\u001b[0m\u001b[1;36m905\u001b[0m\u001b[1;33m)\u001b[0m\u001b[1;33m\n",
      "\u001b[0m    \u001b[0mrsv1\u001b[0m\u001b[1;33m.\u001b[0m\u001b[0mvol_head\u001b[0m\u001b[1;33m.\u001b[0m\u001b[0mset\u001b[0m\u001b[1;33m(\u001b[0m\u001b[0mpd\u001b[0m\u001b[1;33m.\u001b[0m\u001b[0mSeries\u001b[0m\u001b[1;33m(\u001b[0m\u001b[1;33m[\u001b[0m\u001b[1;36m860\u001b[0m\u001b[1;33m,\u001b[0m \u001b[1;36m906\u001b[0m\u001b[1;33m,\u001b[0m \u001b[1;36m907\u001b[0m\u001b[1;33m]\u001b[0m\u001b[1;33m,\u001b[0m \u001b[0mindex\u001b[0m\u001b[1;33m=\u001b[0m\u001b[1;33m[\u001b[0m\u001b[1;36m0\u001b[0m\u001b[1;33m,\u001b[0m \u001b[1;36m39\u001b[0m\u001b[1;33m,\u001b[0m \u001b[1;36m41.66\u001b[0m\u001b[1;33m]\u001b[0m\u001b[1;33m,\u001b[0m \u001b[0mname\u001b[0m\u001b[1;33m=\u001b[0m\u001b[1;36m0\u001b[0m\u001b[1;33m)\u001b[0m\u001b[1;33m)\u001b[0m    \u001b[1;33m\n",
      "\u001b[0m\u001b[1;33m\n",
      "\u001b[0m    \u001b[0mrsv2\u001b[0m \u001b[1;33m=\u001b[0m \u001b[0mshop\u001b[0m\u001b[1;33m.\u001b[0m\u001b[0mmodel\u001b[0m\u001b[1;33m.\u001b[0m\u001b[0mreservoir\u001b[0m\u001b[1;33m.\u001b[0m\u001b[0madd_object\u001b[0m\u001b[1;33m(\u001b[0m\u001b[1;34m'Reservoir2'\u001b[0m\u001b[1;33m)\u001b[0m\u001b[1;33m\n",
      "\u001b[0m    \u001b[0mrsv2\u001b[0m\u001b[1;33m.\u001b[0m\u001b[0mmax_vol\u001b[0m\u001b[1;33m.\u001b[0m\u001b[0mset\u001b[0m\u001b[1;33m(\u001b[0m\u001b[1;36m97.5\u001b[0m\u001b[1;33m)\u001b[0m   \u001b[1;33m\n",
      "\u001b[0m    \u001b[0mrsv2\u001b[0m\u001b[1;33m.\u001b[0m\u001b[0mlrl\u001b[0m\u001b[1;33m.\u001b[0m\u001b[0mset\u001b[0m\u001b[1;33m(\u001b[0m\u001b[1;36m650\u001b[0m\u001b[1;33m)\u001b[0m   \u001b[1;33m\n",
      "\u001b[0m    \u001b[0mrsv2\u001b[0m\u001b[1;33m.\u001b[0m\u001b[0mhrl\u001b[0m\u001b[1;33m.\u001b[0m\u001b[0mset\u001b[0m\u001b[1;33m(\u001b[0m\u001b[1;36m679\u001b[0m\u001b[1;33m)\u001b[0m    \u001b[1;33m\n",
      "\u001b[0m    \u001b[0mrsv2\u001b[0m\u001b[1;33m.\u001b[0m\u001b[0mvol_head\u001b[0m\u001b[1;33m.\u001b[0m\u001b[0mset\u001b[0m\u001b[1;33m(\u001b[0m\u001b[0mpd\u001b[0m\u001b[1;33m.\u001b[0m\u001b[0mSeries\u001b[0m\u001b[1;33m(\u001b[0m\u001b[1;33m[\u001b[0m\u001b[1;36m650\u001b[0m\u001b[1;33m,\u001b[0m \u001b[1;36m679\u001b[0m\u001b[1;33m,\u001b[0m \u001b[1;36m680\u001b[0m\u001b[1;33m]\u001b[0m\u001b[1;33m,\u001b[0m \u001b[0mindex\u001b[0m\u001b[1;33m=\u001b[0m\u001b[1;33m[\u001b[0m\u001b[1;36m0\u001b[0m\u001b[1;33m,\u001b[0m \u001b[1;36m97.5\u001b[0m\u001b[1;33m,\u001b[0m \u001b[1;36m104.15\u001b[0m\u001b[1;33m]\u001b[0m\u001b[1;33m,\u001b[0m \u001b[0mname\u001b[0m\u001b[1;33m=\u001b[0m\u001b[1;36m0\u001b[0m\u001b[1;33m)\u001b[0m\u001b[1;33m)\u001b[0m\u001b[1;33m\n",
      "\u001b[0m    \u001b[1;33m\n",
      "\u001b[0m    \u001b[0mplant1\u001b[0m \u001b[1;33m=\u001b[0m \u001b[0mshop\u001b[0m\u001b[1;33m.\u001b[0m\u001b[0mmodel\u001b[0m\u001b[1;33m.\u001b[0m\u001b[0mplant\u001b[0m\u001b[1;33m.\u001b[0m\u001b[0madd_object\u001b[0m\u001b[1;33m(\u001b[0m\u001b[1;34m'Plant1'\u001b[0m\u001b[1;33m)\u001b[0m\u001b[1;33m\n",
      "\u001b[0m    \u001b[0mplant1\u001b[0m\u001b[1;33m.\u001b[0m\u001b[0moutlet_line\u001b[0m\u001b[1;33m.\u001b[0m\u001b[0mset\u001b[0m\u001b[1;33m(\u001b[0m\u001b[1;36m672\u001b[0m\u001b[1;33m)\u001b[0m\u001b[1;33m\n",
      "\u001b[0m    \u001b[0mplant1\u001b[0m\u001b[1;33m.\u001b[0m\u001b[0mmain_loss\u001b[0m\u001b[1;33m.\u001b[0m\u001b[0mset\u001b[0m\u001b[1;33m(\u001b[0m\u001b[1;33m[\u001b[0m\u001b[1;36m0\u001b[0m\u001b[1;33m]\u001b[0m\u001b[1;33m)\u001b[0m\u001b[1;33m\n",
      "\u001b[0m    \u001b[0mplant1\u001b[0m\u001b[1;33m.\u001b[0m\u001b[0mpenstock_loss\u001b[0m\u001b[1;33m.\u001b[0m\u001b[0mset\u001b[0m\u001b[1;33m(\u001b[0m\u001b[1;33m[\u001b[0m\u001b[1;36m0.001\u001b[0m\u001b[1;33m]\u001b[0m\u001b[1;33m)\u001b[0m\u001b[1;33m\n",
      "\u001b[0m    \u001b[0mplant1\u001b[0m\u001b[1;33m.\u001b[0m\u001b[0mmip_flag\u001b[0m\u001b[1;33m.\u001b[0m\u001b[0mset\u001b[0m\u001b[1;33m(\u001b[0m\u001b[1;36m1\u001b[0m\u001b[1;33m)\u001b[0m\u001b[1;33m\n",
      "\u001b[0m    \u001b[1;32mfor\u001b[0m \u001b[0mgen_no\u001b[0m \u001b[1;32min\u001b[0m \u001b[0mrange\u001b[0m\u001b[1;33m(\u001b[0m\u001b[1;36m2\u001b[0m\u001b[1;33m)\u001b[0m\u001b[1;33m:\u001b[0m\u001b[1;33m\n",
      "\u001b[0m        \u001b[0mgen\u001b[0m\u001b[1;33m=\u001b[0m\u001b[0mshop\u001b[0m\u001b[1;33m.\u001b[0m\u001b[0mmodel\u001b[0m\u001b[1;33m.\u001b[0m\u001b[0mgenerator\u001b[0m\u001b[1;33m.\u001b[0m\u001b[0madd_object\u001b[0m\u001b[1;33m(\u001b[0m\u001b[1;34mf\"{plant1.get_name()}_G{str(gen_no+1)}\"\u001b[0m\u001b[1;33m)\u001b[0m\u001b[1;33m\n",
      "\u001b[0m        \u001b[0mgen\u001b[0m\u001b[1;33m.\u001b[0m\u001b[0mconnect_to\u001b[0m\u001b[1;33m(\u001b[0m\u001b[0mplant1\u001b[0m\u001b[1;33m)\u001b[0m\u001b[1;33m\n",
      "\u001b[0m        \u001b[0mgen\u001b[0m\u001b[1;33m.\u001b[0m\u001b[0mpenstock\u001b[0m\u001b[1;33m.\u001b[0m\u001b[0mset\u001b[0m\u001b[1;33m(\u001b[0m\u001b[1;36m1\u001b[0m\u001b[1;33m)\u001b[0m\u001b[1;33m\n",
      "\u001b[0m        \u001b[0mgen\u001b[0m\u001b[1;33m.\u001b[0m\u001b[0mp_min\u001b[0m\u001b[1;33m.\u001b[0m\u001b[0mset\u001b[0m\u001b[1;33m(\u001b[0m\u001b[1;36m60\u001b[0m\u001b[1;33m)\u001b[0m\u001b[1;33m\n",
      "\u001b[0m        \u001b[0mgen\u001b[0m\u001b[1;33m.\u001b[0m\u001b[0mp_max\u001b[0m\u001b[1;33m.\u001b[0m\u001b[0mset\u001b[0m\u001b[1;33m(\u001b[0m\u001b[1;36m120\u001b[0m\u001b[1;33m)\u001b[0m\u001b[1;33m\n",
      "\u001b[0m        \u001b[0mgen\u001b[0m\u001b[1;33m.\u001b[0m\u001b[0mp_nom\u001b[0m\u001b[1;33m.\u001b[0m\u001b[0mset\u001b[0m\u001b[1;33m(\u001b[0m\u001b[1;36m120\u001b[0m\u001b[1;33m)\u001b[0m\u001b[1;33m\n",
      "\u001b[0m        \u001b[0mgen\u001b[0m\u001b[1;33m.\u001b[0m\u001b[0mstartcost\u001b[0m\u001b[1;33m.\u001b[0m\u001b[0mset\u001b[0m\u001b[1;33m(\u001b[0m\u001b[1;36m300\u001b[0m\u001b[1;33m)\u001b[0m\u001b[1;33m\n",
      "\u001b[0m        \u001b[0mgen\u001b[0m\u001b[1;33m.\u001b[0m\u001b[0mgen_eff_curve\u001b[0m\u001b[1;33m.\u001b[0m\u001b[0mset\u001b[0m\u001b[1;33m(\u001b[0m\u001b[0mpd\u001b[0m\u001b[1;33m.\u001b[0m\u001b[0mSeries\u001b[0m\u001b[1;33m(\u001b[0m\u001b[1;33m[\u001b[0m\u001b[1;36m100\u001b[0m\u001b[1;33m,\u001b[0m \u001b[1;36m100\u001b[0m\u001b[1;33m]\u001b[0m\u001b[1;33m,\u001b[0m \u001b[0mindex\u001b[0m\u001b[1;33m=\u001b[0m\u001b[1;33m[\u001b[0m\u001b[1;36m60\u001b[0m\u001b[1;33m,\u001b[0m \u001b[1;36m120\u001b[0m\u001b[1;33m]\u001b[0m\u001b[1;33m)\u001b[0m\u001b[1;33m)\u001b[0m\u001b[1;33m\n",
      "\u001b[0m        \u001b[0mgen\u001b[0m\u001b[1;33m.\u001b[0m\u001b[0mturb_eff_curves\u001b[0m\u001b[1;33m.\u001b[0m\u001b[0mset\u001b[0m\u001b[1;33m(\u001b[0m\u001b[1;33m[\u001b[0m\u001b[0mpd\u001b[0m\u001b[1;33m.\u001b[0m\u001b[0mSeries\u001b[0m\u001b[1;33m(\u001b[0m\u001b[1;33m[\u001b[0m\u001b[1;36m85.8733\u001b[0m\u001b[1;33m,\u001b[0m \u001b[1;36m87.0319\u001b[0m\u001b[1;33m,\u001b[0m \u001b[1;36m88.0879\u001b[0m\u001b[1;33m,\u001b[0m \u001b[1;36m89.0544\u001b[0m\u001b[1;33m,\u001b[0m \u001b[1;36m89.9446\u001b[0m\u001b[1;33m,\u001b[0m \u001b[1;36m90.7717\u001b[0m\u001b[1;33m,\u001b[0m \u001b[1;36m91.5488\u001b[0m\u001b[1;33m,\u001b[0m \u001b[1;36m92.2643\u001b[0m\u001b[1;33m,\u001b[0m \u001b[1;36m92.8213\u001b[0m\u001b[1;33m,\u001b[0m \u001b[1;36m93.1090\u001b[0m\u001b[1;33m,\u001b[0m \u001b[1;36m93.2170\u001b[0m\u001b[1;33m,\u001b[0m \u001b[1;36m93.0390\u001b[0m\u001b[1;33m,\u001b[0m \u001b[1;36m92.6570\u001b[0m\u001b[1;33m,\u001b[0m \u001b[1;36m92.1746\u001b[0m\u001b[1;33m]\u001b[0m\u001b[1;33m,\u001b[0m\u001b[1;33m\n",
      "\u001b[0m                                    \u001b[0mindex\u001b[0m\u001b[1;33m=\u001b[0m\u001b[1;33m[\u001b[0m\u001b[1;36m28.12\u001b[0m\u001b[1;33m,\u001b[0m \u001b[1;36m30.45\u001b[0m\u001b[1;33m,\u001b[0m \u001b[1;36m32.78\u001b[0m\u001b[1;33m,\u001b[0m \u001b[1;36m35.11\u001b[0m\u001b[1;33m,\u001b[0m \u001b[1;36m37.45\u001b[0m\u001b[1;33m,\u001b[0m \u001b[1;36m39.78\u001b[0m\u001b[1;33m,\u001b[0m \u001b[1;36m42.11\u001b[0m\u001b[1;33m,\u001b[0m \u001b[1;36m44.44\u001b[0m\u001b[1;33m,\u001b[0m \u001b[1;36m46.77\u001b[0m\u001b[1;33m,\u001b[0m \u001b[1;36m49.10\u001b[0m\u001b[1;33m,\u001b[0m \u001b[1;36m51.43\u001b[0m\u001b[1;33m,\u001b[0m \u001b[1;36m53.76\u001b[0m\u001b[1;33m,\u001b[0m \u001b[1;36m56.10\u001b[0m\u001b[1;33m,\u001b[0m \u001b[1;36m58.83\u001b[0m\u001b[1;33m]\u001b[0m\u001b[1;33m,\u001b[0m\u001b[1;33m\n",
      "\u001b[0m                                    \u001b[0mname\u001b[0m\u001b[1;33m=\u001b[0m\u001b[1;36m170\u001b[0m\u001b[1;33m)\u001b[0m\u001b[1;33m,\u001b[0m\u001b[1;33m\n",
      "\u001b[0m                          \u001b[0mpd\u001b[0m\u001b[1;33m.\u001b[0m\u001b[0mSeries\u001b[0m\u001b[1;33m(\u001b[0m\u001b[1;33m[\u001b[0m\u001b[1;36m86.7321\u001b[0m\u001b[1;33m,\u001b[0m \u001b[1;36m87.9022\u001b[0m\u001b[1;33m,\u001b[0m \u001b[1;36m88.9688\u001b[0m\u001b[1;33m,\u001b[0m \u001b[1;36m89.9450\u001b[0m\u001b[1;33m,\u001b[0m \u001b[1;36m90.8441\u001b[0m\u001b[1;33m,\u001b[0m \u001b[1;36m91.6794\u001b[0m\u001b[1;33m,\u001b[0m \u001b[1;36m92.4643\u001b[0m\u001b[1;33m,\u001b[0m \u001b[1;36m93.1870\u001b[0m\u001b[1;33m,\u001b[0m \u001b[1;36m93.7495\u001b[0m\u001b[1;33m,\u001b[0m \u001b[1;36m94.0401\u001b[0m\u001b[1;33m,\u001b[0m \u001b[1;36m94.1492\u001b[0m\u001b[1;33m,\u001b[0m \u001b[1;36m93.9694\u001b[0m\u001b[1;33m,\u001b[0m \u001b[1;36m93.5836\u001b[0m\u001b[1;33m,\u001b[0m \u001b[1;36m93.0964\u001b[0m\u001b[1;33m]\u001b[0m\u001b[1;33m,\u001b[0m\u001b[1;33m\n",
      "\u001b[0m                                    \u001b[0mindex\u001b[0m\u001b[1;33m=\u001b[0m\u001b[1;33m[\u001b[0m\u001b[1;36m28.12\u001b[0m\u001b[1;33m,\u001b[0m \u001b[1;36m30.45\u001b[0m\u001b[1;33m,\u001b[0m \u001b[1;36m32.78\u001b[0m\u001b[1;33m,\u001b[0m \u001b[1;36m35.11\u001b[0m\u001b[1;33m,\u001b[0m \u001b[1;36m37.45\u001b[0m\u001b[1;33m,\u001b[0m \u001b[1;36m39.78\u001b[0m\u001b[1;33m,\u001b[0m \u001b[1;36m42.11\u001b[0m\u001b[1;33m,\u001b[0m \u001b[1;36m44.44\u001b[0m\u001b[1;33m,\u001b[0m \u001b[1;36m46.77\u001b[0m\u001b[1;33m,\u001b[0m \u001b[1;36m49.10\u001b[0m\u001b[1;33m,\u001b[0m \u001b[1;36m51.43\u001b[0m\u001b[1;33m,\u001b[0m \u001b[1;36m53.76\u001b[0m\u001b[1;33m,\u001b[0m \u001b[1;36m56.10\u001b[0m\u001b[1;33m,\u001b[0m \u001b[1;36m58.83\u001b[0m\u001b[1;33m]\u001b[0m\u001b[1;33m,\u001b[0m\u001b[1;33m\n",
      "\u001b[0m                                    \u001b[0mname\u001b[0m\u001b[1;33m=\u001b[0m\u001b[1;36m200\u001b[0m\u001b[1;33m)\u001b[0m\u001b[1;33m,\u001b[0m\u001b[1;33m\n",
      "\u001b[0m                          \u001b[0mpd\u001b[0m\u001b[1;33m.\u001b[0m\u001b[0mSeries\u001b[0m\u001b[1;33m(\u001b[0m\u001b[1;33m[\u001b[0m\u001b[1;36m87.5908\u001b[0m\u001b[1;33m,\u001b[0m \u001b[1;36m88.7725\u001b[0m\u001b[1;33m,\u001b[0m \u001b[1;36m89.8497\u001b[0m\u001b[1;33m,\u001b[0m \u001b[1;36m90.8355\u001b[0m\u001b[1;33m,\u001b[0m \u001b[1;36m91.7435\u001b[0m\u001b[1;33m,\u001b[0m \u001b[1;36m92.5871\u001b[0m\u001b[1;33m,\u001b[0m \u001b[1;36m93.3798\u001b[0m\u001b[1;33m,\u001b[0m \u001b[1;36m94.1096\u001b[0m\u001b[1;33m,\u001b[0m \u001b[1;36m94.6777\u001b[0m\u001b[1;33m,\u001b[0m \u001b[1;36m94.9712\u001b[0m\u001b[1;33m,\u001b[0m \u001b[1;36m95.0813\u001b[0m\u001b[1;33m,\u001b[0m \u001b[1;36m94.8998\u001b[0m\u001b[1;33m,\u001b[0m \u001b[1;36m94.5101\u001b[0m\u001b[1;33m,\u001b[0m \u001b[1;36m94.0181\u001b[0m\u001b[1;33m]\u001b[0m\u001b[1;33m,\u001b[0m\u001b[1;33m\n",
      "\u001b[0m                                    \u001b[0mindex\u001b[0m\u001b[1;33m=\u001b[0m\u001b[1;33m[\u001b[0m\u001b[1;36m28.12\u001b[0m\u001b[1;33m,\u001b[0m \u001b[1;36m30.45\u001b[0m\u001b[1;33m,\u001b[0m \u001b[1;36m32.78\u001b[0m\u001b[1;33m,\u001b[0m \u001b[1;36m35.11\u001b[0m\u001b[1;33m,\u001b[0m \u001b[1;36m37.45\u001b[0m\u001b[1;33m,\u001b[0m \u001b[1;36m39.78\u001b[0m\u001b[1;33m,\u001b[0m \u001b[1;36m42.11\u001b[0m\u001b[1;33m,\u001b[0m \u001b[1;36m44.44\u001b[0m\u001b[1;33m,\u001b[0m \u001b[1;36m46.77\u001b[0m\u001b[1;33m,\u001b[0m \u001b[1;36m49.10\u001b[0m\u001b[1;33m,\u001b[0m \u001b[1;36m51.43\u001b[0m\u001b[1;33m,\u001b[0m \u001b[1;36m53.76\u001b[0m\u001b[1;33m,\u001b[0m \u001b[1;36m56.10\u001b[0m\u001b[1;33m,\u001b[0m \u001b[1;36m58.83\u001b[0m\u001b[1;33m]\u001b[0m\u001b[1;33m,\u001b[0m\u001b[1;33m\n",
      "\u001b[0m                                    \u001b[0mname\u001b[0m\u001b[1;33m=\u001b[0m\u001b[1;36m230\u001b[0m\u001b[1;33m)\u001b[0m\u001b[1;33m]\u001b[0m\u001b[1;33m)\u001b[0m\u001b[1;33m\n",
      "\u001b[0m\u001b[1;33m\n",
      "\u001b[0m    \u001b[0mplant2\u001b[0m \u001b[1;33m=\u001b[0m \u001b[0mshop\u001b[0m\u001b[1;33m.\u001b[0m\u001b[0mmodel\u001b[0m\u001b[1;33m.\u001b[0m\u001b[0mplant\u001b[0m\u001b[1;33m.\u001b[0m\u001b[0madd_object\u001b[0m\u001b[1;33m(\u001b[0m\u001b[1;34m'Plant2'\u001b[0m\u001b[1;33m)\u001b[0m\u001b[1;33m\n",
      "\u001b[0m    \u001b[0mplant2\u001b[0m\u001b[1;33m.\u001b[0m\u001b[0moutlet_line\u001b[0m\u001b[1;33m.\u001b[0m\u001b[0mset\u001b[0m\u001b[1;33m(\u001b[0m\u001b[1;36m586\u001b[0m\u001b[1;33m)\u001b[0m\u001b[1;33m\n",
      "\u001b[0m    \u001b[0mplant2\u001b[0m\u001b[1;33m.\u001b[0m\u001b[0mmain_loss\u001b[0m\u001b[1;33m.\u001b[0m\u001b[0mset\u001b[0m\u001b[1;33m(\u001b[0m\u001b[1;33m[\u001b[0m\u001b[1;36m0\u001b[0m\u001b[1;33m]\u001b[0m\u001b[1;33m)\u001b[0m\u001b[1;33m\n",
      "\u001b[0m    \u001b[0mplant2\u001b[0m\u001b[1;33m.\u001b[0m\u001b[0mpenstock_loss\u001b[0m\u001b[1;33m.\u001b[0m\u001b[0mset\u001b[0m\u001b[1;33m(\u001b[0m\u001b[1;33m[\u001b[0m\u001b[1;36m0.0001\u001b[0m\u001b[1;33m,\u001b[0m\u001b[1;36m0.0002\u001b[0m\u001b[1;33m]\u001b[0m\u001b[1;33m)\u001b[0m\u001b[1;33m\n",
      "\u001b[0m    \u001b[0mplant2\u001b[0m\u001b[1;33m.\u001b[0m\u001b[0mmip_flag\u001b[0m\u001b[1;33m.\u001b[0m\u001b[0mset\u001b[0m\u001b[1;33m(\u001b[0m\u001b[1;36m1\u001b[0m\u001b[1;33m)\u001b[0m\u001b[1;33m\n",
      "\u001b[0m    \u001b[1;32mfor\u001b[0m \u001b[0mgen_no\u001b[0m \u001b[1;32min\u001b[0m \u001b[0mrange\u001b[0m\u001b[1;33m(\u001b[0m\u001b[1;36m4\u001b[0m\u001b[1;33m)\u001b[0m\u001b[1;33m:\u001b[0m\u001b[1;33m\n",
      "\u001b[0m        \u001b[0mgen\u001b[0m\u001b[1;33m=\u001b[0m\u001b[0mshop\u001b[0m\u001b[1;33m.\u001b[0m\u001b[0mmodel\u001b[0m\u001b[1;33m.\u001b[0m\u001b[0mgenerator\u001b[0m\u001b[1;33m.\u001b[0m\u001b[0madd_object\u001b[0m\u001b[1;33m(\u001b[0m\u001b[1;34mf\"{plant2.get_name()}_G{str(gen_no+1)}\"\u001b[0m\u001b[1;33m)\u001b[0m\u001b[1;33m\n",
      "\u001b[0m        \u001b[0mgen\u001b[0m\u001b[1;33m.\u001b[0m\u001b[0mconnect_to\u001b[0m\u001b[1;33m(\u001b[0m\u001b[0mplant2\u001b[0m\u001b[1;33m)\u001b[0m\u001b[1;33m\n",
      "\u001b[0m        \u001b[1;32mif\u001b[0m \u001b[0mgen_no\u001b[0m \u001b[1;33m==\u001b[0m \u001b[1;36m0\u001b[0m\u001b[1;33m:\u001b[0m\u001b[1;33m\n",
      "\u001b[0m            \u001b[0mgen\u001b[0m\u001b[1;33m.\u001b[0m\u001b[0mpenstock\u001b[0m\u001b[1;33m.\u001b[0m\u001b[0mset\u001b[0m\u001b[1;33m(\u001b[0m\u001b[1;36m1\u001b[0m\u001b[1;33m)\u001b[0m\u001b[1;33m\n",
      "\u001b[0m            \u001b[0mgen\u001b[0m\u001b[1;33m.\u001b[0m\u001b[0mp_min\u001b[0m\u001b[1;33m.\u001b[0m\u001b[0mset\u001b[0m\u001b[1;33m(\u001b[0m\u001b[1;36m100\u001b[0m\u001b[1;33m)\u001b[0m\u001b[1;33m\n",
      "\u001b[0m            \u001b[0mgen\u001b[0m\u001b[1;33m.\u001b[0m\u001b[0mp_max\u001b[0m\u001b[1;33m.\u001b[0m\u001b[0mset\u001b[0m\u001b[1;33m(\u001b[0m\u001b[1;36m180\u001b[0m\u001b[1;33m)\u001b[0m\u001b[1;33m\n",
      "\u001b[0m            \u001b[0mgen\u001b[0m\u001b[1;33m.\u001b[0m\u001b[0mp_nom\u001b[0m\u001b[1;33m.\u001b[0m\u001b[0mset\u001b[0m\u001b[1;33m(\u001b[0m\u001b[1;36m180\u001b[0m\u001b[1;33m)\u001b[0m\u001b[1;33m\n",
      "\u001b[0m            \u001b[0mgen\u001b[0m\u001b[1;33m.\u001b[0m\u001b[0mstartcost\u001b[0m\u001b[1;33m.\u001b[0m\u001b[0mset\u001b[0m\u001b[1;33m(\u001b[0m\u001b[1;36m300\u001b[0m\u001b[1;33m)\u001b[0m\u001b[1;33m\n",
      "\u001b[0m            \u001b[0mgen\u001b[0m\u001b[1;33m.\u001b[0m\u001b[0mgen_eff_curve\u001b[0m\u001b[1;33m.\u001b[0m\u001b[0mset\u001b[0m\u001b[1;33m(\u001b[0m\u001b[0mpd\u001b[0m\u001b[1;33m.\u001b[0m\u001b[0mSeries\u001b[0m\u001b[1;33m(\u001b[0m\u001b[1;33m[\u001b[0m\u001b[1;36m100\u001b[0m\u001b[1;33m,\u001b[0m \u001b[1;36m100\u001b[0m\u001b[1;33m]\u001b[0m\u001b[1;33m,\u001b[0m \u001b[0mindex\u001b[0m\u001b[1;33m=\u001b[0m\u001b[1;33m[\u001b[0m\u001b[1;36m100\u001b[0m\u001b[1;33m,\u001b[0m \u001b[1;36m180\u001b[0m\u001b[1;33m]\u001b[0m\u001b[1;33m)\u001b[0m\u001b[1;33m)\u001b[0m\u001b[1;33m\n",
      "\u001b[0m            \u001b[0mgen\u001b[0m\u001b[1;33m.\u001b[0m\u001b[0mturb_eff_curves\u001b[0m\u001b[1;33m.\u001b[0m\u001b[0mset\u001b[0m\u001b[1;33m(\u001b[0m\u001b[1;33m[\u001b[0m\u001b[0mpd\u001b[0m\u001b[1;33m.\u001b[0m\u001b[0mSeries\u001b[0m\u001b[1;33m(\u001b[0m\u001b[1;33m[\u001b[0m\u001b[1;36m92.7201\u001b[0m\u001b[1;33m,\u001b[0m \u001b[1;36m93.2583\u001b[0m\u001b[1;33m,\u001b[0m \u001b[1;36m93.7305\u001b[0m\u001b[1;33m,\u001b[0m \u001b[1;36m94.1368\u001b[0m\u001b[1;33m,\u001b[0m \u001b[1;36m94.4785\u001b[0m\u001b[1;33m,\u001b[0m \u001b[1;36m94.7525\u001b[0m\u001b[1;33m,\u001b[0m \u001b[1;36m94.9606\u001b[0m\u001b[1;33m,\u001b[0m \u001b[1;36m95.1028\u001b[0m\u001b[1;33m,\u001b[0m \u001b[1;36m95.1790\u001b[0m\u001b[1;33m,\u001b[0m \u001b[1;36m95.1892\u001b[0m\u001b[1;33m,\u001b[0m \u001b[1;36m95.1335\u001b[0m\u001b[1;33m,\u001b[0m \u001b[1;36m95.0118\u001b[0m\u001b[1;33m,\u001b[0m \u001b[1;36m94.8232\u001b[0m\u001b[1;33m,\u001b[0m \u001b[1;36m94.5191\u001b[0m\u001b[1;33m]\u001b[0m\u001b[1;33m,\u001b[0m\u001b[1;33m\n",
      "\u001b[0m                                        \u001b[0mindex\u001b[0m\u001b[1;33m=\u001b[0m\u001b[1;33m[\u001b[0m\u001b[1;36m126.54\u001b[0m\u001b[1;33m,\u001b[0m \u001b[1;36m137.03\u001b[0m\u001b[1;33m,\u001b[0m \u001b[1;36m147.51\u001b[0m\u001b[1;33m,\u001b[0m \u001b[1;36m158.00\u001b[0m\u001b[1;33m,\u001b[0m \u001b[1;36m168.53\u001b[0m\u001b[1;33m,\u001b[0m \u001b[1;36m179.01\u001b[0m\u001b[1;33m,\u001b[0m \u001b[1;36m189.50\u001b[0m\u001b[1;33m,\u001b[0m \u001b[1;36m199.98\u001b[0m\u001b[1;33m,\u001b[0m \u001b[1;36m210.47\u001b[0m\u001b[1;33m,\u001b[0m \u001b[1;36m220.95\u001b[0m\u001b[1;33m,\u001b[0m \u001b[1;36m231.44\u001b[0m\u001b[1;33m,\u001b[0m \u001b[1;36m241.92\u001b[0m\u001b[1;33m,\u001b[0m \u001b[1;36m252.45\u001b[0m\u001b[1;33m,\u001b[0m \u001b[1;36m264.74\u001b[0m\u001b[1;33m]\u001b[0m\u001b[1;33m,\u001b[0m\u001b[1;33m\n",
      "\u001b[0m                                        \u001b[0mname\u001b[0m\u001b[1;33m=\u001b[0m\u001b[1;36m60\u001b[0m\u001b[1;33m)\u001b[0m\u001b[1;33m]\u001b[0m\u001b[1;33m)\u001b[0m\u001b[1;33m\n",
      "\u001b[0m        \u001b[1;32melse\u001b[0m\u001b[1;33m:\u001b[0m\u001b[1;33m\n",
      "\u001b[0m            \u001b[0mgen\u001b[0m\u001b[1;33m.\u001b[0m\u001b[0mpenstock\u001b[0m\u001b[1;33m.\u001b[0m\u001b[0mset\u001b[0m\u001b[1;33m(\u001b[0m\u001b[1;36m2\u001b[0m\u001b[1;33m)\u001b[0m\u001b[1;33m\n",
      "\u001b[0m            \u001b[0mgen\u001b[0m\u001b[1;33m.\u001b[0m\u001b[0mp_min\u001b[0m\u001b[1;33m.\u001b[0m\u001b[0mset\u001b[0m\u001b[1;33m(\u001b[0m\u001b[1;36m30\u001b[0m\u001b[1;33m)\u001b[0m\u001b[1;33m\n",
      "\u001b[0m            \u001b[0mgen\u001b[0m\u001b[1;33m.\u001b[0m\u001b[0mp_max\u001b[0m\u001b[1;33m.\u001b[0m\u001b[0mset\u001b[0m\u001b[1;33m(\u001b[0m\u001b[1;36m55\u001b[0m\u001b[1;33m)\u001b[0m\u001b[1;33m\n",
      "\u001b[0m            \u001b[0mgen\u001b[0m\u001b[1;33m.\u001b[0m\u001b[0mp_nom\u001b[0m\u001b[1;33m.\u001b[0m\u001b[0mset\u001b[0m\u001b[1;33m(\u001b[0m\u001b[1;36m55\u001b[0m\u001b[1;33m)\u001b[0m\u001b[1;33m\n",
      "\u001b[0m            \u001b[0mgen\u001b[0m\u001b[1;33m.\u001b[0m\u001b[0mstartcost\u001b[0m\u001b[1;33m.\u001b[0m\u001b[0mset\u001b[0m\u001b[1;33m(\u001b[0m\u001b[1;36m300\u001b[0m\u001b[1;33m)\u001b[0m\u001b[1;33m\n",
      "\u001b[0m            \u001b[0mgen\u001b[0m\u001b[1;33m.\u001b[0m\u001b[0mgen_eff_curve\u001b[0m\u001b[1;33m.\u001b[0m\u001b[0mset\u001b[0m\u001b[1;33m(\u001b[0m\u001b[0mpd\u001b[0m\u001b[1;33m.\u001b[0m\u001b[0mSeries\u001b[0m\u001b[1;33m(\u001b[0m\u001b[1;33m[\u001b[0m\u001b[1;36m100\u001b[0m\u001b[1;33m,\u001b[0m \u001b[1;36m100\u001b[0m\u001b[1;33m]\u001b[0m\u001b[1;33m,\u001b[0m \u001b[0mindex\u001b[0m\u001b[1;33m=\u001b[0m\u001b[1;33m[\u001b[0m\u001b[1;36m30\u001b[0m\u001b[1;33m,\u001b[0m \u001b[1;36m55\u001b[0m\u001b[1;33m]\u001b[0m\u001b[1;33m)\u001b[0m\u001b[1;33m)\u001b[0m\u001b[1;33m\n",
      "\u001b[0m            \u001b[0mgen\u001b[0m\u001b[1;33m.\u001b[0m\u001b[0mturb_eff_curves\u001b[0m\u001b[1;33m.\u001b[0m\u001b[0mset\u001b[0m\u001b[1;33m(\u001b[0m\u001b[1;33m[\u001b[0m\u001b[0mpd\u001b[0m\u001b[1;33m.\u001b[0m\u001b[0mSeries\u001b[0m\u001b[1;33m(\u001b[0m\u001b[1;33m[\u001b[0m\u001b[1;36m83.8700\u001b[0m\u001b[1;33m,\u001b[0m \u001b[1;36m85.1937\u001b[0m\u001b[1;33m,\u001b[0m \u001b[1;36m86.3825\u001b[0m\u001b[1;33m,\u001b[0m \u001b[1;36m87.4362\u001b[0m\u001b[1;33m,\u001b[0m \u001b[1;36m88.3587\u001b[0m\u001b[1;33m,\u001b[0m \u001b[1;36m89.1419\u001b[0m\u001b[1;33m,\u001b[0m \u001b[1;36m89.7901\u001b[0m\u001b[1;33m,\u001b[0m \u001b[1;36m90.3033\u001b[0m\u001b[1;33m,\u001b[0m \u001b[1;36m90.6815\u001b[0m\u001b[1;33m,\u001b[0m \u001b[1;36m90.9248\u001b[0m\u001b[1;33m,\u001b[0m \u001b[1;36m91.0331\u001b[0m\u001b[1;33m,\u001b[0m \u001b[1;36m91.0063\u001b[0m\u001b[1;33m,\u001b[0m \u001b[1;36m90.8436\u001b[0m\u001b[1;33m,\u001b[0m \u001b[1;36m90.4817\u001b[0m\u001b[1;33m]\u001b[0m\u001b[1;33m,\u001b[0m\u001b[1;33m\n",
      "\u001b[0m                                        \u001b[0mindex\u001b[0m\u001b[1;33m=\u001b[0m\u001b[1;33m[\u001b[0m\u001b[1;36m40.82\u001b[0m\u001b[1;33m,\u001b[0m \u001b[1;36m44.20\u001b[0m\u001b[1;33m,\u001b[0m \u001b[1;36m47.58\u001b[0m\u001b[1;33m,\u001b[0m \u001b[1;36m50.97\u001b[0m\u001b[1;33m,\u001b[0m \u001b[1;36m54.36\u001b[0m\u001b[1;33m,\u001b[0m \u001b[1;36m57.75\u001b[0m\u001b[1;33m,\u001b[0m \u001b[1;36m61.13\u001b[0m\u001b[1;33m,\u001b[0m \u001b[1;36m64.51\u001b[0m\u001b[1;33m,\u001b[0m \u001b[1;36m67.89\u001b[0m\u001b[1;33m,\u001b[0m \u001b[1;36m71.27\u001b[0m\u001b[1;33m,\u001b[0m \u001b[1;36m74.66\u001b[0m\u001b[1;33m,\u001b[0m \u001b[1;36m78.04\u001b[0m\u001b[1;33m,\u001b[0m \u001b[1;36m81.44\u001b[0m\u001b[1;33m,\u001b[0m \u001b[1;36m85.40\u001b[0m\u001b[1;33m]\u001b[0m\u001b[1;33m,\u001b[0m\u001b[1;33m\n",
      "\u001b[0m                                        \u001b[0mname\u001b[0m\u001b[1;33m=\u001b[0m\u001b[1;36m60\u001b[0m\u001b[1;33m)\u001b[0m\u001b[1;33m]\u001b[0m\u001b[1;33m)\u001b[0m   \u001b[1;33m\n",
      "\u001b[0m    \u001b[1;33m\n",
      "\u001b[0m    \u001b[0mrsv1\u001b[0m\u001b[1;33m.\u001b[0m\u001b[0mconnect_to\u001b[0m\u001b[1;33m(\u001b[0m\u001b[0mplant1\u001b[0m\u001b[1;33m)\u001b[0m\u001b[1;33m\n",
      "\u001b[0m    \u001b[0mplant1\u001b[0m\u001b[1;33m.\u001b[0m\u001b[0mconnect_to\u001b[0m\u001b[1;33m(\u001b[0m\u001b[0mrsv2\u001b[0m\u001b[1;33m)\u001b[0m\u001b[1;33m\n",
      "\u001b[0m    \u001b[0mrsv2\u001b[0m\u001b[1;33m.\u001b[0m\u001b[0mconnect_to\u001b[0m\u001b[1;33m(\u001b[0m\u001b[0mplant2\u001b[0m\u001b[1;33m)\u001b[0m\u001b[1;33m\n",
      "\u001b[0m    \u001b[1;33m\n",
      "\u001b[0m    \u001b[0mrsv1\u001b[0m\u001b[1;33m.\u001b[0m\u001b[0mstart_head\u001b[0m\u001b[1;33m.\u001b[0m\u001b[0mset\u001b[0m\u001b[1;33m(\u001b[0m\u001b[1;36m900\u001b[0m\u001b[1;33m)\u001b[0m\u001b[1;33m\n",
      "\u001b[0m    \u001b[0mrsv2\u001b[0m\u001b[1;33m.\u001b[0m\u001b[0mstart_head\u001b[0m\u001b[1;33m.\u001b[0m\u001b[0mset\u001b[0m\u001b[1;33m(\u001b[0m\u001b[1;36m670\u001b[0m\u001b[1;33m)\u001b[0m    \u001b[1;33m\n",
      "\u001b[0m    \u001b[1;33m\n",
      "\u001b[0m    \u001b[0mrsv1\u001b[0m\u001b[1;33m.\u001b[0m\u001b[0menergy_value_input\u001b[0m\u001b[1;33m.\u001b[0m\u001b[0mset\u001b[0m\u001b[1;33m(\u001b[0m\u001b[1;36m30\u001b[0m\u001b[1;33m)\u001b[0m\u001b[1;33m\n",
      "\u001b[0m    \u001b[0mrsv2\u001b[0m\u001b[1;33m.\u001b[0m\u001b[0menergy_value_input\u001b[0m\u001b[1;33m.\u001b[0m\u001b[0mset\u001b[0m\u001b[1;33m(\u001b[0m\u001b[1;36m10\u001b[0m\u001b[1;33m)\u001b[0m\u001b[1;33m\n",
      "\u001b[0m    \u001b[1;33m\n",
      "\u001b[0m    \u001b[0mrsv2\u001b[0m\u001b[1;33m.\u001b[0m\u001b[0minflow\u001b[0m\u001b[1;33m.\u001b[0m\u001b[0mset\u001b[0m\u001b[1;33m(\u001b[0m\u001b[0mpd\u001b[0m\u001b[1;33m.\u001b[0m\u001b[0mSeries\u001b[0m\u001b[1;33m(\u001b[0m\u001b[1;33m[\u001b[0m\u001b[1;36m60\u001b[0m\u001b[1;33m]\u001b[0m\u001b[1;33m,\u001b[0m \u001b[1;33m[\u001b[0m\u001b[0mstarttime\u001b[0m\u001b[1;33m]\u001b[0m\u001b[1;33m)\u001b[0m\u001b[1;33m)\u001b[0m\u001b[1;33m\n",
      "\u001b[0m    \u001b[1;33m\n",
      "\u001b[0m    \u001b[0mda\u001b[0m \u001b[1;33m=\u001b[0m \u001b[0mshop\u001b[0m\u001b[1;33m.\u001b[0m\u001b[0mmodel\u001b[0m\u001b[1;33m.\u001b[0m\u001b[0mmarket\u001b[0m\u001b[1;33m.\u001b[0m\u001b[0madd_object\u001b[0m\u001b[1;33m(\u001b[0m\u001b[1;34m'Day_ahead'\u001b[0m\u001b[1;33m)\u001b[0m\u001b[1;33m\n",
      "\u001b[0m    \u001b[0mda\u001b[0m\u001b[1;33m.\u001b[0m\u001b[0msale_price\u001b[0m\u001b[1;33m.\u001b[0m\u001b[0mset\u001b[0m\u001b[1;33m(\u001b[0m\u001b[0mpd\u001b[0m\u001b[1;33m.\u001b[0m\u001b[0mDataFrame\u001b[0m\u001b[1;33m(\u001b[0m\u001b[1;33m[\u001b[0m\u001b[1;36m32.992\u001b[0m\u001b[1;33m,\u001b[0m\u001b[1;36m31.122\u001b[0m\u001b[1;33m,\u001b[0m\u001b[1;36m29.312\u001b[0m\u001b[1;33m,\u001b[0m\u001b[1;36m28.072\u001b[0m\u001b[1;33m,\u001b[0m\u001b[1;36m30.012\u001b[0m\u001b[1;33m,\u001b[0m\u001b[1;36m33.362\u001b[0m\u001b[1;33m,\u001b[0m\u001b[1;36m42.682\u001b[0m\u001b[1;33m,\u001b[0m\u001b[1;36m74.822\u001b[0m\u001b[1;33m,\u001b[0m\u001b[1;36m77.732\u001b[0m\u001b[1;33m,\u001b[0m\u001b[1;36m62.332\u001b[0m\u001b[1;33m,\u001b[0m\u001b[1;36m55.892\u001b[0m\u001b[1;33m,\u001b[0m\u001b[1;36m46.962\u001b[0m\u001b[1;33m,\u001b[0m\u001b[1;36m42.582\u001b[0m\u001b[1;33m,\u001b[0m\u001b[1;36m40.942\u001b[0m\u001b[1;33m,\u001b[0m\u001b[1;36m39.212\u001b[0m\u001b[1;33m,\u001b[0m\u001b[1;36m39.142\u001b[0m\u001b[1;33m,\u001b[0m\u001b[1;36m41.672\u001b[0m\u001b[1;33m,\u001b[0m\u001b[1;36m46.922\u001b[0m\u001b[1;33m,\u001b[0m\u001b[1;36m37.102\u001b[0m\u001b[1;33m,\u001b[0m\u001b[1;36m32.992\u001b[0m\u001b[1;33m,\u001b[0m\u001b[1;36m31.272\u001b[0m\u001b[1;33m,\u001b[0m\u001b[1;36m29.752\u001b[0m\u001b[1;33m,\u001b[0m\u001b[1;36m28.782\u001b[0m\u001b[1;33m,\u001b[0m\u001b[1;36m28.082\u001b[0m\u001b[1;33m,\u001b[0m\u001b[1;36m27.242\u001b[0m\u001b[1;33m,\u001b[0m\u001b[1;36m26.622\u001b[0m\u001b[1;33m,\u001b[0m\u001b[1;36m25.732\u001b[0m\u001b[1;33m,\u001b[0m\u001b[1;36m25.392\u001b[0m\u001b[1;33m,\u001b[0m\u001b[1;36m25.992\u001b[0m\u001b[1;33m,\u001b[0m\u001b[1;36m27.402\u001b[0m\u001b[1;33m,\u001b[0m\u001b[1;36m28.942\u001b[0m\u001b[1;33m,\u001b[0m\u001b[1;36m32.182\u001b[0m\u001b[1;33m,\u001b[0m\u001b[1;36m33.082\u001b[0m\u001b[1;33m,\u001b[0m\u001b[1;36m32.342\u001b[0m\u001b[1;33m,\u001b[0m\u001b[1;36m30.912\u001b[0m\u001b[1;33m,\u001b[0m\u001b[1;36m30.162\u001b[0m\u001b[1;33m,\u001b[0m\u001b[1;36m30.062\u001b[0m\u001b[1;33m,\u001b[0m\u001b[1;36m29.562\u001b[0m\u001b[1;33m,\u001b[0m\u001b[1;36m29.462\u001b[0m\u001b[1;33m,\u001b[0m\u001b[1;36m29.512\u001b[0m\u001b[1;33m,\u001b[0m\u001b[1;36m29.672\u001b[0m\u001b[1;33m,\u001b[0m\u001b[1;36m30.072\u001b[0m\u001b[1;33m,\u001b[0m\u001b[1;36m29.552\u001b[0m\u001b[1;33m,\u001b[0m\u001b[1;36m28.862\u001b[0m\u001b[1;33m,\u001b[0m\u001b[1;36m28.412\u001b[0m\u001b[1;33m,\u001b[0m\u001b[1;36m28.072\u001b[0m\u001b[1;33m,\u001b[0m\u001b[1;36m27.162\u001b[0m\u001b[1;33m,\u001b[0m\u001b[1;36m25.502\u001b[0m\u001b[1;33m,\u001b[0m\u001b[1;36m26.192\u001b[0m\u001b[1;33m,\u001b[0m\u001b[1;36m25.222\u001b[0m\u001b[1;33m,\u001b[0m\u001b[1;36m24.052\u001b[0m\u001b[1;33m,\u001b[0m\u001b[1;36m23.892\u001b[0m\u001b[1;33m,\u001b[0m\u001b[1;36m23.682\u001b[0m\u001b[1;33m,\u001b[0m\u001b[1;36m26.092\u001b[0m\u001b[1;33m,\u001b[0m\u001b[1;36m28.202\u001b[0m\u001b[1;33m,\u001b[0m\u001b[1;36m30.902\u001b[0m\u001b[1;33m,\u001b[0m\u001b[1;36m31.572\u001b[0m\u001b[1;33m,\u001b[0m\u001b[1;36m31.462\u001b[0m\u001b[1;33m,\u001b[0m\u001b[1;36m31.172\u001b[0m\u001b[1;33m,\u001b[0m\u001b[1;36m30.912\u001b[0m\u001b[1;33m,\u001b[0m\u001b[1;36m30.572\u001b[0m\u001b[1;33m,\u001b[0m\u001b[1;36m30.602\u001b[0m\u001b[1;33m,\u001b[0m\u001b[1;36m30.632\u001b[0m\u001b[1;33m,\u001b[0m\u001b[1;36m31.062\u001b[0m\u001b[1;33m,\u001b[0m\u001b[1;36m32.082\u001b[0m\u001b[1;33m,\u001b[0m\u001b[1;36m36.262\u001b[0m\u001b[1;33m,\u001b[0m\u001b[1;36m34.472\u001b[0m\u001b[1;33m,\u001b[0m\u001b[1;36m32.182\u001b[0m\u001b[1;33m,\u001b[0m\u001b[1;36m31.492\u001b[0m\u001b[1;33m,\u001b[0m\u001b[1;36m30.732\u001b[0m\u001b[1;33m,\u001b[0m\u001b[1;36m29.712\u001b[0m\u001b[1;33m,\u001b[0m\u001b[1;36m28.982\u001b[0m\u001b[1;33m]\u001b[0m\u001b[1;33m,\u001b[0m \u001b[1;33m\n",
      "\u001b[0m                               \u001b[0mindex\u001b[0m\u001b[1;33m=\u001b[0m\u001b[1;33m[\u001b[0m\u001b[0mstarttime\u001b[0m \u001b[1;33m+\u001b[0m \u001b[0mpd\u001b[0m\u001b[1;33m.\u001b[0m\u001b[0mTimedelta\u001b[0m\u001b[1;33m(\u001b[0m\u001b[0mhours\u001b[0m\u001b[1;33m=\u001b[0m\u001b[0mi\u001b[0m\u001b[1;33m)\u001b[0m \u001b[1;32mfor\u001b[0m \u001b[0mi\u001b[0m \u001b[1;32min\u001b[0m \u001b[0mrange\u001b[0m\u001b[1;33m(\u001b[0m\u001b[1;36m0\u001b[0m\u001b[1;33m,\u001b[0m\u001b[1;36m72\u001b[0m\u001b[1;33m)\u001b[0m\u001b[1;33m]\u001b[0m\u001b[1;33m)\u001b[0m\u001b[1;33m)\u001b[0m\u001b[1;33m\n",
      "\u001b[0m    \u001b[0mda\u001b[0m\u001b[1;33m.\u001b[0m\u001b[0mmax_sale\u001b[0m\u001b[1;33m.\u001b[0m\u001b[0mset\u001b[0m\u001b[1;33m(\u001b[0m\u001b[0mpd\u001b[0m\u001b[1;33m.\u001b[0m\u001b[0mSeries\u001b[0m\u001b[1;33m(\u001b[0m\u001b[1;33m[\u001b[0m\u001b[1;36m9999\u001b[0m\u001b[1;33m]\u001b[0m\u001b[1;33m,\u001b[0m \u001b[1;33m[\u001b[0m\u001b[0mstarttime\u001b[0m\u001b[1;33m]\u001b[0m\u001b[1;33m)\u001b[0m\u001b[1;33m)\u001b[0m\u001b[1;33m\n",
      "\u001b[0m    \u001b[0mda\u001b[0m\u001b[1;33m.\u001b[0m\u001b[0mbuy_price\u001b[0m\u001b[1;33m.\u001b[0m\u001b[0mset\u001b[0m\u001b[1;33m(\u001b[0m\u001b[0mda\u001b[0m\u001b[1;33m.\u001b[0m\u001b[0msale_price\u001b[0m\u001b[1;33m.\u001b[0m\u001b[0mget\u001b[0m\u001b[1;33m(\u001b[0m\u001b[1;33m)\u001b[0m\u001b[1;33m+\u001b[0m\u001b[1;36m0.002\u001b[0m\u001b[1;33m)\u001b[0m\u001b[1;33m\n",
      "\u001b[0m    \u001b[0mda\u001b[0m\u001b[1;33m.\u001b[0m\u001b[0mmax_buy\u001b[0m\u001b[1;33m.\u001b[0m\u001b[0mset\u001b[0m\u001b[1;33m(\u001b[0m\u001b[0mpd\u001b[0m\u001b[1;33m.\u001b[0m\u001b[0mSeries\u001b[0m\u001b[1;33m(\u001b[0m\u001b[1;33m[\u001b[0m\u001b[1;36m9999\u001b[0m\u001b[1;33m]\u001b[0m\u001b[1;33m,\u001b[0m \u001b[1;33m[\u001b[0m\u001b[0mstarttime\u001b[0m\u001b[1;33m]\u001b[0m\u001b[1;33m)\u001b[0m\u001b[1;33m)\u001b[0m\u001b[1;33m\n",
      "\u001b[0m\u001b[1;33m\n",
      "\u001b[0m    \u001b[0msettings\u001b[0m \u001b[1;33m=\u001b[0m \u001b[0mshop\u001b[0m\u001b[1;33m.\u001b[0m\u001b[0mmodel\u001b[0m\u001b[1;33m.\u001b[0m\u001b[0mglobal_settings\u001b[0m\u001b[1;33m.\u001b[0m\u001b[0mglobal_settings\u001b[0m\u001b[1;33m\n",
      "\u001b[0m    \u001b[0msettings\u001b[0m\u001b[1;33m.\u001b[0m\u001b[0mmipgap_rel\u001b[0m\u001b[1;33m.\u001b[0m\u001b[0mset\u001b[0m\u001b[1;33m(\u001b[0m\u001b[1;36m0\u001b[0m\u001b[1;33m)\u001b[0m\u001b[1;33m\n",
      "\u001b[0m    \u001b[0msettings\u001b[0m\u001b[1;33m.\u001b[0m\u001b[0mmipgap_abs\u001b[0m\u001b[1;33m.\u001b[0m\u001b[0mset\u001b[0m\u001b[1;33m(\u001b[0m\u001b[1;36m0\u001b[0m\u001b[1;33m)\u001b[0m\u001b[1;33m\n",
      "\u001b[0m\u001b[1;33m\n",
      "\u001b[0m\u001b[1;32mdef\u001b[0m \u001b[0mrun_model\u001b[0m\u001b[1;33m(\u001b[0m\u001b[0mshop\u001b[0m\u001b[1;33m)\u001b[0m\u001b[1;33m:\u001b[0m\u001b[1;33m\n",
      "\u001b[0m    \u001b[0mshop\u001b[0m\u001b[1;33m.\u001b[0m\u001b[0mstart_sim\u001b[0m\u001b[1;33m(\u001b[0m\u001b[1;33m[\u001b[0m\u001b[1;33m]\u001b[0m\u001b[1;33m,\u001b[0m \u001b[1;33m[\u001b[0m\u001b[1;34m'3'\u001b[0m\u001b[1;33m]\u001b[0m\u001b[1;33m)\u001b[0m\u001b[1;33m\n",
      "\u001b[0m    \u001b[0mshop\u001b[0m\u001b[1;33m.\u001b[0m\u001b[0mset_code\u001b[0m\u001b[1;33m(\u001b[0m\u001b[1;33m[\u001b[0m\u001b[1;34m'incremental'\u001b[0m\u001b[1;33m]\u001b[0m\u001b[1;33m,\u001b[0m \u001b[1;33m[\u001b[0m\u001b[1;33m]\u001b[0m\u001b[1;33m)\u001b[0m\u001b[1;33m\n",
      "\u001b[0m    \u001b[0mshop\u001b[0m\u001b[1;33m.\u001b[0m\u001b[0mstart_sim\u001b[0m\u001b[1;33m(\u001b[0m\u001b[1;33m[\u001b[0m\u001b[1;33m]\u001b[0m\u001b[1;33m,\u001b[0m \u001b[1;33m[\u001b[0m\u001b[1;34m'5'\u001b[0m\u001b[1;33m]\u001b[0m\u001b[1;33m)\u001b[0m\u001b[1;33m\n",
      "\u001b[0m\u001b[1;33m\n",
      "\u001b[0m\u001b[1;33m\n",
      "\u001b[0m\u001b[1;32mdef\u001b[0m \u001b[0mget_gen_droop\u001b[0m\u001b[1;33m(\u001b[0m\u001b[0mshop\u001b[0m\u001b[1;33m)\u001b[0m\u001b[1;33m:\u001b[0m\u001b[1;33m\n",
      "\u001b[0m\u001b[1;33m\n",
      "\u001b[0m    \u001b[0mgen_droop\u001b[0m \u001b[1;33m=\u001b[0m \u001b[1;33m{\u001b[0m\u001b[1;33m}\u001b[0m\u001b[1;33m\n",
      "\u001b[0m    \u001b[1;32mfor\u001b[0m \u001b[0mgen\u001b[0m \u001b[1;32min\u001b[0m \u001b[0mshop\u001b[0m\u001b[1;33m.\u001b[0m\u001b[0mmodel\u001b[0m\u001b[1;33m.\u001b[0m\u001b[0mgenerator\u001b[0m\u001b[1;33m:\u001b[0m\u001b[1;33m\n",
      "\u001b[0m        \u001b[0mdroop\u001b[0m \u001b[1;33m=\u001b[0m \u001b[0mgen\u001b[0m\u001b[1;33m.\u001b[0m\u001b[0mdroop_result\u001b[0m\u001b[1;33m.\u001b[0m\u001b[0mget\u001b[0m\u001b[1;33m(\u001b[0m\u001b[1;33m)\u001b[0m  \u001b[1;33m\n",
      "\u001b[0m        \u001b[0mgen_droop\u001b[0m\u001b[1;33m[\u001b[0m\u001b[0mgen\u001b[0m\u001b[1;33m.\u001b[0m\u001b[0mget_name\u001b[0m\u001b[1;33m(\u001b[0m\u001b[1;33m)\u001b[0m\u001b[1;33m]\u001b[0m \u001b[1;33m=\u001b[0m \u001b[0mdroop\u001b[0m\u001b[1;33m.\u001b[0m\u001b[0mvalues\u001b[0m\u001b[1;33m\n",
      "\u001b[0m        \u001b[1;33m\n",
      "\u001b[0m    \u001b[1;32mreturn\u001b[0m \u001b[0mgen_droop\u001b[0m\u001b[1;33m\u001b[0m\u001b[1;33m\u001b[0m\u001b[0m\n"
     ]
    }
   ],
   "metadata": {}
  },
  {
   "cell_type": "markdown",
   "source": [
    "## model.yaml <a name=\"model.yaml\"></a>"
   ],
   "metadata": {}
  },
  {
   "cell_type": "code",
   "execution_count": 7,
   "source": [
    "%pycat model.yaml"
   ],
   "outputs": [
    {
     "output_type": "stream",
     "name": "stdout",
     "text": [
      "\u001b[0mtime\u001b[0m\u001b[1;33m:\u001b[0m\u001b[1;33m\n",
      "\u001b[0m  \u001b[0mstarttime\u001b[0m\u001b[1;33m:\u001b[0m \u001b[1;36m2018\u001b[0m\u001b[1;33m-\u001b[0m\u001b[1;36m0\u001b[0m\u001b[1;36m1\u001b[0m\u001b[1;33m-\u001b[0m\u001b[1;36m23\u001b[0m \u001b[1;36m00\u001b[0m\u001b[1;33m:\u001b[0m\u001b[1;36m00\u001b[0m\u001b[1;33m:\u001b[0m\u001b[1;36m00\u001b[0m\u001b[1;33m\n",
      "\u001b[0m  \u001b[0mendtime\u001b[0m\u001b[1;33m:\u001b[0m \u001b[1;36m2018\u001b[0m\u001b[1;33m-\u001b[0m\u001b[1;36m0\u001b[0m\u001b[1;36m1\u001b[0m\u001b[1;33m-\u001b[0m\u001b[1;36m26\u001b[0m \u001b[1;36m00\u001b[0m\u001b[1;33m:\u001b[0m\u001b[1;36m00\u001b[0m\u001b[1;33m:\u001b[0m\u001b[1;36m00\u001b[0m\u001b[1;33m\n",
      "\u001b[0m  \u001b[0mtimeunit\u001b[0m\u001b[1;33m:\u001b[0m \u001b[0mhour\u001b[0m\u001b[1;33m\n",
      "\u001b[0m  \u001b[0mtimeresolution\u001b[0m\u001b[1;33m:\u001b[0m\u001b[1;33m\n",
      "\u001b[0m    \u001b[1;36m2018\u001b[0m\u001b[1;33m-\u001b[0m\u001b[1;36m0\u001b[0m\u001b[1;36m1\u001b[0m\u001b[1;33m-\u001b[0m\u001b[1;36m23\u001b[0m \u001b[1;36m00\u001b[0m\u001b[1;33m:\u001b[0m\u001b[1;36m00\u001b[0m\u001b[1;33m:\u001b[0m\u001b[1;36m00\u001b[0m\u001b[1;33m:\u001b[0m \u001b[1;36m1\u001b[0m\u001b[1;33m\n",
      "\u001b[0m\u001b[0mmodel\u001b[0m\u001b[1;33m:\u001b[0m\u001b[1;33m\n",
      "\u001b[0m  \u001b[0mglobal_settings\u001b[0m\u001b[1;33m:\u001b[0m\u001b[1;33m\n",
      "\u001b[0m    \u001b[0mglobal_settings\u001b[0m\u001b[1;33m:\u001b[0m\u001b[1;33m\n",
      "\u001b[0m      \u001b[0mmipgap_rel\u001b[0m\u001b[1;33m:\u001b[0m \u001b[1;36m0\u001b[0m\u001b[1;33m\n",
      "\u001b[0m      \u001b[0mmipgap_abs\u001b[0m\u001b[1;33m:\u001b[0m \u001b[1;36m0\u001b[0m\u001b[1;33m\n",
      "\u001b[0m  \u001b[0mreservoir\u001b[0m\u001b[1;33m:\u001b[0m\u001b[1;33m\n",
      "\u001b[0m    \u001b[0mReservoir1\u001b[0m\u001b[1;33m:\u001b[0m\u001b[1;33m\n",
      "\u001b[0m      \u001b[0mmax_vol\u001b[0m\u001b[1;33m:\u001b[0m \u001b[1;36m39\u001b[0m\u001b[1;33m\n",
      "\u001b[0m      \u001b[0mlrl\u001b[0m\u001b[1;33m:\u001b[0m \u001b[1;36m860\u001b[0m\u001b[1;33m\n",
      "\u001b[0m      \u001b[0mhrl\u001b[0m\u001b[1;33m:\u001b[0m \u001b[1;36m905\u001b[0m\u001b[1;33m\n",
      "\u001b[0m      \u001b[0mvol_head\u001b[0m\u001b[1;33m:\u001b[0m\u001b[1;33m\n",
      "\u001b[0m        \u001b[0mref\u001b[0m\u001b[1;33m:\u001b[0m \u001b[1;36m0\u001b[0m\u001b[1;33m\n",
      "\u001b[0m        \u001b[0mx\u001b[0m\u001b[1;33m:\u001b[0m\u001b[1;33m\n",
      "\u001b[0m          \u001b[1;33m-\u001b[0m \u001b[1;36m0\u001b[0m\u001b[1;33m\n",
      "\u001b[0m          \u001b[1;33m-\u001b[0m \u001b[1;36m39\u001b[0m\u001b[1;33m\n",
      "\u001b[0m          \u001b[1;33m-\u001b[0m \u001b[1;36m41.66\u001b[0m\u001b[1;33m\n",
      "\u001b[0m        \u001b[0my\u001b[0m\u001b[1;33m:\u001b[0m\u001b[1;33m\n",
      "\u001b[0m          \u001b[1;33m-\u001b[0m \u001b[1;36m860\u001b[0m\u001b[1;33m\n",
      "\u001b[0m          \u001b[1;33m-\u001b[0m \u001b[1;36m906\u001b[0m\u001b[1;33m\n",
      "\u001b[0m          \u001b[1;33m-\u001b[0m \u001b[1;36m907\u001b[0m\u001b[1;33m\n",
      "\u001b[0m      \u001b[0mstart_head\u001b[0m\u001b[1;33m:\u001b[0m \u001b[1;36m900\u001b[0m\u001b[1;33m\n",
      "\u001b[0m      \u001b[0menergy_value_input\u001b[0m\u001b[1;33m:\u001b[0m \u001b[1;36m30\u001b[0m\u001b[1;33m\n",
      "\u001b[0m    \u001b[0mReservoir2\u001b[0m\u001b[1;33m:\u001b[0m\u001b[1;33m\n",
      "\u001b[0m      \u001b[0mmax_vol\u001b[0m\u001b[1;33m:\u001b[0m \u001b[1;36m97.5\u001b[0m\u001b[1;33m\n",
      "\u001b[0m      \u001b[0mlrl\u001b[0m\u001b[1;33m:\u001b[0m \u001b[1;36m650\u001b[0m\u001b[1;33m\n",
      "\u001b[0m      \u001b[0mhrl\u001b[0m\u001b[1;33m:\u001b[0m \u001b[1;36m679\u001b[0m\u001b[1;33m\n",
      "\u001b[0m      \u001b[0mvol_head\u001b[0m\u001b[1;33m:\u001b[0m\u001b[1;33m\n",
      "\u001b[0m        \u001b[0mref\u001b[0m\u001b[1;33m:\u001b[0m \u001b[1;36m0\u001b[0m\u001b[1;33m\n",
      "\u001b[0m        \u001b[0mx\u001b[0m\u001b[1;33m:\u001b[0m\u001b[1;33m\n",
      "\u001b[0m          \u001b[1;33m-\u001b[0m \u001b[1;36m0\u001b[0m\u001b[1;33m\n",
      "\u001b[0m          \u001b[1;33m-\u001b[0m \u001b[1;36m97.5\u001b[0m\u001b[1;33m\n",
      "\u001b[0m          \u001b[1;33m-\u001b[0m \u001b[1;36m104.15\u001b[0m\u001b[1;33m\n",
      "\u001b[0m        \u001b[0my\u001b[0m\u001b[1;33m:\u001b[0m\u001b[1;33m\n",
      "\u001b[0m          \u001b[1;33m-\u001b[0m \u001b[1;36m650\u001b[0m\u001b[1;33m\n",
      "\u001b[0m          \u001b[1;33m-\u001b[0m \u001b[1;36m679\u001b[0m\u001b[1;33m\n",
      "\u001b[0m          \u001b[1;33m-\u001b[0m \u001b[1;36m680\u001b[0m\u001b[1;33m\n",
      "\u001b[0m      \u001b[0mstart_head\u001b[0m\u001b[1;33m:\u001b[0m \u001b[1;36m670\u001b[0m\u001b[1;33m\n",
      "\u001b[0m      \u001b[0minflow\u001b[0m\u001b[1;33m:\u001b[0m\u001b[1;33m\n",
      "\u001b[0m        \u001b[1;36m2018\u001b[0m\u001b[1;33m-\u001b[0m\u001b[1;36m0\u001b[0m\u001b[1;36m1\u001b[0m\u001b[1;33m-\u001b[0m\u001b[1;36m23\u001b[0m \u001b[1;36m00\u001b[0m\u001b[1;33m:\u001b[0m\u001b[1;36m00\u001b[0m\u001b[1;33m:\u001b[0m\u001b[1;36m00\u001b[0m\u001b[1;33m:\u001b[0m \u001b[1;36m60\u001b[0m\u001b[1;33m\n",
      "\u001b[0m      \u001b[0menergy_value_input\u001b[0m\u001b[1;33m:\u001b[0m \u001b[1;36m10\u001b[0m\u001b[1;33m\n",
      "\u001b[0m  \u001b[0mplant\u001b[0m\u001b[1;33m:\u001b[0m\u001b[1;33m\n",
      "\u001b[0m    \u001b[0mPlant1\u001b[0m\u001b[1;33m:\u001b[0m\u001b[1;33m\n",
      "\u001b[0m      \u001b[0moutlet_line\u001b[0m\u001b[1;33m:\u001b[0m \u001b[1;36m672\u001b[0m\u001b[1;33m\n",
      "\u001b[0m      \u001b[0mmain_loss\u001b[0m\u001b[1;33m:\u001b[0m\u001b[1;33m\n",
      "\u001b[0m        \u001b[1;33m-\u001b[0m \u001b[1;36m0\u001b[0m\u001b[1;33m\n",
      "\u001b[0m      \u001b[0mpenstock_loss\u001b[0m\u001b[1;33m:\u001b[0m\u001b[1;33m\n",
      "\u001b[0m        \u001b[1;33m-\u001b[0m \u001b[1;36m0.001\u001b[0m\u001b[1;33m\n",
      "\u001b[0m      \u001b[0mmip_flag\u001b[0m\u001b[1;33m:\u001b[0m\u001b[1;33m\n",
      "\u001b[0m        \u001b[1;36m2018\u001b[0m\u001b[1;33m-\u001b[0m\u001b[1;36m0\u001b[0m\u001b[1;36m1\u001b[0m\u001b[1;33m-\u001b[0m\u001b[1;36m23\u001b[0m \u001b[1;36m00\u001b[0m\u001b[1;33m:\u001b[0m\u001b[1;36m00\u001b[0m\u001b[1;33m:\u001b[0m\u001b[1;36m00\u001b[0m\u001b[1;33m:\u001b[0m \u001b[1;36m1\u001b[0m\u001b[1;33m\n",
      "\u001b[0m    \u001b[0mPlant2\u001b[0m\u001b[1;33m:\u001b[0m\u001b[1;33m\n",
      "\u001b[0m      \u001b[0moutlet_line\u001b[0m\u001b[1;33m:\u001b[0m \u001b[1;36m586\u001b[0m\u001b[1;33m\n",
      "\u001b[0m      \u001b[0mmain_loss\u001b[0m\u001b[1;33m:\u001b[0m\u001b[1;33m\n",
      "\u001b[0m        \u001b[1;33m-\u001b[0m \u001b[1;36m0\u001b[0m\u001b[1;33m\n",
      "\u001b[0m      \u001b[0mpenstock_loss\u001b[0m\u001b[1;33m:\u001b[0m\u001b[1;33m\n",
      "\u001b[0m        \u001b[1;33m-\u001b[0m \u001b[1;36m0.0001\u001b[0m\u001b[1;33m\n",
      "\u001b[0m        \u001b[1;33m-\u001b[0m \u001b[1;36m0.0002\u001b[0m\u001b[1;33m\n",
      "\u001b[0m      \u001b[0mmip_flag\u001b[0m\u001b[1;33m:\u001b[0m\u001b[1;33m\n",
      "\u001b[0m        \u001b[1;36m2018\u001b[0m\u001b[1;33m-\u001b[0m\u001b[1;36m0\u001b[0m\u001b[1;36m1\u001b[0m\u001b[1;33m-\u001b[0m\u001b[1;36m23\u001b[0m \u001b[1;36m00\u001b[0m\u001b[1;33m:\u001b[0m\u001b[1;36m00\u001b[0m\u001b[1;33m:\u001b[0m\u001b[1;36m00\u001b[0m\u001b[1;33m:\u001b[0m \u001b[1;36m1\u001b[0m\u001b[1;33m\n",
      "\u001b[0m  \u001b[0mgenerator\u001b[0m\u001b[1;33m:\u001b[0m\u001b[1;33m\n",
      "\u001b[0m    \u001b[0mPlant1_G1\u001b[0m\u001b[1;33m:\u001b[0m\u001b[1;33m\n",
      "\u001b[0m      \u001b[0mpenstock\u001b[0m\u001b[1;33m:\u001b[0m \u001b[1;36m1\u001b[0m\u001b[1;33m\n",
      "\u001b[0m      \u001b[0mp_min\u001b[0m\u001b[1;33m:\u001b[0m \u001b[1;36m60\u001b[0m\u001b[1;33m\n",
      "\u001b[0m      \u001b[0mp_max\u001b[0m\u001b[1;33m:\u001b[0m \u001b[1;36m120\u001b[0m\u001b[1;33m\n",
      "\u001b[0m      \u001b[0mp_nom\u001b[0m\u001b[1;33m:\u001b[0m \u001b[1;36m120\u001b[0m\u001b[1;33m\n",
      "\u001b[0m      \u001b[0mgen_eff_curve\u001b[0m\u001b[1;33m:\u001b[0m\u001b[1;33m\n",
      "\u001b[0m        \u001b[0mref\u001b[0m\u001b[1;33m:\u001b[0m \u001b[1;36m0\u001b[0m\u001b[1;33m\n",
      "\u001b[0m        \u001b[0mx\u001b[0m\u001b[1;33m:\u001b[0m\u001b[1;33m\n",
      "\u001b[0m          \u001b[1;33m-\u001b[0m \u001b[1;36m60\u001b[0m\u001b[1;33m\n",
      "\u001b[0m          \u001b[1;33m-\u001b[0m \u001b[1;36m120\u001b[0m\u001b[1;33m\n",
      "\u001b[0m        \u001b[0my\u001b[0m\u001b[1;33m:\u001b[0m\u001b[1;33m\n",
      "\u001b[0m          \u001b[1;33m-\u001b[0m \u001b[1;36m100\u001b[0m\u001b[1;33m\n",
      "\u001b[0m          \u001b[1;33m-\u001b[0m \u001b[1;36m100\u001b[0m\u001b[1;33m\n",
      "\u001b[0m      \u001b[0mturb_eff_curves\u001b[0m\u001b[1;33m:\u001b[0m\u001b[1;33m\n",
      "\u001b[0m        \u001b[1;33m-\u001b[0m \u001b[0mref\u001b[0m\u001b[1;33m:\u001b[0m \u001b[1;36m170\u001b[0m\u001b[1;33m\n",
      "\u001b[0m          \u001b[0mx\u001b[0m\u001b[1;33m:\u001b[0m\u001b[1;33m\n",
      "\u001b[0m            \u001b[1;33m-\u001b[0m \u001b[1;36m28.12\u001b[0m\u001b[1;33m\n",
      "\u001b[0m            \u001b[1;33m-\u001b[0m \u001b[1;36m30.45\u001b[0m\u001b[1;33m\n",
      "\u001b[0m            \u001b[1;33m-\u001b[0m \u001b[1;36m32.78\u001b[0m\u001b[1;33m\n",
      "\u001b[0m            \u001b[1;33m-\u001b[0m \u001b[1;36m35.11\u001b[0m\u001b[1;33m\n",
      "\u001b[0m            \u001b[1;33m-\u001b[0m \u001b[1;36m37.45\u001b[0m\u001b[1;33m\n",
      "\u001b[0m            \u001b[1;33m-\u001b[0m \u001b[1;36m39.78\u001b[0m\u001b[1;33m\n",
      "\u001b[0m            \u001b[1;33m-\u001b[0m \u001b[1;36m42.11\u001b[0m\u001b[1;33m\n",
      "\u001b[0m            \u001b[1;33m-\u001b[0m \u001b[1;36m44.44\u001b[0m\u001b[1;33m\n",
      "\u001b[0m            \u001b[1;33m-\u001b[0m \u001b[1;36m46.77\u001b[0m\u001b[1;33m\n",
      "\u001b[0m            \u001b[1;33m-\u001b[0m \u001b[1;36m49.1\u001b[0m\u001b[1;33m\n",
      "\u001b[0m            \u001b[1;33m-\u001b[0m \u001b[1;36m51.43\u001b[0m\u001b[1;33m\n",
      "\u001b[0m            \u001b[1;33m-\u001b[0m \u001b[1;36m53.76\u001b[0m\u001b[1;33m\n",
      "\u001b[0m            \u001b[1;33m-\u001b[0m \u001b[1;36m56.1\u001b[0m\u001b[1;33m\n",
      "\u001b[0m            \u001b[1;33m-\u001b[0m \u001b[1;36m58.83\u001b[0m\u001b[1;33m\n",
      "\u001b[0m          \u001b[0my\u001b[0m\u001b[1;33m:\u001b[0m\u001b[1;33m\n",
      "\u001b[0m            \u001b[1;33m-\u001b[0m \u001b[1;36m85.8733\u001b[0m\u001b[1;33m\n",
      "\u001b[0m            \u001b[1;33m-\u001b[0m \u001b[1;36m87.0319\u001b[0m\u001b[1;33m\n",
      "\u001b[0m            \u001b[1;33m-\u001b[0m \u001b[1;36m88.0879\u001b[0m\u001b[1;33m\n",
      "\u001b[0m            \u001b[1;33m-\u001b[0m \u001b[1;36m89.0544\u001b[0m\u001b[1;33m\n",
      "\u001b[0m            \u001b[1;33m-\u001b[0m \u001b[1;36m89.9446\u001b[0m\u001b[1;33m\n",
      "\u001b[0m            \u001b[1;33m-\u001b[0m \u001b[1;36m90.7717\u001b[0m\u001b[1;33m\n",
      "\u001b[0m            \u001b[1;33m-\u001b[0m \u001b[1;36m91.5488\u001b[0m\u001b[1;33m\n",
      "\u001b[0m            \u001b[1;33m-\u001b[0m \u001b[1;36m92.2643\u001b[0m\u001b[1;33m\n",
      "\u001b[0m            \u001b[1;33m-\u001b[0m \u001b[1;36m92.8213\u001b[0m\u001b[1;33m\n",
      "\u001b[0m            \u001b[1;33m-\u001b[0m \u001b[1;36m93.109\u001b[0m\u001b[1;33m\n",
      "\u001b[0m            \u001b[1;33m-\u001b[0m \u001b[1;36m93.217\u001b[0m\u001b[1;33m\n",
      "\u001b[0m            \u001b[1;33m-\u001b[0m \u001b[1;36m93.039\u001b[0m\u001b[1;33m\n",
      "\u001b[0m            \u001b[1;33m-\u001b[0m \u001b[1;36m92.657\u001b[0m\u001b[1;33m\n",
      "\u001b[0m            \u001b[1;33m-\u001b[0m \u001b[1;36m92.1746\u001b[0m\u001b[1;33m\n",
      "\u001b[0m        \u001b[1;33m-\u001b[0m \u001b[0mref\u001b[0m\u001b[1;33m:\u001b[0m \u001b[1;36m200\u001b[0m\u001b[1;33m\n",
      "\u001b[0m          \u001b[0mx\u001b[0m\u001b[1;33m:\u001b[0m\u001b[1;33m\n",
      "\u001b[0m            \u001b[1;33m-\u001b[0m \u001b[1;36m28.12\u001b[0m\u001b[1;33m\n",
      "\u001b[0m            \u001b[1;33m-\u001b[0m \u001b[1;36m30.45\u001b[0m\u001b[1;33m\n",
      "\u001b[0m            \u001b[1;33m-\u001b[0m \u001b[1;36m32.78\u001b[0m\u001b[1;33m\n",
      "\u001b[0m            \u001b[1;33m-\u001b[0m \u001b[1;36m35.11\u001b[0m\u001b[1;33m\n",
      "\u001b[0m            \u001b[1;33m-\u001b[0m \u001b[1;36m37.45\u001b[0m\u001b[1;33m\n",
      "\u001b[0m            \u001b[1;33m-\u001b[0m \u001b[1;36m39.78\u001b[0m\u001b[1;33m\n",
      "\u001b[0m            \u001b[1;33m-\u001b[0m \u001b[1;36m42.11\u001b[0m\u001b[1;33m\n",
      "\u001b[0m            \u001b[1;33m-\u001b[0m \u001b[1;36m44.44\u001b[0m\u001b[1;33m\n",
      "\u001b[0m            \u001b[1;33m-\u001b[0m \u001b[1;36m46.77\u001b[0m\u001b[1;33m\n",
      "\u001b[0m            \u001b[1;33m-\u001b[0m \u001b[1;36m49.1\u001b[0m\u001b[1;33m\n",
      "\u001b[0m            \u001b[1;33m-\u001b[0m \u001b[1;36m51.43\u001b[0m\u001b[1;33m\n",
      "\u001b[0m            \u001b[1;33m-\u001b[0m \u001b[1;36m53.76\u001b[0m\u001b[1;33m\n",
      "\u001b[0m            \u001b[1;33m-\u001b[0m \u001b[1;36m56.1\u001b[0m\u001b[1;33m\n",
      "\u001b[0m            \u001b[1;33m-\u001b[0m \u001b[1;36m58.83\u001b[0m\u001b[1;33m\n",
      "\u001b[0m          \u001b[0my\u001b[0m\u001b[1;33m:\u001b[0m\u001b[1;33m\n",
      "\u001b[0m            \u001b[1;33m-\u001b[0m \u001b[1;36m86.7321\u001b[0m\u001b[1;33m\n",
      "\u001b[0m            \u001b[1;33m-\u001b[0m \u001b[1;36m87.9022\u001b[0m\u001b[1;33m\n",
      "\u001b[0m            \u001b[1;33m-\u001b[0m \u001b[1;36m88.9688\u001b[0m\u001b[1;33m\n",
      "\u001b[0m            \u001b[1;33m-\u001b[0m \u001b[1;36m89.945\u001b[0m\u001b[1;33m\n",
      "\u001b[0m            \u001b[1;33m-\u001b[0m \u001b[1;36m90.8441\u001b[0m\u001b[1;33m\n",
      "\u001b[0m            \u001b[1;33m-\u001b[0m \u001b[1;36m91.6794\u001b[0m\u001b[1;33m\n",
      "\u001b[0m            \u001b[1;33m-\u001b[0m \u001b[1;36m92.4643\u001b[0m\u001b[1;33m\n",
      "\u001b[0m            \u001b[1;33m-\u001b[0m \u001b[1;36m93.187\u001b[0m\u001b[1;33m\n",
      "\u001b[0m            \u001b[1;33m-\u001b[0m \u001b[1;36m93.7495\u001b[0m\u001b[1;33m\n",
      "\u001b[0m            \u001b[1;33m-\u001b[0m \u001b[1;36m94.0401\u001b[0m\u001b[1;33m\n",
      "\u001b[0m            \u001b[1;33m-\u001b[0m \u001b[1;36m94.1492\u001b[0m\u001b[1;33m\n",
      "\u001b[0m            \u001b[1;33m-\u001b[0m \u001b[1;36m93.9694\u001b[0m\u001b[1;33m\n",
      "\u001b[0m            \u001b[1;33m-\u001b[0m \u001b[1;36m93.5836\u001b[0m\u001b[1;33m\n",
      "\u001b[0m            \u001b[1;33m-\u001b[0m \u001b[1;36m93.0964\u001b[0m\u001b[1;33m\n",
      "\u001b[0m        \u001b[1;33m-\u001b[0m \u001b[0mref\u001b[0m\u001b[1;33m:\u001b[0m \u001b[1;36m230\u001b[0m\u001b[1;33m\n",
      "\u001b[0m          \u001b[0mx\u001b[0m\u001b[1;33m:\u001b[0m\u001b[1;33m\n",
      "\u001b[0m            \u001b[1;33m-\u001b[0m \u001b[1;36m28.12\u001b[0m\u001b[1;33m\n",
      "\u001b[0m            \u001b[1;33m-\u001b[0m \u001b[1;36m30.45\u001b[0m\u001b[1;33m\n",
      "\u001b[0m            \u001b[1;33m-\u001b[0m \u001b[1;36m32.78\u001b[0m\u001b[1;33m\n",
      "\u001b[0m            \u001b[1;33m-\u001b[0m \u001b[1;36m35.11\u001b[0m\u001b[1;33m\n",
      "\u001b[0m            \u001b[1;33m-\u001b[0m \u001b[1;36m37.45\u001b[0m\u001b[1;33m\n",
      "\u001b[0m            \u001b[1;33m-\u001b[0m \u001b[1;36m39.78\u001b[0m\u001b[1;33m\n",
      "\u001b[0m            \u001b[1;33m-\u001b[0m \u001b[1;36m42.11\u001b[0m\u001b[1;33m\n",
      "\u001b[0m            \u001b[1;33m-\u001b[0m \u001b[1;36m44.44\u001b[0m\u001b[1;33m\n",
      "\u001b[0m            \u001b[1;33m-\u001b[0m \u001b[1;36m46.77\u001b[0m\u001b[1;33m\n",
      "\u001b[0m            \u001b[1;33m-\u001b[0m \u001b[1;36m49.1\u001b[0m\u001b[1;33m\n",
      "\u001b[0m            \u001b[1;33m-\u001b[0m \u001b[1;36m51.43\u001b[0m\u001b[1;33m\n",
      "\u001b[0m            \u001b[1;33m-\u001b[0m \u001b[1;36m53.76\u001b[0m\u001b[1;33m\n",
      "\u001b[0m            \u001b[1;33m-\u001b[0m \u001b[1;36m56.1\u001b[0m\u001b[1;33m\n",
      "\u001b[0m            \u001b[1;33m-\u001b[0m \u001b[1;36m58.83\u001b[0m\u001b[1;33m\n",
      "\u001b[0m          \u001b[0my\u001b[0m\u001b[1;33m:\u001b[0m\u001b[1;33m\n",
      "\u001b[0m            \u001b[1;33m-\u001b[0m \u001b[1;36m87.5908\u001b[0m\u001b[1;33m\n",
      "\u001b[0m            \u001b[1;33m-\u001b[0m \u001b[1;36m88.7725\u001b[0m\u001b[1;33m\n",
      "\u001b[0m            \u001b[1;33m-\u001b[0m \u001b[1;36m89.8497\u001b[0m\u001b[1;33m\n",
      "\u001b[0m            \u001b[1;33m-\u001b[0m \u001b[1;36m90.8355\u001b[0m\u001b[1;33m\n",
      "\u001b[0m            \u001b[1;33m-\u001b[0m \u001b[1;36m91.7435\u001b[0m\u001b[1;33m\n",
      "\u001b[0m            \u001b[1;33m-\u001b[0m \u001b[1;36m92.5871\u001b[0m\u001b[1;33m\n",
      "\u001b[0m            \u001b[1;33m-\u001b[0m \u001b[1;36m93.3798\u001b[0m\u001b[1;33m\n",
      "\u001b[0m            \u001b[1;33m-\u001b[0m \u001b[1;36m94.1096\u001b[0m\u001b[1;33m\n",
      "\u001b[0m            \u001b[1;33m-\u001b[0m \u001b[1;36m94.6777\u001b[0m\u001b[1;33m\n",
      "\u001b[0m            \u001b[1;33m-\u001b[0m \u001b[1;36m94.9712\u001b[0m\u001b[1;33m\n",
      "\u001b[0m            \u001b[1;33m-\u001b[0m \u001b[1;36m95.0813\u001b[0m\u001b[1;33m\n",
      "\u001b[0m            \u001b[1;33m-\u001b[0m \u001b[1;36m94.8998\u001b[0m\u001b[1;33m\n",
      "\u001b[0m            \u001b[1;33m-\u001b[0m \u001b[1;36m94.5101\u001b[0m\u001b[1;33m\n",
      "\u001b[0m            \u001b[1;33m-\u001b[0m \u001b[1;36m94.0181\u001b[0m\u001b[1;33m\n",
      "\u001b[0m      \u001b[0mstartcost\u001b[0m\u001b[1;33m:\u001b[0m\u001b[1;33m\n",
      "\u001b[0m        \u001b[1;36m2018\u001b[0m\u001b[1;33m-\u001b[0m\u001b[1;36m0\u001b[0m\u001b[1;36m1\u001b[0m\u001b[1;33m-\u001b[0m\u001b[1;36m23\u001b[0m \u001b[1;36m00\u001b[0m\u001b[1;33m:\u001b[0m\u001b[1;36m00\u001b[0m\u001b[1;33m:\u001b[0m\u001b[1;36m00\u001b[0m\u001b[1;33m:\u001b[0m \u001b[1;36m300\u001b[0m\u001b[1;33m\n",
      "\u001b[0m    \u001b[0mPlant1_G2\u001b[0m\u001b[1;33m:\u001b[0m\u001b[1;33m\n",
      "\u001b[0m      \u001b[0mpenstock\u001b[0m\u001b[1;33m:\u001b[0m \u001b[1;36m1\u001b[0m\u001b[1;33m\n",
      "\u001b[0m      \u001b[0mp_min\u001b[0m\u001b[1;33m:\u001b[0m \u001b[1;36m60\u001b[0m\u001b[1;33m\n",
      "\u001b[0m      \u001b[0mp_max\u001b[0m\u001b[1;33m:\u001b[0m \u001b[1;36m120\u001b[0m\u001b[1;33m\n",
      "\u001b[0m      \u001b[0mp_nom\u001b[0m\u001b[1;33m:\u001b[0m \u001b[1;36m120\u001b[0m\u001b[1;33m\n",
      "\u001b[0m      \u001b[0mgen_eff_curve\u001b[0m\u001b[1;33m:\u001b[0m\u001b[1;33m\n",
      "\u001b[0m        \u001b[0mref\u001b[0m\u001b[1;33m:\u001b[0m \u001b[1;36m0\u001b[0m\u001b[1;33m\n",
      "\u001b[0m        \u001b[0mx\u001b[0m\u001b[1;33m:\u001b[0m\u001b[1;33m\n",
      "\u001b[0m          \u001b[1;33m-\u001b[0m \u001b[1;36m60\u001b[0m\u001b[1;33m\n",
      "\u001b[0m          \u001b[1;33m-\u001b[0m \u001b[1;36m120\u001b[0m\u001b[1;33m\n",
      "\u001b[0m        \u001b[0my\u001b[0m\u001b[1;33m:\u001b[0m\u001b[1;33m\n",
      "\u001b[0m          \u001b[1;33m-\u001b[0m \u001b[1;36m100\u001b[0m\u001b[1;33m\n",
      "\u001b[0m          \u001b[1;33m-\u001b[0m \u001b[1;36m100\u001b[0m\u001b[1;33m\n",
      "\u001b[0m      \u001b[0mturb_eff_curves\u001b[0m\u001b[1;33m:\u001b[0m\u001b[1;33m\n",
      "\u001b[0m        \u001b[1;33m-\u001b[0m \u001b[0mref\u001b[0m\u001b[1;33m:\u001b[0m \u001b[1;36m170\u001b[0m\u001b[1;33m\n",
      "\u001b[0m          \u001b[0mx\u001b[0m\u001b[1;33m:\u001b[0m\u001b[1;33m\n",
      "\u001b[0m            \u001b[1;33m-\u001b[0m \u001b[1;36m28.12\u001b[0m\u001b[1;33m\n",
      "\u001b[0m            \u001b[1;33m-\u001b[0m \u001b[1;36m30.45\u001b[0m\u001b[1;33m\n",
      "\u001b[0m            \u001b[1;33m-\u001b[0m \u001b[1;36m32.78\u001b[0m\u001b[1;33m\n",
      "\u001b[0m            \u001b[1;33m-\u001b[0m \u001b[1;36m35.11\u001b[0m\u001b[1;33m\n",
      "\u001b[0m            \u001b[1;33m-\u001b[0m \u001b[1;36m37.45\u001b[0m\u001b[1;33m\n",
      "\u001b[0m            \u001b[1;33m-\u001b[0m \u001b[1;36m39.78\u001b[0m\u001b[1;33m\n",
      "\u001b[0m            \u001b[1;33m-\u001b[0m \u001b[1;36m42.11\u001b[0m\u001b[1;33m\n",
      "\u001b[0m            \u001b[1;33m-\u001b[0m \u001b[1;36m44.44\u001b[0m\u001b[1;33m\n",
      "\u001b[0m            \u001b[1;33m-\u001b[0m \u001b[1;36m46.77\u001b[0m\u001b[1;33m\n",
      "\u001b[0m            \u001b[1;33m-\u001b[0m \u001b[1;36m49.1\u001b[0m\u001b[1;33m\n",
      "\u001b[0m            \u001b[1;33m-\u001b[0m \u001b[1;36m51.43\u001b[0m\u001b[1;33m\n",
      "\u001b[0m            \u001b[1;33m-\u001b[0m \u001b[1;36m53.76\u001b[0m\u001b[1;33m\n",
      "\u001b[0m            \u001b[1;33m-\u001b[0m \u001b[1;36m56.1\u001b[0m\u001b[1;33m\n",
      "\u001b[0m            \u001b[1;33m-\u001b[0m \u001b[1;36m58.83\u001b[0m\u001b[1;33m\n",
      "\u001b[0m          \u001b[0my\u001b[0m\u001b[1;33m:\u001b[0m\u001b[1;33m\n",
      "\u001b[0m            \u001b[1;33m-\u001b[0m \u001b[1;36m85.8733\u001b[0m\u001b[1;33m\n",
      "\u001b[0m            \u001b[1;33m-\u001b[0m \u001b[1;36m87.0319\u001b[0m\u001b[1;33m\n",
      "\u001b[0m            \u001b[1;33m-\u001b[0m \u001b[1;36m88.0879\u001b[0m\u001b[1;33m\n",
      "\u001b[0m            \u001b[1;33m-\u001b[0m \u001b[1;36m89.0544\u001b[0m\u001b[1;33m\n",
      "\u001b[0m            \u001b[1;33m-\u001b[0m \u001b[1;36m89.9446\u001b[0m\u001b[1;33m\n",
      "\u001b[0m            \u001b[1;33m-\u001b[0m \u001b[1;36m90.7717\u001b[0m\u001b[1;33m\n",
      "\u001b[0m            \u001b[1;33m-\u001b[0m \u001b[1;36m91.5488\u001b[0m\u001b[1;33m\n",
      "\u001b[0m            \u001b[1;33m-\u001b[0m \u001b[1;36m92.2643\u001b[0m\u001b[1;33m\n",
      "\u001b[0m            \u001b[1;33m-\u001b[0m \u001b[1;36m92.8213\u001b[0m\u001b[1;33m\n",
      "\u001b[0m            \u001b[1;33m-\u001b[0m \u001b[1;36m93.109\u001b[0m\u001b[1;33m\n",
      "\u001b[0m            \u001b[1;33m-\u001b[0m \u001b[1;36m93.217\u001b[0m\u001b[1;33m\n",
      "\u001b[0m            \u001b[1;33m-\u001b[0m \u001b[1;36m93.039\u001b[0m\u001b[1;33m\n",
      "\u001b[0m            \u001b[1;33m-\u001b[0m \u001b[1;36m92.657\u001b[0m\u001b[1;33m\n",
      "\u001b[0m            \u001b[1;33m-\u001b[0m \u001b[1;36m92.1746\u001b[0m\u001b[1;33m\n",
      "\u001b[0m        \u001b[1;33m-\u001b[0m \u001b[0mref\u001b[0m\u001b[1;33m:\u001b[0m \u001b[1;36m200\u001b[0m\u001b[1;33m\n",
      "\u001b[0m          \u001b[0mx\u001b[0m\u001b[1;33m:\u001b[0m\u001b[1;33m\n",
      "\u001b[0m            \u001b[1;33m-\u001b[0m \u001b[1;36m28.12\u001b[0m\u001b[1;33m\n",
      "\u001b[0m            \u001b[1;33m-\u001b[0m \u001b[1;36m30.45\u001b[0m\u001b[1;33m\n",
      "\u001b[0m            \u001b[1;33m-\u001b[0m \u001b[1;36m32.78\u001b[0m\u001b[1;33m\n",
      "\u001b[0m            \u001b[1;33m-\u001b[0m \u001b[1;36m35.11\u001b[0m\u001b[1;33m\n",
      "\u001b[0m            \u001b[1;33m-\u001b[0m \u001b[1;36m37.45\u001b[0m\u001b[1;33m\n",
      "\u001b[0m            \u001b[1;33m-\u001b[0m \u001b[1;36m39.78\u001b[0m\u001b[1;33m\n",
      "\u001b[0m            \u001b[1;33m-\u001b[0m \u001b[1;36m42.11\u001b[0m\u001b[1;33m\n",
      "\u001b[0m            \u001b[1;33m-\u001b[0m \u001b[1;36m44.44\u001b[0m\u001b[1;33m\n",
      "\u001b[0m            \u001b[1;33m-\u001b[0m \u001b[1;36m46.77\u001b[0m\u001b[1;33m\n",
      "\u001b[0m            \u001b[1;33m-\u001b[0m \u001b[1;36m49.1\u001b[0m\u001b[1;33m\n",
      "\u001b[0m            \u001b[1;33m-\u001b[0m \u001b[1;36m51.43\u001b[0m\u001b[1;33m\n",
      "\u001b[0m            \u001b[1;33m-\u001b[0m \u001b[1;36m53.76\u001b[0m\u001b[1;33m\n",
      "\u001b[0m            \u001b[1;33m-\u001b[0m \u001b[1;36m56.1\u001b[0m\u001b[1;33m\n",
      "\u001b[0m            \u001b[1;33m-\u001b[0m \u001b[1;36m58.83\u001b[0m\u001b[1;33m\n",
      "\u001b[0m          \u001b[0my\u001b[0m\u001b[1;33m:\u001b[0m\u001b[1;33m\n",
      "\u001b[0m            \u001b[1;33m-\u001b[0m \u001b[1;36m86.7321\u001b[0m\u001b[1;33m\n",
      "\u001b[0m            \u001b[1;33m-\u001b[0m \u001b[1;36m87.9022\u001b[0m\u001b[1;33m\n",
      "\u001b[0m            \u001b[1;33m-\u001b[0m \u001b[1;36m88.9688\u001b[0m\u001b[1;33m\n",
      "\u001b[0m            \u001b[1;33m-\u001b[0m \u001b[1;36m89.945\u001b[0m\u001b[1;33m\n",
      "\u001b[0m            \u001b[1;33m-\u001b[0m \u001b[1;36m90.8441\u001b[0m\u001b[1;33m\n",
      "\u001b[0m            \u001b[1;33m-\u001b[0m \u001b[1;36m91.6794\u001b[0m\u001b[1;33m\n",
      "\u001b[0m            \u001b[1;33m-\u001b[0m \u001b[1;36m92.4643\u001b[0m\u001b[1;33m\n",
      "\u001b[0m            \u001b[1;33m-\u001b[0m \u001b[1;36m93.187\u001b[0m\u001b[1;33m\n",
      "\u001b[0m            \u001b[1;33m-\u001b[0m \u001b[1;36m93.7495\u001b[0m\u001b[1;33m\n",
      "\u001b[0m            \u001b[1;33m-\u001b[0m \u001b[1;36m94.0401\u001b[0m\u001b[1;33m\n",
      "\u001b[0m            \u001b[1;33m-\u001b[0m \u001b[1;36m94.1492\u001b[0m\u001b[1;33m\n",
      "\u001b[0m            \u001b[1;33m-\u001b[0m \u001b[1;36m93.9694\u001b[0m\u001b[1;33m\n",
      "\u001b[0m            \u001b[1;33m-\u001b[0m \u001b[1;36m93.5836\u001b[0m\u001b[1;33m\n",
      "\u001b[0m            \u001b[1;33m-\u001b[0m \u001b[1;36m93.0964\u001b[0m\u001b[1;33m\n",
      "\u001b[0m        \u001b[1;33m-\u001b[0m \u001b[0mref\u001b[0m\u001b[1;33m:\u001b[0m \u001b[1;36m230\u001b[0m\u001b[1;33m\n",
      "\u001b[0m          \u001b[0mx\u001b[0m\u001b[1;33m:\u001b[0m\u001b[1;33m\n",
      "\u001b[0m            \u001b[1;33m-\u001b[0m \u001b[1;36m28.12\u001b[0m\u001b[1;33m\n",
      "\u001b[0m            \u001b[1;33m-\u001b[0m \u001b[1;36m30.45\u001b[0m\u001b[1;33m\n",
      "\u001b[0m            \u001b[1;33m-\u001b[0m \u001b[1;36m32.78\u001b[0m\u001b[1;33m\n",
      "\u001b[0m            \u001b[1;33m-\u001b[0m \u001b[1;36m35.11\u001b[0m\u001b[1;33m\n",
      "\u001b[0m            \u001b[1;33m-\u001b[0m \u001b[1;36m37.45\u001b[0m\u001b[1;33m\n",
      "\u001b[0m            \u001b[1;33m-\u001b[0m \u001b[1;36m39.78\u001b[0m\u001b[1;33m\n",
      "\u001b[0m            \u001b[1;33m-\u001b[0m \u001b[1;36m42.11\u001b[0m\u001b[1;33m\n",
      "\u001b[0m            \u001b[1;33m-\u001b[0m \u001b[1;36m44.44\u001b[0m\u001b[1;33m\n",
      "\u001b[0m            \u001b[1;33m-\u001b[0m \u001b[1;36m46.77\u001b[0m\u001b[1;33m\n",
      "\u001b[0m            \u001b[1;33m-\u001b[0m \u001b[1;36m49.1\u001b[0m\u001b[1;33m\n",
      "\u001b[0m            \u001b[1;33m-\u001b[0m \u001b[1;36m51.43\u001b[0m\u001b[1;33m\n",
      "\u001b[0m            \u001b[1;33m-\u001b[0m \u001b[1;36m53.76\u001b[0m\u001b[1;33m\n",
      "\u001b[0m            \u001b[1;33m-\u001b[0m \u001b[1;36m56.1\u001b[0m\u001b[1;33m\n",
      "\u001b[0m            \u001b[1;33m-\u001b[0m \u001b[1;36m58.83\u001b[0m\u001b[1;33m\n",
      "\u001b[0m          \u001b[0my\u001b[0m\u001b[1;33m:\u001b[0m\u001b[1;33m\n",
      "\u001b[0m            \u001b[1;33m-\u001b[0m \u001b[1;36m87.5908\u001b[0m\u001b[1;33m\n",
      "\u001b[0m            \u001b[1;33m-\u001b[0m \u001b[1;36m88.7725\u001b[0m\u001b[1;33m\n",
      "\u001b[0m            \u001b[1;33m-\u001b[0m \u001b[1;36m89.8497\u001b[0m\u001b[1;33m\n",
      "\u001b[0m            \u001b[1;33m-\u001b[0m \u001b[1;36m90.8355\u001b[0m\u001b[1;33m\n",
      "\u001b[0m            \u001b[1;33m-\u001b[0m \u001b[1;36m91.7435\u001b[0m\u001b[1;33m\n",
      "\u001b[0m            \u001b[1;33m-\u001b[0m \u001b[1;36m92.5871\u001b[0m\u001b[1;33m\n",
      "\u001b[0m            \u001b[1;33m-\u001b[0m \u001b[1;36m93.3798\u001b[0m\u001b[1;33m\n",
      "\u001b[0m            \u001b[1;33m-\u001b[0m \u001b[1;36m94.1096\u001b[0m\u001b[1;33m\n",
      "\u001b[0m            \u001b[1;33m-\u001b[0m \u001b[1;36m94.6777\u001b[0m\u001b[1;33m\n",
      "\u001b[0m            \u001b[1;33m-\u001b[0m \u001b[1;36m94.9712\u001b[0m\u001b[1;33m\n",
      "\u001b[0m            \u001b[1;33m-\u001b[0m \u001b[1;36m95.0813\u001b[0m\u001b[1;33m\n",
      "\u001b[0m            \u001b[1;33m-\u001b[0m \u001b[1;36m94.8998\u001b[0m\u001b[1;33m\n",
      "\u001b[0m            \u001b[1;33m-\u001b[0m \u001b[1;36m94.5101\u001b[0m\u001b[1;33m\n",
      "\u001b[0m            \u001b[1;33m-\u001b[0m \u001b[1;36m94.0181\u001b[0m\u001b[1;33m\n",
      "\u001b[0m      \u001b[0mstartcost\u001b[0m\u001b[1;33m:\u001b[0m\u001b[1;33m\n",
      "\u001b[0m        \u001b[1;36m2018\u001b[0m\u001b[1;33m-\u001b[0m\u001b[1;36m0\u001b[0m\u001b[1;36m1\u001b[0m\u001b[1;33m-\u001b[0m\u001b[1;36m23\u001b[0m \u001b[1;36m00\u001b[0m\u001b[1;33m:\u001b[0m\u001b[1;36m00\u001b[0m\u001b[1;33m:\u001b[0m\u001b[1;36m00\u001b[0m\u001b[1;33m:\u001b[0m \u001b[1;36m300\u001b[0m\u001b[1;33m\n",
      "\u001b[0m    \u001b[0mPlant2_G1\u001b[0m\u001b[1;33m:\u001b[0m\u001b[1;33m\n",
      "\u001b[0m      \u001b[0mpenstock\u001b[0m\u001b[1;33m:\u001b[0m \u001b[1;36m1\u001b[0m\u001b[1;33m\n",
      "\u001b[0m      \u001b[0mp_min\u001b[0m\u001b[1;33m:\u001b[0m \u001b[1;36m100\u001b[0m\u001b[1;33m\n",
      "\u001b[0m      \u001b[0mp_max\u001b[0m\u001b[1;33m:\u001b[0m \u001b[1;36m180\u001b[0m\u001b[1;33m\n",
      "\u001b[0m      \u001b[0mp_nom\u001b[0m\u001b[1;33m:\u001b[0m \u001b[1;36m180\u001b[0m\u001b[1;33m\n",
      "\u001b[0m      \u001b[0mgen_eff_curve\u001b[0m\u001b[1;33m:\u001b[0m\u001b[1;33m\n",
      "\u001b[0m        \u001b[0mref\u001b[0m\u001b[1;33m:\u001b[0m \u001b[1;36m0\u001b[0m\u001b[1;33m\n",
      "\u001b[0m        \u001b[0mx\u001b[0m\u001b[1;33m:\u001b[0m\u001b[1;33m\n",
      "\u001b[0m          \u001b[1;33m-\u001b[0m \u001b[1;36m100\u001b[0m\u001b[1;33m\n",
      "\u001b[0m          \u001b[1;33m-\u001b[0m \u001b[1;36m180\u001b[0m\u001b[1;33m\n",
      "\u001b[0m        \u001b[0my\u001b[0m\u001b[1;33m:\u001b[0m\u001b[1;33m\n",
      "\u001b[0m          \u001b[1;33m-\u001b[0m \u001b[1;36m100\u001b[0m\u001b[1;33m\n",
      "\u001b[0m          \u001b[1;33m-\u001b[0m \u001b[1;36m100\u001b[0m\u001b[1;33m\n",
      "\u001b[0m      \u001b[0mturb_eff_curves\u001b[0m\u001b[1;33m:\u001b[0m\u001b[1;33m\n",
      "\u001b[0m        \u001b[1;33m-\u001b[0m \u001b[0mref\u001b[0m\u001b[1;33m:\u001b[0m \u001b[1;36m60\u001b[0m\u001b[1;33m\n",
      "\u001b[0m          \u001b[0mx\u001b[0m\u001b[1;33m:\u001b[0m\u001b[1;33m\n",
      "\u001b[0m            \u001b[1;33m-\u001b[0m \u001b[1;36m126.54\u001b[0m\u001b[1;33m\n",
      "\u001b[0m            \u001b[1;33m-\u001b[0m \u001b[1;36m137.03\u001b[0m\u001b[1;33m\n",
      "\u001b[0m            \u001b[1;33m-\u001b[0m \u001b[1;36m147.51\u001b[0m\u001b[1;33m\n",
      "\u001b[0m            \u001b[1;33m-\u001b[0m \u001b[1;36m158\u001b[0m\u001b[1;33m\n",
      "\u001b[0m            \u001b[1;33m-\u001b[0m \u001b[1;36m168.53\u001b[0m\u001b[1;33m\n",
      "\u001b[0m            \u001b[1;33m-\u001b[0m \u001b[1;36m179.01\u001b[0m\u001b[1;33m\n",
      "\u001b[0m            \u001b[1;33m-\u001b[0m \u001b[1;36m189.5\u001b[0m\u001b[1;33m\n",
      "\u001b[0m            \u001b[1;33m-\u001b[0m \u001b[1;36m199.98\u001b[0m\u001b[1;33m\n",
      "\u001b[0m            \u001b[1;33m-\u001b[0m \u001b[1;36m210.47\u001b[0m\u001b[1;33m\n",
      "\u001b[0m            \u001b[1;33m-\u001b[0m \u001b[1;36m220.95\u001b[0m\u001b[1;33m\n",
      "\u001b[0m            \u001b[1;33m-\u001b[0m \u001b[1;36m231.44\u001b[0m\u001b[1;33m\n",
      "\u001b[0m            \u001b[1;33m-\u001b[0m \u001b[1;36m241.92\u001b[0m\u001b[1;33m\n",
      "\u001b[0m            \u001b[1;33m-\u001b[0m \u001b[1;36m252.45\u001b[0m\u001b[1;33m\n",
      "\u001b[0m            \u001b[1;33m-\u001b[0m \u001b[1;36m264.74\u001b[0m\u001b[1;33m\n",
      "\u001b[0m          \u001b[0my\u001b[0m\u001b[1;33m:\u001b[0m\u001b[1;33m\n",
      "\u001b[0m            \u001b[1;33m-\u001b[0m \u001b[1;36m92.7201\u001b[0m\u001b[1;33m\n",
      "\u001b[0m            \u001b[1;33m-\u001b[0m \u001b[1;36m93.2583\u001b[0m\u001b[1;33m\n",
      "\u001b[0m            \u001b[1;33m-\u001b[0m \u001b[1;36m93.7305\u001b[0m\u001b[1;33m\n",
      "\u001b[0m            \u001b[1;33m-\u001b[0m \u001b[1;36m94.1368\u001b[0m\u001b[1;33m\n",
      "\u001b[0m            \u001b[1;33m-\u001b[0m \u001b[1;36m94.4785\u001b[0m\u001b[1;33m\n",
      "\u001b[0m            \u001b[1;33m-\u001b[0m \u001b[1;36m94.7525\u001b[0m\u001b[1;33m\n",
      "\u001b[0m            \u001b[1;33m-\u001b[0m \u001b[1;36m94.9606\u001b[0m\u001b[1;33m\n",
      "\u001b[0m            \u001b[1;33m-\u001b[0m \u001b[1;36m95.1028\u001b[0m\u001b[1;33m\n",
      "\u001b[0m            \u001b[1;33m-\u001b[0m \u001b[1;36m95.179\u001b[0m\u001b[1;33m\n",
      "\u001b[0m            \u001b[1;33m-\u001b[0m \u001b[1;36m95.1892\u001b[0m\u001b[1;33m\n",
      "\u001b[0m            \u001b[1;33m-\u001b[0m \u001b[1;36m95.1335\u001b[0m\u001b[1;33m\n",
      "\u001b[0m            \u001b[1;33m-\u001b[0m \u001b[1;36m95.0118\u001b[0m\u001b[1;33m\n",
      "\u001b[0m            \u001b[1;33m-\u001b[0m \u001b[1;36m94.8232\u001b[0m\u001b[1;33m\n",
      "\u001b[0m            \u001b[1;33m-\u001b[0m \u001b[1;36m94.5191\u001b[0m\u001b[1;33m\n",
      "\u001b[0m      \u001b[0mstartcost\u001b[0m\u001b[1;33m:\u001b[0m\u001b[1;33m\n",
      "\u001b[0m        \u001b[1;36m2018\u001b[0m\u001b[1;33m-\u001b[0m\u001b[1;36m0\u001b[0m\u001b[1;36m1\u001b[0m\u001b[1;33m-\u001b[0m\u001b[1;36m23\u001b[0m \u001b[1;36m00\u001b[0m\u001b[1;33m:\u001b[0m\u001b[1;36m00\u001b[0m\u001b[1;33m:\u001b[0m\u001b[1;36m00\u001b[0m\u001b[1;33m:\u001b[0m \u001b[1;36m300\u001b[0m\u001b[1;33m\n",
      "\u001b[0m    \u001b[0mPlant2_G2\u001b[0m\u001b[1;33m:\u001b[0m\u001b[1;33m\n",
      "\u001b[0m      \u001b[0mpenstock\u001b[0m\u001b[1;33m:\u001b[0m \u001b[1;36m2\u001b[0m\u001b[1;33m\n",
      "\u001b[0m      \u001b[0mp_min\u001b[0m\u001b[1;33m:\u001b[0m \u001b[1;36m30\u001b[0m\u001b[1;33m\n",
      "\u001b[0m      \u001b[0mp_max\u001b[0m\u001b[1;33m:\u001b[0m \u001b[1;36m55\u001b[0m\u001b[1;33m\n",
      "\u001b[0m      \u001b[0mp_nom\u001b[0m\u001b[1;33m:\u001b[0m \u001b[1;36m55\u001b[0m\u001b[1;33m\n",
      "\u001b[0m      \u001b[0mgen_eff_curve\u001b[0m\u001b[1;33m:\u001b[0m\u001b[1;33m\n",
      "\u001b[0m        \u001b[0mref\u001b[0m\u001b[1;33m:\u001b[0m \u001b[1;36m0\u001b[0m\u001b[1;33m\n",
      "\u001b[0m        \u001b[0mx\u001b[0m\u001b[1;33m:\u001b[0m\u001b[1;33m\n",
      "\u001b[0m          \u001b[1;33m-\u001b[0m \u001b[1;36m30\u001b[0m\u001b[1;33m\n",
      "\u001b[0m          \u001b[1;33m-\u001b[0m \u001b[1;36m55\u001b[0m\u001b[1;33m\n",
      "\u001b[0m        \u001b[0my\u001b[0m\u001b[1;33m:\u001b[0m\u001b[1;33m\n",
      "\u001b[0m          \u001b[1;33m-\u001b[0m \u001b[1;36m100\u001b[0m\u001b[1;33m\n",
      "\u001b[0m          \u001b[1;33m-\u001b[0m \u001b[1;36m100\u001b[0m\u001b[1;33m\n",
      "\u001b[0m      \u001b[0mturb_eff_curves\u001b[0m\u001b[1;33m:\u001b[0m\u001b[1;33m\n",
      "\u001b[0m        \u001b[1;33m-\u001b[0m \u001b[0mref\u001b[0m\u001b[1;33m:\u001b[0m \u001b[1;36m60\u001b[0m\u001b[1;33m\n",
      "\u001b[0m          \u001b[0mx\u001b[0m\u001b[1;33m:\u001b[0m\u001b[1;33m\n",
      "\u001b[0m            \u001b[1;33m-\u001b[0m \u001b[1;36m40.82\u001b[0m\u001b[1;33m\n",
      "\u001b[0m            \u001b[1;33m-\u001b[0m \u001b[1;36m44.2\u001b[0m\u001b[1;33m\n",
      "\u001b[0m            \u001b[1;33m-\u001b[0m \u001b[1;36m47.58\u001b[0m\u001b[1;33m\n",
      "\u001b[0m            \u001b[1;33m-\u001b[0m \u001b[1;36m50.97\u001b[0m\u001b[1;33m\n",
      "\u001b[0m            \u001b[1;33m-\u001b[0m \u001b[1;36m54.36\u001b[0m\u001b[1;33m\n",
      "\u001b[0m            \u001b[1;33m-\u001b[0m \u001b[1;36m57.75\u001b[0m\u001b[1;33m\n",
      "\u001b[0m            \u001b[1;33m-\u001b[0m \u001b[1;36m61.13\u001b[0m\u001b[1;33m\n",
      "\u001b[0m            \u001b[1;33m-\u001b[0m \u001b[1;36m64.51\u001b[0m\u001b[1;33m\n",
      "\u001b[0m            \u001b[1;33m-\u001b[0m \u001b[1;36m67.89\u001b[0m\u001b[1;33m\n",
      "\u001b[0m            \u001b[1;33m-\u001b[0m \u001b[1;36m71.27\u001b[0m\u001b[1;33m\n",
      "\u001b[0m            \u001b[1;33m-\u001b[0m \u001b[1;36m74.66\u001b[0m\u001b[1;33m\n",
      "\u001b[0m            \u001b[1;33m-\u001b[0m \u001b[1;36m78.04\u001b[0m\u001b[1;33m\n",
      "\u001b[0m            \u001b[1;33m-\u001b[0m \u001b[1;36m81.44\u001b[0m\u001b[1;33m\n",
      "\u001b[0m            \u001b[1;33m-\u001b[0m \u001b[1;36m85.4\u001b[0m\u001b[1;33m\n",
      "\u001b[0m          \u001b[0my\u001b[0m\u001b[1;33m:\u001b[0m\u001b[1;33m\n",
      "\u001b[0m            \u001b[1;33m-\u001b[0m \u001b[1;36m83.87\u001b[0m\u001b[1;33m\n",
      "\u001b[0m            \u001b[1;33m-\u001b[0m \u001b[1;36m85.1937\u001b[0m\u001b[1;33m\n",
      "\u001b[0m            \u001b[1;33m-\u001b[0m \u001b[1;36m86.3825\u001b[0m\u001b[1;33m\n",
      "\u001b[0m            \u001b[1;33m-\u001b[0m \u001b[1;36m87.4362\u001b[0m\u001b[1;33m\n",
      "\u001b[0m            \u001b[1;33m-\u001b[0m \u001b[1;36m88.3587\u001b[0m\u001b[1;33m\n",
      "\u001b[0m            \u001b[1;33m-\u001b[0m \u001b[1;36m89.1419\u001b[0m\u001b[1;33m\n",
      "\u001b[0m            \u001b[1;33m-\u001b[0m \u001b[1;36m89.7901\u001b[0m\u001b[1;33m\n",
      "\u001b[0m            \u001b[1;33m-\u001b[0m \u001b[1;36m90.3033\u001b[0m\u001b[1;33m\n",
      "\u001b[0m            \u001b[1;33m-\u001b[0m \u001b[1;36m90.6815\u001b[0m\u001b[1;33m\n",
      "\u001b[0m            \u001b[1;33m-\u001b[0m \u001b[1;36m90.9248\u001b[0m\u001b[1;33m\n",
      "\u001b[0m            \u001b[1;33m-\u001b[0m \u001b[1;36m91.0331\u001b[0m\u001b[1;33m\n",
      "\u001b[0m            \u001b[1;33m-\u001b[0m \u001b[1;36m91.0063\u001b[0m\u001b[1;33m\n",
      "\u001b[0m            \u001b[1;33m-\u001b[0m \u001b[1;36m90.8436\u001b[0m\u001b[1;33m\n",
      "\u001b[0m            \u001b[1;33m-\u001b[0m \u001b[1;36m90.4817\u001b[0m\u001b[1;33m\n",
      "\u001b[0m      \u001b[0mstartcost\u001b[0m\u001b[1;33m:\u001b[0m\u001b[1;33m\n",
      "\u001b[0m        \u001b[1;36m2018\u001b[0m\u001b[1;33m-\u001b[0m\u001b[1;36m0\u001b[0m\u001b[1;36m1\u001b[0m\u001b[1;33m-\u001b[0m\u001b[1;36m23\u001b[0m \u001b[1;36m00\u001b[0m\u001b[1;33m:\u001b[0m\u001b[1;36m00\u001b[0m\u001b[1;33m:\u001b[0m\u001b[1;36m00\u001b[0m\u001b[1;33m:\u001b[0m \u001b[1;36m300\u001b[0m\u001b[1;33m\n",
      "\u001b[0m    \u001b[0mPlant2_G3\u001b[0m\u001b[1;33m:\u001b[0m\u001b[1;33m\n",
      "\u001b[0m      \u001b[0mpenstock\u001b[0m\u001b[1;33m:\u001b[0m \u001b[1;36m2\u001b[0m\u001b[1;33m\n",
      "\u001b[0m      \u001b[0mp_min\u001b[0m\u001b[1;33m:\u001b[0m \u001b[1;36m30\u001b[0m\u001b[1;33m\n",
      "\u001b[0m      \u001b[0mp_max\u001b[0m\u001b[1;33m:\u001b[0m \u001b[1;36m55\u001b[0m\u001b[1;33m\n",
      "\u001b[0m      \u001b[0mp_nom\u001b[0m\u001b[1;33m:\u001b[0m \u001b[1;36m55\u001b[0m\u001b[1;33m\n",
      "\u001b[0m      \u001b[0mgen_eff_curve\u001b[0m\u001b[1;33m:\u001b[0m\u001b[1;33m\n",
      "\u001b[0m        \u001b[0mref\u001b[0m\u001b[1;33m:\u001b[0m \u001b[1;36m0\u001b[0m\u001b[1;33m\n",
      "\u001b[0m        \u001b[0mx\u001b[0m\u001b[1;33m:\u001b[0m\u001b[1;33m\n",
      "\u001b[0m          \u001b[1;33m-\u001b[0m \u001b[1;36m30\u001b[0m\u001b[1;33m\n",
      "\u001b[0m          \u001b[1;33m-\u001b[0m \u001b[1;36m55\u001b[0m\u001b[1;33m\n",
      "\u001b[0m        \u001b[0my\u001b[0m\u001b[1;33m:\u001b[0m\u001b[1;33m\n",
      "\u001b[0m          \u001b[1;33m-\u001b[0m \u001b[1;36m100\u001b[0m\u001b[1;33m\n",
      "\u001b[0m          \u001b[1;33m-\u001b[0m \u001b[1;36m100\u001b[0m\u001b[1;33m\n",
      "\u001b[0m      \u001b[0mturb_eff_curves\u001b[0m\u001b[1;33m:\u001b[0m\u001b[1;33m\n",
      "\u001b[0m        \u001b[1;33m-\u001b[0m \u001b[0mref\u001b[0m\u001b[1;33m:\u001b[0m \u001b[1;36m60\u001b[0m\u001b[1;33m\n",
      "\u001b[0m          \u001b[0mx\u001b[0m\u001b[1;33m:\u001b[0m\u001b[1;33m\n",
      "\u001b[0m            \u001b[1;33m-\u001b[0m \u001b[1;36m40.82\u001b[0m\u001b[1;33m\n",
      "\u001b[0m            \u001b[1;33m-\u001b[0m \u001b[1;36m44.2\u001b[0m\u001b[1;33m\n",
      "\u001b[0m            \u001b[1;33m-\u001b[0m \u001b[1;36m47.58\u001b[0m\u001b[1;33m\n",
      "\u001b[0m            \u001b[1;33m-\u001b[0m \u001b[1;36m50.97\u001b[0m\u001b[1;33m\n",
      "\u001b[0m            \u001b[1;33m-\u001b[0m \u001b[1;36m54.36\u001b[0m\u001b[1;33m\n",
      "\u001b[0m            \u001b[1;33m-\u001b[0m \u001b[1;36m57.75\u001b[0m\u001b[1;33m\n",
      "\u001b[0m            \u001b[1;33m-\u001b[0m \u001b[1;36m61.13\u001b[0m\u001b[1;33m\n",
      "\u001b[0m            \u001b[1;33m-\u001b[0m \u001b[1;36m64.51\u001b[0m\u001b[1;33m\n",
      "\u001b[0m            \u001b[1;33m-\u001b[0m \u001b[1;36m67.89\u001b[0m\u001b[1;33m\n",
      "\u001b[0m            \u001b[1;33m-\u001b[0m \u001b[1;36m71.27\u001b[0m\u001b[1;33m\n",
      "\u001b[0m            \u001b[1;33m-\u001b[0m \u001b[1;36m74.66\u001b[0m\u001b[1;33m\n",
      "\u001b[0m            \u001b[1;33m-\u001b[0m \u001b[1;36m78.04\u001b[0m\u001b[1;33m\n",
      "\u001b[0m            \u001b[1;33m-\u001b[0m \u001b[1;36m81.44\u001b[0m\u001b[1;33m\n",
      "\u001b[0m            \u001b[1;33m-\u001b[0m \u001b[1;36m85.4\u001b[0m\u001b[1;33m\n",
      "\u001b[0m          \u001b[0my\u001b[0m\u001b[1;33m:\u001b[0m\u001b[1;33m\n",
      "\u001b[0m            \u001b[1;33m-\u001b[0m \u001b[1;36m83.87\u001b[0m\u001b[1;33m\n",
      "\u001b[0m            \u001b[1;33m-\u001b[0m \u001b[1;36m85.1937\u001b[0m\u001b[1;33m\n",
      "\u001b[0m            \u001b[1;33m-\u001b[0m \u001b[1;36m86.3825\u001b[0m\u001b[1;33m\n",
      "\u001b[0m            \u001b[1;33m-\u001b[0m \u001b[1;36m87.4362\u001b[0m\u001b[1;33m\n",
      "\u001b[0m            \u001b[1;33m-\u001b[0m \u001b[1;36m88.3587\u001b[0m\u001b[1;33m\n",
      "\u001b[0m            \u001b[1;33m-\u001b[0m \u001b[1;36m89.1419\u001b[0m\u001b[1;33m\n",
      "\u001b[0m            \u001b[1;33m-\u001b[0m \u001b[1;36m89.7901\u001b[0m\u001b[1;33m\n",
      "\u001b[0m            \u001b[1;33m-\u001b[0m \u001b[1;36m90.3033\u001b[0m\u001b[1;33m\n",
      "\u001b[0m            \u001b[1;33m-\u001b[0m \u001b[1;36m90.6815\u001b[0m\u001b[1;33m\n",
      "\u001b[0m            \u001b[1;33m-\u001b[0m \u001b[1;36m90.9248\u001b[0m\u001b[1;33m\n",
      "\u001b[0m            \u001b[1;33m-\u001b[0m \u001b[1;36m91.0331\u001b[0m\u001b[1;33m\n",
      "\u001b[0m            \u001b[1;33m-\u001b[0m \u001b[1;36m91.0063\u001b[0m\u001b[1;33m\n",
      "\u001b[0m            \u001b[1;33m-\u001b[0m \u001b[1;36m90.8436\u001b[0m\u001b[1;33m\n",
      "\u001b[0m            \u001b[1;33m-\u001b[0m \u001b[1;36m90.4817\u001b[0m\u001b[1;33m\n",
      "\u001b[0m      \u001b[0mstartcost\u001b[0m\u001b[1;33m:\u001b[0m\u001b[1;33m\n",
      "\u001b[0m        \u001b[1;36m2018\u001b[0m\u001b[1;33m-\u001b[0m\u001b[1;36m0\u001b[0m\u001b[1;36m1\u001b[0m\u001b[1;33m-\u001b[0m\u001b[1;36m23\u001b[0m \u001b[1;36m00\u001b[0m\u001b[1;33m:\u001b[0m\u001b[1;36m00\u001b[0m\u001b[1;33m:\u001b[0m\u001b[1;36m00\u001b[0m\u001b[1;33m:\u001b[0m \u001b[1;36m300\u001b[0m\u001b[1;33m\n",
      "\u001b[0m    \u001b[0mPlant2_G4\u001b[0m\u001b[1;33m:\u001b[0m\u001b[1;33m\n",
      "\u001b[0m      \u001b[0mpenstock\u001b[0m\u001b[1;33m:\u001b[0m \u001b[1;36m2\u001b[0m\u001b[1;33m\n",
      "\u001b[0m      \u001b[0mp_min\u001b[0m\u001b[1;33m:\u001b[0m \u001b[1;36m30\u001b[0m\u001b[1;33m\n",
      "\u001b[0m      \u001b[0mp_max\u001b[0m\u001b[1;33m:\u001b[0m \u001b[1;36m55\u001b[0m\u001b[1;33m\n",
      "\u001b[0m      \u001b[0mp_nom\u001b[0m\u001b[1;33m:\u001b[0m \u001b[1;36m55\u001b[0m\u001b[1;33m\n",
      "\u001b[0m      \u001b[0mgen_eff_curve\u001b[0m\u001b[1;33m:\u001b[0m\u001b[1;33m\n",
      "\u001b[0m        \u001b[0mref\u001b[0m\u001b[1;33m:\u001b[0m \u001b[1;36m0\u001b[0m\u001b[1;33m\n",
      "\u001b[0m        \u001b[0mx\u001b[0m\u001b[1;33m:\u001b[0m\u001b[1;33m\n",
      "\u001b[0m          \u001b[1;33m-\u001b[0m \u001b[1;36m30\u001b[0m\u001b[1;33m\n",
      "\u001b[0m          \u001b[1;33m-\u001b[0m \u001b[1;36m55\u001b[0m\u001b[1;33m\n",
      "\u001b[0m        \u001b[0my\u001b[0m\u001b[1;33m:\u001b[0m\u001b[1;33m\n",
      "\u001b[0m          \u001b[1;33m-\u001b[0m \u001b[1;36m100\u001b[0m\u001b[1;33m\n",
      "\u001b[0m          \u001b[1;33m-\u001b[0m \u001b[1;36m100\u001b[0m\u001b[1;33m\n",
      "\u001b[0m      \u001b[0mturb_eff_curves\u001b[0m\u001b[1;33m:\u001b[0m\u001b[1;33m\n",
      "\u001b[0m        \u001b[1;33m-\u001b[0m \u001b[0mref\u001b[0m\u001b[1;33m:\u001b[0m \u001b[1;36m60\u001b[0m\u001b[1;33m\n",
      "\u001b[0m          \u001b[0mx\u001b[0m\u001b[1;33m:\u001b[0m\u001b[1;33m\n",
      "\u001b[0m            \u001b[1;33m-\u001b[0m \u001b[1;36m40.82\u001b[0m\u001b[1;33m\n",
      "\u001b[0m            \u001b[1;33m-\u001b[0m \u001b[1;36m44.2\u001b[0m\u001b[1;33m\n",
      "\u001b[0m            \u001b[1;33m-\u001b[0m \u001b[1;36m47.58\u001b[0m\u001b[1;33m\n",
      "\u001b[0m            \u001b[1;33m-\u001b[0m \u001b[1;36m50.97\u001b[0m\u001b[1;33m\n",
      "\u001b[0m            \u001b[1;33m-\u001b[0m \u001b[1;36m54.36\u001b[0m\u001b[1;33m\n",
      "\u001b[0m            \u001b[1;33m-\u001b[0m \u001b[1;36m57.75\u001b[0m\u001b[1;33m\n",
      "\u001b[0m            \u001b[1;33m-\u001b[0m \u001b[1;36m61.13\u001b[0m\u001b[1;33m\n",
      "\u001b[0m            \u001b[1;33m-\u001b[0m \u001b[1;36m64.51\u001b[0m\u001b[1;33m\n",
      "\u001b[0m            \u001b[1;33m-\u001b[0m \u001b[1;36m67.89\u001b[0m\u001b[1;33m\n",
      "\u001b[0m            \u001b[1;33m-\u001b[0m \u001b[1;36m71.27\u001b[0m\u001b[1;33m\n",
      "\u001b[0m            \u001b[1;33m-\u001b[0m \u001b[1;36m74.66\u001b[0m\u001b[1;33m\n",
      "\u001b[0m            \u001b[1;33m-\u001b[0m \u001b[1;36m78.04\u001b[0m\u001b[1;33m\n",
      "\u001b[0m            \u001b[1;33m-\u001b[0m \u001b[1;36m81.44\u001b[0m\u001b[1;33m\n",
      "\u001b[0m            \u001b[1;33m-\u001b[0m \u001b[1;36m85.4\u001b[0m\u001b[1;33m\n",
      "\u001b[0m          \u001b[0my\u001b[0m\u001b[1;33m:\u001b[0m\u001b[1;33m\n",
      "\u001b[0m            \u001b[1;33m-\u001b[0m \u001b[1;36m83.87\u001b[0m\u001b[1;33m\n",
      "\u001b[0m            \u001b[1;33m-\u001b[0m \u001b[1;36m85.1937\u001b[0m\u001b[1;33m\n",
      "\u001b[0m            \u001b[1;33m-\u001b[0m \u001b[1;36m86.3825\u001b[0m\u001b[1;33m\n",
      "\u001b[0m            \u001b[1;33m-\u001b[0m \u001b[1;36m87.4362\u001b[0m\u001b[1;33m\n",
      "\u001b[0m            \u001b[1;33m-\u001b[0m \u001b[1;36m88.3587\u001b[0m\u001b[1;33m\n",
      "\u001b[0m            \u001b[1;33m-\u001b[0m \u001b[1;36m89.1419\u001b[0m\u001b[1;33m\n",
      "\u001b[0m            \u001b[1;33m-\u001b[0m \u001b[1;36m89.7901\u001b[0m\u001b[1;33m\n",
      "\u001b[0m            \u001b[1;33m-\u001b[0m \u001b[1;36m90.3033\u001b[0m\u001b[1;33m\n",
      "\u001b[0m            \u001b[1;33m-\u001b[0m \u001b[1;36m90.6815\u001b[0m\u001b[1;33m\n",
      "\u001b[0m            \u001b[1;33m-\u001b[0m \u001b[1;36m90.9248\u001b[0m\u001b[1;33m\n",
      "\u001b[0m            \u001b[1;33m-\u001b[0m \u001b[1;36m91.0331\u001b[0m\u001b[1;33m\n",
      "\u001b[0m            \u001b[1;33m-\u001b[0m \u001b[1;36m91.0063\u001b[0m\u001b[1;33m\n",
      "\u001b[0m            \u001b[1;33m-\u001b[0m \u001b[1;36m90.8436\u001b[0m\u001b[1;33m\n",
      "\u001b[0m            \u001b[1;33m-\u001b[0m \u001b[1;36m90.4817\u001b[0m\u001b[1;33m\n",
      "\u001b[0m      \u001b[0mstartcost\u001b[0m\u001b[1;33m:\u001b[0m\u001b[1;33m\n",
      "\u001b[0m        \u001b[1;36m2018\u001b[0m\u001b[1;33m-\u001b[0m\u001b[1;36m0\u001b[0m\u001b[1;36m1\u001b[0m\u001b[1;33m-\u001b[0m\u001b[1;36m23\u001b[0m \u001b[1;36m00\u001b[0m\u001b[1;33m:\u001b[0m\u001b[1;36m00\u001b[0m\u001b[1;33m:\u001b[0m\u001b[1;36m00\u001b[0m\u001b[1;33m:\u001b[0m \u001b[1;36m300\u001b[0m\u001b[1;33m\n",
      "\u001b[0m  \u001b[0mmarket\u001b[0m\u001b[1;33m:\u001b[0m\u001b[1;33m\n",
      "\u001b[0m    \u001b[0mDay_ahead\u001b[0m\u001b[1;33m:\u001b[0m\u001b[1;33m\n",
      "\u001b[0m      \u001b[0mmarket_type\u001b[0m\u001b[1;33m:\u001b[0m \u001b[0mENERGY\u001b[0m\u001b[1;33m\n",
      "\u001b[0m      \u001b[0mmax_buy\u001b[0m\u001b[1;33m:\u001b[0m\u001b[1;33m\n",
      "\u001b[0m        \u001b[1;36m2018\u001b[0m\u001b[1;33m-\u001b[0m\u001b[1;36m0\u001b[0m\u001b[1;36m1\u001b[0m\u001b[1;33m-\u001b[0m\u001b[1;36m23\u001b[0m \u001b[1;36m00\u001b[0m\u001b[1;33m:\u001b[0m\u001b[1;36m00\u001b[0m\u001b[1;33m:\u001b[0m\u001b[1;36m00\u001b[0m\u001b[1;33m:\u001b[0m \u001b[1;36m9999\u001b[0m\u001b[1;33m\n",
      "\u001b[0m      \u001b[0mmax_sale\u001b[0m\u001b[1;33m:\u001b[0m\u001b[1;33m\n",
      "\u001b[0m        \u001b[1;36m2018\u001b[0m\u001b[1;33m-\u001b[0m\u001b[1;36m0\u001b[0m\u001b[1;36m1\u001b[0m\u001b[1;33m-\u001b[0m\u001b[1;36m23\u001b[0m \u001b[1;36m00\u001b[0m\u001b[1;33m:\u001b[0m\u001b[1;36m00\u001b[0m\u001b[1;33m:\u001b[0m\u001b[1;36m00\u001b[0m\u001b[1;33m:\u001b[0m \u001b[1;36m9999\u001b[0m\u001b[1;33m\n",
      "\u001b[0m      \u001b[0mbuy_price\u001b[0m\u001b[1;33m:\u001b[0m\u001b[1;33m\n",
      "\u001b[0m        \u001b[1;36m2018\u001b[0m\u001b[1;33m-\u001b[0m\u001b[1;36m0\u001b[0m\u001b[1;36m1\u001b[0m\u001b[1;33m-\u001b[0m\u001b[1;36m23\u001b[0m \u001b[1;36m00\u001b[0m\u001b[1;33m:\u001b[0m\u001b[1;36m00\u001b[0m\u001b[1;33m:\u001b[0m\u001b[1;36m00\u001b[0m\u001b[1;33m:\u001b[0m \u001b[1;36m32.994\u001b[0m\u001b[1;33m\n",
      "\u001b[0m        \u001b[1;36m2018\u001b[0m\u001b[1;33m-\u001b[0m\u001b[1;36m0\u001b[0m\u001b[1;36m1\u001b[0m\u001b[1;33m-\u001b[0m\u001b[1;36m23\u001b[0m \u001b[1;36m0\u001b[0m\u001b[1;36m1\u001b[0m\u001b[1;33m:\u001b[0m\u001b[1;36m00\u001b[0m\u001b[1;33m:\u001b[0m\u001b[1;36m00\u001b[0m\u001b[1;33m:\u001b[0m \u001b[1;36m31.124\u001b[0m\u001b[1;33m\n",
      "\u001b[0m        \u001b[1;36m2018\u001b[0m\u001b[1;33m-\u001b[0m\u001b[1;36m0\u001b[0m\u001b[1;36m1\u001b[0m\u001b[1;33m-\u001b[0m\u001b[1;36m23\u001b[0m \u001b[1;36m0\u001b[0m\u001b[1;36m2\u001b[0m\u001b[1;33m:\u001b[0m\u001b[1;36m00\u001b[0m\u001b[1;33m:\u001b[0m\u001b[1;36m00\u001b[0m\u001b[1;33m:\u001b[0m \u001b[1;36m29.314\u001b[0m\u001b[1;33m\n",
      "\u001b[0m        \u001b[1;36m2018\u001b[0m\u001b[1;33m-\u001b[0m\u001b[1;36m0\u001b[0m\u001b[1;36m1\u001b[0m\u001b[1;33m-\u001b[0m\u001b[1;36m23\u001b[0m \u001b[1;36m0\u001b[0m\u001b[1;36m3\u001b[0m\u001b[1;33m:\u001b[0m\u001b[1;36m00\u001b[0m\u001b[1;33m:\u001b[0m\u001b[1;36m00\u001b[0m\u001b[1;33m:\u001b[0m \u001b[1;36m28.074\u001b[0m\u001b[1;33m\n",
      "\u001b[0m        \u001b[1;36m2018\u001b[0m\u001b[1;33m-\u001b[0m\u001b[1;36m0\u001b[0m\u001b[1;36m1\u001b[0m\u001b[1;33m-\u001b[0m\u001b[1;36m23\u001b[0m \u001b[1;36m0\u001b[0m\u001b[1;36m4\u001b[0m\u001b[1;33m:\u001b[0m\u001b[1;36m00\u001b[0m\u001b[1;33m:\u001b[0m\u001b[1;36m00\u001b[0m\u001b[1;33m:\u001b[0m \u001b[1;36m30.014\u001b[0m\u001b[1;33m\n",
      "\u001b[0m        \u001b[1;36m2018\u001b[0m\u001b[1;33m-\u001b[0m\u001b[1;36m0\u001b[0m\u001b[1;36m1\u001b[0m\u001b[1;33m-\u001b[0m\u001b[1;36m23\u001b[0m \u001b[1;36m0\u001b[0m\u001b[1;36m5\u001b[0m\u001b[1;33m:\u001b[0m\u001b[1;36m00\u001b[0m\u001b[1;33m:\u001b[0m\u001b[1;36m00\u001b[0m\u001b[1;33m:\u001b[0m \u001b[1;36m33.364\u001b[0m\u001b[1;33m\n",
      "\u001b[0m        \u001b[1;36m2018\u001b[0m\u001b[1;33m-\u001b[0m\u001b[1;36m0\u001b[0m\u001b[1;36m1\u001b[0m\u001b[1;33m-\u001b[0m\u001b[1;36m23\u001b[0m \u001b[1;36m0\u001b[0m\u001b[1;36m6\u001b[0m\u001b[1;33m:\u001b[0m\u001b[1;36m00\u001b[0m\u001b[1;33m:\u001b[0m\u001b[1;36m00\u001b[0m\u001b[1;33m:\u001b[0m \u001b[1;36m42.684\u001b[0m\u001b[1;33m\n",
      "\u001b[0m        \u001b[1;36m2018\u001b[0m\u001b[1;33m-\u001b[0m\u001b[1;36m0\u001b[0m\u001b[1;36m1\u001b[0m\u001b[1;33m-\u001b[0m\u001b[1;36m23\u001b[0m \u001b[1;36m0\u001b[0m\u001b[1;36m7\u001b[0m\u001b[1;33m:\u001b[0m\u001b[1;36m00\u001b[0m\u001b[1;33m:\u001b[0m\u001b[1;36m00\u001b[0m\u001b[1;33m:\u001b[0m \u001b[1;36m74.824\u001b[0m\u001b[1;33m\n",
      "\u001b[0m        \u001b[1;36m2018\u001b[0m\u001b[1;33m-\u001b[0m\u001b[1;36m0\u001b[0m\u001b[1;36m1\u001b[0m\u001b[1;33m-\u001b[0m\u001b[1;36m23\u001b[0m \u001b[1;36m0\u001b[0m\u001b[1;36m8\u001b[0m\u001b[1;33m:\u001b[0m\u001b[1;36m00\u001b[0m\u001b[1;33m:\u001b[0m\u001b[1;36m00\u001b[0m\u001b[1;33m:\u001b[0m \u001b[1;36m77.734\u001b[0m\u001b[1;33m\n",
      "\u001b[0m        \u001b[1;36m2018\u001b[0m\u001b[1;33m-\u001b[0m\u001b[1;36m0\u001b[0m\u001b[1;36m1\u001b[0m\u001b[1;33m-\u001b[0m\u001b[1;36m23\u001b[0m \u001b[1;36m0\u001b[0m\u001b[1;36m9\u001b[0m\u001b[1;33m:\u001b[0m\u001b[1;36m00\u001b[0m\u001b[1;33m:\u001b[0m\u001b[1;36m00\u001b[0m\u001b[1;33m:\u001b[0m \u001b[1;36m62.334\u001b[0m\u001b[1;33m\n",
      "\u001b[0m        \u001b[1;36m2018\u001b[0m\u001b[1;33m-\u001b[0m\u001b[1;36m0\u001b[0m\u001b[1;36m1\u001b[0m\u001b[1;33m-\u001b[0m\u001b[1;36m23\u001b[0m \u001b[1;36m10\u001b[0m\u001b[1;33m:\u001b[0m\u001b[1;36m00\u001b[0m\u001b[1;33m:\u001b[0m\u001b[1;36m00\u001b[0m\u001b[1;33m:\u001b[0m \u001b[1;36m55.894\u001b[0m\u001b[1;33m\n",
      "\u001b[0m        \u001b[1;36m2018\u001b[0m\u001b[1;33m-\u001b[0m\u001b[1;36m0\u001b[0m\u001b[1;36m1\u001b[0m\u001b[1;33m-\u001b[0m\u001b[1;36m23\u001b[0m \u001b[1;36m11\u001b[0m\u001b[1;33m:\u001b[0m\u001b[1;36m00\u001b[0m\u001b[1;33m:\u001b[0m\u001b[1;36m00\u001b[0m\u001b[1;33m:\u001b[0m \u001b[1;36m46.964\u001b[0m\u001b[1;33m\n",
      "\u001b[0m        \u001b[1;36m2018\u001b[0m\u001b[1;33m-\u001b[0m\u001b[1;36m0\u001b[0m\u001b[1;36m1\u001b[0m\u001b[1;33m-\u001b[0m\u001b[1;36m23\u001b[0m \u001b[1;36m12\u001b[0m\u001b[1;33m:\u001b[0m\u001b[1;36m00\u001b[0m\u001b[1;33m:\u001b[0m\u001b[1;36m00\u001b[0m\u001b[1;33m:\u001b[0m \u001b[1;36m42.584\u001b[0m\u001b[1;33m\n",
      "\u001b[0m        \u001b[1;36m2018\u001b[0m\u001b[1;33m-\u001b[0m\u001b[1;36m0\u001b[0m\u001b[1;36m1\u001b[0m\u001b[1;33m-\u001b[0m\u001b[1;36m23\u001b[0m \u001b[1;36m13\u001b[0m\u001b[1;33m:\u001b[0m\u001b[1;36m00\u001b[0m\u001b[1;33m:\u001b[0m\u001b[1;36m00\u001b[0m\u001b[1;33m:\u001b[0m \u001b[1;36m40.944\u001b[0m\u001b[1;33m\n",
      "\u001b[0m        \u001b[1;36m2018\u001b[0m\u001b[1;33m-\u001b[0m\u001b[1;36m0\u001b[0m\u001b[1;36m1\u001b[0m\u001b[1;33m-\u001b[0m\u001b[1;36m23\u001b[0m \u001b[1;36m14\u001b[0m\u001b[1;33m:\u001b[0m\u001b[1;36m00\u001b[0m\u001b[1;33m:\u001b[0m\u001b[1;36m00\u001b[0m\u001b[1;33m:\u001b[0m \u001b[1;36m39.214\u001b[0m\u001b[1;33m\n",
      "\u001b[0m        \u001b[1;36m2018\u001b[0m\u001b[1;33m-\u001b[0m\u001b[1;36m0\u001b[0m\u001b[1;36m1\u001b[0m\u001b[1;33m-\u001b[0m\u001b[1;36m23\u001b[0m \u001b[1;36m15\u001b[0m\u001b[1;33m:\u001b[0m\u001b[1;36m00\u001b[0m\u001b[1;33m:\u001b[0m\u001b[1;36m00\u001b[0m\u001b[1;33m:\u001b[0m \u001b[1;36m39.144\u001b[0m\u001b[1;33m\n",
      "\u001b[0m        \u001b[1;36m2018\u001b[0m\u001b[1;33m-\u001b[0m\u001b[1;36m0\u001b[0m\u001b[1;36m1\u001b[0m\u001b[1;33m-\u001b[0m\u001b[1;36m23\u001b[0m \u001b[1;36m16\u001b[0m\u001b[1;33m:\u001b[0m\u001b[1;36m00\u001b[0m\u001b[1;33m:\u001b[0m\u001b[1;36m00\u001b[0m\u001b[1;33m:\u001b[0m \u001b[1;36m41.674\u001b[0m\u001b[1;33m\n",
      "\u001b[0m        \u001b[1;36m2018\u001b[0m\u001b[1;33m-\u001b[0m\u001b[1;36m0\u001b[0m\u001b[1;36m1\u001b[0m\u001b[1;33m-\u001b[0m\u001b[1;36m23\u001b[0m \u001b[1;36m17\u001b[0m\u001b[1;33m:\u001b[0m\u001b[1;36m00\u001b[0m\u001b[1;33m:\u001b[0m\u001b[1;36m00\u001b[0m\u001b[1;33m:\u001b[0m \u001b[1;36m46.924\u001b[0m\u001b[1;33m\n",
      "\u001b[0m        \u001b[1;36m2018\u001b[0m\u001b[1;33m-\u001b[0m\u001b[1;36m0\u001b[0m\u001b[1;36m1\u001b[0m\u001b[1;33m-\u001b[0m\u001b[1;36m23\u001b[0m \u001b[1;36m18\u001b[0m\u001b[1;33m:\u001b[0m\u001b[1;36m00\u001b[0m\u001b[1;33m:\u001b[0m\u001b[1;36m00\u001b[0m\u001b[1;33m:\u001b[0m \u001b[1;36m37.104\u001b[0m\u001b[1;33m\n",
      "\u001b[0m        \u001b[1;36m2018\u001b[0m\u001b[1;33m-\u001b[0m\u001b[1;36m0\u001b[0m\u001b[1;36m1\u001b[0m\u001b[1;33m-\u001b[0m\u001b[1;36m23\u001b[0m \u001b[1;36m19\u001b[0m\u001b[1;33m:\u001b[0m\u001b[1;36m00\u001b[0m\u001b[1;33m:\u001b[0m\u001b[1;36m00\u001b[0m\u001b[1;33m:\u001b[0m \u001b[1;36m32.994\u001b[0m\u001b[1;33m\n",
      "\u001b[0m        \u001b[1;36m2018\u001b[0m\u001b[1;33m-\u001b[0m\u001b[1;36m0\u001b[0m\u001b[1;36m1\u001b[0m\u001b[1;33m-\u001b[0m\u001b[1;36m23\u001b[0m \u001b[1;36m20\u001b[0m\u001b[1;33m:\u001b[0m\u001b[1;36m00\u001b[0m\u001b[1;33m:\u001b[0m\u001b[1;36m00\u001b[0m\u001b[1;33m:\u001b[0m \u001b[1;36m31.274\u001b[0m\u001b[1;33m\n",
      "\u001b[0m        \u001b[1;36m2018\u001b[0m\u001b[1;33m-\u001b[0m\u001b[1;36m0\u001b[0m\u001b[1;36m1\u001b[0m\u001b[1;33m-\u001b[0m\u001b[1;36m23\u001b[0m \u001b[1;36m21\u001b[0m\u001b[1;33m:\u001b[0m\u001b[1;36m00\u001b[0m\u001b[1;33m:\u001b[0m\u001b[1;36m00\u001b[0m\u001b[1;33m:\u001b[0m \u001b[1;36m29.754\u001b[0m\u001b[1;33m\n",
      "\u001b[0m        \u001b[1;36m2018\u001b[0m\u001b[1;33m-\u001b[0m\u001b[1;36m0\u001b[0m\u001b[1;36m1\u001b[0m\u001b[1;33m-\u001b[0m\u001b[1;36m23\u001b[0m \u001b[1;36m22\u001b[0m\u001b[1;33m:\u001b[0m\u001b[1;36m00\u001b[0m\u001b[1;33m:\u001b[0m\u001b[1;36m00\u001b[0m\u001b[1;33m:\u001b[0m \u001b[1;36m28.784\u001b[0m\u001b[1;33m\n",
      "\u001b[0m        \u001b[1;36m2018\u001b[0m\u001b[1;33m-\u001b[0m\u001b[1;36m0\u001b[0m\u001b[1;36m1\u001b[0m\u001b[1;33m-\u001b[0m\u001b[1;36m23\u001b[0m \u001b[1;36m23\u001b[0m\u001b[1;33m:\u001b[0m\u001b[1;36m00\u001b[0m\u001b[1;33m:\u001b[0m\u001b[1;36m00\u001b[0m\u001b[1;33m:\u001b[0m \u001b[1;36m28.084\u001b[0m\u001b[1;33m\n",
      "\u001b[0m        \u001b[1;36m2018\u001b[0m\u001b[1;33m-\u001b[0m\u001b[1;36m0\u001b[0m\u001b[1;36m1\u001b[0m\u001b[1;33m-\u001b[0m\u001b[1;36m24\u001b[0m \u001b[1;36m00\u001b[0m\u001b[1;33m:\u001b[0m\u001b[1;36m00\u001b[0m\u001b[1;33m:\u001b[0m\u001b[1;36m00\u001b[0m\u001b[1;33m:\u001b[0m \u001b[1;36m27.244\u001b[0m\u001b[1;33m\n",
      "\u001b[0m        \u001b[1;36m2018\u001b[0m\u001b[1;33m-\u001b[0m\u001b[1;36m0\u001b[0m\u001b[1;36m1\u001b[0m\u001b[1;33m-\u001b[0m\u001b[1;36m24\u001b[0m \u001b[1;36m0\u001b[0m\u001b[1;36m1\u001b[0m\u001b[1;33m:\u001b[0m\u001b[1;36m00\u001b[0m\u001b[1;33m:\u001b[0m\u001b[1;36m00\u001b[0m\u001b[1;33m:\u001b[0m \u001b[1;36m26.624\u001b[0m\u001b[1;33m\n",
      "\u001b[0m        \u001b[1;36m2018\u001b[0m\u001b[1;33m-\u001b[0m\u001b[1;36m0\u001b[0m\u001b[1;36m1\u001b[0m\u001b[1;33m-\u001b[0m\u001b[1;36m24\u001b[0m \u001b[1;36m0\u001b[0m\u001b[1;36m2\u001b[0m\u001b[1;33m:\u001b[0m\u001b[1;36m00\u001b[0m\u001b[1;33m:\u001b[0m\u001b[1;36m00\u001b[0m\u001b[1;33m:\u001b[0m \u001b[1;36m25.734\u001b[0m\u001b[1;33m\n",
      "\u001b[0m        \u001b[1;36m2018\u001b[0m\u001b[1;33m-\u001b[0m\u001b[1;36m0\u001b[0m\u001b[1;36m1\u001b[0m\u001b[1;33m-\u001b[0m\u001b[1;36m24\u001b[0m \u001b[1;36m0\u001b[0m\u001b[1;36m3\u001b[0m\u001b[1;33m:\u001b[0m\u001b[1;36m00\u001b[0m\u001b[1;33m:\u001b[0m\u001b[1;36m00\u001b[0m\u001b[1;33m:\u001b[0m \u001b[1;36m25.394\u001b[0m\u001b[1;33m\n",
      "\u001b[0m        \u001b[1;36m2018\u001b[0m\u001b[1;33m-\u001b[0m\u001b[1;36m0\u001b[0m\u001b[1;36m1\u001b[0m\u001b[1;33m-\u001b[0m\u001b[1;36m24\u001b[0m \u001b[1;36m0\u001b[0m\u001b[1;36m4\u001b[0m\u001b[1;33m:\u001b[0m\u001b[1;36m00\u001b[0m\u001b[1;33m:\u001b[0m\u001b[1;36m00\u001b[0m\u001b[1;33m:\u001b[0m \u001b[1;36m25.994\u001b[0m\u001b[1;33m\n",
      "\u001b[0m        \u001b[1;36m2018\u001b[0m\u001b[1;33m-\u001b[0m\u001b[1;36m0\u001b[0m\u001b[1;36m1\u001b[0m\u001b[1;33m-\u001b[0m\u001b[1;36m24\u001b[0m \u001b[1;36m0\u001b[0m\u001b[1;36m5\u001b[0m\u001b[1;33m:\u001b[0m\u001b[1;36m00\u001b[0m\u001b[1;33m:\u001b[0m\u001b[1;36m00\u001b[0m\u001b[1;33m:\u001b[0m \u001b[1;36m27.404\u001b[0m\u001b[1;33m\n",
      "\u001b[0m        \u001b[1;36m2018\u001b[0m\u001b[1;33m-\u001b[0m\u001b[1;36m0\u001b[0m\u001b[1;36m1\u001b[0m\u001b[1;33m-\u001b[0m\u001b[1;36m24\u001b[0m \u001b[1;36m0\u001b[0m\u001b[1;36m6\u001b[0m\u001b[1;33m:\u001b[0m\u001b[1;36m00\u001b[0m\u001b[1;33m:\u001b[0m\u001b[1;36m00\u001b[0m\u001b[1;33m:\u001b[0m \u001b[1;36m28.944\u001b[0m\u001b[1;33m\n",
      "\u001b[0m        \u001b[1;36m2018\u001b[0m\u001b[1;33m-\u001b[0m\u001b[1;36m0\u001b[0m\u001b[1;36m1\u001b[0m\u001b[1;33m-\u001b[0m\u001b[1;36m24\u001b[0m \u001b[1;36m0\u001b[0m\u001b[1;36m7\u001b[0m\u001b[1;33m:\u001b[0m\u001b[1;36m00\u001b[0m\u001b[1;33m:\u001b[0m\u001b[1;36m00\u001b[0m\u001b[1;33m:\u001b[0m \u001b[1;36m32.184\u001b[0m\u001b[1;33m\n",
      "\u001b[0m        \u001b[1;36m2018\u001b[0m\u001b[1;33m-\u001b[0m\u001b[1;36m0\u001b[0m\u001b[1;36m1\u001b[0m\u001b[1;33m-\u001b[0m\u001b[1;36m24\u001b[0m \u001b[1;36m0\u001b[0m\u001b[1;36m8\u001b[0m\u001b[1;33m:\u001b[0m\u001b[1;36m00\u001b[0m\u001b[1;33m:\u001b[0m\u001b[1;36m00\u001b[0m\u001b[1;33m:\u001b[0m \u001b[1;36m33.084\u001b[0m\u001b[1;33m\n",
      "\u001b[0m        \u001b[1;36m2018\u001b[0m\u001b[1;33m-\u001b[0m\u001b[1;36m0\u001b[0m\u001b[1;36m1\u001b[0m\u001b[1;33m-\u001b[0m\u001b[1;36m24\u001b[0m \u001b[1;36m0\u001b[0m\u001b[1;36m9\u001b[0m\u001b[1;33m:\u001b[0m\u001b[1;36m00\u001b[0m\u001b[1;33m:\u001b[0m\u001b[1;36m00\u001b[0m\u001b[1;33m:\u001b[0m \u001b[1;36m32.344\u001b[0m\u001b[1;33m\n",
      "\u001b[0m        \u001b[1;36m2018\u001b[0m\u001b[1;33m-\u001b[0m\u001b[1;36m0\u001b[0m\u001b[1;36m1\u001b[0m\u001b[1;33m-\u001b[0m\u001b[1;36m24\u001b[0m \u001b[1;36m10\u001b[0m\u001b[1;33m:\u001b[0m\u001b[1;36m00\u001b[0m\u001b[1;33m:\u001b[0m\u001b[1;36m00\u001b[0m\u001b[1;33m:\u001b[0m \u001b[1;36m30.914\u001b[0m\u001b[1;33m\n",
      "\u001b[0m        \u001b[1;36m2018\u001b[0m\u001b[1;33m-\u001b[0m\u001b[1;36m0\u001b[0m\u001b[1;36m1\u001b[0m\u001b[1;33m-\u001b[0m\u001b[1;36m24\u001b[0m \u001b[1;36m11\u001b[0m\u001b[1;33m:\u001b[0m\u001b[1;36m00\u001b[0m\u001b[1;33m:\u001b[0m\u001b[1;36m00\u001b[0m\u001b[1;33m:\u001b[0m \u001b[1;36m30.164\u001b[0m\u001b[1;33m\n",
      "\u001b[0m        \u001b[1;36m2018\u001b[0m\u001b[1;33m-\u001b[0m\u001b[1;36m0\u001b[0m\u001b[1;36m1\u001b[0m\u001b[1;33m-\u001b[0m\u001b[1;36m24\u001b[0m \u001b[1;36m12\u001b[0m\u001b[1;33m:\u001b[0m\u001b[1;36m00\u001b[0m\u001b[1;33m:\u001b[0m\u001b[1;36m00\u001b[0m\u001b[1;33m:\u001b[0m \u001b[1;36m30.064\u001b[0m\u001b[1;33m\n",
      "\u001b[0m        \u001b[1;36m2018\u001b[0m\u001b[1;33m-\u001b[0m\u001b[1;36m0\u001b[0m\u001b[1;36m1\u001b[0m\u001b[1;33m-\u001b[0m\u001b[1;36m24\u001b[0m \u001b[1;36m13\u001b[0m\u001b[1;33m:\u001b[0m\u001b[1;36m00\u001b[0m\u001b[1;33m:\u001b[0m\u001b[1;36m00\u001b[0m\u001b[1;33m:\u001b[0m \u001b[1;36m29.564\u001b[0m\u001b[1;33m\n",
      "\u001b[0m        \u001b[1;36m2018\u001b[0m\u001b[1;33m-\u001b[0m\u001b[1;36m0\u001b[0m\u001b[1;36m1\u001b[0m\u001b[1;33m-\u001b[0m\u001b[1;36m24\u001b[0m \u001b[1;36m14\u001b[0m\u001b[1;33m:\u001b[0m\u001b[1;36m00\u001b[0m\u001b[1;33m:\u001b[0m\u001b[1;36m00\u001b[0m\u001b[1;33m:\u001b[0m \u001b[1;36m29.464\u001b[0m\u001b[1;33m\n",
      "\u001b[0m        \u001b[1;36m2018\u001b[0m\u001b[1;33m-\u001b[0m\u001b[1;36m0\u001b[0m\u001b[1;36m1\u001b[0m\u001b[1;33m-\u001b[0m\u001b[1;36m24\u001b[0m \u001b[1;36m15\u001b[0m\u001b[1;33m:\u001b[0m\u001b[1;36m00\u001b[0m\u001b[1;33m:\u001b[0m\u001b[1;36m00\u001b[0m\u001b[1;33m:\u001b[0m \u001b[1;36m29.514\u001b[0m\u001b[1;33m\n",
      "\u001b[0m        \u001b[1;36m2018\u001b[0m\u001b[1;33m-\u001b[0m\u001b[1;36m0\u001b[0m\u001b[1;36m1\u001b[0m\u001b[1;33m-\u001b[0m\u001b[1;36m24\u001b[0m \u001b[1;36m16\u001b[0m\u001b[1;33m:\u001b[0m\u001b[1;36m00\u001b[0m\u001b[1;33m:\u001b[0m\u001b[1;36m00\u001b[0m\u001b[1;33m:\u001b[0m \u001b[1;36m29.674\u001b[0m\u001b[1;33m\n",
      "\u001b[0m        \u001b[1;36m2018\u001b[0m\u001b[1;33m-\u001b[0m\u001b[1;36m0\u001b[0m\u001b[1;36m1\u001b[0m\u001b[1;33m-\u001b[0m\u001b[1;36m24\u001b[0m \u001b[1;36m17\u001b[0m\u001b[1;33m:\u001b[0m\u001b[1;36m00\u001b[0m\u001b[1;33m:\u001b[0m\u001b[1;36m00\u001b[0m\u001b[1;33m:\u001b[0m \u001b[1;36m30.074\u001b[0m\u001b[1;33m\n",
      "\u001b[0m        \u001b[1;36m2018\u001b[0m\u001b[1;33m-\u001b[0m\u001b[1;36m0\u001b[0m\u001b[1;36m1\u001b[0m\u001b[1;33m-\u001b[0m\u001b[1;36m24\u001b[0m \u001b[1;36m18\u001b[0m\u001b[1;33m:\u001b[0m\u001b[1;36m00\u001b[0m\u001b[1;33m:\u001b[0m\u001b[1;36m00\u001b[0m\u001b[1;33m:\u001b[0m \u001b[1;36m29.554\u001b[0m\u001b[1;33m\n",
      "\u001b[0m        \u001b[1;36m2018\u001b[0m\u001b[1;33m-\u001b[0m\u001b[1;36m0\u001b[0m\u001b[1;36m1\u001b[0m\u001b[1;33m-\u001b[0m\u001b[1;36m24\u001b[0m \u001b[1;36m19\u001b[0m\u001b[1;33m:\u001b[0m\u001b[1;36m00\u001b[0m\u001b[1;33m:\u001b[0m\u001b[1;36m00\u001b[0m\u001b[1;33m:\u001b[0m \u001b[1;36m28.864\u001b[0m\u001b[1;33m\n",
      "\u001b[0m        \u001b[1;36m2018\u001b[0m\u001b[1;33m-\u001b[0m\u001b[1;36m0\u001b[0m\u001b[1;36m1\u001b[0m\u001b[1;33m-\u001b[0m\u001b[1;36m24\u001b[0m \u001b[1;36m20\u001b[0m\u001b[1;33m:\u001b[0m\u001b[1;36m00\u001b[0m\u001b[1;33m:\u001b[0m\u001b[1;36m00\u001b[0m\u001b[1;33m:\u001b[0m \u001b[1;36m28.414\u001b[0m\u001b[1;33m\n",
      "\u001b[0m        \u001b[1;36m2018\u001b[0m\u001b[1;33m-\u001b[0m\u001b[1;36m0\u001b[0m\u001b[1;36m1\u001b[0m\u001b[1;33m-\u001b[0m\u001b[1;36m24\u001b[0m \u001b[1;36m21\u001b[0m\u001b[1;33m:\u001b[0m\u001b[1;36m00\u001b[0m\u001b[1;33m:\u001b[0m\u001b[1;36m00\u001b[0m\u001b[1;33m:\u001b[0m \u001b[1;36m28.074\u001b[0m\u001b[1;33m\n",
      "\u001b[0m        \u001b[1;36m2018\u001b[0m\u001b[1;33m-\u001b[0m\u001b[1;36m0\u001b[0m\u001b[1;36m1\u001b[0m\u001b[1;33m-\u001b[0m\u001b[1;36m24\u001b[0m \u001b[1;36m22\u001b[0m\u001b[1;33m:\u001b[0m\u001b[1;36m00\u001b[0m\u001b[1;33m:\u001b[0m\u001b[1;36m00\u001b[0m\u001b[1;33m:\u001b[0m \u001b[1;36m27.164\u001b[0m\u001b[1;33m\n",
      "\u001b[0m        \u001b[1;36m2018\u001b[0m\u001b[1;33m-\u001b[0m\u001b[1;36m0\u001b[0m\u001b[1;36m1\u001b[0m\u001b[1;33m-\u001b[0m\u001b[1;36m24\u001b[0m \u001b[1;36m23\u001b[0m\u001b[1;33m:\u001b[0m\u001b[1;36m00\u001b[0m\u001b[1;33m:\u001b[0m\u001b[1;36m00\u001b[0m\u001b[1;33m:\u001b[0m \u001b[1;36m25.504\u001b[0m\u001b[1;33m\n",
      "\u001b[0m        \u001b[1;36m2018\u001b[0m\u001b[1;33m-\u001b[0m\u001b[1;36m0\u001b[0m\u001b[1;36m1\u001b[0m\u001b[1;33m-\u001b[0m\u001b[1;36m25\u001b[0m \u001b[1;36m00\u001b[0m\u001b[1;33m:\u001b[0m\u001b[1;36m00\u001b[0m\u001b[1;33m:\u001b[0m\u001b[1;36m00\u001b[0m\u001b[1;33m:\u001b[0m \u001b[1;36m26.194\u001b[0m\u001b[1;33m\n",
      "\u001b[0m        \u001b[1;36m2018\u001b[0m\u001b[1;33m-\u001b[0m\u001b[1;36m0\u001b[0m\u001b[1;36m1\u001b[0m\u001b[1;33m-\u001b[0m\u001b[1;36m25\u001b[0m \u001b[1;36m0\u001b[0m\u001b[1;36m1\u001b[0m\u001b[1;33m:\u001b[0m\u001b[1;36m00\u001b[0m\u001b[1;33m:\u001b[0m\u001b[1;36m00\u001b[0m\u001b[1;33m:\u001b[0m \u001b[1;36m25.224\u001b[0m\u001b[1;33m\n",
      "\u001b[0m        \u001b[1;36m2018\u001b[0m\u001b[1;33m-\u001b[0m\u001b[1;36m0\u001b[0m\u001b[1;36m1\u001b[0m\u001b[1;33m-\u001b[0m\u001b[1;36m25\u001b[0m \u001b[1;36m0\u001b[0m\u001b[1;36m2\u001b[0m\u001b[1;33m:\u001b[0m\u001b[1;36m00\u001b[0m\u001b[1;33m:\u001b[0m\u001b[1;36m00\u001b[0m\u001b[1;33m:\u001b[0m \u001b[1;36m24.054\u001b[0m\u001b[1;33m\n",
      "\u001b[0m        \u001b[1;36m2018\u001b[0m\u001b[1;33m-\u001b[0m\u001b[1;36m0\u001b[0m\u001b[1;36m1\u001b[0m\u001b[1;33m-\u001b[0m\u001b[1;36m25\u001b[0m \u001b[1;36m0\u001b[0m\u001b[1;36m3\u001b[0m\u001b[1;33m:\u001b[0m\u001b[1;36m00\u001b[0m\u001b[1;33m:\u001b[0m\u001b[1;36m00\u001b[0m\u001b[1;33m:\u001b[0m \u001b[1;36m23.894\u001b[0m\u001b[1;33m\n",
      "\u001b[0m        \u001b[1;36m2018\u001b[0m\u001b[1;33m-\u001b[0m\u001b[1;36m0\u001b[0m\u001b[1;36m1\u001b[0m\u001b[1;33m-\u001b[0m\u001b[1;36m25\u001b[0m \u001b[1;36m0\u001b[0m\u001b[1;36m4\u001b[0m\u001b[1;33m:\u001b[0m\u001b[1;36m00\u001b[0m\u001b[1;33m:\u001b[0m\u001b[1;36m00\u001b[0m\u001b[1;33m:\u001b[0m \u001b[1;36m23.684\u001b[0m\u001b[1;33m\n",
      "\u001b[0m        \u001b[1;36m2018\u001b[0m\u001b[1;33m-\u001b[0m\u001b[1;36m0\u001b[0m\u001b[1;36m1\u001b[0m\u001b[1;33m-\u001b[0m\u001b[1;36m25\u001b[0m \u001b[1;36m0\u001b[0m\u001b[1;36m5\u001b[0m\u001b[1;33m:\u001b[0m\u001b[1;36m00\u001b[0m\u001b[1;33m:\u001b[0m\u001b[1;36m00\u001b[0m\u001b[1;33m:\u001b[0m \u001b[1;36m26.094\u001b[0m\u001b[1;33m\n",
      "\u001b[0m        \u001b[1;36m2018\u001b[0m\u001b[1;33m-\u001b[0m\u001b[1;36m0\u001b[0m\u001b[1;36m1\u001b[0m\u001b[1;33m-\u001b[0m\u001b[1;36m25\u001b[0m \u001b[1;36m0\u001b[0m\u001b[1;36m6\u001b[0m\u001b[1;33m:\u001b[0m\u001b[1;36m00\u001b[0m\u001b[1;33m:\u001b[0m\u001b[1;36m00\u001b[0m\u001b[1;33m:\u001b[0m \u001b[1;36m28.204\u001b[0m\u001b[1;33m\n",
      "\u001b[0m        \u001b[1;36m2018\u001b[0m\u001b[1;33m-\u001b[0m\u001b[1;36m0\u001b[0m\u001b[1;36m1\u001b[0m\u001b[1;33m-\u001b[0m\u001b[1;36m25\u001b[0m \u001b[1;36m0\u001b[0m\u001b[1;36m7\u001b[0m\u001b[1;33m:\u001b[0m\u001b[1;36m00\u001b[0m\u001b[1;33m:\u001b[0m\u001b[1;36m00\u001b[0m\u001b[1;33m:\u001b[0m \u001b[1;36m30.904\u001b[0m\u001b[1;33m\n",
      "\u001b[0m        \u001b[1;36m2018\u001b[0m\u001b[1;33m-\u001b[0m\u001b[1;36m0\u001b[0m\u001b[1;36m1\u001b[0m\u001b[1;33m-\u001b[0m\u001b[1;36m25\u001b[0m \u001b[1;36m0\u001b[0m\u001b[1;36m8\u001b[0m\u001b[1;33m:\u001b[0m\u001b[1;36m00\u001b[0m\u001b[1;33m:\u001b[0m\u001b[1;36m00\u001b[0m\u001b[1;33m:\u001b[0m \u001b[1;36m31.574\u001b[0m\u001b[1;33m\n",
      "\u001b[0m        \u001b[1;36m2018\u001b[0m\u001b[1;33m-\u001b[0m\u001b[1;36m0\u001b[0m\u001b[1;36m1\u001b[0m\u001b[1;33m-\u001b[0m\u001b[1;36m25\u001b[0m \u001b[1;36m0\u001b[0m\u001b[1;36m9\u001b[0m\u001b[1;33m:\u001b[0m\u001b[1;36m00\u001b[0m\u001b[1;33m:\u001b[0m\u001b[1;36m00\u001b[0m\u001b[1;33m:\u001b[0m \u001b[1;36m31.464\u001b[0m\u001b[1;33m\n",
      "\u001b[0m        \u001b[1;36m2018\u001b[0m\u001b[1;33m-\u001b[0m\u001b[1;36m0\u001b[0m\u001b[1;36m1\u001b[0m\u001b[1;33m-\u001b[0m\u001b[1;36m25\u001b[0m \u001b[1;36m10\u001b[0m\u001b[1;33m:\u001b[0m\u001b[1;36m00\u001b[0m\u001b[1;33m:\u001b[0m\u001b[1;36m00\u001b[0m\u001b[1;33m:\u001b[0m \u001b[1;36m31.174\u001b[0m\u001b[1;33m\n",
      "\u001b[0m        \u001b[1;36m2018\u001b[0m\u001b[1;33m-\u001b[0m\u001b[1;36m0\u001b[0m\u001b[1;36m1\u001b[0m\u001b[1;33m-\u001b[0m\u001b[1;36m25\u001b[0m \u001b[1;36m11\u001b[0m\u001b[1;33m:\u001b[0m\u001b[1;36m00\u001b[0m\u001b[1;33m:\u001b[0m\u001b[1;36m00\u001b[0m\u001b[1;33m:\u001b[0m \u001b[1;36m30.914\u001b[0m\u001b[1;33m\n",
      "\u001b[0m        \u001b[1;36m2018\u001b[0m\u001b[1;33m-\u001b[0m\u001b[1;36m0\u001b[0m\u001b[1;36m1\u001b[0m\u001b[1;33m-\u001b[0m\u001b[1;36m25\u001b[0m \u001b[1;36m12\u001b[0m\u001b[1;33m:\u001b[0m\u001b[1;36m00\u001b[0m\u001b[1;33m:\u001b[0m\u001b[1;36m00\u001b[0m\u001b[1;33m:\u001b[0m \u001b[1;36m30.574\u001b[0m\u001b[1;33m\n",
      "\u001b[0m        \u001b[1;36m2018\u001b[0m\u001b[1;33m-\u001b[0m\u001b[1;36m0\u001b[0m\u001b[1;36m1\u001b[0m\u001b[1;33m-\u001b[0m\u001b[1;36m25\u001b[0m \u001b[1;36m13\u001b[0m\u001b[1;33m:\u001b[0m\u001b[1;36m00\u001b[0m\u001b[1;33m:\u001b[0m\u001b[1;36m00\u001b[0m\u001b[1;33m:\u001b[0m \u001b[1;36m30.604\u001b[0m\u001b[1;33m\n",
      "\u001b[0m        \u001b[1;36m2018\u001b[0m\u001b[1;33m-\u001b[0m\u001b[1;36m0\u001b[0m\u001b[1;36m1\u001b[0m\u001b[1;33m-\u001b[0m\u001b[1;36m25\u001b[0m \u001b[1;36m14\u001b[0m\u001b[1;33m:\u001b[0m\u001b[1;36m00\u001b[0m\u001b[1;33m:\u001b[0m\u001b[1;36m00\u001b[0m\u001b[1;33m:\u001b[0m \u001b[1;36m30.634\u001b[0m\u001b[1;33m\n",
      "\u001b[0m        \u001b[1;36m2018\u001b[0m\u001b[1;33m-\u001b[0m\u001b[1;36m0\u001b[0m\u001b[1;36m1\u001b[0m\u001b[1;33m-\u001b[0m\u001b[1;36m25\u001b[0m \u001b[1;36m15\u001b[0m\u001b[1;33m:\u001b[0m\u001b[1;36m00\u001b[0m\u001b[1;33m:\u001b[0m\u001b[1;36m00\u001b[0m\u001b[1;33m:\u001b[0m \u001b[1;36m31.064\u001b[0m\u001b[1;33m\n",
      "\u001b[0m        \u001b[1;36m2018\u001b[0m\u001b[1;33m-\u001b[0m\u001b[1;36m0\u001b[0m\u001b[1;36m1\u001b[0m\u001b[1;33m-\u001b[0m\u001b[1;36m25\u001b[0m \u001b[1;36m16\u001b[0m\u001b[1;33m:\u001b[0m\u001b[1;36m00\u001b[0m\u001b[1;33m:\u001b[0m\u001b[1;36m00\u001b[0m\u001b[1;33m:\u001b[0m \u001b[1;36m32.084\u001b[0m\u001b[1;33m\n",
      "\u001b[0m        \u001b[1;36m2018\u001b[0m\u001b[1;33m-\u001b[0m\u001b[1;36m0\u001b[0m\u001b[1;36m1\u001b[0m\u001b[1;33m-\u001b[0m\u001b[1;36m25\u001b[0m \u001b[1;36m17\u001b[0m\u001b[1;33m:\u001b[0m\u001b[1;36m00\u001b[0m\u001b[1;33m:\u001b[0m\u001b[1;36m00\u001b[0m\u001b[1;33m:\u001b[0m \u001b[1;36m36.264\u001b[0m\u001b[1;33m\n",
      "\u001b[0m        \u001b[1;36m2018\u001b[0m\u001b[1;33m-\u001b[0m\u001b[1;36m0\u001b[0m\u001b[1;36m1\u001b[0m\u001b[1;33m-\u001b[0m\u001b[1;36m25\u001b[0m \u001b[1;36m18\u001b[0m\u001b[1;33m:\u001b[0m\u001b[1;36m00\u001b[0m\u001b[1;33m:\u001b[0m\u001b[1;36m00\u001b[0m\u001b[1;33m:\u001b[0m \u001b[1;36m34.474\u001b[0m\u001b[1;33m\n",
      "\u001b[0m        \u001b[1;36m2018\u001b[0m\u001b[1;33m-\u001b[0m\u001b[1;36m0\u001b[0m\u001b[1;36m1\u001b[0m\u001b[1;33m-\u001b[0m\u001b[1;36m25\u001b[0m \u001b[1;36m19\u001b[0m\u001b[1;33m:\u001b[0m\u001b[1;36m00\u001b[0m\u001b[1;33m:\u001b[0m\u001b[1;36m00\u001b[0m\u001b[1;33m:\u001b[0m \u001b[1;36m32.184\u001b[0m\u001b[1;33m\n",
      "\u001b[0m        \u001b[1;36m2018\u001b[0m\u001b[1;33m-\u001b[0m\u001b[1;36m0\u001b[0m\u001b[1;36m1\u001b[0m\u001b[1;33m-\u001b[0m\u001b[1;36m25\u001b[0m \u001b[1;36m20\u001b[0m\u001b[1;33m:\u001b[0m\u001b[1;36m00\u001b[0m\u001b[1;33m:\u001b[0m\u001b[1;36m00\u001b[0m\u001b[1;33m:\u001b[0m \u001b[1;36m31.494\u001b[0m\u001b[1;33m\n",
      "\u001b[0m        \u001b[1;36m2018\u001b[0m\u001b[1;33m-\u001b[0m\u001b[1;36m0\u001b[0m\u001b[1;36m1\u001b[0m\u001b[1;33m-\u001b[0m\u001b[1;36m25\u001b[0m \u001b[1;36m21\u001b[0m\u001b[1;33m:\u001b[0m\u001b[1;36m00\u001b[0m\u001b[1;33m:\u001b[0m\u001b[1;36m00\u001b[0m\u001b[1;33m:\u001b[0m \u001b[1;36m30.734\u001b[0m\u001b[1;33m\n",
      "\u001b[0m        \u001b[1;36m2018\u001b[0m\u001b[1;33m-\u001b[0m\u001b[1;36m0\u001b[0m\u001b[1;36m1\u001b[0m\u001b[1;33m-\u001b[0m\u001b[1;36m25\u001b[0m \u001b[1;36m22\u001b[0m\u001b[1;33m:\u001b[0m\u001b[1;36m00\u001b[0m\u001b[1;33m:\u001b[0m\u001b[1;36m00\u001b[0m\u001b[1;33m:\u001b[0m \u001b[1;36m29.714\u001b[0m\u001b[1;33m\n",
      "\u001b[0m        \u001b[1;36m2018\u001b[0m\u001b[1;33m-\u001b[0m\u001b[1;36m0\u001b[0m\u001b[1;36m1\u001b[0m\u001b[1;33m-\u001b[0m\u001b[1;36m25\u001b[0m \u001b[1;36m23\u001b[0m\u001b[1;33m:\u001b[0m\u001b[1;36m00\u001b[0m\u001b[1;33m:\u001b[0m\u001b[1;36m00\u001b[0m\u001b[1;33m:\u001b[0m \u001b[1;36m28.984\u001b[0m\u001b[1;33m\n",
      "\u001b[0m      \u001b[0msale_price\u001b[0m\u001b[1;33m:\u001b[0m\u001b[1;33m\n",
      "\u001b[0m        \u001b[1;36m2018\u001b[0m\u001b[1;33m-\u001b[0m\u001b[1;36m0\u001b[0m\u001b[1;36m1\u001b[0m\u001b[1;33m-\u001b[0m\u001b[1;36m23\u001b[0m \u001b[1;36m00\u001b[0m\u001b[1;33m:\u001b[0m\u001b[1;36m00\u001b[0m\u001b[1;33m:\u001b[0m\u001b[1;36m00\u001b[0m\u001b[1;33m:\u001b[0m \u001b[1;36m32.992\u001b[0m\u001b[1;33m\n",
      "\u001b[0m        \u001b[1;36m2018\u001b[0m\u001b[1;33m-\u001b[0m\u001b[1;36m0\u001b[0m\u001b[1;36m1\u001b[0m\u001b[1;33m-\u001b[0m\u001b[1;36m23\u001b[0m \u001b[1;36m0\u001b[0m\u001b[1;36m1\u001b[0m\u001b[1;33m:\u001b[0m\u001b[1;36m00\u001b[0m\u001b[1;33m:\u001b[0m\u001b[1;36m00\u001b[0m\u001b[1;33m:\u001b[0m \u001b[1;36m31.122\u001b[0m\u001b[1;33m\n",
      "\u001b[0m        \u001b[1;36m2018\u001b[0m\u001b[1;33m-\u001b[0m\u001b[1;36m0\u001b[0m\u001b[1;36m1\u001b[0m\u001b[1;33m-\u001b[0m\u001b[1;36m23\u001b[0m \u001b[1;36m0\u001b[0m\u001b[1;36m2\u001b[0m\u001b[1;33m:\u001b[0m\u001b[1;36m00\u001b[0m\u001b[1;33m:\u001b[0m\u001b[1;36m00\u001b[0m\u001b[1;33m:\u001b[0m \u001b[1;36m29.312\u001b[0m\u001b[1;33m\n",
      "\u001b[0m        \u001b[1;36m2018\u001b[0m\u001b[1;33m-\u001b[0m\u001b[1;36m0\u001b[0m\u001b[1;36m1\u001b[0m\u001b[1;33m-\u001b[0m\u001b[1;36m23\u001b[0m \u001b[1;36m0\u001b[0m\u001b[1;36m3\u001b[0m\u001b[1;33m:\u001b[0m\u001b[1;36m00\u001b[0m\u001b[1;33m:\u001b[0m\u001b[1;36m00\u001b[0m\u001b[1;33m:\u001b[0m \u001b[1;36m28.072\u001b[0m\u001b[1;33m\n",
      "\u001b[0m        \u001b[1;36m2018\u001b[0m\u001b[1;33m-\u001b[0m\u001b[1;36m0\u001b[0m\u001b[1;36m1\u001b[0m\u001b[1;33m-\u001b[0m\u001b[1;36m23\u001b[0m \u001b[1;36m0\u001b[0m\u001b[1;36m4\u001b[0m\u001b[1;33m:\u001b[0m\u001b[1;36m00\u001b[0m\u001b[1;33m:\u001b[0m\u001b[1;36m00\u001b[0m\u001b[1;33m:\u001b[0m \u001b[1;36m30.012\u001b[0m\u001b[1;33m\n",
      "\u001b[0m        \u001b[1;36m2018\u001b[0m\u001b[1;33m-\u001b[0m\u001b[1;36m0\u001b[0m\u001b[1;36m1\u001b[0m\u001b[1;33m-\u001b[0m\u001b[1;36m23\u001b[0m \u001b[1;36m0\u001b[0m\u001b[1;36m5\u001b[0m\u001b[1;33m:\u001b[0m\u001b[1;36m00\u001b[0m\u001b[1;33m:\u001b[0m\u001b[1;36m00\u001b[0m\u001b[1;33m:\u001b[0m \u001b[1;36m33.362\u001b[0m\u001b[1;33m\n",
      "\u001b[0m        \u001b[1;36m2018\u001b[0m\u001b[1;33m-\u001b[0m\u001b[1;36m0\u001b[0m\u001b[1;36m1\u001b[0m\u001b[1;33m-\u001b[0m\u001b[1;36m23\u001b[0m \u001b[1;36m0\u001b[0m\u001b[1;36m6\u001b[0m\u001b[1;33m:\u001b[0m\u001b[1;36m00\u001b[0m\u001b[1;33m:\u001b[0m\u001b[1;36m00\u001b[0m\u001b[1;33m:\u001b[0m \u001b[1;36m42.682\u001b[0m\u001b[1;33m\n",
      "\u001b[0m        \u001b[1;36m2018\u001b[0m\u001b[1;33m-\u001b[0m\u001b[1;36m0\u001b[0m\u001b[1;36m1\u001b[0m\u001b[1;33m-\u001b[0m\u001b[1;36m23\u001b[0m \u001b[1;36m0\u001b[0m\u001b[1;36m7\u001b[0m\u001b[1;33m:\u001b[0m\u001b[1;36m00\u001b[0m\u001b[1;33m:\u001b[0m\u001b[1;36m00\u001b[0m\u001b[1;33m:\u001b[0m \u001b[1;36m74.822\u001b[0m\u001b[1;33m\n",
      "\u001b[0m        \u001b[1;36m2018\u001b[0m\u001b[1;33m-\u001b[0m\u001b[1;36m0\u001b[0m\u001b[1;36m1\u001b[0m\u001b[1;33m-\u001b[0m\u001b[1;36m23\u001b[0m \u001b[1;36m0\u001b[0m\u001b[1;36m8\u001b[0m\u001b[1;33m:\u001b[0m\u001b[1;36m00\u001b[0m\u001b[1;33m:\u001b[0m\u001b[1;36m00\u001b[0m\u001b[1;33m:\u001b[0m \u001b[1;36m77.732\u001b[0m\u001b[1;33m\n",
      "\u001b[0m        \u001b[1;36m2018\u001b[0m\u001b[1;33m-\u001b[0m\u001b[1;36m0\u001b[0m\u001b[1;36m1\u001b[0m\u001b[1;33m-\u001b[0m\u001b[1;36m23\u001b[0m \u001b[1;36m0\u001b[0m\u001b[1;36m9\u001b[0m\u001b[1;33m:\u001b[0m\u001b[1;36m00\u001b[0m\u001b[1;33m:\u001b[0m\u001b[1;36m00\u001b[0m\u001b[1;33m:\u001b[0m \u001b[1;36m62.332\u001b[0m\u001b[1;33m\n",
      "\u001b[0m        \u001b[1;36m2018\u001b[0m\u001b[1;33m-\u001b[0m\u001b[1;36m0\u001b[0m\u001b[1;36m1\u001b[0m\u001b[1;33m-\u001b[0m\u001b[1;36m23\u001b[0m \u001b[1;36m10\u001b[0m\u001b[1;33m:\u001b[0m\u001b[1;36m00\u001b[0m\u001b[1;33m:\u001b[0m\u001b[1;36m00\u001b[0m\u001b[1;33m:\u001b[0m \u001b[1;36m55.892\u001b[0m\u001b[1;33m\n",
      "\u001b[0m        \u001b[1;36m2018\u001b[0m\u001b[1;33m-\u001b[0m\u001b[1;36m0\u001b[0m\u001b[1;36m1\u001b[0m\u001b[1;33m-\u001b[0m\u001b[1;36m23\u001b[0m \u001b[1;36m11\u001b[0m\u001b[1;33m:\u001b[0m\u001b[1;36m00\u001b[0m\u001b[1;33m:\u001b[0m\u001b[1;36m00\u001b[0m\u001b[1;33m:\u001b[0m \u001b[1;36m46.962\u001b[0m\u001b[1;33m\n",
      "\u001b[0m        \u001b[1;36m2018\u001b[0m\u001b[1;33m-\u001b[0m\u001b[1;36m0\u001b[0m\u001b[1;36m1\u001b[0m\u001b[1;33m-\u001b[0m\u001b[1;36m23\u001b[0m \u001b[1;36m12\u001b[0m\u001b[1;33m:\u001b[0m\u001b[1;36m00\u001b[0m\u001b[1;33m:\u001b[0m\u001b[1;36m00\u001b[0m\u001b[1;33m:\u001b[0m \u001b[1;36m42.582\u001b[0m\u001b[1;33m\n",
      "\u001b[0m        \u001b[1;36m2018\u001b[0m\u001b[1;33m-\u001b[0m\u001b[1;36m0\u001b[0m\u001b[1;36m1\u001b[0m\u001b[1;33m-\u001b[0m\u001b[1;36m23\u001b[0m \u001b[1;36m13\u001b[0m\u001b[1;33m:\u001b[0m\u001b[1;36m00\u001b[0m\u001b[1;33m:\u001b[0m\u001b[1;36m00\u001b[0m\u001b[1;33m:\u001b[0m \u001b[1;36m40.942\u001b[0m\u001b[1;33m\n",
      "\u001b[0m        \u001b[1;36m2018\u001b[0m\u001b[1;33m-\u001b[0m\u001b[1;36m0\u001b[0m\u001b[1;36m1\u001b[0m\u001b[1;33m-\u001b[0m\u001b[1;36m23\u001b[0m \u001b[1;36m14\u001b[0m\u001b[1;33m:\u001b[0m\u001b[1;36m00\u001b[0m\u001b[1;33m:\u001b[0m\u001b[1;36m00\u001b[0m\u001b[1;33m:\u001b[0m \u001b[1;36m39.212\u001b[0m\u001b[1;33m\n",
      "\u001b[0m        \u001b[1;36m2018\u001b[0m\u001b[1;33m-\u001b[0m\u001b[1;36m0\u001b[0m\u001b[1;36m1\u001b[0m\u001b[1;33m-\u001b[0m\u001b[1;36m23\u001b[0m \u001b[1;36m15\u001b[0m\u001b[1;33m:\u001b[0m\u001b[1;36m00\u001b[0m\u001b[1;33m:\u001b[0m\u001b[1;36m00\u001b[0m\u001b[1;33m:\u001b[0m \u001b[1;36m39.142\u001b[0m\u001b[1;33m\n",
      "\u001b[0m        \u001b[1;36m2018\u001b[0m\u001b[1;33m-\u001b[0m\u001b[1;36m0\u001b[0m\u001b[1;36m1\u001b[0m\u001b[1;33m-\u001b[0m\u001b[1;36m23\u001b[0m \u001b[1;36m16\u001b[0m\u001b[1;33m:\u001b[0m\u001b[1;36m00\u001b[0m\u001b[1;33m:\u001b[0m\u001b[1;36m00\u001b[0m\u001b[1;33m:\u001b[0m \u001b[1;36m41.672\u001b[0m\u001b[1;33m\n",
      "\u001b[0m        \u001b[1;36m2018\u001b[0m\u001b[1;33m-\u001b[0m\u001b[1;36m0\u001b[0m\u001b[1;36m1\u001b[0m\u001b[1;33m-\u001b[0m\u001b[1;36m23\u001b[0m \u001b[1;36m17\u001b[0m\u001b[1;33m:\u001b[0m\u001b[1;36m00\u001b[0m\u001b[1;33m:\u001b[0m\u001b[1;36m00\u001b[0m\u001b[1;33m:\u001b[0m \u001b[1;36m46.922\u001b[0m\u001b[1;33m\n",
      "\u001b[0m        \u001b[1;36m2018\u001b[0m\u001b[1;33m-\u001b[0m\u001b[1;36m0\u001b[0m\u001b[1;36m1\u001b[0m\u001b[1;33m-\u001b[0m\u001b[1;36m23\u001b[0m \u001b[1;36m18\u001b[0m\u001b[1;33m:\u001b[0m\u001b[1;36m00\u001b[0m\u001b[1;33m:\u001b[0m\u001b[1;36m00\u001b[0m\u001b[1;33m:\u001b[0m \u001b[1;36m37.102\u001b[0m\u001b[1;33m\n",
      "\u001b[0m        \u001b[1;36m2018\u001b[0m\u001b[1;33m-\u001b[0m\u001b[1;36m0\u001b[0m\u001b[1;36m1\u001b[0m\u001b[1;33m-\u001b[0m\u001b[1;36m23\u001b[0m \u001b[1;36m19\u001b[0m\u001b[1;33m:\u001b[0m\u001b[1;36m00\u001b[0m\u001b[1;33m:\u001b[0m\u001b[1;36m00\u001b[0m\u001b[1;33m:\u001b[0m \u001b[1;36m32.992\u001b[0m\u001b[1;33m\n",
      "\u001b[0m        \u001b[1;36m2018\u001b[0m\u001b[1;33m-\u001b[0m\u001b[1;36m0\u001b[0m\u001b[1;36m1\u001b[0m\u001b[1;33m-\u001b[0m\u001b[1;36m23\u001b[0m \u001b[1;36m20\u001b[0m\u001b[1;33m:\u001b[0m\u001b[1;36m00\u001b[0m\u001b[1;33m:\u001b[0m\u001b[1;36m00\u001b[0m\u001b[1;33m:\u001b[0m \u001b[1;36m31.272\u001b[0m\u001b[1;33m\n",
      "\u001b[0m        \u001b[1;36m2018\u001b[0m\u001b[1;33m-\u001b[0m\u001b[1;36m0\u001b[0m\u001b[1;36m1\u001b[0m\u001b[1;33m-\u001b[0m\u001b[1;36m23\u001b[0m \u001b[1;36m21\u001b[0m\u001b[1;33m:\u001b[0m\u001b[1;36m00\u001b[0m\u001b[1;33m:\u001b[0m\u001b[1;36m00\u001b[0m\u001b[1;33m:\u001b[0m \u001b[1;36m29.752\u001b[0m\u001b[1;33m\n",
      "\u001b[0m        \u001b[1;36m2018\u001b[0m\u001b[1;33m-\u001b[0m\u001b[1;36m0\u001b[0m\u001b[1;36m1\u001b[0m\u001b[1;33m-\u001b[0m\u001b[1;36m23\u001b[0m \u001b[1;36m22\u001b[0m\u001b[1;33m:\u001b[0m\u001b[1;36m00\u001b[0m\u001b[1;33m:\u001b[0m\u001b[1;36m00\u001b[0m\u001b[1;33m:\u001b[0m \u001b[1;36m28.782\u001b[0m\u001b[1;33m\n",
      "\u001b[0m        \u001b[1;36m2018\u001b[0m\u001b[1;33m-\u001b[0m\u001b[1;36m0\u001b[0m\u001b[1;36m1\u001b[0m\u001b[1;33m-\u001b[0m\u001b[1;36m23\u001b[0m \u001b[1;36m23\u001b[0m\u001b[1;33m:\u001b[0m\u001b[1;36m00\u001b[0m\u001b[1;33m:\u001b[0m\u001b[1;36m00\u001b[0m\u001b[1;33m:\u001b[0m \u001b[1;36m28.082\u001b[0m\u001b[1;33m\n",
      "\u001b[0m        \u001b[1;36m2018\u001b[0m\u001b[1;33m-\u001b[0m\u001b[1;36m0\u001b[0m\u001b[1;36m1\u001b[0m\u001b[1;33m-\u001b[0m\u001b[1;36m24\u001b[0m \u001b[1;36m00\u001b[0m\u001b[1;33m:\u001b[0m\u001b[1;36m00\u001b[0m\u001b[1;33m:\u001b[0m\u001b[1;36m00\u001b[0m\u001b[1;33m:\u001b[0m \u001b[1;36m27.242\u001b[0m\u001b[1;33m\n",
      "\u001b[0m        \u001b[1;36m2018\u001b[0m\u001b[1;33m-\u001b[0m\u001b[1;36m0\u001b[0m\u001b[1;36m1\u001b[0m\u001b[1;33m-\u001b[0m\u001b[1;36m24\u001b[0m \u001b[1;36m0\u001b[0m\u001b[1;36m1\u001b[0m\u001b[1;33m:\u001b[0m\u001b[1;36m00\u001b[0m\u001b[1;33m:\u001b[0m\u001b[1;36m00\u001b[0m\u001b[1;33m:\u001b[0m \u001b[1;36m26.622\u001b[0m\u001b[1;33m\n",
      "\u001b[0m        \u001b[1;36m2018\u001b[0m\u001b[1;33m-\u001b[0m\u001b[1;36m0\u001b[0m\u001b[1;36m1\u001b[0m\u001b[1;33m-\u001b[0m\u001b[1;36m24\u001b[0m \u001b[1;36m0\u001b[0m\u001b[1;36m2\u001b[0m\u001b[1;33m:\u001b[0m\u001b[1;36m00\u001b[0m\u001b[1;33m:\u001b[0m\u001b[1;36m00\u001b[0m\u001b[1;33m:\u001b[0m \u001b[1;36m25.732\u001b[0m\u001b[1;33m\n",
      "\u001b[0m        \u001b[1;36m2018\u001b[0m\u001b[1;33m-\u001b[0m\u001b[1;36m0\u001b[0m\u001b[1;36m1\u001b[0m\u001b[1;33m-\u001b[0m\u001b[1;36m24\u001b[0m \u001b[1;36m0\u001b[0m\u001b[1;36m3\u001b[0m\u001b[1;33m:\u001b[0m\u001b[1;36m00\u001b[0m\u001b[1;33m:\u001b[0m\u001b[1;36m00\u001b[0m\u001b[1;33m:\u001b[0m \u001b[1;36m25.392\u001b[0m\u001b[1;33m\n",
      "\u001b[0m        \u001b[1;36m2018\u001b[0m\u001b[1;33m-\u001b[0m\u001b[1;36m0\u001b[0m\u001b[1;36m1\u001b[0m\u001b[1;33m-\u001b[0m\u001b[1;36m24\u001b[0m \u001b[1;36m0\u001b[0m\u001b[1;36m4\u001b[0m\u001b[1;33m:\u001b[0m\u001b[1;36m00\u001b[0m\u001b[1;33m:\u001b[0m\u001b[1;36m00\u001b[0m\u001b[1;33m:\u001b[0m \u001b[1;36m25.992\u001b[0m\u001b[1;33m\n",
      "\u001b[0m        \u001b[1;36m2018\u001b[0m\u001b[1;33m-\u001b[0m\u001b[1;36m0\u001b[0m\u001b[1;36m1\u001b[0m\u001b[1;33m-\u001b[0m\u001b[1;36m24\u001b[0m \u001b[1;36m0\u001b[0m\u001b[1;36m5\u001b[0m\u001b[1;33m:\u001b[0m\u001b[1;36m00\u001b[0m\u001b[1;33m:\u001b[0m\u001b[1;36m00\u001b[0m\u001b[1;33m:\u001b[0m \u001b[1;36m27.402\u001b[0m\u001b[1;33m\n",
      "\u001b[0m        \u001b[1;36m2018\u001b[0m\u001b[1;33m-\u001b[0m\u001b[1;36m0\u001b[0m\u001b[1;36m1\u001b[0m\u001b[1;33m-\u001b[0m\u001b[1;36m24\u001b[0m \u001b[1;36m0\u001b[0m\u001b[1;36m6\u001b[0m\u001b[1;33m:\u001b[0m\u001b[1;36m00\u001b[0m\u001b[1;33m:\u001b[0m\u001b[1;36m00\u001b[0m\u001b[1;33m:\u001b[0m \u001b[1;36m28.942\u001b[0m\u001b[1;33m\n",
      "\u001b[0m        \u001b[1;36m2018\u001b[0m\u001b[1;33m-\u001b[0m\u001b[1;36m0\u001b[0m\u001b[1;36m1\u001b[0m\u001b[1;33m-\u001b[0m\u001b[1;36m24\u001b[0m \u001b[1;36m0\u001b[0m\u001b[1;36m7\u001b[0m\u001b[1;33m:\u001b[0m\u001b[1;36m00\u001b[0m\u001b[1;33m:\u001b[0m\u001b[1;36m00\u001b[0m\u001b[1;33m:\u001b[0m \u001b[1;36m32.182\u001b[0m\u001b[1;33m\n",
      "\u001b[0m        \u001b[1;36m2018\u001b[0m\u001b[1;33m-\u001b[0m\u001b[1;36m0\u001b[0m\u001b[1;36m1\u001b[0m\u001b[1;33m-\u001b[0m\u001b[1;36m24\u001b[0m \u001b[1;36m0\u001b[0m\u001b[1;36m8\u001b[0m\u001b[1;33m:\u001b[0m\u001b[1;36m00\u001b[0m\u001b[1;33m:\u001b[0m\u001b[1;36m00\u001b[0m\u001b[1;33m:\u001b[0m \u001b[1;36m33.082\u001b[0m\u001b[1;33m\n",
      "\u001b[0m        \u001b[1;36m2018\u001b[0m\u001b[1;33m-\u001b[0m\u001b[1;36m0\u001b[0m\u001b[1;36m1\u001b[0m\u001b[1;33m-\u001b[0m\u001b[1;36m24\u001b[0m \u001b[1;36m0\u001b[0m\u001b[1;36m9\u001b[0m\u001b[1;33m:\u001b[0m\u001b[1;36m00\u001b[0m\u001b[1;33m:\u001b[0m\u001b[1;36m00\u001b[0m\u001b[1;33m:\u001b[0m \u001b[1;36m32.342\u001b[0m\u001b[1;33m\n",
      "\u001b[0m        \u001b[1;36m2018\u001b[0m\u001b[1;33m-\u001b[0m\u001b[1;36m0\u001b[0m\u001b[1;36m1\u001b[0m\u001b[1;33m-\u001b[0m\u001b[1;36m24\u001b[0m \u001b[1;36m10\u001b[0m\u001b[1;33m:\u001b[0m\u001b[1;36m00\u001b[0m\u001b[1;33m:\u001b[0m\u001b[1;36m00\u001b[0m\u001b[1;33m:\u001b[0m \u001b[1;36m30.912\u001b[0m\u001b[1;33m\n",
      "\u001b[0m        \u001b[1;36m2018\u001b[0m\u001b[1;33m-\u001b[0m\u001b[1;36m0\u001b[0m\u001b[1;36m1\u001b[0m\u001b[1;33m-\u001b[0m\u001b[1;36m24\u001b[0m \u001b[1;36m11\u001b[0m\u001b[1;33m:\u001b[0m\u001b[1;36m00\u001b[0m\u001b[1;33m:\u001b[0m\u001b[1;36m00\u001b[0m\u001b[1;33m:\u001b[0m \u001b[1;36m30.162\u001b[0m\u001b[1;33m\n",
      "\u001b[0m        \u001b[1;36m2018\u001b[0m\u001b[1;33m-\u001b[0m\u001b[1;36m0\u001b[0m\u001b[1;36m1\u001b[0m\u001b[1;33m-\u001b[0m\u001b[1;36m24\u001b[0m \u001b[1;36m12\u001b[0m\u001b[1;33m:\u001b[0m\u001b[1;36m00\u001b[0m\u001b[1;33m:\u001b[0m\u001b[1;36m00\u001b[0m\u001b[1;33m:\u001b[0m \u001b[1;36m30.062\u001b[0m\u001b[1;33m\n",
      "\u001b[0m        \u001b[1;36m2018\u001b[0m\u001b[1;33m-\u001b[0m\u001b[1;36m0\u001b[0m\u001b[1;36m1\u001b[0m\u001b[1;33m-\u001b[0m\u001b[1;36m24\u001b[0m \u001b[1;36m13\u001b[0m\u001b[1;33m:\u001b[0m\u001b[1;36m00\u001b[0m\u001b[1;33m:\u001b[0m\u001b[1;36m00\u001b[0m\u001b[1;33m:\u001b[0m \u001b[1;36m29.562\u001b[0m\u001b[1;33m\n",
      "\u001b[0m        \u001b[1;36m2018\u001b[0m\u001b[1;33m-\u001b[0m\u001b[1;36m0\u001b[0m\u001b[1;36m1\u001b[0m\u001b[1;33m-\u001b[0m\u001b[1;36m24\u001b[0m \u001b[1;36m14\u001b[0m\u001b[1;33m:\u001b[0m\u001b[1;36m00\u001b[0m\u001b[1;33m:\u001b[0m\u001b[1;36m00\u001b[0m\u001b[1;33m:\u001b[0m \u001b[1;36m29.462\u001b[0m\u001b[1;33m\n",
      "\u001b[0m        \u001b[1;36m2018\u001b[0m\u001b[1;33m-\u001b[0m\u001b[1;36m0\u001b[0m\u001b[1;36m1\u001b[0m\u001b[1;33m-\u001b[0m\u001b[1;36m24\u001b[0m \u001b[1;36m15\u001b[0m\u001b[1;33m:\u001b[0m\u001b[1;36m00\u001b[0m\u001b[1;33m:\u001b[0m\u001b[1;36m00\u001b[0m\u001b[1;33m:\u001b[0m \u001b[1;36m29.512\u001b[0m\u001b[1;33m\n",
      "\u001b[0m        \u001b[1;36m2018\u001b[0m\u001b[1;33m-\u001b[0m\u001b[1;36m0\u001b[0m\u001b[1;36m1\u001b[0m\u001b[1;33m-\u001b[0m\u001b[1;36m24\u001b[0m \u001b[1;36m16\u001b[0m\u001b[1;33m:\u001b[0m\u001b[1;36m00\u001b[0m\u001b[1;33m:\u001b[0m\u001b[1;36m00\u001b[0m\u001b[1;33m:\u001b[0m \u001b[1;36m29.672\u001b[0m\u001b[1;33m\n",
      "\u001b[0m        \u001b[1;36m2018\u001b[0m\u001b[1;33m-\u001b[0m\u001b[1;36m0\u001b[0m\u001b[1;36m1\u001b[0m\u001b[1;33m-\u001b[0m\u001b[1;36m24\u001b[0m \u001b[1;36m17\u001b[0m\u001b[1;33m:\u001b[0m\u001b[1;36m00\u001b[0m\u001b[1;33m:\u001b[0m\u001b[1;36m00\u001b[0m\u001b[1;33m:\u001b[0m \u001b[1;36m30.072\u001b[0m\u001b[1;33m\n",
      "\u001b[0m        \u001b[1;36m2018\u001b[0m\u001b[1;33m-\u001b[0m\u001b[1;36m0\u001b[0m\u001b[1;36m1\u001b[0m\u001b[1;33m-\u001b[0m\u001b[1;36m24\u001b[0m \u001b[1;36m18\u001b[0m\u001b[1;33m:\u001b[0m\u001b[1;36m00\u001b[0m\u001b[1;33m:\u001b[0m\u001b[1;36m00\u001b[0m\u001b[1;33m:\u001b[0m \u001b[1;36m29.552\u001b[0m\u001b[1;33m\n",
      "\u001b[0m        \u001b[1;36m2018\u001b[0m\u001b[1;33m-\u001b[0m\u001b[1;36m0\u001b[0m\u001b[1;36m1\u001b[0m\u001b[1;33m-\u001b[0m\u001b[1;36m24\u001b[0m \u001b[1;36m19\u001b[0m\u001b[1;33m:\u001b[0m\u001b[1;36m00\u001b[0m\u001b[1;33m:\u001b[0m\u001b[1;36m00\u001b[0m\u001b[1;33m:\u001b[0m \u001b[1;36m28.862\u001b[0m\u001b[1;33m\n",
      "\u001b[0m        \u001b[1;36m2018\u001b[0m\u001b[1;33m-\u001b[0m\u001b[1;36m0\u001b[0m\u001b[1;36m1\u001b[0m\u001b[1;33m-\u001b[0m\u001b[1;36m24\u001b[0m \u001b[1;36m20\u001b[0m\u001b[1;33m:\u001b[0m\u001b[1;36m00\u001b[0m\u001b[1;33m:\u001b[0m\u001b[1;36m00\u001b[0m\u001b[1;33m:\u001b[0m \u001b[1;36m28.412\u001b[0m\u001b[1;33m\n",
      "\u001b[0m        \u001b[1;36m2018\u001b[0m\u001b[1;33m-\u001b[0m\u001b[1;36m0\u001b[0m\u001b[1;36m1\u001b[0m\u001b[1;33m-\u001b[0m\u001b[1;36m24\u001b[0m \u001b[1;36m21\u001b[0m\u001b[1;33m:\u001b[0m\u001b[1;36m00\u001b[0m\u001b[1;33m:\u001b[0m\u001b[1;36m00\u001b[0m\u001b[1;33m:\u001b[0m \u001b[1;36m28.072\u001b[0m\u001b[1;33m\n",
      "\u001b[0m        \u001b[1;36m2018\u001b[0m\u001b[1;33m-\u001b[0m\u001b[1;36m0\u001b[0m\u001b[1;36m1\u001b[0m\u001b[1;33m-\u001b[0m\u001b[1;36m24\u001b[0m \u001b[1;36m22\u001b[0m\u001b[1;33m:\u001b[0m\u001b[1;36m00\u001b[0m\u001b[1;33m:\u001b[0m\u001b[1;36m00\u001b[0m\u001b[1;33m:\u001b[0m \u001b[1;36m27.162\u001b[0m\u001b[1;33m\n",
      "\u001b[0m        \u001b[1;36m2018\u001b[0m\u001b[1;33m-\u001b[0m\u001b[1;36m0\u001b[0m\u001b[1;36m1\u001b[0m\u001b[1;33m-\u001b[0m\u001b[1;36m24\u001b[0m \u001b[1;36m23\u001b[0m\u001b[1;33m:\u001b[0m\u001b[1;36m00\u001b[0m\u001b[1;33m:\u001b[0m\u001b[1;36m00\u001b[0m\u001b[1;33m:\u001b[0m \u001b[1;36m25.502\u001b[0m\u001b[1;33m\n",
      "\u001b[0m        \u001b[1;36m2018\u001b[0m\u001b[1;33m-\u001b[0m\u001b[1;36m0\u001b[0m\u001b[1;36m1\u001b[0m\u001b[1;33m-\u001b[0m\u001b[1;36m25\u001b[0m \u001b[1;36m00\u001b[0m\u001b[1;33m:\u001b[0m\u001b[1;36m00\u001b[0m\u001b[1;33m:\u001b[0m\u001b[1;36m00\u001b[0m\u001b[1;33m:\u001b[0m \u001b[1;36m26.192\u001b[0m\u001b[1;33m\n",
      "\u001b[0m        \u001b[1;36m2018\u001b[0m\u001b[1;33m-\u001b[0m\u001b[1;36m0\u001b[0m\u001b[1;36m1\u001b[0m\u001b[1;33m-\u001b[0m\u001b[1;36m25\u001b[0m \u001b[1;36m0\u001b[0m\u001b[1;36m1\u001b[0m\u001b[1;33m:\u001b[0m\u001b[1;36m00\u001b[0m\u001b[1;33m:\u001b[0m\u001b[1;36m00\u001b[0m\u001b[1;33m:\u001b[0m \u001b[1;36m25.222\u001b[0m\u001b[1;33m\n",
      "\u001b[0m        \u001b[1;36m2018\u001b[0m\u001b[1;33m-\u001b[0m\u001b[1;36m0\u001b[0m\u001b[1;36m1\u001b[0m\u001b[1;33m-\u001b[0m\u001b[1;36m25\u001b[0m \u001b[1;36m0\u001b[0m\u001b[1;36m2\u001b[0m\u001b[1;33m:\u001b[0m\u001b[1;36m00\u001b[0m\u001b[1;33m:\u001b[0m\u001b[1;36m00\u001b[0m\u001b[1;33m:\u001b[0m \u001b[1;36m24.052\u001b[0m\u001b[1;33m\n",
      "\u001b[0m        \u001b[1;36m2018\u001b[0m\u001b[1;33m-\u001b[0m\u001b[1;36m0\u001b[0m\u001b[1;36m1\u001b[0m\u001b[1;33m-\u001b[0m\u001b[1;36m25\u001b[0m \u001b[1;36m0\u001b[0m\u001b[1;36m3\u001b[0m\u001b[1;33m:\u001b[0m\u001b[1;36m00\u001b[0m\u001b[1;33m:\u001b[0m\u001b[1;36m00\u001b[0m\u001b[1;33m:\u001b[0m \u001b[1;36m23.892\u001b[0m\u001b[1;33m\n",
      "\u001b[0m        \u001b[1;36m2018\u001b[0m\u001b[1;33m-\u001b[0m\u001b[1;36m0\u001b[0m\u001b[1;36m1\u001b[0m\u001b[1;33m-\u001b[0m\u001b[1;36m25\u001b[0m \u001b[1;36m0\u001b[0m\u001b[1;36m4\u001b[0m\u001b[1;33m:\u001b[0m\u001b[1;36m00\u001b[0m\u001b[1;33m:\u001b[0m\u001b[1;36m00\u001b[0m\u001b[1;33m:\u001b[0m \u001b[1;36m23.682\u001b[0m\u001b[1;33m\n",
      "\u001b[0m        \u001b[1;36m2018\u001b[0m\u001b[1;33m-\u001b[0m\u001b[1;36m0\u001b[0m\u001b[1;36m1\u001b[0m\u001b[1;33m-\u001b[0m\u001b[1;36m25\u001b[0m \u001b[1;36m0\u001b[0m\u001b[1;36m5\u001b[0m\u001b[1;33m:\u001b[0m\u001b[1;36m00\u001b[0m\u001b[1;33m:\u001b[0m\u001b[1;36m00\u001b[0m\u001b[1;33m:\u001b[0m \u001b[1;36m26.092\u001b[0m\u001b[1;33m\n",
      "\u001b[0m        \u001b[1;36m2018\u001b[0m\u001b[1;33m-\u001b[0m\u001b[1;36m0\u001b[0m\u001b[1;36m1\u001b[0m\u001b[1;33m-\u001b[0m\u001b[1;36m25\u001b[0m \u001b[1;36m0\u001b[0m\u001b[1;36m6\u001b[0m\u001b[1;33m:\u001b[0m\u001b[1;36m00\u001b[0m\u001b[1;33m:\u001b[0m\u001b[1;36m00\u001b[0m\u001b[1;33m:\u001b[0m \u001b[1;36m28.202\u001b[0m\u001b[1;33m\n",
      "\u001b[0m        \u001b[1;36m2018\u001b[0m\u001b[1;33m-\u001b[0m\u001b[1;36m0\u001b[0m\u001b[1;36m1\u001b[0m\u001b[1;33m-\u001b[0m\u001b[1;36m25\u001b[0m \u001b[1;36m0\u001b[0m\u001b[1;36m7\u001b[0m\u001b[1;33m:\u001b[0m\u001b[1;36m00\u001b[0m\u001b[1;33m:\u001b[0m\u001b[1;36m00\u001b[0m\u001b[1;33m:\u001b[0m \u001b[1;36m30.902\u001b[0m\u001b[1;33m\n",
      "\u001b[0m        \u001b[1;36m2018\u001b[0m\u001b[1;33m-\u001b[0m\u001b[1;36m0\u001b[0m\u001b[1;36m1\u001b[0m\u001b[1;33m-\u001b[0m\u001b[1;36m25\u001b[0m \u001b[1;36m0\u001b[0m\u001b[1;36m8\u001b[0m\u001b[1;33m:\u001b[0m\u001b[1;36m00\u001b[0m\u001b[1;33m:\u001b[0m\u001b[1;36m00\u001b[0m\u001b[1;33m:\u001b[0m \u001b[1;36m31.572\u001b[0m\u001b[1;33m\n",
      "\u001b[0m        \u001b[1;36m2018\u001b[0m\u001b[1;33m-\u001b[0m\u001b[1;36m0\u001b[0m\u001b[1;36m1\u001b[0m\u001b[1;33m-\u001b[0m\u001b[1;36m25\u001b[0m \u001b[1;36m0\u001b[0m\u001b[1;36m9\u001b[0m\u001b[1;33m:\u001b[0m\u001b[1;36m00\u001b[0m\u001b[1;33m:\u001b[0m\u001b[1;36m00\u001b[0m\u001b[1;33m:\u001b[0m \u001b[1;36m31.462\u001b[0m\u001b[1;33m\n",
      "\u001b[0m        \u001b[1;36m2018\u001b[0m\u001b[1;33m-\u001b[0m\u001b[1;36m0\u001b[0m\u001b[1;36m1\u001b[0m\u001b[1;33m-\u001b[0m\u001b[1;36m25\u001b[0m \u001b[1;36m10\u001b[0m\u001b[1;33m:\u001b[0m\u001b[1;36m00\u001b[0m\u001b[1;33m:\u001b[0m\u001b[1;36m00\u001b[0m\u001b[1;33m:\u001b[0m \u001b[1;36m31.172\u001b[0m\u001b[1;33m\n",
      "\u001b[0m        \u001b[1;36m2018\u001b[0m\u001b[1;33m-\u001b[0m\u001b[1;36m0\u001b[0m\u001b[1;36m1\u001b[0m\u001b[1;33m-\u001b[0m\u001b[1;36m25\u001b[0m \u001b[1;36m11\u001b[0m\u001b[1;33m:\u001b[0m\u001b[1;36m00\u001b[0m\u001b[1;33m:\u001b[0m\u001b[1;36m00\u001b[0m\u001b[1;33m:\u001b[0m \u001b[1;36m30.912\u001b[0m\u001b[1;33m\n",
      "\u001b[0m        \u001b[1;36m2018\u001b[0m\u001b[1;33m-\u001b[0m\u001b[1;36m0\u001b[0m\u001b[1;36m1\u001b[0m\u001b[1;33m-\u001b[0m\u001b[1;36m25\u001b[0m \u001b[1;36m12\u001b[0m\u001b[1;33m:\u001b[0m\u001b[1;36m00\u001b[0m\u001b[1;33m:\u001b[0m\u001b[1;36m00\u001b[0m\u001b[1;33m:\u001b[0m \u001b[1;36m30.572\u001b[0m\u001b[1;33m\n",
      "\u001b[0m        \u001b[1;36m2018\u001b[0m\u001b[1;33m-\u001b[0m\u001b[1;36m0\u001b[0m\u001b[1;36m1\u001b[0m\u001b[1;33m-\u001b[0m\u001b[1;36m25\u001b[0m \u001b[1;36m13\u001b[0m\u001b[1;33m:\u001b[0m\u001b[1;36m00\u001b[0m\u001b[1;33m:\u001b[0m\u001b[1;36m00\u001b[0m\u001b[1;33m:\u001b[0m \u001b[1;36m30.602\u001b[0m\u001b[1;33m\n",
      "\u001b[0m        \u001b[1;36m2018\u001b[0m\u001b[1;33m-\u001b[0m\u001b[1;36m0\u001b[0m\u001b[1;36m1\u001b[0m\u001b[1;33m-\u001b[0m\u001b[1;36m25\u001b[0m \u001b[1;36m14\u001b[0m\u001b[1;33m:\u001b[0m\u001b[1;36m00\u001b[0m\u001b[1;33m:\u001b[0m\u001b[1;36m00\u001b[0m\u001b[1;33m:\u001b[0m \u001b[1;36m30.632\u001b[0m\u001b[1;33m\n",
      "\u001b[0m        \u001b[1;36m2018\u001b[0m\u001b[1;33m-\u001b[0m\u001b[1;36m0\u001b[0m\u001b[1;36m1\u001b[0m\u001b[1;33m-\u001b[0m\u001b[1;36m25\u001b[0m \u001b[1;36m15\u001b[0m\u001b[1;33m:\u001b[0m\u001b[1;36m00\u001b[0m\u001b[1;33m:\u001b[0m\u001b[1;36m00\u001b[0m\u001b[1;33m:\u001b[0m \u001b[1;36m31.062\u001b[0m\u001b[1;33m\n",
      "\u001b[0m        \u001b[1;36m2018\u001b[0m\u001b[1;33m-\u001b[0m\u001b[1;36m0\u001b[0m\u001b[1;36m1\u001b[0m\u001b[1;33m-\u001b[0m\u001b[1;36m25\u001b[0m \u001b[1;36m16\u001b[0m\u001b[1;33m:\u001b[0m\u001b[1;36m00\u001b[0m\u001b[1;33m:\u001b[0m\u001b[1;36m00\u001b[0m\u001b[1;33m:\u001b[0m \u001b[1;36m32.082\u001b[0m\u001b[1;33m\n",
      "\u001b[0m        \u001b[1;36m2018\u001b[0m\u001b[1;33m-\u001b[0m\u001b[1;36m0\u001b[0m\u001b[1;36m1\u001b[0m\u001b[1;33m-\u001b[0m\u001b[1;36m25\u001b[0m \u001b[1;36m17\u001b[0m\u001b[1;33m:\u001b[0m\u001b[1;36m00\u001b[0m\u001b[1;33m:\u001b[0m\u001b[1;36m00\u001b[0m\u001b[1;33m:\u001b[0m \u001b[1;36m36.262\u001b[0m\u001b[1;33m\n",
      "\u001b[0m        \u001b[1;36m2018\u001b[0m\u001b[1;33m-\u001b[0m\u001b[1;36m0\u001b[0m\u001b[1;36m1\u001b[0m\u001b[1;33m-\u001b[0m\u001b[1;36m25\u001b[0m \u001b[1;36m18\u001b[0m\u001b[1;33m:\u001b[0m\u001b[1;36m00\u001b[0m\u001b[1;33m:\u001b[0m\u001b[1;36m00\u001b[0m\u001b[1;33m:\u001b[0m \u001b[1;36m34.472\u001b[0m\u001b[1;33m\n",
      "\u001b[0m        \u001b[1;36m2018\u001b[0m\u001b[1;33m-\u001b[0m\u001b[1;36m0\u001b[0m\u001b[1;36m1\u001b[0m\u001b[1;33m-\u001b[0m\u001b[1;36m25\u001b[0m \u001b[1;36m19\u001b[0m\u001b[1;33m:\u001b[0m\u001b[1;36m00\u001b[0m\u001b[1;33m:\u001b[0m\u001b[1;36m00\u001b[0m\u001b[1;33m:\u001b[0m \u001b[1;36m32.182\u001b[0m\u001b[1;33m\n",
      "\u001b[0m        \u001b[1;36m2018\u001b[0m\u001b[1;33m-\u001b[0m\u001b[1;36m0\u001b[0m\u001b[1;36m1\u001b[0m\u001b[1;33m-\u001b[0m\u001b[1;36m25\u001b[0m \u001b[1;36m20\u001b[0m\u001b[1;33m:\u001b[0m\u001b[1;36m00\u001b[0m\u001b[1;33m:\u001b[0m\u001b[1;36m00\u001b[0m\u001b[1;33m:\u001b[0m \u001b[1;36m31.492\u001b[0m\u001b[1;33m\n",
      "\u001b[0m        \u001b[1;36m2018\u001b[0m\u001b[1;33m-\u001b[0m\u001b[1;36m0\u001b[0m\u001b[1;36m1\u001b[0m\u001b[1;33m-\u001b[0m\u001b[1;36m25\u001b[0m \u001b[1;36m21\u001b[0m\u001b[1;33m:\u001b[0m\u001b[1;36m00\u001b[0m\u001b[1;33m:\u001b[0m\u001b[1;36m00\u001b[0m\u001b[1;33m:\u001b[0m \u001b[1;36m30.732\u001b[0m\u001b[1;33m\n",
      "\u001b[0m        \u001b[1;36m2018\u001b[0m\u001b[1;33m-\u001b[0m\u001b[1;36m0\u001b[0m\u001b[1;36m1\u001b[0m\u001b[1;33m-\u001b[0m\u001b[1;36m25\u001b[0m \u001b[1;36m22\u001b[0m\u001b[1;33m:\u001b[0m\u001b[1;36m00\u001b[0m\u001b[1;33m:\u001b[0m\u001b[1;36m00\u001b[0m\u001b[1;33m:\u001b[0m \u001b[1;36m29.712\u001b[0m\u001b[1;33m\n",
      "\u001b[0m        \u001b[1;36m2018\u001b[0m\u001b[1;33m-\u001b[0m\u001b[1;36m0\u001b[0m\u001b[1;36m1\u001b[0m\u001b[1;33m-\u001b[0m\u001b[1;36m25\u001b[0m \u001b[1;36m23\u001b[0m\u001b[1;33m:\u001b[0m\u001b[1;36m00\u001b[0m\u001b[1;33m:\u001b[0m\u001b[1;36m00\u001b[0m\u001b[1;33m:\u001b[0m \u001b[1;36m28.982\u001b[0m\u001b[1;33m\n",
      "\u001b[0m\u001b[0mconnections\u001b[0m\u001b[1;33m:\u001b[0m\u001b[1;33m\n",
      "\u001b[0m  \u001b[1;33m-\u001b[0m \u001b[1;32mfrom\u001b[0m\u001b[1;33m:\u001b[0m \u001b[0mPlant1\u001b[0m\u001b[1;33m\n",
      "\u001b[0m    \u001b[0mto\u001b[0m\u001b[1;33m:\u001b[0m \u001b[0mReservoir2\u001b[0m\u001b[1;33m\n",
      "\u001b[0m  \u001b[1;33m-\u001b[0m \u001b[1;32mfrom\u001b[0m\u001b[1;33m:\u001b[0m \u001b[0mReservoir1\u001b[0m\u001b[1;33m\n",
      "\u001b[0m    \u001b[0mto\u001b[0m\u001b[1;33m:\u001b[0m \u001b[0mPlant1\u001b[0m\u001b[1;33m\n",
      "\u001b[0m  \u001b[1;33m-\u001b[0m \u001b[1;32mfrom\u001b[0m\u001b[1;33m:\u001b[0m \u001b[0mPlant1_G1\u001b[0m\u001b[1;33m\n",
      "\u001b[0m    \u001b[0mto\u001b[0m\u001b[1;33m:\u001b[0m \u001b[0mPlant1\u001b[0m\u001b[1;33m\n",
      "\u001b[0m  \u001b[1;33m-\u001b[0m \u001b[1;32mfrom\u001b[0m\u001b[1;33m:\u001b[0m \u001b[0mPlant1_G2\u001b[0m\u001b[1;33m\n",
      "\u001b[0m    \u001b[0mto\u001b[0m\u001b[1;33m:\u001b[0m \u001b[0mPlant1\u001b[0m\u001b[1;33m\n",
      "\u001b[0m  \u001b[1;33m-\u001b[0m \u001b[1;32mfrom\u001b[0m\u001b[1;33m:\u001b[0m \u001b[0mReservoir2\u001b[0m\u001b[1;33m\n",
      "\u001b[0m    \u001b[0mto\u001b[0m\u001b[1;33m:\u001b[0m \u001b[0mPlant2\u001b[0m\u001b[1;33m\n",
      "\u001b[0m  \u001b[1;33m-\u001b[0m \u001b[1;32mfrom\u001b[0m\u001b[1;33m:\u001b[0m \u001b[0mPlant2_G1\u001b[0m\u001b[1;33m\n",
      "\u001b[0m    \u001b[0mto\u001b[0m\u001b[1;33m:\u001b[0m \u001b[0mPlant2\u001b[0m\u001b[1;33m\n",
      "\u001b[0m  \u001b[1;33m-\u001b[0m \u001b[1;32mfrom\u001b[0m\u001b[1;33m:\u001b[0m \u001b[0mPlant2_G2\u001b[0m\u001b[1;33m\n",
      "\u001b[0m    \u001b[0mto\u001b[0m\u001b[1;33m:\u001b[0m \u001b[0mPlant2\u001b[0m\u001b[1;33m\n",
      "\u001b[0m  \u001b[1;33m-\u001b[0m \u001b[1;32mfrom\u001b[0m\u001b[1;33m:\u001b[0m \u001b[0mPlant2_G3\u001b[0m\u001b[1;33m\n",
      "\u001b[0m    \u001b[0mto\u001b[0m\u001b[1;33m:\u001b[0m \u001b[0mPlant2\u001b[0m\u001b[1;33m\n",
      "\u001b[0m  \u001b[1;33m-\u001b[0m \u001b[1;32mfrom\u001b[0m\u001b[1;33m:\u001b[0m \u001b[0mPlant2_G4\u001b[0m\u001b[1;33m\n",
      "\u001b[0m    \u001b[0mto\u001b[0m\u001b[1;33m:\u001b[0m \u001b[0mPlant2\u001b[0m\u001b[1;33m\u001b[0m\u001b[1;33m\u001b[0m\u001b[0m\n"
     ]
    }
   ],
   "metadata": {}
  },
  {
   "cell_type": "markdown",
   "source": [
    "## reserve_obligation.yaml <a name=\"reserve_obligation.yaml\"></a>"
   ],
   "metadata": {}
  },
  {
   "cell_type": "code",
   "execution_count": 8,
   "source": [
    "%pycat reserve_obligation.yaml"
   ],
   "outputs": [
    {
     "output_type": "stream",
     "name": "stdout",
     "text": [
      "\u001b[0mmodel\u001b[0m\u001b[1;33m:\u001b[0m\u001b[1;33m\n",
      "\u001b[0m  \u001b[0mreserve_group\u001b[0m\u001b[1;33m:\u001b[0m\u001b[1;33m\n",
      "\u001b[0m    \u001b[0mfcr_group\u001b[0m\u001b[1;33m:\u001b[0m\u001b[1;33m\n",
      "\u001b[0m      \u001b[0mfcr_n_up_obligation\u001b[0m\u001b[1;33m:\u001b[0m\u001b[1;33m\n",
      "\u001b[0m        \u001b[1;36m2018\u001b[0m\u001b[1;33m-\u001b[0m\u001b[1;36m0\u001b[0m\u001b[1;36m1\u001b[0m\u001b[1;33m-\u001b[0m\u001b[1;36m23\u001b[0m \u001b[1;36m00\u001b[0m\u001b[1;33m:\u001b[0m\u001b[1;36m00\u001b[0m\u001b[1;33m:\u001b[0m\u001b[1;36m00\u001b[0m\u001b[1;33m:\u001b[0m \u001b[1;36m20\u001b[0m\u001b[1;33m\n",
      "\u001b[0m      \u001b[0mfcr_n_down_obligation\u001b[0m\u001b[1;33m:\u001b[0m\u001b[1;33m\n",
      "\u001b[0m        \u001b[1;36m2018\u001b[0m\u001b[1;33m-\u001b[0m\u001b[1;36m0\u001b[0m\u001b[1;36m1\u001b[0m\u001b[1;33m-\u001b[0m\u001b[1;36m23\u001b[0m \u001b[1;36m00\u001b[0m\u001b[1;33m:\u001b[0m\u001b[1;36m00\u001b[0m\u001b[1;33m:\u001b[0m\u001b[1;36m00\u001b[0m\u001b[1;33m:\u001b[0m \u001b[1;36m20\u001b[0m\u001b[1;33m\n",
      "\u001b[0m\u001b[0mconnections\u001b[0m\u001b[1;33m:\u001b[0m\u001b[1;33m\n",
      "\u001b[0m  \u001b[1;33m-\u001b[0m \u001b[1;32mfrom\u001b[0m\u001b[1;33m:\u001b[0m \u001b[0mfcr_group\u001b[0m\u001b[1;33m\n",
      "\u001b[0m    \u001b[0mto\u001b[0m\u001b[1;33m:\u001b[0m \u001b[0mPlant1_G1\u001b[0m\u001b[1;33m\n",
      "\u001b[0m  \u001b[1;33m-\u001b[0m \u001b[1;32mfrom\u001b[0m\u001b[1;33m:\u001b[0m \u001b[0mfcr_group\u001b[0m\u001b[1;33m\n",
      "\u001b[0m    \u001b[0mto\u001b[0m\u001b[1;33m:\u001b[0m \u001b[0mPlant1_G2\u001b[0m\u001b[1;33m\n",
      "\u001b[0m  \u001b[1;33m-\u001b[0m \u001b[1;32mfrom\u001b[0m\u001b[1;33m:\u001b[0m \u001b[0mfcr_group\u001b[0m\u001b[1;33m\n",
      "\u001b[0m    \u001b[0mto\u001b[0m\u001b[1;33m:\u001b[0m \u001b[0mPlant2_G1\u001b[0m\u001b[1;33m\n",
      "\u001b[0m  \u001b[1;33m-\u001b[0m \u001b[1;32mfrom\u001b[0m\u001b[1;33m:\u001b[0m \u001b[0mfcr_group\u001b[0m\u001b[1;33m\n",
      "\u001b[0m    \u001b[0mto\u001b[0m\u001b[1;33m:\u001b[0m \u001b[0mPlant2_G2\u001b[0m\u001b[1;33m\n",
      "\u001b[0m  \u001b[1;33m-\u001b[0m \u001b[1;32mfrom\u001b[0m\u001b[1;33m:\u001b[0m \u001b[0mfcr_group\u001b[0m\u001b[1;33m\n",
      "\u001b[0m    \u001b[0mto\u001b[0m\u001b[1;33m:\u001b[0m \u001b[0mPlant2_G3\u001b[0m\u001b[1;33m\n",
      "\u001b[0m  \u001b[1;33m-\u001b[0m \u001b[1;32mfrom\u001b[0m\u001b[1;33m:\u001b[0m \u001b[0mfcr_group\u001b[0m\u001b[1;33m\n",
      "\u001b[0m    \u001b[0mto\u001b[0m\u001b[1;33m:\u001b[0m \u001b[0mPlant2_G4\u001b[0m\u001b[1;33m\u001b[0m\u001b[1;33m\u001b[0m\u001b[0m\n"
     ]
    }
   ],
   "metadata": {}
  },
  {
   "cell_type": "markdown",
   "source": [
    "## discrete_droop_input.yaml <a name=\"discrete_droop_input.yaml\"></a>"
   ],
   "metadata": {}
  },
  {
   "cell_type": "code",
   "execution_count": 9,
   "source": [
    "%pycat discrete_droop_input.yaml"
   ],
   "outputs": [
    {
     "output_type": "stream",
     "name": "stdout",
     "text": [
      "\u001b[0mmodel\u001b[0m\u001b[1;33m:\u001b[0m\u001b[1;33m\n",
      "\u001b[0m  \u001b[0mgenerator\u001b[0m\u001b[1;33m:\u001b[0m\u001b[1;33m\n",
      "\u001b[0m    \u001b[0mPlant2_G1\u001b[0m\u001b[1;33m:\u001b[0m\u001b[1;33m\n",
      "\u001b[0m      \u001b[0mdiscrete_droop_values\u001b[0m\u001b[1;33m:\u001b[0m\u001b[1;33m\n",
      "\u001b[0m        \u001b[1;33m-\u001b[0m \u001b[1;36m1\u001b[0m\u001b[1;33m\n",
      "\u001b[0m        \u001b[1;33m-\u001b[0m \u001b[1;36m1.5\u001b[0m\u001b[1;33m\n",
      "\u001b[0m        \u001b[1;33m-\u001b[0m \u001b[1;36m2\u001b[0m\u001b[1;33m\n",
      "\u001b[0m        \u001b[1;33m-\u001b[0m \u001b[1;36m2.5\u001b[0m\u001b[1;33m\n",
      "\u001b[0m        \u001b[1;33m-\u001b[0m \u001b[1;36m3\u001b[0m\u001b[1;33m\n",
      "\u001b[0m        \u001b[1;33m-\u001b[0m \u001b[1;36m3.5\u001b[0m\u001b[1;33m\n",
      "\u001b[0m        \u001b[1;33m-\u001b[0m \u001b[1;36m4\u001b[0m\u001b[1;33m\n",
      "\u001b[0m        \u001b[1;33m-\u001b[0m \u001b[1;36m4.5\u001b[0m\u001b[1;33m\n",
      "\u001b[0m        \u001b[1;33m-\u001b[0m \u001b[1;36m5\u001b[0m\u001b[1;33m\n",
      "\u001b[0m        \u001b[1;33m-\u001b[0m \u001b[1;36m5.5\u001b[0m\u001b[1;33m\n",
      "\u001b[0m        \u001b[1;33m-\u001b[0m \u001b[1;36m6\u001b[0m\u001b[1;33m\n",
      "\u001b[0m        \u001b[1;33m-\u001b[0m \u001b[1;36m6.5\u001b[0m\u001b[1;33m\n",
      "\u001b[0m        \u001b[1;33m-\u001b[0m \u001b[1;36m7\u001b[0m\u001b[1;33m\n",
      "\u001b[0m        \u001b[1;33m-\u001b[0m \u001b[1;36m7.5\u001b[0m\u001b[1;33m\n",
      "\u001b[0m        \u001b[1;33m-\u001b[0m \u001b[1;36m8\u001b[0m\u001b[1;33m\n",
      "\u001b[0m        \u001b[1;33m-\u001b[0m \u001b[1;36m8.5\u001b[0m\u001b[1;33m\n",
      "\u001b[0m        \u001b[1;33m-\u001b[0m \u001b[1;36m9\u001b[0m\u001b[1;33m\n",
      "\u001b[0m        \u001b[1;33m-\u001b[0m \u001b[1;36m9.5\u001b[0m\u001b[1;33m\n",
      "\u001b[0m        \u001b[1;33m-\u001b[0m \u001b[1;36m10\u001b[0m\u001b[1;33m\n",
      "\u001b[0m        \u001b[1;33m-\u001b[0m \u001b[1;36m10.5\u001b[0m\u001b[1;33m\n",
      "\u001b[0m        \u001b[1;33m-\u001b[0m \u001b[1;36m11\u001b[0m\u001b[1;33m\n",
      "\u001b[0m        \u001b[1;33m-\u001b[0m \u001b[1;36m11.5\u001b[0m\u001b[1;33m\n",
      "\u001b[0m        \u001b[1;33m-\u001b[0m \u001b[1;36m12\u001b[0m\u001b[1;33m\n",
      "\u001b[0m    \u001b[0mPlant2_G2\u001b[0m\u001b[1;33m:\u001b[0m\u001b[1;33m\n",
      "\u001b[0m      \u001b[0mdiscrete_droop_values\u001b[0m\u001b[1;33m:\u001b[0m\u001b[1;33m\n",
      "\u001b[0m        \u001b[1;33m-\u001b[0m \u001b[1;36m1\u001b[0m\u001b[1;33m\n",
      "\u001b[0m        \u001b[1;33m-\u001b[0m \u001b[1;36m1.5\u001b[0m\u001b[1;33m\n",
      "\u001b[0m        \u001b[1;33m-\u001b[0m \u001b[1;36m2\u001b[0m\u001b[1;33m\n",
      "\u001b[0m        \u001b[1;33m-\u001b[0m \u001b[1;36m2.5\u001b[0m\u001b[1;33m\n",
      "\u001b[0m        \u001b[1;33m-\u001b[0m \u001b[1;36m3\u001b[0m\u001b[1;33m\n",
      "\u001b[0m        \u001b[1;33m-\u001b[0m \u001b[1;36m3.5\u001b[0m\u001b[1;33m\n",
      "\u001b[0m        \u001b[1;33m-\u001b[0m \u001b[1;36m4\u001b[0m\u001b[1;33m\n",
      "\u001b[0m        \u001b[1;33m-\u001b[0m \u001b[1;36m4.5\u001b[0m\u001b[1;33m\n",
      "\u001b[0m        \u001b[1;33m-\u001b[0m \u001b[1;36m5\u001b[0m\u001b[1;33m\n",
      "\u001b[0m        \u001b[1;33m-\u001b[0m \u001b[1;36m5.5\u001b[0m\u001b[1;33m\n",
      "\u001b[0m        \u001b[1;33m-\u001b[0m \u001b[1;36m6\u001b[0m\u001b[1;33m\n",
      "\u001b[0m        \u001b[1;33m-\u001b[0m \u001b[1;36m6.5\u001b[0m\u001b[1;33m\n",
      "\u001b[0m        \u001b[1;33m-\u001b[0m \u001b[1;36m7\u001b[0m\u001b[1;33m\n",
      "\u001b[0m        \u001b[1;33m-\u001b[0m \u001b[1;36m7.5\u001b[0m\u001b[1;33m\n",
      "\u001b[0m        \u001b[1;33m-\u001b[0m \u001b[1;36m8\u001b[0m\u001b[1;33m\n",
      "\u001b[0m        \u001b[1;33m-\u001b[0m \u001b[1;36m8.5\u001b[0m\u001b[1;33m\n",
      "\u001b[0m        \u001b[1;33m-\u001b[0m \u001b[1;36m9\u001b[0m\u001b[1;33m\n",
      "\u001b[0m        \u001b[1;33m-\u001b[0m \u001b[1;36m9.5\u001b[0m\u001b[1;33m\n",
      "\u001b[0m        \u001b[1;33m-\u001b[0m \u001b[1;36m10\u001b[0m\u001b[1;33m\n",
      "\u001b[0m        \u001b[1;33m-\u001b[0m \u001b[1;36m10.5\u001b[0m\u001b[1;33m\n",
      "\u001b[0m        \u001b[1;33m-\u001b[0m \u001b[1;36m11\u001b[0m\u001b[1;33m\n",
      "\u001b[0m        \u001b[1;33m-\u001b[0m \u001b[1;36m11.5\u001b[0m\u001b[1;33m\n",
      "\u001b[0m        \u001b[1;33m-\u001b[0m \u001b[1;36m12\u001b[0m\u001b[1;33m\n",
      "\u001b[0m    \u001b[0mPlant2_G3\u001b[0m\u001b[1;33m:\u001b[0m\u001b[1;33m\n",
      "\u001b[0m      \u001b[0mdiscrete_droop_values\u001b[0m\u001b[1;33m:\u001b[0m\u001b[1;33m\n",
      "\u001b[0m        \u001b[1;33m-\u001b[0m \u001b[1;36m1\u001b[0m\u001b[1;33m\n",
      "\u001b[0m        \u001b[1;33m-\u001b[0m \u001b[1;36m1.5\u001b[0m\u001b[1;33m\n",
      "\u001b[0m        \u001b[1;33m-\u001b[0m \u001b[1;36m2\u001b[0m\u001b[1;33m\n",
      "\u001b[0m        \u001b[1;33m-\u001b[0m \u001b[1;36m2.5\u001b[0m\u001b[1;33m\n",
      "\u001b[0m        \u001b[1;33m-\u001b[0m \u001b[1;36m3\u001b[0m\u001b[1;33m\n",
      "\u001b[0m        \u001b[1;33m-\u001b[0m \u001b[1;36m3.5\u001b[0m\u001b[1;33m\n",
      "\u001b[0m        \u001b[1;33m-\u001b[0m \u001b[1;36m4\u001b[0m\u001b[1;33m\n",
      "\u001b[0m        \u001b[1;33m-\u001b[0m \u001b[1;36m4.5\u001b[0m\u001b[1;33m\n",
      "\u001b[0m        \u001b[1;33m-\u001b[0m \u001b[1;36m5\u001b[0m\u001b[1;33m\n",
      "\u001b[0m        \u001b[1;33m-\u001b[0m \u001b[1;36m5.5\u001b[0m\u001b[1;33m\n",
      "\u001b[0m        \u001b[1;33m-\u001b[0m \u001b[1;36m6\u001b[0m\u001b[1;33m\n",
      "\u001b[0m        \u001b[1;33m-\u001b[0m \u001b[1;36m6.5\u001b[0m\u001b[1;33m\n",
      "\u001b[0m        \u001b[1;33m-\u001b[0m \u001b[1;36m7\u001b[0m\u001b[1;33m\n",
      "\u001b[0m        \u001b[1;33m-\u001b[0m \u001b[1;36m7.5\u001b[0m\u001b[1;33m\n",
      "\u001b[0m        \u001b[1;33m-\u001b[0m \u001b[1;36m8\u001b[0m\u001b[1;33m\n",
      "\u001b[0m        \u001b[1;33m-\u001b[0m \u001b[1;36m8.5\u001b[0m\u001b[1;33m\n",
      "\u001b[0m        \u001b[1;33m-\u001b[0m \u001b[1;36m9\u001b[0m\u001b[1;33m\n",
      "\u001b[0m        \u001b[1;33m-\u001b[0m \u001b[1;36m9.5\u001b[0m\u001b[1;33m\n",
      "\u001b[0m        \u001b[1;33m-\u001b[0m \u001b[1;36m10\u001b[0m\u001b[1;33m\n",
      "\u001b[0m        \u001b[1;33m-\u001b[0m \u001b[1;36m10.5\u001b[0m\u001b[1;33m\n",
      "\u001b[0m        \u001b[1;33m-\u001b[0m \u001b[1;36m11\u001b[0m\u001b[1;33m\n",
      "\u001b[0m        \u001b[1;33m-\u001b[0m \u001b[1;36m11.5\u001b[0m\u001b[1;33m\n",
      "\u001b[0m        \u001b[1;33m-\u001b[0m \u001b[1;36m12\u001b[0m\u001b[1;33m\n",
      "\u001b[0m    \u001b[0mPlant2_G4\u001b[0m\u001b[1;33m:\u001b[0m    \u001b[1;33m\n",
      "\u001b[0m      \u001b[0mdiscrete_droop_values\u001b[0m\u001b[1;33m:\u001b[0m\u001b[1;33m\n",
      "\u001b[0m        \u001b[1;33m-\u001b[0m \u001b[1;36m1\u001b[0m\u001b[1;33m\n",
      "\u001b[0m        \u001b[1;33m-\u001b[0m \u001b[1;36m1.5\u001b[0m\u001b[1;33m\n",
      "\u001b[0m        \u001b[1;33m-\u001b[0m \u001b[1;36m2\u001b[0m\u001b[1;33m\n",
      "\u001b[0m        \u001b[1;33m-\u001b[0m \u001b[1;36m2.5\u001b[0m\u001b[1;33m\n",
      "\u001b[0m        \u001b[1;33m-\u001b[0m \u001b[1;36m3\u001b[0m\u001b[1;33m\n",
      "\u001b[0m        \u001b[1;33m-\u001b[0m \u001b[1;36m3.5\u001b[0m\u001b[1;33m\n",
      "\u001b[0m        \u001b[1;33m-\u001b[0m \u001b[1;36m4\u001b[0m\u001b[1;33m\n",
      "\u001b[0m        \u001b[1;33m-\u001b[0m \u001b[1;36m4.5\u001b[0m\u001b[1;33m\n",
      "\u001b[0m        \u001b[1;33m-\u001b[0m \u001b[1;36m5\u001b[0m\u001b[1;33m\n",
      "\u001b[0m        \u001b[1;33m-\u001b[0m \u001b[1;36m5.5\u001b[0m\u001b[1;33m\n",
      "\u001b[0m        \u001b[1;33m-\u001b[0m \u001b[1;36m6\u001b[0m\u001b[1;33m\n",
      "\u001b[0m        \u001b[1;33m-\u001b[0m \u001b[1;36m6.5\u001b[0m\u001b[1;33m\n",
      "\u001b[0m        \u001b[1;33m-\u001b[0m \u001b[1;36m7\u001b[0m\u001b[1;33m\n",
      "\u001b[0m        \u001b[1;33m-\u001b[0m \u001b[1;36m7.5\u001b[0m\u001b[1;33m\n",
      "\u001b[0m        \u001b[1;33m-\u001b[0m \u001b[1;36m8\u001b[0m\u001b[1;33m\n",
      "\u001b[0m        \u001b[1;33m-\u001b[0m \u001b[1;36m8.5\u001b[0m\u001b[1;33m\n",
      "\u001b[0m        \u001b[1;33m-\u001b[0m \u001b[1;36m9\u001b[0m\u001b[1;33m\n",
      "\u001b[0m        \u001b[1;33m-\u001b[0m \u001b[1;36m9.5\u001b[0m\u001b[1;33m\n",
      "\u001b[0m        \u001b[1;33m-\u001b[0m \u001b[1;36m10\u001b[0m\u001b[1;33m\n",
      "\u001b[0m        \u001b[1;33m-\u001b[0m \u001b[1;36m10.5\u001b[0m\u001b[1;33m\n",
      "\u001b[0m        \u001b[1;33m-\u001b[0m \u001b[1;36m11\u001b[0m\u001b[1;33m\n",
      "\u001b[0m        \u001b[1;33m-\u001b[0m \u001b[1;36m11.5\u001b[0m\u001b[1;33m\n",
      "\u001b[0m        \u001b[1;33m-\u001b[0m \u001b[1;36m12\u001b[0m\u001b[1;33m\u001b[0m\u001b[1;33m\u001b[0m\u001b[0m\n"
     ]
    }
   ],
   "metadata": {}
  },
  {
   "cell_type": "markdown",
   "source": [
    "## model.ascii <a name=\"model.ascii\"></a>"
   ],
   "metadata": {}
  },
  {
   "cell_type": "code",
   "execution_count": 10,
   "source": [
    "%pycat model.ascii"
   ],
   "outputs": [
    {
     "output_type": "stream",
     "name": "stdout",
     "text": [
      "\u001b[1;31m#;\u001b[0m\u001b[1;33m\n",
      "\u001b[0m\u001b[1;31m# Name of the datafile is: model.ascii;\u001b[0m\u001b[1;33m\n",
      "\u001b[0m\u001b[1;31m#;\u001b[0m\u001b[1;33m\n",
      "\u001b[0m\u001b[1;33m\n",
      "\u001b[0m\u001b[0mSIZE\u001b[0m\u001b[1;33m\n",
      "\u001b[0m\u001b[1;31m#Num_reservoirs;Num_plants;Num_gates;Num_junctions\u001b[0m\u001b[1;33m\n",
      "\u001b[0m\u001b[1;36m2\u001b[0m            \u001b[1;36m2\u001b[0m          \u001b[1;36m0\u001b[0m           \u001b[1;36m0\u001b[0m\u001b[1;33m\n",
      "\u001b[0m\u001b[1;33m\n",
      "\u001b[0m\u001b[0mOPTIMIZATION\u001b[0m \u001b[0mtime\u001b[0m\u001b[1;33m\n",
      "\u001b[0m\u001b[1;31m#Start_time;   End_time;\u001b[0m\u001b[1;33m\n",
      "\u001b[0m\u001b[1;36m20180123000000\u001b[0m \u001b[1;36m20180126000000\u001b[0m\u001b[1;33m\n",
      "\u001b[0m\u001b[1;33m\n",
      "\u001b[0m\u001b[1;31m#;N_full_iterations;Accuracy;\u001b[0m\u001b[1;33m\n",
      "\u001b[0m\u001b[0mOPTIMIZATION\u001b[0m   \u001b[1;36m1000\u001b[0m       \u001b[1;36m1.00\u001b[0m\u001b[1;33m\n",
      "\u001b[0m\u001b[1;31m#Time resolution in the optimization;\u001b[0m\u001b[1;33m\n",
      "\u001b[0m\u001b[1;31m#Id;Number;Start_Time;Time_unit;Period;Data_type;Y_unit;Pts;\u001b[0m\u001b[1;33m\n",
      "\u001b[0m\u001b[1;36m0\u001b[0m      \u001b[1;36m0\u001b[0m \u001b[1;36m20180123000000000\u001b[0m \u001b[0mHOUR\u001b[0m      \u001b[1;36m0\u001b[0m     \u001b[1;33m-\u001b[0m\u001b[1;36m1\u001b[0m \u001b[0mNO_UNIT\u001b[0m     \u001b[1;36m73\u001b[0m\u001b[1;33m\n",
      "\u001b[0m\u001b[1;31m#            Time;      f(t);\u001b[0m\u001b[1;33m\n",
      "\u001b[0m\u001b[1;36m20180123000000000\u001b[0m \u001b[1;36m1.00000000000000000\u001b[0m\u001b[1;33m\n",
      "\u001b[0m\u001b[1;33m\n",
      "\u001b[0m\u001b[0mGLOBAL_SETTINGS\u001b[0m \u001b[0mmipgap_rel\u001b[0m\u001b[1;33m\n",
      "\u001b[0m\u001b[1;31m# relative mipgap for the optimization;\u001b[0m\u001b[1;33m\n",
      "\u001b[0m\u001b[1;36m0.000000\u001b[0m\u001b[1;33m\n",
      "\u001b[0m\u001b[1;33m\n",
      "\u001b[0m\u001b[0mGLOBAL_SETTINGS\u001b[0m \u001b[0mmipgap_abs\u001b[0m\u001b[1;33m\n",
      "\u001b[0m\u001b[1;31m# absolute mipgap_unit for the optimization;\u001b[0m\u001b[1;33m\n",
      "\u001b[0m\u001b[1;36m0.000000\u001b[0m\u001b[1;33m\n",
      "\u001b[0m\u001b[1;33m\n",
      "\u001b[0m\u001b[0mRESERVOIR\u001b[0m \u001b[0mattributes\u001b[0m \u001b[0mReservoir1\u001b[0m\u001b[1;33m\n",
      "\u001b[0m\u001b[1;31m#ID;Water_course;Type;Maxvol;Lrl;Hrl;\u001b[0m\u001b[1;33m\n",
      "\u001b[0m\u001b[1;36m0\u001b[0m      \u001b[1;36m0\u001b[0m      \u001b[1;36m0\u001b[0m     \u001b[1;36m39.000\u001b[0m    \u001b[1;36m860.000\u001b[0m    \u001b[1;36m905.000\u001b[0m\u001b[1;33m\n",
      "\u001b[0m\u001b[1;33m\n",
      "\u001b[0m\u001b[0mRESERVOIR\u001b[0m \u001b[0mvol_head\u001b[0m \u001b[0mReservoir1\u001b[0m\u001b[1;33m\n",
      "\u001b[0m\u001b[1;31m#Id;Number;Reference;Pts;X_unit;Y_unit\u001b[0m\u001b[1;33m\n",
      "\u001b[0m\u001b[1;36m0\u001b[0m      \u001b[1;36m0\u001b[0m       \u001b[1;36m0.00\u001b[0m      \u001b[1;36m3\u001b[0m \u001b[0mMM3\u001b[0m \u001b[0mMETER\u001b[0m\u001b[1;33m\n",
      "\u001b[0m\u001b[1;31m#  x_value;   y_value;\u001b[0m\u001b[1;33m\n",
      "\u001b[0m\u001b[1;36m0.0000000000\u001b[0m \u001b[1;36m860.0000000000\u001b[0m\u001b[1;33m\n",
      "\u001b[0m\u001b[1;36m39.0000000000\u001b[0m \u001b[1;36m906.0000000000\u001b[0m\u001b[1;33m\n",
      "\u001b[0m\u001b[1;36m41.6600000000\u001b[0m \u001b[1;36m907.0000000000\u001b[0m\u001b[1;33m\n",
      "\u001b[0m\u001b[1;33m\n",
      "\u001b[0m\u001b[0mRESERVOIR\u001b[0m \u001b[0menergy_value_input\u001b[0m \u001b[0mReservoir1\u001b[0m\u001b[1;33m\n",
      "\u001b[0m\u001b[1;31m#Id;Number;Reference;Pts;X_unit;Y_unit\u001b[0m\u001b[1;33m\n",
      "\u001b[0m\u001b[1;36m0\u001b[0m      \u001b[1;36m0\u001b[0m       \u001b[1;36m0.00\u001b[0m      \u001b[1;36m1\u001b[0m \u001b[0mMM3\u001b[0m \u001b[0mNOK\u001b[0m\u001b[1;33m/\u001b[0m\u001b[0mMWH\u001b[0m\u001b[1;33m\n",
      "\u001b[0m\u001b[1;31m#  x_value;   y_value;\u001b[0m\u001b[1;33m\n",
      "\u001b[0m\u001b[1;36m0.0000000000\u001b[0m \u001b[1;36m30.0000000000\u001b[0m\u001b[1;33m\n",
      "\u001b[0m\u001b[1;33m\n",
      "\u001b[0m\u001b[0mRESERVOIR\u001b[0m \u001b[0mattributes\u001b[0m \u001b[0mReservoir2\u001b[0m\u001b[1;33m\n",
      "\u001b[0m\u001b[1;31m#ID;Water_course;Type;Maxvol;Lrl;Hrl;\u001b[0m\u001b[1;33m\n",
      "\u001b[0m\u001b[1;36m0\u001b[0m      \u001b[1;36m0\u001b[0m      \u001b[1;36m0\u001b[0m     \u001b[1;36m97.500\u001b[0m    \u001b[1;36m650.000\u001b[0m    \u001b[1;36m679.000\u001b[0m\u001b[1;33m\n",
      "\u001b[0m\u001b[1;33m\n",
      "\u001b[0m\u001b[0mRESERVOIR\u001b[0m \u001b[0mvol_head\u001b[0m \u001b[0mReservoir2\u001b[0m\u001b[1;33m\n",
      "\u001b[0m\u001b[1;31m#Id;Number;Reference;Pts;X_unit;Y_unit\u001b[0m\u001b[1;33m\n",
      "\u001b[0m\u001b[1;36m0\u001b[0m      \u001b[1;36m0\u001b[0m       \u001b[1;36m0.00\u001b[0m      \u001b[1;36m3\u001b[0m \u001b[0mMM3\u001b[0m \u001b[0mMETER\u001b[0m\u001b[1;33m\n",
      "\u001b[0m\u001b[1;31m#  x_value;   y_value;\u001b[0m\u001b[1;33m\n",
      "\u001b[0m\u001b[1;36m0.0000000000\u001b[0m \u001b[1;36m650.0000000000\u001b[0m\u001b[1;33m\n",
      "\u001b[0m\u001b[1;36m97.5000000000\u001b[0m \u001b[1;36m679.0000000000\u001b[0m\u001b[1;33m\n",
      "\u001b[0m\u001b[1;36m104.1500000000\u001b[0m \u001b[1;36m680.0000000000\u001b[0m\u001b[1;33m\n",
      "\u001b[0m\u001b[1;33m\n",
      "\u001b[0m\u001b[0mRESERVOIR\u001b[0m \u001b[0minflow\u001b[0m \u001b[0mReservoir2\u001b[0m\u001b[1;33m\n",
      "\u001b[0m\u001b[1;31m#Id;Number;Start_Time;Time_unit;Period;Data_type;Y_unit;Pts;\u001b[0m\u001b[1;33m\n",
      "\u001b[0m\u001b[1;36m0\u001b[0m      \u001b[1;36m0\u001b[0m \u001b[1;36m20180123000000000\u001b[0m \u001b[0mHOUR\u001b[0m      \u001b[1;36m0\u001b[0m     \u001b[1;33m-\u001b[0m\u001b[1;36m1\u001b[0m \u001b[0mM3\u001b[0m\u001b[1;33m/\u001b[0m\u001b[0mS\u001b[0m     \u001b[1;36m73\u001b[0m\u001b[1;33m\n",
      "\u001b[0m\u001b[1;31m#            Time;      f(t);\u001b[0m\u001b[1;33m\n",
      "\u001b[0m\u001b[1;36m20180123000000000\u001b[0m \u001b[1;36m60.00000000000000000\u001b[0m\u001b[1;33m\n",
      "\u001b[0m\u001b[1;33m\n",
      "\u001b[0m\u001b[0mRESERVOIR\u001b[0m \u001b[0menergy_value_input\u001b[0m \u001b[0mReservoir2\u001b[0m\u001b[1;33m\n",
      "\u001b[0m\u001b[1;31m#Id;Number;Reference;Pts;X_unit;Y_unit\u001b[0m\u001b[1;33m\n",
      "\u001b[0m\u001b[1;36m0\u001b[0m      \u001b[1;36m0\u001b[0m       \u001b[1;36m0.00\u001b[0m      \u001b[1;36m1\u001b[0m \u001b[0mMM3\u001b[0m \u001b[0mNOK\u001b[0m\u001b[1;33m/\u001b[0m\u001b[0mMWH\u001b[0m\u001b[1;33m\n",
      "\u001b[0m\u001b[1;31m#  x_value;   y_value;\u001b[0m\u001b[1;33m\n",
      "\u001b[0m\u001b[1;36m0.0000000000\u001b[0m \u001b[1;36m10.0000000000\u001b[0m\u001b[1;33m\n",
      "\u001b[0m\u001b[1;33m\n",
      "\u001b[0m\u001b[0mPLANT\u001b[0m \u001b[0mattributes\u001b[0m \u001b[0mPlant1\u001b[0m\u001b[1;33m\n",
      "\u001b[0m\u001b[1;31m#Id;Water_course;Type;Future_use;Prod_area;Num_gen;Num_pump;\u001b[0m\u001b[1;33m\n",
      "\u001b[0m\u001b[1;36m0\u001b[0m      \u001b[1;36m0\u001b[0m      \u001b[1;36m6\u001b[0m      \u001b[1;36m0\u001b[0m      \u001b[1;36m1\u001b[0m      \u001b[1;36m2\u001b[0m      \u001b[1;36m0\u001b[0m\u001b[1;33m\n",
      "\u001b[0m\u001b[1;31m#Num_main_seg;Num_penstock;Time_delay;Read_prod_factor;Outlet_line;\u001b[0m\u001b[1;33m\n",
      "\u001b[0m\u001b[1;36m1\u001b[0m      \u001b[1;36m1\u001b[0m      \u001b[1;36m0\u001b[0m   \u001b[1;36m0.000000\u001b[0m \u001b[1;36m672.000000\u001b[0m\u001b[1;33m\n",
      "\u001b[0m\u001b[1;36m0.000000\u001b[0m\u001b[1;33m\n",
      "\u001b[0m\u001b[1;36m0.001000\u001b[0m\u001b[1;33m\n",
      "\u001b[0m\u001b[1;33m\n",
      "\u001b[0m\u001b[0mPLANT\u001b[0m \u001b[0mmip_flag\u001b[0m \u001b[0mPlant1\u001b[0m\u001b[1;33m\n",
      "\u001b[0m\u001b[1;31m#Id;Number;Start_Time;Time_unit;Period;Data_type;Y_unit;Pts;\u001b[0m\u001b[1;33m\n",
      "\u001b[0m\u001b[1;36m0\u001b[0m      \u001b[1;36m0\u001b[0m \u001b[1;36m20180123000000000\u001b[0m \u001b[0mHOUR\u001b[0m      \u001b[1;36m0\u001b[0m     \u001b[1;33m-\u001b[0m\u001b[1;36m1\u001b[0m \u001b[0mNO_UNIT\u001b[0m     \u001b[1;36m73\u001b[0m\u001b[1;33m\n",
      "\u001b[0m\u001b[1;31m#            Time;      f(t);\u001b[0m\u001b[1;33m\n",
      "\u001b[0m\u001b[1;36m20180123000000000\u001b[0m \u001b[1;36m1.00000000000000000\u001b[0m\u001b[1;33m\n",
      "\u001b[0m\u001b[1;33m\n",
      "\u001b[0m\u001b[0mGENERATOR\u001b[0m \u001b[0mattributes\u001b[0m \u001b[0mPlant1\u001b[0m      \u001b[1;36m1\u001b[0m\u001b[1;33m\n",
      "\u001b[0m\u001b[1;31m#Id Type Penstock Nom_prod Min_prod Max_prod Start_cost\u001b[0m\u001b[1;33m\n",
      "\u001b[0m\u001b[1;36m0\u001b[0m      \u001b[1;36m7\u001b[0m      \u001b[1;36m1\u001b[0m     \u001b[1;36m120.00\u001b[0m      \u001b[1;36m60.00\u001b[0m     \u001b[1;36m120.00\u001b[0m     \u001b[1;36m300.00\u001b[0m\u001b[1;33m\n",
      "\u001b[0m\u001b[1;33m\n",
      "\u001b[0m\u001b[0mGENERATOR\u001b[0m \u001b[0mgen_eff_curve\u001b[0m \u001b[0mPlant1\u001b[0m      \u001b[1;36m1\u001b[0m\u001b[1;33m\n",
      "\u001b[0m\u001b[1;31m#Id;Number;Reference;Pts;X_unit;Y_unit\u001b[0m\u001b[1;33m\n",
      "\u001b[0m\u001b[1;36m0\u001b[0m      \u001b[1;36m0\u001b[0m       \u001b[1;36m0.00\u001b[0m      \u001b[1;36m2\u001b[0m \u001b[0mMW\u001b[0m \u001b[1;33m%\u001b[0m\u001b[1;33m\n",
      "\u001b[0m\u001b[1;31m#  x_value;   y_value;\u001b[0m\u001b[1;33m\n",
      "\u001b[0m\u001b[1;36m60.0000000000\u001b[0m \u001b[1;36m100.0000000000\u001b[0m\u001b[1;33m\n",
      "\u001b[0m\u001b[1;36m120.0000000000\u001b[0m \u001b[1;36m100.0000000000\u001b[0m\u001b[1;33m\n",
      "\u001b[0m\u001b[1;33m\n",
      "\u001b[0m\u001b[0mGENERATOR\u001b[0m \u001b[0mturb_eff_curves\u001b[0m \u001b[0mPlant1\u001b[0m      \u001b[1;36m1\u001b[0m\u001b[1;33m\n",
      "\u001b[0m\u001b[1;31m#Id;Number;Reference;Pts;X_unit;Y_unit\u001b[0m\u001b[1;33m\n",
      "\u001b[0m\u001b[1;36m0\u001b[0m      \u001b[1;36m0\u001b[0m     \u001b[1;36m170.00\u001b[0m     \u001b[1;36m14\u001b[0m \u001b[0mM3\u001b[0m\u001b[1;33m/\u001b[0m\u001b[0mS\u001b[0m \u001b[1;33m%\u001b[0m\u001b[1;33m\n",
      "\u001b[0m\u001b[1;31m#  x_value;   y_value;\u001b[0m\u001b[1;33m\n",
      "\u001b[0m\u001b[1;36m28.1200000000\u001b[0m \u001b[1;36m85.8733000000\u001b[0m\u001b[1;33m\n",
      "\u001b[0m\u001b[1;36m30.4500000000\u001b[0m \u001b[1;36m87.0319000000\u001b[0m\u001b[1;33m\n",
      "\u001b[0m\u001b[1;36m32.7800000000\u001b[0m \u001b[1;36m88.0879000000\u001b[0m\u001b[1;33m\n",
      "\u001b[0m\u001b[1;36m35.1100000000\u001b[0m \u001b[1;36m89.0544000000\u001b[0m\u001b[1;33m\n",
      "\u001b[0m\u001b[1;36m37.4500000000\u001b[0m \u001b[1;36m89.9446000000\u001b[0m\u001b[1;33m\n",
      "\u001b[0m\u001b[1;36m39.7800000000\u001b[0m \u001b[1;36m90.7717000000\u001b[0m\u001b[1;33m\n",
      "\u001b[0m\u001b[1;36m42.1100000000\u001b[0m \u001b[1;36m91.5488000000\u001b[0m\u001b[1;33m\n",
      "\u001b[0m\u001b[1;36m44.4400000000\u001b[0m \u001b[1;36m92.2643000000\u001b[0m\u001b[1;33m\n",
      "\u001b[0m\u001b[1;36m46.7700000000\u001b[0m \u001b[1;36m92.8213000000\u001b[0m\u001b[1;33m\n",
      "\u001b[0m\u001b[1;36m49.1000000000\u001b[0m \u001b[1;36m93.1090000000\u001b[0m\u001b[1;33m\n",
      "\u001b[0m\u001b[1;36m51.4300000000\u001b[0m \u001b[1;36m93.2170000000\u001b[0m\u001b[1;33m\n",
      "\u001b[0m\u001b[1;36m53.7600000000\u001b[0m \u001b[1;36m93.0390000000\u001b[0m\u001b[1;33m\n",
      "\u001b[0m\u001b[1;36m56.1000000000\u001b[0m \u001b[1;36m92.6570000000\u001b[0m\u001b[1;33m\n",
      "\u001b[0m\u001b[1;36m58.8300000000\u001b[0m \u001b[1;36m92.1746000000\u001b[0m\u001b[1;33m\n",
      "\u001b[0m\u001b[1;33m\n",
      "\u001b[0m\u001b[0mGENERATOR\u001b[0m \u001b[0mturb_eff_curves\u001b[0m \u001b[0mPlant1\u001b[0m      \u001b[1;36m1\u001b[0m\u001b[1;33m\n",
      "\u001b[0m\u001b[1;31m#Id;Number;Reference;Pts;X_unit;Y_unit\u001b[0m\u001b[1;33m\n",
      "\u001b[0m\u001b[1;36m0\u001b[0m      \u001b[1;36m0\u001b[0m     \u001b[1;36m200.00\u001b[0m     \u001b[1;36m14\u001b[0m \u001b[0mM3\u001b[0m\u001b[1;33m/\u001b[0m\u001b[0mS\u001b[0m \u001b[1;33m%\u001b[0m\u001b[1;33m\n",
      "\u001b[0m\u001b[1;31m#  x_value;   y_value;\u001b[0m\u001b[1;33m\n",
      "\u001b[0m\u001b[1;36m28.1200000000\u001b[0m \u001b[1;36m86.7321000000\u001b[0m\u001b[1;33m\n",
      "\u001b[0m\u001b[1;36m30.4500000000\u001b[0m \u001b[1;36m87.9022000000\u001b[0m\u001b[1;33m\n",
      "\u001b[0m\u001b[1;36m32.7800000000\u001b[0m \u001b[1;36m88.9688000000\u001b[0m\u001b[1;33m\n",
      "\u001b[0m\u001b[1;36m35.1100000000\u001b[0m \u001b[1;36m89.9450000000\u001b[0m\u001b[1;33m\n",
      "\u001b[0m\u001b[1;36m37.4500000000\u001b[0m \u001b[1;36m90.8441000000\u001b[0m\u001b[1;33m\n",
      "\u001b[0m\u001b[1;36m39.7800000000\u001b[0m \u001b[1;36m91.6794000000\u001b[0m\u001b[1;33m\n",
      "\u001b[0m\u001b[1;36m42.1100000000\u001b[0m \u001b[1;36m92.4643000000\u001b[0m\u001b[1;33m\n",
      "\u001b[0m\u001b[1;36m44.4400000000\u001b[0m \u001b[1;36m93.1870000000\u001b[0m\u001b[1;33m\n",
      "\u001b[0m\u001b[1;36m46.7700000000\u001b[0m \u001b[1;36m93.7495000000\u001b[0m\u001b[1;33m\n",
      "\u001b[0m\u001b[1;36m49.1000000000\u001b[0m \u001b[1;36m94.0401000000\u001b[0m\u001b[1;33m\n",
      "\u001b[0m\u001b[1;36m51.4300000000\u001b[0m \u001b[1;36m94.1492000000\u001b[0m\u001b[1;33m\n",
      "\u001b[0m\u001b[1;36m53.7600000000\u001b[0m \u001b[1;36m93.9694000000\u001b[0m\u001b[1;33m\n",
      "\u001b[0m\u001b[1;36m56.1000000000\u001b[0m \u001b[1;36m93.5836000000\u001b[0m\u001b[1;33m\n",
      "\u001b[0m\u001b[1;36m58.8300000000\u001b[0m \u001b[1;36m93.0964000000\u001b[0m\u001b[1;33m\n",
      "\u001b[0m\u001b[1;33m\n",
      "\u001b[0m\u001b[0mGENERATOR\u001b[0m \u001b[0mturb_eff_curves\u001b[0m \u001b[0mPlant1\u001b[0m      \u001b[1;36m1\u001b[0m\u001b[1;33m\n",
      "\u001b[0m\u001b[1;31m#Id;Number;Reference;Pts;X_unit;Y_unit\u001b[0m\u001b[1;33m\n",
      "\u001b[0m\u001b[1;36m0\u001b[0m      \u001b[1;36m0\u001b[0m     \u001b[1;36m230.00\u001b[0m     \u001b[1;36m14\u001b[0m \u001b[0mM3\u001b[0m\u001b[1;33m/\u001b[0m\u001b[0mS\u001b[0m \u001b[1;33m%\u001b[0m\u001b[1;33m\n",
      "\u001b[0m\u001b[1;31m#  x_value;   y_value;\u001b[0m\u001b[1;33m\n",
      "\u001b[0m\u001b[1;36m28.1200000000\u001b[0m \u001b[1;36m87.5908000000\u001b[0m\u001b[1;33m\n",
      "\u001b[0m\u001b[1;36m30.4500000000\u001b[0m \u001b[1;36m88.7725000000\u001b[0m\u001b[1;33m\n",
      "\u001b[0m\u001b[1;36m32.7800000000\u001b[0m \u001b[1;36m89.8497000000\u001b[0m\u001b[1;33m\n",
      "\u001b[0m\u001b[1;36m35.1100000000\u001b[0m \u001b[1;36m90.8355000000\u001b[0m\u001b[1;33m\n",
      "\u001b[0m\u001b[1;36m37.4500000000\u001b[0m \u001b[1;36m91.7435000000\u001b[0m\u001b[1;33m\n",
      "\u001b[0m\u001b[1;36m39.7800000000\u001b[0m \u001b[1;36m92.5871000000\u001b[0m\u001b[1;33m\n",
      "\u001b[0m\u001b[1;36m42.1100000000\u001b[0m \u001b[1;36m93.3798000000\u001b[0m\u001b[1;33m\n",
      "\u001b[0m\u001b[1;36m44.4400000000\u001b[0m \u001b[1;36m94.1096000000\u001b[0m\u001b[1;33m\n",
      "\u001b[0m\u001b[1;36m46.7700000000\u001b[0m \u001b[1;36m94.6777000000\u001b[0m\u001b[1;33m\n",
      "\u001b[0m\u001b[1;36m49.1000000000\u001b[0m \u001b[1;36m94.9712000000\u001b[0m\u001b[1;33m\n",
      "\u001b[0m\u001b[1;36m51.4300000000\u001b[0m \u001b[1;36m95.0813000000\u001b[0m\u001b[1;33m\n",
      "\u001b[0m\u001b[1;36m53.7600000000\u001b[0m \u001b[1;36m94.8998000000\u001b[0m\u001b[1;33m\n",
      "\u001b[0m\u001b[1;36m56.1000000000\u001b[0m \u001b[1;36m94.5101000000\u001b[0m\u001b[1;33m\n",
      "\u001b[0m\u001b[1;36m58.8300000000\u001b[0m \u001b[1;36m94.0181000000\u001b[0m\u001b[1;33m\n",
      "\u001b[0m\u001b[1;33m\n",
      "\u001b[0m\u001b[0mGENERATOR\u001b[0m \u001b[0mattributes\u001b[0m \u001b[0mPlant1\u001b[0m      \u001b[1;36m2\u001b[0m\u001b[1;33m\n",
      "\u001b[0m\u001b[1;31m#Id Type Penstock Nom_prod Min_prod Max_prod Start_cost\u001b[0m\u001b[1;33m\n",
      "\u001b[0m\u001b[1;36m0\u001b[0m      \u001b[1;36m7\u001b[0m      \u001b[1;36m1\u001b[0m     \u001b[1;36m120.00\u001b[0m      \u001b[1;36m60.00\u001b[0m     \u001b[1;36m120.00\u001b[0m     \u001b[1;36m300.00\u001b[0m\u001b[1;33m\n",
      "\u001b[0m\u001b[1;33m\n",
      "\u001b[0m\u001b[0mGENERATOR\u001b[0m \u001b[0mgen_eff_curve\u001b[0m \u001b[0mPlant1\u001b[0m      \u001b[1;36m2\u001b[0m\u001b[1;33m\n",
      "\u001b[0m\u001b[1;31m#Id;Number;Reference;Pts;X_unit;Y_unit\u001b[0m\u001b[1;33m\n",
      "\u001b[0m\u001b[1;36m0\u001b[0m      \u001b[1;36m0\u001b[0m       \u001b[1;36m0.00\u001b[0m      \u001b[1;36m2\u001b[0m \u001b[0mMW\u001b[0m \u001b[1;33m%\u001b[0m\u001b[1;33m\n",
      "\u001b[0m\u001b[1;31m#  x_value;   y_value;\u001b[0m\u001b[1;33m\n",
      "\u001b[0m\u001b[1;36m60.0000000000\u001b[0m \u001b[1;36m100.0000000000\u001b[0m\u001b[1;33m\n",
      "\u001b[0m\u001b[1;36m120.0000000000\u001b[0m \u001b[1;36m100.0000000000\u001b[0m\u001b[1;33m\n",
      "\u001b[0m\u001b[1;33m\n",
      "\u001b[0m\u001b[0mGENERATOR\u001b[0m \u001b[0mturb_eff_curves\u001b[0m \u001b[0mPlant1\u001b[0m      \u001b[1;36m2\u001b[0m\u001b[1;33m\n",
      "\u001b[0m\u001b[1;31m#Id;Number;Reference;Pts;X_unit;Y_unit\u001b[0m\u001b[1;33m\n",
      "\u001b[0m\u001b[1;36m0\u001b[0m      \u001b[1;36m0\u001b[0m     \u001b[1;36m170.00\u001b[0m     \u001b[1;36m14\u001b[0m \u001b[0mM3\u001b[0m\u001b[1;33m/\u001b[0m\u001b[0mS\u001b[0m \u001b[1;33m%\u001b[0m\u001b[1;33m\n",
      "\u001b[0m\u001b[1;31m#  x_value;   y_value;\u001b[0m\u001b[1;33m\n",
      "\u001b[0m\u001b[1;36m28.1200000000\u001b[0m \u001b[1;36m85.8733000000\u001b[0m\u001b[1;33m\n",
      "\u001b[0m\u001b[1;36m30.4500000000\u001b[0m \u001b[1;36m87.0319000000\u001b[0m\u001b[1;33m\n",
      "\u001b[0m\u001b[1;36m32.7800000000\u001b[0m \u001b[1;36m88.0879000000\u001b[0m\u001b[1;33m\n",
      "\u001b[0m\u001b[1;36m35.1100000000\u001b[0m \u001b[1;36m89.0544000000\u001b[0m\u001b[1;33m\n",
      "\u001b[0m\u001b[1;36m37.4500000000\u001b[0m \u001b[1;36m89.9446000000\u001b[0m\u001b[1;33m\n",
      "\u001b[0m\u001b[1;36m39.7800000000\u001b[0m \u001b[1;36m90.7717000000\u001b[0m\u001b[1;33m\n",
      "\u001b[0m\u001b[1;36m42.1100000000\u001b[0m \u001b[1;36m91.5488000000\u001b[0m\u001b[1;33m\n",
      "\u001b[0m\u001b[1;36m44.4400000000\u001b[0m \u001b[1;36m92.2643000000\u001b[0m\u001b[1;33m\n",
      "\u001b[0m\u001b[1;36m46.7700000000\u001b[0m \u001b[1;36m92.8213000000\u001b[0m\u001b[1;33m\n",
      "\u001b[0m\u001b[1;36m49.1000000000\u001b[0m \u001b[1;36m93.1090000000\u001b[0m\u001b[1;33m\n",
      "\u001b[0m\u001b[1;36m51.4300000000\u001b[0m \u001b[1;36m93.2170000000\u001b[0m\u001b[1;33m\n",
      "\u001b[0m\u001b[1;36m53.7600000000\u001b[0m \u001b[1;36m93.0390000000\u001b[0m\u001b[1;33m\n",
      "\u001b[0m\u001b[1;36m56.1000000000\u001b[0m \u001b[1;36m92.6570000000\u001b[0m\u001b[1;33m\n",
      "\u001b[0m\u001b[1;36m58.8300000000\u001b[0m \u001b[1;36m92.1746000000\u001b[0m\u001b[1;33m\n",
      "\u001b[0m\u001b[1;33m\n",
      "\u001b[0m\u001b[0mGENERATOR\u001b[0m \u001b[0mturb_eff_curves\u001b[0m \u001b[0mPlant1\u001b[0m      \u001b[1;36m2\u001b[0m\u001b[1;33m\n",
      "\u001b[0m\u001b[1;31m#Id;Number;Reference;Pts;X_unit;Y_unit\u001b[0m\u001b[1;33m\n",
      "\u001b[0m\u001b[1;36m0\u001b[0m      \u001b[1;36m0\u001b[0m     \u001b[1;36m200.00\u001b[0m     \u001b[1;36m14\u001b[0m \u001b[0mM3\u001b[0m\u001b[1;33m/\u001b[0m\u001b[0mS\u001b[0m \u001b[1;33m%\u001b[0m\u001b[1;33m\n",
      "\u001b[0m\u001b[1;31m#  x_value;   y_value;\u001b[0m\u001b[1;33m\n",
      "\u001b[0m\u001b[1;36m28.1200000000\u001b[0m \u001b[1;36m86.7321000000\u001b[0m\u001b[1;33m\n",
      "\u001b[0m\u001b[1;36m30.4500000000\u001b[0m \u001b[1;36m87.9022000000\u001b[0m\u001b[1;33m\n",
      "\u001b[0m\u001b[1;36m32.7800000000\u001b[0m \u001b[1;36m88.9688000000\u001b[0m\u001b[1;33m\n",
      "\u001b[0m\u001b[1;36m35.1100000000\u001b[0m \u001b[1;36m89.9450000000\u001b[0m\u001b[1;33m\n",
      "\u001b[0m\u001b[1;36m37.4500000000\u001b[0m \u001b[1;36m90.8441000000\u001b[0m\u001b[1;33m\n",
      "\u001b[0m\u001b[1;36m39.7800000000\u001b[0m \u001b[1;36m91.6794000000\u001b[0m\u001b[1;33m\n",
      "\u001b[0m\u001b[1;36m42.1100000000\u001b[0m \u001b[1;36m92.4643000000\u001b[0m\u001b[1;33m\n",
      "\u001b[0m\u001b[1;36m44.4400000000\u001b[0m \u001b[1;36m93.1870000000\u001b[0m\u001b[1;33m\n",
      "\u001b[0m\u001b[1;36m46.7700000000\u001b[0m \u001b[1;36m93.7495000000\u001b[0m\u001b[1;33m\n",
      "\u001b[0m\u001b[1;36m49.1000000000\u001b[0m \u001b[1;36m94.0401000000\u001b[0m\u001b[1;33m\n",
      "\u001b[0m\u001b[1;36m51.4300000000\u001b[0m \u001b[1;36m94.1492000000\u001b[0m\u001b[1;33m\n",
      "\u001b[0m\u001b[1;36m53.7600000000\u001b[0m \u001b[1;36m93.9694000000\u001b[0m\u001b[1;33m\n",
      "\u001b[0m\u001b[1;36m56.1000000000\u001b[0m \u001b[1;36m93.5836000000\u001b[0m\u001b[1;33m\n",
      "\u001b[0m\u001b[1;36m58.8300000000\u001b[0m \u001b[1;36m93.0964000000\u001b[0m\u001b[1;33m\n",
      "\u001b[0m\u001b[1;33m\n",
      "\u001b[0m\u001b[0mGENERATOR\u001b[0m \u001b[0mturb_eff_curves\u001b[0m \u001b[0mPlant1\u001b[0m      \u001b[1;36m2\u001b[0m\u001b[1;33m\n",
      "\u001b[0m\u001b[1;31m#Id;Number;Reference;Pts;X_unit;Y_unit\u001b[0m\u001b[1;33m\n",
      "\u001b[0m\u001b[1;36m0\u001b[0m      \u001b[1;36m0\u001b[0m     \u001b[1;36m230.00\u001b[0m     \u001b[1;36m14\u001b[0m \u001b[0mM3\u001b[0m\u001b[1;33m/\u001b[0m\u001b[0mS\u001b[0m \u001b[1;33m%\u001b[0m\u001b[1;33m\n",
      "\u001b[0m\u001b[1;31m#  x_value;   y_value;\u001b[0m\u001b[1;33m\n",
      "\u001b[0m\u001b[1;36m28.1200000000\u001b[0m \u001b[1;36m87.5908000000\u001b[0m\u001b[1;33m\n",
      "\u001b[0m\u001b[1;36m30.4500000000\u001b[0m \u001b[1;36m88.7725000000\u001b[0m\u001b[1;33m\n",
      "\u001b[0m\u001b[1;36m32.7800000000\u001b[0m \u001b[1;36m89.8497000000\u001b[0m\u001b[1;33m\n",
      "\u001b[0m\u001b[1;36m35.1100000000\u001b[0m \u001b[1;36m90.8355000000\u001b[0m\u001b[1;33m\n",
      "\u001b[0m\u001b[1;36m37.4500000000\u001b[0m \u001b[1;36m91.7435000000\u001b[0m\u001b[1;33m\n",
      "\u001b[0m\u001b[1;36m39.7800000000\u001b[0m \u001b[1;36m92.5871000000\u001b[0m\u001b[1;33m\n",
      "\u001b[0m\u001b[1;36m42.1100000000\u001b[0m \u001b[1;36m93.3798000000\u001b[0m\u001b[1;33m\n",
      "\u001b[0m\u001b[1;36m44.4400000000\u001b[0m \u001b[1;36m94.1096000000\u001b[0m\u001b[1;33m\n",
      "\u001b[0m\u001b[1;36m46.7700000000\u001b[0m \u001b[1;36m94.6777000000\u001b[0m\u001b[1;33m\n",
      "\u001b[0m\u001b[1;36m49.1000000000\u001b[0m \u001b[1;36m94.9712000000\u001b[0m\u001b[1;33m\n",
      "\u001b[0m\u001b[1;36m51.4300000000\u001b[0m \u001b[1;36m95.0813000000\u001b[0m\u001b[1;33m\n",
      "\u001b[0m\u001b[1;36m53.7600000000\u001b[0m \u001b[1;36m94.8998000000\u001b[0m\u001b[1;33m\n",
      "\u001b[0m\u001b[1;36m56.1000000000\u001b[0m \u001b[1;36m94.5101000000\u001b[0m\u001b[1;33m\n",
      "\u001b[0m\u001b[1;36m58.8300000000\u001b[0m \u001b[1;36m94.0181000000\u001b[0m\u001b[1;33m\n",
      "\u001b[0m\u001b[1;33m\n",
      "\u001b[0m\u001b[0mGENERATOR\u001b[0m \u001b[0mstartcost\u001b[0m \u001b[0mPlant1\u001b[0m      \u001b[1;36m2\u001b[0m\u001b[1;33m\n",
      "\u001b[0m\u001b[1;31m#Id;Number;Start_Time;Time_unit;Period;Data_type;Y_unit;Pts;\u001b[0m\u001b[1;33m\n",
      "\u001b[0m\u001b[1;36m0\u001b[0m      \u001b[1;36m0\u001b[0m \u001b[1;36m20180123000000000\u001b[0m \u001b[0mHOUR\u001b[0m      \u001b[1;36m0\u001b[0m     \u001b[1;33m-\u001b[0m\u001b[1;36m1\u001b[0m \u001b[0mNOK\u001b[0m     \u001b[1;36m73\u001b[0m\u001b[1;33m\n",
      "\u001b[0m\u001b[1;31m#            Time;      f(t);\u001b[0m\u001b[1;33m\n",
      "\u001b[0m\u001b[1;36m20180123000000000\u001b[0m \u001b[1;36m300.00000000000000000\u001b[0m\u001b[1;33m\n",
      "\u001b[0m\u001b[1;33m\n",
      "\u001b[0m\u001b[0mPLANT\u001b[0m \u001b[0mattributes\u001b[0m \u001b[0mPlant2\u001b[0m\u001b[1;33m\n",
      "\u001b[0m\u001b[1;31m#Id;Water_course;Type;Future_use;Prod_area;Num_gen;Num_pump;\u001b[0m\u001b[1;33m\n",
      "\u001b[0m\u001b[1;36m0\u001b[0m      \u001b[1;36m0\u001b[0m      \u001b[1;36m6\u001b[0m      \u001b[1;36m0\u001b[0m      \u001b[1;36m1\u001b[0m      \u001b[1;36m4\u001b[0m      \u001b[1;36m0\u001b[0m\u001b[1;33m\n",
      "\u001b[0m\u001b[1;31m#Num_main_seg;Num_penstock;Time_delay;Read_prod_factor;Outlet_line;\u001b[0m\u001b[1;33m\n",
      "\u001b[0m\u001b[1;36m1\u001b[0m      \u001b[1;36m2\u001b[0m      \u001b[1;36m0\u001b[0m   \u001b[1;36m0.000000\u001b[0m \u001b[1;36m586.000000\u001b[0m\u001b[1;33m\n",
      "\u001b[0m\u001b[1;36m0.000000\u001b[0m\u001b[1;33m\n",
      "\u001b[0m\u001b[1;36m0.000100\u001b[0m   \u001b[1;36m0.000200\u001b[0m\u001b[1;33m\n",
      "\u001b[0m\u001b[1;33m\n",
      "\u001b[0m\u001b[0mPLANT\u001b[0m \u001b[0mmip_flag\u001b[0m \u001b[0mPlant2\u001b[0m\u001b[1;33m\n",
      "\u001b[0m\u001b[1;31m#Id;Number;Start_Time;Time_unit;Period;Data_type;Y_unit;Pts;\u001b[0m\u001b[1;33m\n",
      "\u001b[0m\u001b[1;36m0\u001b[0m      \u001b[1;36m0\u001b[0m \u001b[1;36m20180123000000000\u001b[0m \u001b[0mHOUR\u001b[0m      \u001b[1;36m0\u001b[0m     \u001b[1;33m-\u001b[0m\u001b[1;36m1\u001b[0m \u001b[0mNO_UNIT\u001b[0m     \u001b[1;36m73\u001b[0m\u001b[1;33m\n",
      "\u001b[0m\u001b[1;31m#            Time;      f(t);\u001b[0m\u001b[1;33m\n",
      "\u001b[0m\u001b[1;36m20180123000000000\u001b[0m \u001b[1;36m1.00000000000000000\u001b[0m\u001b[1;33m\n",
      "\u001b[0m\u001b[1;33m\n",
      "\u001b[0m\u001b[0mGENERATOR\u001b[0m \u001b[0mattributes\u001b[0m \u001b[0mPlant2\u001b[0m      \u001b[1;36m1\u001b[0m\u001b[1;33m\n",
      "\u001b[0m\u001b[1;31m#Id Type Penstock Nom_prod Min_prod Max_prod Start_cost\u001b[0m\u001b[1;33m\n",
      "\u001b[0m\u001b[1;36m0\u001b[0m      \u001b[1;36m7\u001b[0m      \u001b[1;36m1\u001b[0m     \u001b[1;36m180.00\u001b[0m     \u001b[1;36m100.00\u001b[0m     \u001b[1;36m180.00\u001b[0m     \u001b[1;36m300.00\u001b[0m\u001b[1;33m\n",
      "\u001b[0m\u001b[1;33m\n",
      "\u001b[0m\u001b[0mGENERATOR\u001b[0m \u001b[0mgen_eff_curve\u001b[0m \u001b[0mPlant2\u001b[0m      \u001b[1;36m1\u001b[0m\u001b[1;33m\n",
      "\u001b[0m\u001b[1;31m#Id;Number;Reference;Pts;X_unit;Y_unit\u001b[0m\u001b[1;33m\n",
      "\u001b[0m\u001b[1;36m0\u001b[0m      \u001b[1;36m0\u001b[0m       \u001b[1;36m0.00\u001b[0m      \u001b[1;36m2\u001b[0m \u001b[0mMW\u001b[0m \u001b[1;33m%\u001b[0m\u001b[1;33m\n",
      "\u001b[0m\u001b[1;31m#  x_value;   y_value;\u001b[0m\u001b[1;33m\n",
      "\u001b[0m\u001b[1;36m100.0000000000\u001b[0m \u001b[1;36m100.0000000000\u001b[0m\u001b[1;33m\n",
      "\u001b[0m\u001b[1;36m180.0000000000\u001b[0m \u001b[1;36m100.0000000000\u001b[0m\u001b[1;33m\n",
      "\u001b[0m\u001b[1;33m\n",
      "\u001b[0m\u001b[0mGENERATOR\u001b[0m \u001b[0mturb_eff_curves\u001b[0m \u001b[0mPlant2\u001b[0m      \u001b[1;36m1\u001b[0m\u001b[1;33m\n",
      "\u001b[0m\u001b[1;31m#Id;Number;Reference;Pts;X_unit;Y_unit\u001b[0m\u001b[1;33m\n",
      "\u001b[0m\u001b[1;36m0\u001b[0m      \u001b[1;36m0\u001b[0m      \u001b[1;36m60.00\u001b[0m     \u001b[1;36m14\u001b[0m \u001b[0mM3\u001b[0m\u001b[1;33m/\u001b[0m\u001b[0mS\u001b[0m \u001b[1;33m%\u001b[0m\u001b[1;33m\n",
      "\u001b[0m\u001b[1;31m#  x_value;   y_value;\u001b[0m\u001b[1;33m\n",
      "\u001b[0m\u001b[1;36m126.5400000000\u001b[0m \u001b[1;36m92.7201000000\u001b[0m\u001b[1;33m\n",
      "\u001b[0m\u001b[1;36m137.0300000000\u001b[0m \u001b[1;36m93.2583000000\u001b[0m\u001b[1;33m\n",
      "\u001b[0m\u001b[1;36m147.5100000000\u001b[0m \u001b[1;36m93.7305000000\u001b[0m\u001b[1;33m\n",
      "\u001b[0m\u001b[1;36m158.0000000000\u001b[0m \u001b[1;36m94.1368000000\u001b[0m\u001b[1;33m\n",
      "\u001b[0m\u001b[1;36m168.5300000000\u001b[0m \u001b[1;36m94.4785000000\u001b[0m\u001b[1;33m\n",
      "\u001b[0m\u001b[1;36m179.0100000000\u001b[0m \u001b[1;36m94.7525000000\u001b[0m\u001b[1;33m\n",
      "\u001b[0m\u001b[1;36m189.5000000000\u001b[0m \u001b[1;36m94.9606000000\u001b[0m\u001b[1;33m\n",
      "\u001b[0m\u001b[1;36m199.9800000000\u001b[0m \u001b[1;36m95.1028000000\u001b[0m\u001b[1;33m\n",
      "\u001b[0m\u001b[1;36m210.4700000000\u001b[0m \u001b[1;36m95.1790000000\u001b[0m\u001b[1;33m\n",
      "\u001b[0m\u001b[1;36m220.9500000000\u001b[0m \u001b[1;36m95.1892000000\u001b[0m\u001b[1;33m\n",
      "\u001b[0m\u001b[1;36m231.4400000000\u001b[0m \u001b[1;36m95.1335000000\u001b[0m\u001b[1;33m\n",
      "\u001b[0m\u001b[1;36m241.9200000000\u001b[0m \u001b[1;36m95.0118000000\u001b[0m\u001b[1;33m\n",
      "\u001b[0m\u001b[1;36m252.4500000000\u001b[0m \u001b[1;36m94.8232000000\u001b[0m\u001b[1;33m\n",
      "\u001b[0m\u001b[1;36m264.7400000000\u001b[0m \u001b[1;36m94.5191000000\u001b[0m\u001b[1;33m\n",
      "\u001b[0m\u001b[1;33m\n",
      "\u001b[0m\u001b[0mGENERATOR\u001b[0m \u001b[0mattributes\u001b[0m \u001b[0mPlant2\u001b[0m      \u001b[1;36m2\u001b[0m\u001b[1;33m\n",
      "\u001b[0m\u001b[1;31m#Id Type Penstock Nom_prod Min_prod Max_prod Start_cost\u001b[0m\u001b[1;33m\n",
      "\u001b[0m\u001b[1;36m0\u001b[0m      \u001b[1;36m7\u001b[0m      \u001b[1;36m2\u001b[0m      \u001b[1;36m55.00\u001b[0m      \u001b[1;36m30.00\u001b[0m      \u001b[1;36m55.00\u001b[0m     \u001b[1;36m300.00\u001b[0m\u001b[1;33m\n",
      "\u001b[0m\u001b[1;33m\n",
      "\u001b[0m\u001b[0mGENERATOR\u001b[0m \u001b[0mgen_eff_curve\u001b[0m \u001b[0mPlant2\u001b[0m      \u001b[1;36m2\u001b[0m\u001b[1;33m\n",
      "\u001b[0m\u001b[1;31m#Id;Number;Reference;Pts;X_unit;Y_unit\u001b[0m\u001b[1;33m\n",
      "\u001b[0m\u001b[1;36m0\u001b[0m      \u001b[1;36m0\u001b[0m       \u001b[1;36m0.00\u001b[0m      \u001b[1;36m2\u001b[0m \u001b[0mMW\u001b[0m \u001b[1;33m%\u001b[0m\u001b[1;33m\n",
      "\u001b[0m\u001b[1;31m#  x_value;   y_value;\u001b[0m\u001b[1;33m\n",
      "\u001b[0m\u001b[1;36m30.0000000000\u001b[0m \u001b[1;36m100.0000000000\u001b[0m\u001b[1;33m\n",
      "\u001b[0m\u001b[1;36m55.0000000000\u001b[0m \u001b[1;36m100.0000000000\u001b[0m\u001b[1;33m\n",
      "\u001b[0m\u001b[1;33m\n",
      "\u001b[0m\u001b[0mGENERATOR\u001b[0m \u001b[0mturb_eff_curves\u001b[0m \u001b[0mPlant2\u001b[0m      \u001b[1;36m2\u001b[0m\u001b[1;33m\n",
      "\u001b[0m\u001b[1;31m#Id;Number;Reference;Pts;X_unit;Y_unit\u001b[0m\u001b[1;33m\n",
      "\u001b[0m\u001b[1;36m0\u001b[0m      \u001b[1;36m0\u001b[0m      \u001b[1;36m60.00\u001b[0m     \u001b[1;36m14\u001b[0m \u001b[0mM3\u001b[0m\u001b[1;33m/\u001b[0m\u001b[0mS\u001b[0m \u001b[1;33m%\u001b[0m\u001b[1;33m\n",
      "\u001b[0m\u001b[1;31m#  x_value;   y_value;\u001b[0m\u001b[1;33m\n",
      "\u001b[0m\u001b[1;36m40.8200000000\u001b[0m \u001b[1;36m83.8700000000\u001b[0m\u001b[1;33m\n",
      "\u001b[0m\u001b[1;36m44.2000000000\u001b[0m \u001b[1;36m85.1937000000\u001b[0m\u001b[1;33m\n",
      "\u001b[0m\u001b[1;36m47.5800000000\u001b[0m \u001b[1;36m86.3825000000\u001b[0m\u001b[1;33m\n",
      "\u001b[0m\u001b[1;36m50.9700000000\u001b[0m \u001b[1;36m87.4362000000\u001b[0m\u001b[1;33m\n",
      "\u001b[0m\u001b[1;36m54.3600000000\u001b[0m \u001b[1;36m88.3587000000\u001b[0m\u001b[1;33m\n",
      "\u001b[0m\u001b[1;36m57.7500000000\u001b[0m \u001b[1;36m89.1419000000\u001b[0m\u001b[1;33m\n",
      "\u001b[0m\u001b[1;36m61.1300000000\u001b[0m \u001b[1;36m89.7901000000\u001b[0m\u001b[1;33m\n",
      "\u001b[0m\u001b[1;36m64.5100000000\u001b[0m \u001b[1;36m90.3033000000\u001b[0m\u001b[1;33m\n",
      "\u001b[0m\u001b[1;36m67.8900000000\u001b[0m \u001b[1;36m90.6815000000\u001b[0m\u001b[1;33m\n",
      "\u001b[0m\u001b[1;36m71.2700000000\u001b[0m \u001b[1;36m90.9248000000\u001b[0m\u001b[1;33m\n",
      "\u001b[0m\u001b[1;36m74.6600000000\u001b[0m \u001b[1;36m91.0331000000\u001b[0m\u001b[1;33m\n",
      "\u001b[0m\u001b[1;36m78.0400000000\u001b[0m \u001b[1;36m91.0063000000\u001b[0m\u001b[1;33m\n",
      "\u001b[0m\u001b[1;36m81.4400000000\u001b[0m \u001b[1;36m90.8436000000\u001b[0m\u001b[1;33m\n",
      "\u001b[0m\u001b[1;36m85.4000000000\u001b[0m \u001b[1;36m90.4817000000\u001b[0m\u001b[1;33m\n",
      "\u001b[0m\u001b[1;33m\n",
      "\u001b[0m\u001b[1;33m\n",
      "\u001b[0m\u001b[0mGENERATOR\u001b[0m \u001b[0mattributes\u001b[0m \u001b[0mPlant2\u001b[0m      \u001b[1;36m3\u001b[0m\u001b[1;33m\n",
      "\u001b[0m\u001b[1;31m#Id Type Penstock Nom_prod Min_prod Max_prod Start_cost\u001b[0m\u001b[1;33m\n",
      "\u001b[0m\u001b[1;36m0\u001b[0m      \u001b[1;36m7\u001b[0m      \u001b[1;36m2\u001b[0m      \u001b[1;36m55.00\u001b[0m      \u001b[1;36m30.00\u001b[0m      \u001b[1;36m55.00\u001b[0m     \u001b[1;36m300.00\u001b[0m\u001b[1;33m\n",
      "\u001b[0m\u001b[1;33m\n",
      "\u001b[0m\u001b[0mGENERATOR\u001b[0m \u001b[0mgen_eff_curve\u001b[0m \u001b[0mPlant2\u001b[0m      \u001b[1;36m3\u001b[0m\u001b[1;33m\n",
      "\u001b[0m\u001b[1;31m#Id;Number;Reference;Pts;X_unit;Y_unit\u001b[0m\u001b[1;33m\n",
      "\u001b[0m\u001b[1;36m0\u001b[0m      \u001b[1;36m0\u001b[0m       \u001b[1;36m0.00\u001b[0m      \u001b[1;36m2\u001b[0m \u001b[0mMW\u001b[0m \u001b[1;33m%\u001b[0m\u001b[1;33m\n",
      "\u001b[0m\u001b[1;31m#  x_value;   y_value;\u001b[0m\u001b[1;33m\n",
      "\u001b[0m\u001b[1;36m30.0000000000\u001b[0m \u001b[1;36m100.0000000000\u001b[0m\u001b[1;33m\n",
      "\u001b[0m\u001b[1;36m55.0000000000\u001b[0m \u001b[1;36m100.0000000000\u001b[0m\u001b[1;33m\n",
      "\u001b[0m\u001b[1;33m\n",
      "\u001b[0m\u001b[0mGENERATOR\u001b[0m \u001b[0mturb_eff_curves\u001b[0m \u001b[0mPlant2\u001b[0m      \u001b[1;36m3\u001b[0m\u001b[1;33m\n",
      "\u001b[0m\u001b[1;31m#Id;Number;Reference;Pts;X_unit;Y_unit\u001b[0m\u001b[1;33m\n",
      "\u001b[0m\u001b[1;36m0\u001b[0m      \u001b[1;36m0\u001b[0m      \u001b[1;36m60.00\u001b[0m     \u001b[1;36m14\u001b[0m \u001b[0mM3\u001b[0m\u001b[1;33m/\u001b[0m\u001b[0mS\u001b[0m \u001b[1;33m%\u001b[0m\u001b[1;33m\n",
      "\u001b[0m\u001b[1;31m#  x_value;   y_value;\u001b[0m\u001b[1;33m\n",
      "\u001b[0m\u001b[1;36m40.8200000000\u001b[0m \u001b[1;36m83.8700000000\u001b[0m\u001b[1;33m\n",
      "\u001b[0m\u001b[1;36m44.2000000000\u001b[0m \u001b[1;36m85.1937000000\u001b[0m\u001b[1;33m\n",
      "\u001b[0m\u001b[1;36m47.5800000000\u001b[0m \u001b[1;36m86.3825000000\u001b[0m\u001b[1;33m\n",
      "\u001b[0m\u001b[1;36m50.9700000000\u001b[0m \u001b[1;36m87.4362000000\u001b[0m\u001b[1;33m\n",
      "\u001b[0m\u001b[1;36m54.3600000000\u001b[0m \u001b[1;36m88.3587000000\u001b[0m\u001b[1;33m\n",
      "\u001b[0m\u001b[1;36m57.7500000000\u001b[0m \u001b[1;36m89.1419000000\u001b[0m\u001b[1;33m\n",
      "\u001b[0m\u001b[1;36m61.1300000000\u001b[0m \u001b[1;36m89.7901000000\u001b[0m\u001b[1;33m\n",
      "\u001b[0m\u001b[1;36m64.5100000000\u001b[0m \u001b[1;36m90.3033000000\u001b[0m\u001b[1;33m\n",
      "\u001b[0m\u001b[1;36m67.8900000000\u001b[0m \u001b[1;36m90.6815000000\u001b[0m\u001b[1;33m\n",
      "\u001b[0m\u001b[1;36m71.2700000000\u001b[0m \u001b[1;36m90.9248000000\u001b[0m\u001b[1;33m\n",
      "\u001b[0m\u001b[1;36m74.6600000000\u001b[0m \u001b[1;36m91.0331000000\u001b[0m\u001b[1;33m\n",
      "\u001b[0m\u001b[1;36m78.0400000000\u001b[0m \u001b[1;36m91.0063000000\u001b[0m\u001b[1;33m\n",
      "\u001b[0m\u001b[1;36m81.4400000000\u001b[0m \u001b[1;36m90.8436000000\u001b[0m\u001b[1;33m\n",
      "\u001b[0m\u001b[1;36m85.4000000000\u001b[0m \u001b[1;36m90.4817000000\u001b[0m\u001b[1;33m\n",
      "\u001b[0m\u001b[1;33m\n",
      "\u001b[0m\u001b[0mGENERATOR\u001b[0m \u001b[0mattributes\u001b[0m \u001b[0mPlant2\u001b[0m      \u001b[1;36m4\u001b[0m\u001b[1;33m\n",
      "\u001b[0m\u001b[1;31m#Id Type Penstock Nom_prod Min_prod Max_prod Start_cost\u001b[0m\u001b[1;33m\n",
      "\u001b[0m\u001b[1;36m0\u001b[0m      \u001b[1;36m7\u001b[0m      \u001b[1;36m2\u001b[0m      \u001b[1;36m55.00\u001b[0m      \u001b[1;36m30.00\u001b[0m      \u001b[1;36m55.00\u001b[0m     \u001b[1;36m300.00\u001b[0m\u001b[1;33m\n",
      "\u001b[0m\u001b[1;33m\n",
      "\u001b[0m\u001b[0mGENERATOR\u001b[0m \u001b[0mgen_eff_curve\u001b[0m \u001b[0mPlant2\u001b[0m      \u001b[1;36m4\u001b[0m\u001b[1;33m\n",
      "\u001b[0m\u001b[1;31m#Id;Number;Reference;Pts;X_unit;Y_unit\u001b[0m\u001b[1;33m\n",
      "\u001b[0m\u001b[1;36m0\u001b[0m      \u001b[1;36m0\u001b[0m       \u001b[1;36m0.00\u001b[0m      \u001b[1;36m2\u001b[0m \u001b[0mMW\u001b[0m \u001b[1;33m%\u001b[0m\u001b[1;33m\n",
      "\u001b[0m\u001b[1;31m#  x_value;   y_value;\u001b[0m\u001b[1;33m\n",
      "\u001b[0m\u001b[1;36m30.0000000000\u001b[0m \u001b[1;36m100.0000000000\u001b[0m\u001b[1;33m\n",
      "\u001b[0m\u001b[1;36m55.0000000000\u001b[0m \u001b[1;36m100.0000000000\u001b[0m\u001b[1;33m\n",
      "\u001b[0m\u001b[1;33m\n",
      "\u001b[0m\u001b[0mGENERATOR\u001b[0m \u001b[0mturb_eff_curves\u001b[0m \u001b[0mPlant2\u001b[0m      \u001b[1;36m4\u001b[0m\u001b[1;33m\n",
      "\u001b[0m\u001b[1;31m#Id;Number;Reference;Pts;X_unit;Y_unit\u001b[0m\u001b[1;33m\n",
      "\u001b[0m\u001b[1;36m0\u001b[0m      \u001b[1;36m0\u001b[0m      \u001b[1;36m60.00\u001b[0m     \u001b[1;36m14\u001b[0m \u001b[0mM3\u001b[0m\u001b[1;33m/\u001b[0m\u001b[0mS\u001b[0m \u001b[1;33m%\u001b[0m\u001b[1;33m\n",
      "\u001b[0m\u001b[1;31m#  x_value;   y_value;\u001b[0m\u001b[1;33m\n",
      "\u001b[0m\u001b[1;36m40.8200000000\u001b[0m \u001b[1;36m83.8700000000\u001b[0m\u001b[1;33m\n",
      "\u001b[0m\u001b[1;36m44.2000000000\u001b[0m \u001b[1;36m85.1937000000\u001b[0m\u001b[1;33m\n",
      "\u001b[0m\u001b[1;36m47.5800000000\u001b[0m \u001b[1;36m86.3825000000\u001b[0m\u001b[1;33m\n",
      "\u001b[0m\u001b[1;36m50.9700000000\u001b[0m \u001b[1;36m87.4362000000\u001b[0m\u001b[1;33m\n",
      "\u001b[0m\u001b[1;36m54.3600000000\u001b[0m \u001b[1;36m88.3587000000\u001b[0m\u001b[1;33m\n",
      "\u001b[0m\u001b[1;36m57.7500000000\u001b[0m \u001b[1;36m89.1419000000\u001b[0m\u001b[1;33m\n",
      "\u001b[0m\u001b[1;36m61.1300000000\u001b[0m \u001b[1;36m89.7901000000\u001b[0m\u001b[1;33m\n",
      "\u001b[0m\u001b[1;36m64.5100000000\u001b[0m \u001b[1;36m90.3033000000\u001b[0m\u001b[1;33m\n",
      "\u001b[0m\u001b[1;36m67.8900000000\u001b[0m \u001b[1;36m90.6815000000\u001b[0m\u001b[1;33m\n",
      "\u001b[0m\u001b[1;36m71.2700000000\u001b[0m \u001b[1;36m90.9248000000\u001b[0m\u001b[1;33m\n",
      "\u001b[0m\u001b[1;36m74.6600000000\u001b[0m \u001b[1;36m91.0331000000\u001b[0m\u001b[1;33m\n",
      "\u001b[0m\u001b[1;36m78.0400000000\u001b[0m \u001b[1;36m91.0063000000\u001b[0m\u001b[1;33m\n",
      "\u001b[0m\u001b[1;36m81.4400000000\u001b[0m \u001b[1;36m90.8436000000\u001b[0m\u001b[1;33m\n",
      "\u001b[0m\u001b[1;36m85.4000000000\u001b[0m \u001b[1;36m90.4817000000\u001b[0m\u001b[1;33m\n",
      "\u001b[0m\u001b[1;33m\n",
      "\u001b[0m\u001b[1;33m\n",
      "\u001b[0m\u001b[1;31m#Write connection data for the hydro power system\u001b[0m\u001b[1;33m\n",
      "\u001b[0m\u001b[1;31m#;    From_type/To_type; From_name; To_name;\u001b[0m\u001b[1;33m\n",
      "\u001b[0m\u001b[0mCONNECT\u001b[0m \u001b[0mRESERVOIR\u001b[0m\u001b[1;33m/\u001b[0m\u001b[0mPLANT\u001b[0m \u001b[0mReservoir1\u001b[0m \u001b[0mPlant1\u001b[0m\u001b[1;33m\n",
      "\u001b[0m\u001b[0mCONNECT\u001b[0m \u001b[0mRESERVOIR\u001b[0m\u001b[1;33m/\u001b[0m\u001b[0mPLANT\u001b[0m \u001b[0mReservoir2\u001b[0m \u001b[0mPlant2\u001b[0m\u001b[1;33m\n",
      "\u001b[0m\u001b[0mCONNECT\u001b[0m \u001b[0mPLANT\u001b[0m\u001b[1;33m/\u001b[0m\u001b[0mRESERVOIR\u001b[0m \u001b[0mPlant1\u001b[0m \u001b[0mReservoir2\u001b[0m\u001b[1;33m\n",
      "\u001b[0m\u001b[1;33m\n",
      "\u001b[0m\u001b[1;31m#Initial reservoir volumes;\u001b[0m\u001b[1;33m\n",
      "\u001b[0m\u001b[0mSTARTRES\u001b[0m      \u001b[1;36m2\u001b[0m \u001b[0mMETER\u001b[0m\u001b[1;33m\n",
      "\u001b[0m\u001b[1;31m#Name; Head (masl);\u001b[0m\u001b[1;33m\n",
      "\u001b[0m\u001b[0mReservoir1\u001b[0m      \u001b[1;36m900.0\u001b[0m\u001b[1;33m\n",
      "\u001b[0m\u001b[0mReservoir2\u001b[0m      \u001b[1;36m670.0\u001b[0m\u001b[1;33m\n",
      "\u001b[0m\u001b[1;33m\n",
      "\u001b[0m\u001b[1;33m\n",
      "\u001b[0m\u001b[0mMULTI_MARKET\u001b[0m \u001b[0mprice_buy\u001b[0m \u001b[1;36m1\u001b[0m \u001b[1;36m0\u001b[0m\u001b[1;33m\n",
      "\u001b[0m\u001b[1;31m#Id;Number;Start_Time;Time_unit;Period;Data_type;Y_unit;Pts;\u001b[0m\u001b[1;33m\n",
      "\u001b[0m\u001b[1;36m0\u001b[0m      \u001b[1;36m0\u001b[0m \u001b[1;36m20180123000000000\u001b[0m \u001b[0mHOUR\u001b[0m      \u001b[1;36m0\u001b[0m     \u001b[1;33m-\u001b[0m\u001b[1;36m1\u001b[0m \u001b[0mNOK\u001b[0m\u001b[1;33m/\u001b[0m\u001b[0mMWH\u001b[0m     \u001b[1;36m73\u001b[0m\u001b[1;33m\n",
      "\u001b[0m\u001b[1;31m#            Time;      f(t);\u001b[0m\u001b[1;33m\n",
      "\u001b[0m\u001b[1;36m20180123000000000\u001b[0m \u001b[1;36m32.99399999999999977\u001b[0m\u001b[1;33m\n",
      "\u001b[0m\u001b[1;36m20180123010000000\u001b[0m \u001b[1;36m31.12399999999999878\u001b[0m\u001b[1;33m\n",
      "\u001b[0m\u001b[1;36m20180123020000000\u001b[0m \u001b[1;36m29.31400000000000006\u001b[0m\u001b[1;33m\n",
      "\u001b[0m\u001b[1;36m20180123030000000\u001b[0m \u001b[1;36m28.07399999999999807\u001b[0m\u001b[1;33m\n",
      "\u001b[0m\u001b[1;36m20180123040000000\u001b[0m \u001b[1;36m30.01399999999999935\u001b[0m\u001b[1;33m\n",
      "\u001b[0m\u001b[1;36m20180123050000000\u001b[0m \u001b[1;36m33.36400000000000432\u001b[0m\u001b[1;33m\n",
      "\u001b[0m\u001b[1;36m20180123060000000\u001b[0m \u001b[1;36m42.68400000000000460\u001b[0m\u001b[1;33m\n",
      "\u001b[0m\u001b[1;36m20180123070000000\u001b[0m \u001b[1;36m74.82399999999999807\u001b[0m\u001b[1;33m\n",
      "\u001b[0m\u001b[1;36m20180123080000000\u001b[0m \u001b[1;36m77.73399999999999466\u001b[0m\u001b[1;33m\n",
      "\u001b[0m\u001b[1;36m20180123090000000\u001b[0m \u001b[1;36m62.33400000000000318\u001b[0m\u001b[1;33m\n",
      "\u001b[0m\u001b[1;36m20180123100000000\u001b[0m \u001b[1;36m55.89400000000000546\u001b[0m\u001b[1;33m\n",
      "\u001b[0m\u001b[1;36m20180123110000000\u001b[0m \u001b[1;36m46.96400000000000574\u001b[0m\u001b[1;33m\n",
      "\u001b[0m\u001b[1;36m20180123120000000\u001b[0m \u001b[1;36m42.58400000000000318\u001b[0m\u001b[1;33m\n",
      "\u001b[0m\u001b[1;36m20180123130000000\u001b[0m \u001b[1;36m40.94400000000000261\u001b[0m\u001b[1;33m\n",
      "\u001b[0m\u001b[1;36m20180123140000000\u001b[0m \u001b[1;36m39.21400000000000574\u001b[0m\u001b[1;33m\n",
      "\u001b[0m\u001b[1;36m20180123150000000\u001b[0m \u001b[1;36m39.14400000000000546\u001b[0m\u001b[1;33m\n",
      "\u001b[0m\u001b[1;36m20180123160000000\u001b[0m \u001b[1;36m41.67399999999999949\u001b[0m\u001b[1;33m\n",
      "\u001b[0m\u001b[1;36m20180123170000000\u001b[0m \u001b[1;36m46.92399999999999949\u001b[0m\u001b[1;33m\n",
      "\u001b[0m\u001b[1;36m20180123180000000\u001b[0m \u001b[1;36m37.10399999999999920\u001b[0m\u001b[1;33m\n",
      "\u001b[0m\u001b[1;36m20180123190000000\u001b[0m \u001b[1;36m32.99399999999999977\u001b[0m\u001b[1;33m\n",
      "\u001b[0m\u001b[1;36m20180123200000000\u001b[0m \u001b[1;36m31.27399999999999736\u001b[0m\u001b[1;33m\n",
      "\u001b[0m\u001b[1;36m20180123210000000\u001b[0m \u001b[1;36m29.75399999999999778\u001b[0m\u001b[1;33m\n",
      "\u001b[0m\u001b[1;36m20180123220000000\u001b[0m \u001b[1;36m28.78399999999999892\u001b[0m\u001b[1;33m\n",
      "\u001b[0m\u001b[1;36m20180123230000000\u001b[0m \u001b[1;36m28.08399999999999963\u001b[0m\u001b[1;33m\n",
      "\u001b[0m\u001b[1;36m20180124000000000\u001b[0m \u001b[1;36m27.24399999999999977\u001b[0m\u001b[1;33m\n",
      "\u001b[0m\u001b[1;36m20180124010000000\u001b[0m \u001b[1;36m26.62399999999999878\u001b[0m\u001b[1;33m\n",
      "\u001b[0m\u001b[1;36m20180124020000000\u001b[0m \u001b[1;36m25.73399999999999821\u001b[0m\u001b[1;33m\n",
      "\u001b[0m\u001b[1;36m20180124030000000\u001b[0m \u001b[1;36m25.39399999999999835\u001b[0m\u001b[1;33m\n",
      "\u001b[0m\u001b[1;36m20180124040000000\u001b[0m \u001b[1;36m25.99399999999999977\u001b[0m\u001b[1;33m\n",
      "\u001b[0m\u001b[1;36m20180124050000000\u001b[0m \u001b[1;36m27.40399999999999991\u001b[0m\u001b[1;33m\n",
      "\u001b[0m\u001b[1;36m20180124060000000\u001b[0m \u001b[1;36m28.94399999999999906\u001b[0m\u001b[1;33m\n",
      "\u001b[0m\u001b[1;36m20180124070000000\u001b[0m \u001b[1;36m32.18400000000000460\u001b[0m\u001b[1;33m\n",
      "\u001b[0m\u001b[1;36m20180124080000000\u001b[0m \u001b[1;36m33.08400000000000318\u001b[0m\u001b[1;33m\n",
      "\u001b[0m\u001b[1;36m20180124090000000\u001b[0m \u001b[1;36m32.34400000000000119\u001b[0m\u001b[1;33m\n",
      "\u001b[0m\u001b[1;36m20180124100000000\u001b[0m \u001b[1;36m30.91399999999999793\u001b[0m\u001b[1;33m\n",
      "\u001b[0m\u001b[1;36m20180124110000000\u001b[0m \u001b[1;36m30.16399999999999793\u001b[0m\u001b[1;33m\n",
      "\u001b[0m\u001b[1;36m20180124120000000\u001b[0m \u001b[1;36m30.06400000000000006\u001b[0m\u001b[1;33m\n",
      "\u001b[0m\u001b[1;36m20180124130000000\u001b[0m \u001b[1;36m29.56400000000000006\u001b[0m\u001b[1;33m\n",
      "\u001b[0m\u001b[1;36m20180124140000000\u001b[0m \u001b[1;36m29.46399999999999864\u001b[0m\u001b[1;33m\n",
      "\u001b[0m\u001b[1;36m20180124150000000\u001b[0m \u001b[1;36m29.51399999999999935\u001b[0m\u001b[1;33m\n",
      "\u001b[0m\u001b[1;36m20180124160000000\u001b[0m \u001b[1;36m29.67399999999999949\u001b[0m\u001b[1;33m\n",
      "\u001b[0m\u001b[1;36m20180124170000000\u001b[0m \u001b[1;36m30.07399999999999807\u001b[0m\u001b[1;33m\n",
      "\u001b[0m\u001b[1;36m20180124180000000\u001b[0m \u001b[1;36m29.55399999999999849\u001b[0m\u001b[1;33m\n",
      "\u001b[0m\u001b[1;36m20180124190000000\u001b[0m \u001b[1;36m28.86399999999999721\u001b[0m\u001b[1;33m\n",
      "\u001b[0m\u001b[1;36m20180124200000000\u001b[0m \u001b[1;36m28.41399999999999793\u001b[0m\u001b[1;33m\n",
      "\u001b[0m\u001b[1;36m20180124210000000\u001b[0m \u001b[1;36m28.07399999999999807\u001b[0m\u001b[1;33m\n",
      "\u001b[0m\u001b[1;36m20180124220000000\u001b[0m \u001b[1;36m27.16399999999999793\u001b[0m\u001b[1;33m\n",
      "\u001b[0m\u001b[1;36m20180124230000000\u001b[0m \u001b[1;36m25.50399999999999778\u001b[0m\u001b[1;33m\n",
      "\u001b[0m\u001b[1;36m20180125000000000\u001b[0m \u001b[1;36m26.19399999999999906\u001b[0m\u001b[1;33m\n",
      "\u001b[0m\u001b[1;36m20180125010000000\u001b[0m \u001b[1;36m25.22400000000000020\u001b[0m\u001b[1;33m\n",
      "\u001b[0m\u001b[1;36m20180125020000000\u001b[0m \u001b[1;36m24.05399999999999849\u001b[0m\u001b[1;33m\n",
      "\u001b[0m\u001b[1;36m20180125030000000\u001b[0m \u001b[1;36m23.89399999999999835\u001b[0m\u001b[1;33m\n",
      "\u001b[0m\u001b[1;36m20180125040000000\u001b[0m \u001b[1;36m23.68399999999999750\u001b[0m\u001b[1;33m\n",
      "\u001b[0m\u001b[1;36m20180125050000000\u001b[0m \u001b[1;36m26.09399999999999764\u001b[0m\u001b[1;33m\n",
      "\u001b[0m\u001b[1;36m20180125060000000\u001b[0m \u001b[1;36m28.20400000000000063\u001b[0m\u001b[1;33m\n",
      "\u001b[0m\u001b[1;36m20180125070000000\u001b[0m \u001b[1;36m30.90399999999999991\u001b[0m\u001b[1;33m\n",
      "\u001b[0m\u001b[1;36m20180125080000000\u001b[0m \u001b[1;36m31.57399999999999807\u001b[0m\u001b[1;33m\n",
      "\u001b[0m\u001b[1;36m20180125090000000\u001b[0m \u001b[1;36m31.46399999999999864\u001b[0m\u001b[1;33m\n",
      "\u001b[0m\u001b[1;36m20180125100000000\u001b[0m \u001b[1;36m31.17399999999999949\u001b[0m\u001b[1;33m\n",
      "\u001b[0m\u001b[1;36m20180125110000000\u001b[0m \u001b[1;36m30.91399999999999793\u001b[0m\u001b[1;33m\n",
      "\u001b[0m\u001b[1;36m20180125120000000\u001b[0m \u001b[1;36m30.57399999999999807\u001b[0m\u001b[1;33m\n",
      "\u001b[0m\u001b[1;36m20180125130000000\u001b[0m \u001b[1;36m30.60399999999999920\u001b[0m\u001b[1;33m\n",
      "\u001b[0m\u001b[1;36m20180125140000000\u001b[0m \u001b[1;36m30.63400000000000034\u001b[0m\u001b[1;33m\n",
      "\u001b[0m\u001b[1;36m20180125150000000\u001b[0m \u001b[1;36m31.06400000000000006\u001b[0m\u001b[1;33m\n",
      "\u001b[0m\u001b[1;36m20180125160000000\u001b[0m \u001b[1;36m32.08400000000000318\u001b[0m\u001b[1;33m\n",
      "\u001b[0m\u001b[1;36m20180125170000000\u001b[0m \u001b[1;36m36.26400000000000290\u001b[0m\u001b[1;33m\n",
      "\u001b[0m\u001b[1;36m20180125180000000\u001b[0m \u001b[1;36m34.47400000000000375\u001b[0m\u001b[1;33m\n",
      "\u001b[0m\u001b[1;36m20180125190000000\u001b[0m \u001b[1;36m32.18400000000000460\u001b[0m\u001b[1;33m\n",
      "\u001b[0m\u001b[1;36m20180125200000000\u001b[0m \u001b[1;36m31.49399999999999977\u001b[0m\u001b[1;33m\n",
      "\u001b[0m\u001b[1;36m20180125210000000\u001b[0m \u001b[1;36m30.73399999999999821\u001b[0m\u001b[1;33m\n",
      "\u001b[0m\u001b[1;36m20180125220000000\u001b[0m \u001b[1;36m29.71399999999999864\u001b[0m\u001b[1;33m\n",
      "\u001b[0m\u001b[1;36m20180125230000000\u001b[0m \u001b[1;36m28.98399999999999821\u001b[0m\u001b[1;33m\n",
      "\u001b[0m\u001b[1;36m20180126000000000\u001b[0m \u001b[1;36m28.98399999999999821\u001b[0m\u001b[1;33m\n",
      "\u001b[0m\u001b[1;33m\n",
      "\u001b[0m\u001b[0mMULTI_MARKET\u001b[0m \u001b[0mprice_sale\u001b[0m \u001b[1;36m1\u001b[0m \u001b[1;36m0\u001b[0m\u001b[1;33m\n",
      "\u001b[0m\u001b[1;31m#Id;Number;Start_Time;Time_unit;Period;Data_type;Y_unit;Pts;\u001b[0m\u001b[1;33m\n",
      "\u001b[0m\u001b[1;36m0\u001b[0m      \u001b[1;36m0\u001b[0m \u001b[1;36m20180123000000000\u001b[0m \u001b[0mHOUR\u001b[0m      \u001b[1;36m0\u001b[0m     \u001b[1;33m-\u001b[0m\u001b[1;36m1\u001b[0m \u001b[0mNOK\u001b[0m\u001b[1;33m/\u001b[0m\u001b[0mMWH\u001b[0m     \u001b[1;36m73\u001b[0m\u001b[1;33m\n",
      "\u001b[0m\u001b[1;31m#            Time;      f(t);\u001b[0m\u001b[1;33m\n",
      "\u001b[0m\u001b[1;36m20180123000000000\u001b[0m \u001b[1;36m32.99199999999999733\u001b[0m\u001b[1;33m\n",
      "\u001b[0m\u001b[1;36m20180123010000000\u001b[0m \u001b[1;36m31.12199999999999989\u001b[0m\u001b[1;33m\n",
      "\u001b[0m\u001b[1;36m20180123020000000\u001b[0m \u001b[1;36m29.31200000000000117\u001b[0m\u001b[1;33m\n",
      "\u001b[0m\u001b[1;36m20180123030000000\u001b[0m \u001b[1;36m28.07199999999999918\u001b[0m\u001b[1;33m\n",
      "\u001b[0m\u001b[1;36m20180123040000000\u001b[0m \u001b[1;36m30.01200000000000045\u001b[0m\u001b[1;33m\n",
      "\u001b[0m\u001b[1;36m20180123050000000\u001b[0m \u001b[1;36m33.36200000000000188\u001b[0m\u001b[1;33m\n",
      "\u001b[0m\u001b[1;36m20180123060000000\u001b[0m \u001b[1;36m42.68200000000000216\u001b[0m\u001b[1;33m\n",
      "\u001b[0m\u001b[1;36m20180123070000000\u001b[0m \u001b[1;36m74.82200000000000273\u001b[0m\u001b[1;33m\n",
      "\u001b[0m\u001b[1;36m20180123080000000\u001b[0m \u001b[1;36m77.73199999999999932\u001b[0m\u001b[1;33m\n",
      "\u001b[0m\u001b[1;36m20180123090000000\u001b[0m \u001b[1;36m62.33200000000000074\u001b[0m\u001b[1;33m\n",
      "\u001b[0m\u001b[1;36m20180123100000000\u001b[0m \u001b[1;36m55.89200000000000301\u001b[0m\u001b[1;33m\n",
      "\u001b[0m\u001b[1;36m20180123110000000\u001b[0m \u001b[1;36m46.96200000000000330\u001b[0m\u001b[1;33m\n",
      "\u001b[0m\u001b[1;36m20180123120000000\u001b[0m \u001b[1;36m42.58200000000000074\u001b[0m\u001b[1;33m\n",
      "\u001b[0m\u001b[1;36m20180123130000000\u001b[0m \u001b[1;36m40.94200000000000017\u001b[0m\u001b[1;33m\n",
      "\u001b[0m\u001b[1;36m20180123140000000\u001b[0m \u001b[1;36m39.21200000000000330\u001b[0m\u001b[1;33m\n",
      "\u001b[0m\u001b[1;36m20180123150000000\u001b[0m \u001b[1;36m39.14200000000000301\u001b[0m\u001b[1;33m\n",
      "\u001b[0m\u001b[1;36m20180123160000000\u001b[0m \u001b[1;36m41.67199999999999704\u001b[0m\u001b[1;33m\n",
      "\u001b[0m\u001b[1;36m20180123170000000\u001b[0m \u001b[1;36m46.92199999999999704\u001b[0m\u001b[1;33m\n",
      "\u001b[0m\u001b[1;36m20180123180000000\u001b[0m \u001b[1;36m37.10199999999999676\u001b[0m\u001b[1;33m\n",
      "\u001b[0m\u001b[1;36m20180123190000000\u001b[0m \u001b[1;36m32.99199999999999733\u001b[0m\u001b[1;33m\n",
      "\u001b[0m\u001b[1;36m20180123200000000\u001b[0m \u001b[1;36m31.27199999999999847\u001b[0m\u001b[1;33m\n",
      "\u001b[0m\u001b[1;36m20180123210000000\u001b[0m \u001b[1;36m29.75199999999999889\u001b[0m\u001b[1;33m\n",
      "\u001b[0m\u001b[1;36m20180123220000000\u001b[0m \u001b[1;36m28.78200000000000003\u001b[0m\u001b[1;33m\n",
      "\u001b[0m\u001b[1;36m20180123230000000\u001b[0m \u001b[1;36m28.08200000000000074\u001b[0m\u001b[1;33m\n",
      "\u001b[0m\u001b[1;36m20180124000000000\u001b[0m \u001b[1;36m27.24200000000000088\u001b[0m\u001b[1;33m\n",
      "\u001b[0m\u001b[1;36m20180124010000000\u001b[0m \u001b[1;36m26.62199999999999989\u001b[0m\u001b[1;33m\n",
      "\u001b[0m\u001b[1;36m20180124020000000\u001b[0m \u001b[1;36m25.73199999999999932\u001b[0m\u001b[1;33m\n",
      "\u001b[0m\u001b[1;36m20180124030000000\u001b[0m \u001b[1;36m25.39199999999999946\u001b[0m\u001b[1;33m\n",
      "\u001b[0m\u001b[1;36m20180124040000000\u001b[0m \u001b[1;36m25.99200000000000088\u001b[0m\u001b[1;33m\n",
      "\u001b[0m\u001b[1;36m20180124050000000\u001b[0m \u001b[1;36m27.40200000000000102\u001b[0m\u001b[1;33m\n",
      "\u001b[0m\u001b[1;36m20180124060000000\u001b[0m \u001b[1;36m28.94200000000000017\u001b[0m\u001b[1;33m\n",
      "\u001b[0m\u001b[1;36m20180124070000000\u001b[0m \u001b[1;36m32.18200000000000216\u001b[0m\u001b[1;33m\n",
      "\u001b[0m\u001b[1;36m20180124080000000\u001b[0m \u001b[1;36m33.08200000000000074\u001b[0m\u001b[1;33m\n",
      "\u001b[0m\u001b[1;36m20180124090000000\u001b[0m \u001b[1;36m32.34199999999999875\u001b[0m\u001b[1;33m\n",
      "\u001b[0m\u001b[1;36m20180124100000000\u001b[0m \u001b[1;36m30.91199999999999903\u001b[0m\u001b[1;33m\n",
      "\u001b[0m\u001b[1;36m20180124110000000\u001b[0m \u001b[1;36m30.16199999999999903\u001b[0m\u001b[1;33m\n",
      "\u001b[0m\u001b[1;36m20180124120000000\u001b[0m \u001b[1;36m30.06200000000000117\u001b[0m\u001b[1;33m\n",
      "\u001b[0m\u001b[1;36m20180124130000000\u001b[0m \u001b[1;36m29.56200000000000117\u001b[0m\u001b[1;33m\n",
      "\u001b[0m\u001b[1;36m20180124140000000\u001b[0m \u001b[1;36m29.46199999999999974\u001b[0m\u001b[1;33m\n",
      "\u001b[0m\u001b[1;36m20180124150000000\u001b[0m \u001b[1;36m29.51200000000000045\u001b[0m\u001b[1;33m\n",
      "\u001b[0m\u001b[1;36m20180124160000000\u001b[0m \u001b[1;36m29.67200000000000060\u001b[0m\u001b[1;33m\n",
      "\u001b[0m\u001b[1;36m20180124170000000\u001b[0m \u001b[1;36m30.07199999999999918\u001b[0m\u001b[1;33m\n",
      "\u001b[0m\u001b[1;36m20180124180000000\u001b[0m \u001b[1;36m29.55199999999999960\u001b[0m\u001b[1;33m\n",
      "\u001b[0m\u001b[1;36m20180124190000000\u001b[0m \u001b[1;36m28.86199999999999832\u001b[0m\u001b[1;33m\n",
      "\u001b[0m\u001b[1;36m20180124200000000\u001b[0m \u001b[1;36m28.41199999999999903\u001b[0m\u001b[1;33m\n",
      "\u001b[0m\u001b[1;36m20180124210000000\u001b[0m \u001b[1;36m28.07199999999999918\u001b[0m\u001b[1;33m\n",
      "\u001b[0m\u001b[1;36m20180124220000000\u001b[0m \u001b[1;36m27.16199999999999903\u001b[0m\u001b[1;33m\n",
      "\u001b[0m\u001b[1;36m20180124230000000\u001b[0m \u001b[1;36m25.50199999999999889\u001b[0m\u001b[1;33m\n",
      "\u001b[0m\u001b[1;36m20180125000000000\u001b[0m \u001b[1;36m26.19200000000000017\u001b[0m\u001b[1;33m\n",
      "\u001b[0m\u001b[1;36m20180125010000000\u001b[0m \u001b[1;36m25.22200000000000131\u001b[0m\u001b[1;33m\n",
      "\u001b[0m\u001b[1;36m20180125020000000\u001b[0m \u001b[1;36m24.05199999999999960\u001b[0m\u001b[1;33m\n",
      "\u001b[0m\u001b[1;36m20180125030000000\u001b[0m \u001b[1;36m23.89199999999999946\u001b[0m\u001b[1;33m\n",
      "\u001b[0m\u001b[1;36m20180125040000000\u001b[0m \u001b[1;36m23.68199999999999861\u001b[0m\u001b[1;33m\n",
      "\u001b[0m\u001b[1;36m20180125050000000\u001b[0m \u001b[1;36m26.09199999999999875\u001b[0m\u001b[1;33m\n",
      "\u001b[0m\u001b[1;36m20180125060000000\u001b[0m \u001b[1;36m28.20200000000000173\u001b[0m\u001b[1;33m\n",
      "\u001b[0m\u001b[1;36m20180125070000000\u001b[0m \u001b[1;36m30.90200000000000102\u001b[0m\u001b[1;33m\n",
      "\u001b[0m\u001b[1;36m20180125080000000\u001b[0m \u001b[1;36m31.57199999999999918\u001b[0m\u001b[1;33m\n",
      "\u001b[0m\u001b[1;36m20180125090000000\u001b[0m \u001b[1;36m31.46199999999999974\u001b[0m\u001b[1;33m\n",
      "\u001b[0m\u001b[1;36m20180125100000000\u001b[0m \u001b[1;36m31.17200000000000060\u001b[0m\u001b[1;33m\n",
      "\u001b[0m\u001b[1;36m20180125110000000\u001b[0m \u001b[1;36m30.91199999999999903\u001b[0m\u001b[1;33m\n",
      "\u001b[0m\u001b[1;36m20180125120000000\u001b[0m \u001b[1;36m30.57199999999999918\u001b[0m\u001b[1;33m\n",
      "\u001b[0m\u001b[1;36m20180125130000000\u001b[0m \u001b[1;36m30.60200000000000031\u001b[0m\u001b[1;33m\n",
      "\u001b[0m\u001b[1;36m20180125140000000\u001b[0m \u001b[1;36m30.63200000000000145\u001b[0m\u001b[1;33m\n",
      "\u001b[0m\u001b[1;36m20180125150000000\u001b[0m \u001b[1;36m31.06200000000000117\u001b[0m\u001b[1;33m\n",
      "\u001b[0m\u001b[1;36m20180125160000000\u001b[0m \u001b[1;36m32.08200000000000074\u001b[0m\u001b[1;33m\n",
      "\u001b[0m\u001b[1;36m20180125170000000\u001b[0m \u001b[1;36m36.26200000000000045\u001b[0m\u001b[1;33m\n",
      "\u001b[0m\u001b[1;36m20180125180000000\u001b[0m \u001b[1;36m34.47200000000000131\u001b[0m\u001b[1;33m\n",
      "\u001b[0m\u001b[1;36m20180125190000000\u001b[0m \u001b[1;36m32.18200000000000216\u001b[0m\u001b[1;33m\n",
      "\u001b[0m\u001b[1;36m20180125200000000\u001b[0m \u001b[1;36m31.49200000000000088\u001b[0m\u001b[1;33m\n",
      "\u001b[0m\u001b[1;36m20180125210000000\u001b[0m \u001b[1;36m30.73199999999999932\u001b[0m\u001b[1;33m\n",
      "\u001b[0m\u001b[1;36m20180125220000000\u001b[0m \u001b[1;36m29.71199999999999974\u001b[0m\u001b[1;33m\n",
      "\u001b[0m\u001b[1;36m20180125230000000\u001b[0m \u001b[1;36m28.98199999999999932\u001b[0m\u001b[1;33m\n",
      "\u001b[0m\u001b[1;36m20180126000000000\u001b[0m \u001b[1;36m28.98199999999999932\u001b[0m\u001b[1;33m\n",
      "\u001b[0m\u001b[1;33m\n",
      "\u001b[0m\u001b[0mMULTI_MARKET\u001b[0m \u001b[0mmax_buy\u001b[0m \u001b[1;36m1\u001b[0m \u001b[1;36m0\u001b[0m\u001b[1;33m\n",
      "\u001b[0m\u001b[1;31m#Id;Number;Start_Time;Time_unit;Period;Data_type;Y_unit;Pts;\u001b[0m\u001b[1;33m\n",
      "\u001b[0m\u001b[1;36m0\u001b[0m      \u001b[1;36m0\u001b[0m \u001b[1;36m20180123000000000\u001b[0m \u001b[0mHOUR\u001b[0m      \u001b[1;36m0\u001b[0m     \u001b[1;33m-\u001b[0m\u001b[1;36m1\u001b[0m \u001b[0mMW\u001b[0m     \u001b[1;36m73\u001b[0m\u001b[1;33m\n",
      "\u001b[0m\u001b[1;31m#            Time;      f(t);\u001b[0m\u001b[1;33m\n",
      "\u001b[0m\u001b[1;36m20180123000000000\u001b[0m \u001b[1;36m9999.00000000000000000\u001b[0m\u001b[1;33m\n",
      "\u001b[0m\u001b[1;33m\n",
      "\u001b[0m\u001b[0mMULTI_MARKET\u001b[0m \u001b[0mmax_sale\u001b[0m \u001b[1;36m1\u001b[0m \u001b[1;36m0\u001b[0m\u001b[1;33m\n",
      "\u001b[0m\u001b[1;31m#Id;Number;Start_Time;Time_unit;Period;Data_type;Y_unit;Pts;\u001b[0m\u001b[1;33m\n",
      "\u001b[0m\u001b[1;36m0\u001b[0m      \u001b[1;36m0\u001b[0m \u001b[1;36m20180123000000000\u001b[0m \u001b[0mHOUR\u001b[0m      \u001b[1;36m0\u001b[0m     \u001b[1;33m-\u001b[0m\u001b[1;36m1\u001b[0m \u001b[0mMW\u001b[0m     \u001b[1;36m73\u001b[0m\u001b[1;33m\n",
      "\u001b[0m\u001b[1;31m#            Time;      f(t);\u001b[0m\u001b[1;33m\n",
      "\u001b[0m\u001b[1;36m20180123000000000\u001b[0m \u001b[1;36m9999.00000000000000000\u001b[0m\u001b[1;33m\u001b[0m\u001b[1;33m\u001b[0m\u001b[0m\n"
     ]
    }
   ],
   "metadata": {}
  },
  {
   "cell_type": "markdown",
   "source": [
    "## reserve_obligation.ascii <a name=\"reserve_obligation.ascii\"></a>"
   ],
   "metadata": {}
  },
  {
   "cell_type": "code",
   "execution_count": 11,
   "source": [
    "%pycat reserve_obligation.ascii"
   ],
   "outputs": [
    {
     "output_type": "stream",
     "name": "stdout",
     "text": [
      "\u001b[0mRESERVE_GROUP\u001b[0m   \u001b[0mfcr_n_up\u001b[0m        \u001b[1;36m1\u001b[0m\u001b[1;33m\n",
      "\u001b[0m\u001b[1;31m#Id;Number;Start_Time;Time_unit;Period;Data_type;Y_unit;Pts;\u001b[0m\u001b[1;33m\n",
      "\u001b[0m\u001b[1;36m0\u001b[0m      \u001b[1;36m0\u001b[0m \u001b[1;36m20180123000000000\u001b[0m \u001b[0mHOUR\u001b[0m      \u001b[1;36m0\u001b[0m     \u001b[1;33m-\u001b[0m\u001b[1;36m1\u001b[0m \u001b[0mMW\u001b[0m     \u001b[1;36m1\u001b[0m\u001b[1;33m\n",
      "\u001b[0m\u001b[1;31m#            Time;      f(t);\u001b[0m\u001b[1;33m\n",
      "\u001b[0m\u001b[1;36m20180123000000000\u001b[0m \u001b[1;36m20.0\u001b[0m\u001b[1;33m\n",
      "\u001b[0m\u001b[1;33m\n",
      "\u001b[0m\u001b[0mRESERVE_GROUP\u001b[0m   \u001b[0mfcr_n_down\u001b[0m      \u001b[1;36m1\u001b[0m\u001b[1;33m\n",
      "\u001b[0m\u001b[1;31m#Id;Number;Start_Time;Time_unit;Period;Data_type;Y_unit;Pts;\u001b[0m\u001b[1;33m\n",
      "\u001b[0m\u001b[1;36m0\u001b[0m      \u001b[1;36m0\u001b[0m \u001b[1;36m20180123000000000\u001b[0m \u001b[0mHOUR\u001b[0m      \u001b[1;36m0\u001b[0m     \u001b[1;33m-\u001b[0m\u001b[1;36m1\u001b[0m \u001b[0mMW\u001b[0m     \u001b[1;36m1\u001b[0m\u001b[1;33m\n",
      "\u001b[0m\u001b[1;31m#            Time;      f(t);\u001b[0m\u001b[1;33m\n",
      "\u001b[0m\u001b[1;36m20180123000000000\u001b[0m \u001b[1;36m20.0\u001b[0m\u001b[1;33m\n",
      "\u001b[0m\u001b[1;33m\n",
      "\u001b[0m\u001b[1;33m\n",
      "\u001b[0m\u001b[1;31m#FCR-N UP\u001b[0m\u001b[1;33m\n",
      "\u001b[0m\u001b[0mGENERATOR\u001b[0m       \u001b[0mgen_fcr_n_up_group\u001b[0m      \u001b[0mPlant1\u001b[0m      \u001b[1;36m1\u001b[0m\u001b[1;33m\n",
      "\u001b[0m\u001b[1;31m#       Id      number  starttime               time_unit       period  data_type       y_unit  npts\u001b[0m\u001b[1;33m\n",
      "\u001b[0m\u001b[1;36m0\u001b[0m       \u001b[1;36m0\u001b[0m       \u001b[1;36m20190913060000000\u001b[0m       \u001b[0mHOUR\u001b[0m            \u001b[1;36m8760\u001b[0m            \u001b[1;33m-\u001b[0m\u001b[1;36m1\u001b[0m      \u001b[0mNO_UNIT\u001b[0m \u001b[1;36m1\u001b[0m\u001b[1;33m\n",
      "\u001b[0m\u001b[1;31m#       time            y\u001b[0m\u001b[1;33m\n",
      "\u001b[0m\u001b[1;36m20190913060000000\u001b[0m       \u001b[1;36m1.000000000000\u001b[0m\u001b[1;33m\n",
      "\u001b[0m\u001b[1;33m\n",
      "\u001b[0m\u001b[0mGENERATOR\u001b[0m       \u001b[0mgen_fcr_n_up_group\u001b[0m      \u001b[0mPlant1\u001b[0m      \u001b[1;36m2\u001b[0m\u001b[1;33m\n",
      "\u001b[0m\u001b[1;31m#       Id      number  starttime               time_unit       period  data_type       y_unit  npts\u001b[0m\u001b[1;33m\n",
      "\u001b[0m\u001b[1;36m0\u001b[0m       \u001b[1;36m0\u001b[0m       \u001b[1;36m20190913060000000\u001b[0m       \u001b[0mHOUR\u001b[0m            \u001b[1;36m8760\u001b[0m            \u001b[1;33m-\u001b[0m\u001b[1;36m1\u001b[0m      \u001b[0mNO_UNIT\u001b[0m \u001b[1;36m1\u001b[0m\u001b[1;33m\n",
      "\u001b[0m\u001b[1;31m#       time            y\u001b[0m\u001b[1;33m\n",
      "\u001b[0m\u001b[1;36m20190913060000000\u001b[0m       \u001b[1;36m1.000000000000\u001b[0m\u001b[1;33m\n",
      "\u001b[0m\u001b[1;33m\n",
      "\u001b[0m\u001b[0mGENERATOR\u001b[0m       \u001b[0mgen_fcr_n_up_group\u001b[0m      \u001b[0mPlant2\u001b[0m      \u001b[1;36m1\u001b[0m\u001b[1;33m\n",
      "\u001b[0m\u001b[1;31m#       Id      number  starttime               time_unit       period  data_type       y_unit  npts\u001b[0m\u001b[1;33m\n",
      "\u001b[0m\u001b[1;36m0\u001b[0m       \u001b[1;36m0\u001b[0m       \u001b[1;36m20190913060000000\u001b[0m       \u001b[0mHOUR\u001b[0m            \u001b[1;36m8760\u001b[0m            \u001b[1;33m-\u001b[0m\u001b[1;36m1\u001b[0m      \u001b[0mNO_UNIT\u001b[0m \u001b[1;36m1\u001b[0m\u001b[1;33m\n",
      "\u001b[0m\u001b[1;31m#       time            y\u001b[0m\u001b[1;33m\n",
      "\u001b[0m\u001b[1;36m20190913060000000\u001b[0m       \u001b[1;36m1.000000000000\u001b[0m\u001b[1;33m\n",
      "\u001b[0m\u001b[1;33m\n",
      "\u001b[0m\u001b[0mGENERATOR\u001b[0m       \u001b[0mgen_fcr_n_up_group\u001b[0m      \u001b[0mPlant2\u001b[0m      \u001b[1;36m2\u001b[0m\u001b[1;33m\n",
      "\u001b[0m\u001b[1;31m#       Id      number  starttime               time_unit       period  data_type       y_unit  npts\u001b[0m\u001b[1;33m\n",
      "\u001b[0m\u001b[1;36m0\u001b[0m       \u001b[1;36m0\u001b[0m       \u001b[1;36m20190913060000000\u001b[0m       \u001b[0mHOUR\u001b[0m            \u001b[1;36m8760\u001b[0m            \u001b[1;33m-\u001b[0m\u001b[1;36m1\u001b[0m      \u001b[0mNO_UNIT\u001b[0m \u001b[1;36m1\u001b[0m\u001b[1;33m\n",
      "\u001b[0m\u001b[1;31m#       time            y\u001b[0m\u001b[1;33m\n",
      "\u001b[0m\u001b[1;36m20190913060000000\u001b[0m       \u001b[1;36m1.000000000000\u001b[0m\u001b[1;33m\n",
      "\u001b[0m\u001b[1;33m\n",
      "\u001b[0m\u001b[0mGENERATOR\u001b[0m       \u001b[0mgen_fcr_n_up_group\u001b[0m      \u001b[0mPlant2\u001b[0m      \u001b[1;36m3\u001b[0m\u001b[1;33m\n",
      "\u001b[0m\u001b[1;31m#       Id      number  starttime               time_unit       period  data_type       y_unit  npts\u001b[0m\u001b[1;33m\n",
      "\u001b[0m\u001b[1;36m0\u001b[0m       \u001b[1;36m0\u001b[0m       \u001b[1;36m20190913060000000\u001b[0m       \u001b[0mHOUR\u001b[0m            \u001b[1;36m8760\u001b[0m            \u001b[1;33m-\u001b[0m\u001b[1;36m1\u001b[0m      \u001b[0mNO_UNIT\u001b[0m \u001b[1;36m1\u001b[0m\u001b[1;33m\n",
      "\u001b[0m\u001b[1;31m#       time            y\u001b[0m\u001b[1;33m\n",
      "\u001b[0m\u001b[1;36m20190913060000000\u001b[0m       \u001b[1;36m1.000000000000\u001b[0m\u001b[1;33m\n",
      "\u001b[0m\u001b[1;33m\n",
      "\u001b[0m\u001b[0mGENERATOR\u001b[0m       \u001b[0mgen_fcr_n_up_group\u001b[0m      \u001b[0mPlant2\u001b[0m      \u001b[1;36m4\u001b[0m\u001b[1;33m\n",
      "\u001b[0m\u001b[1;31m#       Id      number  starttime               time_unit       period  data_type       y_unit  npts\u001b[0m\u001b[1;33m\n",
      "\u001b[0m\u001b[1;36m0\u001b[0m       \u001b[1;36m0\u001b[0m       \u001b[1;36m20190913060000000\u001b[0m       \u001b[0mHOUR\u001b[0m            \u001b[1;36m8760\u001b[0m            \u001b[1;33m-\u001b[0m\u001b[1;36m1\u001b[0m      \u001b[0mNO_UNIT\u001b[0m \u001b[1;36m1\u001b[0m\u001b[1;33m\n",
      "\u001b[0m\u001b[1;31m#       time            y\u001b[0m\u001b[1;33m\n",
      "\u001b[0m\u001b[1;36m20190913060000000\u001b[0m       \u001b[1;36m1.000000000000\u001b[0m\u001b[1;33m\n",
      "\u001b[0m\u001b[1;33m\n",
      "\u001b[0m\u001b[1;33m\n",
      "\u001b[0m\u001b[1;31m#FCR-N DOWN\u001b[0m\u001b[1;33m\n",
      "\u001b[0m\u001b[0mGENERATOR\u001b[0m       \u001b[0mgen_fcr_n_down_group\u001b[0m    \u001b[0mPlant1\u001b[0m      \u001b[1;36m1\u001b[0m\u001b[1;33m\n",
      "\u001b[0m\u001b[1;31m#       Id      number  starttime               time_unit       period  data_type       y_unit  npts\u001b[0m\u001b[1;33m\n",
      "\u001b[0m\u001b[1;36m0\u001b[0m       \u001b[1;36m0\u001b[0m       \u001b[1;36m20190913060000000\u001b[0m       \u001b[0mHOUR\u001b[0m            \u001b[1;36m8760\u001b[0m            \u001b[1;33m-\u001b[0m\u001b[1;36m1\u001b[0m      \u001b[0mNO_UNIT\u001b[0m \u001b[1;36m1\u001b[0m\u001b[1;33m\n",
      "\u001b[0m\u001b[1;31m#       time            y\u001b[0m\u001b[1;33m\n",
      "\u001b[0m\u001b[1;36m20190913060000000\u001b[0m       \u001b[1;36m1.000000000000\u001b[0m\u001b[1;33m\n",
      "\u001b[0m\u001b[1;33m\n",
      "\u001b[0m\u001b[0mGENERATOR\u001b[0m       \u001b[0mgen_fcr_n_down_group\u001b[0m    \u001b[0mPlant1\u001b[0m      \u001b[1;36m2\u001b[0m\u001b[1;33m\n",
      "\u001b[0m\u001b[1;31m#       Id      number  starttime               time_unit       period  data_type       y_unit  npts\u001b[0m\u001b[1;33m\n",
      "\u001b[0m\u001b[1;36m0\u001b[0m       \u001b[1;36m0\u001b[0m       \u001b[1;36m20190913060000000\u001b[0m       \u001b[0mHOUR\u001b[0m            \u001b[1;36m8760\u001b[0m            \u001b[1;33m-\u001b[0m\u001b[1;36m1\u001b[0m      \u001b[0mNO_UNIT\u001b[0m \u001b[1;36m1\u001b[0m\u001b[1;33m\n",
      "\u001b[0m\u001b[1;31m#       time            y\u001b[0m\u001b[1;33m\n",
      "\u001b[0m\u001b[1;36m20190913060000000\u001b[0m       \u001b[1;36m1.000000000000\u001b[0m\u001b[1;33m\n",
      "\u001b[0m\u001b[1;33m\n",
      "\u001b[0m\u001b[0mGENERATOR\u001b[0m       \u001b[0mgen_fcr_n_down_group\u001b[0m    \u001b[0mPlant2\u001b[0m      \u001b[1;36m1\u001b[0m\u001b[1;33m\n",
      "\u001b[0m\u001b[1;31m#       Id      number  starttime               time_unit       period  data_type       y_unit  npts\u001b[0m\u001b[1;33m\n",
      "\u001b[0m\u001b[1;36m0\u001b[0m       \u001b[1;36m0\u001b[0m       \u001b[1;36m20190913060000000\u001b[0m       \u001b[0mHOUR\u001b[0m            \u001b[1;36m8760\u001b[0m            \u001b[1;33m-\u001b[0m\u001b[1;36m1\u001b[0m      \u001b[0mNO_UNIT\u001b[0m \u001b[1;36m1\u001b[0m\u001b[1;33m\n",
      "\u001b[0m\u001b[1;31m#       time            y\u001b[0m\u001b[1;33m\n",
      "\u001b[0m\u001b[1;36m20190913060000000\u001b[0m       \u001b[1;36m1.000000000000\u001b[0m\u001b[1;33m\n",
      "\u001b[0m\u001b[1;33m\n",
      "\u001b[0m\u001b[0mGENERATOR\u001b[0m       \u001b[0mgen_fcr_n_down_group\u001b[0m    \u001b[0mPlant2\u001b[0m      \u001b[1;36m2\u001b[0m\u001b[1;33m\n",
      "\u001b[0m\u001b[1;31m#       Id      number  starttime               time_unit       period  data_type       y_unit  npts\u001b[0m\u001b[1;33m\n",
      "\u001b[0m\u001b[1;36m0\u001b[0m       \u001b[1;36m0\u001b[0m       \u001b[1;36m20190913060000000\u001b[0m       \u001b[0mHOUR\u001b[0m            \u001b[1;36m8760\u001b[0m            \u001b[1;33m-\u001b[0m\u001b[1;36m1\u001b[0m      \u001b[0mNO_UNIT\u001b[0m \u001b[1;36m1\u001b[0m\u001b[1;33m\n",
      "\u001b[0m\u001b[1;31m#       time            y\u001b[0m\u001b[1;33m\n",
      "\u001b[0m\u001b[1;36m20190913060000000\u001b[0m       \u001b[1;36m1.000000000000\u001b[0m\u001b[1;33m\n",
      "\u001b[0m\u001b[1;33m\n",
      "\u001b[0m\u001b[0mGENERATOR\u001b[0m       \u001b[0mgen_fcr_n_down_group\u001b[0m    \u001b[0mPlant2\u001b[0m      \u001b[1;36m3\u001b[0m\u001b[1;33m\n",
      "\u001b[0m\u001b[1;31m#       Id      number  starttime               time_unit       period  data_type       y_unit  npts\u001b[0m\u001b[1;33m\n",
      "\u001b[0m\u001b[1;36m0\u001b[0m       \u001b[1;36m0\u001b[0m       \u001b[1;36m20190913060000000\u001b[0m       \u001b[0mHOUR\u001b[0m            \u001b[1;36m8760\u001b[0m            \u001b[1;33m-\u001b[0m\u001b[1;36m1\u001b[0m      \u001b[0mNO_UNIT\u001b[0m \u001b[1;36m1\u001b[0m\u001b[1;33m\n",
      "\u001b[0m\u001b[1;31m#       time            y\u001b[0m\u001b[1;33m\n",
      "\u001b[0m\u001b[1;36m20190913060000000\u001b[0m       \u001b[1;36m1.000000000000\u001b[0m\u001b[1;33m\n",
      "\u001b[0m\u001b[1;33m\n",
      "\u001b[0m\u001b[0mGENERATOR\u001b[0m       \u001b[0mgen_fcr_n_down_group\u001b[0m    \u001b[0mPlant2\u001b[0m      \u001b[1;36m4\u001b[0m\u001b[1;33m\n",
      "\u001b[0m\u001b[1;31m#       Id      number  starttime               time_unit       period  data_type       y_unit  npts\u001b[0m\u001b[1;33m\n",
      "\u001b[0m\u001b[1;36m0\u001b[0m       \u001b[1;36m0\u001b[0m       \u001b[1;36m20190913060000000\u001b[0m       \u001b[0mHOUR\u001b[0m            \u001b[1;36m8760\u001b[0m            \u001b[1;33m-\u001b[0m\u001b[1;36m1\u001b[0m      \u001b[0mNO_UNIT\u001b[0m \u001b[1;36m1\u001b[0m\u001b[1;33m\n",
      "\u001b[0m\u001b[1;31m#       time            y\u001b[0m\u001b[1;33m\n",
      "\u001b[0m\u001b[1;36m20190913060000000\u001b[0m       \u001b[1;36m1.000000000000\u001b[0m\u001b[1;33m\u001b[0m\u001b[1;33m\u001b[0m\u001b[0m\n"
     ]
    }
   ],
   "metadata": {}
  },
  {
   "cell_type": "markdown",
   "source": [
    "## discrete_droop_input.ascii <a name=\"discrete_droop_input.ascii\"></a>"
   ],
   "metadata": {}
  },
  {
   "cell_type": "code",
   "execution_count": 12,
   "source": [
    "%pycat discrete_droop_input.ascii"
   ],
   "outputs": [
    {
     "output_type": "stream",
     "name": "stdout",
     "text": [
      "\u001b[0mGENERATOR\u001b[0m       \u001b[0mdiscrete_droop_values\u001b[0m   \u001b[0mPlant2\u001b[0m      \u001b[1;36m1\u001b[0m\u001b[1;33m\n",
      "\u001b[0m\u001b[1;36m1.0\u001b[0m \u001b[1;36m1.5\u001b[0m \u001b[1;36m2.0\u001b[0m \u001b[1;36m2.5\u001b[0m \u001b[1;36m3.0\u001b[0m \u001b[1;36m3.5\u001b[0m \u001b[1;36m4.0\u001b[0m \u001b[1;36m4.5\u001b[0m \u001b[1;36m5.0\u001b[0m \u001b[1;36m5.5\u001b[0m \u001b[1;36m6.0\u001b[0m \u001b[1;36m6.5\u001b[0m \u001b[1;36m7.0\u001b[0m \u001b[1;36m7.5\u001b[0m \u001b[1;36m8.0\u001b[0m \u001b[1;36m8.5\u001b[0m \u001b[1;36m9.0\u001b[0m \u001b[1;36m9.5\u001b[0m \u001b[1;36m10.0\u001b[0m \u001b[1;36m10.5\u001b[0m \u001b[1;36m11.0\u001b[0m \u001b[1;36m11.5\u001b[0m \u001b[1;36m12.0\u001b[0m\u001b[1;33m\n",
      "\u001b[0m\u001b[1;33m\n",
      "\u001b[0m\u001b[0mGENERATOR\u001b[0m       \u001b[0mdiscrete_droop_values\u001b[0m   \u001b[0mPlant2\u001b[0m      \u001b[1;36m2\u001b[0m\u001b[1;33m\n",
      "\u001b[0m\u001b[1;36m1.0\u001b[0m \u001b[1;36m1.5\u001b[0m \u001b[1;36m2.0\u001b[0m \u001b[1;36m2.5\u001b[0m \u001b[1;36m3.0\u001b[0m \u001b[1;36m3.5\u001b[0m \u001b[1;36m4.0\u001b[0m \u001b[1;36m4.5\u001b[0m \u001b[1;36m5.0\u001b[0m \u001b[1;36m5.5\u001b[0m \u001b[1;36m6.0\u001b[0m \u001b[1;36m6.5\u001b[0m \u001b[1;36m7.0\u001b[0m \u001b[1;36m7.5\u001b[0m \u001b[1;36m8.0\u001b[0m \u001b[1;36m8.5\u001b[0m \u001b[1;36m9.0\u001b[0m \u001b[1;36m9.5\u001b[0m \u001b[1;36m10.0\u001b[0m \u001b[1;36m10.5\u001b[0m \u001b[1;36m11.0\u001b[0m \u001b[1;36m11.5\u001b[0m \u001b[1;36m12.0\u001b[0m\u001b[1;33m\n",
      "\u001b[0m\u001b[1;33m\n",
      "\u001b[0m\u001b[0mGENERATOR\u001b[0m       \u001b[0mdiscrete_droop_values\u001b[0m   \u001b[0mPlant2\u001b[0m      \u001b[1;36m3\u001b[0m\u001b[1;33m\n",
      "\u001b[0m\u001b[1;36m1.0\u001b[0m \u001b[1;36m1.5\u001b[0m \u001b[1;36m2.0\u001b[0m \u001b[1;36m2.5\u001b[0m \u001b[1;36m3.0\u001b[0m \u001b[1;36m3.5\u001b[0m \u001b[1;36m4.0\u001b[0m \u001b[1;36m4.5\u001b[0m \u001b[1;36m5.0\u001b[0m \u001b[1;36m5.5\u001b[0m \u001b[1;36m6.0\u001b[0m \u001b[1;36m6.5\u001b[0m \u001b[1;36m7.0\u001b[0m \u001b[1;36m7.5\u001b[0m \u001b[1;36m8.0\u001b[0m \u001b[1;36m8.5\u001b[0m \u001b[1;36m9.0\u001b[0m \u001b[1;36m9.5\u001b[0m \u001b[1;36m10.0\u001b[0m \u001b[1;36m10.5\u001b[0m \u001b[1;36m11.0\u001b[0m \u001b[1;36m11.5\u001b[0m \u001b[1;36m12.0\u001b[0m\u001b[1;33m\n",
      "\u001b[0m\u001b[1;33m\n",
      "\u001b[0m\u001b[0mGENERATOR\u001b[0m       \u001b[0mdiscrete_droop_values\u001b[0m   \u001b[0mPlant2\u001b[0m      \u001b[1;36m4\u001b[0m\u001b[1;33m\n",
      "\u001b[0m\u001b[1;36m1.0\u001b[0m \u001b[1;36m1.5\u001b[0m \u001b[1;36m2.0\u001b[0m \u001b[1;36m2.5\u001b[0m \u001b[1;36m3.0\u001b[0m \u001b[1;36m3.5\u001b[0m \u001b[1;36m4.0\u001b[0m \u001b[1;36m4.5\u001b[0m \u001b[1;36m5.0\u001b[0m \u001b[1;36m5.5\u001b[0m \u001b[1;36m6.0\u001b[0m \u001b[1;36m6.5\u001b[0m \u001b[1;36m7.0\u001b[0m \u001b[1;36m7.5\u001b[0m \u001b[1;36m8.0\u001b[0m \u001b[1;36m8.5\u001b[0m \u001b[1;36m9.0\u001b[0m \u001b[1;36m9.5\u001b[0m \u001b[1;36m10.0\u001b[0m \u001b[1;36m10.5\u001b[0m \u001b[1;36m11.0\u001b[0m \u001b[1;36m11.5\u001b[0m \u001b[1;36m12.0\u001b[0m\u001b[1;33m\u001b[0m\u001b[1;33m\u001b[0m\u001b[0m\n"
     ]
    }
   ],
   "metadata": {}
  }
 ],
 "metadata": {
  "kernelspec": {
   "name": "python3",
   "display_name": "Python 3.7.9 64-bit ('SHOP': conda)"
  },
  "language_info": {
   "codemirror_mode": {
    "name": "ipython",
    "version": 3
   },
   "file_extension": ".py",
   "mimetype": "text/x-python",
   "name": "python",
   "nbconvert_exporter": "python",
   "pygments_lexer": "ipython3",
   "version": "3.7.9"
  },
  "interpreter": {
   "hash": "4223153fc3680f012c12488c2bfc79714a2d6819fdc0439337abb73470cb9161"
  }
 },
 "nbformat": 4,
 "nbformat_minor": 5
}